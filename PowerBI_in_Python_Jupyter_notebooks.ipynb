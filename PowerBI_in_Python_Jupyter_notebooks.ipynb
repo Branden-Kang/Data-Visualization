{
  "nbformat": 4,
  "nbformat_minor": 0,
  "metadata": {
    "colab": {
      "name": "PowerBI in Python Jupyter notebooks.ipynb",
      "provenance": [],
      "collapsed_sections": [],
      "authorship_tag": "ABX9TyOJw2Ni1SJcdi+v6LlYhlao"
    },
    "kernelspec": {
      "name": "python3",
      "display_name": "Python 3"
    },
    "language_info": {
      "name": "python"
    }
  },
  "cells": [
    {
      "cell_type": "markdown",
      "metadata": {
        "id": "XMTILGlpUrjb"
      },
      "source": [
        "[Reference](https://medium.com/nerd-for-tech/powerbi-in-python-jupyter-notebooks-500ee152f083)"
      ]
    },
    {
      "cell_type": "code",
      "metadata": {
        "colab": {
          "base_uri": "https://localhost:8080/"
        },
        "id": "tm9yt-ChUqBj",
        "outputId": "2df57686-1442-455d-a3c5-0e45a7a184f6"
      },
      "source": [
        "#!pip install jupyter\n",
        "!pip install powerbiclient\n",
        "#open jupyter notebook\n",
        "#jupyter notebook"
      ],
      "execution_count": null,
      "outputs": [
        {
          "output_type": "stream",
          "name": "stdout",
          "text": [
            "Collecting powerbiclient\n",
            "  Downloading powerbiclient-1.0.0-py2.py3-none-any.whl (585 kB)\n",
            "\u001b[?25l\r\u001b[K     |▋                               | 10 kB 22.1 MB/s eta 0:00:01\r\u001b[K     |█▏                              | 20 kB 29.0 MB/s eta 0:00:01\r\u001b[K     |█▊                              | 30 kB 13.8 MB/s eta 0:00:01\r\u001b[K     |██▎                             | 40 kB 10.0 MB/s eta 0:00:01\r\u001b[K     |██▉                             | 51 kB 5.3 MB/s eta 0:00:01\r\u001b[K     |███▍                            | 61 kB 5.3 MB/s eta 0:00:01\r\u001b[K     |████                            | 71 kB 5.6 MB/s eta 0:00:01\r\u001b[K     |████▌                           | 81 kB 6.2 MB/s eta 0:00:01\r\u001b[K     |█████                           | 92 kB 6.2 MB/s eta 0:00:01\r\u001b[K     |█████▋                          | 102 kB 5.1 MB/s eta 0:00:01\r\u001b[K     |██████▏                         | 112 kB 5.1 MB/s eta 0:00:01\r\u001b[K     |██████▊                         | 122 kB 5.1 MB/s eta 0:00:01\r\u001b[K     |███████▎                        | 133 kB 5.1 MB/s eta 0:00:01\r\u001b[K     |███████▉                        | 143 kB 5.1 MB/s eta 0:00:01\r\u001b[K     |████████▍                       | 153 kB 5.1 MB/s eta 0:00:01\r\u001b[K     |█████████                       | 163 kB 5.1 MB/s eta 0:00:01\r\u001b[K     |█████████▌                      | 174 kB 5.1 MB/s eta 0:00:01\r\u001b[K     |██████████                      | 184 kB 5.1 MB/s eta 0:00:01\r\u001b[K     |██████████▋                     | 194 kB 5.1 MB/s eta 0:00:01\r\u001b[K     |███████████▏                    | 204 kB 5.1 MB/s eta 0:00:01\r\u001b[K     |███████████▊                    | 215 kB 5.1 MB/s eta 0:00:01\r\u001b[K     |████████████▎                   | 225 kB 5.1 MB/s eta 0:00:01\r\u001b[K     |████████████▉                   | 235 kB 5.1 MB/s eta 0:00:01\r\u001b[K     |█████████████▍                  | 245 kB 5.1 MB/s eta 0:00:01\r\u001b[K     |██████████████                  | 256 kB 5.1 MB/s eta 0:00:01\r\u001b[K     |██████████████▌                 | 266 kB 5.1 MB/s eta 0:00:01\r\u001b[K     |███████████████                 | 276 kB 5.1 MB/s eta 0:00:01\r\u001b[K     |███████████████▋                | 286 kB 5.1 MB/s eta 0:00:01\r\u001b[K     |████████████████▏               | 296 kB 5.1 MB/s eta 0:00:01\r\u001b[K     |████████████████▉               | 307 kB 5.1 MB/s eta 0:00:01\r\u001b[K     |█████████████████▍              | 317 kB 5.1 MB/s eta 0:00:01\r\u001b[K     |██████████████████              | 327 kB 5.1 MB/s eta 0:00:01\r\u001b[K     |██████████████████▌             | 337 kB 5.1 MB/s eta 0:00:01\r\u001b[K     |███████████████████             | 348 kB 5.1 MB/s eta 0:00:01\r\u001b[K     |███████████████████▋            | 358 kB 5.1 MB/s eta 0:00:01\r\u001b[K     |████████████████████▏           | 368 kB 5.1 MB/s eta 0:00:01\r\u001b[K     |████████████████████▊           | 378 kB 5.1 MB/s eta 0:00:01\r\u001b[K     |█████████████████████▎          | 389 kB 5.1 MB/s eta 0:00:01\r\u001b[K     |█████████████████████▉          | 399 kB 5.1 MB/s eta 0:00:01\r\u001b[K     |██████████████████████▍         | 409 kB 5.1 MB/s eta 0:00:01\r\u001b[K     |███████████████████████         | 419 kB 5.1 MB/s eta 0:00:01\r\u001b[K     |███████████████████████▌        | 430 kB 5.1 MB/s eta 0:00:01\r\u001b[K     |████████████████████████        | 440 kB 5.1 MB/s eta 0:00:01\r\u001b[K     |████████████████████████▋       | 450 kB 5.1 MB/s eta 0:00:01\r\u001b[K     |█████████████████████████▏      | 460 kB 5.1 MB/s eta 0:00:01\r\u001b[K     |█████████████████████████▊      | 471 kB 5.1 MB/s eta 0:00:01\r\u001b[K     |██████████████████████████▎     | 481 kB 5.1 MB/s eta 0:00:01\r\u001b[K     |██████████████████████████▉     | 491 kB 5.1 MB/s eta 0:00:01\r\u001b[K     |███████████████████████████▍    | 501 kB 5.1 MB/s eta 0:00:01\r\u001b[K     |████████████████████████████    | 512 kB 5.1 MB/s eta 0:00:01\r\u001b[K     |████████████████████████████▌   | 522 kB 5.1 MB/s eta 0:00:01\r\u001b[K     |█████████████████████████████   | 532 kB 5.1 MB/s eta 0:00:01\r\u001b[K     |█████████████████████████████▋  | 542 kB 5.1 MB/s eta 0:00:01\r\u001b[K     |██████████████████████████████▏ | 552 kB 5.1 MB/s eta 0:00:01\r\u001b[K     |██████████████████████████████▊ | 563 kB 5.1 MB/s eta 0:00:01\r\u001b[K     |███████████████████████████████▎| 573 kB 5.1 MB/s eta 0:00:01\r\u001b[K     |███████████████████████████████▉| 583 kB 5.1 MB/s eta 0:00:01\r\u001b[K     |████████████████████████████████| 585 kB 5.1 MB/s \n",
            "\u001b[?25hCollecting jupyter-ui-poll>=0.1.2\n",
            "  Downloading jupyter_ui_poll-0.2.1-py2.py3-none-any.whl (9.0 kB)\n",
            "Collecting requests>=2.25.1\n",
            "  Downloading requests-2.26.0-py2.py3-none-any.whl (62 kB)\n",
            "\u001b[K     |████████████████████████████████| 62 kB 791 kB/s \n",
            "\u001b[?25hCollecting msal>=1.8.0\n",
            "  Downloading msal-1.15.0-py2.py3-none-any.whl (77 kB)\n",
            "\u001b[K     |████████████████████████████████| 77 kB 3.6 MB/s \n",
            "\u001b[?25hRequirement already satisfied: ipywidgets>=7.0.0 in /usr/local/lib/python3.7/dist-packages (from powerbiclient) (7.6.5)\n",
            "Requirement already satisfied: nbformat>=4.2.0 in /usr/local/lib/python3.7/dist-packages (from ipywidgets>=7.0.0->powerbiclient) (5.1.3)\n",
            "Requirement already satisfied: widgetsnbextension~=3.5.0 in /usr/local/lib/python3.7/dist-packages (from ipywidgets>=7.0.0->powerbiclient) (3.5.1)\n",
            "Requirement already satisfied: ipython>=4.0.0 in /usr/local/lib/python3.7/dist-packages (from ipywidgets>=7.0.0->powerbiclient) (5.5.0)\n",
            "Requirement already satisfied: ipykernel>=4.5.1 in /usr/local/lib/python3.7/dist-packages (from ipywidgets>=7.0.0->powerbiclient) (4.10.1)\n",
            "Requirement already satisfied: traitlets>=4.3.1 in /usr/local/lib/python3.7/dist-packages (from ipywidgets>=7.0.0->powerbiclient) (5.1.0)\n",
            "Requirement already satisfied: jupyterlab-widgets>=1.0.0 in /usr/local/lib/python3.7/dist-packages (from ipywidgets>=7.0.0->powerbiclient) (1.0.2)\n",
            "Requirement already satisfied: ipython-genutils~=0.2.0 in /usr/local/lib/python3.7/dist-packages (from ipywidgets>=7.0.0->powerbiclient) (0.2.0)\n",
            "Requirement already satisfied: tornado>=4.0 in /usr/local/lib/python3.7/dist-packages (from ipykernel>=4.5.1->ipywidgets>=7.0.0->powerbiclient) (5.1.1)\n",
            "Requirement already satisfied: jupyter-client in /usr/local/lib/python3.7/dist-packages (from ipykernel>=4.5.1->ipywidgets>=7.0.0->powerbiclient) (5.3.5)\n",
            "Requirement already satisfied: decorator in /usr/local/lib/python3.7/dist-packages (from ipython>=4.0.0->ipywidgets>=7.0.0->powerbiclient) (4.4.2)\n",
            "Requirement already satisfied: setuptools>=18.5 in /usr/local/lib/python3.7/dist-packages (from ipython>=4.0.0->ipywidgets>=7.0.0->powerbiclient) (57.4.0)\n",
            "Requirement already satisfied: pygments in /usr/local/lib/python3.7/dist-packages (from ipython>=4.0.0->ipywidgets>=7.0.0->powerbiclient) (2.6.1)\n",
            "Requirement already satisfied: prompt-toolkit<2.0.0,>=1.0.4 in /usr/local/lib/python3.7/dist-packages (from ipython>=4.0.0->ipywidgets>=7.0.0->powerbiclient) (1.0.18)\n",
            "Requirement already satisfied: simplegeneric>0.8 in /usr/local/lib/python3.7/dist-packages (from ipython>=4.0.0->ipywidgets>=7.0.0->powerbiclient) (0.8.1)\n",
            "Requirement already satisfied: pickleshare in /usr/local/lib/python3.7/dist-packages (from ipython>=4.0.0->ipywidgets>=7.0.0->powerbiclient) (0.7.5)\n",
            "Requirement already satisfied: pexpect in /usr/local/lib/python3.7/dist-packages (from ipython>=4.0.0->ipywidgets>=7.0.0->powerbiclient) (4.8.0)\n",
            "Requirement already satisfied: pyzmq in /usr/local/lib/python3.7/dist-packages (from jupyter-ui-poll>=0.1.2->powerbiclient) (22.3.0)\n",
            "Collecting PyJWT[crypto]<3,>=1.0.0\n",
            "  Downloading PyJWT-2.3.0-py3-none-any.whl (16 kB)\n",
            "Collecting cryptography<38,>=0.6\n",
            "  Downloading cryptography-35.0.0-cp36-abi3-manylinux_2_24_x86_64.whl (3.5 MB)\n",
            "\u001b[K     |████████████████████████████████| 3.5 MB 38.9 MB/s \n",
            "\u001b[?25hRequirement already satisfied: cffi>=1.12 in /usr/local/lib/python3.7/dist-packages (from cryptography<38,>=0.6->msal>=1.8.0->powerbiclient) (1.14.6)\n",
            "Requirement already satisfied: pycparser in /usr/local/lib/python3.7/dist-packages (from cffi>=1.12->cryptography<38,>=0.6->msal>=1.8.0->powerbiclient) (2.20)\n",
            "Requirement already satisfied: jsonschema!=2.5.0,>=2.4 in /usr/local/lib/python3.7/dist-packages (from nbformat>=4.2.0->ipywidgets>=7.0.0->powerbiclient) (2.6.0)\n",
            "Requirement already satisfied: jupyter-core in /usr/local/lib/python3.7/dist-packages (from nbformat>=4.2.0->ipywidgets>=7.0.0->powerbiclient) (4.8.1)\n",
            "Requirement already satisfied: wcwidth in /usr/local/lib/python3.7/dist-packages (from prompt-toolkit<2.0.0,>=1.0.4->ipython>=4.0.0->ipywidgets>=7.0.0->powerbiclient) (0.2.5)\n",
            "Requirement already satisfied: six>=1.9.0 in /usr/local/lib/python3.7/dist-packages (from prompt-toolkit<2.0.0,>=1.0.4->ipython>=4.0.0->ipywidgets>=7.0.0->powerbiclient) (1.15.0)\n",
            "Requirement already satisfied: charset-normalizer~=2.0.0 in /usr/local/lib/python3.7/dist-packages (from requests>=2.25.1->powerbiclient) (2.0.6)\n",
            "Requirement already satisfied: certifi>=2017.4.17 in /usr/local/lib/python3.7/dist-packages (from requests>=2.25.1->powerbiclient) (2021.5.30)\n",
            "Requirement already satisfied: idna<4,>=2.5 in /usr/local/lib/python3.7/dist-packages (from requests>=2.25.1->powerbiclient) (2.10)\n",
            "Requirement already satisfied: urllib3<1.27,>=1.21.1 in /usr/local/lib/python3.7/dist-packages (from requests>=2.25.1->powerbiclient) (1.24.3)\n",
            "Requirement already satisfied: notebook>=4.4.1 in /usr/local/lib/python3.7/dist-packages (from widgetsnbextension~=3.5.0->ipywidgets>=7.0.0->powerbiclient) (5.3.1)\n",
            "Requirement already satisfied: terminado>=0.8.1 in /usr/local/lib/python3.7/dist-packages (from notebook>=4.4.1->widgetsnbextension~=3.5.0->ipywidgets>=7.0.0->powerbiclient) (0.12.1)\n",
            "Requirement already satisfied: jinja2 in /usr/local/lib/python3.7/dist-packages (from notebook>=4.4.1->widgetsnbextension~=3.5.0->ipywidgets>=7.0.0->powerbiclient) (2.11.3)\n",
            "Requirement already satisfied: nbconvert in /usr/local/lib/python3.7/dist-packages (from notebook>=4.4.1->widgetsnbextension~=3.5.0->ipywidgets>=7.0.0->powerbiclient) (5.6.1)\n",
            "Requirement already satisfied: Send2Trash in /usr/local/lib/python3.7/dist-packages (from notebook>=4.4.1->widgetsnbextension~=3.5.0->ipywidgets>=7.0.0->powerbiclient) (1.8.0)\n",
            "Requirement already satisfied: python-dateutil>=2.1 in /usr/local/lib/python3.7/dist-packages (from jupyter-client->ipykernel>=4.5.1->ipywidgets>=7.0.0->powerbiclient) (2.8.2)\n",
            "Requirement already satisfied: ptyprocess in /usr/local/lib/python3.7/dist-packages (from terminado>=0.8.1->notebook>=4.4.1->widgetsnbextension~=3.5.0->ipywidgets>=7.0.0->powerbiclient) (0.7.0)\n",
            "Requirement already satisfied: MarkupSafe>=0.23 in /usr/local/lib/python3.7/dist-packages (from jinja2->notebook>=4.4.1->widgetsnbextension~=3.5.0->ipywidgets>=7.0.0->powerbiclient) (2.0.1)\n",
            "Requirement already satisfied: entrypoints>=0.2.2 in /usr/local/lib/python3.7/dist-packages (from nbconvert->notebook>=4.4.1->widgetsnbextension~=3.5.0->ipywidgets>=7.0.0->powerbiclient) (0.3)\n",
            "Requirement already satisfied: bleach in /usr/local/lib/python3.7/dist-packages (from nbconvert->notebook>=4.4.1->widgetsnbextension~=3.5.0->ipywidgets>=7.0.0->powerbiclient) (4.1.0)\n",
            "Requirement already satisfied: pandocfilters>=1.4.1 in /usr/local/lib/python3.7/dist-packages (from nbconvert->notebook>=4.4.1->widgetsnbextension~=3.5.0->ipywidgets>=7.0.0->powerbiclient) (1.5.0)\n",
            "Requirement already satisfied: defusedxml in /usr/local/lib/python3.7/dist-packages (from nbconvert->notebook>=4.4.1->widgetsnbextension~=3.5.0->ipywidgets>=7.0.0->powerbiclient) (0.7.1)\n",
            "Requirement already satisfied: testpath in /usr/local/lib/python3.7/dist-packages (from nbconvert->notebook>=4.4.1->widgetsnbextension~=3.5.0->ipywidgets>=7.0.0->powerbiclient) (0.5.0)\n",
            "Requirement already satisfied: mistune<2,>=0.8.1 in /usr/local/lib/python3.7/dist-packages (from nbconvert->notebook>=4.4.1->widgetsnbextension~=3.5.0->ipywidgets>=7.0.0->powerbiclient) (0.8.4)\n",
            "Requirement already satisfied: packaging in /usr/local/lib/python3.7/dist-packages (from bleach->nbconvert->notebook>=4.4.1->widgetsnbextension~=3.5.0->ipywidgets>=7.0.0->powerbiclient) (21.0)\n",
            "Requirement already satisfied: webencodings in /usr/local/lib/python3.7/dist-packages (from bleach->nbconvert->notebook>=4.4.1->widgetsnbextension~=3.5.0->ipywidgets>=7.0.0->powerbiclient) (0.5.1)\n",
            "Requirement already satisfied: pyparsing>=2.0.2 in /usr/local/lib/python3.7/dist-packages (from packaging->bleach->nbconvert->notebook>=4.4.1->widgetsnbextension~=3.5.0->ipywidgets>=7.0.0->powerbiclient) (2.4.7)\n",
            "Installing collected packages: PyJWT, cryptography, requests, msal, jupyter-ui-poll, powerbiclient\n",
            "  Attempting uninstall: requests\n",
            "    Found existing installation: requests 2.23.0\n",
            "    Uninstalling requests-2.23.0:\n",
            "      Successfully uninstalled requests-2.23.0\n",
            "\u001b[31mERROR: pip's dependency resolver does not currently take into account all the packages that are installed. This behaviour is the source of the following dependency conflicts.\n",
            "google-colab 1.0.0 requires requests~=2.23.0, but you have requests 2.26.0 which is incompatible.\n",
            "datascience 0.10.6 requires folium==0.2.1, but you have folium 0.8.3 which is incompatible.\u001b[0m\n",
            "Successfully installed PyJWT-2.3.0 cryptography-35.0.0 jupyter-ui-poll-0.2.1 msal-1.15.0 powerbiclient-1.0.0 requests-2.26.0\n"
          ]
        }
      ]
    },
    {
      "cell_type": "code",
      "metadata": {
        "id": "6phYzZ76Uy-b"
      },
      "source": [
        "from powerbiclient import Report, models\n",
        "from powerbiclient.authentication import MasterUserAuthentication\n",
        "user_name = \"Your PowerBI Username\"\n",
        "pwd = \"Your PowerBI password\"\n",
        "auth = MasterUserAuthentication(username=user_name, password=pwd)\n",
        "\n",
        "report = Report(group_id=\"7dba7cca-9d80-41a8-81af-3a50babc92f6\", report_id=\"9aed5949-33a6-415a-82ff-ccd6888a5528\", auth=auth)\n",
        "report #embed report by calling this. This is critical and should not be ignored\n",
        "\n",
        "#Get list of report pages\n",
        "report_pages=report.get_pages()\n",
        "for report_page in report_pages:\n",
        "    print(f\"Page_id: {report_page['name']}, Page_Name: {report_page['displayName']}\")\n",
        "\n",
        "#Access vizzes present in a specific report page\n",
        "report_page_id = \"ReportSectionf5832aa68571e3831034\"\n",
        "report_visuals=report.visuals_on_page(report_page_id)\n",
        "for report_visual in report_visuals:\n",
        "    #all vizes would not have title enabled, so wrap in a try except clause\n",
        "    try:\n",
        "        title = report_visual['title']\n",
        "    except:\n",
        "        title = None\n",
        "        \n",
        "    print(f\"Visual ID: {report_visual['name']}, Visualization Type:{report_visual['type']}, Title: {title}\")\n",
        "\n",
        "\n",
        "#Export data in a Viz. Lets try for a sample Viz\n",
        "visualization_id = \"41d516df3a002d0e33c2\"\n",
        "viz_data=report.export_visual_data(report_page_id,visualization_id, rows=20)\n",
        "print(viz_data)"
      ],
      "execution_count": null,
      "outputs": []
    }
  ]
}