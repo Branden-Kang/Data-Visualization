{
  "nbformat": 4,
  "nbformat_minor": 0,
  "metadata": {
    "colab": {
      "name": "Graph analysis in Python.ipynb",
      "provenance": [],
      "authorship_tag": "ABX9TyO+VHJZbObm1ddE9TwTC5/K"
    },
    "kernelspec": {
      "name": "python3",
      "display_name": "Python 3"
    }
  },
  "cells": [
    {
      "cell_type": "markdown",
      "metadata": {
        "id": "nF9xgt5CdGsi",
        "colab_type": "text"
      },
      "source": [
        "[Reference](https://github.com/FelixChop/MediumArticles/blob/master/Graph_analysis_Python.ipynb)"
      ]
    },
    {
      "cell_type": "code",
      "metadata": {
        "id": "4cHkn4jhc1Zi",
        "colab_type": "code",
        "colab": {
          "base_uri": "https://localhost:8080/",
          "height": 71
        },
        "outputId": "f5ab3e88-e07d-4a3c-f553-0b7a0475a84b"
      },
      "source": [
        "import pandas as pd\n",
        "\n",
        "df = pd.DataFrame({'ID':[1,2,3,4,5,6], \n",
        "                   'First Name':['Felix', 'Jean', 'James', 'Daphne', 'James', 'Peter'], \n",
        "                   'Family Name': ['Revert', 'Durand', 'Wright', 'Hull', 'Conrad', 'Donovan'],\n",
        "                   'Phone number': ['+33 6 12 34 56 78', '+33 7 00 00 00 00', '+33 6 12 34 56 78', '+33 6 99 99 99 99', '+852 0123 4567', '+852 0123 4567'],\n",
        "                   'Email': ['felix.revert@gmail.com', 'jean.durand@gmail.com', 'j.custom@gmail.com', pd.np.nan, 'j.custom@gmail.com', pd.np.nan]})"
      ],
      "execution_count": 1,
      "outputs": [
        {
          "output_type": "stream",
          "text": [
            "/usr/local/lib/python3.6/dist-packages/ipykernel_launcher.py:7: FutureWarning: The pandas.np module is deprecated and will be removed from pandas in a future version. Import numpy directly instead\n",
            "  import sys\n"
          ],
          "name": "stderr"
        }
      ]
    },
    {
      "cell_type": "code",
      "metadata": {
        "id": "X8eK5wuidMPb",
        "colab_type": "code",
        "colab": {}
      },
      "source": [
        "column_edge = 'Phone number'\n",
        "column_ID = 'ID'\n",
        "\n",
        "data_to_merge = df[[column_ID, column_edge]].dropna(subset=[column_edge]).drop_duplicates() # select columns, remove NaN\n",
        "\n",
        "# To create connections between people who have the same number,\n",
        "# join data with itself on the 'ID' column.\n",
        "data_to_merge = data_to_merge.merge(\n",
        "    data_to_merge[[column_ID, column_edge]].rename(columns={column_ID:column_ID+\"_2\"}), \n",
        "    on=column_edge\n",
        ")"
      ],
      "execution_count": 2,
      "outputs": []
    },
    {
      "cell_type": "code",
      "metadata": {
        "id": "Ex5RtvuadN6T",
        "colab_type": "code",
        "colab": {
          "base_uri": "https://localhost:8080/",
          "height": 359
        },
        "outputId": "81e04ac3-5cd1-4bf3-d5a3-60f4aa5ded73"
      },
      "source": [
        "data_to_merge"
      ],
      "execution_count": 3,
      "outputs": [
        {
          "output_type": "execute_result",
          "data": {
            "text/html": [
              "<div>\n",
              "<style scoped>\n",
              "    .dataframe tbody tr th:only-of-type {\n",
              "        vertical-align: middle;\n",
              "    }\n",
              "\n",
              "    .dataframe tbody tr th {\n",
              "        vertical-align: top;\n",
              "    }\n",
              "\n",
              "    .dataframe thead th {\n",
              "        text-align: right;\n",
              "    }\n",
              "</style>\n",
              "<table border=\"1\" class=\"dataframe\">\n",
              "  <thead>\n",
              "    <tr style=\"text-align: right;\">\n",
              "      <th></th>\n",
              "      <th>ID</th>\n",
              "      <th>Phone number</th>\n",
              "      <th>ID_2</th>\n",
              "    </tr>\n",
              "  </thead>\n",
              "  <tbody>\n",
              "    <tr>\n",
              "      <th>0</th>\n",
              "      <td>1</td>\n",
              "      <td>+33 6 12 34 56 78</td>\n",
              "      <td>1</td>\n",
              "    </tr>\n",
              "    <tr>\n",
              "      <th>1</th>\n",
              "      <td>1</td>\n",
              "      <td>+33 6 12 34 56 78</td>\n",
              "      <td>3</td>\n",
              "    </tr>\n",
              "    <tr>\n",
              "      <th>2</th>\n",
              "      <td>3</td>\n",
              "      <td>+33 6 12 34 56 78</td>\n",
              "      <td>1</td>\n",
              "    </tr>\n",
              "    <tr>\n",
              "      <th>3</th>\n",
              "      <td>3</td>\n",
              "      <td>+33 6 12 34 56 78</td>\n",
              "      <td>3</td>\n",
              "    </tr>\n",
              "    <tr>\n",
              "      <th>4</th>\n",
              "      <td>2</td>\n",
              "      <td>+33 7 00 00 00 00</td>\n",
              "      <td>2</td>\n",
              "    </tr>\n",
              "    <tr>\n",
              "      <th>5</th>\n",
              "      <td>4</td>\n",
              "      <td>+33 6 99 99 99 99</td>\n",
              "      <td>4</td>\n",
              "    </tr>\n",
              "    <tr>\n",
              "      <th>6</th>\n",
              "      <td>5</td>\n",
              "      <td>+852 0123 4567</td>\n",
              "      <td>5</td>\n",
              "    </tr>\n",
              "    <tr>\n",
              "      <th>7</th>\n",
              "      <td>5</td>\n",
              "      <td>+852 0123 4567</td>\n",
              "      <td>6</td>\n",
              "    </tr>\n",
              "    <tr>\n",
              "      <th>8</th>\n",
              "      <td>6</td>\n",
              "      <td>+852 0123 4567</td>\n",
              "      <td>5</td>\n",
              "    </tr>\n",
              "    <tr>\n",
              "      <th>9</th>\n",
              "      <td>6</td>\n",
              "      <td>+852 0123 4567</td>\n",
              "      <td>6</td>\n",
              "    </tr>\n",
              "  </tbody>\n",
              "</table>\n",
              "</div>"
            ],
            "text/plain": [
              "   ID       Phone number  ID_2\n",
              "0   1  +33 6 12 34 56 78     1\n",
              "1   1  +33 6 12 34 56 78     3\n",
              "2   3  +33 6 12 34 56 78     1\n",
              "3   3  +33 6 12 34 56 78     3\n",
              "4   2  +33 7 00 00 00 00     2\n",
              "5   4  +33 6 99 99 99 99     4\n",
              "6   5     +852 0123 4567     5\n",
              "7   5     +852 0123 4567     6\n",
              "8   6     +852 0123 4567     5\n",
              "9   6     +852 0123 4567     6"
            ]
          },
          "metadata": {
            "tags": []
          },
          "execution_count": 3
        }
      ]
    },
    {
      "cell_type": "code",
      "metadata": {
        "id": "EJ6tu9e6dO3g",
        "colab_type": "code",
        "colab": {}
      },
      "source": [
        "d = data_to_merge[~(data_to_merge[column_ID]==data_to_merge[column_ID+\"_2\"])] \\\n",
        "    .dropna()[[column_ID, column_ID+\"_2\", column_edge]]\n",
        "    \n",
        "# To avoid counting twice the connections (person 1 connected to person 2 and person 2 connected to person 1)\n",
        "# we force the first ID to be \"lower\" then ID_2\n",
        "d.drop(d.loc[d[column_ID+\"_2\"]<d[column_ID]].index.tolist(), inplace=True)"
      ],
      "execution_count": 4,
      "outputs": []
    },
    {
      "cell_type": "code",
      "metadata": {
        "id": "89pPNa7EdRVh",
        "colab_type": "code",
        "colab": {
          "base_uri": "https://localhost:8080/",
          "height": 111
        },
        "outputId": "f059dc49-a8be-479f-9f15-4e04d161b535"
      },
      "source": [
        "d"
      ],
      "execution_count": 5,
      "outputs": [
        {
          "output_type": "execute_result",
          "data": {
            "text/html": [
              "<div>\n",
              "<style scoped>\n",
              "    .dataframe tbody tr th:only-of-type {\n",
              "        vertical-align: middle;\n",
              "    }\n",
              "\n",
              "    .dataframe tbody tr th {\n",
              "        vertical-align: top;\n",
              "    }\n",
              "\n",
              "    .dataframe thead th {\n",
              "        text-align: right;\n",
              "    }\n",
              "</style>\n",
              "<table border=\"1\" class=\"dataframe\">\n",
              "  <thead>\n",
              "    <tr style=\"text-align: right;\">\n",
              "      <th></th>\n",
              "      <th>ID</th>\n",
              "      <th>ID_2</th>\n",
              "      <th>Phone number</th>\n",
              "    </tr>\n",
              "  </thead>\n",
              "  <tbody>\n",
              "    <tr>\n",
              "      <th>1</th>\n",
              "      <td>1</td>\n",
              "      <td>3</td>\n",
              "      <td>+33 6 12 34 56 78</td>\n",
              "    </tr>\n",
              "    <tr>\n",
              "      <th>7</th>\n",
              "      <td>5</td>\n",
              "      <td>6</td>\n",
              "      <td>+852 0123 4567</td>\n",
              "    </tr>\n",
              "  </tbody>\n",
              "</table>\n",
              "</div>"
            ],
            "text/plain": [
              "   ID  ID_2       Phone number\n",
              "1   1     3  +33 6 12 34 56 78\n",
              "7   5     6     +852 0123 4567"
            ]
          },
          "metadata": {
            "tags": []
          },
          "execution_count": 5
        }
      ]
    },
    {
      "cell_type": "code",
      "metadata": {
        "id": "bfGyF5EUdS5X",
        "colab_type": "code",
        "colab": {}
      },
      "source": [
        "import networkx as nx\n",
        "\n",
        "G = nx.from_pandas_edgelist(df=d, source=column_ID, target=column_ID+'_2', edge_attr=column_edge)\n",
        "\n",
        "G.add_nodes_from(nodes_for_adding=df.ID.tolist())"
      ],
      "execution_count": 6,
      "outputs": []
    },
    {
      "cell_type": "code",
      "metadata": {
        "id": "lfwQ5SBBdWxQ",
        "colab_type": "code",
        "colab": {
          "base_uri": "https://localhost:8080/",
          "height": 34
        },
        "outputId": "c5c1108d-2712-4864-b1e6-00c4532ec839"
      },
      "source": [
        "G.nodes()"
      ],
      "execution_count": 7,
      "outputs": [
        {
          "output_type": "execute_result",
          "data": {
            "text/plain": [
              "NodeView((1, 3, 5, 6, 2, 4))"
            ]
          },
          "metadata": {
            "tags": []
          },
          "execution_count": 7
        }
      ]
    },
    {
      "cell_type": "code",
      "metadata": {
        "id": "CLYiEzBkdYSS",
        "colab_type": "code",
        "colab": {}
      },
      "source": [
        "column_edge = 'Email'\n",
        "column_ID = 'ID'\n",
        "\n",
        "data_to_merge = df[[column_ID, column_edge]].dropna(subset=[column_edge]).drop_duplicates()\n",
        "\n",
        "data_to_merge = data_to_merge.merge(\n",
        "    data_to_merge[[column_ID, column_edge]].rename(columns={column_ID:column_ID+\"_2\"}), \n",
        "    on=column_edge\n",
        ")\n",
        "\n",
        "d = data_to_merge[~(data_to_merge[column_ID]==data_to_merge[column_ID+\"_2\"])] \\\n",
        "    .dropna()[[column_ID, column_ID+\"_2\", column_edge]]\n",
        "\n",
        "d.drop(d.loc[d[column_ID+\"_2\"]<d[column_ID]].index.tolist(), inplace=True)"
      ],
      "execution_count": 8,
      "outputs": []
    },
    {
      "cell_type": "code",
      "metadata": {
        "id": "nTiPUkbSdbMy",
        "colab_type": "code",
        "colab": {
          "base_uri": "https://localhost:8080/",
          "height": 80
        },
        "outputId": "3049e122-8bd8-4cb1-ae6c-365be9b14d91"
      },
      "source": [
        "d"
      ],
      "execution_count": 9,
      "outputs": [
        {
          "output_type": "execute_result",
          "data": {
            "text/html": [
              "<div>\n",
              "<style scoped>\n",
              "    .dataframe tbody tr th:only-of-type {\n",
              "        vertical-align: middle;\n",
              "    }\n",
              "\n",
              "    .dataframe tbody tr th {\n",
              "        vertical-align: top;\n",
              "    }\n",
              "\n",
              "    .dataframe thead th {\n",
              "        text-align: right;\n",
              "    }\n",
              "</style>\n",
              "<table border=\"1\" class=\"dataframe\">\n",
              "  <thead>\n",
              "    <tr style=\"text-align: right;\">\n",
              "      <th></th>\n",
              "      <th>ID</th>\n",
              "      <th>ID_2</th>\n",
              "      <th>Email</th>\n",
              "    </tr>\n",
              "  </thead>\n",
              "  <tbody>\n",
              "    <tr>\n",
              "      <th>3</th>\n",
              "      <td>3</td>\n",
              "      <td>5</td>\n",
              "      <td>j.custom@gmail.com</td>\n",
              "    </tr>\n",
              "  </tbody>\n",
              "</table>\n",
              "</div>"
            ],
            "text/plain": [
              "   ID  ID_2               Email\n",
              "3   3     5  j.custom@gmail.com"
            ]
          },
          "metadata": {
            "tags": []
          },
          "execution_count": 9
        }
      ]
    },
    {
      "cell_type": "code",
      "metadata": {
        "id": "a-zpAU5OdcaS",
        "colab_type": "code",
        "colab": {}
      },
      "source": [
        "# Create the connections in the graph\n",
        "links_attributes = {tuple(row[[column_ID, column_ID+\"_2\"]]): {column_edge: row[column_edge]} for i,row in d.iterrows()}\n",
        "\n",
        "G.add_edges_from(links_attributes) # create the connection, without attribute. Check it with G.get_edge_data(3,5)\n",
        "nx.set_edge_attributes(G=G, values=links_attributes) # adds the attribute. Check it with G.get_edge_data(3,5)\n"
      ],
      "execution_count": 10,
      "outputs": []
    },
    {
      "cell_type": "code",
      "metadata": {
        "id": "E6K2PBhqddcu",
        "colab_type": "code",
        "colab": {
          "base_uri": "https://localhost:8080/",
          "height": 319
        },
        "outputId": "cbab169b-140d-4830-c56e-72f28ae67ed6"
      },
      "source": [
        "%matplotlib inline\n",
        "\n",
        "nx.draw(G)"
      ],
      "execution_count": 11,
      "outputs": [
        {
          "output_type": "display_data",
          "data": {
            "image/png": "[encoded data removed]",
            "text/plain": [
              "<Figure size 432x288 with 1 Axes>"
            ]
          },
          "metadata": {
            "tags": []
          }
        }
      ]
    },
    {
      "cell_type": "code",
      "metadata": {
        "id": "CSkOHUyFdfJW",
        "colab_type": "code",
        "colab": {
          "base_uri": "https://localhost:8080/",
          "height": 119
        },
        "outputId": "6fa76bdd-d97d-402e-f6b3-63a940bd1b9e"
      },
      "source": [
        "{row[column_ID]:row['First Name'] +' '+ row['Family Name'] for i,row in df.iterrows()}"
      ],
      "execution_count": 12,
      "outputs": [
        {
          "output_type": "execute_result",
          "data": {
            "text/plain": [
              "{1: 'Felix Revert',\n",
              " 2: 'Jean Durand',\n",
              " 3: 'James Wright',\n",
              " 4: 'Daphne Hull',\n",
              " 5: 'James Conrad',\n",
              " 6: 'Peter Donovan'}"
            ]
          },
          "metadata": {
            "tags": []
          },
          "execution_count": 12
        }
      ]
    },
    {
      "cell_type": "code",
      "metadata": {
        "id": "qK34JsSDdg7F",
        "colab_type": "code",
        "colab": {}
      },
      "source": [
        "nx.set_node_attributes(G, {row[column_ID]:{'Name': row['First Name'] +' '+ row['Family Name']} for i,row in df.iterrows()})"
      ],
      "execution_count": 13,
      "outputs": []
    },
    {
      "cell_type": "code",
      "metadata": {
        "id": "BLRT01Gbdj_t",
        "colab_type": "code",
        "colab": {}
      },
      "source": [
        "EDGE_SIZE = {\n",
        "    'Phone number': 2,\n",
        "    'Email': 1,\n",
        "}\n",
        "\n",
        "EDGE_COLOR = {\n",
        "    'Phone number': 'purple',\n",
        "    'Email': 'red',\n",
        "}\n",
        "\n",
        "def clean_edge(edge):\n",
        "    s.edge[edge[0], edge[1]].values()\n",
        "\n",
        "def c_(list_edges): return [a for a in list_edges if a in list(EDGE_COLOR.keys())]\n",
        "    \n",
        "# For nx.Graph()\n",
        "def edge_sizes(s): return [EDGE_SIZE[c_(list(s.edges[edge[0], edge[1]].keys()))[-1]] for edge in s.edges()] # /!\\ multiple links => one size\n",
        "def edge_colors(s): return [EDGE_COLOR[c_(list(s.edges[edge[0], edge[1]].keys()))[-1]] for edge in s.edges()] # /!\\ multiple links => one color\n",
        "\n",
        "# For nx.MultiDiGraph()\n",
        "# def edge_sizes(s): return [EDGE_SIZE[s.edge[edge[0]][edge[1]][0]['label']] for edge in s.edges()] # /!\\ multiple links => one size\n",
        "# def edge_colors(s): return [EDGE_COLOR[s.edge[edge[0]][edge[1]][0]['label']] for edge in s.edges()] # /!\\ multiple links => one color\n",
        "\n",
        "def draw(s):\n",
        "    pos = nx.spring_layout(s, scale=0.5)\n",
        "    node_labels = dict((n,d['Name']) for n,d in s.nodes(data=True))\n",
        "#     labels = {**node_labels, **edge_labels}\n",
        "    nx.draw(s, pos=pos, width=edge_sizes(s), edge_color=edge_colors(s), alpha=0.8, arrows=False, node_color='lightgrey', node_size=400,\n",
        "            labels=node_labels, \n",
        "            font_color='black', font_size=8, font_weight='bold',\n",
        "           )\n",
        "    edge_labels = dict(((u,v),list(d.values())[0]) for u,v,d in G.edges(data=True))\n",
        "    nx.draw_networkx_edge_labels(G, pos, edge_labels = edge_labels, font_size=8)"
      ],
      "execution_count": 14,
      "outputs": []
    },
    {
      "cell_type": "code",
      "metadata": {
        "id": "15KUKsiOdlVv",
        "colab_type": "code",
        "colab": {
          "base_uri": "https://localhost:8080/",
          "height": 319
        },
        "outputId": "8d744c4b-3257-4a85-c64d-1c83c944f29c"
      },
      "source": [
        "draw(nx.ego_graph(G=G, n=1, radius=3))"
      ],
      "execution_count": 15,
      "outputs": [
        {
          "output_type": "display_data",
          "data": {
            "image/png": "[encoded data removed]",
            "text/plain": [
              "<Figure size 432x288 with 1 Axes>"
            ]
          },
          "metadata": {
            "tags": []
          }
        }
      ]
    },
    {
      "cell_type": "code",
      "metadata": {
        "id": "dqtQKTiEdmgs",
        "colab_type": "code",
        "colab": {}
      },
      "source": [
        "degrees = list(nx.degree(G))"
      ],
      "execution_count": 16,
      "outputs": []
    },
    {
      "cell_type": "code",
      "metadata": {
        "id": "TRz5F2D1dn_P",
        "colab_type": "code",
        "colab": {
          "base_uri": "https://localhost:8080/",
          "height": 204
        },
        "outputId": "ab6efaeb-7ad1-43a4-c457-df116c11151d"
      },
      "source": [
        "pd.DataFrame([list(d) for d in degrees], columns=['ID', 'degree']).sort_values('degree', ascending=False).head(5)"
      ],
      "execution_count": 17,
      "outputs": [
        {
          "output_type": "execute_result",
          "data": {
            "text/html": [
              "<div>\n",
              "<style scoped>\n",
              "    .dataframe tbody tr th:only-of-type {\n",
              "        vertical-align: middle;\n",
              "    }\n",
              "\n",
              "    .dataframe tbody tr th {\n",
              "        vertical-align: top;\n",
              "    }\n",
              "\n",
              "    .dataframe thead th {\n",
              "        text-align: right;\n",
              "    }\n",
              "</style>\n",
              "<table border=\"1\" class=\"dataframe\">\n",
              "  <thead>\n",
              "    <tr style=\"text-align: right;\">\n",
              "      <th></th>\n",
              "      <th>ID</th>\n",
              "      <th>degree</th>\n",
              "    </tr>\n",
              "  </thead>\n",
              "  <tbody>\n",
              "    <tr>\n",
              "      <th>1</th>\n",
              "      <td>3</td>\n",
              "      <td>2</td>\n",
              "    </tr>\n",
              "    <tr>\n",
              "      <th>2</th>\n",
              "      <td>5</td>\n",
              "      <td>2</td>\n",
              "    </tr>\n",
              "    <tr>\n",
              "      <th>0</th>\n",
              "      <td>1</td>\n",
              "      <td>1</td>\n",
              "    </tr>\n",
              "    <tr>\n",
              "      <th>3</th>\n",
              "      <td>6</td>\n",
              "      <td>1</td>\n",
              "    </tr>\n",
              "    <tr>\n",
              "      <th>4</th>\n",
              "      <td>2</td>\n",
              "      <td>0</td>\n",
              "    </tr>\n",
              "  </tbody>\n",
              "</table>\n",
              "</div>"
            ],
            "text/plain": [
              "   ID  degree\n",
              "1   3       2\n",
              "2   5       2\n",
              "0   1       1\n",
              "3   6       1\n",
              "4   2       0"
            ]
          },
          "metadata": {
            "tags": []
          },
          "execution_count": 17
        }
      ]
    },
    {
      "cell_type": "code",
      "metadata": {
        "id": "TVSs4xx3do9P",
        "colab_type": "code",
        "colab": {
          "base_uri": "https://localhost:8080/",
          "height": 319
        },
        "outputId": "d0c31443-bbdd-4d27-a434-18403ee543ca"
      },
      "source": [
        "draw(nx.ego_graph(G=G, n=3, radius=2))"
      ],
      "execution_count": 18,
      "outputs": [
        {
          "output_type": "display_data",
          "data": {
            "image/png": "[encoded data removed]",
            "text/plain": [
              "<Figure size 432x288 with 1 Axes>"
            ]
          },
          "metadata": {
            "tags": []
          }
        }
      ]
    }
  ]
}