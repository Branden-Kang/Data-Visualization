{
  "nbformat": 4,
  "nbformat_minor": 0,
  "metadata": {
    "colab": {
      "name": "Built on Streamlit with survey data.ipynb",
      "provenance": [],
      "authorship_tag": "ABX9TyNH1KC9dZ/E9kbZMEMNnPzk"
    },
    "kernelspec": {
      "name": "python3",
      "display_name": "Python 3"
    },
    "language_info": {
      "name": "python"
    }
  },
  "cells": [
    {
      "cell_type": "markdown",
      "source": [
        "[Reference](https://github.com/gilesdean/ski_clustering)"
      ],
      "metadata": {
        "id": "VDHOxz8pTQeR"
      }
    },
    {
      "cell_type": "code",
      "execution_count": 1,
      "metadata": {
        "id": "RLuwPmq_TIdy"
      },
      "outputs": [],
      "source": [
        "import streamlit as st\n",
        "import pandas as pd\n",
        "import numpy as np\n",
        "import altair as alt\n",
        "\n",
        "st.title(\"Mpora Ski Audience Clustering\")\n",
        "st.write(\"\"\"\n",
        "The following data has been collected from an onsite competition with the prize being a bundle of ski equipment including a pair of skis, outerwear and other accessories.\n",
        "This application utilises audience clustering which allows the data to be filtered to show the brands the Mpora audience own based on number of ski trips year and their preferred style of skiing. \n",
        "\"\"\")\n",
        "\n",
        "df = pd.read_csv(\"https://raw.githubusercontent.com/gilesdean/ski_clustering/main/ski_clean.csv\")\n",
        "\n",
        "st.subheader(\"Select input data to dynamically change the output data\")\n",
        "\n",
        "def ski_filter(no_times_ski, backcountry, piste, freestyle):\n",
        "  df_filter = df.loc[((df['no_ski_trips'] == no_times_ski)) & ((df['backcountry'] == backcountry)) & ((df['piste'] == piste)) & ((df['freestyle'] == freestyle))]\n",
        "  return (df_filter[['armada', 'faction',\t'planks',\t'tnf',\t'arcteryx',\t'fjallraven',\t'lowe_alpine',\t'fw',\t'patagonia',\t'salomon',\t'dakine',\t'atomic',\t'haglofs',\t'rab',\t'black_crows',\t'black_diamond']].sum()*100/df_filter.piste.count())\n",
        "\n",
        "\n",
        "\n",
        "no_times_ski = st.selectbox(\n",
        "    'Ski trips a year',\n",
        "    (0,1,2,3)\n",
        ")\n",
        "\n",
        "backcountry = st.selectbox(\n",
        "    'Backcountry skier: 1=Yes, 0=No',\n",
        "    (1,0)\n",
        ")\n",
        "\n",
        "piste = st.selectbox(\n",
        "    'Piste skier: 1=Yes, 0=No',\n",
        "    (1,0)\n",
        ")\n",
        "\n",
        "freestyle = st.selectbox(\n",
        "    'Freestyle skier: 1=Yes, 0=No',\n",
        "    (1,0)\n",
        ")\n",
        "\n",
        "\n",
        "st.write(\"\"\"\n",
        "Brands -- x-axis\n",
        "Percentage of audience that own product from the brand -- y-axis\n",
        "\"\"\")\n",
        "\n",
        "\n",
        "st.bar_chart(ski_filter(no_times_ski, backcountry, piste, freestyle))"
      ]
    }
  ]
}