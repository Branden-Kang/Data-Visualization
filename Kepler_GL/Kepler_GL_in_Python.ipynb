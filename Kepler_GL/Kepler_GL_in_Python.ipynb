{
 "cells": [
  {
   "cell_type": "markdown",
   "metadata": {
    "id": "cr8CYunmRIJO"
   },
   "source": [
    "# Installation (Run one time)\n",
    "[Reference1](https://docs.kepler.gl/docs/keplergl-jupyter)<br>\n",
    "[Reference2](https://towardsdatascience.com/kepler-gl-jupyter-notebooks-geospatial-data-visualization-with-ubers-opensource-kepler-gl-b1c2423d066f)"
   ]
  },
  {
   "cell_type": "markdown",
   "metadata": {},
   "source": [
    "## Prerequisites\n",
    "- Python >= 2\n",
    "- ipywidgets >= 7.0.0"
   ]
  },
  {
   "cell_type": "markdown",
   "metadata": {
    "ExecuteTime": {
     "end_time": "2020-09-30T04:58:08.491234Z",
     "start_time": "2020-09-30T04:58:08.483764Z"
    }
   },
   "source": [
    "### To install use pip:"
   ]
  },
  {
   "cell_type": "code",
   "execution_count": 4,
   "metadata": {
    "ExecuteTime": {
     "end_time": "2020-09-30T04:58:38.111996Z",
     "start_time": "2020-09-30T04:58:38.109066Z"
    }
   },
   "outputs": [],
   "source": [
    "# !pip install ipywidgets\n",
    "# !pip install keplergl"
   ]
  },
  {
   "cell_type": "markdown",
   "metadata": {},
   "source": [
    "### If you on Mac used pip install and running Notebook 5.3 and above, you don't need to run the following"
   ]
  },
  {
   "cell_type": "code",
   "execution_count": 5,
   "metadata": {
    "ExecuteTime": {
     "end_time": "2020-09-30T04:58:45.650209Z",
     "start_time": "2020-09-30T04:58:45.647222Z"
    },
    "colab": {
     "base_uri": "https://localhost:8080/",
     "height": 1000
    },
    "id": "gDKiYHPsPvKB",
    "outputId": "b5a1950f-cbd2-4dea-f8ca-79feb1191aec"
   },
   "outputs": [],
   "source": [
    "# !jupyter nbextension install --py --sys-prefix keplergl # can be skipped for notebook 5.3 and above\n",
    "# !jupyter nbextension enable --py --sys-prefix keplergl # can be skipped for notebook 5.3 and above"
   ]
  },
  {
   "cell_type": "markdown",
   "metadata": {},
   "source": [
    "### If you use Homebrew on Mac:\n",
    "```\n",
    "$ brew install node@10\n",
    "$ jupyter labextension install @jupyter-widgets/jupyterlab-manager keplergl-jupyter\n",
    "```"
   ]
  },
  {
   "cell_type": "code",
   "execution_count": null,
   "metadata": {},
   "outputs": [],
   "source": []
  },
  {
   "cell_type": "markdown",
   "metadata": {
    "id": "Y1Cy41hDRT5h"
   },
   "source": [
    "# Load [data](https://opendata.cityofnewyork.us/): NYPD complaints in 2020"
   ]
  },
  {
   "cell_type": "code",
   "execution_count": 1,
   "metadata": {
    "ExecuteTime": {
     "end_time": "2020-09-30T04:54:43.221517Z",
     "start_time": "2020-09-30T04:54:24.740604Z"
    },
    "colab": {
     "base_uri": "https://localhost:8080/",
     "height": 428
    },
    "id": "2eKFi9vlPcCn",
    "outputId": "52483474-ba32-4bfc-8227-ad4f395c7211"
   },
   "outputs": [
    {
     "data": {
      "text/html": [
       "<div>\n",
       "<style scoped>\n",
       "    .dataframe tbody tr th:only-of-type {\n",
       "        vertical-align: middle;\n",
       "    }\n",
       "\n",
       "    .dataframe tbody tr th {\n",
       "        vertical-align: top;\n",
       "    }\n",
       "\n",
       "    .dataframe thead th {\n",
       "        text-align: right;\n",
       "    }\n",
       "</style>\n",
       "<table border=\"1\" class=\"dataframe\">\n",
       "  <thead>\n",
       "    <tr style=\"text-align: right;\">\n",
       "      <th></th>\n",
       "      <th>CMPLNT_NUM</th>\n",
       "      <th>ADDR_PCT_CD</th>\n",
       "      <th>BORO_NM</th>\n",
       "      <th>CMPLNT_FR_DT</th>\n",
       "      <th>CMPLNT_FR_TM</th>\n",
       "      <th>CMPLNT_TO_DT</th>\n",
       "      <th>CMPLNT_TO_TM</th>\n",
       "      <th>CRM_ATPT_CPTD_CD</th>\n",
       "      <th>HADEVELOPT</th>\n",
       "      <th>HOUSING_PSA</th>\n",
       "      <th>...</th>\n",
       "      <th>VIC_AGE_GROUP</th>\n",
       "      <th>VIC_RACE</th>\n",
       "      <th>VIC_SEX</th>\n",
       "      <th>X_COORD_CD</th>\n",
       "      <th>Y_COORD_CD</th>\n",
       "      <th>Latitude</th>\n",
       "      <th>Longitude</th>\n",
       "      <th>Lat_Lon</th>\n",
       "      <th>New Georeferenced Column</th>\n",
       "      <th>geometry</th>\n",
       "    </tr>\n",
       "  </thead>\n",
       "  <tbody>\n",
       "    <tr>\n",
       "      <th>0</th>\n",
       "      <td>942919936</td>\n",
       "      <td>77</td>\n",
       "      <td></td>\n",
       "      <td>06/29/2020</td>\n",
       "      <td>18:10:00</td>\n",
       "      <td></td>\n",
       "      <td></td>\n",
       "      <td>COMPLETED</td>\n",
       "      <td>WEEKSVILLE GARDENS</td>\n",
       "      <td></td>\n",
       "      <td>...</td>\n",
       "      <td>18-24</td>\n",
       "      <td>BLACK</td>\n",
       "      <td>M</td>\n",
       "      <td>1002388</td>\n",
       "      <td>185584</td>\n",
       "      <td>40.676051596000036</td>\n",
       "      <td>-73.93461108799994</td>\n",
       "      <td>(40.676051596000036, -73.93461108799994)</td>\n",
       "      <td>POINT (-73.93461108799994 40.676051596000036)</td>\n",
       "      <td>None</td>\n",
       "    </tr>\n",
       "    <tr>\n",
       "      <th>1</th>\n",
       "      <td>444710066</td>\n",
       "      <td>60</td>\n",
       "      <td></td>\n",
       "      <td>06/20/2020</td>\n",
       "      <td>13:52:00</td>\n",
       "      <td></td>\n",
       "      <td></td>\n",
       "      <td>COMPLETED</td>\n",
       "      <td></td>\n",
       "      <td></td>\n",
       "      <td>...</td>\n",
       "      <td>&lt;18</td>\n",
       "      <td>BLACK</td>\n",
       "      <td>M</td>\n",
       "      <td>984147</td>\n",
       "      <td>150278</td>\n",
       "      <td>40.57916262500004</td>\n",
       "      <td>-74.00037223199998</td>\n",
       "      <td>(40.57916262500004, -74.00037223199998)</td>\n",
       "      <td>POINT (-74.00037223199998 40.57916262500004)</td>\n",
       "      <td>None</td>\n",
       "    </tr>\n",
       "    <tr>\n",
       "      <th>2</th>\n",
       "      <td>121536456</td>\n",
       "      <td>47</td>\n",
       "      <td></td>\n",
       "      <td>06/12/2020</td>\n",
       "      <td>23:00:00</td>\n",
       "      <td></td>\n",
       "      <td></td>\n",
       "      <td>COMPLETED</td>\n",
       "      <td></td>\n",
       "      <td></td>\n",
       "      <td>...</td>\n",
       "      <td>18-24</td>\n",
       "      <td>BLACK</td>\n",
       "      <td>F</td>\n",
       "      <td>1021731</td>\n",
       "      <td>263219</td>\n",
       "      <td>40.88907795500006</td>\n",
       "      <td>-73.86444348399993</td>\n",
       "      <td>(40.88907795500006, -73.86444348399993)</td>\n",
       "      <td>POINT (-73.86444348399993 40.88907795500006)</td>\n",
       "      <td>None</td>\n",
       "    </tr>\n",
       "    <tr>\n",
       "      <th>3</th>\n",
       "      <td>314830920</td>\n",
       "      <td>75</td>\n",
       "      <td></td>\n",
       "      <td>06/05/2020</td>\n",
       "      <td>20:20:00</td>\n",
       "      <td></td>\n",
       "      <td></td>\n",
       "      <td>COMPLETED</td>\n",
       "      <td></td>\n",
       "      <td></td>\n",
       "      <td>...</td>\n",
       "      <td>25-44</td>\n",
       "      <td>BLACK</td>\n",
       "      <td>M</td>\n",
       "      <td>1013511</td>\n",
       "      <td>181454</td>\n",
       "      <td>40.66468589900006</td>\n",
       "      <td>-73.89452887499993</td>\n",
       "      <td>(40.66468589900006, -73.89452887499993)</td>\n",
       "      <td>POINT (-73.89452887499993 40.66468589900006)</td>\n",
       "      <td>None</td>\n",
       "    </tr>\n",
       "    <tr>\n",
       "      <th>4</th>\n",
       "      <td>173858725</td>\n",
       "      <td>101</td>\n",
       "      <td></td>\n",
       "      <td>06/05/2020</td>\n",
       "      <td>19:20:00</td>\n",
       "      <td></td>\n",
       "      <td></td>\n",
       "      <td>COMPLETED</td>\n",
       "      <td></td>\n",
       "      <td></td>\n",
       "      <td>...</td>\n",
       "      <td>25-44</td>\n",
       "      <td>BLACK</td>\n",
       "      <td>M</td>\n",
       "      <td>1053494</td>\n",
       "      <td>161530</td>\n",
       "      <td>40.60977656700004</td>\n",
       "      <td>-73.75061339299998</td>\n",
       "      <td>(40.60977656700004, -73.75061339299998)</td>\n",
       "      <td>POINT (-73.75061339299998 40.60977656700004)</td>\n",
       "      <td>None</td>\n",
       "    </tr>\n",
       "  </tbody>\n",
       "</table>\n",
       "<p>5 rows × 37 columns</p>\n",
       "</div>"
      ],
      "text/plain": [
       "  CMPLNT_NUM ADDR_PCT_CD BORO_NM CMPLNT_FR_DT CMPLNT_FR_TM CMPLNT_TO_DT  \\\n",
       "0  942919936          77           06/29/2020     18:10:00                \n",
       "1  444710066          60           06/20/2020     13:52:00                \n",
       "2  121536456          47           06/12/2020     23:00:00                \n",
       "3  314830920          75           06/05/2020     20:20:00                \n",
       "4  173858725         101           06/05/2020     19:20:00                \n",
       "\n",
       "  CMPLNT_TO_TM CRM_ATPT_CPTD_CD          HADEVELOPT HOUSING_PSA  ...  \\\n",
       "0                     COMPLETED  WEEKSVILLE GARDENS              ...   \n",
       "1                     COMPLETED                                  ...   \n",
       "2                     COMPLETED                                  ...   \n",
       "3                     COMPLETED                                  ...   \n",
       "4                     COMPLETED                                  ...   \n",
       "\n",
       "  VIC_AGE_GROUP VIC_RACE VIC_SEX X_COORD_CD Y_COORD_CD            Latitude  \\\n",
       "0         18-24    BLACK       M    1002388     185584  40.676051596000036   \n",
       "1           <18    BLACK       M     984147     150278   40.57916262500004   \n",
       "2         18-24    BLACK       F    1021731     263219   40.88907795500006   \n",
       "3         25-44    BLACK       M    1013511     181454   40.66468589900006   \n",
       "4         25-44    BLACK       M    1053494     161530   40.60977656700004   \n",
       "\n",
       "            Longitude                                   Lat_Lon  \\\n",
       "0  -73.93461108799994  (40.676051596000036, -73.93461108799994)   \n",
       "1  -74.00037223199998   (40.57916262500004, -74.00037223199998)   \n",
       "2  -73.86444348399993   (40.88907795500006, -73.86444348399993)   \n",
       "3  -73.89452887499993   (40.66468589900006, -73.89452887499993)   \n",
       "4  -73.75061339299998   (40.60977656700004, -73.75061339299998)   \n",
       "\n",
       "                        New Georeferenced Column geometry  \n",
       "0  POINT (-73.93461108799994 40.676051596000036)     None  \n",
       "1   POINT (-74.00037223199998 40.57916262500004)     None  \n",
       "2   POINT (-73.86444348399993 40.88907795500006)     None  \n",
       "3   POINT (-73.89452887499993 40.66468589900006)     None  \n",
       "4   POINT (-73.75061339299998 40.60977656700004)     None  \n",
       "\n",
       "[5 rows x 37 columns]"
      ]
     },
     "execution_count": 1,
     "metadata": {},
     "output_type": "execute_result"
    }
   ],
   "source": [
    "import pandas as pd\n",
    "from keplergl import KeplerGl\n",
    "import geopandas as gpd\n",
    "df = gpd.read_file(\"NYPD_complaints_2020.csv\")\n",
    "df.head()"
   ]
  },
  {
   "cell_type": "code",
   "execution_count": 2,
   "metadata": {
    "ExecuteTime": {
     "end_time": "2020-09-30T04:54:46.381073Z",
     "start_time": "2020-09-30T04:54:46.357385Z"
    },
    "colab": {
     "base_uri": "https://localhost:8080/",
     "height": 34,
     "referenced_widgets": [
      "6cf3b115bb6a48789eb31120db23a01e"
     ]
    },
    "id": "s-no4i-qPr5b",
    "outputId": "4dbd6bc4-cb2f-4060-8fec-af89d4328ad2"
   },
   "outputs": [
    {
     "name": "stdout",
     "output_type": "stream",
     "text": [
      "User Guide: https://docs.kepler.gl/docs/keplergl-jupyter\n"
     ]
    },
    {
     "data": {
      "application/vnd.jupyter.widget-view+json": {
       "model_id": "0611b875119a482795a41a46a9200bb4",
       "version_major": 2,
       "version_minor": 0
      },
      "text/plain": [
       "KeplerGl(height=600)"
      ]
     },
     "metadata": {},
     "output_type": "display_data"
    }
   ],
   "source": [
    "#Create a basemap \n",
    "map = KeplerGl(height=600, width=800)\n",
    "\n",
    "#show the map\n",
    "map"
   ]
  },
  {
   "cell_type": "code",
   "execution_count": 6,
   "metadata": {
    "ExecuteTime": {
     "end_time": "2020-09-30T05:09:45.449847Z",
     "start_time": "2020-09-30T05:09:18.482012Z"
    },
    "id": "WHQfXoIPP9lR"
   },
   "outputs": [],
   "source": [
    "# Create a gepdataframe\n",
    "gdf = gpd.GeoDataFrame(df, geometry=gpd.points_from_xy(df.Longitude, df.Latitude))\n",
    "# Add data to Kepler\n",
    "map.add_data(data=gdf, name='crimes')"
   ]
  },
  {
   "cell_type": "code",
   "execution_count": 12,
   "metadata": {
    "ExecuteTime": {
     "end_time": "2020-09-30T05:22:59.645290Z",
     "start_time": "2020-09-30T05:22:55.977564Z"
    }
   },
   "outputs": [
    {
     "data": {
      "application/vnd.jupyter.widget-view+json": {
       "model_id": "0611b875119a482795a41a46a9200bb4",
       "version_major": 2,
       "version_minor": 0
      },
      "text/plain": [
       "KeplerGl(config={'version': 'v1', 'config': {'visState': {'filters': [], 'layers': [{'id': 'e1g3wue', 'type': …"
      ]
     },
     "metadata": {},
     "output_type": "display_data"
    }
   ],
   "source": [
    "map"
   ]
  },
  {
   "cell_type": "code",
   "execution_count": 8,
   "metadata": {
    "ExecuteTime": {
     "end_time": "2020-09-30T05:21:11.714252Z",
     "start_time": "2020-09-30T05:21:11.700310Z"
    },
    "id": "vdqswmhmQKFO"
   },
   "outputs": [],
   "source": [
    "# def count_incidents_neighborhood(data, neighb):\n",
    "#     # spatial join and group by to get count of incidents in each poneighbourhood \n",
    "#     joined = gpd.sjoin(gdf, neighb, op='within')\n",
    "#     grouped = joined.groupby('ntaname').size()\n",
    "#     df = grouped.to_frame().reset_index()\n",
    "#     df.columns = ['ntaname', 'count']\n",
    "#     merged = Neighborhood.merge(df, on='ntaname', how='outer')\n",
    "#     merged['count'].fillna(0,inplace=True)\n",
    "#     merged['count'] = merged['count'].astype(int)\n",
    "#     return merged\n",
    " \n",
    "# merged_gdf = count_incidents_neighborhood(gdf, Neighborhood)"
   ]
  },
  {
   "cell_type": "code",
   "execution_count": 9,
   "metadata": {
    "ExecuteTime": {
     "end_time": "2020-09-30T05:21:26.974128Z",
     "start_time": "2020-09-30T05:21:26.967922Z"
    },
    "id": "SYhe7tmrQahS"
   },
   "outputs": [],
   "source": [
    "# map2 = KeplerGl(height=600, width=800)\n",
    "# # Add data to Kepler\n",
    "# map2.add_data(data=merged_gdf, name='NeighborhoodCrimes')\n",
    "# map2"
   ]
  },
  {
   "cell_type": "markdown",
   "metadata": {
    "id": "trVIcpDFQ8Po"
   },
   "source": [
    "# 3D Visualization"
   ]
  },
  {
   "cell_type": "code",
   "execution_count": 11,
   "metadata": {
    "ExecuteTime": {
     "end_time": "2020-09-30T05:21:45.967306Z",
     "start_time": "2020-09-30T05:21:45.963885Z"
    },
    "id": "7yfiEu7NQsHm"
   },
   "outputs": [],
   "source": [
    "# map3 = KeplerGl(height=600, width=800)\n",
    "# map3.add_data(data=buildings[:10000], name=\"Buildings\")\n",
    "# map3"
   ]
  },
  {
   "cell_type": "markdown",
   "metadata": {},
   "source": [
    "# Save Map"
   ]
  },
  {
   "cell_type": "code",
   "execution_count": 13,
   "metadata": {
    "ExecuteTime": {
     "end_time": "2020-09-30T05:24:10.750929Z",
     "start_time": "2020-09-30T05:24:10.739052Z"
    }
   },
   "outputs": [],
   "source": [
    "# # this will save current map\n",
    "# map.save_to_html(file_name='first_map.html')\n",
    "\n",
    "# # this will save map with provided data and config\n",
    "# map.save_to_html(data={'data_1': df}, config=config, file_name='first_map.html')\n",
    "\n",
    "# # this will save map with the interaction panel disabled\n",
    "# map.save_to_html(file_name='first_map.html', read_only=True)"
   ]
  }
 ],
 "metadata": {
  "colab": {
   "name": "Kepler.GL in Python.ipynb",
   "provenance": []
  },
  "hide_input": false,
  "kernelspec": {
   "display_name": "Python 3",
   "language": "python",
   "name": "python3"
  },
  "language_info": {
   "codemirror_mode": {
    "name": "ipython",
    "version": 3
   },
   "file_extension": ".py",
   "mimetype": "text/x-python",
   "name": "python",
   "nbconvert_exporter": "python",
   "pygments_lexer": "ipython3",
   "version": "3.7.3"
  },
  "varInspector": {
   "cols": {
    "lenName": 16,
    "lenType": 16,
    "lenVar": 40
   },
   "kernels_config": {
    "python": {
     "delete_cmd_postfix": "",
     "delete_cmd_prefix": "del ",
     "library": "var_list.py",
     "varRefreshCmd": "print(var_dic_list())"
    },
    "r": {
     "delete_cmd_postfix": ") ",
     "delete_cmd_prefix": "rm(",
     "library": "var_list.r",
     "varRefreshCmd": "cat(var_dic_list()) "
    }
   },
   "types_to_exclude": [
    "module",
    "function",
    "builtin_function_or_method",
    "instance",
    "_Feature"
   ],
   "window_display": false
  },
  "widgets": {
   "application/vnd.jupyter.widget-state+json": {
    "6cf3b115bb6a48789eb31120db23a01e": {
     "model_module": "keplergl-jupyter",
     "model_name": "KeplerGlModal",
     "state": {
      "_dom_classes": [],
      "_model_module": "keplergl-jupyter",
      "_model_module_version": "^0.2.1",
      "_model_name": "KeplerGlModal",
      "_view_count": null,
      "_view_module": "keplergl-jupyter",
      "_view_module_version": "^0.2.1",
      "_view_name": "KeplerGlView",
      "config": {},
      "data": {},
      "height": 600,
      "layout": "IPY_MODEL_6112ec299e39424097b18fbeea06d97c",
      "value": "Hello World!"
     }
    }
   }
  }
 },
 "nbformat": 4,
 "nbformat_minor": 1
}
