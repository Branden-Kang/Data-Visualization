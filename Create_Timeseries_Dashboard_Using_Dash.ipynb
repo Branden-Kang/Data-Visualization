{
  "nbformat": 4,
  "nbformat_minor": 0,
  "metadata": {
    "colab": {
      "name": "Create Timeseries Dashboard Using Dash.ipynb",
      "provenance": [],
      "authorship_tag": "ABX9TyNFsH/7ccxDuBbQPz9t27j7"
    },
    "kernelspec": {
      "name": "python3",
      "display_name": "Python 3"
    },
    "language_info": {
      "name": "python"
    }
  },
  "cells": [
    {
      "cell_type": "markdown",
      "source": [
        "[Reference](https://blog.devgenius.io/create-timeseries-dashboard-using-dash-timeseries-end-to-end-project-part-2-38f0319e952)"
      ],
      "metadata": {
        "id": "j2gnDMecCyhC"
      }
    },
    {
      "cell_type": "code",
      "execution_count": 1,
      "metadata": {
        "id": "jzaiHOey8SEY"
      },
      "outputs": [],
      "source": [
        "#inside index.py \n",
        "#importing all required packages\n",
        "import dash #main package \n",
        "import dash_bootstrap_components as dbc #for dash styling \n",
        "\n",
        "from dash import html,Input,Output,State,dcc\n",
        "from app import app,server\n",
        "\n",
        "\n",
        "from apps import predictive_analytics,project_explanation,stats,api_docs\n",
        "from apps.predictive_analytics import * \n",
        "from apps.project_explanation import *\n",
        "from apps.stats import *\n",
        "import apps.api_docs as api_docs\n",
        "from apps.api_docs import * \n",
        "\n",
        "\n",
        "\n",
        "\n",
        "\n",
        "server = app.server\n",
        "#basic styling\n",
        "SIDEBAR_STYLE = {\n",
        "    \"position\": \"fixed\",\n",
        "    \"top\": 0,\n",
        "    \"left\": 0,\n",
        "    \"bottom\": 0,\n",
        "    \"width\": \"16rem\",\n",
        "    \"padding\": \"2rem 1rem\",\n",
        "    \"background-color\": \"#3083ff\",\n",
        "}\n",
        "\n",
        "CONTENT_STYLE = {\n",
        "    \"margin-left\": \"18rem\",\n",
        "    \"margin-right\": \"2rem\",\n",
        "    \"padding\": \"2rem 1rem\",\n",
        "    'background-color' : '#f0f3f7'\n",
        "\n",
        "}\n",
        "#creating sidebar to access multiple apps\n",
        "sidebar = html.Div(\n",
        "    [\n",
        "        html.H4(\"Choose Menu Below : \"),\n",
        "        dbc.Nav(\n",
        "            [   dbc.NavLink(\"Project Explanation\", href=\"/\", active=\"exact\"),\n",
        "                dbc.NavLink(\"Statistics\", href=\"/stats\", active=\"exact\"),\n",
        "                dbc.NavLink(\"Predictive Analytics\", href=\"/analytics\", active=\"exact\"),\n",
        "                dbc.NavLink(\"API\", href=\"/api\", active=\"exact\"),\n",
        "            ],\n",
        "            vertical=True,\n",
        "            pills=True,\n",
        "        ),\n",
        "    ],\n",
        "    style=SIDEBAR_STYLE,\n",
        ")\n",
        "#render selected navbar\n",
        "content = html.Div(id=\"page-content\", style=CONTENT_STYLE)\n",
        "\n",
        "app.layout = html.Div([dcc.Location(id=\"url\"), sidebar, content])\n",
        "\n",
        "#callback to change content based of navbar clicked\n",
        "@app.callback(Output(\"page-content\", \"children\"), [Input(\"url\", \"pathname\")])\n",
        "def render_page(pathname) : \n",
        "    if pathname == '/' : \n",
        "        project_explanation.layout = render_project_explanation()\n",
        "        return project_explanation.layout\n",
        "\n",
        "    elif pathname == '/stats' : \n",
        "        stats.layout = stats.render_statistics()\n",
        "        return stats.layout\n",
        "    elif pathname == '/analytics' : \n",
        "        predictive_analytics.layout = predictive_analytics.render_predictive_analytics_page()\n",
        "        return predictive_analytics.layout\n",
        "        \n",
        "    elif pathname == '/api' : \n",
        "        api_docs.layout  = api_docs.render_api_docs()\n",
        "        return api_docs.layout\n",
        "    else : \n",
        "        return dbc.Jumbotron(\n",
        "        [\n",
        "            html.H1(\"404: Not found\", className=\"text-danger\"),\n",
        "            html.Hr(),\n",
        "            html.P(f\"The pathname {pathname} was not recognised...\"),\n",
        "        ]\n",
        "    )\n",
        "if __name__ == '__main__' : \n",
        "    \n",
        "    app.run_server(debug=True,port=5555)"
      ]
    },
    {
      "cell_type": "code",
      "source": [
        "import dash \n",
        "import dash_bootstrap_components as dbc\n",
        "\n",
        "app = dash.Dash(__name__,external_stylesheets=[dbc.themes.CERULEAN])\n",
        "\n",
        "app.config.suppress_callback_exceptions=True\n",
        "\n",
        "server = app.server"
      ],
      "metadata": {
        "id": "RSra9FNAC33M"
      },
      "execution_count": 2,
      "outputs": []
    }
  ]
}