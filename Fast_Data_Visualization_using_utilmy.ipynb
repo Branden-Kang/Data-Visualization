{
  "nbformat": 4,
  "nbformat_minor": 0,
  "metadata": {
    "colab": {
      "name": "Fast Data Visualization using utilmy.ipynb",
      "provenance": [],
      "authorship_tag": "ABX9TyOcz/GEdjrcP3UHBKp/om7P"
    },
    "kernelspec": {
      "name": "python3",
      "display_name": "Python 3"
    },
    "language_info": {
      "name": "python"
    }
  },
  "cells": [
    {
      "cell_type": "markdown",
      "source": [
        "[Reference](https://medium.com/@rajpurohitvijesh/fast-data-visualization-using-utilmy-afb4e02da75e)"
      ],
      "metadata": {
        "id": "IKDKYs94VF95"
      }
    },
    {
      "cell_type": "markdown",
      "source": [
        "# Installing and importing libraries\n"
      ],
      "metadata": {
        "id": "odB_GbXGVKt1"
      }
    },
    {
      "cell_type": "code",
      "source": [
        "pip install mpld3"
      ],
      "metadata": {
        "colab": {
          "base_uri": "https://localhost:8080/"
        },
        "id": "o_VFkHyuVgVg",
        "outputId": "9d305e6e-8632-4610-ece9-1f85d0dfe862"
      },
      "execution_count": 2,
      "outputs": [
        {
          "output_type": "stream",
          "name": "stdout",
          "text": [
            "Requirement already satisfied: mpld3 in /usr/local/lib/python3.7/dist-packages (0.5.7)\n",
            "Requirement already satisfied: matplotlib in /usr/local/lib/python3.7/dist-packages (from mpld3) (3.2.1)\n",
            "Requirement already satisfied: jinja2 in /usr/local/lib/python3.7/dist-packages (from mpld3) (2.11.3)\n",
            "Requirement already satisfied: MarkupSafe>=0.23 in /usr/local/lib/python3.7/dist-packages (from jinja2->mpld3) (2.0.1)\n",
            "Requirement already satisfied: numpy>=1.11 in /usr/local/lib/python3.7/dist-packages (from matplotlib->mpld3) (1.19.5)\n",
            "Requirement already satisfied: cycler>=0.10 in /usr/local/lib/python3.7/dist-packages (from matplotlib->mpld3) (0.11.0)\n",
            "Requirement already satisfied: python-dateutil>=2.1 in /usr/local/lib/python3.7/dist-packages (from matplotlib->mpld3) (2.8.2)\n",
            "Requirement already satisfied: kiwisolver>=1.0.1 in /usr/local/lib/python3.7/dist-packages (from matplotlib->mpld3) (1.3.2)\n",
            "Requirement already satisfied: pyparsing!=2.0.4,!=2.1.2,!=2.1.6,>=2.0.1 in /usr/local/lib/python3.7/dist-packages (from matplotlib->mpld3) (3.0.7)\n",
            "Requirement already satisfied: six>=1.5 in /usr/local/lib/python3.7/dist-packages (from python-dateutil>=2.1->matplotlib->mpld3) (1.15.0)\n"
          ]
        }
      ]
    },
    {
      "cell_type": "code",
      "execution_count": 3,
      "metadata": {
        "colab": {
          "base_uri": "https://localhost:8080/"
        },
        "id": "1pd7It_uU_QN",
        "outputId": "aa4ee6b6-6f91-422a-9518-fbdade0e232c"
      },
      "outputs": [
        {
          "output_type": "stream",
          "name": "stdout",
          "text": [
            "Requirement already satisfied: utilmy in /usr/local/lib/python3.7/dist-packages (0.1.16441154)\n",
            "Requirement already satisfied: stdlib-list in /usr/local/lib/python3.7/dist-packages (from utilmy) (0.8.0)\n",
            "Requirement already satisfied: python-box in /usr/local/lib/python3.7/dist-packages (from utilmy) (5.4.1)\n",
            "Requirement already satisfied: pyyaml in /usr/local/lib/python3.7/dist-packages (from utilmy) (3.13)\n",
            "Requirement already satisfied: fire in /usr/local/lib/python3.7/dist-packages (from utilmy) (0.4.0)\n",
            "Requirement already satisfied: termcolor in /usr/local/lib/python3.7/dist-packages (from fire->utilmy) (1.1.0)\n",
            "Requirement already satisfied: six in /usr/local/lib/python3.7/dist-packages (from fire->utilmy) (1.15.0)\n"
          ]
        }
      ],
      "source": [
        "!pip install utilmy"
      ]
    },
    {
      "cell_type": "code",
      "source": [
        "from utilmy.viz import vizhtml as vi\n",
        "import pandas as pd"
      ],
      "metadata": {
        "id": "-izezN0vVi75"
      },
      "execution_count": 4,
      "outputs": []
    },
    {
      "cell_type": "markdown",
      "source": [
        "# Loading Dataset\n"
      ],
      "metadata": {
        "id": "RQT2fz4HVL7b"
      }
    },
    {
      "cell_type": "code",
      "source": [
        "url = 'https://raw.githubusercontent.com/AlexAdvent/high_charts/main/data/stock_data.csv'\n",
        "df = pd.read_csv(url)\n",
        "df.head()"
      ],
      "metadata": {
        "colab": {
          "base_uri": "https://localhost:8080/",
          "height": 302
        },
        "id": "hiCg5FsJVIxV",
        "outputId": "33e2c522-cf56-45b8-eecc-49c389459075"
      },
      "execution_count": 5,
      "outputs": [
        {
          "output_type": "execute_result",
          "data": {
            "text/html": [
              "\n",
              "  <div id=\"df-094fd514-dbfe-40fb-bd75-1d77feabe5bd\">\n",
              "    <div class=\"colab-df-container\">\n",
              "      <div>\n",
              "<style scoped>\n",
              "    .dataframe tbody tr th:only-of-type {\n",
              "        vertical-align: middle;\n",
              "    }\n",
              "\n",
              "    .dataframe tbody tr th {\n",
              "        vertical-align: top;\n",
              "    }\n",
              "\n",
              "    .dataframe thead th {\n",
              "        text-align: right;\n",
              "    }\n",
              "</style>\n",
              "<table border=\"1\" class=\"dataframe\">\n",
              "  <thead>\n",
              "    <tr style=\"text-align: right;\">\n",
              "      <th></th>\n",
              "      <th>Date</th>\n",
              "      <th>Open</th>\n",
              "      <th>High</th>\n",
              "      <th>Low</th>\n",
              "      <th>Last</th>\n",
              "      <th>Close</th>\n",
              "      <th>Total Trade Quantity</th>\n",
              "      <th>Turnover (Lacs)</th>\n",
              "      <th>date_timestamp</th>\n",
              "      <th>date_year</th>\n",
              "      <th>date_month_year</th>\n",
              "      <th>date_string</th>\n",
              "      <th>date_space</th>\n",
              "    </tr>\n",
              "  </thead>\n",
              "  <tbody>\n",
              "    <tr>\n",
              "      <th>0</th>\n",
              "      <td>10/8/2018</td>\n",
              "      <td>208</td>\n",
              "      <td>222.25</td>\n",
              "      <td>206.85</td>\n",
              "      <td>216</td>\n",
              "      <td>215.15</td>\n",
              "      <td>4642146</td>\n",
              "      <td>10062.83</td>\n",
              "      <td>1.540000e+12</td>\n",
              "      <td>2018</td>\n",
              "      <td>18-Oct</td>\n",
              "      <td>20181008</td>\n",
              "      <td>2018 10 08</td>\n",
              "    </tr>\n",
              "    <tr>\n",
              "      <th>1</th>\n",
              "      <td>10/5/2018</td>\n",
              "      <td>217</td>\n",
              "      <td>218.6</td>\n",
              "      <td>205.9</td>\n",
              "      <td>210.25</td>\n",
              "      <td>209.2</td>\n",
              "      <td>3519515</td>\n",
              "      <td>7407.06</td>\n",
              "      <td>1.540000e+12</td>\n",
              "      <td>2018</td>\n",
              "      <td>18-Oct</td>\n",
              "      <td>20181005</td>\n",
              "      <td>2018 10 05</td>\n",
              "    </tr>\n",
              "    <tr>\n",
              "      <th>2</th>\n",
              "      <td>10/4/2018</td>\n",
              "      <td>223.5</td>\n",
              "      <td>227.8</td>\n",
              "      <td>216.15</td>\n",
              "      <td>217.25</td>\n",
              "      <td>218.2</td>\n",
              "      <td>1728786</td>\n",
              "      <td>3815.79</td>\n",
              "      <td>1.540000e+12</td>\n",
              "      <td>2018</td>\n",
              "      <td>18-Oct</td>\n",
              "      <td>20181004</td>\n",
              "      <td>2018 10 04</td>\n",
              "    </tr>\n",
              "    <tr>\n",
              "      <th>3</th>\n",
              "      <td>10/3/2018</td>\n",
              "      <td>230</td>\n",
              "      <td>237.5</td>\n",
              "      <td>225.75</td>\n",
              "      <td>226.45</td>\n",
              "      <td>227.6</td>\n",
              "      <td>1708590</td>\n",
              "      <td>3960.27</td>\n",
              "      <td>1.540000e+12</td>\n",
              "      <td>2018</td>\n",
              "      <td>18-Oct</td>\n",
              "      <td>20181003</td>\n",
              "      <td>2018 10 03</td>\n",
              "    </tr>\n",
              "    <tr>\n",
              "      <th>4</th>\n",
              "      <td>10/1/2018</td>\n",
              "      <td>234.55</td>\n",
              "      <td>234.6</td>\n",
              "      <td>221.05</td>\n",
              "      <td>230.3</td>\n",
              "      <td>NaN</td>\n",
              "      <td>1534749</td>\n",
              "      <td>3486.05</td>\n",
              "      <td>1.540000e+12</td>\n",
              "      <td>2018</td>\n",
              "      <td>18-Oct</td>\n",
              "      <td>20181001</td>\n",
              "      <td>2018 10 01</td>\n",
              "    </tr>\n",
              "  </tbody>\n",
              "</table>\n",
              "</div>\n",
              "      <button class=\"colab-df-convert\" onclick=\"convertToInteractive('df-094fd514-dbfe-40fb-bd75-1d77feabe5bd')\"\n",
              "              title=\"Convert this dataframe to an interactive table.\"\n",
              "              style=\"display:none;\">\n",
              "        \n",
              "  <svg xmlns=\"http://www.w3.org/2000/svg\" height=\"24px\"viewBox=\"0 0 24 24\"\n",
              "       width=\"24px\">\n",
              "    <path d=\"M0 0h24v24H0V0z\" fill=\"none\"/>\n",
              "    <path d=\"M18.56 5.44l.94 2.06.94-2.06 2.06-.94-2.06-.94-.94-2.06-.94 2.06-2.06.94zm-11 1L8.5 8.5l.94-2.06 2.06-.94-2.06-.94L8.5 2.5l-.94 2.06-2.06.94zm10 10l.94 2.06.94-2.06 2.06-.94-2.06-.94-.94-2.06-.94 2.06-2.06.94z\"/><path d=\"M17.41 7.96l-1.37-1.37c-.4-.4-.92-.59-1.43-.59-.52 0-1.04.2-1.43.59L10.3 9.45l-7.72 7.72c-.78.78-.78 2.05 0 2.83L4 21.41c.39.39.9.59 1.41.59.51 0 1.02-.2 1.41-.59l7.78-7.78 2.81-2.81c.8-.78.8-2.07 0-2.86zM5.41 20L4 18.59l7.72-7.72 1.47 1.35L5.41 20z\"/>\n",
              "  </svg>\n",
              "      </button>\n",
              "      \n",
              "  <style>\n",
              "    .colab-df-container {\n",
              "      display:flex;\n",
              "      flex-wrap:wrap;\n",
              "      gap: 12px;\n",
              "    }\n",
              "\n",
              "    .colab-df-convert {\n",
              "      background-color: #E8F0FE;\n",
              "      border: none;\n",
              "      border-radius: 50%;\n",
              "      cursor: pointer;\n",
              "      display: none;\n",
              "      fill: #1967D2;\n",
              "      height: 32px;\n",
              "      padding: 0 0 0 0;\n",
              "      width: 32px;\n",
              "    }\n",
              "\n",
              "    .colab-df-convert:hover {\n",
              "      background-color: #E2EBFA;\n",
              "      box-shadow: 0px 1px 2px rgba(60, 64, 67, 0.3), 0px 1px 3px 1px rgba(60, 64, 67, 0.15);\n",
              "      fill: #174EA6;\n",
              "    }\n",
              "\n",
              "    [theme=dark] .colab-df-convert {\n",
              "      background-color: #3B4455;\n",
              "      fill: #D2E3FC;\n",
              "    }\n",
              "\n",
              "    [theme=dark] .colab-df-convert:hover {\n",
              "      background-color: #434B5C;\n",
              "      box-shadow: 0px 1px 3px 1px rgba(0, 0, 0, 0.15);\n",
              "      filter: drop-shadow(0px 1px 2px rgba(0, 0, 0, 0.3));\n",
              "      fill: #FFFFFF;\n",
              "    }\n",
              "  </style>\n",
              "\n",
              "      <script>\n",
              "        const buttonEl =\n",
              "          document.querySelector('#df-094fd514-dbfe-40fb-bd75-1d77feabe5bd button.colab-df-convert');\n",
              "        buttonEl.style.display =\n",
              "          google.colab.kernel.accessAllowed ? 'block' : 'none';\n",
              "\n",
              "        async function convertToInteractive(key) {\n",
              "          const element = document.querySelector('#df-094fd514-dbfe-40fb-bd75-1d77feabe5bd');\n",
              "          const dataTable =\n",
              "            await google.colab.kernel.invokeFunction('convertToInteractive',\n",
              "                                                     [key], {});\n",
              "          if (!dataTable) return;\n",
              "\n",
              "          const docLinkHtml = 'Like what you see? Visit the ' +\n",
              "            '<a target=\"_blank\" href=https://colab.research.google.com/notebooks/data_table.ipynb>data table notebook</a>'\n",
              "            + ' to learn more about interactive tables.';\n",
              "          element.innerHTML = '';\n",
              "          dataTable['output_type'] = 'display_data';\n",
              "          await google.colab.output.renderOutput(dataTable, element);\n",
              "          const docLink = document.createElement('div');\n",
              "          docLink.innerHTML = docLinkHtml;\n",
              "          element.appendChild(docLink);\n",
              "        }\n",
              "      </script>\n",
              "    </div>\n",
              "  </div>\n",
              "  "
            ],
            "text/plain": [
              "        Date    Open    High  ... date_month_year date_string  date_space\n",
              "0  10/8/2018     208  222.25  ...          18-Oct    20181008  2018 10 08\n",
              "1  10/5/2018     217   218.6  ...          18-Oct    20181005  2018 10 05\n",
              "2  10/4/2018   223.5   227.8  ...          18-Oct    20181004  2018 10 04\n",
              "3  10/3/2018     230   237.5  ...          18-Oct    20181003  2018 10 03\n",
              "4  10/1/2018  234.55   234.6  ...          18-Oct    20181001  2018 10 01\n",
              "\n",
              "[5 rows x 13 columns]"
            ]
          },
          "metadata": {},
          "execution_count": 5
        }
      ]
    },
    {
      "cell_type": "markdown",
      "source": [
        "# Create a standalone doc with Graph, tables.\n"
      ],
      "metadata": {
        "id": "u8l5-0zLVNSw"
      }
    },
    {
      "cell_type": "code",
      "source": [
        "### title: will set the page title to it\n",
        "doc = vi.htmlDoc(title='Stock Market Analysis' )"
      ],
      "metadata": {
        "id": "piAIOIsPVPRE"
      },
      "execution_count": 6,
      "outputs": []
    },
    {
      "cell_type": "markdown",
      "source": [
        "# Adding Component to instances\n"
      ],
      "metadata": {
        "id": "nNd18a3UVQgt"
      }
    },
    {
      "cell_type": "code",
      "source": [
        "!pip install dateparser"
      ],
      "metadata": {
        "colab": {
          "base_uri": "https://localhost:8080/"
        },
        "id": "BmbvsWN6Vs9h",
        "outputId": "7d08e4b8-90b4-4460-d141-f8a81a2df7ad"
      },
      "execution_count": 8,
      "outputs": [
        {
          "output_type": "stream",
          "name": "stdout",
          "text": [
            "Collecting dateparser\n",
            "  Downloading dateparser-1.1.0-py2.py3-none-any.whl (288 kB)\n",
            "\u001b[?25l\r\u001b[K     |█▏                              | 10 kB 16.9 MB/s eta 0:00:01\r\u001b[K     |██▎                             | 20 kB 8.0 MB/s eta 0:00:01\r\u001b[K     |███▍                            | 30 kB 10.6 MB/s eta 0:00:01\r\u001b[K     |████▌                           | 40 kB 10.4 MB/s eta 0:00:01\r\u001b[K     |█████▊                          | 51 kB 12.0 MB/s eta 0:00:01\r\u001b[K     |██████▉                         | 61 kB 13.6 MB/s eta 0:00:01\r\u001b[K     |████████                        | 71 kB 5.7 MB/s eta 0:00:01\r\u001b[K     |█████████                       | 81 kB 6.3 MB/s eta 0:00:01\r\u001b[K     |██████████▏                     | 92 kB 6.9 MB/s eta 0:00:01\r\u001b[K     |███████████▍                    | 102 kB 7.3 MB/s eta 0:00:01\r\u001b[K     |████████████▌                   | 112 kB 7.3 MB/s eta 0:00:01\r\u001b[K     |█████████████▋                  | 122 kB 7.3 MB/s eta 0:00:01\r\u001b[K     |██████████████▊                 | 133 kB 7.3 MB/s eta 0:00:01\r\u001b[K     |████████████████                | 143 kB 7.3 MB/s eta 0:00:01\r\u001b[K     |█████████████████               | 153 kB 7.3 MB/s eta 0:00:01\r\u001b[K     |██████████████████▏             | 163 kB 7.3 MB/s eta 0:00:01\r\u001b[K     |███████████████████▎            | 174 kB 7.3 MB/s eta 0:00:01\r\u001b[K     |████████████████████▍           | 184 kB 7.3 MB/s eta 0:00:01\r\u001b[K     |█████████████████████▋          | 194 kB 7.3 MB/s eta 0:00:01\r\u001b[K     |██████████████████████▊         | 204 kB 7.3 MB/s eta 0:00:01\r\u001b[K     |███████████████████████▉        | 215 kB 7.3 MB/s eta 0:00:01\r\u001b[K     |█████████████████████████       | 225 kB 7.3 MB/s eta 0:00:01\r\u001b[K     |██████████████████████████      | 235 kB 7.3 MB/s eta 0:00:01\r\u001b[K     |███████████████████████████▎    | 245 kB 7.3 MB/s eta 0:00:01\r\u001b[K     |████████████████████████████▍   | 256 kB 7.3 MB/s eta 0:00:01\r\u001b[K     |█████████████████████████████▌  | 266 kB 7.3 MB/s eta 0:00:01\r\u001b[K     |██████████████████████████████▋ | 276 kB 7.3 MB/s eta 0:00:01\r\u001b[K     |███████████████████████████████▉| 286 kB 7.3 MB/s eta 0:00:01\r\u001b[K     |████████████████████████████████| 288 kB 7.3 MB/s \n",
            "\u001b[?25hRequirement already satisfied: regex!=2019.02.19,!=2021.8.27 in /usr/local/lib/python3.7/dist-packages (from dateparser) (2019.12.20)\n",
            "Requirement already satisfied: tzlocal in /usr/local/lib/python3.7/dist-packages (from dateparser) (1.5.1)\n",
            "Requirement already satisfied: python-dateutil in /usr/local/lib/python3.7/dist-packages (from dateparser) (2.8.2)\n",
            "Requirement already satisfied: pytz in /usr/local/lib/python3.7/dist-packages (from dateparser) (2018.9)\n",
            "Requirement already satisfied: six>=1.5 in /usr/local/lib/python3.7/dist-packages (from python-dateutil->dateparser) (1.15.0)\n",
            "Installing collected packages: dateparser\n",
            "Successfully installed dateparser-1.1.0\n"
          ]
        }
      ]
    },
    {
      "cell_type": "code",
      "source": [
        "doc.h2('Stock Market Analysis')\n",
        "doc.h4('plot Data in table format')\n",
        "doc.table(df,  table_id=\"test\", custom_css_class='intro',use_datatable=True)\n",
        "doc.hr()\n",
        "\n",
        "doc.h4('Stock tseries graph')\n",
        "\n",
        "doc.plot_tseries(\n",
        "    df,coldate    = 'Date', \n",
        "    date_format   = '%m/%d/%Y', \n",
        "    coly1         = ['Open', 'High', 'Low', 'Close'], \n",
        "    coly2         = ['Turnover (Lacs)'],title = \"Stock\",\n",
        ")\n"
      ],
      "metadata": {
        "colab": {
          "base_uri": "https://localhost:8080/"
        },
        "id": "xkEPDDW6VPc7",
        "outputId": "033c8c61-7282-4dcb-aac8-2ee7064d6418"
      },
      "execution_count": 9,
      "outputs": [
        {
          "output_type": "stream",
          "name": "stdout",
          "text": [
            "398 398\n"
          ]
        }
      ]
    },
    {
      "cell_type": "markdown",
      "source": [
        "# Save code to file on disk\n"
      ],
      "metadata": {
        "id": "1_nNzD-jVSv9"
      }
    },
    {
      "cell_type": "code",
      "source": [
        "doc.save('stock market analysis.html')"
      ],
      "metadata": {
        "id": "ApiS9q-BVRvE"
      },
      "execution_count": 10,
      "outputs": []
    },
    {
      "cell_type": "markdown",
      "source": [
        "# Graph Component in A4 Size\n"
      ],
      "metadata": {
        "id": "VmUdhfViVVZY"
      }
    },
    {
      "cell_type": "code",
      "source": [
        "# dataset for garph\n",
        "df = pd.DataFrame({ \n",
        "     'from':['A', 'B', 'C','A'], \n",
        "     'to':['D', 'A', 'E','C'], \n",
        "     'weight':[1, 2, 1,5]})\n",
        "doc = vi.htmlDoc(title='Plot Graph',css_name = \"A4_size\")\n",
        "doc.h4('Graph Data plot')\n",
        "doc.table(df, use_datatable=True, table_id=\"test\", \n",
        "    custom_css_class='intro')\n",
        "doc.pd_plot_network(df, cola='from', colb='to', \n",
        "    coledge='col_edge',colweight=\"weight\")"
      ],
      "metadata": {
        "colab": {
          "base_uri": "https://localhost:8080/",
          "height": 319
        },
        "id": "W-TfoAPOVUIN",
        "outputId": "61776ecf-07db-4ee8-fbee-d6317ce2de48"
      },
      "execution_count": 12,
      "outputs": [
        {
          "output_type": "display_data",
          "data": {
            "image/png": "[encoded data removed]",
            "text/plain": [
              "<Figure size 432x288 with 1 Axes>"
            ]
          },
          "metadata": {}
        }
      ]
    },
    {
      "cell_type": "markdown",
      "source": [
        "# Histogram with mode highchart\n"
      ],
      "metadata": {
        "id": "jOEgJw2_VwsF"
      }
    },
    {
      "cell_type": "code",
      "source": [
        "# doc = vi.htmlDoc(title=\"A histogram\")\n",
        "# doc.plot_histogram(df, col=\"Close\",mode='highcharts')"
      ],
      "metadata": {
        "id": "oYgjlwJcVw60"
      },
      "execution_count": 14,
      "outputs": []
    },
    {
      "cell_type": "code",
      "source": [
        "# doc = vi.htmlDoc(title=\"A histogram\")\n",
        "# doc.plot_histogram(df,col='Close',title=\"Price\", mode='matplot')"
      ],
      "metadata": {
        "id": "7vO00RAWVx56"
      },
      "execution_count": 15,
      "outputs": []
    }
  ]
}