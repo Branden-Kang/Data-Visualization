{
  "nbformat": 4,
  "nbformat_minor": 0,
  "metadata": {
    "colab": {
      "name": "How to create a dashboard embedded in Jupyter notebook.ipynb",
      "provenance": [],
      "authorship_tag": "ABX9TyPwN3FlmhzH3EkhQqDk+1e1"
    },
    "kernelspec": {
      "name": "python3",
      "display_name": "Python 3"
    },
    "language_info": {
      "name": "python"
    }
  },
  "cells": [
    {
      "cell_type": "markdown",
      "source": [
        "[Reference](https://medium.com/@Hong_Tang/how-to-create-a-dashboard-embedded-in-jupyter-notebook-33a31fbd57c4)"
      ],
      "metadata": {
        "id": "Z1ssbLlE6-cz"
      }
    },
    {
      "cell_type": "code",
      "execution_count": 1,
      "metadata": {
        "id": "52RtIehE5dUV"
      },
      "outputs": [],
      "source": [
        "import pandas as pd\n",
        "import numpy as np\n",
        "import seaborn as sns\n",
        "df = sns.load_dataset('iris')"
      ]
    },
    {
      "cell_type": "code",
      "source": [
        "# 1. Splitting the df into the Training set and Test set\n",
        "X = df.iloc[:, [0,1,2, 3]].values\n",
        "y = df.iloc[:, 4].values\n",
        "from sklearn.model_selection import train_test_split\n",
        "X_train, X_test, y_train, y_test = train_test_split(X, y, test_size = 0.25, random_state = 0)\n",
        "#2. Fitting Logistic Regression to the Training set\n",
        "from sklearn.linear_model import LogisticRegression\n",
        "classifier = LogisticRegression(random_state = 0, solver='lbfgs', multi_class='auto')\n",
        "classifier.fit(X_train, y_train)\n",
        "#3. Predicting the Test set results\n",
        "y_pred = classifier.predict(X_test)\n",
        "# Predict probabilities\n",
        "probs_y=classifier.predict_proba(X_test)\n",
        "# 4. use the trained model to predict the whole dataset \n",
        "df['prediction']=classifier.predict(X)"
      ],
      "metadata": {
        "colab": {
          "base_uri": "https://localhost:8080/"
        },
        "id": "61XhGvh-5eCk",
        "outputId": "bb5de8ff-ec2a-46df-9d37-59094de48505"
      },
      "execution_count": 3,
      "outputs": [
        {
          "output_type": "stream",
          "name": "stderr",
          "text": [
            "/usr/local/lib/python3.7/dist-packages/sklearn/linear_model/_logistic.py:818: ConvergenceWarning: lbfgs failed to converge (status=1):\n",
            "STOP: TOTAL NO. of ITERATIONS REACHED LIMIT.\n",
            "\n",
            "Increase the number of iterations (max_iter) or scale the data as shown in:\n",
            "    https://scikit-learn.org/stable/modules/preprocessing.html\n",
            "Please also refer to the documentation for alternative solver options:\n",
            "    https://scikit-learn.org/stable/modules/linear_model.html#logistic-regression\n",
            "  extra_warning_msg=_LOGISTIC_SOLVER_CONVERGENCE_MSG,\n"
          ]
        }
      ]
    },
    {
      "cell_type": "code",
      "source": [
        "pip install atoti"
      ],
      "metadata": {
        "colab": {
          "base_uri": "https://localhost:8080/"
        },
        "id": "R2xHlhjX5unl",
        "outputId": "20b61e75-8be7-4d5f-b9bd-c04b7793aa22"
      },
      "execution_count": 6,
      "outputs": [
        {
          "output_type": "stream",
          "name": "stdout",
          "text": [
            "Collecting atoti\n",
            "  Downloading atoti-0.6.4-0_60cc8df-py3-none-any.whl (141.9 MB)\n",
            "\u001b[K     |████████████████████████████████| 141.9 MB 62 kB/s \n",
            "\u001b[?25hRequirement already satisfied: numpy!=1.19.4 in /usr/local/lib/python3.7/dist-packages (from atoti) (1.21.5)\n",
            "Collecting atoti-query==0.6.4\n",
            "  Downloading atoti_query-0.6.4-0_60cc8df-py3-none-any.whl (32 kB)\n",
            "Collecting py4j~=0.10.9\n",
            "  Downloading py4j-0.10.9.5-py2.py3-none-any.whl (199 kB)\n",
            "\u001b[K     |████████████████████████████████| 199 kB 68.9 MB/s \n",
            "\u001b[?25hCollecting jdk4py~=11.0\n",
            "  Downloading jdk4py-11.0.13.1-1-py3-none-manylinux1_x86_64.whl (36.8 MB)\n",
            "\u001b[K     |████████████████████████████████| 36.8 MB 277 kB/s \n",
            "\u001b[?25hRequirement already satisfied: pandas in /usr/local/lib/python3.7/dist-packages (from atoti) (1.3.5)\n",
            "Collecting atoti-core==0.6.4\n",
            "  Downloading atoti_core-0.6.4-0_60cc8df-py3-none-any.whl (44 kB)\n",
            "\u001b[K     |████████████████████████████████| 44 kB 2.7 MB/s \n",
            "\u001b[?25hRequirement already satisfied: pyarrow~=6.0 in /usr/local/lib/python3.7/dist-packages (from atoti) (6.0.1)\n",
            "Collecting typing-extensions>=4.0.1\n",
            "  Downloading typing_extensions-4.1.1-py3-none-any.whl (26 kB)\n",
            "Requirement already satisfied: importlib-metadata~=4.10 in /usr/local/lib/python3.7/dist-packages (from atoti-core==0.6.4->atoti) (4.11.2)\n",
            "Collecting typeguard~=2.12\n",
            "  Downloading typeguard-2.13.3-py3-none-any.whl (17 kB)\n",
            "Requirement already satisfied: zipp>=0.5 in /usr/local/lib/python3.7/dist-packages (from importlib-metadata~=4.10->atoti-core==0.6.4->atoti) (3.7.0)\n",
            "Requirement already satisfied: pytz>=2017.3 in /usr/local/lib/python3.7/dist-packages (from pandas->atoti) (2018.9)\n",
            "Requirement already satisfied: python-dateutil>=2.7.3 in /usr/local/lib/python3.7/dist-packages (from pandas->atoti) (2.8.2)\n",
            "Requirement already satisfied: six>=1.5 in /usr/local/lib/python3.7/dist-packages (from python-dateutil>=2.7.3->pandas->atoti) (1.15.0)\n",
            "Installing collected packages: typing-extensions, typeguard, atoti-core, py4j, jdk4py, atoti-query, atoti\n",
            "  Attempting uninstall: typing-extensions\n",
            "    Found existing installation: typing-extensions 3.10.0.2\n",
            "    Uninstalling typing-extensions-3.10.0.2:\n",
            "      Successfully uninstalled typing-extensions-3.10.0.2\n",
            "  Attempting uninstall: typeguard\n",
            "    Found existing installation: typeguard 2.7.1\n",
            "    Uninstalling typeguard-2.7.1:\n",
            "      Successfully uninstalled typeguard-2.7.1\n",
            "\u001b[31mERROR: pip's dependency resolver does not currently take into account all the packages that are installed. This behaviour is the source of the following dependency conflicts.\n",
            "tensorflow 2.8.0 requires tf-estimator-nightly==2.8.0.dev2021122109, which is not installed.\n",
            "arviz 0.11.4 requires typing-extensions<4,>=3.7.4.3, but you have typing-extensions 4.1.1 which is incompatible.\u001b[0m\n",
            "Successfully installed atoti-0.6.4 atoti-core-0.6.4 atoti-query-0.6.4 jdk4py-11.0.13.1 py4j-0.10.9.5 typeguard-2.13.3 typing-extensions-4.1.1\n"
          ]
        }
      ]
    },
    {
      "cell_type": "code",
      "source": [
        "import atoti as tt\n",
        "# create atoti session\n",
        "session = tt.create_session()\n",
        "# create table form the session\n",
        "iris_table= session.read_pandas(df, table_name=\"iris\")\n",
        "iris_table.head()"
      ],
      "metadata": {
        "colab": {
          "base_uri": "https://localhost:8080/",
          "height": 428
        },
        "id": "lVfqOLJi5gpP",
        "outputId": "084f01f6-5388-494e-a3ed-75f6cef2b956"
      },
      "execution_count": 7,
      "outputs": [
        {
          "output_type": "stream",
          "name": "stderr",
          "text": [
            "/usr/local/lib/python3.7/dist-packages/atoti/_compatibility.py:17: FutureWarning: atoti's support for Python < 3.8 is deprecated and will be removed in the next release.\n",
            "  \"atoti's support for Python < 3.8 is deprecated and will be removed in the next release.\"\n"
          ]
        },
        {
          "output_type": "stream",
          "name": "stdout",
          "text": [
            "Welcome to atoti 0.6.4!\n",
            "\n",
            "By using this community edition, you agree with the license available at https://docs.atoti.io/latest/eula.html.\n",
            "Browse the official documentation at https://docs.atoti.io.\n",
            "Join the community at https://www.atoti.io/register.\n",
            "\n",
            "atoti collects telemetry data, which is used to help understand how to improve the product.\n",
            "If you don't wish to send usage data, set the ATOTI_DISABLE_TELEMETRY environment variable to True.\n",
            "\n",
            "You can hide this message by setting the ATOTI_HIDE_EULA_MESSAGE environment variable to True.\n"
          ]
        },
        {
          "output_type": "execute_result",
          "data": {
            "text/plain": [
              "   sepal_length  sepal_width  petal_length  petal_width species prediction\n",
              "0           5.1          3.5           1.4          0.2  setosa     setosa\n",
              "1           4.9          3.0           1.4          0.2  setosa     setosa\n",
              "2           4.7          3.2           1.3          0.2  setosa     setosa\n",
              "3           4.6          3.1           1.5          0.2  setosa     setosa\n",
              "4           5.0          3.6           1.4          0.2  setosa     setosa"
            ],
            "text/html": [
              "\n",
              "  <div id=\"df-60728aaa-b3aa-42d2-ab84-e3ea584c2e05\">\n",
              "    <div class=\"colab-df-container\">\n",
              "      <div>\n",
              "<style scoped>\n",
              "    .dataframe tbody tr th:only-of-type {\n",
              "        vertical-align: middle;\n",
              "    }\n",
              "\n",
              "    .dataframe tbody tr th {\n",
              "        vertical-align: top;\n",
              "    }\n",
              "\n",
              "    .dataframe thead th {\n",
              "        text-align: right;\n",
              "    }\n",
              "</style>\n",
              "<table border=\"1\" class=\"dataframe\">\n",
              "  <thead>\n",
              "    <tr style=\"text-align: right;\">\n",
              "      <th></th>\n",
              "      <th>sepal_length</th>\n",
              "      <th>sepal_width</th>\n",
              "      <th>petal_length</th>\n",
              "      <th>petal_width</th>\n",
              "      <th>species</th>\n",
              "      <th>prediction</th>\n",
              "    </tr>\n",
              "  </thead>\n",
              "  <tbody>\n",
              "    <tr>\n",
              "      <th>0</th>\n",
              "      <td>5.1</td>\n",
              "      <td>3.5</td>\n",
              "      <td>1.4</td>\n",
              "      <td>0.2</td>\n",
              "      <td>setosa</td>\n",
              "      <td>setosa</td>\n",
              "    </tr>\n",
              "    <tr>\n",
              "      <th>1</th>\n",
              "      <td>4.9</td>\n",
              "      <td>3.0</td>\n",
              "      <td>1.4</td>\n",
              "      <td>0.2</td>\n",
              "      <td>setosa</td>\n",
              "      <td>setosa</td>\n",
              "    </tr>\n",
              "    <tr>\n",
              "      <th>2</th>\n",
              "      <td>4.7</td>\n",
              "      <td>3.2</td>\n",
              "      <td>1.3</td>\n",
              "      <td>0.2</td>\n",
              "      <td>setosa</td>\n",
              "      <td>setosa</td>\n",
              "    </tr>\n",
              "    <tr>\n",
              "      <th>3</th>\n",
              "      <td>4.6</td>\n",
              "      <td>3.1</td>\n",
              "      <td>1.5</td>\n",
              "      <td>0.2</td>\n",
              "      <td>setosa</td>\n",
              "      <td>setosa</td>\n",
              "    </tr>\n",
              "    <tr>\n",
              "      <th>4</th>\n",
              "      <td>5.0</td>\n",
              "      <td>3.6</td>\n",
              "      <td>1.4</td>\n",
              "      <td>0.2</td>\n",
              "      <td>setosa</td>\n",
              "      <td>setosa</td>\n",
              "    </tr>\n",
              "  </tbody>\n",
              "</table>\n",
              "</div>\n",
              "      <button class=\"colab-df-convert\" onclick=\"convertToInteractive('df-60728aaa-b3aa-42d2-ab84-e3ea584c2e05')\"\n",
              "              title=\"Convert this dataframe to an interactive table.\"\n",
              "              style=\"display:none;\">\n",
              "        \n",
              "  <svg xmlns=\"http://www.w3.org/2000/svg\" height=\"24px\"viewBox=\"0 0 24 24\"\n",
              "       width=\"24px\">\n",
              "    <path d=\"M0 0h24v24H0V0z\" fill=\"none\"/>\n",
              "    <path d=\"M18.56 5.44l.94 2.06.94-2.06 2.06-.94-2.06-.94-.94-2.06-.94 2.06-2.06.94zm-11 1L8.5 8.5l.94-2.06 2.06-.94-2.06-.94L8.5 2.5l-.94 2.06-2.06.94zm10 10l.94 2.06.94-2.06 2.06-.94-2.06-.94-.94-2.06-.94 2.06-2.06.94z\"/><path d=\"M17.41 7.96l-1.37-1.37c-.4-.4-.92-.59-1.43-.59-.52 0-1.04.2-1.43.59L10.3 9.45l-7.72 7.72c-.78.78-.78 2.05 0 2.83L4 21.41c.39.39.9.59 1.41.59.51 0 1.02-.2 1.41-.59l7.78-7.78 2.81-2.81c.8-.78.8-2.07 0-2.86zM5.41 20L4 18.59l7.72-7.72 1.47 1.35L5.41 20z\"/>\n",
              "  </svg>\n",
              "      </button>\n",
              "      \n",
              "  <style>\n",
              "    .colab-df-container {\n",
              "      display:flex;\n",
              "      flex-wrap:wrap;\n",
              "      gap: 12px;\n",
              "    }\n",
              "\n",
              "    .colab-df-convert {\n",
              "      background-color: #E8F0FE;\n",
              "      border: none;\n",
              "      border-radius: 50%;\n",
              "      cursor: pointer;\n",
              "      display: none;\n",
              "      fill: #1967D2;\n",
              "      height: 32px;\n",
              "      padding: 0 0 0 0;\n",
              "      width: 32px;\n",
              "    }\n",
              "\n",
              "    .colab-df-convert:hover {\n",
              "      background-color: #E2EBFA;\n",
              "      box-shadow: 0px 1px 2px rgba(60, 64, 67, 0.3), 0px 1px 3px 1px rgba(60, 64, 67, 0.15);\n",
              "      fill: #174EA6;\n",
              "    }\n",
              "\n",
              "    [theme=dark] .colab-df-convert {\n",
              "      background-color: #3B4455;\n",
              "      fill: #D2E3FC;\n",
              "    }\n",
              "\n",
              "    [theme=dark] .colab-df-convert:hover {\n",
              "      background-color: #434B5C;\n",
              "      box-shadow: 0px 1px 3px 1px rgba(0, 0, 0, 0.15);\n",
              "      filter: drop-shadow(0px 1px 2px rgba(0, 0, 0, 0.3));\n",
              "      fill: #FFFFFF;\n",
              "    }\n",
              "  </style>\n",
              "\n",
              "      <script>\n",
              "        const buttonEl =\n",
              "          document.querySelector('#df-60728aaa-b3aa-42d2-ab84-e3ea584c2e05 button.colab-df-convert');\n",
              "        buttonEl.style.display =\n",
              "          google.colab.kernel.accessAllowed ? 'block' : 'none';\n",
              "\n",
              "        async function convertToInteractive(key) {\n",
              "          const element = document.querySelector('#df-60728aaa-b3aa-42d2-ab84-e3ea584c2e05');\n",
              "          const dataTable =\n",
              "            await google.colab.kernel.invokeFunction('convertToInteractive',\n",
              "                                                     [key], {});\n",
              "          if (!dataTable) return;\n",
              "\n",
              "          const docLinkHtml = 'Like what you see? Visit the ' +\n",
              "            '<a target=\"_blank\" href=https://colab.research.google.com/notebooks/data_table.ipynb>data table notebook</a>'\n",
              "            + ' to learn more about interactive tables.';\n",
              "          element.innerHTML = '';\n",
              "          dataTable['output_type'] = 'display_data';\n",
              "          await google.colab.output.renderOutput(dataTable, element);\n",
              "          const docLink = document.createElement('div');\n",
              "          docLink.innerHTML = docLinkHtml;\n",
              "          element.appendChild(docLink);\n",
              "        }\n",
              "      </script>\n",
              "    </div>\n",
              "  </div>\n",
              "  "
            ]
          },
          "metadata": {},
          "execution_count": 7
        }
      ]
    },
    {
      "cell_type": "code",
      "source": [
        "# create cube for data slicing and dicing\n",
        "cube=session.create_cube(iris_table)"
      ],
      "metadata": {
        "id": "35uZLopz5oTJ"
      },
      "execution_count": 8,
      "outputs": []
    },
    {
      "cell_type": "code",
      "source": [
        "#check hierachies\n",
        "h = cube.hierarchies\n",
        "h"
      ],
      "metadata": {
        "colab": {
          "base_uri": "https://localhost:8080/",
          "height": 143
        },
        "id": "psLSvSEO5v65",
        "outputId": "1850ebd8-687b-45e2-fca9-e90cc94a051f"
      },
      "execution_count": 9,
      "outputs": [
        {
          "output_type": "execute_result",
          "data": {
            "text/plain": [
              "Hierarchies()"
            ],
            "text/html": [
              "<ul>\n",
              "<li>Dimensions\n",
              "  <ul>\n",
              "  <li>iris\n",
              "    <ul>\n",
              "    <li>prediction\n",
              "      <ol>\n",
              "      <li>prediction</li>\n",
              "      </ol>    </li>\n",
              "    <li>species\n",
              "      <ol>\n",
              "      <li>species</li>\n",
              "      </ol>    </li>\n",
              "    </ul>\n",
              "  </li>\n",
              "  </ul>\n",
              "</li>\n",
              "</ul>\n"
            ],
            "application/json": {
              "iris": {
                "prediction": [
                  "prediction"
                ],
                "species": [
                  "species"
                ]
              }
            }
          },
          "metadata": {
            "application/json": {
              "expanded": true,
              "root": "Dimensions"
            }
          },
          "execution_count": 9
        }
      ]
    },
    {
      "cell_type": "code",
      "source": [
        "# check cube levels\n",
        "l = cube.levels\n",
        "l"
      ],
      "metadata": {
        "colab": {
          "base_uri": "https://localhost:8080/",
          "height": 240
        },
        "id": "W167KPcP5w5Z",
        "outputId": "6ec89438-e711-4bd9-d3af-cd71c48f983a"
      },
      "execution_count": 10,
      "outputs": [
        {
          "output_type": "execute_result",
          "data": {
            "text/plain": [
              "Levels()"
            ],
            "text/html": [
              "<ul>\n",
              "<li>Levels\n",
              "  <ul>\n",
              "  <li>prediction (iris/prediction/prediction)\n",
              "    <ul>\n",
              "    <li>dimension: iris</li>\n",
              "    <li>hierarchy: prediction</li>\n",
              "    <li>type: string</li>\n",
              "    <li>comparator: ASCENDING</li>\n",
              "    </ul>\n",
              "  </li>\n",
              "  <li>species (iris/species/species)\n",
              "    <ul>\n",
              "    <li>dimension: iris</li>\n",
              "    <li>hierarchy: species</li>\n",
              "    <li>type: string</li>\n",
              "    <li>comparator: ASCENDING</li>\n",
              "    </ul>\n",
              "  </li>\n",
              "  </ul>\n",
              "</li>\n",
              "</ul>\n"
            ],
            "application/json": {
              "prediction (iris/prediction/prediction)": {
                "dimension": "iris",
                "hierarchy": "prediction",
                "type": "string",
                "comparator": "ASCENDING"
              },
              "species (iris/species/species)": {
                "dimension": "iris",
                "hierarchy": "species",
                "type": "string",
                "comparator": "ASCENDING"
              }
            }
          },
          "metadata": {
            "application/json": {
              "expanded": true,
              "root": "Levels"
            }
          },
          "execution_count": 10
        }
      ]
    },
    {
      "cell_type": "code",
      "source": [
        "m = cube.measures\n",
        "m"
      ],
      "metadata": {
        "colab": {
          "base_uri": "https://localhost:8080/",
          "height": 460
        },
        "id": "t0eNS4KN5yg5",
        "outputId": "5c12a33d-adb3-4eef-eabe-827389d56d4c"
      },
      "execution_count": 11,
      "outputs": [
        {
          "output_type": "execute_result",
          "data": {
            "text/plain": [
              "Measures()"
            ],
            "text/html": [
              "<ul>\n",
              "<li>Measures\n",
              "  <ul>\n",
              "  <li>contributors.COUNT\n",
              "    <ul>\n",
              "    <li>formatter: INT[#,###]</li>\n",
              "    </ul>\n",
              "  </li>\n",
              "  <li>petal_length.MEAN\n",
              "    <ul>\n",
              "    <li>formatter: DOUBLE[#,###.00]</li>\n",
              "    </ul>\n",
              "  </li>\n",
              "  <li>petal_length.SUM\n",
              "    <ul>\n",
              "    <li>formatter: DOUBLE[#,###.00]</li>\n",
              "    </ul>\n",
              "  </li>\n",
              "  <li>petal_width.MEAN\n",
              "    <ul>\n",
              "    <li>formatter: DOUBLE[#,###.00]</li>\n",
              "    </ul>\n",
              "  </li>\n",
              "  <li>petal_width.SUM\n",
              "    <ul>\n",
              "    <li>formatter: DOUBLE[#,###.00]</li>\n",
              "    </ul>\n",
              "  </li>\n",
              "  <li>sepal_length.MEAN\n",
              "    <ul>\n",
              "    <li>formatter: DOUBLE[#,###.00]</li>\n",
              "    </ul>\n",
              "  </li>\n",
              "  <li>sepal_length.SUM\n",
              "    <ul>\n",
              "    <li>formatter: DOUBLE[#,###.00]</li>\n",
              "    </ul>\n",
              "  </li>\n",
              "  <li>sepal_width.MEAN\n",
              "    <ul>\n",
              "    <li>formatter: DOUBLE[#,###.00]</li>\n",
              "    </ul>\n",
              "  </li>\n",
              "  <li>sepal_width.SUM\n",
              "    <ul>\n",
              "    <li>formatter: DOUBLE[#,###.00]</li>\n",
              "    </ul>\n",
              "  </li>\n",
              "  </ul>\n",
              "</li>\n",
              "</ul>\n"
            ],
            "application/json": {
              "contributors.COUNT": {
                "formatter": "INT[#,###]"
              },
              "petal_length.MEAN": {
                "formatter": "DOUBLE[#,###.00]"
              },
              "petal_length.SUM": {
                "formatter": "DOUBLE[#,###.00]"
              },
              "petal_width.MEAN": {
                "formatter": "DOUBLE[#,###.00]"
              },
              "petal_width.SUM": {
                "formatter": "DOUBLE[#,###.00]"
              },
              "sepal_length.MEAN": {
                "formatter": "DOUBLE[#,###.00]"
              },
              "sepal_length.SUM": {
                "formatter": "DOUBLE[#,###.00]"
              },
              "sepal_width.MEAN": {
                "formatter": "DOUBLE[#,###.00]"
              },
              "sepal_width.SUM": {
                "formatter": "DOUBLE[#,###.00]"
              }
            }
          },
          "metadata": {
            "application/json": {
              "expanded": false,
              "root": "Measures"
            }
          },
          "execution_count": 11
        }
      ]
    },
    {
      "cell_type": "code",
      "source": [
        "# session.link()"
      ],
      "metadata": {
        "id": "ikD4qqrf50CH"
      },
      "execution_count": 13,
      "outputs": []
    }
  ]
}