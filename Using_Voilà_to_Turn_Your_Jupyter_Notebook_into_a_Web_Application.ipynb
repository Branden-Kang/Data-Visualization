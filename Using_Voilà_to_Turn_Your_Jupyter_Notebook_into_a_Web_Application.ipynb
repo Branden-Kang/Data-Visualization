{
  "nbformat": 4,
  "nbformat_minor": 0,
  "metadata": {
    "colab": {
      "name": "Using Voilà to Turn Your Jupyter Notebook into a Web Application.ipynb",
      "provenance": [],
      "authorship_tag": "ABX9TyPw18xEAAM0K6pdOO+KeGlM"
    },
    "kernelspec": {
      "name": "python3",
      "display_name": "Python 3"
    },
    "language_info": {
      "name": "python"
    }
  },
  "cells": [
    {
      "cell_type": "markdown",
      "metadata": {
        "id": "r1QnK34oJSi5"
      },
      "source": [
        "[Reference](https://emma-claire-mccarthy.medium.com/using-voilà-to-turn-your-jupyter-notebook-into-a-web-application-90988524315b)"
      ]
    },
    {
      "cell_type": "code",
      "metadata": {
        "id": "zsg0pIAXJOqk"
      },
      "source": [
        "import pandas as pd\n",
        "from sklearn.datasets import load_iris\n",
        "data = load_iris()\n",
        "df = pd.DataFrame(data = data['data'], columns = data.feature_names)\n",
        "species_dict = {0:'setosa', 1: 'versicolor', 2: 'virginica'}\n",
        "df['species'] = [species_dict[x] for x in data.target]"
      ],
      "execution_count": 2,
      "outputs": []
    },
    {
      "cell_type": "code",
      "metadata": {
        "id": "p9acsj_1JW8R"
      },
      "source": [
        "# set default x and y axis values \n",
        "x = 'sepal length (cm)'\n",
        "y = 'sepal width (cm)'\n",
        "# create df subsets by species for use in traces\n",
        "df_setosa = df[df.species == 'setosa']\n",
        "df_versicolor = df[df.species == 'versicolor']\n",
        "df_virginica = df[df.species == 'virginica']\n",
        "# create traces for each species\n",
        "setosa = go.Scatter(x=df_setosa[x], y=df_setosa[y],\n",
        " mode='markers',\n",
        " name='setosa')\n",
        "versicolor = go.Scatter(x=df_versicolor[x], y=df_versicolor[y],\n",
        " mode='markers',\n",
        " name='versicolor')\n",
        "virginica = go.Scatter(x=df_virginica[x], y=df_virginica[y],\n",
        " mode='markers',\n",
        " name='virginica')\n",
        "# create the graph object as a FigureWidget\n",
        "g = go.FigureWidget(data=[setosa, versicolor, virginica],\n",
        " layout=go.Layout(\n",
        " title={\n",
        " 'text': \"Iris Measurements\",\n",
        " 'y':0.85,\n",
        " 'x':0.5,\n",
        " 'xanchor': 'center',\n",
        " 'yanchor': 'top'},\n",
        " xaxis_title=x,\n",
        " yaxis_title=y,\n",
        " legend_title = \"Iris Species\"\n",
        " ))\n",
        "# use g.show() to see a preview of the scatterplot"
      ],
      "execution_count": 5,
      "outputs": []
    },
    {
      "cell_type": "code",
      "metadata": {
        "id": "YLOABbBUJfBC"
      },
      "source": [
        "from ipywidgets import Dropdown\n",
        "select_x = Dropdown(options = data.feature_names,\n",
        " layout = Layout(width = '160px'))\n",
        "select_y = Dropdown(options = data.feature_names[::-1],\n",
        " layout = Layout(width = '160px'))\n",
        "# use HBox([select_x, select_y]) to see a preview of the widgets"
      ],
      "execution_count": 6,
      "outputs": []
    },
    {
      "cell_type": "code",
      "metadata": {
        "id": "ijBGCqCqJlub"
      },
      "source": [
        "def response(change):\n",
        " with g.batch_update():\n",
        "  \n",
        "  # this first line is saying:\n",
        "  g.data[0].x = df_setosa[select_x.value]\n",
        "  g.data[1].x = df_versicolor[select_x.value]\n",
        "  g.data[2].x = df_virginica[select_x.value]\n",
        "  g.data[0].y = df_setosa[select_y.value]\n",
        "  g.data[1].y = df_versicolor[select_y.value]\n",
        "  g.data[2].y = df_virginica[select_y.value]\n",
        "  g.layout = go.Layout(\n",
        "  title={\n",
        "   'text': \"Iris Measurements\",\n",
        "   'y':0.85,\n",
        "   'x':0.5,\n",
        "   'xanchor': 'center',\n",
        "   'yanchor': 'top'},\n",
        "   xaxis_title=select_x.value,\n",
        "   yaxis_title=select_y.value,\n",
        "   legend_title = \"Iris Species\"\n",
        "   )"
      ],
      "execution_count": 7,
      "outputs": []
    },
    {
      "cell_type": "code",
      "metadata": {
        "id": "PpBmo2ffJtn9"
      },
      "source": [
        "select_x.observe(response, names=\"value\")\n",
        "select_y.observe(response, names = \"value\")"
      ],
      "execution_count": 8,
      "outputs": []
    },
    {
      "cell_type": "code",
      "metadata": {
        "id": "Nu1FBCvIJzFB"
      },
      "source": [
        "from ipywidgets import HBox, VBox\n",
        "container = HBox([select_x, select_y])\n",
        "VBox([container, g])"
      ],
      "execution_count": 9,
      "outputs": []
    },
    {
      "cell_type": "code",
      "metadata": {
        "id": "4KbHZoVPJ0WZ"
      },
      "source": [
        "# in a separate notebook...\n",
        "from sklearn.model_selection import train_test_split\n",
        "from sklearn.neighbors import KNeighborsClassifier\n",
        "from sklearn import metrics\n",
        "import pickle\n",
        "features = ['sepal length (cm)' , 'sepal width (cm)', 'petal length (cm)', 'petal width (cm)']\n",
        "X_train, X_test, y_train, y_test = train_test_split(df[features], df.species, test_size = 0.25, stratify = df['species'], random_state = 42)\n",
        "knn = KNeighborsClassifier(n_neighbors=8)\n",
        "knn.fit(X_train, y_train)\n",
        "pred = knn.predict(X_test)\n",
        "print('accuracy = ', metrics.accuracy_score(y_test, pred))\n",
        "# use pickle to save the model\n",
        "with open('knn.pickle', 'wb') as to_write:\n",
        "    pickle.dump(knn, to_write)"
      ],
      "execution_count": 10,
      "outputs": []
    },
    {
      "cell_type": "code",
      "metadata": {
        "id": "9-FcOzK7J4Ew"
      },
      "source": [
        "knn_model = pickle.load(open('knn.pickle’, 'rb'))\n",
        "\n",
        "sepal_length = BoundedFloatText(value = 8, min = 4.0, max = 8.0,        step = 0.2, description = 'sepal length')\n",
        "sepal_width = BoundedFloatText(value = 8, min = 1.8, max = 4.6, step = 0.2, description = 'sepal width')\n",
        "petal_length = BoundedFloatText(value = 8, min = 0.8, max = 7, step    = 0.2, description = 'petal length')\n",
        "petal_width = BoundedFloatText(value = 8, min = 0.0, max = 2.8, step = 0.2, description = 'petal width')"
      ],
      "execution_count": 11,
      "outputs": []
    },
    {
      "cell_type": "code",
      "metadata": {
        "id": "uNRglKiBJ9ol"
      },
      "source": [
        "from ipywidgets import Output, HTML\n",
        "def run_model(sepal_length, sepal_width, petal_length, petal_width):\n",
        " \n",
        " result = knn.predict([[sepal_length, sepal_width, petal_length, petal_width]])[0]\n",
        " \n",
        " out = Output(layout={'border': '1px solid white'})\n",
        " \n",
        " with out:\n",
        " display(HTML(value=f'Predicted species: <b>{result.capitalize()}</b>'))\n",
        " \n",
        " return out"
      ],
      "execution_count": 12,
      "outputs": []
    },
    {
      "cell_type": "code",
      "metadata": {
        "id": "Ys-3RINJKCNf"
      },
      "source": [
        "interact(run_model,\n",
        " sepal_length = BoundedFloatText(value = 8, min = 4.0, max = 8.0, step = 0.2, description = ‘sepal length’),\n",
        " sepal_width = BoundedFloatText(value = 8, min = 1.8, max = 4.6, step = 0.2, description = ‘sepal width’),\n",
        " petal_length = BoundedFloatText(value = 8, min = 0.8, max = 7, step = 0.2, description = ‘petal length’),\n",
        " petal_width = BoundedFloatText(value = 8, min = 0.0, max = 2.8, step = 0.2, description = ‘petal width’),\n",
        " );"
      ],
      "execution_count": 13,
      "outputs": []
    }
  ]
}