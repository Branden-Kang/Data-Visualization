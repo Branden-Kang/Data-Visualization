{
 "cells": [
  {
   "cell_type": "markdown",
   "metadata": {
    "id": "ijwaOkOBg1hK"
   },
   "source": [
    "[Reference](https://github.com/matplotlib/ipympl)"
   ]
  },
  {
   "cell_type": "code",
   "execution_count": 2,
   "metadata": {
    "colab": {
     "base_uri": "https://localhost:8080/",
     "height": 836
    },
    "id": "tcWRR84cg9VQ",
    "outputId": "f9425c79-c6bf-4ba7-ed1d-660d9b9f1604"
   },
   "outputs": [
    {
     "name": "stdout",
     "output_type": "stream",
     "text": [
      "Collecting ipympl\n",
      "\u001b[?25l  Downloading https://files.pythonhosted.org/packages/a1/b9/638ad2b406cb33d92ad41a85964f9e81d9eac240ae9b5c06b17c4b6d602c/ipympl-0.5.8-py2.py3-none-any.whl (2.0MB)\n",
      "\u001b[K     |████████████████████████████████| 2.0MB 2.7MB/s \n",
      "\u001b[?25hRequirement already satisfied: matplotlib>=2.0.0 in /usr/local/lib/python3.6/dist-packages (from ipympl) (3.2.2)\n",
      "Requirement already satisfied: ipykernel>=4.7 in /usr/local/lib/python3.6/dist-packages (from ipympl) (4.10.1)\n",
      "Requirement already satisfied: ipywidgets>=7.5.0 in /usr/local/lib/python3.6/dist-packages (from ipympl) (7.5.1)\n",
      "Requirement already satisfied: cycler>=0.10 in /usr/local/lib/python3.6/dist-packages (from matplotlib>=2.0.0->ipympl) (0.10.0)\n",
      "Requirement already satisfied: pyparsing!=2.0.4,!=2.1.2,!=2.1.6,>=2.0.1 in /usr/local/lib/python3.6/dist-packages (from matplotlib>=2.0.0->ipympl) (2.4.7)\n",
      "Requirement already satisfied: kiwisolver>=1.0.1 in /usr/local/lib/python3.6/dist-packages (from matplotlib>=2.0.0->ipympl) (1.2.0)\n",
      "Requirement already satisfied: numpy>=1.11 in /usr/local/lib/python3.6/dist-packages (from matplotlib>=2.0.0->ipympl) (1.18.5)\n",
      "Requirement already satisfied: python-dateutil>=2.1 in /usr/local/lib/python3.6/dist-packages (from matplotlib>=2.0.0->ipympl) (2.8.1)\n",
      "Requirement already satisfied: ipython>=4.0.0 in /usr/local/lib/python3.6/dist-packages (from ipykernel>=4.7->ipympl) (5.5.0)\n",
      "Requirement already satisfied: jupyter-client in /usr/local/lib/python3.6/dist-packages (from ipykernel>=4.7->ipympl) (5.3.5)\n",
      "Requirement already satisfied: tornado>=4.0 in /usr/local/lib/python3.6/dist-packages (from ipykernel>=4.7->ipympl) (5.1.1)\n",
      "Requirement already satisfied: traitlets>=4.1.0 in /usr/local/lib/python3.6/dist-packages (from ipykernel>=4.7->ipympl) (4.3.3)\n",
      "Requirement already satisfied: nbformat>=4.2.0 in /usr/local/lib/python3.6/dist-packages (from ipywidgets>=7.5.0->ipympl) (5.0.7)\n",
      "Requirement already satisfied: widgetsnbextension~=3.5.0 in /usr/local/lib/python3.6/dist-packages (from ipywidgets>=7.5.0->ipympl) (3.5.1)\n",
      "Requirement already satisfied: six in /usr/local/lib/python3.6/dist-packages (from cycler>=0.10->matplotlib>=2.0.0->ipympl) (1.15.0)\n",
      "Requirement already satisfied: decorator in /usr/local/lib/python3.6/dist-packages (from ipython>=4.0.0->ipykernel>=4.7->ipympl) (4.4.2)\n",
      "Requirement already satisfied: setuptools>=18.5 in /usr/local/lib/python3.6/dist-packages (from ipython>=4.0.0->ipykernel>=4.7->ipympl) (50.3.0)\n",
      "Requirement already satisfied: pickleshare in /usr/local/lib/python3.6/dist-packages (from ipython>=4.0.0->ipykernel>=4.7->ipympl) (0.7.5)\n",
      "Requirement already satisfied: pygments in /usr/local/lib/python3.6/dist-packages (from ipython>=4.0.0->ipykernel>=4.7->ipympl) (2.6.1)\n",
      "Requirement already satisfied: simplegeneric>0.8 in /usr/local/lib/python3.6/dist-packages (from ipython>=4.0.0->ipykernel>=4.7->ipympl) (0.8.1)\n",
      "Requirement already satisfied: pexpect; sys_platform != \"win32\" in /usr/local/lib/python3.6/dist-packages (from ipython>=4.0.0->ipykernel>=4.7->ipympl) (4.8.0)\n",
      "Requirement already satisfied: prompt-toolkit<2.0.0,>=1.0.4 in /usr/local/lib/python3.6/dist-packages (from ipython>=4.0.0->ipykernel>=4.7->ipympl) (1.0.18)\n",
      "Requirement already satisfied: jupyter-core>=4.6.0 in /usr/local/lib/python3.6/dist-packages (from jupyter-client->ipykernel>=4.7->ipympl) (4.6.3)\n",
      "Requirement already satisfied: pyzmq>=13 in /usr/local/lib/python3.6/dist-packages (from jupyter-client->ipykernel>=4.7->ipympl) (19.0.2)\n",
      "Requirement already satisfied: ipython-genutils in /usr/local/lib/python3.6/dist-packages (from traitlets>=4.1.0->ipykernel>=4.7->ipympl) (0.2.0)\n",
      "Requirement already satisfied: jsonschema!=2.5.0,>=2.4 in /usr/local/lib/python3.6/dist-packages (from nbformat>=4.2.0->ipywidgets>=7.5.0->ipympl) (2.6.0)\n",
      "Requirement already satisfied: notebook>=4.4.1 in /usr/local/lib/python3.6/dist-packages (from widgetsnbextension~=3.5.0->ipywidgets>=7.5.0->ipympl) (5.3.1)\n",
      "Requirement already satisfied: ptyprocess>=0.5 in /usr/local/lib/python3.6/dist-packages (from pexpect; sys_platform != \"win32\"->ipython>=4.0.0->ipykernel>=4.7->ipympl) (0.6.0)\n",
      "Requirement already satisfied: wcwidth in /usr/local/lib/python3.6/dist-packages (from prompt-toolkit<2.0.0,>=1.0.4->ipython>=4.0.0->ipykernel>=4.7->ipympl) (0.2.5)\n",
      "Requirement already satisfied: nbconvert in /usr/local/lib/python3.6/dist-packages (from notebook>=4.4.1->widgetsnbextension~=3.5.0->ipywidgets>=7.5.0->ipympl) (5.6.1)\n",
      "Requirement already satisfied: terminado>=0.8.1 in /usr/local/lib/python3.6/dist-packages (from notebook>=4.4.1->widgetsnbextension~=3.5.0->ipywidgets>=7.5.0->ipympl) (0.9.1)\n",
      "Requirement already satisfied: Send2Trash in /usr/local/lib/python3.6/dist-packages (from notebook>=4.4.1->widgetsnbextension~=3.5.0->ipywidgets>=7.5.0->ipympl) (1.5.0)\n",
      "Requirement already satisfied: jinja2 in /usr/local/lib/python3.6/dist-packages (from notebook>=4.4.1->widgetsnbextension~=3.5.0->ipywidgets>=7.5.0->ipympl) (2.11.2)\n",
      "Requirement already satisfied: bleach in /usr/local/lib/python3.6/dist-packages (from nbconvert->notebook>=4.4.1->widgetsnbextension~=3.5.0->ipywidgets>=7.5.0->ipympl) (3.2.1)\n",
      "Requirement already satisfied: pandocfilters>=1.4.1 in /usr/local/lib/python3.6/dist-packages (from nbconvert->notebook>=4.4.1->widgetsnbextension~=3.5.0->ipywidgets>=7.5.0->ipympl) (1.4.2)\n",
      "Requirement already satisfied: mistune<2,>=0.8.1 in /usr/local/lib/python3.6/dist-packages (from nbconvert->notebook>=4.4.1->widgetsnbextension~=3.5.0->ipywidgets>=7.5.0->ipympl) (0.8.4)\n",
      "Requirement already satisfied: entrypoints>=0.2.2 in /usr/local/lib/python3.6/dist-packages (from nbconvert->notebook>=4.4.1->widgetsnbextension~=3.5.0->ipywidgets>=7.5.0->ipympl) (0.3)\n",
      "Requirement already satisfied: testpath in /usr/local/lib/python3.6/dist-packages (from nbconvert->notebook>=4.4.1->widgetsnbextension~=3.5.0->ipywidgets>=7.5.0->ipympl) (0.4.4)\n",
      "Requirement already satisfied: defusedxml in /usr/local/lib/python3.6/dist-packages (from nbconvert->notebook>=4.4.1->widgetsnbextension~=3.5.0->ipywidgets>=7.5.0->ipympl) (0.6.0)\n",
      "Requirement already satisfied: MarkupSafe>=0.23 in /usr/local/lib/python3.6/dist-packages (from jinja2->notebook>=4.4.1->widgetsnbextension~=3.5.0->ipywidgets>=7.5.0->ipympl) (1.1.1)\n",
      "Requirement already satisfied: packaging in /usr/local/lib/python3.6/dist-packages (from bleach->nbconvert->notebook>=4.4.1->widgetsnbextension~=3.5.0->ipywidgets>=7.5.0->ipympl) (20.4)\n",
      "Requirement already satisfied: webencodings in /usr/local/lib/python3.6/dist-packages (from bleach->nbconvert->notebook>=4.4.1->widgetsnbextension~=3.5.0->ipywidgets>=7.5.0->ipympl) (0.5.1)\n",
      "Installing collected packages: ipympl\n",
      "Successfully installed ipympl-0.5.8\n"
     ]
    }
   ],
   "source": [
    "# !conda install -c conda-forge ipympl\n",
    "# !pip install ipympl"
   ]
  },
  {
   "cell_type": "code",
   "execution_count": 1,
   "metadata": {
    "ExecuteTime": {
     "end_time": "2020-10-22T08:58:48.599865Z",
     "start_time": "2020-10-22T08:58:47.530893Z"
    },
    "id": "Ue3y2NzcgxVD"
   },
   "outputs": [],
   "source": [
    "# Enabling the `widget` backend.\n",
    "# This requires jupyter-matplotlib a.k.a. ipympl.\n",
    "# ipympl can be install via pip or conda.\n",
    "%matplotlib widget\n",
    "\n",
    "import matplotlib.pyplot as plt\n",
    "import numpy as np"
   ]
  },
  {
   "cell_type": "code",
   "execution_count": 2,
   "metadata": {
    "ExecuteTime": {
     "end_time": "2020-10-22T08:58:49.353129Z",
     "start_time": "2020-10-22T08:58:49.306445Z"
    },
    "colab": {
     "base_uri": "https://localhost:8080/",
     "height": 17,
     "referenced_widgets": [
      "2a816a4876344f85b07210dc7b0f694b"
     ]
    },
    "id": "38V4DM4Eg5pH",
    "outputId": "57977c4f-6830-46dc-bb4d-91a564125e61"
   },
   "outputs": [
    {
     "data": {
      "application/vnd.jupyter.widget-view+json": {
       "model_id": "adc7c4cbe6c84c9885fb287be8130243",
       "version_major": 2,
       "version_minor": 0
      },
      "text/plain": [
       "Canvas(toolbar=Toolbar(toolitems=[('Home', 'Reset original view', 'home', 'home'), ('Back', 'Back to previous …"
      ]
     },
     "metadata": {},
     "output_type": "display_data"
    }
   ],
   "source": [
    "# Testing matplotlib interactions with a simple plot\n",
    "fig = plt.figure()\n",
    "plt.plot(np.sin(np.linspace(0, 20, 100)));"
   ]
  },
  {
   "cell_type": "code",
   "execution_count": 3,
   "metadata": {
    "ExecuteTime": {
     "end_time": "2020-10-22T08:58:52.820346Z",
     "start_time": "2020-10-22T08:58:52.815071Z"
    },
    "id": "FnZPdkj6hHTF"
   },
   "outputs": [],
   "source": [
    "fig.canvas.toolbar_visible = False\n",
    "fig.canvas.header_visible = False # Hide the Figure name at the top of the figure"
   ]
  },
  {
   "cell_type": "code",
   "execution_count": 4,
   "metadata": {
    "ExecuteTime": {
     "end_time": "2020-10-22T08:58:53.329958Z",
     "start_time": "2020-10-22T08:58:53.325728Z"
    },
    "id": "GY2fuIxphIUu"
   },
   "outputs": [],
   "source": [
    "fig.canvas.footer_visible = False"
   ]
  },
  {
   "cell_type": "code",
   "execution_count": 5,
   "metadata": {
    "ExecuteTime": {
     "end_time": "2020-10-22T08:58:53.751332Z",
     "start_time": "2020-10-22T08:58:53.746058Z"
    },
    "id": "X_Y38qbHhJI0"
   },
   "outputs": [],
   "source": [
    "fig.canvas.resizable = False"
   ]
  },
  {
   "cell_type": "code",
   "execution_count": 6,
   "metadata": {
    "ExecuteTime": {
     "end_time": "2020-10-22T08:58:54.201768Z",
     "start_time": "2020-10-22T08:58:54.196808Z"
    },
    "id": "d_5R5vRvhKQM"
   },
   "outputs": [],
   "source": [
    "fig.canvas.capture_scroll = True"
   ]
  },
  {
   "cell_type": "code",
   "execution_count": 7,
   "metadata": {
    "ExecuteTime": {
     "end_time": "2020-10-22T08:58:54.841989Z",
     "start_time": "2020-10-22T08:58:54.833676Z"
    },
    "colab": {
     "base_uri": "https://localhost:8080/",
     "height": 17,
     "referenced_widgets": [
      "2a816a4876344f85b07210dc7b0f694b"
     ]
    },
    "id": "orlgYc_LhLR3",
    "outputId": "d7c9bd31-cd1c-4028-ee56-cf627f9a1731",
    "scrolled": true
   },
   "outputs": [
    {
     "data": {
      "application/vnd.jupyter.widget-view+json": {
       "model_id": "adc7c4cbe6c84c9885fb287be8130243",
       "version_major": 2,
       "version_minor": 0
      },
      "text/plain": [
       "Canvas(capture_scroll=True, footer_visible=False, header_visible=False, resizable=False, toolbar=Toolbar(tooli…"
      ]
     },
     "metadata": {},
     "output_type": "display_data"
    }
   ],
   "source": [
    "fig.canvas.toolbar_visible = True\n",
    "display(fig.canvas)"
   ]
  },
  {
   "cell_type": "code",
   "execution_count": 8,
   "metadata": {
    "ExecuteTime": {
     "end_time": "2020-10-22T08:58:55.390590Z",
     "start_time": "2020-10-22T08:58:55.200170Z"
    },
    "colab": {
     "base_uri": "https://localhost:8080/",
     "height": 265
    },
    "id": "C2V3NKXZhMxc",
    "outputId": "e168718f-bf29-4b27-c0bc-44e223debf63"
   },
   "outputs": [
    {
     "data": {
      "image/png": "[encoded data removed]",
      "text/plain": [
       "<Figure size 1280x960 with 1 Axes>"
      ]
     },
     "metadata": {},
     "output_type": "display_data"
    }
   ],
   "source": [
    "display(fig)"
   ]
  },
  {
   "cell_type": "code",
   "execution_count": 9,
   "metadata": {
    "ExecuteTime": {
     "end_time": "2020-10-22T08:59:10.439210Z",
     "start_time": "2020-10-22T08:59:10.372475Z"
    },
    "colab": {
     "base_uri": "https://localhost:8080/",
     "height": 17,
     "referenced_widgets": [
      "637ba0d9bcf549088789553adf4525fd"
     ]
    },
    "id": "2oIuriqRhNkO",
    "outputId": "ec60e990-897d-4a7e-aa64-67c508de4225"
   },
   "outputs": [
    {
     "data": {
      "application/vnd.jupyter.widget-view+json": {
       "model_id": "ddcb45a20ea8447d9263ced593d33a7a",
       "version_major": 2,
       "version_minor": 0
      },
      "text/plain": [
       "Canvas(toolbar=Toolbar(toolitems=[('Home', 'Reset original view', 'home', 'home'), ('Back', 'Back to previous …"
      ]
     },
     "metadata": {},
     "output_type": "display_data"
    }
   ],
   "source": [
    "from mpl_toolkits.mplot3d import axes3d\n",
    "\n",
    "fig = plt.figure()\n",
    "ax = fig.add_subplot(111, projection='3d')\n",
    "\n",
    "# Grab some test data.\n",
    "X, Y, Z = axes3d.get_test_data(0.05)\n",
    "\n",
    "# Plot a basic wireframe.\n",
    "ax.plot_wireframe(X, Y, Z, rstride=10, cstride=10)\n",
    "\n",
    "plt.show()"
   ]
  },
  {
   "cell_type": "code",
   "execution_count": 10,
   "metadata": {
    "ExecuteTime": {
     "end_time": "2020-10-22T08:59:19.796422Z",
     "start_time": "2020-10-22T08:59:19.390982Z"
    },
    "colab": {
     "base_uri": "https://localhost:8080/",
     "height": 17,
     "referenced_widgets": [
      "61d57c7af0034d8a8697396c7c472eaa"
     ]
    },
    "id": "XQGCWm73hPtb",
    "outputId": "44d01ac4-bc64-4079-e734-3b2f09c250aa"
   },
   "outputs": [
    {
     "data": {
      "application/vnd.jupyter.widget-view+json": {
       "model_id": "f3b1246baf904ac3823f4fd6a140d373",
       "version_major": 2,
       "version_minor": 0
      },
      "text/plain": [
       "Canvas(toolbar=Toolbar(toolitems=[('Home', 'Reset original view', 'home', 'home'), ('Back', 'Back to previous …"
      ]
     },
     "metadata": {},
     "output_type": "display_data"
    }
   ],
   "source": [
    "# A more complex example from the matplotlib gallery\n",
    "np.random.seed(0)\n",
    "\n",
    "n_bins = 10\n",
    "x = np.random.randn(1000, 3)\n",
    "\n",
    "fig, axes = plt.subplots(nrows=2, ncols=2)\n",
    "ax0, ax1, ax2, ax3 = axes.flatten()\n",
    "\n",
    "colors = ['red', 'tan', 'lime']\n",
    "ax0.hist(x, n_bins, density=1, histtype='bar', color=colors, label=colors)\n",
    "ax0.legend(prop={'size': 10})\n",
    "ax0.set_title('bars with legend')\n",
    "\n",
    "ax1.hist(x, n_bins, density=1, histtype='bar', stacked=True)\n",
    "ax1.set_title('stacked bar')\n",
    "\n",
    "ax2.hist(x, n_bins, histtype='step', stacked=True, fill=False)\n",
    "ax2.set_title('stack step (unfilled)')\n",
    "\n",
    "# Make a multiple-histogram of data-sets with different length.\n",
    "x_multi = [np.random.randn(n) for n in [10000, 5000, 2000]]\n",
    "ax3.hist(x_multi, n_bins, histtype='bar')\n",
    "ax3.set_title('different sample sizes')\n",
    "\n",
    "fig.tight_layout()\n",
    "plt.show()"
   ]
  },
  {
   "cell_type": "code",
   "execution_count": 11,
   "metadata": {
    "ExecuteTime": {
     "end_time": "2020-10-22T08:59:27.778974Z",
     "start_time": "2020-10-22T08:59:27.774070Z"
    },
    "id": "AhvpyUO_hRW4"
   },
   "outputs": [],
   "source": [
    "fig.canvas.toolbar_position = 'right'"
   ]
  },
  {
   "cell_type": "code",
   "execution_count": 12,
   "metadata": {
    "ExecuteTime": {
     "end_time": "2020-10-22T08:59:31.597431Z",
     "start_time": "2020-10-22T08:59:31.592925Z"
    },
    "id": "WD_Kd3CWhS0-"
   },
   "outputs": [],
   "source": [
    "fig.canvas.toolbar_visible = False"
   ]
  },
  {
   "cell_type": "code",
   "execution_count": 13,
   "metadata": {
    "ExecuteTime": {
     "end_time": "2020-10-22T08:59:33.116751Z",
     "start_time": "2020-10-22T08:59:33.032284Z"
    },
    "colab": {
     "base_uri": "https://localhost:8080/",
     "height": 17,
     "referenced_widgets": [
      "e2ef5db2c1d84619931f33e0c69fe7e8",
      "07b277516a9949959cd310c9cbc2d5f7",
      "c029dfd26d3640ceaadfa8850534ce94",
      "0cf1b691ca7a418f918b916b0a773113",
      "c4cea3863c9c4f3ebc1e66bef390b88b",
      "69ff8e7ac5ec41a29ffd99a8ab3914bf"
     ]
    },
    "id": "eo4of2UzhTDl",
    "outputId": "247e168d-458d-4656-86b4-643375e5ea46"
   },
   "outputs": [
    {
     "data": {
      "application/vnd.jupyter.widget-view+json": {
       "model_id": "9ebd15bb92884d249cfd0b64e7789236",
       "version_major": 2,
       "version_minor": 0
      },
      "text/plain": [
       "Canvas(toolbar=Toolbar(toolitems=[('Home', 'Reset original view', 'home', 'home'), ('Back', 'Back to previous …"
      ]
     },
     "metadata": {},
     "output_type": "display_data"
    },
    {
     "data": {
      "application/vnd.jupyter.widget-view+json": {
       "model_id": "5a7614344dbf483e98bb647aec32c744",
       "version_major": 2,
       "version_minor": 0
      },
      "text/plain": [
       "AppLayout(children=(Button(icon='check', layout=Layout(grid_area='footer'), style=ButtonStyle()), Canvas(layou…"
      ]
     },
     "metadata": {},
     "output_type": "display_data"
    }
   ],
   "source": [
    "import ipywidgets as widgets\n",
    "\n",
    "# ensure we are interactive mode \n",
    "# this is default but if this notebook is executed out of order it may have been turned off\n",
    "plt.ion()\n",
    "\n",
    "\n",
    "fig = plt.figure()\n",
    "ax = fig.gca()\n",
    "ax.imshow(Z)\n",
    "\n",
    "widgets.AppLayout(\n",
    "    center=fig.canvas,\n",
    "    footer=widgets.Button(icon='check'),\n",
    "    pane_heights=[0, 6, 1]\n",
    ")"
   ]
  },
  {
   "cell_type": "code",
   "execution_count": 14,
   "metadata": {
    "ExecuteTime": {
     "end_time": "2020-10-22T08:59:47.956522Z",
     "start_time": "2020-10-22T08:59:47.883118Z"
    },
    "colab": {
     "base_uri": "https://localhost:8080/",
     "height": 17,
     "referenced_widgets": [
      "64082c1a68894d4c854585007a82e2aa",
      "15cb268342e94ec7a52d53d66cf5e8f2",
      "aac7fd82459044738394842a28168d64",
      "f67fa58b3427486aa8d4f0235c37f5bc",
      "be8cd4ca073f49d9b9582d2e759d2826",
      "57a00cdbc6f748c1873b1c2f15c72337"
     ]
    },
    "id": "8y8DJxB5hW0F",
    "outputId": "943a9efc-6fd0-4b00-fc78-9d7321778669"
   },
   "outputs": [
    {
     "data": {
      "application/vnd.jupyter.widget-view+json": {
       "model_id": "5cc693bb4a9244ec8e8c255ef6232352",
       "version_major": 2,
       "version_minor": 0
      },
      "text/plain": [
       "AppLayout(children=(Button(icon='check', layout=Layout(grid_area='footer'), style=ButtonStyle()), Canvas(layou…"
      ]
     },
     "metadata": {},
     "output_type": "display_data"
    }
   ],
   "source": [
    "plt.ioff()\n",
    "fig = plt.figure()\n",
    "plt.ion()\n",
    "\n",
    "ax = fig.gca()\n",
    "ax.imshow(Z)\n",
    "\n",
    "widgets.AppLayout(\n",
    "    center=fig.canvas,\n",
    "    footer=widgets.Button(icon='check'),\n",
    "    pane_heights=[0, 6, 1]\n",
    ")"
   ]
  },
  {
   "cell_type": "code",
   "execution_count": 15,
   "metadata": {
    "ExecuteTime": {
     "end_time": "2020-10-22T08:59:50.643081Z",
     "start_time": "2020-10-22T08:59:50.551837Z"
    },
    "colab": {
     "base_uri": "https://localhost:8080/",
     "height": 241,
     "referenced_widgets": [
      "c611ae47fd0f463d971c52bb5c986a22",
      "6e0022135b1a4b4a9b75c2e42db3e332",
      "431ed5fd84fe4ac3baabaabc655cd604",
      "89811e16a23240e8b7339fb3ec12f2a9",
      "52756e4ab4b7415cbd4bd3dea5b4e43e",
      "2491539f22244069b1ad3430d12524ea",
      "c42e573be7444fa08d1c4bd8e4bd2883",
      "72299f0f90854db2a594f2d9c990f396"
     ]
    },
    "id": "pS6yBj90hZW9",
    "outputId": "96922105-6fb2-496b-b558-35c3d1d28eb0"
   },
   "outputs": [
    {
     "data": {
      "application/vnd.jupyter.widget-view+json": {
       "model_id": "7d7d6835ae3a4ca68cf602186dd18fea",
       "version_major": 2,
       "version_minor": 0
      },
      "text/plain": [
       "AppLayout(children=(Button(icon='check', layout=Layout(grid_area='footer'), style=ButtonStyle()), Output(layou…"
      ]
     },
     "metadata": {},
     "output_type": "display_data"
    }
   ],
   "source": [
    "out = widgets.Output()\n",
    "with out:\n",
    "    fig = plt.figure()\n",
    "\n",
    "ax = fig.gca()\n",
    "ax.imshow(Z)\n",
    "\n",
    "widgets.AppLayout(\n",
    "    center=out,\n",
    "    footer=widgets.Button(icon='check'),\n",
    "    pane_heights=[0, 6, 1]\n",
    ")"
   ]
  },
  {
   "cell_type": "code",
   "execution_count": 16,
   "metadata": {
    "ExecuteTime": {
     "end_time": "2020-10-22T08:59:52.646271Z",
     "start_time": "2020-10-22T08:59:52.570712Z"
    },
    "colab": {
     "base_uri": "https://localhost:8080/",
     "height": 17,
     "referenced_widgets": [
      "40518fd330a34b4f885dea3e789c3cd8",
      "707b56d76f9f4608a40183a1ad4655a0",
      "4e2f446fbafc4a7197340e424e64471c",
      "84ce20c8e6a345b79a7337ba0a4fd3f8",
      "8e8f9389a82947c89eb5b2d5a5df6dad",
      "9a6ca9c0c0d5467091af38a95695c4fe"
     ]
    },
    "id": "Q3es12Nahama",
    "outputId": "761531f8-d294-402d-a989-92e7c5f57b7e"
   },
   "outputs": [
    {
     "data": {
      "application/vnd.jupyter.widget-view+json": {
       "model_id": "2a6e9733a61a487ab27f4d20003f6cd7",
       "version_major": 2,
       "version_minor": 0
      },
      "text/plain": [
       "AppLayout(children=(FloatSlider(value=1.0, description='Factor:', layout=Layout(grid_area='footer', margin='0p…"
      ]
     },
     "metadata": {},
     "output_type": "display_data"
    }
   ],
   "source": [
    "from ipywidgets import AppLayout, FloatSlider\n",
    "\n",
    "plt.ioff()\n",
    "\n",
    "slider = FloatSlider(\n",
    "    orientation='horizontal',\n",
    "    description='Factor:',\n",
    "    value=1.0,\n",
    "    min=0.02,\n",
    "    max=2.0\n",
    ")\n",
    "\n",
    "slider.layout.margin = '0px 30% 0px 30%'\n",
    "slider.layout.width = '40%'\n",
    "\n",
    "fig = plt.figure()\n",
    "fig.canvas.header_visible = False\n",
    "fig.canvas.layout.min_height = '400px'\n",
    "plt.title('Plotting: y=sin({} * x)'.format(slider.value))\n",
    "\n",
    "x = np.linspace(0, 20, 500)\n",
    "\n",
    "lines = plt.plot(x, np.sin(slider.value * x))\n",
    "\n",
    "def update_lines(change):\n",
    "    plt.title('Plotting: y=sin({} * x)'.format(change.new))\n",
    "    lines[0].set_data(x, np.sin(change.new * x))\n",
    "    fig.canvas.draw()\n",
    "    fig.canvas.flush_events()\n",
    "\n",
    "slider.observe(update_lines, names='value')\n",
    "\n",
    "AppLayout(\n",
    "    center=fig.canvas,\n",
    "    footer=slider,\n",
    "    pane_heights=[0, 6, 1]\n",
    ")"
   ]
  },
  {
   "cell_type": "code",
   "execution_count": 17,
   "metadata": {
    "ExecuteTime": {
     "end_time": "2020-10-22T08:59:54.270929Z",
     "start_time": "2020-10-22T08:59:54.194033Z"
    },
    "id": "Nj_Ux1xHhdY-"
   },
   "outputs": [],
   "source": [
    "# precomputing all images\n",
    "x = np.linspace(0,np.pi,200)\n",
    "y = np.linspace(0,10,200)\n",
    "X,Y = np.meshgrid(x,y)\n",
    "parameter = np.linspace(-5,5)\n",
    "example_image_stack = np.sin(X)[None,:,:]+np.exp(np.cos(Y[None,:,:]*parameter[:,None,None]))"
   ]
  },
  {
   "cell_type": "code",
   "execution_count": 18,
   "metadata": {
    "ExecuteTime": {
     "end_time": "2020-10-22T08:59:54.885543Z",
     "start_time": "2020-10-22T08:59:54.818423Z"
    },
    "colab": {
     "base_uri": "https://localhost:8080/",
     "height": 17,
     "referenced_widgets": [
      "57bb8ffafe1c438c8f53103bcfcef9b4",
      "db8cf5a86a084797926429ad2f739e53",
      "34bb831d63574a6d86468d31743f7a2d",
      "13568252a49b47ecb6b25c1468f25b94",
      "c460ef0ff0474ed6a97692f67d7f4ccb",
      "6d372e0e91d5454b89061b8b6bee8fe9"
     ]
    },
    "id": "CJsryGZ7he5o",
    "outputId": "1a87d6f0-4a95-4883-d73c-7a1bebcc6fd7"
   },
   "outputs": [
    {
     "data": {
      "application/vnd.jupyter.widget-view+json": {
       "model_id": "f3e5d6c480a2458984210d518c5ef9d4",
       "version_major": 2,
       "version_minor": 0
      },
      "text/plain": [
       "VBox(children=(IntSlider(value=0, max=49), Canvas(toolbar=Toolbar(toolitems=[('Home', 'Reset original view', '…"
      ]
     },
     "metadata": {},
     "output_type": "display_data"
    }
   ],
   "source": [
    "plt.ioff()\n",
    "fig = plt.figure()\n",
    "plt.ion()\n",
    "im = plt.imshow(example_image_stack[0])\n",
    "\n",
    "def update(change):\n",
    "    im.set_data(example_image_stack[change['new']])\n",
    "    fig.canvas.draw_idle()\n",
    "    \n",
    "    \n",
    "slider = widgets.IntSlider(value=0, min=0, max=len(parameter)-1)\n",
    "slider.observe(update, names='value')\n",
    "widgets.VBox([slider, fig.canvas])"
   ]
  },
  {
   "cell_type": "code",
   "execution_count": 19,
   "metadata": {
    "ExecuteTime": {
     "end_time": "2020-10-22T08:59:56.818038Z",
     "start_time": "2020-10-22T08:59:56.735728Z"
    },
    "colab": {
     "base_uri": "https://localhost:8080/",
     "height": 17,
     "referenced_widgets": [
      "d28588bb568a4fb1b5a8335070e77296",
      "f2bfcf62a7a643d7bf1049f4989c7373",
      "aa11af9c883741a7960fdeb84bac9a6a",
      "f2616e2897a44d5580269e2241acff5a",
      "dfcbb3dc571a45eab46cc0d1bcf7dfa7",
      "75b93fdf9d494d198d919b6f50688064",
      "562116d3d5b347aa91ec4be8ff2f860f",
      "5330239c2b0d463e82e0c5fd4061b413"
     ]
    },
    "id": "rps0lWcVhg3_",
    "outputId": "ca90c21d-c73c-4c52-d2a6-7cc0509c9f1c"
   },
   "outputs": [
    {
     "data": {
      "application/vnd.jupyter.widget-view+json": {
       "model_id": "c78997247e744dc293052b0f17d07c04",
       "version_major": 2,
       "version_minor": 0
      },
      "text/plain": [
       "VBox(children=(IntSlider(value=0, max=60), Canvas(toolbar=Toolbar(toolitems=[('Home', 'Reset original view', '…"
      ]
     },
     "metadata": {},
     "output_type": "display_data"
    },
    {
     "data": {
      "application/vnd.jupyter.widget-view+json": {
       "model_id": "50fe1463eeb149ac8cc69285224f068e",
       "version_major": 2,
       "version_minor": 0
      },
      "text/plain": [
       "Output()"
      ]
     },
     "metadata": {},
     "output_type": "display_data"
    }
   ],
   "source": [
    "plt.ioff()\n",
    "fig = plt.figure()\n",
    "plt.ion()\n",
    "im = plt.imshow(example_image_stack[0])\n",
    "\n",
    "out = widgets.Output()\n",
    "@out.capture()\n",
    "def update(change):\n",
    "    with out:\n",
    "        if change['name'] == 'value':\n",
    "            im.set_data(example_image_stack[change['new']])\n",
    "            fig.canvas.draw_idle\n",
    "    \n",
    "    \n",
    "slider = widgets.IntSlider(value=0, min=0, max=len(parameter)+10)\n",
    "slider.observe(update)\n",
    "display(widgets.VBox([slider, fig.canvas]))\n",
    "display(out)"
   ]
  }
 ],
 "metadata": {
  "colab": {
   "name": "Jupyter interactive widgets framework.ipynb",
   "provenance": []
  },
  "hide_input": false,
  "kernelspec": {
   "display_name": "Python 3",
   "language": "python",
   "name": "python3"
  },
  "language_info": {
   "codemirror_mode": {
    "name": "ipython",
    "version": 3
   },
   "file_extension": ".py",
   "mimetype": "text/x-python",
   "name": "python",
   "nbconvert_exporter": "python",
   "pygments_lexer": "ipython3",
   "version": "3.7.3"
  },
  "varInspector": {
   "cols": {
    "lenName": 16,
    "lenType": 16,
    "lenVar": 40
   },
   "kernels_config": {
    "python": {
     "delete_cmd_postfix": "",
     "delete_cmd_prefix": "del ",
     "library": "var_list.py",
     "varRefreshCmd": "print(var_dic_list())"
    },
    "r": {
     "delete_cmd_postfix": ") ",
     "delete_cmd_prefix": "rm(",
     "library": "var_list.r",
     "varRefreshCmd": "cat(var_dic_list()) "
    }
   },
   "types_to_exclude": [
    "module",
    "function",
    "builtin_function_or_method",
    "instance",
    "_Feature"
   ],
   "window_display": false
  },
  "widgets": {
   "application/vnd.jupyter.widget-state+json": {
    "07b277516a9949959cd310c9cbc2d5f7": {
     "model_module": "@jupyter-widgets/controls",
     "model_name": "GridBoxModel",
     "state": {
      "_dom_classes": [],
      "_model_module": "@jupyter-widgets/controls",
      "_model_module_version": "1.5.0",
      "_model_name": "GridBoxModel",
      "_view_count": null,
      "_view_module": "@jupyter-widgets/controls",
      "_view_module_version": "1.5.0",
      "_view_name": "GridBoxView",
      "box_style": "",
      "children": [
       "IPY_MODEL_0cf1b691ca7a418f918b916b0a773113",
       "IPY_MODEL_e2ef5db2c1d84619931f33e0c69fe7e8"
      ],
      "layout": "IPY_MODEL_c029dfd26d3640ceaadfa8850534ce94"
     }
    },
    "0cf1b691ca7a418f918b916b0a773113": {
     "model_module": "@jupyter-widgets/controls",
     "model_name": "ButtonModel",
     "state": {
      "_dom_classes": [],
      "_model_module": "@jupyter-widgets/controls",
      "_model_module_version": "1.5.0",
      "_model_name": "ButtonModel",
      "_view_count": null,
      "_view_module": "@jupyter-widgets/controls",
      "_view_module_version": "1.5.0",
      "_view_name": "ButtonView",
      "button_style": "",
      "description": "",
      "disabled": false,
      "icon": "check",
      "layout": "IPY_MODEL_69ff8e7ac5ec41a29ffd99a8ab3914bf",
      "style": "IPY_MODEL_c4cea3863c9c4f3ebc1e66bef390b88b",
      "tooltip": ""
     }
    },
    "13568252a49b47ecb6b25c1468f25b94": {
     "model_module": "jupyter-matplotlib",
     "model_name": "MPLCanvasModel",
     "state": {
      "_cursor": "pointer",
      "_dom_classes": [],
      "_figure_label": "Figure",
      "_height": 0,
      "_image_mode": "full",
      "_message": "",
      "_model_module": "jupyter-matplotlib",
      "_model_module_version": "^0.7.4",
      "_model_name": "MPLCanvasModel",
      "_rubberband_height": 0,
      "_rubberband_width": 0,
      "_rubberband_x": 0,
      "_rubberband_y": 0,
      "_view_count": null,
      "_view_module": "jupyter-matplotlib",
      "_view_module_version": "^0.7.4",
      "_view_name": "MPLCanvasView",
      "_width": 0,
      "capture_scroll": false,
      "footer_visible": true,
      "header_visible": true,
      "layout": "IPY_MODEL_19c02da73d1c4290886e722c8b99ecec",
      "resizable": true,
      "toolbar": "IPY_MODEL_2b5c630e613e4a9b863019e9b76504aa",
      "toolbar_position": "left",
      "toolbar_visible": true
     }
    },
    "15cb268342e94ec7a52d53d66cf5e8f2": {
     "model_module": "@jupyter-widgets/base",
     "model_name": "LayoutModel",
     "state": {
      "_model_module": "@jupyter-widgets/base",
      "_model_module_version": "1.2.0",
      "_model_name": "LayoutModel",
      "_view_count": null,
      "_view_module": "@jupyter-widgets/base",
      "_view_module_version": "1.2.0",
      "_view_name": "LayoutView",
      "align_content": null,
      "align_items": null,
      "align_self": null,
      "border": null,
      "bottom": null,
      "display": null,
      "flex": null,
      "flex_flow": null,
      "grid_area": null,
      "grid_auto_columns": null,
      "grid_auto_flow": null,
      "grid_auto_rows": null,
      "grid_column": null,
      "grid_gap": null,
      "grid_row": null,
      "grid_template_areas": "\"center center center\"\n\"footer footer footer\"",
      "grid_template_columns": "1fr 2fr 1fr",
      "grid_template_rows": "6fr 1fr",
      "height": null,
      "justify_content": null,
      "justify_items": null,
      "left": null,
      "margin": null,
      "max_height": null,
      "max_width": null,
      "min_height": null,
      "min_width": null,
      "object_fit": null,
      "object_position": null,
      "order": null,
      "overflow": null,
      "overflow_x": null,
      "overflow_y": null,
      "padding": null,
      "right": null,
      "top": null,
      "visibility": null,
      "width": null
     }
    },
    "2491539f22244069b1ad3430d12524ea": {
     "model_module": "@jupyter-widgets/base",
     "model_name": "LayoutModel",
     "state": {
      "_model_module": "@jupyter-widgets/base",
      "_model_module_version": "1.2.0",
      "_model_name": "LayoutModel",
      "_view_count": null,
      "_view_module": "@jupyter-widgets/base",
      "_view_module_version": "1.2.0",
      "_view_name": "LayoutView",
      "align_content": null,
      "align_items": null,
      "align_self": null,
      "border": null,
      "bottom": null,
      "display": null,
      "flex": null,
      "flex_flow": null,
      "grid_area": "footer",
      "grid_auto_columns": null,
      "grid_auto_flow": null,
      "grid_auto_rows": null,
      "grid_column": null,
      "grid_gap": null,
      "grid_row": null,
      "grid_template_areas": null,
      "grid_template_columns": null,
      "grid_template_rows": null,
      "height": null,
      "justify_content": null,
      "justify_items": null,
      "left": null,
      "margin": null,
      "max_height": null,
      "max_width": null,
      "min_height": null,
      "min_width": null,
      "object_fit": null,
      "object_position": null,
      "order": null,
      "overflow": null,
      "overflow_x": null,
      "overflow_y": null,
      "padding": null,
      "right": null,
      "top": null,
      "visibility": null,
      "width": null
     }
    },
    "2a816a4876344f85b07210dc7b0f694b": {
     "model_module": "jupyter-matplotlib",
     "model_name": "MPLCanvasModel",
     "state": {
      "_cursor": "pointer",
      "_dom_classes": [],
      "_figure_label": "Figure",
      "_height": 0,
      "_image_mode": "full",
      "_message": "",
      "_model_module": "jupyter-matplotlib",
      "_model_module_version": "^0.7.4",
      "_model_name": "MPLCanvasModel",
      "_rubberband_height": 0,
      "_rubberband_width": 0,
      "_rubberband_x": 0,
      "_rubberband_y": 0,
      "_view_count": null,
      "_view_module": "jupyter-matplotlib",
      "_view_module_version": "^0.7.4",
      "_view_name": "MPLCanvasView",
      "_width": 0,
      "capture_scroll": true,
      "footer_visible": false,
      "header_visible": false,
      "layout": "IPY_MODEL_f0bd309dadfb4c04880e4bdb32a2f06c",
      "resizable": false,
      "toolbar": "IPY_MODEL_8bd28e75d90f4cd58fdbeef8a8c91aca",
      "toolbar_position": "left",
      "toolbar_visible": true
     }
    },
    "34bb831d63574a6d86468d31743f7a2d": {
     "model_module": "@jupyter-widgets/controls",
     "model_name": "IntSliderModel",
     "state": {
      "_dom_classes": [],
      "_model_module": "@jupyter-widgets/controls",
      "_model_module_version": "1.5.0",
      "_model_name": "IntSliderModel",
      "_view_count": null,
      "_view_module": "@jupyter-widgets/controls",
      "_view_module_version": "1.5.0",
      "_view_name": "IntSliderView",
      "continuous_update": true,
      "description": "",
      "description_tooltip": null,
      "disabled": false,
      "layout": "IPY_MODEL_6d372e0e91d5454b89061b8b6bee8fe9",
      "max": 49,
      "min": 0,
      "orientation": "horizontal",
      "readout": true,
      "readout_format": "d",
      "step": 1,
      "style": "IPY_MODEL_c460ef0ff0474ed6a97692f67d7f4ccb",
      "value": 0
     }
    },
    "40518fd330a34b4f885dea3e789c3cd8": {
     "model_module": "@jupyter-widgets/controls",
     "model_name": "GridBoxModel",
     "state": {
      "_dom_classes": [],
      "_model_module": "@jupyter-widgets/controls",
      "_model_module_version": "1.5.0",
      "_model_name": "GridBoxModel",
      "_view_count": null,
      "_view_module": "@jupyter-widgets/controls",
      "_view_module_version": "1.5.0",
      "_view_name": "GridBoxView",
      "box_style": "",
      "children": [
       "IPY_MODEL_4e2f446fbafc4a7197340e424e64471c",
       "IPY_MODEL_84ce20c8e6a345b79a7337ba0a4fd3f8"
      ],
      "layout": "IPY_MODEL_707b56d76f9f4608a40183a1ad4655a0"
     }
    },
    "431ed5fd84fe4ac3baabaabc655cd604": {
     "model_module": "@jupyter-widgets/controls",
     "model_name": "ButtonModel",
     "state": {
      "_dom_classes": [],
      "_model_module": "@jupyter-widgets/controls",
      "_model_module_version": "1.5.0",
      "_model_name": "ButtonModel",
      "_view_count": null,
      "_view_module": "@jupyter-widgets/controls",
      "_view_module_version": "1.5.0",
      "_view_name": "ButtonView",
      "button_style": "",
      "description": "",
      "disabled": false,
      "icon": "check",
      "layout": "IPY_MODEL_2491539f22244069b1ad3430d12524ea",
      "style": "IPY_MODEL_52756e4ab4b7415cbd4bd3dea5b4e43e",
      "tooltip": ""
     }
    },
    "4e2f446fbafc4a7197340e424e64471c": {
     "model_module": "@jupyter-widgets/controls",
     "model_name": "FloatSliderModel",
     "state": {
      "_dom_classes": [],
      "_model_module": "@jupyter-widgets/controls",
      "_model_module_version": "1.5.0",
      "_model_name": "FloatSliderModel",
      "_view_count": null,
      "_view_module": "@jupyter-widgets/controls",
      "_view_module_version": "1.5.0",
      "_view_name": "FloatSliderView",
      "continuous_update": true,
      "description": "Factor:",
      "description_tooltip": null,
      "disabled": false,
      "layout": "IPY_MODEL_9a6ca9c0c0d5467091af38a95695c4fe",
      "max": 2,
      "min": 0.02,
      "orientation": "horizontal",
      "readout": true,
      "readout_format": ".2f",
      "step": 0.1,
      "style": "IPY_MODEL_8e8f9389a82947c89eb5b2d5a5df6dad",
      "value": 1
     }
    },
    "52756e4ab4b7415cbd4bd3dea5b4e43e": {
     "model_module": "@jupyter-widgets/controls",
     "model_name": "ButtonStyleModel",
     "state": {
      "_model_module": "@jupyter-widgets/controls",
      "_model_module_version": "1.5.0",
      "_model_name": "ButtonStyleModel",
      "_view_count": null,
      "_view_module": "@jupyter-widgets/base",
      "_view_module_version": "1.2.0",
      "_view_name": "StyleView",
      "button_color": null,
      "font_weight": ""
     }
    },
    "5330239c2b0d463e82e0c5fd4061b413": {
     "model_module": "@jupyter-widgets/base",
     "model_name": "LayoutModel",
     "state": {
      "_model_module": "@jupyter-widgets/base",
      "_model_module_version": "1.2.0",
      "_model_name": "LayoutModel",
      "_view_count": null,
      "_view_module": "@jupyter-widgets/base",
      "_view_module_version": "1.2.0",
      "_view_name": "LayoutView",
      "align_content": null,
      "align_items": null,
      "align_self": null,
      "border": null,
      "bottom": null,
      "display": null,
      "flex": null,
      "flex_flow": null,
      "grid_area": null,
      "grid_auto_columns": null,
      "grid_auto_flow": null,
      "grid_auto_rows": null,
      "grid_column": null,
      "grid_gap": null,
      "grid_row": null,
      "grid_template_areas": null,
      "grid_template_columns": null,
      "grid_template_rows": null,
      "height": null,
      "justify_content": null,
      "justify_items": null,
      "left": null,
      "margin": null,
      "max_height": null,
      "max_width": null,
      "min_height": null,
      "min_width": null,
      "object_fit": null,
      "object_position": null,
      "order": null,
      "overflow": null,
      "overflow_x": null,
      "overflow_y": null,
      "padding": null,
      "right": null,
      "top": null,
      "visibility": null,
      "width": null
     }
    },
    "562116d3d5b347aa91ec4be8ff2f860f": {
     "model_module": "@jupyter-widgets/output",
     "model_name": "OutputModel",
     "state": {
      "_dom_classes": [],
      "_model_module": "@jupyter-widgets/output",
      "_model_module_version": "1.0.0",
      "_model_name": "OutputModel",
      "_view_count": null,
      "_view_module": "@jupyter-widgets/output",
      "_view_module_version": "1.0.0",
      "_view_name": "OutputView",
      "layout": "IPY_MODEL_5330239c2b0d463e82e0c5fd4061b413",
      "msg_id": "",
      "outputs": []
     }
    },
    "57a00cdbc6f748c1873b1c2f15c72337": {
     "model_module": "@jupyter-widgets/base",
     "model_name": "LayoutModel",
     "state": {
      "_model_module": "@jupyter-widgets/base",
      "_model_module_version": "1.2.0",
      "_model_name": "LayoutModel",
      "_view_count": null,
      "_view_module": "@jupyter-widgets/base",
      "_view_module_version": "1.2.0",
      "_view_name": "LayoutView",
      "align_content": null,
      "align_items": null,
      "align_self": null,
      "border": null,
      "bottom": null,
      "display": null,
      "flex": null,
      "flex_flow": null,
      "grid_area": "footer",
      "grid_auto_columns": null,
      "grid_auto_flow": null,
      "grid_auto_rows": null,
      "grid_column": null,
      "grid_gap": null,
      "grid_row": null,
      "grid_template_areas": null,
      "grid_template_columns": null,
      "grid_template_rows": null,
      "height": null,
      "justify_content": null,
      "justify_items": null,
      "left": null,
      "margin": null,
      "max_height": null,
      "max_width": null,
      "min_height": null,
      "min_width": null,
      "object_fit": null,
      "object_position": null,
      "order": null,
      "overflow": null,
      "overflow_x": null,
      "overflow_y": null,
      "padding": null,
      "right": null,
      "top": null,
      "visibility": null,
      "width": null
     }
    },
    "57bb8ffafe1c438c8f53103bcfcef9b4": {
     "model_module": "@jupyter-widgets/controls",
     "model_name": "VBoxModel",
     "state": {
      "_dom_classes": [],
      "_model_module": "@jupyter-widgets/controls",
      "_model_module_version": "1.5.0",
      "_model_name": "VBoxModel",
      "_view_count": null,
      "_view_module": "@jupyter-widgets/controls",
      "_view_module_version": "1.5.0",
      "_view_name": "VBoxView",
      "box_style": "",
      "children": [
       "IPY_MODEL_34bb831d63574a6d86468d31743f7a2d",
       "IPY_MODEL_13568252a49b47ecb6b25c1468f25b94"
      ],
      "layout": "IPY_MODEL_db8cf5a86a084797926429ad2f739e53"
     }
    },
    "61d57c7af0034d8a8697396c7c472eaa": {
     "model_module": "jupyter-matplotlib",
     "model_name": "MPLCanvasModel",
     "state": {
      "_cursor": "pointer",
      "_dom_classes": [],
      "_figure_label": "Figure",
      "_height": 0,
      "_image_mode": "full",
      "_message": "",
      "_model_module": "jupyter-matplotlib",
      "_model_module_version": "^0.7.4",
      "_model_name": "MPLCanvasModel",
      "_rubberband_height": 0,
      "_rubberband_width": 0,
      "_rubberband_x": 0,
      "_rubberband_y": 0,
      "_view_count": null,
      "_view_module": "jupyter-matplotlib",
      "_view_module_version": "^0.7.4",
      "_view_name": "MPLCanvasView",
      "_width": 0,
      "capture_scroll": false,
      "footer_visible": true,
      "header_visible": true,
      "layout": "IPY_MODEL_23a8d3c5bc2e41e9bf3853207fac5595",
      "resizable": true,
      "toolbar": "IPY_MODEL_d587dc1279e4403d87a8556ca65f82da",
      "toolbar_position": "right",
      "toolbar_visible": false
     }
    },
    "637ba0d9bcf549088789553adf4525fd": {
     "model_module": "jupyter-matplotlib",
     "model_name": "MPLCanvasModel",
     "state": {
      "_cursor": "pointer",
      "_dom_classes": [],
      "_figure_label": "Figure",
      "_height": 0,
      "_image_mode": "full",
      "_message": "",
      "_model_module": "jupyter-matplotlib",
      "_model_module_version": "^0.7.4",
      "_model_name": "MPLCanvasModel",
      "_rubberband_height": 0,
      "_rubberband_width": 0,
      "_rubberband_x": 0,
      "_rubberband_y": 0,
      "_view_count": null,
      "_view_module": "jupyter-matplotlib",
      "_view_module_version": "^0.7.4",
      "_view_name": "MPLCanvasView",
      "_width": 0,
      "capture_scroll": false,
      "footer_visible": true,
      "header_visible": true,
      "layout": "IPY_MODEL_69d5f426cf234450a2da64f90b71c12f",
      "resizable": true,
      "toolbar": "IPY_MODEL_38598128565b475bb9eebbc0d8297fbf",
      "toolbar_position": "left",
      "toolbar_visible": true
     }
    },
    "64082c1a68894d4c854585007a82e2aa": {
     "model_module": "@jupyter-widgets/controls",
     "model_name": "GridBoxModel",
     "state": {
      "_dom_classes": [],
      "_model_module": "@jupyter-widgets/controls",
      "_model_module_version": "1.5.0",
      "_model_name": "GridBoxModel",
      "_view_count": null,
      "_view_module": "@jupyter-widgets/controls",
      "_view_module_version": "1.5.0",
      "_view_name": "GridBoxView",
      "box_style": "",
      "children": [
       "IPY_MODEL_aac7fd82459044738394842a28168d64",
       "IPY_MODEL_f67fa58b3427486aa8d4f0235c37f5bc"
      ],
      "layout": "IPY_MODEL_15cb268342e94ec7a52d53d66cf5e8f2"
     }
    },
    "69ff8e7ac5ec41a29ffd99a8ab3914bf": {
     "model_module": "@jupyter-widgets/base",
     "model_name": "LayoutModel",
     "state": {
      "_model_module": "@jupyter-widgets/base",
      "_model_module_version": "1.2.0",
      "_model_name": "LayoutModel",
      "_view_count": null,
      "_view_module": "@jupyter-widgets/base",
      "_view_module_version": "1.2.0",
      "_view_name": "LayoutView",
      "align_content": null,
      "align_items": null,
      "align_self": null,
      "border": null,
      "bottom": null,
      "display": null,
      "flex": null,
      "flex_flow": null,
      "grid_area": "footer",
      "grid_auto_columns": null,
      "grid_auto_flow": null,
      "grid_auto_rows": null,
      "grid_column": null,
      "grid_gap": null,
      "grid_row": null,
      "grid_template_areas": null,
      "grid_template_columns": null,
      "grid_template_rows": null,
      "height": null,
      "justify_content": null,
      "justify_items": null,
      "left": null,
      "margin": null,
      "max_height": null,
      "max_width": null,
      "min_height": null,
      "min_width": null,
      "object_fit": null,
      "object_position": null,
      "order": null,
      "overflow": null,
      "overflow_x": null,
      "overflow_y": null,
      "padding": null,
      "right": null,
      "top": null,
      "visibility": null,
      "width": null
     }
    },
    "6d372e0e91d5454b89061b8b6bee8fe9": {
     "model_module": "@jupyter-widgets/base",
     "model_name": "LayoutModel",
     "state": {
      "_model_module": "@jupyter-widgets/base",
      "_model_module_version": "1.2.0",
      "_model_name": "LayoutModel",
      "_view_count": null,
      "_view_module": "@jupyter-widgets/base",
      "_view_module_version": "1.2.0",
      "_view_name": "LayoutView",
      "align_content": null,
      "align_items": null,
      "align_self": null,
      "border": null,
      "bottom": null,
      "display": null,
      "flex": null,
      "flex_flow": null,
      "grid_area": null,
      "grid_auto_columns": null,
      "grid_auto_flow": null,
      "grid_auto_rows": null,
      "grid_column": null,
      "grid_gap": null,
      "grid_row": null,
      "grid_template_areas": null,
      "grid_template_columns": null,
      "grid_template_rows": null,
      "height": null,
      "justify_content": null,
      "justify_items": null,
      "left": null,
      "margin": null,
      "max_height": null,
      "max_width": null,
      "min_height": null,
      "min_width": null,
      "object_fit": null,
      "object_position": null,
      "order": null,
      "overflow": null,
      "overflow_x": null,
      "overflow_y": null,
      "padding": null,
      "right": null,
      "top": null,
      "visibility": null,
      "width": null
     }
    },
    "6e0022135b1a4b4a9b75c2e42db3e332": {
     "model_module": "@jupyter-widgets/base",
     "model_name": "LayoutModel",
     "state": {
      "_model_module": "@jupyter-widgets/base",
      "_model_module_version": "1.2.0",
      "_model_name": "LayoutModel",
      "_view_count": null,
      "_view_module": "@jupyter-widgets/base",
      "_view_module_version": "1.2.0",
      "_view_name": "LayoutView",
      "align_content": null,
      "align_items": null,
      "align_self": null,
      "border": null,
      "bottom": null,
      "display": null,
      "flex": null,
      "flex_flow": null,
      "grid_area": null,
      "grid_auto_columns": null,
      "grid_auto_flow": null,
      "grid_auto_rows": null,
      "grid_column": null,
      "grid_gap": null,
      "grid_row": null,
      "grid_template_areas": "\"center center center\"\n\"footer footer footer\"",
      "grid_template_columns": "1fr 2fr 1fr",
      "grid_template_rows": "6fr 1fr",
      "height": null,
      "justify_content": null,
      "justify_items": null,
      "left": null,
      "margin": null,
      "max_height": null,
      "max_width": null,
      "min_height": null,
      "min_width": null,
      "object_fit": null,
      "object_position": null,
      "order": null,
      "overflow": null,
      "overflow_x": null,
      "overflow_y": null,
      "padding": null,
      "right": null,
      "top": null,
      "visibility": null,
      "width": null
     }
    },
    "707b56d76f9f4608a40183a1ad4655a0": {
     "model_module": "@jupyter-widgets/base",
     "model_name": "LayoutModel",
     "state": {
      "_model_module": "@jupyter-widgets/base",
      "_model_module_version": "1.2.0",
      "_model_name": "LayoutModel",
      "_view_count": null,
      "_view_module": "@jupyter-widgets/base",
      "_view_module_version": "1.2.0",
      "_view_name": "LayoutView",
      "align_content": null,
      "align_items": null,
      "align_self": null,
      "border": null,
      "bottom": null,
      "display": null,
      "flex": null,
      "flex_flow": null,
      "grid_area": null,
      "grid_auto_columns": null,
      "grid_auto_flow": null,
      "grid_auto_rows": null,
      "grid_column": null,
      "grid_gap": null,
      "grid_row": null,
      "grid_template_areas": "\"center center center\"\n\"footer footer footer\"",
      "grid_template_columns": "1fr 2fr 1fr",
      "grid_template_rows": "6fr 1fr",
      "height": null,
      "justify_content": null,
      "justify_items": null,
      "left": null,
      "margin": null,
      "max_height": null,
      "max_width": null,
      "min_height": null,
      "min_width": null,
      "object_fit": null,
      "object_position": null,
      "order": null,
      "overflow": null,
      "overflow_x": null,
      "overflow_y": null,
      "padding": null,
      "right": null,
      "top": null,
      "visibility": null,
      "width": null
     }
    },
    "72299f0f90854db2a594f2d9c990f396": {
     "model_module": "@jupyter-widgets/base",
     "model_name": "LayoutModel",
     "state": {
      "_model_module": "@jupyter-widgets/base",
      "_model_module_version": "1.2.0",
      "_model_name": "LayoutModel",
      "_view_count": null,
      "_view_module": "@jupyter-widgets/base",
      "_view_module_version": "1.2.0",
      "_view_name": "LayoutView",
      "align_content": null,
      "align_items": null,
      "align_self": null,
      "border": null,
      "bottom": null,
      "display": null,
      "flex": null,
      "flex_flow": null,
      "grid_area": "center",
      "grid_auto_columns": null,
      "grid_auto_flow": null,
      "grid_auto_rows": null,
      "grid_column": null,
      "grid_gap": null,
      "grid_row": null,
      "grid_template_areas": null,
      "grid_template_columns": null,
      "grid_template_rows": null,
      "height": null,
      "justify_content": null,
      "justify_items": null,
      "left": null,
      "margin": null,
      "max_height": null,
      "max_width": null,
      "min_height": null,
      "min_width": null,
      "object_fit": null,
      "object_position": null,
      "order": null,
      "overflow": null,
      "overflow_x": null,
      "overflow_y": null,
      "padding": null,
      "right": null,
      "top": null,
      "visibility": null,
      "width": null
     }
    },
    "75b93fdf9d494d198d919b6f50688064": {
     "model_module": "@jupyter-widgets/base",
     "model_name": "LayoutModel",
     "state": {
      "_model_module": "@jupyter-widgets/base",
      "_model_module_version": "1.2.0",
      "_model_name": "LayoutModel",
      "_view_count": null,
      "_view_module": "@jupyter-widgets/base",
      "_view_module_version": "1.2.0",
      "_view_name": "LayoutView",
      "align_content": null,
      "align_items": null,
      "align_self": null,
      "border": null,
      "bottom": null,
      "display": null,
      "flex": null,
      "flex_flow": null,
      "grid_area": null,
      "grid_auto_columns": null,
      "grid_auto_flow": null,
      "grid_auto_rows": null,
      "grid_column": null,
      "grid_gap": null,
      "grid_row": null,
      "grid_template_areas": null,
      "grid_template_columns": null,
      "grid_template_rows": null,
      "height": null,
      "justify_content": null,
      "justify_items": null,
      "left": null,
      "margin": null,
      "max_height": null,
      "max_width": null,
      "min_height": null,
      "min_width": null,
      "object_fit": null,
      "object_position": null,
      "order": null,
      "overflow": null,
      "overflow_x": null,
      "overflow_y": null,
      "padding": null,
      "right": null,
      "top": null,
      "visibility": null,
      "width": null
     }
    },
    "84ce20c8e6a345b79a7337ba0a4fd3f8": {
     "model_module": "jupyter-matplotlib",
     "model_name": "MPLCanvasModel",
     "state": {
      "_cursor": "pointer",
      "_dom_classes": [],
      "_figure_label": "Figure",
      "_height": 0,
      "_image_mode": "full",
      "_message": "",
      "_model_module": "jupyter-matplotlib",
      "_model_module_version": "^0.7.4",
      "_model_name": "MPLCanvasModel",
      "_rubberband_height": 0,
      "_rubberband_width": 0,
      "_rubberband_x": 0,
      "_rubberband_y": 0,
      "_view_count": null,
      "_view_module": "jupyter-matplotlib",
      "_view_module_version": "^0.7.4",
      "_view_name": "MPLCanvasView",
      "_width": 0,
      "capture_scroll": false,
      "footer_visible": true,
      "header_visible": false,
      "layout": "IPY_MODEL_237dd14bcb634fc98d8dea89b13a3a77",
      "resizable": true,
      "toolbar": "IPY_MODEL_9a40902227de4ca5b699e8105b47850f",
      "toolbar_position": "left",
      "toolbar_visible": true
     }
    },
    "89811e16a23240e8b7339fb3ec12f2a9": {
     "model_module": "@jupyter-widgets/output",
     "model_name": "OutputModel",
     "state": {
      "_dom_classes": [],
      "_model_module": "@jupyter-widgets/output",
      "_model_module_version": "1.0.0",
      "_model_name": "OutputModel",
      "_view_count": null,
      "_view_module": "@jupyter-widgets/output",
      "_view_module_version": "1.0.0",
      "_view_name": "OutputView",
      "layout": "IPY_MODEL_72299f0f90854db2a594f2d9c990f396",
      "msg_id": "",
      "outputs": [
       {
        "application/vnd.jupyter.widget-view+json": {
         "model_id": "c42e573be7444fa08d1c4bd8e4bd2883",
         "version_major": 2,
         "version_minor": 0
        },
        "metadata": {
         "tags": []
        },
        "output_type": "display_data",
        "text/plain": "Canvas(toolbar=Toolbar(toolitems=[('Home', 'Reset original view', 'home', 'home'), ('Back', 'Back to previous …"
       }
      ]
     }
    },
    "8e8f9389a82947c89eb5b2d5a5df6dad": {
     "model_module": "@jupyter-widgets/controls",
     "model_name": "SliderStyleModel",
     "state": {
      "_model_module": "@jupyter-widgets/controls",
      "_model_module_version": "1.5.0",
      "_model_name": "SliderStyleModel",
      "_view_count": null,
      "_view_module": "@jupyter-widgets/base",
      "_view_module_version": "1.2.0",
      "_view_name": "StyleView",
      "description_width": "",
      "handle_color": null
     }
    },
    "9a6ca9c0c0d5467091af38a95695c4fe": {
     "model_module": "@jupyter-widgets/base",
     "model_name": "LayoutModel",
     "state": {
      "_model_module": "@jupyter-widgets/base",
      "_model_module_version": "1.2.0",
      "_model_name": "LayoutModel",
      "_view_count": null,
      "_view_module": "@jupyter-widgets/base",
      "_view_module_version": "1.2.0",
      "_view_name": "LayoutView",
      "align_content": null,
      "align_items": null,
      "align_self": null,
      "border": null,
      "bottom": null,
      "display": null,
      "flex": null,
      "flex_flow": null,
      "grid_area": "footer",
      "grid_auto_columns": null,
      "grid_auto_flow": null,
      "grid_auto_rows": null,
      "grid_column": null,
      "grid_gap": null,
      "grid_row": null,
      "grid_template_areas": null,
      "grid_template_columns": null,
      "grid_template_rows": null,
      "height": null,
      "justify_content": null,
      "justify_items": null,
      "left": null,
      "margin": "0px 30% 0px 30%",
      "max_height": null,
      "max_width": null,
      "min_height": null,
      "min_width": null,
      "object_fit": null,
      "object_position": null,
      "order": null,
      "overflow": null,
      "overflow_x": null,
      "overflow_y": null,
      "padding": null,
      "right": null,
      "top": null,
      "visibility": null,
      "width": "40%"
     }
    },
    "aa11af9c883741a7960fdeb84bac9a6a": {
     "model_module": "@jupyter-widgets/controls",
     "model_name": "IntSliderModel",
     "state": {
      "_dom_classes": [],
      "_model_module": "@jupyter-widgets/controls",
      "_model_module_version": "1.5.0",
      "_model_name": "IntSliderModel",
      "_view_count": null,
      "_view_module": "@jupyter-widgets/controls",
      "_view_module_version": "1.5.0",
      "_view_name": "IntSliderView",
      "continuous_update": true,
      "description": "",
      "description_tooltip": null,
      "disabled": false,
      "layout": "IPY_MODEL_75b93fdf9d494d198d919b6f50688064",
      "max": 60,
      "min": 0,
      "orientation": "horizontal",
      "readout": true,
      "readout_format": "d",
      "step": 1,
      "style": "IPY_MODEL_dfcbb3dc571a45eab46cc0d1bcf7dfa7",
      "value": 0
     }
    },
    "aac7fd82459044738394842a28168d64": {
     "model_module": "@jupyter-widgets/controls",
     "model_name": "ButtonModel",
     "state": {
      "_dom_classes": [],
      "_model_module": "@jupyter-widgets/controls",
      "_model_module_version": "1.5.0",
      "_model_name": "ButtonModel",
      "_view_count": null,
      "_view_module": "@jupyter-widgets/controls",
      "_view_module_version": "1.5.0",
      "_view_name": "ButtonView",
      "button_style": "",
      "description": "",
      "disabled": false,
      "icon": "check",
      "layout": "IPY_MODEL_57a00cdbc6f748c1873b1c2f15c72337",
      "style": "IPY_MODEL_be8cd4ca073f49d9b9582d2e759d2826",
      "tooltip": ""
     }
    },
    "be8cd4ca073f49d9b9582d2e759d2826": {
     "model_module": "@jupyter-widgets/controls",
     "model_name": "ButtonStyleModel",
     "state": {
      "_model_module": "@jupyter-widgets/controls",
      "_model_module_version": "1.5.0",
      "_model_name": "ButtonStyleModel",
      "_view_count": null,
      "_view_module": "@jupyter-widgets/base",
      "_view_module_version": "1.2.0",
      "_view_name": "StyleView",
      "button_color": null,
      "font_weight": ""
     }
    },
    "c029dfd26d3640ceaadfa8850534ce94": {
     "model_module": "@jupyter-widgets/base",
     "model_name": "LayoutModel",
     "state": {
      "_model_module": "@jupyter-widgets/base",
      "_model_module_version": "1.2.0",
      "_model_name": "LayoutModel",
      "_view_count": null,
      "_view_module": "@jupyter-widgets/base",
      "_view_module_version": "1.2.0",
      "_view_name": "LayoutView",
      "align_content": null,
      "align_items": null,
      "align_self": null,
      "border": null,
      "bottom": null,
      "display": null,
      "flex": null,
      "flex_flow": null,
      "grid_area": null,
      "grid_auto_columns": null,
      "grid_auto_flow": null,
      "grid_auto_rows": null,
      "grid_column": null,
      "grid_gap": null,
      "grid_row": null,
      "grid_template_areas": "\"center center center\"\n\"footer footer footer\"",
      "grid_template_columns": "1fr 2fr 1fr",
      "grid_template_rows": "6fr 1fr",
      "height": null,
      "justify_content": null,
      "justify_items": null,
      "left": null,
      "margin": null,
      "max_height": null,
      "max_width": null,
      "min_height": null,
      "min_width": null,
      "object_fit": null,
      "object_position": null,
      "order": null,
      "overflow": null,
      "overflow_x": null,
      "overflow_y": null,
      "padding": null,
      "right": null,
      "top": null,
      "visibility": null,
      "width": null
     }
    },
    "c42e573be7444fa08d1c4bd8e4bd2883": {
     "model_module": "jupyter-matplotlib",
     "model_name": "MPLCanvasModel",
     "state": {
      "_cursor": "pointer",
      "_dom_classes": [],
      "_figure_label": "Figure",
      "_height": 0,
      "_image_mode": "full",
      "_message": "",
      "_model_module": "jupyter-matplotlib",
      "_model_module_version": "^0.7.4",
      "_model_name": "MPLCanvasModel",
      "_rubberband_height": 0,
      "_rubberband_width": 0,
      "_rubberband_x": 0,
      "_rubberband_y": 0,
      "_view_count": null,
      "_view_module": "jupyter-matplotlib",
      "_view_module_version": "^0.7.4",
      "_view_name": "MPLCanvasView",
      "_width": 0,
      "capture_scroll": false,
      "footer_visible": true,
      "header_visible": true,
      "layout": "IPY_MODEL_ffe095a542a843b092534f5ff6d27bae",
      "resizable": true,
      "toolbar": "IPY_MODEL_9084c5dfd53d477fab79913fee7d3d5f",
      "toolbar_position": "left",
      "toolbar_visible": true
     }
    },
    "c460ef0ff0474ed6a97692f67d7f4ccb": {
     "model_module": "@jupyter-widgets/controls",
     "model_name": "SliderStyleModel",
     "state": {
      "_model_module": "@jupyter-widgets/controls",
      "_model_module_version": "1.5.0",
      "_model_name": "SliderStyleModel",
      "_view_count": null,
      "_view_module": "@jupyter-widgets/base",
      "_view_module_version": "1.2.0",
      "_view_name": "StyleView",
      "description_width": "",
      "handle_color": null
     }
    },
    "c4cea3863c9c4f3ebc1e66bef390b88b": {
     "model_module": "@jupyter-widgets/controls",
     "model_name": "ButtonStyleModel",
     "state": {
      "_model_module": "@jupyter-widgets/controls",
      "_model_module_version": "1.5.0",
      "_model_name": "ButtonStyleModel",
      "_view_count": null,
      "_view_module": "@jupyter-widgets/base",
      "_view_module_version": "1.2.0",
      "_view_name": "StyleView",
      "button_color": null,
      "font_weight": ""
     }
    },
    "c611ae47fd0f463d971c52bb5c986a22": {
     "model_module": "@jupyter-widgets/controls",
     "model_name": "GridBoxModel",
     "state": {
      "_dom_classes": [],
      "_model_module": "@jupyter-widgets/controls",
      "_model_module_version": "1.5.0",
      "_model_name": "GridBoxModel",
      "_view_count": null,
      "_view_module": "@jupyter-widgets/controls",
      "_view_module_version": "1.5.0",
      "_view_name": "GridBoxView",
      "box_style": "",
      "children": [
       "IPY_MODEL_431ed5fd84fe4ac3baabaabc655cd604",
       "IPY_MODEL_89811e16a23240e8b7339fb3ec12f2a9"
      ],
      "layout": "IPY_MODEL_6e0022135b1a4b4a9b75c2e42db3e332"
     }
    },
    "d28588bb568a4fb1b5a8335070e77296": {
     "model_module": "@jupyter-widgets/controls",
     "model_name": "VBoxModel",
     "state": {
      "_dom_classes": [],
      "_model_module": "@jupyter-widgets/controls",
      "_model_module_version": "1.5.0",
      "_model_name": "VBoxModel",
      "_view_count": null,
      "_view_module": "@jupyter-widgets/controls",
      "_view_module_version": "1.5.0",
      "_view_name": "VBoxView",
      "box_style": "",
      "children": [
       "IPY_MODEL_aa11af9c883741a7960fdeb84bac9a6a",
       "IPY_MODEL_f2616e2897a44d5580269e2241acff5a"
      ],
      "layout": "IPY_MODEL_f2bfcf62a7a643d7bf1049f4989c7373"
     }
    },
    "db8cf5a86a084797926429ad2f739e53": {
     "model_module": "@jupyter-widgets/base",
     "model_name": "LayoutModel",
     "state": {
      "_model_module": "@jupyter-widgets/base",
      "_model_module_version": "1.2.0",
      "_model_name": "LayoutModel",
      "_view_count": null,
      "_view_module": "@jupyter-widgets/base",
      "_view_module_version": "1.2.0",
      "_view_name": "LayoutView",
      "align_content": null,
      "align_items": null,
      "align_self": null,
      "border": null,
      "bottom": null,
      "display": null,
      "flex": null,
      "flex_flow": null,
      "grid_area": null,
      "grid_auto_columns": null,
      "grid_auto_flow": null,
      "grid_auto_rows": null,
      "grid_column": null,
      "grid_gap": null,
      "grid_row": null,
      "grid_template_areas": null,
      "grid_template_columns": null,
      "grid_template_rows": null,
      "height": null,
      "justify_content": null,
      "justify_items": null,
      "left": null,
      "margin": null,
      "max_height": null,
      "max_width": null,
      "min_height": null,
      "min_width": null,
      "object_fit": null,
      "object_position": null,
      "order": null,
      "overflow": null,
      "overflow_x": null,
      "overflow_y": null,
      "padding": null,
      "right": null,
      "top": null,
      "visibility": null,
      "width": null
     }
    },
    "dfcbb3dc571a45eab46cc0d1bcf7dfa7": {
     "model_module": "@jupyter-widgets/controls",
     "model_name": "SliderStyleModel",
     "state": {
      "_model_module": "@jupyter-widgets/controls",
      "_model_module_version": "1.5.0",
      "_model_name": "SliderStyleModel",
      "_view_count": null,
      "_view_module": "@jupyter-widgets/base",
      "_view_module_version": "1.2.0",
      "_view_name": "StyleView",
      "description_width": "",
      "handle_color": null
     }
    },
    "e2ef5db2c1d84619931f33e0c69fe7e8": {
     "model_module": "jupyter-matplotlib",
     "model_name": "MPLCanvasModel",
     "state": {
      "_cursor": "pointer",
      "_dom_classes": [],
      "_figure_label": "Figure",
      "_height": 0,
      "_image_mode": "full",
      "_message": "",
      "_model_module": "jupyter-matplotlib",
      "_model_module_version": "^0.7.4",
      "_model_name": "MPLCanvasModel",
      "_rubberband_height": 0,
      "_rubberband_width": 0,
      "_rubberband_x": 0,
      "_rubberband_y": 0,
      "_view_count": null,
      "_view_module": "jupyter-matplotlib",
      "_view_module_version": "^0.7.4",
      "_view_name": "MPLCanvasView",
      "_width": 0,
      "capture_scroll": false,
      "footer_visible": true,
      "header_visible": true,
      "layout": "IPY_MODEL_f80bfca040f44383b6ffcbb5d19674bf",
      "resizable": true,
      "toolbar": "IPY_MODEL_927dbed7e2d84a3cba468a6d4ecb0c64",
      "toolbar_position": "left",
      "toolbar_visible": true
     }
    },
    "f2616e2897a44d5580269e2241acff5a": {
     "model_module": "jupyter-matplotlib",
     "model_name": "MPLCanvasModel",
     "state": {
      "_cursor": "pointer",
      "_dom_classes": [],
      "_figure_label": "Figure",
      "_height": 0,
      "_image_mode": "full",
      "_message": "",
      "_model_module": "jupyter-matplotlib",
      "_model_module_version": "^0.7.4",
      "_model_name": "MPLCanvasModel",
      "_rubberband_height": 0,
      "_rubberband_width": 0,
      "_rubberband_x": 0,
      "_rubberband_y": 0,
      "_view_count": null,
      "_view_module": "jupyter-matplotlib",
      "_view_module_version": "^0.7.4",
      "_view_name": "MPLCanvasView",
      "_width": 0,
      "capture_scroll": false,
      "footer_visible": true,
      "header_visible": true,
      "layout": "IPY_MODEL_64ec0ef040bd461aaedee5ba670d4ad0",
      "resizable": true,
      "toolbar": "IPY_MODEL_71e48e74d97d4796aa770fa0f89f32e2",
      "toolbar_position": "left",
      "toolbar_visible": true
     }
    },
    "f2bfcf62a7a643d7bf1049f4989c7373": {
     "model_module": "@jupyter-widgets/base",
     "model_name": "LayoutModel",
     "state": {
      "_model_module": "@jupyter-widgets/base",
      "_model_module_version": "1.2.0",
      "_model_name": "LayoutModel",
      "_view_count": null,
      "_view_module": "@jupyter-widgets/base",
      "_view_module_version": "1.2.0",
      "_view_name": "LayoutView",
      "align_content": null,
      "align_items": null,
      "align_self": null,
      "border": null,
      "bottom": null,
      "display": null,
      "flex": null,
      "flex_flow": null,
      "grid_area": null,
      "grid_auto_columns": null,
      "grid_auto_flow": null,
      "grid_auto_rows": null,
      "grid_column": null,
      "grid_gap": null,
      "grid_row": null,
      "grid_template_areas": null,
      "grid_template_columns": null,
      "grid_template_rows": null,
      "height": null,
      "justify_content": null,
      "justify_items": null,
      "left": null,
      "margin": null,
      "max_height": null,
      "max_width": null,
      "min_height": null,
      "min_width": null,
      "object_fit": null,
      "object_position": null,
      "order": null,
      "overflow": null,
      "overflow_x": null,
      "overflow_y": null,
      "padding": null,
      "right": null,
      "top": null,
      "visibility": null,
      "width": null
     }
    },
    "f67fa58b3427486aa8d4f0235c37f5bc": {
     "model_module": "jupyter-matplotlib",
     "model_name": "MPLCanvasModel",
     "state": {
      "_cursor": "pointer",
      "_dom_classes": [],
      "_figure_label": "Figure",
      "_height": 0,
      "_image_mode": "full",
      "_message": "",
      "_model_module": "jupyter-matplotlib",
      "_model_module_version": "^0.7.4",
      "_model_name": "MPLCanvasModel",
      "_rubberband_height": 0,
      "_rubberband_width": 0,
      "_rubberband_x": 0,
      "_rubberband_y": 0,
      "_view_count": null,
      "_view_module": "jupyter-matplotlib",
      "_view_module_version": "^0.7.4",
      "_view_name": "MPLCanvasView",
      "_width": 0,
      "capture_scroll": false,
      "footer_visible": true,
      "header_visible": true,
      "layout": "IPY_MODEL_f4c2ee1343f04d21b95192811f2bb739",
      "resizable": true,
      "toolbar": "IPY_MODEL_52a285cbac2c41249f1891fac8059384",
      "toolbar_position": "left",
      "toolbar_visible": true
     }
    }
   }
  }
 },
 "nbformat": 4,
 "nbformat_minor": 1
}
