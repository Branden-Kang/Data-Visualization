{
  "nbformat": 4,
  "nbformat_minor": 0,
  "metadata": {
    "colab": {
      "name": "Creating Advanced Financial Charts with Python in One Line of Code.ipynb",
      "provenance": [],
      "authorship_tag": "ABX9TyMLhA+TBAhaMtwd9VrUCXL9"
    },
    "kernelspec": {
      "name": "python3",
      "display_name": "Python 3"
    },
    "language_info": {
      "name": "python"
    }
  },
  "cells": [
    {
      "cell_type": "markdown",
      "metadata": {
        "id": "Uc0ofVgBtbkz"
      },
      "source": [
        "[Reference](https://medium.com/codex/creating-advanced-financial-charts-with-python-in-one-line-of-code-79f87ed482e8)"
      ]
    },
    {
      "cell_type": "code",
      "metadata": {
        "id": "iAVZAyqltVj5"
      },
      "source": [
        "!pip install pandas\n",
        "!pip install requests\n",
        "!pip install mplfinance"
      ],
      "execution_count": 1,
      "outputs": []
    },
    {
      "cell_type": "code",
      "metadata": {
        "id": "4sBPuDJKs2hj"
      },
      "source": [
        "import pandas as pd\n",
        "import requests\n",
        "import mplfinance as mf\n",
        "\n",
        "# Extracting stock data\n",
        "\n",
        "def get_historical_data(symbol, start_date):\n",
        "    api_key = 'YOUR API KEY'\n",
        "    api_url = f'https://api.twelvedata.com/time_series?symbol={symbol}&interval=1day&outputsize=5000&apikey={api_key}'\n",
        "    raw_df = requests.get(api_url).json()\n",
        "    df = pd.DataFrame(raw_df['values']).iloc[::-1].set_index('datetime').astype(float)\n",
        "    df = df[df.index >= start_date]\n",
        "    df.index = pd.to_datetime(df.index)\n",
        "    return df\n",
        "\n",
        "amzn = get_historical_data('AMZN', '2021-01-01')\n",
        "amzn.tail()\n",
        "\n",
        "# 1. OHLC Chart\n",
        "\n",
        "mf.plot(amzn.iloc[:-50,:])\n",
        "\n",
        "# 2. Candlestick Chart\n",
        "\n",
        "mf.plot(amzn.iloc[:-50,:], type = 'candle')\n",
        "\n",
        "# 3. Renko Chart\n",
        "\n",
        "mf.plot(amzn, type = 'renko')\n",
        "\n",
        "# 4. Point and Figure Chart\n",
        "\n",
        "mf.plot(amzn, type = 'pnf')\n",
        "\n",
        "# 5. Technical chart\n",
        "\n",
        "mf.plot(amzn, mav = (10, 20), type = 'candle', volume = True)\n",
        "\n",
        "# 6. Plot customization\n",
        "\n",
        "mf.plot(amzn, mav = (5, 10, 20), type = 'candle', \n",
        "        volume = True, figratio = (10,5), \n",
        "        style = 'binance', title = 'AMZN STOCK PRICE', \n",
        "        tight_layout = True)\n",
        "\n",
        "# 7. Saving the plot\n",
        "\n",
        "mf.plot(amzn, mav = (5, 10, 20), type = 'candle', \n",
        "        volume = True, figratio = (10,5), \n",
        "        style = 'binance', title = 'AMZN STOCK PRICE', \n",
        "        tight_layout = True, savefig = 'amzn.png')"
      ],
      "execution_count": 2,
      "outputs": []
    }
  ]
}