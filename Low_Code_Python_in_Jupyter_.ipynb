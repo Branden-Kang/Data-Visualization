{
  "nbformat": 4,
  "nbformat_minor": 0,
  "metadata": {
    "colab": {
      "name": "Low Code Python in Jupyter .ipynb",
      "provenance": [],
      "authorship_tag": "ABX9TyMdD2inJahts2CnXCn9pGjL"
    },
    "kernelspec": {
      "name": "python3",
      "display_name": "Python 3"
    },
    "language_info": {
      "name": "python"
    }
  },
  "cells": [
    {
      "cell_type": "markdown",
      "metadata": {
        "id": "aUZdKqjTkyNr"
      },
      "source": [
        "# BambooLib"
      ]
    },
    {
      "cell_type": "code",
      "metadata": {
        "id": "4RtnMnuSkUK6"
      },
      "source": [
        "import bamboolib as bam\n",
        "import pandas as pd\n",
        "df = pd.read_csv(bam.titanic_csv)\n",
        "df"
      ],
      "execution_count": 1,
      "outputs": []
    },
    {
      "cell_type": "markdown",
      "metadata": {
        "id": "mF-EzzNDk4_G"
      },
      "source": [
        "# Lux"
      ]
    },
    {
      "cell_type": "code",
      "metadata": {
        "id": "ExWAGV3ck00G"
      },
      "source": [
        "import lux\n",
        "import pandas as pd"
      ],
      "execution_count": 2,
      "outputs": []
    },
    {
      "cell_type": "markdown",
      "metadata": {
        "id": "VF_QuhMKk80W"
      },
      "source": [
        "# Mito"
      ]
    },
    {
      "cell_type": "code",
      "metadata": {
        "id": "FXD522Uyk7FW"
      },
      "source": [
        "!python -m pip install mitoinstaller\n",
        "!python -m mitoinstaller install"
      ],
      "execution_count": 6,
      "outputs": []
    },
    {
      "cell_type": "code",
      "metadata": {
        "id": "5WkdOmyDlAZ7"
      },
      "source": [
        "import mitosheet\n",
        "mitosheet.sheet()"
      ],
      "execution_count": 7,
      "outputs": []
    },
    {
      "cell_type": "markdown",
      "metadata": {
        "id": "rqinpY4BlMFJ"
      },
      "source": [
        "- Filter\n",
        "- Pivot\n",
        "- Merge\n",
        "- Clean\n",
        "- Use Formulas\n",
        "- Create Graphs\n",
        "- and more!"
      ]
    }
  ]
}