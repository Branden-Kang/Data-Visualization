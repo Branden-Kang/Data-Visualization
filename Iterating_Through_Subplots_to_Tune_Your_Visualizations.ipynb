{
  "nbformat": 4,
  "nbformat_minor": 0,
  "metadata": {
    "colab": {
      "name": "Iterating Through Subplots to Tune Your Visualizations.ipynb",
      "provenance": [],
      "authorship_tag": "ABX9TyNfPYRDVjTMfgUQL3hCdOFh"
    },
    "kernelspec": {
      "name": "python3",
      "display_name": "Python 3"
    },
    "language_info": {
      "name": "python"
    }
  },
  "cells": [
    {
      "cell_type": "markdown",
      "metadata": {
        "id": "SbpumSm3XIic"
      },
      "source": [
        "[Reference](https://python.plainenglish.io/iterating-through-subplots-to-tune-your-visualizations-8d294abc0b89)"
      ]
    },
    {
      "cell_type": "markdown",
      "metadata": {
        "id": "7mBbklJMXL3P"
      },
      "source": [
        "```python\n",
        "fig, ax=plt.subplots(nrows=3, ncols=3)# ax=[[AxesSubplot, AxesSubplot, AxesSubplot], \n",
        "#     [AxesSubplot, AxesSubplot, AxesSubplot], \n",
        "#     [AxesSubplot, AxesSubplot, AxesSubplot]]ax[0][0].plot()\n",
        "ax[0][1].plot()\n",
        "ax[0][2].plot()\n",
        "ax[1][0].plot()\n",
        "...\n",
        "```"
      ]
    },
    {
      "cell_type": "code",
      "metadata": {
        "id": "KSbN-ms3XRL5"
      },
      "source": [
        "import math\n",
        "import matplotlib.pyplot as plt"
      ],
      "execution_count": 4,
      "outputs": []
    },
    {
      "cell_type": "code",
      "metadata": {
        "id": "78zXa0H8XGxh"
      },
      "source": [
        "variations=[]\n",
        "col_num=3\n",
        "row_num=math.ceil(len(variations)/col_num) # row number depends on the number of iterations and columns\n",
        "figsize=(3*col_num, 2*row_num) # I like to maintain a 3 x 2 ratio in my charts\n",
        "fig, ax=plt.subplots(row_num, col_num, figsize=figsize)\n",
        "if row_num == 1: \n",
        "    ax=[ax]\n",
        "for idx, each_col in enumerate(variations): \n",
        "    row_idx=idx//col_num # row index is the floor division of idx and the number of columns\n",
        "    col_idx=idx%col_num # column index is the remainder of idx divided by 0the number of columns\n",
        "    ax_idx=ax[row_idx][col_idx]\n",
        "    # plot here\n",
        "    # i.e. ax_idx.plot()\n",
        "    # or pandas.DataFrame.plot()\n",
        "plt.tight_layout()"
      ],
      "execution_count": 8,
      "outputs": []
    },
    {
      "cell_type": "code",
      "metadata": {
        "id": "cRs66Tj3XOmH"
      },
      "source": [
        "col_num=4\n",
        "row_num=math.ceil(len(columns)/col_num)\n",
        "fig, ax=plt.subplots(row_num, col_num, figsize=(3*col_num, 2*row_num))\n",
        "if row_num == 1: \n",
        "    ax=[ax]\n",
        "for idx, each_col in enumerate(columns): \n",
        "    row_idx=idx//col_num\n",
        "    col_idx=idx%col_num\n",
        "    if sample_df[each_col].dtype=='O': \n",
        "        sample_df[each_col].value_counts().plot(kind='bar', ax=ax[row_idx][col_idx])\n",
        "        ax[row_idx][col_idx].set_xticks([])\n",
        "    else: \n",
        "        sample_df[each_col].hist(ax=ax[row_idx][col_idx])\n",
        "    ax[row_idx][col_idx].set_title(each_col)\n",
        "plt.tight_layout()"
      ],
      "execution_count": 7,
      "outputs": []
    },
    {
      "cell_type": "code",
      "metadata": {
        "id": "RRMw8058XYfH"
      },
      "source": [
        "columns=rand_num_cols\n",
        "target='int_rate'\n",
        "col_num=3\n",
        "row_num=math.ceil(len(columns)/col_num)\n",
        "fig, ax=plt.subplots(row_num, col_num, figsize=(3*col_num, 2*row_num))\n",
        "if row_num == 1: \n",
        "    ax=[ax]\n",
        "for idx, each_col in enumerate(columns): \n",
        "    row_idx=idx//col_num\n",
        "    col_idx=idx%col_num\n",
        "    sample_df[[each_col, target]].plot(kind='scatter', x=each_col, y=target, ax=ax[row_idx][col_idx])\n",
        "    ax[row_idx][col_idx].set_title(each_col)\n",
        "plt.tight_layout()"
      ],
      "execution_count": 10,
      "outputs": []
    },
    {
      "cell_type": "code",
      "metadata": {
        "id": "bQzqV53DXcz_"
      },
      "source": [
        "bins=[5, 10, 20, 25, 50, 100]\n",
        "col_num=3\n",
        "col_name='loan_amnt'\n",
        "row_num=math.ceil(len(bins)/col_num)\n",
        "fig, ax=plt.subplots(row_num, col_num, figsize=(3*col_num, 2*row_num))\n",
        "if row_num == 1: \n",
        "    ax=[ax]\n",
        "for idx, bin_size in enumerate(bins): \n",
        "    row_idx=idx//col_num\n",
        "    col_idx=idx%col_num\n",
        "    sample_df[col_name].hist(bins=bin_size, ax=ax[row_idx][col_idx])\n",
        "    ax[row_idx][col_idx].set_title(f'{col_name} - Bin Size {bin_size}')\n",
        "plt.tight_layout()"
      ],
      "execution_count": 11,
      "outputs": []
    },
    {
      "cell_type": "code",
      "metadata": {
        "id": "2tIL_2e1Xh5M"
      },
      "source": [
        "import itertools\n",
        "columns=['loan_amnt', 'int_rate', 'installment', 'annual_inc']\n",
        "x_y=[(x, y) for (x, y) in itertools.product(columns, columns) if x!=y]\n",
        "\n",
        "col_num=len(columns)-1\n",
        "row_num=math.ceil(len(x_y)/col_num)\n",
        "fig, ax=plt.subplots(row_num, col_num, figsize=(3*col_num, 2*row_num))\n",
        "if row_num == 1: \n",
        "    ax=[ax]\n",
        "for idx, (x, y) in enumerate(x_y): \n",
        "    row_idx=idx//col_num\n",
        "    col_idx=idx%col_num\n",
        "    sample_df[[x, y]].plot(kind='scatter', x=x, y=y, ax=ax[row_idx][col_idx])\n",
        "    ax[row_idx][col_idx].set_title(f'{x} X {y}')\n",
        "plt.tight_layout()"
      ],
      "execution_count": 12,
      "outputs": []
    }
  ]
}