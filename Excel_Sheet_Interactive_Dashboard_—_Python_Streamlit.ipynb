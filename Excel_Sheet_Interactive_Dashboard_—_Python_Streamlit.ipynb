{
  "nbformat": 4,
  "nbformat_minor": 0,
  "metadata": {
    "colab": {
      "provenance": [],
      "authorship_tag": "ABX9TyOIk/thWmLAnaiOq4K51+d0"
    },
    "kernelspec": {
      "name": "python3",
      "display_name": "Python 3"
    },
    "language_info": {
      "name": "python"
    }
  },
  "cells": [
    {
      "cell_type": "markdown",
      "source": [
        "[Reference](https://medium.com/@vishaltyagi.dev098/excel-sheet-interactive-dashboard-python-streamlit-114f7c240fc8)"
      ],
      "metadata": {
        "id": "wApVtphwWwjS"
      }
    },
    {
      "cell_type": "markdown",
      "source": [
        "# 1. Exploring Dataset and Installing Python Libraries\n"
      ],
      "metadata": {
        "id": "bqTwk_ZLW72B"
      }
    },
    {
      "cell_type": "code",
      "source": [
        "# !pip install pandas\n",
        "# !pip install plotly-express\n",
        "# !pip install streamlit"
      ],
      "metadata": {
        "id": "Jja_cfzrW4qy"
      },
      "execution_count": 1,
      "outputs": []
    },
    {
      "cell_type": "markdown",
      "source": [
        "# 2. Convert Excel data into Panda Dataframe and Getting started with Streamlit\n"
      ],
      "metadata": {
        "id": "vQrDbXjFW9dZ"
      }
    },
    {
      "cell_type": "code",
      "execution_count": 2,
      "metadata": {
        "id": "Eyld3gSgWtx1"
      },
      "outputs": [],
      "source": [
        "# import pandas as pd\n",
        "# import plotly.express as px\n",
        "# import streamlit as st \n",
        "\n",
        "# # PANDAS DATABASE CREATION\n",
        "# st.set_page_config(\n",
        "#   page_title=\"Sales Dashboard\",\n",
        "#   page_icon=\":bar_chart:\",\n",
        "#   layout=\"wide\"                 \n",
        "# )\n",
        "\n",
        "# @st.cache\n",
        "# def get_data_from_excel():\n",
        "#     df= pd.read_excel(\n",
        "#       io='supermarkt_sales.xlsx',\n",
        "#       engine='openpyxl',\n",
        "#       sheet_name='Sales',\n",
        "#       skiprows=3,\n",
        "#       usecols='B:R',\n",
        "#       nrows=1000,\n",
        "#     )\n",
        "#     # Add 'hour' column to dataframe for second barchart\n",
        "#     df[\"hour\"]=pd.to_datetime(df[\"Time\"],format=\"%H:%M:%S\").dt.hour\n",
        "#     return df\n",
        "\n",
        "# df=get_data_from_excel()\n",
        "\n",
        "# # SIDEBAR\n",
        "# st.sidebar.header(\"Please Filter Here:\")\n",
        "\n",
        "# city= st.sidebar.multiselect(\n",
        "#   \"Select the City:\",\n",
        "#   options=df[\"City\"].unique(),\n",
        "#   default=df[\"City\"].unique()\n",
        "# )\n",
        "\n",
        "# customer_type= st.sidebar.multiselect(\n",
        "#   \"Select the Customer Type:\",\n",
        "#   options=df[\"Customer_type\"].unique(),\n",
        "#   default=df[\"Customer_type\"].unique()\n",
        "# )\n",
        "\n",
        "# gender= st.sidebar.multiselect(\n",
        "#   \"Select the Gender:\",\n",
        "#   options=df[\"Gender\"].unique(),\n",
        "#   default=df[\"Gender\"].unique()\n",
        "# )\n",
        "\n",
        "# df_selection=df.query(\n",
        "#   \"City== @city & Customer_type== @customer_type & Gender == @gender\"\n",
        "# )\n",
        "\n",
        "\n",
        "\n",
        "\n",
        "# # MAINPAGE\n",
        "# st.title(\":bar_chart: Sales Dashboard\")\n",
        "# st.markdown(\"##\")\n",
        "\n",
        "\n",
        "\n",
        "# # TOP KPI's\n",
        "# total_sales= int(df_selection[\"Total\"].sum())\n",
        "# average_rating =round(df_selection[\"Rating\"].mean(),1)\n",
        "# star_rating=\":star:\" * int(round(average_rating,0))\n",
        "# average_sale_by_transaction=round(df_selection[\"Total\"].mean(),2)\n",
        "\n",
        "\n",
        "# # KPI's COLUMNS\n",
        "# left_column,middle_column,right_column=st.columns(3)\n",
        "\n",
        "\n",
        "# with left_column:\n",
        "#   st.subheader(\"Total Sales:\")\n",
        "#   st.subheader(f\"US $ {total_sales:,}\")\n",
        "# with middle_column:\n",
        "#   st.subheader(\"Average Rating:\")\n",
        "#   st.subheader(f\"{average_rating} {star_rating}\")\n",
        "# with right_column:\n",
        "#   st.subheader(\"Average Sales Per Transaction:\")\n",
        "#   st.subheader(f\"US $ {average_sale_by_transaction}\")\n",
        "\n",
        "# st.markdown(\"---\")\n",
        "\n",
        "\n",
        "\n",
        "\n",
        "\n",
        "\n",
        "\n",
        "# # BARCHARTS\n",
        "\n",
        "# # SALES BY PRODUCT LINE [BAR CHART]\n",
        "\n",
        "# sales_by_product_line=(\n",
        "#   df_selection.groupby(by=[\"Product line\"]).sum()[[\"Total\"]].sort_values(by=\"Total\")\n",
        "# )\n",
        "\n",
        "# fig_product_sales = px.bar(\n",
        "#     sales_by_product_line,\n",
        "#     x=\"Total\",\n",
        "#     y=sales_by_product_line.index,\n",
        "#     orientation=\"h\",\n",
        "#     title=\"<b>Sales by Product Line</b>\",\n",
        "#     color_discrete_sequence=[\"#205295\"] * len(sales_by_product_line),\n",
        "#     template=\"plotly_white\",\n",
        "# )\n",
        "\n",
        "# fig_product_sales.update_layout(\n",
        "#     plot_bgcolor=\"rgba(0,0,0,0)\",\n",
        "#     xaxis=(dict(showgrid=False))\n",
        "# )\n",
        "\n",
        "\n",
        "# # SALES BY HOUR [BAR CHART]\n",
        "\n",
        "# sales_by_hour=df_selection.groupby(by=[\"hour\"]).sum()[[\"Total\"]]\n",
        "\n",
        "# fig_hourly_sales=px.bar(\n",
        "#     sales_by_hour,\n",
        "#     x=sales_by_hour.index,\n",
        "#     y=\"Total\",\n",
        "#     title=\"<b>Sales by Hour</b>\",\n",
        "#     color_discrete_sequence=[\"#205295\"] * len(sales_by_hour),\n",
        "#     template=\"plotly_white\",\n",
        "# )\n",
        "\n",
        "# fig_hourly_sales.update_layout(\n",
        "#     xaxis=dict(tickmode=\"linear\"),\n",
        "#     plot_bgcolor=\"rgba(0,0,0,0)\",\n",
        "#     yaxis=(dict(showgrid=False)),\n",
        "# )\n",
        "\n",
        "\n",
        "# # Displaying charts\n",
        "# left_column,right_column=st.columns(2)\n",
        "# left_column.plotly_chart(fig_product_sales,use_container_width=True)\n",
        "# right_column.plotly_chart(fig_hourly_sales,use_container_width=True)\n",
        "\n",
        "\n",
        "# # HIDE STREAMLIT STYLE\n",
        "# hide_st_style=\"\"\"\n",
        "#             <style>\n",
        "#             #MainMenu {visibility:hidden;}\n",
        "#             footer {visibility: hidden;}\n",
        "#             header {visibility: hidden;}\n",
        "#             </style>\n",
        "#             \"\"\"\n",
        "\n",
        "# st.markdown(hide_st_style, unsafe_allow_html=True)"
      ]
    }
  ]
}