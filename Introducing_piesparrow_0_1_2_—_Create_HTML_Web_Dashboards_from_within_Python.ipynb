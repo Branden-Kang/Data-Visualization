{
  "nbformat": 4,
  "nbformat_minor": 0,
  "metadata": {
    "colab": {
      "provenance": [],
      "authorship_tag": "ABX9TyOYx3BfS4UuWC7Kvyvv+dRJ"
    },
    "kernelspec": {
      "name": "python3",
      "display_name": "Python 3"
    },
    "language_info": {
      "name": "python"
    }
  },
  "cells": [
    {
      "cell_type": "code",
      "source": [
        "pip install piesparrow"
      ],
      "metadata": {
        "colab": {
          "base_uri": "https://localhost:8080/"
        },
        "id": "Zktbkf7KRLxB",
        "outputId": "b9a60bb9-bc07-4a99-e486-b0343df54f58"
      },
      "execution_count": 2,
      "outputs": [
        {
          "output_type": "stream",
          "name": "stdout",
          "text": [
            "Looking in indexes: https://pypi.org/simple, https://us-python.pkg.dev/colab-wheels/public/simple/\n",
            "Collecting piesparrow\n",
            "  Downloading piesparrow-0.1.2-py3-none-any.whl (11 kB)\n",
            "Requirement already satisfied: pandas in /usr/local/lib/python3.8/dist-packages (from piesparrow) (1.3.5)\n",
            "Requirement already satisfied: python-dateutil>=2.7.3 in /usr/local/lib/python3.8/dist-packages (from pandas->piesparrow) (2.8.2)\n",
            "Requirement already satisfied: numpy>=1.17.3 in /usr/local/lib/python3.8/dist-packages (from pandas->piesparrow) (1.21.6)\n",
            "Requirement already satisfied: pytz>=2017.3 in /usr/local/lib/python3.8/dist-packages (from pandas->piesparrow) (2022.6)\n",
            "Requirement already satisfied: six>=1.5 in /usr/local/lib/python3.8/dist-packages (from python-dateutil>=2.7.3->pandas->piesparrow) (1.15.0)\n",
            "Installing collected packages: piesparrow\n",
            "Successfully installed piesparrow-0.1.2\n"
          ]
        }
      ]
    },
    {
      "cell_type": "code",
      "execution_count": 3,
      "metadata": {
        "id": "bkEpOj38RBeE"
      },
      "outputs": [],
      "source": [
        "import pandas as pd\n",
        "import piesparrow as ps\n",
        "\n",
        "df = pd.read_csv('https://raw.githubusercontent.com/itsdaniyalm/piesparrow/main/examples/mock-dashboard/mock-data.csv')\n",
        "ps.init(filename='mock-dashboard', title='Mock Dashboard - pieSparrow', basetheme=ps.dark, charttheme=ps.sparrow_dark)\n",
        "ps.row(\n",
        "        ps.colxl(ps.h1('Mock Dashboard')+ps.p('This dashboard was developed inside Python to demonstrate the functionality of piesparrow'), align='center')\n",
        ")\n",
        "ps.row(\n",
        "    ps.colxl(ps.h2('These are KPI Visuals'), align='center')\n",
        ")\n",
        "ps.row(\n",
        "        ps.colxs(ps.kpi(df=df, column='Data 1'), type='card', align='center')+\n",
        "        ps.colxs(ps.kpi(df=df, column='Data 2'), type='card', align='center')+\n",
        "        ps.colxs(ps.kpi(df=df, column='Data 3'), type='card', align='center')+\n",
        "        ps.colxs(ps.kpi(df=df, column='Data 4'), type='card', align='center')+\n",
        "        ps.colxs(ps.kpi(df=df, column='Data 5'), type='card', align='center')\n",
        ")\n",
        "ps.row(\n",
        "    ps.collg((ps.h2('This is Bar Chart')+ps.chart(type=\"bar\",title='barchart', df=df, columns=['Month','Data 1', 'Data 2', 'Data 3', 'Data 4', 'Data 5'], xcolumn='Month', height=350)), type='card', align='left')+\n",
        "    ps.colxs(\n",
        "        ps.h2('These are Gauges')+\n",
        "        ps.gauge(title='gauge1', label='Gauge 1', value=55, color='#f44336', height=175)+\n",
        "        ps.gauge(title='gauge2', label='Gauge 2', value=78, color='#8fce00', height=175),\n",
        "        type='card',align='left'\n",
        "    )\n",
        ")"
      ]
    }
  ]
}