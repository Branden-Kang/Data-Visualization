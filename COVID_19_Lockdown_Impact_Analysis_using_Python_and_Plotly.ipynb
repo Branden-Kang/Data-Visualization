{
  "nbformat": 4,
  "nbformat_minor": 0,
  "metadata": {
    "colab": {
      "name": "COVID-19 Lockdown Impact Analysis using Python and Plotly.ipynb",
      "provenance": [],
      "collapsed_sections": [],
      "authorship_tag": "ABX9TyOsC3Y2R+EuKx5/Sw3/ghQP"
    },
    "kernelspec": {
      "name": "python3",
      "display_name": "Python 3"
    }
  },
  "cells": [
    {
      "cell_type": "markdown",
      "metadata": {
        "id": "sUJ8iBuQUjMx",
        "colab_type": "text"
      },
      "source": [
        "[Reference](https://medium.com/towards-artificial-intelligence/covid-19-lockdown-impact-analysis-using-python-and-plotly-cff5c2c38964)"
      ]
    },
    {
      "cell_type": "code",
      "metadata": {
        "id": "JqnlmUgiKf3c",
        "colab_type": "code",
        "colab": {
          "base_uri": "https://localhost:8080/",
          "height": 156
        },
        "outputId": "427583c9-acc1-442b-eb00-5679a7f80069"
      },
      "source": [
        "import os\n",
        "from google.colab import drive\n",
        "drive.mount('/content/gdrive')\n",
        "!pwd\n",
        "os.chdir('gdrive/My Drive/Colab Notebooks')\n",
        "!pwd"
      ],
      "execution_count": 1,
      "outputs": [
        {
          "output_type": "stream",
          "text": [
            "Go to this URL in a browser: https://accounts.google.com/o/oauth2/auth?client_id=947318989803-6bn6qk8qdgf4n4g3pfee6491hc0brc4i.apps.googleusercontent.com&redirect_uri=urn%3aietf%3awg%3aoauth%3a2.0%3aoob&response_type=code&scope=email%20https%3a%2f%2fwww.googleapis.com%2fauth%2fdocs.test%20https%3a%2f%2fwww.googleapis.com%2fauth%2fdrive%20https%3a%2f%2fwww.googleapis.com%2fauth%2fdrive.photos.readonly%20https%3a%2f%2fwww.googleapis.com%2fauth%2fpeopleapi.readonly\n",
            "\n",
            "Enter your authorization code:\n",
            "··········\n",
            "Mounted at /content/gdrive\n",
            "/content\n",
            "/content/gdrive/My Drive/Colab Notebooks\n"
          ],
          "name": "stdout"
        }
      ]
    },
    {
      "cell_type": "code",
      "metadata": {
        "id": "jJHM2SdbUM1e",
        "colab_type": "code",
        "colab": {
          "base_uri": "https://localhost:8080/",
          "height": 85
        },
        "outputId": "a6c614be-ee7c-4fea-bae5-686acc460f7d"
      },
      "source": [
        "import pandas as pd\n",
        "pd.options.mode.chained_assignment = None  # default='warn'\n",
        "\n",
        "import plotly.express as px\n",
        "import plotly.graph_objects as go\n",
        "import seaborn as sns\n",
        "import matplotlib.pyplot as plt"
      ],
      "execution_count": 2,
      "outputs": [
        {
          "output_type": "stream",
          "text": [
            "/usr/local/lib/python3.6/dist-packages/statsmodels/tools/_testing.py:19: FutureWarning:\n",
            "\n",
            "pandas.util.testing is deprecated. Use the functions in the public API at pandas.testing instead.\n",
            "\n"
          ],
          "name": "stderr"
        }
      ]
    },
    {
      "cell_type": "markdown",
      "metadata": {
        "id": "KOHGIST2Uokf",
        "colab_type": "text"
      },
      "source": [
        "[Download Dataset](https://www.google.com/covid19/mobility/)"
      ]
    },
    {
      "cell_type": "code",
      "metadata": {
        "id": "-vUWL0E3UPYO",
        "colab_type": "code",
        "colab": {
          "base_uri": "https://localhost:8080/",
          "height": 85
        },
        "outputId": "68e31eea-7818-4f6e-84c7-5f8715050ea1"
      },
      "source": [
        "df = pd.read_csv(\"Global_Mobility_Report.csv\")"
      ],
      "execution_count": 3,
      "outputs": [
        {
          "output_type": "stream",
          "text": [
            "/usr/local/lib/python3.6/dist-packages/IPython/core/interactiveshell.py:2718: DtypeWarning:\n",
            "\n",
            "Columns (4) have mixed types.Specify dtype option on import or set low_memory=False.\n",
            "\n"
          ],
          "name": "stderr"
        }
      ]
    },
    {
      "cell_type": "code",
      "metadata": {
        "id": "Mi5fB7L2Utd0",
        "colab_type": "code",
        "colab": {
          "base_uri": "https://localhost:8080/",
          "height": 374
        },
        "outputId": "e1ec536f-92a4-401f-946e-dbe52597cbfb"
      },
      "source": [
        "df.info()"
      ],
      "execution_count": 4,
      "outputs": [
        {
          "output_type": "stream",
          "text": [
            "<class 'pandas.core.frame.DataFrame'>\n",
            "RangeIndex: 1556218 entries, 0 to 1556217\n",
            "Data columns (total 14 columns):\n",
            " #   Column                                              Non-Null Count    Dtype  \n",
            "---  ------                                              --------------    -----  \n",
            " 0   country_region_code                                 1554909 non-null  object \n",
            " 1   country_region                                      1556218 non-null  object \n",
            " 2   sub_region_1                                        1524232 non-null  object \n",
            " 3   sub_region_2                                        1224879 non-null  object \n",
            " 4   metro_area                                          9441 non-null     object \n",
            " 5   iso_3166_2_code                                     330452 non-null   object \n",
            " 6   census_fips_code                                    438167 non-null   float64\n",
            " 7   date                                                1556218 non-null  object \n",
            " 8   retail_and_recreation_percent_change_from_baseline  1011636 non-null  float64\n",
            " 9   grocery_and_pharmacy_percent_change_from_baseline   982878 non-null   float64\n",
            " 10  parks_percent_change_from_baseline                  763103 non-null   float64\n",
            " 11  transit_stations_percent_change_from_baseline       763160 non-null   float64\n",
            " 12  workplaces_percent_change_from_baseline             1475019 non-null  float64\n",
            " 13  residential_percent_change_from_baseline            788284 non-null   float64\n",
            "dtypes: float64(7), object(7)\n",
            "memory usage: 166.2+ MB\n"
          ],
          "name": "stdout"
        }
      ]
    },
    {
      "cell_type": "markdown",
      "metadata": {
        "id": "AHbQCh_qUzM9",
        "colab_type": "text"
      },
      "source": [
        "The six categories for which mobility is tracked are -\n",
        "1. Recreation — which includes pubs, theatres, cafes, etc.\n",
        "2. Groceries and Pharmacies\n",
        "3. Parks — includes National Forests, Public Gardens, etc.\n",
        "4. Transit Stations — includes Subway Stations, Sea Ports, Taxi Stands, etc.\n",
        "5. Workspaces\n",
        "6. Residential Areas.\n"
      ]
    },
    {
      "cell_type": "code",
      "metadata": {
        "id": "oogi8N6tUu1j",
        "colab_type": "code",
        "colab": {
          "base_uri": "https://localhost:8080/",
          "height": 309
        },
        "outputId": "c219bef7-06db-4ed8-f8ae-997b52c617ca"
      },
      "source": [
        "df.head()"
      ],
      "execution_count": 5,
      "outputs": [
        {
          "output_type": "execute_result",
          "data": {
            "text/html": [
              "<div>\n",
              "<style scoped>\n",
              "    .dataframe tbody tr th:only-of-type {\n",
              "        vertical-align: middle;\n",
              "    }\n",
              "\n",
              "    .dataframe tbody tr th {\n",
              "        vertical-align: top;\n",
              "    }\n",
              "\n",
              "    .dataframe thead th {\n",
              "        text-align: right;\n",
              "    }\n",
              "</style>\n",
              "<table border=\"1\" class=\"dataframe\">\n",
              "  <thead>\n",
              "    <tr style=\"text-align: right;\">\n",
              "      <th></th>\n",
              "      <th>country_region_code</th>\n",
              "      <th>country_region</th>\n",
              "      <th>sub_region_1</th>\n",
              "      <th>sub_region_2</th>\n",
              "      <th>metro_area</th>\n",
              "      <th>iso_3166_2_code</th>\n",
              "      <th>census_fips_code</th>\n",
              "      <th>date</th>\n",
              "      <th>retail_and_recreation_percent_change_from_baseline</th>\n",
              "      <th>grocery_and_pharmacy_percent_change_from_baseline</th>\n",
              "      <th>parks_percent_change_from_baseline</th>\n",
              "      <th>transit_stations_percent_change_from_baseline</th>\n",
              "      <th>workplaces_percent_change_from_baseline</th>\n",
              "      <th>residential_percent_change_from_baseline</th>\n",
              "    </tr>\n",
              "  </thead>\n",
              "  <tbody>\n",
              "    <tr>\n",
              "      <th>0</th>\n",
              "      <td>AE</td>\n",
              "      <td>United Arab Emirates</td>\n",
              "      <td>NaN</td>\n",
              "      <td>NaN</td>\n",
              "      <td>NaN</td>\n",
              "      <td>NaN</td>\n",
              "      <td>NaN</td>\n",
              "      <td>2020-02-15</td>\n",
              "      <td>0.0</td>\n",
              "      <td>4.0</td>\n",
              "      <td>5.0</td>\n",
              "      <td>0.0</td>\n",
              "      <td>2.0</td>\n",
              "      <td>1.0</td>\n",
              "    </tr>\n",
              "    <tr>\n",
              "      <th>1</th>\n",
              "      <td>AE</td>\n",
              "      <td>United Arab Emirates</td>\n",
              "      <td>NaN</td>\n",
              "      <td>NaN</td>\n",
              "      <td>NaN</td>\n",
              "      <td>NaN</td>\n",
              "      <td>NaN</td>\n",
              "      <td>2020-02-16</td>\n",
              "      <td>1.0</td>\n",
              "      <td>4.0</td>\n",
              "      <td>4.0</td>\n",
              "      <td>1.0</td>\n",
              "      <td>2.0</td>\n",
              "      <td>1.0</td>\n",
              "    </tr>\n",
              "    <tr>\n",
              "      <th>2</th>\n",
              "      <td>AE</td>\n",
              "      <td>United Arab Emirates</td>\n",
              "      <td>NaN</td>\n",
              "      <td>NaN</td>\n",
              "      <td>NaN</td>\n",
              "      <td>NaN</td>\n",
              "      <td>NaN</td>\n",
              "      <td>2020-02-17</td>\n",
              "      <td>-1.0</td>\n",
              "      <td>1.0</td>\n",
              "      <td>5.0</td>\n",
              "      <td>1.0</td>\n",
              "      <td>2.0</td>\n",
              "      <td>1.0</td>\n",
              "    </tr>\n",
              "    <tr>\n",
              "      <th>3</th>\n",
              "      <td>AE</td>\n",
              "      <td>United Arab Emirates</td>\n",
              "      <td>NaN</td>\n",
              "      <td>NaN</td>\n",
              "      <td>NaN</td>\n",
              "      <td>NaN</td>\n",
              "      <td>NaN</td>\n",
              "      <td>2020-02-18</td>\n",
              "      <td>-2.0</td>\n",
              "      <td>1.0</td>\n",
              "      <td>5.0</td>\n",
              "      <td>0.0</td>\n",
              "      <td>2.0</td>\n",
              "      <td>1.0</td>\n",
              "    </tr>\n",
              "    <tr>\n",
              "      <th>4</th>\n",
              "      <td>AE</td>\n",
              "      <td>United Arab Emirates</td>\n",
              "      <td>NaN</td>\n",
              "      <td>NaN</td>\n",
              "      <td>NaN</td>\n",
              "      <td>NaN</td>\n",
              "      <td>NaN</td>\n",
              "      <td>2020-02-19</td>\n",
              "      <td>-2.0</td>\n",
              "      <td>0.0</td>\n",
              "      <td>4.0</td>\n",
              "      <td>-1.0</td>\n",
              "      <td>2.0</td>\n",
              "      <td>1.0</td>\n",
              "    </tr>\n",
              "  </tbody>\n",
              "</table>\n",
              "</div>"
            ],
            "text/plain": [
              "  country_region_code  ... residential_percent_change_from_baseline\n",
              "0                  AE  ...                                      1.0\n",
              "1                  AE  ...                                      1.0\n",
              "2                  AE  ...                                      1.0\n",
              "3                  AE  ...                                      1.0\n",
              "4                  AE  ...                                      1.0\n",
              "\n",
              "[5 rows x 14 columns]"
            ]
          },
          "metadata": {
            "tags": []
          },
          "execution_count": 5
        }
      ]
    },
    {
      "cell_type": "code",
      "metadata": {
        "id": "hpyQzK4VU2y9",
        "colab_type": "code",
        "colab": {}
      },
      "source": [
        "df= df.rename(columns={\"sub_region_1\":\"State\",\n",
        "                       \"retail_and_recreation_percent_change_from_baseline\":\"Recreation\",\n",
        "                       \"grocery_and_pharmacy_percent_change_from_baseline\":\"Grocery_and_Pharmacy\",\n",
        "                       \"parks_percent_change_from_baseline\":\"Parks\",\n",
        "                       \"transit_stations_percent_change_from_baseline\":\"Transit_stations\",\t\n",
        "                       \"workplaces_percent_change_from_baseline\":\"Workplaces\",\t\n",
        "                       \"residential_percent_change_from_baseline\":\"Residential\"})"
      ],
      "execution_count": 6,
      "outputs": []
    },
    {
      "cell_type": "code",
      "metadata": {
        "id": "PAUEPNmDU86r",
        "colab_type": "code",
        "colab": {}
      },
      "source": [
        "df=df[[\"country_region\",\"State\",\"date\",\"Recreation\",\"Grocery_and_Pharmacy\",\"Parks\",\"Transit_stations\",\"Workplaces\",\"Residential\"]]"
      ],
      "execution_count": 7,
      "outputs": []
    },
    {
      "cell_type": "markdown",
      "metadata": {
        "id": "oMWl8wh-VGAx",
        "colab_type": "text"
      },
      "source": [
        "Let's narrow down India"
      ]
    },
    {
      "cell_type": "code",
      "metadata": {
        "id": "NOsF9SDTU-r-",
        "colab_type": "code",
        "colab": {}
      },
      "source": [
        "df_india=df.loc[df[\"country_region\"]== \"India\"]"
      ],
      "execution_count": 8,
      "outputs": []
    },
    {
      "cell_type": "code",
      "metadata": {
        "id": "sMPQVGsFVKm3",
        "colab_type": "code",
        "colab": {
          "base_uri": "https://localhost:8080/",
          "height": 289
        },
        "outputId": "2285b21b-98cc-49b5-f019-af42985a1b02"
      },
      "source": [
        "df_india.info()"
      ],
      "execution_count": 9,
      "outputs": [
        {
          "output_type": "stream",
          "text": [
            "<class 'pandas.core.frame.DataFrame'>\n",
            "Int64Index: 6216 entries, 661444 to 667659\n",
            "Data columns (total 9 columns):\n",
            " #   Column                Non-Null Count  Dtype  \n",
            "---  ------                --------------  -----  \n",
            " 0   country_region        6216 non-null   object \n",
            " 1   State                 6048 non-null   object \n",
            " 2   date                  6216 non-null   object \n",
            " 3   Recreation            6048 non-null   float64\n",
            " 4   Grocery_and_Pharmacy  5905 non-null   float64\n",
            " 5   Parks                 6179 non-null   float64\n",
            " 6   Transit_stations      6029 non-null   float64\n",
            " 7   Workplaces            6216 non-null   float64\n",
            " 8   Residential           6010 non-null   float64\n",
            "dtypes: float64(6), object(3)\n",
            "memory usage: 485.6+ KB\n"
          ],
          "name": "stdout"
        }
      ]
    },
    {
      "cell_type": "code",
      "metadata": {
        "id": "OAmjniF0VMf1",
        "colab_type": "code",
        "colab": {
          "base_uri": "https://localhost:8080/",
          "height": 646
        },
        "outputId": "66411d87-76b7-48f8-974e-28593a4ec093"
      },
      "source": [
        "df_india.State.value_counts()"
      ],
      "execution_count": 10,
      "outputs": [
        {
          "output_type": "execute_result",
          "data": {
            "text/plain": [
              "Odisha                         168\n",
              "Tamil Nadu                     168\n",
              "Madhya Pradesh                 168\n",
              "Karnataka                      168\n",
              "Lakshadweep                    168\n",
              "Jammu and Kashmir              168\n",
              "Puducherry                     168\n",
              "Jharkhand                      168\n",
              "Gujarat                        168\n",
              "Sikkim                         168\n",
              "Mizoram                        168\n",
              "Bihar                          168\n",
              "Andhra Pradesh                 168\n",
              "Daman and Diu                  168\n",
              "Tripura                        168\n",
              "Nagaland                       168\n",
              "Kerala                         168\n",
              "Telangana                      168\n",
              "Haryana                        168\n",
              "West Bengal                    168\n",
              "Chandigarh                     168\n",
              "Himachal Pradesh               168\n",
              "Assam                          168\n",
              "Goa                            168\n",
              "Punjab                         168\n",
              "Uttar Pradesh                  168\n",
              "Manipur                        168\n",
              "Andaman and Nicobar Islands    168\n",
              "Chhattisgarh                   168\n",
              "Meghalaya                      168\n",
              "Uttarakhand                    168\n",
              "Maharashtra                    168\n",
              "Rajasthan                      168\n",
              "Arunachal Pradesh              168\n",
              "Dadra and Nagar Haveli         168\n",
              "Delhi                          168\n",
              "Name: State, dtype: int64"
            ]
          },
          "metadata": {
            "tags": []
          },
          "execution_count": 10
        }
      ]
    },
    {
      "cell_type": "markdown",
      "metadata": {
        "id": "M6bwul3ZVQes",
        "colab_type": "text"
      },
      "source": [
        "Inserting Lockdown Indicators"
      ]
    },
    {
      "cell_type": "code",
      "metadata": {
        "id": "iU-H2eGsVOFQ",
        "colab_type": "code",
        "colab": {}
      },
      "source": [
        "def dateconv(date):\n",
        "  q =\"2020-03-22\"\n",
        "  if date < q:\n",
        "    return \"Pre-Lockdown\"\n",
        "  else:\n",
        "    return \"During-Lockdown\""
      ],
      "execution_count": 11,
      "outputs": []
    },
    {
      "cell_type": "code",
      "metadata": {
        "id": "oYH14-3HVRr5",
        "colab_type": "code",
        "colab": {}
      },
      "source": [
        "df_india[\"Lockdown\"] = df_india[\"date\"].apply(dateconv)"
      ],
      "execution_count": 12,
      "outputs": []
    },
    {
      "cell_type": "code",
      "metadata": {
        "id": "-wcVP2iDVSvJ",
        "colab_type": "code",
        "colab": {
          "base_uri": "https://localhost:8080/",
          "height": 204
        },
        "outputId": "e1c60f4e-7a0f-44db-c87c-8825124d3fae"
      },
      "source": [
        "df_india.head()"
      ],
      "execution_count": 13,
      "outputs": [
        {
          "output_type": "execute_result",
          "data": {
            "text/html": [
              "<div>\n",
              "<style scoped>\n",
              "    .dataframe tbody tr th:only-of-type {\n",
              "        vertical-align: middle;\n",
              "    }\n",
              "\n",
              "    .dataframe tbody tr th {\n",
              "        vertical-align: top;\n",
              "    }\n",
              "\n",
              "    .dataframe thead th {\n",
              "        text-align: right;\n",
              "    }\n",
              "</style>\n",
              "<table border=\"1\" class=\"dataframe\">\n",
              "  <thead>\n",
              "    <tr style=\"text-align: right;\">\n",
              "      <th></th>\n",
              "      <th>country_region</th>\n",
              "      <th>State</th>\n",
              "      <th>date</th>\n",
              "      <th>Recreation</th>\n",
              "      <th>Grocery_and_Pharmacy</th>\n",
              "      <th>Parks</th>\n",
              "      <th>Transit_stations</th>\n",
              "      <th>Workplaces</th>\n",
              "      <th>Residential</th>\n",
              "      <th>Lockdown</th>\n",
              "    </tr>\n",
              "  </thead>\n",
              "  <tbody>\n",
              "    <tr>\n",
              "      <th>661444</th>\n",
              "      <td>India</td>\n",
              "      <td>NaN</td>\n",
              "      <td>2020-02-15</td>\n",
              "      <td>1.0</td>\n",
              "      <td>2.0</td>\n",
              "      <td>3.0</td>\n",
              "      <td>3.0</td>\n",
              "      <td>5.0</td>\n",
              "      <td>0.0</td>\n",
              "      <td>Pre-Lockdown</td>\n",
              "    </tr>\n",
              "    <tr>\n",
              "      <th>661445</th>\n",
              "      <td>India</td>\n",
              "      <td>NaN</td>\n",
              "      <td>2020-02-16</td>\n",
              "      <td>2.0</td>\n",
              "      <td>2.0</td>\n",
              "      <td>3.0</td>\n",
              "      <td>2.0</td>\n",
              "      <td>0.0</td>\n",
              "      <td>0.0</td>\n",
              "      <td>Pre-Lockdown</td>\n",
              "    </tr>\n",
              "    <tr>\n",
              "      <th>661446</th>\n",
              "      <td>India</td>\n",
              "      <td>NaN</td>\n",
              "      <td>2020-02-17</td>\n",
              "      <td>-1.0</td>\n",
              "      <td>1.0</td>\n",
              "      <td>3.0</td>\n",
              "      <td>1.0</td>\n",
              "      <td>4.0</td>\n",
              "      <td>0.0</td>\n",
              "      <td>Pre-Lockdown</td>\n",
              "    </tr>\n",
              "    <tr>\n",
              "      <th>661447</th>\n",
              "      <td>India</td>\n",
              "      <td>NaN</td>\n",
              "      <td>2020-02-18</td>\n",
              "      <td>0.0</td>\n",
              "      <td>2.0</td>\n",
              "      <td>4.0</td>\n",
              "      <td>2.0</td>\n",
              "      <td>3.0</td>\n",
              "      <td>0.0</td>\n",
              "      <td>Pre-Lockdown</td>\n",
              "    </tr>\n",
              "    <tr>\n",
              "      <th>661448</th>\n",
              "      <td>India</td>\n",
              "      <td>NaN</td>\n",
              "      <td>2020-02-19</td>\n",
              "      <td>0.0</td>\n",
              "      <td>2.0</td>\n",
              "      <td>1.0</td>\n",
              "      <td>1.0</td>\n",
              "      <td>4.0</td>\n",
              "      <td>1.0</td>\n",
              "      <td>Pre-Lockdown</td>\n",
              "    </tr>\n",
              "  </tbody>\n",
              "</table>\n",
              "</div>"
            ],
            "text/plain": [
              "       country_region State        date  ...  Workplaces  Residential      Lockdown\n",
              "661444          India   NaN  2020-02-15  ...         5.0          0.0  Pre-Lockdown\n",
              "661445          India   NaN  2020-02-16  ...         0.0          0.0  Pre-Lockdown\n",
              "661446          India   NaN  2020-02-17  ...         4.0          0.0  Pre-Lockdown\n",
              "661447          India   NaN  2020-02-18  ...         3.0          0.0  Pre-Lockdown\n",
              "661448          India   NaN  2020-02-19  ...         4.0          1.0  Pre-Lockdown\n",
              "\n",
              "[5 rows x 10 columns]"
            ]
          },
          "metadata": {
            "tags": []
          },
          "execution_count": 13
        }
      ]
    },
    {
      "cell_type": "code",
      "metadata": {
        "id": "H5-4sfFMVTwb",
        "colab_type": "code",
        "colab": {}
      },
      "source": [
        "def datephase(date):\n",
        "  if date < \"2020-03-22\":\n",
        "    return \"Pre Lockdown\" \n",
        "  elif date < \"2020-04-15\":\n",
        "    return \"Lockdown Phase 1\"\n",
        "  elif date < \"2020-05-04\":\n",
        "    return \"Lockdown Phase 2\"\n",
        "  elif date < \"2020-05-18\":\n",
        "    return \"Lockdown Phase 3\"\n",
        "  elif date < \"2020-06-01\":\n",
        "    return \"Lockdown Phase 4\"\n",
        "  elif date < \"2020-07-01\":\n",
        "    return \"Unlock Phase 1\"\n",
        "  else:\n",
        "    return \"Unlock Phase 2\""
      ],
      "execution_count": 14,
      "outputs": []
    },
    {
      "cell_type": "code",
      "metadata": {
        "id": "2dD-9mQBVVJm",
        "colab_type": "code",
        "colab": {}
      },
      "source": [
        "df_india[\"LockdownPhase\"] = df_india[\"date\"].apply(datephase)"
      ],
      "execution_count": 15,
      "outputs": []
    },
    {
      "cell_type": "code",
      "metadata": {
        "id": "M5YmTbFBVXpu",
        "colab_type": "code",
        "colab": {
          "base_uri": "https://localhost:8080/",
          "height": 204
        },
        "outputId": "a921b070-5511-4894-a10d-0bb658ca6526"
      },
      "source": [
        "df_india.tail()"
      ],
      "execution_count": 16,
      "outputs": [
        {
          "output_type": "execute_result",
          "data": {
            "text/html": [
              "<div>\n",
              "<style scoped>\n",
              "    .dataframe tbody tr th:only-of-type {\n",
              "        vertical-align: middle;\n",
              "    }\n",
              "\n",
              "    .dataframe tbody tr th {\n",
              "        vertical-align: top;\n",
              "    }\n",
              "\n",
              "    .dataframe thead th {\n",
              "        text-align: right;\n",
              "    }\n",
              "</style>\n",
              "<table border=\"1\" class=\"dataframe\">\n",
              "  <thead>\n",
              "    <tr style=\"text-align: right;\">\n",
              "      <th></th>\n",
              "      <th>country_region</th>\n",
              "      <th>State</th>\n",
              "      <th>date</th>\n",
              "      <th>Recreation</th>\n",
              "      <th>Grocery_and_Pharmacy</th>\n",
              "      <th>Parks</th>\n",
              "      <th>Transit_stations</th>\n",
              "      <th>Workplaces</th>\n",
              "      <th>Residential</th>\n",
              "      <th>Lockdown</th>\n",
              "      <th>LockdownPhase</th>\n",
              "    </tr>\n",
              "  </thead>\n",
              "  <tbody>\n",
              "    <tr>\n",
              "      <th>667655</th>\n",
              "      <td>India</td>\n",
              "      <td>West Bengal</td>\n",
              "      <td>2020-07-27</td>\n",
              "      <td>-63.0</td>\n",
              "      <td>-13.0</td>\n",
              "      <td>-39.0</td>\n",
              "      <td>-46.0</td>\n",
              "      <td>-33.0</td>\n",
              "      <td>17.0</td>\n",
              "      <td>During-Lockdown</td>\n",
              "      <td>Unlock Phase 2</td>\n",
              "    </tr>\n",
              "    <tr>\n",
              "      <th>667656</th>\n",
              "      <td>India</td>\n",
              "      <td>West Bengal</td>\n",
              "      <td>2020-07-28</td>\n",
              "      <td>-61.0</td>\n",
              "      <td>-7.0</td>\n",
              "      <td>-38.0</td>\n",
              "      <td>-44.0</td>\n",
              "      <td>-35.0</td>\n",
              "      <td>17.0</td>\n",
              "      <td>During-Lockdown</td>\n",
              "      <td>Unlock Phase 2</td>\n",
              "    </tr>\n",
              "    <tr>\n",
              "      <th>667657</th>\n",
              "      <td>India</td>\n",
              "      <td>West Bengal</td>\n",
              "      <td>2020-07-29</td>\n",
              "      <td>-85.0</td>\n",
              "      <td>-60.0</td>\n",
              "      <td>-52.0</td>\n",
              "      <td>-73.0</td>\n",
              "      <td>-61.0</td>\n",
              "      <td>26.0</td>\n",
              "      <td>During-Lockdown</td>\n",
              "      <td>Unlock Phase 2</td>\n",
              "    </tr>\n",
              "    <tr>\n",
              "      <th>667658</th>\n",
              "      <td>India</td>\n",
              "      <td>West Bengal</td>\n",
              "      <td>2020-07-30</td>\n",
              "      <td>-57.0</td>\n",
              "      <td>3.0</td>\n",
              "      <td>-36.0</td>\n",
              "      <td>-39.0</td>\n",
              "      <td>-30.0</td>\n",
              "      <td>15.0</td>\n",
              "      <td>During-Lockdown</td>\n",
              "      <td>Unlock Phase 2</td>\n",
              "    </tr>\n",
              "    <tr>\n",
              "      <th>667659</th>\n",
              "      <td>India</td>\n",
              "      <td>West Bengal</td>\n",
              "      <td>2020-07-31</td>\n",
              "      <td>-57.0</td>\n",
              "      <td>2.0</td>\n",
              "      <td>-36.0</td>\n",
              "      <td>-39.0</td>\n",
              "      <td>-30.0</td>\n",
              "      <td>15.0</td>\n",
              "      <td>During-Lockdown</td>\n",
              "      <td>Unlock Phase 2</td>\n",
              "    </tr>\n",
              "  </tbody>\n",
              "</table>\n",
              "</div>"
            ],
            "text/plain": [
              "       country_region        State  ...         Lockdown   LockdownPhase\n",
              "667655          India  West Bengal  ...  During-Lockdown  Unlock Phase 2\n",
              "667656          India  West Bengal  ...  During-Lockdown  Unlock Phase 2\n",
              "667657          India  West Bengal  ...  During-Lockdown  Unlock Phase 2\n",
              "667658          India  West Bengal  ...  During-Lockdown  Unlock Phase 2\n",
              "667659          India  West Bengal  ...  During-Lockdown  Unlock Phase 2\n",
              "\n",
              "[5 rows x 11 columns]"
            ]
          },
          "metadata": {
            "tags": []
          },
          "execution_count": 16
        }
      ]
    },
    {
      "cell_type": "code",
      "metadata": {
        "id": "Z-YXLJcsVbMX",
        "colab_type": "code",
        "colab": {}
      },
      "source": [
        "df_india_Telangana_and_AP = df_india[(df_india[\"State\"] == \"Telangana\") | (df_india[\"State\"] == \"Andhra Pradesh\")]"
      ],
      "execution_count": 17,
      "outputs": []
    },
    {
      "cell_type": "code",
      "metadata": {
        "id": "NEqoWj2-VjXF",
        "colab_type": "code",
        "colab": {
          "base_uri": "https://localhost:8080/",
          "height": 204
        },
        "outputId": "6df650d2-d510-4f1a-88ea-8f45e7caad46"
      },
      "source": [
        "df_india_Telangana_and_AP.head()"
      ],
      "execution_count": 18,
      "outputs": [
        {
          "output_type": "execute_result",
          "data": {
            "text/html": [
              "<div>\n",
              "<style scoped>\n",
              "    .dataframe tbody tr th:only-of-type {\n",
              "        vertical-align: middle;\n",
              "    }\n",
              "\n",
              "    .dataframe tbody tr th {\n",
              "        vertical-align: top;\n",
              "    }\n",
              "\n",
              "    .dataframe thead th {\n",
              "        text-align: right;\n",
              "    }\n",
              "</style>\n",
              "<table border=\"1\" class=\"dataframe\">\n",
              "  <thead>\n",
              "    <tr style=\"text-align: right;\">\n",
              "      <th></th>\n",
              "      <th>country_region</th>\n",
              "      <th>State</th>\n",
              "      <th>date</th>\n",
              "      <th>Recreation</th>\n",
              "      <th>Grocery_and_Pharmacy</th>\n",
              "      <th>Parks</th>\n",
              "      <th>Transit_stations</th>\n",
              "      <th>Workplaces</th>\n",
              "      <th>Residential</th>\n",
              "      <th>Lockdown</th>\n",
              "      <th>LockdownPhase</th>\n",
              "    </tr>\n",
              "  </thead>\n",
              "  <tbody>\n",
              "    <tr>\n",
              "      <th>661780</th>\n",
              "      <td>India</td>\n",
              "      <td>Andhra Pradesh</td>\n",
              "      <td>2020-02-15</td>\n",
              "      <td>-1.0</td>\n",
              "      <td>-1.0</td>\n",
              "      <td>5.0</td>\n",
              "      <td>5.0</td>\n",
              "      <td>4.0</td>\n",
              "      <td>0.0</td>\n",
              "      <td>Pre-Lockdown</td>\n",
              "      <td>Pre Lockdown</td>\n",
              "    </tr>\n",
              "    <tr>\n",
              "      <th>661781</th>\n",
              "      <td>India</td>\n",
              "      <td>Andhra Pradesh</td>\n",
              "      <td>2020-02-16</td>\n",
              "      <td>-1.0</td>\n",
              "      <td>1.0</td>\n",
              "      <td>4.0</td>\n",
              "      <td>4.0</td>\n",
              "      <td>-1.0</td>\n",
              "      <td>1.0</td>\n",
              "      <td>Pre-Lockdown</td>\n",
              "      <td>Pre Lockdown</td>\n",
              "    </tr>\n",
              "    <tr>\n",
              "      <th>661782</th>\n",
              "      <td>India</td>\n",
              "      <td>Andhra Pradesh</td>\n",
              "      <td>2020-02-17</td>\n",
              "      <td>-1.0</td>\n",
              "      <td>-1.0</td>\n",
              "      <td>4.0</td>\n",
              "      <td>3.0</td>\n",
              "      <td>6.0</td>\n",
              "      <td>0.0</td>\n",
              "      <td>Pre-Lockdown</td>\n",
              "      <td>Pre Lockdown</td>\n",
              "    </tr>\n",
              "    <tr>\n",
              "      <th>661783</th>\n",
              "      <td>India</td>\n",
              "      <td>Andhra Pradesh</td>\n",
              "      <td>2020-02-18</td>\n",
              "      <td>-1.0</td>\n",
              "      <td>1.0</td>\n",
              "      <td>4.0</td>\n",
              "      <td>2.0</td>\n",
              "      <td>5.0</td>\n",
              "      <td>0.0</td>\n",
              "      <td>Pre-Lockdown</td>\n",
              "      <td>Pre Lockdown</td>\n",
              "    </tr>\n",
              "    <tr>\n",
              "      <th>661784</th>\n",
              "      <td>India</td>\n",
              "      <td>Andhra Pradesh</td>\n",
              "      <td>2020-02-19</td>\n",
              "      <td>-2.0</td>\n",
              "      <td>0.0</td>\n",
              "      <td>4.0</td>\n",
              "      <td>0.0</td>\n",
              "      <td>4.0</td>\n",
              "      <td>0.0</td>\n",
              "      <td>Pre-Lockdown</td>\n",
              "      <td>Pre Lockdown</td>\n",
              "    </tr>\n",
              "  </tbody>\n",
              "</table>\n",
              "</div>"
            ],
            "text/plain": [
              "       country_region           State  ...      Lockdown  LockdownPhase\n",
              "661780          India  Andhra Pradesh  ...  Pre-Lockdown   Pre Lockdown\n",
              "661781          India  Andhra Pradesh  ...  Pre-Lockdown   Pre Lockdown\n",
              "661782          India  Andhra Pradesh  ...  Pre-Lockdown   Pre Lockdown\n",
              "661783          India  Andhra Pradesh  ...  Pre-Lockdown   Pre Lockdown\n",
              "661784          India  Andhra Pradesh  ...  Pre-Lockdown   Pre Lockdown\n",
              "\n",
              "[5 rows x 11 columns]"
            ]
          },
          "metadata": {
            "tags": []
          },
          "execution_count": 18
        }
      ]
    },
    {
      "cell_type": "code",
      "metadata": {
        "id": "hiEV9DmWVkpO",
        "colab_type": "code",
        "colab": {
          "base_uri": "https://localhost:8080/",
          "height": 1000
        },
        "outputId": "49f3be77-684b-40f4-da7d-ee8e661fd3d3"
      },
      "source": [
        "columns = [\"Recreation\",\"Grocery_and_Pharmacy\",\"Parks\",\"Transit_stations\",\"Workplaces\",\"Residential\"]\n",
        "for i in columns:\n",
        "  fig = px.box(df_india_Telangana_and_AP, x=\"Lockdown\", y=i, color=\"State\",width=600,height=400,title=i,template=\"plotly_dark\")# or \"inclusive\", or \"linear\" by default\n",
        "  fig.show()"
      ],
      "execution_count": 19,
      "outputs": [
        {
          "output_type": "display_data",
          "data": {
            "text/html": [
              "<html>\n",
              "<head><meta charset=\"utf-8\" /></head>\n",
              "<body>\n",
              "    <div>\n",
              "            <script src=\"https://cdnjs.cloudflare.com/ajax/libs/mathjax/2.7.5/MathJax.js?config=TeX-AMS-MML_SVG\"></script><script type=\"text/javascript\">if (window.MathJax) {MathJax.Hub.Config({SVG: {font: \"STIX-Web\"}});}</script>\n",
              "                <script type=\"text/javascript\">window.PlotlyConfig = {MathJaxConfig: 'local'};</script>\n",
              "        <script src=\"https://cdn.plot.ly/plotly-latest.min.js\"></script>    \n",
              "            <div id=\"5c6bdc0d-5173-41f5-a788-8ba1f44f56f2\" class=\"plotly-graph-div\" style=\"height:400px; width:600px;\"></div>\n",
              "            <script type=\"text/javascript\">\n",
              "                \n",
              "                    window.PLOTLYENV=window.PLOTLYENV || {};\n",
              "                    \n",
              "                if (document.getElementById(\"5c6bdc0d-5173-41f5-a788-8ba1f44f56f2\")) {\n",
              "                    Plotly.newPlot(\n",
              "                        '5c6bdc0d-5173-41f5-a788-8ba1f44f56f2',\n",
              "                        [{\"alignmentgroup\": \"True\", \"hoverlabel\": {\"namelength\": 0}, \"hovertemplate\": \"State=Andhra Pradesh<br>Lockdown=%{x}<br>Recreation=%{y}\", \"legendgroup\": \"State=Andhra Pradesh\", \"marker\": {\"color\": \"#636efa\"}, \"name\": \"State=Andhra Pradesh\", \"notched\": false, \"offsetgroup\": \"State=Andhra Pradesh\", \"orientation\": \"v\", \"showlegend\": true, \"type\": \"box\", \"x\": [\"Pre-Lockdown\", \"Pre-Lockdown\", \"Pre-Lockdown\", \"Pre-Lockdown\", \"Pre-Lockdown\", \"Pre-Lockdown\", \"Pre-Lockdown\", \"Pre-Lockdown\", \"Pre-Lockdown\", \"Pre-Lockdown\", \"Pre-Lockdown\", \"Pre-Lockdown\", \"Pre-Lockdown\", \"Pre-Lockdown\", \"Pre-Lockdown\", \"Pre-Lockdown\", \"Pre-Lockdown\", \"Pre-Lockdown\", \"Pre-Lockdown\", \"Pre-Lockdown\", \"Pre-Lockdown\", \"Pre-Lockdown\", \"Pre-Lockdown\", \"Pre-Lockdown\", \"Pre-Lockdown\", \"Pre-Lockdown\", \"Pre-Lockdown\", \"Pre-Lockdown\", \"Pre-Lockdown\", \"Pre-Lockdown\", \"Pre-Lockdown\", \"Pre-Lockdown\", \"Pre-Lockdown\", \"Pre-Lockdown\", \"Pre-Lockdown\", \"Pre-Lockdown\", \"During-Lockdown\", \"During-Lockdown\", \"During-Lockdown\", \"During-Lockdown\", \"During-Lockdown\", \"During-Lockdown\", \"During-Lockdown\", \"During-Lockdown\", \"During-Lockdown\", \"During-Lockdown\", \"During-Lockdown\", \"During-Lockdown\", \"During-Lockdown\", \"During-Lockdown\", \"During-Lockdown\", \"During-Lockdown\", \"During-Lockdown\", \"During-Lockdown\", \"During-Lockdown\", \"During-Lockdown\", \"During-Lockdown\", \"During-Lockdown\", \"During-Lockdown\", \"During-Lockdown\", \"During-Lockdown\", \"During-Lockdown\", \"During-Lockdown\", \"During-Lockdown\", \"During-Lockdown\", \"During-Lockdown\", \"During-Lockdown\", \"During-Lockdown\", \"During-Lockdown\", \"During-Lockdown\", \"During-Lockdown\", \"During-Lockdown\", \"During-Lockdown\", \"During-Lockdown\", \"During-Lockdown\", \"During-Lockdown\", \"During-Lockdown\", \"During-Lockdown\", \"During-Lockdown\", \"During-Lockdown\", \"During-Lockdown\", \"During-Lockdown\", \"During-Lockdown\", \"During-Lockdown\", \"During-Lockdown\", \"During-Lockdown\", \"During-Lockdown\", \"During-Lockdown\", \"During-Lockdown\", \"During-Lockdown\", \"During-Lockdown\", \"During-Lockdown\", \"During-Lockdown\", \"During-Lockdown\", \"During-Lockdown\", \"During-Lockdown\", \"During-Lockdown\", \"During-Lockdown\", \"During-Lockdown\", \"During-Lockdown\", \"During-Lockdown\", \"During-Lockdown\", \"During-Lockdown\", \"During-Lockdown\", \"During-Lockdown\", \"During-Lockdown\", \"During-Lockdown\", \"During-Lockdown\", \"During-Lockdown\", \"During-Lockdown\", \"During-Lockdown\", \"During-Lockdown\", \"During-Lockdown\", \"During-Lockdown\", \"During-Lockdown\", \"During-Lockdown\", \"During-Lockdown\", \"During-Lockdown\", \"During-Lockdown\", \"During-Lockdown\", \"During-Lockdown\", \"During-Lockdown\", \"During-Lockdown\", \"During-Lockdown\", \"During-Lockdown\", \"During-Lockdown\", \"During-Lockdown\", \"During-Lockdown\", \"During-Lockdown\", \"During-Lockdown\", \"During-Lockdown\", \"During-Lockdown\", \"During-Lockdown\", \"During-Lockdown\", \"During-Lockdown\", \"During-Lockdown\", \"During-Lockdown\", \"During-Lockdown\", \"During-Lockdown\", \"During-Lockdown\", \"During-Lockdown\", \"During-Lockdown\", \"During-Lockdown\", \"During-Lockdown\", \"During-Lockdown\", \"During-Lockdown\", \"During-Lockdown\", \"During-Lockdown\", \"During-Lockdown\", \"During-Lockdown\", \"During-Lockdown\", \"During-Lockdown\", \"During-Lockdown\", \"During-Lockdown\", \"During-Lockdown\", \"During-Lockdown\", \"During-Lockdown\", \"During-Lockdown\", \"During-Lockdown\", \"During-Lockdown\", \"During-Lockdown\", \"During-Lockdown\", \"During-Lockdown\", \"During-Lockdown\", \"During-Lockdown\", \"During-Lockdown\", \"During-Lockdown\", \"During-Lockdown\"], \"x0\": \" \", \"xaxis\": \"x\", \"y\": [-1.0, -1.0, -1.0, -1.0, -2.0, 0.0, -3.0, -3.0, -2.0, 0.0, 1.0, 0.0, 1.0, 0.0, -1.0, 1.0, 0.0, 0.0, 0.0, 0.0, 0.0, -1.0, 1.0, 1.0, 0.0, -2.0, -1.0, -4.0, -5.0, -6.0, -4.0, -4.0, -4.0, -4.0, -11.0, -16.0, -76.0, -51.0, -68.0, -76.0, -74.0, -74.0, -75.0, -71.0, -73.0, -72.0, -74.0, -75.0, -74.0, -74.0, -71.0, -74.0, -77.0, -77.0, -78.0, -78.0, -79.0, -78.0, -77.0, -78.0, -77.0, -84.0, -85.0, -86.0, -85.0, -86.0, -85.0, -86.0, -85.0, -85.0, -86.0, -85.0, -86.0, -85.0, -85.0, -85.0, -85.0, -85.0, -84.0, -81.0, -80.0, -79.0, -79.0, -79.0, -80.0, -79.0, -79.0, -78.0, -78.0, -77.0, -77.0, -78.0, -78.0, -76.0, -75.0, -74.0, -73.0, -73.0, -72.0, -71.0, -71.0, -69.0, -67.0, -67.0, -67.0, -65.0, -67.0, -62.0, -62.0, -60.0, -60.0, -58.0, -59.0, -63.0, -55.0, -57.0, -56.0, -54.0, -54.0, -53.0, -58.0, -52.0, -52.0, -53.0, -53.0, -54.0, -55.0, -68.0, -54.0, -55.0, -54.0, -55.0, -56.0, -57.0, -62.0, -56.0, -54.0, -54.0, -55.0, -55.0, -56.0, -61.0, -55.0, -55.0, -55.0, -56.0, -56.0, -57.0, -62.0, -57.0, -59.0, -62.0, -58.0, -59.0, -61.0, -68.0, -62.0, -61.0, -60.0, -61.0, -63.0, -64.0, -68.0, -62.0, -62.0, -60.0, -56.0, -62.0], \"y0\": \" \", \"yaxis\": \"y\"}, {\"alignmentgroup\": \"True\", \"hoverlabel\": {\"namelength\": 0}, \"hovertemplate\": \"State=Telangana<br>Lockdown=%{x}<br>Recreation=%{y}\", \"legendgroup\": \"State=Telangana\", \"marker\": {\"color\": \"#EF553B\"}, \"name\": \"State=Telangana\", \"notched\": false, \"offsetgroup\": \"State=Telangana\", \"orientation\": \"v\", \"showlegend\": true, \"type\": \"box\", \"x\": [\"Pre-Lockdown\", \"Pre-Lockdown\", \"Pre-Lockdown\", \"Pre-Lockdown\", \"Pre-Lockdown\", \"Pre-Lockdown\", \"Pre-Lockdown\", \"Pre-Lockdown\", \"Pre-Lockdown\", \"Pre-Lockdown\", \"Pre-Lockdown\", \"Pre-Lockdown\", \"Pre-Lockdown\", \"Pre-Lockdown\", \"Pre-Lockdown\", \"Pre-Lockdown\", \"Pre-Lockdown\", \"Pre-Lockdown\", \"Pre-Lockdown\", \"Pre-Lockdown\", \"Pre-Lockdown\", \"Pre-Lockdown\", \"Pre-Lockdown\", \"Pre-Lockdown\", \"Pre-Lockdown\", \"Pre-Lockdown\", \"Pre-Lockdown\", \"Pre-Lockdown\", \"Pre-Lockdown\", \"Pre-Lockdown\", \"Pre-Lockdown\", \"Pre-Lockdown\", \"Pre-Lockdown\", \"Pre-Lockdown\", \"Pre-Lockdown\", \"Pre-Lockdown\", \"During-Lockdown\", \"During-Lockdown\", \"During-Lockdown\", \"During-Lockdown\", \"During-Lockdown\", \"During-Lockdown\", \"During-Lockdown\", \"During-Lockdown\", \"During-Lockdown\", \"During-Lockdown\", \"During-Lockdown\", \"During-Lockdown\", \"During-Lockdown\", \"During-Lockdown\", \"During-Lockdown\", \"During-Lockdown\", \"During-Lockdown\", \"During-Lockdown\", \"During-Lockdown\", \"During-Lockdown\", \"During-Lockdown\", \"During-Lockdown\", \"During-Lockdown\", \"During-Lockdown\", \"During-Lockdown\", \"During-Lockdown\", \"During-Lockdown\", \"During-Lockdown\", \"During-Lockdown\", \"During-Lockdown\", \"During-Lockdown\", \"During-Lockdown\", \"During-Lockdown\", \"During-Lockdown\", \"During-Lockdown\", \"During-Lockdown\", \"During-Lockdown\", \"During-Lockdown\", \"During-Lockdown\", \"During-Lockdown\", \"During-Lockdown\", \"During-Lockdown\", \"During-Lockdown\", \"During-Lockdown\", \"During-Lockdown\", \"During-Lockdown\", \"During-Lockdown\", \"During-Lockdown\", \"During-Lockdown\", \"During-Lockdown\", \"During-Lockdown\", \"During-Lockdown\", \"During-Lockdown\", \"During-Lockdown\", \"During-Lockdown\", \"During-Lockdown\", \"During-Lockdown\", \"During-Lockdown\", \"During-Lockdown\", \"During-Lockdown\", \"During-Lockdown\", \"During-Lockdown\", \"During-Lockdown\", \"During-Lockdown\", \"During-Lockdown\", \"During-Lockdown\", \"During-Lockdown\", \"During-Lockdown\", \"During-Lockdown\", \"During-Lockdown\", \"During-Lockdown\", \"During-Lockdown\", \"During-Lockdown\", \"During-Lockdown\", \"During-Lockdown\", \"During-Lockdown\", \"During-Lockdown\", \"During-Lockdown\", \"During-Lockdown\", \"During-Lockdown\", \"During-Lockdown\", \"During-Lockdown\", \"During-Lockdown\", \"During-Lockdown\", \"During-Lockdown\", \"During-Lockdown\", \"During-Lockdown\", \"During-Lockdown\", \"During-Lockdown\", \"During-Lockdown\", \"During-Lockdown\", \"During-Lockdown\", \"During-Lockdown\", \"During-Lockdown\", \"During-Lockdown\", \"During-Lockdown\", \"During-Lockdown\", \"During-Lockdown\", \"During-Lockdown\", \"During-Lockdown\", \"During-Lockdown\", \"During-Lockdown\", \"During-Lockdown\", \"During-Lockdown\", \"During-Lockdown\", \"During-Lockdown\", \"During-Lockdown\", \"During-Lockdown\", \"During-Lockdown\", \"During-Lockdown\", \"During-Lockdown\", \"During-Lockdown\", \"During-Lockdown\", \"During-Lockdown\", \"During-Lockdown\", \"During-Lockdown\", \"During-Lockdown\", \"During-Lockdown\", \"During-Lockdown\", \"During-Lockdown\", \"During-Lockdown\", \"During-Lockdown\", \"During-Lockdown\", \"During-Lockdown\", \"During-Lockdown\", \"During-Lockdown\", \"During-Lockdown\", \"During-Lockdown\", \"During-Lockdown\", \"During-Lockdown\", \"During-Lockdown\", \"During-Lockdown\"], \"x0\": \" \", \"xaxis\": \"x\", \"y\": [2.0, 1.0, 0.0, 1.0, 0.0, 2.0, -7.0, -2.0, -2.0, 2.0, 2.0, 3.0, 2.0, 4.0, 3.0, 3.0, 1.0, 1.0, 1.0, -2.0, -1.0, 0.0, -2.0, -9.0, -1.0, 0.0, -1.0, -2.0, -4.0, -10.0, -8.0, -10.0, -10.0, -18.0, -20.0, -25.0, -84.0, -68.0, -79.0, -82.0, -82.0, -83.0, -84.0, -82.0, -82.0, -81.0, -81.0, -82.0, -82.0, -82.0, -81.0, -81.0, -84.0, -84.0, -84.0, -85.0, -86.0, -84.0, -84.0, -84.0, -84.0, -89.0, -89.0, -90.0, -89.0, -90.0, -90.0, -90.0, -90.0, -90.0, -91.0, -89.0, -90.0, -89.0, -89.0, -89.0, -89.0, -89.0, -88.0, -88.0, -87.0, -84.0, -84.0, -83.0, -85.0, -84.0, -83.0, -83.0, -83.0, -82.0, -82.0, -83.0, -83.0, -81.0, -78.0, -75.0, -75.0, -76.0, -75.0, -76.0, -76.0, -74.0, -72.0, -72.0, -72.0, -72.0, -75.0, -67.0, -66.0, -66.0, -66.0, -64.0, -63.0, -66.0, -59.0, -60.0, -61.0, -57.0, -59.0, -59.0, -62.0, -58.0, -60.0, -58.0, -60.0, -59.0, -60.0, -71.0, -56.0, -57.0, -58.0, -59.0, -60.0, -63.0, -66.0, -59.0, -57.0, -60.0, -60.0, -62.0, -62.0, -66.0, -60.0, -60.0, -61.0, -61.0, -62.0, -62.0, -65.0, -61.0, -62.0, -65.0, -59.0, -61.0, -61.0, -67.0, -62.0, -60.0, -60.0, -64.0, -62.0, -63.0, -64.0, -59.0, -62.0, -58.0, -56.0, -60.0], \"y0\": \" \", \"yaxis\": \"y\"}],\n",
              "                        {\"boxmode\": \"group\", \"height\": 400, \"legend\": {\"tracegroupgap\": 0}, \"template\": {\"data\": {\"bar\": [{\"error_x\": {\"color\": \"#f2f5fa\"}, \"error_y\": {\"color\": \"#f2f5fa\"}, \"marker\": {\"line\": {\"color\": \"rgb(17,17,17)\", \"width\": 0.5}}, \"type\": \"bar\"}], \"barpolar\": [{\"marker\": {\"line\": {\"color\": \"rgb(17,17,17)\", \"width\": 0.5}}, \"type\": \"barpolar\"}], \"carpet\": [{\"aaxis\": {\"endlinecolor\": \"#A2B1C6\", \"gridcolor\": \"#506784\", \"linecolor\": \"#506784\", \"minorgridcolor\": \"#506784\", \"startlinecolor\": \"#A2B1C6\"}, \"baxis\": {\"endlinecolor\": \"#A2B1C6\", \"gridcolor\": \"#506784\", \"linecolor\": \"#506784\", \"minorgridcolor\": \"#506784\", \"startlinecolor\": \"#A2B1C6\"}, \"type\": \"carpet\"}], \"choropleth\": [{\"colorbar\": {\"outlinewidth\": 0, \"ticks\": \"\"}, \"type\": \"choropleth\"}], \"contour\": [{\"colorbar\": {\"outlinewidth\": 0, \"ticks\": \"\"}, \"colorscale\": [[0.0, \"#0d0887\"], [0.1111111111111111, \"#46039f\"], [0.2222222222222222, \"#7201a8\"], [0.3333333333333333, \"#9c179e\"], [0.4444444444444444, \"#bd3786\"], [0.5555555555555556, \"#d8576b\"], [0.6666666666666666, \"#ed7953\"], [0.7777777777777778, \"#fb9f3a\"], [0.8888888888888888, \"#fdca26\"], [1.0, \"#f0f921\"]], \"type\": \"contour\"}], \"contourcarpet\": [{\"colorbar\": {\"outlinewidth\": 0, \"ticks\": \"\"}, \"type\": \"contourcarpet\"}], \"heatmap\": [{\"colorbar\": {\"outlinewidth\": 0, \"ticks\": \"\"}, \"colorscale\": [[0.0, \"#0d0887\"], [0.1111111111111111, \"#46039f\"], [0.2222222222222222, \"#7201a8\"], [0.3333333333333333, \"#9c179e\"], [0.4444444444444444, \"#bd3786\"], [0.5555555555555556, \"#d8576b\"], [0.6666666666666666, \"#ed7953\"], [0.7777777777777778, \"#fb9f3a\"], [0.8888888888888888, \"#fdca26\"], [1.0, \"#f0f921\"]], \"type\": \"heatmap\"}], \"heatmapgl\": [{\"colorbar\": {\"outlinewidth\": 0, \"ticks\": \"\"}, \"colorscale\": [[0.0, \"#0d0887\"], [0.1111111111111111, \"#46039f\"], [0.2222222222222222, \"#7201a8\"], [0.3333333333333333, \"#9c179e\"], [0.4444444444444444, \"#bd3786\"], [0.5555555555555556, \"#d8576b\"], [0.6666666666666666, \"#ed7953\"], [0.7777777777777778, \"#fb9f3a\"], [0.8888888888888888, \"#fdca26\"], [1.0, \"#f0f921\"]], \"type\": \"heatmapgl\"}], \"histogram\": [{\"marker\": {\"colorbar\": {\"outlinewidth\": 0, \"ticks\": \"\"}}, \"type\": \"histogram\"}], \"histogram2d\": [{\"colorbar\": {\"outlinewidth\": 0, \"ticks\": \"\"}, \"colorscale\": [[0.0, \"#0d0887\"], [0.1111111111111111, \"#46039f\"], [0.2222222222222222, \"#7201a8\"], [0.3333333333333333, \"#9c179e\"], [0.4444444444444444, \"#bd3786\"], [0.5555555555555556, \"#d8576b\"], [0.6666666666666666, \"#ed7953\"], [0.7777777777777778, \"#fb9f3a\"], [0.8888888888888888, \"#fdca26\"], [1.0, \"#f0f921\"]], \"type\": \"histogram2d\"}], \"histogram2dcontour\": [{\"colorbar\": {\"outlinewidth\": 0, \"ticks\": \"\"}, \"colorscale\": [[0.0, \"#0d0887\"], [0.1111111111111111, \"#46039f\"], [0.2222222222222222, \"#7201a8\"], [0.3333333333333333, \"#9c179e\"], [0.4444444444444444, \"#bd3786\"], [0.5555555555555556, \"#d8576b\"], [0.6666666666666666, \"#ed7953\"], [0.7777777777777778, \"#fb9f3a\"], [0.8888888888888888, \"#fdca26\"], [1.0, \"#f0f921\"]], \"type\": \"histogram2dcontour\"}], \"mesh3d\": [{\"colorbar\": {\"outlinewidth\": 0, \"ticks\": \"\"}, \"type\": \"mesh3d\"}], \"parcoords\": [{\"line\": {\"colorbar\": {\"outlinewidth\": 0, \"ticks\": \"\"}}, \"type\": \"parcoords\"}], \"pie\": [{\"automargin\": true, \"type\": \"pie\"}], \"scatter\": [{\"marker\": {\"line\": {\"color\": \"#283442\"}}, \"type\": \"scatter\"}], \"scatter3d\": [{\"line\": {\"colorbar\": {\"outlinewidth\": 0, \"ticks\": \"\"}}, \"marker\": {\"colorbar\": {\"outlinewidth\": 0, \"ticks\": \"\"}}, \"type\": \"scatter3d\"}], \"scattercarpet\": [{\"marker\": {\"colorbar\": {\"outlinewidth\": 0, \"ticks\": \"\"}}, \"type\": \"scattercarpet\"}], \"scattergeo\": [{\"marker\": {\"colorbar\": {\"outlinewidth\": 0, \"ticks\": \"\"}}, \"type\": \"scattergeo\"}], \"scattergl\": [{\"marker\": {\"line\": {\"color\": \"#283442\"}}, \"type\": \"scattergl\"}], \"scattermapbox\": [{\"marker\": {\"colorbar\": {\"outlinewidth\": 0, \"ticks\": \"\"}}, \"type\": \"scattermapbox\"}], \"scatterpolar\": [{\"marker\": {\"colorbar\": {\"outlinewidth\": 0, \"ticks\": \"\"}}, \"type\": \"scatterpolar\"}], \"scatterpolargl\": [{\"marker\": {\"colorbar\": {\"outlinewidth\": 0, \"ticks\": \"\"}}, \"type\": \"scatterpolargl\"}], \"scatterternary\": [{\"marker\": {\"colorbar\": {\"outlinewidth\": 0, \"ticks\": \"\"}}, \"type\": \"scatterternary\"}], \"surface\": [{\"colorbar\": {\"outlinewidth\": 0, \"ticks\": \"\"}, \"colorscale\": [[0.0, \"#0d0887\"], [0.1111111111111111, \"#46039f\"], [0.2222222222222222, \"#7201a8\"], [0.3333333333333333, \"#9c179e\"], [0.4444444444444444, \"#bd3786\"], [0.5555555555555556, \"#d8576b\"], [0.6666666666666666, \"#ed7953\"], [0.7777777777777778, \"#fb9f3a\"], [0.8888888888888888, \"#fdca26\"], [1.0, \"#f0f921\"]], \"type\": \"surface\"}], \"table\": [{\"cells\": {\"fill\": {\"color\": \"#506784\"}, \"line\": {\"color\": \"rgb(17,17,17)\"}}, \"header\": {\"fill\": {\"color\": \"#2a3f5f\"}, \"line\": {\"color\": \"rgb(17,17,17)\"}}, \"type\": \"table\"}]}, \"layout\": {\"annotationdefaults\": {\"arrowcolor\": \"#f2f5fa\", \"arrowhead\": 0, \"arrowwidth\": 1}, \"coloraxis\": {\"colorbar\": {\"outlinewidth\": 0, \"ticks\": \"\"}}, \"colorscale\": {\"diverging\": [[0, \"#8e0152\"], [0.1, \"#c51b7d\"], [0.2, \"#de77ae\"], [0.3, \"#f1b6da\"], [0.4, \"#fde0ef\"], [0.5, \"#f7f7f7\"], [0.6, \"#e6f5d0\"], [0.7, \"#b8e186\"], [0.8, \"#7fbc41\"], [0.9, \"#4d9221\"], [1, \"#276419\"]], \"sequential\": [[0.0, \"#0d0887\"], [0.1111111111111111, \"#46039f\"], [0.2222222222222222, \"#7201a8\"], [0.3333333333333333, \"#9c179e\"], [0.4444444444444444, \"#bd3786\"], [0.5555555555555556, \"#d8576b\"], [0.6666666666666666, \"#ed7953\"], [0.7777777777777778, \"#fb9f3a\"], [0.8888888888888888, \"#fdca26\"], [1.0, \"#f0f921\"]], \"sequentialminus\": [[0.0, \"#0d0887\"], [0.1111111111111111, \"#46039f\"], [0.2222222222222222, \"#7201a8\"], [0.3333333333333333, \"#9c179e\"], [0.4444444444444444, \"#bd3786\"], [0.5555555555555556, \"#d8576b\"], [0.6666666666666666, \"#ed7953\"], [0.7777777777777778, \"#fb9f3a\"], [0.8888888888888888, \"#fdca26\"], [1.0, \"#f0f921\"]]}, \"colorway\": [\"#636efa\", \"#EF553B\", \"#00cc96\", \"#ab63fa\", \"#FFA15A\", \"#19d3f3\", \"#FF6692\", \"#B6E880\", \"#FF97FF\", \"#FECB52\"], \"font\": {\"color\": \"#f2f5fa\"}, \"geo\": {\"bgcolor\": \"rgb(17,17,17)\", \"lakecolor\": \"rgb(17,17,17)\", \"landcolor\": \"rgb(17,17,17)\", \"showlakes\": true, \"showland\": true, \"subunitcolor\": \"#506784\"}, \"hoverlabel\": {\"align\": \"left\"}, \"hovermode\": \"closest\", \"mapbox\": {\"style\": \"dark\"}, \"paper_bgcolor\": \"rgb(17,17,17)\", \"plot_bgcolor\": \"rgb(17,17,17)\", \"polar\": {\"angularaxis\": {\"gridcolor\": \"#506784\", \"linecolor\": \"#506784\", \"ticks\": \"\"}, \"bgcolor\": \"rgb(17,17,17)\", \"radialaxis\": {\"gridcolor\": \"#506784\", \"linecolor\": \"#506784\", \"ticks\": \"\"}}, \"scene\": {\"xaxis\": {\"backgroundcolor\": \"rgb(17,17,17)\", \"gridcolor\": \"#506784\", \"gridwidth\": 2, \"linecolor\": \"#506784\", \"showbackground\": true, \"ticks\": \"\", \"zerolinecolor\": \"#C8D4E3\"}, \"yaxis\": {\"backgroundcolor\": \"rgb(17,17,17)\", \"gridcolor\": \"#506784\", \"gridwidth\": 2, \"linecolor\": \"#506784\", \"showbackground\": true, \"ticks\": \"\", \"zerolinecolor\": \"#C8D4E3\"}, \"zaxis\": {\"backgroundcolor\": \"rgb(17,17,17)\", \"gridcolor\": \"#506784\", \"gridwidth\": 2, \"linecolor\": \"#506784\", \"showbackground\": true, \"ticks\": \"\", \"zerolinecolor\": \"#C8D4E3\"}}, \"shapedefaults\": {\"line\": {\"color\": \"#f2f5fa\"}}, \"sliderdefaults\": {\"bgcolor\": \"#C8D4E3\", \"bordercolor\": \"rgb(17,17,17)\", \"borderwidth\": 1, \"tickwidth\": 0}, \"ternary\": {\"aaxis\": {\"gridcolor\": \"#506784\", \"linecolor\": \"#506784\", \"ticks\": \"\"}, \"baxis\": {\"gridcolor\": \"#506784\", \"linecolor\": \"#506784\", \"ticks\": \"\"}, \"bgcolor\": \"rgb(17,17,17)\", \"caxis\": {\"gridcolor\": \"#506784\", \"linecolor\": \"#506784\", \"ticks\": \"\"}}, \"title\": {\"x\": 0.05}, \"updatemenudefaults\": {\"bgcolor\": \"#506784\", \"borderwidth\": 0}, \"xaxis\": {\"automargin\": true, \"gridcolor\": \"#283442\", \"linecolor\": \"#506784\", \"ticks\": \"\", \"title\": {\"standoff\": 15}, \"zerolinecolor\": \"#283442\", \"zerolinewidth\": 2}, \"yaxis\": {\"automargin\": true, \"gridcolor\": \"#283442\", \"linecolor\": \"#506784\", \"ticks\": \"\", \"title\": {\"standoff\": 15}, \"zerolinecolor\": \"#283442\", \"zerolinewidth\": 2}}}, \"title\": {\"text\": \"Recreation\"}, \"width\": 600, \"xaxis\": {\"anchor\": \"y\", \"domain\": [0.0, 1.0], \"title\": {\"text\": \"Lockdown\"}}, \"yaxis\": {\"anchor\": \"x\", \"domain\": [0.0, 1.0], \"title\": {\"text\": \"Recreation\"}}},\n",
              "                        {\"responsive\": true}\n",
              "                    ).then(function(){\n",
              "                            \n",
              "var gd = document.getElementById('5c6bdc0d-5173-41f5-a788-8ba1f44f56f2');\n",
              "var x = new MutationObserver(function (mutations, observer) {{\n",
              "        var display = window.getComputedStyle(gd).display;\n",
              "        if (!display || display === 'none') {{\n",
              "            console.log([gd, 'removed!']);\n",
              "            Plotly.purge(gd);\n",
              "            observer.disconnect();\n",
              "        }}\n",
              "}});\n",
              "\n",
              "// Listen for the removal of the full notebook cells\n",
              "var notebookContainer = gd.closest('#notebook-container');\n",
              "if (notebookContainer) {{\n",
              "    x.observe(notebookContainer, {childList: true});\n",
              "}}\n",
              "\n",
              "// Listen for the clearing of the current output cell\n",
              "var outputEl = gd.closest('.output');\n",
              "if (outputEl) {{\n",
              "    x.observe(outputEl, {childList: true});\n",
              "}}\n",
              "\n",
              "                        })\n",
              "                };\n",
              "                \n",
              "            </script>\n",
              "        </div>\n",
              "</body>\n",
              "</html>"
            ]
          },
          "metadata": {
            "tags": []
          }
        },
        {
          "output_type": "display_data",
          "data": {
            "text/html": [
              "<html>\n",
              "<head><meta charset=\"utf-8\" /></head>\n",
              "<body>\n",
              "    <div>\n",
              "            <script src=\"https://cdnjs.cloudflare.com/ajax/libs/mathjax/2.7.5/MathJax.js?config=TeX-AMS-MML_SVG\"></script><script type=\"text/javascript\">if (window.MathJax) {MathJax.Hub.Config({SVG: {font: \"STIX-Web\"}});}</script>\n",
              "                <script type=\"text/javascript\">window.PlotlyConfig = {MathJaxConfig: 'local'};</script>\n",
              "        <script src=\"https://cdn.plot.ly/plotly-latest.min.js\"></script>    \n",
              "            <div id=\"5a1acadb-9d4b-443a-9380-4ea7a4c594ec\" class=\"plotly-graph-div\" style=\"height:400px; width:600px;\"></div>\n",
              "            <script type=\"text/javascript\">\n",
              "                \n",
              "                    window.PLOTLYENV=window.PLOTLYENV || {};\n",
              "                    \n",
              "                if (document.getElementById(\"5a1acadb-9d4b-443a-9380-4ea7a4c594ec\")) {\n",
              "                    Plotly.newPlot(\n",
              "                        '5a1acadb-9d4b-443a-9380-4ea7a4c594ec',\n",
              "                        [{\"alignmentgroup\": \"True\", \"hoverlabel\": {\"namelength\": 0}, \"hovertemplate\": \"State=Andhra Pradesh<br>Lockdown=%{x}<br>Grocery_and_Pharmacy=%{y}\", \"legendgroup\": \"State=Andhra Pradesh\", \"marker\": {\"color\": \"#636efa\"}, \"name\": \"State=Andhra Pradesh\", \"notched\": false, \"offsetgroup\": \"State=Andhra Pradesh\", \"orientation\": \"v\", \"showlegend\": true, \"type\": \"box\", \"x\": [\"Pre-Lockdown\", \"Pre-Lockdown\", \"Pre-Lockdown\", \"Pre-Lockdown\", \"Pre-Lockdown\", \"Pre-Lockdown\", \"Pre-Lockdown\", \"Pre-Lockdown\", \"Pre-Lockdown\", \"Pre-Lockdown\", \"Pre-Lockdown\", \"Pre-Lockdown\", \"Pre-Lockdown\", \"Pre-Lockdown\", \"Pre-Lockdown\", \"Pre-Lockdown\", \"Pre-Lockdown\", \"Pre-Lockdown\", \"Pre-Lockdown\", \"Pre-Lockdown\", \"Pre-Lockdown\", \"Pre-Lockdown\", \"Pre-Lockdown\", \"Pre-Lockdown\", \"Pre-Lockdown\", \"Pre-Lockdown\", \"Pre-Lockdown\", \"Pre-Lockdown\", \"Pre-Lockdown\", \"Pre-Lockdown\", \"Pre-Lockdown\", \"Pre-Lockdown\", \"Pre-Lockdown\", \"Pre-Lockdown\", \"Pre-Lockdown\", \"Pre-Lockdown\", \"During-Lockdown\", \"During-Lockdown\", \"During-Lockdown\", \"During-Lockdown\", \"During-Lockdown\", \"During-Lockdown\", \"During-Lockdown\", \"During-Lockdown\", \"During-Lockdown\", \"During-Lockdown\", \"During-Lockdown\", \"During-Lockdown\", \"During-Lockdown\", \"During-Lockdown\", \"During-Lockdown\", \"During-Lockdown\", \"During-Lockdown\", \"During-Lockdown\", \"During-Lockdown\", \"During-Lockdown\", \"During-Lockdown\", \"During-Lockdown\", \"During-Lockdown\", \"During-Lockdown\", \"During-Lockdown\", \"During-Lockdown\", \"During-Lockdown\", \"During-Lockdown\", \"During-Lockdown\", \"During-Lockdown\", \"During-Lockdown\", \"During-Lockdown\", \"During-Lockdown\", \"During-Lockdown\", \"During-Lockdown\", \"During-Lockdown\", \"During-Lockdown\", \"During-Lockdown\", \"During-Lockdown\", \"During-Lockdown\", \"During-Lockdown\", \"During-Lockdown\", \"During-Lockdown\", \"During-Lockdown\", \"During-Lockdown\", \"During-Lockdown\", \"During-Lockdown\", \"During-Lockdown\", \"During-Lockdown\", \"During-Lockdown\", \"During-Lockdown\", \"During-Lockdown\", \"During-Lockdown\", \"During-Lockdown\", \"During-Lockdown\", \"During-Lockdown\", \"During-Lockdown\", \"During-Lockdown\", \"During-Lockdown\", \"During-Lockdown\", \"During-Lockdown\", \"During-Lockdown\", \"During-Lockdown\", \"During-Lockdown\", \"During-Lockdown\", \"During-Lockdown\", \"During-Lockdown\", \"During-Lockdown\", \"During-Lockdown\", \"During-Lockdown\", \"During-Lockdown\", \"During-Lockdown\", \"During-Lockdown\", \"During-Lockdown\", \"During-Lockdown\", \"During-Lockdown\", \"During-Lockdown\", \"During-Lockdown\", \"During-Lockdown\", \"During-Lockdown\", \"During-Lockdown\", \"During-Lockdown\", \"During-Lockdown\", \"During-Lockdown\", \"During-Lockdown\", \"During-Lockdown\", \"During-Lockdown\", \"During-Lockdown\", \"During-Lockdown\", \"During-Lockdown\", \"During-Lockdown\", \"During-Lockdown\", \"During-Lockdown\", \"During-Lockdown\", \"During-Lockdown\", \"During-Lockdown\", \"During-Lockdown\", \"During-Lockdown\", \"During-Lockdown\", \"During-Lockdown\", \"During-Lockdown\", \"During-Lockdown\", \"During-Lockdown\", \"During-Lockdown\", \"During-Lockdown\", \"During-Lockdown\", \"During-Lockdown\", \"During-Lockdown\", \"During-Lockdown\", \"During-Lockdown\", \"During-Lockdown\", \"During-Lockdown\", \"During-Lockdown\", \"During-Lockdown\", \"During-Lockdown\", \"During-Lockdown\", \"During-Lockdown\", \"During-Lockdown\", \"During-Lockdown\", \"During-Lockdown\", \"During-Lockdown\", \"During-Lockdown\", \"During-Lockdown\", \"During-Lockdown\", \"During-Lockdown\", \"During-Lockdown\", \"During-Lockdown\", \"During-Lockdown\", \"During-Lockdown\", \"During-Lockdown\", \"During-Lockdown\", \"During-Lockdown\"], \"x0\": \" \", \"xaxis\": \"x\", \"y\": [-1.0, 1.0, -1.0, 1.0, 0.0, 5.0, -6.0, -5.0, -3.0, -1.0, 0.0, -2.0, 0.0, -2.0, -1.0, 3.0, 1.0, 2.0, 5.0, 5.0, 4.0, 3.0, 4.0, 3.0, 4.0, 1.0, 1.0, -1.0, 0.0, -1.0, 1.0, 1.0, 2.0, 7.0, 13.0, 21.0, -76.0, -13.0, -45.0, -60.0, -56.0, -56.0, -57.0, -54.0, -59.0, -56.0, -58.0, -61.0, -60.0, -61.0, -57.0, -60.0, -48.0, -48.0, -50.0, -50.0, -51.0, -53.0, -51.0, -50.0, -46.0, -39.0, -40.0, -45.0, -46.0, -47.0, -44.0, -45.0, -44.0, -43.0, -46.0, -46.0, -48.0, -44.0, -43.0, -42.0, -42.0, -42.0, -42.0, -35.0, -32.0, -28.0, -28.0, -27.0, -29.0, -31.0, -29.0, -27.0, -27.0, -26.0, -25.0, -25.0, -28.0, -23.0, -22.0, -19.0, -19.0, -18.0, -15.0, -16.0, -16.0, -12.0, -8.0, -7.0, -7.0, -3.0, -9.0, -1.0, 2.0, 7.0, 7.0, 6.0, 4.0, -3.0, 7.0, 5.0, 7.0, 7.0, 7.0, 10.0, 0.0, 8.0, 8.0, 9.0, 5.0, 3.0, 3.0, -25.0, 3.0, 1.0, 4.0, 2.0, 0.0, -3.0, -12.0, -3.0, -2.0, -1.0, -1.0, 0.0, -3.0, -12.0, -4.0, -1.0, -1.0, -3.0, -2.0, -4.0, -13.0, -8.0, -10.0, -16.0, -9.0, -10.0, -13.0, -27.0, -16.0, -13.0, -11.0, -13.0, -17.0, -17.0, -29.0, -16.0, -16.0, -10.0, -1.0, -14.0], \"y0\": \" \", \"yaxis\": \"y\"}, {\"alignmentgroup\": \"True\", \"hoverlabel\": {\"namelength\": 0}, \"hovertemplate\": \"State=Telangana<br>Lockdown=%{x}<br>Grocery_and_Pharmacy=%{y}\", \"legendgroup\": \"State=Telangana\", \"marker\": {\"color\": \"#EF553B\"}, \"name\": \"State=Telangana\", \"notched\": false, \"offsetgroup\": \"State=Telangana\", \"orientation\": \"v\", \"showlegend\": true, \"type\": \"box\", \"x\": [\"Pre-Lockdown\", \"Pre-Lockdown\", \"Pre-Lockdown\", \"Pre-Lockdown\", \"Pre-Lockdown\", \"Pre-Lockdown\", \"Pre-Lockdown\", \"Pre-Lockdown\", \"Pre-Lockdown\", \"Pre-Lockdown\", \"Pre-Lockdown\", \"Pre-Lockdown\", \"Pre-Lockdown\", \"Pre-Lockdown\", \"Pre-Lockdown\", \"Pre-Lockdown\", \"Pre-Lockdown\", \"Pre-Lockdown\", \"Pre-Lockdown\", \"Pre-Lockdown\", \"Pre-Lockdown\", \"Pre-Lockdown\", \"Pre-Lockdown\", \"Pre-Lockdown\", \"Pre-Lockdown\", \"Pre-Lockdown\", \"Pre-Lockdown\", \"Pre-Lockdown\", \"Pre-Lockdown\", \"Pre-Lockdown\", \"Pre-Lockdown\", \"Pre-Lockdown\", \"Pre-Lockdown\", \"Pre-Lockdown\", \"Pre-Lockdown\", \"Pre-Lockdown\", \"During-Lockdown\", \"During-Lockdown\", \"During-Lockdown\", \"During-Lockdown\", \"During-Lockdown\", \"During-Lockdown\", \"During-Lockdown\", \"During-Lockdown\", \"During-Lockdown\", \"During-Lockdown\", \"During-Lockdown\", \"During-Lockdown\", \"During-Lockdown\", \"During-Lockdown\", \"During-Lockdown\", \"During-Lockdown\", \"During-Lockdown\", \"During-Lockdown\", \"During-Lockdown\", \"During-Lockdown\", \"During-Lockdown\", \"During-Lockdown\", \"During-Lockdown\", \"During-Lockdown\", \"During-Lockdown\", \"During-Lockdown\", \"During-Lockdown\", \"During-Lockdown\", \"During-Lockdown\", \"During-Lockdown\", \"During-Lockdown\", \"During-Lockdown\", \"During-Lockdown\", \"During-Lockdown\", \"During-Lockdown\", \"During-Lockdown\", \"During-Lockdown\", \"During-Lockdown\", \"During-Lockdown\", \"During-Lockdown\", \"During-Lockdown\", \"During-Lockdown\", \"During-Lockdown\", \"During-Lockdown\", \"During-Lockdown\", \"During-Lockdown\", \"During-Lockdown\", \"During-Lockdown\", \"During-Lockdown\", \"During-Lockdown\", \"During-Lockdown\", \"During-Lockdown\", \"During-Lockdown\", \"During-Lockdown\", \"During-Lockdown\", \"During-Lockdown\", \"During-Lockdown\", \"During-Lockdown\", \"During-Lockdown\", \"During-Lockdown\", \"During-Lockdown\", \"During-Lockdown\", \"During-Lockdown\", \"During-Lockdown\", \"During-Lockdown\", \"During-Lockdown\", \"During-Lockdown\", \"During-Lockdown\", \"During-Lockdown\", \"During-Lockdown\", \"During-Lockdown\", \"During-Lockdown\", \"During-Lockdown\", \"During-Lockdown\", \"During-Lockdown\", \"During-Lockdown\", \"During-Lockdown\", \"During-Lockdown\", \"During-Lockdown\", \"During-Lockdown\", \"During-Lockdown\", \"During-Lockdown\", \"During-Lockdown\", \"During-Lockdown\", \"During-Lockdown\", \"During-Lockdown\", \"During-Lockdown\", \"During-Lockdown\", \"During-Lockdown\", \"During-Lockdown\", \"During-Lockdown\", \"During-Lockdown\", \"During-Lockdown\", \"During-Lockdown\", \"During-Lockdown\", \"During-Lockdown\", \"During-Lockdown\", \"During-Lockdown\", \"During-Lockdown\", \"During-Lockdown\", \"During-Lockdown\", \"During-Lockdown\", \"During-Lockdown\", \"During-Lockdown\", \"During-Lockdown\", \"During-Lockdown\", \"During-Lockdown\", \"During-Lockdown\", \"During-Lockdown\", \"During-Lockdown\", \"During-Lockdown\", \"During-Lockdown\", \"During-Lockdown\", \"During-Lockdown\", \"During-Lockdown\", \"During-Lockdown\", \"During-Lockdown\", \"During-Lockdown\", \"During-Lockdown\", \"During-Lockdown\", \"During-Lockdown\", \"During-Lockdown\", \"During-Lockdown\", \"During-Lockdown\", \"During-Lockdown\", \"During-Lockdown\", \"During-Lockdown\", \"During-Lockdown\", \"During-Lockdown\", \"During-Lockdown\", \"During-Lockdown\", \"During-Lockdown\"], \"x0\": \" \", \"xaxis\": \"x\", \"y\": [0.0, 4.0, 3.0, 3.0, 4.0, 9.0, 6.0, -6.0, 0.0, 2.0, 2.0, 1.0, 2.0, 2.0, 2.0, 7.0, 4.0, 5.0, 12.0, 7.0, 8.0, 5.0, 6.0, -1.0, 3.0, 4.0, 2.0, 3.0, 5.0, 5.0, 4.0, 3.0, 5.0, 1.0, 8.0, 19.0, -83.0, -23.0, -45.0, -57.0, -59.0, -59.0, -61.0, -59.0, -61.0, -60.0, -61.0, -63.0, -60.0, -61.0, -59.0, -62.0, -52.0, -52.0, -52.0, -52.0, -56.0, -52.0, -54.0, -54.0, -52.0, -47.0, -48.0, -54.0, -50.0, -53.0, -53.0, -55.0, -53.0, -50.0, -53.0, -49.0, -52.0, -51.0, -49.0, -49.0, -48.0, -48.0, -45.0, -46.0, -44.0, -33.0, -34.0, -30.0, -36.0, -31.0, -33.0, -32.0, -31.0, -31.0, -29.0, -32.0, -31.0, -30.0, -24.0, -19.0, -20.0, -20.0, -19.0, -18.0, -24.0, -20.0, -15.0, -15.0, -13.0, -14.0, -20.0, -4.0, -3.0, -1.0, -3.0, -2.0, -4.0, -7.0, -1.0, -3.0, -8.0, 1.0, 0.0, -1.0, -4.0, -3.0, -8.0, -2.0, -11.0, -1.0, -7.0, -30.0, -1.0, -4.0, -5.0, -6.0, -4.0, -14.0, -14.0, -5.0, -2.0, -8.0, -8.0, -8.0, -11.0, -18.0, -10.0, -9.0, -12.0, -11.0, -10.0, -13.0, -16.0, -13.0, -15.0, -22.0, -7.0, -7.0, -11.0, -18.0, -15.0, -11.0, -11.0, -21.0, -11.0, -16.0, -15.0, -10.0, -18.0, -8.0, 0.0, -7.0], \"y0\": \" \", \"yaxis\": \"y\"}],\n",
              "                        {\"boxmode\": \"group\", \"height\": 400, \"legend\": {\"tracegroupgap\": 0}, \"template\": {\"data\": {\"bar\": [{\"error_x\": {\"color\": \"#f2f5fa\"}, \"error_y\": {\"color\": \"#f2f5fa\"}, \"marker\": {\"line\": {\"color\": \"rgb(17,17,17)\", \"width\": 0.5}}, \"type\": \"bar\"}], \"barpolar\": [{\"marker\": {\"line\": {\"color\": \"rgb(17,17,17)\", \"width\": 0.5}}, \"type\": \"barpolar\"}], \"carpet\": [{\"aaxis\": {\"endlinecolor\": \"#A2B1C6\", \"gridcolor\": \"#506784\", \"linecolor\": \"#506784\", \"minorgridcolor\": \"#506784\", \"startlinecolor\": \"#A2B1C6\"}, \"baxis\": {\"endlinecolor\": \"#A2B1C6\", \"gridcolor\": \"#506784\", \"linecolor\": \"#506784\", \"minorgridcolor\": \"#506784\", \"startlinecolor\": \"#A2B1C6\"}, \"type\": \"carpet\"}], \"choropleth\": [{\"colorbar\": {\"outlinewidth\": 0, \"ticks\": \"\"}, \"type\": \"choropleth\"}], \"contour\": [{\"colorbar\": {\"outlinewidth\": 0, \"ticks\": \"\"}, \"colorscale\": [[0.0, \"#0d0887\"], [0.1111111111111111, \"#46039f\"], [0.2222222222222222, \"#7201a8\"], [0.3333333333333333, \"#9c179e\"], [0.4444444444444444, \"#bd3786\"], [0.5555555555555556, \"#d8576b\"], [0.6666666666666666, \"#ed7953\"], [0.7777777777777778, \"#fb9f3a\"], [0.8888888888888888, \"#fdca26\"], [1.0, \"#f0f921\"]], \"type\": \"contour\"}], \"contourcarpet\": [{\"colorbar\": {\"outlinewidth\": 0, \"ticks\": \"\"}, \"type\": \"contourcarpet\"}], \"heatmap\": [{\"colorbar\": {\"outlinewidth\": 0, \"ticks\": \"\"}, \"colorscale\": [[0.0, \"#0d0887\"], [0.1111111111111111, \"#46039f\"], [0.2222222222222222, \"#7201a8\"], [0.3333333333333333, \"#9c179e\"], [0.4444444444444444, \"#bd3786\"], [0.5555555555555556, \"#d8576b\"], [0.6666666666666666, \"#ed7953\"], [0.7777777777777778, \"#fb9f3a\"], [0.8888888888888888, \"#fdca26\"], [1.0, \"#f0f921\"]], \"type\": \"heatmap\"}], \"heatmapgl\": [{\"colorbar\": {\"outlinewidth\": 0, \"ticks\": \"\"}, \"colorscale\": [[0.0, \"#0d0887\"], [0.1111111111111111, \"#46039f\"], [0.2222222222222222, \"#7201a8\"], [0.3333333333333333, \"#9c179e\"], [0.4444444444444444, \"#bd3786\"], [0.5555555555555556, \"#d8576b\"], [0.6666666666666666, \"#ed7953\"], [0.7777777777777778, \"#fb9f3a\"], [0.8888888888888888, \"#fdca26\"], [1.0, \"#f0f921\"]], \"type\": \"heatmapgl\"}], \"histogram\": [{\"marker\": {\"colorbar\": {\"outlinewidth\": 0, \"ticks\": \"\"}}, \"type\": \"histogram\"}], \"histogram2d\": [{\"colorbar\": {\"outlinewidth\": 0, \"ticks\": \"\"}, \"colorscale\": [[0.0, \"#0d0887\"], [0.1111111111111111, \"#46039f\"], [0.2222222222222222, \"#7201a8\"], [0.3333333333333333, \"#9c179e\"], [0.4444444444444444, \"#bd3786\"], [0.5555555555555556, \"#d8576b\"], [0.6666666666666666, \"#ed7953\"], [0.7777777777777778, \"#fb9f3a\"], [0.8888888888888888, \"#fdca26\"], [1.0, \"#f0f921\"]], \"type\": \"histogram2d\"}], \"histogram2dcontour\": [{\"colorbar\": {\"outlinewidth\": 0, \"ticks\": \"\"}, \"colorscale\": [[0.0, \"#0d0887\"], [0.1111111111111111, \"#46039f\"], [0.2222222222222222, \"#7201a8\"], [0.3333333333333333, \"#9c179e\"], [0.4444444444444444, \"#bd3786\"], [0.5555555555555556, \"#d8576b\"], [0.6666666666666666, \"#ed7953\"], [0.7777777777777778, \"#fb9f3a\"], [0.8888888888888888, \"#fdca26\"], [1.0, \"#f0f921\"]], \"type\": \"histogram2dcontour\"}], \"mesh3d\": [{\"colorbar\": {\"outlinewidth\": 0, \"ticks\": \"\"}, \"type\": \"mesh3d\"}], \"parcoords\": [{\"line\": {\"colorbar\": {\"outlinewidth\": 0, \"ticks\": \"\"}}, \"type\": \"parcoords\"}], \"pie\": [{\"automargin\": true, \"type\": \"pie\"}], \"scatter\": [{\"marker\": {\"line\": {\"color\": \"#283442\"}}, \"type\": \"scatter\"}], \"scatter3d\": [{\"line\": {\"colorbar\": {\"outlinewidth\": 0, \"ticks\": \"\"}}, \"marker\": {\"colorbar\": {\"outlinewidth\": 0, \"ticks\": \"\"}}, \"type\": \"scatter3d\"}], \"scattercarpet\": [{\"marker\": {\"colorbar\": {\"outlinewidth\": 0, \"ticks\": \"\"}}, \"type\": \"scattercarpet\"}], \"scattergeo\": [{\"marker\": {\"colorbar\": {\"outlinewidth\": 0, \"ticks\": \"\"}}, \"type\": \"scattergeo\"}], \"scattergl\": [{\"marker\": {\"line\": {\"color\": \"#283442\"}}, \"type\": \"scattergl\"}], \"scattermapbox\": [{\"marker\": {\"colorbar\": {\"outlinewidth\": 0, \"ticks\": \"\"}}, \"type\": \"scattermapbox\"}], \"scatterpolar\": [{\"marker\": {\"colorbar\": {\"outlinewidth\": 0, \"ticks\": \"\"}}, \"type\": \"scatterpolar\"}], \"scatterpolargl\": [{\"marker\": {\"colorbar\": {\"outlinewidth\": 0, \"ticks\": \"\"}}, \"type\": \"scatterpolargl\"}], \"scatterternary\": [{\"marker\": {\"colorbar\": {\"outlinewidth\": 0, \"ticks\": \"\"}}, \"type\": \"scatterternary\"}], \"surface\": [{\"colorbar\": {\"outlinewidth\": 0, \"ticks\": \"\"}, \"colorscale\": [[0.0, \"#0d0887\"], [0.1111111111111111, \"#46039f\"], [0.2222222222222222, \"#7201a8\"], [0.3333333333333333, \"#9c179e\"], [0.4444444444444444, \"#bd3786\"], [0.5555555555555556, \"#d8576b\"], [0.6666666666666666, \"#ed7953\"], [0.7777777777777778, \"#fb9f3a\"], [0.8888888888888888, \"#fdca26\"], [1.0, \"#f0f921\"]], \"type\": \"surface\"}], \"table\": [{\"cells\": {\"fill\": {\"color\": \"#506784\"}, \"line\": {\"color\": \"rgb(17,17,17)\"}}, \"header\": {\"fill\": {\"color\": \"#2a3f5f\"}, \"line\": {\"color\": \"rgb(17,17,17)\"}}, \"type\": \"table\"}]}, \"layout\": {\"annotationdefaults\": {\"arrowcolor\": \"#f2f5fa\", \"arrowhead\": 0, \"arrowwidth\": 1}, \"coloraxis\": {\"colorbar\": {\"outlinewidth\": 0, \"ticks\": \"\"}}, \"colorscale\": {\"diverging\": [[0, \"#8e0152\"], [0.1, \"#c51b7d\"], [0.2, \"#de77ae\"], [0.3, \"#f1b6da\"], [0.4, \"#fde0ef\"], [0.5, \"#f7f7f7\"], [0.6, \"#e6f5d0\"], [0.7, \"#b8e186\"], [0.8, \"#7fbc41\"], [0.9, \"#4d9221\"], [1, \"#276419\"]], \"sequential\": [[0.0, \"#0d0887\"], [0.1111111111111111, \"#46039f\"], [0.2222222222222222, \"#7201a8\"], [0.3333333333333333, \"#9c179e\"], [0.4444444444444444, \"#bd3786\"], [0.5555555555555556, \"#d8576b\"], [0.6666666666666666, \"#ed7953\"], [0.7777777777777778, \"#fb9f3a\"], [0.8888888888888888, \"#fdca26\"], [1.0, \"#f0f921\"]], \"sequentialminus\": [[0.0, \"#0d0887\"], [0.1111111111111111, \"#46039f\"], [0.2222222222222222, \"#7201a8\"], [0.3333333333333333, \"#9c179e\"], [0.4444444444444444, \"#bd3786\"], [0.5555555555555556, \"#d8576b\"], [0.6666666666666666, \"#ed7953\"], [0.7777777777777778, \"#fb9f3a\"], [0.8888888888888888, \"#fdca26\"], [1.0, \"#f0f921\"]]}, \"colorway\": [\"#636efa\", \"#EF553B\", \"#00cc96\", \"#ab63fa\", \"#FFA15A\", \"#19d3f3\", \"#FF6692\", \"#B6E880\", \"#FF97FF\", \"#FECB52\"], \"font\": {\"color\": \"#f2f5fa\"}, \"geo\": {\"bgcolor\": \"rgb(17,17,17)\", \"lakecolor\": \"rgb(17,17,17)\", \"landcolor\": \"rgb(17,17,17)\", \"showlakes\": true, \"showland\": true, \"subunitcolor\": \"#506784\"}, \"hoverlabel\": {\"align\": \"left\"}, \"hovermode\": \"closest\", \"mapbox\": {\"style\": \"dark\"}, \"paper_bgcolor\": \"rgb(17,17,17)\", \"plot_bgcolor\": \"rgb(17,17,17)\", \"polar\": {\"angularaxis\": {\"gridcolor\": \"#506784\", \"linecolor\": \"#506784\", \"ticks\": \"\"}, \"bgcolor\": \"rgb(17,17,17)\", \"radialaxis\": {\"gridcolor\": \"#506784\", \"linecolor\": \"#506784\", \"ticks\": \"\"}}, \"scene\": {\"xaxis\": {\"backgroundcolor\": \"rgb(17,17,17)\", \"gridcolor\": \"#506784\", \"gridwidth\": 2, \"linecolor\": \"#506784\", \"showbackground\": true, \"ticks\": \"\", \"zerolinecolor\": \"#C8D4E3\"}, \"yaxis\": {\"backgroundcolor\": \"rgb(17,17,17)\", \"gridcolor\": \"#506784\", \"gridwidth\": 2, \"linecolor\": \"#506784\", \"showbackground\": true, \"ticks\": \"\", \"zerolinecolor\": \"#C8D4E3\"}, \"zaxis\": {\"backgroundcolor\": \"rgb(17,17,17)\", \"gridcolor\": \"#506784\", \"gridwidth\": 2, \"linecolor\": \"#506784\", \"showbackground\": true, \"ticks\": \"\", \"zerolinecolor\": \"#C8D4E3\"}}, \"shapedefaults\": {\"line\": {\"color\": \"#f2f5fa\"}}, \"sliderdefaults\": {\"bgcolor\": \"#C8D4E3\", \"bordercolor\": \"rgb(17,17,17)\", \"borderwidth\": 1, \"tickwidth\": 0}, \"ternary\": {\"aaxis\": {\"gridcolor\": \"#506784\", \"linecolor\": \"#506784\", \"ticks\": \"\"}, \"baxis\": {\"gridcolor\": \"#506784\", \"linecolor\": \"#506784\", \"ticks\": \"\"}, \"bgcolor\": \"rgb(17,17,17)\", \"caxis\": {\"gridcolor\": \"#506784\", \"linecolor\": \"#506784\", \"ticks\": \"\"}}, \"title\": {\"x\": 0.05}, \"updatemenudefaults\": {\"bgcolor\": \"#506784\", \"borderwidth\": 0}, \"xaxis\": {\"automargin\": true, \"gridcolor\": \"#283442\", \"linecolor\": \"#506784\", \"ticks\": \"\", \"title\": {\"standoff\": 15}, \"zerolinecolor\": \"#283442\", \"zerolinewidth\": 2}, \"yaxis\": {\"automargin\": true, \"gridcolor\": \"#283442\", \"linecolor\": \"#506784\", \"ticks\": \"\", \"title\": {\"standoff\": 15}, \"zerolinecolor\": \"#283442\", \"zerolinewidth\": 2}}}, \"title\": {\"text\": \"Grocery_and_Pharmacy\"}, \"width\": 600, \"xaxis\": {\"anchor\": \"y\", \"domain\": [0.0, 1.0], \"title\": {\"text\": \"Lockdown\"}}, \"yaxis\": {\"anchor\": \"x\", \"domain\": [0.0, 1.0], \"title\": {\"text\": \"Grocery_and_Pharmacy\"}}},\n",
              "                        {\"responsive\": true}\n",
              "                    ).then(function(){\n",
              "                            \n",
              "var gd = document.getElementById('5a1acadb-9d4b-443a-9380-4ea7a4c594ec');\n",
              "var x = new MutationObserver(function (mutations, observer) {{\n",
              "        var display = window.getComputedStyle(gd).display;\n",
              "        if (!display || display === 'none') {{\n",
              "            console.log([gd, 'removed!']);\n",
              "            Plotly.purge(gd);\n",
              "            observer.disconnect();\n",
              "        }}\n",
              "}});\n",
              "\n",
              "// Listen for the removal of the full notebook cells\n",
              "var notebookContainer = gd.closest('#notebook-container');\n",
              "if (notebookContainer) {{\n",
              "    x.observe(notebookContainer, {childList: true});\n",
              "}}\n",
              "\n",
              "// Listen for the clearing of the current output cell\n",
              "var outputEl = gd.closest('.output');\n",
              "if (outputEl) {{\n",
              "    x.observe(outputEl, {childList: true});\n",
              "}}\n",
              "\n",
              "                        })\n",
              "                };\n",
              "                \n",
              "            </script>\n",
              "        </div>\n",
              "</body>\n",
              "</html>"
            ]
          },
          "metadata": {
            "tags": []
          }
        },
        {
          "output_type": "display_data",
          "data": {
            "text/html": [
              "<html>\n",
              "<head><meta charset=\"utf-8\" /></head>\n",
              "<body>\n",
              "    <div>\n",
              "            <script src=\"https://cdnjs.cloudflare.com/ajax/libs/mathjax/2.7.5/MathJax.js?config=TeX-AMS-MML_SVG\"></script><script type=\"text/javascript\">if (window.MathJax) {MathJax.Hub.Config({SVG: {font: \"STIX-Web\"}});}</script>\n",
              "                <script type=\"text/javascript\">window.PlotlyConfig = {MathJaxConfig: 'local'};</script>\n",
              "        <script src=\"https://cdn.plot.ly/plotly-latest.min.js\"></script>    \n",
              "            <div id=\"f554c819-549a-450e-8d42-58c0dd7399e3\" class=\"plotly-graph-div\" style=\"height:400px; width:600px;\"></div>\n",
              "            <script type=\"text/javascript\">\n",
              "                \n",
              "                    window.PLOTLYENV=window.PLOTLYENV || {};\n",
              "                    \n",
              "                if (document.getElementById(\"f554c819-549a-450e-8d42-58c0dd7399e3\")) {\n",
              "                    Plotly.newPlot(\n",
              "                        'f554c819-549a-450e-8d42-58c0dd7399e3',\n",
              "                        [{\"alignmentgroup\": \"True\", \"hoverlabel\": {\"namelength\": 0}, \"hovertemplate\": \"State=Andhra Pradesh<br>Lockdown=%{x}<br>Parks=%{y}\", \"legendgroup\": \"State=Andhra Pradesh\", \"marker\": {\"color\": \"#636efa\"}, \"name\": \"State=Andhra Pradesh\", \"notched\": false, \"offsetgroup\": \"State=Andhra Pradesh\", \"orientation\": \"v\", \"showlegend\": true, \"type\": \"box\", \"x\": [\"Pre-Lockdown\", \"Pre-Lockdown\", \"Pre-Lockdown\", \"Pre-Lockdown\", \"Pre-Lockdown\", \"Pre-Lockdown\", \"Pre-Lockdown\", \"Pre-Lockdown\", \"Pre-Lockdown\", \"Pre-Lockdown\", \"Pre-Lockdown\", \"Pre-Lockdown\", \"Pre-Lockdown\", \"Pre-Lockdown\", \"Pre-Lockdown\", \"Pre-Lockdown\", \"Pre-Lockdown\", \"Pre-Lockdown\", \"Pre-Lockdown\", \"Pre-Lockdown\", \"Pre-Lockdown\", \"Pre-Lockdown\", \"Pre-Lockdown\", \"Pre-Lockdown\", \"Pre-Lockdown\", \"Pre-Lockdown\", \"Pre-Lockdown\", \"Pre-Lockdown\", \"Pre-Lockdown\", \"Pre-Lockdown\", \"Pre-Lockdown\", \"Pre-Lockdown\", \"Pre-Lockdown\", \"Pre-Lockdown\", \"Pre-Lockdown\", \"Pre-Lockdown\", \"During-Lockdown\", \"During-Lockdown\", \"During-Lockdown\", \"During-Lockdown\", \"During-Lockdown\", \"During-Lockdown\", \"During-Lockdown\", \"During-Lockdown\", \"During-Lockdown\", \"During-Lockdown\", \"During-Lockdown\", \"During-Lockdown\", \"During-Lockdown\", \"During-Lockdown\", \"During-Lockdown\", \"During-Lockdown\", \"During-Lockdown\", \"During-Lockdown\", \"During-Lockdown\", \"During-Lockdown\", \"During-Lockdown\", \"During-Lockdown\", \"During-Lockdown\", \"During-Lockdown\", \"During-Lockdown\", \"During-Lockdown\", \"During-Lockdown\", \"During-Lockdown\", \"During-Lockdown\", \"During-Lockdown\", \"During-Lockdown\", \"During-Lockdown\", \"During-Lockdown\", \"During-Lockdown\", \"During-Lockdown\", \"During-Lockdown\", \"During-Lockdown\", \"During-Lockdown\", \"During-Lockdown\", \"During-Lockdown\", \"During-Lockdown\", \"During-Lockdown\", \"During-Lockdown\", \"During-Lockdown\", \"During-Lockdown\", \"During-Lockdown\", \"During-Lockdown\", \"During-Lockdown\", \"During-Lockdown\", \"During-Lockdown\", \"During-Lockdown\", \"During-Lockdown\", \"During-Lockdown\", \"During-Lockdown\", \"During-Lockdown\", \"During-Lockdown\", \"During-Lockdown\", \"During-Lockdown\", \"During-Lockdown\", \"During-Lockdown\", \"During-Lockdown\", \"During-Lockdown\", \"During-Lockdown\", \"During-Lockdown\", \"During-Lockdown\", \"During-Lockdown\", \"During-Lockdown\", \"During-Lockdown\", \"During-Lockdown\", \"During-Lockdown\", \"During-Lockdown\", \"During-Lockdown\", \"During-Lockdown\", \"During-Lockdown\", \"During-Lockdown\", \"During-Lockdown\", \"During-Lockdown\", \"During-Lockdown\", \"During-Lockdown\", \"During-Lockdown\", \"During-Lockdown\", \"During-Lockdown\", \"During-Lockdown\", \"During-Lockdown\", \"During-Lockdown\", \"During-Lockdown\", \"During-Lockdown\", \"During-Lockdown\", \"During-Lockdown\", \"During-Lockdown\", \"During-Lockdown\", \"During-Lockdown\", \"During-Lockdown\", \"During-Lockdown\", \"During-Lockdown\", \"During-Lockdown\", \"During-Lockdown\", \"During-Lockdown\", \"During-Lockdown\", \"During-Lockdown\", \"During-Lockdown\", \"During-Lockdown\", \"During-Lockdown\", \"During-Lockdown\", \"During-Lockdown\", \"During-Lockdown\", \"During-Lockdown\", \"During-Lockdown\", \"During-Lockdown\", \"During-Lockdown\", \"During-Lockdown\", \"During-Lockdown\", \"During-Lockdown\", \"During-Lockdown\", \"During-Lockdown\", \"During-Lockdown\", \"During-Lockdown\", \"During-Lockdown\", \"During-Lockdown\", \"During-Lockdown\", \"During-Lockdown\", \"During-Lockdown\", \"During-Lockdown\", \"During-Lockdown\", \"During-Lockdown\", \"During-Lockdown\", \"During-Lockdown\", \"During-Lockdown\", \"During-Lockdown\", \"During-Lockdown\", \"During-Lockdown\", \"During-Lockdown\"], \"x0\": \" \", \"xaxis\": \"x\", \"y\": [5.0, 4.0, 4.0, 4.0, 4.0, 5.0, 18.0, 12.0, 2.0, 4.0, 5.0, 6.0, 4.0, 4.0, 4.0, 3.0, 4.0, 5.0, 6.0, 4.0, 5.0, 6.0, 5.0, 9.0, 9.0, 5.0, 4.0, 3.0, 3.0, -1.0, 2.0, 4.0, 5.0, 2.0, -4.0, -9.0, -55.0, -26.0, -39.0, -47.0, -46.0, -46.0, -49.0, -49.0, -45.0, -43.0, -44.0, -47.0, -45.0, -46.0, -48.0, -43.0, -42.0, -43.0, -44.0, -44.0, -47.0, -50.0, -44.0, -43.0, -42.0, -58.0, -58.0, -63.0, -64.0, -60.0, -59.0, -60.0, -61.0, -61.0, -64.0, -65.0, -62.0, -60.0, -60.0, -60.0, -61.0, -63.0, -65.0, -59.0, -58.0, -58.0, -58.0, -58.0, -61.0, -62.0, -58.0, -57.0, -57.0, -58.0, -58.0, -59.0, -61.0, -57.0, -56.0, -53.0, -54.0, -55.0, -56.0, -56.0, -53.0, -52.0, -51.0, -52.0, -53.0, -54.0, -56.0, -51.0, -51.0, -50.0, -51.0, -48.0, -51.0, -52.0, -48.0, -48.0, -46.0, -48.0, -47.0, -49.0, -49.0, -46.0, -45.0, -46.0, -47.0, -48.0, -50.0, -57.0, -47.0, -47.0, -47.0, -48.0, -48.0, -50.0, -53.0, -49.0, -48.0, -46.0, -48.0, -48.0, -51.0, -53.0, -48.0, -47.0, -48.0, -49.0, -48.0, -50.0, -53.0, -49.0, -48.0, -51.0, -50.0, -50.0, -52.0, -56.0, -51.0, -49.0, -49.0, -50.0, -49.0, -51.0, -54.0, -49.0, -49.0, -48.0, -48.0, -49.0], \"y0\": \" \", \"yaxis\": \"y\"}, {\"alignmentgroup\": \"True\", \"hoverlabel\": {\"namelength\": 0}, \"hovertemplate\": \"State=Telangana<br>Lockdown=%{x}<br>Parks=%{y}\", \"legendgroup\": \"State=Telangana\", \"marker\": {\"color\": \"#EF553B\"}, \"name\": \"State=Telangana\", \"notched\": false, \"offsetgroup\": \"State=Telangana\", \"orientation\": \"v\", \"showlegend\": true, \"type\": \"box\", \"x\": [\"Pre-Lockdown\", \"Pre-Lockdown\", \"Pre-Lockdown\", \"Pre-Lockdown\", \"Pre-Lockdown\", \"Pre-Lockdown\", \"Pre-Lockdown\", \"Pre-Lockdown\", \"Pre-Lockdown\", \"Pre-Lockdown\", \"Pre-Lockdown\", \"Pre-Lockdown\", \"Pre-Lockdown\", \"Pre-Lockdown\", \"Pre-Lockdown\", \"Pre-Lockdown\", \"Pre-Lockdown\", \"Pre-Lockdown\", \"Pre-Lockdown\", \"Pre-Lockdown\", \"Pre-Lockdown\", \"Pre-Lockdown\", \"Pre-Lockdown\", \"Pre-Lockdown\", \"Pre-Lockdown\", \"Pre-Lockdown\", \"Pre-Lockdown\", \"Pre-Lockdown\", \"Pre-Lockdown\", \"Pre-Lockdown\", \"Pre-Lockdown\", \"Pre-Lockdown\", \"Pre-Lockdown\", \"Pre-Lockdown\", \"Pre-Lockdown\", \"Pre-Lockdown\", \"During-Lockdown\", \"During-Lockdown\", \"During-Lockdown\", \"During-Lockdown\", \"During-Lockdown\", \"During-Lockdown\", \"During-Lockdown\", \"During-Lockdown\", \"During-Lockdown\", \"During-Lockdown\", \"During-Lockdown\", \"During-Lockdown\", \"During-Lockdown\", \"During-Lockdown\", \"During-Lockdown\", \"During-Lockdown\", \"During-Lockdown\", \"During-Lockdown\", \"During-Lockdown\", \"During-Lockdown\", \"During-Lockdown\", \"During-Lockdown\", \"During-Lockdown\", \"During-Lockdown\", \"During-Lockdown\", \"During-Lockdown\", \"During-Lockdown\", \"During-Lockdown\", \"During-Lockdown\", \"During-Lockdown\", \"During-Lockdown\", \"During-Lockdown\", \"During-Lockdown\", \"During-Lockdown\", \"During-Lockdown\", \"During-Lockdown\", \"During-Lockdown\", \"During-Lockdown\", \"During-Lockdown\", \"During-Lockdown\", \"During-Lockdown\", \"During-Lockdown\", \"During-Lockdown\", \"During-Lockdown\", \"During-Lockdown\", \"During-Lockdown\", \"During-Lockdown\", \"During-Lockdown\", \"During-Lockdown\", \"During-Lockdown\", \"During-Lockdown\", \"During-Lockdown\", \"During-Lockdown\", \"During-Lockdown\", \"During-Lockdown\", \"During-Lockdown\", \"During-Lockdown\", \"During-Lockdown\", \"During-Lockdown\", \"During-Lockdown\", \"During-Lockdown\", \"During-Lockdown\", \"During-Lockdown\", \"During-Lockdown\", \"During-Lockdown\", \"During-Lockdown\", \"During-Lockdown\", \"During-Lockdown\", \"During-Lockdown\", \"During-Lockdown\", \"During-Lockdown\", \"During-Lockdown\", \"During-Lockdown\", \"During-Lockdown\", \"During-Lockdown\", \"During-Lockdown\", \"During-Lockdown\", \"During-Lockdown\", \"During-Lockdown\", \"During-Lockdown\", \"During-Lockdown\", \"During-Lockdown\", \"During-Lockdown\", \"During-Lockdown\", \"During-Lockdown\", \"During-Lockdown\", \"During-Lockdown\", \"During-Lockdown\", \"During-Lockdown\", \"During-Lockdown\", \"During-Lockdown\", \"During-Lockdown\", \"During-Lockdown\", \"During-Lockdown\", \"During-Lockdown\", \"During-Lockdown\", \"During-Lockdown\", \"During-Lockdown\", \"During-Lockdown\", \"During-Lockdown\", \"During-Lockdown\", \"During-Lockdown\", \"During-Lockdown\", \"During-Lockdown\", \"During-Lockdown\", \"During-Lockdown\", \"During-Lockdown\", \"During-Lockdown\", \"During-Lockdown\", \"During-Lockdown\", \"During-Lockdown\", \"During-Lockdown\", \"During-Lockdown\", \"During-Lockdown\", \"During-Lockdown\", \"During-Lockdown\", \"During-Lockdown\", \"During-Lockdown\", \"During-Lockdown\", \"During-Lockdown\", \"During-Lockdown\", \"During-Lockdown\", \"During-Lockdown\", \"During-Lockdown\", \"During-Lockdown\", \"During-Lockdown\", \"During-Lockdown\", \"During-Lockdown\", \"During-Lockdown\", \"During-Lockdown\", \"During-Lockdown\", \"During-Lockdown\"], \"x0\": \" \", \"xaxis\": \"x\", \"y\": [1.0, 7.0, 5.0, 5.0, 5.0, 5.0, 8.0, -1.0, 5.0, 6.0, 7.0, 10.0, 6.0, 10.0, 2.0, 9.0, 5.0, 4.0, 4.0, 1.0, 5.0, -1.0, 4.0, 1.0, 5.0, 5.0, 4.0, 7.0, -1.0, 2.0, 0.0, -1.0, -2.0, -9.0, -7.0, -17.0, -62.0, -38.0, -50.0, -57.0, -56.0, -56.0, -62.0, -59.0, -56.0, -55.0, -55.0, -57.0, -54.0, -59.0, -58.0, -54.0, -52.0, -53.0, -54.0, -53.0, -58.0, -57.0, -53.0, -53.0, -52.0, -67.0, -66.0, -72.0, -71.0, -68.0, -68.0, -68.0, -69.0, -68.0, -72.0, -72.0, -69.0, -68.0, -67.0, -67.0, -68.0, -72.0, -71.0, -67.0, -66.0, -65.0, -65.0, -65.0, -70.0, -68.0, -65.0, -65.0, -65.0, -65.0, -64.0, -69.0, -68.0, -65.0, -64.0, -63.0, -64.0, -64.0, -68.0, -66.0, -63.0, -64.0, -63.0, -64.0, -63.0, -68.0, -67.0, -63.0, -63.0, -62.0, -63.0, -60.0, -64.0, -63.0, -60.0, -60.0, -59.0, -57.0, -57.0, -62.0, -59.0, -57.0, -58.0, -58.0, -59.0, -57.0, -63.0, -65.0, -57.0, -57.0, -58.0, -59.0, -57.0, -63.0, -62.0, -59.0, -58.0, -59.0, -58.0, -58.0, -63.0, -62.0, -58.0, -58.0, -59.0, -60.0, -58.0, -63.0, -61.0, -59.0, -59.0, -61.0, -59.0, -58.0, -63.0, -62.0, -60.0, -58.0, -58.0, -61.0, -57.0, -62.0, -60.0, -58.0, -60.0, -57.0, -57.0, -57.0], \"y0\": \" \", \"yaxis\": \"y\"}],\n",
              "                        {\"boxmode\": \"group\", \"height\": 400, \"legend\": {\"tracegroupgap\": 0}, \"template\": {\"data\": {\"bar\": [{\"error_x\": {\"color\": \"#f2f5fa\"}, \"error_y\": {\"color\": \"#f2f5fa\"}, \"marker\": {\"line\": {\"color\": \"rgb(17,17,17)\", \"width\": 0.5}}, \"type\": \"bar\"}], \"barpolar\": [{\"marker\": {\"line\": {\"color\": \"rgb(17,17,17)\", \"width\": 0.5}}, \"type\": \"barpolar\"}], \"carpet\": [{\"aaxis\": {\"endlinecolor\": \"#A2B1C6\", \"gridcolor\": \"#506784\", \"linecolor\": \"#506784\", \"minorgridcolor\": \"#506784\", \"startlinecolor\": \"#A2B1C6\"}, \"baxis\": {\"endlinecolor\": \"#A2B1C6\", \"gridcolor\": \"#506784\", \"linecolor\": \"#506784\", \"minorgridcolor\": \"#506784\", \"startlinecolor\": \"#A2B1C6\"}, \"type\": \"carpet\"}], \"choropleth\": [{\"colorbar\": {\"outlinewidth\": 0, \"ticks\": \"\"}, \"type\": \"choropleth\"}], \"contour\": [{\"colorbar\": {\"outlinewidth\": 0, \"ticks\": \"\"}, \"colorscale\": [[0.0, \"#0d0887\"], [0.1111111111111111, \"#46039f\"], [0.2222222222222222, \"#7201a8\"], [0.3333333333333333, \"#9c179e\"], [0.4444444444444444, \"#bd3786\"], [0.5555555555555556, \"#d8576b\"], [0.6666666666666666, \"#ed7953\"], [0.7777777777777778, \"#fb9f3a\"], [0.8888888888888888, \"#fdca26\"], [1.0, \"#f0f921\"]], \"type\": \"contour\"}], \"contourcarpet\": [{\"colorbar\": {\"outlinewidth\": 0, \"ticks\": \"\"}, \"type\": \"contourcarpet\"}], \"heatmap\": [{\"colorbar\": {\"outlinewidth\": 0, \"ticks\": \"\"}, \"colorscale\": [[0.0, \"#0d0887\"], [0.1111111111111111, \"#46039f\"], [0.2222222222222222, \"#7201a8\"], [0.3333333333333333, \"#9c179e\"], [0.4444444444444444, \"#bd3786\"], [0.5555555555555556, \"#d8576b\"], [0.6666666666666666, \"#ed7953\"], [0.7777777777777778, \"#fb9f3a\"], [0.8888888888888888, \"#fdca26\"], [1.0, \"#f0f921\"]], \"type\": \"heatmap\"}], \"heatmapgl\": [{\"colorbar\": {\"outlinewidth\": 0, \"ticks\": \"\"}, \"colorscale\": [[0.0, \"#0d0887\"], [0.1111111111111111, \"#46039f\"], [0.2222222222222222, \"#7201a8\"], [0.3333333333333333, \"#9c179e\"], [0.4444444444444444, \"#bd3786\"], [0.5555555555555556, \"#d8576b\"], [0.6666666666666666, \"#ed7953\"], [0.7777777777777778, \"#fb9f3a\"], [0.8888888888888888, \"#fdca26\"], [1.0, \"#f0f921\"]], \"type\": \"heatmapgl\"}], \"histogram\": [{\"marker\": {\"colorbar\": {\"outlinewidth\": 0, \"ticks\": \"\"}}, \"type\": \"histogram\"}], \"histogram2d\": [{\"colorbar\": {\"outlinewidth\": 0, \"ticks\": \"\"}, \"colorscale\": [[0.0, \"#0d0887\"], [0.1111111111111111, \"#46039f\"], [0.2222222222222222, \"#7201a8\"], [0.3333333333333333, \"#9c179e\"], [0.4444444444444444, \"#bd3786\"], [0.5555555555555556, \"#d8576b\"], [0.6666666666666666, \"#ed7953\"], [0.7777777777777778, \"#fb9f3a\"], [0.8888888888888888, \"#fdca26\"], [1.0, \"#f0f921\"]], \"type\": \"histogram2d\"}], \"histogram2dcontour\": [{\"colorbar\": {\"outlinewidth\": 0, \"ticks\": \"\"}, \"colorscale\": [[0.0, \"#0d0887\"], [0.1111111111111111, \"#46039f\"], [0.2222222222222222, \"#7201a8\"], [0.3333333333333333, \"#9c179e\"], [0.4444444444444444, \"#bd3786\"], [0.5555555555555556, \"#d8576b\"], [0.6666666666666666, \"#ed7953\"], [0.7777777777777778, \"#fb9f3a\"], [0.8888888888888888, \"#fdca26\"], [1.0, \"#f0f921\"]], \"type\": \"histogram2dcontour\"}], \"mesh3d\": [{\"colorbar\": {\"outlinewidth\": 0, \"ticks\": \"\"}, \"type\": \"mesh3d\"}], \"parcoords\": [{\"line\": {\"colorbar\": {\"outlinewidth\": 0, \"ticks\": \"\"}}, \"type\": \"parcoords\"}], \"pie\": [{\"automargin\": true, \"type\": \"pie\"}], \"scatter\": [{\"marker\": {\"line\": {\"color\": \"#283442\"}}, \"type\": \"scatter\"}], \"scatter3d\": [{\"line\": {\"colorbar\": {\"outlinewidth\": 0, \"ticks\": \"\"}}, \"marker\": {\"colorbar\": {\"outlinewidth\": 0, \"ticks\": \"\"}}, \"type\": \"scatter3d\"}], \"scattercarpet\": [{\"marker\": {\"colorbar\": {\"outlinewidth\": 0, \"ticks\": \"\"}}, \"type\": \"scattercarpet\"}], \"scattergeo\": [{\"marker\": {\"colorbar\": {\"outlinewidth\": 0, \"ticks\": \"\"}}, \"type\": \"scattergeo\"}], \"scattergl\": [{\"marker\": {\"line\": {\"color\": \"#283442\"}}, \"type\": \"scattergl\"}], \"scattermapbox\": [{\"marker\": {\"colorbar\": {\"outlinewidth\": 0, \"ticks\": \"\"}}, \"type\": \"scattermapbox\"}], \"scatterpolar\": [{\"marker\": {\"colorbar\": {\"outlinewidth\": 0, \"ticks\": \"\"}}, \"type\": \"scatterpolar\"}], \"scatterpolargl\": [{\"marker\": {\"colorbar\": {\"outlinewidth\": 0, \"ticks\": \"\"}}, \"type\": \"scatterpolargl\"}], \"scatterternary\": [{\"marker\": {\"colorbar\": {\"outlinewidth\": 0, \"ticks\": \"\"}}, \"type\": \"scatterternary\"}], \"surface\": [{\"colorbar\": {\"outlinewidth\": 0, \"ticks\": \"\"}, \"colorscale\": [[0.0, \"#0d0887\"], [0.1111111111111111, \"#46039f\"], [0.2222222222222222, \"#7201a8\"], [0.3333333333333333, \"#9c179e\"], [0.4444444444444444, \"#bd3786\"], [0.5555555555555556, \"#d8576b\"], [0.6666666666666666, \"#ed7953\"], [0.7777777777777778, \"#fb9f3a\"], [0.8888888888888888, \"#fdca26\"], [1.0, \"#f0f921\"]], \"type\": \"surface\"}], \"table\": [{\"cells\": {\"fill\": {\"color\": \"#506784\"}, \"line\": {\"color\": \"rgb(17,17,17)\"}}, \"header\": {\"fill\": {\"color\": \"#2a3f5f\"}, \"line\": {\"color\": \"rgb(17,17,17)\"}}, \"type\": \"table\"}]}, \"layout\": {\"annotationdefaults\": {\"arrowcolor\": \"#f2f5fa\", \"arrowhead\": 0, \"arrowwidth\": 1}, \"coloraxis\": {\"colorbar\": {\"outlinewidth\": 0, \"ticks\": \"\"}}, \"colorscale\": {\"diverging\": [[0, \"#8e0152\"], [0.1, \"#c51b7d\"], [0.2, \"#de77ae\"], [0.3, \"#f1b6da\"], [0.4, \"#fde0ef\"], [0.5, \"#f7f7f7\"], [0.6, \"#e6f5d0\"], [0.7, \"#b8e186\"], [0.8, \"#7fbc41\"], [0.9, \"#4d9221\"], [1, \"#276419\"]], \"sequential\": [[0.0, \"#0d0887\"], [0.1111111111111111, \"#46039f\"], [0.2222222222222222, \"#7201a8\"], [0.3333333333333333, \"#9c179e\"], [0.4444444444444444, \"#bd3786\"], [0.5555555555555556, \"#d8576b\"], [0.6666666666666666, \"#ed7953\"], [0.7777777777777778, \"#fb9f3a\"], [0.8888888888888888, \"#fdca26\"], [1.0, \"#f0f921\"]], \"sequentialminus\": [[0.0, \"#0d0887\"], [0.1111111111111111, \"#46039f\"], [0.2222222222222222, \"#7201a8\"], [0.3333333333333333, \"#9c179e\"], [0.4444444444444444, \"#bd3786\"], [0.5555555555555556, \"#d8576b\"], [0.6666666666666666, \"#ed7953\"], [0.7777777777777778, \"#fb9f3a\"], [0.8888888888888888, \"#fdca26\"], [1.0, \"#f0f921\"]]}, \"colorway\": [\"#636efa\", \"#EF553B\", \"#00cc96\", \"#ab63fa\", \"#FFA15A\", \"#19d3f3\", \"#FF6692\", \"#B6E880\", \"#FF97FF\", \"#FECB52\"], \"font\": {\"color\": \"#f2f5fa\"}, \"geo\": {\"bgcolor\": \"rgb(17,17,17)\", \"lakecolor\": \"rgb(17,17,17)\", \"landcolor\": \"rgb(17,17,17)\", \"showlakes\": true, \"showland\": true, \"subunitcolor\": \"#506784\"}, \"hoverlabel\": {\"align\": \"left\"}, \"hovermode\": \"closest\", \"mapbox\": {\"style\": \"dark\"}, \"paper_bgcolor\": \"rgb(17,17,17)\", \"plot_bgcolor\": \"rgb(17,17,17)\", \"polar\": {\"angularaxis\": {\"gridcolor\": \"#506784\", \"linecolor\": \"#506784\", \"ticks\": \"\"}, \"bgcolor\": \"rgb(17,17,17)\", \"radialaxis\": {\"gridcolor\": \"#506784\", \"linecolor\": \"#506784\", \"ticks\": \"\"}}, \"scene\": {\"xaxis\": {\"backgroundcolor\": \"rgb(17,17,17)\", \"gridcolor\": \"#506784\", \"gridwidth\": 2, \"linecolor\": \"#506784\", \"showbackground\": true, \"ticks\": \"\", \"zerolinecolor\": \"#C8D4E3\"}, \"yaxis\": {\"backgroundcolor\": \"rgb(17,17,17)\", \"gridcolor\": \"#506784\", \"gridwidth\": 2, \"linecolor\": \"#506784\", \"showbackground\": true, \"ticks\": \"\", \"zerolinecolor\": \"#C8D4E3\"}, \"zaxis\": {\"backgroundcolor\": \"rgb(17,17,17)\", \"gridcolor\": \"#506784\", \"gridwidth\": 2, \"linecolor\": \"#506784\", \"showbackground\": true, \"ticks\": \"\", \"zerolinecolor\": \"#C8D4E3\"}}, \"shapedefaults\": {\"line\": {\"color\": \"#f2f5fa\"}}, \"sliderdefaults\": {\"bgcolor\": \"#C8D4E3\", \"bordercolor\": \"rgb(17,17,17)\", \"borderwidth\": 1, \"tickwidth\": 0}, \"ternary\": {\"aaxis\": {\"gridcolor\": \"#506784\", \"linecolor\": \"#506784\", \"ticks\": \"\"}, \"baxis\": {\"gridcolor\": \"#506784\", \"linecolor\": \"#506784\", \"ticks\": \"\"}, \"bgcolor\": \"rgb(17,17,17)\", \"caxis\": {\"gridcolor\": \"#506784\", \"linecolor\": \"#506784\", \"ticks\": \"\"}}, \"title\": {\"x\": 0.05}, \"updatemenudefaults\": {\"bgcolor\": \"#506784\", \"borderwidth\": 0}, \"xaxis\": {\"automargin\": true, \"gridcolor\": \"#283442\", \"linecolor\": \"#506784\", \"ticks\": \"\", \"title\": {\"standoff\": 15}, \"zerolinecolor\": \"#283442\", \"zerolinewidth\": 2}, \"yaxis\": {\"automargin\": true, \"gridcolor\": \"#283442\", \"linecolor\": \"#506784\", \"ticks\": \"\", \"title\": {\"standoff\": 15}, \"zerolinecolor\": \"#283442\", \"zerolinewidth\": 2}}}, \"title\": {\"text\": \"Parks\"}, \"width\": 600, \"xaxis\": {\"anchor\": \"y\", \"domain\": [0.0, 1.0], \"title\": {\"text\": \"Lockdown\"}}, \"yaxis\": {\"anchor\": \"x\", \"domain\": [0.0, 1.0], \"title\": {\"text\": \"Parks\"}}},\n",
              "                        {\"responsive\": true}\n",
              "                    ).then(function(){\n",
              "                            \n",
              "var gd = document.getElementById('f554c819-549a-450e-8d42-58c0dd7399e3');\n",
              "var x = new MutationObserver(function (mutations, observer) {{\n",
              "        var display = window.getComputedStyle(gd).display;\n",
              "        if (!display || display === 'none') {{\n",
              "            console.log([gd, 'removed!']);\n",
              "            Plotly.purge(gd);\n",
              "            observer.disconnect();\n",
              "        }}\n",
              "}});\n",
              "\n",
              "// Listen for the removal of the full notebook cells\n",
              "var notebookContainer = gd.closest('#notebook-container');\n",
              "if (notebookContainer) {{\n",
              "    x.observe(notebookContainer, {childList: true});\n",
              "}}\n",
              "\n",
              "// Listen for the clearing of the current output cell\n",
              "var outputEl = gd.closest('.output');\n",
              "if (outputEl) {{\n",
              "    x.observe(outputEl, {childList: true});\n",
              "}}\n",
              "\n",
              "                        })\n",
              "                };\n",
              "                \n",
              "            </script>\n",
              "        </div>\n",
              "</body>\n",
              "</html>"
            ]
          },
          "metadata": {
            "tags": []
          }
        },
        {
          "output_type": "display_data",
          "data": {
            "text/html": [
              "<html>\n",
              "<head><meta charset=\"utf-8\" /></head>\n",
              "<body>\n",
              "    <div>\n",
              "            <script src=\"https://cdnjs.cloudflare.com/ajax/libs/mathjax/2.7.5/MathJax.js?config=TeX-AMS-MML_SVG\"></script><script type=\"text/javascript\">if (window.MathJax) {MathJax.Hub.Config({SVG: {font: \"STIX-Web\"}});}</script>\n",
              "                <script type=\"text/javascript\">window.PlotlyConfig = {MathJaxConfig: 'local'};</script>\n",
              "        <script src=\"https://cdn.plot.ly/plotly-latest.min.js\"></script>    \n",
              "            <div id=\"da0575a3-212e-4a5e-a7cc-f8b7800ea33b\" class=\"plotly-graph-div\" style=\"height:400px; width:600px;\"></div>\n",
              "            <script type=\"text/javascript\">\n",
              "                \n",
              "                    window.PLOTLYENV=window.PLOTLYENV || {};\n",
              "                    \n",
              "                if (document.getElementById(\"da0575a3-212e-4a5e-a7cc-f8b7800ea33b\")) {\n",
              "                    Plotly.newPlot(\n",
              "                        'da0575a3-212e-4a5e-a7cc-f8b7800ea33b',\n",
              "                        [{\"alignmentgroup\": \"True\", \"hoverlabel\": {\"namelength\": 0}, \"hovertemplate\": \"State=Andhra Pradesh<br>Lockdown=%{x}<br>Transit_stations=%{y}\", \"legendgroup\": \"State=Andhra Pradesh\", \"marker\": {\"color\": \"#636efa\"}, \"name\": \"State=Andhra Pradesh\", \"notched\": false, \"offsetgroup\": \"State=Andhra Pradesh\", \"orientation\": \"v\", \"showlegend\": true, \"type\": \"box\", \"x\": [\"Pre-Lockdown\", \"Pre-Lockdown\", \"Pre-Lockdown\", \"Pre-Lockdown\", \"Pre-Lockdown\", \"Pre-Lockdown\", \"Pre-Lockdown\", \"Pre-Lockdown\", \"Pre-Lockdown\", \"Pre-Lockdown\", \"Pre-Lockdown\", \"Pre-Lockdown\", \"Pre-Lockdown\", \"Pre-Lockdown\", \"Pre-Lockdown\", \"Pre-Lockdown\", \"Pre-Lockdown\", \"Pre-Lockdown\", \"Pre-Lockdown\", \"Pre-Lockdown\", \"Pre-Lockdown\", \"Pre-Lockdown\", \"Pre-Lockdown\", \"Pre-Lockdown\", \"Pre-Lockdown\", \"Pre-Lockdown\", \"Pre-Lockdown\", \"Pre-Lockdown\", \"Pre-Lockdown\", \"Pre-Lockdown\", \"Pre-Lockdown\", \"Pre-Lockdown\", \"Pre-Lockdown\", \"Pre-Lockdown\", \"Pre-Lockdown\", \"Pre-Lockdown\", \"During-Lockdown\", \"During-Lockdown\", \"During-Lockdown\", \"During-Lockdown\", \"During-Lockdown\", \"During-Lockdown\", \"During-Lockdown\", \"During-Lockdown\", \"During-Lockdown\", \"During-Lockdown\", \"During-Lockdown\", \"During-Lockdown\", \"During-Lockdown\", \"During-Lockdown\", \"During-Lockdown\", \"During-Lockdown\", \"During-Lockdown\", \"During-Lockdown\", \"During-Lockdown\", \"During-Lockdown\", \"During-Lockdown\", \"During-Lockdown\", \"During-Lockdown\", \"During-Lockdown\", \"During-Lockdown\", \"During-Lockdown\", \"During-Lockdown\", \"During-Lockdown\", \"During-Lockdown\", \"During-Lockdown\", \"During-Lockdown\", \"During-Lockdown\", \"During-Lockdown\", \"During-Lockdown\", \"During-Lockdown\", \"During-Lockdown\", \"During-Lockdown\", \"During-Lockdown\", \"During-Lockdown\", \"During-Lockdown\", \"During-Lockdown\", \"During-Lockdown\", \"During-Lockdown\", \"During-Lockdown\", \"During-Lockdown\", \"During-Lockdown\", \"During-Lockdown\", \"During-Lockdown\", \"During-Lockdown\", \"During-Lockdown\", \"During-Lockdown\", \"During-Lockdown\", \"During-Lockdown\", \"During-Lockdown\", \"During-Lockdown\", \"During-Lockdown\", \"During-Lockdown\", \"During-Lockdown\", \"During-Lockdown\", \"During-Lockdown\", \"During-Lockdown\", \"During-Lockdown\", \"During-Lockdown\", \"During-Lockdown\", \"During-Lockdown\", \"During-Lockdown\", \"During-Lockdown\", \"During-Lockdown\", \"During-Lockdown\", \"During-Lockdown\", \"During-Lockdown\", \"During-Lockdown\", \"During-Lockdown\", \"During-Lockdown\", \"During-Lockdown\", \"During-Lockdown\", \"During-Lockdown\", \"During-Lockdown\", \"During-Lockdown\", \"During-Lockdown\", \"During-Lockdown\", \"During-Lockdown\", \"During-Lockdown\", \"During-Lockdown\", \"During-Lockdown\", \"During-Lockdown\", \"During-Lockdown\", \"During-Lockdown\", \"During-Lockdown\", \"During-Lockdown\", \"During-Lockdown\", \"During-Lockdown\", \"During-Lockdown\", \"During-Lockdown\", \"During-Lockdown\", \"During-Lockdown\", \"During-Lockdown\", \"During-Lockdown\", \"During-Lockdown\", \"During-Lockdown\", \"During-Lockdown\", \"During-Lockdown\", \"During-Lockdown\", \"During-Lockdown\", \"During-Lockdown\", \"During-Lockdown\", \"During-Lockdown\", \"During-Lockdown\", \"During-Lockdown\", \"During-Lockdown\", \"During-Lockdown\", \"During-Lockdown\", \"During-Lockdown\", \"During-Lockdown\", \"During-Lockdown\", \"During-Lockdown\", \"During-Lockdown\", \"During-Lockdown\", \"During-Lockdown\", \"During-Lockdown\", \"During-Lockdown\", \"During-Lockdown\", \"During-Lockdown\", \"During-Lockdown\", \"During-Lockdown\", \"During-Lockdown\", \"During-Lockdown\", \"During-Lockdown\", \"During-Lockdown\", \"During-Lockdown\", \"During-Lockdown\", \"During-Lockdown\"], \"x0\": \" \", \"xaxis\": \"x\", \"y\": [5.0, 4.0, 3.0, 2.0, 0.0, 6.0, 0.0, 0.0, 1.0, 4.0, 2.0, 2.0, 2.0, 1.0, 1.0, 3.0, 1.0, 0.0, 0.0, 0.0, 0.0, 3.0, 3.0, 1.0, 0.0, -1.0, -2.0, -2.0, -3.0, -2.0, -2.0, -4.0, -3.0, 2.0, -6.0, -10.0, -63.0, -46.0, -59.0, -68.0, -66.0, -66.0, -67.0, -63.0, -66.0, -64.0, -65.0, -67.0, -66.0, -66.0, -62.0, -65.0, -58.0, -59.0, -60.0, -60.0, -61.0, -60.0, -61.0, -60.0, -58.0, -57.0, -57.0, -59.0, -58.0, -60.0, -58.0, -60.0, -59.0, -59.0, -60.0, -58.0, -61.0, -58.0, -58.0, -58.0, -58.0, -58.0, -56.0, -54.0, -52.0, -50.0, -50.0, -49.0, -51.0, -49.0, -50.0, -48.0, -48.0, -48.0, -47.0, -47.0, -47.0, -46.0, -45.0, -44.0, -43.0, -43.0, -41.0, -39.0, -42.0, -38.0, -36.0, -36.0, -36.0, -34.0, -35.0, -32.0, -30.0, -29.0, -29.0, -30.0, -30.0, -32.0, -28.0, -29.0, -26.0, -29.0, -28.0, -29.0, -30.0, -27.0, -27.0, -27.0, -30.0, -31.0, -31.0, -45.0, -32.0, -31.0, -31.0, -32.0, -32.0, -34.0, -37.0, -34.0, -33.0, -33.0, -34.0, -33.0, -35.0, -39.0, -35.0, -33.0, -35.0, -36.0, -35.0, -37.0, -39.0, -37.0, -37.0, -41.0, -38.0, -38.0, -39.0, -45.0, -42.0, -39.0, -38.0, -40.0, -40.0, -41.0, -45.0, -40.0, -39.0, -37.0, -35.0, -40.0], \"y0\": \" \", \"yaxis\": \"y\"}, {\"alignmentgroup\": \"True\", \"hoverlabel\": {\"namelength\": 0}, \"hovertemplate\": \"State=Telangana<br>Lockdown=%{x}<br>Transit_stations=%{y}\", \"legendgroup\": \"State=Telangana\", \"marker\": {\"color\": \"#EF553B\"}, \"name\": \"State=Telangana\", \"notched\": false, \"offsetgroup\": \"State=Telangana\", \"orientation\": \"v\", \"showlegend\": true, \"type\": \"box\", \"x\": [\"Pre-Lockdown\", \"Pre-Lockdown\", \"Pre-Lockdown\", \"Pre-Lockdown\", \"Pre-Lockdown\", \"Pre-Lockdown\", \"Pre-Lockdown\", \"Pre-Lockdown\", \"Pre-Lockdown\", \"Pre-Lockdown\", \"Pre-Lockdown\", \"Pre-Lockdown\", \"Pre-Lockdown\", \"Pre-Lockdown\", \"Pre-Lockdown\", \"Pre-Lockdown\", \"Pre-Lockdown\", \"Pre-Lockdown\", \"Pre-Lockdown\", \"Pre-Lockdown\", \"Pre-Lockdown\", \"Pre-Lockdown\", \"Pre-Lockdown\", \"Pre-Lockdown\", \"Pre-Lockdown\", \"Pre-Lockdown\", \"Pre-Lockdown\", \"Pre-Lockdown\", \"Pre-Lockdown\", \"Pre-Lockdown\", \"Pre-Lockdown\", \"Pre-Lockdown\", \"Pre-Lockdown\", \"Pre-Lockdown\", \"Pre-Lockdown\", \"Pre-Lockdown\", \"During-Lockdown\", \"During-Lockdown\", \"During-Lockdown\", \"During-Lockdown\", \"During-Lockdown\", \"During-Lockdown\", \"During-Lockdown\", \"During-Lockdown\", \"During-Lockdown\", \"During-Lockdown\", \"During-Lockdown\", \"During-Lockdown\", \"During-Lockdown\", \"During-Lockdown\", \"During-Lockdown\", \"During-Lockdown\", \"During-Lockdown\", \"During-Lockdown\", \"During-Lockdown\", \"During-Lockdown\", \"During-Lockdown\", \"During-Lockdown\", \"During-Lockdown\", \"During-Lockdown\", \"During-Lockdown\", \"During-Lockdown\", \"During-Lockdown\", \"During-Lockdown\", \"During-Lockdown\", \"During-Lockdown\", \"During-Lockdown\", \"During-Lockdown\", \"During-Lockdown\", \"During-Lockdown\", \"During-Lockdown\", \"During-Lockdown\", \"During-Lockdown\", \"During-Lockdown\", \"During-Lockdown\", \"During-Lockdown\", \"During-Lockdown\", \"During-Lockdown\", \"During-Lockdown\", \"During-Lockdown\", \"During-Lockdown\", \"During-Lockdown\", \"During-Lockdown\", \"During-Lockdown\", \"During-Lockdown\", \"During-Lockdown\", \"During-Lockdown\", \"During-Lockdown\", \"During-Lockdown\", \"During-Lockdown\", \"During-Lockdown\", \"During-Lockdown\", \"During-Lockdown\", \"During-Lockdown\", \"During-Lockdown\", \"During-Lockdown\", \"During-Lockdown\", \"During-Lockdown\", \"During-Lockdown\", \"During-Lockdown\", \"During-Lockdown\", \"During-Lockdown\", \"During-Lockdown\", \"During-Lockdown\", \"During-Lockdown\", \"During-Lockdown\", \"During-Lockdown\", \"During-Lockdown\", \"During-Lockdown\", \"During-Lockdown\", \"During-Lockdown\", \"During-Lockdown\", \"During-Lockdown\", \"During-Lockdown\", \"During-Lockdown\", \"During-Lockdown\", \"During-Lockdown\", \"During-Lockdown\", \"During-Lockdown\", \"During-Lockdown\", \"During-Lockdown\", \"During-Lockdown\", \"During-Lockdown\", \"During-Lockdown\", \"During-Lockdown\", \"During-Lockdown\", \"During-Lockdown\", \"During-Lockdown\", \"During-Lockdown\", \"During-Lockdown\", \"During-Lockdown\", \"During-Lockdown\", \"During-Lockdown\", \"During-Lockdown\", \"During-Lockdown\", \"During-Lockdown\", \"During-Lockdown\", \"During-Lockdown\", \"During-Lockdown\", \"During-Lockdown\", \"During-Lockdown\", \"During-Lockdown\", \"During-Lockdown\", \"During-Lockdown\", \"During-Lockdown\", \"During-Lockdown\", \"During-Lockdown\", \"During-Lockdown\", \"During-Lockdown\", \"During-Lockdown\", \"During-Lockdown\", \"During-Lockdown\", \"During-Lockdown\", \"During-Lockdown\", \"During-Lockdown\", \"During-Lockdown\", \"During-Lockdown\", \"During-Lockdown\", \"During-Lockdown\", \"During-Lockdown\", \"During-Lockdown\", \"During-Lockdown\", \"During-Lockdown\", \"During-Lockdown\", \"During-Lockdown\", \"During-Lockdown\", \"During-Lockdown\", \"During-Lockdown\"], \"x0\": \" \", \"xaxis\": \"x\", \"y\": [4.0, 2.0, 2.0, 3.0, 5.0, 7.0, -5.0, -6.0, -1.0, 4.0, 6.0, 7.0, 5.0, 9.0, 4.0, 5.0, 4.0, 3.0, 5.0, 1.0, 6.0, 3.0, -1.0, -15.0, -1.0, 5.0, 1.0, 4.0, -2.0, 1.0, -2.0, -6.0, -4.0, -12.0, -12.0, -15.0, -74.0, -58.0, -70.0, -75.0, -76.0, -76.0, -76.0, -73.0, -76.0, -75.0, -75.0, -76.0, -74.0, -74.0, -72.0, -75.0, -70.0, -69.0, -70.0, -70.0, -71.0, -67.0, -71.0, -70.0, -68.0, -68.0, -68.0, -70.0, -67.0, -71.0, -70.0, -71.0, -71.0, -70.0, -71.0, -68.0, -71.0, -69.0, -68.0, -69.0, -69.0, -68.0, -65.0, -67.0, -65.0, -57.0, -58.0, -55.0, -58.0, -54.0, -57.0, -56.0, -55.0, -56.0, -54.0, -55.0, -54.0, -55.0, -50.0, -47.0, -48.0, -48.0, -46.0, -44.0, -52.0, -47.0, -43.0, -44.0, -43.0, -43.0, -44.0, -39.0, -38.0, -35.0, -37.0, -36.0, -36.0, -36.0, -36.0, -35.0, -34.0, -34.0, -33.0, -34.0, -32.0, -35.0, -37.0, -34.0, -39.0, -34.0, -37.0, -48.0, -36.0, -35.0, -35.0, -37.0, -35.0, -39.0, -40.0, -39.0, -37.0, -39.0, -40.0, -39.0, -40.0, -42.0, -41.0, -39.0, -40.0, -41.0, -39.0, -41.0, -40.0, -42.0, -43.0, -44.0, -40.0, -39.0, -39.0, -42.0, -45.0, -40.0, -39.0, -47.0, -39.0, -41.0, -38.0, -40.0, -43.0, -37.0, -36.0, -38.0], \"y0\": \" \", \"yaxis\": \"y\"}],\n",
              "                        {\"boxmode\": \"group\", \"height\": 400, \"legend\": {\"tracegroupgap\": 0}, \"template\": {\"data\": {\"bar\": [{\"error_x\": {\"color\": \"#f2f5fa\"}, \"error_y\": {\"color\": \"#f2f5fa\"}, \"marker\": {\"line\": {\"color\": \"rgb(17,17,17)\", \"width\": 0.5}}, \"type\": \"bar\"}], \"barpolar\": [{\"marker\": {\"line\": {\"color\": \"rgb(17,17,17)\", \"width\": 0.5}}, \"type\": \"barpolar\"}], \"carpet\": [{\"aaxis\": {\"endlinecolor\": \"#A2B1C6\", \"gridcolor\": \"#506784\", \"linecolor\": \"#506784\", \"minorgridcolor\": \"#506784\", \"startlinecolor\": \"#A2B1C6\"}, \"baxis\": {\"endlinecolor\": \"#A2B1C6\", \"gridcolor\": \"#506784\", \"linecolor\": \"#506784\", \"minorgridcolor\": \"#506784\", \"startlinecolor\": \"#A2B1C6\"}, \"type\": \"carpet\"}], \"choropleth\": [{\"colorbar\": {\"outlinewidth\": 0, \"ticks\": \"\"}, \"type\": \"choropleth\"}], \"contour\": [{\"colorbar\": {\"outlinewidth\": 0, \"ticks\": \"\"}, \"colorscale\": [[0.0, \"#0d0887\"], [0.1111111111111111, \"#46039f\"], [0.2222222222222222, \"#7201a8\"], [0.3333333333333333, \"#9c179e\"], [0.4444444444444444, \"#bd3786\"], [0.5555555555555556, \"#d8576b\"], [0.6666666666666666, \"#ed7953\"], [0.7777777777777778, \"#fb9f3a\"], [0.8888888888888888, \"#fdca26\"], [1.0, \"#f0f921\"]], \"type\": \"contour\"}], \"contourcarpet\": [{\"colorbar\": {\"outlinewidth\": 0, \"ticks\": \"\"}, \"type\": \"contourcarpet\"}], \"heatmap\": [{\"colorbar\": {\"outlinewidth\": 0, \"ticks\": \"\"}, \"colorscale\": [[0.0, \"#0d0887\"], [0.1111111111111111, \"#46039f\"], [0.2222222222222222, \"#7201a8\"], [0.3333333333333333, \"#9c179e\"], [0.4444444444444444, \"#bd3786\"], [0.5555555555555556, \"#d8576b\"], [0.6666666666666666, \"#ed7953\"], [0.7777777777777778, \"#fb9f3a\"], [0.8888888888888888, \"#fdca26\"], [1.0, \"#f0f921\"]], \"type\": \"heatmap\"}], \"heatmapgl\": [{\"colorbar\": {\"outlinewidth\": 0, \"ticks\": \"\"}, \"colorscale\": [[0.0, \"#0d0887\"], [0.1111111111111111, \"#46039f\"], [0.2222222222222222, \"#7201a8\"], [0.3333333333333333, \"#9c179e\"], [0.4444444444444444, \"#bd3786\"], [0.5555555555555556, \"#d8576b\"], [0.6666666666666666, \"#ed7953\"], [0.7777777777777778, \"#fb9f3a\"], [0.8888888888888888, \"#fdca26\"], [1.0, \"#f0f921\"]], \"type\": \"heatmapgl\"}], \"histogram\": [{\"marker\": {\"colorbar\": {\"outlinewidth\": 0, \"ticks\": \"\"}}, \"type\": \"histogram\"}], \"histogram2d\": [{\"colorbar\": {\"outlinewidth\": 0, \"ticks\": \"\"}, \"colorscale\": [[0.0, \"#0d0887\"], [0.1111111111111111, \"#46039f\"], [0.2222222222222222, \"#7201a8\"], [0.3333333333333333, \"#9c179e\"], [0.4444444444444444, \"#bd3786\"], [0.5555555555555556, \"#d8576b\"], [0.6666666666666666, \"#ed7953\"], [0.7777777777777778, \"#fb9f3a\"], [0.8888888888888888, \"#fdca26\"], [1.0, \"#f0f921\"]], \"type\": \"histogram2d\"}], \"histogram2dcontour\": [{\"colorbar\": {\"outlinewidth\": 0, \"ticks\": \"\"}, \"colorscale\": [[0.0, \"#0d0887\"], [0.1111111111111111, \"#46039f\"], [0.2222222222222222, \"#7201a8\"], [0.3333333333333333, \"#9c179e\"], [0.4444444444444444, \"#bd3786\"], [0.5555555555555556, \"#d8576b\"], [0.6666666666666666, \"#ed7953\"], [0.7777777777777778, \"#fb9f3a\"], [0.8888888888888888, \"#fdca26\"], [1.0, \"#f0f921\"]], \"type\": \"histogram2dcontour\"}], \"mesh3d\": [{\"colorbar\": {\"outlinewidth\": 0, \"ticks\": \"\"}, \"type\": \"mesh3d\"}], \"parcoords\": [{\"line\": {\"colorbar\": {\"outlinewidth\": 0, \"ticks\": \"\"}}, \"type\": \"parcoords\"}], \"pie\": [{\"automargin\": true, \"type\": \"pie\"}], \"scatter\": [{\"marker\": {\"line\": {\"color\": \"#283442\"}}, \"type\": \"scatter\"}], \"scatter3d\": [{\"line\": {\"colorbar\": {\"outlinewidth\": 0, \"ticks\": \"\"}}, \"marker\": {\"colorbar\": {\"outlinewidth\": 0, \"ticks\": \"\"}}, \"type\": \"scatter3d\"}], \"scattercarpet\": [{\"marker\": {\"colorbar\": {\"outlinewidth\": 0, \"ticks\": \"\"}}, \"type\": \"scattercarpet\"}], \"scattergeo\": [{\"marker\": {\"colorbar\": {\"outlinewidth\": 0, \"ticks\": \"\"}}, \"type\": \"scattergeo\"}], \"scattergl\": [{\"marker\": {\"line\": {\"color\": \"#283442\"}}, \"type\": \"scattergl\"}], \"scattermapbox\": [{\"marker\": {\"colorbar\": {\"outlinewidth\": 0, \"ticks\": \"\"}}, \"type\": \"scattermapbox\"}], \"scatterpolar\": [{\"marker\": {\"colorbar\": {\"outlinewidth\": 0, \"ticks\": \"\"}}, \"type\": \"scatterpolar\"}], \"scatterpolargl\": [{\"marker\": {\"colorbar\": {\"outlinewidth\": 0, \"ticks\": \"\"}}, \"type\": \"scatterpolargl\"}], \"scatterternary\": [{\"marker\": {\"colorbar\": {\"outlinewidth\": 0, \"ticks\": \"\"}}, \"type\": \"scatterternary\"}], \"surface\": [{\"colorbar\": {\"outlinewidth\": 0, \"ticks\": \"\"}, \"colorscale\": [[0.0, \"#0d0887\"], [0.1111111111111111, \"#46039f\"], [0.2222222222222222, \"#7201a8\"], [0.3333333333333333, \"#9c179e\"], [0.4444444444444444, \"#bd3786\"], [0.5555555555555556, \"#d8576b\"], [0.6666666666666666, \"#ed7953\"], [0.7777777777777778, \"#fb9f3a\"], [0.8888888888888888, \"#fdca26\"], [1.0, \"#f0f921\"]], \"type\": \"surface\"}], \"table\": [{\"cells\": {\"fill\": {\"color\": \"#506784\"}, \"line\": {\"color\": \"rgb(17,17,17)\"}}, \"header\": {\"fill\": {\"color\": \"#2a3f5f\"}, \"line\": {\"color\": \"rgb(17,17,17)\"}}, \"type\": \"table\"}]}, \"layout\": {\"annotationdefaults\": {\"arrowcolor\": \"#f2f5fa\", \"arrowhead\": 0, \"arrowwidth\": 1}, \"coloraxis\": {\"colorbar\": {\"outlinewidth\": 0, \"ticks\": \"\"}}, \"colorscale\": {\"diverging\": [[0, \"#8e0152\"], [0.1, \"#c51b7d\"], [0.2, \"#de77ae\"], [0.3, \"#f1b6da\"], [0.4, \"#fde0ef\"], [0.5, \"#f7f7f7\"], [0.6, \"#e6f5d0\"], [0.7, \"#b8e186\"], [0.8, \"#7fbc41\"], [0.9, \"#4d9221\"], [1, \"#276419\"]], \"sequential\": [[0.0, \"#0d0887\"], [0.1111111111111111, \"#46039f\"], [0.2222222222222222, \"#7201a8\"], [0.3333333333333333, \"#9c179e\"], [0.4444444444444444, \"#bd3786\"], [0.5555555555555556, \"#d8576b\"], [0.6666666666666666, \"#ed7953\"], [0.7777777777777778, \"#fb9f3a\"], [0.8888888888888888, \"#fdca26\"], [1.0, \"#f0f921\"]], \"sequentialminus\": [[0.0, \"#0d0887\"], [0.1111111111111111, \"#46039f\"], [0.2222222222222222, \"#7201a8\"], [0.3333333333333333, \"#9c179e\"], [0.4444444444444444, \"#bd3786\"], [0.5555555555555556, \"#d8576b\"], [0.6666666666666666, \"#ed7953\"], [0.7777777777777778, \"#fb9f3a\"], [0.8888888888888888, \"#fdca26\"], [1.0, \"#f0f921\"]]}, \"colorway\": [\"#636efa\", \"#EF553B\", \"#00cc96\", \"#ab63fa\", \"#FFA15A\", \"#19d3f3\", \"#FF6692\", \"#B6E880\", \"#FF97FF\", \"#FECB52\"], \"font\": {\"color\": \"#f2f5fa\"}, \"geo\": {\"bgcolor\": \"rgb(17,17,17)\", \"lakecolor\": \"rgb(17,17,17)\", \"landcolor\": \"rgb(17,17,17)\", \"showlakes\": true, \"showland\": true, \"subunitcolor\": \"#506784\"}, \"hoverlabel\": {\"align\": \"left\"}, \"hovermode\": \"closest\", \"mapbox\": {\"style\": \"dark\"}, \"paper_bgcolor\": \"rgb(17,17,17)\", \"plot_bgcolor\": \"rgb(17,17,17)\", \"polar\": {\"angularaxis\": {\"gridcolor\": \"#506784\", \"linecolor\": \"#506784\", \"ticks\": \"\"}, \"bgcolor\": \"rgb(17,17,17)\", \"radialaxis\": {\"gridcolor\": \"#506784\", \"linecolor\": \"#506784\", \"ticks\": \"\"}}, \"scene\": {\"xaxis\": {\"backgroundcolor\": \"rgb(17,17,17)\", \"gridcolor\": \"#506784\", \"gridwidth\": 2, \"linecolor\": \"#506784\", \"showbackground\": true, \"ticks\": \"\", \"zerolinecolor\": \"#C8D4E3\"}, \"yaxis\": {\"backgroundcolor\": \"rgb(17,17,17)\", \"gridcolor\": \"#506784\", \"gridwidth\": 2, \"linecolor\": \"#506784\", \"showbackground\": true, \"ticks\": \"\", \"zerolinecolor\": \"#C8D4E3\"}, \"zaxis\": {\"backgroundcolor\": \"rgb(17,17,17)\", \"gridcolor\": \"#506784\", \"gridwidth\": 2, \"linecolor\": \"#506784\", \"showbackground\": true, \"ticks\": \"\", \"zerolinecolor\": \"#C8D4E3\"}}, \"shapedefaults\": {\"line\": {\"color\": \"#f2f5fa\"}}, \"sliderdefaults\": {\"bgcolor\": \"#C8D4E3\", \"bordercolor\": \"rgb(17,17,17)\", \"borderwidth\": 1, \"tickwidth\": 0}, \"ternary\": {\"aaxis\": {\"gridcolor\": \"#506784\", \"linecolor\": \"#506784\", \"ticks\": \"\"}, \"baxis\": {\"gridcolor\": \"#506784\", \"linecolor\": \"#506784\", \"ticks\": \"\"}, \"bgcolor\": \"rgb(17,17,17)\", \"caxis\": {\"gridcolor\": \"#506784\", \"linecolor\": \"#506784\", \"ticks\": \"\"}}, \"title\": {\"x\": 0.05}, \"updatemenudefaults\": {\"bgcolor\": \"#506784\", \"borderwidth\": 0}, \"xaxis\": {\"automargin\": true, \"gridcolor\": \"#283442\", \"linecolor\": \"#506784\", \"ticks\": \"\", \"title\": {\"standoff\": 15}, \"zerolinecolor\": \"#283442\", \"zerolinewidth\": 2}, \"yaxis\": {\"automargin\": true, \"gridcolor\": \"#283442\", \"linecolor\": \"#506784\", \"ticks\": \"\", \"title\": {\"standoff\": 15}, \"zerolinecolor\": \"#283442\", \"zerolinewidth\": 2}}}, \"title\": {\"text\": \"Transit_stations\"}, \"width\": 600, \"xaxis\": {\"anchor\": \"y\", \"domain\": [0.0, 1.0], \"title\": {\"text\": \"Lockdown\"}}, \"yaxis\": {\"anchor\": \"x\", \"domain\": [0.0, 1.0], \"title\": {\"text\": \"Transit_stations\"}}},\n",
              "                        {\"responsive\": true}\n",
              "                    ).then(function(){\n",
              "                            \n",
              "var gd = document.getElementById('da0575a3-212e-4a5e-a7cc-f8b7800ea33b');\n",
              "var x = new MutationObserver(function (mutations, observer) {{\n",
              "        var display = window.getComputedStyle(gd).display;\n",
              "        if (!display || display === 'none') {{\n",
              "            console.log([gd, 'removed!']);\n",
              "            Plotly.purge(gd);\n",
              "            observer.disconnect();\n",
              "        }}\n",
              "}});\n",
              "\n",
              "// Listen for the removal of the full notebook cells\n",
              "var notebookContainer = gd.closest('#notebook-container');\n",
              "if (notebookContainer) {{\n",
              "    x.observe(notebookContainer, {childList: true});\n",
              "}}\n",
              "\n",
              "// Listen for the clearing of the current output cell\n",
              "var outputEl = gd.closest('.output');\n",
              "if (outputEl) {{\n",
              "    x.observe(outputEl, {childList: true});\n",
              "}}\n",
              "\n",
              "                        })\n",
              "                };\n",
              "                \n",
              "            </script>\n",
              "        </div>\n",
              "</body>\n",
              "</html>"
            ]
          },
          "metadata": {
            "tags": []
          }
        },
        {
          "output_type": "display_data",
          "data": {
            "text/html": [
              "<html>\n",
              "<head><meta charset=\"utf-8\" /></head>\n",
              "<body>\n",
              "    <div>\n",
              "            <script src=\"https://cdnjs.cloudflare.com/ajax/libs/mathjax/2.7.5/MathJax.js?config=TeX-AMS-MML_SVG\"></script><script type=\"text/javascript\">if (window.MathJax) {MathJax.Hub.Config({SVG: {font: \"STIX-Web\"}});}</script>\n",
              "                <script type=\"text/javascript\">window.PlotlyConfig = {MathJaxConfig: 'local'};</script>\n",
              "        <script src=\"https://cdn.plot.ly/plotly-latest.min.js\"></script>    \n",
              "            <div id=\"8dedea5e-76aa-440c-ae79-aed3bbeb8b94\" class=\"plotly-graph-div\" style=\"height:400px; width:600px;\"></div>\n",
              "            <script type=\"text/javascript\">\n",
              "                \n",
              "                    window.PLOTLYENV=window.PLOTLYENV || {};\n",
              "                    \n",
              "                if (document.getElementById(\"8dedea5e-76aa-440c-ae79-aed3bbeb8b94\")) {\n",
              "                    Plotly.newPlot(\n",
              "                        '8dedea5e-76aa-440c-ae79-aed3bbeb8b94',\n",
              "                        [{\"alignmentgroup\": \"True\", \"hoverlabel\": {\"namelength\": 0}, \"hovertemplate\": \"State=Andhra Pradesh<br>Lockdown=%{x}<br>Workplaces=%{y}\", \"legendgroup\": \"State=Andhra Pradesh\", \"marker\": {\"color\": \"#636efa\"}, \"name\": \"State=Andhra Pradesh\", \"notched\": false, \"offsetgroup\": \"State=Andhra Pradesh\", \"orientation\": \"v\", \"showlegend\": true, \"type\": \"box\", \"x\": [\"Pre-Lockdown\", \"Pre-Lockdown\", \"Pre-Lockdown\", \"Pre-Lockdown\", \"Pre-Lockdown\", \"Pre-Lockdown\", \"Pre-Lockdown\", \"Pre-Lockdown\", \"Pre-Lockdown\", \"Pre-Lockdown\", \"Pre-Lockdown\", \"Pre-Lockdown\", \"Pre-Lockdown\", \"Pre-Lockdown\", \"Pre-Lockdown\", \"Pre-Lockdown\", \"Pre-Lockdown\", \"Pre-Lockdown\", \"Pre-Lockdown\", \"Pre-Lockdown\", \"Pre-Lockdown\", \"Pre-Lockdown\", \"Pre-Lockdown\", \"Pre-Lockdown\", \"Pre-Lockdown\", \"Pre-Lockdown\", \"Pre-Lockdown\", \"Pre-Lockdown\", \"Pre-Lockdown\", \"Pre-Lockdown\", \"Pre-Lockdown\", \"Pre-Lockdown\", \"Pre-Lockdown\", \"Pre-Lockdown\", \"Pre-Lockdown\", \"Pre-Lockdown\", \"During-Lockdown\", \"During-Lockdown\", \"During-Lockdown\", \"During-Lockdown\", \"During-Lockdown\", \"During-Lockdown\", \"During-Lockdown\", \"During-Lockdown\", \"During-Lockdown\", \"During-Lockdown\", \"During-Lockdown\", \"During-Lockdown\", \"During-Lockdown\", \"During-Lockdown\", \"During-Lockdown\", \"During-Lockdown\", \"During-Lockdown\", \"During-Lockdown\", \"During-Lockdown\", \"During-Lockdown\", \"During-Lockdown\", \"During-Lockdown\", \"During-Lockdown\", \"During-Lockdown\", \"During-Lockdown\", \"During-Lockdown\", \"During-Lockdown\", \"During-Lockdown\", \"During-Lockdown\", \"During-Lockdown\", \"During-Lockdown\", \"During-Lockdown\", \"During-Lockdown\", \"During-Lockdown\", \"During-Lockdown\", \"During-Lockdown\", \"During-Lockdown\", \"During-Lockdown\", \"During-Lockdown\", \"During-Lockdown\", \"During-Lockdown\", \"During-Lockdown\", \"During-Lockdown\", \"During-Lockdown\", \"During-Lockdown\", \"During-Lockdown\", \"During-Lockdown\", \"During-Lockdown\", \"During-Lockdown\", \"During-Lockdown\", \"During-Lockdown\", \"During-Lockdown\", \"During-Lockdown\", \"During-Lockdown\", \"During-Lockdown\", \"During-Lockdown\", \"During-Lockdown\", \"During-Lockdown\", \"During-Lockdown\", \"During-Lockdown\", \"During-Lockdown\", \"During-Lockdown\", \"During-Lockdown\", \"During-Lockdown\", \"During-Lockdown\", \"During-Lockdown\", \"During-Lockdown\", \"During-Lockdown\", \"During-Lockdown\", \"During-Lockdown\", \"During-Lockdown\", \"During-Lockdown\", \"During-Lockdown\", \"During-Lockdown\", \"During-Lockdown\", \"During-Lockdown\", \"During-Lockdown\", \"During-Lockdown\", \"During-Lockdown\", \"During-Lockdown\", \"During-Lockdown\", \"During-Lockdown\", \"During-Lockdown\", \"During-Lockdown\", \"During-Lockdown\", \"During-Lockdown\", \"During-Lockdown\", \"During-Lockdown\", \"During-Lockdown\", \"During-Lockdown\", \"During-Lockdown\", \"During-Lockdown\", \"During-Lockdown\", \"During-Lockdown\", \"During-Lockdown\", \"During-Lockdown\", \"During-Lockdown\", \"During-Lockdown\", \"During-Lockdown\", \"During-Lockdown\", \"During-Lockdown\", \"During-Lockdown\", \"During-Lockdown\", \"During-Lockdown\", \"During-Lockdown\", \"During-Lockdown\", \"During-Lockdown\", \"During-Lockdown\", \"During-Lockdown\", \"During-Lockdown\", \"During-Lockdown\", \"During-Lockdown\", \"During-Lockdown\", \"During-Lockdown\", \"During-Lockdown\", \"During-Lockdown\", \"During-Lockdown\", \"During-Lockdown\", \"During-Lockdown\", \"During-Lockdown\", \"During-Lockdown\", \"During-Lockdown\", \"During-Lockdown\", \"During-Lockdown\", \"During-Lockdown\", \"During-Lockdown\", \"During-Lockdown\", \"During-Lockdown\", \"During-Lockdown\", \"During-Lockdown\", \"During-Lockdown\", \"During-Lockdown\"], \"x0\": \" \", \"xaxis\": \"x\", \"y\": [4.0, -1.0, 6.0, 5.0, 4.0, 4.0, -31.0, -9.0, 0.0, 6.0, 5.0, 2.0, 4.0, 5.0, 9.0, 4.0, 9.0, 7.0, 6.0, 5.0, 7.0, 7.0, 2.0, 4.0, -1.0, 2.0, 2.0, 3.0, -11.0, 0.0, 5.0, 2.0, 0.0, -8.0, -12.0, -14.0, -45.0, -36.0, -54.0, -67.0, -60.0, -59.0, -58.0, -37.0, -56.0, -55.0, -57.0, -60.0, -56.0, -52.0, -32.0, -54.0, -56.0, -55.0, -56.0, -60.0, -57.0, -36.0, -53.0, -58.0, -52.0, -54.0, -53.0, -51.0, -33.0, -51.0, -52.0, -53.0, -53.0, -52.0, -52.0, -32.0, -51.0, -51.0, -51.0, -50.0, -54.0, -47.0, -28.0, -44.0, -45.0, -43.0, -43.0, -42.0, -44.0, -21.0, -39.0, -40.0, -39.0, -39.0, -38.0, -35.0, -17.0, -34.0, -35.0, -34.0, -33.0, -31.0, -31.0, -11.0, -42.0, -29.0, -28.0, -27.0, -26.0, -20.0, -2.0, -21.0, -22.0, -22.0, -21.0, -20.0, -17.0, -1.0, -18.0, -20.0, -22.0, -23.0, -21.0, -25.0, -1.0, -20.0, -21.0, -22.0, -22.0, -21.0, -17.0, -8.0, -20.0, -22.0, -21.0, -21.0, -20.0, -20.0, -4.0, -19.0, -21.0, -21.0, -22.0, -21.0, -18.0, -5.0, -21.0, -22.0, -22.0, -23.0, -22.0, -28.0, -7.0, -22.0, -25.0, -28.0, -25.0, -25.0, -23.0, -13.0, -26.0, -28.0, -29.0, -30.0, -29.0, -30.0, -16.0, -29.0, -30.0, -31.0, -31.0, -32.0], \"y0\": \" \", \"yaxis\": \"y\"}, {\"alignmentgroup\": \"True\", \"hoverlabel\": {\"namelength\": 0}, \"hovertemplate\": \"State=Telangana<br>Lockdown=%{x}<br>Workplaces=%{y}\", \"legendgroup\": \"State=Telangana\", \"marker\": {\"color\": \"#EF553B\"}, \"name\": \"State=Telangana\", \"notched\": false, \"offsetgroup\": \"State=Telangana\", \"orientation\": \"v\", \"showlegend\": true, \"type\": \"box\", \"x\": [\"Pre-Lockdown\", \"Pre-Lockdown\", \"Pre-Lockdown\", \"Pre-Lockdown\", \"Pre-Lockdown\", \"Pre-Lockdown\", \"Pre-Lockdown\", \"Pre-Lockdown\", \"Pre-Lockdown\", \"Pre-Lockdown\", \"Pre-Lockdown\", \"Pre-Lockdown\", \"Pre-Lockdown\", \"Pre-Lockdown\", \"Pre-Lockdown\", \"Pre-Lockdown\", \"Pre-Lockdown\", \"Pre-Lockdown\", \"Pre-Lockdown\", \"Pre-Lockdown\", \"Pre-Lockdown\", \"Pre-Lockdown\", \"Pre-Lockdown\", \"Pre-Lockdown\", \"Pre-Lockdown\", \"Pre-Lockdown\", \"Pre-Lockdown\", \"Pre-Lockdown\", \"Pre-Lockdown\", \"Pre-Lockdown\", \"Pre-Lockdown\", \"Pre-Lockdown\", \"Pre-Lockdown\", \"Pre-Lockdown\", \"Pre-Lockdown\", \"Pre-Lockdown\", \"During-Lockdown\", \"During-Lockdown\", \"During-Lockdown\", \"During-Lockdown\", \"During-Lockdown\", \"During-Lockdown\", \"During-Lockdown\", \"During-Lockdown\", \"During-Lockdown\", \"During-Lockdown\", \"During-Lockdown\", \"During-Lockdown\", \"During-Lockdown\", \"During-Lockdown\", \"During-Lockdown\", \"During-Lockdown\", \"During-Lockdown\", \"During-Lockdown\", \"During-Lockdown\", \"During-Lockdown\", \"During-Lockdown\", \"During-Lockdown\", \"During-Lockdown\", \"During-Lockdown\", \"During-Lockdown\", \"During-Lockdown\", \"During-Lockdown\", \"During-Lockdown\", \"During-Lockdown\", \"During-Lockdown\", \"During-Lockdown\", \"During-Lockdown\", \"During-Lockdown\", \"During-Lockdown\", \"During-Lockdown\", \"During-Lockdown\", \"During-Lockdown\", \"During-Lockdown\", \"During-Lockdown\", \"During-Lockdown\", \"During-Lockdown\", \"During-Lockdown\", \"During-Lockdown\", \"During-Lockdown\", \"During-Lockdown\", \"During-Lockdown\", \"During-Lockdown\", \"During-Lockdown\", \"During-Lockdown\", \"During-Lockdown\", \"During-Lockdown\", \"During-Lockdown\", \"During-Lockdown\", \"During-Lockdown\", \"During-Lockdown\", \"During-Lockdown\", \"During-Lockdown\", \"During-Lockdown\", \"During-Lockdown\", \"During-Lockdown\", \"During-Lockdown\", \"During-Lockdown\", \"During-Lockdown\", \"During-Lockdown\", \"During-Lockdown\", \"During-Lockdown\", \"During-Lockdown\", \"During-Lockdown\", \"During-Lockdown\", \"During-Lockdown\", \"During-Lockdown\", \"During-Lockdown\", \"During-Lockdown\", \"During-Lockdown\", \"During-Lockdown\", \"During-Lockdown\", \"During-Lockdown\", \"During-Lockdown\", \"During-Lockdown\", \"During-Lockdown\", \"During-Lockdown\", \"During-Lockdown\", \"During-Lockdown\", \"During-Lockdown\", \"During-Lockdown\", \"During-Lockdown\", \"During-Lockdown\", \"During-Lockdown\", \"During-Lockdown\", \"During-Lockdown\", \"During-Lockdown\", \"During-Lockdown\", \"During-Lockdown\", \"During-Lockdown\", \"During-Lockdown\", \"During-Lockdown\", \"During-Lockdown\", \"During-Lockdown\", \"During-Lockdown\", \"During-Lockdown\", \"During-Lockdown\", \"During-Lockdown\", \"During-Lockdown\", \"During-Lockdown\", \"During-Lockdown\", \"During-Lockdown\", \"During-Lockdown\", \"During-Lockdown\", \"During-Lockdown\", \"During-Lockdown\", \"During-Lockdown\", \"During-Lockdown\", \"During-Lockdown\", \"During-Lockdown\", \"During-Lockdown\", \"During-Lockdown\", \"During-Lockdown\", \"During-Lockdown\", \"During-Lockdown\", \"During-Lockdown\", \"During-Lockdown\", \"During-Lockdown\", \"During-Lockdown\", \"During-Lockdown\", \"During-Lockdown\", \"During-Lockdown\", \"During-Lockdown\", \"During-Lockdown\", \"During-Lockdown\", \"During-Lockdown\", \"During-Lockdown\", \"During-Lockdown\"], \"x0\": \" \", \"xaxis\": \"x\", \"y\": [1.0, 0.0, 4.0, 4.0, 6.0, 4.0, -26.0, -13.0, 1.0, 5.0, 4.0, 3.0, 2.0, 3.0, 6.0, 2.0, 5.0, 5.0, 7.0, 2.0, 4.0, 6.0, 5.0, -26.0, -13.0, 2.0, 0.0, 0.0, -5.0, -1.0, -8.0, -12.0, -12.0, -19.0, -21.0, -17.0, -55.0, -60.0, -72.0, -79.0, -75.0, -74.0, -70.0, -51.0, -72.0, -72.0, -72.0, -75.0, -71.0, -65.0, -46.0, -71.0, -71.0, -71.0, -71.0, -73.0, -67.0, -47.0, -70.0, -73.0, -69.0, -70.0, -70.0, -63.0, -46.0, -69.0, -70.0, -70.0, -71.0, -70.0, -65.0, -46.0, -69.0, -70.0, -68.0, -68.0, -71.0, -60.0, -42.0, -65.0, -65.0, -62.0, -61.0, -59.0, -55.0, -35.0, -57.0, -58.0, -56.0, -57.0, -56.0, -47.0, -32.0, -53.0, -52.0, -49.0, -50.0, -48.0, -40.0, -25.0, -60.0, -50.0, -46.0, -46.0, -44.0, -31.0, -16.0, -41.0, -42.0, -39.0, -41.0, -39.0, -27.0, -13.0, -38.0, -39.0, -40.0, -41.0, -41.0, -32.0, -13.0, -40.0, -41.0, -40.0, -41.0, -40.0, -27.0, -20.0, -40.0, -41.0, -39.0, -41.0, -40.0, -32.0, -15.0, -41.0, -42.0, -42.0, -43.0, -42.0, -30.0, -16.0, -42.0, -43.0, -42.0, -43.0, -42.0, -35.0, -17.0, -43.0, -44.0, -43.0, -44.0, -42.0, -31.0, -18.0, -46.0, -44.0, -43.0, -49.0, -43.0, -34.0, -18.0, -44.0, -45.0, -44.0, -45.0, -45.0], \"y0\": \" \", \"yaxis\": \"y\"}],\n",
              "                        {\"boxmode\": \"group\", \"height\": 400, \"legend\": {\"tracegroupgap\": 0}, \"template\": {\"data\": {\"bar\": [{\"error_x\": {\"color\": \"#f2f5fa\"}, \"error_y\": {\"color\": \"#f2f5fa\"}, \"marker\": {\"line\": {\"color\": \"rgb(17,17,17)\", \"width\": 0.5}}, \"type\": \"bar\"}], \"barpolar\": [{\"marker\": {\"line\": {\"color\": \"rgb(17,17,17)\", \"width\": 0.5}}, \"type\": \"barpolar\"}], \"carpet\": [{\"aaxis\": {\"endlinecolor\": \"#A2B1C6\", \"gridcolor\": \"#506784\", \"linecolor\": \"#506784\", \"minorgridcolor\": \"#506784\", \"startlinecolor\": \"#A2B1C6\"}, \"baxis\": {\"endlinecolor\": \"#A2B1C6\", \"gridcolor\": \"#506784\", \"linecolor\": \"#506784\", \"minorgridcolor\": \"#506784\", \"startlinecolor\": \"#A2B1C6\"}, \"type\": \"carpet\"}], \"choropleth\": [{\"colorbar\": {\"outlinewidth\": 0, \"ticks\": \"\"}, \"type\": \"choropleth\"}], \"contour\": [{\"colorbar\": {\"outlinewidth\": 0, \"ticks\": \"\"}, \"colorscale\": [[0.0, \"#0d0887\"], [0.1111111111111111, \"#46039f\"], [0.2222222222222222, \"#7201a8\"], [0.3333333333333333, \"#9c179e\"], [0.4444444444444444, \"#bd3786\"], [0.5555555555555556, \"#d8576b\"], [0.6666666666666666, \"#ed7953\"], [0.7777777777777778, \"#fb9f3a\"], [0.8888888888888888, \"#fdca26\"], [1.0, \"#f0f921\"]], \"type\": \"contour\"}], \"contourcarpet\": [{\"colorbar\": {\"outlinewidth\": 0, \"ticks\": \"\"}, \"type\": \"contourcarpet\"}], \"heatmap\": [{\"colorbar\": {\"outlinewidth\": 0, \"ticks\": \"\"}, \"colorscale\": [[0.0, \"#0d0887\"], [0.1111111111111111, \"#46039f\"], [0.2222222222222222, \"#7201a8\"], [0.3333333333333333, \"#9c179e\"], [0.4444444444444444, \"#bd3786\"], [0.5555555555555556, \"#d8576b\"], [0.6666666666666666, \"#ed7953\"], [0.7777777777777778, \"#fb9f3a\"], [0.8888888888888888, \"#fdca26\"], [1.0, \"#f0f921\"]], \"type\": \"heatmap\"}], \"heatmapgl\": [{\"colorbar\": {\"outlinewidth\": 0, \"ticks\": \"\"}, \"colorscale\": [[0.0, \"#0d0887\"], [0.1111111111111111, \"#46039f\"], [0.2222222222222222, \"#7201a8\"], [0.3333333333333333, \"#9c179e\"], [0.4444444444444444, \"#bd3786\"], [0.5555555555555556, \"#d8576b\"], [0.6666666666666666, \"#ed7953\"], [0.7777777777777778, \"#fb9f3a\"], [0.8888888888888888, \"#fdca26\"], [1.0, \"#f0f921\"]], \"type\": \"heatmapgl\"}], \"histogram\": [{\"marker\": {\"colorbar\": {\"outlinewidth\": 0, \"ticks\": \"\"}}, \"type\": \"histogram\"}], \"histogram2d\": [{\"colorbar\": {\"outlinewidth\": 0, \"ticks\": \"\"}, \"colorscale\": [[0.0, \"#0d0887\"], [0.1111111111111111, \"#46039f\"], [0.2222222222222222, \"#7201a8\"], [0.3333333333333333, \"#9c179e\"], [0.4444444444444444, \"#bd3786\"], [0.5555555555555556, \"#d8576b\"], [0.6666666666666666, \"#ed7953\"], [0.7777777777777778, \"#fb9f3a\"], [0.8888888888888888, \"#fdca26\"], [1.0, \"#f0f921\"]], \"type\": \"histogram2d\"}], \"histogram2dcontour\": [{\"colorbar\": {\"outlinewidth\": 0, \"ticks\": \"\"}, \"colorscale\": [[0.0, \"#0d0887\"], [0.1111111111111111, \"#46039f\"], [0.2222222222222222, \"#7201a8\"], [0.3333333333333333, \"#9c179e\"], [0.4444444444444444, \"#bd3786\"], [0.5555555555555556, \"#d8576b\"], [0.6666666666666666, \"#ed7953\"], [0.7777777777777778, \"#fb9f3a\"], [0.8888888888888888, \"#fdca26\"], [1.0, \"#f0f921\"]], \"type\": \"histogram2dcontour\"}], \"mesh3d\": [{\"colorbar\": {\"outlinewidth\": 0, \"ticks\": \"\"}, \"type\": \"mesh3d\"}], \"parcoords\": [{\"line\": {\"colorbar\": {\"outlinewidth\": 0, \"ticks\": \"\"}}, \"type\": \"parcoords\"}], \"pie\": [{\"automargin\": true, \"type\": \"pie\"}], \"scatter\": [{\"marker\": {\"line\": {\"color\": \"#283442\"}}, \"type\": \"scatter\"}], \"scatter3d\": [{\"line\": {\"colorbar\": {\"outlinewidth\": 0, \"ticks\": \"\"}}, \"marker\": {\"colorbar\": {\"outlinewidth\": 0, \"ticks\": \"\"}}, \"type\": \"scatter3d\"}], \"scattercarpet\": [{\"marker\": {\"colorbar\": {\"outlinewidth\": 0, \"ticks\": \"\"}}, \"type\": \"scattercarpet\"}], \"scattergeo\": [{\"marker\": {\"colorbar\": {\"outlinewidth\": 0, \"ticks\": \"\"}}, \"type\": \"scattergeo\"}], \"scattergl\": [{\"marker\": {\"line\": {\"color\": \"#283442\"}}, \"type\": \"scattergl\"}], \"scattermapbox\": [{\"marker\": {\"colorbar\": {\"outlinewidth\": 0, \"ticks\": \"\"}}, \"type\": \"scattermapbox\"}], \"scatterpolar\": [{\"marker\": {\"colorbar\": {\"outlinewidth\": 0, \"ticks\": \"\"}}, \"type\": \"scatterpolar\"}], \"scatterpolargl\": [{\"marker\": {\"colorbar\": {\"outlinewidth\": 0, \"ticks\": \"\"}}, \"type\": \"scatterpolargl\"}], \"scatterternary\": [{\"marker\": {\"colorbar\": {\"outlinewidth\": 0, \"ticks\": \"\"}}, \"type\": \"scatterternary\"}], \"surface\": [{\"colorbar\": {\"outlinewidth\": 0, \"ticks\": \"\"}, \"colorscale\": [[0.0, \"#0d0887\"], [0.1111111111111111, \"#46039f\"], [0.2222222222222222, \"#7201a8\"], [0.3333333333333333, \"#9c179e\"], [0.4444444444444444, \"#bd3786\"], [0.5555555555555556, \"#d8576b\"], [0.6666666666666666, \"#ed7953\"], [0.7777777777777778, \"#fb9f3a\"], [0.8888888888888888, \"#fdca26\"], [1.0, \"#f0f921\"]], \"type\": \"surface\"}], \"table\": [{\"cells\": {\"fill\": {\"color\": \"#506784\"}, \"line\": {\"color\": \"rgb(17,17,17)\"}}, \"header\": {\"fill\": {\"color\": \"#2a3f5f\"}, \"line\": {\"color\": \"rgb(17,17,17)\"}}, \"type\": \"table\"}]}, \"layout\": {\"annotationdefaults\": {\"arrowcolor\": \"#f2f5fa\", \"arrowhead\": 0, \"arrowwidth\": 1}, \"coloraxis\": {\"colorbar\": {\"outlinewidth\": 0, \"ticks\": \"\"}}, \"colorscale\": {\"diverging\": [[0, \"#8e0152\"], [0.1, \"#c51b7d\"], [0.2, \"#de77ae\"], [0.3, \"#f1b6da\"], [0.4, \"#fde0ef\"], [0.5, \"#f7f7f7\"], [0.6, \"#e6f5d0\"], [0.7, \"#b8e186\"], [0.8, \"#7fbc41\"], [0.9, \"#4d9221\"], [1, \"#276419\"]], \"sequential\": [[0.0, \"#0d0887\"], [0.1111111111111111, \"#46039f\"], [0.2222222222222222, \"#7201a8\"], [0.3333333333333333, \"#9c179e\"], [0.4444444444444444, \"#bd3786\"], [0.5555555555555556, \"#d8576b\"], [0.6666666666666666, \"#ed7953\"], [0.7777777777777778, \"#fb9f3a\"], [0.8888888888888888, \"#fdca26\"], [1.0, \"#f0f921\"]], \"sequentialminus\": [[0.0, \"#0d0887\"], [0.1111111111111111, \"#46039f\"], [0.2222222222222222, \"#7201a8\"], [0.3333333333333333, \"#9c179e\"], [0.4444444444444444, \"#bd3786\"], [0.5555555555555556, \"#d8576b\"], [0.6666666666666666, \"#ed7953\"], [0.7777777777777778, \"#fb9f3a\"], [0.8888888888888888, \"#fdca26\"], [1.0, \"#f0f921\"]]}, \"colorway\": [\"#636efa\", \"#EF553B\", \"#00cc96\", \"#ab63fa\", \"#FFA15A\", \"#19d3f3\", \"#FF6692\", \"#B6E880\", \"#FF97FF\", \"#FECB52\"], \"font\": {\"color\": \"#f2f5fa\"}, \"geo\": {\"bgcolor\": \"rgb(17,17,17)\", \"lakecolor\": \"rgb(17,17,17)\", \"landcolor\": \"rgb(17,17,17)\", \"showlakes\": true, \"showland\": true, \"subunitcolor\": \"#506784\"}, \"hoverlabel\": {\"align\": \"left\"}, \"hovermode\": \"closest\", \"mapbox\": {\"style\": \"dark\"}, \"paper_bgcolor\": \"rgb(17,17,17)\", \"plot_bgcolor\": \"rgb(17,17,17)\", \"polar\": {\"angularaxis\": {\"gridcolor\": \"#506784\", \"linecolor\": \"#506784\", \"ticks\": \"\"}, \"bgcolor\": \"rgb(17,17,17)\", \"radialaxis\": {\"gridcolor\": \"#506784\", \"linecolor\": \"#506784\", \"ticks\": \"\"}}, \"scene\": {\"xaxis\": {\"backgroundcolor\": \"rgb(17,17,17)\", \"gridcolor\": \"#506784\", \"gridwidth\": 2, \"linecolor\": \"#506784\", \"showbackground\": true, \"ticks\": \"\", \"zerolinecolor\": \"#C8D4E3\"}, \"yaxis\": {\"backgroundcolor\": \"rgb(17,17,17)\", \"gridcolor\": \"#506784\", \"gridwidth\": 2, \"linecolor\": \"#506784\", \"showbackground\": true, \"ticks\": \"\", \"zerolinecolor\": \"#C8D4E3\"}, \"zaxis\": {\"backgroundcolor\": \"rgb(17,17,17)\", \"gridcolor\": \"#506784\", \"gridwidth\": 2, \"linecolor\": \"#506784\", \"showbackground\": true, \"ticks\": \"\", \"zerolinecolor\": \"#C8D4E3\"}}, \"shapedefaults\": {\"line\": {\"color\": \"#f2f5fa\"}}, \"sliderdefaults\": {\"bgcolor\": \"#C8D4E3\", \"bordercolor\": \"rgb(17,17,17)\", \"borderwidth\": 1, \"tickwidth\": 0}, \"ternary\": {\"aaxis\": {\"gridcolor\": \"#506784\", \"linecolor\": \"#506784\", \"ticks\": \"\"}, \"baxis\": {\"gridcolor\": \"#506784\", \"linecolor\": \"#506784\", \"ticks\": \"\"}, \"bgcolor\": \"rgb(17,17,17)\", \"caxis\": {\"gridcolor\": \"#506784\", \"linecolor\": \"#506784\", \"ticks\": \"\"}}, \"title\": {\"x\": 0.05}, \"updatemenudefaults\": {\"bgcolor\": \"#506784\", \"borderwidth\": 0}, \"xaxis\": {\"automargin\": true, \"gridcolor\": \"#283442\", \"linecolor\": \"#506784\", \"ticks\": \"\", \"title\": {\"standoff\": 15}, \"zerolinecolor\": \"#283442\", \"zerolinewidth\": 2}, \"yaxis\": {\"automargin\": true, \"gridcolor\": \"#283442\", \"linecolor\": \"#506784\", \"ticks\": \"\", \"title\": {\"standoff\": 15}, \"zerolinecolor\": \"#283442\", \"zerolinewidth\": 2}}}, \"title\": {\"text\": \"Workplaces\"}, \"width\": 600, \"xaxis\": {\"anchor\": \"y\", \"domain\": [0.0, 1.0], \"title\": {\"text\": \"Lockdown\"}}, \"yaxis\": {\"anchor\": \"x\", \"domain\": [0.0, 1.0], \"title\": {\"text\": \"Workplaces\"}}},\n",
              "                        {\"responsive\": true}\n",
              "                    ).then(function(){\n",
              "                            \n",
              "var gd = document.getElementById('8dedea5e-76aa-440c-ae79-aed3bbeb8b94');\n",
              "var x = new MutationObserver(function (mutations, observer) {{\n",
              "        var display = window.getComputedStyle(gd).display;\n",
              "        if (!display || display === 'none') {{\n",
              "            console.log([gd, 'removed!']);\n",
              "            Plotly.purge(gd);\n",
              "            observer.disconnect();\n",
              "        }}\n",
              "}});\n",
              "\n",
              "// Listen for the removal of the full notebook cells\n",
              "var notebookContainer = gd.closest('#notebook-container');\n",
              "if (notebookContainer) {{\n",
              "    x.observe(notebookContainer, {childList: true});\n",
              "}}\n",
              "\n",
              "// Listen for the clearing of the current output cell\n",
              "var outputEl = gd.closest('.output');\n",
              "if (outputEl) {{\n",
              "    x.observe(outputEl, {childList: true});\n",
              "}}\n",
              "\n",
              "                        })\n",
              "                };\n",
              "                \n",
              "            </script>\n",
              "        </div>\n",
              "</body>\n",
              "</html>"
            ]
          },
          "metadata": {
            "tags": []
          }
        },
        {
          "output_type": "display_data",
          "data": {
            "text/html": [
              "<html>\n",
              "<head><meta charset=\"utf-8\" /></head>\n",
              "<body>\n",
              "    <div>\n",
              "            <script src=\"https://cdnjs.cloudflare.com/ajax/libs/mathjax/2.7.5/MathJax.js?config=TeX-AMS-MML_SVG\"></script><script type=\"text/javascript\">if (window.MathJax) {MathJax.Hub.Config({SVG: {font: \"STIX-Web\"}});}</script>\n",
              "                <script type=\"text/javascript\">window.PlotlyConfig = {MathJaxConfig: 'local'};</script>\n",
              "        <script src=\"https://cdn.plot.ly/plotly-latest.min.js\"></script>    \n",
              "            <div id=\"125588ec-a0c4-423f-a2e1-b90ebdfc0248\" class=\"plotly-graph-div\" style=\"height:400px; width:600px;\"></div>\n",
              "            <script type=\"text/javascript\">\n",
              "                \n",
              "                    window.PLOTLYENV=window.PLOTLYENV || {};\n",
              "                    \n",
              "                if (document.getElementById(\"125588ec-a0c4-423f-a2e1-b90ebdfc0248\")) {\n",
              "                    Plotly.newPlot(\n",
              "                        '125588ec-a0c4-423f-a2e1-b90ebdfc0248',\n",
              "                        [{\"alignmentgroup\": \"True\", \"hoverlabel\": {\"namelength\": 0}, \"hovertemplate\": \"State=Andhra Pradesh<br>Lockdown=%{x}<br>Residential=%{y}\", \"legendgroup\": \"State=Andhra Pradesh\", \"marker\": {\"color\": \"#636efa\"}, \"name\": \"State=Andhra Pradesh\", \"notched\": false, \"offsetgroup\": \"State=Andhra Pradesh\", \"orientation\": \"v\", \"showlegend\": true, \"type\": \"box\", \"x\": [\"Pre-Lockdown\", \"Pre-Lockdown\", \"Pre-Lockdown\", \"Pre-Lockdown\", \"Pre-Lockdown\", \"Pre-Lockdown\", \"Pre-Lockdown\", \"Pre-Lockdown\", \"Pre-Lockdown\", \"Pre-Lockdown\", \"Pre-Lockdown\", \"Pre-Lockdown\", \"Pre-Lockdown\", \"Pre-Lockdown\", \"Pre-Lockdown\", \"Pre-Lockdown\", \"Pre-Lockdown\", \"Pre-Lockdown\", \"Pre-Lockdown\", \"Pre-Lockdown\", \"Pre-Lockdown\", \"Pre-Lockdown\", \"Pre-Lockdown\", \"Pre-Lockdown\", \"Pre-Lockdown\", \"Pre-Lockdown\", \"Pre-Lockdown\", \"Pre-Lockdown\", \"Pre-Lockdown\", \"Pre-Lockdown\", \"Pre-Lockdown\", \"Pre-Lockdown\", \"Pre-Lockdown\", \"Pre-Lockdown\", \"Pre-Lockdown\", \"Pre-Lockdown\", \"During-Lockdown\", \"During-Lockdown\", \"During-Lockdown\", \"During-Lockdown\", \"During-Lockdown\", \"During-Lockdown\", \"During-Lockdown\", \"During-Lockdown\", \"During-Lockdown\", \"During-Lockdown\", \"During-Lockdown\", \"During-Lockdown\", \"During-Lockdown\", \"During-Lockdown\", \"During-Lockdown\", \"During-Lockdown\", \"During-Lockdown\", \"During-Lockdown\", \"During-Lockdown\", \"During-Lockdown\", \"During-Lockdown\", \"During-Lockdown\", \"During-Lockdown\", \"During-Lockdown\", \"During-Lockdown\", \"During-Lockdown\", \"During-Lockdown\", \"During-Lockdown\", \"During-Lockdown\", \"During-Lockdown\", \"During-Lockdown\", \"During-Lockdown\", \"During-Lockdown\", \"During-Lockdown\", \"During-Lockdown\", \"During-Lockdown\", \"During-Lockdown\", \"During-Lockdown\", \"During-Lockdown\", \"During-Lockdown\", \"During-Lockdown\", \"During-Lockdown\", \"During-Lockdown\", \"During-Lockdown\", \"During-Lockdown\", \"During-Lockdown\", \"During-Lockdown\", \"During-Lockdown\", \"During-Lockdown\", \"During-Lockdown\", \"During-Lockdown\", \"During-Lockdown\", \"During-Lockdown\", \"During-Lockdown\", \"During-Lockdown\", \"During-Lockdown\", \"During-Lockdown\", \"During-Lockdown\", \"During-Lockdown\", \"During-Lockdown\", \"During-Lockdown\", \"During-Lockdown\", \"During-Lockdown\", \"During-Lockdown\", \"During-Lockdown\", \"During-Lockdown\", \"During-Lockdown\", \"During-Lockdown\", \"During-Lockdown\", \"During-Lockdown\", \"During-Lockdown\", \"During-Lockdown\", \"During-Lockdown\", \"During-Lockdown\", \"During-Lockdown\", \"During-Lockdown\", \"During-Lockdown\", \"During-Lockdown\", \"During-Lockdown\", \"During-Lockdown\", \"During-Lockdown\", \"During-Lockdown\", \"During-Lockdown\", \"During-Lockdown\", \"During-Lockdown\", \"During-Lockdown\", \"During-Lockdown\", \"During-Lockdown\", \"During-Lockdown\", \"During-Lockdown\", \"During-Lockdown\", \"During-Lockdown\", \"During-Lockdown\", \"During-Lockdown\", \"During-Lockdown\", \"During-Lockdown\", \"During-Lockdown\", \"During-Lockdown\", \"During-Lockdown\", \"During-Lockdown\", \"During-Lockdown\", \"During-Lockdown\", \"During-Lockdown\", \"During-Lockdown\", \"During-Lockdown\", \"During-Lockdown\", \"During-Lockdown\", \"During-Lockdown\", \"During-Lockdown\", \"During-Lockdown\", \"During-Lockdown\", \"During-Lockdown\", \"During-Lockdown\", \"During-Lockdown\", \"During-Lockdown\", \"During-Lockdown\", \"During-Lockdown\", \"During-Lockdown\", \"During-Lockdown\", \"During-Lockdown\", \"During-Lockdown\", \"During-Lockdown\", \"During-Lockdown\", \"During-Lockdown\", \"During-Lockdown\", \"During-Lockdown\", \"During-Lockdown\", \"During-Lockdown\", \"During-Lockdown\", \"During-Lockdown\", \"During-Lockdown\", \"During-Lockdown\"], \"x0\": \" \", \"xaxis\": \"x\", \"y\": [0.0, 1.0, 0.0, 0.0, 0.0, 0.0, 6.0, 2.0, 2.0, 0.0, 0.0, -1.0, 0.0, 1.0, 1.0, 1.0, 1.0, 0.0, 0.0, 1.0, 2.0, 1.0, 1.0, 1.0, 1.0, -1.0, 1.0, 1.0, 4.0, 2.0, 2.0, 2.0, 1.0, 2.0, 5.0, 6.0, 23.0, 17.0, 23.0, 29.0, 28.0, 29.0, 30.0, 21.0, 28.0, 25.0, 26.0, 29.0, 28.0, 27.0, 20.0, 28.0, 26.0, 26.0, 28.0, 30.0, 30.0, 22.0, 28.0, 27.0, 26.0, 27.0, 28.0, 28.0, 21.0, 28.0, 26.0, 27.0, 28.0, 29.0, 29.0, 22.0, 29.0, 25.0, 26.0, 28.0, 29.0, 27.0, 21.0, 25.0, 24.0, 24.0, 24.0, 25.0, 26.0, 18.0, 24.0, 23.0, 22.0, 22.0, 24.0, 23.0, 17.0, 22.0, 21.0, 21.0, 22.0, 22.0, 21.0, 15.0, 22.0, 17.0, 17.0, 18.0, 19.0, 17.0, 13.0, 16.0, 15.0, 14.0, 15.0, 16.0, 15.0, 12.0, 14.0, 14.0, 13.0, 15.0, 16.0, 16.0, 11.0, 13.0, 13.0, 13.0, 14.0, 16.0, 15.0, 18.0, 15.0, 14.0, 14.0, 15.0, 16.0, 16.0, 13.0, 15.0, 15.0, 14.0, 16.0, 17.0, 17.0, 14.0, 17.0, 15.0, 15.0, 17.0, 17.0, 18.0, 14.0, 17.0, 17.0, 20.0, 19.0, 20.0, 19.0, 18.0, 20.0, 18.0, 18.0, 20.0, 21.0, 21.0, 17.0, 20.0, 20.0, 19.0, 19.0, 21.0], \"y0\": \" \", \"yaxis\": \"y\"}, {\"alignmentgroup\": \"True\", \"hoverlabel\": {\"namelength\": 0}, \"hovertemplate\": \"State=Telangana<br>Lockdown=%{x}<br>Residential=%{y}\", \"legendgroup\": \"State=Telangana\", \"marker\": {\"color\": \"#EF553B\"}, \"name\": \"State=Telangana\", \"notched\": false, \"offsetgroup\": \"State=Telangana\", \"orientation\": \"v\", \"showlegend\": true, \"type\": \"box\", \"x\": [\"Pre-Lockdown\", \"Pre-Lockdown\", \"Pre-Lockdown\", \"Pre-Lockdown\", \"Pre-Lockdown\", \"Pre-Lockdown\", \"Pre-Lockdown\", \"Pre-Lockdown\", \"Pre-Lockdown\", \"Pre-Lockdown\", \"Pre-Lockdown\", \"Pre-Lockdown\", \"Pre-Lockdown\", \"Pre-Lockdown\", \"Pre-Lockdown\", \"Pre-Lockdown\", \"Pre-Lockdown\", \"Pre-Lockdown\", \"Pre-Lockdown\", \"Pre-Lockdown\", \"Pre-Lockdown\", \"Pre-Lockdown\", \"Pre-Lockdown\", \"Pre-Lockdown\", \"Pre-Lockdown\", \"Pre-Lockdown\", \"Pre-Lockdown\", \"Pre-Lockdown\", \"Pre-Lockdown\", \"Pre-Lockdown\", \"Pre-Lockdown\", \"Pre-Lockdown\", \"Pre-Lockdown\", \"Pre-Lockdown\", \"Pre-Lockdown\", \"Pre-Lockdown\", \"During-Lockdown\", \"During-Lockdown\", \"During-Lockdown\", \"During-Lockdown\", \"During-Lockdown\", \"During-Lockdown\", \"During-Lockdown\", \"During-Lockdown\", \"During-Lockdown\", \"During-Lockdown\", \"During-Lockdown\", \"During-Lockdown\", \"During-Lockdown\", \"During-Lockdown\", \"During-Lockdown\", \"During-Lockdown\", \"During-Lockdown\", \"During-Lockdown\", \"During-Lockdown\", \"During-Lockdown\", \"During-Lockdown\", \"During-Lockdown\", \"During-Lockdown\", \"During-Lockdown\", \"During-Lockdown\", \"During-Lockdown\", \"During-Lockdown\", \"During-Lockdown\", \"During-Lockdown\", \"During-Lockdown\", \"During-Lockdown\", \"During-Lockdown\", \"During-Lockdown\", \"During-Lockdown\", \"During-Lockdown\", \"During-Lockdown\", \"During-Lockdown\", \"During-Lockdown\", \"During-Lockdown\", \"During-Lockdown\", \"During-Lockdown\", \"During-Lockdown\", \"During-Lockdown\", \"During-Lockdown\", \"During-Lockdown\", \"During-Lockdown\", \"During-Lockdown\", \"During-Lockdown\", \"During-Lockdown\", \"During-Lockdown\", \"During-Lockdown\", \"During-Lockdown\", \"During-Lockdown\", \"During-Lockdown\", \"During-Lockdown\", \"During-Lockdown\", \"During-Lockdown\", \"During-Lockdown\", \"During-Lockdown\", \"During-Lockdown\", \"During-Lockdown\", \"During-Lockdown\", \"During-Lockdown\", \"During-Lockdown\", \"During-Lockdown\", \"During-Lockdown\", \"During-Lockdown\", \"During-Lockdown\", \"During-Lockdown\", \"During-Lockdown\", \"During-Lockdown\", \"During-Lockdown\", \"During-Lockdown\", \"During-Lockdown\", \"During-Lockdown\", \"During-Lockdown\", \"During-Lockdown\", \"During-Lockdown\", \"During-Lockdown\", \"During-Lockdown\", \"During-Lockdown\", \"During-Lockdown\", \"During-Lockdown\", \"During-Lockdown\", \"During-Lockdown\", \"During-Lockdown\", \"During-Lockdown\", \"During-Lockdown\", \"During-Lockdown\", \"During-Lockdown\", \"During-Lockdown\", \"During-Lockdown\", \"During-Lockdown\", \"During-Lockdown\", \"During-Lockdown\", \"During-Lockdown\", \"During-Lockdown\", \"During-Lockdown\", \"During-Lockdown\", \"During-Lockdown\", \"During-Lockdown\", \"During-Lockdown\", \"During-Lockdown\", \"During-Lockdown\", \"During-Lockdown\", \"During-Lockdown\", \"During-Lockdown\", \"During-Lockdown\", \"During-Lockdown\", \"During-Lockdown\", \"During-Lockdown\", \"During-Lockdown\", \"During-Lockdown\", \"During-Lockdown\", \"During-Lockdown\", \"During-Lockdown\", \"During-Lockdown\", \"During-Lockdown\", \"During-Lockdown\", \"During-Lockdown\", \"During-Lockdown\", \"During-Lockdown\", \"During-Lockdown\", \"During-Lockdown\", \"During-Lockdown\", \"During-Lockdown\", \"During-Lockdown\", \"During-Lockdown\", \"During-Lockdown\", \"During-Lockdown\", \"During-Lockdown\", \"During-Lockdown\"], \"x0\": \" \", \"xaxis\": \"x\", \"y\": [0.0, 1.0, 1.0, 1.0, 0.0, 0.0, 9.0, 5.0, 2.0, 1.0, 0.0, -1.0, 0.0, 0.0, 1.0, 0.0, 1.0, 1.0, 1.0, 2.0, 2.0, 2.0, 1.0, 9.0, 4.0, 0.0, 1.0, 1.0, 3.0, 1.0, 4.0, 4.0, 4.0, 6.0, 8.0, 7.0, 24.0, 26.0, 32.0, 35.0, 35.0, 37.0, 34.0, 24.0, 36.0, 33.0, 33.0, 35.0, 35.0, 31.0, 23.0, 35.0, 33.0, 32.0, 34.0, 36.0, 33.0, 23.0, 35.0, 33.0, 32.0, 34.0, 35.0, 31.0, 23.0, 35.0, 33.0, 34.0, 35.0, 35.0, 33.0, 24.0, 36.0, 32.0, 32.0, 33.0, 35.0, 30.0, 21.0, 32.0, 30.0, 28.0, 29.0, 29.0, 26.0, 18.0, 28.0, 26.0, 25.0, 26.0, 27.0, 24.0, 17.0, 26.0, 23.0, 22.0, 23.0, 25.0, 20.0, 14.0, 26.0, 21.0, 19.0, 21.0, 22.0, 17.0, 13.0, 18.0, 18.0, 17.0, 18.0, 19.0, 15.0, 11.0, 17.0, 16.0, 16.0, 16.0, 18.0, 15.0, 9.0, 16.0, 17.0, 16.0, 17.0, 17.0, 14.0, 16.0, 17.0, 17.0, 16.0, 17.0, 18.0, 16.0, 12.0, 19.0, 17.0, 18.0, 18.0, 20.0, 17.0, 13.0, 20.0, 18.0, 18.0, 19.0, 20.0, 17.0, 12.0, 20.0, 19.0, 20.0, 19.0, 20.0, 17.0, 13.0, 22.0, 19.0, 18.0, 23.0, 20.0, 18.0, 12.0, 19.0, 20.0, 18.0, 18.0, 20.0], \"y0\": \" \", \"yaxis\": \"y\"}],\n",
              "                        {\"boxmode\": \"group\", \"height\": 400, \"legend\": {\"tracegroupgap\": 0}, \"template\": {\"data\": {\"bar\": [{\"error_x\": {\"color\": \"#f2f5fa\"}, \"error_y\": {\"color\": \"#f2f5fa\"}, \"marker\": {\"line\": {\"color\": \"rgb(17,17,17)\", \"width\": 0.5}}, \"type\": \"bar\"}], \"barpolar\": [{\"marker\": {\"line\": {\"color\": \"rgb(17,17,17)\", \"width\": 0.5}}, \"type\": \"barpolar\"}], \"carpet\": [{\"aaxis\": {\"endlinecolor\": \"#A2B1C6\", \"gridcolor\": \"#506784\", \"linecolor\": \"#506784\", \"minorgridcolor\": \"#506784\", \"startlinecolor\": \"#A2B1C6\"}, \"baxis\": {\"endlinecolor\": \"#A2B1C6\", \"gridcolor\": \"#506784\", \"linecolor\": \"#506784\", \"minorgridcolor\": \"#506784\", \"startlinecolor\": \"#A2B1C6\"}, \"type\": \"carpet\"}], \"choropleth\": [{\"colorbar\": {\"outlinewidth\": 0, \"ticks\": \"\"}, \"type\": \"choropleth\"}], \"contour\": [{\"colorbar\": {\"outlinewidth\": 0, \"ticks\": \"\"}, \"colorscale\": [[0.0, \"#0d0887\"], [0.1111111111111111, \"#46039f\"], [0.2222222222222222, \"#7201a8\"], [0.3333333333333333, \"#9c179e\"], [0.4444444444444444, \"#bd3786\"], [0.5555555555555556, \"#d8576b\"], [0.6666666666666666, \"#ed7953\"], [0.7777777777777778, \"#fb9f3a\"], [0.8888888888888888, \"#fdca26\"], [1.0, \"#f0f921\"]], \"type\": \"contour\"}], \"contourcarpet\": [{\"colorbar\": {\"outlinewidth\": 0, \"ticks\": \"\"}, \"type\": \"contourcarpet\"}], \"heatmap\": [{\"colorbar\": {\"outlinewidth\": 0, \"ticks\": \"\"}, \"colorscale\": [[0.0, \"#0d0887\"], [0.1111111111111111, \"#46039f\"], [0.2222222222222222, \"#7201a8\"], [0.3333333333333333, \"#9c179e\"], [0.4444444444444444, \"#bd3786\"], [0.5555555555555556, \"#d8576b\"], [0.6666666666666666, \"#ed7953\"], [0.7777777777777778, \"#fb9f3a\"], [0.8888888888888888, \"#fdca26\"], [1.0, \"#f0f921\"]], \"type\": \"heatmap\"}], \"heatmapgl\": [{\"colorbar\": {\"outlinewidth\": 0, \"ticks\": \"\"}, \"colorscale\": [[0.0, \"#0d0887\"], [0.1111111111111111, \"#46039f\"], [0.2222222222222222, \"#7201a8\"], [0.3333333333333333, \"#9c179e\"], [0.4444444444444444, \"#bd3786\"], [0.5555555555555556, \"#d8576b\"], [0.6666666666666666, \"#ed7953\"], [0.7777777777777778, \"#fb9f3a\"], [0.8888888888888888, \"#fdca26\"], [1.0, \"#f0f921\"]], \"type\": \"heatmapgl\"}], \"histogram\": [{\"marker\": {\"colorbar\": {\"outlinewidth\": 0, \"ticks\": \"\"}}, \"type\": \"histogram\"}], \"histogram2d\": [{\"colorbar\": {\"outlinewidth\": 0, \"ticks\": \"\"}, \"colorscale\": [[0.0, \"#0d0887\"], [0.1111111111111111, \"#46039f\"], [0.2222222222222222, \"#7201a8\"], [0.3333333333333333, \"#9c179e\"], [0.4444444444444444, \"#bd3786\"], [0.5555555555555556, \"#d8576b\"], [0.6666666666666666, \"#ed7953\"], [0.7777777777777778, \"#fb9f3a\"], [0.8888888888888888, \"#fdca26\"], [1.0, \"#f0f921\"]], \"type\": \"histogram2d\"}], \"histogram2dcontour\": [{\"colorbar\": {\"outlinewidth\": 0, \"ticks\": \"\"}, \"colorscale\": [[0.0, \"#0d0887\"], [0.1111111111111111, \"#46039f\"], [0.2222222222222222, \"#7201a8\"], [0.3333333333333333, \"#9c179e\"], [0.4444444444444444, \"#bd3786\"], [0.5555555555555556, \"#d8576b\"], [0.6666666666666666, \"#ed7953\"], [0.7777777777777778, \"#fb9f3a\"], [0.8888888888888888, \"#fdca26\"], [1.0, \"#f0f921\"]], \"type\": \"histogram2dcontour\"}], \"mesh3d\": [{\"colorbar\": {\"outlinewidth\": 0, \"ticks\": \"\"}, \"type\": \"mesh3d\"}], \"parcoords\": [{\"line\": {\"colorbar\": {\"outlinewidth\": 0, \"ticks\": \"\"}}, \"type\": \"parcoords\"}], \"pie\": [{\"automargin\": true, \"type\": \"pie\"}], \"scatter\": [{\"marker\": {\"line\": {\"color\": \"#283442\"}}, \"type\": \"scatter\"}], \"scatter3d\": [{\"line\": {\"colorbar\": {\"outlinewidth\": 0, \"ticks\": \"\"}}, \"marker\": {\"colorbar\": {\"outlinewidth\": 0, \"ticks\": \"\"}}, \"type\": \"scatter3d\"}], \"scattercarpet\": [{\"marker\": {\"colorbar\": {\"outlinewidth\": 0, \"ticks\": \"\"}}, \"type\": \"scattercarpet\"}], \"scattergeo\": [{\"marker\": {\"colorbar\": {\"outlinewidth\": 0, \"ticks\": \"\"}}, \"type\": \"scattergeo\"}], \"scattergl\": [{\"marker\": {\"line\": {\"color\": \"#283442\"}}, \"type\": \"scattergl\"}], \"scattermapbox\": [{\"marker\": {\"colorbar\": {\"outlinewidth\": 0, \"ticks\": \"\"}}, \"type\": \"scattermapbox\"}], \"scatterpolar\": [{\"marker\": {\"colorbar\": {\"outlinewidth\": 0, \"ticks\": \"\"}}, \"type\": \"scatterpolar\"}], \"scatterpolargl\": [{\"marker\": {\"colorbar\": {\"outlinewidth\": 0, \"ticks\": \"\"}}, \"type\": \"scatterpolargl\"}], \"scatterternary\": [{\"marker\": {\"colorbar\": {\"outlinewidth\": 0, \"ticks\": \"\"}}, \"type\": \"scatterternary\"}], \"surface\": [{\"colorbar\": {\"outlinewidth\": 0, \"ticks\": \"\"}, \"colorscale\": [[0.0, \"#0d0887\"], [0.1111111111111111, \"#46039f\"], [0.2222222222222222, \"#7201a8\"], [0.3333333333333333, \"#9c179e\"], [0.4444444444444444, \"#bd3786\"], [0.5555555555555556, \"#d8576b\"], [0.6666666666666666, \"#ed7953\"], [0.7777777777777778, \"#fb9f3a\"], [0.8888888888888888, \"#fdca26\"], [1.0, \"#f0f921\"]], \"type\": \"surface\"}], \"table\": [{\"cells\": {\"fill\": {\"color\": \"#506784\"}, \"line\": {\"color\": \"rgb(17,17,17)\"}}, \"header\": {\"fill\": {\"color\": \"#2a3f5f\"}, \"line\": {\"color\": \"rgb(17,17,17)\"}}, \"type\": \"table\"}]}, \"layout\": {\"annotationdefaults\": {\"arrowcolor\": \"#f2f5fa\", \"arrowhead\": 0, \"arrowwidth\": 1}, \"coloraxis\": {\"colorbar\": {\"outlinewidth\": 0, \"ticks\": \"\"}}, \"colorscale\": {\"diverging\": [[0, \"#8e0152\"], [0.1, \"#c51b7d\"], [0.2, \"#de77ae\"], [0.3, \"#f1b6da\"], [0.4, \"#fde0ef\"], [0.5, \"#f7f7f7\"], [0.6, \"#e6f5d0\"], [0.7, \"#b8e186\"], [0.8, \"#7fbc41\"], [0.9, \"#4d9221\"], [1, \"#276419\"]], \"sequential\": [[0.0, \"#0d0887\"], [0.1111111111111111, \"#46039f\"], [0.2222222222222222, \"#7201a8\"], [0.3333333333333333, \"#9c179e\"], [0.4444444444444444, \"#bd3786\"], [0.5555555555555556, \"#d8576b\"], [0.6666666666666666, \"#ed7953\"], [0.7777777777777778, \"#fb9f3a\"], [0.8888888888888888, \"#fdca26\"], [1.0, \"#f0f921\"]], \"sequentialminus\": [[0.0, \"#0d0887\"], [0.1111111111111111, \"#46039f\"], [0.2222222222222222, \"#7201a8\"], [0.3333333333333333, \"#9c179e\"], [0.4444444444444444, \"#bd3786\"], [0.5555555555555556, \"#d8576b\"], [0.6666666666666666, \"#ed7953\"], [0.7777777777777778, \"#fb9f3a\"], [0.8888888888888888, \"#fdca26\"], [1.0, \"#f0f921\"]]}, \"colorway\": [\"#636efa\", \"#EF553B\", \"#00cc96\", \"#ab63fa\", \"#FFA15A\", \"#19d3f3\", \"#FF6692\", \"#B6E880\", \"#FF97FF\", \"#FECB52\"], \"font\": {\"color\": \"#f2f5fa\"}, \"geo\": {\"bgcolor\": \"rgb(17,17,17)\", \"lakecolor\": \"rgb(17,17,17)\", \"landcolor\": \"rgb(17,17,17)\", \"showlakes\": true, \"showland\": true, \"subunitcolor\": \"#506784\"}, \"hoverlabel\": {\"align\": \"left\"}, \"hovermode\": \"closest\", \"mapbox\": {\"style\": \"dark\"}, \"paper_bgcolor\": \"rgb(17,17,17)\", \"plot_bgcolor\": \"rgb(17,17,17)\", \"polar\": {\"angularaxis\": {\"gridcolor\": \"#506784\", \"linecolor\": \"#506784\", \"ticks\": \"\"}, \"bgcolor\": \"rgb(17,17,17)\", \"radialaxis\": {\"gridcolor\": \"#506784\", \"linecolor\": \"#506784\", \"ticks\": \"\"}}, \"scene\": {\"xaxis\": {\"backgroundcolor\": \"rgb(17,17,17)\", \"gridcolor\": \"#506784\", \"gridwidth\": 2, \"linecolor\": \"#506784\", \"showbackground\": true, \"ticks\": \"\", \"zerolinecolor\": \"#C8D4E3\"}, \"yaxis\": {\"backgroundcolor\": \"rgb(17,17,17)\", \"gridcolor\": \"#506784\", \"gridwidth\": 2, \"linecolor\": \"#506784\", \"showbackground\": true, \"ticks\": \"\", \"zerolinecolor\": \"#C8D4E3\"}, \"zaxis\": {\"backgroundcolor\": \"rgb(17,17,17)\", \"gridcolor\": \"#506784\", \"gridwidth\": 2, \"linecolor\": \"#506784\", \"showbackground\": true, \"ticks\": \"\", \"zerolinecolor\": \"#C8D4E3\"}}, \"shapedefaults\": {\"line\": {\"color\": \"#f2f5fa\"}}, \"sliderdefaults\": {\"bgcolor\": \"#C8D4E3\", \"bordercolor\": \"rgb(17,17,17)\", \"borderwidth\": 1, \"tickwidth\": 0}, \"ternary\": {\"aaxis\": {\"gridcolor\": \"#506784\", \"linecolor\": \"#506784\", \"ticks\": \"\"}, \"baxis\": {\"gridcolor\": \"#506784\", \"linecolor\": \"#506784\", \"ticks\": \"\"}, \"bgcolor\": \"rgb(17,17,17)\", \"caxis\": {\"gridcolor\": \"#506784\", \"linecolor\": \"#506784\", \"ticks\": \"\"}}, \"title\": {\"x\": 0.05}, \"updatemenudefaults\": {\"bgcolor\": \"#506784\", \"borderwidth\": 0}, \"xaxis\": {\"automargin\": true, \"gridcolor\": \"#283442\", \"linecolor\": \"#506784\", \"ticks\": \"\", \"title\": {\"standoff\": 15}, \"zerolinecolor\": \"#283442\", \"zerolinewidth\": 2}, \"yaxis\": {\"automargin\": true, \"gridcolor\": \"#283442\", \"linecolor\": \"#506784\", \"ticks\": \"\", \"title\": {\"standoff\": 15}, \"zerolinecolor\": \"#283442\", \"zerolinewidth\": 2}}}, \"title\": {\"text\": \"Residential\"}, \"width\": 600, \"xaxis\": {\"anchor\": \"y\", \"domain\": [0.0, 1.0], \"title\": {\"text\": \"Lockdown\"}}, \"yaxis\": {\"anchor\": \"x\", \"domain\": [0.0, 1.0], \"title\": {\"text\": \"Residential\"}}},\n",
              "                        {\"responsive\": true}\n",
              "                    ).then(function(){\n",
              "                            \n",
              "var gd = document.getElementById('125588ec-a0c4-423f-a2e1-b90ebdfc0248');\n",
              "var x = new MutationObserver(function (mutations, observer) {{\n",
              "        var display = window.getComputedStyle(gd).display;\n",
              "        if (!display || display === 'none') {{\n",
              "            console.log([gd, 'removed!']);\n",
              "            Plotly.purge(gd);\n",
              "            observer.disconnect();\n",
              "        }}\n",
              "}});\n",
              "\n",
              "// Listen for the removal of the full notebook cells\n",
              "var notebookContainer = gd.closest('#notebook-container');\n",
              "if (notebookContainer) {{\n",
              "    x.observe(notebookContainer, {childList: true});\n",
              "}}\n",
              "\n",
              "// Listen for the clearing of the current output cell\n",
              "var outputEl = gd.closest('.output');\n",
              "if (outputEl) {{\n",
              "    x.observe(outputEl, {childList: true});\n",
              "}}\n",
              "\n",
              "                        })\n",
              "                };\n",
              "                \n",
              "            </script>\n",
              "        </div>\n",
              "</body>\n",
              "</html>"
            ]
          },
          "metadata": {
            "tags": []
          }
        }
      ]
    },
    {
      "cell_type": "code",
      "metadata": {
        "id": "R1UptOsdVqni",
        "colab_type": "code",
        "colab": {
          "base_uri": "https://localhost:8080/",
          "height": 1000
        },
        "outputId": "17b8854b-82a1-40b6-ca00-a114e9251c2e"
      },
      "source": [
        "sns.set_style(\"whitegrid\")\n",
        "columns = [\"Recreation\",\t\"Grocery_and_Pharmacy\",\t\"Parks\",\t\"Transit_stations\",\t \"Workplaces\", \t\"Residential\"]\n",
        "for i in columns:\n",
        "  ax = sns.violinplot(x=\"Lockdown\", y=i, hue=\"State\", data=df_india_Telangana_and_AP, palette=\"muted\")\n",
        "  ax.set_title(i)\n",
        "  plt.figure()"
      ],
      "execution_count": 20,
      "outputs": [
        {
          "output_type": "display_data",
          "data": {
            "image/png": "[encoded data removed]",
            "text/plain": [
              "<Figure size 432x288 with 1 Axes>"
            ]
          },
          "metadata": {
            "tags": []
          }
        },
        {
          "output_type": "display_data",
          "data": {
            "image/png": "[encoded data removed]",
            "text/plain": [
              "<Figure size 432x288 with 1 Axes>"
            ]
          },
          "metadata": {
            "tags": []
          }
        },
        {
          "output_type": "display_data",
          "data": {
            "image/png": "[encoded data removed]",
            "text/plain": [
              "<Figure size 432x288 with 1 Axes>"
            ]
          },
          "metadata": {
            "tags": []
          }
        },
        {
          "output_type": "display_data",
          "data": {
            "image/png": "[encoded data removed]",
            "text/plain": [
              "<Figure size 432x288 with 1 Axes>"
            ]
          },
          "metadata": {
            "tags": []
          }
        },
        {
          "output_type": "display_data",
          "data": {
            "image/png": "[encoded data removed]",
            "text/plain": [
              "<Figure size 432x288 with 1 Axes>"
            ]
          },
          "metadata": {
            "tags": []
          }
        },
        {
          "output_type": "display_data",
          "data": {
            "image/png": "[encoded data removed]",
            "text/plain": [
              "<Figure size 432x288 with 1 Axes>"
            ]
          },
          "metadata": {
            "tags": []
          }
        },
        {
          "output_type": "display_data",
          "data": {
            "text/plain": [
              "<Figure size 432x288 with 0 Axes>"
            ]
          },
          "metadata": {
            "tags": []
          }
        }
      ]
    },
    {
      "cell_type": "code",
      "metadata": {
        "id": "XgPyNQYRV1xq",
        "colab_type": "code",
        "colab": {}
      },
      "source": [
        "averages_Telangana = df_india_Telangana_and_AP[df_india_Telangana_and_AP[\"State\"]==\"Telangana\"].mean()\n",
        "averages_AP = df_india_Telangana_and_AP[df_india_Telangana_and_AP[\"State\"]==\"Andhra Pradesh\"].mean()"
      ],
      "execution_count": 21,
      "outputs": []
    },
    {
      "cell_type": "code",
      "metadata": {
        "id": "7bpyvjzOV3s-",
        "colab_type": "code",
        "colab": {
          "base_uri": "https://localhost:8080/",
          "height": 136
        },
        "outputId": "3c7aa938-6b5a-4b41-d5c5-dce064113ebf"
      },
      "source": [
        "averages_Telangana"
      ],
      "execution_count": 22,
      "outputs": [
        {
          "output_type": "execute_result",
          "data": {
            "text/plain": [
              "Recreation             -57.958333\n",
              "Grocery_and_Pharmacy   -20.464286\n",
              "Parks                  -47.571429\n",
              "Transit_stations       -40.660714\n",
              "Workplaces             -39.196429\n",
              "Residential             18.803571\n",
              "dtype: float64"
            ]
          },
          "metadata": {
            "tags": []
          },
          "execution_count": 22
        }
      ]
    },
    {
      "cell_type": "code",
      "metadata": {
        "id": "SfOGmZJgV5UP",
        "colab_type": "code",
        "colab": {
          "base_uri": "https://localhost:8080/",
          "height": 136
        },
        "outputId": "f53d6229-c8a3-4bbb-9935-c47b3059fe55"
      },
      "source": [
        "averages_AP"
      ],
      "execution_count": 23,
      "outputs": [
        {
          "output_type": "execute_result",
          "data": {
            "text/plain": [
              "Recreation             -54.095238\n",
              "Grocery_and_Pharmacy   -17.238095\n",
              "Parks                  -39.595238\n",
              "Transit_stations       -35.386905\n",
              "Workplaces             -25.928571\n",
              "Residential             16.416667\n",
              "dtype: float64"
            ]
          },
          "metadata": {
            "tags": []
          },
          "execution_count": 23
        }
      ]
    },
    {
      "cell_type": "code",
      "metadata": {
        "id": "ZdVtkxEcV6Kv",
        "colab_type": "code",
        "colab": {
          "base_uri": "https://localhost:8080/",
          "height": 542
        },
        "outputId": "a2d410c8-e036-487f-9fd2-66e5c936b446"
      },
      "source": [
        "fig = go.Figure()\n",
        "fig.add_trace(go.Bar(\n",
        "    x=columns,\n",
        "    y=averages_AP,\n",
        "    name=\"AP\",\n",
        "    marker_color='indianred'\n",
        "))\n",
        "fig.add_trace(go.Bar(\n",
        "    x=columns,\n",
        "    y=averages_Telangana,\n",
        "    name='Telangana',\n",
        "    marker_color='lightsalmon'\n",
        "))\n",
        "\n",
        "# Here we modify the tickangle of the xaxis, resulting in rotated labels.\n",
        "fig.update_layout(barmode='group', xaxis_tickangle=-45)\n",
        "fig.show()"
      ],
      "execution_count": 24,
      "outputs": [
        {
          "output_type": "display_data",
          "data": {
            "text/html": [
              "<html>\n",
              "<head><meta charset=\"utf-8\" /></head>\n",
              "<body>\n",
              "    <div>\n",
              "            <script src=\"https://cdnjs.cloudflare.com/ajax/libs/mathjax/2.7.5/MathJax.js?config=TeX-AMS-MML_SVG\"></script><script type=\"text/javascript\">if (window.MathJax) {MathJax.Hub.Config({SVG: {font: \"STIX-Web\"}});}</script>\n",
              "                <script type=\"text/javascript\">window.PlotlyConfig = {MathJaxConfig: 'local'};</script>\n",
              "        <script src=\"https://cdn.plot.ly/plotly-latest.min.js\"></script>    \n",
              "            <div id=\"27feade7-867b-44c6-a505-03d6b618293b\" class=\"plotly-graph-div\" style=\"height:525px; width:100%;\"></div>\n",
              "            <script type=\"text/javascript\">\n",
              "                \n",
              "                    window.PLOTLYENV=window.PLOTLYENV || {};\n",
              "                    \n",
              "                if (document.getElementById(\"27feade7-867b-44c6-a505-03d6b618293b\")) {\n",
              "                    Plotly.newPlot(\n",
              "                        '27feade7-867b-44c6-a505-03d6b618293b',\n",
              "                        [{\"marker\": {\"color\": \"indianred\"}, \"name\": \"AP\", \"type\": \"bar\", \"x\": [\"Recreation\", \"Grocery_and_Pharmacy\", \"Parks\", \"Transit_stations\", \"Workplaces\", \"Residential\"], \"y\": [-54.095238095238095, -17.238095238095237, -39.595238095238095, -35.38690476190476, -25.928571428571427, 16.416666666666668]}, {\"marker\": {\"color\": \"lightsalmon\"}, \"name\": \"Telangana\", \"type\": \"bar\", \"x\": [\"Recreation\", \"Grocery_and_Pharmacy\", \"Parks\", \"Transit_stations\", \"Workplaces\", \"Residential\"], \"y\": [-57.958333333333336, -20.464285714285715, -47.57142857142857, -40.660714285714285, -39.19642857142857, 18.803571428571427]}],\n",
              "                        {\"barmode\": \"group\", \"template\": {\"data\": {\"bar\": [{\"error_x\": {\"color\": \"#2a3f5f\"}, \"error_y\": {\"color\": \"#2a3f5f\"}, \"marker\": {\"line\": {\"color\": \"#E5ECF6\", \"width\": 0.5}}, \"type\": \"bar\"}], \"barpolar\": [{\"marker\": {\"line\": {\"color\": \"#E5ECF6\", \"width\": 0.5}}, \"type\": \"barpolar\"}], \"carpet\": [{\"aaxis\": {\"endlinecolor\": \"#2a3f5f\", \"gridcolor\": \"white\", \"linecolor\": \"white\", \"minorgridcolor\": \"white\", \"startlinecolor\": \"#2a3f5f\"}, \"baxis\": {\"endlinecolor\": \"#2a3f5f\", \"gridcolor\": \"white\", \"linecolor\": \"white\", \"minorgridcolor\": \"white\", \"startlinecolor\": \"#2a3f5f\"}, \"type\": \"carpet\"}], \"choropleth\": [{\"colorbar\": {\"outlinewidth\": 0, \"ticks\": \"\"}, \"type\": \"choropleth\"}], \"contour\": [{\"colorbar\": {\"outlinewidth\": 0, \"ticks\": \"\"}, \"colorscale\": [[0.0, \"#0d0887\"], [0.1111111111111111, \"#46039f\"], [0.2222222222222222, \"#7201a8\"], [0.3333333333333333, \"#9c179e\"], [0.4444444444444444, \"#bd3786\"], [0.5555555555555556, \"#d8576b\"], [0.6666666666666666, \"#ed7953\"], [0.7777777777777778, \"#fb9f3a\"], [0.8888888888888888, \"#fdca26\"], [1.0, \"#f0f921\"]], \"type\": \"contour\"}], \"contourcarpet\": [{\"colorbar\": {\"outlinewidth\": 0, \"ticks\": \"\"}, \"type\": \"contourcarpet\"}], \"heatmap\": [{\"colorbar\": {\"outlinewidth\": 0, \"ticks\": \"\"}, \"colorscale\": [[0.0, \"#0d0887\"], [0.1111111111111111, \"#46039f\"], [0.2222222222222222, \"#7201a8\"], [0.3333333333333333, \"#9c179e\"], [0.4444444444444444, \"#bd3786\"], [0.5555555555555556, \"#d8576b\"], [0.6666666666666666, \"#ed7953\"], [0.7777777777777778, \"#fb9f3a\"], [0.8888888888888888, \"#fdca26\"], [1.0, \"#f0f921\"]], \"type\": \"heatmap\"}], \"heatmapgl\": [{\"colorbar\": {\"outlinewidth\": 0, \"ticks\": \"\"}, \"colorscale\": [[0.0, \"#0d0887\"], [0.1111111111111111, \"#46039f\"], [0.2222222222222222, \"#7201a8\"], [0.3333333333333333, \"#9c179e\"], [0.4444444444444444, \"#bd3786\"], [0.5555555555555556, \"#d8576b\"], [0.6666666666666666, \"#ed7953\"], [0.7777777777777778, \"#fb9f3a\"], [0.8888888888888888, \"#fdca26\"], [1.0, \"#f0f921\"]], \"type\": \"heatmapgl\"}], \"histogram\": [{\"marker\": {\"colorbar\": {\"outlinewidth\": 0, \"ticks\": \"\"}}, \"type\": \"histogram\"}], \"histogram2d\": [{\"colorbar\": {\"outlinewidth\": 0, \"ticks\": \"\"}, \"colorscale\": [[0.0, \"#0d0887\"], [0.1111111111111111, \"#46039f\"], [0.2222222222222222, \"#7201a8\"], [0.3333333333333333, \"#9c179e\"], [0.4444444444444444, \"#bd3786\"], [0.5555555555555556, \"#d8576b\"], [0.6666666666666666, \"#ed7953\"], [0.7777777777777778, \"#fb9f3a\"], [0.8888888888888888, \"#fdca26\"], [1.0, \"#f0f921\"]], \"type\": \"histogram2d\"}], \"histogram2dcontour\": [{\"colorbar\": {\"outlinewidth\": 0, \"ticks\": \"\"}, \"colorscale\": [[0.0, \"#0d0887\"], [0.1111111111111111, \"#46039f\"], [0.2222222222222222, \"#7201a8\"], [0.3333333333333333, \"#9c179e\"], [0.4444444444444444, \"#bd3786\"], [0.5555555555555556, \"#d8576b\"], [0.6666666666666666, \"#ed7953\"], [0.7777777777777778, \"#fb9f3a\"], [0.8888888888888888, \"#fdca26\"], [1.0, \"#f0f921\"]], \"type\": \"histogram2dcontour\"}], \"mesh3d\": [{\"colorbar\": {\"outlinewidth\": 0, \"ticks\": \"\"}, \"type\": \"mesh3d\"}], \"parcoords\": [{\"line\": {\"colorbar\": {\"outlinewidth\": 0, \"ticks\": \"\"}}, \"type\": \"parcoords\"}], \"pie\": [{\"automargin\": true, \"type\": \"pie\"}], \"scatter\": [{\"marker\": {\"colorbar\": {\"outlinewidth\": 0, \"ticks\": \"\"}}, \"type\": \"scatter\"}], \"scatter3d\": [{\"line\": {\"colorbar\": {\"outlinewidth\": 0, \"ticks\": \"\"}}, \"marker\": {\"colorbar\": {\"outlinewidth\": 0, \"ticks\": \"\"}}, \"type\": \"scatter3d\"}], \"scattercarpet\": [{\"marker\": {\"colorbar\": {\"outlinewidth\": 0, \"ticks\": \"\"}}, \"type\": \"scattercarpet\"}], \"scattergeo\": [{\"marker\": {\"colorbar\": {\"outlinewidth\": 0, \"ticks\": \"\"}}, \"type\": \"scattergeo\"}], \"scattergl\": [{\"marker\": {\"colorbar\": {\"outlinewidth\": 0, \"ticks\": \"\"}}, \"type\": \"scattergl\"}], \"scattermapbox\": [{\"marker\": {\"colorbar\": {\"outlinewidth\": 0, \"ticks\": \"\"}}, \"type\": \"scattermapbox\"}], \"scatterpolar\": [{\"marker\": {\"colorbar\": {\"outlinewidth\": 0, \"ticks\": \"\"}}, \"type\": \"scatterpolar\"}], \"scatterpolargl\": [{\"marker\": {\"colorbar\": {\"outlinewidth\": 0, \"ticks\": \"\"}}, \"type\": \"scatterpolargl\"}], \"scatterternary\": [{\"marker\": {\"colorbar\": {\"outlinewidth\": 0, \"ticks\": \"\"}}, \"type\": \"scatterternary\"}], \"surface\": [{\"colorbar\": {\"outlinewidth\": 0, \"ticks\": \"\"}, \"colorscale\": [[0.0, \"#0d0887\"], [0.1111111111111111, \"#46039f\"], [0.2222222222222222, \"#7201a8\"], [0.3333333333333333, \"#9c179e\"], [0.4444444444444444, \"#bd3786\"], [0.5555555555555556, \"#d8576b\"], [0.6666666666666666, \"#ed7953\"], [0.7777777777777778, \"#fb9f3a\"], [0.8888888888888888, \"#fdca26\"], [1.0, \"#f0f921\"]], \"type\": \"surface\"}], \"table\": [{\"cells\": {\"fill\": {\"color\": \"#EBF0F8\"}, \"line\": {\"color\": \"white\"}}, \"header\": {\"fill\": {\"color\": \"#C8D4E3\"}, \"line\": {\"color\": \"white\"}}, \"type\": \"table\"}]}, \"layout\": {\"annotationdefaults\": {\"arrowcolor\": \"#2a3f5f\", \"arrowhead\": 0, \"arrowwidth\": 1}, \"coloraxis\": {\"colorbar\": {\"outlinewidth\": 0, \"ticks\": \"\"}}, \"colorscale\": {\"diverging\": [[0, \"#8e0152\"], [0.1, \"#c51b7d\"], [0.2, \"#de77ae\"], [0.3, \"#f1b6da\"], [0.4, \"#fde0ef\"], [0.5, \"#f7f7f7\"], [0.6, \"#e6f5d0\"], [0.7, \"#b8e186\"], [0.8, \"#7fbc41\"], [0.9, \"#4d9221\"], [1, \"#276419\"]], \"sequential\": [[0.0, \"#0d0887\"], [0.1111111111111111, \"#46039f\"], [0.2222222222222222, \"#7201a8\"], [0.3333333333333333, \"#9c179e\"], [0.4444444444444444, \"#bd3786\"], [0.5555555555555556, \"#d8576b\"], [0.6666666666666666, \"#ed7953\"], [0.7777777777777778, \"#fb9f3a\"], [0.8888888888888888, \"#fdca26\"], [1.0, \"#f0f921\"]], \"sequentialminus\": [[0.0, \"#0d0887\"], [0.1111111111111111, \"#46039f\"], [0.2222222222222222, \"#7201a8\"], [0.3333333333333333, \"#9c179e\"], [0.4444444444444444, \"#bd3786\"], [0.5555555555555556, \"#d8576b\"], [0.6666666666666666, \"#ed7953\"], [0.7777777777777778, \"#fb9f3a\"], [0.8888888888888888, \"#fdca26\"], [1.0, \"#f0f921\"]]}, \"colorway\": [\"#636efa\", \"#EF553B\", \"#00cc96\", \"#ab63fa\", \"#FFA15A\", \"#19d3f3\", \"#FF6692\", \"#B6E880\", \"#FF97FF\", \"#FECB52\"], \"font\": {\"color\": \"#2a3f5f\"}, \"geo\": {\"bgcolor\": \"white\", \"lakecolor\": \"white\", \"landcolor\": \"#E5ECF6\", \"showlakes\": true, \"showland\": true, \"subunitcolor\": \"white\"}, \"hoverlabel\": {\"align\": \"left\"}, \"hovermode\": \"closest\", \"mapbox\": {\"style\": \"light\"}, \"paper_bgcolor\": \"white\", \"plot_bgcolor\": \"#E5ECF6\", \"polar\": {\"angularaxis\": {\"gridcolor\": \"white\", \"linecolor\": \"white\", \"ticks\": \"\"}, \"bgcolor\": \"#E5ECF6\", \"radialaxis\": {\"gridcolor\": \"white\", \"linecolor\": \"white\", \"ticks\": \"\"}}, \"scene\": {\"xaxis\": {\"backgroundcolor\": \"#E5ECF6\", \"gridcolor\": \"white\", \"gridwidth\": 2, \"linecolor\": \"white\", \"showbackground\": true, \"ticks\": \"\", \"zerolinecolor\": \"white\"}, \"yaxis\": {\"backgroundcolor\": \"#E5ECF6\", \"gridcolor\": \"white\", \"gridwidth\": 2, \"linecolor\": \"white\", \"showbackground\": true, \"ticks\": \"\", \"zerolinecolor\": \"white\"}, \"zaxis\": {\"backgroundcolor\": \"#E5ECF6\", \"gridcolor\": \"white\", \"gridwidth\": 2, \"linecolor\": \"white\", \"showbackground\": true, \"ticks\": \"\", \"zerolinecolor\": \"white\"}}, \"shapedefaults\": {\"line\": {\"color\": \"#2a3f5f\"}}, \"ternary\": {\"aaxis\": {\"gridcolor\": \"white\", \"linecolor\": \"white\", \"ticks\": \"\"}, \"baxis\": {\"gridcolor\": \"white\", \"linecolor\": \"white\", \"ticks\": \"\"}, \"bgcolor\": \"#E5ECF6\", \"caxis\": {\"gridcolor\": \"white\", \"linecolor\": \"white\", \"ticks\": \"\"}}, \"title\": {\"x\": 0.05}, \"xaxis\": {\"automargin\": true, \"gridcolor\": \"white\", \"linecolor\": \"white\", \"ticks\": \"\", \"title\": {\"standoff\": 15}, \"zerolinecolor\": \"white\", \"zerolinewidth\": 2}, \"yaxis\": {\"automargin\": true, \"gridcolor\": \"white\", \"linecolor\": \"white\", \"ticks\": \"\", \"title\": {\"standoff\": 15}, \"zerolinecolor\": \"white\", \"zerolinewidth\": 2}}}, \"xaxis\": {\"tickangle\": -45}},\n",
              "                        {\"responsive\": true}\n",
              "                    ).then(function(){\n",
              "                            \n",
              "var gd = document.getElementById('27feade7-867b-44c6-a505-03d6b618293b');\n",
              "var x = new MutationObserver(function (mutations, observer) {{\n",
              "        var display = window.getComputedStyle(gd).display;\n",
              "        if (!display || display === 'none') {{\n",
              "            console.log([gd, 'removed!']);\n",
              "            Plotly.purge(gd);\n",
              "            observer.disconnect();\n",
              "        }}\n",
              "}});\n",
              "\n",
              "// Listen for the removal of the full notebook cells\n",
              "var notebookContainer = gd.closest('#notebook-container');\n",
              "if (notebookContainer) {{\n",
              "    x.observe(notebookContainer, {childList: true});\n",
              "}}\n",
              "\n",
              "// Listen for the clearing of the current output cell\n",
              "var outputEl = gd.closest('.output');\n",
              "if (outputEl) {{\n",
              "    x.observe(outputEl, {childList: true});\n",
              "}}\n",
              "\n",
              "                        })\n",
              "                };\n",
              "                \n",
              "            </script>\n",
              "        </div>\n",
              "</body>\n",
              "</html>"
            ]
          },
          "metadata": {
            "tags": []
          }
        }
      ]
    },
    {
      "cell_type": "markdown",
      "metadata": {
        "id": "ciWz_0lyYu2m",
        "colab_type": "text"
      },
      "source": [
        "How the world has changed"
      ]
    },
    {
      "cell_type": "code",
      "metadata": {
        "id": "bub8M4TFYvqg",
        "colab_type": "code",
        "colab": {
          "base_uri": "https://localhost:8080/",
          "height": 462
        },
        "outputId": "046d5c63-c7fe-4226-df46-d9b82064e41c"
      },
      "source": [
        "!pip install geopandas\n",
        "import geopandas as gpd"
      ],
      "execution_count": 69,
      "outputs": [
        {
          "output_type": "stream",
          "text": [
            "Collecting geopandas\n",
            "\u001b[?25l  Downloading https://files.pythonhosted.org/packages/f7/a4/e66aafbefcbb717813bf3a355c8c4fc3ed04ea1dd7feb2920f2f4f868921/geopandas-0.8.1-py2.py3-none-any.whl (962kB)\n",
            "\u001b[K     |████████████████████████████████| 972kB 2.6MB/s \n",
            "\u001b[?25hCollecting pyproj>=2.2.0\n",
            "\u001b[?25l  Downloading https://files.pythonhosted.org/packages/e5/c3/071e080230ac4b6c64f1a2e2f9161c9737a2bc7b683d2c90b024825000c0/pyproj-2.6.1.post1-cp36-cp36m-manylinux2010_x86_64.whl (10.9MB)\n",
            "\u001b[K     |████████████████████████████████| 10.9MB 14.3MB/s \n",
            "\u001b[?25hRequirement already satisfied: pandas>=0.23.0 in /usr/local/lib/python3.6/dist-packages (from geopandas) (1.0.5)\n",
            "Collecting fiona\n",
            "\u001b[?25l  Downloading https://files.pythonhosted.org/packages/ec/20/4e63bc5c6e62df889297b382c3ccd4a7a488b00946aaaf81a118158c6f09/Fiona-1.8.13.post1-cp36-cp36m-manylinux1_x86_64.whl (14.7MB)\n",
            "\u001b[K     |████████████████████████████████| 14.7MB 311kB/s \n",
            "\u001b[?25hRequirement already satisfied: shapely in /usr/local/lib/python3.6/dist-packages (from geopandas) (1.7.0)\n",
            "Requirement already satisfied: python-dateutil>=2.6.1 in /usr/local/lib/python3.6/dist-packages (from pandas>=0.23.0->geopandas) (2.8.1)\n",
            "Requirement already satisfied: pytz>=2017.2 in /usr/local/lib/python3.6/dist-packages (from pandas>=0.23.0->geopandas) (2018.9)\n",
            "Requirement already satisfied: numpy>=1.13.3 in /usr/local/lib/python3.6/dist-packages (from pandas>=0.23.0->geopandas) (1.18.5)\n",
            "Requirement already satisfied: attrs>=17 in /usr/local/lib/python3.6/dist-packages (from fiona->geopandas) (19.3.0)\n",
            "Collecting click-plugins>=1.0\n",
            "  Downloading https://files.pythonhosted.org/packages/e9/da/824b92d9942f4e472702488857914bdd50f73021efea15b4cad9aca8ecef/click_plugins-1.1.1-py2.py3-none-any.whl\n",
            "Requirement already satisfied: click<8,>=4.0 in /usr/local/lib/python3.6/dist-packages (from fiona->geopandas) (7.1.2)\n",
            "Collecting cligj>=0.5\n",
            "  Downloading https://files.pythonhosted.org/packages/e4/be/30a58b4b0733850280d01f8bd132591b4668ed5c7046761098d665ac2174/cligj-0.5.0-py3-none-any.whl\n",
            "Requirement already satisfied: six>=1.7 in /usr/local/lib/python3.6/dist-packages (from fiona->geopandas) (1.15.0)\n",
            "Collecting munch\n",
            "  Downloading https://files.pythonhosted.org/packages/cc/ab/85d8da5c9a45e072301beb37ad7f833cd344e04c817d97e0cc75681d248f/munch-2.5.0-py2.py3-none-any.whl\n",
            "Installing collected packages: pyproj, click-plugins, cligj, munch, fiona, geopandas\n",
            "Successfully installed click-plugins-1.1.1 cligj-0.5.0 fiona-1.8.13.post1 geopandas-0.8.1 munch-2.5.0 pyproj-2.6.1.post1\n"
          ],
          "name": "stdout"
        }
      ]
    },
    {
      "cell_type": "code",
      "metadata": {
        "id": "LyuJLMoHYyNg",
        "colab_type": "code",
        "colab": {}
      },
      "source": [
        "fp = \"Igismap/Indian_States.shp\"\n",
        "map_df = gpd.read_file(fp)"
      ],
      "execution_count": 72,
      "outputs": []
    },
    {
      "cell_type": "code",
      "metadata": {
        "id": "L5rihCFVY3t4",
        "colab_type": "code",
        "colab": {}
      },
      "source": [
        "map_df.replace(to_replace =\"Andaman & Nicobar Island\", \n",
        "                 value =\"Andaman and Nicobar Islands\", inplace=True) \n",
        "map_df.replace(to_replace =\"Arunanchal Pradesh\", \n",
        "                 value =\"Arunachal Pradesh\", inplace=True)\n",
        "map_df.replace(to_replace =\"NCT of Delhi\", \n",
        "                 value =\"Delhi\", inplace=True) \n",
        "map_df.replace(to_replace =\"Chhattisgarh\", \n",
        "                 value =\"Chhattisgarh\", inplace=True) \n",
        "map_df.replace(to_replace =\"Jammu & Kashmir\", \n",
        "                 value =\"Jammu and Kashmir\",inplace=True) \n",
        "map_df.replace(to_replace =\"Daman & Diu\", \n",
        "                 value =\"Daman and Diu\",inplace=True) \n",
        "map_df.replace(to_replace =\"Dadra & Nagar Haveli\", \n",
        "                 value =\"Dadra and Nagar Haveli\",inplace=True)"
      ],
      "execution_count": 73,
      "outputs": []
    },
    {
      "cell_type": "code",
      "metadata": {
        "id": "2DYVrFSGZPp7",
        "colab_type": "code",
        "colab": {
          "base_uri": "https://localhost:8080/",
          "height": 204
        },
        "outputId": "8413abfe-7ad0-44dd-afd1-22725cba8d9b"
      },
      "source": [
        "map_df.head()"
      ],
      "execution_count": 77,
      "outputs": [
        {
          "output_type": "execute_result",
          "data": {
            "text/html": [
              "<div>\n",
              "<style scoped>\n",
              "    .dataframe tbody tr th:only-of-type {\n",
              "        vertical-align: middle;\n",
              "    }\n",
              "\n",
              "    .dataframe tbody tr th {\n",
              "        vertical-align: top;\n",
              "    }\n",
              "\n",
              "    .dataframe thead th {\n",
              "        text-align: right;\n",
              "    }\n",
              "</style>\n",
              "<table border=\"1\" class=\"dataframe\">\n",
              "  <thead>\n",
              "    <tr style=\"text-align: right;\">\n",
              "      <th></th>\n",
              "      <th>st_nm</th>\n",
              "      <th>geometry</th>\n",
              "    </tr>\n",
              "  </thead>\n",
              "  <tbody>\n",
              "    <tr>\n",
              "      <th>0</th>\n",
              "      <td>Andaman and Nicobar Islands</td>\n",
              "      <td>MULTIPOLYGON (((93.71976 7.20707, 93.71909 7.2...</td>\n",
              "    </tr>\n",
              "    <tr>\n",
              "      <th>1</th>\n",
              "      <td>Arunachal Pradesh</td>\n",
              "      <td>POLYGON ((96.16261 29.38078, 96.16860 29.37432...</td>\n",
              "    </tr>\n",
              "    <tr>\n",
              "      <th>2</th>\n",
              "      <td>Assam</td>\n",
              "      <td>MULTIPOLYGON (((89.74323 26.30362, 89.74290 26...</td>\n",
              "    </tr>\n",
              "    <tr>\n",
              "      <th>3</th>\n",
              "      <td>Bihar</td>\n",
              "      <td>MULTIPOLYGON (((84.50720 24.26323, 84.50355 24...</td>\n",
              "    </tr>\n",
              "    <tr>\n",
              "      <th>4</th>\n",
              "      <td>Chandigarh</td>\n",
              "      <td>POLYGON ((76.84147 30.75996, 76.83599 30.73623...</td>\n",
              "    </tr>\n",
              "  </tbody>\n",
              "</table>\n",
              "</div>"
            ],
            "text/plain": [
              "                         st_nm                                           geometry\n",
              "0  Andaman and Nicobar Islands  MULTIPOLYGON (((93.71976 7.20707, 93.71909 7.2...\n",
              "1            Arunachal Pradesh  POLYGON ((96.16261 29.38078, 96.16860 29.37432...\n",
              "2                        Assam  MULTIPOLYGON (((89.74323 26.30362, 89.74290 26...\n",
              "3                        Bihar  MULTIPOLYGON (((84.50720 24.26323, 84.50355 24...\n",
              "4                   Chandigarh  POLYGON ((76.84147 30.75996, 76.83599 30.73623..."
            ]
          },
          "metadata": {
            "tags": []
          },
          "execution_count": 77
        }
      ]
    },
    {
      "cell_type": "code",
      "metadata": {
        "id": "rid5CU8LaGKL",
        "colab_type": "code",
        "colab": {
          "base_uri": "https://localhost:8080/",
          "height": 282
        },
        "outputId": "890bf04b-f768-41fc-c72a-745ab51221f5"
      },
      "source": [
        "gpd.GeoDataFrame(map_df, geometry='geometry').plot()"
      ],
      "execution_count": 80,
      "outputs": [
        {
          "output_type": "execute_result",
          "data": {
            "text/plain": [
              "<matplotlib.axes._subplots.AxesSubplot at 0x7f3676338630>"
            ]
          },
          "metadata": {
            "tags": []
          },
          "execution_count": 80
        },
        {
          "output_type": "display_data",
          "data": {
            "image/png": "[encoded data removed]",
            "text/plain": [
              "<Figure size 432x288 with 1 Axes>"
            ]
          },
          "metadata": {
            "tags": []
          }
        }
      ]
    },
    {
      "cell_type": "code",
      "metadata": {
        "id": "PGU3kTPPWNS6",
        "colab_type": "code",
        "colab": {}
      },
      "source": [
        "import datetime\n",
        "df_india_Telangana_and_AP[\"date\"] =pd.to_datetime(df_india_Telangana_and_AP[\"date\"]) \n",
        "df_india_Telangana_and_AP.set_index(\"date\",inplace=True)"
      ],
      "execution_count": 27,
      "outputs": []
    },
    {
      "cell_type": "code",
      "metadata": {
        "id": "40R3BKQNWOL-",
        "colab_type": "code",
        "colab": {}
      },
      "source": [
        "df_india_Telangana = df_india_Telangana_and_AP[df_india_Telangana_and_AP[\"State\"] == \"Telangana\"].resample('W').agg(\"mean\")"
      ],
      "execution_count": 28,
      "outputs": []
    },
    {
      "cell_type": "code",
      "metadata": {
        "id": "TKMYBGX1WSHV",
        "colab_type": "code",
        "colab": {}
      },
      "source": [
        "df_india_AP = df_india_Telangana_and_AP[df_india_Telangana_and_AP[\"State\"] == \"Andhra Pradesh\"].resample('W').agg(\"mean\")"
      ],
      "execution_count": 29,
      "outputs": []
    },
    {
      "cell_type": "code",
      "metadata": {
        "id": "YZ8TKogoWWSf",
        "colab_type": "code",
        "colab": {}
      },
      "source": [
        "mindate = df_india_Telangana.index.min()\n",
        "maxdate = df_india_Telangana.index.max()\n",
        "lockdown1 = df_india_Telangana_and_AP[\"LockdownPhase\"].where(df_india_Telangana_and_AP[\"LockdownPhase\"]==\"Lockdown Phase 1\").first_valid_index()\n",
        "lockdown2 = df_india_Telangana_and_AP[\"LockdownPhase\"].where(df_india_Telangana_and_AP[\"LockdownPhase\"]==\"Lockdown Phase 2\").first_valid_index()\n",
        "lockdown3 = df_india_Telangana_and_AP[\"LockdownPhase\"].where(df_india_Telangana_and_AP[\"LockdownPhase\"]==\"Lockdown Phase 3\").first_valid_index()\n",
        "lockdown4 = df_india_Telangana_and_AP[\"LockdownPhase\"].where(df_india_Telangana_and_AP[\"LockdownPhase\"]==\"Lockdown Phase 4\").first_valid_index()\n",
        "unlock1 = df_india_Telangana_and_AP[\"LockdownPhase\"].where(df_india_Telangana_and_AP[\"LockdownPhase\"]==\"Unlock Phase 1\").first_valid_index()\n",
        "unlock2 = df_india_Telangana_and_AP[\"LockdownPhase\"].where(df_india_Telangana_and_AP[\"LockdownPhase\"]==\"Unlock Phase 2\").first_valid_index()"
      ],
      "execution_count": 31,
      "outputs": []
    },
    {
      "cell_type": "code",
      "metadata": {
        "id": "HiesbAWAV7rS",
        "colab_type": "code",
        "colab": {
          "base_uri": "https://localhost:8080/",
          "height": 637
        },
        "outputId": "24d85a9f-0ed6-4b99-87cb-46322cb3a0f7"
      },
      "source": [
        "fig = go.Figure()\n",
        "fig.add_trace(go.Scatter(\n",
        "    x=[lockdown1,lockdown2,lockdown3,lockdown4,unlock1,unlock2],\n",
        "    y=[39,39,39,39,39,39],\n",
        "    text=[\"Lockdown 1\",\"Lockdown 2\",\"Lockdown 3\", \"Lockdown 4\", \"Unlock 1\", \"Unlock 2\"],\n",
        "    mode=\"text\",\n",
        "))\n",
        "\n",
        "l = df_india_Telangana.columns\n",
        "colors = ['rgba(152, 0, 0, .8)','green','red','orange','MediumPurple','DarkBlue']\n",
        "for i in range(len(l)):\n",
        "  fig.add_trace(go.Scatter(x=df_india_Telangana.index, y=df_india_Telangana[l[i]],\n",
        "                    mode='lines+markers',\n",
        "                    name=l[i],\n",
        "                     marker_color=colors[i]))\n",
        "  fig.update_layout(xaxis=dict(range=[mindate,maxdate]))\n",
        "  fig.update_layout(\n",
        "    title= \"Mobility Trends in Telangana\",\n",
        "    width=1400,\n",
        "    height=600,\n",
        "    shapes=[\n",
        "        dict(\n",
        "            type=\"line\",\n",
        "            x0=mindate,\n",
        "            y0=0,\n",
        "            x1=maxdate,\n",
        "            y1=0,\n",
        "            line_width=2,\n",
        "            line = dict(\n",
        "                dash = \"dot\"\n",
        "            )\n",
        "        ),\n",
        "        dict(\n",
        "            type=\"line\",\n",
        "            y0=-100,\n",
        "            x0= lockdown1,\n",
        "            y1=37,\n",
        "            x1=lockdown1,\n",
        "            line_width=2,\n",
        "            line = dict(\n",
        "                dash = \"dot\"\n",
        "            )\n",
        "        ),\n",
        "        dict(\n",
        "            type=\"line\",\n",
        "            y0=-100,\n",
        "            x0= lockdown2,\n",
        "            y1=37,\n",
        "            x1=lockdown2,\n",
        "            line_width=2,\n",
        "            line = dict(\n",
        "                dash = \"dot\"\n",
        "            )\n",
        "        ),\n",
        "        dict(\n",
        "            type=\"line\",\n",
        "            y0=-100,\n",
        "            x0= lockdown3,\n",
        "            y1=37,\n",
        "            x1=lockdown3,\n",
        "            line_width=2,\n",
        "            line = dict(\n",
        "                dash = \"dot\"\n",
        "            )\n",
        "        ),\n",
        "        dict(\n",
        "            type=\"line\",\n",
        "            y0=-100,\n",
        "            x0= lockdown4,\n",
        "            y1=37,\n",
        "            x1=lockdown4,\n",
        "            line_width=2,\n",
        "            line = dict(\n",
        "                dash = \"dot\"\n",
        "            )\n",
        "        ),\n",
        "        dict(\n",
        "            type=\"line\",\n",
        "            y0=-100,\n",
        "            x0= unlock1,\n",
        "            y1=37,\n",
        "            x1=unlock1,\n",
        "            line_width=2,\n",
        "            line = dict(\n",
        "                dash = \"dot\"\n",
        "            )\n",
        "        ),\n",
        "        dict(\n",
        "            type=\"line\",\n",
        "            y0=-100,\n",
        "            x0= unlock2,\n",
        "            y1=37,\n",
        "            x1=unlock2,\n",
        "            line_width=2,\n",
        "            line = dict(\n",
        "                dash = \"dot\"\n",
        "            )\n",
        "        )\n",
        "    ]\n",
        ")\n",
        "\n",
        "fig.show()"
      ],
      "execution_count": 32,
      "outputs": [
        {
          "output_type": "display_data",
          "data": {
            "text/html": [
              "<html>\n",
              "<head><meta charset=\"utf-8\" /></head>\n",
              "<body>\n",
              "    <div>\n",
              "            <script src=\"https://cdnjs.cloudflare.com/ajax/libs/mathjax/2.7.5/MathJax.js?config=TeX-AMS-MML_SVG\"></script><script type=\"text/javascript\">if (window.MathJax) {MathJax.Hub.Config({SVG: {font: \"STIX-Web\"}});}</script>\n",
              "                <script type=\"text/javascript\">window.PlotlyConfig = {MathJaxConfig: 'local'};</script>\n",
              "        <script src=\"https://cdn.plot.ly/plotly-latest.min.js\"></script>    \n",
              "            <div id=\"410c2871-0214-48a0-b20a-041191ba22da\" class=\"plotly-graph-div\" style=\"height:600px; width:1400px;\"></div>\n",
              "            <script type=\"text/javascript\">\n",
              "                \n",
              "                    window.PLOTLYENV=window.PLOTLYENV || {};\n",
              "                    \n",
              "                if (document.getElementById(\"410c2871-0214-48a0-b20a-041191ba22da\")) {\n",
              "                    Plotly.newPlot(\n",
              "                        '410c2871-0214-48a0-b20a-041191ba22da',\n",
              "                        [{\"mode\": \"text\", \"text\": [\"Lockdown 1\", \"Lockdown 2\", \"Lockdown 3\", \"Lockdown 4\", \"Unlock 1\", \"Unlock 2\"], \"type\": \"scatter\", \"x\": [\"2020-03-22T00:00:00\", \"2020-04-15T00:00:00\", \"2020-05-04T00:00:00\", \"2020-05-18T00:00:00\", \"2020-06-01T00:00:00\", \"2020-07-01T00:00:00\"], \"y\": [39, 39, 39, 39, 39, 39]}, {\"marker\": {\"color\": \"rgba(152, 0, 0, .8)\"}, \"mode\": \"lines+markers\", \"name\": \"Recreation\", \"type\": \"scatter\", \"x\": [\"2020-02-16T00:00:00\", \"2020-02-23T00:00:00\", \"2020-03-01T00:00:00\", \"2020-03-08T00:00:00\", \"2020-03-15T00:00:00\", \"2020-03-22T00:00:00\", \"2020-03-29T00:00:00\", \"2020-04-05T00:00:00\", \"2020-04-12T00:00:00\", \"2020-04-19T00:00:00\", \"2020-04-26T00:00:00\", \"2020-05-03T00:00:00\", \"2020-05-10T00:00:00\", \"2020-05-17T00:00:00\", \"2020-05-24T00:00:00\", \"2020-05-31T00:00:00\", \"2020-06-07T00:00:00\", \"2020-06-14T00:00:00\", \"2020-06-21T00:00:00\", \"2020-06-28T00:00:00\", \"2020-07-05T00:00:00\", \"2020-07-12T00:00:00\", \"2020-07-19T00:00:00\", \"2020-07-26T00:00:00\", \"2020-08-02T00:00:00\"], \"y\": [1.5, -1.1428571428571428, 2.7142857142857144, -0.2857142857142857, -3.857142857142857, -25.0, -80.0, -81.57142857142857, -84.0, -87.0, -90.0, -89.0, -85.0, -82.71428571428571, -76.57142857142857, -73.28571428571429, -65.42857142857143, -59.57142857142857, -60.857142857142854, -59.857142857142854, -60.857142857142854, -61.57142857142857, -62.285714285714285, -62.142857142857146, -59.0]}, {\"marker\": {\"color\": \"green\"}, \"mode\": \"lines+markers\", \"name\": \"Grocery_and_Pharmacy\", \"type\": \"scatter\", \"x\": [\"2020-02-16T00:00:00\", \"2020-02-23T00:00:00\", \"2020-03-01T00:00:00\", \"2020-03-08T00:00:00\", \"2020-03-15T00:00:00\", \"2020-03-22T00:00:00\", \"2020-03-29T00:00:00\", \"2020-04-05T00:00:00\", \"2020-04-12T00:00:00\", \"2020-04-19T00:00:00\", \"2020-04-26T00:00:00\", \"2020-05-03T00:00:00\", \"2020-05-10T00:00:00\", \"2020-05-17T00:00:00\", \"2020-05-24T00:00:00\", \"2020-05-31T00:00:00\", \"2020-06-07T00:00:00\", \"2020-06-14T00:00:00\", \"2020-06-21T00:00:00\", \"2020-06-28T00:00:00\", \"2020-07-05T00:00:00\", \"2020-07-12T00:00:00\", \"2020-07-19T00:00:00\", \"2020-07-26T00:00:00\", \"2020-08-02T00:00:00\"], \"y\": [2.0, 2.7142857142857144, 2.5714285714285716, 6.714285714285714, 3.0, -6.142857142857143, -51.857142857142854, -60.714285714285715, -54.0, -51.285714285714285, -52.285714285714285, -48.857142857142854, -36.285714285714285, -31.285714285714285, -21.428571428571427, -17.285714285714285, -3.4285714285714284, -2.2857142857142856, -8.857142857142858, -6.857142857142857, -8.571428571428571, -11.571428571428571, -13.285714285714286, -14.285714285714286, -8.6]}, {\"marker\": {\"color\": \"red\"}, \"mode\": \"lines+markers\", \"name\": \"Parks\", \"type\": \"scatter\", \"x\": [\"2020-02-16T00:00:00\", \"2020-02-23T00:00:00\", \"2020-03-01T00:00:00\", \"2020-03-08T00:00:00\", \"2020-03-15T00:00:00\", \"2020-03-22T00:00:00\", \"2020-03-29T00:00:00\", \"2020-04-05T00:00:00\", \"2020-04-12T00:00:00\", \"2020-04-19T00:00:00\", \"2020-04-26T00:00:00\", \"2020-05-03T00:00:00\", \"2020-05-10T00:00:00\", \"2020-05-17T00:00:00\", \"2020-05-24T00:00:00\", \"2020-05-31T00:00:00\", \"2020-06-07T00:00:00\", \"2020-06-14T00:00:00\", \"2020-06-21T00:00:00\", \"2020-06-28T00:00:00\", \"2020-07-05T00:00:00\", \"2020-07-12T00:00:00\", \"2020-07-19T00:00:00\", \"2020-07-26T00:00:00\", \"2020-08-02T00:00:00\"], \"y\": [4.0, 4.571428571428571, 7.142857142857143, 3.142857142857143, 3.2857142857142856, -14.0, -54.0, -56.285714285714285, -54.42857142857143, -62.0, -69.28571428571429, -68.85714285714286, -66.57142857142857, -65.85714285714286, -64.85714285714286, -64.57142857142857, -62.57142857142857, -59.142857142857146, -59.57142857142857, -59.0, -59.57142857142857, -59.57142857142857, -60.142857142857146, -59.42857142857143, -57.8]}, {\"marker\": {\"color\": \"orange\"}, \"mode\": \"lines+markers\", \"name\": \"Transit_stations\", \"type\": \"scatter\", \"x\": [\"2020-02-16T00:00:00\", \"2020-02-23T00:00:00\", \"2020-03-01T00:00:00\", \"2020-03-08T00:00:00\", \"2020-03-15T00:00:00\", \"2020-03-22T00:00:00\", \"2020-03-29T00:00:00\", \"2020-04-05T00:00:00\", \"2020-04-12T00:00:00\", \"2020-04-19T00:00:00\", \"2020-04-26T00:00:00\", \"2020-05-03T00:00:00\", \"2020-05-10T00:00:00\", \"2020-05-17T00:00:00\", \"2020-05-24T00:00:00\", \"2020-05-31T00:00:00\", \"2020-06-07T00:00:00\", \"2020-06-14T00:00:00\", \"2020-06-21T00:00:00\", \"2020-06-28T00:00:00\", \"2020-07-05T00:00:00\", \"2020-07-12T00:00:00\", \"2020-07-19T00:00:00\", \"2020-07-26T00:00:00\", \"2020-08-02T00:00:00\"], \"y\": [3.0, 0.7142857142857143, 5.714285714285714, 3.0, -1.0, -17.857142857142858, -72.0, -74.57142857142857, -70.28571428571429, -68.85714285714286, -70.28571428571429, -68.42857142857143, -59.142857142857146, -55.285714285714285, -48.285714285714285, -45.142857142857146, -36.714285714285715, -34.0, -37.714285714285715, -36.714285714285715, -39.42857142857143, -40.142857142857146, -41.285714285714285, -41.285714285714285, -38.8]}, {\"marker\": {\"color\": \"MediumPurple\"}, \"mode\": \"lines+markers\", \"name\": \"Workplaces\", \"type\": \"scatter\", \"x\": [\"2020-02-16T00:00:00\", \"2020-02-23T00:00:00\", \"2020-03-01T00:00:00\", \"2020-03-08T00:00:00\", \"2020-03-15T00:00:00\", \"2020-03-22T00:00:00\", \"2020-03-29T00:00:00\", \"2020-04-05T00:00:00\", \"2020-04-12T00:00:00\", \"2020-04-19T00:00:00\", \"2020-04-26T00:00:00\", \"2020-05-03T00:00:00\", \"2020-05-10T00:00:00\", \"2020-05-17T00:00:00\", \"2020-05-24T00:00:00\", \"2020-05-31T00:00:00\", \"2020-06-07T00:00:00\", \"2020-06-14T00:00:00\", \"2020-06-21T00:00:00\", \"2020-06-28T00:00:00\", \"2020-07-05T00:00:00\", \"2020-07-12T00:00:00\", \"2020-07-19T00:00:00\", \"2020-07-26T00:00:00\", \"2020-08-02T00:00:00\"], \"y\": [0.5, -2.857142857142857, 3.5714285714285716, 4.857142857142857, -6.142857142857143, -20.571428571428573, -68.71428571428571, -67.57142857142857, -67.28571428571429, -65.85714285714286, -65.85714285714286, -64.0, -57.42857142857143, -51.857142857142854, -45.285714285714285, -41.857142857142854, -34.57142857142857, -34.857142857142854, -35.57142857142857, -35.42857142857143, -36.57142857142857, -37.714285714285715, -37.857142857142854, -39.57142857142857, -44.6]}, {\"marker\": {\"color\": \"DarkBlue\"}, \"mode\": \"lines+markers\", \"name\": \"Residential\", \"type\": \"scatter\", \"x\": [\"2020-02-16T00:00:00\", \"2020-02-23T00:00:00\", \"2020-03-01T00:00:00\", \"2020-03-08T00:00:00\", \"2020-03-15T00:00:00\", \"2020-03-22T00:00:00\", \"2020-03-29T00:00:00\", \"2020-04-05T00:00:00\", \"2020-04-12T00:00:00\", \"2020-04-19T00:00:00\", \"2020-04-26T00:00:00\", \"2020-05-03T00:00:00\", \"2020-05-10T00:00:00\", \"2020-05-17T00:00:00\", \"2020-05-24T00:00:00\", \"2020-05-31T00:00:00\", \"2020-06-07T00:00:00\", \"2020-06-14T00:00:00\", \"2020-06-21T00:00:00\", \"2020-06-28T00:00:00\", \"2020-07-05T00:00:00\", \"2020-07-12T00:00:00\", \"2020-07-19T00:00:00\", \"2020-07-26T00:00:00\", \"2020-08-02T00:00:00\"], \"y\": [0.5, 2.5714285714285716, 0.14285714285714285, 1.4285714285714286, 2.7142857142857144, 8.142857142857142, 31.857142857142858, 32.285714285714285, 32.285714285714285, 31.857142857142858, 32.714285714285715, 31.285714285714285, 27.428571428571427, 24.714285714285715, 21.857142857142858, 19.857142857142858, 16.571428571428573, 15.285714285714286, 16.142857142857142, 16.142857142857142, 17.428571428571427, 17.714285714285715, 18.285714285714285, 18.857142857142858, 19.0]}],\n",
              "                        {\"height\": 600, \"shapes\": [{\"line\": {\"dash\": \"dot\", \"width\": 2}, \"type\": \"line\", \"x0\": \"2020-02-16T00:00:00\", \"x1\": \"2020-08-02T00:00:00\", \"y0\": 0, \"y1\": 0}, {\"line\": {\"dash\": \"dot\", \"width\": 2}, \"type\": \"line\", \"x0\": \"2020-03-22T00:00:00\", \"x1\": \"2020-03-22T00:00:00\", \"y0\": -100, \"y1\": 37}, {\"line\": {\"dash\": \"dot\", \"width\": 2}, \"type\": \"line\", \"x0\": \"2020-04-15T00:00:00\", \"x1\": \"2020-04-15T00:00:00\", \"y0\": -100, \"y1\": 37}, {\"line\": {\"dash\": \"dot\", \"width\": 2}, \"type\": \"line\", \"x0\": \"2020-05-04T00:00:00\", \"x1\": \"2020-05-04T00:00:00\", \"y0\": -100, \"y1\": 37}, {\"line\": {\"dash\": \"dot\", \"width\": 2}, \"type\": \"line\", \"x0\": \"2020-05-18T00:00:00\", \"x1\": \"2020-05-18T00:00:00\", \"y0\": -100, \"y1\": 37}, {\"line\": {\"dash\": \"dot\", \"width\": 2}, \"type\": \"line\", \"x0\": \"2020-06-01T00:00:00\", \"x1\": \"2020-06-01T00:00:00\", \"y0\": -100, \"y1\": 37}, {\"line\": {\"dash\": \"dot\", \"width\": 2}, \"type\": \"line\", \"x0\": \"2020-07-01T00:00:00\", \"x1\": \"2020-07-01T00:00:00\", \"y0\": -100, \"y1\": 37}], \"template\": {\"data\": {\"bar\": [{\"error_x\": {\"color\": \"#2a3f5f\"}, \"error_y\": {\"color\": \"#2a3f5f\"}, \"marker\": {\"line\": {\"color\": \"#E5ECF6\", \"width\": 0.5}}, \"type\": \"bar\"}], \"barpolar\": [{\"marker\": {\"line\": {\"color\": \"#E5ECF6\", \"width\": 0.5}}, \"type\": \"barpolar\"}], \"carpet\": [{\"aaxis\": {\"endlinecolor\": \"#2a3f5f\", \"gridcolor\": \"white\", \"linecolor\": \"white\", \"minorgridcolor\": \"white\", \"startlinecolor\": \"#2a3f5f\"}, \"baxis\": {\"endlinecolor\": \"#2a3f5f\", \"gridcolor\": \"white\", \"linecolor\": \"white\", \"minorgridcolor\": \"white\", \"startlinecolor\": \"#2a3f5f\"}, \"type\": \"carpet\"}], \"choropleth\": [{\"colorbar\": {\"outlinewidth\": 0, \"ticks\": \"\"}, \"type\": \"choropleth\"}], \"contour\": [{\"colorbar\": {\"outlinewidth\": 0, \"ticks\": \"\"}, \"colorscale\": [[0.0, \"#0d0887\"], [0.1111111111111111, \"#46039f\"], [0.2222222222222222, \"#7201a8\"], [0.3333333333333333, \"#9c179e\"], [0.4444444444444444, \"#bd3786\"], [0.5555555555555556, \"#d8576b\"], [0.6666666666666666, \"#ed7953\"], [0.7777777777777778, \"#fb9f3a\"], [0.8888888888888888, \"#fdca26\"], [1.0, \"#f0f921\"]], \"type\": \"contour\"}], \"contourcarpet\": [{\"colorbar\": {\"outlinewidth\": 0, \"ticks\": \"\"}, \"type\": \"contourcarpet\"}], \"heatmap\": [{\"colorbar\": {\"outlinewidth\": 0, \"ticks\": \"\"}, \"colorscale\": [[0.0, \"#0d0887\"], [0.1111111111111111, \"#46039f\"], [0.2222222222222222, \"#7201a8\"], [0.3333333333333333, \"#9c179e\"], [0.4444444444444444, \"#bd3786\"], [0.5555555555555556, \"#d8576b\"], [0.6666666666666666, \"#ed7953\"], [0.7777777777777778, \"#fb9f3a\"], [0.8888888888888888, \"#fdca26\"], [1.0, \"#f0f921\"]], \"type\": \"heatmap\"}], \"heatmapgl\": [{\"colorbar\": {\"outlinewidth\": 0, \"ticks\": \"\"}, \"colorscale\": [[0.0, \"#0d0887\"], [0.1111111111111111, \"#46039f\"], [0.2222222222222222, \"#7201a8\"], [0.3333333333333333, \"#9c179e\"], [0.4444444444444444, \"#bd3786\"], [0.5555555555555556, \"#d8576b\"], [0.6666666666666666, \"#ed7953\"], [0.7777777777777778, \"#fb9f3a\"], [0.8888888888888888, \"#fdca26\"], [1.0, \"#f0f921\"]], \"type\": \"heatmapgl\"}], \"histogram\": [{\"marker\": {\"colorbar\": {\"outlinewidth\": 0, \"ticks\": \"\"}}, \"type\": \"histogram\"}], \"histogram2d\": [{\"colorbar\": {\"outlinewidth\": 0, \"ticks\": \"\"}, \"colorscale\": [[0.0, \"#0d0887\"], [0.1111111111111111, \"#46039f\"], [0.2222222222222222, \"#7201a8\"], [0.3333333333333333, \"#9c179e\"], [0.4444444444444444, \"#bd3786\"], [0.5555555555555556, \"#d8576b\"], [0.6666666666666666, \"#ed7953\"], [0.7777777777777778, \"#fb9f3a\"], [0.8888888888888888, \"#fdca26\"], [1.0, \"#f0f921\"]], \"type\": \"histogram2d\"}], \"histogram2dcontour\": [{\"colorbar\": {\"outlinewidth\": 0, \"ticks\": \"\"}, \"colorscale\": [[0.0, \"#0d0887\"], [0.1111111111111111, \"#46039f\"], [0.2222222222222222, \"#7201a8\"], [0.3333333333333333, \"#9c179e\"], [0.4444444444444444, \"#bd3786\"], [0.5555555555555556, \"#d8576b\"], [0.6666666666666666, \"#ed7953\"], [0.7777777777777778, \"#fb9f3a\"], [0.8888888888888888, \"#fdca26\"], [1.0, \"#f0f921\"]], \"type\": \"histogram2dcontour\"}], \"mesh3d\": [{\"colorbar\": {\"outlinewidth\": 0, \"ticks\": \"\"}, \"type\": \"mesh3d\"}], \"parcoords\": [{\"line\": {\"colorbar\": {\"outlinewidth\": 0, \"ticks\": \"\"}}, \"type\": \"parcoords\"}], \"pie\": [{\"automargin\": true, \"type\": \"pie\"}], \"scatter\": [{\"marker\": {\"colorbar\": {\"outlinewidth\": 0, \"ticks\": \"\"}}, \"type\": \"scatter\"}], \"scatter3d\": [{\"line\": {\"colorbar\": {\"outlinewidth\": 0, \"ticks\": \"\"}}, \"marker\": {\"colorbar\": {\"outlinewidth\": 0, \"ticks\": \"\"}}, \"type\": \"scatter3d\"}], \"scattercarpet\": [{\"marker\": {\"colorbar\": {\"outlinewidth\": 0, \"ticks\": \"\"}}, \"type\": \"scattercarpet\"}], \"scattergeo\": [{\"marker\": {\"colorbar\": {\"outlinewidth\": 0, \"ticks\": \"\"}}, \"type\": \"scattergeo\"}], \"scattergl\": [{\"marker\": {\"colorbar\": {\"outlinewidth\": 0, \"ticks\": \"\"}}, \"type\": \"scattergl\"}], \"scattermapbox\": [{\"marker\": {\"colorbar\": {\"outlinewidth\": 0, \"ticks\": \"\"}}, \"type\": \"scattermapbox\"}], \"scatterpolar\": [{\"marker\": {\"colorbar\": {\"outlinewidth\": 0, \"ticks\": \"\"}}, \"type\": \"scatterpolar\"}], \"scatterpolargl\": [{\"marker\": {\"colorbar\": {\"outlinewidth\": 0, \"ticks\": \"\"}}, \"type\": \"scatterpolargl\"}], \"scatterternary\": [{\"marker\": {\"colorbar\": {\"outlinewidth\": 0, \"ticks\": \"\"}}, \"type\": \"scatterternary\"}], \"surface\": [{\"colorbar\": {\"outlinewidth\": 0, \"ticks\": \"\"}, \"colorscale\": [[0.0, \"#0d0887\"], [0.1111111111111111, \"#46039f\"], [0.2222222222222222, \"#7201a8\"], [0.3333333333333333, \"#9c179e\"], [0.4444444444444444, \"#bd3786\"], [0.5555555555555556, \"#d8576b\"], [0.6666666666666666, \"#ed7953\"], [0.7777777777777778, \"#fb9f3a\"], [0.8888888888888888, \"#fdca26\"], [1.0, \"#f0f921\"]], \"type\": \"surface\"}], \"table\": [{\"cells\": {\"fill\": {\"color\": \"#EBF0F8\"}, \"line\": {\"color\": \"white\"}}, \"header\": {\"fill\": {\"color\": \"#C8D4E3\"}, \"line\": {\"color\": \"white\"}}, \"type\": \"table\"}]}, \"layout\": {\"annotationdefaults\": {\"arrowcolor\": \"#2a3f5f\", \"arrowhead\": 0, \"arrowwidth\": 1}, \"coloraxis\": {\"colorbar\": {\"outlinewidth\": 0, \"ticks\": \"\"}}, \"colorscale\": {\"diverging\": [[0, \"#8e0152\"], [0.1, \"#c51b7d\"], [0.2, \"#de77ae\"], [0.3, \"#f1b6da\"], [0.4, \"#fde0ef\"], [0.5, \"#f7f7f7\"], [0.6, \"#e6f5d0\"], [0.7, \"#b8e186\"], [0.8, \"#7fbc41\"], [0.9, \"#4d9221\"], [1, \"#276419\"]], \"sequential\": [[0.0, \"#0d0887\"], [0.1111111111111111, \"#46039f\"], [0.2222222222222222, \"#7201a8\"], [0.3333333333333333, \"#9c179e\"], [0.4444444444444444, \"#bd3786\"], [0.5555555555555556, \"#d8576b\"], [0.6666666666666666, \"#ed7953\"], [0.7777777777777778, \"#fb9f3a\"], [0.8888888888888888, \"#fdca26\"], [1.0, \"#f0f921\"]], \"sequentialminus\": [[0.0, \"#0d0887\"], [0.1111111111111111, \"#46039f\"], [0.2222222222222222, \"#7201a8\"], [0.3333333333333333, \"#9c179e\"], [0.4444444444444444, \"#bd3786\"], [0.5555555555555556, \"#d8576b\"], [0.6666666666666666, \"#ed7953\"], [0.7777777777777778, \"#fb9f3a\"], [0.8888888888888888, \"#fdca26\"], [1.0, \"#f0f921\"]]}, \"colorway\": [\"#636efa\", \"#EF553B\", \"#00cc96\", \"#ab63fa\", \"#FFA15A\", \"#19d3f3\", \"#FF6692\", \"#B6E880\", \"#FF97FF\", \"#FECB52\"], \"font\": {\"color\": \"#2a3f5f\"}, \"geo\": {\"bgcolor\": \"white\", \"lakecolor\": \"white\", \"landcolor\": \"#E5ECF6\", \"showlakes\": true, \"showland\": true, \"subunitcolor\": \"white\"}, \"hoverlabel\": {\"align\": \"left\"}, \"hovermode\": \"closest\", \"mapbox\": {\"style\": \"light\"}, \"paper_bgcolor\": \"white\", \"plot_bgcolor\": \"#E5ECF6\", \"polar\": {\"angularaxis\": {\"gridcolor\": \"white\", \"linecolor\": \"white\", \"ticks\": \"\"}, \"bgcolor\": \"#E5ECF6\", \"radialaxis\": {\"gridcolor\": \"white\", \"linecolor\": \"white\", \"ticks\": \"\"}}, \"scene\": {\"xaxis\": {\"backgroundcolor\": \"#E5ECF6\", \"gridcolor\": \"white\", \"gridwidth\": 2, \"linecolor\": \"white\", \"showbackground\": true, \"ticks\": \"\", \"zerolinecolor\": \"white\"}, \"yaxis\": {\"backgroundcolor\": \"#E5ECF6\", \"gridcolor\": \"white\", \"gridwidth\": 2, \"linecolor\": \"white\", \"showbackground\": true, \"ticks\": \"\", \"zerolinecolor\": \"white\"}, \"zaxis\": {\"backgroundcolor\": \"#E5ECF6\", \"gridcolor\": \"white\", \"gridwidth\": 2, \"linecolor\": \"white\", \"showbackground\": true, \"ticks\": \"\", \"zerolinecolor\": \"white\"}}, \"shapedefaults\": {\"line\": {\"color\": \"#2a3f5f\"}}, \"ternary\": {\"aaxis\": {\"gridcolor\": \"white\", \"linecolor\": \"white\", \"ticks\": \"\"}, \"baxis\": {\"gridcolor\": \"white\", \"linecolor\": \"white\", \"ticks\": \"\"}, \"bgcolor\": \"#E5ECF6\", \"caxis\": {\"gridcolor\": \"white\", \"linecolor\": \"white\", \"ticks\": \"\"}}, \"title\": {\"x\": 0.05}, \"xaxis\": {\"automargin\": true, \"gridcolor\": \"white\", \"linecolor\": \"white\", \"ticks\": \"\", \"title\": {\"standoff\": 15}, \"zerolinecolor\": \"white\", \"zerolinewidth\": 2}, \"yaxis\": {\"automargin\": true, \"gridcolor\": \"white\", \"linecolor\": \"white\", \"ticks\": \"\", \"title\": {\"standoff\": 15}, \"zerolinecolor\": \"white\", \"zerolinewidth\": 2}}}, \"title\": {\"text\": \"Mobility Trends in Telangana\"}, \"width\": 1400, \"xaxis\": {\"range\": [\"2020-02-16T00:00:00\", \"2020-08-02T00:00:00\"]}},\n",
              "                        {\"responsive\": true}\n",
              "                    ).then(function(){\n",
              "                            \n",
              "var gd = document.getElementById('410c2871-0214-48a0-b20a-041191ba22da');\n",
              "var x = new MutationObserver(function (mutations, observer) {{\n",
              "        var display = window.getComputedStyle(gd).display;\n",
              "        if (!display || display === 'none') {{\n",
              "            console.log([gd, 'removed!']);\n",
              "            Plotly.purge(gd);\n",
              "            observer.disconnect();\n",
              "        }}\n",
              "}});\n",
              "\n",
              "// Listen for the removal of the full notebook cells\n",
              "var notebookContainer = gd.closest('#notebook-container');\n",
              "if (notebookContainer) {{\n",
              "    x.observe(notebookContainer, {childList: true});\n",
              "}}\n",
              "\n",
              "// Listen for the clearing of the current output cell\n",
              "var outputEl = gd.closest('.output');\n",
              "if (outputEl) {{\n",
              "    x.observe(outputEl, {childList: true});\n",
              "}}\n",
              "\n",
              "                        })\n",
              "                };\n",
              "                \n",
              "            </script>\n",
              "        </div>\n",
              "</body>\n",
              "</html>"
            ]
          },
          "metadata": {
            "tags": []
          }
        }
      ]
    },
    {
      "cell_type": "code",
      "metadata": {
        "id": "r23GPP8MWH3H",
        "colab_type": "code",
        "colab": {
          "base_uri": "https://localhost:8080/",
          "height": 637
        },
        "outputId": "0b4f1506-0a3f-436d-ce91-8cb67dc000e6"
      },
      "source": [
        "fig = go.Figure()\n",
        "fig.add_trace(go.Scatter(\n",
        "    x=[lockdown1,lockdown2,lockdown3,lockdown4,unlock1,unlock2],\n",
        "    y=[39,39,39,39,39,39],\n",
        "    text=[\"Lockdown 1\",\"Lockdown 2\",\"Lockdown 3\", \"Lockdown 4\", \"Unlock 1\", \"Unlock 2\"],\n",
        "    mode=\"text\",\n",
        "))\n",
        "\n",
        "l = df_india_AP.columns\n",
        "colors = ['rgba(152, 0, 0, .8)','green','red','orange','MediumPurple','DarkBlue']\n",
        "for i in range(len(l)):\n",
        "  fig.add_trace(go.Scatter(x=df_india_AP.index, y=df_india_AP[l[i]],\n",
        "                    mode='lines+markers',\n",
        "                    name=l[i],\n",
        "                    marker_color=colors[i],\n",
        "                    ))\n",
        "fig.update_layout(xaxis=dict(range=[mindate,maxdate]),template=\"plotly_white\")\n",
        "fig.update_layout(\n",
        "    title= \"Mobility Trends in Andhra Pradesh\",\n",
        "    width=1400,\n",
        "    height=600,\n",
        "    shapes=[\n",
        "        dict(\n",
        "            type=\"line\",\n",
        "            x0=mindate,\n",
        "            y0=0,\n",
        "            x1=maxdate,\n",
        "            y1=0,\n",
        "            line_width=2,\n",
        "            line = dict(\n",
        "                dash = \"dot\"\n",
        "            )\n",
        "        ),\n",
        "        dict(\n",
        "            type=\"line\",\n",
        "            y0=-100,\n",
        "            x0= lockdown1,\n",
        "            y1=37,\n",
        "            x1=lockdown1,\n",
        "            line_width=2,\n",
        "            line = dict(\n",
        "                dash = \"dot\"\n",
        "            )\n",
        "        ),\n",
        "        dict(\n",
        "            type=\"line\",\n",
        "            y0=-100,\n",
        "            x0= lockdown2,\n",
        "            y1=37,\n",
        "            x1=lockdown2,\n",
        "            line_width=2,\n",
        "            line = dict(\n",
        "                dash = \"dot\"\n",
        "            )\n",
        "        ),\n",
        "        dict(\n",
        "            type=\"line\",\n",
        "            y0=-100,\n",
        "            x0= lockdown3,\n",
        "            y1=37,\n",
        "            x1=lockdown3,\n",
        "            line_width=2,\n",
        "            line = dict(\n",
        "                dash = \"dot\"\n",
        "            )\n",
        "        ),\n",
        "        dict(\n",
        "            type=\"line\",\n",
        "            y0=-100,\n",
        "            x0= lockdown4,\n",
        "            y1=37,\n",
        "            x1=lockdown4,\n",
        "            line_width=2,\n",
        "            line = dict(\n",
        "                dash = \"dot\"\n",
        "            )\n",
        "        ),\n",
        "        dict(\n",
        "            type=\"line\",\n",
        "            y0=-100,\n",
        "            x0= unlock1,\n",
        "            y1=37,\n",
        "            x1=unlock1,\n",
        "            line_width=2,\n",
        "            line = dict(\n",
        "                dash = \"dot\"\n",
        "            )\n",
        "        ),\n",
        "        dict(\n",
        "            type=\"line\",\n",
        "            y0=-100,\n",
        "            x0= unlock2,\n",
        "            y1=37,\n",
        "            x1=unlock2,\n",
        "            line_width=2,\n",
        "            line = dict(\n",
        "                dash = \"dot\"\n",
        "            )\n",
        "        )\n",
        "    ]\n",
        ")\n",
        "\n",
        "fig.show()"
      ],
      "execution_count": 33,
      "outputs": [
        {
          "output_type": "display_data",
          "data": {
            "text/html": [
              "<html>\n",
              "<head><meta charset=\"utf-8\" /></head>\n",
              "<body>\n",
              "    <div>\n",
              "            <script src=\"https://cdnjs.cloudflare.com/ajax/libs/mathjax/2.7.5/MathJax.js?config=TeX-AMS-MML_SVG\"></script><script type=\"text/javascript\">if (window.MathJax) {MathJax.Hub.Config({SVG: {font: \"STIX-Web\"}});}</script>\n",
              "                <script type=\"text/javascript\">window.PlotlyConfig = {MathJaxConfig: 'local'};</script>\n",
              "        <script src=\"https://cdn.plot.ly/plotly-latest.min.js\"></script>    \n",
              "            <div id=\"3a5ab54d-a618-4a10-8c27-1b68471207c9\" class=\"plotly-graph-div\" style=\"height:600px; width:1400px;\"></div>\n",
              "            <script type=\"text/javascript\">\n",
              "                \n",
              "                    window.PLOTLYENV=window.PLOTLYENV || {};\n",
              "                    \n",
              "                if (document.getElementById(\"3a5ab54d-a618-4a10-8c27-1b68471207c9\")) {\n",
              "                    Plotly.newPlot(\n",
              "                        '3a5ab54d-a618-4a10-8c27-1b68471207c9',\n",
              "                        [{\"mode\": \"text\", \"text\": [\"Lockdown 1\", \"Lockdown 2\", \"Lockdown 3\", \"Lockdown 4\", \"Unlock 1\", \"Unlock 2\"], \"type\": \"scatter\", \"x\": [\"2020-03-22T00:00:00\", \"2020-04-15T00:00:00\", \"2020-05-04T00:00:00\", \"2020-05-18T00:00:00\", \"2020-06-01T00:00:00\", \"2020-07-01T00:00:00\"], \"y\": [39, 39, 39, 39, 39, 39]}, {\"marker\": {\"color\": \"rgba(152, 0, 0, .8)\"}, \"mode\": \"lines+markers\", \"name\": \"Recreation\", \"type\": \"scatter\", \"x\": [\"2020-02-16T00:00:00\", \"2020-02-23T00:00:00\", \"2020-03-01T00:00:00\", \"2020-03-08T00:00:00\", \"2020-03-15T00:00:00\", \"2020-03-22T00:00:00\", \"2020-03-29T00:00:00\", \"2020-04-05T00:00:00\", \"2020-04-12T00:00:00\", \"2020-04-19T00:00:00\", \"2020-04-26T00:00:00\", \"2020-05-03T00:00:00\", \"2020-05-10T00:00:00\", \"2020-05-17T00:00:00\", \"2020-05-24T00:00:00\", \"2020-05-31T00:00:00\", \"2020-06-07T00:00:00\", \"2020-06-14T00:00:00\", \"2020-06-21T00:00:00\", \"2020-06-28T00:00:00\", \"2020-07-05T00:00:00\", \"2020-07-12T00:00:00\", \"2020-07-19T00:00:00\", \"2020-07-26T00:00:00\", \"2020-08-02T00:00:00\"], \"y\": [-1.0, -1.7142857142857142, 0.2857142857142857, 0.0, -2.4285714285714284, -17.0, -69.85714285714286, -73.28571428571429, -77.28571428571429, -81.71428571428571, -85.42857142857143, -85.0, -79.57142857142857, -77.85714285714286, -73.42857142857143, -67.57142857142857, -60.57142857142857, -55.285714285714285, -55.285714285714285, -56.142857142857146, -55.857142857142854, -56.57142857142857, -60.57142857142857, -62.714285714285715, -60.4]}, {\"marker\": {\"color\": \"green\"}, \"mode\": \"lines+markers\", \"name\": \"Grocery_and_Pharmacy\", \"type\": \"scatter\", \"x\": [\"2020-02-16T00:00:00\", \"2020-02-23T00:00:00\", \"2020-03-01T00:00:00\", \"2020-03-08T00:00:00\", \"2020-03-15T00:00:00\", \"2020-03-22T00:00:00\", \"2020-03-29T00:00:00\", \"2020-04-05T00:00:00\", \"2020-04-12T00:00:00\", \"2020-04-19T00:00:00\", \"2020-04-26T00:00:00\", \"2020-05-03T00:00:00\", \"2020-05-10T00:00:00\", \"2020-05-17T00:00:00\", \"2020-05-24T00:00:00\", \"2020-05-31T00:00:00\", \"2020-06-07T00:00:00\", \"2020-06-14T00:00:00\", \"2020-06-21T00:00:00\", \"2020-06-28T00:00:00\", \"2020-07-05T00:00:00\", \"2020-07-12T00:00:00\", \"2020-07-19T00:00:00\", \"2020-07-26T00:00:00\", \"2020-08-02T00:00:00\"], \"y\": [0.0, -1.2857142857142858, -0.42857142857142855, 3.4285714285714284, 1.0, -4.428571428571429, -48.714285714285715, -58.857142857142854, -51.42857142857143, -45.285714285714285, -45.0, -43.285714285714285, -30.0, -26.714285714285715, -18.857142857142858, -8.857142857142858, 3.142857142857143, 6.142857142857143, 1.5714285714285714, -0.7142857142857143, -3.142857142857143, -4.0, -13.285714285714286, -16.571428571428573, -11.4]}, {\"marker\": {\"color\": \"red\"}, \"mode\": \"lines+markers\", \"name\": \"Parks\", \"type\": \"scatter\", \"x\": [\"2020-02-16T00:00:00\", \"2020-02-23T00:00:00\", \"2020-03-01T00:00:00\", \"2020-03-08T00:00:00\", \"2020-03-15T00:00:00\", \"2020-03-22T00:00:00\", \"2020-03-29T00:00:00\", \"2020-04-05T00:00:00\", \"2020-04-12T00:00:00\", \"2020-04-19T00:00:00\", \"2020-04-26T00:00:00\", \"2020-05-03T00:00:00\", \"2020-05-10T00:00:00\", \"2020-05-17T00:00:00\", \"2020-05-24T00:00:00\", \"2020-05-31T00:00:00\", \"2020-06-07T00:00:00\", \"2020-06-14T00:00:00\", \"2020-06-21T00:00:00\", \"2020-06-28T00:00:00\", \"2020-07-05T00:00:00\", \"2020-07-12T00:00:00\", \"2020-07-19T00:00:00\", \"2020-07-26T00:00:00\", \"2020-08-02T00:00:00\"], \"y\": [4.5, 7.0, 4.285714285714286, 5.0, 4.571428571428571, -7.857142857142857, -43.142857142857146, -45.42857142857143, -44.714285714285715, -53.142857142857146, -61.42857142857143, -61.57142857142857, -59.142857142857146, -58.285714285714285, -55.285714285714285, -53.0, -50.57142857142857, -47.857142857142854, -48.42857142857143, -48.57142857142857, -49.0, -49.0, -50.857142857142854, -50.42857142857143, -48.6]}, {\"marker\": {\"color\": \"orange\"}, \"mode\": \"lines+markers\", \"name\": \"Transit_stations\", \"type\": \"scatter\", \"x\": [\"2020-02-16T00:00:00\", \"2020-02-23T00:00:00\", \"2020-03-01T00:00:00\", \"2020-03-08T00:00:00\", \"2020-03-15T00:00:00\", \"2020-03-22T00:00:00\", \"2020-03-29T00:00:00\", \"2020-04-05T00:00:00\", \"2020-04-12T00:00:00\", \"2020-04-19T00:00:00\", \"2020-04-26T00:00:00\", \"2020-05-03T00:00:00\", \"2020-05-10T00:00:00\", \"2020-05-17T00:00:00\", \"2020-05-24T00:00:00\", \"2020-05-31T00:00:00\", \"2020-06-07T00:00:00\", \"2020-06-14T00:00:00\", \"2020-06-21T00:00:00\", \"2020-06-28T00:00:00\", \"2020-07-05T00:00:00\", \"2020-07-12T00:00:00\", \"2020-07-19T00:00:00\", \"2020-07-26T00:00:00\", \"2020-08-02T00:00:00\"], \"y\": [4.5, 1.7142857142857142, 2.142857142857143, 1.0, -1.2857142857142858, -12.285714285714286, -62.142857142857146, -65.14285714285714, -60.42857142857143, -58.57142857142857, -59.142857142857146, -58.142857142857146, -50.714285714285715, -47.857142857142854, -43.0, -36.714285714285715, -30.285714285714285, -28.428571428571427, -31.142857142857142, -32.714285714285715, -34.42857142857143, -35.714285714285715, -39.285714285714285, -40.714285714285715, -38.2]}, {\"marker\": {\"color\": \"MediumPurple\"}, \"mode\": \"lines+markers\", \"name\": \"Workplaces\", \"type\": \"scatter\", \"x\": [\"2020-02-16T00:00:00\", \"2020-02-23T00:00:00\", \"2020-03-01T00:00:00\", \"2020-03-08T00:00:00\", \"2020-03-15T00:00:00\", \"2020-03-22T00:00:00\", \"2020-03-29T00:00:00\", \"2020-04-05T00:00:00\", \"2020-04-12T00:00:00\", \"2020-04-19T00:00:00\", \"2020-04-26T00:00:00\", \"2020-05-03T00:00:00\", \"2020-05-10T00:00:00\", \"2020-05-17T00:00:00\", \"2020-05-24T00:00:00\", \"2020-05-31T00:00:00\", \"2020-06-07T00:00:00\", \"2020-06-14T00:00:00\", \"2020-06-21T00:00:00\", \"2020-06-28T00:00:00\", \"2020-07-05T00:00:00\", \"2020-07-12T00:00:00\", \"2020-07-19T00:00:00\", \"2020-07-26T00:00:00\", \"2020-08-02T00:00:00\"], \"y\": [1.5, -3.0, 5.0, 6.142857142857143, -0.14285714285714285, -10.285714285714286, -53.0, -52.57142857142857, -53.42857142857143, -50.57142857142857, -49.285714285714285, -47.42857142857143, -40.285714285714285, -35.285714285714285, -29.857142857142858, -24.857142857142858, -17.714285714285715, -18.571428571428573, -18.714285714285715, -18.285714285714285, -18.142857142857142, -20.714285714285715, -23.0, -26.857142857142858, -30.6]}, {\"marker\": {\"color\": \"DarkBlue\"}, \"mode\": \"lines+markers\", \"name\": \"Residential\", \"type\": \"scatter\", \"x\": [\"2020-02-16T00:00:00\", \"2020-02-23T00:00:00\", \"2020-03-01T00:00:00\", \"2020-03-08T00:00:00\", \"2020-03-15T00:00:00\", \"2020-03-22T00:00:00\", \"2020-03-29T00:00:00\", \"2020-04-05T00:00:00\", \"2020-04-12T00:00:00\", \"2020-04-19T00:00:00\", \"2020-04-26T00:00:00\", \"2020-05-03T00:00:00\", \"2020-05-10T00:00:00\", \"2020-05-17T00:00:00\", \"2020-05-24T00:00:00\", \"2020-05-31T00:00:00\", \"2020-06-07T00:00:00\", \"2020-06-14T00:00:00\", \"2020-06-21T00:00:00\", \"2020-06-28T00:00:00\", \"2020-07-05T00:00:00\", \"2020-07-12T00:00:00\", \"2020-07-19T00:00:00\", \"2020-07-26T00:00:00\", \"2020-08-02T00:00:00\"], \"y\": [0.5, 1.4285714285714286, 0.2857142857142857, 0.8571428571428571, 1.2857142857142858, 5.857142857142857, 25.285714285714285, 26.142857142857142, 27.142857142857142, 26.428571428571427, 27.0, 26.428571428571427, 23.714285714285715, 22.142857142857142, 20.571428571428573, 17.571428571428573, 14.714285714285714, 14.142857142857142, 14.571428571428571, 14.714285714285714, 15.428571428571429, 16.142857142857142, 18.571428571428573, 19.285714285714285, 19.8]}],\n",
              "                        {\"height\": 600, \"shapes\": [{\"line\": {\"dash\": \"dot\", \"width\": 2}, \"type\": \"line\", \"x0\": \"2020-02-16T00:00:00\", \"x1\": \"2020-08-02T00:00:00\", \"y0\": 0, \"y1\": 0}, {\"line\": {\"dash\": \"dot\", \"width\": 2}, \"type\": \"line\", \"x0\": \"2020-03-22T00:00:00\", \"x1\": \"2020-03-22T00:00:00\", \"y0\": -100, \"y1\": 37}, {\"line\": {\"dash\": \"dot\", \"width\": 2}, \"type\": \"line\", \"x0\": \"2020-04-15T00:00:00\", \"x1\": \"2020-04-15T00:00:00\", \"y0\": -100, \"y1\": 37}, {\"line\": {\"dash\": \"dot\", \"width\": 2}, \"type\": \"line\", \"x0\": \"2020-05-04T00:00:00\", \"x1\": \"2020-05-04T00:00:00\", \"y0\": -100, \"y1\": 37}, {\"line\": {\"dash\": \"dot\", \"width\": 2}, \"type\": \"line\", \"x0\": \"2020-05-18T00:00:00\", \"x1\": \"2020-05-18T00:00:00\", \"y0\": -100, \"y1\": 37}, {\"line\": {\"dash\": \"dot\", \"width\": 2}, \"type\": \"line\", \"x0\": \"2020-06-01T00:00:00\", \"x1\": \"2020-06-01T00:00:00\", \"y0\": -100, \"y1\": 37}, {\"line\": {\"dash\": \"dot\", \"width\": 2}, \"type\": \"line\", \"x0\": \"2020-07-01T00:00:00\", \"x1\": \"2020-07-01T00:00:00\", \"y0\": -100, \"y1\": 37}], \"template\": {\"data\": {\"bar\": [{\"error_x\": {\"color\": \"#2a3f5f\"}, \"error_y\": {\"color\": \"#2a3f5f\"}, \"marker\": {\"line\": {\"color\": \"white\", \"width\": 0.5}}, \"type\": \"bar\"}], \"barpolar\": [{\"marker\": {\"line\": {\"color\": \"white\", \"width\": 0.5}}, \"type\": \"barpolar\"}], \"carpet\": [{\"aaxis\": {\"endlinecolor\": \"#2a3f5f\", \"gridcolor\": \"#C8D4E3\", \"linecolor\": \"#C8D4E3\", \"minorgridcolor\": \"#C8D4E3\", \"startlinecolor\": \"#2a3f5f\"}, \"baxis\": {\"endlinecolor\": \"#2a3f5f\", \"gridcolor\": \"#C8D4E3\", \"linecolor\": \"#C8D4E3\", \"minorgridcolor\": \"#C8D4E3\", \"startlinecolor\": \"#2a3f5f\"}, \"type\": \"carpet\"}], \"choropleth\": [{\"colorbar\": {\"outlinewidth\": 0, \"ticks\": \"\"}, \"type\": \"choropleth\"}], \"contour\": [{\"colorbar\": {\"outlinewidth\": 0, \"ticks\": \"\"}, \"colorscale\": [[0.0, \"#0d0887\"], [0.1111111111111111, \"#46039f\"], [0.2222222222222222, \"#7201a8\"], [0.3333333333333333, \"#9c179e\"], [0.4444444444444444, \"#bd3786\"], [0.5555555555555556, \"#d8576b\"], [0.6666666666666666, \"#ed7953\"], [0.7777777777777778, \"#fb9f3a\"], [0.8888888888888888, \"#fdca26\"], [1.0, \"#f0f921\"]], \"type\": \"contour\"}], \"contourcarpet\": [{\"colorbar\": {\"outlinewidth\": 0, \"ticks\": \"\"}, \"type\": \"contourcarpet\"}], \"heatmap\": [{\"colorbar\": {\"outlinewidth\": 0, \"ticks\": \"\"}, \"colorscale\": [[0.0, \"#0d0887\"], [0.1111111111111111, \"#46039f\"], [0.2222222222222222, \"#7201a8\"], [0.3333333333333333, \"#9c179e\"], [0.4444444444444444, \"#bd3786\"], [0.5555555555555556, \"#d8576b\"], [0.6666666666666666, \"#ed7953\"], [0.7777777777777778, \"#fb9f3a\"], [0.8888888888888888, \"#fdca26\"], [1.0, \"#f0f921\"]], \"type\": \"heatmap\"}], \"heatmapgl\": [{\"colorbar\": {\"outlinewidth\": 0, \"ticks\": \"\"}, \"colorscale\": [[0.0, \"#0d0887\"], [0.1111111111111111, \"#46039f\"], [0.2222222222222222, \"#7201a8\"], [0.3333333333333333, \"#9c179e\"], [0.4444444444444444, \"#bd3786\"], [0.5555555555555556, \"#d8576b\"], [0.6666666666666666, \"#ed7953\"], [0.7777777777777778, \"#fb9f3a\"], [0.8888888888888888, \"#fdca26\"], [1.0, \"#f0f921\"]], \"type\": \"heatmapgl\"}], \"histogram\": [{\"marker\": {\"colorbar\": {\"outlinewidth\": 0, \"ticks\": \"\"}}, \"type\": \"histogram\"}], \"histogram2d\": [{\"colorbar\": {\"outlinewidth\": 0, \"ticks\": \"\"}, \"colorscale\": [[0.0, \"#0d0887\"], [0.1111111111111111, \"#46039f\"], [0.2222222222222222, \"#7201a8\"], [0.3333333333333333, \"#9c179e\"], [0.4444444444444444, \"#bd3786\"], [0.5555555555555556, \"#d8576b\"], [0.6666666666666666, \"#ed7953\"], [0.7777777777777778, \"#fb9f3a\"], [0.8888888888888888, \"#fdca26\"], [1.0, \"#f0f921\"]], \"type\": \"histogram2d\"}], \"histogram2dcontour\": [{\"colorbar\": {\"outlinewidth\": 0, \"ticks\": \"\"}, \"colorscale\": [[0.0, \"#0d0887\"], [0.1111111111111111, \"#46039f\"], [0.2222222222222222, \"#7201a8\"], [0.3333333333333333, \"#9c179e\"], [0.4444444444444444, \"#bd3786\"], [0.5555555555555556, \"#d8576b\"], [0.6666666666666666, \"#ed7953\"], [0.7777777777777778, \"#fb9f3a\"], [0.8888888888888888, \"#fdca26\"], [1.0, \"#f0f921\"]], \"type\": \"histogram2dcontour\"}], \"mesh3d\": [{\"colorbar\": {\"outlinewidth\": 0, \"ticks\": \"\"}, \"type\": \"mesh3d\"}], \"parcoords\": [{\"line\": {\"colorbar\": {\"outlinewidth\": 0, \"ticks\": \"\"}}, \"type\": \"parcoords\"}], \"pie\": [{\"automargin\": true, \"type\": \"pie\"}], \"scatter\": [{\"marker\": {\"colorbar\": {\"outlinewidth\": 0, \"ticks\": \"\"}}, \"type\": \"scatter\"}], \"scatter3d\": [{\"line\": {\"colorbar\": {\"outlinewidth\": 0, \"ticks\": \"\"}}, \"marker\": {\"colorbar\": {\"outlinewidth\": 0, \"ticks\": \"\"}}, \"type\": \"scatter3d\"}], \"scattercarpet\": [{\"marker\": {\"colorbar\": {\"outlinewidth\": 0, \"ticks\": \"\"}}, \"type\": \"scattercarpet\"}], \"scattergeo\": [{\"marker\": {\"colorbar\": {\"outlinewidth\": 0, \"ticks\": \"\"}}, \"type\": \"scattergeo\"}], \"scattergl\": [{\"marker\": {\"colorbar\": {\"outlinewidth\": 0, \"ticks\": \"\"}}, \"type\": \"scattergl\"}], \"scattermapbox\": [{\"marker\": {\"colorbar\": {\"outlinewidth\": 0, \"ticks\": \"\"}}, \"type\": \"scattermapbox\"}], \"scatterpolar\": [{\"marker\": {\"colorbar\": {\"outlinewidth\": 0, \"ticks\": \"\"}}, \"type\": \"scatterpolar\"}], \"scatterpolargl\": [{\"marker\": {\"colorbar\": {\"outlinewidth\": 0, \"ticks\": \"\"}}, \"type\": \"scatterpolargl\"}], \"scatterternary\": [{\"marker\": {\"colorbar\": {\"outlinewidth\": 0, \"ticks\": \"\"}}, \"type\": \"scatterternary\"}], \"surface\": [{\"colorbar\": {\"outlinewidth\": 0, \"ticks\": \"\"}, \"colorscale\": [[0.0, \"#0d0887\"], [0.1111111111111111, \"#46039f\"], [0.2222222222222222, \"#7201a8\"], [0.3333333333333333, \"#9c179e\"], [0.4444444444444444, \"#bd3786\"], [0.5555555555555556, \"#d8576b\"], [0.6666666666666666, \"#ed7953\"], [0.7777777777777778, \"#fb9f3a\"], [0.8888888888888888, \"#fdca26\"], [1.0, \"#f0f921\"]], \"type\": \"surface\"}], \"table\": [{\"cells\": {\"fill\": {\"color\": \"#EBF0F8\"}, \"line\": {\"color\": \"white\"}}, \"header\": {\"fill\": {\"color\": \"#C8D4E3\"}, \"line\": {\"color\": \"white\"}}, \"type\": \"table\"}]}, \"layout\": {\"annotationdefaults\": {\"arrowcolor\": \"#2a3f5f\", \"arrowhead\": 0, \"arrowwidth\": 1}, \"coloraxis\": {\"colorbar\": {\"outlinewidth\": 0, \"ticks\": \"\"}}, \"colorscale\": {\"diverging\": [[0, \"#8e0152\"], [0.1, \"#c51b7d\"], [0.2, \"#de77ae\"], [0.3, \"#f1b6da\"], [0.4, \"#fde0ef\"], [0.5, \"#f7f7f7\"], [0.6, \"#e6f5d0\"], [0.7, \"#b8e186\"], [0.8, \"#7fbc41\"], [0.9, \"#4d9221\"], [1, \"#276419\"]], \"sequential\": [[0.0, \"#0d0887\"], [0.1111111111111111, \"#46039f\"], [0.2222222222222222, \"#7201a8\"], [0.3333333333333333, \"#9c179e\"], [0.4444444444444444, \"#bd3786\"], [0.5555555555555556, \"#d8576b\"], [0.6666666666666666, \"#ed7953\"], [0.7777777777777778, \"#fb9f3a\"], [0.8888888888888888, \"#fdca26\"], [1.0, \"#f0f921\"]], \"sequentialminus\": [[0.0, \"#0d0887\"], [0.1111111111111111, \"#46039f\"], [0.2222222222222222, \"#7201a8\"], [0.3333333333333333, \"#9c179e\"], [0.4444444444444444, \"#bd3786\"], [0.5555555555555556, \"#d8576b\"], [0.6666666666666666, \"#ed7953\"], [0.7777777777777778, \"#fb9f3a\"], [0.8888888888888888, \"#fdca26\"], [1.0, \"#f0f921\"]]}, \"colorway\": [\"#636efa\", \"#EF553B\", \"#00cc96\", \"#ab63fa\", \"#FFA15A\", \"#19d3f3\", \"#FF6692\", \"#B6E880\", \"#FF97FF\", \"#FECB52\"], \"font\": {\"color\": \"#2a3f5f\"}, \"geo\": {\"bgcolor\": \"white\", \"lakecolor\": \"white\", \"landcolor\": \"white\", \"showlakes\": true, \"showland\": true, \"subunitcolor\": \"#C8D4E3\"}, \"hoverlabel\": {\"align\": \"left\"}, \"hovermode\": \"closest\", \"mapbox\": {\"style\": \"light\"}, \"paper_bgcolor\": \"white\", \"plot_bgcolor\": \"white\", \"polar\": {\"angularaxis\": {\"gridcolor\": \"#EBF0F8\", \"linecolor\": \"#EBF0F8\", \"ticks\": \"\"}, \"bgcolor\": \"white\", \"radialaxis\": {\"gridcolor\": \"#EBF0F8\", \"linecolor\": \"#EBF0F8\", \"ticks\": \"\"}}, \"scene\": {\"xaxis\": {\"backgroundcolor\": \"white\", \"gridcolor\": \"#DFE8F3\", \"gridwidth\": 2, \"linecolor\": \"#EBF0F8\", \"showbackground\": true, \"ticks\": \"\", \"zerolinecolor\": \"#EBF0F8\"}, \"yaxis\": {\"backgroundcolor\": \"white\", \"gridcolor\": \"#DFE8F3\", \"gridwidth\": 2, \"linecolor\": \"#EBF0F8\", \"showbackground\": true, \"ticks\": \"\", \"zerolinecolor\": \"#EBF0F8\"}, \"zaxis\": {\"backgroundcolor\": \"white\", \"gridcolor\": \"#DFE8F3\", \"gridwidth\": 2, \"linecolor\": \"#EBF0F8\", \"showbackground\": true, \"ticks\": \"\", \"zerolinecolor\": \"#EBF0F8\"}}, \"shapedefaults\": {\"line\": {\"color\": \"#2a3f5f\"}}, \"ternary\": {\"aaxis\": {\"gridcolor\": \"#DFE8F3\", \"linecolor\": \"#A2B1C6\", \"ticks\": \"\"}, \"baxis\": {\"gridcolor\": \"#DFE8F3\", \"linecolor\": \"#A2B1C6\", \"ticks\": \"\"}, \"bgcolor\": \"white\", \"caxis\": {\"gridcolor\": \"#DFE8F3\", \"linecolor\": \"#A2B1C6\", \"ticks\": \"\"}}, \"title\": {\"x\": 0.05}, \"xaxis\": {\"automargin\": true, \"gridcolor\": \"#EBF0F8\", \"linecolor\": \"#EBF0F8\", \"ticks\": \"\", \"title\": {\"standoff\": 15}, \"zerolinecolor\": \"#EBF0F8\", \"zerolinewidth\": 2}, \"yaxis\": {\"automargin\": true, \"gridcolor\": \"#EBF0F8\", \"linecolor\": \"#EBF0F8\", \"ticks\": \"\", \"title\": {\"standoff\": 15}, \"zerolinecolor\": \"#EBF0F8\", \"zerolinewidth\": 2}}}, \"title\": {\"text\": \"Mobility Trends in Andhra Pradesh\"}, \"width\": 1400, \"xaxis\": {\"range\": [\"2020-02-16T00:00:00\", \"2020-08-02T00:00:00\"]}},\n",
              "                        {\"responsive\": true}\n",
              "                    ).then(function(){\n",
              "                            \n",
              "var gd = document.getElementById('3a5ab54d-a618-4a10-8c27-1b68471207c9');\n",
              "var x = new MutationObserver(function (mutations, observer) {{\n",
              "        var display = window.getComputedStyle(gd).display;\n",
              "        if (!display || display === 'none') {{\n",
              "            console.log([gd, 'removed!']);\n",
              "            Plotly.purge(gd);\n",
              "            observer.disconnect();\n",
              "        }}\n",
              "}});\n",
              "\n",
              "// Listen for the removal of the full notebook cells\n",
              "var notebookContainer = gd.closest('#notebook-container');\n",
              "if (notebookContainer) {{\n",
              "    x.observe(notebookContainer, {childList: true});\n",
              "}}\n",
              "\n",
              "// Listen for the clearing of the current output cell\n",
              "var outputEl = gd.closest('.output');\n",
              "if (outputEl) {{\n",
              "    x.observe(outputEl, {childList: true});\n",
              "}}\n",
              "\n",
              "                        })\n",
              "                };\n",
              "                \n",
              "            </script>\n",
              "        </div>\n",
              "</body>\n",
              "</html>"
            ]
          },
          "metadata": {
            "tags": []
          }
        }
      ]
    },
    {
      "cell_type": "markdown",
      "metadata": {
        "id": "TxUexN4kWjLY",
        "colab_type": "text"
      },
      "source": [
        "Is work back to normal?"
      ]
    },
    {
      "cell_type": "code",
      "metadata": {
        "id": "uNpalh7hWhHa",
        "colab_type": "code",
        "colab": {
          "base_uri": "https://localhost:8080/",
          "height": 617
        },
        "outputId": "dd0ab6bd-b657-4bb7-b3d0-86e52791fe16"
      },
      "source": [
        "fig = go.Figure()\n",
        "fig.add_trace(go.Scatter(\n",
        "    x=[lockdown1,lockdown2,lockdown3,lockdown4,unlock1,unlock2],\n",
        "    y=[39,39,39,39,39,39],\n",
        "    text=[\"Lockdown 1\",\"Lockdown 2\",\"Lockdown 3\", \"Lockdown 4\", \"Unlock 1\", \"Unlock 2\"],\n",
        "    mode=\"text\",\n",
        "))\n",
        "fig.add_trace(go.Scatter(x=df_india_AP.index, y=df_india_AP[\"Workplaces\"],\n",
        "                    mode='lines+markers',\n",
        "                    name=\"AP\",\n",
        "                    ))\n",
        "fig.add_trace(go.Scatter(x=df_india_Telangana.index, y=df_india_Telangana[\"Workplaces\"],\n",
        "                    mode='lines+markers',\n",
        "                    name=\"Telangana\",\n",
        "                    ))\n",
        "fig.update_layout(xaxis=dict(range=[mindate,maxdate]),template=\"seaborn\")\n",
        "fig.update_layout(\n",
        "    title= \"Is work back to normal?\",\n",
        "    width=1300,\n",
        "    height=600,\n",
        "    shapes=[\n",
        "        dict(\n",
        "            type=\"line\",\n",
        "            x0=mindate,\n",
        "            y0=0,\n",
        "            x1=maxdate,\n",
        "            y1=0,\n",
        "            line_width=2,\n",
        "            line = dict(\n",
        "                dash = \"dot\"\n",
        "            )\n",
        "        ),\n",
        "        dict(\n",
        "            type=\"line\",\n",
        "            y0=-100,\n",
        "            x0= lockdown1,\n",
        "            y1=37,\n",
        "            x1=lockdown1,\n",
        "            line_width=2,\n",
        "            line = dict(\n",
        "                dash = \"dot\"\n",
        "            )\n",
        "        ),\n",
        "        dict(\n",
        "            type=\"line\",\n",
        "            y0=-100,\n",
        "            x0= lockdown2,\n",
        "            y1=37,\n",
        "            x1=lockdown2,\n",
        "            line_width=2,\n",
        "            line = dict(\n",
        "                dash = \"dot\"\n",
        "            )\n",
        "        ),\n",
        "        dict(\n",
        "            type=\"line\",\n",
        "            y0=-100,\n",
        "            x0= lockdown3,\n",
        "            y1=37,\n",
        "            x1=lockdown3,\n",
        "            line_width=2,\n",
        "            line = dict(\n",
        "                dash = \"dot\"\n",
        "            )\n",
        "        ),\n",
        "        dict(\n",
        "            type=\"line\",\n",
        "            y0=-100,\n",
        "            x0= lockdown4,\n",
        "            y1=37,\n",
        "            x1=lockdown4,\n",
        "            line_width=2,\n",
        "            line = dict(\n",
        "                dash = \"dot\"\n",
        "            )\n",
        "        ),\n",
        "        dict(\n",
        "            type=\"line\",\n",
        "            y0=-100,\n",
        "            x0= unlock1,\n",
        "            y1=37,\n",
        "            x1=unlock1,\n",
        "            line_width=2,\n",
        "            line = dict(\n",
        "                dash = \"dot\"\n",
        "            )\n",
        "        ),\n",
        "        dict(\n",
        "            type=\"line\",\n",
        "            y0=-100,\n",
        "            x0= unlock2,\n",
        "            y1=37,\n",
        "            x1=unlock2,\n",
        "            line_width=2,\n",
        "            line = dict(\n",
        "                dash = \"dot\"\n",
        "            ) \n",
        "        ),\n",
        "    ]\n",
        ")\n",
        "\n",
        "fig.show()"
      ],
      "execution_count": 34,
      "outputs": [
        {
          "output_type": "display_data",
          "data": {
            "text/html": [
              "<html>\n",
              "<head><meta charset=\"utf-8\" /></head>\n",
              "<body>\n",
              "    <div>\n",
              "            <script src=\"https://cdnjs.cloudflare.com/ajax/libs/mathjax/2.7.5/MathJax.js?config=TeX-AMS-MML_SVG\"></script><script type=\"text/javascript\">if (window.MathJax) {MathJax.Hub.Config({SVG: {font: \"STIX-Web\"}});}</script>\n",
              "                <script type=\"text/javascript\">window.PlotlyConfig = {MathJaxConfig: 'local'};</script>\n",
              "        <script src=\"https://cdn.plot.ly/plotly-latest.min.js\"></script>    \n",
              "            <div id=\"f89737b2-d8ce-48ca-94cf-a866dafb71e9\" class=\"plotly-graph-div\" style=\"height:600px; width:1300px;\"></div>\n",
              "            <script type=\"text/javascript\">\n",
              "                \n",
              "                    window.PLOTLYENV=window.PLOTLYENV || {};\n",
              "                    \n",
              "                if (document.getElementById(\"f89737b2-d8ce-48ca-94cf-a866dafb71e9\")) {\n",
              "                    Plotly.newPlot(\n",
              "                        'f89737b2-d8ce-48ca-94cf-a866dafb71e9',\n",
              "                        [{\"mode\": \"text\", \"text\": [\"Lockdown 1\", \"Lockdown 2\", \"Lockdown 3\", \"Lockdown 4\", \"Unlock 1\", \"Unlock 2\"], \"type\": \"scatter\", \"x\": [\"2020-03-22T00:00:00\", \"2020-04-15T00:00:00\", \"2020-05-04T00:00:00\", \"2020-05-18T00:00:00\", \"2020-06-01T00:00:00\", \"2020-07-01T00:00:00\"], \"y\": [39, 39, 39, 39, 39, 39]}, {\"mode\": \"lines+markers\", \"name\": \"AP\", \"type\": \"scatter\", \"x\": [\"2020-02-16T00:00:00\", \"2020-02-23T00:00:00\", \"2020-03-01T00:00:00\", \"2020-03-08T00:00:00\", \"2020-03-15T00:00:00\", \"2020-03-22T00:00:00\", \"2020-03-29T00:00:00\", \"2020-04-05T00:00:00\", \"2020-04-12T00:00:00\", \"2020-04-19T00:00:00\", \"2020-04-26T00:00:00\", \"2020-05-03T00:00:00\", \"2020-05-10T00:00:00\", \"2020-05-17T00:00:00\", \"2020-05-24T00:00:00\", \"2020-05-31T00:00:00\", \"2020-06-07T00:00:00\", \"2020-06-14T00:00:00\", \"2020-06-21T00:00:00\", \"2020-06-28T00:00:00\", \"2020-07-05T00:00:00\", \"2020-07-12T00:00:00\", \"2020-07-19T00:00:00\", \"2020-07-26T00:00:00\", \"2020-08-02T00:00:00\"], \"y\": [1.5, -3.0, 5.0, 6.142857142857143, -0.14285714285714285, -10.285714285714286, -53.0, -52.57142857142857, -53.42857142857143, -50.57142857142857, -49.285714285714285, -47.42857142857143, -40.285714285714285, -35.285714285714285, -29.857142857142858, -24.857142857142858, -17.714285714285715, -18.571428571428573, -18.714285714285715, -18.285714285714285, -18.142857142857142, -20.714285714285715, -23.0, -26.857142857142858, -30.6]}, {\"mode\": \"lines+markers\", \"name\": \"Telangana\", \"type\": \"scatter\", \"x\": [\"2020-02-16T00:00:00\", \"2020-02-23T00:00:00\", \"2020-03-01T00:00:00\", \"2020-03-08T00:00:00\", \"2020-03-15T00:00:00\", \"2020-03-22T00:00:00\", \"2020-03-29T00:00:00\", \"2020-04-05T00:00:00\", \"2020-04-12T00:00:00\", \"2020-04-19T00:00:00\", \"2020-04-26T00:00:00\", \"2020-05-03T00:00:00\", \"2020-05-10T00:00:00\", \"2020-05-17T00:00:00\", \"2020-05-24T00:00:00\", \"2020-05-31T00:00:00\", \"2020-06-07T00:00:00\", \"2020-06-14T00:00:00\", \"2020-06-21T00:00:00\", \"2020-06-28T00:00:00\", \"2020-07-05T00:00:00\", \"2020-07-12T00:00:00\", \"2020-07-19T00:00:00\", \"2020-07-26T00:00:00\", \"2020-08-02T00:00:00\"], \"y\": [0.5, -2.857142857142857, 3.5714285714285716, 4.857142857142857, -6.142857142857143, -20.571428571428573, -68.71428571428571, -67.57142857142857, -67.28571428571429, -65.85714285714286, -65.85714285714286, -64.0, -57.42857142857143, -51.857142857142854, -45.285714285714285, -41.857142857142854, -34.57142857142857, -34.857142857142854, -35.57142857142857, -35.42857142857143, -36.57142857142857, -37.714285714285715, -37.857142857142854, -39.57142857142857, -44.6]}],\n",
              "                        {\"height\": 600, \"shapes\": [{\"line\": {\"dash\": \"dot\", \"width\": 2}, \"type\": \"line\", \"x0\": \"2020-02-16T00:00:00\", \"x1\": \"2020-08-02T00:00:00\", \"y0\": 0, \"y1\": 0}, {\"line\": {\"dash\": \"dot\", \"width\": 2}, \"type\": \"line\", \"x0\": \"2020-03-22T00:00:00\", \"x1\": \"2020-03-22T00:00:00\", \"y0\": -100, \"y1\": 37}, {\"line\": {\"dash\": \"dot\", \"width\": 2}, \"type\": \"line\", \"x0\": \"2020-04-15T00:00:00\", \"x1\": \"2020-04-15T00:00:00\", \"y0\": -100, \"y1\": 37}, {\"line\": {\"dash\": \"dot\", \"width\": 2}, \"type\": \"line\", \"x0\": \"2020-05-04T00:00:00\", \"x1\": \"2020-05-04T00:00:00\", \"y0\": -100, \"y1\": 37}, {\"line\": {\"dash\": \"dot\", \"width\": 2}, \"type\": \"line\", \"x0\": \"2020-05-18T00:00:00\", \"x1\": \"2020-05-18T00:00:00\", \"y0\": -100, \"y1\": 37}, {\"line\": {\"dash\": \"dot\", \"width\": 2}, \"type\": \"line\", \"x0\": \"2020-06-01T00:00:00\", \"x1\": \"2020-06-01T00:00:00\", \"y0\": -100, \"y1\": 37}, {\"line\": {\"dash\": \"dot\", \"width\": 2}, \"type\": \"line\", \"x0\": \"2020-07-01T00:00:00\", \"x1\": \"2020-07-01T00:00:00\", \"y0\": -100, \"y1\": 37}], \"template\": {\"data\": {\"bar\": [{\"error_x\": {\"color\": \"rgb(36,36,36)\"}, \"error_y\": {\"color\": \"rgb(36,36,36)\"}, \"marker\": {\"line\": {\"color\": \"rgb(234,234,242)\", \"width\": 0.5}}, \"type\": \"bar\"}], \"barpolar\": [{\"marker\": {\"line\": {\"color\": \"rgb(234,234,242)\", \"width\": 0.5}}, \"type\": \"barpolar\"}], \"carpet\": [{\"aaxis\": {\"endlinecolor\": \"rgb(36,36,36)\", \"gridcolor\": \"white\", \"linecolor\": \"white\", \"minorgridcolor\": \"white\", \"startlinecolor\": \"rgb(36,36,36)\"}, \"baxis\": {\"endlinecolor\": \"rgb(36,36,36)\", \"gridcolor\": \"white\", \"linecolor\": \"white\", \"minorgridcolor\": \"white\", \"startlinecolor\": \"rgb(36,36,36)\"}, \"type\": \"carpet\"}], \"choropleth\": [{\"colorbar\": {\"outlinewidth\": 0, \"tickcolor\": \"rgb(36,36,36)\", \"ticklen\": 8, \"ticks\": \"outside\", \"tickwidth\": 2}, \"type\": \"choropleth\"}], \"contour\": [{\"colorbar\": {\"outlinewidth\": 0, \"tickcolor\": \"rgb(36,36,36)\", \"ticklen\": 8, \"ticks\": \"outside\", \"tickwidth\": 2}, \"colorscale\": [[0.0, \"rgb(2,4,25)\"], [0.06274509803921569, \"rgb(24,15,41)\"], [0.12549019607843137, \"rgb(47,23,57)\"], [0.18823529411764706, \"rgb(71,28,72)\"], [0.25098039215686274, \"rgb(97,30,82)\"], [0.3137254901960784, \"rgb(123,30,89)\"], [0.3764705882352941, \"rgb(150,27,91)\"], [0.4392156862745098, \"rgb(177,22,88)\"], [0.5019607843137255, \"rgb(203,26,79)\"], [0.5647058823529412, \"rgb(223,47,67)\"], [0.6274509803921569, \"rgb(236,76,61)\"], [0.6901960784313725, \"rgb(242,107,73)\"], [0.7529411764705882, \"rgb(244,135,95)\"], [0.8156862745098039, \"rgb(245,162,122)\"], [0.8784313725490196, \"rgb(246,188,153)\"], [0.9411764705882353, \"rgb(247,212,187)\"], [1.0, \"rgb(250,234,220)\"]], \"type\": \"contour\"}], \"contourcarpet\": [{\"colorbar\": {\"outlinewidth\": 0, \"tickcolor\": \"rgb(36,36,36)\", \"ticklen\": 8, \"ticks\": \"outside\", \"tickwidth\": 2}, \"type\": \"contourcarpet\"}], \"heatmap\": [{\"colorbar\": {\"outlinewidth\": 0, \"tickcolor\": \"rgb(36,36,36)\", \"ticklen\": 8, \"ticks\": \"outside\", \"tickwidth\": 2}, \"colorscale\": [[0.0, \"rgb(2,4,25)\"], [0.06274509803921569, \"rgb(24,15,41)\"], [0.12549019607843137, \"rgb(47,23,57)\"], [0.18823529411764706, \"rgb(71,28,72)\"], [0.25098039215686274, \"rgb(97,30,82)\"], [0.3137254901960784, \"rgb(123,30,89)\"], [0.3764705882352941, \"rgb(150,27,91)\"], [0.4392156862745098, \"rgb(177,22,88)\"], [0.5019607843137255, \"rgb(203,26,79)\"], [0.5647058823529412, \"rgb(223,47,67)\"], [0.6274509803921569, \"rgb(236,76,61)\"], [0.6901960784313725, \"rgb(242,107,73)\"], [0.7529411764705882, \"rgb(244,135,95)\"], [0.8156862745098039, \"rgb(245,162,122)\"], [0.8784313725490196, \"rgb(246,188,153)\"], [0.9411764705882353, \"rgb(247,212,187)\"], [1.0, \"rgb(250,234,220)\"]], \"type\": \"heatmap\"}], \"heatmapgl\": [{\"colorbar\": {\"outlinewidth\": 0, \"tickcolor\": \"rgb(36,36,36)\", \"ticklen\": 8, \"ticks\": \"outside\", \"tickwidth\": 2}, \"colorscale\": [[0.0, \"rgb(2,4,25)\"], [0.06274509803921569, \"rgb(24,15,41)\"], [0.12549019607843137, \"rgb(47,23,57)\"], [0.18823529411764706, \"rgb(71,28,72)\"], [0.25098039215686274, \"rgb(97,30,82)\"], [0.3137254901960784, \"rgb(123,30,89)\"], [0.3764705882352941, \"rgb(150,27,91)\"], [0.4392156862745098, \"rgb(177,22,88)\"], [0.5019607843137255, \"rgb(203,26,79)\"], [0.5647058823529412, \"rgb(223,47,67)\"], [0.6274509803921569, \"rgb(236,76,61)\"], [0.6901960784313725, \"rgb(242,107,73)\"], [0.7529411764705882, \"rgb(244,135,95)\"], [0.8156862745098039, \"rgb(245,162,122)\"], [0.8784313725490196, \"rgb(246,188,153)\"], [0.9411764705882353, \"rgb(247,212,187)\"], [1.0, \"rgb(250,234,220)\"]], \"type\": \"heatmapgl\"}], \"histogram\": [{\"marker\": {\"colorbar\": {\"outlinewidth\": 0, \"tickcolor\": \"rgb(36,36,36)\", \"ticklen\": 8, \"ticks\": \"outside\", \"tickwidth\": 2}}, \"type\": \"histogram\"}], \"histogram2d\": [{\"colorbar\": {\"outlinewidth\": 0, \"tickcolor\": \"rgb(36,36,36)\", \"ticklen\": 8, \"ticks\": \"outside\", \"tickwidth\": 2}, \"colorscale\": [[0.0, \"rgb(2,4,25)\"], [0.06274509803921569, \"rgb(24,15,41)\"], [0.12549019607843137, \"rgb(47,23,57)\"], [0.18823529411764706, \"rgb(71,28,72)\"], [0.25098039215686274, \"rgb(97,30,82)\"], [0.3137254901960784, \"rgb(123,30,89)\"], [0.3764705882352941, \"rgb(150,27,91)\"], [0.4392156862745098, \"rgb(177,22,88)\"], [0.5019607843137255, \"rgb(203,26,79)\"], [0.5647058823529412, \"rgb(223,47,67)\"], [0.6274509803921569, \"rgb(236,76,61)\"], [0.6901960784313725, \"rgb(242,107,73)\"], [0.7529411764705882, \"rgb(244,135,95)\"], [0.8156862745098039, \"rgb(245,162,122)\"], [0.8784313725490196, \"rgb(246,188,153)\"], [0.9411764705882353, \"rgb(247,212,187)\"], [1.0, \"rgb(250,234,220)\"]], \"type\": \"histogram2d\"}], \"histogram2dcontour\": [{\"colorbar\": {\"outlinewidth\": 0, \"tickcolor\": \"rgb(36,36,36)\", \"ticklen\": 8, \"ticks\": \"outside\", \"tickwidth\": 2}, \"colorscale\": [[0.0, \"rgb(2,4,25)\"], [0.06274509803921569, \"rgb(24,15,41)\"], [0.12549019607843137, \"rgb(47,23,57)\"], [0.18823529411764706, \"rgb(71,28,72)\"], [0.25098039215686274, \"rgb(97,30,82)\"], [0.3137254901960784, \"rgb(123,30,89)\"], [0.3764705882352941, \"rgb(150,27,91)\"], [0.4392156862745098, \"rgb(177,22,88)\"], [0.5019607843137255, \"rgb(203,26,79)\"], [0.5647058823529412, \"rgb(223,47,67)\"], [0.6274509803921569, \"rgb(236,76,61)\"], [0.6901960784313725, \"rgb(242,107,73)\"], [0.7529411764705882, \"rgb(244,135,95)\"], [0.8156862745098039, \"rgb(245,162,122)\"], [0.8784313725490196, \"rgb(246,188,153)\"], [0.9411764705882353, \"rgb(247,212,187)\"], [1.0, \"rgb(250,234,220)\"]], \"type\": \"histogram2dcontour\"}], \"mesh3d\": [{\"colorbar\": {\"outlinewidth\": 0, \"tickcolor\": \"rgb(36,36,36)\", \"ticklen\": 8, \"ticks\": \"outside\", \"tickwidth\": 2}, \"type\": \"mesh3d\"}], \"parcoords\": [{\"line\": {\"colorbar\": {\"outlinewidth\": 0, \"tickcolor\": \"rgb(36,36,36)\", \"ticklen\": 8, \"ticks\": \"outside\", \"tickwidth\": 2}}, \"type\": \"parcoords\"}], \"pie\": [{\"automargin\": true, \"type\": \"pie\"}], \"scatter\": [{\"marker\": {\"colorbar\": {\"outlinewidth\": 0, \"tickcolor\": \"rgb(36,36,36)\", \"ticklen\": 8, \"ticks\": \"outside\", \"tickwidth\": 2}}, \"type\": \"scatter\"}], \"scatter3d\": [{\"line\": {\"colorbar\": {\"outlinewidth\": 0, \"tickcolor\": \"rgb(36,36,36)\", \"ticklen\": 8, \"ticks\": \"outside\", \"tickwidth\": 2}}, \"marker\": {\"colorbar\": {\"outlinewidth\": 0, \"tickcolor\": \"rgb(36,36,36)\", \"ticklen\": 8, \"ticks\": \"outside\", \"tickwidth\": 2}}, \"type\": \"scatter3d\"}], \"scattercarpet\": [{\"marker\": {\"colorbar\": {\"outlinewidth\": 0, \"tickcolor\": \"rgb(36,36,36)\", \"ticklen\": 8, \"ticks\": \"outside\", \"tickwidth\": 2}}, \"type\": \"scattercarpet\"}], \"scattergeo\": [{\"marker\": {\"colorbar\": {\"outlinewidth\": 0, \"tickcolor\": \"rgb(36,36,36)\", \"ticklen\": 8, \"ticks\": \"outside\", \"tickwidth\": 2}}, \"type\": \"scattergeo\"}], \"scattergl\": [{\"marker\": {\"colorbar\": {\"outlinewidth\": 0, \"tickcolor\": \"rgb(36,36,36)\", \"ticklen\": 8, \"ticks\": \"outside\", \"tickwidth\": 2}}, \"type\": \"scattergl\"}], \"scattermapbox\": [{\"marker\": {\"colorbar\": {\"outlinewidth\": 0, \"tickcolor\": \"rgb(36,36,36)\", \"ticklen\": 8, \"ticks\": \"outside\", \"tickwidth\": 2}}, \"type\": \"scattermapbox\"}], \"scatterpolar\": [{\"marker\": {\"colorbar\": {\"outlinewidth\": 0, \"tickcolor\": \"rgb(36,36,36)\", \"ticklen\": 8, \"ticks\": \"outside\", \"tickwidth\": 2}}, \"type\": \"scatterpolar\"}], \"scatterpolargl\": [{\"marker\": {\"colorbar\": {\"outlinewidth\": 0, \"tickcolor\": \"rgb(36,36,36)\", \"ticklen\": 8, \"ticks\": \"outside\", \"tickwidth\": 2}}, \"type\": \"scatterpolargl\"}], \"scatterternary\": [{\"marker\": {\"colorbar\": {\"outlinewidth\": 0, \"tickcolor\": \"rgb(36,36,36)\", \"ticklen\": 8, \"ticks\": \"outside\", \"tickwidth\": 2}}, \"type\": \"scatterternary\"}], \"surface\": [{\"colorbar\": {\"outlinewidth\": 0, \"tickcolor\": \"rgb(36,36,36)\", \"ticklen\": 8, \"ticks\": \"outside\", \"tickwidth\": 2}, \"colorscale\": [[0.0, \"rgb(2,4,25)\"], [0.06274509803921569, \"rgb(24,15,41)\"], [0.12549019607843137, \"rgb(47,23,57)\"], [0.18823529411764706, \"rgb(71,28,72)\"], [0.25098039215686274, \"rgb(97,30,82)\"], [0.3137254901960784, \"rgb(123,30,89)\"], [0.3764705882352941, \"rgb(150,27,91)\"], [0.4392156862745098, \"rgb(177,22,88)\"], [0.5019607843137255, \"rgb(203,26,79)\"], [0.5647058823529412, \"rgb(223,47,67)\"], [0.6274509803921569, \"rgb(236,76,61)\"], [0.6901960784313725, \"rgb(242,107,73)\"], [0.7529411764705882, \"rgb(244,135,95)\"], [0.8156862745098039, \"rgb(245,162,122)\"], [0.8784313725490196, \"rgb(246,188,153)\"], [0.9411764705882353, \"rgb(247,212,187)\"], [1.0, \"rgb(250,234,220)\"]], \"type\": \"surface\"}], \"table\": [{\"cells\": {\"fill\": {\"color\": \"rgb(231,231,240)\"}, \"line\": {\"color\": \"white\"}}, \"header\": {\"fill\": {\"color\": \"rgb(183,183,191)\"}, \"line\": {\"color\": \"white\"}}, \"type\": \"table\"}]}, \"layout\": {\"annotationdefaults\": {\"arrowcolor\": \"rgb(67,103,167)\"}, \"coloraxis\": {\"colorbar\": {\"outlinewidth\": 0, \"tickcolor\": \"rgb(36,36,36)\", \"ticklen\": 8, \"ticks\": \"outside\", \"tickwidth\": 2}}, \"colorscale\": {\"sequential\": [[0.0, \"rgb(2,4,25)\"], [0.06274509803921569, \"rgb(24,15,41)\"], [0.12549019607843137, \"rgb(47,23,57)\"], [0.18823529411764706, \"rgb(71,28,72)\"], [0.25098039215686274, \"rgb(97,30,82)\"], [0.3137254901960784, \"rgb(123,30,89)\"], [0.3764705882352941, \"rgb(150,27,91)\"], [0.4392156862745098, \"rgb(177,22,88)\"], [0.5019607843137255, \"rgb(203,26,79)\"], [0.5647058823529412, \"rgb(223,47,67)\"], [0.6274509803921569, \"rgb(236,76,61)\"], [0.6901960784313725, \"rgb(242,107,73)\"], [0.7529411764705882, \"rgb(244,135,95)\"], [0.8156862745098039, \"rgb(245,162,122)\"], [0.8784313725490196, \"rgb(246,188,153)\"], [0.9411764705882353, \"rgb(247,212,187)\"], [1.0, \"rgb(250,234,220)\"]], \"sequentialminus\": [[0.0, \"rgb(2,4,25)\"], [0.06274509803921569, \"rgb(24,15,41)\"], [0.12549019607843137, \"rgb(47,23,57)\"], [0.18823529411764706, \"rgb(71,28,72)\"], [0.25098039215686274, \"rgb(97,30,82)\"], [0.3137254901960784, \"rgb(123,30,89)\"], [0.3764705882352941, \"rgb(150,27,91)\"], [0.4392156862745098, \"rgb(177,22,88)\"], [0.5019607843137255, \"rgb(203,26,79)\"], [0.5647058823529412, \"rgb(223,47,67)\"], [0.6274509803921569, \"rgb(236,76,61)\"], [0.6901960784313725, \"rgb(242,107,73)\"], [0.7529411764705882, \"rgb(244,135,95)\"], [0.8156862745098039, \"rgb(245,162,122)\"], [0.8784313725490196, \"rgb(246,188,153)\"], [0.9411764705882353, \"rgb(247,212,187)\"], [1.0, \"rgb(250,234,220)\"]]}, \"colorway\": [\"rgb(76,114,176)\", \"rgb(221,132,82)\", \"rgb(85,168,104)\", \"rgb(196,78,82)\", \"rgb(129,114,179)\", \"rgb(147,120,96)\", \"rgb(218,139,195)\", \"rgb(140,140,140)\", \"rgb(204,185,116)\", \"rgb(100,181,205)\"], \"font\": {\"color\": \"rgb(36,36,36)\"}, \"geo\": {\"bgcolor\": \"white\", \"lakecolor\": \"white\", \"landcolor\": \"rgb(234,234,242)\", \"showlakes\": true, \"showland\": true, \"subunitcolor\": \"white\"}, \"hoverlabel\": {\"align\": \"left\"}, \"hovermode\": \"closest\", \"paper_bgcolor\": \"white\", \"plot_bgcolor\": \"rgb(234,234,242)\", \"polar\": {\"angularaxis\": {\"gridcolor\": \"white\", \"linecolor\": \"white\", \"showgrid\": true, \"ticks\": \"\"}, \"bgcolor\": \"rgb(234,234,242)\", \"radialaxis\": {\"gridcolor\": \"white\", \"linecolor\": \"white\", \"showgrid\": true, \"ticks\": \"\"}}, \"scene\": {\"xaxis\": {\"backgroundcolor\": \"rgb(234,234,242)\", \"gridcolor\": \"white\", \"gridwidth\": 2, \"linecolor\": \"white\", \"showbackground\": true, \"showgrid\": true, \"ticks\": \"\", \"zerolinecolor\": \"white\"}, \"yaxis\": {\"backgroundcolor\": \"rgb(234,234,242)\", \"gridcolor\": \"white\", \"gridwidth\": 2, \"linecolor\": \"white\", \"showbackground\": true, \"showgrid\": true, \"ticks\": \"\", \"zerolinecolor\": \"white\"}, \"zaxis\": {\"backgroundcolor\": \"rgb(234,234,242)\", \"gridcolor\": \"white\", \"gridwidth\": 2, \"linecolor\": \"white\", \"showbackground\": true, \"showgrid\": true, \"ticks\": \"\", \"zerolinecolor\": \"white\"}}, \"shapedefaults\": {\"fillcolor\": \"rgb(67,103,167)\", \"line\": {\"width\": 0}, \"opacity\": 0.5}, \"ternary\": {\"aaxis\": {\"gridcolor\": \"white\", \"linecolor\": \"white\", \"showgrid\": true, \"ticks\": \"\"}, \"baxis\": {\"gridcolor\": \"white\", \"linecolor\": \"white\", \"showgrid\": true, \"ticks\": \"\"}, \"bgcolor\": \"rgb(234,234,242)\", \"caxis\": {\"gridcolor\": \"white\", \"linecolor\": \"white\", \"showgrid\": true, \"ticks\": \"\"}}, \"xaxis\": {\"automargin\": true, \"gridcolor\": \"white\", \"linecolor\": \"white\", \"showgrid\": true, \"ticks\": \"\", \"title\": {\"standoff\": 15}, \"zerolinecolor\": \"white\"}, \"yaxis\": {\"automargin\": true, \"gridcolor\": \"white\", \"linecolor\": \"white\", \"showgrid\": true, \"ticks\": \"\", \"title\": {\"standoff\": 15}, \"zerolinecolor\": \"white\"}}}, \"title\": {\"text\": \"Is work back to normal?\"}, \"width\": 1300, \"xaxis\": {\"range\": [\"2020-02-16T00:00:00\", \"2020-08-02T00:00:00\"]}},\n",
              "                        {\"responsive\": true}\n",
              "                    ).then(function(){\n",
              "                            \n",
              "var gd = document.getElementById('f89737b2-d8ce-48ca-94cf-a866dafb71e9');\n",
              "var x = new MutationObserver(function (mutations, observer) {{\n",
              "        var display = window.getComputedStyle(gd).display;\n",
              "        if (!display || display === 'none') {{\n",
              "            console.log([gd, 'removed!']);\n",
              "            Plotly.purge(gd);\n",
              "            observer.disconnect();\n",
              "        }}\n",
              "}});\n",
              "\n",
              "// Listen for the removal of the full notebook cells\n",
              "var notebookContainer = gd.closest('#notebook-container');\n",
              "if (notebookContainer) {{\n",
              "    x.observe(notebookContainer, {childList: true});\n",
              "}}\n",
              "\n",
              "// Listen for the clearing of the current output cell\n",
              "var outputEl = gd.closest('.output');\n",
              "if (outputEl) {{\n",
              "    x.observe(outputEl, {childList: true});\n",
              "}}\n",
              "\n",
              "                        })\n",
              "                };\n",
              "                \n",
              "            </script>\n",
              "        </div>\n",
              "</body>\n",
              "</html>"
            ]
          },
          "metadata": {
            "tags": []
          }
        }
      ]
    },
    {
      "cell_type": "markdown",
      "metadata": {
        "id": "QQIz_AS0WnQN",
        "colab_type": "text"
      },
      "source": [
        "Are people still going to recreational facilities"
      ]
    },
    {
      "cell_type": "code",
      "metadata": {
        "id": "Ml6Q0FuyWlHK",
        "colab_type": "code",
        "colab": {
          "base_uri": "https://localhost:8080/",
          "height": 617
        },
        "outputId": "e2b2fbdf-ecc7-4369-d419-b898261e0706"
      },
      "source": [
        "fig = go.Figure()\n",
        "fig.add_trace(go.Scatter(\n",
        "    x=[lockdown1,lockdown2,lockdown3,lockdown4,unlock1,unlock2],\n",
        "    y=[39,39,39,39,39,39],\n",
        "    text=[\"Lockdown 1\",\"Lockdown 2\",\"Lockdown 3\", \"Lockdown 4\", \"Unlock 1\", \"Unlock 2\"],\n",
        "    mode=\"text\",\n",
        "))\n",
        "fig.add_trace(go.Scatter(x=df_india_AP.index, y=df_india_AP[\"Recreation\"],\n",
        "                    mode='lines+markers',\n",
        "                    name=\"AP\",\n",
        "                    ))\n",
        "fig.add_trace(go.Scatter(x=df_india_Telangana.index, y=df_india_Telangana[\"Recreation\"],\n",
        "                    mode='lines+markers',\n",
        "                    name=\"Telangana\",\n",
        "                    ))\n",
        "fig.update_layout(xaxis=dict(range=[mindate,maxdate]))\n",
        "fig.update_layout(\n",
        "    title= \"Are people still going to Recreational Facilities?\",\n",
        "    width=1300,\n",
        "    height=600,\n",
        "    shapes=[\n",
        "        dict(\n",
        "            type=\"line\",\n",
        "            x0=mindate,\n",
        "            y0=0,\n",
        "            x1=maxdate,\n",
        "            y1=0,\n",
        "            line_width=2,\n",
        "            line = dict(\n",
        "                dash = \"dot\"\n",
        "            )\n",
        "        ),\n",
        "        dict(\n",
        "            type=\"line\",\n",
        "            y0=-100,\n",
        "            x0= lockdown1,\n",
        "            y1=37,\n",
        "            x1=lockdown1,\n",
        "            line_width=2,\n",
        "            line = dict(\n",
        "                dash = \"dot\"\n",
        "            )\n",
        "        ),\n",
        "        dict(\n",
        "            type=\"line\",\n",
        "            y0=-100,\n",
        "            x0= lockdown2,\n",
        "            y1=37,\n",
        "            x1=lockdown2,\n",
        "            line_width=2,\n",
        "            line = dict(\n",
        "                dash = \"dot\"\n",
        "            )\n",
        "        ),\n",
        "        dict(\n",
        "            type=\"line\",\n",
        "            y0=-100,\n",
        "            x0= lockdown3,\n",
        "            y1=37,\n",
        "            x1=lockdown3,\n",
        "            line_width=2,\n",
        "            line = dict(\n",
        "                dash = \"dot\"\n",
        "            )\n",
        "        ),\n",
        "        dict(\n",
        "            type=\"line\",\n",
        "            y0=-100,\n",
        "            x0= lockdown4,\n",
        "            y1=37,\n",
        "            x1=lockdown4,\n",
        "            line_width=2,\n",
        "            line = dict(\n",
        "                dash = \"dot\"\n",
        "            )\n",
        "        ),\n",
        "        dict(\n",
        "            type=\"line\",\n",
        "            y0=-100,\n",
        "            x0= unlock1,\n",
        "            y1=37,\n",
        "            x1=unlock1,\n",
        "            line_width=2,\n",
        "            line = dict(\n",
        "                dash = \"dot\"\n",
        "            )\n",
        "        ),\n",
        "        dict(\n",
        "            type=\"line\",\n",
        "            y0=-100,\n",
        "            x0= unlock2,\n",
        "            y1=37,\n",
        "            x1=unlock2,\n",
        "            line_width=2,\n",
        "            line = dict(\n",
        "                dash = \"dot\"\n",
        "            )\n",
        "        )\n",
        "    ]\n",
        ")\n",
        "\n",
        "fig.show()\n"
      ],
      "execution_count": 35,
      "outputs": [
        {
          "output_type": "display_data",
          "data": {
            "text/html": [
              "<html>\n",
              "<head><meta charset=\"utf-8\" /></head>\n",
              "<body>\n",
              "    <div>\n",
              "            <script src=\"https://cdnjs.cloudflare.com/ajax/libs/mathjax/2.7.5/MathJax.js?config=TeX-AMS-MML_SVG\"></script><script type=\"text/javascript\">if (window.MathJax) {MathJax.Hub.Config({SVG: {font: \"STIX-Web\"}});}</script>\n",
              "                <script type=\"text/javascript\">window.PlotlyConfig = {MathJaxConfig: 'local'};</script>\n",
              "        <script src=\"https://cdn.plot.ly/plotly-latest.min.js\"></script>    \n",
              "            <div id=\"59f7d8c4-dae9-4271-9ee2-d8de13b212b4\" class=\"plotly-graph-div\" style=\"height:600px; width:1300px;\"></div>\n",
              "            <script type=\"text/javascript\">\n",
              "                \n",
              "                    window.PLOTLYENV=window.PLOTLYENV || {};\n",
              "                    \n",
              "                if (document.getElementById(\"59f7d8c4-dae9-4271-9ee2-d8de13b212b4\")) {\n",
              "                    Plotly.newPlot(\n",
              "                        '59f7d8c4-dae9-4271-9ee2-d8de13b212b4',\n",
              "                        [{\"mode\": \"text\", \"text\": [\"Lockdown 1\", \"Lockdown 2\", \"Lockdown 3\", \"Lockdown 4\", \"Unlock 1\", \"Unlock 2\"], \"type\": \"scatter\", \"x\": [\"2020-03-22T00:00:00\", \"2020-04-15T00:00:00\", \"2020-05-04T00:00:00\", \"2020-05-18T00:00:00\", \"2020-06-01T00:00:00\", \"2020-07-01T00:00:00\"], \"y\": [39, 39, 39, 39, 39, 39]}, {\"mode\": \"lines+markers\", \"name\": \"AP\", \"type\": \"scatter\", \"x\": [\"2020-02-16T00:00:00\", \"2020-02-23T00:00:00\", \"2020-03-01T00:00:00\", \"2020-03-08T00:00:00\", \"2020-03-15T00:00:00\", \"2020-03-22T00:00:00\", \"2020-03-29T00:00:00\", \"2020-04-05T00:00:00\", \"2020-04-12T00:00:00\", \"2020-04-19T00:00:00\", \"2020-04-26T00:00:00\", \"2020-05-03T00:00:00\", \"2020-05-10T00:00:00\", \"2020-05-17T00:00:00\", \"2020-05-24T00:00:00\", \"2020-05-31T00:00:00\", \"2020-06-07T00:00:00\", \"2020-06-14T00:00:00\", \"2020-06-21T00:00:00\", \"2020-06-28T00:00:00\", \"2020-07-05T00:00:00\", \"2020-07-12T00:00:00\", \"2020-07-19T00:00:00\", \"2020-07-26T00:00:00\", \"2020-08-02T00:00:00\"], \"y\": [-1.0, -1.7142857142857142, 0.2857142857142857, 0.0, -2.4285714285714284, -17.0, -69.85714285714286, -73.28571428571429, -77.28571428571429, -81.71428571428571, -85.42857142857143, -85.0, -79.57142857142857, -77.85714285714286, -73.42857142857143, -67.57142857142857, -60.57142857142857, -55.285714285714285, -55.285714285714285, -56.142857142857146, -55.857142857142854, -56.57142857142857, -60.57142857142857, -62.714285714285715, -60.4]}, {\"mode\": \"lines+markers\", \"name\": \"Telangana\", \"type\": \"scatter\", \"x\": [\"2020-02-16T00:00:00\", \"2020-02-23T00:00:00\", \"2020-03-01T00:00:00\", \"2020-03-08T00:00:00\", \"2020-03-15T00:00:00\", \"2020-03-22T00:00:00\", \"2020-03-29T00:00:00\", \"2020-04-05T00:00:00\", \"2020-04-12T00:00:00\", \"2020-04-19T00:00:00\", \"2020-04-26T00:00:00\", \"2020-05-03T00:00:00\", \"2020-05-10T00:00:00\", \"2020-05-17T00:00:00\", \"2020-05-24T00:00:00\", \"2020-05-31T00:00:00\", \"2020-06-07T00:00:00\", \"2020-06-14T00:00:00\", \"2020-06-21T00:00:00\", \"2020-06-28T00:00:00\", \"2020-07-05T00:00:00\", \"2020-07-12T00:00:00\", \"2020-07-19T00:00:00\", \"2020-07-26T00:00:00\", \"2020-08-02T00:00:00\"], \"y\": [1.5, -1.1428571428571428, 2.7142857142857144, -0.2857142857142857, -3.857142857142857, -25.0, -80.0, -81.57142857142857, -84.0, -87.0, -90.0, -89.0, -85.0, -82.71428571428571, -76.57142857142857, -73.28571428571429, -65.42857142857143, -59.57142857142857, -60.857142857142854, -59.857142857142854, -60.857142857142854, -61.57142857142857, -62.285714285714285, -62.142857142857146, -59.0]}],\n",
              "                        {\"height\": 600, \"shapes\": [{\"line\": {\"dash\": \"dot\", \"width\": 2}, \"type\": \"line\", \"x0\": \"2020-02-16T00:00:00\", \"x1\": \"2020-08-02T00:00:00\", \"y0\": 0, \"y1\": 0}, {\"line\": {\"dash\": \"dot\", \"width\": 2}, \"type\": \"line\", \"x0\": \"2020-03-22T00:00:00\", \"x1\": \"2020-03-22T00:00:00\", \"y0\": -100, \"y1\": 37}, {\"line\": {\"dash\": \"dot\", \"width\": 2}, \"type\": \"line\", \"x0\": \"2020-04-15T00:00:00\", \"x1\": \"2020-04-15T00:00:00\", \"y0\": -100, \"y1\": 37}, {\"line\": {\"dash\": \"dot\", \"width\": 2}, \"type\": \"line\", \"x0\": \"2020-05-04T00:00:00\", \"x1\": \"2020-05-04T00:00:00\", \"y0\": -100, \"y1\": 37}, {\"line\": {\"dash\": \"dot\", \"width\": 2}, \"type\": \"line\", \"x0\": \"2020-05-18T00:00:00\", \"x1\": \"2020-05-18T00:00:00\", \"y0\": -100, \"y1\": 37}, {\"line\": {\"dash\": \"dot\", \"width\": 2}, \"type\": \"line\", \"x0\": \"2020-06-01T00:00:00\", \"x1\": \"2020-06-01T00:00:00\", \"y0\": -100, \"y1\": 37}, {\"line\": {\"dash\": \"dot\", \"width\": 2}, \"type\": \"line\", \"x0\": \"2020-07-01T00:00:00\", \"x1\": \"2020-07-01T00:00:00\", \"y0\": -100, \"y1\": 37}], \"template\": {\"data\": {\"bar\": [{\"error_x\": {\"color\": \"#2a3f5f\"}, \"error_y\": {\"color\": \"#2a3f5f\"}, \"marker\": {\"line\": {\"color\": \"#E5ECF6\", \"width\": 0.5}}, \"type\": \"bar\"}], \"barpolar\": [{\"marker\": {\"line\": {\"color\": \"#E5ECF6\", \"width\": 0.5}}, \"type\": \"barpolar\"}], \"carpet\": [{\"aaxis\": {\"endlinecolor\": \"#2a3f5f\", \"gridcolor\": \"white\", \"linecolor\": \"white\", \"minorgridcolor\": \"white\", \"startlinecolor\": \"#2a3f5f\"}, \"baxis\": {\"endlinecolor\": \"#2a3f5f\", \"gridcolor\": \"white\", \"linecolor\": \"white\", \"minorgridcolor\": \"white\", \"startlinecolor\": \"#2a3f5f\"}, \"type\": \"carpet\"}], \"choropleth\": [{\"colorbar\": {\"outlinewidth\": 0, \"ticks\": \"\"}, \"type\": \"choropleth\"}], \"contour\": [{\"colorbar\": {\"outlinewidth\": 0, \"ticks\": \"\"}, \"colorscale\": [[0.0, \"#0d0887\"], [0.1111111111111111, \"#46039f\"], [0.2222222222222222, \"#7201a8\"], [0.3333333333333333, \"#9c179e\"], [0.4444444444444444, \"#bd3786\"], [0.5555555555555556, \"#d8576b\"], [0.6666666666666666, \"#ed7953\"], [0.7777777777777778, \"#fb9f3a\"], [0.8888888888888888, \"#fdca26\"], [1.0, \"#f0f921\"]], \"type\": \"contour\"}], \"contourcarpet\": [{\"colorbar\": {\"outlinewidth\": 0, \"ticks\": \"\"}, \"type\": \"contourcarpet\"}], \"heatmap\": [{\"colorbar\": {\"outlinewidth\": 0, \"ticks\": \"\"}, \"colorscale\": [[0.0, \"#0d0887\"], [0.1111111111111111, \"#46039f\"], [0.2222222222222222, \"#7201a8\"], [0.3333333333333333, \"#9c179e\"], [0.4444444444444444, \"#bd3786\"], [0.5555555555555556, \"#d8576b\"], [0.6666666666666666, \"#ed7953\"], [0.7777777777777778, \"#fb9f3a\"], [0.8888888888888888, \"#fdca26\"], [1.0, \"#f0f921\"]], \"type\": \"heatmap\"}], \"heatmapgl\": [{\"colorbar\": {\"outlinewidth\": 0, \"ticks\": \"\"}, \"colorscale\": [[0.0, \"#0d0887\"], [0.1111111111111111, \"#46039f\"], [0.2222222222222222, \"#7201a8\"], [0.3333333333333333, \"#9c179e\"], [0.4444444444444444, \"#bd3786\"], [0.5555555555555556, \"#d8576b\"], [0.6666666666666666, \"#ed7953\"], [0.7777777777777778, \"#fb9f3a\"], [0.8888888888888888, \"#fdca26\"], [1.0, \"#f0f921\"]], \"type\": \"heatmapgl\"}], \"histogram\": [{\"marker\": {\"colorbar\": {\"outlinewidth\": 0, \"ticks\": \"\"}}, \"type\": \"histogram\"}], \"histogram2d\": [{\"colorbar\": {\"outlinewidth\": 0, \"ticks\": \"\"}, \"colorscale\": [[0.0, \"#0d0887\"], [0.1111111111111111, \"#46039f\"], [0.2222222222222222, \"#7201a8\"], [0.3333333333333333, \"#9c179e\"], [0.4444444444444444, \"#bd3786\"], [0.5555555555555556, \"#d8576b\"], [0.6666666666666666, \"#ed7953\"], [0.7777777777777778, \"#fb9f3a\"], [0.8888888888888888, \"#fdca26\"], [1.0, \"#f0f921\"]], \"type\": \"histogram2d\"}], \"histogram2dcontour\": [{\"colorbar\": {\"outlinewidth\": 0, \"ticks\": \"\"}, \"colorscale\": [[0.0, \"#0d0887\"], [0.1111111111111111, \"#46039f\"], [0.2222222222222222, \"#7201a8\"], [0.3333333333333333, \"#9c179e\"], [0.4444444444444444, \"#bd3786\"], [0.5555555555555556, \"#d8576b\"], [0.6666666666666666, \"#ed7953\"], [0.7777777777777778, \"#fb9f3a\"], [0.8888888888888888, \"#fdca26\"], [1.0, \"#f0f921\"]], \"type\": \"histogram2dcontour\"}], \"mesh3d\": [{\"colorbar\": {\"outlinewidth\": 0, \"ticks\": \"\"}, \"type\": \"mesh3d\"}], \"parcoords\": [{\"line\": {\"colorbar\": {\"outlinewidth\": 0, \"ticks\": \"\"}}, \"type\": \"parcoords\"}], \"pie\": [{\"automargin\": true, \"type\": \"pie\"}], \"scatter\": [{\"marker\": {\"colorbar\": {\"outlinewidth\": 0, \"ticks\": \"\"}}, \"type\": \"scatter\"}], \"scatter3d\": [{\"line\": {\"colorbar\": {\"outlinewidth\": 0, \"ticks\": \"\"}}, \"marker\": {\"colorbar\": {\"outlinewidth\": 0, \"ticks\": \"\"}}, \"type\": \"scatter3d\"}], \"scattercarpet\": [{\"marker\": {\"colorbar\": {\"outlinewidth\": 0, \"ticks\": \"\"}}, \"type\": \"scattercarpet\"}], \"scattergeo\": [{\"marker\": {\"colorbar\": {\"outlinewidth\": 0, \"ticks\": \"\"}}, \"type\": \"scattergeo\"}], \"scattergl\": [{\"marker\": {\"colorbar\": {\"outlinewidth\": 0, \"ticks\": \"\"}}, \"type\": \"scattergl\"}], \"scattermapbox\": [{\"marker\": {\"colorbar\": {\"outlinewidth\": 0, \"ticks\": \"\"}}, \"type\": \"scattermapbox\"}], \"scatterpolar\": [{\"marker\": {\"colorbar\": {\"outlinewidth\": 0, \"ticks\": \"\"}}, \"type\": \"scatterpolar\"}], \"scatterpolargl\": [{\"marker\": {\"colorbar\": {\"outlinewidth\": 0, \"ticks\": \"\"}}, \"type\": \"scatterpolargl\"}], \"scatterternary\": [{\"marker\": {\"colorbar\": {\"outlinewidth\": 0, \"ticks\": \"\"}}, \"type\": \"scatterternary\"}], \"surface\": [{\"colorbar\": {\"outlinewidth\": 0, \"ticks\": \"\"}, \"colorscale\": [[0.0, \"#0d0887\"], [0.1111111111111111, \"#46039f\"], [0.2222222222222222, \"#7201a8\"], [0.3333333333333333, \"#9c179e\"], [0.4444444444444444, \"#bd3786\"], [0.5555555555555556, \"#d8576b\"], [0.6666666666666666, \"#ed7953\"], [0.7777777777777778, \"#fb9f3a\"], [0.8888888888888888, \"#fdca26\"], [1.0, \"#f0f921\"]], \"type\": \"surface\"}], \"table\": [{\"cells\": {\"fill\": {\"color\": \"#EBF0F8\"}, \"line\": {\"color\": \"white\"}}, \"header\": {\"fill\": {\"color\": \"#C8D4E3\"}, \"line\": {\"color\": \"white\"}}, \"type\": \"table\"}]}, \"layout\": {\"annotationdefaults\": {\"arrowcolor\": \"#2a3f5f\", \"arrowhead\": 0, \"arrowwidth\": 1}, \"coloraxis\": {\"colorbar\": {\"outlinewidth\": 0, \"ticks\": \"\"}}, \"colorscale\": {\"diverging\": [[0, \"#8e0152\"], [0.1, \"#c51b7d\"], [0.2, \"#de77ae\"], [0.3, \"#f1b6da\"], [0.4, \"#fde0ef\"], [0.5, \"#f7f7f7\"], [0.6, \"#e6f5d0\"], [0.7, \"#b8e186\"], [0.8, \"#7fbc41\"], [0.9, \"#4d9221\"], [1, \"#276419\"]], \"sequential\": [[0.0, \"#0d0887\"], [0.1111111111111111, \"#46039f\"], [0.2222222222222222, \"#7201a8\"], [0.3333333333333333, \"#9c179e\"], [0.4444444444444444, \"#bd3786\"], [0.5555555555555556, \"#d8576b\"], [0.6666666666666666, \"#ed7953\"], [0.7777777777777778, \"#fb9f3a\"], [0.8888888888888888, \"#fdca26\"], [1.0, \"#f0f921\"]], \"sequentialminus\": [[0.0, \"#0d0887\"], [0.1111111111111111, \"#46039f\"], [0.2222222222222222, \"#7201a8\"], [0.3333333333333333, \"#9c179e\"], [0.4444444444444444, \"#bd3786\"], [0.5555555555555556, \"#d8576b\"], [0.6666666666666666, \"#ed7953\"], [0.7777777777777778, \"#fb9f3a\"], [0.8888888888888888, \"#fdca26\"], [1.0, \"#f0f921\"]]}, \"colorway\": [\"#636efa\", \"#EF553B\", \"#00cc96\", \"#ab63fa\", \"#FFA15A\", \"#19d3f3\", \"#FF6692\", \"#B6E880\", \"#FF97FF\", \"#FECB52\"], \"font\": {\"color\": \"#2a3f5f\"}, \"geo\": {\"bgcolor\": \"white\", \"lakecolor\": \"white\", \"landcolor\": \"#E5ECF6\", \"showlakes\": true, \"showland\": true, \"subunitcolor\": \"white\"}, \"hoverlabel\": {\"align\": \"left\"}, \"hovermode\": \"closest\", \"mapbox\": {\"style\": \"light\"}, \"paper_bgcolor\": \"white\", \"plot_bgcolor\": \"#E5ECF6\", \"polar\": {\"angularaxis\": {\"gridcolor\": \"white\", \"linecolor\": \"white\", \"ticks\": \"\"}, \"bgcolor\": \"#E5ECF6\", \"radialaxis\": {\"gridcolor\": \"white\", \"linecolor\": \"white\", \"ticks\": \"\"}}, \"scene\": {\"xaxis\": {\"backgroundcolor\": \"#E5ECF6\", \"gridcolor\": \"white\", \"gridwidth\": 2, \"linecolor\": \"white\", \"showbackground\": true, \"ticks\": \"\", \"zerolinecolor\": \"white\"}, \"yaxis\": {\"backgroundcolor\": \"#E5ECF6\", \"gridcolor\": \"white\", \"gridwidth\": 2, \"linecolor\": \"white\", \"showbackground\": true, \"ticks\": \"\", \"zerolinecolor\": \"white\"}, \"zaxis\": {\"backgroundcolor\": \"#E5ECF6\", \"gridcolor\": \"white\", \"gridwidth\": 2, \"linecolor\": \"white\", \"showbackground\": true, \"ticks\": \"\", \"zerolinecolor\": \"white\"}}, \"shapedefaults\": {\"line\": {\"color\": \"#2a3f5f\"}}, \"ternary\": {\"aaxis\": {\"gridcolor\": \"white\", \"linecolor\": \"white\", \"ticks\": \"\"}, \"baxis\": {\"gridcolor\": \"white\", \"linecolor\": \"white\", \"ticks\": \"\"}, \"bgcolor\": \"#E5ECF6\", \"caxis\": {\"gridcolor\": \"white\", \"linecolor\": \"white\", \"ticks\": \"\"}}, \"title\": {\"x\": 0.05}, \"xaxis\": {\"automargin\": true, \"gridcolor\": \"white\", \"linecolor\": \"white\", \"ticks\": \"\", \"title\": {\"standoff\": 15}, \"zerolinecolor\": \"white\", \"zerolinewidth\": 2}, \"yaxis\": {\"automargin\": true, \"gridcolor\": \"white\", \"linecolor\": \"white\", \"ticks\": \"\", \"title\": {\"standoff\": 15}, \"zerolinecolor\": \"white\", \"zerolinewidth\": 2}}}, \"title\": {\"text\": \"Are people still going to Recreational Facilities?\"}, \"width\": 1300, \"xaxis\": {\"range\": [\"2020-02-16T00:00:00\", \"2020-08-02T00:00:00\"]}},\n",
              "                        {\"responsive\": true}\n",
              "                    ).then(function(){\n",
              "                            \n",
              "var gd = document.getElementById('59f7d8c4-dae9-4271-9ee2-d8de13b212b4');\n",
              "var x = new MutationObserver(function (mutations, observer) {{\n",
              "        var display = window.getComputedStyle(gd).display;\n",
              "        if (!display || display === 'none') {{\n",
              "            console.log([gd, 'removed!']);\n",
              "            Plotly.purge(gd);\n",
              "            observer.disconnect();\n",
              "        }}\n",
              "}});\n",
              "\n",
              "// Listen for the removal of the full notebook cells\n",
              "var notebookContainer = gd.closest('#notebook-container');\n",
              "if (notebookContainer) {{\n",
              "    x.observe(notebookContainer, {childList: true});\n",
              "}}\n",
              "\n",
              "// Listen for the clearing of the current output cell\n",
              "var outputEl = gd.closest('.output');\n",
              "if (outputEl) {{\n",
              "    x.observe(outputEl, {childList: true});\n",
              "}}\n",
              "\n",
              "                        })\n",
              "                };\n",
              "                \n",
              "            </script>\n",
              "        </div>\n",
              "</body>\n",
              "</html>"
            ]
          },
          "metadata": {
            "tags": []
          }
        }
      ]
    },
    {
      "cell_type": "markdown",
      "metadata": {
        "id": "IFCPaRfnWrWN",
        "colab_type": "text"
      },
      "source": [
        "How about Parks?"
      ]
    },
    {
      "cell_type": "code",
      "metadata": {
        "id": "rPEZs_EyWpo4",
        "colab_type": "code",
        "colab": {
          "base_uri": "https://localhost:8080/",
          "height": 617
        },
        "outputId": "6aaa35ce-423d-4464-b987-32410d4e5ce7"
      },
      "source": [
        "fig = go.Figure()\n",
        "fig.add_trace(go.Scatter(\n",
        "    x=[lockdown1,lockdown2,lockdown3,lockdown4,unlock1,unlock2],\n",
        "    y=[39,39,39,39,39,39],\n",
        "    text=[\"Lockdown 1\",\"Lockdown 2\",\"Lockdown 3\", \"Lockdown 4\", \"Unlock 1\", \"Unlock 2\"],\n",
        "    mode=\"text\",\n",
        "))\n",
        "fig.add_trace(go.Scatter(x=df_india_AP.index, y=df_india_AP[\"Parks\"],\n",
        "                    mode='lines+markers',\n",
        "                    name=\"AP\",\n",
        "                    ))\n",
        "fig.add_trace(go.Scatter(x=df_india_Telangana.index, y=df_india_Telangana[\"Parks\"],\n",
        "                    mode='lines+markers',\n",
        "                    name=\"Telangana\",\n",
        "                    ))\n",
        "fig.update_layout(xaxis=dict(range=[mindate,maxdate]))\n",
        "fig.update_layout(\n",
        "    title= \"How about Parks?\",\n",
        "    width=1300,\n",
        "    height=600,\n",
        "    shapes=[\n",
        "        dict(\n",
        "            type=\"line\",\n",
        "            x0=mindate,\n",
        "            y0=0,\n",
        "            x1=maxdate,\n",
        "            y1=0,\n",
        "            line_width=2,\n",
        "            line = dict(\n",
        "                dash = \"dot\"\n",
        "            )\n",
        "        ),\n",
        "        dict(\n",
        "            type=\"line\",\n",
        "            y0=-100,\n",
        "            x0= lockdown1,\n",
        "            y1=37,\n",
        "            x1=lockdown1,\n",
        "            line_width=2,\n",
        "            line = dict(\n",
        "                dash = \"dot\"\n",
        "            )\n",
        "        ),\n",
        "        dict(\n",
        "            type=\"line\",\n",
        "            y0=-100,\n",
        "            x0= lockdown2,\n",
        "            y1=37,\n",
        "            x1=lockdown2,\n",
        "            line_width=2,\n",
        "            line = dict(\n",
        "                dash = \"dot\"\n",
        "            )\n",
        "        ),\n",
        "        dict(\n",
        "            type=\"line\",\n",
        "            y0=-100,\n",
        "            x0= lockdown3,\n",
        "            y1=37,\n",
        "            x1=lockdown3,\n",
        "            line_width=2,\n",
        "            line = dict(\n",
        "                dash = \"dot\"\n",
        "            )\n",
        "        ),\n",
        "        dict(\n",
        "            type=\"line\",\n",
        "            y0=-100,\n",
        "            x0= lockdown4,\n",
        "            y1=37,\n",
        "            x1=lockdown4,\n",
        "            line_width=2,\n",
        "            line = dict(\n",
        "                dash = \"dot\"\n",
        "            )\n",
        "        ),\n",
        "        dict(\n",
        "            type=\"line\",\n",
        "            y0=-100,\n",
        "            x0= unlock1,\n",
        "            y1=37,\n",
        "            x1=unlock1,\n",
        "            line_width=2,\n",
        "            line = dict(\n",
        "                dash = \"dot\"\n",
        "            )\n",
        "        ),\n",
        "        dict(\n",
        "            type=\"line\",\n",
        "            y0=-100,\n",
        "            x0= unlock2,\n",
        "            y1=37,\n",
        "            x1=unlock2,\n",
        "            line_width=2,\n",
        "            line = dict(\n",
        "                dash = \"dot\"\n",
        "            )\n",
        "        )\n",
        "    ]\n",
        ")\n",
        "\n",
        "fig.show()"
      ],
      "execution_count": 36,
      "outputs": [
        {
          "output_type": "display_data",
          "data": {
            "text/html": [
              "<html>\n",
              "<head><meta charset=\"utf-8\" /></head>\n",
              "<body>\n",
              "    <div>\n",
              "            <script src=\"https://cdnjs.cloudflare.com/ajax/libs/mathjax/2.7.5/MathJax.js?config=TeX-AMS-MML_SVG\"></script><script type=\"text/javascript\">if (window.MathJax) {MathJax.Hub.Config({SVG: {font: \"STIX-Web\"}});}</script>\n",
              "                <script type=\"text/javascript\">window.PlotlyConfig = {MathJaxConfig: 'local'};</script>\n",
              "        <script src=\"https://cdn.plot.ly/plotly-latest.min.js\"></script>    \n",
              "            <div id=\"f76e3314-42f7-46fd-95b6-bf6321e8f61f\" class=\"plotly-graph-div\" style=\"height:600px; width:1300px;\"></div>\n",
              "            <script type=\"text/javascript\">\n",
              "                \n",
              "                    window.PLOTLYENV=window.PLOTLYENV || {};\n",
              "                    \n",
              "                if (document.getElementById(\"f76e3314-42f7-46fd-95b6-bf6321e8f61f\")) {\n",
              "                    Plotly.newPlot(\n",
              "                        'f76e3314-42f7-46fd-95b6-bf6321e8f61f',\n",
              "                        [{\"mode\": \"text\", \"text\": [\"Lockdown 1\", \"Lockdown 2\", \"Lockdown 3\", \"Lockdown 4\", \"Unlock 1\", \"Unlock 2\"], \"type\": \"scatter\", \"x\": [\"2020-03-22T00:00:00\", \"2020-04-15T00:00:00\", \"2020-05-04T00:00:00\", \"2020-05-18T00:00:00\", \"2020-06-01T00:00:00\", \"2020-07-01T00:00:00\"], \"y\": [39, 39, 39, 39, 39, 39]}, {\"mode\": \"lines+markers\", \"name\": \"AP\", \"type\": \"scatter\", \"x\": [\"2020-02-16T00:00:00\", \"2020-02-23T00:00:00\", \"2020-03-01T00:00:00\", \"2020-03-08T00:00:00\", \"2020-03-15T00:00:00\", \"2020-03-22T00:00:00\", \"2020-03-29T00:00:00\", \"2020-04-05T00:00:00\", \"2020-04-12T00:00:00\", \"2020-04-19T00:00:00\", \"2020-04-26T00:00:00\", \"2020-05-03T00:00:00\", \"2020-05-10T00:00:00\", \"2020-05-17T00:00:00\", \"2020-05-24T00:00:00\", \"2020-05-31T00:00:00\", \"2020-06-07T00:00:00\", \"2020-06-14T00:00:00\", \"2020-06-21T00:00:00\", \"2020-06-28T00:00:00\", \"2020-07-05T00:00:00\", \"2020-07-12T00:00:00\", \"2020-07-19T00:00:00\", \"2020-07-26T00:00:00\", \"2020-08-02T00:00:00\"], \"y\": [4.5, 7.0, 4.285714285714286, 5.0, 4.571428571428571, -7.857142857142857, -43.142857142857146, -45.42857142857143, -44.714285714285715, -53.142857142857146, -61.42857142857143, -61.57142857142857, -59.142857142857146, -58.285714285714285, -55.285714285714285, -53.0, -50.57142857142857, -47.857142857142854, -48.42857142857143, -48.57142857142857, -49.0, -49.0, -50.857142857142854, -50.42857142857143, -48.6]}, {\"mode\": \"lines+markers\", \"name\": \"Telangana\", \"type\": \"scatter\", \"x\": [\"2020-02-16T00:00:00\", \"2020-02-23T00:00:00\", \"2020-03-01T00:00:00\", \"2020-03-08T00:00:00\", \"2020-03-15T00:00:00\", \"2020-03-22T00:00:00\", \"2020-03-29T00:00:00\", \"2020-04-05T00:00:00\", \"2020-04-12T00:00:00\", \"2020-04-19T00:00:00\", \"2020-04-26T00:00:00\", \"2020-05-03T00:00:00\", \"2020-05-10T00:00:00\", \"2020-05-17T00:00:00\", \"2020-05-24T00:00:00\", \"2020-05-31T00:00:00\", \"2020-06-07T00:00:00\", \"2020-06-14T00:00:00\", \"2020-06-21T00:00:00\", \"2020-06-28T00:00:00\", \"2020-07-05T00:00:00\", \"2020-07-12T00:00:00\", \"2020-07-19T00:00:00\", \"2020-07-26T00:00:00\", \"2020-08-02T00:00:00\"], \"y\": [4.0, 4.571428571428571, 7.142857142857143, 3.142857142857143, 3.2857142857142856, -14.0, -54.0, -56.285714285714285, -54.42857142857143, -62.0, -69.28571428571429, -68.85714285714286, -66.57142857142857, -65.85714285714286, -64.85714285714286, -64.57142857142857, -62.57142857142857, -59.142857142857146, -59.57142857142857, -59.0, -59.57142857142857, -59.57142857142857, -60.142857142857146, -59.42857142857143, -57.8]}],\n",
              "                        {\"height\": 600, \"shapes\": [{\"line\": {\"dash\": \"dot\", \"width\": 2}, \"type\": \"line\", \"x0\": \"2020-02-16T00:00:00\", \"x1\": \"2020-08-02T00:00:00\", \"y0\": 0, \"y1\": 0}, {\"line\": {\"dash\": \"dot\", \"width\": 2}, \"type\": \"line\", \"x0\": \"2020-03-22T00:00:00\", \"x1\": \"2020-03-22T00:00:00\", \"y0\": -100, \"y1\": 37}, {\"line\": {\"dash\": \"dot\", \"width\": 2}, \"type\": \"line\", \"x0\": \"2020-04-15T00:00:00\", \"x1\": \"2020-04-15T00:00:00\", \"y0\": -100, \"y1\": 37}, {\"line\": {\"dash\": \"dot\", \"width\": 2}, \"type\": \"line\", \"x0\": \"2020-05-04T00:00:00\", \"x1\": \"2020-05-04T00:00:00\", \"y0\": -100, \"y1\": 37}, {\"line\": {\"dash\": \"dot\", \"width\": 2}, \"type\": \"line\", \"x0\": \"2020-05-18T00:00:00\", \"x1\": \"2020-05-18T00:00:00\", \"y0\": -100, \"y1\": 37}, {\"line\": {\"dash\": \"dot\", \"width\": 2}, \"type\": \"line\", \"x0\": \"2020-06-01T00:00:00\", \"x1\": \"2020-06-01T00:00:00\", \"y0\": -100, \"y1\": 37}, {\"line\": {\"dash\": \"dot\", \"width\": 2}, \"type\": \"line\", \"x0\": \"2020-07-01T00:00:00\", \"x1\": \"2020-07-01T00:00:00\", \"y0\": -100, \"y1\": 37}], \"template\": {\"data\": {\"bar\": [{\"error_x\": {\"color\": \"#2a3f5f\"}, \"error_y\": {\"color\": \"#2a3f5f\"}, \"marker\": {\"line\": {\"color\": \"#E5ECF6\", \"width\": 0.5}}, \"type\": \"bar\"}], \"barpolar\": [{\"marker\": {\"line\": {\"color\": \"#E5ECF6\", \"width\": 0.5}}, \"type\": \"barpolar\"}], \"carpet\": [{\"aaxis\": {\"endlinecolor\": \"#2a3f5f\", \"gridcolor\": \"white\", \"linecolor\": \"white\", \"minorgridcolor\": \"white\", \"startlinecolor\": \"#2a3f5f\"}, \"baxis\": {\"endlinecolor\": \"#2a3f5f\", \"gridcolor\": \"white\", \"linecolor\": \"white\", \"minorgridcolor\": \"white\", \"startlinecolor\": \"#2a3f5f\"}, \"type\": \"carpet\"}], \"choropleth\": [{\"colorbar\": {\"outlinewidth\": 0, \"ticks\": \"\"}, \"type\": \"choropleth\"}], \"contour\": [{\"colorbar\": {\"outlinewidth\": 0, \"ticks\": \"\"}, \"colorscale\": [[0.0, \"#0d0887\"], [0.1111111111111111, \"#46039f\"], [0.2222222222222222, \"#7201a8\"], [0.3333333333333333, \"#9c179e\"], [0.4444444444444444, \"#bd3786\"], [0.5555555555555556, \"#d8576b\"], [0.6666666666666666, \"#ed7953\"], [0.7777777777777778, \"#fb9f3a\"], [0.8888888888888888, \"#fdca26\"], [1.0, \"#f0f921\"]], \"type\": \"contour\"}], \"contourcarpet\": [{\"colorbar\": {\"outlinewidth\": 0, \"ticks\": \"\"}, \"type\": \"contourcarpet\"}], \"heatmap\": [{\"colorbar\": {\"outlinewidth\": 0, \"ticks\": \"\"}, \"colorscale\": [[0.0, \"#0d0887\"], [0.1111111111111111, \"#46039f\"], [0.2222222222222222, \"#7201a8\"], [0.3333333333333333, \"#9c179e\"], [0.4444444444444444, \"#bd3786\"], [0.5555555555555556, \"#d8576b\"], [0.6666666666666666, \"#ed7953\"], [0.7777777777777778, \"#fb9f3a\"], [0.8888888888888888, \"#fdca26\"], [1.0, \"#f0f921\"]], \"type\": \"heatmap\"}], \"heatmapgl\": [{\"colorbar\": {\"outlinewidth\": 0, \"ticks\": \"\"}, \"colorscale\": [[0.0, \"#0d0887\"], [0.1111111111111111, \"#46039f\"], [0.2222222222222222, \"#7201a8\"], [0.3333333333333333, \"#9c179e\"], [0.4444444444444444, \"#bd3786\"], [0.5555555555555556, \"#d8576b\"], [0.6666666666666666, \"#ed7953\"], [0.7777777777777778, \"#fb9f3a\"], [0.8888888888888888, \"#fdca26\"], [1.0, \"#f0f921\"]], \"type\": \"heatmapgl\"}], \"histogram\": [{\"marker\": {\"colorbar\": {\"outlinewidth\": 0, \"ticks\": \"\"}}, \"type\": \"histogram\"}], \"histogram2d\": [{\"colorbar\": {\"outlinewidth\": 0, \"ticks\": \"\"}, \"colorscale\": [[0.0, \"#0d0887\"], [0.1111111111111111, \"#46039f\"], [0.2222222222222222, \"#7201a8\"], [0.3333333333333333, \"#9c179e\"], [0.4444444444444444, \"#bd3786\"], [0.5555555555555556, \"#d8576b\"], [0.6666666666666666, \"#ed7953\"], [0.7777777777777778, \"#fb9f3a\"], [0.8888888888888888, \"#fdca26\"], [1.0, \"#f0f921\"]], \"type\": \"histogram2d\"}], \"histogram2dcontour\": [{\"colorbar\": {\"outlinewidth\": 0, \"ticks\": \"\"}, \"colorscale\": [[0.0, \"#0d0887\"], [0.1111111111111111, \"#46039f\"], [0.2222222222222222, \"#7201a8\"], [0.3333333333333333, \"#9c179e\"], [0.4444444444444444, \"#bd3786\"], [0.5555555555555556, \"#d8576b\"], [0.6666666666666666, \"#ed7953\"], [0.7777777777777778, \"#fb9f3a\"], [0.8888888888888888, \"#fdca26\"], [1.0, \"#f0f921\"]], \"type\": \"histogram2dcontour\"}], \"mesh3d\": [{\"colorbar\": {\"outlinewidth\": 0, \"ticks\": \"\"}, \"type\": \"mesh3d\"}], \"parcoords\": [{\"line\": {\"colorbar\": {\"outlinewidth\": 0, \"ticks\": \"\"}}, \"type\": \"parcoords\"}], \"pie\": [{\"automargin\": true, \"type\": \"pie\"}], \"scatter\": [{\"marker\": {\"colorbar\": {\"outlinewidth\": 0, \"ticks\": \"\"}}, \"type\": \"scatter\"}], \"scatter3d\": [{\"line\": {\"colorbar\": {\"outlinewidth\": 0, \"ticks\": \"\"}}, \"marker\": {\"colorbar\": {\"outlinewidth\": 0, \"ticks\": \"\"}}, \"type\": \"scatter3d\"}], \"scattercarpet\": [{\"marker\": {\"colorbar\": {\"outlinewidth\": 0, \"ticks\": \"\"}}, \"type\": \"scattercarpet\"}], \"scattergeo\": [{\"marker\": {\"colorbar\": {\"outlinewidth\": 0, \"ticks\": \"\"}}, \"type\": \"scattergeo\"}], \"scattergl\": [{\"marker\": {\"colorbar\": {\"outlinewidth\": 0, \"ticks\": \"\"}}, \"type\": \"scattergl\"}], \"scattermapbox\": [{\"marker\": {\"colorbar\": {\"outlinewidth\": 0, \"ticks\": \"\"}}, \"type\": \"scattermapbox\"}], \"scatterpolar\": [{\"marker\": {\"colorbar\": {\"outlinewidth\": 0, \"ticks\": \"\"}}, \"type\": \"scatterpolar\"}], \"scatterpolargl\": [{\"marker\": {\"colorbar\": {\"outlinewidth\": 0, \"ticks\": \"\"}}, \"type\": \"scatterpolargl\"}], \"scatterternary\": [{\"marker\": {\"colorbar\": {\"outlinewidth\": 0, \"ticks\": \"\"}}, \"type\": \"scatterternary\"}], \"surface\": [{\"colorbar\": {\"outlinewidth\": 0, \"ticks\": \"\"}, \"colorscale\": [[0.0, \"#0d0887\"], [0.1111111111111111, \"#46039f\"], [0.2222222222222222, \"#7201a8\"], [0.3333333333333333, \"#9c179e\"], [0.4444444444444444, \"#bd3786\"], [0.5555555555555556, \"#d8576b\"], [0.6666666666666666, \"#ed7953\"], [0.7777777777777778, \"#fb9f3a\"], [0.8888888888888888, \"#fdca26\"], [1.0, \"#f0f921\"]], \"type\": \"surface\"}], \"table\": [{\"cells\": {\"fill\": {\"color\": \"#EBF0F8\"}, \"line\": {\"color\": \"white\"}}, \"header\": {\"fill\": {\"color\": \"#C8D4E3\"}, \"line\": {\"color\": \"white\"}}, \"type\": \"table\"}]}, \"layout\": {\"annotationdefaults\": {\"arrowcolor\": \"#2a3f5f\", \"arrowhead\": 0, \"arrowwidth\": 1}, \"coloraxis\": {\"colorbar\": {\"outlinewidth\": 0, \"ticks\": \"\"}}, \"colorscale\": {\"diverging\": [[0, \"#8e0152\"], [0.1, \"#c51b7d\"], [0.2, \"#de77ae\"], [0.3, \"#f1b6da\"], [0.4, \"#fde0ef\"], [0.5, \"#f7f7f7\"], [0.6, \"#e6f5d0\"], [0.7, \"#b8e186\"], [0.8, \"#7fbc41\"], [0.9, \"#4d9221\"], [1, \"#276419\"]], \"sequential\": [[0.0, \"#0d0887\"], [0.1111111111111111, \"#46039f\"], [0.2222222222222222, \"#7201a8\"], [0.3333333333333333, \"#9c179e\"], [0.4444444444444444, \"#bd3786\"], [0.5555555555555556, \"#d8576b\"], [0.6666666666666666, \"#ed7953\"], [0.7777777777777778, \"#fb9f3a\"], [0.8888888888888888, \"#fdca26\"], [1.0, \"#f0f921\"]], \"sequentialminus\": [[0.0, \"#0d0887\"], [0.1111111111111111, \"#46039f\"], [0.2222222222222222, \"#7201a8\"], [0.3333333333333333, \"#9c179e\"], [0.4444444444444444, \"#bd3786\"], [0.5555555555555556, \"#d8576b\"], [0.6666666666666666, \"#ed7953\"], [0.7777777777777778, \"#fb9f3a\"], [0.8888888888888888, \"#fdca26\"], [1.0, \"#f0f921\"]]}, \"colorway\": [\"#636efa\", \"#EF553B\", \"#00cc96\", \"#ab63fa\", \"#FFA15A\", \"#19d3f3\", \"#FF6692\", \"#B6E880\", \"#FF97FF\", \"#FECB52\"], \"font\": {\"color\": \"#2a3f5f\"}, \"geo\": {\"bgcolor\": \"white\", \"lakecolor\": \"white\", \"landcolor\": \"#E5ECF6\", \"showlakes\": true, \"showland\": true, \"subunitcolor\": \"white\"}, \"hoverlabel\": {\"align\": \"left\"}, \"hovermode\": \"closest\", \"mapbox\": {\"style\": \"light\"}, \"paper_bgcolor\": \"white\", \"plot_bgcolor\": \"#E5ECF6\", \"polar\": {\"angularaxis\": {\"gridcolor\": \"white\", \"linecolor\": \"white\", \"ticks\": \"\"}, \"bgcolor\": \"#E5ECF6\", \"radialaxis\": {\"gridcolor\": \"white\", \"linecolor\": \"white\", \"ticks\": \"\"}}, \"scene\": {\"xaxis\": {\"backgroundcolor\": \"#E5ECF6\", \"gridcolor\": \"white\", \"gridwidth\": 2, \"linecolor\": \"white\", \"showbackground\": true, \"ticks\": \"\", \"zerolinecolor\": \"white\"}, \"yaxis\": {\"backgroundcolor\": \"#E5ECF6\", \"gridcolor\": \"white\", \"gridwidth\": 2, \"linecolor\": \"white\", \"showbackground\": true, \"ticks\": \"\", \"zerolinecolor\": \"white\"}, \"zaxis\": {\"backgroundcolor\": \"#E5ECF6\", \"gridcolor\": \"white\", \"gridwidth\": 2, \"linecolor\": \"white\", \"showbackground\": true, \"ticks\": \"\", \"zerolinecolor\": \"white\"}}, \"shapedefaults\": {\"line\": {\"color\": \"#2a3f5f\"}}, \"ternary\": {\"aaxis\": {\"gridcolor\": \"white\", \"linecolor\": \"white\", \"ticks\": \"\"}, \"baxis\": {\"gridcolor\": \"white\", \"linecolor\": \"white\", \"ticks\": \"\"}, \"bgcolor\": \"#E5ECF6\", \"caxis\": {\"gridcolor\": \"white\", \"linecolor\": \"white\", \"ticks\": \"\"}}, \"title\": {\"x\": 0.05}, \"xaxis\": {\"automargin\": true, \"gridcolor\": \"white\", \"linecolor\": \"white\", \"ticks\": \"\", \"title\": {\"standoff\": 15}, \"zerolinecolor\": \"white\", \"zerolinewidth\": 2}, \"yaxis\": {\"automargin\": true, \"gridcolor\": \"white\", \"linecolor\": \"white\", \"ticks\": \"\", \"title\": {\"standoff\": 15}, \"zerolinecolor\": \"white\", \"zerolinewidth\": 2}}}, \"title\": {\"text\": \"How about Parks?\"}, \"width\": 1300, \"xaxis\": {\"range\": [\"2020-02-16T00:00:00\", \"2020-08-02T00:00:00\"]}},\n",
              "                        {\"responsive\": true}\n",
              "                    ).then(function(){\n",
              "                            \n",
              "var gd = document.getElementById('f76e3314-42f7-46fd-95b6-bf6321e8f61f');\n",
              "var x = new MutationObserver(function (mutations, observer) {{\n",
              "        var display = window.getComputedStyle(gd).display;\n",
              "        if (!display || display === 'none') {{\n",
              "            console.log([gd, 'removed!']);\n",
              "            Plotly.purge(gd);\n",
              "            observer.disconnect();\n",
              "        }}\n",
              "}});\n",
              "\n",
              "// Listen for the removal of the full notebook cells\n",
              "var notebookContainer = gd.closest('#notebook-container');\n",
              "if (notebookContainer) {{\n",
              "    x.observe(notebookContainer, {childList: true});\n",
              "}}\n",
              "\n",
              "// Listen for the clearing of the current output cell\n",
              "var outputEl = gd.closest('.output');\n",
              "if (outputEl) {{\n",
              "    x.observe(outputEl, {childList: true});\n",
              "}}\n",
              "\n",
              "                        })\n",
              "                };\n",
              "                \n",
              "            </script>\n",
              "        </div>\n",
              "</body>\n",
              "</html>"
            ]
          },
          "metadata": {
            "tags": []
          }
        }
      ]
    },
    {
      "cell_type": "markdown",
      "metadata": {
        "id": "hXo9r9KoWvOg",
        "colab_type": "text"
      },
      "source": [
        "Are people staying in their homes?"
      ]
    },
    {
      "cell_type": "code",
      "metadata": {
        "id": "enMRB6DIWtt1",
        "colab_type": "code",
        "colab": {
          "base_uri": "https://localhost:8080/",
          "height": 617
        },
        "outputId": "8ca0f7b0-942f-40e1-9fb7-8de6dc668164"
      },
      "source": [
        "fig = go.Figure()\n",
        "fig.add_trace(go.Scatter(\n",
        "    x=[lockdown1,lockdown2,lockdown3,lockdown4,unlock1,unlock2],\n",
        "    y=[39,39,39,39,39,39],\n",
        "    text=[\"Lockdown 1\",\"Lockdown 2\",\"Lockdown 3\", \"Lockdown 4\", \"Unlock 1\", \"Unlock 2\"],\n",
        "    mode=\"text\",\n",
        "))\n",
        "fig.add_trace(go.Scatter(x=df_india_AP.index, y=df_india_AP[\"Residential\"],\n",
        "                    mode='lines+markers',\n",
        "                    name=\"AP\",\n",
        "                    ))\n",
        "fig.add_trace(go.Scatter(x=df_india_Telangana.index, y=df_india_Telangana[\"Residential\"],\n",
        "                    mode='lines+markers',\n",
        "                    name=\"Telangana\",\n",
        "                    ))\n",
        "fig.update_layout(xaxis=dict(range=[mindate,maxdate]))\n",
        "fig.update_layout(\n",
        "    title= \"Are people staying in their homes?\",\n",
        "    width=1300,\n",
        "    height=600,\n",
        "    shapes=[\n",
        "        dict(\n",
        "            type=\"line\",\n",
        "            x0=mindate,\n",
        "            y0=0,\n",
        "            x1=maxdate,\n",
        "            y1=0,\n",
        "            line_width=2,\n",
        "            line = dict(\n",
        "                dash = \"dot\"\n",
        "            )\n",
        "        ),\n",
        "        dict(\n",
        "            type=\"line\",\n",
        "            y0=-100,\n",
        "            x0= lockdown1,\n",
        "            y1=37,\n",
        "            x1=lockdown1,\n",
        "            line_width=2,\n",
        "            line = dict(\n",
        "                dash = \"dot\"\n",
        "            )\n",
        "        ),\n",
        "        dict(\n",
        "            type=\"line\",\n",
        "            y0=-100,\n",
        "            x0= lockdown2,\n",
        "            y1=37,\n",
        "            x1=lockdown2,\n",
        "            line_width=2,\n",
        "            line = dict(\n",
        "                dash = \"dot\"\n",
        "            )\n",
        "        ),\n",
        "        dict(\n",
        "            type=\"line\",\n",
        "            y0=-100,\n",
        "            x0= lockdown3,\n",
        "            y1=37,\n",
        "            x1=lockdown3,\n",
        "            line_width=2,\n",
        "            line = dict(\n",
        "                dash = \"dot\"\n",
        "            )\n",
        "        ),\n",
        "        dict(\n",
        "            type=\"line\",\n",
        "            y0=-100,\n",
        "            x0= lockdown4,\n",
        "            y1=37,\n",
        "            x1=lockdown4,\n",
        "            line_width=2,\n",
        "            line = dict(\n",
        "                dash = \"dot\"\n",
        "            )\n",
        "        ),\n",
        "        dict(\n",
        "            type=\"line\",\n",
        "            y0=-100,\n",
        "            x0= unlock1,\n",
        "            y1=37,\n",
        "            x1=unlock1,\n",
        "            line_width=2,\n",
        "            line = dict(\n",
        "                dash = \"dot\"\n",
        "            )\n",
        "        ),\n",
        "        dict(\n",
        "            type=\"line\",\n",
        "            y0=-100,\n",
        "            x0= unlock2,\n",
        "            y1=37,\n",
        "            x1=unlock2,\n",
        "            line_width=2,\n",
        "            line = dict(\n",
        "                dash = \"dot\"\n",
        "            )\n",
        "        )\n",
        "    ]\n",
        ")\n",
        "\n",
        "fig.show()"
      ],
      "execution_count": 37,
      "outputs": [
        {
          "output_type": "display_data",
          "data": {
            "text/html": [
              "<html>\n",
              "<head><meta charset=\"utf-8\" /></head>\n",
              "<body>\n",
              "    <div>\n",
              "            <script src=\"https://cdnjs.cloudflare.com/ajax/libs/mathjax/2.7.5/MathJax.js?config=TeX-AMS-MML_SVG\"></script><script type=\"text/javascript\">if (window.MathJax) {MathJax.Hub.Config({SVG: {font: \"STIX-Web\"}});}</script>\n",
              "                <script type=\"text/javascript\">window.PlotlyConfig = {MathJaxConfig: 'local'};</script>\n",
              "        <script src=\"https://cdn.plot.ly/plotly-latest.min.js\"></script>    \n",
              "            <div id=\"a2371ab9-31c6-47bf-a187-33a44ca93fa2\" class=\"plotly-graph-div\" style=\"height:600px; width:1300px;\"></div>\n",
              "            <script type=\"text/javascript\">\n",
              "                \n",
              "                    window.PLOTLYENV=window.PLOTLYENV || {};\n",
              "                    \n",
              "                if (document.getElementById(\"a2371ab9-31c6-47bf-a187-33a44ca93fa2\")) {\n",
              "                    Plotly.newPlot(\n",
              "                        'a2371ab9-31c6-47bf-a187-33a44ca93fa2',\n",
              "                        [{\"mode\": \"text\", \"text\": [\"Lockdown 1\", \"Lockdown 2\", \"Lockdown 3\", \"Lockdown 4\", \"Unlock 1\", \"Unlock 2\"], \"type\": \"scatter\", \"x\": [\"2020-03-22T00:00:00\", \"2020-04-15T00:00:00\", \"2020-05-04T00:00:00\", \"2020-05-18T00:00:00\", \"2020-06-01T00:00:00\", \"2020-07-01T00:00:00\"], \"y\": [39, 39, 39, 39, 39, 39]}, {\"mode\": \"lines+markers\", \"name\": \"AP\", \"type\": \"scatter\", \"x\": [\"2020-02-16T00:00:00\", \"2020-02-23T00:00:00\", \"2020-03-01T00:00:00\", \"2020-03-08T00:00:00\", \"2020-03-15T00:00:00\", \"2020-03-22T00:00:00\", \"2020-03-29T00:00:00\", \"2020-04-05T00:00:00\", \"2020-04-12T00:00:00\", \"2020-04-19T00:00:00\", \"2020-04-26T00:00:00\", \"2020-05-03T00:00:00\", \"2020-05-10T00:00:00\", \"2020-05-17T00:00:00\", \"2020-05-24T00:00:00\", \"2020-05-31T00:00:00\", \"2020-06-07T00:00:00\", \"2020-06-14T00:00:00\", \"2020-06-21T00:00:00\", \"2020-06-28T00:00:00\", \"2020-07-05T00:00:00\", \"2020-07-12T00:00:00\", \"2020-07-19T00:00:00\", \"2020-07-26T00:00:00\", \"2020-08-02T00:00:00\"], \"y\": [0.5, 1.4285714285714286, 0.2857142857142857, 0.8571428571428571, 1.2857142857142858, 5.857142857142857, 25.285714285714285, 26.142857142857142, 27.142857142857142, 26.428571428571427, 27.0, 26.428571428571427, 23.714285714285715, 22.142857142857142, 20.571428571428573, 17.571428571428573, 14.714285714285714, 14.142857142857142, 14.571428571428571, 14.714285714285714, 15.428571428571429, 16.142857142857142, 18.571428571428573, 19.285714285714285, 19.8]}, {\"mode\": \"lines+markers\", \"name\": \"Telangana\", \"type\": \"scatter\", \"x\": [\"2020-02-16T00:00:00\", \"2020-02-23T00:00:00\", \"2020-03-01T00:00:00\", \"2020-03-08T00:00:00\", \"2020-03-15T00:00:00\", \"2020-03-22T00:00:00\", \"2020-03-29T00:00:00\", \"2020-04-05T00:00:00\", \"2020-04-12T00:00:00\", \"2020-04-19T00:00:00\", \"2020-04-26T00:00:00\", \"2020-05-03T00:00:00\", \"2020-05-10T00:00:00\", \"2020-05-17T00:00:00\", \"2020-05-24T00:00:00\", \"2020-05-31T00:00:00\", \"2020-06-07T00:00:00\", \"2020-06-14T00:00:00\", \"2020-06-21T00:00:00\", \"2020-06-28T00:00:00\", \"2020-07-05T00:00:00\", \"2020-07-12T00:00:00\", \"2020-07-19T00:00:00\", \"2020-07-26T00:00:00\", \"2020-08-02T00:00:00\"], \"y\": [0.5, 2.5714285714285716, 0.14285714285714285, 1.4285714285714286, 2.7142857142857144, 8.142857142857142, 31.857142857142858, 32.285714285714285, 32.285714285714285, 31.857142857142858, 32.714285714285715, 31.285714285714285, 27.428571428571427, 24.714285714285715, 21.857142857142858, 19.857142857142858, 16.571428571428573, 15.285714285714286, 16.142857142857142, 16.142857142857142, 17.428571428571427, 17.714285714285715, 18.285714285714285, 18.857142857142858, 19.0]}],\n",
              "                        {\"height\": 600, \"shapes\": [{\"line\": {\"dash\": \"dot\", \"width\": 2}, \"type\": \"line\", \"x0\": \"2020-02-16T00:00:00\", \"x1\": \"2020-08-02T00:00:00\", \"y0\": 0, \"y1\": 0}, {\"line\": {\"dash\": \"dot\", \"width\": 2}, \"type\": \"line\", \"x0\": \"2020-03-22T00:00:00\", \"x1\": \"2020-03-22T00:00:00\", \"y0\": -100, \"y1\": 37}, {\"line\": {\"dash\": \"dot\", \"width\": 2}, \"type\": \"line\", \"x0\": \"2020-04-15T00:00:00\", \"x1\": \"2020-04-15T00:00:00\", \"y0\": -100, \"y1\": 37}, {\"line\": {\"dash\": \"dot\", \"width\": 2}, \"type\": \"line\", \"x0\": \"2020-05-04T00:00:00\", \"x1\": \"2020-05-04T00:00:00\", \"y0\": -100, \"y1\": 37}, {\"line\": {\"dash\": \"dot\", \"width\": 2}, \"type\": \"line\", \"x0\": \"2020-05-18T00:00:00\", \"x1\": \"2020-05-18T00:00:00\", \"y0\": -100, \"y1\": 37}, {\"line\": {\"dash\": \"dot\", \"width\": 2}, \"type\": \"line\", \"x0\": \"2020-06-01T00:00:00\", \"x1\": \"2020-06-01T00:00:00\", \"y0\": -100, \"y1\": 37}, {\"line\": {\"dash\": \"dot\", \"width\": 2}, \"type\": \"line\", \"x0\": \"2020-07-01T00:00:00\", \"x1\": \"2020-07-01T00:00:00\", \"y0\": -100, \"y1\": 37}], \"template\": {\"data\": {\"bar\": [{\"error_x\": {\"color\": \"#2a3f5f\"}, \"error_y\": {\"color\": \"#2a3f5f\"}, \"marker\": {\"line\": {\"color\": \"#E5ECF6\", \"width\": 0.5}}, \"type\": \"bar\"}], \"barpolar\": [{\"marker\": {\"line\": {\"color\": \"#E5ECF6\", \"width\": 0.5}}, \"type\": \"barpolar\"}], \"carpet\": [{\"aaxis\": {\"endlinecolor\": \"#2a3f5f\", \"gridcolor\": \"white\", \"linecolor\": \"white\", \"minorgridcolor\": \"white\", \"startlinecolor\": \"#2a3f5f\"}, \"baxis\": {\"endlinecolor\": \"#2a3f5f\", \"gridcolor\": \"white\", \"linecolor\": \"white\", \"minorgridcolor\": \"white\", \"startlinecolor\": \"#2a3f5f\"}, \"type\": \"carpet\"}], \"choropleth\": [{\"colorbar\": {\"outlinewidth\": 0, \"ticks\": \"\"}, \"type\": \"choropleth\"}], \"contour\": [{\"colorbar\": {\"outlinewidth\": 0, \"ticks\": \"\"}, \"colorscale\": [[0.0, \"#0d0887\"], [0.1111111111111111, \"#46039f\"], [0.2222222222222222, \"#7201a8\"], [0.3333333333333333, \"#9c179e\"], [0.4444444444444444, \"#bd3786\"], [0.5555555555555556, \"#d8576b\"], [0.6666666666666666, \"#ed7953\"], [0.7777777777777778, \"#fb9f3a\"], [0.8888888888888888, \"#fdca26\"], [1.0, \"#f0f921\"]], \"type\": \"contour\"}], \"contourcarpet\": [{\"colorbar\": {\"outlinewidth\": 0, \"ticks\": \"\"}, \"type\": \"contourcarpet\"}], \"heatmap\": [{\"colorbar\": {\"outlinewidth\": 0, \"ticks\": \"\"}, \"colorscale\": [[0.0, \"#0d0887\"], [0.1111111111111111, \"#46039f\"], [0.2222222222222222, \"#7201a8\"], [0.3333333333333333, \"#9c179e\"], [0.4444444444444444, \"#bd3786\"], [0.5555555555555556, \"#d8576b\"], [0.6666666666666666, \"#ed7953\"], [0.7777777777777778, \"#fb9f3a\"], [0.8888888888888888, \"#fdca26\"], [1.0, \"#f0f921\"]], \"type\": \"heatmap\"}], \"heatmapgl\": [{\"colorbar\": {\"outlinewidth\": 0, \"ticks\": \"\"}, \"colorscale\": [[0.0, \"#0d0887\"], [0.1111111111111111, \"#46039f\"], [0.2222222222222222, \"#7201a8\"], [0.3333333333333333, \"#9c179e\"], [0.4444444444444444, \"#bd3786\"], [0.5555555555555556, \"#d8576b\"], [0.6666666666666666, \"#ed7953\"], [0.7777777777777778, \"#fb9f3a\"], [0.8888888888888888, \"#fdca26\"], [1.0, \"#f0f921\"]], \"type\": \"heatmapgl\"}], \"histogram\": [{\"marker\": {\"colorbar\": {\"outlinewidth\": 0, \"ticks\": \"\"}}, \"type\": \"histogram\"}], \"histogram2d\": [{\"colorbar\": {\"outlinewidth\": 0, \"ticks\": \"\"}, \"colorscale\": [[0.0, \"#0d0887\"], [0.1111111111111111, \"#46039f\"], [0.2222222222222222, \"#7201a8\"], [0.3333333333333333, \"#9c179e\"], [0.4444444444444444, \"#bd3786\"], [0.5555555555555556, \"#d8576b\"], [0.6666666666666666, \"#ed7953\"], [0.7777777777777778, \"#fb9f3a\"], [0.8888888888888888, \"#fdca26\"], [1.0, \"#f0f921\"]], \"type\": \"histogram2d\"}], \"histogram2dcontour\": [{\"colorbar\": {\"outlinewidth\": 0, \"ticks\": \"\"}, \"colorscale\": [[0.0, \"#0d0887\"], [0.1111111111111111, \"#46039f\"], [0.2222222222222222, \"#7201a8\"], [0.3333333333333333, \"#9c179e\"], [0.4444444444444444, \"#bd3786\"], [0.5555555555555556, \"#d8576b\"], [0.6666666666666666, \"#ed7953\"], [0.7777777777777778, \"#fb9f3a\"], [0.8888888888888888, \"#fdca26\"], [1.0, \"#f0f921\"]], \"type\": \"histogram2dcontour\"}], \"mesh3d\": [{\"colorbar\": {\"outlinewidth\": 0, \"ticks\": \"\"}, \"type\": \"mesh3d\"}], \"parcoords\": [{\"line\": {\"colorbar\": {\"outlinewidth\": 0, \"ticks\": \"\"}}, \"type\": \"parcoords\"}], \"pie\": [{\"automargin\": true, \"type\": \"pie\"}], \"scatter\": [{\"marker\": {\"colorbar\": {\"outlinewidth\": 0, \"ticks\": \"\"}}, \"type\": \"scatter\"}], \"scatter3d\": [{\"line\": {\"colorbar\": {\"outlinewidth\": 0, \"ticks\": \"\"}}, \"marker\": {\"colorbar\": {\"outlinewidth\": 0, \"ticks\": \"\"}}, \"type\": \"scatter3d\"}], \"scattercarpet\": [{\"marker\": {\"colorbar\": {\"outlinewidth\": 0, \"ticks\": \"\"}}, \"type\": \"scattercarpet\"}], \"scattergeo\": [{\"marker\": {\"colorbar\": {\"outlinewidth\": 0, \"ticks\": \"\"}}, \"type\": \"scattergeo\"}], \"scattergl\": [{\"marker\": {\"colorbar\": {\"outlinewidth\": 0, \"ticks\": \"\"}}, \"type\": \"scattergl\"}], \"scattermapbox\": [{\"marker\": {\"colorbar\": {\"outlinewidth\": 0, \"ticks\": \"\"}}, \"type\": \"scattermapbox\"}], \"scatterpolar\": [{\"marker\": {\"colorbar\": {\"outlinewidth\": 0, \"ticks\": \"\"}}, \"type\": \"scatterpolar\"}], \"scatterpolargl\": [{\"marker\": {\"colorbar\": {\"outlinewidth\": 0, \"ticks\": \"\"}}, \"type\": \"scatterpolargl\"}], \"scatterternary\": [{\"marker\": {\"colorbar\": {\"outlinewidth\": 0, \"ticks\": \"\"}}, \"type\": \"scatterternary\"}], \"surface\": [{\"colorbar\": {\"outlinewidth\": 0, \"ticks\": \"\"}, \"colorscale\": [[0.0, \"#0d0887\"], [0.1111111111111111, \"#46039f\"], [0.2222222222222222, \"#7201a8\"], [0.3333333333333333, \"#9c179e\"], [0.4444444444444444, \"#bd3786\"], [0.5555555555555556, \"#d8576b\"], [0.6666666666666666, \"#ed7953\"], [0.7777777777777778, \"#fb9f3a\"], [0.8888888888888888, \"#fdca26\"], [1.0, \"#f0f921\"]], \"type\": \"surface\"}], \"table\": [{\"cells\": {\"fill\": {\"color\": \"#EBF0F8\"}, \"line\": {\"color\": \"white\"}}, \"header\": {\"fill\": {\"color\": \"#C8D4E3\"}, \"line\": {\"color\": \"white\"}}, \"type\": \"table\"}]}, \"layout\": {\"annotationdefaults\": {\"arrowcolor\": \"#2a3f5f\", \"arrowhead\": 0, \"arrowwidth\": 1}, \"coloraxis\": {\"colorbar\": {\"outlinewidth\": 0, \"ticks\": \"\"}}, \"colorscale\": {\"diverging\": [[0, \"#8e0152\"], [0.1, \"#c51b7d\"], [0.2, \"#de77ae\"], [0.3, \"#f1b6da\"], [0.4, \"#fde0ef\"], [0.5, \"#f7f7f7\"], [0.6, \"#e6f5d0\"], [0.7, \"#b8e186\"], [0.8, \"#7fbc41\"], [0.9, \"#4d9221\"], [1, \"#276419\"]], \"sequential\": [[0.0, \"#0d0887\"], [0.1111111111111111, \"#46039f\"], [0.2222222222222222, \"#7201a8\"], [0.3333333333333333, \"#9c179e\"], [0.4444444444444444, \"#bd3786\"], [0.5555555555555556, \"#d8576b\"], [0.6666666666666666, \"#ed7953\"], [0.7777777777777778, \"#fb9f3a\"], [0.8888888888888888, \"#fdca26\"], [1.0, \"#f0f921\"]], \"sequentialminus\": [[0.0, \"#0d0887\"], [0.1111111111111111, \"#46039f\"], [0.2222222222222222, \"#7201a8\"], [0.3333333333333333, \"#9c179e\"], [0.4444444444444444, \"#bd3786\"], [0.5555555555555556, \"#d8576b\"], [0.6666666666666666, \"#ed7953\"], [0.7777777777777778, \"#fb9f3a\"], [0.8888888888888888, \"#fdca26\"], [1.0, \"#f0f921\"]]}, \"colorway\": [\"#636efa\", \"#EF553B\", \"#00cc96\", \"#ab63fa\", \"#FFA15A\", \"#19d3f3\", \"#FF6692\", \"#B6E880\", \"#FF97FF\", \"#FECB52\"], \"font\": {\"color\": \"#2a3f5f\"}, \"geo\": {\"bgcolor\": \"white\", \"lakecolor\": \"white\", \"landcolor\": \"#E5ECF6\", \"showlakes\": true, \"showland\": true, \"subunitcolor\": \"white\"}, \"hoverlabel\": {\"align\": \"left\"}, \"hovermode\": \"closest\", \"mapbox\": {\"style\": \"light\"}, \"paper_bgcolor\": \"white\", \"plot_bgcolor\": \"#E5ECF6\", \"polar\": {\"angularaxis\": {\"gridcolor\": \"white\", \"linecolor\": \"white\", \"ticks\": \"\"}, \"bgcolor\": \"#E5ECF6\", \"radialaxis\": {\"gridcolor\": \"white\", \"linecolor\": \"white\", \"ticks\": \"\"}}, \"scene\": {\"xaxis\": {\"backgroundcolor\": \"#E5ECF6\", \"gridcolor\": \"white\", \"gridwidth\": 2, \"linecolor\": \"white\", \"showbackground\": true, \"ticks\": \"\", \"zerolinecolor\": \"white\"}, \"yaxis\": {\"backgroundcolor\": \"#E5ECF6\", \"gridcolor\": \"white\", \"gridwidth\": 2, \"linecolor\": \"white\", \"showbackground\": true, \"ticks\": \"\", \"zerolinecolor\": \"white\"}, \"zaxis\": {\"backgroundcolor\": \"#E5ECF6\", \"gridcolor\": \"white\", \"gridwidth\": 2, \"linecolor\": \"white\", \"showbackground\": true, \"ticks\": \"\", \"zerolinecolor\": \"white\"}}, \"shapedefaults\": {\"line\": {\"color\": \"#2a3f5f\"}}, \"ternary\": {\"aaxis\": {\"gridcolor\": \"white\", \"linecolor\": \"white\", \"ticks\": \"\"}, \"baxis\": {\"gridcolor\": \"white\", \"linecolor\": \"white\", \"ticks\": \"\"}, \"bgcolor\": \"#E5ECF6\", \"caxis\": {\"gridcolor\": \"white\", \"linecolor\": \"white\", \"ticks\": \"\"}}, \"title\": {\"x\": 0.05}, \"xaxis\": {\"automargin\": true, \"gridcolor\": \"white\", \"linecolor\": \"white\", \"ticks\": \"\", \"title\": {\"standoff\": 15}, \"zerolinecolor\": \"white\", \"zerolinewidth\": 2}, \"yaxis\": {\"automargin\": true, \"gridcolor\": \"white\", \"linecolor\": \"white\", \"ticks\": \"\", \"title\": {\"standoff\": 15}, \"zerolinecolor\": \"white\", \"zerolinewidth\": 2}}}, \"title\": {\"text\": \"Are people staying in their homes?\"}, \"width\": 1300, \"xaxis\": {\"range\": [\"2020-02-16T00:00:00\", \"2020-08-02T00:00:00\"]}},\n",
              "                        {\"responsive\": true}\n",
              "                    ).then(function(){\n",
              "                            \n",
              "var gd = document.getElementById('a2371ab9-31c6-47bf-a187-33a44ca93fa2');\n",
              "var x = new MutationObserver(function (mutations, observer) {{\n",
              "        var display = window.getComputedStyle(gd).display;\n",
              "        if (!display || display === 'none') {{\n",
              "            console.log([gd, 'removed!']);\n",
              "            Plotly.purge(gd);\n",
              "            observer.disconnect();\n",
              "        }}\n",
              "}});\n",
              "\n",
              "// Listen for the removal of the full notebook cells\n",
              "var notebookContainer = gd.closest('#notebook-container');\n",
              "if (notebookContainer) {{\n",
              "    x.observe(notebookContainer, {childList: true});\n",
              "}}\n",
              "\n",
              "// Listen for the clearing of the current output cell\n",
              "var outputEl = gd.closest('.output');\n",
              "if (outputEl) {{\n",
              "    x.observe(outputEl, {childList: true});\n",
              "}}\n",
              "\n",
              "                        })\n",
              "                };\n",
              "                \n",
              "            </script>\n",
              "        </div>\n",
              "</body>\n",
              "</html>"
            ]
          },
          "metadata": {
            "tags": []
          }
        }
      ]
    },
    {
      "cell_type": "code",
      "metadata": {
        "id": "51gKggbdWz21",
        "colab_type": "code",
        "colab": {}
      },
      "source": [
        "covid_data=pd.read_csv('https://raw.githubusercontent.com/kurasaiteja/MyTrackerCOVID19/master/covid_19_india.csv')"
      ],
      "execution_count": 39,
      "outputs": []
    },
    {
      "cell_type": "code",
      "metadata": {
        "id": "Dk5uBcFYXB9Z",
        "colab_type": "code",
        "colab": {
          "base_uri": "https://localhost:8080/",
          "height": 204
        },
        "outputId": "4eb146c3-e2bb-482a-d7ca-b53a3a1c9e4b"
      },
      "source": [
        "covid_data.head()"
      ],
      "execution_count": 45,
      "outputs": [
        {
          "output_type": "execute_result",
          "data": {
            "text/html": [
              "<div>\n",
              "<style scoped>\n",
              "    .dataframe tbody tr th:only-of-type {\n",
              "        vertical-align: middle;\n",
              "    }\n",
              "\n",
              "    .dataframe tbody tr th {\n",
              "        vertical-align: top;\n",
              "    }\n",
              "\n",
              "    .dataframe thead th {\n",
              "        text-align: right;\n",
              "    }\n",
              "</style>\n",
              "<table border=\"1\" class=\"dataframe\">\n",
              "  <thead>\n",
              "    <tr style=\"text-align: right;\">\n",
              "      <th></th>\n",
              "      <th>Sno</th>\n",
              "      <th>Date</th>\n",
              "      <th>Time</th>\n",
              "      <th>State/UnionTerritory</th>\n",
              "      <th>ConfirmedIndianNational</th>\n",
              "      <th>ConfirmedForeignNational</th>\n",
              "      <th>Cured</th>\n",
              "      <th>Deaths</th>\n",
              "      <th>Confirmed</th>\n",
              "    </tr>\n",
              "  </thead>\n",
              "  <tbody>\n",
              "    <tr>\n",
              "      <th>0</th>\n",
              "      <td>1</td>\n",
              "      <td>30/01/20</td>\n",
              "      <td>6:00 PM</td>\n",
              "      <td>Kerala</td>\n",
              "      <td>1</td>\n",
              "      <td>0</td>\n",
              "      <td>0</td>\n",
              "      <td>0</td>\n",
              "      <td>1</td>\n",
              "    </tr>\n",
              "    <tr>\n",
              "      <th>1</th>\n",
              "      <td>2</td>\n",
              "      <td>31/01/20</td>\n",
              "      <td>6:00 PM</td>\n",
              "      <td>Kerala</td>\n",
              "      <td>1</td>\n",
              "      <td>0</td>\n",
              "      <td>0</td>\n",
              "      <td>0</td>\n",
              "      <td>1</td>\n",
              "    </tr>\n",
              "    <tr>\n",
              "      <th>2</th>\n",
              "      <td>3</td>\n",
              "      <td>01/02/20</td>\n",
              "      <td>6:00 PM</td>\n",
              "      <td>Kerala</td>\n",
              "      <td>2</td>\n",
              "      <td>0</td>\n",
              "      <td>0</td>\n",
              "      <td>0</td>\n",
              "      <td>2</td>\n",
              "    </tr>\n",
              "    <tr>\n",
              "      <th>3</th>\n",
              "      <td>4</td>\n",
              "      <td>02/02/20</td>\n",
              "      <td>6:00 PM</td>\n",
              "      <td>Kerala</td>\n",
              "      <td>3</td>\n",
              "      <td>0</td>\n",
              "      <td>0</td>\n",
              "      <td>0</td>\n",
              "      <td>3</td>\n",
              "    </tr>\n",
              "    <tr>\n",
              "      <th>4</th>\n",
              "      <td>5</td>\n",
              "      <td>03/02/20</td>\n",
              "      <td>6:00 PM</td>\n",
              "      <td>Kerala</td>\n",
              "      <td>3</td>\n",
              "      <td>0</td>\n",
              "      <td>0</td>\n",
              "      <td>0</td>\n",
              "      <td>3</td>\n",
              "    </tr>\n",
              "  </tbody>\n",
              "</table>\n",
              "</div>"
            ],
            "text/plain": [
              "   Sno      Date     Time  ... Cured Deaths Confirmed\n",
              "0    1  30/01/20  6:00 PM  ...     0      0         1\n",
              "1    2  31/01/20  6:00 PM  ...     0      0         1\n",
              "2    3  01/02/20  6:00 PM  ...     0      0         2\n",
              "3    4  02/02/20  6:00 PM  ...     0      0         3\n",
              "4    5  03/02/20  6:00 PM  ...     0      0         3\n",
              "\n",
              "[5 rows x 9 columns]"
            ]
          },
          "metadata": {
            "tags": []
          },
          "execution_count": 45
        }
      ]
    },
    {
      "cell_type": "code",
      "metadata": {
        "id": "Bjtr_PKjXUr4",
        "colab_type": "code",
        "colab": {
          "base_uri": "https://localhost:8080/",
          "height": 629
        },
        "outputId": "ebc33b91-93ed-4453-9bc6-93326f16b49a"
      },
      "source": [
        "covid_data['State/UnionTerritory'].value_counts()"
      ],
      "execution_count": 50,
      "outputs": [
        {
          "output_type": "execute_result",
          "data": {
            "text/plain": [
              "Kerala                         78\n",
              "Delhi                          46\n",
              "Telengana                      46\n",
              "Rajasthan                      45\n",
              "Haryana                        44\n",
              "Uttar Pradesh                  44\n",
              "Tamil Nadu                     41\n",
              "Ladakh                         41\n",
              "Jammu and Kashmir              39\n",
              "Karnataka                      39\n",
              "Punjab                         39\n",
              "Maharashtra                    39\n",
              "Andhra Pradesh                 36\n",
              "Uttarakhand                    33\n",
              "Odisha                         32\n",
              "West Bengal                    30\n",
              "Puducherry                     30\n",
              "Chhattisgarh                   29\n",
              "Chandigarh                     29\n",
              "Gujarat                        28\n",
              "Himachal Pradesh               27\n",
              "Madhya Pradesh                 27\n",
              "Bihar                          26\n",
              "Manipur                        24\n",
              "Mizoram                        23\n",
              "Andaman and Nicobar Islands    22\n",
              "Goa                            22\n",
              "Jharkhand                      16\n",
              "Assam                          16\n",
              "Arunachal Pradesh              14\n",
              "Tripura                        10\n",
              "Meghalaya                       3\n",
              "Unassigned                      3\n",
              "Nagaland                        2\n",
              "Nagaland#                       2\n",
              "Name: State/UnionTerritory, dtype: int64"
            ]
          },
          "metadata": {
            "tags": []
          },
          "execution_count": 50
        }
      ]
    },
    {
      "cell_type": "code",
      "metadata": {
        "id": "tzrdiv1TXfuW",
        "colab_type": "code",
        "colab": {
          "base_uri": "https://localhost:8080/",
          "height": 221
        },
        "outputId": "5d9cf4d2-050d-4bbe-ee9e-7be7a7c7bb58"
      },
      "source": [
        "covid_data[\"State/UnionTerritory\"] ==\"Telengana\""
      ],
      "execution_count": 51,
      "outputs": [
        {
          "output_type": "execute_result",
          "data": {
            "text/plain": [
              "0       False\n",
              "1       False\n",
              "2       False\n",
              "3       False\n",
              "4       False\n",
              "        ...  \n",
              "1020     True\n",
              "1021    False\n",
              "1022    False\n",
              "1023    False\n",
              "1024    False\n",
              "Name: State/UnionTerritory, Length: 1025, dtype: bool"
            ]
          },
          "metadata": {
            "tags": []
          },
          "execution_count": 51
        }
      ]
    },
    {
      "cell_type": "code",
      "metadata": {
        "id": "vAne4nWZXJt3",
        "colab_type": "code",
        "colab": {}
      },
      "source": [
        "covid_data_telengana = covid_data[covid_data[\"State/UnionTerritory\"] == \"Telengana\"]"
      ],
      "execution_count": 52,
      "outputs": []
    },
    {
      "cell_type": "code",
      "metadata": {
        "id": "2vDB5lhUXJ6Q",
        "colab_type": "code",
        "colab": {}
      },
      "source": [
        "covid_data_AP = covid_data[covid_data[\"State/UnionTerritory\"] ==\"Andhra Pradesh\"]"
      ],
      "execution_count": 54,
      "outputs": []
    },
    {
      "cell_type": "code",
      "metadata": {
        "id": "CbcOlDnpXLeK",
        "colab_type": "code",
        "colab": {
          "base_uri": "https://localhost:8080/",
          "height": 204
        },
        "outputId": "546b1951-f83b-43b4-b689-c918a8778579"
      },
      "source": [
        "covid_data_telengana.head()"
      ],
      "execution_count": 53,
      "outputs": [
        {
          "output_type": "execute_result",
          "data": {
            "text/html": [
              "<div>\n",
              "<style scoped>\n",
              "    .dataframe tbody tr th:only-of-type {\n",
              "        vertical-align: middle;\n",
              "    }\n",
              "\n",
              "    .dataframe tbody tr th {\n",
              "        vertical-align: top;\n",
              "    }\n",
              "\n",
              "    .dataframe thead th {\n",
              "        text-align: right;\n",
              "    }\n",
              "</style>\n",
              "<table border=\"1\" class=\"dataframe\">\n",
              "  <thead>\n",
              "    <tr style=\"text-align: right;\">\n",
              "      <th></th>\n",
              "      <th>Sno</th>\n",
              "      <th>Date</th>\n",
              "      <th>Time</th>\n",
              "      <th>State/UnionTerritory</th>\n",
              "      <th>ConfirmedIndianNational</th>\n",
              "      <th>ConfirmedForeignNational</th>\n",
              "      <th>Cured</th>\n",
              "      <th>Deaths</th>\n",
              "      <th>Confirmed</th>\n",
              "    </tr>\n",
              "  </thead>\n",
              "  <tbody>\n",
              "    <tr>\n",
              "      <th>32</th>\n",
              "      <td>33</td>\n",
              "      <td>02/03/20</td>\n",
              "      <td>6:00 PM</td>\n",
              "      <td>Telengana</td>\n",
              "      <td>1</td>\n",
              "      <td>0</td>\n",
              "      <td>0</td>\n",
              "      <td>0</td>\n",
              "      <td>1</td>\n",
              "    </tr>\n",
              "    <tr>\n",
              "      <th>35</th>\n",
              "      <td>36</td>\n",
              "      <td>03/03/20</td>\n",
              "      <td>6:00 PM</td>\n",
              "      <td>Telengana</td>\n",
              "      <td>1</td>\n",
              "      <td>0</td>\n",
              "      <td>0</td>\n",
              "      <td>0</td>\n",
              "      <td>1</td>\n",
              "    </tr>\n",
              "    <tr>\n",
              "      <th>43</th>\n",
              "      <td>44</td>\n",
              "      <td>04/03/20</td>\n",
              "      <td>6:00 PM</td>\n",
              "      <td>Telengana</td>\n",
              "      <td>1</td>\n",
              "      <td>0</td>\n",
              "      <td>0</td>\n",
              "      <td>0</td>\n",
              "      <td>1</td>\n",
              "    </tr>\n",
              "    <tr>\n",
              "      <th>49</th>\n",
              "      <td>50</td>\n",
              "      <td>05/03/20</td>\n",
              "      <td>6:00 PM</td>\n",
              "      <td>Telengana</td>\n",
              "      <td>1</td>\n",
              "      <td>0</td>\n",
              "      <td>0</td>\n",
              "      <td>0</td>\n",
              "      <td>1</td>\n",
              "    </tr>\n",
              "    <tr>\n",
              "      <th>56</th>\n",
              "      <td>57</td>\n",
              "      <td>06/03/20</td>\n",
              "      <td>6:00 PM</td>\n",
              "      <td>Telengana</td>\n",
              "      <td>1</td>\n",
              "      <td>0</td>\n",
              "      <td>0</td>\n",
              "      <td>0</td>\n",
              "      <td>1</td>\n",
              "    </tr>\n",
              "  </tbody>\n",
              "</table>\n",
              "</div>"
            ],
            "text/plain": [
              "    Sno      Date     Time  ... Cured Deaths Confirmed\n",
              "32   33  02/03/20  6:00 PM  ...     0      0         1\n",
              "35   36  03/03/20  6:00 PM  ...     0      0         1\n",
              "43   44  04/03/20  6:00 PM  ...     0      0         1\n",
              "49   50  05/03/20  6:00 PM  ...     0      0         1\n",
              "56   57  06/03/20  6:00 PM  ...     0      0         1\n",
              "\n",
              "[5 rows x 9 columns]"
            ]
          },
          "metadata": {
            "tags": []
          },
          "execution_count": 53
        }
      ]
    },
    {
      "cell_type": "code",
      "metadata": {
        "id": "pjH1IvqjXktA",
        "colab_type": "code",
        "colab": {
          "base_uri": "https://localhost:8080/",
          "height": 204
        },
        "outputId": "d2195d4c-537b-4c77-d80b-bbaba9902b56"
      },
      "source": [
        "covid_data_AP.head()"
      ],
      "execution_count": 55,
      "outputs": [
        {
          "output_type": "execute_result",
          "data": {
            "text/html": [
              "<div>\n",
              "<style scoped>\n",
              "    .dataframe tbody tr th:only-of-type {\n",
              "        vertical-align: middle;\n",
              "    }\n",
              "\n",
              "    .dataframe tbody tr th {\n",
              "        vertical-align: top;\n",
              "    }\n",
              "\n",
              "    .dataframe thead th {\n",
              "        text-align: right;\n",
              "    }\n",
              "</style>\n",
              "<table border=\"1\" class=\"dataframe\">\n",
              "  <thead>\n",
              "    <tr style=\"text-align: right;\">\n",
              "      <th></th>\n",
              "      <th>Sno</th>\n",
              "      <th>Date</th>\n",
              "      <th>Time</th>\n",
              "      <th>State/UnionTerritory</th>\n",
              "      <th>ConfirmedIndianNational</th>\n",
              "      <th>ConfirmedForeignNational</th>\n",
              "      <th>Cured</th>\n",
              "      <th>Deaths</th>\n",
              "      <th>Confirmed</th>\n",
              "    </tr>\n",
              "  </thead>\n",
              "  <tbody>\n",
              "    <tr>\n",
              "      <th>121</th>\n",
              "      <td>122</td>\n",
              "      <td>12/03/20</td>\n",
              "      <td>6:00 PM</td>\n",
              "      <td>Andhra Pradesh</td>\n",
              "      <td>1</td>\n",
              "      <td>0</td>\n",
              "      <td>0</td>\n",
              "      <td>0</td>\n",
              "      <td>1</td>\n",
              "    </tr>\n",
              "    <tr>\n",
              "      <th>134</th>\n",
              "      <td>135</td>\n",
              "      <td>13/03/20</td>\n",
              "      <td>6:00 PM</td>\n",
              "      <td>Andhra Pradesh</td>\n",
              "      <td>1</td>\n",
              "      <td>0</td>\n",
              "      <td>0</td>\n",
              "      <td>0</td>\n",
              "      <td>1</td>\n",
              "    </tr>\n",
              "    <tr>\n",
              "      <th>147</th>\n",
              "      <td>148</td>\n",
              "      <td>14/03/20</td>\n",
              "      <td>6:00 PM</td>\n",
              "      <td>Andhra Pradesh</td>\n",
              "      <td>1</td>\n",
              "      <td>0</td>\n",
              "      <td>0</td>\n",
              "      <td>0</td>\n",
              "      <td>1</td>\n",
              "    </tr>\n",
              "    <tr>\n",
              "      <th>148</th>\n",
              "      <td>149</td>\n",
              "      <td>15/03/20</td>\n",
              "      <td>6:00 PM</td>\n",
              "      <td>Andhra Pradesh</td>\n",
              "      <td>1</td>\n",
              "      <td>0</td>\n",
              "      <td>0</td>\n",
              "      <td>0</td>\n",
              "      <td>1</td>\n",
              "    </tr>\n",
              "    <tr>\n",
              "      <th>162</th>\n",
              "      <td>163</td>\n",
              "      <td>16/03/20</td>\n",
              "      <td>6:00 PM</td>\n",
              "      <td>Andhra Pradesh</td>\n",
              "      <td>1</td>\n",
              "      <td>0</td>\n",
              "      <td>0</td>\n",
              "      <td>0</td>\n",
              "      <td>1</td>\n",
              "    </tr>\n",
              "  </tbody>\n",
              "</table>\n",
              "</div>"
            ],
            "text/plain": [
              "     Sno      Date     Time  ... Cured Deaths Confirmed\n",
              "121  122  12/03/20  6:00 PM  ...     0      0         1\n",
              "134  135  13/03/20  6:00 PM  ...     0      0         1\n",
              "147  148  14/03/20  6:00 PM  ...     0      0         1\n",
              "148  149  15/03/20  6:00 PM  ...     0      0         1\n",
              "162  163  16/03/20  6:00 PM  ...     0      0         1\n",
              "\n",
              "[5 rows x 9 columns]"
            ]
          },
          "metadata": {
            "tags": []
          },
          "execution_count": 55
        }
      ]
    },
    {
      "cell_type": "code",
      "metadata": {
        "id": "6l2jxjGfXM3L",
        "colab_type": "code",
        "colab": {}
      },
      "source": [
        "covid_data_telengana = covid_data_telengana[[\"Date\",\"Confirmed\"]]\n",
        "covid_data_AP = covid_data_AP[[\"Date\",\"Confirmed\"]]"
      ],
      "execution_count": 56,
      "outputs": []
    },
    {
      "cell_type": "code",
      "metadata": {
        "id": "jwj2kPUfXOG4",
        "colab_type": "code",
        "colab": {}
      },
      "source": [
        "covid_data_telengana[\"Confirmed\"] = covid_data_telengana[\"Confirmed\"].diff()\n",
        "covid_data_AP[\"Confirmed\"] = covid_data_AP[\"Confirmed\"].diff()"
      ],
      "execution_count": 57,
      "outputs": []
    },
    {
      "cell_type": "code",
      "metadata": {
        "id": "LnXRF2VtXpEr",
        "colab_type": "code",
        "colab": {}
      },
      "source": [
        "covid_data_telengana.dropna(inplace=True)\n",
        "covid_data_AP.dropna(inplace=True)"
      ],
      "execution_count": 58,
      "outputs": []
    },
    {
      "cell_type": "code",
      "metadata": {
        "id": "zuNasAyqXrOZ",
        "colab_type": "code",
        "colab": {
          "base_uri": "https://localhost:8080/",
          "height": 204
        },
        "outputId": "2b877cb8-9e8e-40b7-cebe-908f860ced69"
      },
      "source": [
        "covid_data_telengana.head()"
      ],
      "execution_count": 59,
      "outputs": [
        {
          "output_type": "execute_result",
          "data": {
            "text/html": [
              "<div>\n",
              "<style scoped>\n",
              "    .dataframe tbody tr th:only-of-type {\n",
              "        vertical-align: middle;\n",
              "    }\n",
              "\n",
              "    .dataframe tbody tr th {\n",
              "        vertical-align: top;\n",
              "    }\n",
              "\n",
              "    .dataframe thead th {\n",
              "        text-align: right;\n",
              "    }\n",
              "</style>\n",
              "<table border=\"1\" class=\"dataframe\">\n",
              "  <thead>\n",
              "    <tr style=\"text-align: right;\">\n",
              "      <th></th>\n",
              "      <th>Date</th>\n",
              "      <th>Confirmed</th>\n",
              "    </tr>\n",
              "  </thead>\n",
              "  <tbody>\n",
              "    <tr>\n",
              "      <th>35</th>\n",
              "      <td>03/03/20</td>\n",
              "      <td>0.0</td>\n",
              "    </tr>\n",
              "    <tr>\n",
              "      <th>43</th>\n",
              "      <td>04/03/20</td>\n",
              "      <td>0.0</td>\n",
              "    </tr>\n",
              "    <tr>\n",
              "      <th>49</th>\n",
              "      <td>05/03/20</td>\n",
              "      <td>0.0</td>\n",
              "    </tr>\n",
              "    <tr>\n",
              "      <th>56</th>\n",
              "      <td>06/03/20</td>\n",
              "      <td>0.0</td>\n",
              "    </tr>\n",
              "    <tr>\n",
              "      <th>60</th>\n",
              "      <td>07/03/20</td>\n",
              "      <td>0.0</td>\n",
              "    </tr>\n",
              "  </tbody>\n",
              "</table>\n",
              "</div>"
            ],
            "text/plain": [
              "        Date  Confirmed\n",
              "35  03/03/20        0.0\n",
              "43  04/03/20        0.0\n",
              "49  05/03/20        0.0\n",
              "56  06/03/20        0.0\n",
              "60  07/03/20        0.0"
            ]
          },
          "metadata": {
            "tags": []
          },
          "execution_count": 59
        }
      ]
    },
    {
      "cell_type": "code",
      "metadata": {
        "id": "uejsvGuUXs0g",
        "colab_type": "code",
        "colab": {}
      },
      "source": [
        "def dateconversion(date):\n",
        "  return datetime.datetime.strptime(date, \"%d/%m/%y\").strftime(\"%Y-%m-%d\")"
      ],
      "execution_count": 60,
      "outputs": []
    },
    {
      "cell_type": "code",
      "metadata": {
        "id": "FCyVCgc1XuaW",
        "colab_type": "code",
        "colab": {}
      },
      "source": [
        "covid_data_telengana[\"Date\"] = covid_data_telengana[\"Date\"].apply(dateconversion)\n",
        "covid_data_AP[\"Date\"] = covid_data_AP[\"Date\"].apply(dateconversion)"
      ],
      "execution_count": 61,
      "outputs": []
    },
    {
      "cell_type": "code",
      "metadata": {
        "id": "nEtytYGkXv5Z",
        "colab_type": "code",
        "colab": {}
      },
      "source": [
        "covid_data_telengana[\"Date\"] =pd.to_datetime(covid_data_telengana[\"Date\"]) \n",
        "covid_data_telengana.set_index(\"Date\",inplace=True)\n",
        "covid_data_AP[\"Date\"] =pd.to_datetime(covid_data_AP[\"Date\"]) \n",
        "covid_data_AP.set_index(\"Date\",inplace=True)"
      ],
      "execution_count": 62,
      "outputs": []
    },
    {
      "cell_type": "code",
      "metadata": {
        "id": "TXU6z_Q4XyWN",
        "colab_type": "code",
        "colab": {}
      },
      "source": [
        "covid_data_telengana = covid_data_telengana.resample('W').agg(\"mean\")\n",
        "covid_data_AP = covid_data_AP.resample('W').agg(\"mean\")"
      ],
      "execution_count": 63,
      "outputs": []
    },
    {
      "cell_type": "code",
      "metadata": {
        "id": "coyGvSWKX3K2",
        "colab_type": "code",
        "colab": {
          "base_uri": "https://localhost:8080/",
          "height": 235
        },
        "outputId": "db7b0339-0583-4e82-f2b1-98500341365b"
      },
      "source": [
        "covid_data_telengana.tail()"
      ],
      "execution_count": 66,
      "outputs": [
        {
          "output_type": "execute_result",
          "data": {
            "text/html": [
              "<div>\n",
              "<style scoped>\n",
              "    .dataframe tbody tr th:only-of-type {\n",
              "        vertical-align: middle;\n",
              "    }\n",
              "\n",
              "    .dataframe tbody tr th {\n",
              "        vertical-align: top;\n",
              "    }\n",
              "\n",
              "    .dataframe thead th {\n",
              "        text-align: right;\n",
              "    }\n",
              "</style>\n",
              "<table border=\"1\" class=\"dataframe\">\n",
              "  <thead>\n",
              "    <tr style=\"text-align: right;\">\n",
              "      <th></th>\n",
              "      <th>Confirmed</th>\n",
              "    </tr>\n",
              "    <tr>\n",
              "      <th>Date</th>\n",
              "      <th></th>\n",
              "    </tr>\n",
              "  </thead>\n",
              "  <tbody>\n",
              "    <tr>\n",
              "      <th>2020-03-22</th>\n",
              "      <td>2.714286</td>\n",
              "    </tr>\n",
              "    <tr>\n",
              "      <th>2020-03-29</th>\n",
              "      <td>6.285714</td>\n",
              "    </tr>\n",
              "    <tr>\n",
              "      <th>2020-04-05</th>\n",
              "      <td>29.000000</td>\n",
              "    </tr>\n",
              "    <tr>\n",
              "      <th>2020-04-12</th>\n",
              "      <td>33.571429</td>\n",
              "    </tr>\n",
              "    <tr>\n",
              "      <th>2020-04-19</th>\n",
              "      <td>48.500000</td>\n",
              "    </tr>\n",
              "  </tbody>\n",
              "</table>\n",
              "</div>"
            ],
            "text/plain": [
              "            Confirmed\n",
              "Date                 \n",
              "2020-03-22   2.714286\n",
              "2020-03-29   6.285714\n",
              "2020-04-05  29.000000\n",
              "2020-04-12  33.571429\n",
              "2020-04-19  48.500000"
            ]
          },
          "metadata": {
            "tags": []
          },
          "execution_count": 66
        }
      ]
    },
    {
      "cell_type": "code",
      "metadata": {
        "id": "4xbCJo5YXzUf",
        "colab_type": "code",
        "colab": {
          "base_uri": "https://localhost:8080/",
          "height": 235
        },
        "outputId": "d071a09f-edfb-49a9-fc4f-7fdebcd695f7"
      },
      "source": [
        "covid_data_AP.tail()"
      ],
      "execution_count": 64,
      "outputs": [
        {
          "output_type": "execute_result",
          "data": {
            "text/html": [
              "<div>\n",
              "<style scoped>\n",
              "    .dataframe tbody tr th:only-of-type {\n",
              "        vertical-align: middle;\n",
              "    }\n",
              "\n",
              "    .dataframe tbody tr th {\n",
              "        vertical-align: top;\n",
              "    }\n",
              "\n",
              "    .dataframe thead th {\n",
              "        text-align: right;\n",
              "    }\n",
              "</style>\n",
              "<table border=\"1\" class=\"dataframe\">\n",
              "  <thead>\n",
              "    <tr style=\"text-align: right;\">\n",
              "      <th></th>\n",
              "      <th>Confirmed</th>\n",
              "    </tr>\n",
              "    <tr>\n",
              "      <th>Date</th>\n",
              "      <th></th>\n",
              "    </tr>\n",
              "  </thead>\n",
              "  <tbody>\n",
              "    <tr>\n",
              "      <th>2020-03-22</th>\n",
              "      <td>0.571429</td>\n",
              "    </tr>\n",
              "    <tr>\n",
              "      <th>2020-03-29</th>\n",
              "      <td>2.000000</td>\n",
              "    </tr>\n",
              "    <tr>\n",
              "      <th>2020-04-05</th>\n",
              "      <td>24.428571</td>\n",
              "    </tr>\n",
              "    <tr>\n",
              "      <th>2020-04-12</th>\n",
              "      <td>27.285714</td>\n",
              "    </tr>\n",
              "    <tr>\n",
              "      <th>2020-04-19</th>\n",
              "      <td>38.250000</td>\n",
              "    </tr>\n",
              "  </tbody>\n",
              "</table>\n",
              "</div>"
            ],
            "text/plain": [
              "            Confirmed\n",
              "Date                 \n",
              "2020-03-22   0.571429\n",
              "2020-03-29   2.000000\n",
              "2020-04-05  24.428571\n",
              "2020-04-12  27.285714\n",
              "2020-04-19  38.250000"
            ]
          },
          "metadata": {
            "tags": []
          },
          "execution_count": 64
        }
      ]
    },
    {
      "cell_type": "code",
      "metadata": {
        "id": "SLXorh2tX2Gy",
        "colab_type": "code",
        "colab": {
          "base_uri": "https://localhost:8080/",
          "height": 617
        },
        "outputId": "1450bed1-9a94-4674-e7c2-83d10c07885e"
      },
      "source": [
        "from plotly.subplots import make_subplots\n",
        "fig = go.Figure()\n",
        "fig.add_trace(go.Scatter(\n",
        "    x=[lockdown1,lockdown2,lockdown3,lockdown4,unlock1,unlock2],\n",
        "    y=[5620,5620,5620,5620,5620,5620],\n",
        "    text=[\"Lockdown 1\",\"Lockdown 2\",\"Lockdown 3\", \"Lockdown 4\", \"Unlock 1\", \"Unlock 2\"],\n",
        "    mode=\"text\",\n",
        "))\n",
        "fig.add_trace(go.Scatter(x=covid_data_telengana.index, y=covid_data_telengana[\"Confirmed\"],\n",
        "                    mode='lines+markers',\n",
        "                    name=\"Telangana Cases\",\n",
        "                    ),\n",
        ")\n",
        "fig.add_trace(go.Scatter(x=covid_data_AP.index, y=covid_data_AP[\"Confirmed\"],\n",
        "                    mode='lines+markers',\n",
        "                    name=\"AP Cases\",\n",
        "                    ),\n",
        ")\n",
        "fig.update_layout(xaxis=dict(range=[mindate,maxdate]))\n",
        "fig.update_layout(\n",
        "    title= \"COVID-19 Cases\",\n",
        "    width=1300,\n",
        "    height=600,\n",
        "    shapes=[\n",
        "        dict(\n",
        "            type=\"line\",\n",
        "            x0=mindate,\n",
        "            y0=0,\n",
        "            x1=maxdate,\n",
        "            y1=0,\n",
        "            line_width=2,\n",
        "            line = dict(\n",
        "                dash = \"dot\"\n",
        "            )\n",
        "        ),\n",
        "        dict(\n",
        "            type=\"line\",\n",
        "            y0=0,\n",
        "            x0= lockdown1,\n",
        "            y1=5620,\n",
        "            x1=lockdown1,\n",
        "            line_width=2,\n",
        "            line = dict(\n",
        "                dash = \"dot\"\n",
        "            )\n",
        "        ),\n",
        "        dict(\n",
        "            type=\"line\",\n",
        "            y0=0,\n",
        "            x0= lockdown2,\n",
        "            y1=5620,\n",
        "            x1=lockdown2,\n",
        "            line_width=2,\n",
        "            line = dict(\n",
        "                dash = \"dot\"\n",
        "            )\n",
        "        ),\n",
        "        dict(\n",
        "            type=\"line\",\n",
        "            y0=0,\n",
        "            x0= lockdown3,\n",
        "            y1=5620,\n",
        "            x1=lockdown3,\n",
        "            line_width=2,\n",
        "            line = dict(\n",
        "                dash = \"dot\"\n",
        "            )\n",
        "        ),\n",
        "        dict(\n",
        "            type=\"line\",\n",
        "            y0=0,\n",
        "            x0= lockdown4,\n",
        "            y1=5620,\n",
        "            x1=lockdown4,\n",
        "            line_width=2,\n",
        "            line = dict(\n",
        "                dash = \"dot\"\n",
        "            )\n",
        "        ),\n",
        "        dict(\n",
        "            type=\"line\",\n",
        "            y0=0,\n",
        "            x0= unlock1,\n",
        "            y1=5620,\n",
        "            x1=unlock1,\n",
        "            line_width=2,\n",
        "            line = dict(\n",
        "                dash = \"dot\"\n",
        "            )\n",
        "        ),\n",
        "        dict(\n",
        "            type=\"line\",\n",
        "            y0=0,\n",
        "            x0= unlock2,\n",
        "            y1=5620,\n",
        "            x1=unlock2,\n",
        "            line_width=2,\n",
        "            line = dict(\n",
        "                dash = \"dot\"\n",
        "            ) \n",
        "        ),\n",
        "    ]\n",
        ")\n",
        "\n",
        "fig.show()"
      ],
      "execution_count": 67,
      "outputs": [
        {
          "output_type": "display_data",
          "data": {
            "text/html": [
              "<html>\n",
              "<head><meta charset=\"utf-8\" /></head>\n",
              "<body>\n",
              "    <div>\n",
              "            <script src=\"https://cdnjs.cloudflare.com/ajax/libs/mathjax/2.7.5/MathJax.js?config=TeX-AMS-MML_SVG\"></script><script type=\"text/javascript\">if (window.MathJax) {MathJax.Hub.Config({SVG: {font: \"STIX-Web\"}});}</script>\n",
              "                <script type=\"text/javascript\">window.PlotlyConfig = {MathJaxConfig: 'local'};</script>\n",
              "        <script src=\"https://cdn.plot.ly/plotly-latest.min.js\"></script>    \n",
              "            <div id=\"a3aac25d-cedf-46e1-b09d-557f682c222a\" class=\"plotly-graph-div\" style=\"height:600px; width:1300px;\"></div>\n",
              "            <script type=\"text/javascript\">\n",
              "                \n",
              "                    window.PLOTLYENV=window.PLOTLYENV || {};\n",
              "                    \n",
              "                if (document.getElementById(\"a3aac25d-cedf-46e1-b09d-557f682c222a\")) {\n",
              "                    Plotly.newPlot(\n",
              "                        'a3aac25d-cedf-46e1-b09d-557f682c222a',\n",
              "                        [{\"mode\": \"text\", \"text\": [\"Lockdown 1\", \"Lockdown 2\", \"Lockdown 3\", \"Lockdown 4\", \"Unlock 1\", \"Unlock 2\"], \"type\": \"scatter\", \"x\": [\"2020-03-22T00:00:00\", \"2020-04-15T00:00:00\", \"2020-05-04T00:00:00\", \"2020-05-18T00:00:00\", \"2020-06-01T00:00:00\", \"2020-07-01T00:00:00\"], \"y\": [5620, 5620, 5620, 5620, 5620, 5620]}, {\"mode\": \"lines+markers\", \"name\": \"Telangana Cases\", \"type\": \"scatter\", \"x\": [\"2020-03-08T00:00:00\", \"2020-03-15T00:00:00\", \"2020-03-22T00:00:00\", \"2020-03-29T00:00:00\", \"2020-04-05T00:00:00\", \"2020-04-12T00:00:00\", \"2020-04-19T00:00:00\"], \"y\": [0.0, 0.2857142857142857, 2.7142857142857144, 6.285714285714286, 29.0, 33.57142857142857, 48.5]}, {\"mode\": \"lines+markers\", \"name\": \"AP Cases\", \"type\": \"scatter\", \"x\": [\"2020-03-15T00:00:00\", \"2020-03-22T00:00:00\", \"2020-03-29T00:00:00\", \"2020-04-05T00:00:00\", \"2020-04-12T00:00:00\", \"2020-04-19T00:00:00\"], \"y\": [0.0, 0.5714285714285714, 2.0, 24.428571428571427, 27.285714285714285, 38.25]}],\n",
              "                        {\"height\": 600, \"shapes\": [{\"line\": {\"dash\": \"dot\", \"width\": 2}, \"type\": \"line\", \"x0\": \"2020-02-16T00:00:00\", \"x1\": \"2020-08-02T00:00:00\", \"y0\": 0, \"y1\": 0}, {\"line\": {\"dash\": \"dot\", \"width\": 2}, \"type\": \"line\", \"x0\": \"2020-03-22T00:00:00\", \"x1\": \"2020-03-22T00:00:00\", \"y0\": 0, \"y1\": 5620}, {\"line\": {\"dash\": \"dot\", \"width\": 2}, \"type\": \"line\", \"x0\": \"2020-04-15T00:00:00\", \"x1\": \"2020-04-15T00:00:00\", \"y0\": 0, \"y1\": 5620}, {\"line\": {\"dash\": \"dot\", \"width\": 2}, \"type\": \"line\", \"x0\": \"2020-05-04T00:00:00\", \"x1\": \"2020-05-04T00:00:00\", \"y0\": 0, \"y1\": 5620}, {\"line\": {\"dash\": \"dot\", \"width\": 2}, \"type\": \"line\", \"x0\": \"2020-05-18T00:00:00\", \"x1\": \"2020-05-18T00:00:00\", \"y0\": 0, \"y1\": 5620}, {\"line\": {\"dash\": \"dot\", \"width\": 2}, \"type\": \"line\", \"x0\": \"2020-06-01T00:00:00\", \"x1\": \"2020-06-01T00:00:00\", \"y0\": 0, \"y1\": 5620}, {\"line\": {\"dash\": \"dot\", \"width\": 2}, \"type\": \"line\", \"x0\": \"2020-07-01T00:00:00\", \"x1\": \"2020-07-01T00:00:00\", \"y0\": 0, \"y1\": 5620}], \"template\": {\"data\": {\"bar\": [{\"error_x\": {\"color\": \"#2a3f5f\"}, \"error_y\": {\"color\": \"#2a3f5f\"}, \"marker\": {\"line\": {\"color\": \"#E5ECF6\", \"width\": 0.5}}, \"type\": \"bar\"}], \"barpolar\": [{\"marker\": {\"line\": {\"color\": \"#E5ECF6\", \"width\": 0.5}}, \"type\": \"barpolar\"}], \"carpet\": [{\"aaxis\": {\"endlinecolor\": \"#2a3f5f\", \"gridcolor\": \"white\", \"linecolor\": \"white\", \"minorgridcolor\": \"white\", \"startlinecolor\": \"#2a3f5f\"}, \"baxis\": {\"endlinecolor\": \"#2a3f5f\", \"gridcolor\": \"white\", \"linecolor\": \"white\", \"minorgridcolor\": \"white\", \"startlinecolor\": \"#2a3f5f\"}, \"type\": \"carpet\"}], \"choropleth\": [{\"colorbar\": {\"outlinewidth\": 0, \"ticks\": \"\"}, \"type\": \"choropleth\"}], \"contour\": [{\"colorbar\": {\"outlinewidth\": 0, \"ticks\": \"\"}, \"colorscale\": [[0.0, \"#0d0887\"], [0.1111111111111111, \"#46039f\"], [0.2222222222222222, \"#7201a8\"], [0.3333333333333333, \"#9c179e\"], [0.4444444444444444, \"#bd3786\"], [0.5555555555555556, \"#d8576b\"], [0.6666666666666666, \"#ed7953\"], [0.7777777777777778, \"#fb9f3a\"], [0.8888888888888888, \"#fdca26\"], [1.0, \"#f0f921\"]], \"type\": \"contour\"}], \"contourcarpet\": [{\"colorbar\": {\"outlinewidth\": 0, \"ticks\": \"\"}, \"type\": \"contourcarpet\"}], \"heatmap\": [{\"colorbar\": {\"outlinewidth\": 0, \"ticks\": \"\"}, \"colorscale\": [[0.0, \"#0d0887\"], [0.1111111111111111, \"#46039f\"], [0.2222222222222222, \"#7201a8\"], [0.3333333333333333, \"#9c179e\"], [0.4444444444444444, \"#bd3786\"], [0.5555555555555556, \"#d8576b\"], [0.6666666666666666, \"#ed7953\"], [0.7777777777777778, \"#fb9f3a\"], [0.8888888888888888, \"#fdca26\"], [1.0, \"#f0f921\"]], \"type\": \"heatmap\"}], \"heatmapgl\": [{\"colorbar\": {\"outlinewidth\": 0, \"ticks\": \"\"}, \"colorscale\": [[0.0, \"#0d0887\"], [0.1111111111111111, \"#46039f\"], [0.2222222222222222, \"#7201a8\"], [0.3333333333333333, \"#9c179e\"], [0.4444444444444444, \"#bd3786\"], [0.5555555555555556, \"#d8576b\"], [0.6666666666666666, \"#ed7953\"], [0.7777777777777778, \"#fb9f3a\"], [0.8888888888888888, \"#fdca26\"], [1.0, \"#f0f921\"]], \"type\": \"heatmapgl\"}], \"histogram\": [{\"marker\": {\"colorbar\": {\"outlinewidth\": 0, \"ticks\": \"\"}}, \"type\": \"histogram\"}], \"histogram2d\": [{\"colorbar\": {\"outlinewidth\": 0, \"ticks\": \"\"}, \"colorscale\": [[0.0, \"#0d0887\"], [0.1111111111111111, \"#46039f\"], [0.2222222222222222, \"#7201a8\"], [0.3333333333333333, \"#9c179e\"], [0.4444444444444444, \"#bd3786\"], [0.5555555555555556, \"#d8576b\"], [0.6666666666666666, \"#ed7953\"], [0.7777777777777778, \"#fb9f3a\"], [0.8888888888888888, \"#fdca26\"], [1.0, \"#f0f921\"]], \"type\": \"histogram2d\"}], \"histogram2dcontour\": [{\"colorbar\": {\"outlinewidth\": 0, \"ticks\": \"\"}, \"colorscale\": [[0.0, \"#0d0887\"], [0.1111111111111111, \"#46039f\"], [0.2222222222222222, \"#7201a8\"], [0.3333333333333333, \"#9c179e\"], [0.4444444444444444, \"#bd3786\"], [0.5555555555555556, \"#d8576b\"], [0.6666666666666666, \"#ed7953\"], [0.7777777777777778, \"#fb9f3a\"], [0.8888888888888888, \"#fdca26\"], [1.0, \"#f0f921\"]], \"type\": \"histogram2dcontour\"}], \"mesh3d\": [{\"colorbar\": {\"outlinewidth\": 0, \"ticks\": \"\"}, \"type\": \"mesh3d\"}], \"parcoords\": [{\"line\": {\"colorbar\": {\"outlinewidth\": 0, \"ticks\": \"\"}}, \"type\": \"parcoords\"}], \"pie\": [{\"automargin\": true, \"type\": \"pie\"}], \"scatter\": [{\"marker\": {\"colorbar\": {\"outlinewidth\": 0, \"ticks\": \"\"}}, \"type\": \"scatter\"}], \"scatter3d\": [{\"line\": {\"colorbar\": {\"outlinewidth\": 0, \"ticks\": \"\"}}, \"marker\": {\"colorbar\": {\"outlinewidth\": 0, \"ticks\": \"\"}}, \"type\": \"scatter3d\"}], \"scattercarpet\": [{\"marker\": {\"colorbar\": {\"outlinewidth\": 0, \"ticks\": \"\"}}, \"type\": \"scattercarpet\"}], \"scattergeo\": [{\"marker\": {\"colorbar\": {\"outlinewidth\": 0, \"ticks\": \"\"}}, \"type\": \"scattergeo\"}], \"scattergl\": [{\"marker\": {\"colorbar\": {\"outlinewidth\": 0, \"ticks\": \"\"}}, \"type\": \"scattergl\"}], \"scattermapbox\": [{\"marker\": {\"colorbar\": {\"outlinewidth\": 0, \"ticks\": \"\"}}, \"type\": \"scattermapbox\"}], \"scatterpolar\": [{\"marker\": {\"colorbar\": {\"outlinewidth\": 0, \"ticks\": \"\"}}, \"type\": \"scatterpolar\"}], \"scatterpolargl\": [{\"marker\": {\"colorbar\": {\"outlinewidth\": 0, \"ticks\": \"\"}}, \"type\": \"scatterpolargl\"}], \"scatterternary\": [{\"marker\": {\"colorbar\": {\"outlinewidth\": 0, \"ticks\": \"\"}}, \"type\": \"scatterternary\"}], \"surface\": [{\"colorbar\": {\"outlinewidth\": 0, \"ticks\": \"\"}, \"colorscale\": [[0.0, \"#0d0887\"], [0.1111111111111111, \"#46039f\"], [0.2222222222222222, \"#7201a8\"], [0.3333333333333333, \"#9c179e\"], [0.4444444444444444, \"#bd3786\"], [0.5555555555555556, \"#d8576b\"], [0.6666666666666666, \"#ed7953\"], [0.7777777777777778, \"#fb9f3a\"], [0.8888888888888888, \"#fdca26\"], [1.0, \"#f0f921\"]], \"type\": \"surface\"}], \"table\": [{\"cells\": {\"fill\": {\"color\": \"#EBF0F8\"}, \"line\": {\"color\": \"white\"}}, \"header\": {\"fill\": {\"color\": \"#C8D4E3\"}, \"line\": {\"color\": \"white\"}}, \"type\": \"table\"}]}, \"layout\": {\"annotationdefaults\": {\"arrowcolor\": \"#2a3f5f\", \"arrowhead\": 0, \"arrowwidth\": 1}, \"coloraxis\": {\"colorbar\": {\"outlinewidth\": 0, \"ticks\": \"\"}}, \"colorscale\": {\"diverging\": [[0, \"#8e0152\"], [0.1, \"#c51b7d\"], [0.2, \"#de77ae\"], [0.3, \"#f1b6da\"], [0.4, \"#fde0ef\"], [0.5, \"#f7f7f7\"], [0.6, \"#e6f5d0\"], [0.7, \"#b8e186\"], [0.8, \"#7fbc41\"], [0.9, \"#4d9221\"], [1, \"#276419\"]], \"sequential\": [[0.0, \"#0d0887\"], [0.1111111111111111, \"#46039f\"], [0.2222222222222222, \"#7201a8\"], [0.3333333333333333, \"#9c179e\"], [0.4444444444444444, \"#bd3786\"], [0.5555555555555556, \"#d8576b\"], [0.6666666666666666, \"#ed7953\"], [0.7777777777777778, \"#fb9f3a\"], [0.8888888888888888, \"#fdca26\"], [1.0, \"#f0f921\"]], \"sequentialminus\": [[0.0, \"#0d0887\"], [0.1111111111111111, \"#46039f\"], [0.2222222222222222, \"#7201a8\"], [0.3333333333333333, \"#9c179e\"], [0.4444444444444444, \"#bd3786\"], [0.5555555555555556, \"#d8576b\"], [0.6666666666666666, \"#ed7953\"], [0.7777777777777778, \"#fb9f3a\"], [0.8888888888888888, \"#fdca26\"], [1.0, \"#f0f921\"]]}, \"colorway\": [\"#636efa\", \"#EF553B\", \"#00cc96\", \"#ab63fa\", \"#FFA15A\", \"#19d3f3\", \"#FF6692\", \"#B6E880\", \"#FF97FF\", \"#FECB52\"], \"font\": {\"color\": \"#2a3f5f\"}, \"geo\": {\"bgcolor\": \"white\", \"lakecolor\": \"white\", \"landcolor\": \"#E5ECF6\", \"showlakes\": true, \"showland\": true, \"subunitcolor\": \"white\"}, \"hoverlabel\": {\"align\": \"left\"}, \"hovermode\": \"closest\", \"mapbox\": {\"style\": \"light\"}, \"paper_bgcolor\": \"white\", \"plot_bgcolor\": \"#E5ECF6\", \"polar\": {\"angularaxis\": {\"gridcolor\": \"white\", \"linecolor\": \"white\", \"ticks\": \"\"}, \"bgcolor\": \"#E5ECF6\", \"radialaxis\": {\"gridcolor\": \"white\", \"linecolor\": \"white\", \"ticks\": \"\"}}, \"scene\": {\"xaxis\": {\"backgroundcolor\": \"#E5ECF6\", \"gridcolor\": \"white\", \"gridwidth\": 2, \"linecolor\": \"white\", \"showbackground\": true, \"ticks\": \"\", \"zerolinecolor\": \"white\"}, \"yaxis\": {\"backgroundcolor\": \"#E5ECF6\", \"gridcolor\": \"white\", \"gridwidth\": 2, \"linecolor\": \"white\", \"showbackground\": true, \"ticks\": \"\", \"zerolinecolor\": \"white\"}, \"zaxis\": {\"backgroundcolor\": \"#E5ECF6\", \"gridcolor\": \"white\", \"gridwidth\": 2, \"linecolor\": \"white\", \"showbackground\": true, \"ticks\": \"\", \"zerolinecolor\": \"white\"}}, \"shapedefaults\": {\"line\": {\"color\": \"#2a3f5f\"}}, \"ternary\": {\"aaxis\": {\"gridcolor\": \"white\", \"linecolor\": \"white\", \"ticks\": \"\"}, \"baxis\": {\"gridcolor\": \"white\", \"linecolor\": \"white\", \"ticks\": \"\"}, \"bgcolor\": \"#E5ECF6\", \"caxis\": {\"gridcolor\": \"white\", \"linecolor\": \"white\", \"ticks\": \"\"}}, \"title\": {\"x\": 0.05}, \"xaxis\": {\"automargin\": true, \"gridcolor\": \"white\", \"linecolor\": \"white\", \"ticks\": \"\", \"title\": {\"standoff\": 15}, \"zerolinecolor\": \"white\", \"zerolinewidth\": 2}, \"yaxis\": {\"automargin\": true, \"gridcolor\": \"white\", \"linecolor\": \"white\", \"ticks\": \"\", \"title\": {\"standoff\": 15}, \"zerolinecolor\": \"white\", \"zerolinewidth\": 2}}}, \"title\": {\"text\": \"COVID-19 Cases\"}, \"width\": 1300, \"xaxis\": {\"range\": [\"2020-02-16T00:00:00\", \"2020-08-02T00:00:00\"]}},\n",
              "                        {\"responsive\": true}\n",
              "                    ).then(function(){\n",
              "                            \n",
              "var gd = document.getElementById('a3aac25d-cedf-46e1-b09d-557f682c222a');\n",
              "var x = new MutationObserver(function (mutations, observer) {{\n",
              "        var display = window.getComputedStyle(gd).display;\n",
              "        if (!display || display === 'none') {{\n",
              "            console.log([gd, 'removed!']);\n",
              "            Plotly.purge(gd);\n",
              "            observer.disconnect();\n",
              "        }}\n",
              "}});\n",
              "\n",
              "// Listen for the removal of the full notebook cells\n",
              "var notebookContainer = gd.closest('#notebook-container');\n",
              "if (notebookContainer) {{\n",
              "    x.observe(notebookContainer, {childList: true});\n",
              "}}\n",
              "\n",
              "// Listen for the clearing of the current output cell\n",
              "var outputEl = gd.closest('.output');\n",
              "if (outputEl) {{\n",
              "    x.observe(outputEl, {childList: true});\n",
              "}}\n",
              "\n",
              "                        })\n",
              "                };\n",
              "                \n",
              "            </script>\n",
              "        </div>\n",
              "</body>\n",
              "</html>"
            ]
          },
          "metadata": {
            "tags": []
          }
        }
      ]
    }
  ]
}