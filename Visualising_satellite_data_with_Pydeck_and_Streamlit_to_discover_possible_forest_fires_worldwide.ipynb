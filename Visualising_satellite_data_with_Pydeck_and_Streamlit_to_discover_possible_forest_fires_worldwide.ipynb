{
  "nbformat": 4,
  "nbformat_minor": 0,
  "metadata": {
    "colab": {
      "provenance": [],
      "authorship_tag": "ABX9TyOspnrJCW1AahS53YCoViOT"
    },
    "kernelspec": {
      "name": "python3",
      "display_name": "Python 3"
    },
    "language_info": {
      "name": "python"
    }
  },
  "cells": [
    {
      "cell_type": "markdown",
      "source": [
        "[Reference](https://medium.com/codex/visualising-satellite-data-with-pydeck-and-streamlit-to-discover-possible-forest-fires-worldwide-7cb4f25351ba)"
      ],
      "metadata": {
        "id": "7tY6EvGhzT2x"
      }
    },
    {
      "cell_type": "markdown",
      "source": [
        "# Retrieving the dataset\n"
      ],
      "metadata": {
        "id": "wVe4rGnRzWw7"
      }
    },
    {
      "cell_type": "code",
      "execution_count": null,
      "metadata": {
        "id": "uV9JDw06zSei"
      },
      "outputs": [],
      "source": [
        "import pandas as pd\n",
        "import urllib.request\n",
        "import os\n",
        "\n",
        "DATA_URL = \"https://queimadas.dgi.inpe.br/home/downloadfile?path=%2Fapp%2Fapi%2Fdata%2Fdados_abertos%2Ffocos%2FMensal%2Ffocos_abertos_mensal_202208.csv\"\n",
        "DATA_FILE = 'data\\ForestFires202208.csv'\n",
        "urllib.request.urlretrieve(DATA_URL, DATA_FILE)\n",
        "\n",
        "df = pd.read_csv('data\\ForestFires202208.csv', encoding='utf-8', low_memory=False, date_parser=pd.to_datetime)\n",
        "df = df[['lat', 'lon', 'data_hora_gmt', 'satelite', 'pais']]\n",
        "\n",
        "df.to_csv('data\\ForestFires.csv', index=False)\n",
        "os.remove('data\\ForestFires202208.csv')"
      ]
    },
    {
      "cell_type": "markdown",
      "source": [
        "# Creating our Streamlit application\n"
      ],
      "metadata": {
        "id": "KI02UsrdzfX5"
      }
    },
    {
      "cell_type": "code",
      "source": [
        "import streamlit as st\n",
        "import pandas as pd\n",
        "import datetime\n",
        "import pydeck as pdk\n",
        "\n",
        "st.set_page_config(layout=\"wide\")\n",
        "\n",
        "st.title(\"Forest Fires worldwide 🌳🔥\")"
      ],
      "metadata": {
        "id": "0D-XXsHhzdx7"
      },
      "execution_count": null,
      "outputs": []
    },
    {
      "cell_type": "markdown",
      "source": [
        "# Importing and formatting the dataset\n"
      ],
      "metadata": {
        "id": "-yLCD4qSzinQ"
      }
    },
    {
      "cell_type": "code",
      "source": [
        "@st.cache(persist = True)\n",
        "def importing_dataset ():\n",
        "    # Passing the file to df_heatSpots dataframe and formating the values types\n",
        "    df_heatSpots = pd.read_csv('data/ForestFires.csv', encoding='utf-8')\n",
        "\n",
        "    df_heatSpots[['satelite']] = df_heatSpots[['satelite']].astype('category')\n",
        "    df_heatSpots[['pais']] = df_heatSpots[['pais']].astype('category')\n",
        "    df_heatSpots[['data_hora_gmt']] = df_heatSpots[['data_hora_gmt']].astype('category')\n",
        "\n",
        "    floats = df_heatSpots.select_dtypes(include=['float64']).columns.tolist()\n",
        "    df_heatSpots[floats] = df_heatSpots[floats].astype('float32')\n",
        "\n",
        "    df_heatSpots['data_hora_gmt'] = pd.to_datetime(df_heatSpots['data_hora_gmt'])\n",
        "\n",
        "    return df_heatSpots"
      ],
      "metadata": {
        "id": "WrkVetayzkN2"
      },
      "execution_count": null,
      "outputs": []
    },
    {
      "cell_type": "code",
      "source": [
        "def choosing_variables():\n",
        "    # Date selection\n",
        "    with st.sidebar:\n",
        "        st.sidebar.markdown(\"**First select the data range you want to analyze:** 👇\")\n",
        "        date = st.date_input(\"Choose a August 2022 date\",datetime.date(2022, 8, 6))\n",
        "    \n",
        "        # Country selection\n",
        "        all_options_country = df_heatSpots['pais'].unique()\n",
        "        select_country = st.multiselect(\"Country options (Leave blank to allow all countries)\", all_options_country, ['Brasil'])\n",
        "\n",
        "        if len(select_country) > 0:\n",
        "            temp_select_country = select_country\n",
        "        else:\n",
        "            temp_select_country = all_options_country\n",
        "\n",
        "        # Satellite selection\n",
        "        all_options_satellite = df_heatSpots['satelite'].unique()\n",
        "        select_satellite = st.multiselect(\"satellite options (Leave blank to allow all satellites)\", all_options_satellite, ['NOAA-20'])\n",
        "\n",
        "        if len(select_satellite) > 0:\n",
        "            temp_select_satellite = select_satellite\n",
        "        else:\n",
        "            temp_select_satellite = all_options_satellite\n",
        "\n",
        "    return date, temp_select_country, temp_select_satellite"
      ],
      "metadata": {
        "id": "_og7y4a-znOM"
      },
      "execution_count": null,
      "outputs": []
    },
    {
      "cell_type": "markdown",
      "source": [
        "# Querying the heat spots dataframe\n"
      ],
      "metadata": {
        "id": "Bf2sT0jGzobY"
      }
    },
    {
      "cell_type": "code",
      "source": [
        "df_heatSpots = importing_dataset()\n",
        "\n",
        "# Defining initial date country and satellite variables\n",
        "date = datetime.datetime.strptime('19082022', \"%d%m%Y\").date()\n",
        "temp_select_country = ['Brasil']\n",
        "temp_select_satellite = ['NOAA-20']\n",
        "\n",
        "# Hidding the possible options\n",
        "date, temp_select_country, temp_select_satellite = choosing_variables()\n",
        "\n",
        "# Querying the df_heatSpots dataframe\n",
        "df_heatSpots = df_heatSpots[(df_heatSpots['data_hora_gmt'].dt.date == date) & \n",
        "                    (df_heatSpots['pais'].isin(temp_select_country)) &\n",
        "                    (df_heatSpots['satelite'].isin(temp_select_satellite))]"
      ],
      "metadata": {
        "id": "vQkkrS3rzqFV"
      },
      "execution_count": null,
      "outputs": []
    },
    {
      "cell_type": "markdown",
      "source": [
        "# Setting the Pydeck map\n"
      ],
      "metadata": {
        "id": "dvu78T_9zsag"
      }
    },
    {
      "cell_type": "code",
      "source": [
        "# Defining the Latitude and Longite as 0 to centre the map\n",
        "lat0=0\n",
        "lon0=0\n",
        "\n",
        "# Set the viewport location\n",
        "view_state = pdk.ViewState(latitude=lat0, longitude=lon0, zoom=1.9, bearing=0, pitch=45)"
      ],
      "metadata": {
        "id": "OQRQmvMCzttC"
      },
      "execution_count": null,
      "outputs": []
    },
    {
      "cell_type": "code",
      "source": [
        "# Define a layer to display on a map\n",
        "layer = pdk.Layer(\n",
        "    \"ColumnLayer\",\n",
        "    df_heatSpots,\n",
        "    get_position='[lon, lat]',\n",
        "    elevation_scale=50,\n",
        "    pickable=True,\n",
        "    elevation_range=[50, 500],\n",
        "    get_fill_color=[180, 0, 200, 140],\n",
        "    extruded=True,\n",
        "    radius=25,\n",
        "    coverage=50,\n",
        "    auto_highlight=True,\n",
        ")"
      ],
      "metadata": {
        "id": "px92NDNNzvh-"
      },
      "execution_count": null,
      "outputs": []
    },
    {
      "cell_type": "code",
      "source": [
        "# Generating tooltip for each generated point in the map with the related satellite\n",
        "tooltip = {\n",
        "    \"html\": \"satellite: <b>{satellite}</b>\",\n",
        "    \"style\": {\"background\": \"grey\", \"color\": \"white\", \"font-family\": '\"Helvetica Neue\", Arial', \"z-index\": \"10000\"},\n",
        "}\n",
        "\n",
        "# Rendering the map \n",
        "st.pydeck_chart(pdk.Deck(\n",
        "    layers=[layer],\n",
        "    initial_view_state=view_state,\n",
        "    map_style='mapbox://styles/mapbox/dark-v10',\n",
        "    tooltip=tooltip\n",
        "))"
      ],
      "metadata": {
        "id": "qhmzNmvKzxRI"
      },
      "execution_count": null,
      "outputs": []
    }
  ]
}