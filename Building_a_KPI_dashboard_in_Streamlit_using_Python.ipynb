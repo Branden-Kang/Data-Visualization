{
  "nbformat": 4,
  "nbformat_minor": 0,
  "metadata": {
    "colab": {
      "provenance": [],
      "authorship_tag": "ABX9TyOKXx79f9SBiYkHTmbytdme"
    },
    "kernelspec": {
      "name": "python3",
      "display_name": "Python 3"
    },
    "language_info": {
      "name": "python"
    }
  },
  "cells": [
    {
      "cell_type": "markdown",
      "source": [
        "[Reference](https://medium.com/@cameronjosephjones/building-a-kpi-dashboard-in-streamlit-using-python-c88ac63903f5)"
      ],
      "metadata": {
        "id": "Igs4Ir-CWcOu"
      }
    },
    {
      "cell_type": "code",
      "execution_count": 4,
      "metadata": {
        "id": "5V2xAYMxWbM5"
      },
      "outputs": [],
      "source": [
        "from typing import List, Tuple\n",
        "\n",
        "import pandas as pd\n",
        "import plotly.express as px\n",
        "import streamlit as st\n",
        "\n",
        "def set_page_config():\n",
        "    st.set_page_config(\n",
        "        page_title=\"Sales Dashboard\",\n",
        "        page_icon=\":bar_chart:\",\n",
        "        layout=\"wide\",\n",
        "        initial_sidebar_state=\"expanded\",\n",
        "    )\n",
        "    st.markdown(\"<style> footer {visibility: hidden;} </style>\", unsafe_allow_html=True)\n",
        "\n",
        "@st.cache_data\n",
        "def load_data() -> pd.DataFrame:\n",
        "    data = pd.read_csv('data/sales_data_sample.csv', encoding='latin1')\n",
        "    data['ORDERDATE'] = pd.to_datetime(data['ORDERDATE'])\n",
        "    return data\n",
        "\n",
        "def filter_data(data: pd.DataFrame, column: str, values: List[str]) -> pd.DataFrame:\n",
        "    return data[data[column].isin(values)] if values else data\n",
        "\n",
        "\n",
        "@st.cache_data\n",
        "def calculate_kpis(data: pd.DataFrame) -> List[float]:\n",
        "    total_sales = data['SALES'].sum()\n",
        "    sales_in_m = f\"{total_sales / 1000000:.2f}M\"\n",
        "    total_orders = data['ORDERNUMBER'].nunique()\n",
        "    average_sales_per_order = f\"{total_sales / total_orders / 1000:.2f}K\"\n",
        "    unique_customers = data['CUSTOMERNAME'].nunique()\n",
        "    return [sales_in_m, total_orders, average_sales_per_order, unique_customers]\n",
        "\n",
        "def display_kpi_metrics(kpis: List[float], kpi_names: List[str]):\n",
        "    st.header(\"KPI Metrics\")\n",
        "    for i, (col, (kpi_name, kpi_value)) in enumerate(zip(st.columns(4), zip(kpi_names, kpis))):\n",
        "        col.metric(label=kpi_name, value=kpi_value)\n",
        "\n",
        "def display_sidebar(data: pd.DataFrame) -> Tuple[List[str], List[str], List[str]]:\n",
        "    st.sidebar.header(\"Filters\")\n",
        "    start_date = pd.Timestamp(st.sidebar.date_input(\"Start date\", data['ORDERDATE'].min().date()))\n",
        "    end_date = pd.Timestamp(st.sidebar.date_input(\"End date\", data['ORDERDATE'].max().date()))\n",
        "\n",
        "    product_lines = sorted(data['PRODUCTLINE'].unique())\n",
        "    selected_product_lines = st.sidebar.multiselect(\"Product lines\", product_lines, product_lines)\n",
        "\n",
        "    selected_countries = st.sidebar.multiselect(\"Select Countries\", data['COUNTRY'].unique())\n",
        "\n",
        "    selected_statuses = st.sidebar.multiselect(\"Select Order Statuses\", data['STATUS'].unique())\n",
        "\n",
        "    return selected_product_lines, selected_countries, selected_statuses\n",
        "\n",
        "def display_charts(data: pd.DataFrame):\n",
        "    combine_product_lines = st.checkbox(\"Combine Product Lines\", value=True)\n",
        "\n",
        "    if combine_product_lines:\n",
        "        fig = px.area(data, x='ORDERDATE', y='SALES',\n",
        "                      title=\"Sales by Product Line Over Time\", width=900, height=500)\n",
        "    else:\n",
        "        fig = px.area(data, x='ORDERDATE', y='SALES', color='PRODUCTLINE',\n",
        "                      title=\"Sales by Product Line Over Time\", width=900, height=500)\n",
        "\n",
        "    fig.update_layout(margin=dict(l=20, r=20, t=50, b=20))\n",
        "    fig.update_xaxes(rangemode='tozero', showgrid=False)\n",
        "    fig.update_yaxes(rangemode='tozero', showgrid=True)\n",
        "    st.plotly_chart(fig, use_container_width=True)\n",
        "\n",
        "    col1, col2, col3 = st.columns(3)\n",
        "\n",
        "    with col1:\n",
        "        st.subheader(\"Top 10 Customers\")\n",
        "        top_customers = data.groupby('CUSTOMERNAME')['SALES'].sum().reset_index().sort_values('SALES',\n",
        "                                                                                              ascending=False).head(10)\n",
        "        st.write(top_customers)\n",
        "\n",
        "    with col2:\n",
        "        st.subheader(\"Top 10 Products by Sales\")\n",
        "        top_products = data.groupby(['PRODUCTCODE', 'PRODUCTLINE'])['SALES'].sum().reset_index().sort_values('SALES',\n",
        "                                                                                                             ascending=False).head(\n",
        "            10)\n",
        "        st.write(top_products)\n",
        "\n",
        "    with col3:\n",
        "        st.subheader(\"Total Sales by Product Line\")\n",
        "        total_sales_by_product_line = data.groupby('PRODUCTLINE')['SALES'].sum().reset_index()\n",
        "        st.write(total_sales_by_product_line)"
      ]
    },
    {
      "cell_type": "code",
      "source": [
        "def main():\n",
        "    set_page_config()\n",
        "\n",
        "    data = load_data()\n",
        "\n",
        "    st.title(\"📊 Sales Dashboard\")\n",
        "\n",
        "    selected_product_lines, selected_countries, selected_statuses = display_sidebar(data)\n",
        "\n",
        "    filtered_data = data.copy()\n",
        "    filtered_data = filter_data(filtered_data, 'PRODUCTLINE', selected_product_lines)\n",
        "    filtered_data = filter_data(filtered_data, 'COUNTRY', selected_countries)\n",
        "    filtered_data = filter_data(filtered_data, 'STATUS', selected_statuses)\n",
        "\n",
        "    kpis = calculate_kpis(filtered_data)\n",
        "    kpi_names = [\"Total Sales\", \"Total Orders\", \"Average Sales per Order\", \"Unique Customers\"]\n",
        "    display_kpi_metrics(kpis, kpi_names)\n",
        "\n",
        "    display_charts(filtered_data)\n",
        "\n",
        "\n",
        "if __name__ == '__main__':\n",
        "    main()"
      ],
      "metadata": {
        "id": "GZUjAN4NWojn"
      },
      "execution_count": 2,
      "outputs": []
    },
    {
      "cell_type": "code",
      "source": [
        "# streamlit run app.py"
      ],
      "metadata": {
        "id": "xSVbnvIlWq4u"
      },
      "execution_count": 3,
      "outputs": []
    }
  ]
}