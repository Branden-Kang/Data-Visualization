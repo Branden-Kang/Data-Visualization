{
 "cells": [
  {
   "cell_type": "markdown",
   "metadata": {},
   "source": [
    "[Reference1](https://towardsdatascience.com/an-end-to-end-data-science-project-that-will-boost-your-portfolio-c53cfe16f0e3)<br>\n",
    "[Reference2](https://github.com/pbugnion/gmaps)"
   ]
  },
  {
   "cell_type": "code",
   "execution_count": 1,
   "metadata": {
    "ExecuteTime": {
     "end_time": "2020-09-16T06:26:26.672316Z",
     "start_time": "2020-09-16T06:26:22.984846Z"
    }
   },
   "outputs": [
    {
     "data": {
      "text/html": [
       "<div>\n",
       "<style scoped>\n",
       "    .dataframe tbody tr th:only-of-type {\n",
       "        vertical-align: middle;\n",
       "    }\n",
       "\n",
       "    .dataframe tbody tr th {\n",
       "        vertical-align: top;\n",
       "    }\n",
       "\n",
       "    .dataframe thead th {\n",
       "        text-align: right;\n",
       "    }\n",
       "</style>\n",
       "<table border=\"1\" class=\"dataframe\">\n",
       "  <thead>\n",
       "    <tr style=\"text-align: right;\">\n",
       "      <th></th>\n",
       "      <th>latitude</th>\n",
       "      <th>longitude</th>\n",
       "      <th>magnitude</th>\n",
       "    </tr>\n",
       "  </thead>\n",
       "  <tbody>\n",
       "    <tr>\n",
       "      <th>0</th>\n",
       "      <td>65.193300</td>\n",
       "      <td>-149.072500</td>\n",
       "      <td>1.70</td>\n",
       "    </tr>\n",
       "    <tr>\n",
       "      <th>1</th>\n",
       "      <td>38.791832</td>\n",
       "      <td>-122.780830</td>\n",
       "      <td>2.10</td>\n",
       "    </tr>\n",
       "    <tr>\n",
       "      <th>2</th>\n",
       "      <td>38.818001</td>\n",
       "      <td>-122.792168</td>\n",
       "      <td>0.48</td>\n",
       "    </tr>\n",
       "    <tr>\n",
       "      <th>3</th>\n",
       "      <td>33.601667</td>\n",
       "      <td>-116.727667</td>\n",
       "      <td>0.78</td>\n",
       "    </tr>\n",
       "    <tr>\n",
       "      <th>4</th>\n",
       "      <td>37.378334</td>\n",
       "      <td>-118.520836</td>\n",
       "      <td>3.64</td>\n",
       "    </tr>\n",
       "  </tbody>\n",
       "</table>\n",
       "</div>"
      ],
      "text/plain": [
       "    latitude   longitude  magnitude\n",
       "0  65.193300 -149.072500       1.70\n",
       "1  38.791832 -122.780830       2.10\n",
       "2  38.818001 -122.792168       0.48\n",
       "3  33.601667 -116.727667       0.78\n",
       "4  37.378334 -118.520836       3.64"
      ]
     },
     "execution_count": 1,
     "metadata": {},
     "output_type": "execute_result"
    }
   ],
   "source": [
    "import gmaps\n",
    "import gmaps.datasets\n",
    "\n",
    "# gmaps.configure(api_key='AI...') # Fill in with your API key\n",
    "\n",
    "earthquake_df = gmaps.datasets.load_dataset_as_df('earthquakes')\n",
    "earthquake_df.head()"
   ]
  },
  {
   "cell_type": "code",
   "execution_count": 2,
   "metadata": {
    "ExecuteTime": {
     "end_time": "2020-09-16T06:26:27.476444Z",
     "start_time": "2020-09-16T06:26:27.275253Z"
    }
   },
   "outputs": [
    {
     "data": {
      "application/vnd.jupyter.widget-view+json": {
       "model_id": "ab1b1633871e4f18bdb85ad5a71c99b7",
       "version_major": 2,
       "version_minor": 0
      },
      "text/plain": [
       "Figure(layout=FigureLayout(height='420px'))"
      ]
     },
     "metadata": {},
     "output_type": "display_data"
    }
   ],
   "source": [
    "locations = earthquake_df[['latitude', 'longitude']]\n",
    "weights = earthquake_df['magnitude']\n",
    "fig = gmaps.figure()\n",
    "fig.add_layer(gmaps.heatmap_layer(locations, weights=weights))\n",
    "fig"
   ]
  },
  {
   "cell_type": "code",
   "execution_count": null,
   "metadata": {
    "ExecuteTime": {
     "end_time": "2020-09-17T06:07:24.035746Z",
     "start_time": "2020-09-16T15:47:59.321Z"
    }
   },
   "outputs": [],
   "source": [
    "import gmaps\n",
    "import gmaps.datasets\n",
    "# gmaps.configure(api_key=\"AI...\") # Your Google API key\n",
    "\n",
    "df = gmaps.datasets.load_dataset_as_df('starbucks_kfc_uk')\n",
    "\n",
    "starbucks_df = df[df['chain_name'] == 'starbucks']\n",
    "starbucks_df = starbucks_df[['latitude', 'longitude']]\n",
    "\n",
    "starbucks_layer = gmaps.symbol_layer(\n",
    "    starbucks_df, fill_color=\"green\", stroke_color=\"green\", scale=2\n",
    ")\n",
    "fig = gmaps.figure()\n",
    "fig.add_layer(starbucks_layer)\n",
    "fig"
   ]
  },
  {
   "cell_type": "code",
   "execution_count": 3,
   "metadata": {
    "ExecuteTime": {
     "end_time": "2020-09-16T06:26:33.835169Z",
     "start_time": "2020-09-16T06:26:33.759123Z"
    }
   },
   "outputs": [
    {
     "data": {
      "application/vnd.jupyter.widget-view+json": {
       "model_id": "3084385ae8734ef28125d98e176c7a7c",
       "version_major": 2,
       "version_minor": 0
      },
      "text/plain": [
       "Figure(layout=FigureLayout(height='420px'))"
      ]
     },
     "metadata": {},
     "output_type": "display_data"
    }
   ],
   "source": [
    "fig = gmaps.figure()\n",
    "fig"
   ]
  },
  {
   "cell_type": "code",
   "execution_count": 7,
   "metadata": {
    "ExecuteTime": {
     "end_time": "2020-09-16T09:30:17.149580Z",
     "start_time": "2020-09-16T09:30:16.988388Z"
    }
   },
   "outputs": [],
   "source": [
    "import pandas as pd\n",
    "df = pd.read_json('amsterdam.json')"
   ]
  },
  {
   "cell_type": "code",
   "execution_count": 8,
   "metadata": {
    "ExecuteTime": {
     "end_time": "2020-09-16T09:30:23.346850Z",
     "start_time": "2020-09-16T09:30:23.317230Z"
    }
   },
   "outputs": [
    {
     "data": {
      "text/html": [
       "<div>\n",
       "<style scoped>\n",
       "    .dataframe tbody tr th:only-of-type {\n",
       "        vertical-align: middle;\n",
       "    }\n",
       "\n",
       "    .dataframe tbody tr th {\n",
       "        vertical-align: top;\n",
       "    }\n",
       "\n",
       "    .dataframe thead th {\n",
       "        text-align: right;\n",
       "    }\n",
       "</style>\n",
       "<table border=\"1\" class=\"dataframe\">\n",
       "  <thead>\n",
       "    <tr style=\"text-align: right;\">\n",
       "      <th></th>\n",
       "      <th>host_listings_count</th>\n",
       "      <th>accommodates</th>\n",
       "      <th>bathrooms</th>\n",
       "      <th>bedrooms</th>\n",
       "      <th>guests_included</th>\n",
       "      <th>minimum_nights</th>\n",
       "      <th>number_of_reviews</th>\n",
       "      <th>calculated_host_listings_count</th>\n",
       "      <th>price</th>\n",
       "      <th>latitude</th>\n",
       "      <th>longitude</th>\n",
       "      <th>room_type</th>\n",
       "      <th>instant_bookable</th>\n",
       "    </tr>\n",
       "  </thead>\n",
       "  <tbody>\n",
       "    <tr>\n",
       "      <th>0</th>\n",
       "      <td>1.0</td>\n",
       "      <td>6</td>\n",
       "      <td>1.0</td>\n",
       "      <td>2.0</td>\n",
       "      <td>1</td>\n",
       "      <td>3</td>\n",
       "      <td>4</td>\n",
       "      <td>1</td>\n",
       "      <td>$145.00</td>\n",
       "      <td>52.361173</td>\n",
       "      <td>4.866755</td>\n",
       "      <td>Entire home/apt</td>\n",
       "      <td>f</td>\n",
       "    </tr>\n",
       "    <tr>\n",
       "      <th>1</th>\n",
       "      <td>1.0</td>\n",
       "      <td>2</td>\n",
       "      <td>1.0</td>\n",
       "      <td>1.0</td>\n",
       "      <td>1</td>\n",
       "      <td>2</td>\n",
       "      <td>17</td>\n",
       "      <td>1</td>\n",
       "      <td>$88.00</td>\n",
       "      <td>52.370237</td>\n",
       "      <td>4.859507</td>\n",
       "      <td>Entire home/apt</td>\n",
       "      <td>f</td>\n",
       "    </tr>\n",
       "    <tr>\n",
       "      <th>2</th>\n",
       "      <td>1.0</td>\n",
       "      <td>2</td>\n",
       "      <td>1.0</td>\n",
       "      <td>1.0</td>\n",
       "      <td>2</td>\n",
       "      <td>2</td>\n",
       "      <td>4</td>\n",
       "      <td>1</td>\n",
       "      <td>$130.00</td>\n",
       "      <td>52.362016</td>\n",
       "      <td>4.866872</td>\n",
       "      <td>Entire home/apt</td>\n",
       "      <td>f</td>\n",
       "    </tr>\n",
       "    <tr>\n",
       "      <th>3</th>\n",
       "      <td>2.0</td>\n",
       "      <td>4</td>\n",
       "      <td>1.0</td>\n",
       "      <td>2.0</td>\n",
       "      <td>2</td>\n",
       "      <td>4</td>\n",
       "      <td>2</td>\n",
       "      <td>2</td>\n",
       "      <td>$110.00</td>\n",
       "      <td>52.365826</td>\n",
       "      <td>4.858178</td>\n",
       "      <td>Entire home/apt</td>\n",
       "      <td>f</td>\n",
       "    </tr>\n",
       "    <tr>\n",
       "      <th>4</th>\n",
       "      <td>1.0</td>\n",
       "      <td>2</td>\n",
       "      <td>1.0</td>\n",
       "      <td>1.0</td>\n",
       "      <td>1</td>\n",
       "      <td>3</td>\n",
       "      <td>10</td>\n",
       "      <td>1</td>\n",
       "      <td>$115.00</td>\n",
       "      <td>52.364179</td>\n",
       "      <td>4.864885</td>\n",
       "      <td>Entire home/apt</td>\n",
       "      <td>f</td>\n",
       "    </tr>\n",
       "  </tbody>\n",
       "</table>\n",
       "</div>"
      ],
      "text/plain": [
       "   host_listings_count  accommodates  bathrooms  bedrooms  guests_included  \\\n",
       "0                  1.0             6        1.0       2.0                1   \n",
       "1                  1.0             2        1.0       1.0                1   \n",
       "2                  1.0             2        1.0       1.0                2   \n",
       "3                  2.0             4        1.0       2.0                2   \n",
       "4                  1.0             2        1.0       1.0                1   \n",
       "\n",
       "   minimum_nights  number_of_reviews  calculated_host_listings_count    price  \\\n",
       "0               3                  4                               1  $145.00   \n",
       "1               2                 17                               1   $88.00   \n",
       "2               2                  4                               1  $130.00   \n",
       "3               4                  2                               2  $110.00   \n",
       "4               3                 10                               1  $115.00   \n",
       "\n",
       "    latitude  longitude        room_type instant_bookable  \n",
       "0  52.361173   4.866755  Entire home/apt                f  \n",
       "1  52.370237   4.859507  Entire home/apt                f  \n",
       "2  52.362016   4.866872  Entire home/apt                f  \n",
       "3  52.365826   4.858178  Entire home/apt                f  \n",
       "4  52.364179   4.864885  Entire home/apt                f  "
      ]
     },
     "execution_count": 8,
     "metadata": {},
     "output_type": "execute_result"
    }
   ],
   "source": [
    "df.head()"
   ]
  },
  {
   "cell_type": "code",
   "execution_count": 11,
   "metadata": {
    "ExecuteTime": {
     "end_time": "2020-09-16T09:30:56.976736Z",
     "start_time": "2020-09-16T09:30:56.964599Z"
    }
   },
   "outputs": [
    {
     "data": {
      "text/plain": [
       "'$1,305.00'"
      ]
     },
     "execution_count": 11,
     "metadata": {},
     "output_type": "execute_result"
    }
   ],
   "source": [
    "max(df['price'].values, key = len)"
   ]
  },
  {
   "cell_type": "code",
   "execution_count": 12,
   "metadata": {
    "ExecuteTime": {
     "end_time": "2020-09-16T09:32:07.557534Z",
     "start_time": "2020-09-16T09:32:07.470618Z"
    }
   },
   "outputs": [
    {
     "name": "stdout",
     "output_type": "stream",
     "text": [
      "<class 'pandas.core.frame.DataFrame'>\n",
      "Int64Index: 15181 entries, 0 to 15180\n",
      "Data columns (total 13 columns):\n",
      "host_listings_count               15178 non-null float64\n",
      "accommodates                      15181 non-null int64\n",
      "bathrooms                         15163 non-null float64\n",
      "bedrooms                          15169 non-null float64\n",
      "guests_included                   15181 non-null int64\n",
      "minimum_nights                    15181 non-null int64\n",
      "number_of_reviews                 15181 non-null int64\n",
      "calculated_host_listings_count    15181 non-null int64\n",
      "price                             15181 non-null object\n",
      "latitude                          15181 non-null float64\n",
      "longitude                         15181 non-null float64\n",
      "room_type                         15181 non-null object\n",
      "instant_bookable                  15181 non-null object\n",
      "dtypes: float64(5), int64(5), object(3)\n",
      "memory usage: 1.6+ MB\n"
     ]
    }
   ],
   "source": [
    "df.info()"
   ]
  },
  {
   "cell_type": "code",
   "execution_count": 13,
   "metadata": {
    "ExecuteTime": {
     "end_time": "2020-09-16T09:32:11.288254Z",
     "start_time": "2020-09-16T09:32:11.221082Z"
    }
   },
   "outputs": [],
   "source": [
    "df['price'] = df['price'].apply(lambda x: x.replace('$', ''))\n",
    "df['price'] = df['price'].apply(lambda x: x.replace(',', ''))\n",
    "\n",
    "df['price'] = pd.to_numeric(df['price'])"
   ]
  },
  {
   "cell_type": "code",
   "execution_count": 14,
   "metadata": {
    "ExecuteTime": {
     "end_time": "2020-09-16T09:32:12.514454Z",
     "start_time": "2020-09-16T09:32:11.907612Z"
    },
    "scrolled": true
   },
   "outputs": [
    {
     "data": {
      "application/vnd.jupyter.widget-view+json": {
       "model_id": "22852f967c30437dbf6e2ee7e4b78424",
       "version_major": 2,
       "version_minor": 0
      },
      "text/plain": [
       "Map(configuration={'api_key': None}, data_bounds=[(52.33387821596733, 4.819224643627479), (52.39682818292789, …"
      ]
     },
     "metadata": {},
     "output_type": "display_data"
    }
   ],
   "source": [
    "fig = gmaps.Map(layout={'width': '1000px', 'height': '500px', 'padding': '10px'})\n",
    "\n",
    "fig.add_layer(gmaps.heatmap_layer(df[['latitude', 'longitude']],\n",
    " weights=df['price']))\n",
    "fig"
   ]
  },
  {
   "cell_type": "markdown",
   "metadata": {},
   "source": [
    "The map shows that locations in the city centre are more expensive, while the outskirts are cheaper (a pattern that probably does not only exists in Amsterdam). In addition, the city centre seems to have its own pattern."
   ]
  },
  {
   "cell_type": "markdown",
   "metadata": {},
   "source": [
    "In order to capture some geographical pattern we need to apply some feature engineering, a nice approach is to find a list of point of interest (POI) and calculate the distance between each observation and the POI."
   ]
  },
  {
   "cell_type": "markdown",
   "metadata": {},
   "source": [
    "To calculate the distance in KM I am using a function that retrieves the haversine distance, AKA the distance between two points on a sphere."
   ]
  },
  {
   "cell_type": "markdown",
   "metadata": {},
   "source": [
    "This kind of metrics has its own pros and cons: it gives an easy way to calculate the distance between two points, but it does not take into account obstacles such as building, lakes, rivers, borders and so on."
   ]
  },
  {
   "cell_type": "code",
   "execution_count": 16,
   "metadata": {
    "ExecuteTime": {
     "end_time": "2020-09-16T09:39:03.812459Z",
     "start_time": "2020-09-16T09:39:03.795577Z"
    }
   },
   "outputs": [],
   "source": [
    "from math import radians, cos, sin, asin, sqrt\n",
    "\n",
    "def haversine(lon1, lat1, lon2, lat2):\n",
    "    # convert decimal degrees to radians \n",
    "    lon1, lat1, lon2, lat2 = map(radians, [lon1, lat1, lon2, lat2])\n",
    "    # haversine formula \n",
    "    dlon = lon2 - lon1 \n",
    "    dlat = lat2 - lat1 \n",
    "    a = sin(dlat / 2) ** 2 + cos(lat1) * cos(lat2) * sin(dlon / 2)**2\n",
    "    c = 2 * asin(sqrt(a)) \n",
    "    km = 6367 * c\n",
    "    return km"
   ]
  },
  {
   "cell_type": "code",
   "execution_count": null,
   "metadata": {
    "ExecuteTime": {
     "end_time": "2020-09-16T15:12:45.132097Z",
     "start_time": "2020-09-16T10:16:15.974Z"
    },
    "scrolled": true
   },
   "outputs": [],
   "source": [
    "# fig.add_layer(gmaps.symbol_layer([tuple(x) for x in poi.to_numpy()]\n",
    "#  , fill_color='green', stroke_color='green'))\n",
    "# fig"
   ]
  },
  {
   "cell_type": "code",
   "execution_count": 19,
   "metadata": {
    "ExecuteTime": {
     "end_time": "2020-09-16T10:04:05.700553Z",
     "start_time": "2020-09-16T10:04:05.502710Z"
    }
   },
   "outputs": [
    {
     "data": {
      "text/html": [
       "<div>\n",
       "<style scoped>\n",
       "    .dataframe tbody tr th:only-of-type {\n",
       "        vertical-align: middle;\n",
       "    }\n",
       "\n",
       "    .dataframe tbody tr th {\n",
       "        vertical-align: top;\n",
       "    }\n",
       "\n",
       "    .dataframe thead th {\n",
       "        text-align: right;\n",
       "    }\n",
       "</style>\n",
       "<table border=\"1\" class=\"dataframe\">\n",
       "  <thead>\n",
       "    <tr style=\"text-align: right;\">\n",
       "      <th></th>\n",
       "      <th>host_listings_count</th>\n",
       "      <th>accommodates</th>\n",
       "      <th>bathrooms</th>\n",
       "      <th>bedrooms</th>\n",
       "      <th>guests_included</th>\n",
       "      <th>minimum_nights</th>\n",
       "      <th>number_of_reviews</th>\n",
       "      <th>calculated_host_listings_count</th>\n",
       "      <th>price</th>\n",
       "      <th>latitude</th>\n",
       "      <th>longitude</th>\n",
       "      <th>room_type_Entire home/apt</th>\n",
       "      <th>room_type_Private room</th>\n",
       "      <th>room_type_Shared room</th>\n",
       "      <th>instant_bookable_f</th>\n",
       "      <th>instant_bookable_t</th>\n",
       "    </tr>\n",
       "  </thead>\n",
       "  <tbody>\n",
       "    <tr>\n",
       "      <th>0</th>\n",
       "      <td>1.0</td>\n",
       "      <td>6</td>\n",
       "      <td>1.0</td>\n",
       "      <td>2.0</td>\n",
       "      <td>1</td>\n",
       "      <td>3</td>\n",
       "      <td>4</td>\n",
       "      <td>1</td>\n",
       "      <td>145.0</td>\n",
       "      <td>52.361173</td>\n",
       "      <td>4.866755</td>\n",
       "      <td>1</td>\n",
       "      <td>0</td>\n",
       "      <td>0</td>\n",
       "      <td>1</td>\n",
       "      <td>0</td>\n",
       "    </tr>\n",
       "    <tr>\n",
       "      <th>1</th>\n",
       "      <td>1.0</td>\n",
       "      <td>2</td>\n",
       "      <td>1.0</td>\n",
       "      <td>1.0</td>\n",
       "      <td>1</td>\n",
       "      <td>2</td>\n",
       "      <td>17</td>\n",
       "      <td>1</td>\n",
       "      <td>88.0</td>\n",
       "      <td>52.370237</td>\n",
       "      <td>4.859507</td>\n",
       "      <td>1</td>\n",
       "      <td>0</td>\n",
       "      <td>0</td>\n",
       "      <td>1</td>\n",
       "      <td>0</td>\n",
       "    </tr>\n",
       "    <tr>\n",
       "      <th>2</th>\n",
       "      <td>1.0</td>\n",
       "      <td>2</td>\n",
       "      <td>1.0</td>\n",
       "      <td>1.0</td>\n",
       "      <td>2</td>\n",
       "      <td>2</td>\n",
       "      <td>4</td>\n",
       "      <td>1</td>\n",
       "      <td>130.0</td>\n",
       "      <td>52.362016</td>\n",
       "      <td>4.866872</td>\n",
       "      <td>1</td>\n",
       "      <td>0</td>\n",
       "      <td>0</td>\n",
       "      <td>1</td>\n",
       "      <td>0</td>\n",
       "    </tr>\n",
       "    <tr>\n",
       "      <th>3</th>\n",
       "      <td>2.0</td>\n",
       "      <td>4</td>\n",
       "      <td>1.0</td>\n",
       "      <td>2.0</td>\n",
       "      <td>2</td>\n",
       "      <td>4</td>\n",
       "      <td>2</td>\n",
       "      <td>2</td>\n",
       "      <td>110.0</td>\n",
       "      <td>52.365826</td>\n",
       "      <td>4.858178</td>\n",
       "      <td>1</td>\n",
       "      <td>0</td>\n",
       "      <td>0</td>\n",
       "      <td>1</td>\n",
       "      <td>0</td>\n",
       "    </tr>\n",
       "    <tr>\n",
       "      <th>4</th>\n",
       "      <td>1.0</td>\n",
       "      <td>2</td>\n",
       "      <td>1.0</td>\n",
       "      <td>1.0</td>\n",
       "      <td>1</td>\n",
       "      <td>3</td>\n",
       "      <td>10</td>\n",
       "      <td>1</td>\n",
       "      <td>115.0</td>\n",
       "      <td>52.364179</td>\n",
       "      <td>4.864885</td>\n",
       "      <td>1</td>\n",
       "      <td>0</td>\n",
       "      <td>0</td>\n",
       "      <td>1</td>\n",
       "      <td>0</td>\n",
       "    </tr>\n",
       "  </tbody>\n",
       "</table>\n",
       "</div>"
      ],
      "text/plain": [
       "   host_listings_count  accommodates  bathrooms  bedrooms  guests_included  \\\n",
       "0                  1.0             6        1.0       2.0                1   \n",
       "1                  1.0             2        1.0       1.0                1   \n",
       "2                  1.0             2        1.0       1.0                2   \n",
       "3                  2.0             4        1.0       2.0                2   \n",
       "4                  1.0             2        1.0       1.0                1   \n",
       "\n",
       "   minimum_nights  number_of_reviews  calculated_host_listings_count  price  \\\n",
       "0               3                  4                               1  145.0   \n",
       "1               2                 17                               1   88.0   \n",
       "2               2                  4                               1  130.0   \n",
       "3               4                  2                               2  110.0   \n",
       "4               3                 10                               1  115.0   \n",
       "\n",
       "    latitude  longitude  room_type_Entire home/apt  room_type_Private room  \\\n",
       "0  52.361173   4.866755                          1                       0   \n",
       "1  52.370237   4.859507                          1                       0   \n",
       "2  52.362016   4.866872                          1                       0   \n",
       "3  52.365826   4.858178                          1                       0   \n",
       "4  52.364179   4.864885                          1                       0   \n",
       "\n",
       "   room_type_Shared room  instant_bookable_f  instant_bookable_t  \n",
       "0                      0                   1                   0  \n",
       "1                      0                   1                   0  \n",
       "2                      0                   1                   0  \n",
       "3                      0                   1                   0  \n",
       "4                      0                   1                   0  "
      ]
     },
     "execution_count": 19,
     "metadata": {},
     "output_type": "execute_result"
    }
   ],
   "source": [
    "df = pd.get_dummies(df)\n",
    "df.head()"
   ]
  },
  {
   "cell_type": "code",
   "execution_count": 25,
   "metadata": {
    "ExecuteTime": {
     "end_time": "2020-09-16T10:05:24.886465Z",
     "start_time": "2020-09-16T10:05:24.879009Z"
    }
   },
   "outputs": [
    {
     "data": {
      "text/plain": [
       "(15181, 16)"
      ]
     },
     "execution_count": 25,
     "metadata": {},
     "output_type": "execute_result"
    }
   ],
   "source": [
    "df.shape"
   ]
  },
  {
   "cell_type": "code",
   "execution_count": 28,
   "metadata": {
    "ExecuteTime": {
     "end_time": "2020-09-16T10:05:40.732117Z",
     "start_time": "2020-09-16T10:05:40.722168Z"
    }
   },
   "outputs": [],
   "source": [
    "df = df.dropna()"
   ]
  },
  {
   "cell_type": "code",
   "execution_count": 29,
   "metadata": {
    "ExecuteTime": {
     "end_time": "2020-09-16T10:05:41.850781Z",
     "start_time": "2020-09-16T10:05:41.842997Z"
    }
   },
   "outputs": [],
   "source": [
    "X = df.drop(['price'], axis=1)\n",
    "y = df['price']"
   ]
  },
  {
   "cell_type": "code",
   "execution_count": 53,
   "metadata": {
    "ExecuteTime": {
     "end_time": "2020-09-19T10:59:19.009787Z",
     "start_time": "2020-09-19T10:59:19.005911Z"
    }
   },
   "outputs": [],
   "source": [
    "import joblib"
   ]
  },
  {
   "cell_type": "code",
   "execution_count": 30,
   "metadata": {
    "ExecuteTime": {
     "end_time": "2020-09-16T10:05:42.414758Z",
     "start_time": "2020-09-16T10:05:42.402563Z"
    }
   },
   "outputs": [],
   "source": [
    "from sklearn.model_selection import train_test_split\n",
    "\n",
    "X_train, X_test, y_train, y_test = train_test_split(X, y, test_size=0.2, random_state=1)"
   ]
  },
  {
   "cell_type": "code",
   "execution_count": 31,
   "metadata": {
    "ExecuteTime": {
     "end_time": "2020-09-16T10:05:43.088611Z",
     "start_time": "2020-09-16T10:05:42.742878Z"
    }
   },
   "outputs": [],
   "source": [
    "from sklearn.linear_model import LinearRegression\n",
    "lin_reg = LinearRegression()\n",
    "lin_reg.fit(X_train, y_train)\n",
    "y_pred = lin_reg.predict(X_test)"
   ]
  },
  {
   "cell_type": "code",
   "execution_count": 32,
   "metadata": {
    "ExecuteTime": {
     "end_time": "2020-09-16T10:06:20.888459Z",
     "start_time": "2020-09-16T10:06:20.867012Z"
    }
   },
   "outputs": [
    {
     "data": {
      "text/html": [
       "<div>\n",
       "<style scoped>\n",
       "    .dataframe tbody tr th:only-of-type {\n",
       "        vertical-align: middle;\n",
       "    }\n",
       "\n",
       "    .dataframe tbody tr th {\n",
       "        vertical-align: top;\n",
       "    }\n",
       "\n",
       "    .dataframe thead th {\n",
       "        text-align: right;\n",
       "    }\n",
       "</style>\n",
       "<table border=\"1\" class=\"dataframe\">\n",
       "  <thead>\n",
       "    <tr style=\"text-align: right;\">\n",
       "      <th></th>\n",
       "      <th>Baseline (regression)</th>\n",
       "    </tr>\n",
       "  </thead>\n",
       "  <tbody>\n",
       "    <tr>\n",
       "      <th>R2</th>\n",
       "      <td>0.344806</td>\n",
       "    </tr>\n",
       "    <tr>\n",
       "      <th>MAE</th>\n",
       "      <td>39.819680</td>\n",
       "    </tr>\n",
       "  </tbody>\n",
       "</table>\n",
       "</div>"
      ],
      "text/plain": [
       "     Baseline (regression)\n",
       "R2                0.344806\n",
       "MAE              39.819680"
      ]
     },
     "execution_count": 32,
     "metadata": {},
     "output_type": "execute_result"
    }
   ],
   "source": [
    "from sklearn import metrics\n",
    "r2 = metrics.r2_score(y_test, y_pred)\n",
    "mae = metrics.mean_absolute_error(y_test, y_pred)\n",
    "\n",
    "scores = pd.DataFrame({'Baseline (regression)' : [r2, mae]}, index=['R2', 'MAE'])\n",
    "scores"
   ]
  },
  {
   "cell_type": "code",
   "execution_count": 54,
   "metadata": {
    "ExecuteTime": {
     "end_time": "2020-09-19T11:10:17.627530Z",
     "start_time": "2020-09-19T10:59:41.486162Z"
    }
   },
   "outputs": [
    {
     "name": "stdout",
     "output_type": "stream",
     "text": [
      "Fitting 3 folds for each of 12 candidates, totalling 36 fits\n",
      "[Parallel(n_jobs=-1)]: Using backend LokyBackend with 4 concurrent workers.\n",
      "[Parallel(n_jobs=-1)]: Done   1 tasks      | elapsed:   11.2s\n",
      "[Parallel(n_jobs=-1)]: Done   2 tasks      | elapsed:   13.3s\n",
      "[Parallel(n_jobs=-1)]: Done   3 tasks      | elapsed:   14.6s\n",
      "[Parallel(n_jobs=-1)]: Done   4 tasks      | elapsed:   44.4s\n",
      "[Parallel(n_jobs=-1)]: Done   5 tasks      | elapsed:   49.1s\n",
      "[Parallel(n_jobs=-1)]: Done   6 tasks      | elapsed:   55.2s\n",
      "[Parallel(n_jobs=-1)]: Done   7 tasks      | elapsed:  1.0min\n",
      "[Parallel(n_jobs=-1)]: Done   8 tasks      | elapsed:  1.2min\n",
      "[Parallel(n_jobs=-1)]: Done   9 tasks      | elapsed:  1.3min\n",
      "[Parallel(n_jobs=-1)]: Done  10 tasks      | elapsed:  1.4min\n",
      "[Parallel(n_jobs=-1)]: Done  11 tasks      | elapsed:  1.6min\n",
      "[Parallel(n_jobs=-1)]: Done  12 tasks      | elapsed:  1.7min\n",
      "[Parallel(n_jobs=-1)]: Done  13 tasks      | elapsed:  1.8min\n",
      "[Parallel(n_jobs=-1)]: Done  14 tasks      | elapsed:  1.9min\n",
      "[Parallel(n_jobs=-1)]: Done  15 tasks      | elapsed:  2.1min\n",
      "[Parallel(n_jobs=-1)]: Done  16 tasks      | elapsed:  2.2min\n",
      "[Parallel(n_jobs=-1)]: Done  17 tasks      | elapsed:  2.3min\n",
      "[Parallel(n_jobs=-1)]: Done  18 tasks      | elapsed:  2.4min\n",
      "[Parallel(n_jobs=-1)]: Done  19 tasks      | elapsed:  2.5min\n",
      "[Parallel(n_jobs=-1)]: Done  20 tasks      | elapsed:  2.7min\n",
      "[Parallel(n_jobs=-1)]: Done  21 tasks      | elapsed:  2.8min\n",
      "[Parallel(n_jobs=-1)]: Done  22 tasks      | elapsed:  2.9min\n",
      "[Parallel(n_jobs=-1)]: Done  23 tasks      | elapsed:  3.0min\n",
      "[Parallel(n_jobs=-1)]: Done  24 tasks      | elapsed:  3.1min\n",
      "[Parallel(n_jobs=-1)]: Done  25 tasks      | elapsed:  3.3min\n",
      "[Parallel(n_jobs=-1)]: Done  26 tasks      | elapsed:  3.4min\n",
      "[Parallel(n_jobs=-1)]: Done  27 tasks      | elapsed:  3.5min\n",
      "[Parallel(n_jobs=-1)]: Done  28 tasks      | elapsed:  3.7min\n",
      "[Parallel(n_jobs=-1)]: Done  29 tasks      | elapsed:  3.8min\n",
      "[Parallel(n_jobs=-1)]: Done  30 out of  36 | elapsed:  3.9min remaining:   46.7s\n",
      "[Parallel(n_jobs=-1)]: Done  31 out of  36 | elapsed:  4.0min remaining:   38.8s\n",
      "[Parallel(n_jobs=-1)]: Done  32 out of  36 | elapsed:  4.1min remaining:   31.0s\n",
      "[Parallel(n_jobs=-1)]: Done  33 out of  36 | elapsed:  4.3min remaining:   23.2s\n",
      "[Parallel(n_jobs=-1)]: Done  34 out of  36 | elapsed:  4.4min remaining:   15.5s\n",
      "[Parallel(n_jobs=-1)]: Done  36 out of  36 | elapsed:  6.6min remaining:    0.0s\n",
      "[Parallel(n_jobs=-1)]: Done  36 out of  36 | elapsed:  6.6min finished\n"
     ]
    }
   ],
   "source": [
    "import os\n",
    "from sklearn.model_selection import GridSearchCV\n",
    "\n",
    "if 'svr_gridsearch_cv.pkl' in os.listdir():\n",
    "    \n",
    "    svr_grid_search = joblib.load('svr_gridsearch_cv.pkl')\n",
    "    \n",
    "else:\n",
    "    \n",
    "    from sklearn.svm import SVR\n",
    "    \n",
    "    svr = SVR()\n",
    "    param_grid = [\n",
    "      {'C': [1, 10, 100], 'kernel': ['linear']},\n",
    "      {'C': [1, 10, 100], 'gamma': [0.01, 0.001, 0.0001], 'kernel': ['rbf']}]\n",
    "    \n",
    "    svr_grid_search = GridSearchCV(svr, param_grid=param_grid, \n",
    "                                   n_jobs=-1, \n",
    "                                   scoring=['r2', 'neg_mean_squared_error'],\n",
    "                                  refit='neg_mean_squared_error', verbose=100)\n",
    "    \n",
    "    svr_grid_search.fit(X_train, y_train)\n",
    "    \n",
    "    joblib.dump(svr_grid_search.best_estimator_, 'svr_gridsearch_cv.pkl')"
   ]
  },
  {
   "cell_type": "code",
   "execution_count": 52,
   "metadata": {
    "ExecuteTime": {
     "end_time": "2020-09-19T10:59:01.381076Z",
     "start_time": "2020-09-19T10:58:26.223514Z"
    }
   },
   "outputs": [
    {
     "name": "stdout",
     "output_type": "stream",
     "text": [
      "Fitting 3 folds for each of 54 candidates, totalling 162 fits\n",
      "[Parallel(n_jobs=-1)]: Using backend LokyBackend with 4 concurrent workers.\n"
     ]
    },
    {
     "name": "stderr",
     "output_type": "stream",
     "text": [
      "/Users/kang/anaconda3/lib/python3.7/site-packages/sklearn/model_selection/_split.py:1978: FutureWarning: The default value of cv will change from 3 to 5 in version 0.22. Specify it explicitly to silence this warning.\n",
      "  warnings.warn(CV_WARNING, FutureWarning)\n"
     ]
    },
    {
     "name": "stdout",
     "output_type": "stream",
     "text": [
      "[Parallel(n_jobs=-1)]: Done   1 tasks      | elapsed:    5.2s\n",
      "[Parallel(n_jobs=-1)]: Done   2 tasks      | elapsed:    5.2s\n",
      "[Parallel(n_jobs=-1)]: Done   3 tasks      | elapsed:    5.2s\n",
      "[Parallel(n_jobs=-1)]: Done   4 tasks      | elapsed:    5.2s\n",
      "[Parallel(n_jobs=-1)]: Done   5 tasks      | elapsed:    5.5s\n",
      "[Parallel(n_jobs=-1)]: Done   6 tasks      | elapsed:    5.5s\n",
      "[Parallel(n_jobs=-1)]: Done   7 tasks      | elapsed:    5.5s\n",
      "[Parallel(n_jobs=-1)]: Done   8 tasks      | elapsed:    5.5s\n",
      "[Parallel(n_jobs=-1)]: Done   9 tasks      | elapsed:    5.7s\n",
      "[Parallel(n_jobs=-1)]: Done  10 tasks      | elapsed:    5.7s\n",
      "[Parallel(n_jobs=-1)]: Done  11 tasks      | elapsed:    5.7s\n",
      "[Parallel(n_jobs=-1)]: Done  12 tasks      | elapsed:    5.8s\n",
      "[Parallel(n_jobs=-1)]: Done  13 tasks      | elapsed:    6.1s\n",
      "[Parallel(n_jobs=-1)]: Done  14 tasks      | elapsed:    6.1s\n",
      "[Parallel(n_jobs=-1)]: Done  15 tasks      | elapsed:    6.1s\n",
      "[Parallel(n_jobs=-1)]: Done  16 tasks      | elapsed:    6.2s\n",
      "[Parallel(n_jobs=-1)]: Done  17 tasks      | elapsed:    6.5s\n",
      "[Parallel(n_jobs=-1)]: Done  18 tasks      | elapsed:    6.5s\n",
      "[Parallel(n_jobs=-1)]: Done  19 tasks      | elapsed:    6.6s\n",
      "[Parallel(n_jobs=-1)]: Done  20 tasks      | elapsed:    6.6s\n",
      "[Parallel(n_jobs=-1)]: Done  21 tasks      | elapsed:    7.0s\n",
      "[Parallel(n_jobs=-1)]: Done  22 tasks      | elapsed:    7.1s\n",
      "[Parallel(n_jobs=-1)]: Done  23 tasks      | elapsed:    7.2s\n",
      "[Parallel(n_jobs=-1)]: Done  24 tasks      | elapsed:    7.2s\n",
      "[Parallel(n_jobs=-1)]: Done  25 tasks      | elapsed:    7.5s\n",
      "[Parallel(n_jobs=-1)]: Done  26 tasks      | elapsed:    7.7s\n",
      "[Parallel(n_jobs=-1)]: Done  27 tasks      | elapsed:    7.8s\n",
      "[Parallel(n_jobs=-1)]: Done  28 tasks      | elapsed:    7.9s\n",
      "[Parallel(n_jobs=-1)]: Done  29 tasks      | elapsed:    8.0s\n",
      "[Parallel(n_jobs=-1)]: Done  30 tasks      | elapsed:    8.1s\n",
      "[Parallel(n_jobs=-1)]: Done  31 tasks      | elapsed:    8.1s\n",
      "[Parallel(n_jobs=-1)]: Done  32 tasks      | elapsed:    8.1s\n",
      "[Parallel(n_jobs=-1)]: Done  33 tasks      | elapsed:    8.2s\n",
      "[Parallel(n_jobs=-1)]: Done  34 tasks      | elapsed:    8.4s\n",
      "[Parallel(n_jobs=-1)]: Done  35 tasks      | elapsed:    8.4s\n",
      "[Parallel(n_jobs=-1)]: Done  36 tasks      | elapsed:    8.5s\n",
      "[Parallel(n_jobs=-1)]: Done  37 tasks      | elapsed:    8.6s\n",
      "[Parallel(n_jobs=-1)]: Done  38 tasks      | elapsed:    8.7s\n",
      "[Parallel(n_jobs=-1)]: Done  39 tasks      | elapsed:    8.8s\n",
      "[Parallel(n_jobs=-1)]: Done  40 tasks      | elapsed:    8.9s\n",
      "[Parallel(n_jobs=-1)]: Done  41 tasks      | elapsed:    9.0s\n",
      "[Parallel(n_jobs=-1)]: Done  42 tasks      | elapsed:    9.1s\n",
      "[Parallel(n_jobs=-1)]: Done  43 tasks      | elapsed:    9.2s\n",
      "[Parallel(n_jobs=-1)]: Done  44 tasks      | elapsed:    9.4s\n",
      "[Parallel(n_jobs=-1)]: Done  45 tasks      | elapsed:    9.5s\n",
      "[Parallel(n_jobs=-1)]: Done  46 tasks      | elapsed:    9.5s\n",
      "[Parallel(n_jobs=-1)]: Done  47 tasks      | elapsed:    9.6s\n",
      "[Parallel(n_jobs=-1)]: Done  48 tasks      | elapsed:    9.8s\n",
      "[Parallel(n_jobs=-1)]: Done  49 tasks      | elapsed:   10.0s\n",
      "[Parallel(n_jobs=-1)]: Done  50 tasks      | elapsed:   10.1s\n",
      "[Parallel(n_jobs=-1)]: Done  51 tasks      | elapsed:   10.2s\n",
      "[Parallel(n_jobs=-1)]: Done  52 tasks      | elapsed:   10.4s\n",
      "[Parallel(n_jobs=-1)]: Done  53 tasks      | elapsed:   10.6s\n",
      "[Parallel(n_jobs=-1)]: Done  54 tasks      | elapsed:   10.6s\n",
      "[Parallel(n_jobs=-1)]: Done  55 tasks      | elapsed:   10.7s\n",
      "[Parallel(n_jobs=-1)]: Done  56 tasks      | elapsed:   10.8s\n",
      "[Parallel(n_jobs=-1)]: Done  57 tasks      | elapsed:   10.8s\n",
      "[Parallel(n_jobs=-1)]: Done  58 tasks      | elapsed:   10.8s\n",
      "[Parallel(n_jobs=-1)]: Done  59 tasks      | elapsed:   10.9s\n",
      "[Parallel(n_jobs=-1)]: Done  60 tasks      | elapsed:   11.0s\n",
      "[Parallel(n_jobs=-1)]: Done  61 tasks      | elapsed:   11.1s\n",
      "[Parallel(n_jobs=-1)]: Done  62 tasks      | elapsed:   11.1s\n",
      "[Parallel(n_jobs=-1)]: Done  63 tasks      | elapsed:   11.2s\n",
      "[Parallel(n_jobs=-1)]: Done  64 tasks      | elapsed:   11.2s\n",
      "[Parallel(n_jobs=-1)]: Done  65 tasks      | elapsed:   11.3s\n",
      "[Parallel(n_jobs=-1)]: Done  66 tasks      | elapsed:   11.3s\n",
      "[Parallel(n_jobs=-1)]: Done  67 tasks      | elapsed:   11.6s\n",
      "[Parallel(n_jobs=-1)]: Done  68 tasks      | elapsed:   11.6s\n",
      "[Parallel(n_jobs=-1)]: Done  69 tasks      | elapsed:   11.7s\n",
      "[Parallel(n_jobs=-1)]: Done  70 tasks      | elapsed:   11.8s\n",
      "[Parallel(n_jobs=-1)]: Done  71 tasks      | elapsed:   12.1s\n",
      "[Parallel(n_jobs=-1)]: Done  72 tasks      | elapsed:   12.1s\n",
      "[Parallel(n_jobs=-1)]: Done  73 tasks      | elapsed:   12.2s\n",
      "[Parallel(n_jobs=-1)]: Done  74 tasks      | elapsed:   12.2s\n",
      "[Parallel(n_jobs=-1)]: Done  75 tasks      | elapsed:   12.4s\n",
      "[Parallel(n_jobs=-1)]: Done  76 tasks      | elapsed:   12.6s\n",
      "[Parallel(n_jobs=-1)]: Done  77 tasks      | elapsed:   12.6s\n",
      "[Parallel(n_jobs=-1)]: Done  78 tasks      | elapsed:   12.7s\n",
      "[Parallel(n_jobs=-1)]: Done  79 tasks      | elapsed:   13.0s\n",
      "[Parallel(n_jobs=-1)]: Done  80 tasks      | elapsed:   13.1s\n",
      "[Parallel(n_jobs=-1)]: Done  81 tasks      | elapsed:   13.2s\n",
      "[Parallel(n_jobs=-1)]: Done  82 tasks      | elapsed:   13.2s\n",
      "[Parallel(n_jobs=-1)]: Done  83 tasks      | elapsed:   13.2s\n",
      "[Parallel(n_jobs=-1)]: Done  84 tasks      | elapsed:   13.3s\n",
      "[Parallel(n_jobs=-1)]: Done  85 tasks      | elapsed:   13.5s\n",
      "[Parallel(n_jobs=-1)]: Done  86 tasks      | elapsed:   13.5s\n",
      "[Parallel(n_jobs=-1)]: Done  87 tasks      | elapsed:   13.5s\n",
      "[Parallel(n_jobs=-1)]: Done  88 tasks      | elapsed:   13.6s\n",
      "[Parallel(n_jobs=-1)]: Done  89 tasks      | elapsed:   13.8s\n",
      "[Parallel(n_jobs=-1)]: Done  90 tasks      | elapsed:   13.8s\n",
      "[Parallel(n_jobs=-1)]: Done  91 tasks      | elapsed:   14.1s\n",
      "[Parallel(n_jobs=-1)]: Done  92 tasks      | elapsed:   14.2s\n",
      "[Parallel(n_jobs=-1)]: Done  93 tasks      | elapsed:   14.4s\n",
      "[Parallel(n_jobs=-1)]: Done  94 tasks      | elapsed:   14.7s\n",
      "[Parallel(n_jobs=-1)]: Done  95 tasks      | elapsed:   15.0s\n",
      "[Parallel(n_jobs=-1)]: Done  96 tasks      | elapsed:   15.0s\n",
      "[Parallel(n_jobs=-1)]: Done  97 tasks      | elapsed:   15.4s\n",
      "[Parallel(n_jobs=-1)]: Done  98 tasks      | elapsed:   15.7s\n",
      "[Parallel(n_jobs=-1)]: Done  99 tasks      | elapsed:   16.0s\n",
      "[Parallel(n_jobs=-1)]: Done 100 tasks      | elapsed:   16.2s\n",
      "[Parallel(n_jobs=-1)]: Done 101 tasks      | elapsed:   16.5s\n",
      "[Parallel(n_jobs=-1)]: Done 102 tasks      | elapsed:   16.9s\n",
      "[Parallel(n_jobs=-1)]: Done 103 tasks      | elapsed:   17.9s\n",
      "[Parallel(n_jobs=-1)]: Done 104 tasks      | elapsed:   18.0s\n",
      "[Parallel(n_jobs=-1)]: Done 105 tasks      | elapsed:   18.3s\n",
      "[Parallel(n_jobs=-1)]: Done 106 tasks      | elapsed:   18.6s\n",
      "[Parallel(n_jobs=-1)]: Done 107 tasks      | elapsed:   18.8s\n",
      "[Parallel(n_jobs=-1)]: Done 108 tasks      | elapsed:   19.1s\n",
      "[Parallel(n_jobs=-1)]: Done 109 tasks      | elapsed:   19.1s\n",
      "[Parallel(n_jobs=-1)]: Done 110 tasks      | elapsed:   19.4s\n",
      "[Parallel(n_jobs=-1)]: Done 111 tasks      | elapsed:   19.4s\n",
      "[Parallel(n_jobs=-1)]: Done 112 tasks      | elapsed:   19.7s\n",
      "[Parallel(n_jobs=-1)]: Done 113 tasks      | elapsed:   19.8s\n",
      "[Parallel(n_jobs=-1)]: Done 114 tasks      | elapsed:   19.9s\n",
      "[Parallel(n_jobs=-1)]: Done 115 tasks      | elapsed:   20.1s\n",
      "[Parallel(n_jobs=-1)]: Done 116 tasks      | elapsed:   20.1s\n",
      "[Parallel(n_jobs=-1)]: Done 117 tasks      | elapsed:   20.2s\n",
      "[Parallel(n_jobs=-1)]: Done 118 tasks      | elapsed:   20.5s\n",
      "[Parallel(n_jobs=-1)]: Done 119 tasks      | elapsed:   20.7s\n",
      "[Parallel(n_jobs=-1)]: Done 120 tasks      | elapsed:   20.7s\n",
      "[Parallel(n_jobs=-1)]: Done 121 tasks      | elapsed:   21.1s\n",
      "[Parallel(n_jobs=-1)]: Done 122 tasks      | elapsed:   21.4s\n",
      "[Parallel(n_jobs=-1)]: Done 123 tasks      | elapsed:   21.6s\n",
      "[Parallel(n_jobs=-1)]: Done 124 tasks      | elapsed:   21.8s\n",
      "[Parallel(n_jobs=-1)]: Done 125 tasks      | elapsed:   22.2s\n",
      "[Parallel(n_jobs=-1)]: Done 126 tasks      | elapsed:   22.6s\n",
      "[Parallel(n_jobs=-1)]: Done 127 tasks      | elapsed:   22.9s\n",
      "[Parallel(n_jobs=-1)]: Done 128 tasks      | elapsed:   23.0s\n",
      "[Parallel(n_jobs=-1)]: Done 129 tasks      | elapsed:   23.5s\n",
      "[Parallel(n_jobs=-1)]: Done 130 tasks      | elapsed:   24.6s\n",
      "[Parallel(n_jobs=-1)]: Done 131 tasks      | elapsed:   25.0s\n",
      "[Parallel(n_jobs=-1)]: Done 132 tasks      | elapsed:   25.2s\n",
      "[Parallel(n_jobs=-1)]: Done 133 tasks      | elapsed:   25.5s\n"
     ]
    },
    {
     "name": "stdout",
     "output_type": "stream",
     "text": [
      "[Parallel(n_jobs=-1)]: Done 134 tasks      | elapsed:   25.7s\n",
      "[Parallel(n_jobs=-1)]: Done 135 tasks      | elapsed:   26.0s\n",
      "[Parallel(n_jobs=-1)]: Done 136 tasks      | elapsed:   26.1s\n",
      "[Parallel(n_jobs=-1)]: Done 137 tasks      | elapsed:   26.4s\n",
      "[Parallel(n_jobs=-1)]: Done 138 tasks      | elapsed:   26.5s\n",
      "[Parallel(n_jobs=-1)]: Done 139 tasks      | elapsed:   26.7s\n",
      "[Parallel(n_jobs=-1)]: Done 140 tasks      | elapsed:   26.8s\n",
      "[Parallel(n_jobs=-1)]: Done 141 tasks      | elapsed:   27.2s\n",
      "[Parallel(n_jobs=-1)]: Done 142 tasks      | elapsed:   27.2s\n",
      "[Parallel(n_jobs=-1)]: Done 143 tasks      | elapsed:   27.3s\n",
      "[Parallel(n_jobs=-1)]: Done 144 tasks      | elapsed:   27.5s\n",
      "[Parallel(n_jobs=-1)]: Done 145 tasks      | elapsed:   27.9s\n",
      "[Parallel(n_jobs=-1)]: Done 146 tasks      | elapsed:   27.9s\n",
      "[Parallel(n_jobs=-1)]: Done 147 tasks      | elapsed:   28.0s\n",
      "[Parallel(n_jobs=-1)]: Done 148 tasks      | elapsed:   28.5s\n",
      "[Parallel(n_jobs=-1)]: Done 149 tasks      | elapsed:   28.7s\n",
      "[Parallel(n_jobs=-1)]: Done 150 tasks      | elapsed:   28.8s\n",
      "[Parallel(n_jobs=-1)]: Done 151 tasks      | elapsed:   29.3s\n",
      "[Parallel(n_jobs=-1)]: Done 152 tasks      | elapsed:   29.7s\n",
      "[Parallel(n_jobs=-1)]: Done 153 tasks      | elapsed:   30.2s\n",
      "[Parallel(n_jobs=-1)]: Done 154 tasks      | elapsed:   30.2s\n",
      "[Parallel(n_jobs=-1)]: Done 155 tasks      | elapsed:   30.3s\n",
      "[Parallel(n_jobs=-1)]: Done 157 out of 162 | elapsed:   32.2s remaining:    1.0s\n",
      "[Parallel(n_jobs=-1)]: Done 159 out of 162 | elapsed:   32.6s remaining:    0.6s\n",
      "[Parallel(n_jobs=-1)]: Done 162 out of 162 | elapsed:   34.9s finished\n"
     ]
    }
   ],
   "source": [
    "if 'gbm_gridsearch_cv.pkl' in os.listdir():\n",
    "    \n",
    "    gbm_grid_search = joblib.load('gbm_gridsearch_cv.pkl')\n",
    "    \n",
    "else:\n",
    "    \n",
    "    from lightgbm import LGBMRegressor\n",
    "    \n",
    "    gbm = LGBMRegressor()\n",
    "    \n",
    "    param_grid = {\n",
    "    'learning_rate': [0.01, 0.1, 1],\n",
    "    'n_estimators': [50, 100, 150],\n",
    "    'boosting_type': ['gbdt', 'dart'],\n",
    "    'num_leaves': [15, 31, 50]}\n",
    "    \n",
    "    gbm_grid_search = GridSearchCV(gbm, param_grid=param_grid, \n",
    "                                   n_jobs=-1, \n",
    "                                   scoring=['r2', 'neg_mean_squared_error'],\n",
    "                                  refit='neg_mean_squared_error', verbose=100)\n",
    "    \n",
    "    gbm_grid_search.fit(X_train, y_train)\n",
    "    \n",
    "    joblib.dump(gbm_grid_search.best_estimator_, 'gbm_gridsearch_cv.pkl')"
   ]
  },
  {
   "cell_type": "code",
   "execution_count": 47,
   "metadata": {
    "ExecuteTime": {
     "end_time": "2020-09-19T10:56:05.171536Z",
     "start_time": "2020-09-19T10:56:05.149825Z"
    }
   },
   "outputs": [],
   "source": [
    "def build_model():\n",
    "    model = keras.Sequential([\n",
    "    tf.keras.layers.Dense(64, activation='relu', input_shape=(25,)), \n",
    "    tf.keras.layers.Dropout(0.2), \n",
    "    tf.keras.layers.Dense(128, activation='relu'),\n",
    "    tf.keras.layers.Dropout(0.2), \n",
    "    tf.keras.layers.Dense(1)\n",
    "    ])\n",
    "    \n",
    "    optimizer = tf.keras.optimizers.RMSprop(0.001)\n",
    "    \n",
    "    model.compile(loss='mean_squared_error',\n",
    "    optimizer=optimizer,\n",
    "    metrics=['mae', r2_keras])\n",
    "    return model"
   ]
  },
  {
   "cell_type": "code",
   "execution_count": 50,
   "metadata": {
    "ExecuteTime": {
     "end_time": "2020-09-19T10:57:04.093787Z",
     "start_time": "2020-09-19T10:57:04.057473Z"
    }
   },
   "outputs": [
    {
     "data": {
      "text/html": [
       "<div>\n",
       "<style scoped>\n",
       "    .dataframe tbody tr th:only-of-type {\n",
       "        vertical-align: middle;\n",
       "    }\n",
       "\n",
       "    .dataframe tbody tr th {\n",
       "        vertical-align: top;\n",
       "    }\n",
       "\n",
       "    .dataframe thead th {\n",
       "        text-align: right;\n",
       "    }\n",
       "</style>\n",
       "<table border=\"1\" class=\"dataframe\">\n",
       "  <thead>\n",
       "    <tr style=\"text-align: right;\">\n",
       "      <th></th>\n",
       "      <th>variable</th>\n",
       "      <th>coefficients</th>\n",
       "    </tr>\n",
       "  </thead>\n",
       "  <tbody>\n",
       "    <tr>\n",
       "      <th>0</th>\n",
       "      <td>host_listings_count</td>\n",
       "      <td>0.036872</td>\n",
       "    </tr>\n",
       "    <tr>\n",
       "      <th>1</th>\n",
       "      <td>accommodates</td>\n",
       "      <td>20.838994</td>\n",
       "    </tr>\n",
       "    <tr>\n",
       "      <th>2</th>\n",
       "      <td>bathrooms</td>\n",
       "      <td>28.571897</td>\n",
       "    </tr>\n",
       "    <tr>\n",
       "      <th>3</th>\n",
       "      <td>bedrooms</td>\n",
       "      <td>14.887248</td>\n",
       "    </tr>\n",
       "    <tr>\n",
       "      <th>4</th>\n",
       "      <td>guests_included</td>\n",
       "      <td>3.189429</td>\n",
       "    </tr>\n",
       "    <tr>\n",
       "      <th>5</th>\n",
       "      <td>minimum_nights</td>\n",
       "      <td>-0.061590</td>\n",
       "    </tr>\n",
       "    <tr>\n",
       "      <th>6</th>\n",
       "      <td>number_of_reviews</td>\n",
       "      <td>-0.023491</td>\n",
       "    </tr>\n",
       "    <tr>\n",
       "      <th>7</th>\n",
       "      <td>calculated_host_listings_count</td>\n",
       "      <td>0.634992</td>\n",
       "    </tr>\n",
       "    <tr>\n",
       "      <th>8</th>\n",
       "      <td>latitude</td>\n",
       "      <td>79.392681</td>\n",
       "    </tr>\n",
       "    <tr>\n",
       "      <th>9</th>\n",
       "      <td>longitude</td>\n",
       "      <td>-78.660081</td>\n",
       "    </tr>\n",
       "    <tr>\n",
       "      <th>10</th>\n",
       "      <td>room_type_Entire home/apt</td>\n",
       "      <td>21.727538</td>\n",
       "    </tr>\n",
       "    <tr>\n",
       "      <th>11</th>\n",
       "      <td>room_type_Private room</td>\n",
       "      <td>-10.301187</td>\n",
       "    </tr>\n",
       "    <tr>\n",
       "      <th>12</th>\n",
       "      <td>room_type_Shared room</td>\n",
       "      <td>-11.426351</td>\n",
       "    </tr>\n",
       "    <tr>\n",
       "      <th>13</th>\n",
       "      <td>instant_bookable_f</td>\n",
       "      <td>-0.837074</td>\n",
       "    </tr>\n",
       "    <tr>\n",
       "      <th>14</th>\n",
       "      <td>instant_bookable_t</td>\n",
       "      <td>0.837074</td>\n",
       "    </tr>\n",
       "  </tbody>\n",
       "</table>\n",
       "</div>"
      ],
      "text/plain": [
       "                          variable  coefficients\n",
       "0              host_listings_count      0.036872\n",
       "1                     accommodates     20.838994\n",
       "2                        bathrooms     28.571897\n",
       "3                         bedrooms     14.887248\n",
       "4                  guests_included      3.189429\n",
       "5                   minimum_nights     -0.061590\n",
       "6                number_of_reviews     -0.023491\n",
       "7   calculated_host_listings_count      0.634992\n",
       "8                         latitude     79.392681\n",
       "9                        longitude    -78.660081\n",
       "10       room_type_Entire home/apt     21.727538\n",
       "11          room_type_Private room    -10.301187\n",
       "12           room_type_Shared room    -11.426351\n",
       "13              instant_bookable_f     -0.837074\n",
       "14              instant_bookable_t      0.837074"
      ]
     },
     "execution_count": 50,
     "metadata": {},
     "output_type": "execute_result"
    }
   ],
   "source": [
    "coefficients = pd.concat([pd.DataFrame(X.columns, columns=['variable']), \n",
    "\n",
    "pd.DataFrame(np.transpose(lin_reg.coef_), columns=['coefficients'])], axis = 1)\n",
    "\n",
    "coefficients"
   ]
  },
  {
   "cell_type": "code",
   "execution_count": 51,
   "metadata": {
    "ExecuteTime": {
     "end_time": "2020-09-19T10:57:13.136967Z",
     "start_time": "2020-09-19T10:57:11.958624Z"
    }
   },
   "outputs": [
    {
     "data": {
      "image/svg+xml": [
       "<?xml version=\"1.0\" encoding=\"UTF-8\" standalone=\"no\"?>\n",
       "<!DOCTYPE svg PUBLIC \"-//W3C//DTD SVG 1.1//EN\"\n",
       " \"http://www.w3.org/Graphics/SVG/1.1/DTD/svg11.dtd\">\n",
       "<!-- Generated by graphviz version 2.40.1 (20161225.0304)\n",
       " -->\n",
       "<!-- Title: %3 Pages: 1 -->\n",
       "<svg width=\"1809pt\" height=\"284pt\"\n",
       " viewBox=\"0.00 0.00 1808.64 284.00\" xmlns=\"http://www.w3.org/2000/svg\" xmlns:xlink=\"http://www.w3.org/1999/xlink\">\n",
       "<g id=\"graph0\" class=\"graph\" transform=\"scale(1 1) rotate(0) translate(4 280)\">\n",
       "<title>%3</title>\n",
       "<polygon fill=\"#ffffff\" stroke=\"transparent\" points=\"-4,4 -4,-280 1804.6401,-280 1804.6401,4 -4,4\"/>\n",
       "<!-- split0 -->\n",
       "<g id=\"node1\" class=\"node\">\n",
       "<title>split0</title>\n",
       "<polygon fill=\"none\" stroke=\"#000000\" points=\"151,-203 0,-203 0,-167 151,-167 151,-203\"/>\n",
       "<text text-anchor=\"start\" x=\"8\" y=\"-182.3\" font-family=\"Times,serif\" font-weight=\"bold\" font-size=\"14.00\" fill=\"#000000\">accommodates</text>\n",
       "<text text-anchor=\"start\" x=\"96\" y=\"-182.3\" font-family=\"Times,serif\" font-size=\"14.00\" fill=\"#000000\"> ≤ </text>\n",
       "<text text-anchor=\"start\" x=\"111\" y=\"-182.3\" font-family=\"Times,serif\" font-weight=\"bold\" font-size=\"14.00\" fill=\"#000000\">3.500</text>\n",
       "</g>\n",
       "<!-- split3 -->\n",
       "<g id=\"node2\" class=\"node\">\n",
       "<title>split3</title>\n",
       "<polygon fill=\"none\" stroke=\"#000000\" points=\"428,-236 192,-236 192,-200 428,-200 428,-236\"/>\n",
       "<text text-anchor=\"start\" x=\"200\" y=\"-215.3\" font-family=\"Times,serif\" font-weight=\"bold\" font-size=\"14.00\" fill=\"#000000\">room_type_Entire_home/apt</text>\n",
       "<text text-anchor=\"start\" x=\"373\" y=\"-215.3\" font-family=\"Times,serif\" font-size=\"14.00\" fill=\"#000000\"> ≤ </text>\n",
       "<text text-anchor=\"start\" x=\"388\" y=\"-215.3\" font-family=\"Times,serif\" font-weight=\"bold\" font-size=\"14.00\" fill=\"#000000\">0.000</text>\n",
       "</g>\n",
       "<!-- split0&#45;&gt;split3 -->\n",
       "<g id=\"edge5\" class=\"edge\">\n",
       "<title>split0&#45;&gt;split3</title>\n",
       "<path fill=\"none\" stroke=\"#000000\" d=\"M151.3116,-195.6686C161.1479,-197.0528 171.4308,-198.4999 181.8292,-199.9632\"/>\n",
       "<polygon fill=\"#000000\" stroke=\"#000000\" points=\"181.4333,-203.4419 191.8235,-201.3696 182.4088,-196.5102 181.4333,-203.4419\"/>\n",
       "<text text-anchor=\"middle\" x=\"171.5\" y=\"-202.8\" font-family=\"Times,serif\" font-size=\"14.00\" fill=\"#000000\">yes</text>\n",
       "</g>\n",
       "<!-- split1 -->\n",
       "<g id=\"node7\" class=\"node\">\n",
       "<title>split1</title>\n",
       "<polygon fill=\"none\" stroke=\"#000000\" points=\"385.5,-163 234.5,-163 234.5,-127 385.5,-127 385.5,-163\"/>\n",
       "<text text-anchor=\"start\" x=\"242.5\" y=\"-142.3\" font-family=\"Times,serif\" font-weight=\"bold\" font-size=\"14.00\" fill=\"#000000\">accommodates</text>\n",
       "<text text-anchor=\"start\" x=\"330.5\" y=\"-142.3\" font-family=\"Times,serif\" font-size=\"14.00\" fill=\"#000000\"> ≤ </text>\n",
       "<text text-anchor=\"start\" x=\"345.5\" y=\"-142.3\" font-family=\"Times,serif\" font-weight=\"bold\" font-size=\"14.00\" fill=\"#000000\">5.500</text>\n",
       "</g>\n",
       "<!-- split0&#45;&gt;split1 -->\n",
       "<g id=\"edge28\" class=\"edge\">\n",
       "<title>split0&#45;&gt;split1</title>\n",
       "<path fill=\"none\" stroke=\"#000000\" d=\"M151.3116,-172.0684C174.6119,-168.0939 200.4177,-163.6921 224.33,-159.6132\"/>\n",
       "<polygon fill=\"#000000\" stroke=\"#000000\" points=\"225.1803,-163.0188 234.4494,-157.8871 224.0032,-156.1185 225.1803,-163.0188\"/>\n",
       "<text text-anchor=\"middle\" x=\"171.5\" y=\"-172.8\" font-family=\"Times,serif\" font-size=\"14.00\" fill=\"#000000\">no</text>\n",
       "</g>\n",
       "<!-- leaf0 -->\n",
       "<g id=\"node3\" class=\"node\">\n",
       "<title>leaf0</title>\n",
       "<ellipse fill=\"none\" stroke=\"#000000\" cx=\"595.5\" cy=\"-258\" rx=\"65.7887\" ry=\"18\"/>\n",
       "<text text-anchor=\"start\" x=\"553\" y=\"-255.3\" font-family=\"Times,serif\" font-size=\"14.00\" fill=\"#000000\">leaf 0: </text>\n",
       "<text text-anchor=\"start\" x=\"592\" y=\"-255.3\" font-family=\"Times,serif\" font-weight=\"bold\" font-size=\"14.00\" fill=\"#000000\">129.368</text>\n",
       "</g>\n",
       "<!-- split3&#45;&gt;leaf0 -->\n",
       "<g id=\"edge1\" class=\"edge\">\n",
       "<title>split3&#45;&gt;leaf0</title>\n",
       "<path fill=\"none\" stroke=\"#000000\" d=\"M428.1847,-234.5583C461.6675,-239.2494 497.0093,-244.201 526.5404,-248.3384\"/>\n",
       "<polygon fill=\"#000000\" stroke=\"#000000\" points=\"526.342,-251.8447 536.7309,-249.7662 527.3133,-244.9124 526.342,-251.8447\"/>\n",
       "<text text-anchor=\"middle\" x=\"448.5\" y=\"-241.8\" font-family=\"Times,serif\" font-size=\"14.00\" fill=\"#000000\">yes</text>\n",
       "</g>\n",
       "<!-- split8 -->\n",
       "<g id=\"node4\" class=\"node\">\n",
       "<title>split8</title>\n",
       "<polygon fill=\"none\" stroke=\"#000000\" points=\"722,-236 469,-236 469,-200 722,-200 722,-236\"/>\n",
       "<text text-anchor=\"start\" x=\"477\" y=\"-215.3\" font-family=\"Times,serif\" font-weight=\"bold\" font-size=\"14.00\" fill=\"#000000\">calculated_host_listings_count</text>\n",
       "<text text-anchor=\"start\" x=\"660\" y=\"-215.3\" font-family=\"Times,serif\" font-size=\"14.00\" fill=\"#000000\"> ≤ </text>\n",
       "<text text-anchor=\"start\" x=\"675\" y=\"-215.3\" font-family=\"Times,serif\" font-weight=\"bold\" font-size=\"14.00\" fill=\"#000000\">70.500</text>\n",
       "</g>\n",
       "<!-- split3&#45;&gt;split8 -->\n",
       "<g id=\"edge4\" class=\"edge\">\n",
       "<title>split3&#45;&gt;split8</title>\n",
       "<path fill=\"none\" stroke=\"#000000\" d=\"M428.1847,-218C438.1943,-218 448.37,-218 458.507,-218\"/>\n",
       "<polygon fill=\"#000000\" stroke=\"#000000\" points=\"458.6235,-221.5001 468.6235,-218 458.6234,-214.5001 458.6235,-221.5001\"/>\n",
       "<text text-anchor=\"middle\" x=\"448.5\" y=\"-221.8\" font-family=\"Times,serif\" font-size=\"14.00\" fill=\"#000000\">no</text>\n",
       "</g>\n",
       "<!-- leaf4 -->\n",
       "<g id=\"node5\" class=\"node\">\n",
       "<title>leaf4</title>\n",
       "<ellipse fill=\"none\" stroke=\"#000000\" cx=\"828.6442\" cy=\"-258\" rx=\"65.7887\" ry=\"18\"/>\n",
       "<text text-anchor=\"start\" x=\"786.1442\" y=\"-255.3\" font-family=\"Times,serif\" font-size=\"14.00\" fill=\"#000000\">leaf 4: </text>\n",
       "<text text-anchor=\"start\" x=\"825.1442\" y=\"-255.3\" font-family=\"Times,serif\" font-weight=\"bold\" font-size=\"14.00\" fill=\"#000000\">132.990</text>\n",
       "</g>\n",
       "<!-- split8&#45;&gt;leaf4 -->\n",
       "<g id=\"edge2\" class=\"edge\">\n",
       "<title>split8&#45;&gt;leaf4</title>\n",
       "<path fill=\"none\" stroke=\"#000000\" d=\"M700.4775,-236.0107C721.6797,-239.6484 743.3987,-243.3746 762.7913,-246.7018\"/>\n",
       "<polygon fill=\"#000000\" stroke=\"#000000\" points=\"762.2575,-250.1613 772.7054,-248.4027 763.4412,-243.2621 762.2575,-250.1613\"/>\n",
       "<text text-anchor=\"middle\" x=\"742.5\" y=\"-246.8\" font-family=\"Times,serif\" font-size=\"14.00\" fill=\"#000000\">yes</text>\n",
       "</g>\n",
       "<!-- leaf9 -->\n",
       "<g id=\"node6\" class=\"node\">\n",
       "<title>leaf9</title>\n",
       "<ellipse fill=\"none\" stroke=\"#000000\" cx=\"828.6442\" cy=\"-218\" rx=\"65.7887\" ry=\"18\"/>\n",
       "<text text-anchor=\"start\" x=\"786.1442\" y=\"-215.3\" font-family=\"Times,serif\" font-size=\"14.00\" fill=\"#000000\">leaf 9: </text>\n",
       "<text text-anchor=\"start\" x=\"825.1442\" y=\"-215.3\" font-family=\"Times,serif\" font-weight=\"bold\" font-size=\"14.00\" fill=\"#000000\">146.545</text>\n",
       "</g>\n",
       "<!-- split8&#45;&gt;leaf9 -->\n",
       "<g id=\"edge3\" class=\"edge\">\n",
       "<title>split8&#45;&gt;leaf9</title>\n",
       "<path fill=\"none\" stroke=\"#000000\" d=\"M722.306,-218C732.6899,-218 742.9647,-218 752.7974,-218\"/>\n",
       "<polygon fill=\"#000000\" stroke=\"#000000\" points=\"752.8701,-221.5001 762.8701,-218 752.87,-214.5001 752.8701,-221.5001\"/>\n",
       "<text text-anchor=\"middle\" x=\"742.5\" y=\"-221.8\" font-family=\"Times,serif\" font-size=\"14.00\" fill=\"#000000\">no</text>\n",
       "</g>\n",
       "<!-- split4 -->\n",
       "<g id=\"node8\" class=\"node\">\n",
       "<title>split4</title>\n",
       "<polygon fill=\"none\" stroke=\"#000000\" points=\"659.5,-163 531.5,-163 531.5,-127 659.5,-127 659.5,-163\"/>\n",
       "<text text-anchor=\"start\" x=\"539.5\" y=\"-142.3\" font-family=\"Times,serif\" font-weight=\"bold\" font-size=\"14.00\" fill=\"#000000\">bathrooms</text>\n",
       "<text text-anchor=\"start\" x=\"604.5\" y=\"-142.3\" font-family=\"Times,serif\" font-size=\"14.00\" fill=\"#000000\"> ≤ </text>\n",
       "<text text-anchor=\"start\" x=\"619.5\" y=\"-142.3\" font-family=\"Times,serif\" font-weight=\"bold\" font-size=\"14.00\" fill=\"#000000\">1.750</text>\n",
       "</g>\n",
       "<!-- split1&#45;&gt;split4 -->\n",
       "<g id=\"edge18\" class=\"edge\">\n",
       "<title>split1&#45;&gt;split4</title>\n",
       "<path fill=\"none\" stroke=\"#000000\" d=\"M385.7592,-145C427.7279,-145 479.6877,-145 521.3903,-145\"/>\n",
       "<polygon fill=\"#000000\" stroke=\"#000000\" points=\"521.4852,-148.5001 531.4852,-145 521.4851,-141.5001 521.4852,-148.5001\"/>\n",
       "<text text-anchor=\"middle\" x=\"448.5\" y=\"-148.8\" font-family=\"Times,serif\" font-size=\"14.00\" fill=\"#000000\">yes</text>\n",
       "</g>\n",
       "<!-- split2 -->\n",
       "<g id=\"node21\" class=\"node\">\n",
       "<title>split2</title>\n",
       "<polygon fill=\"none\" stroke=\"#000000\" points=\"671,-116 520,-116 520,-80 671,-80 671,-116\"/>\n",
       "<text text-anchor=\"start\" x=\"528\" y=\"-95.3\" font-family=\"Times,serif\" font-weight=\"bold\" font-size=\"14.00\" fill=\"#000000\">accommodates</text>\n",
       "<text text-anchor=\"start\" x=\"616\" y=\"-95.3\" font-family=\"Times,serif\" font-size=\"14.00\" fill=\"#000000\"> ≤ </text>\n",
       "<text text-anchor=\"start\" x=\"631\" y=\"-95.3\" font-family=\"Times,serif\" font-weight=\"bold\" font-size=\"14.00\" fill=\"#000000\">8.500</text>\n",
       "</g>\n",
       "<!-- split1&#45;&gt;split2 -->\n",
       "<g id=\"edge27\" class=\"edge\">\n",
       "<title>split1&#45;&gt;split2</title>\n",
       "<path fill=\"none\" stroke=\"#000000\" d=\"M385.7592,-132.5283C423.9842,-126.2355 470.4973,-118.5784 509.9999,-112.0753\"/>\n",
       "<polygon fill=\"#000000\" stroke=\"#000000\" points=\"510.5839,-115.5264 519.8826,-110.4484 509.4468,-108.6193 510.5839,-115.5264\"/>\n",
       "<text text-anchor=\"middle\" x=\"448.5\" y=\"-125.8\" font-family=\"Times,serif\" font-size=\"14.00\" fill=\"#000000\">no</text>\n",
       "</g>\n",
       "<!-- split7 -->\n",
       "<g id=\"node9\" class=\"node\">\n",
       "<title>split7</title>\n",
       "<polygon fill=\"none\" stroke=\"#000000\" points=\"890.1442,-196 767.1442,-196 767.1442,-160 890.1442,-160 890.1442,-196\"/>\n",
       "<text text-anchor=\"start\" x=\"775.1442\" y=\"-175.3\" font-family=\"Times,serif\" font-weight=\"bold\" font-size=\"14.00\" fill=\"#000000\">bedrooms</text>\n",
       "<text text-anchor=\"start\" x=\"835.1442\" y=\"-175.3\" font-family=\"Times,serif\" font-size=\"14.00\" fill=\"#000000\"> ≤ </text>\n",
       "<text text-anchor=\"start\" x=\"850.1442\" y=\"-175.3\" font-family=\"Times,serif\" font-weight=\"bold\" font-size=\"14.00\" fill=\"#000000\">1.500</text>\n",
       "</g>\n",
       "<!-- split4&#45;&gt;split7 -->\n",
       "<g id=\"edge16\" class=\"edge\">\n",
       "<title>split4&#45;&gt;split7</title>\n",
       "<path fill=\"none\" stroke=\"#000000\" d=\"M659.516,-154.061C689.6828,-158.3309 725.7884,-163.4414 756.8786,-167.8421\"/>\n",
       "<polygon fill=\"#000000\" stroke=\"#000000\" points=\"756.3908,-171.3078 766.7827,-169.2439 757.3719,-164.3769 756.3908,-171.3078\"/>\n",
       "<text text-anchor=\"middle\" x=\"742.5\" y=\"-169.8\" font-family=\"Times,serif\" font-size=\"14.00\" fill=\"#000000\">yes</text>\n",
       "</g>\n",
       "<!-- leaf5 -->\n",
       "<g id=\"node20\" class=\"node\">\n",
       "<title>leaf5</title>\n",
       "<ellipse fill=\"none\" stroke=\"#000000\" cx=\"828.6442\" cy=\"-138\" rx=\"65.7887\" ry=\"18\"/>\n",
       "<text text-anchor=\"start\" x=\"786.1442\" y=\"-135.3\" font-family=\"Times,serif\" font-size=\"14.00\" fill=\"#000000\">leaf 5: </text>\n",
       "<text text-anchor=\"start\" x=\"825.1442\" y=\"-135.3\" font-family=\"Times,serif\" font-weight=\"bold\" font-size=\"14.00\" fill=\"#000000\">145.034</text>\n",
       "</g>\n",
       "<!-- split4&#45;&gt;leaf5 -->\n",
       "<g id=\"edge17\" class=\"edge\">\n",
       "<title>split4&#45;&gt;leaf5</title>\n",
       "<path fill=\"none\" stroke=\"#000000\" d=\"M659.516,-143.078C688.4622,-142.2089 722.8763,-141.1756 753.0807,-140.2687\"/>\n",
       "<polygon fill=\"#000000\" stroke=\"#000000\" points=\"753.2582,-143.7651 763.1486,-139.9665 753.0481,-136.7682 753.2582,-143.7651\"/>\n",
       "<text text-anchor=\"middle\" x=\"742.5\" y=\"-143.8\" font-family=\"Times,serif\" font-size=\"14.00\" fill=\"#000000\">no</text>\n",
       "</g>\n",
       "<!-- leaf1 -->\n",
       "<g id=\"node10\" class=\"node\">\n",
       "<title>leaf1</title>\n",
       "<ellipse fill=\"none\" stroke=\"#000000\" cx=\"1000.9325\" cy=\"-218\" rx=\"65.7887\" ry=\"18\"/>\n",
       "<text text-anchor=\"start\" x=\"958.4325\" y=\"-215.3\" font-family=\"Times,serif\" font-size=\"14.00\" fill=\"#000000\">leaf 1: </text>\n",
       "<text text-anchor=\"start\" x=\"997.4325\" y=\"-215.3\" font-family=\"Times,serif\" font-weight=\"bold\" font-size=\"14.00\" fill=\"#000000\">135.401</text>\n",
       "</g>\n",
       "<!-- split7&#45;&gt;leaf1 -->\n",
       "<g id=\"edge6\" class=\"edge\">\n",
       "<title>split7&#45;&gt;leaf1</title>\n",
       "<path fill=\"none\" stroke=\"#000000\" d=\"M890.3576,-192.3279C906.7494,-196.1336 924.4277,-200.238 940.7373,-204.0245\"/>\n",
       "<polygon fill=\"#000000\" stroke=\"#000000\" points=\"940.1592,-207.4833 950.6917,-206.3356 941.7423,-200.6647 940.1592,-207.4833\"/>\n",
       "<text text-anchor=\"middle\" x=\"914.7884\" y=\"-202.8\" font-family=\"Times,serif\" font-size=\"14.00\" fill=\"#000000\">yes</text>\n",
       "</g>\n",
       "<!-- split9 -->\n",
       "<g id=\"node11\" class=\"node\">\n",
       "<title>split9</title>\n",
       "<polygon fill=\"none\" stroke=\"#000000\" points=\"1060.9325,-196 940.9325,-196 940.9325,-160 1060.9325,-160 1060.9325,-196\"/>\n",
       "<text text-anchor=\"start\" x=\"948.9325\" y=\"-175.3\" font-family=\"Times,serif\" font-weight=\"bold\" font-size=\"14.00\" fill=\"#000000\">longitude</text>\n",
       "<text text-anchor=\"start\" x=\"1005.9325\" y=\"-175.3\" font-family=\"Times,serif\" font-size=\"14.00\" fill=\"#000000\"> ≤ </text>\n",
       "<text text-anchor=\"start\" x=\"1020.9325\" y=\"-175.3\" font-family=\"Times,serif\" font-weight=\"bold\" font-size=\"14.00\" fill=\"#000000\">4.912</text>\n",
       "</g>\n",
       "<!-- split7&#45;&gt;split9 -->\n",
       "<g id=\"edge15\" class=\"edge\">\n",
       "<title>split7&#45;&gt;split9</title>\n",
       "<path fill=\"none\" stroke=\"#000000\" d=\"M890.3576,-178C903.4378,-178 917.3373,-178 930.7068,-178\"/>\n",
       "<polygon fill=\"#000000\" stroke=\"#000000\" points=\"930.8049,-181.5001 940.8048,-178 930.8048,-174.5001 930.8049,-181.5001\"/>\n",
       "<text text-anchor=\"middle\" x=\"914.7884\" y=\"-181.8\" font-family=\"Times,serif\" font-size=\"14.00\" fill=\"#000000\">no</text>\n",
       "</g>\n",
       "<!-- split10 -->\n",
       "<g id=\"node12\" class=\"node\">\n",
       "<title>split10</title>\n",
       "<polygon fill=\"none\" stroke=\"#000000\" points=\"1237.7705,-236 1117.7705,-236 1117.7705,-200 1237.7705,-200 1237.7705,-236\"/>\n",
       "<text text-anchor=\"start\" x=\"1125.7705\" y=\"-215.3\" font-family=\"Times,serif\" font-weight=\"bold\" font-size=\"14.00\" fill=\"#000000\">longitude</text>\n",
       "<text text-anchor=\"start\" x=\"1182.7705\" y=\"-215.3\" font-family=\"Times,serif\" font-size=\"14.00\" fill=\"#000000\"> ≤ </text>\n",
       "<text text-anchor=\"start\" x=\"1197.7705\" y=\"-215.3\" font-family=\"Times,serif\" font-weight=\"bold\" font-size=\"14.00\" fill=\"#000000\">4.866</text>\n",
       "</g>\n",
       "<!-- split9&#45;&gt;split10 -->\n",
       "<g id=\"edge13\" class=\"edge\">\n",
       "<title>split9&#45;&gt;split10</title>\n",
       "<path fill=\"none\" stroke=\"#000000\" d=\"M1061.2955,-191.6539C1076.2335,-195.0328 1092.3635,-198.6813 1107.72,-202.1549\"/>\n",
       "<polygon fill=\"#000000\" stroke=\"#000000\" points=\"1107.1537,-205.6151 1117.6795,-204.4077 1108.6981,-198.7876 1107.1537,-205.6151\"/>\n",
       "<text text-anchor=\"middle\" x=\"1087.0767\" y=\"-202.8\" font-family=\"Times,serif\" font-size=\"14.00\" fill=\"#000000\">yes</text>\n",
       "</g>\n",
       "<!-- leaf10 -->\n",
       "<g id=\"node19\" class=\"node\">\n",
       "<title>leaf10</title>\n",
       "<ellipse fill=\"none\" stroke=\"#000000\" cx=\"1177.7705\" cy=\"-178\" rx=\"70.3881\" ry=\"18\"/>\n",
       "<text text-anchor=\"start\" x=\"1131.7705\" y=\"-175.3\" font-family=\"Times,serif\" font-size=\"14.00\" fill=\"#000000\">leaf 10: </text>\n",
       "<text text-anchor=\"start\" x=\"1177.7705\" y=\"-175.3\" font-family=\"Times,serif\" font-weight=\"bold\" font-size=\"14.00\" fill=\"#000000\">136.508</text>\n",
       "</g>\n",
       "<!-- split9&#45;&gt;leaf10 -->\n",
       "<g id=\"edge14\" class=\"edge\">\n",
       "<title>split9&#45;&gt;leaf10</title>\n",
       "<path fill=\"none\" stroke=\"#000000\" d=\"M1061.2955,-178C1072.8645,-178 1085.1483,-178 1097.2342,-178\"/>\n",
       "<polygon fill=\"#000000\" stroke=\"#000000\" points=\"1097.3197,-181.5001 1107.3197,-178 1097.3196,-174.5001 1097.3197,-181.5001\"/>\n",
       "<text text-anchor=\"middle\" x=\"1087.0767\" y=\"-181.8\" font-family=\"Times,serif\" font-size=\"14.00\" fill=\"#000000\">no</text>\n",
       "</g>\n",
       "<!-- leaf8 -->\n",
       "<g id=\"node13\" class=\"node\">\n",
       "<title>leaf8</title>\n",
       "<ellipse fill=\"none\" stroke=\"#000000\" cx=\"1354.6084\" cy=\"-234\" rx=\"65.7887\" ry=\"18\"/>\n",
       "<text text-anchor=\"start\" x=\"1312.1084\" y=\"-231.3\" font-family=\"Times,serif\" font-size=\"14.00\" fill=\"#000000\">leaf 8: </text>\n",
       "<text text-anchor=\"start\" x=\"1351.1084\" y=\"-231.3\" font-family=\"Times,serif\" font-weight=\"bold\" font-size=\"14.00\" fill=\"#000000\">136.432</text>\n",
       "</g>\n",
       "<!-- split10&#45;&gt;leaf8 -->\n",
       "<g id=\"edge7\" class=\"edge\">\n",
       "<title>split10&#45;&gt;leaf8</title>\n",
       "<path fill=\"none\" stroke=\"#000000\" d=\"M1238.1335,-223.4615C1252.2789,-224.7414 1267.493,-226.1179 1282.1072,-227.4402\"/>\n",
       "<polygon fill=\"#000000\" stroke=\"#000000\" points=\"1281.8337,-230.9297 1292.1084,-228.3451 1282.4645,-223.9581 1281.8337,-230.9297\"/>\n",
       "<text text-anchor=\"middle\" x=\"1268.4642\" y=\"-229.8\" font-family=\"Times,serif\" font-size=\"14.00\" fill=\"#000000\">yes</text>\n",
       "</g>\n",
       "<!-- split12 -->\n",
       "<g id=\"node14\" class=\"node\">\n",
       "<title>split12</title>\n",
       "<polygon fill=\"none\" stroke=\"#000000\" points=\"1412.6084,-212 1296.6084,-212 1296.6084,-176 1412.6084,-176 1412.6084,-212\"/>\n",
       "<text text-anchor=\"start\" x=\"1304.6084\" y=\"-191.3\" font-family=\"Times,serif\" font-weight=\"bold\" font-size=\"14.00\" fill=\"#000000\">latitude</text>\n",
       "<text text-anchor=\"start\" x=\"1350.6084\" y=\"-191.3\" font-family=\"Times,serif\" font-size=\"14.00\" fill=\"#000000\"> ≤ </text>\n",
       "<text text-anchor=\"start\" x=\"1365.6084\" y=\"-191.3\" font-family=\"Times,serif\" font-weight=\"bold\" font-size=\"14.00\" fill=\"#000000\">52.385</text>\n",
       "</g>\n",
       "<!-- split10&#45;&gt;split12 -->\n",
       "<g id=\"edge12\" class=\"edge\">\n",
       "<title>split10&#45;&gt;split12</title>\n",
       "<path fill=\"none\" stroke=\"#000000\" d=\"M1238.1335,-209.8077C1253.564,-207.7135 1270.2662,-205.4467 1286.0742,-203.3013\"/>\n",
       "<polygon fill=\"#000000\" stroke=\"#000000\" points=\"1286.8723,-206.7251 1296.3108,-201.912 1285.9309,-199.7887 1286.8723,-206.7251\"/>\n",
       "<text text-anchor=\"middle\" x=\"1268.4642\" y=\"-209.8\" font-family=\"Times,serif\" font-size=\"14.00\" fill=\"#000000\">no</text>\n",
       "</g>\n",
       "<!-- split13 -->\n",
       "<g id=\"node15\" class=\"node\">\n",
       "<title>split13</title>\n",
       "<polygon fill=\"none\" stroke=\"#000000\" points=\"1619.2526,-240 1461.2526,-240 1461.2526,-204 1619.2526,-204 1619.2526,-240\"/>\n",
       "<text text-anchor=\"start\" x=\"1469.2526\" y=\"-219.3\" font-family=\"Times,serif\" font-weight=\"bold\" font-size=\"14.00\" fill=\"#000000\">guests_included</text>\n",
       "<text text-anchor=\"start\" x=\"1564.2526\" y=\"-219.3\" font-family=\"Times,serif\" font-size=\"14.00\" fill=\"#000000\"> ≤ </text>\n",
       "<text text-anchor=\"start\" x=\"1579.2526\" y=\"-219.3\" font-family=\"Times,serif\" font-weight=\"bold\" font-size=\"14.00\" fill=\"#000000\">3.500</text>\n",
       "</g>\n",
       "<!-- split12&#45;&gt;split13 -->\n",
       "<g id=\"edge10\" class=\"edge\">\n",
       "<title>split12&#45;&gt;split13</title>\n",
       "<path fill=\"none\" stroke=\"#000000\" d=\"M1412.838,-202.7826C1425.0399,-204.6229 1438.1725,-206.6037 1451.2057,-208.5694\"/>\n",
       "<polygon fill=\"#000000\" stroke=\"#000000\" points=\"1450.7256,-212.0365 1461.1358,-210.0671 1451.7696,-205.1148 1450.7256,-212.0365\"/>\n",
       "<text text-anchor=\"middle\" x=\"1440.7526\" y=\"-211.8\" font-family=\"Times,serif\" font-size=\"14.00\" fill=\"#000000\">yes</text>\n",
       "</g>\n",
       "<!-- leaf13 -->\n",
       "<g id=\"node18\" class=\"node\">\n",
       "<title>leaf13</title>\n",
       "<ellipse fill=\"none\" stroke=\"#000000\" cx=\"1540.2526\" cy=\"-182\" rx=\"70.3881\" ry=\"18\"/>\n",
       "<text text-anchor=\"start\" x=\"1494.2526\" y=\"-179.3\" font-family=\"Times,serif\" font-size=\"14.00\" fill=\"#000000\">leaf 13: </text>\n",
       "<text text-anchor=\"start\" x=\"1540.2526\" y=\"-179.3\" font-family=\"Times,serif\" font-weight=\"bold\" font-size=\"14.00\" fill=\"#000000\">136.559</text>\n",
       "</g>\n",
       "<!-- split12&#45;&gt;leaf13 -->\n",
       "<g id=\"edge11\" class=\"edge\">\n",
       "<title>split12&#45;&gt;leaf13</title>\n",
       "<path fill=\"none\" stroke=\"#000000\" d=\"M1412.838,-190.236C1428.4244,-189.2286 1445.5292,-188.1229 1462.0057,-187.0579\"/>\n",
       "<polygon fill=\"#000000\" stroke=\"#000000\" points=\"1462.4109,-190.5391 1472.1643,-186.4012 1461.9593,-183.5536 1462.4109,-190.5391\"/>\n",
       "<text text-anchor=\"middle\" x=\"1440.7526\" y=\"-191.8\" font-family=\"Times,serif\" font-size=\"14.00\" fill=\"#000000\">no</text>\n",
       "</g>\n",
       "<!-- leaf11 -->\n",
       "<g id=\"node16\" class=\"node\">\n",
       "<title>leaf11</title>\n",
       "<ellipse fill=\"none\" stroke=\"#000000\" cx=\"1730.4464\" cy=\"-242\" rx=\"70.3881\" ry=\"18\"/>\n",
       "<text text-anchor=\"start\" x=\"1684.4464\" y=\"-239.3\" font-family=\"Times,serif\" font-size=\"14.00\" fill=\"#000000\">leaf 11: </text>\n",
       "<text text-anchor=\"start\" x=\"1730.4464\" y=\"-239.3\" font-family=\"Times,serif\" font-weight=\"bold\" font-size=\"14.00\" fill=\"#000000\">141.005</text>\n",
       "</g>\n",
       "<!-- split13&#45;&gt;leaf11 -->\n",
       "<g id=\"edge8\" class=\"edge\">\n",
       "<title>split13&#45;&gt;leaf11</title>\n",
       "<path fill=\"none\" stroke=\"#000000\" d=\"M1619.2596,-230.308C1631.1003,-231.5532 1643.2838,-232.8343 1655.0468,-234.0713\"/>\n",
       "<polygon fill=\"#000000\" stroke=\"#000000\" points=\"1654.9453,-237.5798 1665.2565,-235.1449 1655.6774,-230.6182 1654.9453,-237.5798\"/>\n",
       "<text text-anchor=\"middle\" x=\"1639.7526\" y=\"-236.8\" font-family=\"Times,serif\" font-size=\"14.00\" fill=\"#000000\">yes</text>\n",
       "</g>\n",
       "<!-- leaf14 -->\n",
       "<g id=\"node17\" class=\"node\">\n",
       "<title>leaf14</title>\n",
       "<ellipse fill=\"none\" stroke=\"#000000\" cx=\"1730.4464\" cy=\"-202\" rx=\"70.3881\" ry=\"18\"/>\n",
       "<text text-anchor=\"start\" x=\"1684.4464\" y=\"-199.3\" font-family=\"Times,serif\" font-size=\"14.00\" fill=\"#000000\">leaf 14: </text>\n",
       "<text text-anchor=\"start\" x=\"1730.4464\" y=\"-199.3\" font-family=\"Times,serif\" font-weight=\"bold\" font-size=\"14.00\" fill=\"#000000\">145.556</text>\n",
       "</g>\n",
       "<!-- split13&#45;&gt;leaf14 -->\n",
       "<g id=\"edge9\" class=\"edge\">\n",
       "<title>split13&#45;&gt;leaf14</title>\n",
       "<path fill=\"none\" stroke=\"#000000\" d=\"M1619.2596,-213.692C1631.1003,-212.4468 1643.2838,-211.1657 1655.0468,-209.9287\"/>\n",
       "<polygon fill=\"#000000\" stroke=\"#000000\" points=\"1655.6774,-213.3818 1665.2565,-208.8551 1654.9453,-206.4202 1655.6774,-213.3818\"/>\n",
       "<text text-anchor=\"middle\" x=\"1639.7526\" y=\"-215.8\" font-family=\"Times,serif\" font-size=\"14.00\" fill=\"#000000\">no</text>\n",
       "</g>\n",
       "<!-- split6 -->\n",
       "<g id=\"node22\" class=\"node\">\n",
       "<title>split6</title>\n",
       "<polygon fill=\"none\" stroke=\"#000000\" points=\"892.6442,-116 764.6442,-116 764.6442,-80 892.6442,-80 892.6442,-116\"/>\n",
       "<text text-anchor=\"start\" x=\"772.6442\" y=\"-95.3\" font-family=\"Times,serif\" font-weight=\"bold\" font-size=\"14.00\" fill=\"#000000\">bathrooms</text>\n",
       "<text text-anchor=\"start\" x=\"837.6442\" y=\"-95.3\" font-family=\"Times,serif\" font-size=\"14.00\" fill=\"#000000\"> ≤ </text>\n",
       "<text text-anchor=\"start\" x=\"852.6442\" y=\"-95.3\" font-family=\"Times,serif\" font-weight=\"bold\" font-size=\"14.00\" fill=\"#000000\">2.250</text>\n",
       "</g>\n",
       "<!-- split2&#45;&gt;split6 -->\n",
       "<g id=\"edge23\" class=\"edge\">\n",
       "<title>split2&#45;&gt;split6</title>\n",
       "<path fill=\"none\" stroke=\"#000000\" d=\"M671.1952,-98C697.7232,-98 727.485,-98 753.932,-98\"/>\n",
       "<polygon fill=\"#000000\" stroke=\"#000000\" points=\"754.2735,-101.5001 764.2735,-98 754.2734,-94.5001 754.2735,-101.5001\"/>\n",
       "<text text-anchor=\"middle\" x=\"742.5\" y=\"-101.8\" font-family=\"Times,serif\" font-size=\"14.00\" fill=\"#000000\">yes</text>\n",
       "</g>\n",
       "<!-- split5 -->\n",
       "<g id=\"node27\" class=\"node\">\n",
       "<title>split5</title>\n",
       "<polygon fill=\"none\" stroke=\"#000000\" points=\"886.6442,-76 770.6442,-76 770.6442,-40 886.6442,-40 886.6442,-76\"/>\n",
       "<text text-anchor=\"start\" x=\"778.6442\" y=\"-55.3\" font-family=\"Times,serif\" font-weight=\"bold\" font-size=\"14.00\" fill=\"#000000\">latitude</text>\n",
       "<text text-anchor=\"start\" x=\"824.6442\" y=\"-55.3\" font-family=\"Times,serif\" font-size=\"14.00\" fill=\"#000000\"> ≤ </text>\n",
       "<text text-anchor=\"start\" x=\"839.6442\" y=\"-55.3\" font-family=\"Times,serif\" font-weight=\"bold\" font-size=\"14.00\" fill=\"#000000\">52.374</text>\n",
       "</g>\n",
       "<!-- split2&#45;&gt;split5 -->\n",
       "<g id=\"edge26\" class=\"edge\">\n",
       "<title>split2&#45;&gt;split5</title>\n",
       "<path fill=\"none\" stroke=\"#000000\" d=\"M671.1952,-85.0131C699.8527,-80.0964 732.284,-74.5323 760.2335,-69.7371\"/>\n",
       "<polygon fill=\"#000000\" stroke=\"#000000\" points=\"761.0484,-73.1485 770.3126,-68.0078 759.8647,-66.2493 761.0484,-73.1485\"/>\n",
       "<text text-anchor=\"middle\" x=\"742.5\" y=\"-77.8\" font-family=\"Times,serif\" font-size=\"14.00\" fill=\"#000000\">no</text>\n",
       "</g>\n",
       "<!-- split11 -->\n",
       "<g id=\"node23\" class=\"node\">\n",
       "<title>split11</title>\n",
       "<polygon fill=\"none\" stroke=\"#000000\" points=\"1060.9325,-156 940.9325,-156 940.9325,-120 1060.9325,-120 1060.9325,-156\"/>\n",
       "<text text-anchor=\"start\" x=\"948.9325\" y=\"-135.3\" font-family=\"Times,serif\" font-weight=\"bold\" font-size=\"14.00\" fill=\"#000000\">longitude</text>\n",
       "<text text-anchor=\"start\" x=\"1005.9325\" y=\"-135.3\" font-family=\"Times,serif\" font-size=\"14.00\" fill=\"#000000\"> ≤ </text>\n",
       "<text text-anchor=\"start\" x=\"1020.9325\" y=\"-135.3\" font-family=\"Times,serif\" font-weight=\"bold\" font-size=\"14.00\" fill=\"#000000\">4.912</text>\n",
       "</g>\n",
       "<!-- split6&#45;&gt;split11 -->\n",
       "<g id=\"edge21\" class=\"edge\">\n",
       "<title>split6&#45;&gt;split11</title>\n",
       "<path fill=\"none\" stroke=\"#000000\" d=\"M892.798,-112.8945C905.1785,-115.7689 918.2085,-118.7941 930.7688,-121.7102\"/>\n",
       "<polygon fill=\"#000000\" stroke=\"#000000\" points=\"930.1873,-125.1682 940.7198,-124.0205 931.7704,-118.3495 930.1873,-125.1682\"/>\n",
       "<text text-anchor=\"middle\" x=\"914.7884\" y=\"-122.8\" font-family=\"Times,serif\" font-size=\"14.00\" fill=\"#000000\">yes</text>\n",
       "</g>\n",
       "<!-- leaf7 -->\n",
       "<g id=\"node26\" class=\"node\">\n",
       "<title>leaf7</title>\n",
       "<ellipse fill=\"none\" stroke=\"#000000\" cx=\"1000.9325\" cy=\"-98\" rx=\"65.7887\" ry=\"18\"/>\n",
       "<text text-anchor=\"start\" x=\"958.4325\" y=\"-95.3\" font-family=\"Times,serif\" font-size=\"14.00\" fill=\"#000000\">leaf 7: </text>\n",
       "<text text-anchor=\"start\" x=\"997.4325\" y=\"-95.3\" font-family=\"Times,serif\" font-weight=\"bold\" font-size=\"14.00\" fill=\"#000000\">162.487</text>\n",
       "</g>\n",
       "<!-- split6&#45;&gt;leaf7 -->\n",
       "<g id=\"edge22\" class=\"edge\">\n",
       "<title>split6&#45;&gt;leaf7</title>\n",
       "<path fill=\"none\" stroke=\"#000000\" d=\"M892.798,-98C903.3107,-98 914.2917,-98 925.0557,-98\"/>\n",
       "<polygon fill=\"#000000\" stroke=\"#000000\" points=\"925.287,-101.5001 935.287,-98 925.287,-94.5001 925.287,-101.5001\"/>\n",
       "<text text-anchor=\"middle\" x=\"914.7884\" y=\"-101.8\" font-family=\"Times,serif\" font-size=\"14.00\" fill=\"#000000\">no</text>\n",
       "</g>\n",
       "<!-- leaf2 -->\n",
       "<g id=\"node24\" class=\"node\">\n",
       "<title>leaf2</title>\n",
       "<ellipse fill=\"none\" stroke=\"#000000\" cx=\"1177.7705\" cy=\"-138\" rx=\"65.7887\" ry=\"18\"/>\n",
       "<text text-anchor=\"start\" x=\"1135.2705\" y=\"-135.3\" font-family=\"Times,serif\" font-size=\"14.00\" fill=\"#000000\">leaf 2: </text>\n",
       "<text text-anchor=\"start\" x=\"1174.2705\" y=\"-135.3\" font-family=\"Times,serif\" font-weight=\"bold\" font-size=\"14.00\" fill=\"#000000\">148.762</text>\n",
       "</g>\n",
       "<!-- split11&#45;&gt;leaf2 -->\n",
       "<g id=\"edge19\" class=\"edge\">\n",
       "<title>split11&#45;&gt;leaf2</title>\n",
       "<path fill=\"none\" stroke=\"#000000\" d=\"M1061.2955,-138C1074.2918,-138 1088.1903,-138 1101.6968,-138\"/>\n",
       "<polygon fill=\"#000000\" stroke=\"#000000\" points=\"1101.9275,-141.5001 1111.9275,-138 1101.9274,-134.5001 1101.9275,-141.5001\"/>\n",
       "<text text-anchor=\"middle\" x=\"1087.0767\" y=\"-141.8\" font-family=\"Times,serif\" font-size=\"14.00\" fill=\"#000000\">yes</text>\n",
       "</g>\n",
       "<!-- leaf12 -->\n",
       "<g id=\"node25\" class=\"node\">\n",
       "<title>leaf12</title>\n",
       "<ellipse fill=\"none\" stroke=\"#000000\" cx=\"1177.7705\" cy=\"-98\" rx=\"70.3881\" ry=\"18\"/>\n",
       "<text text-anchor=\"start\" x=\"1131.7705\" y=\"-95.3\" font-family=\"Times,serif\" font-size=\"14.00\" fill=\"#000000\">leaf 12: </text>\n",
       "<text text-anchor=\"start\" x=\"1177.7705\" y=\"-95.3\" font-family=\"Times,serif\" font-weight=\"bold\" font-size=\"14.00\" fill=\"#000000\">141.849</text>\n",
       "</g>\n",
       "<!-- split11&#45;&gt;leaf12 -->\n",
       "<g id=\"edge20\" class=\"edge\">\n",
       "<title>split11&#45;&gt;leaf12</title>\n",
       "<path fill=\"none\" stroke=\"#000000\" d=\"M1061.2955,-124.3461C1078.6091,-120.4299 1097.5238,-116.1515 1114.9798,-112.203\"/>\n",
       "<polygon fill=\"#000000\" stroke=\"#000000\" points=\"1116.0845,-115.5416 1125.0659,-109.9216 1114.5401,-108.7141 1116.0845,-115.5416\"/>\n",
       "<text text-anchor=\"middle\" x=\"1087.0767\" y=\"-123.8\" font-family=\"Times,serif\" font-size=\"14.00\" fill=\"#000000\">no</text>\n",
       "</g>\n",
       "<!-- leaf3 -->\n",
       "<g id=\"node28\" class=\"node\">\n",
       "<title>leaf3</title>\n",
       "<ellipse fill=\"none\" stroke=\"#000000\" cx=\"1000.9325\" cy=\"-58\" rx=\"65.7887\" ry=\"18\"/>\n",
       "<text text-anchor=\"start\" x=\"958.4325\" y=\"-55.3\" font-family=\"Times,serif\" font-size=\"14.00\" fill=\"#000000\">leaf 3: </text>\n",
       "<text text-anchor=\"start\" x=\"997.4325\" y=\"-55.3\" font-family=\"Times,serif\" font-weight=\"bold\" font-size=\"14.00\" fill=\"#000000\">184.511</text>\n",
       "</g>\n",
       "<!-- split5&#45;&gt;leaf3 -->\n",
       "<g id=\"edge24\" class=\"edge\">\n",
       "<title>split5&#45;&gt;leaf3</title>\n",
       "<path fill=\"none\" stroke=\"#000000\" d=\"M886.9732,-58C899.2208,-58 912.3088,-58 925.0899,-58\"/>\n",
       "<polygon fill=\"#000000\" stroke=\"#000000\" points=\"925.2524,-61.5001 935.2524,-58 925.2524,-54.5001 925.2524,-61.5001\"/>\n",
       "<text text-anchor=\"middle\" x=\"914.7884\" y=\"-61.8\" font-family=\"Times,serif\" font-size=\"14.00\" fill=\"#000000\">yes</text>\n",
       "</g>\n",
       "<!-- leaf6 -->\n",
       "<g id=\"node29\" class=\"node\">\n",
       "<title>leaf6</title>\n",
       "<ellipse fill=\"none\" stroke=\"#000000\" cx=\"1000.9325\" cy=\"-18\" rx=\"65.7887\" ry=\"18\"/>\n",
       "<text text-anchor=\"start\" x=\"958.4325\" y=\"-15.3\" font-family=\"Times,serif\" font-size=\"14.00\" fill=\"#000000\">leaf 6: </text>\n",
       "<text text-anchor=\"start\" x=\"997.4325\" y=\"-15.3\" font-family=\"Times,serif\" font-weight=\"bold\" font-size=\"14.00\" fill=\"#000000\">158.902</text>\n",
       "</g>\n",
       "<!-- split5&#45;&gt;leaf6 -->\n",
       "<g id=\"edge25\" class=\"edge\">\n",
       "<title>split5&#45;&gt;leaf6</title>\n",
       "<path fill=\"none\" stroke=\"#000000\" d=\"M886.9732,-44.4578C904.2735,-40.4412 923.2505,-36.0353 940.6709,-31.9909\"/>\n",
       "<polygon fill=\"#000000\" stroke=\"#000000\" points=\"941.774,-35.3279 950.7234,-29.657 940.1909,-28.5093 941.774,-35.3279\"/>\n",
       "<text text-anchor=\"middle\" x=\"914.7884\" y=\"-43.8\" font-family=\"Times,serif\" font-size=\"14.00\" fill=\"#000000\">no</text>\n",
       "</g>\n",
       "</g>\n",
       "</svg>\n"
      ],
      "text/plain": [
       "<graphviz.dot.Digraph at 0x7f8547d15eb8>"
      ]
     },
     "execution_count": 51,
     "metadata": {},
     "output_type": "execute_result"
    }
   ],
   "source": [
    "import lightgbm\n",
    "\n",
    "lightgbm.create_tree_digraph(gbm_grid_search.best_estimator_)"
   ]
  }
 ],
 "metadata": {
  "hide_input": false,
  "kernelspec": {
   "display_name": "Python 3",
   "language": "python",
   "name": "python3"
  },
  "language_info": {
   "codemirror_mode": {
    "name": "ipython",
    "version": 3
   },
   "file_extension": ".py",
   "mimetype": "text/x-python",
   "name": "python",
   "nbconvert_exporter": "python",
   "pygments_lexer": "ipython3",
   "version": "3.7.3"
  },
  "varInspector": {
   "cols": {
    "lenName": 16,
    "lenType": 16,
    "lenVar": 40
   },
   "kernels_config": {
    "python": {
     "delete_cmd_postfix": "",
     "delete_cmd_prefix": "del ",
     "library": "var_list.py",
     "varRefreshCmd": "print(var_dic_list())"
    },
    "r": {
     "delete_cmd_postfix": ") ",
     "delete_cmd_prefix": "rm(",
     "library": "var_list.r",
     "varRefreshCmd": "cat(var_dic_list()) "
    }
   },
   "types_to_exclude": [
    "module",
    "function",
    "builtin_function_or_method",
    "instance",
    "_Feature"
   ],
   "window_display": false
  }
 },
 "nbformat": 4,
 "nbformat_minor": 2
}
