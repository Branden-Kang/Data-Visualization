{
  "nbformat": 4,
  "nbformat_minor": 0,
  "metadata": {
    "colab": {
      "name": "Visualizing 100M+ data points with Plotly.ipynb",
      "provenance": [],
      "authorship_tag": "ABX9TyM/7lSE50Uermbt3u+UvtkN"
    },
    "kernelspec": {
      "name": "python3",
      "display_name": "Python 3"
    },
    "language_info": {
      "name": "python"
    }
  },
  "cells": [
    {
      "cell_type": "markdown",
      "source": [
        "[Reference](https://jvdd.medium.com/visualizing-100m-data-points-with-plotly-6e1adf2537c7)"
      ],
      "metadata": {
        "id": "YZANO4yicGw_"
      }
    },
    {
      "cell_type": "code",
      "execution_count": 1,
      "metadata": {
        "colab": {
          "base_uri": "https://localhost:8080/"
        },
        "id": "Skv8xDEpcFKt",
        "outputId": "86f86e7d-7040-4c6a-8719-fce11835e2d3"
      },
      "outputs": [
        {
          "output_type": "stream",
          "name": "stdout",
          "text": [
            "Collecting plotly-resampler\n",
            "  Downloading plotly_resampler-0.2.4-py3-none-any.whl (16 kB)\n",
            "Collecting dash-bootstrap-components<0.14.0,>=0.13.1\n",
            "  Downloading dash_bootstrap_components-0.13.1-py3-none-any.whl (197 kB)\n",
            "\u001b[K     |████████████████████████████████| 197 kB 6.4 MB/s \n",
            "\u001b[?25hCollecting plotly<6.0.0,>=5.3.1\n",
            "  Downloading plotly-5.5.0-py2.py3-none-any.whl (26.5 MB)\n",
            "\u001b[K     |████████████████████████████████| 26.5 MB 1.4 MB/s \n",
            "\u001b[?25hCollecting lttbc<0.3.0,>=0.2.0\n",
            "  Downloading lttbc-0.2.0.tar.gz (91 kB)\n",
            "\u001b[K     |████████████████████████████████| 91 kB 9.4 MB/s \n",
            "\u001b[?25hCollecting dash<3.0.0,>=2.0.0\n",
            "  Downloading dash-2.0.0-py3-none-any.whl (7.3 MB)\n",
            "\u001b[K     |████████████████████████████████| 7.3 MB 67.5 MB/s \n",
            "\u001b[?25hCollecting jupyter-dash<0.5.0,>=0.4.0\n",
            "  Downloading jupyter_dash-0.4.0-py3-none-any.whl (20 kB)\n",
            "Collecting orjson<4.0.0,>=3.6.4\n",
            "  Downloading orjson-3.6.5-cp37-cp37m-manylinux_2_24_x86_64.whl (247 kB)\n",
            "\u001b[K     |████████████████████████████████| 247 kB 48.6 MB/s \n",
            "\u001b[?25hCollecting trace-updater<0.0.7,>=0.0.6\n",
            "  Downloading trace_updater-0.0.6-py3-none-any.whl (34 kB)\n",
            "Collecting dash-html-components==2.0.0\n",
            "  Downloading dash_html_components-2.0.0.tar.gz (3.8 kB)\n",
            "Collecting dash-core-components==2.0.0\n",
            "  Downloading dash_core_components-2.0.0.tar.gz (3.4 kB)\n",
            "Collecting flask-compress\n",
            "  Downloading Flask_Compress-1.10.1-py3-none-any.whl (7.9 kB)\n",
            "Requirement already satisfied: Flask>=1.0.4 in /usr/local/lib/python3.7/dist-packages (from dash<3.0.0,>=2.0.0->plotly-resampler) (1.1.4)\n",
            "Collecting dash-table==5.0.0\n",
            "  Downloading dash_table-5.0.0.tar.gz (3.4 kB)\n",
            "Requirement already satisfied: Werkzeug<2.0,>=0.15 in /usr/local/lib/python3.7/dist-packages (from Flask>=1.0.4->dash<3.0.0,>=2.0.0->plotly-resampler) (1.0.1)\n",
            "Requirement already satisfied: Jinja2<3.0,>=2.10.1 in /usr/local/lib/python3.7/dist-packages (from Flask>=1.0.4->dash<3.0.0,>=2.0.0->plotly-resampler) (2.11.3)\n",
            "Requirement already satisfied: click<8.0,>=5.1 in /usr/local/lib/python3.7/dist-packages (from Flask>=1.0.4->dash<3.0.0,>=2.0.0->plotly-resampler) (7.1.2)\n",
            "Requirement already satisfied: itsdangerous<2.0,>=0.24 in /usr/local/lib/python3.7/dist-packages (from Flask>=1.0.4->dash<3.0.0,>=2.0.0->plotly-resampler) (1.1.0)\n",
            "Requirement already satisfied: MarkupSafe>=0.23 in /usr/local/lib/python3.7/dist-packages (from Jinja2<3.0,>=2.10.1->Flask>=1.0.4->dash<3.0.0,>=2.0.0->plotly-resampler) (2.0.1)\n",
            "Requirement already satisfied: ipykernel in /usr/local/lib/python3.7/dist-packages (from jupyter-dash<0.5.0,>=0.4.0->plotly-resampler) (4.10.1)\n",
            "Requirement already satisfied: retrying in /usr/local/lib/python3.7/dist-packages (from jupyter-dash<0.5.0,>=0.4.0->plotly-resampler) (1.3.3)\n",
            "Collecting ansi2html\n",
            "  Downloading ansi2html-1.6.0-py3-none-any.whl (14 kB)\n",
            "Requirement already satisfied: requests in /usr/local/lib/python3.7/dist-packages (from jupyter-dash<0.5.0,>=0.4.0->plotly-resampler) (2.23.0)\n",
            "Requirement already satisfied: ipython in /usr/local/lib/python3.7/dist-packages (from jupyter-dash<0.5.0,>=0.4.0->plotly-resampler) (5.5.0)\n",
            "Requirement already satisfied: numpy in /usr/local/lib/python3.7/dist-packages (from lttbc<0.3.0,>=0.2.0->plotly-resampler) (1.19.5)\n",
            "Requirement already satisfied: six in /usr/local/lib/python3.7/dist-packages (from plotly<6.0.0,>=5.3.1->plotly-resampler) (1.15.0)\n",
            "Collecting tenacity>=6.2.0\n",
            "  Downloading tenacity-8.0.1-py3-none-any.whl (24 kB)\n",
            "Collecting brotli\n",
            "  Downloading Brotli-1.0.9-cp37-cp37m-manylinux1_x86_64.whl (357 kB)\n",
            "\u001b[K     |████████████████████████████████| 357 kB 15.0 MB/s \n",
            "\u001b[?25hRequirement already satisfied: traitlets>=4.1.0 in /usr/local/lib/python3.7/dist-packages (from ipykernel->jupyter-dash<0.5.0,>=0.4.0->plotly-resampler) (5.1.1)\n",
            "Requirement already satisfied: jupyter-client in /usr/local/lib/python3.7/dist-packages (from ipykernel->jupyter-dash<0.5.0,>=0.4.0->plotly-resampler) (5.3.5)\n",
            "Requirement already satisfied: tornado>=4.0 in /usr/local/lib/python3.7/dist-packages (from ipykernel->jupyter-dash<0.5.0,>=0.4.0->plotly-resampler) (5.1.1)\n",
            "Requirement already satisfied: pickleshare in /usr/local/lib/python3.7/dist-packages (from ipython->jupyter-dash<0.5.0,>=0.4.0->plotly-resampler) (0.7.5)\n",
            "Requirement already satisfied: prompt-toolkit<2.0.0,>=1.0.4 in /usr/local/lib/python3.7/dist-packages (from ipython->jupyter-dash<0.5.0,>=0.4.0->plotly-resampler) (1.0.18)\n",
            "Requirement already satisfied: simplegeneric>0.8 in /usr/local/lib/python3.7/dist-packages (from ipython->jupyter-dash<0.5.0,>=0.4.0->plotly-resampler) (0.8.1)\n",
            "Requirement already satisfied: pygments in /usr/local/lib/python3.7/dist-packages (from ipython->jupyter-dash<0.5.0,>=0.4.0->plotly-resampler) (2.6.1)\n",
            "Requirement already satisfied: setuptools>=18.5 in /usr/local/lib/python3.7/dist-packages (from ipython->jupyter-dash<0.5.0,>=0.4.0->plotly-resampler) (57.4.0)\n",
            "Requirement already satisfied: decorator in /usr/local/lib/python3.7/dist-packages (from ipython->jupyter-dash<0.5.0,>=0.4.0->plotly-resampler) (4.4.2)\n",
            "Requirement already satisfied: pexpect in /usr/local/lib/python3.7/dist-packages (from ipython->jupyter-dash<0.5.0,>=0.4.0->plotly-resampler) (4.8.0)\n",
            "Requirement already satisfied: wcwidth in /usr/local/lib/python3.7/dist-packages (from prompt-toolkit<2.0.0,>=1.0.4->ipython->jupyter-dash<0.5.0,>=0.4.0->plotly-resampler) (0.2.5)\n",
            "Requirement already satisfied: jupyter-core>=4.6.0 in /usr/local/lib/python3.7/dist-packages (from jupyter-client->ipykernel->jupyter-dash<0.5.0,>=0.4.0->plotly-resampler) (4.9.1)\n",
            "Requirement already satisfied: pyzmq>=13 in /usr/local/lib/python3.7/dist-packages (from jupyter-client->ipykernel->jupyter-dash<0.5.0,>=0.4.0->plotly-resampler) (22.3.0)\n",
            "Requirement already satisfied: python-dateutil>=2.1 in /usr/local/lib/python3.7/dist-packages (from jupyter-client->ipykernel->jupyter-dash<0.5.0,>=0.4.0->plotly-resampler) (2.8.2)\n",
            "Requirement already satisfied: ptyprocess>=0.5 in /usr/local/lib/python3.7/dist-packages (from pexpect->ipython->jupyter-dash<0.5.0,>=0.4.0->plotly-resampler) (0.7.0)\n",
            "Requirement already satisfied: certifi>=2017.4.17 in /usr/local/lib/python3.7/dist-packages (from requests->jupyter-dash<0.5.0,>=0.4.0->plotly-resampler) (2021.10.8)\n",
            "Requirement already satisfied: chardet<4,>=3.0.2 in /usr/local/lib/python3.7/dist-packages (from requests->jupyter-dash<0.5.0,>=0.4.0->plotly-resampler) (3.0.4)\n",
            "Requirement already satisfied: urllib3!=1.25.0,!=1.25.1,<1.26,>=1.21.1 in /usr/local/lib/python3.7/dist-packages (from requests->jupyter-dash<0.5.0,>=0.4.0->plotly-resampler) (1.24.3)\n",
            "Requirement already satisfied: idna<3,>=2.5 in /usr/local/lib/python3.7/dist-packages (from requests->jupyter-dash<0.5.0,>=0.4.0->plotly-resampler) (2.10)\n",
            "Building wheels for collected packages: dash-core-components, dash-html-components, dash-table, lttbc\n",
            "  Building wheel for dash-core-components (setup.py) ... \u001b[?25l\u001b[?25hdone\n",
            "  Created wheel for dash-core-components: filename=dash_core_components-2.0.0-py3-none-any.whl size=3821 sha256=8ee96f68b857ee38b3959b8fa158041d08acfe48748e5d1de86ff0a80df9f949\n",
            "  Stored in directory: /root/.cache/pip/wheels/00/f9/c7/1a6437d794ed753ea9bc9079e761d4fc803a1f1f5d3697b9ec\n",
            "  Building wheel for dash-html-components (setup.py) ... \u001b[?25l\u001b[?25hdone\n",
            "  Created wheel for dash-html-components: filename=dash_html_components-2.0.0-py3-none-any.whl size=4089 sha256=84dcaeb1b9916bd2a7d1be8114576ea0359524b2d4d4aadd33f67e8bd6ee4fdc\n",
            "  Stored in directory: /root/.cache/pip/wheels/ec/6b/81/05aceabd8b27f724e2c96784016287cc1bfbc349ebfda451de\n",
            "  Building wheel for dash-table (setup.py) ... \u001b[?25l\u001b[?25hdone\n",
            "  Created wheel for dash-table: filename=dash_table-5.0.0-py3-none-any.whl size=3911 sha256=db39229ad613f64d03f616d3e588512736e02a859d2ae57aa95105dfb1b501a1\n",
            "  Stored in directory: /root/.cache/pip/wheels/85/5d/4e/7c276b57992951dbe770bf5caad6448d0539c510663aefd2e2\n",
            "  Building wheel for lttbc (setup.py) ... \u001b[?25l\u001b[?25hdone\n",
            "  Created wheel for lttbc: filename=lttbc-0.2.0-cp37-cp37m-linux_x86_64.whl size=23423 sha256=ae67741bf401c37d799d17474818c66a9e33a780fe8b1fa61876cd78c8807ecc\n",
            "  Stored in directory: /root/.cache/pip/wheels/f0/25/fe/eb34995042608519bbed5ec1e00219079809b5e35c893c9d23\n",
            "Successfully built dash-core-components dash-html-components dash-table lttbc\n",
            "Installing collected packages: tenacity, brotli, plotly, flask-compress, dash-table, dash-html-components, dash-core-components, dash, ansi2html, trace-updater, orjson, lttbc, jupyter-dash, dash-bootstrap-components, plotly-resampler\n",
            "  Attempting uninstall: plotly\n",
            "    Found existing installation: plotly 4.4.1\n",
            "    Uninstalling plotly-4.4.1:\n",
            "      Successfully uninstalled plotly-4.4.1\n",
            "Successfully installed ansi2html-1.6.0 brotli-1.0.9 dash-2.0.0 dash-bootstrap-components-0.13.1 dash-core-components-2.0.0 dash-html-components-2.0.0 dash-table-5.0.0 flask-compress-1.10.1 jupyter-dash-0.4.0 lttbc-0.2.0 orjson-3.6.5 plotly-5.5.0 plotly-resampler-0.2.4 tenacity-8.0.1 trace-updater-0.0.6\n"
          ]
        }
      ],
      "source": [
        "pip install plotly-resampler"
      ]
    },
    {
      "cell_type": "code",
      "source": [
        "import plotly.graph_objects as go; import numpy as np\n",
        "from plotly_resampler import FigureResampler\n",
        "\n",
        "# Generating the dummy data takes +/- 5 sec\n",
        "x = np.arange(110_000_000)\n",
        "noisy_sin = ((3 + np.sin(x / 200_000) + np.random.randn(len(x)) / 10) * x / 500_000)\n",
        "\n",
        "# Wrap the plotly Figure constructor with FigureResampler\n",
        "fig = FigureResampler(go.Figure(), default_n_shown_samples=2000)\n",
        "fig.add_trace(go.Scattergl(name='noisy sine',showlegend=True), hf_x=x, hf_y=noisy_sin)\n",
        "\n",
        "# Call .show_dash() instead of .show()\n",
        "fig.show_dash(mode='inline')"
      ],
      "metadata": {
        "colab": {
          "base_uri": "https://localhost:8080/",
          "height": 739
        },
        "id": "UPpIG71VcKMO",
        "outputId": "2f60fd4b-e207-4598-d9f0-2178a0b4ce8b"
      },
      "execution_count": 2,
      "outputs": [
        {
          "output_type": "stream",
          "name": "stderr",
          "text": [
            "/usr/local/lib/python3.7/dist-packages/dash_bootstrap_components/_table.py:5: UserWarning: \n",
            "The dash_html_components package is deprecated. Please replace\n",
            "`import dash_html_components as html` with `from dash import html`\n",
            "  import dash_html_components as html\n"
          ]
        },
        {
          "output_type": "display_data",
          "data": {
            "application/javascript": [
              "(async (port, path, width, height, cache, element) => {\n",
              "    if (!google.colab.kernel.accessAllowed && !cache) {\n",
              "      return;\n",
              "    }\n",
              "    element.appendChild(document.createTextNode(''));\n",
              "    const url = await google.colab.kernel.proxyPort(port, {cache});\n",
              "    const iframe = document.createElement('iframe');\n",
              "    iframe.src = new URL(path, url).toString();\n",
              "    iframe.height = height;\n",
              "    iframe.width = width;\n",
              "    iframe.style.border = 0;\n",
              "    element.appendChild(iframe);\n",
              "  })(8050, \"/\", \"100%\", 650, false, window.element)"
            ],
            "text/plain": [
              "<IPython.core.display.Javascript object>"
            ]
          },
          "metadata": {}
        }
      ]
    }
  ]
}