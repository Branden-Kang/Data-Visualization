{
  "nbformat": 4,
  "nbformat_minor": 0,
  "metadata": {
    "colab": {
      "provenance": [],
      "authorship_tag": "ABX9TyOpto2NtHPjW5p39P1Go3jR"
    },
    "kernelspec": {
      "name": "python3",
      "display_name": "Python 3"
    },
    "language_info": {
      "name": "python"
    }
  },
  "cells": [
    {
      "cell_type": "markdown",
      "source": [
        "[Reference](https://medium.com/data-science-collective/how-to-build-an-interactive-data-visualization-with-gen-ai-bdf5522ad6d0)"
      ],
      "metadata": {
        "id": "j08TCbouXvRw"
      }
    },
    {
      "cell_type": "code",
      "source": [
        "pip install vizro"
      ],
      "metadata": {
        "colab": {
          "base_uri": "https://localhost:8080/"
        },
        "id": "gEhA14ChX-f_",
        "outputId": "88cc2744-eb2e-4f21-e088-ba65276d2ae2"
      },
      "execution_count": 2,
      "outputs": [
        {
          "output_type": "stream",
          "name": "stdout",
          "text": [
            "Collecting vizro\n",
            "  Downloading vizro-0.1.34-py3-none-any.whl.metadata (9.6 kB)\n",
            "Collecting autoflake (from vizro)\n",
            "  Downloading autoflake-2.3.1-py3-none-any.whl.metadata (7.6 kB)\n",
            "Collecting black (from vizro)\n",
            "  Downloading black-25.1.0-cp311-cp311-manylinux_2_17_x86_64.manylinux2014_x86_64.manylinux_2_28_x86_64.whl.metadata (81 kB)\n",
            "\u001b[2K     \u001b[90m━━━━━━━━━━━━━━━━━━━━━━━━━━━━━━━━━━━━━━━━\u001b[0m \u001b[32m81.3/81.3 kB\u001b[0m \u001b[31m1.7 MB/s\u001b[0m eta \u001b[36m0:00:00\u001b[0m\n",
            "\u001b[?25hCollecting dash-ag-grid>=31.0.0 (from vizro)\n",
            "  Downloading dash_ag_grid-31.3.0-py3-none-any.whl.metadata (5.4 kB)\n",
            "Collecting dash-bootstrap-components (from vizro)\n",
            "  Downloading dash_bootstrap_components-1.7.1-py3-none-any.whl.metadata (17 kB)\n",
            "Collecting dash-mantine-components~=0.15.1 (from vizro)\n",
            "  Downloading dash_mantine_components-0.15.3-py3-none-any.whl.metadata (4.7 kB)\n",
            "Collecting dash<3,>=2.18.0 (from vizro)\n",
            "  Downloading dash-2.18.2-py3-none-any.whl.metadata (10 kB)\n",
            "Collecting flask-caching>=2 (from vizro)\n",
            "  Downloading Flask_Caching-2.3.1-py3-none-any.whl.metadata (2.2 kB)\n",
            "Requirement already satisfied: packaging in /usr/local/lib/python3.11/dist-packages (from vizro) (24.2)\n",
            "Requirement already satisfied: pandas>=2 in /usr/local/lib/python3.11/dist-packages (from vizro) (2.2.2)\n",
            "Requirement already satisfied: plotly>=5.24.0 in /usr/local/lib/python3.11/dist-packages (from vizro) (5.24.1)\n",
            "Requirement already satisfied: pydantic>=2.7.0 in /usr/local/lib/python3.11/dist-packages (from vizro) (2.10.6)\n",
            "Requirement already satisfied: wrapt>=1 in /usr/local/lib/python3.11/dist-packages (from vizro) (1.17.2)\n",
            "Collecting Flask<3.1,>=1.0.4 (from dash<3,>=2.18.0->vizro)\n",
            "  Downloading flask-3.0.3-py3-none-any.whl.metadata (3.2 kB)\n",
            "Collecting Werkzeug<3.1 (from dash<3,>=2.18.0->vizro)\n",
            "  Downloading werkzeug-3.0.6-py3-none-any.whl.metadata (3.7 kB)\n",
            "Collecting dash-html-components==2.0.0 (from dash<3,>=2.18.0->vizro)\n",
            "  Downloading dash_html_components-2.0.0-py3-none-any.whl.metadata (3.8 kB)\n",
            "Collecting dash-core-components==2.0.0 (from dash<3,>=2.18.0->vizro)\n",
            "  Downloading dash_core_components-2.0.0-py3-none-any.whl.metadata (2.9 kB)\n",
            "Collecting dash-table==5.0.0 (from dash<3,>=2.18.0->vizro)\n",
            "  Downloading dash_table-5.0.0-py3-none-any.whl.metadata (2.4 kB)\n",
            "Requirement already satisfied: importlib-metadata in /usr/local/lib/python3.11/dist-packages (from dash<3,>=2.18.0->vizro) (8.6.1)\n",
            "Requirement already satisfied: typing-extensions>=4.1.1 in /usr/local/lib/python3.11/dist-packages (from dash<3,>=2.18.0->vizro) (4.12.2)\n",
            "Requirement already satisfied: requests in /usr/local/lib/python3.11/dist-packages (from dash<3,>=2.18.0->vizro) (2.32.3)\n",
            "Collecting retrying (from dash<3,>=2.18.0->vizro)\n",
            "  Downloading retrying-1.3.4-py3-none-any.whl.metadata (6.9 kB)\n",
            "Requirement already satisfied: nest-asyncio in /usr/local/lib/python3.11/dist-packages (from dash<3,>=2.18.0->vizro) (1.6.0)\n",
            "Requirement already satisfied: setuptools in /usr/local/lib/python3.11/dist-packages (from dash<3,>=2.18.0->vizro) (75.1.0)\n",
            "Collecting cachelib>=0.9.0 (from flask-caching>=2->vizro)\n",
            "  Downloading cachelib-0.13.0-py3-none-any.whl.metadata (2.0 kB)\n",
            "Requirement already satisfied: numpy>=1.23.2 in /usr/local/lib/python3.11/dist-packages (from pandas>=2->vizro) (1.26.4)\n",
            "Requirement already satisfied: python-dateutil>=2.8.2 in /usr/local/lib/python3.11/dist-packages (from pandas>=2->vizro) (2.8.2)\n",
            "Requirement already satisfied: pytz>=2020.1 in /usr/local/lib/python3.11/dist-packages (from pandas>=2->vizro) (2025.1)\n",
            "Requirement already satisfied: tzdata>=2022.7 in /usr/local/lib/python3.11/dist-packages (from pandas>=2->vizro) (2025.1)\n",
            "Requirement already satisfied: tenacity>=6.2.0 in /usr/local/lib/python3.11/dist-packages (from plotly>=5.24.0->vizro) (9.0.0)\n",
            "Requirement already satisfied: annotated-types>=0.6.0 in /usr/local/lib/python3.11/dist-packages (from pydantic>=2.7.0->vizro) (0.7.0)\n",
            "Requirement already satisfied: pydantic-core==2.27.2 in /usr/local/lib/python3.11/dist-packages (from pydantic>=2.7.0->vizro) (2.27.2)\n",
            "Collecting pyflakes>=3.0.0 (from autoflake->vizro)\n",
            "  Downloading pyflakes-3.2.0-py2.py3-none-any.whl.metadata (3.5 kB)\n",
            "Requirement already satisfied: click>=8.0.0 in /usr/local/lib/python3.11/dist-packages (from black->vizro) (8.1.8)\n",
            "Collecting mypy-extensions>=0.4.3 (from black->vizro)\n",
            "  Downloading mypy_extensions-1.0.0-py3-none-any.whl.metadata (1.1 kB)\n",
            "Collecting pathspec>=0.9.0 (from black->vizro)\n",
            "  Downloading pathspec-0.12.1-py3-none-any.whl.metadata (21 kB)\n",
            "Requirement already satisfied: platformdirs>=2 in /usr/local/lib/python3.11/dist-packages (from black->vizro) (4.3.6)\n",
            "Requirement already satisfied: Jinja2>=3.1.2 in /usr/local/lib/python3.11/dist-packages (from Flask<3.1,>=1.0.4->dash<3,>=2.18.0->vizro) (3.1.5)\n",
            "Requirement already satisfied: itsdangerous>=2.1.2 in /usr/local/lib/python3.11/dist-packages (from Flask<3.1,>=1.0.4->dash<3,>=2.18.0->vizro) (2.2.0)\n",
            "Requirement already satisfied: blinker>=1.6.2 in /usr/local/lib/python3.11/dist-packages (from Flask<3.1,>=1.0.4->dash<3,>=2.18.0->vizro) (1.9.0)\n",
            "Requirement already satisfied: six>=1.5 in /usr/local/lib/python3.11/dist-packages (from python-dateutil>=2.8.2->pandas>=2->vizro) (1.17.0)\n",
            "Requirement already satisfied: MarkupSafe>=2.1.1 in /usr/local/lib/python3.11/dist-packages (from Werkzeug<3.1->dash<3,>=2.18.0->vizro) (3.0.2)\n",
            "Requirement already satisfied: zipp>=3.20 in /usr/local/lib/python3.11/dist-packages (from importlib-metadata->dash<3,>=2.18.0->vizro) (3.21.0)\n",
            "Requirement already satisfied: charset-normalizer<4,>=2 in /usr/local/lib/python3.11/dist-packages (from requests->dash<3,>=2.18.0->vizro) (3.4.1)\n",
            "Requirement already satisfied: idna<4,>=2.5 in /usr/local/lib/python3.11/dist-packages (from requests->dash<3,>=2.18.0->vizro) (3.10)\n",
            "Requirement already satisfied: urllib3<3,>=1.21.1 in /usr/local/lib/python3.11/dist-packages (from requests->dash<3,>=2.18.0->vizro) (2.3.0)\n",
            "Requirement already satisfied: certifi>=2017.4.17 in /usr/local/lib/python3.11/dist-packages (from requests->dash<3,>=2.18.0->vizro) (2025.1.31)\n",
            "Downloading vizro-0.1.34-py3-none-any.whl (877 kB)\n",
            "\u001b[2K   \u001b[90m━━━━━━━━━━━━━━━━━━━━━━━━━━━━━━━━━━━━━━━━\u001b[0m \u001b[32m877.6/877.6 kB\u001b[0m \u001b[31m14.5 MB/s\u001b[0m eta \u001b[36m0:00:00\u001b[0m\n",
            "\u001b[?25hDownloading dash-2.18.2-py3-none-any.whl (7.8 MB)\n",
            "\u001b[2K   \u001b[90m━━━━━━━━━━━━━━━━━━━━━━━━━━━━━━━━━━━━━━━━\u001b[0m \u001b[32m7.8/7.8 MB\u001b[0m \u001b[31m42.0 MB/s\u001b[0m eta \u001b[36m0:00:00\u001b[0m\n",
            "\u001b[?25hDownloading dash_core_components-2.0.0-py3-none-any.whl (3.8 kB)\n",
            "Downloading dash_html_components-2.0.0-py3-none-any.whl (4.1 kB)\n",
            "Downloading dash_table-5.0.0-py3-none-any.whl (3.9 kB)\n",
            "Downloading dash_ag_grid-31.3.0-py3-none-any.whl (3.9 MB)\n",
            "\u001b[2K   \u001b[90m━━━━━━━━━━━━━━━━━━━━━━━━━━━━━━━━━━━━━━━━\u001b[0m \u001b[32m3.9/3.9 MB\u001b[0m \u001b[31m31.8 MB/s\u001b[0m eta \u001b[36m0:00:00\u001b[0m\n",
            "\u001b[?25hDownloading dash_mantine_components-0.15.3-py3-none-any.whl (1.3 MB)\n",
            "\u001b[2K   \u001b[90m━━━━━━━━━━━━━━━━━━━━━━━━━━━━━━━━━━━━━━━━\u001b[0m \u001b[32m1.3/1.3 MB\u001b[0m \u001b[31m8.9 MB/s\u001b[0m eta \u001b[36m0:00:00\u001b[0m\n",
            "\u001b[?25hDownloading Flask_Caching-2.3.1-py3-none-any.whl (28 kB)\n",
            "Downloading autoflake-2.3.1-py3-none-any.whl (32 kB)\n",
            "Downloading black-25.1.0-cp311-cp311-manylinux_2_17_x86_64.manylinux2014_x86_64.manylinux_2_28_x86_64.whl (1.7 MB)\n",
            "\u001b[2K   \u001b[90m━━━━━━━━━━━━━━━━━━━━━━━━━━━━━━━━━━━━━━━━\u001b[0m \u001b[32m1.7/1.7 MB\u001b[0m \u001b[31m23.6 MB/s\u001b[0m eta \u001b[36m0:00:00\u001b[0m\n",
            "\u001b[?25hDownloading dash_bootstrap_components-1.7.1-py3-none-any.whl (229 kB)\n",
            "\u001b[2K   \u001b[90m━━━━━━━━━━━━━━━━━━━━━━━━━━━━━━━━━━━━━━━━\u001b[0m \u001b[32m229.3/229.3 kB\u001b[0m \u001b[31m9.3 MB/s\u001b[0m eta \u001b[36m0:00:00\u001b[0m\n",
            "\u001b[?25hDownloading cachelib-0.13.0-py3-none-any.whl (20 kB)\n",
            "Downloading flask-3.0.3-py3-none-any.whl (101 kB)\n",
            "\u001b[2K   \u001b[90m━━━━━━━━━━━━━━━━━━━━━━━━━━━━━━━━━━━━━━━━\u001b[0m \u001b[32m101.7/101.7 kB\u001b[0m \u001b[31m4.7 MB/s\u001b[0m eta \u001b[36m0:00:00\u001b[0m\n",
            "\u001b[?25hDownloading mypy_extensions-1.0.0-py3-none-any.whl (4.7 kB)\n",
            "Downloading pathspec-0.12.1-py3-none-any.whl (31 kB)\n",
            "Downloading pyflakes-3.2.0-py2.py3-none-any.whl (62 kB)\n",
            "\u001b[2K   \u001b[90m━━━━━━━━━━━━━━━━━━━━━━━━━━━━━━━━━━━━━━━━\u001b[0m \u001b[32m62.7/62.7 kB\u001b[0m \u001b[31m3.1 MB/s\u001b[0m eta \u001b[36m0:00:00\u001b[0m\n",
            "\u001b[?25hDownloading werkzeug-3.0.6-py3-none-any.whl (227 kB)\n",
            "\u001b[2K   \u001b[90m━━━━━━━━━━━━━━━━━━━━━━━━━━━━━━━━━━━━━━━━\u001b[0m \u001b[32m228.0/228.0 kB\u001b[0m \u001b[31m11.7 MB/s\u001b[0m eta \u001b[36m0:00:00\u001b[0m\n",
            "\u001b[?25hDownloading retrying-1.3.4-py3-none-any.whl (11 kB)\n",
            "Installing collected packages: dash-table, dash-html-components, dash-core-components, Werkzeug, retrying, pyflakes, pathspec, mypy-extensions, cachelib, Flask, black, autoflake, flask-caching, dash, dash-mantine-components, dash-bootstrap-components, dash-ag-grid, vizro\n",
            "  Attempting uninstall: Werkzeug\n",
            "    Found existing installation: Werkzeug 3.1.3\n",
            "    Uninstalling Werkzeug-3.1.3:\n",
            "      Successfully uninstalled Werkzeug-3.1.3\n",
            "  Attempting uninstall: Flask\n",
            "    Found existing installation: Flask 3.1.0\n",
            "    Uninstalling Flask-3.1.0:\n",
            "      Successfully uninstalled Flask-3.1.0\n",
            "Successfully installed Flask-3.0.3 Werkzeug-3.0.6 autoflake-2.3.1 black-25.1.0 cachelib-0.13.0 dash-2.18.2 dash-ag-grid-31.3.0 dash-bootstrap-components-1.7.1 dash-core-components-2.0.0 dash-html-components-2.0.0 dash-mantine-components-0.15.3 dash-table-5.0.0 flask-caching-2.3.1 mypy-extensions-1.0.0 pathspec-0.12.1 pyflakes-3.2.0 retrying-1.3.4 vizro-0.1.34\n"
          ]
        }
      ]
    },
    {
      "cell_type": "code",
      "execution_count": 3,
      "metadata": {
        "id": "hXfK4iQ4Xtj2"
      },
      "outputs": [],
      "source": [
        "import vizro.plotly.express as px\n",
        "from vizro.models.types import capture\n",
        "\n",
        "@capture(\"graph\")\n",
        "\n",
        "def custom_chart(data_frame):\n",
        "    # Count the frequency of each position\n",
        "    position_counts = data_frame[\"Position\"].value_counts().head(20)\n",
        "\n",
        "    # Create a horizontal bar chart\n",
        "    fig = px.bar(\n",
        "        position_counts,\n",
        "        x=position_counts.values,\n",
        "        y=position_counts.index,\n",
        "        orientation=\"h\",\n",
        "        title=\"Top 20 Most Common Positions\",\n",
        "    )\n",
        "\n",
        "    # Update layout for better readability\n",
        "    fig.update_layout(\n",
        "        yaxis_title=\"Position\",\n",
        "        xaxis_title=\"Frequency\",\n",
        "        yaxis=dict(categoryorder=\"total ascending\"),\n",
        "    )\n",
        "\n",
        "    return fig"
      ]
    },
    {
      "cell_type": "code",
      "source": [
        "import vizro.plotly.express as px\n",
        "from vizro.models.types import capture\n",
        "\n",
        "@capture(\"graph\")\n",
        "def custom_chart(data_frame):\n",
        "    # Count the occurrences of each company\n",
        "    company_counts = data_frame[\"Company\"].value_counts().nlargest(5)\n",
        "    # Create a DataFrame for the top 5 companies\n",
        "    top_companies = company_counts.reset_index()\n",
        "    top_companies.columns = [\"Company\", \"Count\"]\n",
        "\n",
        "    # Create a doughnut chart\n",
        "    fig = px.pie(\n",
        "        top_companies,\n",
        "        values=\"Count\",\n",
        "        names=\"Company\",\n",
        "        hole=0.4,\n",
        "        title=\"Top 5 Most Common Companies\",\n",
        "    )\n",
        "\n",
        "    return fig"
      ],
      "metadata": {
        "id": "crebNcOgX6n5"
      },
      "execution_count": 4,
      "outputs": []
    },
    {
      "cell_type": "code",
      "source": [
        "import pandas as pd\n",
        "import plotly.graph_objects as go\n",
        "from vizro.models.types import capture\n",
        "\n",
        "@capture(\"graph\")\n",
        "def custom_chart(data_frame):\n",
        "    # Convert 'Connected On' to datetime and extract the year\n",
        "    data_frame[\"Year\"] = pd.to_datetime(data_frame[\"Connected On\"]).dt.year\n",
        "    # Count connections per year\n",
        "    yearly_counts = data_frame[\"Year\"].value_counts().sort_index()\n",
        "    # Calculate cumulative sum of connections\n",
        "    cumulative_counts = yearly_counts.cumsum()\n",
        "    # Create figure with secondary y-axis\n",
        "    fig = go.Figure()\n",
        "    # Add bar chart for yearly connections\n",
        "    fig.add_trace(go.Bar(x=yearly_counts.index, y=yearly_counts, name=\"Connections per Year\"))\n",
        "    # Add scatter plot for cumulative connections\n",
        "    fig.add_trace(\n",
        "        go.Scatter(\n",
        "            x=cumulative_counts.index,\n",
        "            y=cumulative_counts,\n",
        "            name=\"Cumulative Connections\",\n",
        "            yaxis=\"y2\",\n",
        "        )\n",
        "    )\n",
        "\n",
        "    # Set up the layout for secondary y-axis\n",
        "    fig.update_layout(yaxis2=dict(title=\"Cumulative Total\", overlaying=\"y\", side=\"right\"))\n",
        "    return fig"
      ],
      "metadata": {
        "id": "smpVRq5TYBgX"
      },
      "execution_count": 6,
      "outputs": []
    },
    {
      "cell_type": "code",
      "source": [
        "import vizro.plotly.express as px\n",
        "from vizro import Vizro\n",
        "import vizro.models as vm\n",
        "\n",
        "page = vm.Page(\n",
        " title=\"My LinkedIn connections\",\n",
        " layout=vm.Layout(grid=[[0, 1], [0, 2]]),\n",
        " components=[\n",
        "\n",
        " ],\n",
        ")\n",
        "\n",
        "dashboard = vm.Dashboard(pages=[page], theme=\"vizro_light\")\n",
        "Vizro().build(dashboard).run()"
      ],
      "metadata": {
        "id": "4JCzxTM5YBr4"
      },
      "execution_count": 8,
      "outputs": []
    }
  ]
}