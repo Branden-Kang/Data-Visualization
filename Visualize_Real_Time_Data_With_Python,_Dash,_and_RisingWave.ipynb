{
  "nbformat": 4,
  "nbformat_minor": 0,
  "metadata": {
    "colab": {
      "provenance": [],
      "authorship_tag": "ABX9TyN3BRfAyqRq7URCJP9zprV7"
    },
    "kernelspec": {
      "name": "python3",
      "display_name": "Python 3"
    },
    "language_info": {
      "name": "python"
    }
  },
  "cells": [
    {
      "cell_type": "markdown",
      "source": [
        "[Reference](https://medium.com/data-engineer-things/visualize-real-time-data-with-python-dash-and-risingwave-fa0b4302bfce)"
      ],
      "metadata": {
        "id": "2CZ7zUk3KMiD"
      }
    },
    {
      "cell_type": "code",
      "execution_count": 1,
      "metadata": {
        "id": "Cyp8LytxKLNp"
      },
      "outputs": [],
      "source": [
        "# git clone <https://github.com/risingwavelabs/risingwave.git>"
      ]
    },
    {
      "cell_type": "code",
      "source": [
        "# cd risingwave/integration_tests/delivery\n",
        "# docker compose up -d"
      ],
      "metadata": {
        "id": "AXM3WXheKRCd"
      },
      "execution_count": 2,
      "outputs": []
    },
    {
      "cell_type": "code",
      "source": [
        "# This also brings along the Plotly graphing library.\n",
        "# Plotly is known for its interactive charts\n",
        "# Plotly Express requires Pandas to be installed too.\n",
        "!pip install dash pandas"
      ],
      "metadata": {
        "colab": {
          "base_uri": "https://localhost:8080/"
        },
        "id": "J_rJPrnTKTIM",
        "outputId": "64c3eabe-e335-40fb-dc90-9fbf40a5c84d"
      },
      "execution_count": 5,
      "outputs": [
        {
          "output_type": "stream",
          "name": "stdout",
          "text": [
            "Looking in indexes: https://pypi.org/simple, https://us-python.pkg.dev/colab-wheels/public/simple/\n",
            "Collecting dash\n",
            "  Downloading dash-2.11.0-py3-none-any.whl (10.4 MB)\n",
            "\u001b[2K     \u001b[90m━━━━━━━━━━━━━━━━━━━━━━━━━━━━━━━━━━━━━━━━\u001b[0m \u001b[32m10.4/10.4 MB\u001b[0m \u001b[31m66.6 MB/s\u001b[0m eta \u001b[36m0:00:00\u001b[0m\n",
            "\u001b[?25hRequirement already satisfied: pandas in /usr/local/lib/python3.10/dist-packages (1.5.3)\n",
            "Requirement already satisfied: Flask<2.3.0,>=1.0.4 in /usr/local/lib/python3.10/dist-packages (from dash) (2.2.5)\n",
            "Collecting Werkzeug<2.3.0 (from dash)\n",
            "  Downloading Werkzeug-2.2.3-py3-none-any.whl (233 kB)\n",
            "\u001b[2K     \u001b[90m━━━━━━━━━━━━━━━━━━━━━━━━━━━━━━━━━━━━━━\u001b[0m \u001b[32m233.6/233.6 kB\u001b[0m \u001b[31m19.0 MB/s\u001b[0m eta \u001b[36m0:00:00\u001b[0m\n",
            "\u001b[?25hRequirement already satisfied: plotly>=5.0.0 in /usr/local/lib/python3.10/dist-packages (from dash) (5.13.1)\n",
            "Collecting dash-html-components==2.0.0 (from dash)\n",
            "  Downloading dash_html_components-2.0.0-py3-none-any.whl (4.1 kB)\n",
            "Collecting dash-core-components==2.0.0 (from dash)\n",
            "  Downloading dash_core_components-2.0.0-py3-none-any.whl (3.8 kB)\n",
            "Collecting dash-table==5.0.0 (from dash)\n",
            "  Downloading dash_table-5.0.0-py3-none-any.whl (3.9 kB)\n",
            "Requirement already satisfied: typing-extensions>=4.1.1 in /usr/local/lib/python3.10/dist-packages (from dash) (4.6.3)\n",
            "Requirement already satisfied: requests in /usr/local/lib/python3.10/dist-packages (from dash) (2.27.1)\n",
            "Collecting retrying (from dash)\n",
            "  Downloading retrying-1.3.4-py3-none-any.whl (11 kB)\n",
            "Collecting ansi2html (from dash)\n",
            "  Downloading ansi2html-1.8.0-py3-none-any.whl (16 kB)\n",
            "Requirement already satisfied: nest-asyncio in /usr/local/lib/python3.10/dist-packages (from dash) (1.5.6)\n",
            "Requirement already satisfied: python-dateutil>=2.8.1 in /usr/local/lib/python3.10/dist-packages (from pandas) (2.8.2)\n",
            "Requirement already satisfied: pytz>=2020.1 in /usr/local/lib/python3.10/dist-packages (from pandas) (2022.7.1)\n",
            "Requirement already satisfied: numpy>=1.21.0 in /usr/local/lib/python3.10/dist-packages (from pandas) (1.22.4)\n",
            "Requirement already satisfied: Jinja2>=3.0 in /usr/local/lib/python3.10/dist-packages (from Flask<2.3.0,>=1.0.4->dash) (3.1.2)\n",
            "Requirement already satisfied: itsdangerous>=2.0 in /usr/local/lib/python3.10/dist-packages (from Flask<2.3.0,>=1.0.4->dash) (2.1.2)\n",
            "Requirement already satisfied: click>=8.0 in /usr/local/lib/python3.10/dist-packages (from Flask<2.3.0,>=1.0.4->dash) (8.1.3)\n",
            "Requirement already satisfied: tenacity>=6.2.0 in /usr/local/lib/python3.10/dist-packages (from plotly>=5.0.0->dash) (8.2.2)\n",
            "Requirement already satisfied: six>=1.5 in /usr/local/lib/python3.10/dist-packages (from python-dateutil>=2.8.1->pandas) (1.16.0)\n",
            "Requirement already satisfied: MarkupSafe>=2.1.1 in /usr/local/lib/python3.10/dist-packages (from Werkzeug<2.3.0->dash) (2.1.3)\n",
            "Requirement already satisfied: urllib3<1.27,>=1.21.1 in /usr/local/lib/python3.10/dist-packages (from requests->dash) (1.26.16)\n",
            "Requirement already satisfied: certifi>=2017.4.17 in /usr/local/lib/python3.10/dist-packages (from requests->dash) (2023.5.7)\n",
            "Requirement already satisfied: charset-normalizer~=2.0.0 in /usr/local/lib/python3.10/dist-packages (from requests->dash) (2.0.12)\n",
            "Requirement already satisfied: idna<4,>=2.5 in /usr/local/lib/python3.10/dist-packages (from requests->dash) (3.4)\n",
            "Installing collected packages: dash-table, dash-html-components, dash-core-components, Werkzeug, retrying, ansi2html, dash\n",
            "  Attempting uninstall: Werkzeug\n",
            "    Found existing installation: Werkzeug 2.3.6\n",
            "    Uninstalling Werkzeug-2.3.6:\n",
            "      Successfully uninstalled Werkzeug-2.3.6\n",
            "Successfully installed Werkzeug-2.2.3 ansi2html-1.8.0 dash-2.11.0 dash-core-components-2.0.0 dash-html-components-2.0.0 dash-table-5.0.0 retrying-1.3.4\n"
          ]
        }
      ]
    },
    {
      "cell_type": "code",
      "source": [
        "!pip install psycopg2-binary"
      ],
      "metadata": {
        "colab": {
          "base_uri": "https://localhost:8080/"
        },
        "id": "i2qcZif-KWIr",
        "outputId": "2a059e3a-d6bb-42e1-86a0-0952b2a4f73e"
      },
      "execution_count": 6,
      "outputs": [
        {
          "output_type": "stream",
          "name": "stdout",
          "text": [
            "Looking in indexes: https://pypi.org/simple, https://us-python.pkg.dev/colab-wheels/public/simple/\n",
            "Requirement already satisfied: psycopg2-binary in /usr/local/lib/python3.10/dist-packages (2.9.6)\n"
          ]
        }
      ]
    },
    {
      "cell_type": "code",
      "source": [
        "# import psycopg2\n",
        "\n",
        "# conn = psycopg2.connect(database=\"dev\", user=\"root\", password=\"\", host=\"localhost\", port=\"4566\") # Connect to RisingWave.\n",
        "\n",
        "# conn.autocommit = True # Set queries to be automatically committed.\n",
        "\n",
        "# with conn.cursor() as cur:\n",
        "#     cur.execute(\"\"\"\n",
        "# CREATE TABLE delivery_orders_source (\n",
        "#     order_id BIGINT,\n",
        "#     restaurant_id BIGINT,\n",
        "#     order_state VARCHAR,\n",
        "#     order_timestamp TIMESTAMP\n",
        "# ) WITH (\n",
        "#     connector = 'kafka',\n",
        "#     topic = 'delivery_orders',\n",
        "#     properties.bootstrap.server = 'message_queue:29092',\n",
        "#     scan.startup.mode = 'earliest'\n",
        "# ) ROW FORMAT JSON;\"\"\") # Execute the query.\n",
        "\n",
        "# conn.close() # Close the connection."
      ],
      "metadata": {
        "id": "eh9YrE5wKW-F"
      },
      "execution_count": 7,
      "outputs": []
    },
    {
      "cell_type": "code",
      "source": [
        "# import psycopg2\n",
        "\n",
        "# conn = psycopg2.connect(database=\"dev\", user=\"root\", password=\"\", host=\"localhost\", port=\"4566\")\n",
        "# conn.autocommit = True\n",
        "\n",
        "# with conn.cursor() as cur:\n",
        "#     cur.execute(\"\"\"CREATE MATERIALIZED VIEW restaurant_orders_view AS\n",
        "# SELECT\n",
        "#     window_start,\n",
        "#     restaurant_id,\n",
        "#     COUNT(*) AS total_order\n",
        "# FROM\n",
        "#     HOP(delivery_orders_source, order_timestamp, INTERVAL '1' MINUTE, INTERVAL '15' MINUTE)\n",
        "# WHERE\n",
        "#         order_state = 'CREATED'\n",
        "# GROUP BY\n",
        "#     restaurant_id,\n",
        "#     window_start;\"\"\")\n",
        "\n",
        "# conn.close()"
      ],
      "metadata": {
        "id": "veUpDT3dKaPR"
      },
      "execution_count": 8,
      "outputs": []
    },
    {
      "cell_type": "code",
      "source": [
        "# import psycopg2\n",
        "# import pandas as pd\n",
        "# import dash\n",
        "# from dash import dash_table\n",
        "# from dash import dcc\n",
        "# import dash_html_components as html\n",
        "# import plotly.express as px\n",
        "\n",
        "# # Connect to the PostgreSQL database\n",
        "# conn = psycopg2.connect(database=\"dev\", user=\"root\", password=\"\", host=\"localhost\", port=\"4566\")\n",
        "\n",
        "# # Retrieve data from the materialized view using pandas\n",
        "# df = pd.read_sql_query(\"SELECT window_start, restaurant_id, total_order FROM restaurant_orders_view;\", conn)\n",
        "\n",
        "# # Create a Dash application\n",
        "# app = dash.Dash(__name__)\n",
        "\n",
        "# # Define layout\n",
        "# app.layout = html.Div(children=[\n",
        "#     html.H1(\"Restaurant Orders Table\"),\n",
        "#     dash_table.DataTable(id=\"restaurant_orders_table\", columns=[{\"name\": i, \"id\": i} for i in df.columns], data=df.to_dict(\"records\"), page_size=10),\n",
        "#     html.H1(\"Restaurant Orders Graph\"),\n",
        "#     dcc.Graph(id=\"restaurant_orders_graph\", figure=px.bar(df, x=\"window_start\", y=\"total_order\", color=\"restaurant_id\", barmode=\"group\"))\n",
        "# ])\n",
        "\n",
        "# # Run the application\n",
        "# if __name__ == '__main__':\n",
        "#     app.run_server(debug=True)"
      ],
      "metadata": {
        "id": "x7GV6m_2Kc6l"
      },
      "execution_count": 9,
      "outputs": []
    }
  ]
}