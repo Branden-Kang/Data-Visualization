{
  "nbformat": 4,
  "nbformat_minor": 0,
  "metadata": {
    "colab": {
      "name": "Datapane Basics.ipynb",
      "provenance": [],
      "authorship_tag": "ABX9TyN8hpqPFr0D/VcnsIHf2cX7"
    },
    "kernelspec": {
      "name": "python3",
      "display_name": "Python 3"
    }
  },
  "cells": [
    {
      "cell_type": "markdown",
      "metadata": {
        "id": "aY5yNt76Jczz",
        "colab_type": "text"
      },
      "source": [
        "[Reference](https://towardsdatascience.com/introduction-to-datapane-a-python-library-to-build-interactive-reports-4593fd3cb9c8)"
      ]
    },
    {
      "cell_type": "code",
      "metadata": {
        "id": "uCXvClc_ISNV",
        "colab_type": "code",
        "colab": {}
      },
      "source": [
        "import pandas as pd\n",
        "import altair as alt\n",
        "\n",
        "df = pd.read_csv('https://query1.finance.yahoo.com/v7/finance/download/GOOG?period2=1585222905&interval=1mo&events=history')\n",
        "\n",
        "chart = alt.Chart(df).encode(\n",
        "    x='Date:T',\n",
        "    y='Open'\n",
        ").mark_line().interactive()"
      ],
      "execution_count": 5,
      "outputs": []
    },
    {
      "cell_type": "code",
      "metadata": {
        "id": "FISdPiUHIYZ_",
        "colab_type": "code",
        "colab": {
          "base_uri": "https://localhost:8080/",
          "height": 1000
        },
        "outputId": "beaa13f9-5574-47c3-9190-cd50d151c42d"
      },
      "source": [
        "!pip3 install datapane"
      ],
      "execution_count": 6,
      "outputs": [
        {
          "output_type": "stream",
          "text": [
            "Collecting datapane\n",
            "\u001b[?25l  Downloading https://files.pythonhosted.org/packages/91/97/06ff28d2ee1c513e981e061e3ca0a4a27e98d2819c6394b4b45fcbc56160/datapane-0.7.4-py3-none-any.whl (1.5MB)\n",
            "\u001b[K     |████████████████████████████████| 1.5MB 4.0MB/s \n",
            "\u001b[?25hCollecting importlib_resources<4.0.0,>=3.0.0\n",
            "  Downloading https://files.pythonhosted.org/packages/ba/03/0f9595c0c2ef12590877f3c47e5f579759ce5caf817f8256d5dcbd8a1177/importlib_resources-3.0.0-py2.py3-none-any.whl\n",
            "Collecting pyarrow<0.18.0,>=0.17.0\n",
            "\u001b[?25l  Downloading https://files.pythonhosted.org/packages/ba/3f/6cac1714fff444664603f92cb9fbe91c7ae25375880158b9e9691c4584c8/pyarrow-0.17.1-cp36-cp36m-manylinux2014_x86_64.whl (63.8MB)\n",
            "\u001b[K     |████████████████████████████████| 63.8MB 63kB/s \n",
            "\u001b[?25hRequirement already satisfied: matplotlib<4.0.0,>=3.1.0 in /usr/local/lib/python3.6/dist-packages (from datapane) (3.2.2)\n",
            "Collecting jsonschema<4.0.0,>=3.2.0\n",
            "\u001b[?25l  Downloading https://files.pythonhosted.org/packages/c5/8f/51e89ce52a085483359217bc72cdbf6e75ee595d5b1d4b5ade40c7e018b8/jsonschema-3.2.0-py2.py3-none-any.whl (56kB)\n",
            "\u001b[K     |████████████████████████████████| 61kB 5.8MB/s \n",
            "\u001b[?25hRequirement already satisfied: numpy<2.0.0,>=1.18.0 in /usr/local/lib/python3.6/dist-packages (from datapane) (1.18.5)\n",
            "Requirement already satisfied: packaging<21.0,>=20.3 in /usr/local/lib/python3.6/dist-packages (from datapane) (20.4)\n",
            "Collecting dacite<2.0.0,>=1.2.0\n",
            "  Downloading https://files.pythonhosted.org/packages/20/c2/8a82f9bda39fd43948f5104308e4feebe931ea550791a4ff5d1459fa9717/dacite-1.5.1-py3-none-any.whl\n",
            "Collecting ruamel.yaml<0.17.0,>=0.16.5\n",
            "\u001b[?25l  Downloading https://files.pythonhosted.org/packages/7e/39/186f14f3836ac5d2a6a042c8de69988770e8b9abb537610edc429e4914aa/ruamel.yaml-0.16.12-py2.py3-none-any.whl (111kB)\n",
            "\u001b[K     |████████████████████████████████| 112kB 38.9MB/s \n",
            "\u001b[?25hRequirement already satisfied: tabulate<0.9.0,>=0.8.7 in /usr/local/lib/python3.6/dist-packages (from datapane) (0.8.7)\n",
            "Collecting click-spinner<0.2.0,>=0.1.8\n",
            "  Downloading https://files.pythonhosted.org/packages/93/2a/04893832bfeddc2d40a7de2e8153b3085f12d63507d91a9cf0157dc3a1c2/click_spinner-0.1.10-py2.py3-none-any.whl\n",
            "Collecting requests-toolbelt<0.10.0,>=0.9.1\n",
            "\u001b[?25l  Downloading https://files.pythonhosted.org/packages/60/ef/7681134338fc097acef8d9b2f8abe0458e4d87559c689a8c306d0957ece5/requests_toolbelt-0.9.1-py2.py3-none-any.whl (54kB)\n",
            "\u001b[K     |████████████████████████████████| 61kB 6.8MB/s \n",
            "\u001b[?25hCollecting PyYAML<6.0.0,>=5.3.0\n",
            "\u001b[?25l  Downloading https://files.pythonhosted.org/packages/64/c2/b80047c7ac2478f9501676c988a5411ed5572f35d1beff9cae07d321512c/PyYAML-5.3.1.tar.gz (269kB)\n",
            "\u001b[K     |████████████████████████████████| 276kB 42.2MB/s \n",
            "\u001b[?25hCollecting plotly<5.0.0,>=4.8.1\n",
            "\u001b[?25l  Downloading https://files.pythonhosted.org/packages/bf/5f/47ab0d9d843c5be0f5c5bd891736a4c84fa45c3b0a0ddb6b6df7c098c66f/plotly-4.9.0-py2.py3-none-any.whl (12.9MB)\n",
            "\u001b[K     |████████████████████████████████| 12.9MB 329kB/s \n",
            "\u001b[?25hCollecting flit-core<2.4.0,>=2.3.0\n",
            "\u001b[?25l  Downloading https://files.pythonhosted.org/packages/4b/3c/82798771fc1fd978c9225c5ae25eef45cb23b0df4728f208024a5b57901f/flit_core-2.3.0-py2.py3-none-any.whl (40kB)\n",
            "\u001b[K     |████████████████████████████████| 40kB 4.4MB/s \n",
            "\u001b[?25hRequirement already satisfied: bokeh<3.0.0,>=2.0.0 in /usr/local/lib/python3.6/dist-packages (from datapane) (2.1.1)\n",
            "Requirement already satisfied: toolz<0.11.0,>=0.10.0 in /usr/local/lib/python3.6/dist-packages (from datapane) (0.10.0)\n",
            "Requirement already satisfied: pandas<2.0.0,>=1.0.1 in /usr/local/lib/python3.6/dist-packages (from datapane) (1.0.5)\n",
            "Requirement already satisfied: jinja2<3.0.0,>=2.11.1 in /usr/local/lib/python3.6/dist-packages (from datapane) (2.11.2)\n",
            "Requirement already satisfied: click<8.0.0,>=7.0.0 in /usr/local/lib/python3.6/dist-packages (from datapane) (7.1.2)\n",
            "Requirement already satisfied: nbconvert<6.0.0,>=5.6.1 in /usr/local/lib/python3.6/dist-packages (from datapane) (5.6.1)\n",
            "Collecting colorlog<5.0.0,>=4.1.0\n",
            "  Downloading https://files.pythonhosted.org/packages/2a/81/12d77537c82c5d46aa2721dfee25a0e873ef5920ebd0827152f411effb57/colorlog-4.2.1-py2.py3-none-any.whl\n",
            "Requirement already satisfied: requests<3.0.0,>=2.20.0 in /usr/local/lib/python3.6/dist-packages (from datapane) (2.23.0)\n",
            "\u001b[33mWARNING: The candidate selected for download or install is a yanked version: 'validators' candidate (version 0.16.0 at https://files.pythonhosted.org/packages/c0/74/66419c1dad0c4e66b0c79f28d83f1259ed8648f35d8de10de8acff474f0f/validators-0.16.0.tar.gz#sha256=992abaff76f0fb4040e29c57222b0786ca8fab2a779104dd855e880039602b15 (from https://pypi.org/simple/validators/))\n",
            "Reason for being yanked: Missing python_requires in setup.py\u001b[0m\n",
            "Collecting validators<0.17.0,>=0.16.0\n",
            "  Downloading https://files.pythonhosted.org/packages/c0/74/66419c1dad0c4e66b0c79f28d83f1259ed8648f35d8de10de8acff474f0f/validators-0.16.0.tar.gz\n",
            "Collecting furl<3.0.0,>=2.1.0\n",
            "  Downloading https://files.pythonhosted.org/packages/9f/c7/e9dc30914bf048bcd06284bb93d9650d318ecac8668b684fc41e975558ff/furl-2.1.0-py2.py3-none-any.whl\n",
            "Requirement already satisfied: altair<5.0.0,>=4.0.0 in /usr/local/lib/python3.6/dist-packages (from datapane) (4.1.0)\n",
            "Collecting folium<0.12.0,>=0.11.0\n",
            "\u001b[?25l  Downloading https://files.pythonhosted.org/packages/a4/f0/44e69d50519880287cc41e7c8a6acc58daa9a9acf5f6afc52bcc70f69a6d/folium-0.11.0-py2.py3-none-any.whl (93kB)\n",
            "\u001b[K     |████████████████████████████████| 102kB 8.9MB/s \n",
            "\u001b[?25hCollecting munch<3.0.0,>=2.5.0\n",
            "  Downloading https://files.pythonhosted.org/packages/cc/ab/85d8da5c9a45e072301beb37ad7f833cd344e04c817d97e0cc75681d248f/munch-2.5.0-py2.py3-none-any.whl\n",
            "Collecting stringcase<2.0.0,>=1.2.0\n",
            "  Downloading https://files.pythonhosted.org/packages/f3/1f/1241aa3d66e8dc1612427b17885f5fcd9c9ee3079fc0d28e9a3aeeb36fa3/stringcase-1.2.0.tar.gz\n",
            "Collecting lxml<5.0.0,>=4.5.2\n",
            "\u001b[?25l  Downloading https://files.pythonhosted.org/packages/79/37/d420b7fdc9a550bd29b8cfeacff3b38502d9600b09d7dfae9a69e623b891/lxml-4.5.2-cp36-cp36m-manylinux1_x86_64.whl (5.5MB)\n",
            "\u001b[K     |████████████████████████████████| 5.5MB 35.6MB/s \n",
            "\u001b[?25hRequirement already satisfied: zipp>=0.4; python_version < \"3.8\" in /usr/local/lib/python3.6/dist-packages (from importlib_resources<4.0.0,>=3.0.0->datapane) (3.1.0)\n",
            "Requirement already satisfied: pyparsing!=2.0.4,!=2.1.2,!=2.1.6,>=2.0.1 in /usr/local/lib/python3.6/dist-packages (from matplotlib<4.0.0,>=3.1.0->datapane) (2.4.7)\n",
            "Requirement already satisfied: cycler>=0.10 in /usr/local/lib/python3.6/dist-packages (from matplotlib<4.0.0,>=3.1.0->datapane) (0.10.0)\n",
            "Requirement already satisfied: kiwisolver>=1.0.1 in /usr/local/lib/python3.6/dist-packages (from matplotlib<4.0.0,>=3.1.0->datapane) (1.2.0)\n",
            "Requirement already satisfied: python-dateutil>=2.1 in /usr/local/lib/python3.6/dist-packages (from matplotlib<4.0.0,>=3.1.0->datapane) (2.8.1)\n",
            "Requirement already satisfied: six>=1.11.0 in /usr/local/lib/python3.6/dist-packages (from jsonschema<4.0.0,>=3.2.0->datapane) (1.15.0)\n",
            "Requirement already satisfied: attrs>=17.4.0 in /usr/local/lib/python3.6/dist-packages (from jsonschema<4.0.0,>=3.2.0->datapane) (20.1.0)\n",
            "Requirement already satisfied: importlib-metadata; python_version < \"3.8\" in /usr/local/lib/python3.6/dist-packages (from jsonschema<4.0.0,>=3.2.0->datapane) (1.7.0)\n",
            "Requirement already satisfied: pyrsistent>=0.14.0 in /usr/local/lib/python3.6/dist-packages (from jsonschema<4.0.0,>=3.2.0->datapane) (0.16.0)\n",
            "Requirement already satisfied: setuptools in /usr/local/lib/python3.6/dist-packages (from jsonschema<4.0.0,>=3.2.0->datapane) (49.6.0)\n",
            "Requirement already satisfied: dataclasses; python_version < \"3.7\" in /usr/local/lib/python3.6/dist-packages (from dacite<2.0.0,>=1.2.0->datapane) (0.7)\n",
            "Collecting ruamel.yaml.clib>=0.1.2; platform_python_implementation == \"CPython\" and python_version < \"3.9\"\n",
            "\u001b[?25l  Downloading https://files.pythonhosted.org/packages/88/ff/ec25dc01ef04232a9e68ff18492e37dfa01f1f58172e702ad4f38536d41b/ruamel.yaml.clib-0.2.2-cp36-cp36m-manylinux1_x86_64.whl (549kB)\n",
            "\u001b[K     |████████████████████████████████| 552kB 37.7MB/s \n",
            "\u001b[?25hRequirement already satisfied: retrying>=1.3.3 in /usr/local/lib/python3.6/dist-packages (from plotly<5.0.0,>=4.8.1->datapane) (1.3.3)\n",
            "Collecting pytoml\n",
            "  Downloading https://files.pythonhosted.org/packages/a5/47/c7f8a0f210ad18576840922e0b504f0b7f5f73aea4a52ab14c5b58517edf/pytoml-0.1.21-py2.py3-none-any.whl\n",
            "Requirement already satisfied: typing-extensions>=3.7.4 in /usr/local/lib/python3.6/dist-packages (from bokeh<3.0.0,>=2.0.0->datapane) (3.7.4.3)\n",
            "Requirement already satisfied: tornado>=5.1 in /usr/local/lib/python3.6/dist-packages (from bokeh<3.0.0,>=2.0.0->datapane) (5.1.1)\n",
            "Requirement already satisfied: pillow>=4.0 in /usr/local/lib/python3.6/dist-packages (from bokeh<3.0.0,>=2.0.0->datapane) (7.0.0)\n",
            "Requirement already satisfied: pytz>=2017.2 in /usr/local/lib/python3.6/dist-packages (from pandas<2.0.0,>=1.0.1->datapane) (2018.9)\n",
            "Requirement already satisfied: MarkupSafe>=0.23 in /usr/local/lib/python3.6/dist-packages (from jinja2<3.0.0,>=2.11.1->datapane) (1.1.1)\n",
            "Requirement already satisfied: entrypoints>=0.2.2 in /usr/local/lib/python3.6/dist-packages (from nbconvert<6.0.0,>=5.6.1->datapane) (0.3)\n",
            "Requirement already satisfied: testpath in /usr/local/lib/python3.6/dist-packages (from nbconvert<6.0.0,>=5.6.1->datapane) (0.4.4)\n",
            "Requirement already satisfied: pygments in /usr/local/lib/python3.6/dist-packages (from nbconvert<6.0.0,>=5.6.1->datapane) (2.1.3)\n",
            "Requirement already satisfied: pandocfilters>=1.4.1 in /usr/local/lib/python3.6/dist-packages (from nbconvert<6.0.0,>=5.6.1->datapane) (1.4.2)\n",
            "Requirement already satisfied: traitlets>=4.2 in /usr/local/lib/python3.6/dist-packages (from nbconvert<6.0.0,>=5.6.1->datapane) (4.3.3)\n",
            "Requirement already satisfied: defusedxml in /usr/local/lib/python3.6/dist-packages (from nbconvert<6.0.0,>=5.6.1->datapane) (0.6.0)\n",
            "Requirement already satisfied: jupyter-core in /usr/local/lib/python3.6/dist-packages (from nbconvert<6.0.0,>=5.6.1->datapane) (4.6.3)\n",
            "Requirement already satisfied: nbformat>=4.4 in /usr/local/lib/python3.6/dist-packages (from nbconvert<6.0.0,>=5.6.1->datapane) (5.0.7)\n",
            "Requirement already satisfied: mistune<2,>=0.8.1 in /usr/local/lib/python3.6/dist-packages (from nbconvert<6.0.0,>=5.6.1->datapane) (0.8.4)\n",
            "Requirement already satisfied: bleach in /usr/local/lib/python3.6/dist-packages (from nbconvert<6.0.0,>=5.6.1->datapane) (3.1.5)\n",
            "Requirement already satisfied: idna<3,>=2.5 in /usr/local/lib/python3.6/dist-packages (from requests<3.0.0,>=2.20.0->datapane) (2.10)\n",
            "Requirement already satisfied: urllib3!=1.25.0,!=1.25.1,<1.26,>=1.21.1 in /usr/local/lib/python3.6/dist-packages (from requests<3.0.0,>=2.20.0->datapane) (1.24.3)\n",
            "Requirement already satisfied: certifi>=2017.4.17 in /usr/local/lib/python3.6/dist-packages (from requests<3.0.0,>=2.20.0->datapane) (2020.6.20)\n",
            "Requirement already satisfied: chardet<4,>=3.0.2 in /usr/local/lib/python3.6/dist-packages (from requests<3.0.0,>=2.20.0->datapane) (3.0.4)\n",
            "Requirement already satisfied: decorator>=3.4.0 in /usr/local/lib/python3.6/dist-packages (from validators<0.17.0,>=0.16.0->datapane) (4.4.2)\n",
            "Collecting orderedmultidict>=1.0.1\n",
            "  Downloading https://files.pythonhosted.org/packages/04/16/5e95c70bda8fe6ea715005c0db8e602400bdba50ae3c72cb380eba551289/orderedmultidict-1.0.1-py2.py3-none-any.whl\n",
            "Requirement already satisfied: branca>=0.3.0 in /usr/local/lib/python3.6/dist-packages (from folium<0.12.0,>=0.11.0->datapane) (0.4.1)\n",
            "Requirement already satisfied: ipython-genutils in /usr/local/lib/python3.6/dist-packages (from traitlets>=4.2->nbconvert<6.0.0,>=5.6.1->datapane) (0.2.0)\n",
            "Requirement already satisfied: webencodings in /usr/local/lib/python3.6/dist-packages (from bleach->nbconvert<6.0.0,>=5.6.1->datapane) (0.5.1)\n",
            "Building wheels for collected packages: PyYAML, validators, stringcase\n",
            "  Building wheel for PyYAML (setup.py) ... \u001b[?25l\u001b[?25hdone\n",
            "  Created wheel for PyYAML: filename=PyYAML-5.3.1-cp36-cp36m-linux_x86_64.whl size=44619 sha256=e4e63289f935e9bf66e3115d7b08b9fbdc39077359ce93311aba2600b6149f8a\n",
            "  Stored in directory: /root/.cache/pip/wheels/a7/c1/ea/cf5bd31012e735dc1dfea3131a2d5eae7978b251083d6247bd\n",
            "  Building wheel for validators (setup.py) ... \u001b[?25l\u001b[?25hdone\n",
            "  Created wheel for validators: filename=validators-0.16.0-cp36-none-any.whl size=18410 sha256=e1d9957a2143a1a36e0e32672897ee4c0a34afa6d9bd9f36f2b926ca399546b8\n",
            "  Stored in directory: /root/.cache/pip/wheels/2e/55/d5/aae621d5c90615ce56e8fd4cb535c9c40adf6bc4e81f1fb858\n",
            "  Building wheel for stringcase (setup.py) ... \u001b[?25l\u001b[?25hdone\n",
            "  Created wheel for stringcase: filename=stringcase-1.2.0-cp36-none-any.whl size=3578 sha256=75fa2499b735f8a25572a902db0dbd578380da3063cf69c24f876a7d7dd2d314\n",
            "  Stored in directory: /root/.cache/pip/wheels/a0/16/a0/16e2c81dbd47503b5a35583dfabde5a93b4cf98dbf0033dad5\n",
            "Successfully built PyYAML validators stringcase\n",
            "\u001b[31mERROR: datascience 0.10.6 has requirement folium==0.2.1, but you'll have folium 0.11.0 which is incompatible.\u001b[0m\n",
            "Installing collected packages: importlib-resources, pyarrow, jsonschema, dacite, ruamel.yaml.clib, ruamel.yaml, click-spinner, requests-toolbelt, PyYAML, plotly, pytoml, flit-core, colorlog, validators, orderedmultidict, furl, folium, munch, stringcase, lxml, datapane\n",
            "  Found existing installation: pyarrow 0.14.1\n",
            "    Uninstalling pyarrow-0.14.1:\n",
            "      Successfully uninstalled pyarrow-0.14.1\n",
            "  Found existing installation: jsonschema 2.6.0\n",
            "    Uninstalling jsonschema-2.6.0:\n",
            "      Successfully uninstalled jsonschema-2.6.0\n",
            "  Found existing installation: PyYAML 3.13\n",
            "    Uninstalling PyYAML-3.13:\n",
            "      Successfully uninstalled PyYAML-3.13\n",
            "  Found existing installation: plotly 4.4.1\n",
            "    Uninstalling plotly-4.4.1:\n",
            "      Successfully uninstalled plotly-4.4.1\n",
            "  Found existing installation: folium 0.8.3\n",
            "    Uninstalling folium-0.8.3:\n",
            "      Successfully uninstalled folium-0.8.3\n",
            "  Found existing installation: lxml 4.2.6\n",
            "    Uninstalling lxml-4.2.6:\n",
            "      Successfully uninstalled lxml-4.2.6\n",
            "Successfully installed PyYAML-5.3.1 click-spinner-0.1.10 colorlog-4.2.1 dacite-1.5.1 datapane-0.7.4 flit-core-2.3.0 folium-0.11.0 furl-2.1.0 importlib-resources-3.0.0 jsonschema-3.2.0 lxml-4.5.2 munch-2.5.0 orderedmultidict-1.0.1 plotly-4.9.0 pyarrow-0.17.1 pytoml-0.1.21 requests-toolbelt-0.9.1 ruamel.yaml-0.16.12 ruamel.yaml.clib-0.2.2 stringcase-1.2.0 validators-0.16.0\n"
          ],
          "name": "stdout"
        },
        {
          "output_type": "display_data",
          "data": {
            "application/vnd.colab-display-data+json": {
              "pip_warning": {
                "packages": [
                  "jsonschema"
                ]
              }
            }
          },
          "metadata": {
            "tags": []
          }
        }
      ]
    },
    {
      "cell_type": "code",
      "metadata": {
        "id": "rD2z1UgII2Nl",
        "colab_type": "code",
        "colab": {
          "base_uri": "https://localhost:8080/",
          "height": 34
        },
        "outputId": "576c9a23-87b8-49bc-8eb7-93a47c6608c6"
      },
      "source": [
        "!datapane login --server=https://datapane.com/ --token=6f10464a60613179d9133a0efd5ba0e1ce9ac705"
      ],
      "execution_count": 8,
      "outputs": [
        {
          "output_type": "stream",
          "text": [
            "\u001b[32mLogged in to https://datapane.com/ as sangyun\u001b[0m\n"
          ],
          "name": "stdout"
        }
      ]
    },
    {
      "cell_type": "code",
      "metadata": {
        "id": "xXmsRrkFJFhb",
        "colab_type": "code",
        "colab": {
          "base_uri": "https://localhost:8080/",
          "height": 71
        },
        "outputId": "26084b17-f08c-4d17-a04f-30867a05aa51"
      },
      "source": [
        "import datapane as dp\n",
        "\n",
        "# Scripts to create df and chart\n",
        "\n",
        "\n",
        "# Once you have the df and the chart, simply use\n",
        "r = dp.Report(\n",
        "  dp.Markdown('My simple report'), #add description to the report\n",
        "  dp.Table(df), #create a table\n",
        "  dp.Plot(chart) #create a chart\n",
        ")\n",
        "\n",
        "# Publish your report. Make sure to have visibility='PUBLIC' if you want to share your report\n",
        "r.publish(name='stock_report', visibility='PUBLIC')"
      ],
      "execution_count": 10,
      "outputs": [
        {
          "output_type": "stream",
          "text": [
            "Publishing report and associated data - please wait..\n",
            "Report successfully published at https://datapane.com/sangyun/reports/stock_report/\n"
          ],
          "name": "stdout"
        }
      ]
    }
  ]
}