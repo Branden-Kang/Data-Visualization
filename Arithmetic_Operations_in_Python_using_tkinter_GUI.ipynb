{
  "nbformat": 4,
  "nbformat_minor": 0,
  "metadata": {
    "colab": {
      "name": "Arithmetic Operations in Python using tkinter GUI.ipynb",
      "provenance": [],
      "authorship_tag": "ABX9TyMBreLOqwdMdRv+SW+k0n0A"
    },
    "kernelspec": {
      "name": "python3",
      "display_name": "Python 3"
    },
    "language_info": {
      "name": "python"
    }
  },
  "cells": [
    {
      "cell_type": "markdown",
      "metadata": {
        "id": "HyLS2vVOXoko"
      },
      "source": [
        "[Reference](https://vijayakumarchinthala.medium.com/arithmetic-operations-in-python-using-tkinter-gui-380c9b6bc2a3)"
      ]
    },
    {
      "cell_type": "code",
      "metadata": {
        "id": "3nNMRxXaXBAS"
      },
      "source": [
        "from tkinter import *\n",
        "class MyWindow:\n",
        "    def __init__(self, win):\n",
        "        self.lbl1=Label(win, text='First number')\n",
        "        self.lbl2=Label(win, text='Second number')\n",
        "        self.lbl3=Label(win, text='Result')\n",
        "        self.t1=Entry(bd=3)\n",
        "        self.t2=Entry()\n",
        "        self.t3=Entry()\n",
        "        self.btn1 = Button(win, text='Add')\n",
        "        self.btn2=Button(win, text='Subtract')\n",
        "        self.btn3=Button(win,text=\"Multilication\")\n",
        "        self.btn4=Button(win,text=\"Division\")\n",
        "        self.lbl1.place(x=100, y=50)\n",
        "        self.t1.place(x=200, y=50)\n",
        "        self.lbl2.place(x=100, y=100)\n",
        "        self.t2.place(x=200, y=100)\n",
        "        self.b1=Button(win, text='Add', command=self.add)\n",
        "        self.b2=Button(win, text='Subtract')\n",
        "        self.b2.bind('<Button-1>', self.sub)\n",
        "        self.b3=Button(win,text=\"Multiplication\")\n",
        "        self.b3.bind('<Button-1>',self.mul)\n",
        "        self.b4=Button(win,text=\"Divisin\")\n",
        "        self.b4.bind('<Button-1>',self.div)\n",
        "        self.b1.place(x=100, y=150)\n",
        "        self.b2.place(x=200, y=150)\n",
        "        self.b3.place(x=300,y=150)\n",
        "        self.b4.place(x=400,y=150)\n",
        "        self.lbl3.place(x=100, y=200)\n",
        "        self.t3.place(x=200, y=200)\n",
        "    def add(self):\n",
        "        self.t3.delete(0, 'end')\n",
        "        num1=int(self.t1.get())\n",
        "        num2=int(self.t2.get())\n",
        "        result=num1+num2\n",
        "        self.t3.insert(END, str(result))\n",
        "    def sub(self, event):\n",
        "        self.t3.delete(0, 'end')\n",
        "        num1=int(self.t1.get())\n",
        "        num2=int(self.t2.get())\n",
        "        result=num1-num2\n",
        "        self.t3.insert(END, str(result))\n",
        "    def mul(self, event):\n",
        "        self.t3.delete(0, 'end')\n",
        "        num1=int(self.t1.get())\n",
        "        num2=int(self.t2.get())\n",
        "        result=num1*num2\n",
        "        self.t3.insert(END, str(result)) \n",
        "    def div(self, event):\n",
        "        self.t3.delete(0, 'end')\n",
        "        num1=int(self.t1.get())\n",
        "        num2=int(self.t2.get())\n",
        "        result=num1/num2\n",
        "        self.t3.insert(END, str(result))       \n",
        "\n",
        "window=Tk()\n",
        "mywin=MyWindow(window)\n",
        "window.title('Tkinter Arthematic operations')\n",
        "window.geometry(\"700x500+10+10\")\n",
        "window.mainloop()"
      ],
      "execution_count": 3,
      "outputs": []
    }
  ]
}