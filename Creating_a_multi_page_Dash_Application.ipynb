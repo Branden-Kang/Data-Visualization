{
  "nbformat": 4,
  "nbformat_minor": 0,
  "metadata": {
    "colab": {
      "name": "Creating a multi-page Dash Application.ipynb",
      "provenance": [],
      "authorship_tag": "ABX9TyOrFhKE17Z/4p0P1fGB6zD4"
    },
    "kernelspec": {
      "name": "python3",
      "display_name": "Python 3"
    },
    "language_info": {
      "name": "python"
    }
  },
  "cells": [
    {
      "cell_type": "markdown",
      "source": [
        "[Reference](https://levelup.gitconnected.com/creating-a-multi-page-dash-application-ab38b4b91bf5)"
      ],
      "metadata": {
        "id": "_VRG5FpSXDh6"
      }
    },
    {
      "cell_type": "code",
      "execution_count": 1,
      "metadata": {
        "colab": {
          "base_uri": "https://localhost:8080/"
        },
        "id": "qkrRlwYLXBi_",
        "outputId": "5fb737e1-d7fc-466e-c956-67605a17b5a6"
      },
      "outputs": [
        {
          "output_type": "stream",
          "name": "stdout",
          "text": [
            "Collecting dash\n",
            "  Downloading dash-2.4.1-py3-none-any.whl (9.8 MB)\n",
            "\u001b[K     |████████████████████████████████| 9.8 MB 5.2 MB/s \n",
            "\u001b[?25hCollecting dash-core-components==2.0.0\n",
            "  Downloading dash_core_components-2.0.0-py3-none-any.whl (3.8 kB)\n",
            "Requirement already satisfied: Flask>=1.0.4 in /usr/local/lib/python3.7/dist-packages (from dash) (1.1.4)\n",
            "Collecting flask-compress\n",
            "  Downloading Flask_Compress-1.12-py3-none-any.whl (7.9 kB)\n",
            "Requirement already satisfied: plotly>=5.0.0 in /usr/local/lib/python3.7/dist-packages (from dash) (5.5.0)\n",
            "Collecting dash-html-components==2.0.0\n",
            "  Downloading dash_html_components-2.0.0-py3-none-any.whl (4.1 kB)\n",
            "Collecting dash-table==5.0.0\n",
            "  Downloading dash_table-5.0.0-py3-none-any.whl (3.9 kB)\n",
            "Requirement already satisfied: Jinja2<3.0,>=2.10.1 in /usr/local/lib/python3.7/dist-packages (from Flask>=1.0.4->dash) (2.11.3)\n",
            "Requirement already satisfied: itsdangerous<2.0,>=0.24 in /usr/local/lib/python3.7/dist-packages (from Flask>=1.0.4->dash) (1.1.0)\n",
            "Requirement already satisfied: Werkzeug<2.0,>=0.15 in /usr/local/lib/python3.7/dist-packages (from Flask>=1.0.4->dash) (1.0.1)\n",
            "Requirement already satisfied: click<8.0,>=5.1 in /usr/local/lib/python3.7/dist-packages (from Flask>=1.0.4->dash) (7.1.2)\n",
            "Requirement already satisfied: MarkupSafe>=0.23 in /usr/local/lib/python3.7/dist-packages (from Jinja2<3.0,>=2.10.1->Flask>=1.0.4->dash) (2.0.1)\n",
            "Requirement already satisfied: six in /usr/local/lib/python3.7/dist-packages (from plotly>=5.0.0->dash) (1.15.0)\n",
            "Requirement already satisfied: tenacity>=6.2.0 in /usr/local/lib/python3.7/dist-packages (from plotly>=5.0.0->dash) (8.0.1)\n",
            "Collecting brotli\n",
            "  Downloading Brotli-1.0.9-cp37-cp37m-manylinux1_x86_64.whl (357 kB)\n",
            "\u001b[K     |████████████████████████████████| 357 kB 32.3 MB/s \n",
            "\u001b[?25hInstalling collected packages: brotli, flask-compress, dash-table, dash-html-components, dash-core-components, dash\n",
            "Successfully installed brotli-1.0.9 dash-2.4.1 dash-core-components-2.0.0 dash-html-components-2.0.0 dash-table-5.0.0 flask-compress-1.12\n",
            "Collecting dash_bootstrap_components\n",
            "  Downloading dash_bootstrap_components-1.1.0-py3-none-any.whl (210 kB)\n",
            "\u001b[K     |████████████████████████████████| 210 kB 5.2 MB/s \n",
            "\u001b[?25hRequirement already satisfied: dash>=2.0.0 in /usr/local/lib/python3.7/dist-packages (from dash_bootstrap_components) (2.4.1)\n",
            "Requirement already satisfied: dash-table==5.0.0 in /usr/local/lib/python3.7/dist-packages (from dash>=2.0.0->dash_bootstrap_components) (5.0.0)\n",
            "Requirement already satisfied: dash-core-components==2.0.0 in /usr/local/lib/python3.7/dist-packages (from dash>=2.0.0->dash_bootstrap_components) (2.0.0)\n",
            "Requirement already satisfied: plotly>=5.0.0 in /usr/local/lib/python3.7/dist-packages (from dash>=2.0.0->dash_bootstrap_components) (5.5.0)\n",
            "Requirement already satisfied: dash-html-components==2.0.0 in /usr/local/lib/python3.7/dist-packages (from dash>=2.0.0->dash_bootstrap_components) (2.0.0)\n",
            "Requirement already satisfied: flask-compress in /usr/local/lib/python3.7/dist-packages (from dash>=2.0.0->dash_bootstrap_components) (1.12)\n",
            "Requirement already satisfied: Flask>=1.0.4 in /usr/local/lib/python3.7/dist-packages (from dash>=2.0.0->dash_bootstrap_components) (1.1.4)\n",
            "Requirement already satisfied: itsdangerous<2.0,>=0.24 in /usr/local/lib/python3.7/dist-packages (from Flask>=1.0.4->dash>=2.0.0->dash_bootstrap_components) (1.1.0)\n",
            "Requirement already satisfied: click<8.0,>=5.1 in /usr/local/lib/python3.7/dist-packages (from Flask>=1.0.4->dash>=2.0.0->dash_bootstrap_components) (7.1.2)\n",
            "Requirement already satisfied: Jinja2<3.0,>=2.10.1 in /usr/local/lib/python3.7/dist-packages (from Flask>=1.0.4->dash>=2.0.0->dash_bootstrap_components) (2.11.3)\n",
            "Requirement already satisfied: Werkzeug<2.0,>=0.15 in /usr/local/lib/python3.7/dist-packages (from Flask>=1.0.4->dash>=2.0.0->dash_bootstrap_components) (1.0.1)\n",
            "Requirement already satisfied: MarkupSafe>=0.23 in /usr/local/lib/python3.7/dist-packages (from Jinja2<3.0,>=2.10.1->Flask>=1.0.4->dash>=2.0.0->dash_bootstrap_components) (2.0.1)\n",
            "Requirement already satisfied: tenacity>=6.2.0 in /usr/local/lib/python3.7/dist-packages (from plotly>=5.0.0->dash>=2.0.0->dash_bootstrap_components) (8.0.1)\n",
            "Requirement already satisfied: six in /usr/local/lib/python3.7/dist-packages (from plotly>=5.0.0->dash>=2.0.0->dash_bootstrap_components) (1.15.0)\n",
            "Requirement already satisfied: brotli in /usr/local/lib/python3.7/dist-packages (from flask-compress->dash>=2.0.0->dash_bootstrap_components) (1.0.9)\n",
            "Installing collected packages: dash-bootstrap-components\n",
            "Successfully installed dash-bootstrap-components-1.1.0\n"
          ]
        }
      ],
      "source": [
        "!pip install dash\n",
        "!pip install dash_bootstrap_components"
      ]
    },
    {
      "cell_type": "code",
      "source": [
        "# Import necessary libraries\n",
        "from dash import html\n",
        "import dash_bootstrap_components as dbc\n",
        "\n",
        "# Define the navbar structure\n",
        "def Navbar():\n",
        "\n",
        "    layout = html.Div([\n",
        "        dbc.NavbarSimple(\n",
        "            children=[\n",
        "                dbc.NavItem(dbc.NavLink(\"Page 1\", href=\"/page1\")),\n",
        "                dbc.NavItem(dbc.NavLink(\"Page 2\", href=\"/page2\")),\n",
        "            ] ,\n",
        "            brand=\"Multipage Dash App\",\n",
        "            brand_href=\"/page1\",\n",
        "            color=\"dark\",\n",
        "            dark=True,\n",
        "        ), \n",
        "    ])\n",
        "\n",
        "    return layout"
      ],
      "metadata": {
        "id": "VcoUXREeXIEo"
      },
      "execution_count": 2,
      "outputs": []
    },
    {
      "cell_type": "code",
      "source": [
        "# Import necessary libraries \n",
        "from dash import html\n",
        "import dash_bootstrap_components as dbc\n",
        "\n",
        "\n",
        "# Define the page layout\n",
        "layout = dbc.Container([\n",
        "    dbc.Row([\n",
        "        html.Center(html.H1(\"Page 1\")),\n",
        "        html.Br(),\n",
        "        html.Hr(),\n",
        "        dbc.Col([\n",
        "            html.P(\"This is column 1.\"), \n",
        "            dbc.Button(\"Test Button\", color=\"primary\")\n",
        "        ]), \n",
        "        dbc.Col([\n",
        "            html.P(\"This is column 2.\"), \n",
        "            html.P(\"You can add many cool components using the bootstrap dash components library.\"),\n",
        "        ])\n",
        "    ])\n",
        "])"
      ],
      "metadata": {
        "id": "mE7e4bY-XJy_"
      },
      "execution_count": 3,
      "outputs": []
    },
    {
      "cell_type": "code",
      "source": [
        "# Define the Dash App and it's attributes here \n",
        "\n",
        "import dash\n",
        "import dash_bootstrap_components as dbc\n",
        "\n",
        "app = dash.Dash(__name__, \n",
        "                external_stylesheets=[dbc.themes.BOOTSTRAP], \n",
        "                meta_tags=[{\"name\": \"viewport\", \"content\": \"width=device-width\"}],\n",
        "                suppress_callback_exceptions=True)"
      ],
      "metadata": {
        "id": "1VMXpBrpXQFP"
      },
      "execution_count": 4,
      "outputs": []
    },
    {
      "cell_type": "code",
      "source": [
        "# Import necessary libraries \n",
        "from dash import html, dcc\n",
        "from dash.dependencies import Input, Output\n",
        "\n",
        "# Connect to main app.py file\n",
        "from app import app\n",
        "\n",
        "# Connect to your app pages\n",
        "from pages import page1, page2\n",
        "\n",
        "# Connect the navbar to the index\n",
        "from components import navbar\n",
        "\n",
        "# Define the navbar\n",
        "nav = navbar.Navbar()\n",
        "\n",
        "# Define the index page layout\n",
        "app.layout = html.Div([\n",
        "    dcc.Location(id='url', refresh=False),\n",
        "    nav, \n",
        "    html.Div(id='page-content', children=[]), \n",
        "])\n",
        "\n",
        "# Create the callback to handle mutlipage inputs\n",
        "@app.callback(Output('page-content', 'children'),\n",
        "              [Input('url', 'pathname')])\n",
        "def display_page(pathname):\n",
        "    if pathname == '/page1':\n",
        "        return page1.layout\n",
        "    if pathname == '/page2':\n",
        "        return page2.layout\n",
        "    else: # if redirected to unknown link\n",
        "        return \"404 Page Error! Please choose a link\"\n",
        "\n",
        "# Run the app on localhost:8050\n",
        "if __name__ == '__main__':\n",
        "    app.run_server(debug=True)"
      ],
      "metadata": {
        "id": "K8U-6SxwXRlp"
      },
      "execution_count": 5,
      "outputs": []
    }
  ]
}