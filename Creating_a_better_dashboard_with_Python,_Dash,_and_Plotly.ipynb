{
  "nbformat": 4,
  "nbformat_minor": 0,
  "metadata": {
    "colab": {
      "name": "Creating a better dashboard with Python, Dash, and Plotly.ipynb",
      "provenance": [],
      "authorship_tag": "ABX9TyM0eUoMqB+n2oIQ7veAc0uT"
    },
    "kernelspec": {
      "name": "python3",
      "display_name": "Python 3"
    },
    "language_info": {
      "name": "python"
    }
  },
  "cells": [
    {
      "cell_type": "markdown",
      "source": [
        "[Reference](https://towardsdatascience.com/creating-a-better-dashboard-with-python-dash-and-plotly-80dfb4269882)"
      ],
      "metadata": {
        "id": "zus0uk5fbRgm"
      }
    },
    {
      "cell_type": "code",
      "execution_count": 1,
      "metadata": {
        "id": "yObdq9UU004x"
      },
      "outputs": [],
      "source": [
        "deacot_file = \"/tmp/deacot2021.txt\"\n",
        "da_file = \"/tmp/deacot_DA_2021.txt\"# Data Retreival and Handling\n",
        "# Function to retrieve reports\n",
        "def get_COT(url, file_name):\n",
        "  with urllib.request.urlopen(url) as response, open(file_name, \"wb\") as out_file:\n",
        "    shutil.copyfileobj(response, out_file)\n",
        "  with zipfile.ZipFile(file_name) as zf:\n",
        "    zf.extractall()# Function to make sure things are fresh for data\n",
        "def get_reports():\n",
        "  freshness_date = datetime.now() - timedelta(days=7)\n",
        "  if os.path.exists(deacot_file):\n",
        "    filetime = datetime.fromtimestamp(os.path.getctime(deacot_file))\n",
        "    if (filetime - timedelta(days=7)) <= freshness_date:\n",
        "      print(\"Deacot file exists and is current - using cached data\")\n",
        "    else:\n",
        "      get_COT(\n",
        "        \"https://www.cftc.gov/files/dea/history/deacot2021.zip\",\n",
        "        \"deacot2021.zip\",)\n",
        "      os.rename(r\"annual.txt\", deacot_file)\n",
        "      print(\"Deacot file is stale - getting fresh copy\")\n",
        "  else:\n",
        "    print(\"Deacot file does not exist - getting fresh copy\")\n",
        "    get_COT(\n",
        "      \"https://www.cftc.gov/files/dea/history/deacot2021.zip\",\n",
        "      \"deacot2021.zip\")\n",
        "    os.rename(r\"annual.txt\", deacot_file)  if os.path.exists(da_file):\n",
        "    filetime = datetime.fromtimestamp(os.path.getctime(da_file))\n",
        "    if (filetime - timedelta(days=7)) <= freshness_date:\n",
        "      print(\"Disaggregation report file exists and is current - using cached data\")\n",
        "    else:\n",
        "      get_COT( \"https://www.cftc.gov/files/dea/history/fut_disagg_txt_2021.zip\",\n",
        "        \"fut_disagg_txt_2021.zip\",)\n",
        "      os.rename(r\"f_year.txt\", da_file)\n",
        "      print(\n",
        "        \"Disaggregation report file is stale - getting fresh copy\")\n",
        "  else:\n",
        "    print(\n",
        "      \"Disaggregation report file does not exist - getting fresh copy\")\n",
        "    get_COT(\n",
        "   \"https://www.cftc.gov/files/dea/history/fut_disagg_txt_2021.zip\",\n",
        "      \"fut_disagg_txt_2021.zip\",)\n",
        "    os.rename(r\"f_year.txt\", da_file)"
      ]
    },
    {
      "cell_type": "code",
      "source": [
        "\"\"\"    \n",
        "This files does a lot of the dataframe work and larger data functions. Mostly this is data retrieval, organization, and making sure everything is ready to be called by the main app via call backs.    \n",
        "This is called by main.py and in turn calls support functions when needed\n",
        "\"\"\"\n",
        "import pandas as pd\n",
        "import numpy as np\n",
        "import plotly.io as pio\n",
        "import support_functions as sf pd.options.plotting.backend = \"plotly\"\n",
        "pio.templates.default = \"plotly_dark\" # Make sure we have data\n",
        "# This will check to see if a file exists and if not gets one\n",
        "#  This also checks the data freshness\n",
        "sf.get_reports() # Get the data frames to work with\n",
        "# DEACOT report\n",
        "df_deacot = pd.read_csv(\"/tmp/deacot2021.txt\", na_values=\"x\")\n",
        "df_deacot = sf.deacot_process(df_deacot) # Disambiguation report\n",
        "df_da = pd.read_csv(\"/tmp/deacot_DA_2021.txt\", na_values=\"x\", low_memory=False)\n",
        "df_da = sf.DA_process(df_da) ####################################################\n",
        "# Generate the commodities list - use the DA listing\n",
        "####################################################\n",
        "da_list = df_da[\"Exchange\"].unique()\n",
        "da_list = np.sort(da_list) if __name__ == \"__main__\":    \n",
        "  print(\"business logic should not be run like this\")"
      ],
      "metadata": {
        "id": "axbBWO1gcdhh"
      },
      "execution_count": 2,
      "outputs": []
    },
    {
      "cell_type": "code",
      "source": [
        "layout = go.Layout(    \n",
        "  template=\"plotly_dark\",    \n",
        "  # plot_bgcolor=\"#FFFFFF\",    \n",
        "  hovermode=\"x\",    \n",
        "  hoverdistance=100,  # Distance to show hover label of data point    \n",
        "  spikedistance=1000,  # Distance to show spike    \n",
        "  xaxis=dict(        \n",
        "    title=\"time\",        \n",
        "    linecolor=\"#BCCCDC\",        \n",
        "    showspikes=True,        \n",
        "    spikesnap=\"cursor\",        \n",
        "    spikethickness=1,        \n",
        "    spikedash=\"dot\",        \n",
        "    spikecolor=\"#999999\",        \n",
        "    spikemode=\"across\",    \n",
        "  ),    \n",
        "  yaxis=dict(        \n",
        "    title=\"price\",        \n",
        "    linecolor=\"#BCCCDC\",        \n",
        "    tickformat=\".2%\",        \n",
        "    showspikes=True,        \n",
        "    spikesnap=\"cursor\",        \n",
        "    spikethickness=1,        \n",
        "    spikedash=\"dot\",        \n",
        "    spikecolor=\"#999999\",        \n",
        "    spikemode=\"across\",    \n",
        "  ),\n",
        ")tool_config = {    \n",
        "  \"modeBarButtonsToAdd\": [        \n",
        "    \"drawline\",        \n",
        "    \"drawopenpath\",        \n",
        "    \"drawclosedpath\",        \n",
        "    \"drawcircle\",        \n",
        "    \"drawrect\",        \n",
        "    \"eraseshape\",        \n",
        "    \"hoverclosest\",        \n",
        "    \"hovercompare\",    \n",
        "  ],    \n",
        "  \"modeBarButtonsToRemove\": [        \n",
        "    \"zoom2d\",        \n",
        "    \"pan2d\",        \n",
        "    \"select2d\",        \n",
        "    \"lasso2d\",        \n",
        "    \"zoomIn2d\",        \n",
        "    \"zoomOut2d\",        \n",
        "    \"autoScale2d\",    \n",
        "  ],    \n",
        "  \"showTips\": False,    \n",
        "  \"displaylogo\": False,\n",
        "}"
      ],
      "metadata": {
        "id": "nK-sxaK_chWG"
      },
      "execution_count": 3,
      "outputs": []
    },
    {
      "cell_type": "code",
      "source": [
        "#####################################################\n",
        "# Application parameters\n",
        "#####################################################\n",
        "app = dash.Dash(    \n",
        "  __name__,    \n",
        "  suppress_callback_exceptions=True,    \n",
        "  external_stylesheets=[dbc.themes.CYBORG],\n",
        ")\n",
        "app.title = \"CFTC Data Analysis\"\n",
        "app.layout = html.Div(    \n",
        "  [\n",
        "    dcc.Location(\n",
        "      id=\"url\", \n",
        "      refresh=False), \n",
        "    html.Div(id=\"page-content\")\n",
        "  ]) # Multi-page selector callback - left in for future use\n",
        "@app.callback(\n",
        "  Output(\"page-content\", \"children\"), \n",
        "  Input(\"url\", \"pathname\")\n",
        ")\n",
        "def display_page(pathname):        \n",
        "  # if pathname == \"/market-sentiment\":    \n",
        "  #     return volumes    \n",
        "  # else:    \n",
        "  return main_page###################################################\n",
        "# Server Runa\n",
        "###################################################\n",
        "if __name__ == \"__main__\":    \n",
        "  app.run_server(\n",
        "    debug=True, \n",
        "    host=\"0.0.0.0\", \n",
        "    port=8050, \n",
        "    dev_tools_hot_reload=True\n",
        "  )"
      ],
      "metadata": {
        "id": "HSb_o_-ZckAh"
      },
      "execution_count": 4,
      "outputs": []
    },
    {
      "cell_type": "code",
      "source": [
        "# Sentiment charts\n",
        "@app.callback(    \n",
        "  dash.dependencies.Output(\"deacot_sent\", \"figure\"),    \n",
        "  [dash.dependencies.Input(\"future\", \"value\")],\n",
        ")\n",
        "def deacot_sentiment(future1):    \n",
        "  df1 = bl.df_deacot[bl.df_deacot[\"Exchange\"] == future1]    \n",
        "  df1.set_index(\"Date\", inplace=True)       arr = df1[\"commodity\"].unique()    \n",
        "  asset = arr[0]     \n",
        "  \n",
        "  fig = sf.make_sentiment_chart(df1, asset)    \n",
        "  return fig"
      ],
      "metadata": {
        "id": "0J_aRqm_cnHw"
      },
      "execution_count": 5,
      "outputs": []
    },
    {
      "cell_type": "code",
      "source": [
        "# Container for sentiment charts\n",
        "sentiment_direction = dbc.Row(    \n",
        "  [        \n",
        "    dbc.Col(            \n",
        "      dcc.Graph(                \n",
        "        id=\"deacot_sent\",                \n",
        "        style={\"height\": \"70vh\"},                \n",
        "        config=lc.tool_config,            \n",
        "      ),            \n",
        "      md=6,        \n",
        "    ),        \n",
        "    dbc.Col(            \n",
        "      dcc.Graph(                \n",
        "        id=\"da_sent\",                \n",
        "        style={\"height\": \"70vh\"},                \n",
        "        config=lc.tool_config,            \n",
        "      ),            \n",
        "      md=6,        \n",
        "    ),    \n",
        "  ]\n",
        ")\n",
        "\n"
      ],
      "metadata": {
        "id": "fAyzRa8Ncpt5"
      },
      "execution_count": 6,
      "outputs": []
    },
    {
      "cell_type": "code",
      "source": [
        "####################################################\n",
        "# Layout Creation Section\n",
        "####################################################\n",
        "main_page = html.Div(    \n",
        "  [        \n",
        "    html.Hr(),        \n",
        "    html.H5(\n",
        "      \"Futures Market Comparison and Analysis\", \n",
        "      style=TEXT_STYLE\n",
        "    ),        \n",
        "    html.Hr(),        \n",
        "    future_select,        \n",
        "    html.Hr(),        \n",
        "    info_bar,        \n",
        "    html.Hr(),        \n",
        "    sentiment_direction,        \n",
        "    html.Hr(),        \n",
        "    da_postiions,        \n",
        "    html.Hr(),        \n",
        "    da_pos_snap,        \n",
        "    html.Hr(),        \n",
        "    da_diffs,        \n",
        "    html.Hr(),        \n",
        "    references,    \n",
        "  ],    \n",
        "  style=CONTENT_STYLE,\n",
        ")"
      ],
      "metadata": {
        "id": "jQ9BfAyAcsVs"
      },
      "execution_count": 7,
      "outputs": []
    },
    {
      "cell_type": "code",
      "source": [
        "# Create drop-down selector\n",
        "future_select = dbc.Row(    \n",
        "  [        \n",
        "    dbc.Col(            \n",
        "      [                \n",
        "        html.Div(                    \n",
        "          [                        \n",
        "            dcc.Dropdown(                            \n",
        "              id=\"future\",                            \n",
        "              options=[\n",
        "                {\"label\": i, \"value\": i} for i in bl.da_list],                            \n",
        "              value=\"SILVER - COMMODITY EXCHANGE INC.\",                        \n",
        "            ),                    \n",
        "          ],                    \n",
        "          className=\"dash-bootstrap\",                \n",
        "        ),            \n",
        "      ],            \n",
        "      md=6,        \n",
        "    )    \n",
        "  ]\n",
        ")"
      ],
      "metadata": {
        "id": "1Q6rPENccxEf"
      },
      "execution_count": 8,
      "outputs": []
    }
  ]
}