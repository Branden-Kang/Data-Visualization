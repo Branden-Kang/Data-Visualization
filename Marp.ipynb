{
  "nbformat": 4,
  "nbformat_minor": 0,
  "metadata": {
    "colab": {
      "name": "Marp.ipynb",
      "provenance": [],
      "authorship_tag": "ABX9TyOFDJhY+Ztq9eXYJ9oTy15p"
    },
    "kernelspec": {
      "name": "python3",
      "display_name": "Python 3"
    },
    "language_info": {
      "name": "python"
    }
  },
  "cells": [
    {
      "cell_type": "markdown",
      "metadata": {
        "id": "bSsCP7tmhuM1"
      },
      "source": [
        "[Reference](https://towardsdatascience.com/bye-bye-powerpoint-hello-marp-3c0e3b3198b1)"
      ]
    },
    {
      "cell_type": "code",
      "metadata": {
        "id": "s0hig7uFhc67"
      },
      "source": [
        "---\n",
        "marp: true\n",
        "---"
      ],
      "execution_count": 1,
      "outputs": []
    },
    {
      "cell_type": "code",
      "metadata": {
        "id": "iIrHAc60h3Sm"
      },
      "source": [
        "---\n",
        "marp: true:\n",
        "theme: gaia\n",
        "---"
      ],
      "execution_count": null,
      "outputs": []
    },
    {
      "cell_type": "code",
      "metadata": {
        "id": "YKnb3VDwh522"
      },
      "source": [
        "---\n",
        "marp: true:\n",
        "theme: gaia\n",
        "author: Dario Radečić\n",
        "size: 4:3\n",
        "---"
      ],
      "execution_count": 2,
      "outputs": []
    },
    {
      "cell_type": "code",
      "metadata": {
        "id": "aOqA4baLh6Po"
      },
      "source": [
        "# Welcome to MARP\n",
        "- It's an awesome VSCode extension for making presentations.\n",
        "- It's based on Markdown:\n",
        "  - **Bold**\n",
        "  - _Italic_\n",
        "  - `code`"
      ],
      "execution_count": 3,
      "outputs": []
    },
    {
      "cell_type": "code",
      "metadata": {
        "id": "GFyecuMth88n"
      },
      "source": [
        "# Welcome to Slide 2\n",
        "- This is a neural network:\n",
        "\n",
        "![A neural network](https://upload.wikimedia.org/wikipedia/commons/3/3d/Neural_network.svg)"
      ],
      "execution_count": 4,
      "outputs": []
    },
    {
      "cell_type": "code",
      "metadata": {
        "id": "kGi9M6VJh_PQ"
      },
      "source": [
        "<style>\n",
        "    :root {\n",
        "        --color-background: #101010 !important;\n",
        "\t--color-foreground: #FFFFFF !important;\n",
        "    }\n",
        "</style>"
      ],
      "execution_count": 5,
      "outputs": []
    }
  ]
}