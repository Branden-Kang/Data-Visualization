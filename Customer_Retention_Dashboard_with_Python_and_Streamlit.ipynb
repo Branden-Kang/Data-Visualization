{
  "nbformat": 4,
  "nbformat_minor": 0,
  "metadata": {
    "colab": {
      "provenance": [],
      "authorship_tag": "ABX9TyNOxkuPq77lYw2r0xDJ6NMI"
    },
    "kernelspec": {
      "name": "python3",
      "display_name": "Python 3"
    },
    "language_info": {
      "name": "python"
    }
  },
  "cells": [
    {
      "cell_type": "markdown",
      "source": [
        "[Reference](https://medium.com/@joetrankang/i-built-a-customer-retention-dashboard-with-python-and-streamlit-in-under-20-minutes-as-a-data-d49605a2a5c3)"
      ],
      "metadata": {
        "id": "ANCfXp3mQ7ZR"
      }
    },
    {
      "cell_type": "markdown",
      "source": [
        "# 1. Get the data\n",
        "[Data](https://raw.githubusercontent.com/joetrankang/cohort-analysis/main/sales_2018-01-01_2019-12-31.csv)"
      ],
      "metadata": {
        "id": "hm86RTdYRC4I"
      }
    },
    {
      "cell_type": "markdown",
      "source": [
        "# 2. Create a Python file\n"
      ],
      "metadata": {
        "id": "TDLr65rmRHrZ"
      }
    },
    {
      "cell_type": "code",
      "execution_count": 1,
      "metadata": {
        "id": "JF_jEPvLQ5gz"
      },
      "outputs": [],
      "source": [
        "# # 1. Import necessary libraries \n",
        "# import pandas as pd\n",
        "# import numpy as np\n",
        "# import streamlit as st\n",
        "\n",
        "# # 2. Set the page configuration\n",
        "# st.set_page_config(\n",
        "#     page_title=\"This is my title\",  # title of the page\n",
        "#     page_icon=\"📈\",                  # favicon\n",
        "#     layout=\"wide\",\n",
        "# )\n",
        "\n",
        "# # 3. Define all the functions used in your project\n",
        "# # 4. For every function, add \"@st.experimental_memo\" in front of it. This is\n",
        "# #     to memoize each function execution. This would make the app run faster,\n",
        "# #     especially when the users interact with some elements on the dashboard\n",
        "\n",
        "# @st.experimental_memo\n",
        "# def function(x):\n",
        "#     return y"
      ]
    },
    {
      "cell_type": "code",
      "source": [
        "# import pandas as pd\n",
        "# import numpy as np \n",
        "# import matplotlib.pyplot as plt \n",
        "# import seaborn as sns\n",
        "# import matplotlib as mpl \n",
        "# from datetime import date, datetime\n",
        "# import streamlit as st  \n",
        "\n",
        "# st.set_page_config(\n",
        "#     page_title=\"Cohorts Dashboard\",\n",
        "#     page_icon=\"📈\",\n",
        "#     layout=\"wide\",\n",
        "# )\n",
        "\n",
        "# @st.experimental_memo\n",
        "# def purchase_rate(customer_id):\n",
        "#     purchase_rate = [1]\n",
        "#     counter = 1\n",
        "#     for i in range(1,len(customer_id)):\n",
        "#         if customer_id[i] != customer_id[i-1]:\n",
        "#             purchase_rate.append(1)\n",
        "#             counter = 1\n",
        "#         else:\n",
        "#             counter += 1\n",
        "#             purchase_rate.append(counter)\n",
        "#     return purchase_rate\n",
        "# @st.experimental_memo\n",
        "# def join_date(date, purchase_rate):\n",
        "#     join_date = list(range(len(date)))\n",
        "#     for i in range(len(purchase_rate)):\n",
        "#         if purchase_rate[i] == 1:\n",
        "#             join_date[i] = date[i]\n",
        "#         else:\n",
        "#             join_date[i] = join_date[i-1]\n",
        "#     return join_date\n",
        "\n",
        "# # I do not define all the functions here because it would lengthen the article. \n",
        "# # I will provide the full code at the end of the article.\n",
        "\n",
        "# st.title(\"Cohort Interactive Dashboard Demo\")\n",
        "# st.markdown(\"\"\"\n",
        "# This webapp performs cohort analysis of my_company data!\n",
        "# * **Python libraries used:** base64, pandas, streamlit, numpy, matplotlib, seaborn\n",
        "# * **Data source:** [Shopify](https://company_name.myshopify.com/admin)\n",
        "# * You need to select the data file first to proceed.\n",
        "# \"\"\")\n",
        "# uploaded_file = st.file_uploader(\"Choose a file\") # to upload file\n",
        "\n",
        "# if uploaded_file is not None:\n",
        "#     df = pd.read_csv(uploaded_file)\n",
        "#     df_processed = process_df(df)\n",
        "#     df_cohorts = cohort_numbers(df_processed)\n",
        "#     cohorts = cohort_percent(df_cohorts)\n",
        "    \n",
        "#     # Dynamic title by using f-strings\n",
        "#     st.header(f\"Live {cohorts.index[0]} to {cohorts.index[-1]} Cohort Dashboard\")\n",
        "    \n",
        "#     # Filters\n",
        "#     first_filter= st.selectbox('Select type of cohort',['By unique customers', 'By percentage', 'By AOV'])\n",
        "\n",
        "#     second_filter = st.multiselect('Select cohort', list(cohorts.index))\n",
        "\n",
        "#     output = select_which_table_to_draw(df_processed,first_filter,second_filter)\n",
        "#     st.dataframe(output)\n",
        "#     st.download_button(label='Download csv', data=output.to_csv(), mime='text/csv')\n",
        "\n",
        "# kpi1, kpi2, kpi3 = st.columns(3) # create 3 placeholders\n",
        "# if uploaded_file is not None:\n",
        "    \n",
        "#     aov = np.mean(df['total_sales'])\n",
        "#     aov_goal = 95.00\n",
        "#     kpi1.metric(\n",
        "#         # label the metric\n",
        "#         label=\"AOV\", \n",
        "#         # calculate the metric value\n",
        "#         value=f\"$ {round(aov,2)}\",\n",
        "#         # calculate the change compared with the goal (arrow up/down)\n",
        "#         delta=f\"-${round(aov_goal-aov,2)}\" if aov_goal>aov else f\"${round(aov-aov_goal,2)}\",\n",
        "#     )\n",
        "\n",
        "#     nc = np.mean(df.loc[df['customer_type']=='First-time'].groupby(['day']).count()['customer_id'])\n",
        "#     nc_goal = 30\n",
        "#     kpi2.metric(\n",
        "#         label=\"New customers/day\",\n",
        "#         value=int(nc),\n",
        "#         delta=f\"-{round((nc_goal-nc)/nc_goal*100,2)}%\" if nc_goal>nc else f\"{round((nc - nc_goal)/nc_goal*100,0)}%\",\n",
        "#     )\n",
        "\n",
        "#     rc = np.mean(df.loc[df['customer_type']=='Returning'].groupby(['day']).count()['customer_id'])\n",
        "#     rc_goal = 250\n",
        "#     kpi3.metric(\n",
        "#         label=\"Returning customers/day\",\n",
        "#         value= int(rc),\n",
        "#         delta=f\"-{round((rc_goal - rc)/rc_goal*100,2)}%\" if rc_goal>rc else f\"{round((rc-rc_goal)/rc_goal*100,2)}%\"\n",
        "#     )"
      ],
      "metadata": {
        "id": "vFdTFQsfRShn"
      },
      "execution_count": 2,
      "outputs": []
    },
    {
      "cell_type": "markdown",
      "source": [
        "# 3. Run the file on terminal to show on local machine\n",
        "```\n",
        "streamlit run cohort-demo.py\n",
        "```"
      ],
      "metadata": {
        "id": "q_MCLuG_RnHj"
      }
    },
    {
      "cell_type": "markdown",
      "source": [
        "# 4. Deploy the dashboard on Heroku\n"
      ],
      "metadata": {
        "id": "jhYsFa-xRhLB"
      }
    },
    {
      "cell_type": "markdown",
      "source": [
        "```\n",
        "# requirements.txt \n",
        "# just simply list down all the libraries. You can include the version too\n",
        "pandas\n",
        "numpy\n",
        "streamlit\n",
        "matplotlib\n",
        "seaborn\n",
        "datetime\n",
        "plotly\n",
        "\n",
        "# setup.sh\n",
        "# just copy and paste this\n",
        "mkdir -p ~/.streamlit/\n",
        "echo \"\\\n",
        "[server]\\n\\\n",
        "headless = true\\n\\\n",
        "port = $PORT\\n\\\n",
        "enableCORS = false\\n\\\n",
        "\\n\\\n",
        "\" > ~/.streamlit/config.toml\n",
        "\n",
        "# Procfile\n",
        "web: sh setup.sh && streamlit run cohort-demo.py\n",
        "\n",
        "```"
      ],
      "metadata": {
        "id": "66ZWOuShRqsX"
      }
    },
    {
      "cell_type": "code",
      "source": [],
      "metadata": {
        "id": "bdsNQ8rZRT1K"
      },
      "execution_count": 2,
      "outputs": []
    },
    {
      "cell_type": "code",
      "source": [],
      "metadata": {
        "id": "QMRQ6iIYRZu-"
      },
      "execution_count": 2,
      "outputs": []
    }
  ]
}