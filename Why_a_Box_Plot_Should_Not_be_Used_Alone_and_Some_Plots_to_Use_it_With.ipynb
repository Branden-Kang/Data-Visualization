{
  "nbformat": 4,
  "nbformat_minor": 0,
  "metadata": {
    "colab": {
      "provenance": [],
      "authorship_tag": "ABX9TyM5R93d2NmxtKBSKnXn1mNq"
    },
    "kernelspec": {
      "name": "python3",
      "display_name": "Python 3"
    },
    "language_info": {
      "name": "python"
    }
  },
  "cells": [
    {
      "cell_type": "markdown",
      "source": [
        "[Reference](https://towardsdatascience.com/why-a-box-plot-should-not-be-used-alone-and-some-plots-to-use-it-with-23381f7e3cb6)"
      ],
      "metadata": {
        "id": "jrv7lkHQh_OU"
      }
    },
    {
      "cell_type": "code",
      "execution_count": 1,
      "metadata": {
        "id": "3UIFDcs-hYd6"
      },
      "outputs": [],
      "source": [
        "import numpy as np\n",
        "import pandas as pd\n",
        "import matplotlib.pyplot as plt\n",
        "import seaborn as sns\n",
        "\n",
        "%matplotlib inline"
      ]
    },
    {
      "cell_type": "code",
      "source": [
        "mu, sigma = 0, 1 #mean and standard deviation\n",
        "s1_pre = np.random.normal(mu, sigma, size=5000)\n",
        "s1 = [i for i in s1_pre if i<2.6 and i>-2.6]"
      ],
      "metadata": {
        "id": "toOkCTQxiCw_"
      },
      "execution_count": 2,
      "outputs": []
    },
    {
      "cell_type": "code",
      "source": [
        "#defnie a function\n",
        "def pair_sum(input_):\n",
        "    input_.sort()\n",
        "    if len(input_)%2 == 0:\n",
        "        loc = [i for i in range(len(input_)) if i%2 == 0]\n",
        "        output = [input_[l] + input_[len(input_)-(l+1)] for l in loc]\n",
        "    else:\n",
        "        loc = [i for i in range(len(input_)) if i%2 == 0]\n",
        "        output = [input_[l] + input_[len(input_)-(l+1)] for l in loc[0:-1]]\n",
        "        output.append(input_[-1])\n",
        "    return output\n",
        "\n",
        "#bimodal distribution with gaps\n",
        "s2_out, s2_sub1, s2_sub2 = [], [], []\n",
        "for i in s1:\n",
        "    if i>0.05 and i<0.6:\n",
        "        s2_sub1.append(i)\n",
        "    elif i<-0.05 and i>-0.6:\n",
        "        s2_sub2.append(i)\n",
        "    else:\n",
        "        s2_out.append(i)\n",
        "        \n",
        "sub1_mod = pair_sum(s2_sub1)\n",
        "sub2_mod = pair_sum(s2_sub2)\n",
        "s2 = s2_out + sub1_mod*2 + sub2_mod*2\n",
        "\n",
        "#distribution with gaps\n",
        "s3_out, s3_sub = [], []\n",
        "for i in s1:\n",
        "    if i>-0.4 and i<0.4:\n",
        "        s3_sub.append(i)\n",
        "    else:\n",
        "        s3_out.append(i)\n",
        "        \n",
        "sub3 = pair_sum(s3_sub)\n",
        "s3 = s3_out + sub3*2"
      ],
      "metadata": {
        "id": "sigs8yuNiC5_"
      },
      "execution_count": 3,
      "outputs": []
    },
    {
      "cell_type": "code",
      "source": [
        "c_list = ['#1a936f', '#F77F05', '#D62829']\n",
        "\n",
        "n = 25\n",
        "f, axes = plt.subplots(3, 2 ,figsize=(12,5))\n",
        "ax1=sns.boxplot(s1,ax= axes[0,0],color= c_list[0],boxprops= dict(alpha=.9))\n",
        "ax2=sns.boxplot(s2,ax= axes[1,0],color= c_list[1],boxprops= dict(alpha=.9))\n",
        "ax3=sns.boxplot(s3,ax= axes[2,0],color= c_list[2],boxprops= dict(alpha=.9))\n",
        "\n",
        "ax4=sns.histplot(s1, bins=n, ax=axes[0,1], color=c_list[0])\n",
        "ax5=sns.histplot(s2, bins=n, ax=axes[1,1], color=c_list[1])\n",
        "ax6=sns.histplot(s3, bins=n, ax=axes[2,1], color=c_list[2])\n",
        "\n",
        "ax4.set(ylabel=None, yticklabels=[])\n",
        "ax5.set(ylabel=None, yticklabels=[])\n",
        "ax6.set(ylabel=None, yticklabels=[])\n",
        "plt.show()"
      ],
      "metadata": {
        "colab": {
          "base_uri": "https://localhost:8080/",
          "height": 416
        },
        "id": "uXqKOZuGiEoF",
        "outputId": "6b0d4dff-6bc4-4880-b33b-ab8f8d89f29a"
      },
      "execution_count": 4,
      "outputs": [
        {
          "output_type": "stream",
          "name": "stderr",
          "text": [
            "/usr/local/lib/python3.8/dist-packages/seaborn/_decorators.py:36: FutureWarning: Pass the following variable as a keyword arg: x. From version 0.12, the only valid positional argument will be `data`, and passing other arguments without an explicit keyword will result in an error or misinterpretation.\n",
            "  warnings.warn(\n",
            "/usr/local/lib/python3.8/dist-packages/seaborn/_decorators.py:36: FutureWarning: Pass the following variable as a keyword arg: x. From version 0.12, the only valid positional argument will be `data`, and passing other arguments without an explicit keyword will result in an error or misinterpretation.\n",
            "  warnings.warn(\n",
            "/usr/local/lib/python3.8/dist-packages/seaborn/_decorators.py:36: FutureWarning: Pass the following variable as a keyword arg: x. From version 0.12, the only valid positional argument will be `data`, and passing other arguments without an explicit keyword will result in an error or misinterpretation.\n",
            "  warnings.warn(\n"
          ]
        },
        {
          "output_type": "display_data",
          "data": {
            "text/plain": [
              "<Figure size 864x360 with 6 Axes>"
            ],
            "image/png": "[encoded data removed]"
          },
          "metadata": {
            "needs_background": "light"
          }
        }
      ]
    },
    {
      "cell_type": "code",
      "source": [
        "bins1 = pd.cut(s1, bins=n, labels=False)\n",
        "bins2 = pd.cut(s2, bins=n, labels=False)\n",
        "bins3 = pd.cut(s3, bins=n, labels=False)\n",
        "\n",
        "df1 = pd.DataFrame(zip(s1, bins1), columns=['v1','bins'])\n",
        "df2 = pd.DataFrame(zip(s2, bins2), columns=['v2','bins'])\n",
        "df3 = pd.DataFrame(zip(s3, bins3), columns=['v3','bins'])\n",
        "\n",
        "df1_m = pd.melt(df1, id_vars=['bins'],value_vars=['v1'])\n",
        "df2_m = pd.melt(df2, id_vars=['bins'],value_vars=['v2'])\n",
        "df3_m = pd.melt(df3, id_vars=['bins'],value_vars=['v3'])\n",
        "\n",
        "df = pd.concat([df1_m, df2_m, df3_m])\n",
        "df.head()"
      ],
      "metadata": {
        "colab": {
          "base_uri": "https://localhost:8080/",
          "height": 204
        },
        "id": "pfoCA9b6iFzV",
        "outputId": "00639e02-1aa3-45f2-e178-59427e9ca245"
      },
      "execution_count": 5,
      "outputs": [
        {
          "output_type": "execute_result",
          "data": {
            "text/plain": [
              "   bins variable     value\n",
              "0    12       v1  0.042012\n",
              "1     6       v1 -1.276512\n",
              "2    10       v1 -0.408959\n",
              "3    13       v1  0.205893\n",
              "4    14       v1  0.470144"
            ],
            "text/html": [
              "\n",
              "  <div id=\"df-e7e7aa9a-db2f-4cbd-9d55-1023a922473a\">\n",
              "    <div class=\"colab-df-container\">\n",
              "      <div>\n",
              "<style scoped>\n",
              "    .dataframe tbody tr th:only-of-type {\n",
              "        vertical-align: middle;\n",
              "    }\n",
              "\n",
              "    .dataframe tbody tr th {\n",
              "        vertical-align: top;\n",
              "    }\n",
              "\n",
              "    .dataframe thead th {\n",
              "        text-align: right;\n",
              "    }\n",
              "</style>\n",
              "<table border=\"1\" class=\"dataframe\">\n",
              "  <thead>\n",
              "    <tr style=\"text-align: right;\">\n",
              "      <th></th>\n",
              "      <th>bins</th>\n",
              "      <th>variable</th>\n",
              "      <th>value</th>\n",
              "    </tr>\n",
              "  </thead>\n",
              "  <tbody>\n",
              "    <tr>\n",
              "      <th>0</th>\n",
              "      <td>12</td>\n",
              "      <td>v1</td>\n",
              "      <td>0.042012</td>\n",
              "    </tr>\n",
              "    <tr>\n",
              "      <th>1</th>\n",
              "      <td>6</td>\n",
              "      <td>v1</td>\n",
              "      <td>-1.276512</td>\n",
              "    </tr>\n",
              "    <tr>\n",
              "      <th>2</th>\n",
              "      <td>10</td>\n",
              "      <td>v1</td>\n",
              "      <td>-0.408959</td>\n",
              "    </tr>\n",
              "    <tr>\n",
              "      <th>3</th>\n",
              "      <td>13</td>\n",
              "      <td>v1</td>\n",
              "      <td>0.205893</td>\n",
              "    </tr>\n",
              "    <tr>\n",
              "      <th>4</th>\n",
              "      <td>14</td>\n",
              "      <td>v1</td>\n",
              "      <td>0.470144</td>\n",
              "    </tr>\n",
              "  </tbody>\n",
              "</table>\n",
              "</div>\n",
              "      <button class=\"colab-df-convert\" onclick=\"convertToInteractive('df-e7e7aa9a-db2f-4cbd-9d55-1023a922473a')\"\n",
              "              title=\"Convert this dataframe to an interactive table.\"\n",
              "              style=\"display:none;\">\n",
              "        \n",
              "  <svg xmlns=\"http://www.w3.org/2000/svg\" height=\"24px\"viewBox=\"0 0 24 24\"\n",
              "       width=\"24px\">\n",
              "    <path d=\"M0 0h24v24H0V0z\" fill=\"none\"/>\n",
              "    <path d=\"M18.56 5.44l.94 2.06.94-2.06 2.06-.94-2.06-.94-.94-2.06-.94 2.06-2.06.94zm-11 1L8.5 8.5l.94-2.06 2.06-.94-2.06-.94L8.5 2.5l-.94 2.06-2.06.94zm10 10l.94 2.06.94-2.06 2.06-.94-2.06-.94-.94-2.06-.94 2.06-2.06.94z\"/><path d=\"M17.41 7.96l-1.37-1.37c-.4-.4-.92-.59-1.43-.59-.52 0-1.04.2-1.43.59L10.3 9.45l-7.72 7.72c-.78.78-.78 2.05 0 2.83L4 21.41c.39.39.9.59 1.41.59.51 0 1.02-.2 1.41-.59l7.78-7.78 2.81-2.81c.8-.78.8-2.07 0-2.86zM5.41 20L4 18.59l7.72-7.72 1.47 1.35L5.41 20z\"/>\n",
              "  </svg>\n",
              "      </button>\n",
              "      \n",
              "  <style>\n",
              "    .colab-df-container {\n",
              "      display:flex;\n",
              "      flex-wrap:wrap;\n",
              "      gap: 12px;\n",
              "    }\n",
              "\n",
              "    .colab-df-convert {\n",
              "      background-color: #E8F0FE;\n",
              "      border: none;\n",
              "      border-radius: 50%;\n",
              "      cursor: pointer;\n",
              "      display: none;\n",
              "      fill: #1967D2;\n",
              "      height: 32px;\n",
              "      padding: 0 0 0 0;\n",
              "      width: 32px;\n",
              "    }\n",
              "\n",
              "    .colab-df-convert:hover {\n",
              "      background-color: #E2EBFA;\n",
              "      box-shadow: 0px 1px 2px rgba(60, 64, 67, 0.3), 0px 1px 3px 1px rgba(60, 64, 67, 0.15);\n",
              "      fill: #174EA6;\n",
              "    }\n",
              "\n",
              "    [theme=dark] .colab-df-convert {\n",
              "      background-color: #3B4455;\n",
              "      fill: #D2E3FC;\n",
              "    }\n",
              "\n",
              "    [theme=dark] .colab-df-convert:hover {\n",
              "      background-color: #434B5C;\n",
              "      box-shadow: 0px 1px 3px 1px rgba(0, 0, 0, 0.15);\n",
              "      filter: drop-shadow(0px 1px 2px rgba(0, 0, 0, 0.3));\n",
              "      fill: #FFFFFF;\n",
              "    }\n",
              "  </style>\n",
              "\n",
              "      <script>\n",
              "        const buttonEl =\n",
              "          document.querySelector('#df-e7e7aa9a-db2f-4cbd-9d55-1023a922473a button.colab-df-convert');\n",
              "        buttonEl.style.display =\n",
              "          google.colab.kernel.accessAllowed ? 'block' : 'none';\n",
              "\n",
              "        async function convertToInteractive(key) {\n",
              "          const element = document.querySelector('#df-e7e7aa9a-db2f-4cbd-9d55-1023a922473a');\n",
              "          const dataTable =\n",
              "            await google.colab.kernel.invokeFunction('convertToInteractive',\n",
              "                                                     [key], {});\n",
              "          if (!dataTable) return;\n",
              "\n",
              "          const docLinkHtml = 'Like what you see? Visit the ' +\n",
              "            '<a target=\"_blank\" href=https://colab.research.google.com/notebooks/data_table.ipynb>data table notebook</a>'\n",
              "            + ' to learn more about interactive tables.';\n",
              "          element.innerHTML = '';\n",
              "          dataTable['output_type'] = 'display_data';\n",
              "          await google.colab.output.renderOutput(dataTable, element);\n",
              "          const docLink = document.createElement('div');\n",
              "          docLink.innerHTML = docLinkHtml;\n",
              "          element.appendChild(docLink);\n",
              "        }\n",
              "      </script>\n",
              "    </div>\n",
              "  </div>\n",
              "  "
            ]
          },
          "metadata": {},
          "execution_count": 5
        }
      ]
    }
  ]
}