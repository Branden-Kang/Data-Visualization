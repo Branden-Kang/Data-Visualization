{
  "nbformat": 4,
  "nbformat_minor": 0,
  "metadata": {
    "colab": {
      "name": "Drawing DAG.ipynb",
      "provenance": [],
      "authorship_tag": "ABX9TyPZZgDbkw9DASXoCULJxv7Y"
    },
    "kernelspec": {
      "name": "python3",
      "display_name": "Python 3"
    },
    "language_info": {
      "name": "python"
    }
  },
  "cells": [
    {
      "cell_type": "markdown",
      "metadata": {
        "id": "LWnB74gLBkIA"
      },
      "source": [
        "[Reference](https://wimyedema.medium.com/drawing-dags-5cadcb452115)"
      ]
    },
    {
      "cell_type": "code",
      "metadata": {
        "colab": {
          "base_uri": "https://localhost:8080/"
        },
        "id": "5igBbDomA6da",
        "outputId": "462b1564-0688-4a99-c38e-511524d8fafd"
      },
      "source": [
        "pip install dagviz"
      ],
      "execution_count": 1,
      "outputs": [
        {
          "output_type": "stream",
          "name": "stdout",
          "text": [
            "Collecting dagviz\n",
            "  Downloading dagviz-0.3.0-py3-none-any.whl (14 kB)\n",
            "Collecting svgwrite<2.0.0,>=1.4.1\n",
            "  Downloading svgwrite-1.4.1-py3-none-any.whl (66 kB)\n",
            "\u001b[K     |████████████████████████████████| 66 kB 4.8 MB/s \n",
            "\u001b[?25hCollecting importlib-metadata<2.0,>=1.0\n",
            "  Downloading importlib_metadata-1.7.0-py2.py3-none-any.whl (31 kB)\n",
            "Requirement already satisfied: networkx<3.0.0,>=2.5.1 in /usr/local/lib/python3.7/dist-packages (from dagviz) (2.6.3)\n",
            "Requirement already satisfied: zipp>=0.5 in /usr/local/lib/python3.7/dist-packages (from importlib-metadata<2.0,>=1.0->dagviz) (3.6.0)\n",
            "Installing collected packages: svgwrite, importlib-metadata, dagviz\n",
            "  Attempting uninstall: importlib-metadata\n",
            "    Found existing installation: importlib-metadata 4.8.2\n",
            "    Uninstalling importlib-metadata-4.8.2:\n",
            "      Successfully uninstalled importlib-metadata-4.8.2\n",
            "\u001b[31mERROR: pip's dependency resolver does not currently take into account all the packages that are installed. This behaviour is the source of the following dependency conflicts.\n",
            "markdown 3.3.6 requires importlib-metadata>=4.4; python_version < \"3.10\", but you have importlib-metadata 1.7.0 which is incompatible.\u001b[0m\n",
            "Successfully installed dagviz-0.3.0 importlib-metadata-1.7.0 svgwrite-1.4.1\n"
          ]
        }
      ]
    },
    {
      "cell_type": "code",
      "metadata": {
        "id": "_HFWwyaPPs7c"
      },
      "source": [
        "import dagviz\n",
        "import networkx as nx\n",
        "\n",
        "G = nx.DiGraph()\n",
        "for i in range(5):\n",
        "    G.add_node(f\"n{i}\")\n",
        "\n",
        "G.add_edge(\"n0\", \"n1\")\n",
        "G.add_edge(\"n0\", \"n2\")\n",
        "G.add_edge(\"n0\", \"n4\")\n",
        "G.add_edge(\"n1\", \"n3\")\n",
        "G.add_edge(\"n2\", \"n3\")\n",
        "G.add_edge(\"n3\", \"n4\")\n",
        "r = dagviz.render_svg(G)"
      ],
      "execution_count": 2,
      "outputs": []
    }
  ]
}