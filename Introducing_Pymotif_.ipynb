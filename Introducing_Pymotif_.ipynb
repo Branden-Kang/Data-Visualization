{
  "nbformat": 4,
  "nbformat_minor": 0,
  "metadata": {
    "colab": {
      "name": "Introducing Pymotif .ipynb",
      "provenance": [],
      "authorship_tag": "ABX9TyOxOVrAfzRQvuml3mZUVqk/"
    },
    "kernelspec": {
      "name": "python3",
      "display_name": "Python 3"
    },
    "language_info": {
      "name": "python"
    },
    "widgets": {
      "application/vnd.jupyter.widget-state+json": {
        "d4b720869e4d47c297402c107ebf0673": {
          "model_module": "@cylynx/pymotif",
          "model_name": "MotifModel",
          "model_module_version": "^0.0.4",
          "state": {
            "_view_name": "MotifView",
            "_dom_classes": [],
            "_model_name": "MotifModel",
            "_view_module": "@cylynx/pymotif",
            "_model_module_version": "^0.0.4",
            "_view_count": null,
            "_view_module_version": "^0.0.4",
            "state": {
              "style": {},
              "data": []
            },
            "layout": "IPY_MODEL_5ab445082ea24ed5a1832715a13e50c1",
            "_model_module": "@cylynx/pymotif"
          }
        },
        "31fb61945e244778ae56cb6ffe01364a": {
          "model_module": "@cylynx/pymotif",
          "model_name": "MotifModel",
          "model_module_version": "^0.0.4",
          "state": {
            "_view_name": "MotifView",
            "_dom_classes": [],
            "_model_name": "MotifModel",
            "_view_module": "@cylynx/pymotif",
            "_model_module_version": "^0.0.4",
            "_view_count": null,
            "_view_module_version": "^0.0.4",
            "state": {
              "style": {},
              "data": [
                {
                  "nodes": [
                    {
                      "id": "COO",
                      "value": "COO",
                      "name": "COO"
                    },
                    {
                      "id": "CEO",
                      "value": "CEO",
                      "name": "CEO"
                    },
                    {
                      "id": "CFO",
                      "value": "CFO",
                      "name": "CFO"
                    },
                    {
                      "id": "CTO",
                      "value": "CTO",
                      "name": "CTO"
                    },
                    {
                      "id": "Head of Accounting",
                      "value": "Head of Accounting",
                      "name": "Head of Accounting"
                    },
                    {
                      "id": "Head of Legal",
                      "value": "Head of Legal",
                      "name": "Head of Legal"
                    },
                    {
                      "id": "Director of Marketing",
                      "value": "Director of Marketing",
                      "name": "Director of Marketing"
                    },
                    {
                      "id": "Director of Sales",
                      "value": "Director of Sales",
                      "name": "Director of Sales"
                    },
                    {
                      "id": "Director of Engineering",
                      "value": "Director of Engineering",
                      "name": "Director of Engineering"
                    },
                    {
                      "id": "Marketeer 1",
                      "value": "Marketeer 1",
                      "name": "Marketeer 1"
                    },
                    {
                      "id": "Marketeer 2",
                      "value": "Marketeer 2",
                      "name": "Marketeer 2"
                    },
                    {
                      "id": "Marketeer 3",
                      "value": "Marketeer 3",
                      "name": "Marketeer 3"
                    },
                    {
                      "id": "Salesperson 1",
                      "value": "Salesperson 1",
                      "name": "Salesperson 1"
                    },
                    {
                      "id": "Salesperson 2",
                      "value": "Salesperson 2",
                      "name": "Salesperson 2"
                    },
                    {
                      "id": "Salesperson 3",
                      "value": "Salesperson 3",
                      "name": "Salesperson 3"
                    },
                    {
                      "id": "Engineer 1",
                      "value": "Engineer 1",
                      "name": "Engineer 1"
                    },
                    {
                      "id": "Engineer 2",
                      "value": "Engineer 2",
                      "name": "Engineer 2"
                    },
                    {
                      "id": "Engineer 3",
                      "value": "Engineer 3",
                      "name": "Engineer 3"
                    },
                    {
                      "id": "Lawyer 1",
                      "value": "Lawyer 1",
                      "name": "Lawyer 1"
                    },
                    {
                      "id": "Lawyer 2",
                      "value": "Lawyer 2",
                      "name": "Lawyer 2"
                    },
                    {
                      "id": "Lawyer 3",
                      "value": "Lawyer 3",
                      "name": "Lawyer 3"
                    },
                    {
                      "id": "Accountant 1",
                      "value": "Accountant 1",
                      "name": "Accountant 1"
                    },
                    {
                      "id": "Accountant 2",
                      "value": "Accountant 2",
                      "name": "Accountant 2"
                    },
                    {
                      "id": "Accountant 3",
                      "value": "Accountant 3",
                      "name": "Accountant 3"
                    }
                  ],
                  "edges": [
                    {
                      "source": "COO",
                      "relation": "reports to",
                      "target": "CEO",
                      "key": 0
                    },
                    {
                      "source": "CFO",
                      "relation": "reports to",
                      "target": "CEO",
                      "key": 0
                    },
                    {
                      "source": "CTO",
                      "relation": "reports to",
                      "target": "CEO",
                      "key": 0
                    },
                    {
                      "source": "Head of Accounting",
                      "relation": "reports to",
                      "target": "CFO",
                      "key": 0
                    },
                    {
                      "source": "Head of Legal",
                      "relation": "reports to",
                      "target": "COO",
                      "key": 0
                    },
                    {
                      "source": "Director of Marketing",
                      "relation": "reports to",
                      "target": "COO",
                      "key": 0
                    },
                    {
                      "source": "Director of Sales",
                      "relation": "reports to",
                      "target": "COO",
                      "key": 0
                    },
                    {
                      "source": "Director of Engineering",
                      "relation": "reports to",
                      "target": "CTO",
                      "key": 0
                    },
                    {
                      "source": "Marketeer 1",
                      "relation": "reports to",
                      "target": "Director of Marketing",
                      "key": 0
                    },
                    {
                      "source": "Marketeer 2",
                      "relation": "reports to",
                      "target": "Director of Marketing",
                      "key": 0
                    },
                    {
                      "source": "Marketeer 3",
                      "relation": "reports to",
                      "target": "Director of Marketing",
                      "key": 0
                    },
                    {
                      "source": "Salesperson 1",
                      "relation": "reports to",
                      "target": "Director of Sales",
                      "key": 0
                    },
                    {
                      "source": "Salesperson 2",
                      "relation": "reports to",
                      "target": "Director of Sales",
                      "key": 0
                    },
                    {
                      "source": "Salesperson 3",
                      "relation": "reports to",
                      "target": "Director of Sales",
                      "key": 0
                    },
                    {
                      "source": "Engineer 1",
                      "relation": "reports to",
                      "target": "Director of Engineering",
                      "key": 0
                    },
                    {
                      "source": "Engineer 2",
                      "relation": "reports to",
                      "target": "Director of Engineering",
                      "key": 0
                    },
                    {
                      "source": "Engineer 3",
                      "relation": "reports to",
                      "target": "Director of Engineering",
                      "key": 0
                    },
                    {
                      "source": "Lawyer 1",
                      "relation": "reports to",
                      "target": "Head of Legal",
                      "key": 0
                    },
                    {
                      "source": "Lawyer 2",
                      "relation": "reports to",
                      "target": "Head of Legal",
                      "key": 0
                    },
                    {
                      "source": "Lawyer 3",
                      "relation": "reports to",
                      "target": "Head of Legal",
                      "key": 0
                    },
                    {
                      "source": "Accountant 1",
                      "relation": "reports to",
                      "target": "Head of Accounting",
                      "key": 0
                    },
                    {
                      "source": "Accountant 2",
                      "relation": "reports to",
                      "target": "Head of Accounting",
                      "key": 0
                    },
                    {
                      "source": "Accountant 3",
                      "relation": "reports to",
                      "target": "Head of Accounting",
                      "key": 0
                    }
                  ]
                }
              ]
            },
            "layout": "IPY_MODEL_cd76e1881be641629d0f9556d8d39f7f",
            "_model_module": "@cylynx/pymotif"
          }
        }
      }
    }
  },
  "cells": [
    {
      "cell_type": "markdown",
      "metadata": {
        "id": "mCsOyzzabUoS"
      },
      "source": [
        "[Reference](https://medium.com/cylynx/introducing-pymotif-194c74faceae)"
      ]
    },
    {
      "cell_type": "code",
      "metadata": {
        "colab": {
          "base_uri": "https://localhost:8080/",
          "height": 1000
        },
        "id": "EsHPaqfgakYL",
        "outputId": "c2184a46-3e82-413f-83b2-d7564bf489fa"
      },
      "source": [
        "!pip install pymotif"
      ],
      "execution_count": 1,
      "outputs": [
        {
          "output_type": "stream",
          "text": [
            "Collecting pymotif\n",
            "  Downloading pymotif-0.0.4-py2.py3-none-any.whl (14.6 MB)\n",
            "\u001b[K     |████████████████████████████████| 14.6 MB 26 kB/s \n",
            "\u001b[?25hCollecting neo4j>=4.3.1\n",
            "  Downloading neo4j-4.3.4.tar.gz (75 kB)\n",
            "\u001b[K     |████████████████████████████████| 75 kB 4.0 MB/s \n",
            "\u001b[?25hRequirement already satisfied: ipywidgets>=7.0.0 in /usr/local/lib/python3.7/dist-packages (from pymotif) (7.6.3)\n",
            "Requirement already satisfied: networkx>=2.5.1 in /usr/local/lib/python3.7/dist-packages (from pymotif) (2.6.2)\n",
            "Collecting pandas>=1.2.4\n",
            "  Downloading pandas-1.3.2-cp37-cp37m-manylinux_2_17_x86_64.manylinux2014_x86_64.whl (11.3 MB)\n",
            "\u001b[K     |████████████████████████████████| 11.3 MB 55.6 MB/s \n",
            "\u001b[?25hRequirement already satisfied: ipykernel>=4.5.1 in /usr/local/lib/python3.7/dist-packages (from ipywidgets>=7.0.0->pymotif) (4.10.1)\n",
            "Requirement already satisfied: ipython>=4.0.0 in /usr/local/lib/python3.7/dist-packages (from ipywidgets>=7.0.0->pymotif) (5.5.0)\n",
            "Requirement already satisfied: widgetsnbextension~=3.5.0 in /usr/local/lib/python3.7/dist-packages (from ipywidgets>=7.0.0->pymotif) (3.5.1)\n",
            "Requirement already satisfied: nbformat>=4.2.0 in /usr/local/lib/python3.7/dist-packages (from ipywidgets>=7.0.0->pymotif) (5.1.3)\n",
            "Requirement already satisfied: jupyterlab-widgets>=1.0.0 in /usr/local/lib/python3.7/dist-packages (from ipywidgets>=7.0.0->pymotif) (1.0.0)\n",
            "Requirement already satisfied: traitlets>=4.3.1 in /usr/local/lib/python3.7/dist-packages (from ipywidgets>=7.0.0->pymotif) (5.0.5)\n",
            "Requirement already satisfied: tornado>=4.0 in /usr/local/lib/python3.7/dist-packages (from ipykernel>=4.5.1->ipywidgets>=7.0.0->pymotif) (5.1.1)\n",
            "Requirement already satisfied: jupyter-client in /usr/local/lib/python3.7/dist-packages (from ipykernel>=4.5.1->ipywidgets>=7.0.0->pymotif) (5.3.5)\n",
            "Requirement already satisfied: setuptools>=18.5 in /usr/local/lib/python3.7/dist-packages (from ipython>=4.0.0->ipywidgets>=7.0.0->pymotif) (57.2.0)\n",
            "Requirement already satisfied: pickleshare in /usr/local/lib/python3.7/dist-packages (from ipython>=4.0.0->ipywidgets>=7.0.0->pymotif) (0.7.5)\n",
            "Requirement already satisfied: prompt-toolkit<2.0.0,>=1.0.4 in /usr/local/lib/python3.7/dist-packages (from ipython>=4.0.0->ipywidgets>=7.0.0->pymotif) (1.0.18)\n",
            "Requirement already satisfied: simplegeneric>0.8 in /usr/local/lib/python3.7/dist-packages (from ipython>=4.0.0->ipywidgets>=7.0.0->pymotif) (0.8.1)\n",
            "Requirement already satisfied: pygments in /usr/local/lib/python3.7/dist-packages (from ipython>=4.0.0->ipywidgets>=7.0.0->pymotif) (2.6.1)\n",
            "Requirement already satisfied: decorator in /usr/local/lib/python3.7/dist-packages (from ipython>=4.0.0->ipywidgets>=7.0.0->pymotif) (4.4.2)\n",
            "Requirement already satisfied: pexpect in /usr/local/lib/python3.7/dist-packages (from ipython>=4.0.0->ipywidgets>=7.0.0->pymotif) (4.8.0)\n",
            "Requirement already satisfied: ipython-genutils in /usr/local/lib/python3.7/dist-packages (from nbformat>=4.2.0->ipywidgets>=7.0.0->pymotif) (0.2.0)\n",
            "Requirement already satisfied: jsonschema!=2.5.0,>=2.4 in /usr/local/lib/python3.7/dist-packages (from nbformat>=4.2.0->ipywidgets>=7.0.0->pymotif) (2.6.0)\n",
            "Requirement already satisfied: jupyter-core in /usr/local/lib/python3.7/dist-packages (from nbformat>=4.2.0->ipywidgets>=7.0.0->pymotif) (4.7.1)\n",
            "Requirement already satisfied: pytz in /usr/local/lib/python3.7/dist-packages (from neo4j>=4.3.1->pymotif) (2018.9)\n",
            "Requirement already satisfied: python-dateutil>=2.7.3 in /usr/local/lib/python3.7/dist-packages (from pandas>=1.2.4->pymotif) (2.8.2)\n",
            "Requirement already satisfied: numpy>=1.17.3 in /usr/local/lib/python3.7/dist-packages (from pandas>=1.2.4->pymotif) (1.19.5)\n",
            "Requirement already satisfied: wcwidth in /usr/local/lib/python3.7/dist-packages (from prompt-toolkit<2.0.0,>=1.0.4->ipython>=4.0.0->ipywidgets>=7.0.0->pymotif) (0.2.5)\n",
            "Requirement already satisfied: six>=1.9.0 in /usr/local/lib/python3.7/dist-packages (from prompt-toolkit<2.0.0,>=1.0.4->ipython>=4.0.0->ipywidgets>=7.0.0->pymotif) (1.15.0)\n",
            "Requirement already satisfied: notebook>=4.4.1 in /usr/local/lib/python3.7/dist-packages (from widgetsnbextension~=3.5.0->ipywidgets>=7.0.0->pymotif) (5.3.1)\n",
            "Requirement already satisfied: jinja2 in /usr/local/lib/python3.7/dist-packages (from notebook>=4.4.1->widgetsnbextension~=3.5.0->ipywidgets>=7.0.0->pymotif) (2.11.3)\n",
            "Requirement already satisfied: nbconvert in /usr/local/lib/python3.7/dist-packages (from notebook>=4.4.1->widgetsnbextension~=3.5.0->ipywidgets>=7.0.0->pymotif) (5.6.1)\n",
            "Requirement already satisfied: terminado>=0.8.1 in /usr/local/lib/python3.7/dist-packages (from notebook>=4.4.1->widgetsnbextension~=3.5.0->ipywidgets>=7.0.0->pymotif) (0.10.1)\n",
            "Requirement already satisfied: Send2Trash in /usr/local/lib/python3.7/dist-packages (from notebook>=4.4.1->widgetsnbextension~=3.5.0->ipywidgets>=7.0.0->pymotif) (1.8.0)\n",
            "Requirement already satisfied: pyzmq>=13 in /usr/local/lib/python3.7/dist-packages (from jupyter-client->ipykernel>=4.5.1->ipywidgets>=7.0.0->pymotif) (22.2.1)\n",
            "Requirement already satisfied: ptyprocess in /usr/local/lib/python3.7/dist-packages (from terminado>=0.8.1->notebook>=4.4.1->widgetsnbextension~=3.5.0->ipywidgets>=7.0.0->pymotif) (0.7.0)\n",
            "Requirement already satisfied: MarkupSafe>=0.23 in /usr/local/lib/python3.7/dist-packages (from jinja2->notebook>=4.4.1->widgetsnbextension~=3.5.0->ipywidgets>=7.0.0->pymotif) (2.0.1)\n",
            "Requirement already satisfied: entrypoints>=0.2.2 in /usr/local/lib/python3.7/dist-packages (from nbconvert->notebook>=4.4.1->widgetsnbextension~=3.5.0->ipywidgets>=7.0.0->pymotif) (0.3)\n",
            "Requirement already satisfied: defusedxml in /usr/local/lib/python3.7/dist-packages (from nbconvert->notebook>=4.4.1->widgetsnbextension~=3.5.0->ipywidgets>=7.0.0->pymotif) (0.7.1)\n",
            "Requirement already satisfied: testpath in /usr/local/lib/python3.7/dist-packages (from nbconvert->notebook>=4.4.1->widgetsnbextension~=3.5.0->ipywidgets>=7.0.0->pymotif) (0.5.0)\n",
            "Requirement already satisfied: pandocfilters>=1.4.1 in /usr/local/lib/python3.7/dist-packages (from nbconvert->notebook>=4.4.1->widgetsnbextension~=3.5.0->ipywidgets>=7.0.0->pymotif) (1.4.3)\n",
            "Requirement already satisfied: mistune<2,>=0.8.1 in /usr/local/lib/python3.7/dist-packages (from nbconvert->notebook>=4.4.1->widgetsnbextension~=3.5.0->ipywidgets>=7.0.0->pymotif) (0.8.4)\n",
            "Requirement already satisfied: bleach in /usr/local/lib/python3.7/dist-packages (from nbconvert->notebook>=4.4.1->widgetsnbextension~=3.5.0->ipywidgets>=7.0.0->pymotif) (4.0.0)\n",
            "Requirement already satisfied: webencodings in /usr/local/lib/python3.7/dist-packages (from bleach->nbconvert->notebook>=4.4.1->widgetsnbextension~=3.5.0->ipywidgets>=7.0.0->pymotif) (0.5.1)\n",
            "Requirement already satisfied: packaging in /usr/local/lib/python3.7/dist-packages (from bleach->nbconvert->notebook>=4.4.1->widgetsnbextension~=3.5.0->ipywidgets>=7.0.0->pymotif) (21.0)\n",
            "Requirement already satisfied: pyparsing>=2.0.2 in /usr/local/lib/python3.7/dist-packages (from packaging->bleach->nbconvert->notebook>=4.4.1->widgetsnbextension~=3.5.0->ipywidgets>=7.0.0->pymotif) (2.4.7)\n",
            "Building wheels for collected packages: neo4j\n",
            "  Building wheel for neo4j (setup.py) ... \u001b[?25l\u001b[?25hdone\n",
            "  Created wheel for neo4j: filename=neo4j-4.3.4-py3-none-any.whl size=100144 sha256=b2aee13929a574a23a9c4047931d0e3d706f9124f79a3ff418d67f638ad0da67\n",
            "  Stored in directory: /root/.cache/pip/wheels/9e/fa/ce/bbf420c42d1945078fd5b4c6bc7e5262cff31461bad7de0bf9\n",
            "Successfully built neo4j\n",
            "Installing collected packages: pandas, neo4j, pymotif\n",
            "  Attempting uninstall: pandas\n",
            "    Found existing installation: pandas 1.1.5\n",
            "    Uninstalling pandas-1.1.5:\n",
            "      Successfully uninstalled pandas-1.1.5\n",
            "\u001b[31mERROR: pip's dependency resolver does not currently take into account all the packages that are installed. This behaviour is the source of the following dependency conflicts.\n",
            "google-colab 1.0.0 requires pandas~=1.1.0; python_version >= \"3.0\", but you have pandas 1.3.2 which is incompatible.\u001b[0m\n",
            "Successfully installed neo4j-4.3.4 pandas-1.3.2 pymotif-0.0.4\n"
          ],
          "name": "stdout"
        },
        {
          "output_type": "display_data",
          "data": {
            "application/vnd.colab-display-data+json": {
              "pip_warning": {
                "packages": [
                  "pandas"
                ]
              }
            }
          },
          "metadata": {
            "tags": []
          }
        }
      ]
    },
    {
      "cell_type": "code",
      "metadata": {
        "colab": {
          "base_uri": "https://localhost:8080/",
          "height": 17,
          "referenced_widgets": [
            "d4b720869e4d47c297402c107ebf0673"
          ]
        },
        "id": "iDZoQgyBbX8h",
        "outputId": "f9c3902b-6749-4ada-9c7f-f18ee907804e"
      },
      "source": [
        "from pymotif import Motif\n",
        "motif = Motif()\n",
        "\n",
        "motif.plot()"
      ],
      "execution_count": 2,
      "outputs": [
        {
          "output_type": "display_data",
          "data": {
            "application/vnd.jupyter.widget-view+json": {
              "model_id": "d4b720869e4d47c297402c107ebf0673",
              "version_minor": 0,
              "version_major": 2
            },
            "text/plain": [
              "Motif(value=None, state={'data': [], 'style': {}})"
            ]
          },
          "metadata": {
            "tags": []
          }
        }
      ]
    },
    {
      "cell_type": "code",
      "metadata": {
        "colab": {
          "base_uri": "https://localhost:8080/",
          "height": 17,
          "referenced_widgets": [
            "31fb61945e244778ae56cb6ffe01364a"
          ]
        },
        "id": "FYmPz9YEbbC3",
        "outputId": "4d1038db-424e-4b3f-e712-f753905bf11c"
      },
      "source": [
        "org_chart = Motif(csv_path='https://gist.githubusercontent.com/jasonho-lynx/8c932d09a1e3655d088d1fdd8f5a90c9/raw/77022c16522480c4508d7cfb206bab11aaefc12f/org_chart.csv')\n",
        "org_chart.plot()"
      ],
      "execution_count": 3,
      "outputs": [
        {
          "output_type": "display_data",
          "data": {
            "application/vnd.jupyter.widget-view+json": {
              "model_id": "31fb61945e244778ae56cb6ffe01364a",
              "version_minor": 0,
              "version_major": 2
            },
            "text/plain": [
              "Motif(value=None, state={'data': [{'nodes': [{'id': 'COO', 'value': 'COO', 'name': 'COO'}, {'id': 'CEO', 'valu…"
            ]
          },
          "metadata": {
            "tags": []
          }
        }
      ]
    },
    {
      "cell_type": "code",
      "metadata": {
        "id": "UYUeFjcybvLV"
      },
      "source": [
        "import networkx as nx\n",
        "\n",
        "gml = 'https://raw.githubusercontent.com/cylynx/motif.gl/master/packages/pymotif/examples/data/karate.gml'\n",
        "\n",
        "nx_graph = nx.read_gml(gml)\n",
        "\n",
        "motif_nx = Motif(nx_graph=nx_graph, titile='NetworkX')\n",
        "motif_nx.plot()"
      ],
      "execution_count": 7,
      "outputs": []
    }
  ]
}