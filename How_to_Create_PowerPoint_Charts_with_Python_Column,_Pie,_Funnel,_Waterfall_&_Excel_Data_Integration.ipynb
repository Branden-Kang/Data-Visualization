{
  "nbformat": 4,
  "nbformat_minor": 0,
  "metadata": {
    "colab": {
      "provenance": [],
      "authorship_tag": "ABX9TyNYZBIyb2V9bpiLR7N1IXzf"
    },
    "kernelspec": {
      "name": "python3",
      "display_name": "Python 3"
    },
    "language_info": {
      "name": "python"
    }
  },
  "cells": [
    {
      "cell_type": "markdown",
      "source": [
        "[Reference](https://medium.com/@alice.yang_10652/how-to-create-powerpoint-charts-with-python-column-pie-funnel-waterfall-excel-data-098b33e739e6)"
      ],
      "metadata": {
        "id": "yVArrwb0jY1Z"
      }
    },
    {
      "cell_type": "code",
      "execution_count": 1,
      "metadata": {
        "colab": {
          "base_uri": "https://localhost:8080/"
        },
        "id": "380YJA_djXUA",
        "outputId": "3aa0732d-bca7-4e6a-da47-f87becb4de1c"
      },
      "outputs": [
        {
          "output_type": "stream",
          "name": "stdout",
          "text": [
            "Collecting spire.presentation\n",
            "  Downloading spire_presentation-10.7.1-py3-none-manylinux_2_31_x86_64.whl.metadata (8.4 kB)\n",
            "Collecting plum-dispatch==1.7.4 (from spire.presentation)\n",
            "  Downloading plum_dispatch-1.7.4-py3-none-any.whl.metadata (1.8 kB)\n",
            "Downloading spire_presentation-10.7.1-py3-none-manylinux_2_31_x86_64.whl (37.5 MB)\n",
            "\u001b[2K   \u001b[90m━━━━━━━━━━━━━━━━━━━━━━━━━━━━━━━━━━━━━━━━\u001b[0m \u001b[32m37.5/37.5 MB\u001b[0m \u001b[31m8.3 MB/s\u001b[0m eta \u001b[36m0:00:00\u001b[0m\n",
            "\u001b[?25hDownloading plum_dispatch-1.7.4-py3-none-any.whl (24 kB)\n",
            "Installing collected packages: plum-dispatch, spire.presentation\n",
            "Successfully installed plum-dispatch-1.7.4 spire.presentation-10.7.1\n"
          ]
        }
      ],
      "source": [
        "pip install spire.presentation"
      ]
    },
    {
      "cell_type": "markdown",
      "source": [
        "# Column Chart"
      ],
      "metadata": {
        "id": "OKHX-C6Oj98p"
      }
    },
    {
      "cell_type": "code",
      "source": [
        "from spire.presentation import *\n",
        "\n",
        "# Create a Presentation object\n",
        "presentation = Presentation()\n",
        "\n",
        "# Get the first slide\n",
        "slide = presentation.Slides[0]\n",
        "\n",
        "# Add a clustered column chart to the slide\n",
        "chart = slide.Shapes.AppendChart(ChartType.ColumnClustered, RectangleF.FromLTRB(100, 80, 620, 440))\n",
        "\n",
        "# Set series labels for the chart (quarters)\n",
        "chart.ChartData[0, 1].Text = \"Q1\"\n",
        "chart.ChartData[0, 2].Text = \"Q2\"\n",
        "chart.ChartData[0, 3].Text = \"Q3\"\n",
        "\n",
        "# Set category labels for the chart (regions)\n",
        "chart.ChartData[1, 0].Text = \"North America\"\n",
        "chart.ChartData[2, 0].Text = \"Europe\"\n",
        "chart.ChartData[3, 0].Text = \"Asia\"\n",
        "chart.ChartData[4, 0].Text = \"South America\"\n",
        "\n",
        "# Define data for the series\n",
        "series_data = {\n",
        "    \"Series1\": [20000, 22000, 18000, 30000],\n",
        "    \"Series2\": [15000, 26000, 20000, 26000],\n",
        "    \"Series3\": [17000, 24000, 22000, 28000]\n",
        "}\n",
        "\n",
        "# Fill data for the chart\n",
        "for i, (key, values) in enumerate(series_data.items()):\n",
        "    for j in range(len(values)):\n",
        "        chart.ChartData[j + 1, i + 1].NumberValue = values[j]\n",
        "\n",
        "# Set series labels from chart data\n",
        "chart.Series.SeriesLabel = chart.ChartData[\"B1\", \"D1\"]\n",
        "\n",
        "# Set category labels from chart data\n",
        "chart.Categories.CategoryLabels = chart.ChartData[\"A2\", \"A5\"]\n",
        "\n",
        "# Assign values to each series\n",
        "chart.Series[0].Values = chart.ChartData[\"B2\", \"B5\"]\n",
        "chart.Series[1].Values = chart.ChartData[\"C2\", \"C5\"]\n",
        "chart.Series[2].Values = chart.ChartData[\"D2\", \"D5\"]\n",
        "\n",
        "# Set chart appearance options\n",
        "chart.GapWidth = 219\n",
        "chart.OverLap = -27\n",
        "chart.ChartLegend.Position = ChartLegendPositionType.Bottom\n",
        "\n",
        "# Set chart title\n",
        "chart.ChartTitle.TextProperties.Text = \"Quarterly Sales Performance\"\n",
        "chart.ChartTitle.TextProperties.IsCentered = True\n",
        "chart.ChartTitle.TextProperties.Paragraphs[0].DefaultCharacterProperties.IsBold = TriState.TFalse\n",
        "chart.ChartTitle.Height = 25\n",
        "chart.HasTitle = True\n",
        "\n",
        "# Save the presentation to a file\n",
        "presentation.SaveToFile(\"ColumnChart.pptx\", FileFormat.Pptx2016)\n",
        "# Dispose of the presentation object\n",
        "presentation.Dispose()"
      ],
      "metadata": {
        "id": "dWipAP3Pj7_h"
      },
      "execution_count": 3,
      "outputs": []
    },
    {
      "cell_type": "markdown",
      "source": [
        "# Bar Chart"
      ],
      "metadata": {
        "id": "BjGOBSHdkCHb"
      }
    },
    {
      "cell_type": "code",
      "source": [
        "from spire.presentation import *\n",
        "\n",
        "presentation = Presentation()\n",
        "slide = presentation.Slides[0]\n",
        "\n",
        "# Append a bar chart (horizontal bars)\n",
        "chart = slide.Shapes.AppendChart(ChartType.BarClustered, RectangleF.FromLTRB(100, 80, 620, 440))\n",
        "\n",
        "# Define categories and series\n",
        "categories = [\"Apples\", \"Bananas\", \"Cherries\", \"Dates\"]\n",
        "series_data = {\n",
        "    \"2019\": [500, 700, 600, 400],\n",
        "    \"2020\": [600, 800, 700, 450]\n",
        "}\n",
        "\n",
        "# Set category labels\n",
        "for i, cat in enumerate(categories, start=1):\n",
        "    chart.ChartData[i, 0].Text = cat\n",
        "\n",
        "# Set series names\n",
        "for i, series_name in enumerate(series_data.keys(), start=1):\n",
        "    chart.ChartData[0, i].Text = series_name\n",
        "\n",
        "# Fill data\n",
        "for col_idx, values in enumerate(series_data.values(), start=1):\n",
        "    for row_idx, val in enumerate(values, start=1):\n",
        "        chart.ChartData[row_idx, col_idx].NumberValue = val\n",
        "\n",
        "# Set series labels from B1 to C1 (assuming 2 series)\n",
        "chart.Series.SeriesLabel = chart.ChartData[\"B1\", \"C1\"]\n",
        "\n",
        "# Set category labels from A1 to A4\n",
        "chart.Categories.CategoryLabels = chart.ChartData[\"A1\", \"A4\"]\n",
        "\n",
        "# Assign values to each series from B2:B5, C2:C5\n",
        "chart.Series[0].Values = chart.ChartData[\"B2\", \"B5\"]\n",
        "chart.Series[1].Values = chart.ChartData[\"C2\", \"C5\"]\n",
        "\n",
        "# Define custom fill colors for each series\n",
        "fill_colors = [\n",
        "    Color.FromRgb(91, 155, 213),   # Series 1 (Blue)\n",
        "    Color.FromRgb(237, 125, 49),   # Series 2 (Orange)\n",
        "]\n",
        "\n",
        "# Set fill colors for each series\n",
        "for index, color in enumerate(fill_colors):\n",
        "    chart.Series[index].Fill.FillType = FillFormatType.Solid\n",
        "    chart.Series[index].Fill.SolidColor.Color = color\n",
        "\n",
        "# Save\n",
        "presentation.SaveToFile(\"BarChart.pptx\", FileFormat.Pptx2010)\n",
        "presentation.Dispose()"
      ],
      "metadata": {
        "id": "ORkbuH-JkA2Y"
      },
      "execution_count": 5,
      "outputs": []
    },
    {
      "cell_type": "markdown",
      "source": [
        "# Pie Chart"
      ],
      "metadata": {
        "id": "1NFAwReqkKRo"
      }
    },
    {
      "cell_type": "code",
      "source": [
        "from spire.presentation import *\n",
        "\n",
        "# Create a presentation and get the first slide\n",
        "presentation = Presentation()\n",
        "slide = presentation.Slides[0]\n",
        "\n",
        "# Append a pie chart\n",
        "chart = slide.Shapes.AppendChart(ChartType.Pie, RectangleF.FromLTRB(150, 150, 450, 450))\n",
        "\n",
        "# Define categories and values\n",
        "categories = [\"Chrome\", \"Firefox\", \"Edge\", \"Safari\"]\n",
        "values = [58.9, 13.3, 12.7, 9.6]\n",
        "\n",
        "# Fill chart data (A1:A4 for categories, B1:B4 for values)\n",
        "for i in range(len(categories)):\n",
        "    chart.ChartData[i + 1, 0].Text = categories[i]\n",
        "    chart.ChartData[i + 1, 1].NumberValue = values[i]\n",
        "\n",
        "# Set category labels and values\n",
        "chart.Categories.CategoryLabels = chart.ChartData[\"A2\", \"A5\"]\n",
        "chart.Series[0].Values = chart.ChartData[\"B2\", \"B5\"]\n",
        "\n",
        "# Set chart title\n",
        "chart.HasTitle = True\n",
        "chart.ChartTitle.TextProperties.Text = \"Browser Market Share\"\n",
        "chart.ChartTitle.TextProperties.IsCentered = True\n",
        "chart.ChartTitle.Height = 25\n",
        "\n",
        "# Save and dispose\n",
        "presentation.SaveToFile(\"PieChart.pptx\", FileFormat.Pptx2010)\n",
        "presentation.Dispose()"
      ],
      "metadata": {
        "id": "VI9wzK0BkH6B"
      },
      "execution_count": 7,
      "outputs": []
    },
    {
      "cell_type": "markdown",
      "source": [
        "# Line Chart"
      ],
      "metadata": {
        "id": "zAtvSd8fkNoO"
      }
    },
    {
      "cell_type": "code",
      "source": [
        "from spire.presentation import *\n",
        "\n",
        "# Create a presentation and get the first slide\n",
        "presentation = Presentation()\n",
        "slide = presentation.Slides[0]\n",
        "\n",
        "# Append a line chart\n",
        "chart = slide.Shapes.AppendChart(ChartType.Line, RectangleF.FromLTRB(100, 80, 620, 440))\n",
        "\n",
        "# Categories (e.g., months)\n",
        "categories = [\"Jan\", \"Feb\", \"Mar\", \"Apr\"]\n",
        "\n",
        "# Series data (e.g., Sales)\n",
        "series_data = {\n",
        "    \"Product A\": [150, 200, 180, 220],\n",
        "    \"Product B\": [120, 140, 160, 180]\n",
        "}\n",
        "\n",
        "# Set category labels (A2–A5)\n",
        "for i, cat in enumerate(categories, start=1):\n",
        "    chart.ChartData[i, 0].Text = cat\n",
        "\n",
        "# Set series names (B1, C1)\n",
        "for i, name in enumerate(series_data.keys(), start=1):\n",
        "    chart.ChartData[0, i].Text = name\n",
        "\n",
        "# Fill data (B2–C5)\n",
        "for col_idx, values in enumerate(series_data.values(), start=1):\n",
        "    for row_idx, val in enumerate(values, start=1):\n",
        "        chart.ChartData[row_idx, col_idx].NumberValue = val\n",
        "\n",
        "# Set series labels explicitly (B1 to C1)\n",
        "chart.Series.SeriesLabel = chart.ChartData[\"B1\", \"C1\"]\n",
        "\n",
        "# Set category labels (A2 to A5)\n",
        "chart.Categories.CategoryLabels = chart.ChartData[\"A2\", \"A5\"]\n",
        "\n",
        "# Assign values for each series (B2:B5, C2:C5)\n",
        "chart.Series[0].Values = chart.ChartData[\"B2\", \"B5\"]\n",
        "chart.Series[1].Values = chart.ChartData[\"C2\", \"C5\"]\n",
        "\n",
        "# Optional: Add chart title\n",
        "chart.HasTitle = True\n",
        "chart.ChartTitle.TextProperties.Text = \"Monthly Sales Trends\"\n",
        "chart.ChartTitle.TextProperties.IsCentered = True\n",
        "chart.ChartTitle.Height = 25\n",
        "\n",
        "# Save presentation\n",
        "presentation.SaveToFile(\"LineChart.pptx\", FileFormat.Pptx2010)\n",
        "presentation.Dispose()"
      ],
      "metadata": {
        "id": "WnHB55N6kL0M"
      },
      "execution_count": 8,
      "outputs": []
    },
    {
      "cell_type": "markdown",
      "source": [
        "# Funnel Chart"
      ],
      "metadata": {
        "id": "MaPznaOdkQ1B"
      }
    },
    {
      "cell_type": "code",
      "source": [
        "from spire.presentation import *\n",
        "\n",
        "# Create a new presentation and get the first slide\n",
        "presentation = Presentation()\n",
        "slide = presentation.Slides[0]\n",
        "\n",
        "# Add a funnel chart to the slide\n",
        "chart = slide.Shapes.AppendChart(ChartType.Funnel, RectangleF.FromLTRB(100, 100, 600, 400))\n",
        "\n",
        "# Define funnel stages and values\n",
        "stages = [\"Leads\", \"Opportunities\", \"Proposals\", \"Deals\"]\n",
        "values = [1000, 600, 300, 120]\n",
        "\n",
        "# Fill data (A2:A5 for stages, B2:B5 for values)\n",
        "for i in range(len(stages)):\n",
        "    chart.ChartData[i + 1, 0].Text = stages[i]\n",
        "    chart.ChartData[i + 1, 1].NumberValue = values[i]\n",
        "\n",
        "# Set category labels and values\n",
        "chart.Categories.CategoryLabels = chart.ChartData[\"A2\", \"A5\"]\n",
        "chart.Series[0].Values = chart.ChartData[\"B2\", \"B5\"]\n",
        "\n",
        "# Set chart title\n",
        "chart.HasTitle = True\n",
        "chart.ChartTitle.TextProperties.Text = \"Sales Funnel Stages\"\n",
        "chart.ChartTitle.TextProperties.IsCentered = True\n",
        "chart.ChartTitle.Height = 25\n",
        "\n",
        "# Save and dispose\n",
        "presentation.SaveToFile(\"FunnelChart.pptx\", FileFormat.Pptx2010)\n",
        "presentation.Dispose()"
      ],
      "metadata": {
        "id": "cih_9UzTkPcL"
      },
      "execution_count": 9,
      "outputs": []
    },
    {
      "cell_type": "markdown",
      "source": [
        "# Waterfall Chart"
      ],
      "metadata": {
        "id": "mW1jEMsykT1a"
      }
    },
    {
      "cell_type": "code",
      "source": [
        "from spire.presentation import *\n",
        "\n",
        "# Create a presentation and get the first slide\n",
        "presentation = Presentation()\n",
        "slide = presentation.Slides[0]\n",
        "\n",
        "# Append a waterfall chart\n",
        "chart = slide.Shapes.AppendChart(ChartType.WaterFall, RectangleF.FromLTRB(100, 100, 600, 400))\n",
        "\n",
        "# Define categories and values\n",
        "categories = [\"Start\", \"Revenue\", \"Costs\", \"Profit\"]\n",
        "values = [0, 8000, -3000, 5000]\n",
        "\n",
        "# Set categories (A2–A5) and values (B2–B5)\n",
        "for i in range(len(categories)):\n",
        "    chart.ChartData[i + 1, 0].Text = categories[i]\n",
        "    chart.ChartData[i + 1, 1].NumberValue = values[i]\n",
        "\n",
        "# Set category labels and values\n",
        "chart.Categories.CategoryLabels = chart.ChartData[\"A2\", \"A5\"]\n",
        "chart.Series[0].Values = chart.ChartData[\"B2\", \"B5\"]\n",
        "\n",
        "# Optional: Add chart title\n",
        "chart.HasTitle = True\n",
        "chart.ChartTitle.TextProperties.Text = \"Profit Breakdown\"\n",
        "chart.ChartTitle.TextProperties.IsCentered = True\n",
        "chart.ChartTitle.Height = 25\n",
        "\n",
        "# Save and dispose\n",
        "presentation.SaveToFile(\"WaterfallChart.pptx\", FileFormat.Pptx2010)\n",
        "presentation.Dispose()"
      ],
      "metadata": {
        "id": "Asp4I3iWkShp"
      },
      "execution_count": 10,
      "outputs": []
    },
    {
      "cell_type": "markdown",
      "source": [
        "# How to Create a PowerPoint Chart from Excel Data Using Python"
      ],
      "metadata": {
        "id": "QO47NlMIkYgy"
      }
    },
    {
      "cell_type": "code",
      "source": [
        "import pandas as pd\n",
        "\n",
        "# Load Excel file\n",
        "excel_file = 'sales_data.xlsx'\n",
        "\n",
        "# Read specific sheet or range into DataFrame\n",
        "df = pd.read_excel(excel_file, sheet_name='Sheet1')\n",
        "\n",
        "from spire.presentation import *\n",
        "\n",
        "# Create presentation\n",
        "presentation = Presentation()\n",
        "slide = presentation.Slides[0]\n",
        "\n",
        "# Append clustered column chart\n",
        "chart = slide.Shapes.AppendChart(ChartType.ColumnClustered, RectangleF.FromLTRB(100, 80, 620, 440))\n",
        "\n",
        "# Set series labels (quarters)\n",
        "quarters = df.columns[1:].tolist()  # ['Q1', 'Q2', 'Q3']\n",
        "for i, quarter in enumerate(quarters, start=1):\n",
        "    chart.ChartData[0, i].Text = quarter\n",
        "\n",
        "# Set category labels (regions)\n",
        "regions = df[df.columns[0]].tolist()\n",
        "for i, region in enumerate(regions, start=1):\n",
        "    chart.ChartData[i, 0].Text = region\n",
        "\n",
        "# Fill chart data\n",
        "for i in range(len(regions)):\n",
        "    for j in range(len(quarters)):\n",
        "        chart.ChartData[i + 1, j + 1].NumberValue = df.iloc[i, j + 1]\n",
        "\n",
        "# Set series label range (B1 to D1)\n",
        "chart.Series.SeriesLabel = chart.ChartData[\"B1\", \"D1\"]\n",
        "\n",
        "# Set category label range (A2 to A4)\n",
        "chart.Categories.CategoryLabels = chart.ChartData[\"A2\", f\"A{len(regions)+1}\"]\n",
        "\n",
        "# Assign values to series (B2:B4, C2:C4, D2:D4)\n",
        "for i in range(len(quarters)):\n",
        "    col_letter = chr(66 + i)  # B, C, D...\n",
        "    start_cell = f\"{col_letter}2\"\n",
        "    end_cell = f\"{col_letter}{len(regions)+1}\"\n",
        "    chart.Series[i].Values = chart.ChartData[start_cell, end_cell]\n",
        "\n",
        "# Optional: Chart title\n",
        "chart.HasTitle = True\n",
        "chart.ChartTitle.TextProperties.Text = \"Quarterly Regional Sales\"\n",
        "chart.ChartTitle.TextProperties.IsCentered = True\n",
        "chart.ChartTitle.Height = 25\n",
        "\n",
        "# Save\n",
        "presentation.SaveToFile(\"ColumnChart_FromExcel.pptx\", FileFormat.Pptx2010)\n",
        "presentation.Dispose()"
      ],
      "metadata": {
        "id": "HaE3JysJkVmj"
      },
      "execution_count": 11,
      "outputs": []
    }
  ]
}