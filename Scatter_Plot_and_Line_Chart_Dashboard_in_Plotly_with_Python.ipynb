{
  "nbformat": 4,
  "nbformat_minor": 0,
  "metadata": {
    "colab": {
      "provenance": [],
      "authorship_tag": "ABX9TyNIjSu+qsOyEGCwxfzFCxb7"
    },
    "kernelspec": {
      "name": "python3",
      "display_name": "Python 3"
    },
    "language_info": {
      "name": "python"
    }
  },
  "cells": [
    {
      "cell_type": "markdown",
      "source": [
        "[Reference](https://pub.towardsai.net/scatter-plot-and-line-chart-dashboard-in-plotly-with-python-4e886ea5f3e6)"
      ],
      "metadata": {
        "id": "RGuDRTcqcC6N"
      }
    },
    {
      "cell_type": "code",
      "execution_count": 1,
      "metadata": {
        "id": "RAkEPUEmaoOo"
      },
      "outputs": [],
      "source": [
        "import numpy as np\n",
        "import plotly.offline as pyo\n",
        "import plotly.graph_objs as go"
      ]
    },
    {
      "cell_type": "code",
      "source": [
        "np.random.seed(42)\n",
        "random_x = np.random.randint(1,101,100)\n",
        "random_y = np.random.randint(1,101,100)"
      ],
      "metadata": {
        "id": "aLr4dGXYc1bc"
      },
      "execution_count": 2,
      "outputs": []
    },
    {
      "cell_type": "code",
      "source": [
        "data = [go.Scatter(x=random_x, y=random_y,mode='markers')]\n",
        "layout = go.Layout(title='Hello First Plot',\n",
        "                   xaxis=dict(title='My X axis'),\n",
        "                   yaxis=dict(title='My Y axis'),\n",
        "                   hovermode='closest')"
      ],
      "metadata": {
        "id": "Er_PpCS8ds-o"
      },
      "execution_count": 3,
      "outputs": []
    },
    {
      "cell_type": "code",
      "source": [
        "fig = go.Figure(data=data,layout=layout)\n",
        "pyo.plot(fig,filename='Scatter.html')"
      ],
      "metadata": {
        "colab": {
          "base_uri": "https://localhost:8080/",
          "height": 37
        },
        "id": "gM6rBrcaeJBt",
        "outputId": "ccf5f18f-3f27-400a-dfc3-5d7e5956d020"
      },
      "execution_count": 4,
      "outputs": [
        {
          "output_type": "execute_result",
          "data": {
            "text/plain": [
              "'Scatter.html'"
            ],
            "application/vnd.google.colaboratory.intrinsic+json": {
              "type": "string"
            }
          },
          "metadata": {},
          "execution_count": 4
        }
      ]
    },
    {
      "cell_type": "code",
      "source": [
        "np.random.seed(50)\n",
        "random_x = np.linspace(0,1,100)\n",
        "random_y = np.random.randn(100)\n",
        "\n",
        "data0 = go.Scatter(x=random_x,y=random_y,mode='markers',name='markers')\n",
        "data1 = go.Scatter(x=random_x,y=random_y+5,mode='lines',name='mylines')\n",
        "\n",
        "data=[data0,data1]\n",
        "layout=go.Layout(title='Line Chart')\n",
        "\n",
        "fig = go.Figure(data=data,layout=layout)\n",
        "pyo.plot(fig,filename='line_chart.html')"
      ],
      "metadata": {
        "colab": {
          "base_uri": "https://localhost:8080/",
          "height": 37
        },
        "id": "oeXiY9DTeSYR",
        "outputId": "6a737b01-ef7c-4a9e-a1a3-4b93503a440c"
      },
      "execution_count": 5,
      "outputs": [
        {
          "output_type": "execute_result",
          "data": {
            "text/plain": [
              "'line_chart.html'"
            ],
            "application/vnd.google.colaboratory.intrinsic+json": {
              "type": "string"
            }
          },
          "metadata": {},
          "execution_count": 5
        }
      ]
    }
  ]
}