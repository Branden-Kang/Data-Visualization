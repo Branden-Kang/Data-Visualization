{
  "nbformat": 4,
  "nbformat_minor": 0,
  "metadata": {
    "colab": {
      "name": "Python ASCII Art Generator..ipynb",
      "provenance": [],
      "authorship_tag": "ABX9TyMkauv+KGaXy90vjfKU2t5L"
    },
    "kernelspec": {
      "name": "python3",
      "display_name": "Python 3"
    }
  },
  "cells": [
    {
      "cell_type": "markdown",
      "metadata": {
        "id": "bAEMrDyJeYNt"
      },
      "source": [
        "[Reference](https://medium.com/javascript-dots/python-ascii-art-generator-60ba9eb559d7)"
      ]
    },
    {
      "cell_type": "code",
      "metadata": {
        "colab": {
          "base_uri": "https://localhost:8080/"
        },
        "id": "XaJJDLPVeeBu",
        "outputId": "efe13980-9503-47bc-c2d3-255371a7c722"
      },
      "source": [
        "!ls"
      ],
      "execution_count": 1,
      "outputs": [
        {
          "output_type": "stream",
          "text": [
            "sample_data\n"
          ],
          "name": "stdout"
        }
      ]
    },
    {
      "cell_type": "code",
      "metadata": {
        "colab": {
          "base_uri": "https://localhost:8080/"
        },
        "id": "EsrDKEmveg6-",
        "outputId": "d6182830-9fcb-406c-b0ca-8956ec50f7c8"
      },
      "source": [
        "!ls sample_data"
      ],
      "execution_count": 2,
      "outputs": [
        {
          "output_type": "stream",
          "text": [
            "anscombe.json\t\t      mnist_test.csv\n",
            "california_housing_test.csv   mnist_train_small.csv\n",
            "california_housing_train.csv  README.md\n"
          ],
          "name": "stdout"
        }
      ]
    },
    {
      "cell_type": "code",
      "metadata": {
        "id": "75QCoBuQeWn8"
      },
      "source": [
        "import PIL.Image\n",
        "\n",
        "def main():\n",
        "    path = input(\"Enter the path to the image fiel : \\n\")\n",
        "    try:\n",
        "        image = PIL.Image.open(path)\n",
        "    except:\n",
        "        print(path, \"Unable to find image \");"
      ],
      "execution_count": 6,
      "outputs": []
    },
    {
      "cell_type": "code",
      "metadata": {
        "id": "AY8Rgpypeb-Q"
      },
      "source": [
        "ASCII_CHARS = [\"@\", \"#\", \"$\", \"%\", \"?\", \"*\", \"+\", \";\", \":\", \",\", \".\"]"
      ],
      "execution_count": 7,
      "outputs": []
    },
    {
      "cell_type": "code",
      "metadata": {
        "id": "Xkjv-Qcveswt"
      },
      "source": [
        "def resize(image, new_width = 100):\n",
        "    width, height = image.size\n",
        "    new_height = new_width * height / width\n",
        "    return image.resize((new_width, new_height))"
      ],
      "execution_count": 8,
      "outputs": []
    },
    {
      "cell_type": "code",
      "metadata": {
        "id": "IVd5Zj68eu1f"
      },
      "source": [
        "def to_greyscale(image):\n",
        "    return image.convert(\"L\")"
      ],
      "execution_count": 9,
      "outputs": []
    },
    {
      "cell_type": "code",
      "metadata": {
        "id": "f0d5800sevsm"
      },
      "source": [
        "def pixel_to_ascii(image):\n",
        "    pixels = image.getdata()\n",
        "    ascii_str = \"\";\n",
        "    for pixel in pixels:\n",
        "        ascii_str += ASCII_CHARS[pixel//25];\n",
        "    return ascii_str"
      ],
      "execution_count": 10,
      "outputs": []
    },
    {
      "cell_type": "code",
      "metadata": {
        "id": "aVK4WmT3ew7j"
      },
      "source": [
        "def main():\n",
        "    path = input(\"Enter the path to the image fiel : \\n\")\n",
        "    try:\n",
        "        image = PIL.Image.open(path)\n",
        "    except:\n",
        "        print(path, \"Unable to find image \")    #resize image\n",
        "    image = resize(image);    #convert image to greyscale image\n",
        "    greyscale_image = to_greyscale(image)    # convert greyscale image to ascii characters\n",
        "    ascii_str = pixel_to_ascii(greyscale_image)\n",
        "    img_width = greyscale_image.width\n",
        "    ascii_str_len = len(ascii_str)\n",
        "    ascii_img=\"\"    #Split the string based on width  of the image\n",
        "    for i in range(0, ascii_str_len, img_width):\n",
        "        ascii_img += ascii_str[i:i+img_width] + \"\\n\"    #save the string to a file\n",
        "    with open(\"ascii_image.txt\", \"w\") as f:\n",
        "        f.write(ascii_img);"
      ],
      "execution_count": 11,
      "outputs": []
    },
    {
      "cell_type": "code",
      "metadata": {
        "id": "-qqr1gTFe1wS"
      },
      "source": [
        "main()"
      ],
      "execution_count": 13,
      "outputs": []
    }
  ]
}