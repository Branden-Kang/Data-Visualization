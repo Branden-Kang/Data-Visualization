{
  "nbformat": 4,
  "nbformat_minor": 0,
  "metadata": {
    "colab": {
      "name": "DearPyGUI.ipynb",
      "provenance": [],
      "authorship_tag": "ABX9TyPRBHDYfDIhSZjuUH9Ttzb0"
    },
    "kernelspec": {
      "name": "python3",
      "display_name": "Python 3"
    },
    "language_info": {
      "name": "python"
    }
  },
  "cells": [
    {
      "cell_type": "markdown",
      "metadata": {
        "id": "6WOVvTV3Jup9"
      },
      "source": [
        "[Reference](https://medium.com/geekculture/tutorial-on-gui-with-python-using-dearpygui-0-8-41c25bae3fc9)"
      ]
    },
    {
      "cell_type": "code",
      "metadata": {
        "colab": {
          "base_uri": "https://localhost:8080/"
        },
        "id": "OgPENImTJsAE",
        "outputId": "82ec6708-9d84-4f1c-bb82-b92225fb9f6f"
      },
      "source": [
        "pip install dearpygui"
      ],
      "execution_count": 1,
      "outputs": [
        {
          "output_type": "stream",
          "name": "stdout",
          "text": [
            "Collecting dearpygui\n",
            "  Downloading dearpygui-0.8.64-cp37-cp37m-manylinux1_x86_64.whl (57.8 MB)\n",
            "\u001b[K     |████████████████████████████████| 57.8 MB 1.2 kB/s \n",
            "\u001b[?25hInstalling collected packages: dearpygui\n",
            "Successfully installed dearpygui-0.8.64\n"
          ]
        }
      ]
    },
    {
      "cell_type": "code",
      "metadata": {
        "id": "4wZPvi4DJxKb"
      },
      "source": [
        "from dearpygui.dearpygui import *\n",
        "\n",
        "setup_viewport()\n",
        "start_dearpygui()"
      ],
      "execution_count": 1,
      "outputs": []
    },
    {
      "cell_type": "code",
      "metadata": {
        "id": "mM2ZP5mdJ3SP"
      },
      "source": [
        "class Motor:\n",
        "    def __init__(self, burntime, thrust, totalMass, propellantMass):\n",
        "        self.burntime = burntime\n",
        "        self.thrust = thrust\n",
        "        self.totalMass = totalMass\n",
        "        self.propellantMass = propellantMass"
      ],
      "execution_count": 2,
      "outputs": []
    },
    {
      "cell_type": "code",
      "metadata": {
        "id": "w9EiMtFfJ5Ee"
      },
      "source": [
        "motorList = {\n",
        "    \"Name\": [],\n",
        "    \"Motor\": []\n",
        "}"
      ],
      "execution_count": 3,
      "outputs": []
    },
    {
      "cell_type": "code",
      "metadata": {
        "id": "PJB_0eXtJ6wk"
      },
      "source": [
        "with window(label=\"Define Motor\", height=200, width=500):\n",
        "    pass"
      ],
      "execution_count": 4,
      "outputs": []
    },
    {
      "cell_type": "code",
      "metadata": {
        "id": "PzEqJNIRJ8ZI"
      },
      "source": [
        "with window(label=\"Motors\", height=200, width=300, pos=[500, 0]):\n",
        "    pass\n",
        "setup_viewport()\n",
        "set_viewport_height(400)\n",
        "set_viewport_width(1000)\n",
        "start_dearpygui()"
      ],
      "execution_count": 5,
      "outputs": []
    },
    {
      "cell_type": "code",
      "metadata": {
        "id": "TTupRI2JKABc"
      },
      "source": [
        "with window(label=\"Define Motor\", height=200, width=500):\n",
        "    name = add_input_text(label=\"Name\")\n",
        "    burntime = add_input_float(label=\"Burn Time\")\n",
        "    thrust = add_input_float(label=\"Thrust\")\n",
        "    totalMass = add_input_float(label=\"Total Mass\")\n",
        "    propellantMass = add_input_float(label=\"Propellant Mass\")\n",
        "    add_button(label=\"Save\", callback=defineMotor, user_data=[name,\n",
        "               burntime, thrust, totalMass, propellantMass])"
      ],
      "execution_count": 6,
      "outputs": []
    },
    {
      "cell_type": "code",
      "metadata": {
        "id": "_WepbFo0KC52"
      },
      "source": [
        "def defineMotor(sender, data, user_data):\n",
        "    motorList[\"Name\"].append(get_value(user_data[0]))\n",
        "    motorList[\"Motor\"].append(Motor(get_value(user_data[1]),\n",
        "              get_value(user_data[2]), get_value(user_data[3]),\n",
        "              get_value(user_data[4])))"
      ],
      "execution_count": 7,
      "outputs": []
    },
    {
      "cell_type": "code",
      "metadata": {
        "id": "pKbmbY2gKFT9"
      },
      "source": [
        "motor = add_listbox(items=motorList[\"Name\"], label=\"Motors\")"
      ],
      "execution_count": 8,
      "outputs": []
    },
    {
      "cell_type": "code",
      "metadata": {
        "id": "ML2XWzD7KHDm"
      },
      "source": [
        "configure_item(motor, items=motorList[\"Name\"])"
      ],
      "execution_count": 9,
      "outputs": []
    }
  ]
}