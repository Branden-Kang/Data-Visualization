{
  "nbformat": 4,
  "nbformat_minor": 0,
  "metadata": {
    "colab": {
      "provenance": [],
      "authorship_tag": "ABX9TyNSQhZfY9/IiBEFEEOOtWvw"
    },
    "kernelspec": {
      "name": "python3",
      "display_name": "Python 3"
    },
    "language_info": {
      "name": "python"
    }
  },
  "cells": [
    {
      "cell_type": "markdown",
      "source": [
        "[Reference](https://nathanrosidi.medium.com/matplotlib-alternatives-that-actually-save-you-time-75631616cc4e)"
      ],
      "metadata": {
        "id": "vjMt8rGUJB-6"
      }
    },
    {
      "cell_type": "markdown",
      "source": [
        "# 1. Plotly — Interactive and Web-Ready Visualization"
      ],
      "metadata": {
        "id": "DE5jsbyaJGuf"
      }
    },
    {
      "cell_type": "code",
      "execution_count": 3,
      "metadata": {
        "id": "m_ztbch6I4rA"
      },
      "outputs": [],
      "source": [
        "import matplotlib.pyplot as plt\n",
        "\n",
        "# Color mapping based on property type\n",
        "color_map = {'Residential': 'skyblue', 'Commercial': 'darkgreen', 'Industrial': 'gray'}\n",
        "colors = df['category'].map(color_map)\n",
        "\n",
        "# Plotting\n",
        "plt.figure(figsize=(12, 8))\n",
        "scatter = plt.scatter(df['investment_return'], df['market'], s=df['market_size']*10, c=colors, alpha=0.6, edgecolors='w', linewidth=0.5)\n",
        "\n",
        "plt.title('Investment Returns of Different Real Estate Markets')\n",
        "plt.xlabel('Investment Return (%)')\n",
        "plt.ylabel('Market')\n",
        "plt.grid(True)\n",
        "\n",
        "# Adding legend manually\n",
        "plt.legend(handles=[\n",
        "    plt.Line2D([0], [0], marker='o', color='w', markerfacecolor='skyblue', markersize=10, label='Residential'),\n",
        "    plt.Line2D([0], [0], marker='o', color='w', markerfacecolor='darkgreen', markersize=10, label='Commercial'),\n",
        "    plt.Line2D([0], [0], marker='o', color='w', markerfacecolor='gray', markersize=10, label='Industrial')\n",
        "], title='Property Type', loc='upper right')\n",
        "\n",
        "plt.show()"
      ]
    },
    {
      "cell_type": "code",
      "source": [
        "import plotly.express as px\n",
        "\n",
        "# Using Plotly Express to create the bubble chart\n",
        "fig = px.scatter(df,\n",
        "                 x='investment_return',\n",
        "                 y='market',\n",
        "                 size='market_size',\n",
        "                 color='category',\n",
        "                 color_discrete_map={'Residential': 'skyblue', 'Commercial': 'darkgreen', 'Industrial': 'gray'},\n",
        "                 labels={'investment_return': 'Investment Return (%)',\n",
        "                         'market': 'Market',\n",
        "                         'market_size': 'Market Size'},\n",
        "                 title='Investment Returns of Different Real Estate Markets')\n",
        "\n",
        "fig.show()"
      ],
      "metadata": {
        "id": "AUK81w5oJIoA"
      },
      "execution_count": 4,
      "outputs": []
    },
    {
      "cell_type": "markdown",
      "source": [
        "# 2. Seaborn — Matplotlib’s Statistical Extension\n",
        "\n",
        "Built on top of Matplotlib, seaborn automates complex statistical plotting like regression lines, heat maps, and distribution plots."
      ],
      "metadata": {
        "id": "Gmt0FC1XJSgy"
      }
    },
    {
      "cell_type": "markdown",
      "source": [
        "# 3. Vega-Altair — Declarative, Grammar-Based Visualization\n",
        "\n",
        "Vega-Altair is a declarative visualization library for those who prioritize simplicity and scalability."
      ],
      "metadata": {
        "id": "fUG-4AL8JZvw"
      }
    },
    {
      "cell_type": "markdown",
      "source": [
        "# 4. Bokeh — Web-Optimized for Large Datasets"
      ],
      "metadata": {
        "id": "G0xWXjAyJgid"
      }
    },
    {
      "cell_type": "code",
      "source": [
        "# Step 1: Import necessary libraries\n",
        "from bokeh.layouts import column\n",
        "from bokeh.plotting import figure, curdoc\n",
        "from bokeh.models import Slider\n",
        "import numpy as np\n",
        "\n",
        "# Step 2: Create the figure (plot)\n",
        "plot = figure(title=\"Interactive Sine Wave Plot\", x_axis_label='X', y_axis_label='Y', width=800, height=400)\n",
        "\n",
        "# Step 3: Generate initial data\n",
        "x = np.linspace(0, 10, 500)\n",
        "y = np.sin(x)\n",
        "\n",
        "# Step 4: Create a line renderer\n",
        "line = plot.line(x, y, line_width=2)\n",
        "\n",
        "# Step 5: Define a callback function to update the plot based on the slider value\n",
        "def update_plot(attr, old, new):\n",
        "    frequency = slider.value\n",
        "    new_y = np.sin(frequency * x)\n",
        "    line.data_source.data['y'] = new_y  # Update the y-values in the plot\n",
        "\n",
        "# Step 6: Create a slider widget to control the frequency of the sine wave\n",
        "slider = Slider(start=1, end=10, value=1, step=0.1, title=\"Frequency\")\n",
        "slider.on_change('value', update_plot)\n",
        "\n",
        "# Step 7: Arrange the plot and slider in a layout\n",
        "layout = column(slider, plot)\n",
        "\n",
        "# Step 8: Add the layout to the current document for display in the browser\n",
        "curdoc().add_root(layout)"
      ],
      "metadata": {
        "id": "oAexLelgJKoy"
      },
      "execution_count": 5,
      "outputs": []
    },
    {
      "cell_type": "code",
      "source": [
        "# Step 1: Import necessary libraries\n",
        "import numpy as np\n",
        "import matplotlib.pyplot as plt\n",
        "from matplotlib.widgets import Slider\n",
        "\n",
        "# Step 2: Create the figure and axis\n",
        "fig, ax = plt.subplots()\n",
        "plt.subplots_adjust(left=0.1, bottom=0.25)  # Adjust the subplot to make space for the slider\n",
        "\n",
        "# Step 3: Generate initial data\n",
        "x = np.linspace(0, 10, 500)\n",
        "y = np.sin(x)\n",
        "\n",
        "# Step 4: Plot the sine wave\n",
        "line, = ax.plot(x, y, lw=2)\n",
        "ax.set_title(\"Interactive Sine Wave Plot\")\n",
        "ax.set_xlabel('X')\n",
        "ax.set_ylabel('Y')\n",
        "\n",
        "# Step 5: Create the slider axes and Slider widget\n",
        "ax_slider = plt.axes([0.1, 0.1, 0.8, 0.05], facecolor='lightgoldenrodyellow')\n",
        "slider = Slider(ax_slider, 'Frequency', 1, 10, valinit=1, valstep=0.1)\n",
        "\n",
        "# Step 6: Define a callback function to update the plot based on the slider value\n",
        "def update(val):\n",
        "    frequency = slider.val\n",
        "    line.set_ydata(np.sin(frequency * x))  # Update the y-data of the line\n",
        "    fig.canvas.draw_idle()  # Redraw the plot with updated data\n",
        "\n",
        "# Step 7: Connect the update function to the slider\n",
        "slider.on_changed(update)\n",
        "\n",
        "# Step 8: Display the plot\n",
        "plt.show()"
      ],
      "metadata": {
        "colab": {
          "base_uri": "https://localhost:8080/",
          "height": 433
        },
        "id": "tMT8ZUpKJjSg",
        "outputId": "dbe00b56-5d18-4586-f686-a97a84774af1"
      },
      "execution_count": 6,
      "outputs": [
        {
          "output_type": "display_data",
          "data": {
            "text/plain": [
              "<Figure size 640x480 with 2 Axes>"
            ],
            "image/png": "[encoded data removed]"
          },
          "metadata": {}
        }
      ]
    },
    {
      "cell_type": "code",
      "source": [
        "import numpy as np\n",
        "import matplotlib.pyplot as plt\n",
        "from ipywidgets import interact\n",
        "from IPython.display import display\n",
        "\n",
        "# Enable the interactive Matplotlib backend\n",
        "%matplotlib widget\n",
        "\n",
        "# Create the plot\n",
        "x = np.linspace(0, 10, 500)\n",
        "y = np.sin(x)\n",
        "fig, ax = plt.subplots()\n",
        "line, = ax.plot(x, y)\n",
        "\n",
        "# Update function for the slider\n",
        "def update(frequency=1):\n",
        "    line.set_ydata(np.sin(frequency * x))\n",
        "    ax.relim()  # Recalculate limits for updated data\n",
        "    ax.autoscale_view()  # Autoscale for new data\n",
        "    fig.canvas.draw_idle()  # Update the figure canvas\n",
        "\n",
        "# Create the slider\n",
        "_ = interact(update, frequency=(1, 10, 0.1))  # Suppress output"
      ],
      "metadata": {
        "id": "MYKg1Hq2JqLN"
      },
      "execution_count": 8,
      "outputs": []
    }
  ]
}