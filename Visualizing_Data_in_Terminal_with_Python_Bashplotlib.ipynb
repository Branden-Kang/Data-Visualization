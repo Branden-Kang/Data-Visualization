{
  "nbformat": 4,
  "nbformat_minor": 0,
  "metadata": {
    "colab": {
      "provenance": [],
      "authorship_tag": "ABX9TyOomRvmJlov4TGmcvJkUSdP"
    },
    "kernelspec": {
      "name": "python3",
      "display_name": "Python 3"
    },
    "language_info": {
      "name": "python"
    }
  },
  "cells": [
    {
      "cell_type": "markdown",
      "source": [
        "[Reference](https://python.plainenglish.io/visualizing-data-in-terminal-with-python-bashplotlib-3de1f48bf7bf)"
      ],
      "metadata": {
        "id": "bp02fCIL5tq9"
      }
    },
    {
      "cell_type": "code",
      "execution_count": 1,
      "metadata": {
        "colab": {
          "base_uri": "https://localhost:8080/"
        },
        "id": "x6u3-iW340eD",
        "outputId": "c29b3a11-9894-4783-d175-868b320972cd"
      },
      "outputs": [
        {
          "output_type": "stream",
          "name": "stdout",
          "text": [
            "Collecting bashplotlib\n",
            "  Downloading bashplotlib-0.6.5.tar.gz (6.2 kB)\n",
            "  Preparing metadata (setup.py) ... \u001b[?25l\u001b[?25hdone\n",
            "Building wheels for collected packages: bashplotlib\n",
            "  Building wheel for bashplotlib (setup.py) ... \u001b[?25l\u001b[?25hdone\n",
            "  Created wheel for bashplotlib: filename=bashplotlib-0.6.5-py3-none-any.whl size=7997 sha256=2c6026086707c43d63233bfd4e0940c1fb8f789b77d8ef507f121fdfc5dfa5ad\n",
            "  Stored in directory: /root/.cache/pip/wheels/7c/13/4b/abcde8d0752f63a7ad842f8f4cfeb1ce4162ba6dfa3c421037\n",
            "Successfully built bashplotlib\n",
            "Installing collected packages: bashplotlib\n",
            "Successfully installed bashplotlib-0.6.5\n"
          ]
        }
      ],
      "source": [
        "pip install bashplotlib"
      ]
    },
    {
      "cell_type": "code",
      "source": [
        "from bashplotlib.histogram import plot_hist\n",
        "\n",
        "# Sample data\n",
        "data = [1, 2, 2, 3, 3, 3, 4, 4, 5]\n",
        "\n",
        "# Plot histogram\n",
        "plot_hist(data, title=\"Sample Histogram\", xlab=\"Values\", showSummary=True)"
      ],
      "metadata": {
        "colab": {
          "base_uri": "https://localhost:8080/"
        },
        "id": "-4ajaIQ65SWn",
        "outputId": "117cc116-f995-417a-b1ff-5b6baad60885"
      },
      "execution_count": 3,
      "outputs": [
        {
          "output_type": "stream",
          "name": "stdout",
          "text": [
            "  ------------------------\n",
            "  |   Sample Histogram   |\n",
            "  ------------------------\n",
            "\n",
            " 3| \u001b[39m \u001b[39m\u001b[39m \u001b[39m\u001b[39m \u001b[39m\u001b[39m \u001b[39m\u001b[39m \u001b[39m\u001b[39mo\u001b[39m\u001b[39m \u001b[39m\u001b[39m \u001b[39m\u001b[39m \u001b[39m\u001b[39m \u001b[39m\u001b[39m \u001b[39m\n",
            "  | \u001b[39m \u001b[39m\u001b[39m \u001b[39m\u001b[39m \u001b[39m\u001b[39m \u001b[39m\u001b[39m \u001b[39m\u001b[39mo\u001b[39m\u001b[39m \u001b[39m\u001b[39m \u001b[39m\u001b[39m \u001b[39m\u001b[39m \u001b[39m\u001b[39m \u001b[39m\n",
            "  | \u001b[39m \u001b[39m\u001b[39m \u001b[39m\u001b[39m \u001b[39m\u001b[39m \u001b[39m\u001b[39m \u001b[39m\u001b[39mo\u001b[39m\u001b[39m \u001b[39m\u001b[39m \u001b[39m\u001b[39m \u001b[39m\u001b[39m \u001b[39m\u001b[39m \u001b[39m\n",
            "  | \u001b[39m \u001b[39m\u001b[39m \u001b[39m\u001b[39m \u001b[39m\u001b[39m \u001b[39m\u001b[39m \u001b[39m\u001b[39mo\u001b[39m\u001b[39m \u001b[39m\u001b[39m \u001b[39m\u001b[39m \u001b[39m\u001b[39m \u001b[39m\u001b[39m \u001b[39m\n",
            "  | \u001b[39m \u001b[39m\u001b[39m \u001b[39m\u001b[39m \u001b[39m\u001b[39m \u001b[39m\u001b[39m \u001b[39m\u001b[39mo\u001b[39m\u001b[39m \u001b[39m\u001b[39m \u001b[39m\u001b[39m \u001b[39m\u001b[39m \u001b[39m\u001b[39m \u001b[39m\n",
            "  | \u001b[39m \u001b[39m\u001b[39m \u001b[39m\u001b[39m \u001b[39m\u001b[39m \u001b[39m\u001b[39m \u001b[39m\u001b[39mo\u001b[39m\u001b[39m \u001b[39m\u001b[39m \u001b[39m\u001b[39m \u001b[39m\u001b[39m \u001b[39m\u001b[39m \u001b[39m\n",
            " 2| \u001b[39m \u001b[39m\u001b[39m \u001b[39m\u001b[39m \u001b[39m\u001b[39mo\u001b[39m\u001b[39m \u001b[39m\u001b[39mo\u001b[39m\u001b[39m \u001b[39m\u001b[39m \u001b[39m\u001b[39mo\u001b[39m\u001b[39m \u001b[39m\u001b[39m \u001b[39m\n",
            "  | \u001b[39m \u001b[39m\u001b[39m \u001b[39m\u001b[39m \u001b[39m\u001b[39mo\u001b[39m\u001b[39m \u001b[39m\u001b[39mo\u001b[39m\u001b[39m \u001b[39m\u001b[39m \u001b[39m\u001b[39mo\u001b[39m\u001b[39m \u001b[39m\u001b[39m \u001b[39m\n",
            "  | \u001b[39m \u001b[39m\u001b[39m \u001b[39m\u001b[39m \u001b[39m\u001b[39mo\u001b[39m\u001b[39m \u001b[39m\u001b[39mo\u001b[39m\u001b[39m \u001b[39m\u001b[39m \u001b[39m\u001b[39mo\u001b[39m\u001b[39m \u001b[39m\u001b[39m \u001b[39m\n",
            "  | \u001b[39m \u001b[39m\u001b[39m \u001b[39m\u001b[39m \u001b[39m\u001b[39mo\u001b[39m\u001b[39m \u001b[39m\u001b[39mo\u001b[39m\u001b[39m \u001b[39m\u001b[39m \u001b[39m\u001b[39mo\u001b[39m\u001b[39m \u001b[39m\u001b[39m \u001b[39m\n",
            "  | \u001b[39m \u001b[39m\u001b[39m \u001b[39m\u001b[39m \u001b[39m\u001b[39mo\u001b[39m\u001b[39m \u001b[39m\u001b[39mo\u001b[39m\u001b[39m \u001b[39m\u001b[39m \u001b[39m\u001b[39mo\u001b[39m\u001b[39m \u001b[39m\u001b[39m \u001b[39m\n",
            "  | \u001b[39m \u001b[39m\u001b[39m \u001b[39m\u001b[39m \u001b[39m\u001b[39mo\u001b[39m\u001b[39m \u001b[39m\u001b[39mo\u001b[39m\u001b[39m \u001b[39m\u001b[39m \u001b[39m\u001b[39mo\u001b[39m\u001b[39m \u001b[39m\u001b[39m \u001b[39m\n",
            "  | \u001b[39m \u001b[39m\u001b[39m \u001b[39m\u001b[39m \u001b[39m\u001b[39mo\u001b[39m\u001b[39m \u001b[39m\u001b[39mo\u001b[39m\u001b[39m \u001b[39m\u001b[39m \u001b[39m\u001b[39mo\u001b[39m\u001b[39m \u001b[39m\u001b[39m \u001b[39m\n",
            " 1| \u001b[39mo\u001b[39m\u001b[39m \u001b[39m\u001b[39m \u001b[39m\u001b[39mo\u001b[39m\u001b[39m \u001b[39m\u001b[39mo\u001b[39m\u001b[39m \u001b[39m\u001b[39m \u001b[39m\u001b[39mo\u001b[39m\u001b[39m \u001b[39m\u001b[39mo\u001b[39m\n",
            "  | \u001b[39mo\u001b[39m\u001b[39m \u001b[39m\u001b[39m \u001b[39m\u001b[39mo\u001b[39m\u001b[39m \u001b[39m\u001b[39mo\u001b[39m\u001b[39m \u001b[39m\u001b[39m \u001b[39m\u001b[39mo\u001b[39m\u001b[39m \u001b[39m\u001b[39mo\u001b[39m\n",
            "  | \u001b[39mo\u001b[39m\u001b[39m \u001b[39m\u001b[39m \u001b[39m\u001b[39mo\u001b[39m\u001b[39m \u001b[39m\u001b[39mo\u001b[39m\u001b[39m \u001b[39m\u001b[39m \u001b[39m\u001b[39mo\u001b[39m\u001b[39m \u001b[39m\u001b[39mo\u001b[39m\n",
            "  | \u001b[39mo\u001b[39m\u001b[39m \u001b[39m\u001b[39m \u001b[39m\u001b[39mo\u001b[39m\u001b[39m \u001b[39m\u001b[39mo\u001b[39m\u001b[39m \u001b[39m\u001b[39m \u001b[39m\u001b[39mo\u001b[39m\u001b[39m \u001b[39m\u001b[39mo\u001b[39m\n",
            "  | \u001b[39mo\u001b[39m\u001b[39m \u001b[39m\u001b[39m \u001b[39m\u001b[39mo\u001b[39m\u001b[39m \u001b[39m\u001b[39mo\u001b[39m\u001b[39m \u001b[39m\u001b[39m \u001b[39m\u001b[39mo\u001b[39m\u001b[39m \u001b[39m\u001b[39mo\u001b[39m\n",
            "  | \u001b[39mo\u001b[39m\u001b[39m \u001b[39m\u001b[39m \u001b[39m\u001b[39mo\u001b[39m\u001b[39m \u001b[39m\u001b[39mo\u001b[39m\u001b[39m \u001b[39m\u001b[39m \u001b[39m\u001b[39mo\u001b[39m\u001b[39m \u001b[39m\u001b[39mo\u001b[39m\n",
            "  | \u001b[39mo\u001b[39m\u001b[39m \u001b[39m\u001b[39m \u001b[39m\u001b[39mo\u001b[39m\u001b[39m \u001b[39m\u001b[39mo\u001b[39m\u001b[39m \u001b[39m\u001b[39m \u001b[39m\u001b[39mo\u001b[39m\u001b[39m \u001b[39m\u001b[39mo\u001b[39m\n",
            "   -----------\n",
            "\u001b[39m   \u001b[39m1 1 2 3 4 5 \n",
            "\u001b[39m   \u001b[39m  . . . .   \n",
            "\u001b[39m   \u001b[39m  8 6 4 2   \n",
            "\u001b[39m   \u001b[39m            \n",
            "\n",
            "--------------------\n",
            "|     Summary      |\n",
            "--------------------\n",
            "| observations: 9  |\n",
            "|min value: 1.000000|\n",
            "| mean : 3.000000  |\n",
            "|max value: 5.000000|\n",
            "--------------------\n"
          ]
        }
      ]
    }
  ]
}