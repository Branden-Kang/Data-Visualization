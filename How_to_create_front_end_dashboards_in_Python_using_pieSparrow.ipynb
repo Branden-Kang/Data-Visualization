{
  "nbformat": 4,
  "nbformat_minor": 0,
  "metadata": {
    "colab": {
      "provenance": [],
      "authorship_tag": "ABX9TyOzOAvP7lklHirS8Z54yAMn"
    },
    "kernelspec": {
      "name": "python3",
      "display_name": "Python 3"
    },
    "language_info": {
      "name": "python"
    }
  },
  "cells": [
    {
      "cell_type": "markdown",
      "source": [
        "[Reference](https://medium.com/@itsdaniyalm/how-to-create-front-end-dashboards-in-python-using-piesparrow-6c1cfd9ec4a0)"
      ],
      "metadata": {
        "id": "oZdj9ZkNM_-7"
      }
    },
    {
      "cell_type": "code",
      "execution_count": 1,
      "metadata": {
        "id": "uRnxt6GgM7k-"
      },
      "outputs": [],
      "source": [
        "# import pandas as pd\n",
        "# import piesparrow as ps\n",
        "# from pandasql import sqldf\n",
        "\n",
        "# # import data set and convert Timestamp column to Pandas Data Object with MM-DD-YYYY format\n",
        "# df = pd.read_csv('leads_data.csv')\n",
        "# df['Timestamp'] =  pd.to_datetime(df['Timestamp']).dt.date\n",
        "\n",
        "# # declaring globals for pandasql to work\n",
        "# sql = lambda q: sqldf(q, globals())\n",
        "\n",
        "# # wrangling df to get daily lead count that will be used in line chart\n",
        "# daily_leads = sql('''\n",
        "# SELECT\n",
        "#     Timestamp as Date,\n",
        "#     COUNT(id) as Leads\n",
        "# FROM df \n",
        "# GROUP BY 1\n",
        "# ORDER BY 1\n",
        "# ''')\n",
        "\n",
        "# # wrangling df to get total count of leads \n",
        "# lead_type = sql('''\n",
        "# SELECT\n",
        "#     TYPE as Type,\n",
        "#     COUNT(id) as Qty\n",
        "# FROM df\n",
        "# GROUP BY 1\n",
        "# ''' )\n",
        "\n",
        "# # storing type of leads values as integers that will be later diplayed in dashboard\n",
        "# organic_leads = lead_type.iloc[0,1]\n",
        "# paid_leads = lead_type.iloc[1,1]\n",
        "# total_leads = organic_leads + paid_leads\n",
        "\n",
        "# brands = sql('''\n",
        "# SELECT\n",
        "#     Brand as Brand,\n",
        "#     COUNT(id) as Qty\n",
        "# FROM df\n",
        "# GROUP BY 1\n",
        "# ''' )\n",
        "\n",
        "\n",
        "# #initiating pieSparrow html file\n",
        "# ps.init(filename='dashboard', title='Leads Dashboard')\n",
        "\n",
        "# # creating title of dashboard.\n",
        "# ps.row(\n",
        "#     col1=ps.h2('Leads Dashboard'),\n",
        "\n",
        "# )\n",
        "\n",
        "# # creating first row for display with 3 columns to display total, paid and organic leads\n",
        "# ps.row(\n",
        "#     col1w=35,\n",
        "#     col1=(ps.p('Total Leads') + ps.h3(total_leads)),\n",
        "#     col2w=35,\n",
        "#     col2=(ps.p('Organic Leads') + ps.h3(organic_leads)),\n",
        "#     col3w=35,\n",
        "#     col3=(ps.p('Paid Leads') + ps.h3(paid_leads))\n",
        "# )\n",
        "\n",
        "# #creating chart elements, bar chart for daily leads and pie chart for brand segmentation\n",
        "# ps.row(\n",
        "#     col1w=50,\n",
        "#     #bar chart for daily lead trends\n",
        "#     col1=ps.bar(\n",
        "#         title='Daily Leads Trend',\n",
        "#         dataframe=daily_leads,\n",
        "#         xlabel='Date',\n",
        "#         ylabel='Leads',\n",
        "#         ydata='Leads',\n",
        "#         height=80,\n",
        "#         color=['#4285F4'],\n",
        "#         legenddisplay='false'\n",
        "#     ),\n",
        "#     col2w=50,\n",
        "#     #pie chart for brands segmentation\n",
        "#     col2=ps.pie(\n",
        "#         title='Brand Segmentation',\n",
        "#         dataframe=brands,\n",
        "#         labels='Brand',\n",
        "#         data='Qty',\n",
        "#         height= 400,\n",
        "#         color= ps.rainbow\n",
        "#     )\n",
        "# )"
      ]
    }
  ]
}