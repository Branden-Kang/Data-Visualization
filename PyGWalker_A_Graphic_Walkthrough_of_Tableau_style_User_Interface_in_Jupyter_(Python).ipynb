{
  "nbformat": 4,
  "nbformat_minor": 0,
  "metadata": {
    "colab": {
      "provenance": [],
      "authorship_tag": "ABX9TyMH7rf3wvwKllcFcrod2o2i"
    },
    "kernelspec": {
      "name": "python3",
      "display_name": "Python 3"
    },
    "language_info": {
      "name": "python"
    }
  },
  "cells": [
    {
      "cell_type": "code",
      "execution_count": 1,
      "metadata": {
        "id": "_RAfdBo2z4Uk"
      },
      "outputs": [],
      "source": [
        "pip install pygwalker"
      ]
    },
    {
      "cell_type": "code",
      "source": [
        "import pandas as pd\n",
        "import streamlit.components.v1 as components\n",
        "import streamlit as st\n",
        "from pygwalker.api.streamlit import init_streamlit_comm, get_streamlit_html\n",
        "\n",
        "st.set_page_config(\n",
        "    page_title=\"Use Pygwalker In Streamlit\",\n",
        "    layout=\"wide\"\n",
        ")\n",
        "\n",
        "# Initialize pygwalker communication\n",
        "init_streamlit_comm()\n",
        "\n",
        "# When using `use_kernel_calc=True`, you should cache your pygwalker html, if you don't want your memory to explode\n",
        "@st.cache_resource\n",
        "def get_pyg_html(df: pd.DataFrame) -> str:\n",
        "    # When you need to publish your application, you need set `debug=False`,prevent other users to write your config file.\n",
        "    # If you want to use feature of saving chart config, set `debug=True`\n",
        "    html = get_streamlit_html(df, spec=\"./gw0.json\", use_kernel_calc=True, debug=False)\n",
        "    return html\n",
        "\n",
        "@st.cache_data\n",
        "def get_df() -> pd.DataFrame:\n",
        "    return pd.read_csv(\"bike_sharing_dc.csv\")\n",
        "\n",
        "df = get_df()\n",
        "\n",
        "components.html(get_pyg_html(df), width=1300, height=1000, scrolling=True)"
      ],
      "metadata": {
        "id": "NRwXlXuC0gH5"
      },
      "execution_count": 2,
      "outputs": []
    }
  ]
}