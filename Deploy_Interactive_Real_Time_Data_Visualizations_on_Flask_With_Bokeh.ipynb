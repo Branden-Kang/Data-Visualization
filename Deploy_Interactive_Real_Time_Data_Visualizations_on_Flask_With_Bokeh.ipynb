{
  "nbformat": 4,
  "nbformat_minor": 0,
  "metadata": {
    "colab": {
      "name": "Deploy Interactive Real-Time Data Visualizations on Flask With Bokeh.ipynb",
      "provenance": [],
      "authorship_tag": "ABX9TyMgH7ENUG29gxNh27jotW8B"
    },
    "kernelspec": {
      "name": "python3",
      "display_name": "Python 3"
    },
    "language_info": {
      "name": "python"
    }
  },
  "cells": [
    {
      "cell_type": "markdown",
      "metadata": {
        "id": "pCaBNY5eCWJp"
      },
      "source": [
        "[Reference](https://betterprogramming.pub/deploy-interactive-real-time-data-visualizations-on-flask-with-bokeh-311239273838)"
      ]
    },
    {
      "cell_type": "code",
      "metadata": {
        "id": "_KKNkce0CQIl"
      },
      "source": [
        "from bokeh.models import ColumnDataSource\n",
        "from bokeh.plotting import figure, output_file, show\n",
        "\n",
        "source = ColumnDataSource()\n",
        "\n",
        "fig = figure(plot_height=600, plot_width=720, tooltips=[(\"Title\", \"@title\"), (\"Released\", \"@released\")])\n",
        "fig.circle(x=\"x\", y=\"y\", source=source, size=8, color=\"color\", line_color=None)\n",
        "fig.xaxis.axis_label = \"IMDB Rating\"\n",
        "fig.yaxis.axis_label = \"Rotten Tomatoes Rating\""
      ],
      "execution_count": 1,
      "outputs": []
    },
    {
      "cell_type": "code",
      "metadata": {
        "id": "2BzrDOunC3cH"
      },
      "source": [
        "currMovies = [\n",
        "    {'imdbid': 'tt0099878', 'title': 'Jetsons: The Movie', 'genre': 'Animation, Comedy, Family', 'released': '07/06/1990', 'imdbrating': 5.4, 'imdbvotes': 2731, 'country': 'USA', 'numericrating': 4.3, 'usermeter': 46},\n",
        "    {'imdbid': 'tt0099892', 'title': 'Joe Versus the Volcano', 'genre': 'Comedy, Romance', 'released': '03/09/1990', 'imdbrating': 5.6, 'imdbvotes': 23680, 'country': 'USA', 'numericrating': 5.2, 'usermeter': 54},\n",
        "    {'imdbid': 'tt0099938', 'title': 'Kindergarten Cop', 'genre': 'Action, Comedy, Crime', 'released': '12/21/1990', 'imdbrating': 5.9, 'imdbvotes': 83461, 'country': 'USA', 'numericrating': 5.1, 'usermeter': 51},\n",
        "    {'imdbid': 'tt0099939', 'title': 'King of New York', 'genre': 'Crime, Thriller', 'released': '09/28/1990', 'imdbrating': 7, 'imdbvotes': 19031, 'country': 'Italy, USA, UK', 'numericrating': 6.1, 'usermeter': 79},\n",
        "    {'imdbid': 'tt0099951', 'title': 'The Krays', 'genre': 'Biography, Crime, Drama', 'released': '11/09/1990', 'imdbrating': 6.7, 'imdbvotes': 4247, 'country': 'UK', 'numericrating': 6.4, 'usermeter': 82}\n",
        "]\n",
        "\n",
        "source.data = dict(\n",
        "    x = [d['imdbrating'] for d in currMovies],\n",
        "    y = [d['numericrating'] for d in currMovies],\n",
        "    color = [\"#FF9900\" for d in currMovies],\n",
        "    title = [d['title'] for d in currMovies],\n",
        "    released = [d['released'] for d in currMovies],\n",
        "    imdbvotes = [d['imdbvotes'] for d in currMovies],\n",
        "    genre = [d['genre'] for d in currMovies]\n",
        ")\n",
        "\n",
        "output_file(\"graph.html\")\n",
        "show(fig)"
      ],
      "execution_count": 2,
      "outputs": []
    },
    {
      "cell_type": "code",
      "metadata": {
        "colab": {
          "base_uri": "https://localhost:8080/",
          "height": 286
        },
        "id": "75Gpd9YrDoov",
        "outputId": "90d941b7-df60-47fc-eb89-8d03b7b3971d"
      },
      "source": [
        "from flask import Flask, render_template\n",
        "\n",
        "app = Flask(__name__)\n",
        "\n",
        "@app.route('/')\n",
        "def index():\n",
        "    return render_template('index.html')\n",
        "\n",
        "if __name__ == \"__main__\":\n",
        "    app.run(debug=True)"
      ],
      "execution_count": 3,
      "outputs": [
        {
          "output_type": "stream",
          "text": [
            " * Serving Flask app \"__main__\" (lazy loading)\n",
            " * Environment: production\n",
            "\u001b[31m   WARNING: This is a development server. Do not use it in a production deployment.\u001b[0m\n",
            "\u001b[2m   Use a production WSGI server instead.\u001b[0m\n",
            " * Debug mode: on\n"
          ],
          "name": "stdout"
        },
        {
          "output_type": "stream",
          "text": [
            " * Running on http://127.0.0.1:5000/ (Press CTRL+C to quit)\n",
            " * Restarting with stat\n"
          ],
          "name": "stderr"
        },
        {
          "output_type": "error",
          "ename": "SystemExit",
          "evalue": "ignored",
          "traceback": [
            "An exception has occurred, use %tb to see the full traceback.\n",
            "\u001b[0;31mSystemExit\u001b[0m\u001b[0;31m:\u001b[0m 1\n"
          ]
        },
        {
          "output_type": "stream",
          "text": [
            "/usr/local/lib/python3.7/dist-packages/IPython/core/interactiveshell.py:2890: UserWarning: To exit: use 'exit', 'quit', or Ctrl-D.\n",
            "  warn(\"To exit: use 'exit', 'quit', or Ctrl-D.\", stacklevel=1)\n"
          ],
          "name": "stderr"
        }
      ]
    }
  ]
}