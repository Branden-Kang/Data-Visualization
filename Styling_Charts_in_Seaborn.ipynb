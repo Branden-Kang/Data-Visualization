{
  "nbformat": 4,
  "nbformat_minor": 0,
  "metadata": {
    "colab": {
      "name": "Styling Charts in Seaborn.ipynb",
      "provenance": [],
      "authorship_tag": "ABX9TyNXF891rSBJhQJD1UefSzYm"
    },
    "kernelspec": {
      "name": "python3",
      "display_name": "Python 3"
    },
    "language_info": {
      "name": "python"
    }
  },
  "cells": [
    {
      "cell_type": "markdown",
      "source": [
        "[Reference](https://medium.com/@tttgm/styling-charts-in-seaborn-92136331a541)"
      ],
      "metadata": {
        "id": "tDuA-eXW_7dR"
      }
    },
    {
      "cell_type": "code",
      "execution_count": 1,
      "metadata": {
        "id": "zI9-foRI_x5F"
      },
      "outputs": [],
      "source": [
        "\"\"\"\n",
        "Adapted from https://kaomorphism.com/2017/09/10/Sane-Date-Axes.html\n",
        "\n",
        "Main changes: Looks at axes width rather than figure width. This allows\n",
        "for better integration with charts with legends as well as FacetGrid style \n",
        "charts in seaborn.\n",
        "\"\"\"\n",
        "\n",
        "import pandas as pd\n",
        "import matplotlib.dates as mdates\n",
        "from datetime import timedelta as tdelta\n",
        "from matplotlib.ticker import FuncFormatter\n",
        "\n",
        "INTERVALS = {\n",
        "  'YEARLY'  : [1, 2, 4, 5, 10],\n",
        "  'MONTHLY' : [1, 2, 3, 4, 6],\n",
        "  'DAILY'   : [1, 2],\n",
        "  'WEEKLY'  : [1, 2],\n",
        "  'HOURLY'  : [1, 2, 3, 4, 6, 12],\n",
        "  'MINUTELY': [1, 5, 10, 15, 30],\n",
        "  'SECONDLY': [1, 5, 10, 15, 30],\n",
        "}\n",
        "\n",
        "TICKS_PER_INCH = 1.5\n",
        "\n",
        "def _next_largest(value, options):\n",
        "    for i in options:\n",
        "        if i >= value:\n",
        "            return i\n",
        "    return i\n",
        "\n",
        "def _get_dynamic_formatter(timedelta, *fmts):\n",
        "    def dynamic_formatter(x, pos):\n",
        "        dx = mdates.num2date(x)\n",
        "        strparts = [dx.strftime(fmt) for fmt in fmts]\n",
        "        if pos > 0:\n",
        "            # renders previous tick and removes common parts\n",
        "            prior_dx = dx - timedelta\n",
        "            prior_strparts = [prior_dx.strftime(fmt) for fmt in fmts]\n",
        "            strparts = [new if new != prior else '' for new, prior in zip(strparts, prior_strparts)]\n",
        "        return '\\n'.join(strparts).strip()\n",
        "    return dynamic_formatter\n",
        "\n",
        "\n",
        "def _deduce_locators_formatters(max_ticks, data):\n",
        "    data_interval_seconds = (data.max() - data.min()) / tdelta(seconds=1)\n",
        "    interval_seconds = data_interval_seconds / max_ticks\n",
        "    \n",
        "    if interval_seconds < tdelta(minutes=0.5).total_seconds():\n",
        "        # print(\"xticks: seconds\")\n",
        "        unit_multiple = _next_largest(interval_seconds, INTERVALS['SECONDLY'])\n",
        "        timedelta = tdelta(seconds=unit_multiple)\n",
        "        return (mdates.SecondLocator(bysecond=range(0, 60, unit_multiple)),\n",
        "                FuncFormatter(_get_dynamic_formatter(timedelta, '%M%:S', '%-Hh', '%-d %b')))\n",
        "    elif interval_seconds < tdelta(hours=0.5).total_seconds():\n",
        "        # print(\"xticks: minutes\")\n",
        "        unit_multiple = _next_largest(interval_seconds / tdelta(minutes=1).total_seconds(), INTERVALS['MINUTELY'])\n",
        "        timedelta = tdelta(minutes=unit_multiple)\n",
        "        return (mdates.MinuteLocator(byminute=range(0, 60, unit_multiple)),\n",
        "                FuncFormatter(_get_dynamic_formatter(timedelta, '%H%:M', '%-d %b', '%Y')))\n",
        "    elif interval_seconds < tdelta(days=0.5).total_seconds():\n",
        "        # print(\"xticks: hours\")\n",
        "        unit_multiple = _next_largest(interval_seconds / tdelta(hours=1).total_seconds(), INTERVALS['HOURLY'])\n",
        "        timedelta = tdelta(hours=unit_multiple)\n",
        "        return (mdates.HourLocator(byhour=range(0, 24, unit_multiple)),\n",
        "                FuncFormatter(_get_dynamic_formatter(timedelta, '%-Hh', '%-d %b', '%Y')))\n",
        "    elif interval_seconds < tdelta(days=3).total_seconds():\n",
        "        # print(\"xticks: days\")\n",
        "        unit_multiple = _next_largest(interval_seconds / tdelta(days=1).total_seconds(), INTERVALS['DAILY'])\n",
        "        timedelta = tdelta(days=unit_multiple)\n",
        "        return (mdates.WeekdayLocator(byweekday=range(0, 7, unit_multiple)),\n",
        "                FuncFormatter(_get_dynamic_formatter(timedelta, '%-d', '%b', '%Y')))\n",
        "    elif interval_seconds < tdelta(days=14).total_seconds():\n",
        "        # print(\"xticks: weeks\")\n",
        "        unit_multiple = _next_largest(interval_seconds / tdelta(weeks=1).total_seconds(), INTERVALS['WEEKLY'])\n",
        "        timedelta = tdelta(days=unit_multiple * 7)\n",
        "        return (mdates.WeekdayLocator(byweekday=0, interval=unit_multiple),\n",
        "                FuncFormatter(_get_dynamic_formatter(timedelta, '%-d', '%b', '%Y')))\n",
        "    elif interval_seconds < tdelta(weeks=26).total_seconds():\n",
        "        # print(\"xticks: months\")\n",
        "        unit_multiple = _next_largest(interval_seconds / tdelta(weeks=4).total_seconds(), INTERVALS['MONTHLY'])\n",
        "        timedelta = tdelta(weeks=unit_multiple * 4)\n",
        "        return (mdates.MonthLocator(bymonth=range(1, 13, unit_multiple)),\n",
        "                FuncFormatter(_get_dynamic_formatter(timedelta, '%b', '%Y')))\n",
        "    else:\n",
        "        # print(\"xticks: years\")\n",
        "        unit_multiple = _next_largest(interval_seconds / tdelta(weeks=52).total_seconds(), INTERVALS['YEARLY'])\n",
        "        return (mdates.YearLocator(base=unit_multiple),\n",
        "                mdates.DateFormatter('%Y'))\n",
        "    \n",
        "def nice_dates(ax):\n",
        "    fig = ax.get_figure()\n",
        "    \n",
        "    # information for deciding tick locations\n",
        "    bbox = ax.get_window_extent().transformed(fig.dpi_scale_trans.inverted())\n",
        "    xaxis_length_inch, yaxis_length_inch = bbox.width, bbox.height\n",
        "    max_ticks = xaxis_length_inch * TICKS_PER_INCH\n",
        "    data = pd.to_datetime(ax.lines[0].get_xdata())\n",
        "    \n",
        "    maj_locator, maj_formatter = _deduce_locators_formatters(max_ticks, data)\n",
        "\n",
        "    ax.xaxis.set_major_locator(maj_locator)\n",
        "    ax.xaxis.set_major_formatter(maj_formatter)"
      ]
    },
    {
      "cell_type": "code",
      "source": [
        "fig,ax = plt.subplots(figsize=(10,8))\n",
        "g = sns.barplot(\n",
        "  x=\"cases_per100k\", \n",
        "  y=\"Country\", \n",
        "  data=df.sort_values(by=\"cases_per100k\", ascending=False).iloc[:25],\n",
        "  color=sns.color_palette()[0],\n",
        "  saturation=1.,\n",
        ")\n",
        "# add data labels\n",
        "datalabel_hbar(g)\n",
        "# remove x-axis tick labels\n",
        "g.xaxis.set_ticklabels([])\n",
        "# rename axes labels\n",
        "g.set(xlabel='Cases per 100k people', ylabel='Country')\n",
        "# remove border\n",
        "sns.despine(bottom=True);"
      ],
      "metadata": {
        "id": "m6vwXqZl_5bi"
      },
      "execution_count": null,
      "outputs": []
    },
    {
      "cell_type": "code",
      "source": [
        "dff = df.groupby(['Date_reported', 'WHO_region']).agg(\n",
        "  {'New_cases': 'sum'}\n",
        ").reset_index()"
      ],
      "metadata": {
        "id": "THIfvzphAH5Z"
      },
      "execution_count": null,
      "outputs": []
    },
    {
      "cell_type": "code",
      "source": [
        "p = dff.groupby('WHO_region').apply(\n",
        "  lambda x: x.set_index(\"Date_reported\").rolling(window='7d').mean()\n",
        ").reset_index().rename(columns={\n",
        "  'New_cases': 'New_cases_rolling',\n",
        "})"
      ],
      "metadata": {
        "id": "gKEFNSgHAIx-"
      },
      "execution_count": null,
      "outputs": []
    },
    {
      "cell_type": "code",
      "source": [
        "# set figure asthetics\n",
        "sns.set_context(rc={'lines.linewidth': 2.5})\n",
        "g = sns.lineplot(\n",
        "  data=p, \n",
        "  x=\"Date_reported\", \n",
        "  y=\"New_cases_rolling\", \n",
        "  hue=\"WHO_region\",\n",
        ")\n",
        "# format dates on x-axis\n",
        "nice_dates(g)\n",
        "# move legend outside plot\n",
        "g.legend(loc=2, bbox_to_anchor=(1.05, 1))\n",
        "# # rename axes labels\n",
        "g.set(xlabel=\"\", ylabel=\"Daily new cases (7d rolling avg)\")\n",
        "# remove x gridlines\n",
        "g.xaxis.grid(False)\n",
        "# despine top and right borders\n",
        "sns.despine(left=True, bottom=True);"
      ],
      "metadata": {
        "id": "0Fs8w_gFAKnb"
      },
      "execution_count": null,
      "outputs": []
    },
    {
      "cell_type": "code",
      "source": [
        "# restrict to just the top 8 countries by total cases\n",
        "countries = df.groupby('Country')['Cumulative_cases'].max().sort_values(ascending=False).index[:8]\n",
        "\n",
        "p = df.loc[df['Country'].isin(countries)]\n",
        "p['Country_cat'] = pd.Categorical(\n",
        "  p['Country'], \n",
        "  categories=countries, \n",
        "  ordered=True\n",
        ")\n",
        "data_sorted = p.sort_values(by='Country_cat')\n",
        "# create facet grid\n",
        "g = sns.FacetGrid(\n",
        "  data=data_sorted, \n",
        "  col=\"Country\", \n",
        "  col_wrap=4\n",
        ")\n",
        "# map the bar plot using a matplotlib plotting function\n",
        "g.map(plt.bar, \"Date_reported\", \"New_cases\", color=\"b\", alpha=0.4)\n",
        "# map the lineplot using seaborn\n",
        "kws_line = dict(\n",
        "  x=\"Date_reported\",\n",
        "  y=\"New_cases_rolling\",\n",
        ")\n",
        "g.map_dataframe(sns.lineplot, **kws_line)\n",
        "# set subtitles and axis titles\n",
        "g.set_titles(\"{col_name}\")\n",
        "# apply nicely formatted timeseries labels to bottom row\n",
        "for ax in g.axes:\n",
        "  nice_dates(ax)"
      ],
      "metadata": {
        "id": "RhiJcOiHARbA"
      },
      "execution_count": null,
      "outputs": []
    },
    {
      "cell_type": "code",
      "source": [
        "fig = g.get_figure()\n",
        "fig.savefig('example_chart.svg', bbox_inches=\"tight\")"
      ],
      "metadata": {
        "id": "akYj-ttTAVFC"
      },
      "execution_count": null,
      "outputs": []
    },
    {
      "cell_type": "code",
      "source": [
        "g.savefig('example_facet_chart.svg', bbox_inches=\"tight\")"
      ],
      "metadata": {
        "id": "FxjbOZ2BAWu3"
      },
      "execution_count": null,
      "outputs": []
    },
    {
      "cell_type": "code",
      "source": [
        "fig = g.fig # note: fig is an attribute not a method\n",
        "fig.savefig('example_facet_chart.svg', bbox_inches=\"tight\")"
      ],
      "metadata": {
        "id": "z7BgUQSyAX7k"
      },
      "execution_count": null,
      "outputs": []
    }
  ]
}