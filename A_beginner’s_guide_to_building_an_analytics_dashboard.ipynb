{
  "nbformat": 4,
  "nbformat_minor": 0,
  "metadata": {
    "colab": {
      "name": "A beginner’s guide to building an analytics dashboard.ipynb",
      "provenance": [],
      "authorship_tag": "ABX9TyPMUwc8uTtT0JTkPUdk4tx/"
    },
    "kernelspec": {
      "name": "python3",
      "display_name": "Python 3"
    },
    "language_info": {
      "name": "python"
    }
  },
  "cells": [
    {
      "cell_type": "markdown",
      "source": [
        "[Reference](https://medium.com/@ilaydakursun/a-beginners-guide-to-building-an-analytics-dashboard-42db6be2db1)"
      ],
      "metadata": {
        "id": "S4gfRgYgEjgi"
      }
    },
    {
      "cell_type": "code",
      "source": [
        "pip install dash"
      ],
      "metadata": {
        "colab": {
          "base_uri": "https://localhost:8080/"
        },
        "id": "mX-3hJgAElrs",
        "outputId": "2df14754-3cb4-4855-bec4-4d97582579ca"
      },
      "execution_count": 2,
      "outputs": [
        {
          "output_type": "stream",
          "name": "stdout",
          "text": [
            "Collecting dash\n",
            "  Downloading dash-2.1.0-py3-none-any.whl (7.4 MB)\n",
            "\u001b[K     |████████████████████████████████| 7.4 MB 4.5 MB/s \n",
            "\u001b[?25hCollecting dash-html-components==2.0.0\n",
            "  Downloading dash_html_components-2.0.0.tar.gz (3.8 kB)\n",
            "Requirement already satisfied: Flask>=1.0.4 in /usr/local/lib/python3.7/dist-packages (from dash) (1.1.4)\n",
            "Collecting dash-table==5.0.0\n",
            "  Downloading dash_table-5.0.0.tar.gz (3.4 kB)\n",
            "Requirement already satisfied: plotly>=5.0.0 in /usr/local/lib/python3.7/dist-packages (from dash) (5.5.0)\n",
            "Collecting flask-compress\n",
            "  Downloading Flask_Compress-1.10.1-py3-none-any.whl (7.9 kB)\n",
            "Collecting dash-core-components==2.0.0\n",
            "  Downloading dash_core_components-2.0.0.tar.gz (3.4 kB)\n",
            "Requirement already satisfied: Jinja2<3.0,>=2.10.1 in /usr/local/lib/python3.7/dist-packages (from Flask>=1.0.4->dash) (2.11.3)\n",
            "Requirement already satisfied: itsdangerous<2.0,>=0.24 in /usr/local/lib/python3.7/dist-packages (from Flask>=1.0.4->dash) (1.1.0)\n",
            "Requirement already satisfied: Werkzeug<2.0,>=0.15 in /usr/local/lib/python3.7/dist-packages (from Flask>=1.0.4->dash) (1.0.1)\n",
            "Requirement already satisfied: click<8.0,>=5.1 in /usr/local/lib/python3.7/dist-packages (from Flask>=1.0.4->dash) (7.1.2)\n",
            "Requirement already satisfied: MarkupSafe>=0.23 in /usr/local/lib/python3.7/dist-packages (from Jinja2<3.0,>=2.10.1->Flask>=1.0.4->dash) (2.0.1)\n",
            "Requirement already satisfied: tenacity>=6.2.0 in /usr/local/lib/python3.7/dist-packages (from plotly>=5.0.0->dash) (8.0.1)\n",
            "Requirement already satisfied: six in /usr/local/lib/python3.7/dist-packages (from plotly>=5.0.0->dash) (1.15.0)\n",
            "Collecting brotli\n",
            "  Downloading Brotli-1.0.9-cp37-cp37m-manylinux1_x86_64.whl (357 kB)\n",
            "\u001b[K     |████████████████████████████████| 357 kB 54.9 MB/s \n",
            "\u001b[?25hBuilding wheels for collected packages: dash-core-components, dash-html-components, dash-table\n",
            "  Building wheel for dash-core-components (setup.py) ... \u001b[?25l\u001b[?25hdone\n",
            "  Created wheel for dash-core-components: filename=dash_core_components-2.0.0-py3-none-any.whl size=3822 sha256=d63948cebb55e531b136b43982d016201be0a6172c9f578518aff606794f7c63\n",
            "  Stored in directory: /root/.cache/pip/wheels/00/f9/c7/1a6437d794ed753ea9bc9079e761d4fc803a1f1f5d3697b9ec\n",
            "  Building wheel for dash-html-components (setup.py) ... \u001b[?25l\u001b[?25hdone\n",
            "  Created wheel for dash-html-components: filename=dash_html_components-2.0.0-py3-none-any.whl size=4090 sha256=fa2fefe494bf762fef2eaf33ebba227701ab9140bd9748b91c2d13f6476a9faa\n",
            "  Stored in directory: /root/.cache/pip/wheels/ec/6b/81/05aceabd8b27f724e2c96784016287cc1bfbc349ebfda451de\n",
            "  Building wheel for dash-table (setup.py) ... \u001b[?25l\u001b[?25hdone\n",
            "  Created wheel for dash-table: filename=dash_table-5.0.0-py3-none-any.whl size=3912 sha256=505fc802bdb550253f7aa38923cc852ae03311aa80241a3a4100d6786fff3677\n",
            "  Stored in directory: /root/.cache/pip/wheels/85/5d/4e/7c276b57992951dbe770bf5caad6448d0539c510663aefd2e2\n",
            "Successfully built dash-core-components dash-html-components dash-table\n",
            "Installing collected packages: brotli, flask-compress, dash-table, dash-html-components, dash-core-components, dash\n",
            "Successfully installed brotli-1.0.9 dash-2.1.0 dash-core-components-2.0.0 dash-html-components-2.0.0 dash-table-5.0.0 flask-compress-1.10.1\n"
          ]
        }
      ]
    },
    {
      "cell_type": "code",
      "source": [
        "import sys\n",
        "print(sys.executable)"
      ],
      "metadata": {
        "colab": {
          "base_uri": "https://localhost:8080/"
        },
        "id": "ZhSQkngzG9WA",
        "outputId": "de126e01-a26a-4c4d-bd2a-0b498f17fbcd"
      },
      "execution_count": 13,
      "outputs": [
        {
          "output_type": "stream",
          "name": "stdout",
          "text": [
            "/usr/bin/python3\n"
          ]
        }
      ]
    },
    {
      "cell_type": "code",
      "execution_count": 14,
      "metadata": {
        "id": "gVK_6SAEEVOn"
      },
      "outputs": [],
      "source": [
        "#Importing libraries\n",
        "\n",
        "import dash\n",
        "from dash.dependencies import Input, Output\n",
        "import plotly.figure_factory as ff\n",
        "import dash_bootstrap_components as dbc\n",
        "import dash_html_components as html\n",
        "import dash_core_components as dcc\n",
        "import plotly.graph_objects as go\n",
        "import plotly.express as px\n",
        "import pandas as pd\n",
        "import dash_table\n",
        "\n",
        "#dataframe\n",
        "df = pd.read_csv('/Users/ilaydakursun/Downloads/Dataset3.csv', sep = ';')\n",
        "df_=df[df['Level of development']=='Developing']\n",
        "#Dash\n",
        "app = dash.Dash(__name__ , meta_tags=[{\"name\": \"viewport\", \"content\": \"width=device-width\"}],external_stylesheets=[dbc.themes.BOOTSTRAP])\n",
        "\n",
        "\n",
        "#Define figures here\n",
        "#map\n",
        "map_fig = px.choropleth(\n",
        "        df,\n",
        "        locations='Country',\n",
        "        color='Women Entrepreneurship Index',\n",
        "        geojson='https://raw.githubusercontent.com/holtzy/D3-graph-gallery/master/DATA/world.geojson',\n",
        "        featureidkey='properties.name',\n",
        "        color_continuous_scale='Purpor',\n",
        "    )\n",
        "map_fig.update_layout(margin={\"r\":0,\"t\":0,\"l\":0,\"b\":0})\n",
        "\n",
        "\n",
        "#Comparison figure histogram\n",
        "eindex = df[['Country','Women Entrepreneurship Index', 'Entrepreneurship Index']]\n",
        "eindex = eindex.groupby(by = 'Country').agg(sum)\n",
        "egroup_index = eindex[['Women Entrepreneurship Index', 'Entrepreneurship Index']].sort_values(by = 'Entrepreneurship Index')\n",
        "\n",
        "fig = go.Figure()\n",
        "fig.add_trace(go.Bar(\n",
        "    y=egroup_index['Entrepreneurship Index'].values,\n",
        "    x=egroup_index.index,\n",
        "    name='Entrepreneurship Index',\n",
        "    marker_color='#112E4B'\n",
        "))\n",
        "fig.add_trace(go.Bar(\n",
        "    y=egroup_index['Women Entrepreneurship Index'].values,\n",
        "    x=egroup_index.index,\n",
        "    name='Women Entrepreneurship Index',\n",
        "    marker_color='#47C2FF'\n",
        "))\n",
        "fig.update_traces(orientation = 'v')\n",
        "fig.update_layout(title = '<b>Entrepreneurship  Index </b> and <b>Women Entrepreneurship Index</b> per country', template=\"none\")\n",
        "\n",
        "#box\n",
        "fig_box3 = px.box(df, x = df['European Union Membership'], y = df['Women Entrepreneurship Index'], template=\"ggplot2\",width=850,\n",
        "        height=600)\n",
        "\n",
        "#pie\n",
        "fig_pie1 = px.pie(df_, values='Female Labor Force Participation Rate', names='Country', title = '<b>Female Labor Force Participation Rate in Developing Countries<b>',width=850,\n",
        "        height=600)\n",
        "\n",
        "#scatter\n",
        "fig_scatter = px.scatter(df, x=\"Female Labor Force Participation Rate\", y=\"Women Entrepreneurship Index\", size=\"Entrepreneurship Index\", color=\"Level of development\",\n",
        "           hover_name=\"Country\", template=\"plotly_white\", width=900,\n",
        "        height=600)\n",
        "\n",
        "#Distplot\n",
        "hist_data = [df['Female Labor Force Participation Rate'].values]\n",
        "group_labels = ['Female Labor Force Participation Rate']\n",
        "fig_dist = ff.create_distplot(hist_data, group_labels,curve_type='normal')\n",
        "fig_dist.update_layout(title = 'Female Labor Force Participation Rate Distribution', template=\"ggplot2\", width=1000,\n",
        "        height=600)\n",
        "\n",
        "#Layout\n",
        "app.title = 'Women Entrepreneurship and Labor Force'\n",
        "app.layout = html.Div(children=[\n",
        "\t\thtml.Div(children = [ \n",
        "\t\tdbc.NavbarSimple(\n",
        "\t\t    children=[\n",
        "\t\t\tdbc.NavItem(dbc.NavLink(\"Web Portal\", href=\"#\")),\n",
        "\t\t    ],\n",
        "\t\t    brand=\"Women Entrepreneurship and Labor Force\",\n",
        "\t\t    brand_href=\"#\",\n",
        "\t\t    color=\"#001524\",\n",
        "\t\t    dark=True,)],style={'width': '100%'}\n",
        "\t\t    ),\n",
        "\t\t\n",
        "\t\thtml.Div( children = [\n",
        "\t\tdcc.Graph(id='map', figure=map_fig),\n",
        "\t\t],style={'width':'100%','margin': '2% 0px 0px 0px'}),\n",
        "\t\t\n",
        "\t\thtml.Div(children=[dcc.Graph(id='subplot', figure=fig),],style={'margin': '5px 1% 0px 1%', 'width':'100%'}),\n",
        "\t\t#html.Div(children=[dcc.Graph(id='boxplot1', figure=fig_pie),],style={'margin': '1% 1% 0px 10%'}),\n",
        "\t    \t#html.Div(children=[dcc.Graph(id='boxplot2', figure=fig_pie),],style={'margin': '1% 1% 0px 10%'}),\n",
        "\t    \thtml.Div(children=[dcc.Graph(id='boxplot3', figure=fig_pie1),],style={'marginLeft': 10, 'marginRight': 10, 'marginTop': 20, 'marginBottom': 50, \n",
        "               'backgroundColor':'#F7FBFE'}),\n",
        "               #'border': 'thin lightgrey dashed', 'padding': '6px 0px 0px 8px'}),\n",
        "\t    \thtml.Div(children=[dcc.Graph(id='boxplot4', figure=fig_box3),],style={'margin': '1% 1% 0px 10%'}),\n",
        "\t\thtml.Div(children=[dcc.Graph(id='pop', figure=fig_scatter),],style={'margin': '1% 1% 0px 10%'}),\n",
        "\t\thtml.Div(children=[dcc.Graph(id='Distplot', figure=fig_dist),],style={'margin': '1% 1% 0px 10%'}),\n",
        "\n",
        "\t\thtml.Div([\n",
        "\t        dash_table.DataTable(id='table-multicol-sorting',\n",
        "\t\tcolumns=[\n",
        "\t\t{\"name\": i, \"id\": i} for i in df.columns\n",
        "\t    ],\n",
        "\t    page_current=0,\n",
        "\t    page_size=10,\n",
        "\t    page_action='custom',\n",
        "\t    sort_action='custom',\n",
        "\t    sort_mode='multi',\n",
        "\t    sort_by=[]\n",
        "\t    )],style={'width': '100%','margin': '1% 5% 10px 5%'}),\n",
        "],style={'display': 'flex','flex-direction': 'row','flex-wrap': 'wrap','overflow': 'hidden'})\n",
        "\n",
        "\n",
        "#Callbacks \n",
        "#Dash Table\n",
        "@app.callback(\n",
        "    Output('table-multicol-sorting', \"data\"),\n",
        "    [Input('table-multicol-sorting', \"page_current\"),\n",
        "     Input('table-multicol-sorting', \"page_size\"),\n",
        "     Input('table-multicol-sorting', \"sort_by\")])\n",
        "def update_table(page_current, page_size, sort_by):\n",
        "    print(sort_by)\n",
        "    if len(sort_by):\n",
        "        dff = df.sort_values(\n",
        "            [col['column_id'] for col in sort_by],\n",
        "            ascending=[\n",
        "                col['direction'] == 'asc'\n",
        "                for col in sort_by\n",
        "            ],\n",
        "            inplace=False\n",
        "        )\n",
        "    else:\n",
        "        # No sort is applied\n",
        "        dff = df\n",
        "\n",
        "    return dff.iloc[\n",
        "        page_current*page_size:(page_current+ 1)*page_size\n",
        "    ].to_dict('records')\n",
        "\n",
        "\n",
        "if __name__ == '__main__':\n",
        "    app.run_server(debug=False)"
      ]
    }
  ]
}