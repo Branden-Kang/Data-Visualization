{
  "nbformat": 4,
  "nbformat_minor": 0,
  "metadata": {
    "colab": {
      "provenance": [],
      "authorship_tag": "ABX9TyPQjPgvL9dAYgqjiO3laQx7"
    },
    "kernelspec": {
      "name": "python3",
      "display_name": "Python 3"
    },
    "language_info": {
      "name": "python"
    }
  },
  "cells": [
    {
      "cell_type": "markdown",
      "source": [
        "[Reference](https://medium.com/@SrvZ/how-to-create-stunning-graphs-in-the-terminal-with-python-2adf9d012131)"
      ],
      "metadata": {
        "id": "KhEZwngv7BWb"
      }
    },
    {
      "cell_type": "code",
      "execution_count": 1,
      "metadata": {
        "colab": {
          "base_uri": "https://localhost:8080/"
        },
        "id": "nk9UPHVD5ugB",
        "outputId": "d8dae700-db91-4a40-e746-2d3a4ba302e2"
      },
      "outputs": [
        {
          "output_type": "stream",
          "name": "stdout",
          "text": [
            "\n",
            "AWS Ping Test results: \n",
            "=========================\n",
            "us-east-1 \t 741 ms\n",
            "us-east-2 \t 525 ms\n",
            "us-west-1 \t 540 ms\n",
            "us-west-2 \t 602 ms\n",
            "af-south-1 \t 632 ms\n",
            "ap-southeast-4 \t 599 ms\n",
            "ap-east-1 \t 362 ms\n",
            "\n",
            "AWS Ping Test results: \n",
            "=========================\n",
            "us-east-1 \t **************************************************************************\n",
            "us-east-2 \t ****************************************************\n",
            "us-west-1 \t ******************************************************\n",
            "us-west-2 \t ************************************************************\n",
            "af-south-1 \t ***************************************************************\n",
            "ap-southeast-4 \t ************************************************************\n",
            "ap-east-1 \t ************************************\n"
          ]
        }
      ],
      "source": [
        "data = [\n",
        "    {\n",
        "        \"#\": 1,\n",
        "        \"AWS Region Name\": \"US East (N. Virginia)\",\n",
        "        \"Region Code\": \"us-east-1\",\n",
        "        \"Mean\": \"741 ms\",\n",
        "        \"Median\": \"730 ms\",\n",
        "        \"Min\": \"723 ms\",\n",
        "        \"Max\": \"780 ms\",\n",
        "    },\n",
        "    {\n",
        "        \"#\": 2,\n",
        "        \"AWS Region Name\": \"US East (Ohio)\",\n",
        "        \"Region Code\": \"us-east-2\",\n",
        "        \"Mean\": \"525 ms\",\n",
        "        \"Median\": \"530 ms\",\n",
        "        \"Min\": \"244 ms\",\n",
        "        \"Max\": \"797 ms\",\n",
        "    },\n",
        "    {\n",
        "        \"#\": 3,\n",
        "        \"AWS Region Name\": \"US West (N. California)\",\n",
        "        \"Region Code\": \"us-west-1\",\n",
        "        \"Mean\": \"540 ms\",\n",
        "        \"Median\": \"535 ms\",\n",
        "        \"Min\": \"270 ms\",\n",
        "        \"Max\": \"819 ms\",\n",
        "    },\n",
        "    {\n",
        "        \"#\": 4,\n",
        "        \"AWS Region Name\": \"US West (Oregon)\",\n",
        "        \"Region Code\": \"us-west-2\",\n",
        "        \"Mean\": \"602 ms\",\n",
        "        \"Median\": \"594 ms\",\n",
        "        \"Min\": \"299 ms\",\n",
        "        \"Max\": \"923 ms\",\n",
        "    },\n",
        "    {\n",
        "        \"#\": 5,\n",
        "        \"AWS Region Name\": \"Africa (Cape Town)\",\n",
        "        \"Region Code\": \"af-south-1\",\n",
        "        \"Mean\": \"632 ms\",\n",
        "        \"Median\": \"627 ms\",\n",
        "        \"Min\": \"320 ms\",\n",
        "        \"Max\": \"953 ms\",\n",
        "    },\n",
        "    {\n",
        "        \"#\": 6,\n",
        "        \"AWS Region Name\": \"Asia Pacific (Melbourne)\",\n",
        "        \"Region Code\": \"ap-southeast-4\",\n",
        "        \"Mean\": \"599 ms\",\n",
        "        \"Median\": \"598 ms\",\n",
        "        \"Min\": \"296 ms\",\n",
        "        \"Max\": \"905 ms\",\n",
        "    },\n",
        "    {\n",
        "        \"#\": 7,\n",
        "        \"AWS Region Name\": \"Asia Pacific (Hong Kong)\",\n",
        "        \"Region Code\": \"ap-east-1\",\n",
        "        \"Mean\": \"362 ms\",\n",
        "        \"Median\": \"361 ms\",\n",
        "        \"Min\": \"353 ms\",\n",
        "        \"Max\": \"374 ms\",\n",
        "    },\n",
        "]\n",
        "\n",
        "print(\"\\nAWS Ping Test results: \")\n",
        "print(\"=========================\")\n",
        "for d in data:\n",
        "    print(d[\"Region Code\"], \"\\t\", d[\"Mean\"])\n",
        "\n",
        "\n",
        "print(\"\\nAWS Ping Test results: \")\n",
        "print(\"=========================\")\n",
        "for d in data:\n",
        "    ms = int(d[\"Mean\"].replace(\" ms\", \"\"))\n",
        "    ms_bar = round(ms / 10)\n",
        "    print(d[\"Region Code\"], \"\\t\", \"*\" * ms_bar)"
      ]
    },
    {
      "cell_type": "code",
      "source": [
        "def draw_bar(value, legend=None, char=\"❚\"):\n",
        "    if legend:\n",
        "        print(legend, \"\\t\", char * value)\n",
        "    else:\n",
        "        print(char * value)\n",
        "\n",
        "print(\"\\nAWS Ping Test results: \")\n",
        "print(\"=========================\")\n",
        "for d in data:\n",
        "    print(d[\"Region Code\"], \"\\t\", d[\"Mean\"])\n",
        "\n",
        "\n",
        "print(\"\\nAWS Ping Test results: \")\n",
        "print(\"=========================\")\n",
        "for d in data:\n",
        "    ms = int(d[\"Mean\"].replace(\" ms\", \"\"))\n",
        "    ms_bar = round(ms / 10)\n",
        "    # print(d[\"Region Code\"], \"\\t\", \"*\" * ms_bar)\n",
        "    \n",
        "    draw_bar(ms_bar, d[\"Region Code\"])\n",
        "    draw_bar(ms_bar, d[\"Region Code\"], \"☐\")\n",
        "    draw_bar(ms_bar, d[\"Region Code\"], \"░\")"
      ],
      "metadata": {
        "colab": {
          "base_uri": "https://localhost:8080/"
        },
        "id": "wDnpAITW7Gy5",
        "outputId": "3ceae4ae-bc7a-43f6-a499-1b66d0640725"
      },
      "execution_count": 2,
      "outputs": [
        {
          "output_type": "stream",
          "name": "stdout",
          "text": [
            "\n",
            "AWS Ping Test results: \n",
            "=========================\n",
            "us-east-1 \t 741 ms\n",
            "us-east-2 \t 525 ms\n",
            "us-west-1 \t 540 ms\n",
            "us-west-2 \t 602 ms\n",
            "af-south-1 \t 632 ms\n",
            "ap-southeast-4 \t 599 ms\n",
            "ap-east-1 \t 362 ms\n",
            "\n",
            "AWS Ping Test results: \n",
            "=========================\n",
            "us-east-1 \t ❚❚❚❚❚❚❚❚❚❚❚❚❚❚❚❚❚❚❚❚❚❚❚❚❚❚❚❚❚❚❚❚❚❚❚❚❚❚❚❚❚❚❚❚❚❚❚❚❚❚❚❚❚❚❚❚❚❚❚❚❚❚❚❚❚❚❚❚❚❚❚❚❚❚\n",
            "us-east-1 \t ☐☐☐☐☐☐☐☐☐☐☐☐☐☐☐☐☐☐☐☐☐☐☐☐☐☐☐☐☐☐☐☐☐☐☐☐☐☐☐☐☐☐☐☐☐☐☐☐☐☐☐☐☐☐☐☐☐☐☐☐☐☐☐☐☐☐☐☐☐☐☐☐☐☐\n",
            "us-east-1 \t ░░░░░░░░░░░░░░░░░░░░░░░░░░░░░░░░░░░░░░░░░░░░░░░░░░░░░░░░░░░░░░░░░░░░░░░░░░\n",
            "us-east-2 \t ❚❚❚❚❚❚❚❚❚❚❚❚❚❚❚❚❚❚❚❚❚❚❚❚❚❚❚❚❚❚❚❚❚❚❚❚❚❚❚❚❚❚❚❚❚❚❚❚❚❚❚❚\n",
            "us-east-2 \t ☐☐☐☐☐☐☐☐☐☐☐☐☐☐☐☐☐☐☐☐☐☐☐☐☐☐☐☐☐☐☐☐☐☐☐☐☐☐☐☐☐☐☐☐☐☐☐☐☐☐☐☐\n",
            "us-east-2 \t ░░░░░░░░░░░░░░░░░░░░░░░░░░░░░░░░░░░░░░░░░░░░░░░░░░░░\n",
            "us-west-1 \t ❚❚❚❚❚❚❚❚❚❚❚❚❚❚❚❚❚❚❚❚❚❚❚❚❚❚❚❚❚❚❚❚❚❚❚❚❚❚❚❚❚❚❚❚❚❚❚❚❚❚❚❚❚❚\n",
            "us-west-1 \t ☐☐☐☐☐☐☐☐☐☐☐☐☐☐☐☐☐☐☐☐☐☐☐☐☐☐☐☐☐☐☐☐☐☐☐☐☐☐☐☐☐☐☐☐☐☐☐☐☐☐☐☐☐☐\n",
            "us-west-1 \t ░░░░░░░░░░░░░░░░░░░░░░░░░░░░░░░░░░░░░░░░░░░░░░░░░░░░░░\n",
            "us-west-2 \t ❚❚❚❚❚❚❚❚❚❚❚❚❚❚❚❚❚❚❚❚❚❚❚❚❚❚❚❚❚❚❚❚❚❚❚❚❚❚❚❚❚❚❚❚❚❚❚❚❚❚❚❚❚❚❚❚❚❚❚❚\n",
            "us-west-2 \t ☐☐☐☐☐☐☐☐☐☐☐☐☐☐☐☐☐☐☐☐☐☐☐☐☐☐☐☐☐☐☐☐☐☐☐☐☐☐☐☐☐☐☐☐☐☐☐☐☐☐☐☐☐☐☐☐☐☐☐☐\n",
            "us-west-2 \t ░░░░░░░░░░░░░░░░░░░░░░░░░░░░░░░░░░░░░░░░░░░░░░░░░░░░░░░░░░░░\n",
            "af-south-1 \t ❚❚❚❚❚❚❚❚❚❚❚❚❚❚❚❚❚❚❚❚❚❚❚❚❚❚❚❚❚❚❚❚❚❚❚❚❚❚❚❚❚❚❚❚❚❚❚❚❚❚❚❚❚❚❚❚❚❚❚❚❚❚❚\n",
            "af-south-1 \t ☐☐☐☐☐☐☐☐☐☐☐☐☐☐☐☐☐☐☐☐☐☐☐☐☐☐☐☐☐☐☐☐☐☐☐☐☐☐☐☐☐☐☐☐☐☐☐☐☐☐☐☐☐☐☐☐☐☐☐☐☐☐☐\n",
            "af-south-1 \t ░░░░░░░░░░░░░░░░░░░░░░░░░░░░░░░░░░░░░░░░░░░░░░░░░░░░░░░░░░░░░░░\n",
            "ap-southeast-4 \t ❚❚❚❚❚❚❚❚❚❚❚❚❚❚❚❚❚❚❚❚❚❚❚❚❚❚❚❚❚❚❚❚❚❚❚❚❚❚❚❚❚❚❚❚❚❚❚❚❚❚❚❚❚❚❚❚❚❚❚❚\n",
            "ap-southeast-4 \t ☐☐☐☐☐☐☐☐☐☐☐☐☐☐☐☐☐☐☐☐☐☐☐☐☐☐☐☐☐☐☐☐☐☐☐☐☐☐☐☐☐☐☐☐☐☐☐☐☐☐☐☐☐☐☐☐☐☐☐☐\n",
            "ap-southeast-4 \t ░░░░░░░░░░░░░░░░░░░░░░░░░░░░░░░░░░░░░░░░░░░░░░░░░░░░░░░░░░░░\n",
            "ap-east-1 \t ❚❚❚❚❚❚❚❚❚❚❚❚❚❚❚❚❚❚❚❚❚❚❚❚❚❚❚❚❚❚❚❚❚❚❚❚\n",
            "ap-east-1 \t ☐☐☐☐☐☐☐☐☐☐☐☐☐☐☐☐☐☐☐☐☐☐☐☐☐☐☐☐☐☐☐☐☐☐☐☐\n",
            "ap-east-1 \t ░░░░░░░░░░░░░░░░░░░░░░░░░░░░░░░░░░░░\n"
          ]
        }
      ]
    },
    {
      "cell_type": "code",
      "source": [
        "pip install terminalplot"
      ],
      "metadata": {
        "colab": {
          "base_uri": "https://localhost:8080/"
        },
        "id": "mb0ZumMh7MmJ",
        "outputId": "ceb1908c-3da3-429e-d38c-d54ca852e715"
      },
      "execution_count": 4,
      "outputs": [
        {
          "output_type": "stream",
          "name": "stdout",
          "text": [
            "Looking in indexes: https://pypi.org/simple, https://us-python.pkg.dev/colab-wheels/public/simple/\n",
            "Collecting terminalplot\n",
            "  Downloading terminalplot-0.3.0-py2.py3-none-any.whl (16 kB)\n",
            "Installing collected packages: terminalplot\n",
            "Successfully installed terminalplot-0.3.0\n"
          ]
        }
      ]
    },
    {
      "cell_type": "code",
      "source": [
        "from terminalplot import plot\n",
        "\n",
        "x = range(0, 100, 2)\n",
        "y = [i**2 for i in x]\n",
        "plot(x, y)"
      ],
      "metadata": {
        "colab": {
          "base_uri": "https://localhost:8080/"
        },
        "id": "WQwjawXw7I0x",
        "outputId": "4512cddd-3a3e-469e-db5d-5b736eb8c27e"
      },
      "execution_count": 5,
      "outputs": [
        {
          "output_type": "stream",
          "name": "stdout",
          "text": [
            "                                                                               *\n",
            "                                                                             *  \n",
            "                                                                           *    \n",
            "                                                                        * *     \n",
            "                                                                      *         \n",
            "                                                                     *          \n",
            "                                                                  **            \n",
            "                                                              * *               \n",
            "                                                             *                  \n",
            "                                                          **                    \n",
            "                                                      * *                       \n",
            "                                                   * *                          \n",
            "                                                **                              \n",
            "                                             **                                 \n",
            "                                         * *                                    \n",
            "                                     ** *                                       \n",
            "                                ** *                                            \n",
            "                         * * **                                                 \n",
            "                   ** * *                                                       \n",
            "** ** * ** ** * **                                                              \n",
            "\n",
            "Min x: 0 Max x: 98 Min y: 0 Max y: 9604\n"
          ]
        }
      ]
    },
    {
      "cell_type": "code",
      "source": [
        "pip install asciichartpy"
      ],
      "metadata": {
        "colab": {
          "base_uri": "https://localhost:8080/"
        },
        "id": "mp9hh66t7Q7V",
        "outputId": "cbfaaac2-e580-4b18-f5ca-895f34811e00"
      },
      "execution_count": 6,
      "outputs": [
        {
          "output_type": "stream",
          "name": "stdout",
          "text": [
            "Looking in indexes: https://pypi.org/simple, https://us-python.pkg.dev/colab-wheels/public/simple/\n",
            "Collecting asciichartpy\n",
            "  Downloading asciichartpy-1.5.25-py2.py3-none-any.whl (7.2 kB)\n",
            "Requirement already satisfied: setuptools in /usr/local/lib/python3.10/dist-packages (from asciichartpy) (67.7.2)\n",
            "Installing collected packages: asciichartpy\n",
            "Successfully installed asciichartpy-1.5.25\n"
          ]
        }
      ]
    },
    {
      "cell_type": "code",
      "source": [
        "import asciichartpy as acp\n",
        "from random import randint\n",
        "\n",
        "x = [randint(0, 10) for _ in range(100)]\n",
        "\n",
        "print(acp.plot(x))"
      ],
      "metadata": {
        "colab": {
          "base_uri": "https://localhost:8080/"
        },
        "id": "S96af4ga7KKo",
        "outputId": "5cda1d96-9778-4102-d5bc-cc782f25b529"
      },
      "execution_count": 7,
      "outputs": [
        {
          "output_type": "stream",
          "name": "stdout",
          "text": [
            "   10.00  ┼ ╭╮   ╭─╮             ╭─╮╭╮ ╭╮╭╮   ╭╮                                 ╭╮  ╭╮    ╭╮   ╭─╮\n",
            "    9.00  ┤ ││╭╮ │ │ ╭╮          │ ╰╯│ ││││   ││                  ╭╮ ╭╮       ╭╮ │╰╮ ││    ││   │ │\n",
            "    8.00  ┤ ││││ │ │ ││          │   │ │╰╯│   ││╭─╮    ╭╮  ╭╮     ││ │╰╮ ╭╮   │╰╮│ ╰╮││  ╭╮││ ╭╮│ │   ╭╮ ╭╮ ╭╮\n",
            "    7.00  ┤ ││││ │ │ ││          │   ╰╮│  ╰──╮│││ │    ││  ││     ││ │ │ ││   │ ││  │││╭─╯│││ │││ ╰╮╭╮││ ││ ││\n",
            "    6.00  ┤ │╰╯│ │ │ ││          │    ││     ││││ ╰╮   ││  ││ ╭╮  ││ │ │ ││   │ ││  ╰╯╰╯  │││ │││  ╰╯│││ │╰╮│╰\n",
            "    5.00  ┤╭╯  │ │ │ ││╭╮╭╮╭╮    │    ││     ││╰╯  │   ││╭╮││ ││  │╰╮│ ╰╮│╰╮╭╮│ ││        ││╰─╯││    │││╭╯ ││\n",
            "    4.00  ┤│   │ │ │ ││││││││   ╭╯    ││     ││    │   │╰╯││╰╮││  │ ╰╯  ││ ││││ ││        ╰╯   ╰╯    ╰╯││  ││\n",
            "    3.00  ┤│   │ │ │ ││││││││╭╮ │     ││     ││    │   │  ╰╯ │││  │     ╰╯ ││╰╯ ││                     ││  ││\n",
            "    2.00  ┤│   │ │ │ │││╰╯││╰╯│ │     ││     ││    ╰─╮ │     │││  │        ╰╯   ││                     ││  ╰╯\n",
            "    1.00  ┤│   ╰╮│ │ │╰╯  ││  │╭╯     ╰╯     ╰╯      ╰╮│     ││╰╮╭╯             ╰╯                     ╰╯\n",
            "    0.00  ┼╯    ╰╯ ╰─╯    ╰╯  ╰╯                      ╰╯     ╰╯ ╰╯\n"
          ]
        }
      ]
    },
    {
      "cell_type": "code",
      "source": [
        "pip install termplot"
      ],
      "metadata": {
        "colab": {
          "base_uri": "https://localhost:8080/"
        },
        "id": "Pfitl_L47W_P",
        "outputId": "aafeaaef-984b-4599-c545-db6f4dabfa0f"
      },
      "execution_count": 9,
      "outputs": [
        {
          "output_type": "stream",
          "name": "stdout",
          "text": [
            "Looking in indexes: https://pypi.org/simple, https://us-python.pkg.dev/colab-wheels/public/simple/\n",
            "Collecting termplot\n",
            "  Downloading termplot-0.0.2.tar.gz (1.8 kB)\n",
            "  Preparing metadata (setup.py) ... \u001b[?25l\u001b[?25hdone\n",
            "Building wheels for collected packages: termplot\n",
            "  Building wheel for termplot (setup.py) ... \u001b[?25l\u001b[?25hdone\n",
            "  Created wheel for termplot: filename=termplot-0.0.2-py3-none-any.whl size=2091 sha256=0bd0696021c02b67db859870b85e1ddf4f289b1edad9f1d5e06fc8982aa2d8e0\n",
            "  Stored in directory: /root/.cache/pip/wheels/0f/6a/d6/5ccbef3c8ff726bb54b5bba9ed17e303c1095b238db17006f0\n",
            "Successfully built termplot\n",
            "Installing collected packages: termplot\n",
            "Successfully installed termplot-0.0.2\n"
          ]
        }
      ]
    },
    {
      "cell_type": "code",
      "source": [
        "# import math\n",
        "# from termplot import Plot\n",
        "# xvals, yvals = [], []\n",
        "# for i in range(0, 2000, 5):\n",
        "#     xx = i / 100.0\n",
        "#     xvals.append(xx)\n",
        "#     yvals.append(math.sin(xx) * float(i ** 0.5))\n",
        "# Plot(xvals, yvals, LINE)"
      ],
      "metadata": {
        "id": "OBDoE34f7R7j"
      },
      "execution_count": 12,
      "outputs": []
    },
    {
      "cell_type": "code",
      "source": [
        "pip install plotille"
      ],
      "metadata": {
        "colab": {
          "base_uri": "https://localhost:8080/"
        },
        "id": "gDo13XLa7cD7",
        "outputId": "735bf80a-e1fb-4432-886c-ca837a08d5b2"
      },
      "execution_count": 13,
      "outputs": [
        {
          "output_type": "stream",
          "name": "stdout",
          "text": [
            "Looking in indexes: https://pypi.org/simple, https://us-python.pkg.dev/colab-wheels/public/simple/\n",
            "Collecting plotille\n",
            "  Downloading plotille-5.0.0.tar.gz (53 kB)\n",
            "\u001b[2K     \u001b[90m━━━━━━━━━━━━━━━━━━━━━━━━━━━━━━━━━━━━━━━━\u001b[0m \u001b[32m53.4/53.4 kB\u001b[0m \u001b[31m2.6 MB/s\u001b[0m eta \u001b[36m0:00:00\u001b[0m\n",
            "\u001b[?25h  Installing build dependencies ... \u001b[?25l\u001b[?25hdone\n",
            "  Getting requirements to build wheel ... \u001b[?25l\u001b[?25hdone\n",
            "  Preparing metadata (pyproject.toml) ... \u001b[?25l\u001b[?25hdone\n",
            "Building wheels for collected packages: plotille\n",
            "  Building wheel for plotille (pyproject.toml) ... \u001b[?25l\u001b[?25hdone\n",
            "  Created wheel for plotille: filename=plotille-5.0.0-py3-none-any.whl size=57946 sha256=6bb802e29bd63bbcd5af6f3f6ec907dcfb0d0cab386ac00cd3c0f3eee20371f4\n",
            "  Stored in directory: /root/.cache/pip/wheels/bf/58/2e/bff9d654a7c28b7ecadc624554e40283e09719ec1dfd81bdb4\n",
            "Successfully built plotille\n",
            "Installing collected packages: plotille\n",
            "Successfully installed plotille-5.0.0\n"
          ]
        }
      ]
    },
    {
      "cell_type": "code",
      "source": [
        "import plotille\n",
        "import psutil\n",
        "\n",
        "temps = []\n",
        "n = []\n",
        "for i in range(100):\n",
        "    n.append(i)\n",
        "    temps.append(psutil.cpu_percent(interval=0.1))\n",
        "\n",
        "fig = plotille.Figure()\n",
        "print(plotille.plot(n, temps, height=30, width=60, interp=\"linear\", lc=\"cyan\"))"
      ],
      "metadata": {
        "colab": {
          "base_uri": "https://localhost:8080/"
        },
        "id": "F97zMyYX7av8",
        "outputId": "18ba423b-5ed5-4cd9-c62a-bc550fc01ef5"
      },
      "execution_count": 14,
      "outputs": [
        {
          "output_type": "stream",
          "name": "stdout",
          "text": [
            "   (Y)     ^\n",
            "       110 |\n",
            "       106 | ⠀⠀⠀⠀⠀⡇⠀⠀⠀⠀⠀⠀⠀⠀⠀⠀⠀⠀⠀⠀⠀⠀⠀⠀⠀⠀⠀⠀⠀⠀⠀⠀⠀⠀⠀⠀⠀⠀⠀⠀⠀⠀⠀⠀⠀⠀⠀⠀⠀⠀⠀⠀⠀⠀⠀⠀⠀⠀⠀⠀\n",
            "       102 | ⠀⠀⠀⠀⠀⡇⠀⠀⠀⠀⠀⠀⠀⠀⠀⠀⠀⠀⠀⠀⠀⠀⠀⠀⠀⠀⠀⠀⠀⠀⠀⠀⠀⠀⠀⠀⠀⠀⠀⠀⠀⠀⠀⠀⠀⠀⠀⠀⠀⠀⠀⠀⠀⠀⠀⠀⠀⠀⠀⠀\n",
            "        98 | ⠀⠀⠀⠀⠀⡇⠀⠀⠀⠀⠀⠀⠀⠀⠀⠀⠀⠀⠀⠀⠀⠀⠀⠀⠀⠀⠀⠀⠀⠀⠀⠀⠀⠀⠀⠀⠀⠀⠀⠀⢰⠒⠒⡆⠀⠀⠀⠀⠀⠀⠀⠀⠀⠀⠀⠀⠀⠀⠀⠀\n",
            "        94 | ⠀⠀⠀⠀⠀⡇⠀⠀⠀⠀⠀⠀⠀⠀⠀⠀⠀⠀⠀⠀⠀⠀⠀⠀⠀⠀⠀⠀⠀⠀⠀⠀⠀⠀⠀⠀⠀⠀⠀⠀⢸⠀⠀⢇⠀⠀⠀⠀⠀⠀⠀⠀⠀⠀⢠⠄⠀⠀⠀⠀\n",
            "        90 | ⠀⠀⠀⠀⠀⣇⠀⠀⠀⠀⠀⠀⠀⠀⠀⠀⠀⠀⠀⠀⠀⠀⠀⠀⠀⠀⠀⠀⠀⠀⠀⠀⠀⠀⠀⠀⠀⠀⠀⠀⡎⠀⠀⢸⢀⠀⠀⠀⢀⠀⠀⡀⢀⠀⢸⠀⠀⠀⠀⠀\n",
            "        86 | ⠀⠀⠀⠀⠀⣿⠀⠀⠀⠀⠀⠀⠀⠀⠀⠀⠀⠀⠀⠀⠀⠀⠀⠀⠀⠀⠀⠀⠀⠀⠀⠀⠀⠀⠀⠀⠀⠀⠀⠀⡇⠀⠀⢸⢸⡄⠀⠀⢸⠀⠀⡇⢸⡀⢸⠀⠀⠀⠀⠀\n",
            "        82 | ⠀⠀⠀⠀⠀⣿⠀⠀⠀⠀⠀⠀⠀⠀⠀⠀⠀⠀⠀⠀⠀⠀⠀⠀⠀⠀⠀⠀⠀⠀⠀⠀⠀⠀⠀⠀⠀⠀⠀⠀⡇⠀⠀⢸⢸⡇⠀⠀⢸⡆⢸⡇⢸⡇⢸⠀⠀⠀⠀⠀\n",
            "        78 | ⠀⠀⠀⠀⠀⡇⡇⠀⠀⠀⠀⠀⠀⠀⠀⠀⠀⠀⠀⠀⠀⠀⠀⠀⠀⠀⠀⠀⠀⠀⠀⠀⠀⠀⠀⠀⠀⠀⠀⠀⡇⠀⠀⢸⢸⡇⠀⠀⡎⡇⢸⢣⡸⢸⡎⠀⠀⠀⠀⠀\n",
            "        74 | ⠀⠀⠀⠀⠀⡇⡇⠀⠀⠀⠀⠀⠀⠀⠀⠀⠀⠀⠀⠀⠀⠀⠀⠀⠀⠀⠀⠀⠀⠀⠀⠀⠀⠀⠀⠀⠀⠀⠀⠀⡇⠀⠀⢸⡸⢸⡀⣤⡇⢸⢸⢸⡇⢸⡇⠀⠀⠀⠀⠀\n",
            "        70 | ⠀⠀⠀⠀⠀⡇⡇⠀⠀⠀⠀⠀⠀⠀⠀⠀⠀⠀⠀⠀⠀⠀⠀⠀⠀⠀⠀⠀⠀⠀⠀⠀⠀⠀⠀⠀⠀⠀⠀⠀⡇⠀⠀⠀⡇⢸⢳⠉⡇⠸⡇⢸⡇⠈⡇⠀⠀⠀⠀⠀\n",
            "        66 | ⠀⠀⠀⠀⠀⡇⡇⠀⠀⠀⠀⠀⠀⠀⠀⠀⠀⠀⠀⠀⠀⠀⠀⠀⠀⠀⠀⠀⠀⠀⠀⠀⠀⠀⠀⠀⠀⠀⠀⢠⠃⠀⠀⠀⡇⠀⠀⠀⠀⠀⠇⠈⠇⠀⡇⠀⠀⠀⠀⠀\n",
            "        62 | ⠀⠀⠀⠀⠀⡇⡇⠀⠀⠀⠀⠀⠀⠀⠀⠀⠀⠀⠀⠀⠀⠀⠀⠀⠀⠀⠀⠀⠀⠀⠀⠀⠀⠀⠀⠀⠀⠀⠀⢸⠀⠀⠀⠀⡇⠀⠀⠀⠀⠀⠀⠀⠀⠀⠁⠀⠀⠀⠀⠀\n",
            "        58 | ⠀⠀⠀⠀⠀⡇⡇⠀⠀⠀⡆⠀⠀⠀⠀⠀⠀⠀⠀⠀⠀⠀⠀⠀⠀⠀⠀⠀⠀⠀⠀⠀⠀⠀⠀⠀⠀⡀⠀⣾⠀⠀⠀⠀⡇⠀⠀⠀⠀⠀⠀⠀⠀⠀⠀⠀⠀⠀⠀⠀\n",
            "        54 | ⠀⠀⠀⠀⠀⡇⡇⠀⠀⠀⣧⠀⠀⠀⠀⠀⠀⠀⠀⠀⠀⠀⠀⠀⠀⠀⠀⠀⠀⠀⠀⠀⠀⠀⢠⢤⢠⢻⢠⢿⠀⠀⠀⠀⠀⠀⠀⠀⠀⠀⠀⠀⠀⠀⠀⠀⠀⠀⠀⠀\n",
            "        50 | ⠀⠀⠀⠀⠀⡇⡇⠀⠀⠀⣿⠀⠀⠀⠀⠀⠀⠀⠀⢀⠀⠀⠀⠀⠀⠀⠀⠀⠀⠀⠀⠀⠀⠀⡎⠀⠙⠀⣿⢸⠀⠀⠀⠀⠀⠀⠀⠀⠀⠀⠀⠀⠀⠀⠀⠀⠀⠀⠀⠀\n",
            "        46 | ⠀⠀⠀⠀⠀⡇⡇⠀⠀⠀⣿⠀⠀⠀⠀⠀⠀⠀⠀⢸⠀⠀⠀⠀⠀⠀⠀⠀⠀⠀⠀⠀⠀⠀⡇⠀⠀⠀⠀⠀⠀⠀⠀⠀⠀⠀⠀⠀⠀⠀⠀⠀⠀⠀⠀⠀⠀⠀⠀⠀\n",
            "        42 | ⠀⠀⠀⠀⠀⡇⡇⠀⠀⠀⡏⡆⠀⠀⠀⠀⠀⠀⠀⣸⠀⠀⠀⠀⠀⠀⠀⠀⠀⠀⠀⠀⠀⠀⡇⠀⠀⠀⠀⠀⠀⠀⠀⠀⠀⠀⠀⠀⠀⠀⠀⠀⠀⠀⠀⠀⠀⠀⠀⠀\n",
            "        38 | ⠀⠀⠀⠀⠀⡇⡇⠀⠀⠀⡇⡇⠀⠀⠀⠀⠀⠀⠀⡇⡇⠀⠀⠀⠀⠀⠀⠀⠀⠀⠀⠀⠀⠀⡇⠀⠀⠀⠀⠀⠀⠀⠀⠀⠀⠀⠀⠀⠀⠀⠀⠀⠀⠀⠀⠀⠀⠀⠀⠀\n",
            "        34 | ⠀⠀⠀⠀⠀⡇⢱⠀⠀⠀⡇⡇⠀⠀⠀⠀⠀⠀⠀⡇⡇⠀⠀⠀⠀⠀⠀⠀⠀⠀⠀⠀⠀⠀⡇⠀⠀⠀⠀⠀⠀⠀⠀⠀⠀⠀⠀⠀⠀⠀⠀⠀⠀⠀⠀⠀⠀⠀⠀⠀\n",
            "        30 | ⠀⠀⠀⠀⠀⡇⢸⠀⠀⢀⠇⡇⠀⠀⠀⠀⠀⠀⠀⡇⡇⠀⠀⠀⠀⠀⠀⠀⠀⠀⠀⠀⠀⠀⡇⠀⠀⠀⠀⠀⠀⠀⠀⠀⠀⠀⠀⠀⠀⠀⠀⠀⠀⠀⠀⠀⠀⠀⠀⠀\n",
            "        26 | ⠀⠀⠀⠀⠀⡇⢸⠀⠀⢸⠀⡇⠀⠀⠀⠀⠀⠀⠀⡇⡇⠀⠀⠀⠀⠀⠀⠀⠀⠀⠀⠀⠀⠀⡇⠀⠀⠀⠀⠀⠀⠀⠀⠀⠀⠀⠀⠀⠀⠀⠀⠀⠀⠀⠀⠀⠀⠀⠀⠀\n",
            "        22 | ⠀⠀⠀⠀⠀⡇⢸⠀⠀⢸⠀⡇⠀⠀⠀⠀⠀⠀⠀⡇⡇⠀⠀⠀⠀⠀⠀⠀⠀⠀⠀⠀⠀⢸⠀⠀⠀⠀⠀⠀⠀⠀⠀⠀⠀⠀⠀⠀⠀⠀⠀⠀⠀⠀⠀⠀⠀⠀⠀⠀\n",
            "        18 | ⠀⠀⠀⠀⠀⡇⢸⠀⠀⢸⠀⢱⠀⠀⠀⠀⠀⠀⠀⡇⡇⠀⠀⠀⠀⠀⠀⠀⠀⠀⠀⠀⠀⢸⠀⠀⠀⠀⠀⠀⠀⠀⠀⠀⠀⠀⠀⠀⠀⠀⠀⠀⠀⠀⠀⠀⠀⠀⠀⠀\n",
            "        14 | ⠀⠀⠀⠀⠀⡇⢸⠀⠀⢸⠀⢸⡄⠀⠀⠀⠀⠀⢸⠀⢱⠀⠀⠀⠀⠀⠀⠀⠀⠀⠀⠀⡀⢸⠀⠀⠀⠀⠀⠀⠀⠀⠀⠀⠀⠀⠀⠀⠀⠀⠀⠀⠀⠀⠀⠀⠀⠀⠀⠀\n",
            "        10 | ⠀⠀⠀⠀⠀⡇⢸⠀⠀⢸⠀⢸⡇⠀⠀⠀⠀⠀⢸⠀⢸⣀⢀⠀⠀⠀⢀⠀⠀⠀⠀⠀⡇⢸⠀⠀⠀⠀⠀⠀⠀⠀⠀⠀⠀⠀⠀⠀⠀⠀⠀⠀⠀⠀⠀⠀⠀⠀⠀⠀\n",
            "         6 | ⠀⠀⠀⠀⠀⡇⢸⠀⠀⢸⠀⢸⢣⠀⠀⠀⠀⠀⢸⠀⢸⣿⢸⠀⠀⠀⢸⠀⠀⠀⠀⢠⢻⢸⠀⠀⠀⠀⠀⠀⠀⠀⠀⠀⠀⠀⠀⠀⠀⠀⠀⠀⠀⠀⠀⠀⠀⠀⠀⠀\n",
            "         2 | ⠀⠀⠀⠀⠀⡇⢸⢇⡸⣸⠀⠈⢸⡸⡀⡸⠹⡸⣸⠀⢸⠈⡏⡾⡀⡸⡏⡾⢇⠀⢀⢿⠈⢿⠀⠀⠀⠀⠀⠀⠀⠀⠀⠀⠀⠀⠀⠀⠀⠀⠀⠀⠀⠀⠀⠀⠀⠀⠀⠀\n",
            "        -2 | ⠒⠒⠒⠒⠒⡗⠚⠚⠓⠛⠒⠒⠚⠓⠓⠓⠒⠓⠛⠒⠚⠒⠓⠓⠓⠓⠓⠓⠚⠒⠚⠚⠒⠚⠒⠒⠒⠒⠒⠒⠒⠒⠒⠒⠒⠒⠒⠒⠒⠒⠒⠒⠒⠒⠒⠒⠒⠒⠒⠒\n",
            "        -6 | ⠀⠀⠀⠀⠀⡇⠀⠀⠀⠀⠀⠀⠀⠀⠀⠀⠀⠀⠀⠀⠀⠀⠀⠀⠀⠀⠀⠀⠀⠀⠀⠀⠀⠀⠀⠀⠀⠀⠀⠀⠀⠀⠀⠀⠀⠀⠀⠀⠀⠀⠀⠀⠀⠀⠀⠀⠀⠀⠀⠀\n",
            "       -10 | ⠀⠀⠀⠀⠀⡇⠀⠀⠀⠀⠀⠀⠀⠀⠀⠀⠀⠀⠀⠀⠀⠀⠀⠀⠀⠀⠀⠀⠀⠀⠀⠀⠀⠀⠀⠀⠀⠀⠀⠀⠀⠀⠀⠀⠀⠀⠀⠀⠀⠀⠀⠀⠀⠀⠀⠀⠀⠀⠀⠀\n",
            "-----------|-|---------|---------|---------|---------|---------|---------|-> (X)\n",
            "           | -9.900000 9.9000000 29.700000 49.500000 69.300000 89.100000 108.90000\n"
          ]
        }
      ]
    },
    {
      "cell_type": "code",
      "source": [
        "pip install termcharts"
      ],
      "metadata": {
        "colab": {
          "base_uri": "https://localhost:8080/"
        },
        "id": "PxNuOYkb7phd",
        "outputId": "26ae0f01-ac0f-4071-ce30-0e2f588c8a00"
      },
      "execution_count": 15,
      "outputs": [
        {
          "output_type": "stream",
          "name": "stdout",
          "text": [
            "Looking in indexes: https://pypi.org/simple, https://us-python.pkg.dev/colab-wheels/public/simple/\n",
            "Collecting termcharts\n",
            "  Downloading termcharts-1.1.2.tar.gz (32 kB)\n",
            "  Preparing metadata (setup.py) ... \u001b[?25l\u001b[?25hdone\n",
            "Building wheels for collected packages: termcharts\n",
            "  Building wheel for termcharts (setup.py) ... \u001b[?25l\u001b[?25hdone\n",
            "  Created wheel for termcharts: filename=termcharts-1.1.2-py3-none-any.whl size=22240 sha256=bfa668264976074f6a5a1c0aceabe30eb8bcc8825dac7ba771c45babc3202153\n",
            "  Stored in directory: /root/.cache/pip/wheels/52/7f/45/905a3caa98b41ea19078f586974700cef5c35215f11c083467\n",
            "Successfully built termcharts\n",
            "Installing collected packages: termcharts\n",
            "Successfully installed termcharts-1.1.2\n"
          ]
        }
      ]
    },
    {
      "cell_type": "code",
      "source": [
        "import termcharts\n",
        "from rich import print\n",
        "from rich.layout import Layout\n",
        "from rich.panel import Panel\n",
        "\n",
        "data = {\"Work\": 8, \"Sleep\": 6, \"Gaming\": 4, \"Netflix\": 4, \"Misc\": 2}\n",
        "\n",
        "chart1 = termcharts.bar(data, title=\"Time of my life\", rich=True)\n",
        "chart2 = termcharts.bar(data, title=\"Time of my life\", mode=\"v\", rich=True)  # vertical\n",
        "\n",
        "chart_pie = termcharts.pie(data, title=\"Time of my life\", rich=True)\n",
        "\n",
        "chart_donut = termcharts.doughnut(data, title=\"Time of my life\", rich=True)\n",
        "\n",
        "layout = Layout()\n",
        "layout.split_column(Layout(name=\"upper\"), Layout(name=\"lower\"))\n",
        "layout[\"upper\"].split_row(\n",
        "    Layout(name=\"uleft\"),\n",
        "    Layout(name=\"uright\"),\n",
        ")\n",
        "layout[\"lower\"].split_row(\n",
        "    Layout(name=\"lleft\"),\n",
        "    Layout(name=\"lright\"),\n",
        ")\n",
        "layout[\"uleft\"].update(Panel(chart1))\n",
        "layout[\"uright\"].update(Panel(chart2))\n",
        "layout[\"lleft\"].update(Panel(chart_pie))\n",
        "layout[\"lright\"].update(Panel(chart_donut))\n",
        "\n",
        "print(layout)"
      ],
      "metadata": {
        "colab": {
          "base_uri": "https://localhost:8080/",
          "height": 1000
        },
        "id": "QQaOKtf37mQr",
        "outputId": "04da514c-5a71-472e-dd0c-5141024d5d0d"
      },
      "execution_count": 16,
      "outputs": [
        {
          "output_type": "display_data",
          "data": {
            "text/plain": [
              "╭───────────────────────────────────────────────────────╮╭────────────────────────────────────────────────────────╮\n",
              "│                                                       ││                                                        │\n",
              "│ \u001b[37mTime of my life                     \u001b[0m                  ││ \u001b[37mTime of my l\u001b[0m                                           │\n",
              "│ \u001b[37m                                         \u001b[0m             ││ \u001b[37m                 \u001b[0m                                      │\n",
              "│ \u001b[37m│\u001b[0m\u001b[39m                                        \u001b[0m             ││ \u001b[37m \u001b[0m\u001b[32m█               \u001b[0m                                      │\n",
              "│ \u001b[37m│\u001b[0m\u001b[31m███████████████████████████ 8      \u001b[0m                  ││ \u001b[32m \u001b[0m\u001b[32m█               \u001b[0m                                      │\n",
              "│ \u001b[37m│\u001b[0m\u001b[39m                                        \u001b[0m             ││ \u001b[32m \u001b[0m\u001b[32m█               \u001b[0m                                      │\n",
              "│ \u001b[37m│\u001b[0m\u001b[32m████████████████████ 6             \u001b[0m                  ││ \u001b[32m \u001b[0m\u001b[32m█ \u001b[0m\u001b[33m█             \u001b[0m                                      │\n",
              "│ \u001b[37m│\u001b[0m\u001b[39m                                        \u001b[0m             ││ \u001b[33m \u001b[0m\u001b[32m█ \u001b[0m\u001b[33m█             \u001b[0m                                      │\n",
              "│ \u001b[37m│\u001b[0m\u001b[33m█████████████ 4                    \u001b[0m                  ││ \u001b[33m \u001b[0m\u001b[32m█ \u001b[0m\u001b[33m█ \u001b[0m\u001b[35m█ \u001b[0m\u001b[31m█         \u001b[0m                                      │\n",
              "│ \u001b[37m│\u001b[0m\u001b[39m                                        \u001b[0m             ││ \u001b[31m \u001b[0m\u001b[32m█ \u001b[0m\u001b[33m█ \u001b[0m\u001b[35m█ \u001b[0m\u001b[31m█         \u001b[0m                                      │\n",
              "│ \u001b[37m│\u001b[0m\u001b[35m█████████████ 4                    \u001b[0m                  ││ \u001b[31m \u001b[0m\u001b[32m█ \u001b[0m\u001b[33m█ \u001b[0m\u001b[35m█ \u001b[0m\u001b[31m█         \u001b[0m                                      │\n",
              "│ \u001b[37m│\u001b[0m\u001b[39m                                        \u001b[0m             ││ \u001b[31m \u001b[0m\u001b[32m█ \u001b[0m\u001b[33m█ \u001b[0m\u001b[35m█ \u001b[0m\u001b[31m█ \u001b[0m\u001b[32m█       \u001b[0m                                      │\n",
              "│ \u001b[37m│\u001b[0m\u001b[31m██████ 2                           \u001b[0m                  ││ \u001b[32m \u001b[0m\u001b[32m█ \u001b[0m\u001b[33m█ \u001b[0m\u001b[35m█ \u001b[0m\u001b[31m█ \u001b[0m\u001b[32m█       \u001b[0m                                      │\n",
              "│ \u001b[37m│\u001b[0m\u001b[39m                                        \u001b[0m             ││ \u001b[32m \u001b[0m\u001b[32m█ \u001b[0m\u001b[33m█ \u001b[0m\u001b[35m█ \u001b[0m\u001b[31m█ \u001b[0m\u001b[32m█       \u001b[0m                                      │\n",
              "│                                                       ││ \u001b[37m─\u001b[0m\u001b[37m─\u001b[0m\u001b[37m─\u001b[0m\u001b[37m─\u001b[0m\u001b[37m─\u001b[0m\u001b[37m─\u001b[0m\u001b[37m─\u001b[0m\u001b[37m─\u001b[0m\u001b[37m─\u001b[0m\u001b[37m─\u001b[0m\u001b[37m─                \u001b[0m                            │\n",
              "│                                                       ││                                                        │\n",
              "│                                                       ││                                                        │\n",
              "│                                                       ││                                                        │\n",
              "│                                                       ││                                                        │\n",
              "│                                                       ││                                                        │\n",
              "│                                                       ││                                                        │\n",
              "│                                                       ││                                                        │\n",
              "│                                                       ││                                                        │\n",
              "│                                                       ││                                                        │\n",
              "│                                                       ││                                                        │\n",
              "│                                                       ││                                                        │\n",
              "│                                                       ││                                                        │\n",
              "│                                                       ││                                                        │\n",
              "│                                                       ││                                                        │\n",
              "│                                                       ││                                                        │\n",
              "│                                                       ││                                                        │\n",
              "│                                                       ││                                                        │\n",
              "│                                                       ││                                                        │\n",
              "│                                                       ││                                                        │\n",
              "│                                                       ││                                                        │\n",
              "│                                                       ││                                                        │\n",
              "│                                                       ││                                                        │\n",
              "│                                                       ││                                                        │\n",
              "│                                                       ││                                                        │\n",
              "│                                                       ││                                                        │\n",
              "│                                                       ││                                                        │\n",
              "│                                                       ││                                                        │\n",
              "│                                                       ││                                                        │\n",
              "│                                                       ││                                                        │\n",
              "│                                                       ││                                                        │\n",
              "│                                                       ││                                                        │\n",
              "│                                                       ││                                                        │\n",
              "│                                                       ││                                                        │\n",
              "╰───────────────────────────────────────────────────────╯╰────────────────────────────────────────────────────────╯\n",
              "╭───────────────────────────────────────────────────────╮╭────────────────────────────────────────────────────────╮\n",
              "│                                                       ││                                                        │\n",
              "│ Time of my life                                       ││ Time of my life                                        │\n",
              "│          \u001b[35m█\u001b[0m\u001b[35m█\u001b[0m\u001b[35m█\u001b[0m\u001b[35m█\u001b[0m\u001b[35m█\u001b[0m\u001b[35m█\u001b[0m\u001b[35m█         \u001b[0m\u001b[33m Work                   \u001b[0m     ││          \u001b[31m█\u001b[0m\u001b[31m█\u001b[0m\u001b[31m█\u001b[0m\u001b[31m█\u001b[0m\u001b[31m█\u001b[0m\u001b[31m█\u001b[0m\u001b[31m█         \u001b[0m\u001b[35m Work                   \u001b[0m      │\n",
              "│ \u001b[33m       \u001b[0m\u001b[31m█\u001b[0m\u001b[35m█\u001b[0m\u001b[35m█\u001b[0m\u001b[35m█\u001b[0m\u001b[35m█\u001b[0m\u001b[35m█\u001b[0m\u001b[35m█\u001b[0m\u001b[35m█\u001b[0m\u001b[35m█\u001b[0m\u001b[35m█\u001b[0m\u001b[35m█       \u001b[0m\u001b[35m Sleep                  \u001b[0m     ││ \u001b[35m       \u001b[0m\u001b[32m█\u001b[0m\u001b[31m█\u001b[0m\u001b[31m█\u001b[0m\u001b[31m█\u001b[0m\u001b[31m█\u001b[0m\u001b[31m█\u001b[0m\u001b[31m█\u001b[0m\u001b[31m█\u001b[0m\u001b[31m█\u001b[0m\u001b[31m█\u001b[0m\u001b[31m█       \u001b[0m\u001b[31m Sleep                  \u001b[0m      │\n",
              "│ \u001b[35m     \u001b[0m\u001b[31m█\u001b[0m\u001b[31m█\u001b[0m\u001b[31m█\u001b[0m\u001b[31m█\u001b[0m\u001b[35m█\u001b[0m\u001b[35m█\u001b[0m\u001b[35m█\u001b[0m\u001b[35m█\u001b[0m\u001b[35m█\u001b[0m\u001b[35m█\u001b[0m\u001b[35m█\u001b[0m\u001b[35m█\u001b[0m\u001b[35m█\u001b[0m\u001b[35m█\u001b[0m\u001b[35m█     \u001b[0m\u001b[31m Gaming                 \u001b[0m     ││ \u001b[31m     \u001b[0m\u001b[32m█\u001b[0m\u001b[32m█\u001b[0m\u001b[32m█\u001b[0m\u001b[32m█\u001b[0m\u001b[31m█\u001b[0m\u001b[31m█\u001b[0m\u001b[31m█\u001b[0m\u001b[31m█\u001b[0m\u001b[31m█\u001b[0m\u001b[31m█\u001b[0m\u001b[31m█\u001b[0m\u001b[31m█\u001b[0m\u001b[31m█\u001b[0m\u001b[31m█\u001b[0m\u001b[31m█     \u001b[0m\u001b[32m Gaming                 \u001b[0m      │\n",
              "│ \u001b[31m    \u001b[0m\u001b[31m█\u001b[0m\u001b[31m█\u001b[0m\u001b[31m█\u001b[0m\u001b[31m█\u001b[0m\u001b[31m█\u001b[0m\u001b[35m█\u001b[0m\u001b[35m█\u001b[0m\u001b[35m█\u001b[0m\u001b[35m█\u001b[0m\u001b[35m█\u001b[0m\u001b[35m█\u001b[0m\u001b[35m█\u001b[0m\u001b[35m█\u001b[0m\u001b[35m█\u001b[0m\u001b[35m█\u001b[0m\u001b[35m█\u001b[0m\u001b[35m█    \u001b[0m\u001b[32m Netflix                \u001b[0m     ││ \u001b[32m    \u001b[0m\u001b[32m█\u001b[0m\u001b[32m█\u001b[0m\u001b[32m█\u001b[0m\u001b[32m█\u001b[0m\u001b[32m█\u001b[0m\u001b[31m█\u001b[0m\u001b[31m█   \u001b[0m\u001b[31m█\u001b[0m\u001b[31m█\u001b[0m\u001b[31m█\u001b[0m\u001b[31m█\u001b[0m\u001b[31m█\u001b[0m\u001b[31m█\u001b[0m\u001b[31m█    \u001b[0m\u001b[33m Netflix                \u001b[0m      │\n",
              "│ \u001b[32m    \u001b[0m\u001b[31m█\u001b[0m\u001b[31m█\u001b[0m\u001b[31m█\u001b[0m\u001b[31m█\u001b[0m\u001b[31m█\u001b[0m\u001b[31m█\u001b[0m\u001b[35m█\u001b[0m\u001b[35m█\u001b[0m\u001b[35m█\u001b[0m\u001b[35m█\u001b[0m\u001b[35m█\u001b[0m\u001b[35m█\u001b[0m\u001b[35m█\u001b[0m\u001b[35m█\u001b[0m\u001b[35m█\u001b[0m\u001b[35m█\u001b[0m\u001b[35m█    \u001b[0m\u001b[33m Misc                   \u001b[0m     ││ \u001b[33m    \u001b[0m\u001b[32m█\u001b[0m\u001b[32m█\u001b[0m\u001b[32m█\u001b[0m\u001b[32m█\u001b[0m\u001b[32m█       \u001b[0m\u001b[31m█\u001b[0m\u001b[31m█\u001b[0m\u001b[31m█\u001b[0m\u001b[31m█\u001b[0m\u001b[31m█    \u001b[0m\u001b[35m Misc                   \u001b[0m      │\n",
              "│ \u001b[33m   \u001b[0m\u001b[31m█\u001b[0m\u001b[31m█\u001b[0m\u001b[31m█\u001b[0m\u001b[31m█\u001b[0m\u001b[31m█\u001b[0m\u001b[31m█\u001b[0m\u001b[31m█\u001b[0m\u001b[35m█\u001b[0m\u001b[35m█\u001b[0m\u001b[35m█\u001b[0m\u001b[35m█\u001b[0m\u001b[35m█\u001b[0m\u001b[35m█\u001b[0m\u001b[35m█\u001b[0m\u001b[35m█\u001b[0m\u001b[35m█\u001b[0m\u001b[35m█\u001b[0m\u001b[35m█\u001b[0m\u001b[35m█                               \u001b[0m ││ \u001b[35m   \u001b[0m\u001b[32m█\u001b[0m\u001b[32m█\u001b[0m\u001b[32m█\u001b[0m\u001b[32m█\u001b[0m\u001b[32m█         \u001b[0m\u001b[31m█\u001b[0m\u001b[31m█\u001b[0m\u001b[31m█\u001b[0m\u001b[31m█\u001b[0m\u001b[31m█                                \u001b[0m │\n",
              "│ \u001b[35m   \u001b[0m\u001b[31m█\u001b[0m\u001b[31m█\u001b[0m\u001b[31m█\u001b[0m\u001b[31m█\u001b[0m\u001b[31m█\u001b[0m\u001b[31m█\u001b[0m\u001b[31m█\u001b[0m\u001b[31m█\u001b[0m\u001b[35m█\u001b[0m\u001b[35m█\u001b[0m\u001b[35m█\u001b[0m\u001b[35m█\u001b[0m\u001b[35m█\u001b[0m\u001b[35m█\u001b[0m\u001b[35m█\u001b[0m\u001b[35m█\u001b[0m\u001b[35m█\u001b[0m\u001b[35m█\u001b[0m\u001b[33m█                               \u001b[0m ││ \u001b[31m   \u001b[0m\u001b[32m█\u001b[0m\u001b[32m█\u001b[0m\u001b[32m█\u001b[0m\u001b[32m█           \u001b[0m\u001b[31m█\u001b[0m\u001b[31m█\u001b[0m\u001b[31m█\u001b[0m\u001b[35m█                                \u001b[0m │\n",
              "│ \u001b[33m  \u001b[0m\u001b[31m█\u001b[0m\u001b[31m█\u001b[0m\u001b[31m█\u001b[0m\u001b[31m█\u001b[0m\u001b[31m█\u001b[0m\u001b[31m█\u001b[0m\u001b[31m█\u001b[0m\u001b[31m█\u001b[0m\u001b[31m█\u001b[0m\u001b[35m█\u001b[0m\u001b[35m█\u001b[0m\u001b[35m█\u001b[0m\u001b[35m█\u001b[0m\u001b[35m█\u001b[0m\u001b[35m█\u001b[0m\u001b[35m█\u001b[0m\u001b[35m█\u001b[0m\u001b[33m█\u001b[0m\u001b[33m█\u001b[0m\u001b[33m█\u001b[0m\u001b[33m█                              \u001b[0m ││ \u001b[35m  \u001b[0m\u001b[32m█\u001b[0m\u001b[32m█\u001b[0m\u001b[32m█\u001b[0m\u001b[32m█             \u001b[0m\u001b[35m█\u001b[0m\u001b[35m█\u001b[0m\u001b[35m█\u001b[0m\u001b[35m█                               \u001b[0m │\n",
              "│ \u001b[33m  \u001b[0m\u001b[31m█\u001b[0m\u001b[31m█\u001b[0m\u001b[31m█\u001b[0m\u001b[31m█\u001b[0m\u001b[31m█\u001b[0m\u001b[31m█\u001b[0m\u001b[31m█\u001b[0m\u001b[31m█\u001b[0m\u001b[31m█\u001b[0m\u001b[31m█\u001b[0m\u001b[35m█\u001b[0m\u001b[35m█\u001b[0m\u001b[35m█\u001b[0m\u001b[35m█\u001b[0m\u001b[35m█\u001b[0m\u001b[33m█\u001b[0m\u001b[33m█\u001b[0m\u001b[33m█\u001b[0m\u001b[33m█\u001b[0m\u001b[33m█\u001b[0m\u001b[33m█                              \u001b[0m ││ \u001b[35m  \u001b[0m\u001b[32m█\u001b[0m\u001b[32m█\u001b[0m\u001b[32m█\u001b[0m\u001b[32m█             \u001b[0m\u001b[35m█\u001b[0m\u001b[35m█\u001b[0m\u001b[35m█\u001b[0m\u001b[35m█                               \u001b[0m │\n",
              "│ \u001b[33m  \u001b[0m\u001b[31m█\u001b[0m\u001b[31m█\u001b[0m\u001b[31m█\u001b[0m\u001b[31m█\u001b[0m\u001b[31m█\u001b[0m\u001b[31m█\u001b[0m\u001b[31m█\u001b[0m\u001b[31m█\u001b[0m\u001b[31m█\u001b[0m\u001b[31m█\u001b[0m\u001b[35m█\u001b[0m\u001b[35m█\u001b[0m\u001b[35m█\u001b[0m\u001b[33m█\u001b[0m\u001b[33m█\u001b[0m\u001b[33m█\u001b[0m\u001b[33m█\u001b[0m\u001b[33m█\u001b[0m\u001b[33m█\u001b[0m\u001b[33m█\u001b[0m\u001b[33m█                              \u001b[0m ││ \u001b[35m  \u001b[0m\u001b[32m█\u001b[0m\u001b[32m█\u001b[0m\u001b[32m█               \u001b[0m\u001b[35m█\u001b[0m\u001b[35m█\u001b[0m\u001b[35m█                               \u001b[0m │\n",
              "│ \u001b[33m  \u001b[0m\u001b[32m█\u001b[0m\u001b[32m█\u001b[0m\u001b[32m█\u001b[0m\u001b[32m█\u001b[0m\u001b[32m█\u001b[0m\u001b[32m█\u001b[0m\u001b[32m█\u001b[0m\u001b[32m█\u001b[0m\u001b[32m█\u001b[0m\u001b[32m█\u001b[0m\u001b[33m█\u001b[0m\u001b[33m█\u001b[0m\u001b[33m█\u001b[0m\u001b[33m█\u001b[0m\u001b[33m█\u001b[0m\u001b[33m█\u001b[0m\u001b[33m█\u001b[0m\u001b[33m█\u001b[0m\u001b[33m█\u001b[0m\u001b[33m█\u001b[0m\u001b[33m█                              \u001b[0m ││ \u001b[35m  \u001b[0m\u001b[33m█\u001b[0m\u001b[33m█\u001b[0m\u001b[33m█               \u001b[0m\u001b[35m█\u001b[0m\u001b[35m█\u001b[0m\u001b[35m█                               \u001b[0m │\n",
              "│ \u001b[33m  \u001b[0m\u001b[32m█\u001b[0m\u001b[32m█\u001b[0m\u001b[32m█\u001b[0m\u001b[32m█\u001b[0m\u001b[32m█\u001b[0m\u001b[32m█\u001b[0m\u001b[32m█\u001b[0m\u001b[32m█\u001b[0m\u001b[32m█\u001b[0m\u001b[33m█\u001b[0m\u001b[33m█\u001b[0m\u001b[33m█\u001b[0m\u001b[33m█\u001b[0m\u001b[33m█\u001b[0m\u001b[33m█\u001b[0m\u001b[33m█\u001b[0m\u001b[33m█\u001b[0m\u001b[33m█\u001b[0m\u001b[33m█\u001b[0m\u001b[33m█\u001b[0m\u001b[33m█                              \u001b[0m ││ \u001b[35m  \u001b[0m\u001b[33m█\u001b[0m\u001b[33m█\u001b[0m\u001b[33m█               \u001b[0m\u001b[35m█\u001b[0m\u001b[35m█\u001b[0m\u001b[35m█                               \u001b[0m │\n",
              "│ \u001b[33m  \u001b[0m\u001b[32m█\u001b[0m\u001b[32m█\u001b[0m\u001b[32m█\u001b[0m\u001b[32m█\u001b[0m\u001b[32m█\u001b[0m\u001b[32m█\u001b[0m\u001b[32m█\u001b[0m\u001b[32m█\u001b[0m\u001b[32m█\u001b[0m\u001b[33m█\u001b[0m\u001b[33m█\u001b[0m\u001b[33m█\u001b[0m\u001b[33m█\u001b[0m\u001b[33m█\u001b[0m\u001b[33m█\u001b[0m\u001b[33m█\u001b[0m\u001b[33m█\u001b[0m\u001b[33m█\u001b[0m\u001b[33m█\u001b[0m\u001b[33m█\u001b[0m\u001b[33m█                              \u001b[0m ││ \u001b[35m  \u001b[0m\u001b[33m█\u001b[0m\u001b[33m█\u001b[0m\u001b[33m█\u001b[0m\u001b[33m█             \u001b[0m\u001b[35m█\u001b[0m\u001b[35m█\u001b[0m\u001b[35m█\u001b[0m\u001b[35m█                               \u001b[0m │\n",
              "│ \u001b[33m  \u001b[0m\u001b[32m█\u001b[0m\u001b[32m█\u001b[0m\u001b[32m█\u001b[0m\u001b[32m█\u001b[0m\u001b[32m█\u001b[0m\u001b[32m█\u001b[0m\u001b[32m█\u001b[0m\u001b[32m█\u001b[0m\u001b[33m█\u001b[0m\u001b[33m█\u001b[0m\u001b[33m█\u001b[0m\u001b[33m█\u001b[0m\u001b[33m█\u001b[0m\u001b[33m█\u001b[0m\u001b[33m█\u001b[0m\u001b[33m█\u001b[0m\u001b[33m█\u001b[0m\u001b[33m█\u001b[0m\u001b[33m█\u001b[0m\u001b[33m█\u001b[0m\u001b[33m█                              \u001b[0m ││ \u001b[35m  \u001b[0m\u001b[33m█\u001b[0m\u001b[33m█\u001b[0m\u001b[33m█\u001b[0m\u001b[33m█             \u001b[0m\u001b[35m█\u001b[0m\u001b[35m█\u001b[0m\u001b[35m█\u001b[0m\u001b[35m█                               \u001b[0m │\n",
              "│ \u001b[33m   \u001b[0m\u001b[32m█\u001b[0m\u001b[32m█\u001b[0m\u001b[32m█\u001b[0m\u001b[32m█\u001b[0m\u001b[32m█\u001b[0m\u001b[32m█\u001b[0m\u001b[32m█\u001b[0m\u001b[33m█\u001b[0m\u001b[33m█\u001b[0m\u001b[33m█\u001b[0m\u001b[33m█\u001b[0m\u001b[33m█\u001b[0m\u001b[33m█\u001b[0m\u001b[33m█\u001b[0m\u001b[33m█\u001b[0m\u001b[33m█\u001b[0m\u001b[33m█\u001b[0m\u001b[33m█\u001b[0m\u001b[33m█                               \u001b[0m ││ \u001b[35m   \u001b[0m\u001b[33m█\u001b[0m\u001b[33m█\u001b[0m\u001b[33m█\u001b[0m\u001b[33m█           \u001b[0m\u001b[35m█\u001b[0m\u001b[35m█\u001b[0m\u001b[35m█\u001b[0m\u001b[35m█                                \u001b[0m │\n",
              "│ \u001b[33m   \u001b[0m\u001b[32m█\u001b[0m\u001b[32m█\u001b[0m\u001b[32m█\u001b[0m\u001b[32m█\u001b[0m\u001b[32m█\u001b[0m\u001b[32m█\u001b[0m\u001b[33m█\u001b[0m\u001b[33m█\u001b[0m\u001b[33m█\u001b[0m\u001b[33m█\u001b[0m\u001b[33m█\u001b[0m\u001b[33m█\u001b[0m\u001b[33m█\u001b[0m\u001b[33m█\u001b[0m\u001b[33m█\u001b[0m\u001b[33m█\u001b[0m\u001b[33m█\u001b[0m\u001b[33m█\u001b[0m\u001b[33m█                               \u001b[0m ││ \u001b[35m   \u001b[0m\u001b[33m█\u001b[0m\u001b[33m█\u001b[0m\u001b[33m█\u001b[0m\u001b[33m█\u001b[0m\u001b[33m█         \u001b[0m\u001b[35m█\u001b[0m\u001b[35m█\u001b[0m\u001b[35m█\u001b[0m\u001b[35m█\u001b[0m\u001b[35m█                                \u001b[0m │\n",
              "│ \u001b[33m    \u001b[0m\u001b[32m█\u001b[0m\u001b[32m█\u001b[0m\u001b[32m█\u001b[0m\u001b[32m█\u001b[0m\u001b[32m█\u001b[0m\u001b[33m█\u001b[0m\u001b[33m█\u001b[0m\u001b[33m█\u001b[0m\u001b[33m█\u001b[0m\u001b[33m█\u001b[0m\u001b[33m█\u001b[0m\u001b[33m█\u001b[0m\u001b[33m█\u001b[0m\u001b[33m█\u001b[0m\u001b[33m█\u001b[0m\u001b[33m█\u001b[0m\u001b[33m█                                \u001b[0m ││ \u001b[35m    \u001b[0m\u001b[33m█\u001b[0m\u001b[33m█\u001b[0m\u001b[33m█\u001b[0m\u001b[33m█\u001b[0m\u001b[33m█       \u001b[0m\u001b[35m█\u001b[0m\u001b[35m█\u001b[0m\u001b[35m█\u001b[0m\u001b[35m█\u001b[0m\u001b[35m█                                 \u001b[0m │\n",
              "│ \u001b[33m    \u001b[0m\u001b[32m█\u001b[0m\u001b[32m█\u001b[0m\u001b[32m█\u001b[0m\u001b[32m█\u001b[0m\u001b[33m█\u001b[0m\u001b[33m█\u001b[0m\u001b[33m█\u001b[0m\u001b[33m█\u001b[0m\u001b[33m█\u001b[0m\u001b[33m█\u001b[0m\u001b[33m█\u001b[0m\u001b[33m█\u001b[0m\u001b[33m█\u001b[0m\u001b[33m█\u001b[0m\u001b[33m█\u001b[0m\u001b[33m█\u001b[0m\u001b[33m█                                \u001b[0m ││ \u001b[35m    \u001b[0m\u001b[33m█\u001b[0m\u001b[33m█\u001b[0m\u001b[33m█\u001b[0m\u001b[33m█\u001b[0m\u001b[35m█\u001b[0m\u001b[35m█\u001b[0m\u001b[35m█   \u001b[0m\u001b[35m█\u001b[0m\u001b[35m█\u001b[0m\u001b[35m█\u001b[0m\u001b[35m█\u001b[0m\u001b[35m█\u001b[0m\u001b[35m█\u001b[0m\u001b[35m█                                 \u001b[0m │\n",
              "│ \u001b[33m     \u001b[0m\u001b[32m█\u001b[0m\u001b[32m█\u001b[0m\u001b[32m█\u001b[0m\u001b[33m█\u001b[0m\u001b[33m█\u001b[0m\u001b[33m█\u001b[0m\u001b[33m█\u001b[0m\u001b[33m█\u001b[0m\u001b[33m█\u001b[0m\u001b[33m█\u001b[0m\u001b[33m█\u001b[0m\u001b[33m█\u001b[0m\u001b[33m█\u001b[0m\u001b[33m█\u001b[0m\u001b[33m█                                 \u001b[0m ││ \u001b[35m     \u001b[0m\u001b[33m█\u001b[0m\u001b[33m█\u001b[0m\u001b[35m█\u001b[0m\u001b[35m█\u001b[0m\u001b[35m█\u001b[0m\u001b[35m█\u001b[0m\u001b[35m█\u001b[0m\u001b[35m█\u001b[0m\u001b[35m█\u001b[0m\u001b[35m█\u001b[0m\u001b[35m█\u001b[0m\u001b[35m█\u001b[0m\u001b[35m█\u001b[0m\u001b[35m█\u001b[0m\u001b[35m█                                  \u001b[0m │\n",
              "│ \u001b[33m       \u001b[0m\u001b[33m█\u001b[0m\u001b[33m█\u001b[0m\u001b[33m█\u001b[0m\u001b[33m█\u001b[0m\u001b[33m█\u001b[0m\u001b[33m█\u001b[0m\u001b[33m█\u001b[0m\u001b[33m█\u001b[0m\u001b[33m█\u001b[0m\u001b[33m█\u001b[0m\u001b[33m█                                   \u001b[0m ││ \u001b[35m       \u001b[0m\u001b[35m█\u001b[0m\u001b[35m█\u001b[0m\u001b[35m█\u001b[0m\u001b[35m█\u001b[0m\u001b[35m█\u001b[0m\u001b[35m█\u001b[0m\u001b[35m█\u001b[0m\u001b[35m█\u001b[0m\u001b[35m█\u001b[0m\u001b[35m█\u001b[0m\u001b[35m█                                    \u001b[0m │\n",
              "│ \u001b[33m         \u001b[0m\u001b[33m█\u001b[0m\u001b[33m█\u001b[0m\u001b[33m█\u001b[0m\u001b[33m█\u001b[0m\u001b[33m█\u001b[0m\u001b[33m█\u001b[0m\u001b[33m█                                     \u001b[0m ││ \u001b[35m         \u001b[0m\u001b[35m█\u001b[0m\u001b[35m█\u001b[0m\u001b[35m█\u001b[0m\u001b[35m█\u001b[0m\u001b[35m█\u001b[0m\u001b[35m█\u001b[0m\u001b[35m█                                      \u001b[0m │\n",
              "│ \u001b[33m                                                     \u001b[0m ││ \u001b[35m                                                      \u001b[0m │\n",
              "│                                                       ││                                                        │\n",
              "│                                                       ││                                                        │\n",
              "│                                                       ││                                                        │\n",
              "│                                                       ││                                                        │\n",
              "│                                                       ││                                                        │\n",
              "│                                                       ││                                                        │\n",
              "│                                                       ││                                                        │\n",
              "│                                                       ││                                                        │\n",
              "│                                                       ││                                                        │\n",
              "│                                                       ││                                                        │\n",
              "│                                                       ││                                                        │\n",
              "│                                                       ││                                                        │\n",
              "│                                                       ││                                                        │\n",
              "│                                                       ││                                                        │\n",
              "│                                                       ││                                                        │\n",
              "│                                                       ││                                                        │\n",
              "│                                                       ││                                                        │\n",
              "│                                                       ││                                                        │\n",
              "│                                                       ││                                                        │\n",
              "│                                                       ││                                                        │\n",
              "│                                                       ││                                                        │\n",
              "│                                                       ││                                                        │\n",
              "│                                                       ││                                                        │\n",
              "│                                                       ││                                                        │\n",
              "╰───────────────────────────────────────────────────────╯╰────────────────────────────────────────────────────────╯\n"
            ],
            "text/html": [
              "<pre style=\"white-space:pre;overflow-x:auto;line-height:normal;font-family:Menlo,'DejaVu Sans Mono',consolas,'Courier New',monospace\">╭───────────────────────────────────────────────────────╮╭────────────────────────────────────────────────────────╮\n",
              "│                                                       ││                                                        │\n",
              "│ <span style=\"color: #c0c0c0; text-decoration-color: #c0c0c0\">Time of my life                     </span>                  ││ <span style=\"color: #c0c0c0; text-decoration-color: #c0c0c0\">Time of my l</span>                                           │\n",
              "│ <span style=\"color: #c0c0c0; text-decoration-color: #c0c0c0\">                                         </span>             ││ <span style=\"color: #c0c0c0; text-decoration-color: #c0c0c0\">                 </span>                                      │\n",
              "│ <span style=\"color: #c0c0c0; text-decoration-color: #c0c0c0\">│</span><span style=\"color: #000000; text-decoration-color: #000000\">                                        </span>             ││ <span style=\"color: #c0c0c0; text-decoration-color: #c0c0c0\"> </span><span style=\"color: #008000; text-decoration-color: #008000\">█               </span>                                      │\n",
              "│ <span style=\"color: #c0c0c0; text-decoration-color: #c0c0c0\">│</span><span style=\"color: #800000; text-decoration-color: #800000\">███████████████████████████ 8      </span>                  ││ <span style=\"color: #008000; text-decoration-color: #008000\"> █               </span>                                      │\n",
              "│ <span style=\"color: #c0c0c0; text-decoration-color: #c0c0c0\">│</span><span style=\"color: #000000; text-decoration-color: #000000\">                                        </span>             ││ <span style=\"color: #008000; text-decoration-color: #008000\"> █               </span>                                      │\n",
              "│ <span style=\"color: #c0c0c0; text-decoration-color: #c0c0c0\">│</span><span style=\"color: #008000; text-decoration-color: #008000\">████████████████████ 6             </span>                  ││ <span style=\"color: #008000; text-decoration-color: #008000\"> █ </span><span style=\"color: #808000; text-decoration-color: #808000\">█             </span>                                      │\n",
              "│ <span style=\"color: #c0c0c0; text-decoration-color: #c0c0c0\">│</span><span style=\"color: #000000; text-decoration-color: #000000\">                                        </span>             ││ <span style=\"color: #808000; text-decoration-color: #808000\"> </span><span style=\"color: #008000; text-decoration-color: #008000\">█ </span><span style=\"color: #808000; text-decoration-color: #808000\">█             </span>                                      │\n",
              "│ <span style=\"color: #c0c0c0; text-decoration-color: #c0c0c0\">│</span><span style=\"color: #808000; text-decoration-color: #808000\">█████████████ 4                    </span>                  ││ <span style=\"color: #808000; text-decoration-color: #808000\"> </span><span style=\"color: #008000; text-decoration-color: #008000\">█ </span><span style=\"color: #808000; text-decoration-color: #808000\">█ </span><span style=\"color: #800080; text-decoration-color: #800080\">█ </span><span style=\"color: #800000; text-decoration-color: #800000\">█         </span>                                      │\n",
              "│ <span style=\"color: #c0c0c0; text-decoration-color: #c0c0c0\">│</span><span style=\"color: #000000; text-decoration-color: #000000\">                                        </span>             ││ <span style=\"color: #800000; text-decoration-color: #800000\"> </span><span style=\"color: #008000; text-decoration-color: #008000\">█ </span><span style=\"color: #808000; text-decoration-color: #808000\">█ </span><span style=\"color: #800080; text-decoration-color: #800080\">█ </span><span style=\"color: #800000; text-decoration-color: #800000\">█         </span>                                      │\n",
              "│ <span style=\"color: #c0c0c0; text-decoration-color: #c0c0c0\">│</span><span style=\"color: #800080; text-decoration-color: #800080\">█████████████ 4                    </span>                  ││ <span style=\"color: #800000; text-decoration-color: #800000\"> </span><span style=\"color: #008000; text-decoration-color: #008000\">█ </span><span style=\"color: #808000; text-decoration-color: #808000\">█ </span><span style=\"color: #800080; text-decoration-color: #800080\">█ </span><span style=\"color: #800000; text-decoration-color: #800000\">█         </span>                                      │\n",
              "│ <span style=\"color: #c0c0c0; text-decoration-color: #c0c0c0\">│</span><span style=\"color: #000000; text-decoration-color: #000000\">                                        </span>             ││ <span style=\"color: #800000; text-decoration-color: #800000\"> </span><span style=\"color: #008000; text-decoration-color: #008000\">█ </span><span style=\"color: #808000; text-decoration-color: #808000\">█ </span><span style=\"color: #800080; text-decoration-color: #800080\">█ </span><span style=\"color: #800000; text-decoration-color: #800000\">█ </span><span style=\"color: #008000; text-decoration-color: #008000\">█       </span>                                      │\n",
              "│ <span style=\"color: #c0c0c0; text-decoration-color: #c0c0c0\">│</span><span style=\"color: #800000; text-decoration-color: #800000\">██████ 2                           </span>                  ││ <span style=\"color: #008000; text-decoration-color: #008000\"> █ </span><span style=\"color: #808000; text-decoration-color: #808000\">█ </span><span style=\"color: #800080; text-decoration-color: #800080\">█ </span><span style=\"color: #800000; text-decoration-color: #800000\">█ </span><span style=\"color: #008000; text-decoration-color: #008000\">█       </span>                                      │\n",
              "│ <span style=\"color: #c0c0c0; text-decoration-color: #c0c0c0\">│</span><span style=\"color: #000000; text-decoration-color: #000000\">                                        </span>             ││ <span style=\"color: #008000; text-decoration-color: #008000\"> █ </span><span style=\"color: #808000; text-decoration-color: #808000\">█ </span><span style=\"color: #800080; text-decoration-color: #800080\">█ </span><span style=\"color: #800000; text-decoration-color: #800000\">█ </span><span style=\"color: #008000; text-decoration-color: #008000\">█       </span>                                      │\n",
              "│                                                       ││ <span style=\"color: #c0c0c0; text-decoration-color: #c0c0c0\">───────────                </span>                            │\n",
              "│                                                       ││                                                        │\n",
              "│                                                       ││                                                        │\n",
              "│                                                       ││                                                        │\n",
              "│                                                       ││                                                        │\n",
              "│                                                       ││                                                        │\n",
              "│                                                       ││                                                        │\n",
              "│                                                       ││                                                        │\n",
              "│                                                       ││                                                        │\n",
              "│                                                       ││                                                        │\n",
              "│                                                       ││                                                        │\n",
              "│                                                       ││                                                        │\n",
              "│                                                       ││                                                        │\n",
              "│                                                       ││                                                        │\n",
              "│                                                       ││                                                        │\n",
              "│                                                       ││                                                        │\n",
              "│                                                       ││                                                        │\n",
              "│                                                       ││                                                        │\n",
              "│                                                       ││                                                        │\n",
              "│                                                       ││                                                        │\n",
              "│                                                       ││                                                        │\n",
              "│                                                       ││                                                        │\n",
              "│                                                       ││                                                        │\n",
              "│                                                       ││                                                        │\n",
              "│                                                       ││                                                        │\n",
              "│                                                       ││                                                        │\n",
              "│                                                       ││                                                        │\n",
              "│                                                       ││                                                        │\n",
              "│                                                       ││                                                        │\n",
              "│                                                       ││                                                        │\n",
              "│                                                       ││                                                        │\n",
              "│                                                       ││                                                        │\n",
              "│                                                       ││                                                        │\n",
              "│                                                       ││                                                        │\n",
              "╰───────────────────────────────────────────────────────╯╰────────────────────────────────────────────────────────╯\n",
              "╭───────────────────────────────────────────────────────╮╭────────────────────────────────────────────────────────╮\n",
              "│                                                       ││                                                        │\n",
              "│ Time of my life                                       ││ Time of my life                                        │\n",
              "│          <span style=\"color: #800080; text-decoration-color: #800080\">███████         </span><span style=\"color: #808000; text-decoration-color: #808000\"> Work                   </span>     ││          <span style=\"color: #800000; text-decoration-color: #800000\">███████         </span><span style=\"color: #800080; text-decoration-color: #800080\"> Work                   </span>      │\n",
              "│ <span style=\"color: #808000; text-decoration-color: #808000\">       </span><span style=\"color: #800000; text-decoration-color: #800000\">█</span><span style=\"color: #800080; text-decoration-color: #800080\">██████████        Sleep                  </span>     ││ <span style=\"color: #800080; text-decoration-color: #800080\">       </span><span style=\"color: #008000; text-decoration-color: #008000\">█</span><span style=\"color: #800000; text-decoration-color: #800000\">██████████        Sleep                  </span>      │\n",
              "│ <span style=\"color: #800080; text-decoration-color: #800080\">     </span><span style=\"color: #800000; text-decoration-color: #800000\">████</span><span style=\"color: #800080; text-decoration-color: #800080\">███████████     </span><span style=\"color: #800000; text-decoration-color: #800000\"> Gaming                 </span>     ││ <span style=\"color: #800000; text-decoration-color: #800000\">     </span><span style=\"color: #008000; text-decoration-color: #008000\">████</span><span style=\"color: #800000; text-decoration-color: #800000\">███████████     </span><span style=\"color: #008000; text-decoration-color: #008000\"> Gaming                 </span>      │\n",
              "│ <span style=\"color: #800000; text-decoration-color: #800000\">    █████</span><span style=\"color: #800080; text-decoration-color: #800080\">████████████    </span><span style=\"color: #008000; text-decoration-color: #008000\"> Netflix                </span>     ││ <span style=\"color: #008000; text-decoration-color: #008000\">    █████</span><span style=\"color: #800000; text-decoration-color: #800000\">██   ███████    </span><span style=\"color: #808000; text-decoration-color: #808000\"> Netflix                </span>      │\n",
              "│ <span style=\"color: #008000; text-decoration-color: #008000\">    </span><span style=\"color: #800000; text-decoration-color: #800000\">██████</span><span style=\"color: #800080; text-decoration-color: #800080\">███████████    </span><span style=\"color: #808000; text-decoration-color: #808000\"> Misc                   </span>     ││ <span style=\"color: #808000; text-decoration-color: #808000\">    </span><span style=\"color: #008000; text-decoration-color: #008000\">█████       </span><span style=\"color: #800000; text-decoration-color: #800000\">█████    </span><span style=\"color: #800080; text-decoration-color: #800080\"> Misc                   </span>      │\n",
              "│ <span style=\"color: #808000; text-decoration-color: #808000\">   </span><span style=\"color: #800000; text-decoration-color: #800000\">███████</span><span style=\"color: #800080; text-decoration-color: #800080\">████████████                               </span> ││ <span style=\"color: #800080; text-decoration-color: #800080\">   </span><span style=\"color: #008000; text-decoration-color: #008000\">█████         </span><span style=\"color: #800000; text-decoration-color: #800000\">█████                                </span> │\n",
              "│ <span style=\"color: #800080; text-decoration-color: #800080\">   </span><span style=\"color: #800000; text-decoration-color: #800000\">████████</span><span style=\"color: #800080; text-decoration-color: #800080\">██████████</span><span style=\"color: #808000; text-decoration-color: #808000\">█                               </span> ││ <span style=\"color: #800000; text-decoration-color: #800000\">   </span><span style=\"color: #008000; text-decoration-color: #008000\">████           </span><span style=\"color: #800000; text-decoration-color: #800000\">███</span><span style=\"color: #800080; text-decoration-color: #800080\">█                                </span> │\n",
              "│ <span style=\"color: #808000; text-decoration-color: #808000\">  </span><span style=\"color: #800000; text-decoration-color: #800000\">█████████</span><span style=\"color: #800080; text-decoration-color: #800080\">████████</span><span style=\"color: #808000; text-decoration-color: #808000\">████                              </span> ││ <span style=\"color: #800080; text-decoration-color: #800080\">  </span><span style=\"color: #008000; text-decoration-color: #008000\">████             </span><span style=\"color: #800080; text-decoration-color: #800080\">████                               </span> │\n",
              "│ <span style=\"color: #808000; text-decoration-color: #808000\">  </span><span style=\"color: #800000; text-decoration-color: #800000\">██████████</span><span style=\"color: #800080; text-decoration-color: #800080\">█████</span><span style=\"color: #808000; text-decoration-color: #808000\">██████                              </span> ││ <span style=\"color: #800080; text-decoration-color: #800080\">  </span><span style=\"color: #008000; text-decoration-color: #008000\">████             </span><span style=\"color: #800080; text-decoration-color: #800080\">████                               </span> │\n",
              "│ <span style=\"color: #808000; text-decoration-color: #808000\">  </span><span style=\"color: #800000; text-decoration-color: #800000\">██████████</span><span style=\"color: #800080; text-decoration-color: #800080\">███</span><span style=\"color: #808000; text-decoration-color: #808000\">████████                              </span> ││ <span style=\"color: #800080; text-decoration-color: #800080\">  </span><span style=\"color: #008000; text-decoration-color: #008000\">███               </span><span style=\"color: #800080; text-decoration-color: #800080\">███                               </span> │\n",
              "│ <span style=\"color: #808000; text-decoration-color: #808000\">  </span><span style=\"color: #008000; text-decoration-color: #008000\">██████████</span><span style=\"color: #808000; text-decoration-color: #808000\">███████████                              </span> ││ <span style=\"color: #800080; text-decoration-color: #800080\">  </span><span style=\"color: #808000; text-decoration-color: #808000\">███               </span><span style=\"color: #800080; text-decoration-color: #800080\">███                               </span> │\n",
              "│ <span style=\"color: #808000; text-decoration-color: #808000\">  </span><span style=\"color: #008000; text-decoration-color: #008000\">█████████</span><span style=\"color: #808000; text-decoration-color: #808000\">████████████                              </span> ││ <span style=\"color: #800080; text-decoration-color: #800080\">  </span><span style=\"color: #808000; text-decoration-color: #808000\">███               </span><span style=\"color: #800080; text-decoration-color: #800080\">███                               </span> │\n",
              "│ <span style=\"color: #808000; text-decoration-color: #808000\">  </span><span style=\"color: #008000; text-decoration-color: #008000\">█████████</span><span style=\"color: #808000; text-decoration-color: #808000\">████████████                              </span> ││ <span style=\"color: #800080; text-decoration-color: #800080\">  </span><span style=\"color: #808000; text-decoration-color: #808000\">████             </span><span style=\"color: #800080; text-decoration-color: #800080\">████                               </span> │\n",
              "│ <span style=\"color: #808000; text-decoration-color: #808000\">  </span><span style=\"color: #008000; text-decoration-color: #008000\">████████</span><span style=\"color: #808000; text-decoration-color: #808000\">█████████████                              </span> ││ <span style=\"color: #800080; text-decoration-color: #800080\">  </span><span style=\"color: #808000; text-decoration-color: #808000\">████             </span><span style=\"color: #800080; text-decoration-color: #800080\">████                               </span> │\n",
              "│ <span style=\"color: #808000; text-decoration-color: #808000\">   </span><span style=\"color: #008000; text-decoration-color: #008000\">███████</span><span style=\"color: #808000; text-decoration-color: #808000\">████████████                               </span> ││ <span style=\"color: #800080; text-decoration-color: #800080\">   </span><span style=\"color: #808000; text-decoration-color: #808000\">████           </span><span style=\"color: #800080; text-decoration-color: #800080\">████                                </span> │\n",
              "│ <span style=\"color: #808000; text-decoration-color: #808000\">   </span><span style=\"color: #008000; text-decoration-color: #008000\">██████</span><span style=\"color: #808000; text-decoration-color: #808000\">█████████████                               </span> ││ <span style=\"color: #800080; text-decoration-color: #800080\">   </span><span style=\"color: #808000; text-decoration-color: #808000\">█████         </span><span style=\"color: #800080; text-decoration-color: #800080\">█████                                </span> │\n",
              "│ <span style=\"color: #808000; text-decoration-color: #808000\">    </span><span style=\"color: #008000; text-decoration-color: #008000\">█████</span><span style=\"color: #808000; text-decoration-color: #808000\">████████████                                </span> ││ <span style=\"color: #800080; text-decoration-color: #800080\">    </span><span style=\"color: #808000; text-decoration-color: #808000\">█████       </span><span style=\"color: #800080; text-decoration-color: #800080\">█████                                 </span> │\n",
              "│ <span style=\"color: #808000; text-decoration-color: #808000\">    </span><span style=\"color: #008000; text-decoration-color: #008000\">████</span><span style=\"color: #808000; text-decoration-color: #808000\">█████████████                                </span> ││ <span style=\"color: #800080; text-decoration-color: #800080\">    </span><span style=\"color: #808000; text-decoration-color: #808000\">████</span><span style=\"color: #800080; text-decoration-color: #800080\">███   ███████                                 </span> │\n",
              "│ <span style=\"color: #808000; text-decoration-color: #808000\">     </span><span style=\"color: #008000; text-decoration-color: #008000\">███</span><span style=\"color: #808000; text-decoration-color: #808000\">████████████                                 </span> ││ <span style=\"color: #800080; text-decoration-color: #800080\">     </span><span style=\"color: #808000; text-decoration-color: #808000\">██</span><span style=\"color: #800080; text-decoration-color: #800080\">█████████████                                  </span> │\n",
              "│ <span style=\"color: #808000; text-decoration-color: #808000\">       ███████████                                   </span> ││ <span style=\"color: #800080; text-decoration-color: #800080\">       ███████████                                    </span> │\n",
              "│ <span style=\"color: #808000; text-decoration-color: #808000\">         ███████                                     </span> ││ <span style=\"color: #800080; text-decoration-color: #800080\">         ███████                                      </span> │\n",
              "│ <span style=\"color: #808000; text-decoration-color: #808000\">                                                     </span> ││ <span style=\"color: #800080; text-decoration-color: #800080\">                                                      </span> │\n",
              "│                                                       ││                                                        │\n",
              "│                                                       ││                                                        │\n",
              "│                                                       ││                                                        │\n",
              "│                                                       ││                                                        │\n",
              "│                                                       ││                                                        │\n",
              "│                                                       ││                                                        │\n",
              "│                                                       ││                                                        │\n",
              "│                                                       ││                                                        │\n",
              "│                                                       ││                                                        │\n",
              "│                                                       ││                                                        │\n",
              "│                                                       ││                                                        │\n",
              "│                                                       ││                                                        │\n",
              "│                                                       ││                                                        │\n",
              "│                                                       ││                                                        │\n",
              "│                                                       ││                                                        │\n",
              "│                                                       ││                                                        │\n",
              "│                                                       ││                                                        │\n",
              "│                                                       ││                                                        │\n",
              "│                                                       ││                                                        │\n",
              "│                                                       ││                                                        │\n",
              "│                                                       ││                                                        │\n",
              "│                                                       ││                                                        │\n",
              "│                                                       ││                                                        │\n",
              "│                                                       ││                                                        │\n",
              "╰───────────────────────────────────────────────────────╯╰────────────────────────────────────────────────────────╯\n",
              "</pre>\n"
            ]
          },
          "metadata": {}
        }
      ]
    },
    {
      "cell_type": "code",
      "source": [
        "pip install plotext"
      ],
      "metadata": {
        "colab": {
          "base_uri": "https://localhost:8080/"
        },
        "id": "JRbUbc8L7znt",
        "outputId": "2c205d2b-b16b-4dda-9891-40ed2f600400"
      },
      "execution_count": 17,
      "outputs": [
        {
          "output_type": "stream",
          "name": "stdout",
          "text": [
            "Looking in indexes: https://pypi.org/simple, https://us-python.pkg.dev/colab-wheels/public/simple/\n",
            "Collecting plotext\n",
            "  Downloading plotext-5.2.8-py3-none-any.whl (60 kB)\n",
            "\u001b[2K     \u001b[90m━━━━━━━━━━━━━━━━━━━━━━━━━━━━━━━━━━━━━━━━\u001b[0m \u001b[32m60.2/60.2 kB\u001b[0m \u001b[31m2.9 MB/s\u001b[0m eta \u001b[36m0:00:00\u001b[0m\n",
            "\u001b[?25hInstalling collected packages: plotext\n",
            "Successfully installed plotext-5.2.8\n"
          ]
        }
      ]
    },
    {
      "cell_type": "code",
      "source": [
        "import plotext as plt\n",
        "import yfinance as yf\n",
        "\n",
        "plt.date_form(\"d/m/Y\")\n",
        "start = plt.string_to_datetime(\"01/01/2023\")\n",
        "end = plt.today_datetime()\n",
        "data = yf.download(\"SPY\", start, end)\n",
        "dates = plt.datetimes_to_string(data.index)\n",
        "\n",
        "plt.clf()\n",
        "plt.theme(\"dark\")\n",
        "plt.candlestick(dates, data)\n",
        "plt.title(\"SPY Stock Price CandleSticks\")\n",
        "\n",
        "plt.show()"
      ],
      "metadata": {
        "colab": {
          "base_uri": "https://localhost:8080/"
        },
        "id": "nqvHaluj7yCf",
        "outputId": "963e3579-a24b-4738-82b0-c8ca0310deff"
      },
      "execution_count": 18,
      "outputs": [
        {
          "output_type": "stream",
          "name": "stdout",
          "text": [
            "\r[*********************100%***********************]  1 of 1 completed\n",
            "\u001b[48;5;0m                            \u001b[0m\u001b[48;5;0m\u001b[38;5;3mSPY Stock Price CandleSticks\u001b[0m\u001b[48;5;0m                        \u001b[0m\n",
            "\u001b[48;5;0m     \u001b[0m\u001b[48;5;0m\u001b[38;5;3m┌─────────────────────────────────────────────────────────────────────────┐\u001b[0m\n",
            "\u001b[48;5;0m\u001b[38;5;3m418.3┤\u001b[0m\u001b[48;5;0m                \u001b[0m\u001b[48;5;0m\u001b[38;5;2m│\u001b[0m\u001b[48;5;0m                                               \u001b[0m\u001b[48;5;0m\u001b[38;5;2m│\u001b[0m\u001b[48;5;0m        \u001b[0m\u001b[48;5;0m\u001b[38;5;3m│\u001b[0m\n",
            "\u001b[48;5;0m     \u001b[0m\u001b[48;5;0m\u001b[38;5;3m│\u001b[0m\u001b[48;5;0m                \u001b[0m\u001b[48;5;0m\u001b[38;5;2m█│\u001b[0m\u001b[48;5;0m \u001b[0m\u001b[48;5;0m\u001b[38;5;2m█\u001b[0m\u001b[48;5;0m   \u001b[0m\u001b[48;5;0m\u001b[38;5;2m│\u001b[0m\u001b[48;5;0m                               \u001b[0m\u001b[48;5;0m\u001b[38;5;1m│\u001b[0m\u001b[48;5;0m \u001b[0m\u001b[48;5;0m\u001b[38;5;2m│\u001b[0m\u001b[48;5;0m    \u001b[0m\u001b[48;5;0m\u001b[38;5;2m█\u001b[0m\u001b[48;5;0m \u001b[0m\u001b[48;5;0m\u001b[38;5;1m█\u001b[0m\u001b[48;5;0m        \u001b[0m\u001b[48;5;0m\u001b[38;5;3m│\u001b[0m\n",
            "\u001b[48;5;0m     \u001b[0m\u001b[48;5;0m\u001b[38;5;3m│\u001b[0m\u001b[48;5;0m                \u001b[0m\u001b[48;5;0m\u001b[38;5;2m││\u001b[0m\u001b[48;5;0m \u001b[0m\u001b[48;5;0m\u001b[38;5;1m██\u001b[0m\u001b[48;5;0m \u001b[0m\u001b[48;5;0m\u001b[38;5;2m██\u001b[0m\u001b[48;5;0m\u001b[38;5;1m│\u001b[0m\u001b[48;5;0m                             \u001b[0m\u001b[48;5;0m\u001b[38;5;2m█\u001b[0m\u001b[48;5;0m\u001b[38;5;1m█\u001b[0m\u001b[48;5;0m\u001b[38;5;2m██│\u001b[0m\u001b[48;5;0m \u001b[0m\u001b[48;5;0m\u001b[38;5;2m█\u001b[0m\u001b[48;5;0m \u001b[0m\u001b[48;5;0m\u001b[38;5;2m█\u001b[0m\u001b[48;5;0m \u001b[0m\u001b[48;5;0m\u001b[38;5;1m█│\u001b[0m\u001b[48;5;0m\u001b[38;5;2m█\u001b[0m\u001b[48;5;0m \u001b[0m\u001b[48;5;0m\u001b[38;5;1m█\u001b[0m\u001b[48;5;0m\u001b[38;5;2m│\u001b[0m\u001b[48;5;0m\u001b[38;5;1m█\u001b[0m\u001b[48;5;0m\u001b[38;5;2m█\u001b[0m\u001b[48;5;0m\u001b[38;5;1m│\u001b[0m\u001b[48;5;0m\u001b[38;5;3m│\u001b[0m\n",
            "\u001b[48;5;0m\u001b[38;5;3m411.6┤\u001b[0m\u001b[48;5;0m                \u001b[0m\u001b[48;5;0m\u001b[38;5;2m██│\u001b[0m\u001b[48;5;0m\u001b[38;5;1m██\u001b[0m\u001b[48;5;0m \u001b[0m\u001b[48;5;0m\u001b[38;5;2m██\u001b[0m\u001b[48;5;0m\u001b[38;5;1m│\u001b[0m\u001b[48;5;0m                        \u001b[0m\u001b[48;5;0m\u001b[38;5;1m█\u001b[0m\u001b[48;5;0m   \u001b[0m\u001b[48;5;0m\u001b[38;5;1m█\u001b[0m\u001b[48;5;0m\u001b[38;5;2m█\u001b[0m\u001b[48;5;0m\u001b[38;5;1m│\u001b[0m\u001b[48;5;0m\u001b[38;5;2m│██\u001b[0m\u001b[48;5;0m \u001b[0m\u001b[48;5;0m\u001b[38;5;2m█\u001b[0m\u001b[48;5;0m\u001b[38;5;1m█\u001b[0m\u001b[48;5;0m\u001b[38;5;2m█\u001b[0m\u001b[48;5;0m \u001b[0m\u001b[48;5;0m\u001b[38;5;1m██\u001b[0m\u001b[48;5;0m\u001b[38;5;2m█\u001b[0m\u001b[48;5;0m \u001b[0m\u001b[48;5;0m\u001b[38;5;1m█\u001b[0m\u001b[48;5;0m\u001b[38;5;2m█\u001b[0m\u001b[48;5;0m\u001b[38;5;1m█\u001b[0m\u001b[48;5;0m\u001b[38;5;2m█\u001b[0m\u001b[48;5;0m\u001b[38;5;1m█\u001b[0m\u001b[48;5;0m\u001b[38;5;3m│\u001b[0m\n",
            "\u001b[48;5;0m     \u001b[0m\u001b[48;5;0m\u001b[38;5;3m│\u001b[0m\u001b[48;5;0m             \u001b[0m\u001b[48;5;0m\u001b[38;5;2m│\u001b[0m\u001b[48;5;0m  \u001b[0m\u001b[48;5;0m\u001b[38;5;2m█\u001b[0m\u001b[48;5;0m \u001b[0m\u001b[48;5;0m\u001b[38;5;2m█\u001b[0m\u001b[48;5;0m\u001b[38;5;1m│█\u001b[0m\u001b[48;5;0m\u001b[38;5;2m██│\u001b[0m\u001b[48;5;0m\u001b[38;5;1m█\u001b[0m\u001b[48;5;0m                      \u001b[0m\u001b[48;5;0m\u001b[38;5;2m█\u001b[0m\u001b[48;5;0m \u001b[0m\u001b[48;5;0m\u001b[38;5;1m█\u001b[0m\u001b[48;5;0m\u001b[38;5;2m█\u001b[0m\u001b[48;5;0m  \u001b[0m\u001b[48;5;0m\u001b[38;5;1m█\u001b[0m\u001b[48;5;0m\u001b[38;5;2m█\u001b[0m\u001b[48;5;0m      \u001b[0m\u001b[48;5;0m\u001b[38;5;1m│\u001b[0m\u001b[48;5;0m\u001b[38;5;2m█\u001b[0m\u001b[48;5;0m \u001b[0m\u001b[48;5;0m\u001b[38;5;1m│█\u001b[0m\u001b[48;5;0m\u001b[38;5;2m█\u001b[0m\u001b[48;5;0m  \u001b[0m\u001b[48;5;0m\u001b[38;5;2m│\u001b[0m\u001b[48;5;0m\u001b[38;5;1m│\u001b[0m\u001b[48;5;0m  \u001b[0m\u001b[48;5;0m\u001b[38;5;3m│\u001b[0m\n",
            "\u001b[48;5;0m     \u001b[0m\u001b[48;5;0m\u001b[38;5;3m│\u001b[0m\u001b[48;5;0m             \u001b[0m\u001b[48;5;0m\u001b[38;5;2m█\u001b[0m\u001b[48;5;0m \u001b[0m\u001b[48;5;0m\u001b[38;5;2m██\u001b[0m\u001b[48;5;0m  \u001b[0m\u001b[48;5;0m\u001b[38;5;2m│\u001b[0m\u001b[48;5;0m\u001b[38;5;1m█\u001b[0m\u001b[48;5;0m\u001b[38;5;2m█\u001b[0m\u001b[48;5;0m  \u001b[0m\u001b[48;5;0m\u001b[38;5;2m█\u001b[0m\u001b[48;5;0m         \u001b[0m\u001b[48;5;0m\u001b[38;5;1m│\u001b[0m\u001b[48;5;0m            \u001b[0m\u001b[48;5;0m\u001b[38;5;2m█\u001b[0m\u001b[48;5;0m \u001b[0m\u001b[48;5;0m\u001b[38;5;1m│\u001b[0m\u001b[48;5;0m\u001b[38;5;2m█\u001b[0m\u001b[48;5;0m  \u001b[0m\u001b[48;5;0m\u001b[38;5;2m█\u001b[0m\u001b[48;5;0m\u001b[38;5;1m│\u001b[0m\u001b[48;5;0m      \u001b[0m\u001b[48;5;0m\u001b[38;5;1m█\u001b[0m\u001b[48;5;0m\u001b[38;5;2m█\u001b[0m\u001b[48;5;0m   \u001b[0m\u001b[48;5;0m\u001b[38;5;1m█\u001b[0m\u001b[48;5;0m      \u001b[0m\u001b[48;5;0m\u001b[38;5;3m│\u001b[0m\n",
            "\u001b[48;5;0m\u001b[38;5;3m404.8┤\u001b[0m\u001b[48;5;0m            \u001b[0m\u001b[48;5;0m\u001b[38;5;2m██\u001b[0m\u001b[48;5;0m \u001b[0m\u001b[48;5;0m\u001b[38;5;2m██\u001b[0m\u001b[48;5;0m    \u001b[0m\u001b[48;5;0m\u001b[38;5;2m│\u001b[0m\u001b[48;5;0m  \u001b[0m\u001b[48;5;0m\u001b[38;5;2m│\u001b[0m\u001b[48;5;0m  \u001b[0m\u001b[48;5;0m\u001b[38;5;1m█\u001b[0m\u001b[48;5;0m    \u001b[0m\u001b[48;5;0m\u001b[38;5;2m█\u001b[0m\u001b[48;5;0m \u001b[0m\u001b[48;5;0m\u001b[38;5;1m█\u001b[0m\u001b[48;5;0m            \u001b[0m\u001b[48;5;0m\u001b[38;5;2m█\u001b[0m\u001b[48;5;0m             \u001b[0m\u001b[48;5;0m\u001b[38;5;1m█\u001b[0m\u001b[48;5;0m    \u001b[0m\u001b[48;5;0m\u001b[38;5;1m█\u001b[0m\u001b[48;5;0m      \u001b[0m\u001b[48;5;0m\u001b[38;5;3m│\u001b[0m\n",
            "\u001b[48;5;0m     \u001b[0m\u001b[48;5;0m\u001b[38;5;3m│\u001b[0m\u001b[48;5;0m           \u001b[0m\u001b[48;5;0m\u001b[38;5;2m││\u001b[0m\u001b[48;5;0m  \u001b[0m\u001b[48;5;0m\u001b[38;5;2m█│\u001b[0m\u001b[48;5;0m          \u001b[0m\u001b[48;5;0m\u001b[38;5;1m│█\u001b[0m\u001b[48;5;0m \u001b[0m\u001b[48;5;0m\u001b[38;5;1m│\u001b[0m\u001b[48;5;0m \u001b[0m\u001b[48;5;0m\u001b[38;5;2m█\u001b[0m\u001b[48;5;0m \u001b[0m\u001b[48;5;0m\u001b[38;5;1m█│\u001b[0m\u001b[48;5;0m      \u001b[0m\u001b[48;5;0m\u001b[38;5;1m│\u001b[0m\u001b[48;5;0m   \u001b[0m\u001b[48;5;0m\u001b[38;5;2m█\u001b[0m\u001b[48;5;0m\u001b[38;5;1m│\u001b[0m\u001b[48;5;0m                         \u001b[0m\u001b[48;5;0m\u001b[38;5;3m│\u001b[0m\n",
            "\u001b[48;5;0m\u001b[38;5;3m398.1┤\u001b[0m\u001b[48;5;0m     \u001b[0m\u001b[48;5;0m\u001b[38;5;2m█\u001b[0m\u001b[48;5;0m  \u001b[0m\u001b[48;5;0m\u001b[38;5;1m█\u001b[0m\u001b[48;5;0m  \u001b[0m\u001b[48;5;0m\u001b[38;5;2m█│\u001b[0m\u001b[48;5;0m  \u001b[0m\u001b[48;5;0m\u001b[38;5;1m│\u001b[0m\u001b[48;5;0m           \u001b[0m\u001b[48;5;0m\u001b[38;5;1m█│\u001b[0m\u001b[48;5;0m \u001b[0m\u001b[48;5;0m\u001b[38;5;1m│\u001b[0m\u001b[48;5;0m\u001b[38;5;2m│█\u001b[0m\u001b[48;5;0m \u001b[0m\u001b[48;5;0m\u001b[38;5;1m██\u001b[0m\u001b[48;5;0m      \u001b[0m\u001b[48;5;0m\u001b[38;5;1m█│\u001b[0m\u001b[48;5;0m \u001b[0m\u001b[48;5;0m\u001b[38;5;1m█\u001b[0m\u001b[48;5;0m\u001b[38;5;2m█\u001b[0m\u001b[48;5;0m                          \u001b[0m\u001b[48;5;0m\u001b[38;5;3m│\u001b[0m\n",
            "\u001b[48;5;0m     \u001b[0m\u001b[48;5;0m\u001b[38;5;3m│\u001b[0m\u001b[48;5;0m     \u001b[0m\u001b[48;5;0m\u001b[38;5;2m█\u001b[0m\u001b[48;5;0m  \u001b[0m\u001b[48;5;0m\u001b[38;5;1m█\u001b[0m\u001b[48;5;0m\u001b[38;5;2m█\u001b[0m\u001b[48;5;0m \u001b[0m\u001b[48;5;0m\u001b[38;5;2m│█\u001b[0m\u001b[48;5;0m              \u001b[0m\u001b[48;5;0m\u001b[38;5;1m│\u001b[0m\u001b[48;5;0m\u001b[38;5;2m█\u001b[0m\u001b[48;5;0m \u001b[0m\u001b[48;5;0m\u001b[38;5;1m█\u001b[0m\u001b[48;5;0m\u001b[38;5;2m█\u001b[0m\u001b[48;5;0m  \u001b[0m\u001b[48;5;0m\u001b[38;5;1m│█\u001b[0m\u001b[48;5;0m   \u001b[0m\u001b[48;5;0m\u001b[38;5;2m█\u001b[0m\u001b[48;5;0m  \u001b[0m\u001b[48;5;0m\u001b[38;5;1m█\u001b[0m\u001b[48;5;0m\u001b[38;5;2m█\u001b[0m\u001b[48;5;0m \u001b[0m\u001b[48;5;0m\u001b[38;5;1m█\u001b[0m\u001b[48;5;0m                           \u001b[0m\u001b[48;5;0m\u001b[38;5;3m│\u001b[0m\n",
            "\u001b[48;5;0m     \u001b[0m\u001b[48;5;0m\u001b[38;5;3m│\u001b[0m\u001b[48;5;0m   \u001b[0m\u001b[48;5;0m\u001b[38;5;1m│\u001b[0m\u001b[48;5;0m\u001b[38;5;2m██\u001b[0m\u001b[48;5;0m  \u001b[0m\u001b[48;5;0m\u001b[38;5;1m█\u001b[0m\u001b[48;5;0m\u001b[38;5;2m█\u001b[0m\u001b[48;5;0m  \u001b[0m\u001b[48;5;0m\u001b[38;5;2m│\u001b[0m\u001b[48;5;0m               \u001b[0m\u001b[48;5;0m\u001b[38;5;2m█\u001b[0m\u001b[48;5;0m  \u001b[0m\u001b[48;5;0m\u001b[38;5;2m█\u001b[0m\u001b[48;5;0m   \u001b[0m\u001b[48;5;0m\u001b[38;5;1m█\u001b[0m\u001b[48;5;0m  \u001b[0m\u001b[48;5;0m\u001b[38;5;2m│█\u001b[0m\u001b[48;5;0m\u001b[38;5;1m│\u001b[0m\u001b[48;5;0m\u001b[38;5;2m█\u001b[0m\u001b[48;5;0m\u001b[38;5;1m█\u001b[0m\u001b[48;5;0m\u001b[38;5;2m█\u001b[0m\u001b[48;5;0m \u001b[0m\u001b[48;5;0m\u001b[38;5;1m█\u001b[0m\u001b[48;5;0m                           \u001b[0m\u001b[48;5;0m\u001b[38;5;3m│\u001b[0m\n",
            "\u001b[48;5;0m\u001b[38;5;3m391.3┤\u001b[0m\u001b[48;5;0m   \u001b[0m\u001b[48;5;0m\u001b[38;5;1m│\u001b[0m\u001b[48;5;0m\u001b[38;5;2m█│\u001b[0m\u001b[48;5;0m  \u001b[0m\u001b[48;5;0m\u001b[38;5;1m█\u001b[0m\u001b[48;5;0m\u001b[38;5;2m█\u001b[0m\u001b[48;5;0m                     \u001b[0m\u001b[48;5;0m\u001b[38;5;2m█\u001b[0m\u001b[48;5;0m   \u001b[0m\u001b[48;5;0m\u001b[38;5;1m██\u001b[0m\u001b[48;5;0m \u001b[0m\u001b[48;5;0m\u001b[38;5;2m██\u001b[0m\u001b[48;5;0m\u001b[38;5;1m█\u001b[0m\u001b[48;5;0m\u001b[38;5;2m█\u001b[0m\u001b[48;5;0m\u001b[38;5;1m█\u001b[0m\u001b[48;5;0m\u001b[38;5;2m█\u001b[0m\u001b[48;5;0m                             \u001b[0m\u001b[48;5;0m\u001b[38;5;3m│\u001b[0m\n",
            "\u001b[48;5;0m     \u001b[0m\u001b[48;5;0m\u001b[38;5;3m│\u001b[0m\u001b[48;5;0m  \u001b[0m\u001b[48;5;0m\u001b[38;5;2m│\u001b[0m\u001b[48;5;0m\u001b[38;5;1m█\u001b[0m\u001b[48;5;0m\u001b[38;5;2m█\u001b[0m\u001b[48;5;0m    \u001b[0m\u001b[48;5;0m\u001b[38;5;2m█\u001b[0m\u001b[48;5;0m                         \u001b[0m\u001b[48;5;0m\u001b[38;5;1m│█\u001b[0m\u001b[48;5;0m\u001b[38;5;2m│██\u001b[0m\u001b[48;5;0m\u001b[38;5;1m█\u001b[0m\u001b[48;5;0m\u001b[38;5;2m█\u001b[0m\u001b[48;5;0m \u001b[0m\u001b[48;5;0m\u001b[38;5;2m│\u001b[0m\u001b[48;5;0m                             \u001b[0m\u001b[48;5;0m\u001b[38;5;3m│\u001b[0m\n",
            "\u001b[48;5;0m     \u001b[0m\u001b[48;5;0m\u001b[38;5;3m│\u001b[0m\u001b[48;5;0m\u001b[38;5;1m│\u001b[0m\u001b[48;5;0m \u001b[0m\u001b[48;5;0m\u001b[38;5;2m█\u001b[0m\u001b[48;5;0m\u001b[38;5;1m█\u001b[0m\u001b[48;5;0m\u001b[38;5;2m█\u001b[0m\u001b[48;5;0m    \u001b[0m\u001b[48;5;0m\u001b[38;5;2m│\u001b[0m\u001b[48;5;0m                          \u001b[0m\u001b[48;5;0m\u001b[38;5;1m█\u001b[0m\u001b[48;5;0m\u001b[38;5;2m│██\u001b[0m\u001b[48;5;0m                                 \u001b[0m\u001b[48;5;0m\u001b[38;5;3m│\u001b[0m\n",
            "\u001b[48;5;0m\u001b[38;5;3m384.6┤\u001b[0m\u001b[48;5;0m\u001b[38;5;1m█\u001b[0m\u001b[48;5;0m\u001b[38;5;2m│█\u001b[0m\u001b[48;5;0m                                 \u001b[0m\u001b[48;5;0m\u001b[38;5;1m█\u001b[0m\u001b[48;5;0m\u001b[38;5;2m██\u001b[0m\u001b[48;5;0m                                  \u001b[0m\u001b[48;5;0m\u001b[38;5;3m│\u001b[0m\n",
            "\u001b[48;5;0m     \u001b[0m\u001b[48;5;0m\u001b[38;5;3m│\u001b[0m\u001b[48;5;0m\u001b[38;5;1m██\u001b[0m\u001b[48;5;0m\u001b[38;5;2m█\u001b[0m\u001b[48;5;0m                                  \u001b[0m\u001b[48;5;0m\u001b[38;5;2m█│\u001b[0m\u001b[48;5;0m                                  \u001b[0m\u001b[48;5;0m\u001b[38;5;3m│\u001b[0m\n",
            "\u001b[48;5;0m     \u001b[0m\u001b[48;5;0m\u001b[38;5;3m│\u001b[0m\u001b[48;5;0m\u001b[38;5;1m██\u001b[0m\u001b[48;5;0m\u001b[38;5;2m│\u001b[0m\u001b[48;5;0m                                  \u001b[0m\u001b[48;5;0m\u001b[38;5;2m│\u001b[0m\u001b[48;5;0m                                   \u001b[0m\u001b[48;5;0m\u001b[38;5;3m│\u001b[0m\n",
            "\u001b[48;5;0m\u001b[38;5;3m377.8┤\u001b[0m\u001b[48;5;0m\u001b[38;5;1m││\u001b[0m\u001b[48;5;0m                                                                       \u001b[0m\u001b[48;5;0m\u001b[38;5;3m│\u001b[0m\n",
            "\u001b[48;5;0m     \u001b[0m\u001b[48;5;0m\u001b[38;5;3m└┬─────────────────┬─────────────────┬─────────────────┬─────────────────┬┘\u001b[0m\n",
            "\u001b[48;5;0m   \u001b[0m\u001b[48;5;0m\u001b[38;5;3m03/01/2023\u001b[0m\u001b[48;5;0m      \u001b[0m\u001b[48;5;0m\u001b[38;5;3m05/02/2023\u001b[0m\u001b[48;5;0m        \u001b[0m\u001b[48;5;0m\u001b[38;5;3m10/03/2023\u001b[0m\u001b[48;5;0m        \u001b[0m\u001b[48;5;0m\u001b[38;5;3m12/04/2023\u001b[0m\u001b[48;5;0m    \u001b[0m\u001b[48;5;0m\u001b[38;5;3m16/05/2023\u001b[0m\u001b[48;5;0m \u001b[0m\n"
          ]
        }
      ]
    }
  ]
}