{
  "nbformat": 4,
  "nbformat_minor": 0,
  "metadata": {
    "colab": {
      "name": "How to Stream Your Data to Power BI with Python.ipynb",
      "provenance": [],
      "authorship_tag": "ABX9TyOwzSKjAmZH5qtAF+/4HLiF"
    },
    "kernelspec": {
      "name": "python3",
      "display_name": "Python 3"
    },
    "language_info": {
      "name": "python"
    }
  },
  "cells": [
    {
      "cell_type": "markdown",
      "source": [
        "[Reference](https://python.plainenglish.io/stream-your-data-to-power-bi-with-python-b4c95f05e84e)"
      ],
      "metadata": {
        "id": "jhG3hojHz0y8"
      }
    },
    {
      "cell_type": "code",
      "execution_count": 1,
      "metadata": {
        "colab": {
          "base_uri": "https://localhost:8080/"
        },
        "id": "WeQrzWSdzwpb",
        "outputId": "5db1cd8d-c882-4bdf-b3f9-fdbff6302a46"
      },
      "outputs": [
        {
          "output_type": "stream",
          "name": "stdout",
          "text": [
            "Requirement already satisfied: requests in /usr/local/lib/python3.7/dist-packages (2.23.0)\n",
            "Requirement already satisfied: certifi>=2017.4.17 in /usr/local/lib/python3.7/dist-packages (from requests) (2021.10.8)\n",
            "Requirement already satisfied: idna<3,>=2.5 in /usr/local/lib/python3.7/dist-packages (from requests) (2.10)\n",
            "Requirement already satisfied: urllib3!=1.25.0,!=1.25.1,<1.26,>=1.21.1 in /usr/local/lib/python3.7/dist-packages (from requests) (1.24.3)\n",
            "Requirement already satisfied: chardet<4,>=3.0.2 in /usr/local/lib/python3.7/dist-packages (from requests) (3.0.4)\n",
            "Requirement already satisfied: psutil in /usr/local/lib/python3.7/dist-packages (5.4.8)\n"
          ]
        }
      ],
      "source": [
        "!pip install requests\n",
        "!pip install psutil"
      ]
    },
    {
      "cell_type": "code",
      "source": [
        "import requests\n",
        "from datetime import datetime\n",
        "import time\n",
        "import psutil\n",
        "import json\n",
        "\n",
        "DEVICE = 'MyPC'\n",
        "\n",
        "while True:\n",
        "    now = datetime.strftime(datetime.utcnow(), \"%Y-%m-%dT%H:%M:%S%Z\")\n",
        "    json_data = [{\n",
        "        \"computerName\": DEVICE,\n",
        "        \"timestamp\": now,\n",
        "        \"cpuPercentage\": psutil.cpu_percent(),\n",
        "        \"memoryAvailable\": psutil.virtual_memory().available,\n",
        "        \"memoryCommitted\": psutil.virtual_memory().used\n",
        "    }]\n",
        "    res = requests.post('YOUR_POWERBI_API_ENDPOINT', data=json.dumps(json_data))\n",
        "    print(res.status_code)\n",
        "    time.sleep(5)"
      ],
      "metadata": {
        "id": "dsfGCwncz7zq"
      },
      "execution_count": 3,
      "outputs": []
    }
  ]
}