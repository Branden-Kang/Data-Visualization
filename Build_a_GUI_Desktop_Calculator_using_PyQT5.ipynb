{
  "nbformat": 4,
  "nbformat_minor": 0,
  "metadata": {
    "colab": {
      "name": "Build a GUI Desktop Calculator using PyQT5.ipynb",
      "provenance": [],
      "authorship_tag": "ABX9TyMm/K5za8yVgxDrgqIej2yp"
    },
    "kernelspec": {
      "name": "python3",
      "display_name": "Python 3"
    },
    "language_info": {
      "name": "python"
    }
  },
  "cells": [
    {
      "cell_type": "markdown",
      "metadata": {
        "id": "kX6D90xEuMXI"
      },
      "source": [
        "[Reference](https://python.plainenglish.io/building-a-gui-desktop-calculator-using-pyqt5s-313608d2f5a9)"
      ]
    },
    {
      "cell_type": "code",
      "metadata": {
        "colab": {
          "base_uri": "https://localhost:8080/"
        },
        "id": "QvVBE-i6tqel",
        "outputId": "4b6f101c-71bc-4430-c7ae-3d1b589bb311"
      },
      "source": [
        "pip install pyqt5"
      ],
      "execution_count": 1,
      "outputs": [
        {
          "output_type": "stream",
          "text": [
            "Collecting pyqt5\n",
            "  Downloading PyQt5-5.15.4-cp36.cp37.cp38.cp39-abi3-manylinux2014_x86_64.whl (8.3 MB)\n",
            "\u001b[K     |████████████████████████████████| 8.3 MB 5.1 MB/s \n",
            "\u001b[?25hCollecting PyQt5-Qt5>=5.15\n",
            "  Downloading PyQt5_Qt5-5.15.2-py3-none-manylinux2014_x86_64.whl (59.9 MB)\n",
            "\u001b[K     |████████████████████████████████| 59.9 MB 32 kB/s \n",
            "\u001b[?25hCollecting PyQt5-sip<13,>=12.8\n",
            "  Downloading PyQt5_sip-12.9.0-cp37-cp37m-manylinux1_x86_64.whl (317 kB)\n",
            "\u001b[K     |████████████████████████████████| 317 kB 70.6 MB/s \n",
            "\u001b[?25hInstalling collected packages: PyQt5-sip, PyQt5-Qt5, pyqt5\n",
            "Successfully installed PyQt5-Qt5-5.15.2 PyQt5-sip-12.9.0 pyqt5-5.15.4\n"
          ],
          "name": "stdout"
        }
      ]
    },
    {
      "cell_type": "code",
      "metadata": {
        "colab": {
          "base_uri": "https://localhost:8080/"
        },
        "id": "akrp99LUuTFF",
        "outputId": "4836fb20-2247-4576-9c14-ecbd4161910b"
      },
      "source": [
        "pip install pyinstaller"
      ],
      "execution_count": 2,
      "outputs": [
        {
          "output_type": "stream",
          "text": [
            "Collecting pyinstaller\n",
            "  Downloading pyinstaller-4.5.1-py3-none-manylinux2014_x86_64.whl (1.5 MB)\n",
            "\u001b[K     |████████████████████████████████| 1.5 MB 5.4 MB/s \n",
            "\u001b[?25hRequirement already satisfied: importlib-metadata in /usr/local/lib/python3.7/dist-packages (from pyinstaller) (4.6.4)\n",
            "Requirement already satisfied: setuptools in /usr/local/lib/python3.7/dist-packages (from pyinstaller) (57.4.0)\n",
            "Collecting altgraph\n",
            "  Downloading altgraph-0.17-py2.py3-none-any.whl (21 kB)\n",
            "Collecting pyinstaller-hooks-contrib>=2020.6\n",
            "  Downloading pyinstaller_hooks_contrib-2021.2-py2.py3-none-any.whl (190 kB)\n",
            "\u001b[K     |████████████████████████████████| 190 kB 62.9 MB/s \n",
            "\u001b[?25hRequirement already satisfied: zipp>=0.5 in /usr/local/lib/python3.7/dist-packages (from importlib-metadata->pyinstaller) (3.5.0)\n",
            "Requirement already satisfied: typing-extensions>=3.6.4 in /usr/local/lib/python3.7/dist-packages (from importlib-metadata->pyinstaller) (3.7.4.3)\n",
            "Installing collected packages: pyinstaller-hooks-contrib, altgraph, pyinstaller\n",
            "Successfully installed altgraph-0.17 pyinstaller-4.5.1 pyinstaller-hooks-contrib-2021.2\n"
          ],
          "name": "stdout"
        }
      ]
    },
    {
      "cell_type": "code",
      "metadata": {
        "id": "4deZ9qwJuUan"
      },
      "source": [
        "from PyQt5 import  QtCore\n",
        "from PyQt5.QtWidgets import (\n",
        "    QPushButton, \n",
        "    QLabel, \n",
        "    QGridLayout, \n",
        "    QWidget, \n",
        "    QApplication\n",
        ")\n",
        "import sys"
      ],
      "execution_count": 1,
      "outputs": []
    },
    {
      "cell_type": "code",
      "metadata": {
        "id": "9gK68JgjunlB"
      },
      "source": [
        "app = QApplication([])"
      ],
      "execution_count": 2,
      "outputs": []
    },
    {
      "cell_type": "code",
      "metadata": {
        "id": "gEQ3AcDjurg6"
      },
      "source": [
        "class Calculator(QWidget):\n",
        "    \n",
        "    def __init__(self):\n",
        "        super(Calculator, self).__init__()\n",
        "        # setting window configuration\n",
        "        self.setFixedSize(400, 300)\n",
        "        self.setWindowTitle(\"PyCalculator\")\n",
        "        # value used for processing of input\n",
        "        # it will also be shown in input label\n",
        "        self.text = \"\"\n",
        "        # creating layout\n",
        "        self.layout_main = QGridLayout()\n",
        "        # adding elements to layout\n",
        "        self.create_lcd()\n",
        "        self.create_buttons()\n",
        "        # adding layout to window            \n",
        "        self.setLayout(self.layout_main)\n",
        "        \n",
        "    def reset(self) -> None:\n",
        "        \"\"\" Resettinfg the input label to show \"\"\"\n",
        "        self.text = \"\"\n",
        "\n",
        "\n",
        "    def create_lcd(self) -> None:\n",
        "        ''' Creates the label for displaying the input and output. '''\n",
        "\n",
        "    def create_buttons(self) -> None:   \n",
        "      ''' Creates the buttons for passing input to calulator. '''\n",
        "        \n",
        "  \n",
        "    def add_to_screen(self, string: str) -> None:\n",
        "        ''' Invoked when button is pressed.\n",
        "        Responsible for adding input and output to screen. '''"
      ],
      "execution_count": 3,
      "outputs": []
    },
    {
      "cell_type": "markdown",
      "metadata": {
        "id": "xrxf11BXu_Ow"
      },
      "source": [
        "# QLabel"
      ]
    },
    {
      "cell_type": "code",
      "metadata": {
        "id": "t7EnLowLuyol"
      },
      "source": [
        "def create_lcd(self):\n",
        "  # creating label\n",
        "  self.label_in = QLabel(self)\n",
        "  self.label_out = QLabel(self)\n",
        "  # adding Alignment of text to left\n",
        "  self.label_in.setAlignment(QtCore.Qt.AlignRight)\n",
        "  self.label_out.setAlignment(QtCore.Qt.AlignRight)\n",
        "  # adding labels to QGridLyout\n",
        "  self.layout_main.addWidget(self.label_in, 0 , 0, 1, 4)\n",
        "  self.layout_main.addWidget(self.label_out, 1, 0, 1, 4)"
      ],
      "execution_count": 4,
      "outputs": []
    },
    {
      "cell_type": "markdown",
      "metadata": {
        "id": "G19u1M2kvBT5"
      },
      "source": [
        "# QPushButton"
      ]
    },
    {
      "cell_type": "code",
      "metadata": {
        "id": "ZGd4JQ9Qu9ST"
      },
      "source": [
        "def create_buttons(self): \n",
        "  buttons_ui: list = [\n",
        "      [\"(\",  \")\",  \"DEL\", \"AC\"],\n",
        "      [\"7\",  \"8\",  \"9\",   \"/\" ], \n",
        "      [\"4\",  \"5\",  \"6\",   \"*\" ],\n",
        "      [\"1\",  \"2\",  \"3\",   \"-\" ],\n",
        "      [\".\",  \"0\",  \"^\" ,   \"+\"],\n",
        "  ]\n",
        "\n",
        "  for row, values in enumerate(buttons_ui):\n",
        "      for col, val in enumerate(values):\n",
        "          # if buttons have \"\" then don't add it to ui\n",
        "          if val != \"\": \n",
        "              # creating button and adding it to main menu\n",
        "              btn = QPushButton(val, self)\n",
        "              btn.clicked.connect(partial(self.add_to_screen, val)) \n",
        "              # first two rows are being used by label_in and label_out\n",
        "              # so we are adding 2 to the label\n",
        "              self.layout_main.addWidget(btn, row + 2, col, 1, 1)"
      ],
      "execution_count": 5,
      "outputs": []
    },
    {
      "cell_type": "markdown",
      "metadata": {
        "id": "Sgo0GDADvE8e"
      },
      "source": [
        "# Logic"
      ]
    },
    {
      "cell_type": "code",
      "metadata": {
        "id": "-Bl1SyqkvDx0"
      },
      "source": [
        "def add_to_screen(self, string):\n",
        "  # process input\n",
        "  if   string == \"AC\" :  self.reset()\n",
        "  elif string == \"DEL\":  self.text = self.text[:-1]\n",
        "  else: self.text += string\n",
        "  # calulate output\n",
        "  try: output = str(eval(self.text))[:20]\n",
        "  except ZeroDivisionError: output = \"inf\"\n",
        "  except SyntaxError: output = \"nan\"\n",
        "  # update the labels\n",
        "  self.label_in.setText(self.text)\n",
        "  self.label_out.setText(output)"
      ],
      "execution_count": 6,
      "outputs": []
    },
    {
      "cell_type": "markdown",
      "metadata": {
        "id": "wD3_t3HzvHly"
      },
      "source": [
        "# QApplication"
      ]
    },
    {
      "cell_type": "code",
      "metadata": {
        "id": "R7WmPO2JvGTD"
      },
      "source": [
        "# creating the application\n",
        "app = QApplication(sys.argv)\n",
        "# creating the widget\n",
        "calc = Calculator()\n",
        "# displaying the app\n",
        "calc.show()\n",
        "# entering the main loop of application \n",
        "sys.exit(app.exec_())"
      ],
      "execution_count": 7,
      "outputs": []
    },
    {
      "cell_type": "markdown",
      "metadata": {
        "id": "EuJ0FE14vM86"
      },
      "source": [
        "# Compile"
      ]
    },
    {
      "cell_type": "code",
      "metadata": {
        "id": "h4CxidcFvI-7"
      },
      "source": [
        "pyinstaller — onefile — windowed test.py"
      ],
      "execution_count": 8,
      "outputs": []
    }
  ]
}