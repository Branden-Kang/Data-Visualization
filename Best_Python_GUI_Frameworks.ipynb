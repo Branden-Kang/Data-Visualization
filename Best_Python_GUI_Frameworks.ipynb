{
  "nbformat": 4,
  "nbformat_minor": 0,
  "metadata": {
    "colab": {
      "name": "Best Python GUI Frameworks.ipynb",
      "provenance": [],
      "authorship_tag": "ABX9TyOvwYXKBgjJ+OG7U7gtB+Ny"
    },
    "kernelspec": {
      "name": "python3",
      "display_name": "Python 3"
    },
    "language_info": {
      "name": "python"
    }
  },
  "cells": [
    {
      "cell_type": "markdown",
      "metadata": {
        "id": "5ye_HjH3SXV3"
      },
      "source": [
        "[Reference](https://cloudytechi.medium.com/best-python-gui-frameworks-95b12509179a)"
      ]
    },
    {
      "cell_type": "markdown",
      "metadata": {
        "id": "uEmAUm4kSZ0I"
      },
      "source": [
        "# 1. Kivy\n"
      ]
    },
    {
      "cell_type": "code",
      "metadata": {
        "id": "VarnE-lKSFp8"
      },
      "source": [
        "from kivy.app import App\n",
        "from kivy.uix.button import Button\n",
        "class MyApp(App):\n",
        "    def build(self):\n",
        "        return Button(text='TechGeekBuzz')\n",
        "MyApp().run()"
      ],
      "execution_count": 1,
      "outputs": []
    },
    {
      "cell_type": "markdown",
      "metadata": {
        "id": "YJS0GYrkSdvl"
      },
      "source": [
        "# 2. Tkinter\n"
      ]
    },
    {
      "cell_type": "code",
      "metadata": {
        "id": "rT4_Ed1kSc2m"
      },
      "source": [
        "import tkinter\n",
        "window = tkinter.Tk()\n",
        "window.title(\"TechGeekBuzz\")\n",
        "button = tkinter.Button(window, text='press', width= 20)\n",
        "button.pack()\n",
        "window.mainloop()"
      ],
      "execution_count": 2,
      "outputs": []
    },
    {
      "cell_type": "markdown",
      "metadata": {
        "id": "3djDsnx8SjM0"
      },
      "source": [
        "# 3. PyQT\n"
      ]
    },
    {
      "cell_type": "code",
      "metadata": {
        "id": "FDAu3RkqSh-Y"
      },
      "source": [
        "from PyQt5.QtWidgets import QApplication, QLabel\n",
        "my_app = QApplication([])\n",
        "label = QLabel('Hello World TechGeekBuzz!')\n",
        "label.show()\n",
        "label.show()"
      ],
      "execution_count": 3,
      "outputs": []
    },
    {
      "cell_type": "markdown",
      "metadata": {
        "id": "Q9SDaYMcSmJY"
      },
      "source": [
        "# 4. PyGame\n"
      ]
    },
    {
      "cell_type": "code",
      "metadata": {
        "id": "3JXKRF2iSlI9"
      },
      "source": [
        "import pygame\n",
        "window = pygame.display.set_mode((500,400))\n",
        "done = False\n",
        "while not done:\n",
        "    for event in pygame.event.get():\n",
        "        if event.type == pygame.QUIT:\n",
        "            done = True\n",
        "        #red window background\n",
        "        window.fill((255, 0, 0))\n",
        "        # green circle\n",
        "        pygame.draw.circle(window, (0, 255, 0), (250, 250), 75)\n",
        "    pygame.display.flip()"
      ],
      "execution_count": 5,
      "outputs": []
    },
    {
      "cell_type": "markdown",
      "metadata": {
        "id": "_fSZkAkrSuu5"
      },
      "source": [
        "# 5. wxPython\n"
      ]
    },
    {
      "cell_type": "code",
      "metadata": {
        "id": "3KOz-iNnSn-8"
      },
      "source": [
        "import wx\n",
        "my_app = wx.App(False)\n",
        "window = wx.Frame(None, title=\"TechGeekBuzz! Hello World\")\n",
        "window.Show(True)\n",
        "my_app.MainLoop()"
      ],
      "execution_count": 7,
      "outputs": []
    }
  ]
}