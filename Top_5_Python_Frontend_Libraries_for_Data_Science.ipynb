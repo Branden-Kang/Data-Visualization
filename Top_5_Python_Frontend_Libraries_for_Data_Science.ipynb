{
  "nbformat": 4,
  "nbformat_minor": 0,
  "metadata": {
    "colab": {
      "provenance": [],
      "authorship_tag": "ABX9TyN1H+O/s7ZMxsqwCdJG5b6V"
    },
    "kernelspec": {
      "name": "python3",
      "display_name": "Python 3"
    },
    "language_info": {
      "name": "python"
    }
  },
  "cells": [
    {
      "cell_type": "markdown",
      "source": [
        "[Reference](https://python.plainenglish.io/top-5-python-frontend-libraries-for-data-science-part-2-4d07a48d2fde)"
      ],
      "metadata": {
        "id": "t_Zs4aq9amJU"
      }
    },
    {
      "cell_type": "markdown",
      "source": [
        "# 1. Plotly Dash"
      ],
      "metadata": {
        "id": "b8kA6tgKats4"
      }
    },
    {
      "cell_type": "code",
      "execution_count": 1,
      "metadata": {
        "id": "zuQeSYF8abrE"
      },
      "outputs": [],
      "source": [
        "from dash import Dash, html, dcc, callback, Output, Input\n",
        "import plotly.express as px\n",
        "import pandas as pd\n",
        "\n",
        "df = pd.read_csv('https://raw.githubusercontent.com/plotly/datasets/master/gapminder_unfiltered.csv')\n",
        "\n",
        "app = Dash(__name__)\n",
        "\n",
        "app.layout = html.Div([\n",
        "    html.H1(children='Title of Dash App', style={'textAlign':'center'}),\n",
        "    dcc.Dropdown(df.country.unique(), 'Canada', id='dropdown-selection'),\n",
        "    dcc.Graph(id='graph-content')\n",
        "])\n",
        "\n",
        "@callback(\n",
        "    Output('graph-content', 'figure'),\n",
        "    Input('dropdown-selection', 'value')\n",
        ")\n",
        "def update_graph(value):\n",
        "    dff = df[df.country==value]\n",
        "    return px.line(dff, x='year', y='pop')\n",
        "\n",
        "if __name__ == '__main__':\n",
        "    app.run(debug=True)"
      ]
    },
    {
      "cell_type": "markdown",
      "source": [
        "# 2. Panel"
      ],
      "metadata": {
        "id": "MCnvY9pra4KN"
      }
    },
    {
      "cell_type": "code",
      "source": [
        "pip install panel watchfiles"
      ],
      "metadata": {
        "id": "45hOUDX6azWl"
      },
      "execution_count": 2,
      "outputs": []
    },
    {
      "cell_type": "code",
      "source": [
        "import hvplot.pandas\n",
        "import pandas as pd\n",
        "import panel as pn\n",
        "\n",
        "pn.extension(\"tabulator\")\n",
        "\n",
        "ACCENT = \"teal\"\n",
        "\n",
        "styles = {\n",
        "    \"box-shadow\": \"rgba(50, 50, 93, 0.25) 0px 6px 12px -2px, rgba(0, 0, 0, 0.3) 0px 3px 7px -3px\",\n",
        "    \"border-radius\": \"4px\",\n",
        "    \"padding\": \"10px\",\n",
        "}\n",
        "\n",
        "# Extract Data\n",
        "\n",
        "@pn.cache()  # only download data once\n",
        "def get_data():\n",
        "    return pd.read_csv(\"https://assets.holoviz.org/panel/tutorials/turbines.csv.gz\")\n",
        "\n",
        "source_data = get_data()\n",
        "\n",
        "# Transform Data\n",
        "\n",
        "min_year = int(source_data[\"p_year\"].min())\n",
        "max_year = int(source_data[\"p_year\"].max())\n",
        "top_manufacturers = (\n",
        "    source_data.groupby(\"t_manu\").p_cap.sum().sort_values().iloc[-10:].index.to_list()\n",
        ")\n",
        "\n",
        "def filter_data(t_manu, year):\n",
        "    data = source_data[(source_data.t_manu == t_manu) & (source_data.p_year <= year)]\n",
        "    return data\n",
        "\n",
        "# Filters\n",
        "\n",
        "t_manu = pn.widgets.Select(\n",
        "    name=\"Manufacturer\",\n",
        "    value=\"Vestas\",\n",
        "    options=sorted(top_manufacturers),\n",
        "    description=\"The name of the manufacturer\",\n",
        ")\n",
        "p_year = pn.widgets.IntSlider(name=\"Year\", value=max_year, start=min_year, end=max_year)\n",
        "\n",
        "# Transform Data 2\n",
        "\n",
        "df = pn.rx(filter_data)(t_manu=t_manu, year=p_year)\n",
        "count = df.rx.len()\n",
        "total_capacity = df.t_cap.sum()\n",
        "avg_capacity = df.t_cap.mean()\n",
        "avg_rotor_diameter = df.t_rd.mean()\n",
        "\n",
        "# Plot Data\n",
        "\n",
        "fig = (\n",
        "    df[[\"p_year\", \"t_cap\"]].groupby(\"p_year\").sum() / 10**6\n",
        ").hvplot.bar(\n",
        "    title=\"Capacity Change\",\n",
        "    rot=90,\n",
        "    ylabel=\"Capacity (MW)\",\n",
        "    xlabel=\"Year\",\n",
        "    xlim=(min_year, max_year),\n",
        "    color=ACCENT,\n",
        ")\n",
        "\n",
        "# Display Data\n",
        "\n",
        "image = pn.pane.JPG(\"https://assets.holoviz.org/panel/tutorials/wind_turbines_sunset.png\")\n",
        "\n",
        "indicators = pn.FlexBox(\n",
        "    pn.indicators.Number(\n",
        "        value=count, name=\"Count\", format=\"{value:,.0f}\", styles=styles\n",
        "    ),\n",
        "    pn.indicators.Number(\n",
        "        value=total_capacity / 1e6,\n",
        "        name=\"Total Capacity (TW)\",\n",
        "        format=\"{value:,.1f}\",\n",
        "        styles=styles,\n",
        "    ),\n",
        "    pn.indicators.Number(\n",
        "        value=avg_capacity/1e3,\n",
        "        name=\"Avg. Capacity (MW)\",\n",
        "        format=\"{value:,.1f}\",\n",
        "        styles=styles,\n",
        "    ),\n",
        "    pn.indicators.Number(\n",
        "        value=avg_rotor_diameter,\n",
        "        name=\"Avg. Rotor Diameter (m)\",\n",
        "        format=\"{value:,.1f}\",\n",
        "        styles=styles,\n",
        "    ),\n",
        ")\n",
        "\n",
        "plot = pn.pane.HoloViews(fig, sizing_mode=\"stretch_both\", name=\"Plot\")\n",
        "table = pn.widgets.Tabulator(df, sizing_mode=\"stretch_both\", name=\"Table\")\n",
        "\n",
        "# Layout Data\n",
        "\n",
        "tabs = pn.Tabs(\n",
        "    plot, table, styles=styles, sizing_mode=\"stretch_width\", height=500, margin=10\n",
        ")\n",
        "\n",
        "pn.template.FastListTemplate(\n",
        "    title=\"Wind Turbine Dashboard\",\n",
        "    sidebar=[image, t_manu, p_year],\n",
        "    main=[pn.Column(indicators, tabs, sizing_mode=\"stretch_both\")],\n",
        "    main_layout=None,\n",
        "    accent=ACCENT,\n",
        ").servable()"
      ],
      "metadata": {
        "id": "w1IRi8mSauYo"
      },
      "execution_count": 3,
      "outputs": []
    },
    {
      "cell_type": "markdown",
      "source": [
        "# 3. Gradio"
      ],
      "metadata": {
        "id": "b9Qo_Wsoa7dH"
      }
    },
    {
      "cell_type": "code",
      "source": [
        "pip install gradio"
      ],
      "metadata": {
        "id": "MaI8PXUaa6ZL"
      },
      "execution_count": 5,
      "outputs": []
    },
    {
      "cell_type": "code",
      "source": [
        "import gradio as gr\n",
        "\n",
        "def greet(name, intensity):\n",
        "    return \"Hello, \" + name + \"!\" * int(intensity)\n",
        "\n",
        "demo = gr.Interface(\n",
        "    fn=greet,\n",
        "    inputs=[\"text\", \"slider\"],\n",
        "    outputs=[\"text\"],\n",
        ")\n",
        "\n",
        "demo.launch()"
      ],
      "metadata": {
        "id": "sQe1IPnha0Re"
      },
      "execution_count": 6,
      "outputs": []
    },
    {
      "cell_type": "markdown",
      "source": [
        "# 4. PyWebIO"
      ],
      "metadata": {
        "id": "RRNXnFONbB-W"
      }
    },
    {
      "cell_type": "code",
      "source": [
        "pip install pywebio"
      ],
      "metadata": {
        "id": "6QBcChBYa-cO"
      },
      "execution_count": 8,
      "outputs": []
    },
    {
      "cell_type": "code",
      "source": [
        "from pywebio.input import input, FLOAT\n",
        "from pywebio.output import put_text\n",
        "\n",
        "def bmi():\n",
        "    height = input(\"Input your height(cm)：\", type=FLOAT)\n",
        "    weight = input(\"Input your weight(kg)：\", type=FLOAT)\n",
        "\n",
        "    BMI = weight / (height / 100) ** 2\n",
        "\n",
        "    top_status = [(16, 'Severely underweight'), (18.5, 'Underweight'),\n",
        "                  (25, 'Normal'), (30, 'Overweight'),\n",
        "                  (35, 'Moderately obese'), (float('inf'), 'Severely obese')]\n",
        "\n",
        "    for top, status in top_status:\n",
        "        if BMI <= top:\n",
        "            put_text('Your BMI: %.1f. Category: %s' % (BMI, status))\n",
        "            break\n",
        "\n",
        "if __name__ == '__main__':\n",
        "    bmi()"
      ],
      "metadata": {
        "id": "wKO2RiBRa8sV"
      },
      "execution_count": 7,
      "outputs": []
    },
    {
      "cell_type": "markdown",
      "source": [
        "# 5. Voila"
      ],
      "metadata": {
        "id": "oCAwrwLjbI2F"
      }
    },
    {
      "cell_type": "code",
      "source": [
        "pip install voila # or conda install voila"
      ],
      "metadata": {
        "id": "OSWeEvgLa_3K"
      },
      "execution_count": 9,
      "outputs": []
    },
    {
      "cell_type": "code",
      "source": [
        "voila path-to-notebook.ipynb --port=9688 --no-browser"
      ],
      "metadata": {
        "id": "zKGienK7bE_W"
      },
      "execution_count": 10,
      "outputs": []
    }
  ]
}