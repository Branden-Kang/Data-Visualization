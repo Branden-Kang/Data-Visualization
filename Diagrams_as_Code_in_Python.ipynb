{
  "nbformat": 4,
  "nbformat_minor": 0,
  "metadata": {
    "colab": {
      "name": "Diagrams as Code in Python.ipynb",
      "provenance": [],
      "authorship_tag": "ABX9TyPtjC6byR1qilyLQ4ESTaoP"
    },
    "kernelspec": {
      "name": "python3",
      "display_name": "Python 3"
    },
    "language_info": {
      "name": "python"
    }
  },
  "cells": [
    {
      "cell_type": "markdown",
      "source": [
        "[Reference](https://towardsdatascience.com/diagrams-as-code-python-d9cbaa959ed5)"
      ],
      "metadata": {
        "id": "6bC8PHgbO0mS"
      }
    },
    {
      "cell_type": "code",
      "execution_count": 1,
      "metadata": {
        "colab": {
          "base_uri": "https://localhost:8080/"
        },
        "id": "YxplG7GzN8ug",
        "outputId": "09c139d4-95bf-431b-d195-708622cb8331"
      },
      "outputs": [
        {
          "output_type": "stream",
          "name": "stdout",
          "text": [
            "Looking in indexes: https://pypi.org/simple, https://us-python.pkg.dev/colab-wheels/public/simple/\n",
            "Collecting diagrams\n",
            "  Downloading diagrams-0.21.1-py3-none-any.whl (23.8 MB)\n",
            "\u001b[K     |████████████████████████████████| 23.8 MB 1.4 MB/s \n",
            "\u001b[?25hRequirement already satisfied: jinja2<4.0,>=2.10 in /usr/local/lib/python3.7/dist-packages (from diagrams) (2.11.3)\n",
            "Collecting graphviz<0.20.0,>=0.13.2\n",
            "  Downloading graphviz-0.19.2-py3-none-any.whl (46 kB)\n",
            "\u001b[K     |████████████████████████████████| 46 kB 3.6 MB/s \n",
            "\u001b[?25hRequirement already satisfied: MarkupSafe>=0.23 in /usr/local/lib/python3.7/dist-packages (from jinja2<4.0,>=2.10->diagrams) (2.0.1)\n",
            "Installing collected packages: graphviz, diagrams\n",
            "  Attempting uninstall: graphviz\n",
            "    Found existing installation: graphviz 0.10.1\n",
            "    Uninstalling graphviz-0.10.1:\n",
            "      Successfully uninstalled graphviz-0.10.1\n",
            "Successfully installed diagrams-0.21.1 graphviz-0.19.2\n"
          ]
        }
      ],
      "source": [
        "pip install diagrams"
      ]
    },
    {
      "cell_type": "code",
      "source": [
        "from diagrams import Diagram\n",
        "from diagrams.gcp.analytics import Bigquery\n",
        "with Diagram('My Diagram'):\n",
        "    BigQuery('Data Warehouse')"
      ],
      "metadata": {
        "id": "izCJROY9O3fF"
      },
      "execution_count": 9,
      "outputs": []
    },
    {
      "cell_type": "code",
      "source": [
        "from diagrams import Diagram, Node\n",
        "with Diagram('My Diagram'):\n",
        "    Node('This is a custom node')"
      ],
      "metadata": {
        "id": "u-3XE3OQO4b9"
      },
      "execution_count": 4,
      "outputs": []
    },
    {
      "cell_type": "code",
      "source": [
        "from diagrams import Cluster, Diagram\n",
        "from diagrams.gcp.database import SQL\n",
        "from diagrams.gcp.storage import GCS\n",
        "from diagrams.onprem.database import MongoDB\n",
        "\n",
        "with Diagram('My Diagram', direction='TB'):\n",
        "  gcs = GCS('Google Cloud Storage')\n",
        "\n",
        "with Cluster('Databases'):\n",
        "    cloud_sql = SQL('Cloud SQL')\n",
        "    mongodb = MongoDB('MongoDB')"
      ],
      "metadata": {
        "id": "XE-PxZq3O5eI"
      },
      "execution_count": 12,
      "outputs": []
    },
    {
      "cell_type": "code",
      "source": [
        "from diagrams import Diagram, Edge, Node\n",
        "with Diagram('My Diagram', direction='TB'):\n",
        "    n1 = Node('n1')\n",
        "    n2 = Node('n2')\n",
        "    n3 = Node('n3')\n",
        "    n4 = Node('n4')\n",
        "    n5 = Node('n5')\n",
        "    n6 = Node('n6')   \n",
        "    \n",
        "    n1 >> n2\n",
        "    n3 - n4\n",
        "    n5 >> Edge(label='This is a label', color='red') >> n6"
      ],
      "metadata": {
        "id": "gnFmeXFxPLSa"
      },
      "execution_count": 7,
      "outputs": []
    },
    {
      "cell_type": "code",
      "source": [
        "from diagrams import Cluster, Diagram\n",
        "from diagrams.gcp.analytics import BigQuery, Dataflow, PubSub\n",
        "from diagrams.gcp.compute import AppEngine, Functions\n",
        "from diagrams.gcp.database import BigTable\n",
        "from diagrams.gcp.iot import IotCore\n",
        "from diagrams.gcp.storage import GCS\n",
        "\n",
        "\n",
        "with Diagram(\"Message Collecting\", show=False):\n",
        "    pubsub = PubSub(\"pubsub\")\n",
        "    \n",
        "with Cluster(\"Source of Data\"):\n",
        "        [IotCore(\"core1\"),\n",
        "         IotCore(\"core2\"),\n",
        "         IotCore(\"core3\")] >> pubsub\n",
        "\n",
        "with Cluster(\"Targets\"):\n",
        "        with Cluster(\"Data Flow\"):\n",
        "            flow = Dataflow(\"data flow\")\n",
        "with Cluster(\"Data Lake\"):\n",
        "            flow >> [BigQuery(\"bq\"),\n",
        "                     GCS(\"storage\")]\n",
        "                     \n",
        "with Cluster(\"Event Driven\"):\n",
        "            with Cluster(\"Processing\"):\n",
        "                flow >> AppEngine(\"engine\") >> BigTable(\"bigtable\")\n",
        "                \n",
        "with Cluster(\"Serverless\"):\n",
        "                flow >> Functions(\"func\") >> AppEngine(\"appengine\")\n",
        "                \n",
        "pubsub >> flow"
      ],
      "metadata": {
        "id": "ILtpqdgePQ1v"
      },
      "execution_count": 13,
      "outputs": []
    }
  ]
}