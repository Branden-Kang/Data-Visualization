{
  "nbformat": 4,
  "nbformat_minor": 0,
  "metadata": {
    "colab": {
      "name": "Improve Your Matplotlib Chart in 3 Simple Steps.ipynb",
      "provenance": [],
      "collapsed_sections": [],
      "authorship_tag": "ABX9TyOVUm3gjp/fZDp7d8zEtfM+"
    },
    "kernelspec": {
      "name": "python3",
      "display_name": "Python 3"
    },
    "language_info": {
      "name": "python"
    }
  },
  "cells": [
    {
      "cell_type": "code",
      "execution_count": 1,
      "metadata": {
        "id": "Xfig-R2V4Q47"
      },
      "outputs": [],
      "source": [
        "import pandas as pd\n",
        "import numpy as np\n",
        "import matplotlib.pyplot as plt"
      ]
    },
    {
      "cell_type": "code",
      "source": [
        "df = pd.read_csv('https://raw.githubusercontent.com/Branden-Kang/Python-practice/master/Data/Future50.csv')\n",
        "df.head()"
      ],
      "metadata": {
        "id": "aIGiO9Vq44m-",
        "colab": {
          "base_uri": "https://localhost:8080/",
          "height": 204
        },
        "outputId": "c65996ca-c366-4745-8264-5b3539b956d1"
      },
      "execution_count": 2,
      "outputs": [
        {
          "output_type": "execute_result",
          "data": {
            "text/plain": [
              "   Rank   Restaurant                  Location  Sales YOY_Sales  Units  \\\n",
              "0     1   Evergreens            Seattle, Wash.     24    130.5%     26   \n",
              "1     2  Clean Juice           Charlotte, N.C.     44    121.9%    105   \n",
              "2     3     Slapfish  Huntington Beach, Calif.     21     81.0%     21   \n",
              "3     4   Clean Eatz          Wilmington, N.C.     25     79.7%     46   \n",
              "4     5    Pokeworks            Irvine, Calif.     49     77.1%     50   \n",
              "\n",
              "  YOY_Units  Unit_Volume Franchising  \n",
              "0    116.7%         1150          No  \n",
              "1     94.4%          560         Yes  \n",
              "2     90.9%         1370         Yes  \n",
              "3     58.6%          685         Yes  \n",
              "4     56.3%         1210         Yes  "
            ],
            "text/html": [
              "\n",
              "  <div id=\"df-93c2dd6d-984b-467c-8695-811b12c9ea04\">\n",
              "    <div class=\"colab-df-container\">\n",
              "      <div>\n",
              "<style scoped>\n",
              "    .dataframe tbody tr th:only-of-type {\n",
              "        vertical-align: middle;\n",
              "    }\n",
              "\n",
              "    .dataframe tbody tr th {\n",
              "        vertical-align: top;\n",
              "    }\n",
              "\n",
              "    .dataframe thead th {\n",
              "        text-align: right;\n",
              "    }\n",
              "</style>\n",
              "<table border=\"1\" class=\"dataframe\">\n",
              "  <thead>\n",
              "    <tr style=\"text-align: right;\">\n",
              "      <th></th>\n",
              "      <th>Rank</th>\n",
              "      <th>Restaurant</th>\n",
              "      <th>Location</th>\n",
              "      <th>Sales</th>\n",
              "      <th>YOY_Sales</th>\n",
              "      <th>Units</th>\n",
              "      <th>YOY_Units</th>\n",
              "      <th>Unit_Volume</th>\n",
              "      <th>Franchising</th>\n",
              "    </tr>\n",
              "  </thead>\n",
              "  <tbody>\n",
              "    <tr>\n",
              "      <th>0</th>\n",
              "      <td>1</td>\n",
              "      <td>Evergreens</td>\n",
              "      <td>Seattle, Wash.</td>\n",
              "      <td>24</td>\n",
              "      <td>130.5%</td>\n",
              "      <td>26</td>\n",
              "      <td>116.7%</td>\n",
              "      <td>1150</td>\n",
              "      <td>No</td>\n",
              "    </tr>\n",
              "    <tr>\n",
              "      <th>1</th>\n",
              "      <td>2</td>\n",
              "      <td>Clean Juice</td>\n",
              "      <td>Charlotte, N.C.</td>\n",
              "      <td>44</td>\n",
              "      <td>121.9%</td>\n",
              "      <td>105</td>\n",
              "      <td>94.4%</td>\n",
              "      <td>560</td>\n",
              "      <td>Yes</td>\n",
              "    </tr>\n",
              "    <tr>\n",
              "      <th>2</th>\n",
              "      <td>3</td>\n",
              "      <td>Slapfish</td>\n",
              "      <td>Huntington Beach, Calif.</td>\n",
              "      <td>21</td>\n",
              "      <td>81.0%</td>\n",
              "      <td>21</td>\n",
              "      <td>90.9%</td>\n",
              "      <td>1370</td>\n",
              "      <td>Yes</td>\n",
              "    </tr>\n",
              "    <tr>\n",
              "      <th>3</th>\n",
              "      <td>4</td>\n",
              "      <td>Clean Eatz</td>\n",
              "      <td>Wilmington, N.C.</td>\n",
              "      <td>25</td>\n",
              "      <td>79.7%</td>\n",
              "      <td>46</td>\n",
              "      <td>58.6%</td>\n",
              "      <td>685</td>\n",
              "      <td>Yes</td>\n",
              "    </tr>\n",
              "    <tr>\n",
              "      <th>4</th>\n",
              "      <td>5</td>\n",
              "      <td>Pokeworks</td>\n",
              "      <td>Irvine, Calif.</td>\n",
              "      <td>49</td>\n",
              "      <td>77.1%</td>\n",
              "      <td>50</td>\n",
              "      <td>56.3%</td>\n",
              "      <td>1210</td>\n",
              "      <td>Yes</td>\n",
              "    </tr>\n",
              "  </tbody>\n",
              "</table>\n",
              "</div>\n",
              "      <button class=\"colab-df-convert\" onclick=\"convertToInteractive('df-93c2dd6d-984b-467c-8695-811b12c9ea04')\"\n",
              "              title=\"Convert this dataframe to an interactive table.\"\n",
              "              style=\"display:none;\">\n",
              "        \n",
              "  <svg xmlns=\"http://www.w3.org/2000/svg\" height=\"24px\"viewBox=\"0 0 24 24\"\n",
              "       width=\"24px\">\n",
              "    <path d=\"M0 0h24v24H0V0z\" fill=\"none\"/>\n",
              "    <path d=\"M18.56 5.44l.94 2.06.94-2.06 2.06-.94-2.06-.94-.94-2.06-.94 2.06-2.06.94zm-11 1L8.5 8.5l.94-2.06 2.06-.94-2.06-.94L8.5 2.5l-.94 2.06-2.06.94zm10 10l.94 2.06.94-2.06 2.06-.94-2.06-.94-.94-2.06-.94 2.06-2.06.94z\"/><path d=\"M17.41 7.96l-1.37-1.37c-.4-.4-.92-.59-1.43-.59-.52 0-1.04.2-1.43.59L10.3 9.45l-7.72 7.72c-.78.78-.78 2.05 0 2.83L4 21.41c.39.39.9.59 1.41.59.51 0 1.02-.2 1.41-.59l7.78-7.78 2.81-2.81c.8-.78.8-2.07 0-2.86zM5.41 20L4 18.59l7.72-7.72 1.47 1.35L5.41 20z\"/>\n",
              "  </svg>\n",
              "      </button>\n",
              "      \n",
              "  <style>\n",
              "    .colab-df-container {\n",
              "      display:flex;\n",
              "      flex-wrap:wrap;\n",
              "      gap: 12px;\n",
              "    }\n",
              "\n",
              "    .colab-df-convert {\n",
              "      background-color: #E8F0FE;\n",
              "      border: none;\n",
              "      border-radius: 50%;\n",
              "      cursor: pointer;\n",
              "      display: none;\n",
              "      fill: #1967D2;\n",
              "      height: 32px;\n",
              "      padding: 0 0 0 0;\n",
              "      width: 32px;\n",
              "    }\n",
              "\n",
              "    .colab-df-convert:hover {\n",
              "      background-color: #E2EBFA;\n",
              "      box-shadow: 0px 1px 2px rgba(60, 64, 67, 0.3), 0px 1px 3px 1px rgba(60, 64, 67, 0.15);\n",
              "      fill: #174EA6;\n",
              "    }\n",
              "\n",
              "    [theme=dark] .colab-df-convert {\n",
              "      background-color: #3B4455;\n",
              "      fill: #D2E3FC;\n",
              "    }\n",
              "\n",
              "    [theme=dark] .colab-df-convert:hover {\n",
              "      background-color: #434B5C;\n",
              "      box-shadow: 0px 1px 3px 1px rgba(0, 0, 0, 0.15);\n",
              "      filter: drop-shadow(0px 1px 2px rgba(0, 0, 0, 0.3));\n",
              "      fill: #FFFFFF;\n",
              "    }\n",
              "  </style>\n",
              "\n",
              "      <script>\n",
              "        const buttonEl =\n",
              "          document.querySelector('#df-93c2dd6d-984b-467c-8695-811b12c9ea04 button.colab-df-convert');\n",
              "        buttonEl.style.display =\n",
              "          google.colab.kernel.accessAllowed ? 'block' : 'none';\n",
              "\n",
              "        async function convertToInteractive(key) {\n",
              "          const element = document.querySelector('#df-93c2dd6d-984b-467c-8695-811b12c9ea04');\n",
              "          const dataTable =\n",
              "            await google.colab.kernel.invokeFunction('convertToInteractive',\n",
              "                                                     [key], {});\n",
              "          if (!dataTable) return;\n",
              "\n",
              "          const docLinkHtml = 'Like what you see? Visit the ' +\n",
              "            '<a target=\"_blank\" href=https://colab.research.google.com/notebooks/data_table.ipynb>data table notebook</a>'\n",
              "            + ' to learn more about interactive tables.';\n",
              "          element.innerHTML = '';\n",
              "          dataTable['output_type'] = 'display_data';\n",
              "          await google.colab.output.renderOutput(dataTable, element);\n",
              "          const docLink = document.createElement('div');\n",
              "          docLink.innerHTML = docLinkHtml;\n",
              "          element.appendChild(docLink);\n",
              "        }\n",
              "      </script>\n",
              "    </div>\n",
              "  </div>\n",
              "  "
            ]
          },
          "metadata": {},
          "execution_count": 2
        }
      ]
    },
    {
      "cell_type": "markdown",
      "source": [
        "# Basic Chart with Matplotlib\n"
      ],
      "metadata": {
        "id": "dz8McEk5459u"
      }
    },
    {
      "cell_type": "code",
      "source": [
        "# Let's add the year 2019\n",
        "df['year']= 2019\n",
        "# convert sales in billions\n",
        "df['Sales']= df['Sales']/1000\n",
        "\n",
        "# Setup plot size\n",
        "fig,ax = plt.subplots(figsize=(3,6))\n",
        "\n",
        "# Select data\n",
        "df_bar = df[df['year'] == 2019].sort_values(by='Sales')[-10:]\n",
        "\n",
        "# Plot data\n",
        "ax.barh(df_bar['Restaurant'], df_bar['Sales'])\n",
        "ax.set_title('Top 10 U.S.Restaurants by Sales',loc ='center')"
      ],
      "metadata": {
        "id": "Xpuu9yg644_O",
        "colab": {
          "base_uri": "https://localhost:8080/",
          "height": 407
        },
        "outputId": "3f6af17c-0f3e-4cf2-b61a-d111398ced65"
      },
      "execution_count": 3,
      "outputs": [
        {
          "output_type": "execute_result",
          "data": {
            "text/plain": [
              "Text(0.5, 1.0, 'Top 10 U.S.Restaurants by Sales')"
            ]
          },
          "metadata": {},
          "execution_count": 3
        },
        {
          "output_type": "display_data",
          "data": {
            "text/plain": [
              "<Figure size 216x432 with 1 Axes>"
            ],
            "image/png": "[encoded data removed]"
          },
          "metadata": {
            "needs_background": "light"
          }
        }
      ]
    },
    {
      "cell_type": "markdown",
      "source": [
        "# Step 1: Remove the “black box”\n"
      ],
      "metadata": {
        "id": "tkPfgqik48Qi"
      }
    },
    {
      "cell_type": "code",
      "source": [
        "# Remove splines\n",
        "# ax.spines[[\"top\",\"right\",\"bottom\"]].set_visible(False)\n",
        "ax.spines[\"left\"].set_linewidth(1.1)"
      ],
      "metadata": {
        "id": "jcumrYae47Zw"
      },
      "execution_count": 10,
      "outputs": []
    },
    {
      "cell_type": "markdown",
      "source": [
        "# Step 2: Add the grid and customize the ticks labels\n"
      ],
      "metadata": {
        "id": "PafZFzBV4_PF"
      }
    },
    {
      "cell_type": "code",
      "source": [
        "# Set the grid\n",
        "ax.grid(which=\"major\",axis=\"x\", color='grey')"
      ],
      "metadata": {
        "id": "1GM_o00o4-Vo"
      },
      "execution_count": 5,
      "outputs": []
    },
    {
      "cell_type": "code",
      "source": [
        "# Add zorder\n",
        "ax.grid(which=\"major\",axis=\"x\", color='grey', alpha=0.6, zorder=1)\n",
        "ax.barh(df_bar['Restaurant'], df_bar['Sales'],zorder=2)"
      ],
      "metadata": {
        "id": "9XrOZIqq5AqL",
        "colab": {
          "base_uri": "https://localhost:8080/"
        },
        "outputId": "ace484b2-418f-4491-8df3-69de9ad888ce"
      },
      "execution_count": 6,
      "outputs": [
        {
          "output_type": "execute_result",
          "data": {
            "text/plain": [
              "<BarContainer object of 10 artists>"
            ]
          },
          "metadata": {},
          "execution_count": 6
        }
      ]
    },
    {
      "cell_type": "code",
      "source": [
        "# Reformat x-axis tick labels\n",
        "ax.xaxis.set_tick_params(labeltop=True, labelbottom=False, bottom=False, labelsize=11, pad=-1)\n",
        "\n",
        "# Reformat y-axis tick labels\n",
        "ax.set_yticklabels(df_bar['Restaurant'],ha='left')\n",
        "ax.yaxis.set_tick_params(pad=100, labelsize=11,bottom=False)"
      ],
      "metadata": {
        "id": "ci--tYjq5CMm"
      },
      "execution_count": 7,
      "outputs": []
    },
    {
      "cell_type": "markdown",
      "source": [
        "# Step 3: Add text (title, subtitle, source)\n"
      ],
      "metadata": {
        "id": "8yecSSOu5EiX"
      }
    },
    {
      "cell_type": "code",
      "source": [
        "# Add in title and subtitle\n",
        "ax.text(x=-.35, y=.96, s=\"Top 10 U.S.Restaurants by Sales\", transform=fig.transFigure, ha='left', fontsize=12, weight='bold', alpha=.8)\n",
        "ax.text(x=-.35, y=.925, s=\"2020, millions of USD\", transform=fig.transFigure, ha='left', fontsize=11, alpha=.8)\n",
        "\n",
        "# Set source text\n",
        "ax.text(x=-.35, y=.08, s=\"\"\"Source: \"Restaurant Business Rankings 2020\" via Kaggle.com\"\"\", transform=fig.transFigure, ha='left', fontsize=9, alpha=.7)"
      ],
      "metadata": {
        "id": "0eiZIY6P5Dkf",
        "colab": {
          "base_uri": "https://localhost:8080/"
        },
        "outputId": "de7a6f3a-5f10-47e8-e864-d1141b400bfb"
      },
      "execution_count": 8,
      "outputs": [
        {
          "output_type": "execute_result",
          "data": {
            "text/plain": [
              "Text(-0.35, 0.08, 'Source: \"Restaurant Business Rankings 2020\" via Kaggle.com')"
            ]
          },
          "metadata": {},
          "execution_count": 8
        }
      ]
    }
  ]
}