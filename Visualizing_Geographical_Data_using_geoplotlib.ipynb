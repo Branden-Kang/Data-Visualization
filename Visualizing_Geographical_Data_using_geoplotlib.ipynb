{
  "nbformat": 4,
  "nbformat_minor": 0,
  "metadata": {
    "colab": {
      "name": "Visualizing Geographical Data using geoplotlib.ipynb",
      "provenance": [],
      "authorship_tag": "ABX9TyNXZHUZkjNV5gbALm5sHomA"
    },
    "kernelspec": {
      "name": "python3",
      "display_name": "Python 3"
    },
    "language_info": {
      "name": "python"
    }
  },
  "cells": [
    {
      "cell_type": "markdown",
      "metadata": {
        "id": "aoYCsdyPCjUU"
      },
      "source": [
        "[Reference](https://medium.com/@labdheesheth/visualizing-geographical-data-using-geoplotlib-d732953abcd5)"
      ]
    },
    {
      "cell_type": "code",
      "metadata": {
        "colab": {
          "base_uri": "https://localhost:8080/"
        },
        "id": "ppAsAH0qDEAB",
        "outputId": "9518bf25-571d-4fdf-a527-e60e86123079"
      },
      "source": [
        "pip install geoplotlib"
      ],
      "execution_count": 1,
      "outputs": [
        {
          "output_type": "stream",
          "name": "stdout",
          "text": [
            "Collecting geoplotlib\n",
            "  Downloading geoplotlib-0.3.2.tar.gz (22 kB)\n",
            "Building wheels for collected packages: geoplotlib\n",
            "  Building wheel for geoplotlib (setup.py) ... \u001b[?25l\u001b[?25hdone\n",
            "  Created wheel for geoplotlib: filename=geoplotlib-0.3.2-py3-none-any.whl size=24572 sha256=beaab1fd91c8f989d893fb867017df52db5cd0c86252f4819a790c7ba3139fb2\n",
            "  Stored in directory: /root/.cache/pip/wheels/f0/b7/30/9dca97573fcf2c600c00f8cb1cd8036e0a3214b92d3639d6db\n",
            "Successfully built geoplotlib\n",
            "Installing collected packages: geoplotlib\n",
            "Successfully installed geoplotlib-0.3.2\n"
          ]
        }
      ]
    },
    {
      "cell_type": "code",
      "metadata": {
        "colab": {
          "base_uri": "https://localhost:8080/"
        },
        "id": "_5p-iKMbFGqZ",
        "outputId": "f141c6e7-41b0-40ca-f577-4edc6f32d80e"
      },
      "source": [
        "pip install pyvirtualdisplay"
      ],
      "execution_count": 6,
      "outputs": [
        {
          "output_type": "stream",
          "name": "stdout",
          "text": [
            "Collecting pyvirtualdisplay\n",
            "  Downloading PyVirtualDisplay-2.2-py3-none-any.whl (15 kB)\n",
            "Collecting EasyProcess\n",
            "  Downloading EasyProcess-0.3-py2.py3-none-any.whl (7.9 kB)\n",
            "Installing collected packages: EasyProcess, pyvirtualdisplay\n",
            "Successfully installed EasyProcess-0.3 pyvirtualdisplay-2.2\n"
          ]
        }
      ]
    },
    {
      "cell_type": "code",
      "metadata": {
        "colab": {
          "base_uri": "https://localhost:8080/"
        },
        "id": "oZBz2m9_FO2U",
        "outputId": "e8df8c87-93e5-4be5-8f6c-14b33749d8f2"
      },
      "source": [
        "!apt-get install -y xvfb x11-utils"
      ],
      "execution_count": 11,
      "outputs": [
        {
          "output_type": "stream",
          "name": "stdout",
          "text": [
            "Reading package lists... Done\n",
            "Building dependency tree       \n",
            "Reading state information... Done\n",
            "The following additional packages will be installed:\n",
            "  libxxf86dga1\n",
            "Suggested packages:\n",
            "  mesa-utils\n",
            "The following NEW packages will be installed:\n",
            "  libxxf86dga1 x11-utils xvfb\n",
            "0 upgraded, 3 newly installed, 0 to remove and 37 not upgraded.\n",
            "Need to get 994 kB of archives.\n",
            "After this operation, 2,981 kB of additional disk space will be used.\n",
            "Get:1 http://archive.ubuntu.com/ubuntu bionic/main amd64 libxxf86dga1 amd64 2:1.1.4-1 [13.7 kB]\n",
            "Get:2 http://archive.ubuntu.com/ubuntu bionic/main amd64 x11-utils amd64 7.7+3build1 [196 kB]\n",
            "Get:3 http://archive.ubuntu.com/ubuntu bionic-updates/universe amd64 xvfb amd64 2:1.19.6-1ubuntu4.9 [784 kB]\n",
            "Fetched 994 kB in 1s (1,371 kB/s)\n",
            "Selecting previously unselected package libxxf86dga1:amd64.\n",
            "(Reading database ... 155013 files and directories currently installed.)\n",
            "Preparing to unpack .../libxxf86dga1_2%3a1.1.4-1_amd64.deb ...\n",
            "Unpacking libxxf86dga1:amd64 (2:1.1.4-1) ...\n",
            "Selecting previously unselected package x11-utils.\n",
            "Preparing to unpack .../x11-utils_7.7+3build1_amd64.deb ...\n",
            "Unpacking x11-utils (7.7+3build1) ...\n",
            "Selecting previously unselected package xvfb.\n",
            "Preparing to unpack .../xvfb_2%3a1.19.6-1ubuntu4.9_amd64.deb ...\n",
            "Unpacking xvfb (2:1.19.6-1ubuntu4.9) ...\n",
            "Setting up xvfb (2:1.19.6-1ubuntu4.9) ...\n",
            "Setting up libxxf86dga1:amd64 (2:1.1.4-1) ...\n",
            "Setting up x11-utils (7.7+3build1) ...\n",
            "Processing triggers for man-db (2.8.3-2ubuntu0.1) ...\n",
            "Processing triggers for libc-bin (2.27-3ubuntu1.3) ...\n",
            "/sbin/ldconfig.real: /usr/local/lib/python3.7/dist-packages/ideep4py/lib/libmkldnn.so.0 is not a symbolic link\n",
            "\n"
          ]
        }
      ]
    },
    {
      "cell_type": "code",
      "metadata": {
        "id": "e_gkFcFIE_NW"
      },
      "source": [
        "from pyvirtualdisplay import Display"
      ],
      "execution_count": 7,
      "outputs": []
    },
    {
      "cell_type": "code",
      "metadata": {
        "colab": {
          "base_uri": "https://localhost:8080/"
        },
        "id": "g84F2zQfFLn6",
        "outputId": "f0e803c0-2700-435b-a431-fc74cf049265"
      },
      "source": [
        "display = Display(visible=False, size=(400, 300))\n",
        "display.start()"
      ],
      "execution_count": 12,
      "outputs": [
        {
          "output_type": "execute_result",
          "data": {
            "text/plain": [
              "<pyvirtualdisplay.display.Display at 0x7fba83165890>"
            ]
          },
          "metadata": {},
          "execution_count": 12
        }
      ]
    },
    {
      "cell_type": "markdown",
      "metadata": {
        "id": "dDNQK9ecCpWH"
      },
      "source": [
        "# 1. Dot Map:"
      ]
    },
    {
      "cell_type": "code",
      "metadata": {
        "id": "55suLS9yChKA"
      },
      "source": [
        "import geoplotlib\n",
        "from geoplotlib.utils import read_csv\n",
        "import pandas as pd\n",
        "\n",
        "data = read_csv('https://raw.githubusercontent.com/andrea-cuttone/geoplotlib/master/examples/data/bus.csv')\n",
        "geoplotlib.dot(data)\n",
        "geoplotlib.show()"
      ],
      "execution_count": 2,
      "outputs": []
    },
    {
      "cell_type": "markdown",
      "metadata": {
        "id": "ZFeTmY3TCsiN"
      },
      "source": [
        "# 2. 2D histograms:"
      ]
    },
    {
      "cell_type": "code",
      "metadata": {
        "id": "4TTtrw0JCnkg"
      },
      "source": [
        "import geoplotlib\n",
        "from geoplotlib.utils import read_csv, BoundingBox\n",
        "\n",
        "data = read_csv('https://raw.githubusercontent.com/andrea-cuttone/geoplotlib/master/examples/data/opencellid_dk.csv')\n",
        "geoplotlib.hist(data, colorscale='sqrt', binsize=8)\n",
        "geoplotlib.set_bbox(BoundingBox.DK)\n",
        "geoplotlib.show()"
      ],
      "execution_count": 3,
      "outputs": []
    },
    {
      "cell_type": "markdown",
      "metadata": {
        "id": "c4cmCzfzCwF-"
      },
      "source": [
        "# 3. Heatmap:"
      ]
    },
    {
      "cell_type": "code",
      "metadata": {
        "id": "KaT4Wp0ECt9t"
      },
      "source": [
        "import geoplotlib\n",
        "from geoplotlib.utils import read_csv, BoundingBox, DataAccessObject\n",
        "import pandas as pd\n",
        "\n",
        "df = pd.read_csv('district wise population and centroids.csv')\n",
        "df.columns = ['State', 'District', 'lat', 'lon', 'Population in 2001',\n",
        "       'Population in 2011']\n",
        "geoplotlib.kde(df, bw=7, cut_below=1e-4)\n",
        "\n",
        "geoplotlib.set_bbox(BoundingBox.KBH)\n",
        "geoplotlib.show()"
      ],
      "execution_count": 14,
      "outputs": []
    },
    {
      "cell_type": "markdown",
      "metadata": {
        "id": "xdy9ioYmCy4z"
      },
      "source": [
        "# 4. Spatial graph:"
      ]
    },
    {
      "cell_type": "code",
      "metadata": {
        "id": "7rmTFSh1C0IM"
      },
      "source": [
        "import geoplotlib\n",
        "from geoplotlib.utils import read_csv\n",
        "\n",
        "data = read_csv('https://raw.githubusercontent.com/andrea-cuttone/geoplotlib/master/examples/data/flights.csv')\n",
        "geoplotlib.graph(data,\n",
        "                 src_lat='lat_departure',\n",
        "                 src_lon='lon_departure',\n",
        "                 dest_lat='lat_arrival',\n",
        "                 dest_lon='lon_arrival',\n",
        "                 color='hot_r',\n",
        "                 alpha=16,\n",
        "                 linewidth=2)\n",
        "geoplotlib.show()"
      ],
      "execution_count": 15,
      "outputs": []
    },
    {
      "cell_type": "markdown",
      "metadata": {
        "id": "mx9RU86rC2wN"
      },
      "source": [
        "# 5. Moving points:"
      ]
    },
    {
      "cell_type": "code",
      "metadata": {
        "id": "TGNA3nc6C0t3"
      },
      "source": [
        "from geoplotlib.layers import BaseLayer\n",
        "from geoplotlib.core import BatchPainter\n",
        "import geoplotlib\n",
        "from geoplotlib.colors import colorbrewer\n",
        "from geoplotlib.utils import epoch_to_str, BoundingBox, read_csv\n",
        "\n",
        "\n",
        "class TrailsLayer(BaseLayer):\n",
        "\n",
        "    def __init__(self):\n",
        "        self.data = read_csv('https://github.com/andrea-cuttone/geoplotlib/blob/master/examples/data/taxi.csv')\n",
        "        self.cmap = colorbrewer(self.data['taxi_id'], alpha=220)\n",
        "        self.t = self.data['timestamp'].min()\n",
        "        self.painter = BatchPainter()\n",
        "\n",
        "\n",
        "    def draw(self, proj, mouse_x, mouse_y, ui_manager):\n",
        "        self.painter = BatchPainter()\n",
        "        df = self.data.where((self.data['timestamp'] > self.t) & (self.data['timestamp'] <= self.t + 15*60))\n",
        "\n",
        "        for taxi_id in set(df['taxi_id']):\n",
        "            grp = df.where(df['taxi_id'] == taxi_id)\n",
        "            self.painter.set_color(self.cmap[taxi_id])\n",
        "            x, y = proj.lonlat_to_screen(grp['lon'], grp['lat'])\n",
        "            self.painter.points(x, y, 10)\n",
        "\n",
        "        self.t += 2*60\n",
        "\n",
        "        if self.t > self.data['timestamp'].max():\n",
        "            self.t = self.data['timestamp'].min()\n",
        "\n",
        "        self.painter.batch_draw()\n",
        "        ui_manager.info(epoch_to_str(self.t))\n",
        "\n",
        "\n",
        "    def bbox(self):\n",
        "        return BoundingBox(north=40.110222, west=115.924463, south=39.705711, east=116.803369)\n",
        "\n",
        "\n",
        "geoplotlib.add_layer(TrailsLayer())\n",
        "geoplotlib.show()"
      ],
      "execution_count": 16,
      "outputs": []
    }
  ]
}