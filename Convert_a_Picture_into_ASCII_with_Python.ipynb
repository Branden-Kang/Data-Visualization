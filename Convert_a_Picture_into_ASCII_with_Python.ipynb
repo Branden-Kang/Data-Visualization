{
  "nbformat": 4,
  "nbformat_minor": 0,
  "metadata": {
    "colab": {
      "name": "Convert a Picture into ASCII with Python.ipynb",
      "provenance": [],
      "authorship_tag": "ABX9TyOhWCOz2CizKZAFMniB2qCp"
    },
    "kernelspec": {
      "name": "python3",
      "display_name": "Python 3"
    },
    "language_info": {
      "name": "python"
    }
  },
  "cells": [
    {
      "cell_type": "markdown",
      "metadata": {
        "id": "Q5wldIju_9hI"
      },
      "source": [
        "[Reference](https://python.plainenglish.io/convert-a-picture-into-ascii-with-python-ed48b9c87657)"
      ]
    },
    {
      "cell_type": "code",
      "metadata": {
        "colab": {
          "base_uri": "https://localhost:8080/"
        },
        "id": "K8QePatl-9nm",
        "outputId": "244147bb-f70b-4a51-f668-6af17f3602d8"
      },
      "source": [
        "!wget https://miro.medium.com/max/1400/1*2qfTAo2X4G97jl4crjGCyw.jpeg"
      ],
      "execution_count": 2,
      "outputs": [
        {
          "output_type": "stream",
          "text": [
            "Warning: wildcards not supported in HTTP.\n",
            "--2021-06-06 06:21:42--  https://miro.medium.com/max/1400/1*2qfTAo2X4G97jl4crjGCyw.jpeg\n",
            "Resolving miro.medium.com (miro.medium.com)... 162.159.153.4, 162.159.152.4, 2606:4700:7::a29f:9904, ...\n",
            "Connecting to miro.medium.com (miro.medium.com)|162.159.153.4|:443... connected.\n",
            "HTTP request sent, awaiting response... 200 OK\n",
            "Length: 170884 (167K) [image/jpeg]\n",
            "Saving to: ‘1*2qfTAo2X4G97jl4crjGCyw.jpeg’\n",
            "\n",
            "\r          1*2qfTAo2   0%[                    ]       0  --.-KB/s               \r1*2qfTAo2X4G97jl4cr 100%[===================>] 166.88K  --.-KB/s    in 0.004s  \n",
            "\n",
            "2021-06-06 06:21:43 (37.8 MB/s) - ‘1*2qfTAo2X4G97jl4crjGCyw.jpeg’ saved [170884/170884]\n",
            "\n"
          ],
          "name": "stdout"
        }
      ]
    },
    {
      "cell_type": "code",
      "metadata": {
        "colab": {
          "base_uri": "https://localhost:8080/"
        },
        "id": "gyViqq4Q9zNG",
        "outputId": "ac98f026-cc12-4679-8233-052c3aa0aea9"
      },
      "source": [
        "pip install Pillow"
      ],
      "execution_count": 1,
      "outputs": [
        {
          "output_type": "stream",
          "text": [
            "Requirement already satisfied: Pillow in /usr/local/lib/python3.7/dist-packages (7.1.2)\n"
          ],
          "name": "stdout"
        }
      ]
    },
    {
      "cell_type": "code",
      "metadata": {
        "colab": {
          "base_uri": "https://localhost:8080/"
        },
        "id": "SvQfvD3I_AFQ",
        "outputId": "7a48f1b8-6c15-4e8f-b9b0-a1412774eb7c"
      },
      "source": [
        "!ls"
      ],
      "execution_count": 3,
      "outputs": [
        {
          "output_type": "stream",
          "text": [
            "'1*2qfTAo2X4G97jl4crjGCyw.jpeg'   sample_data\n"
          ],
          "name": "stdout"
        }
      ]
    },
    {
      "cell_type": "code",
      "metadata": {
        "id": "C6rn6ol1-73t"
      },
      "source": [
        "from PIL import Image"
      ],
      "execution_count": 4,
      "outputs": []
    },
    {
      "cell_type": "code",
      "metadata": {
        "id": "1QA2iArc_B8Q"
      },
      "source": [
        "pict = Image.open('1*2qfTAo2X4G97jl4crjGCyw.jpeg')\n",
        "height, width = pict.size\n",
        "aspect_ratio = height/width\n"
      ],
      "execution_count": 5,
      "outputs": []
    },
    {
      "cell_type": "code",
      "metadata": {
        "colab": {
          "base_uri": "https://localhost:8080/"
        },
        "id": "dr9ewWyn_EBZ",
        "outputId": "1f3fad4c-2ad2-4684-cfbc-9fff73cd9227"
      },
      "source": [
        "print(height, width)"
      ],
      "execution_count": 6,
      "outputs": [
        {
          "output_type": "stream",
          "text": [
            "1065 1272\n"
          ],
          "name": "stdout"
        }
      ]
    },
    {
      "cell_type": "code",
      "metadata": {
        "colab": {
          "base_uri": "https://localhost:8080/"
        },
        "id": "Sg6sOUdJ_Fia",
        "outputId": "97103444-61b7-4465-d281-cd8898de3bb8"
      },
      "source": [
        "print(aspect_ratio)"
      ],
      "execution_count": 7,
      "outputs": [
        {
          "output_type": "stream",
          "text": [
            "0.8372641509433962\n"
          ],
          "name": "stdout"
        }
      ]
    },
    {
      "cell_type": "markdown",
      "metadata": {
        "id": "sqkfwBhb_Jrj"
      },
      "source": [
        "# Convert into ASCII"
      ]
    },
    {
      "cell_type": "code",
      "metadata": {
        "id": "E-4837u1_GfR"
      },
      "source": [
        "new_width = 240\n",
        "new_height = aspect_ratio * new_width*0.5\n",
        "pict = pict.resize((new_width, int(new_height)))\n",
        "pict = pict.convert('L')\n",
        "pixels = pict.getdata()\n",
        "chars = [\"i\", \"o\", \"#\", \"%\", \"!\", \"-\", \":\", \":\", \"&\", \"*\", \"i\"]\n",
        "new_pixels = [chars[pixel//25] for pixel in pixels]\n",
        "new_pixels = ''.join(new_pixels)\n",
        "new_pixels_count = len(new_pixels)\n",
        "ascii_picture = [new_pixels[index:index+new_width]\n",
        "                 for index in range(0, new_pixels_count, new_width)]\n",
        "ascii_picture = \"\\n\".join(ascii_picture)"
      ],
      "execution_count": 9,
      "outputs": []
    },
    {
      "cell_type": "code",
      "metadata": {
        "id": "H2vuMXcU_TM0"
      },
      "source": [
        "with open('ascii_picture.txt', 'w') as file:\n",
        "    file.write(ascii_picture)"
      ],
      "execution_count": 10,
      "outputs": []
    },
    {
      "cell_type": "code",
      "metadata": {
        "colab": {
          "base_uri": "https://localhost:8080/"
        },
        "id": "-L8XtWn4_Ta4",
        "outputId": "737ff187-dae7-47f0-feb5-2809144c74a1"
      },
      "source": [
        "import pandas as pd\n",
        "test = pd.read_csv('ascii_picture.txt')\n",
        "print(test)"
      ],
      "execution_count": 15,
      "outputs": [
        {
          "output_type": "stream",
          "text": [
            "   ooo####ooooiiiiiiiiiiiiiiiiiiiiooooooooooooiiiiiiiiiiiiiiiooooooooooooooooooooooooooo##############oooooooooooooooooooooo##oooooooooiiiiiiiiooooooooooooooooooooooooooooooooooooooooooooooooooooooooooooooooooooiiiiiiiiiiiiiiiiiiiooooooooooooo\n",
            "0   ########oooiiiiiiiiiiiiiiiiiiioooooooooooooooi...                                                                                                                                                                                              \n",
            "1   oooooo##ooooiiiiiiiiiiiiiiiiiooooooooooooooooo...                                                                                                                                                                                              \n",
            "2   oooooooooooooooiiiiiiiiiiiiiiooooooooo######oo...                                                                                                                                                                                              \n",
            "3   oooooooooooioooooiiiiiiiiiiiiooooooooo########...                                                                                                                                                                                              \n",
            "4   oooooooooooooooooiiiiiiiiiiioooooooooo###%%###...                                                                                                                                                                                              \n",
            "..                                                ...                                                                                                                                                                                              \n",
            "94  iiiiiiiiiiiiiiiiiiiiooooooo###################...                                                                                                                                                                                              \n",
            "95  iiiiiiiiiiiiiiiiiiiiooooooooooooooo########ooo...                                                                                                                                                                                              \n",
            "96  iiiiiiiiiiiiiiiiiiioooooooooooooooooo######ooo...                                                                                                                                                                                              \n",
            "97  iiiiiiiiiiiiiiiiiiiooooooooooooooooo#######ooo...                                                                                                                                                                                              \n",
            "98  iiiiiiiiiiiiiiiiiiiiooooooooooooooo#######oooo...                                                                                                                                                                                              \n",
            "\n",
            "[99 rows x 1 columns]\n"
          ],
          "name": "stdout"
        }
      ]
    }
  ]
}