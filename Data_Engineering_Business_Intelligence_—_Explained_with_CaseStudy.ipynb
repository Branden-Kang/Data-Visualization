{
  "nbformat": 4,
  "nbformat_minor": 0,
  "metadata": {
    "colab": {
      "provenance": [],
      "authorship_tag": "ABX9TyMuzvOf3rkKp55nWDE7qOsu"
    },
    "kernelspec": {
      "name": "python3",
      "display_name": "Python 3"
    },
    "language_info": {
      "name": "python"
    }
  },
  "cells": [
    {
      "cell_type": "markdown",
      "source": [
        "[Reference](https://medium.com/@mtadata/data-engineering-part-vi-business-intelligence-c412f7736abd)"
      ],
      "metadata": {
        "id": "8t7CCAFlaxfp"
      }
    },
    {
      "cell_type": "code",
      "source": [
        "!pip install dash"
      ],
      "metadata": {
        "colab": {
          "base_uri": "https://localhost:8080/"
        },
        "id": "Fd3pSBR-a59D",
        "outputId": "c6dc4dd4-da9e-4935-dcf0-caea97f568ca"
      },
      "execution_count": 2,
      "outputs": [
        {
          "output_type": "stream",
          "name": "stdout",
          "text": [
            "Collecting dash\n",
            "  Downloading dash-2.14.0-py3-none-any.whl (10.4 MB)\n",
            "\u001b[2K     \u001b[90m━━━━━━━━━━━━━━━━━━━━━━━━━━━━━━━━━━━━━━━━\u001b[0m \u001b[32m10.4/10.4 MB\u001b[0m \u001b[31m35.1 MB/s\u001b[0m eta \u001b[36m0:00:00\u001b[0m\n",
            "\u001b[?25hRequirement already satisfied: Flask<2.3.0,>=1.0.4 in /usr/local/lib/python3.10/dist-packages (from dash) (2.2.5)\n",
            "Collecting Werkzeug<2.3.0 (from dash)\n",
            "  Downloading Werkzeug-2.2.3-py3-none-any.whl (233 kB)\n",
            "\u001b[2K     \u001b[90m━━━━━━━━━━━━━━━━━━━━━━━━━━━━━━━━━━━━━━━━\u001b[0m \u001b[32m233.6/233.6 kB\u001b[0m \u001b[31m20.1 MB/s\u001b[0m eta \u001b[36m0:00:00\u001b[0m\n",
            "\u001b[?25hRequirement already satisfied: plotly>=5.0.0 in /usr/local/lib/python3.10/dist-packages (from dash) (5.15.0)\n",
            "Collecting dash-html-components==2.0.0 (from dash)\n",
            "  Downloading dash_html_components-2.0.0-py3-none-any.whl (4.1 kB)\n",
            "Collecting dash-core-components==2.0.0 (from dash)\n",
            "  Downloading dash_core_components-2.0.0-py3-none-any.whl (3.8 kB)\n",
            "Collecting dash-table==5.0.0 (from dash)\n",
            "  Downloading dash_table-5.0.0-py3-none-any.whl (3.9 kB)\n",
            "Requirement already satisfied: typing-extensions>=4.1.1 in /usr/local/lib/python3.10/dist-packages (from dash) (4.5.0)\n",
            "Requirement already satisfied: requests in /usr/local/lib/python3.10/dist-packages (from dash) (2.31.0)\n",
            "Collecting retrying (from dash)\n",
            "  Downloading retrying-1.3.4-py3-none-any.whl (11 kB)\n",
            "Collecting ansi2html (from dash)\n",
            "  Downloading ansi2html-1.8.0-py3-none-any.whl (16 kB)\n",
            "Requirement already satisfied: nest-asyncio in /usr/local/lib/python3.10/dist-packages (from dash) (1.5.8)\n",
            "Requirement already satisfied: setuptools in /usr/local/lib/python3.10/dist-packages (from dash) (67.7.2)\n",
            "Requirement already satisfied: importlib-metadata in /usr/local/lib/python3.10/dist-packages (from dash) (6.8.0)\n",
            "Requirement already satisfied: Jinja2>=3.0 in /usr/local/lib/python3.10/dist-packages (from Flask<2.3.0,>=1.0.4->dash) (3.1.2)\n",
            "Requirement already satisfied: itsdangerous>=2.0 in /usr/local/lib/python3.10/dist-packages (from Flask<2.3.0,>=1.0.4->dash) (2.1.2)\n",
            "Requirement already satisfied: click>=8.0 in /usr/local/lib/python3.10/dist-packages (from Flask<2.3.0,>=1.0.4->dash) (8.1.7)\n",
            "Requirement already satisfied: tenacity>=6.2.0 in /usr/local/lib/python3.10/dist-packages (from plotly>=5.0.0->dash) (8.2.3)\n",
            "Requirement already satisfied: packaging in /usr/local/lib/python3.10/dist-packages (from plotly>=5.0.0->dash) (23.2)\n",
            "Requirement already satisfied: MarkupSafe>=2.1.1 in /usr/local/lib/python3.10/dist-packages (from Werkzeug<2.3.0->dash) (2.1.3)\n",
            "Requirement already satisfied: zipp>=0.5 in /usr/local/lib/python3.10/dist-packages (from importlib-metadata->dash) (3.17.0)\n",
            "Requirement already satisfied: charset-normalizer<4,>=2 in /usr/local/lib/python3.10/dist-packages (from requests->dash) (3.3.0)\n",
            "Requirement already satisfied: idna<4,>=2.5 in /usr/local/lib/python3.10/dist-packages (from requests->dash) (3.4)\n",
            "Requirement already satisfied: urllib3<3,>=1.21.1 in /usr/local/lib/python3.10/dist-packages (from requests->dash) (2.0.6)\n",
            "Requirement already satisfied: certifi>=2017.4.17 in /usr/local/lib/python3.10/dist-packages (from requests->dash) (2023.7.22)\n",
            "Requirement already satisfied: six>=1.7.0 in /usr/local/lib/python3.10/dist-packages (from retrying->dash) (1.16.0)\n",
            "Installing collected packages: dash-table, dash-html-components, dash-core-components, Werkzeug, retrying, ansi2html, dash\n",
            "  Attempting uninstall: Werkzeug\n",
            "    Found existing installation: Werkzeug 3.0.0\n",
            "    Uninstalling Werkzeug-3.0.0:\n",
            "      Successfully uninstalled Werkzeug-3.0.0\n",
            "Successfully installed Werkzeug-2.2.3 ansi2html-1.8.0 dash-2.14.0 dash-core-components-2.0.0 dash-html-components-2.0.0 dash-table-5.0.0 retrying-1.3.4\n"
          ]
        }
      ]
    },
    {
      "cell_type": "code",
      "execution_count": 3,
      "metadata": {
        "id": "dtFuUcrgaajL"
      },
      "outputs": [],
      "source": [
        "# Imports\n",
        "import pandas as pd\n",
        "import plotly.graph_objs as go\n",
        "import dash\n",
        "from dash import dcc\n",
        "from dash import html\n",
        "from dash.dependencies import Input, Output\n",
        "import requests\n",
        "import io\n",
        "import os"
      ]
    },
    {
      "cell_type": "code",
      "source": [
        "# Load data\n",
        "\n",
        "# Set the URL for the GitHub repository\n",
        "url = 'https://github.com/CSSEGISandData/COVID-19/tree/master/csse_covid_19_data/csse_covid_19_daily_reports/'\n",
        "\n",
        "# Get a list of all CSV files in the repository with full_path\n",
        "csv_full_path = []\n",
        "response = requests.get(url)\n",
        "if response.status_code == 200:\n",
        "    page_html = response.content.decode('utf-8')\n",
        "    for line in page_html.split('\\n'):\n",
        "        if '.csv' in line:\n",
        "            csv_full_path.append(line.split('href=\"')[1].split('\"')[0])\n",
        "\n",
        "# Get a list of all CSV files\n",
        "all_csv_files = []\n",
        "\n",
        "for file in range(len(csv_full_path)):\n",
        "    all_csv_files.append(csv_full_path[file].split('/')[-1])\n",
        "\n",
        "# Get a list of required CSV files\n",
        "csv_files = []\n",
        "\n",
        "start_index = all_csv_files.index('01-01-2021.csv')\n",
        "end_index   = all_csv_files.index('01-12-2023.csv')\n",
        "\n",
        "for file in range(start_index, end_index + 1):\n",
        "    csv_files.append(all_csv_files[file].split('/')[-1])\n",
        "\n",
        "# Loop through each CSV file, read it into a Pandas DataFrame, and append it to a list\n",
        "data_frames = []\n",
        "for file_name in csv_files:\n",
        "    # Construct the URL for the file\n",
        "    raw_url = 'https://raw.githubusercontent.com/CSSEGISandData/COVID-19/master/csse_covid_19_data/csse_covid_19_daily_reports/'\n",
        "    file_url = raw_url + file_name\n",
        "    # Read the file into a DataFrame\n",
        "    response = requests.get(file_url)\n",
        "    if response.status_code == 200:\n",
        "        file_content = io.StringIO(response.content.decode('utf-8'))\n",
        "        df = pd.read_csv(file_content, sep=',', on_bad_lines='skip')\n",
        "        data_frames.append(df)\n",
        "\n",
        "# Concatenate all DataFrames into a single DataFrame\n",
        "df = pd.concat(data_frames, ignore_index=True)"
      ],
      "metadata": {
        "id": "eM4Y_zSEa0ke"
      },
      "execution_count": 5,
      "outputs": []
    },
    {
      "cell_type": "code",
      "source": [
        "# Drop unnecessary columns\n",
        "df = df.drop(['FIPS', 'Admin2', 'Combined_Key'], axis=1)\n",
        "\n",
        "# Rename columns\n",
        "df = df.rename(columns={'Province_State': 'State', 'Country_Region': 'Country', 'Last_Update': 'Date', 'Lat': 'Latitude', 'Long_': 'Longitude'})\n",
        "\n",
        "# Convert date column to datetime format\n",
        "df['Date'] = pd.to_datetime(df['Date'])"
      ],
      "metadata": {
        "id": "DnaXSEIva10R"
      },
      "execution_count": 6,
      "outputs": []
    },
    {
      "cell_type": "code",
      "source": [
        "# Create app\n",
        "app = dash.Dash(__name__)\n",
        "\n",
        "df_combined = df\n",
        "\n",
        "# Define data\n",
        "df_by_country = df_combined.groupby(['Country'])['Confirmed'].sum().reset_index()\n",
        "df_by_country = df_by_country.sort_values(by=['Confirmed'], ascending=False)\n",
        "df_by_date = df_combined.groupby(['Date'])[['Confirmed', 'Deaths', 'Recovered']].sum().reset_index()\n",
        "df_by_date_melted = df_by_date.melt(id_vars=['Date'], var_name='Case Type', value_name='Cases')\n",
        "\n",
        "# Define layout\n",
        "app.layout = html.Div(children=[\n",
        "    html.H1(children='COVID-19 Dashboard'),\n",
        "    html.Div(children='''This dashboard shows COVID-19 data by country and over time.'''),\n",
        "\n",
        "    dcc.Graph(\n",
        "        id='confirmed-by-country',\n",
        "        figure={\n",
        "            'data': [\n",
        "                go.Bar(x=df_by_country['Country'], y=df_by_country['Confirmed'])\n",
        "            ],\n",
        "            'layout': go.Layout(\n",
        "                title='Confirmed Cases by Country',\n",
        "                xaxis={'title': 'Country'},\n",
        "                yaxis={'title': 'Confirmed Cases'}\n",
        "            )\n",
        "        }\n",
        "    ),\n",
        "\n",
        "    dcc.Graph(\n",
        "        id='cases-over-time',\n",
        "                figure={\n",
        "                    'data': [\n",
        "                        go.Scatter(x=df_by_date_melted[df_by_date_melted['Case Type'] == 'Confirmed']['Date'], y=df_by_date_melted[df_by_date_melted['Case Type'] == 'Confirmed']['Cases'], name='Confirmed'),\n",
        "                        go.Scatter(x=df_by_date_melted[df_by_date_melted['Case Type'] == 'Deaths']['Date'], y=df_by_date_melted[df_by_date_melted['Case Type'] == 'Deaths']['Cases'], name='Deaths'),\n",
        "                        go.Scatter(x=df_by_date_melted[df_by_date_melted['Case Type'] == 'Recovered']['Date'], y=df_by_date_melted[df_by_date_melted['Case Type'] == 'Recovered']['Cases'], name='Recovered')\n",
        "                        ],\n",
        "                    'layout': go.Layout(\n",
        "                        title='Cases over Time',\n",
        "                        xaxis={'title': 'Date'},\n",
        "                        yaxis={'title': 'Number of Cases'}\n",
        "                        )\n",
        "                    }\n",
        "        )\n",
        "    ])\n",
        "\n",
        "# Run app\n",
        "if __name__ == '__main__':\n",
        "    app.run_server(debug=False)"
      ],
      "metadata": {
        "id": "Vr32EbNJa3CC"
      },
      "execution_count": 7,
      "outputs": []
    }
  ]
}