{
  "nbformat": 4,
  "nbformat_minor": 0,
  "metadata": {
    "colab": {
      "provenance": [],
      "authorship_tag": "ABX9TyMerYCBRjus3mEIyIfBqBXg"
    },
    "kernelspec": {
      "name": "python3",
      "display_name": "Python 3"
    },
    "language_info": {
      "name": "python"
    }
  },
  "cells": [
    {
      "cell_type": "markdown",
      "source": [
        "[Reference](https://kuleafenu.medium.com/how-to-convert-your-jupyter-notebook-into-an-app-57adfb7a4d37)"
      ],
      "metadata": {
        "id": "kWPJrkSDvLZw"
      }
    },
    {
      "cell_type": "code",
      "execution_count": 1,
      "metadata": {
        "colab": {
          "base_uri": "https://localhost:8080/"
        },
        "id": "IwI4NOXpvHh7",
        "outputId": "a386d61e-f51e-4d11-a142-35ea05ac0130"
      },
      "outputs": [
        {
          "output_type": "stream",
          "name": "stdout",
          "text": [
            "Looking in indexes: https://pypi.org/simple, https://us-python.pkg.dev/colab-wheels/public/simple/\n",
            "Collecting datapane\n",
            "  Downloading datapane-0.15.5-py3-none-any.whl (7.2 MB)\n",
            "\u001b[2K     \u001b[90m━━━━━━━━━━━━━━━━━━━━━━━━━━━━━━━━━━━━━━━━\u001b[0m \u001b[32m7.2/7.2 MB\u001b[0m \u001b[31m45.6 MB/s\u001b[0m eta \u001b[36m0:00:00\u001b[0m\n",
            "\u001b[?25hCollecting ipynbname<2022.0.0,>=2021.3.2\n",
            "  Downloading ipynbname-2021.3.2-py3-none-any.whl (4.0 kB)\n",
            "Collecting dacite<2.0.0,>=1.0.2\n",
            "  Downloading dacite-1.7.0-py3-none-any.whl (12 kB)\n",
            "Requirement already satisfied: chardet<6.0.0,>=4.0.0 in /usr/local/lib/python3.8/dist-packages (from datapane) (4.0.0)\n",
            "Requirement already satisfied: pyarrow<11.0.0,>=6.0.0 in /usr/local/lib/python3.8/dist-packages (from datapane) (9.0.0)\n",
            "Requirement already satisfied: click<9.0.0,>=7.1.0 in /usr/local/lib/python3.8/dist-packages (from datapane) (7.1.2)\n",
            "Collecting click-spinner<0.2.0,>=0.1.8\n",
            "  Downloading click_spinner-0.1.10-py2.py3-none-any.whl (4.0 kB)\n",
            "Collecting munch<3.0.0,>=2.3.0\n",
            "  Downloading munch-2.5.0-py2.py3-none-any.whl (10 kB)\n",
            "Collecting glom<23.0.0,>=20.11.0\n",
            "  Downloading glom-22.1.0-py2.py3-none-any.whl (100 kB)\n",
            "\u001b[2K     \u001b[90m━━━━━━━━━━━━━━━━━━━━━━━━━━━━━━━━━━━━━━\u001b[0m \u001b[32m100.7/100.7 KB\u001b[0m \u001b[31m11.1 MB/s\u001b[0m eta \u001b[36m0:00:00\u001b[0m\n",
            "\u001b[?25hCollecting boltons<22.0.0,>=20.0.0\n",
            "  Downloading boltons-21.0.0-py2.py3-none-any.whl (193 kB)\n",
            "\u001b[2K     \u001b[90m━━━━━━━━━━━━━━━━━━━━━━━━━━━━━━━━━━━━━━\u001b[0m \u001b[32m193.7/193.7 KB\u001b[0m \u001b[31m12.2 MB/s\u001b[0m eta \u001b[36m0:00:00\u001b[0m\n",
            "\u001b[?25hRequirement already satisfied: requests<3.0.0,>=2.19.0 in /usr/local/lib/python3.8/dist-packages (from datapane) (2.25.1)\n",
            "Collecting requests-toolbelt<0.10.0,>=0.9.1\n",
            "  Downloading requests_toolbelt-0.9.1-py2.py3-none-any.whl (54 kB)\n",
            "\u001b[2K     \u001b[90m━━━━━━━━━━━━━━━━━━━━━━━━━━━━━━━━━━━━━━━━\u001b[0m \u001b[32m54.3/54.3 KB\u001b[0m \u001b[31m6.4 MB/s\u001b[0m eta \u001b[36m0:00:00\u001b[0m\n",
            "\u001b[?25hRequirement already satisfied: packaging<22.0.0,>=20.0.0 in /usr/local/lib/python3.8/dist-packages (from datapane) (21.3)\n",
            "Requirement already satisfied: jsonschema<5.0.0,>=3.2.0 in /usr/local/lib/python3.8/dist-packages (from datapane) (4.3.3)\n",
            "Collecting posthog<3.0.0,>=1.4.0\n",
            "  Downloading posthog-2.2.0-py2.py3-none-any.whl (33 kB)\n",
            "Collecting dulwich<0.21.0,>=0.20.0\n",
            "  Downloading dulwich-0.20.50-cp38-cp38-manylinux_2_17_x86_64.manylinux2014_x86_64.whl (502 kB)\n",
            "\u001b[2K     \u001b[90m━━━━━━━━━━━━━━━━━━━━━━━━━━━━━━━━━━━━━━\u001b[0m \u001b[32m502.2/502.2 KB\u001b[0m \u001b[31m34.1 MB/s\u001b[0m eta \u001b[36m0:00:00\u001b[0m\n",
            "\u001b[?25hCollecting datacommons<2.0.0,>=1.4.3\n",
            "  Downloading datacommons-1.4.3-py3-none-any.whl (46 kB)\n",
            "\u001b[2K     \u001b[90m━━━━━━━━━━━━━━━━━━━━━━━━━━━━━━━━━━━━━━━━\u001b[0m \u001b[32m46.5/46.5 KB\u001b[0m \u001b[31m5.1 MB/s\u001b[0m eta \u001b[36m0:00:00\u001b[0m\n",
            "\u001b[?25hRequirement already satisfied: lxml<5.0.0,>=4.0.0 in /usr/local/lib/python3.8/dist-packages (from datapane) (4.9.2)\n",
            "Requirement already satisfied: altair<5.0.0,>=4.0.0 in /usr/local/lib/python3.8/dist-packages (from datapane) (4.2.0)\n",
            "Collecting furl<3.0.0,>=2.0.0\n",
            "  Downloading furl-2.1.3-py2.py3-none-any.whl (20 kB)\n",
            "Collecting nbconvert<7.0.0,>=6.1.0\n",
            "  Downloading nbconvert-6.5.4-py3-none-any.whl (563 kB)\n",
            "\u001b[2K     \u001b[90m━━━━━━━━━━━━━━━━━━━━━━━━━━━━━━━━━━━━━━\u001b[0m \u001b[32m563.8/563.8 KB\u001b[0m \u001b[31m18.5 MB/s\u001b[0m eta \u001b[36m0:00:00\u001b[0m\n",
            "\u001b[?25hRequirement already satisfied: tabulate<0.9.0,>=0.8.0 in /usr/local/lib/python3.8/dist-packages (from datapane) (0.8.10)\n",
            "Requirement already satisfied: importlib_resources<6.0.0,>=3.0.0 in /usr/local/lib/python3.8/dist-packages (from datapane) (5.10.2)\n",
            "Requirement already satisfied: toolz<0.13.0,>=0.11.0 in /usr/local/lib/python3.8/dist-packages (from datapane) (0.12.0)\n",
            "Requirement already satisfied: pydantic<2.0.0,>=1.6.0 in /usr/local/lib/python3.8/dist-packages (from datapane) (1.10.4)\n",
            "Collecting colorlog<7.0.0,>=4.1.0\n",
            "  Downloading colorlog-6.7.0-py2.py3-none-any.whl (11 kB)\n",
            "Collecting datacommons-pandas<0.0.4,>=0.0.3\n",
            "  Downloading datacommons_pandas-0.0.3-py3-none-any.whl (45 kB)\n",
            "\u001b[2K     \u001b[90m━━━━━━━━━━━━━━━━━━━━━━━━━━━━━━━━━━━━━━━━\u001b[0m \u001b[32m45.8/45.8 KB\u001b[0m \u001b[31m4.1 MB/s\u001b[0m eta \u001b[36m0:00:00\u001b[0m\n",
            "\u001b[?25hCollecting dominate<3.0.0,>=2.4.0\n",
            "  Downloading dominate-2.7.0-py2.py3-none-any.whl (29 kB)\n",
            "Requirement already satisfied: pandas<2.0.0,>=1.1.0 in /usr/local/lib/python3.8/dist-packages (from datapane) (1.3.5)\n",
            "Requirement already satisfied: vega-datasets<1.0.0,>=0.9.0 in /usr/local/lib/python3.8/dist-packages (from datapane) (0.9.0)\n",
            "Collecting Jinja2<4.0.0,>=3.0.0\n",
            "  Downloading Jinja2-3.1.2-py3-none-any.whl (133 kB)\n",
            "\u001b[2K     \u001b[90m━━━━━━━━━━━━━━━━━━━━━━━━━━━━━━━━━━━━━━\u001b[0m \u001b[32m133.1/133.1 KB\u001b[0m \u001b[31m13.1 MB/s\u001b[0m eta \u001b[36m0:00:00\u001b[0m\n",
            "\u001b[?25hCollecting stringcase<2.0.0,>=1.2.0\n",
            "  Downloading stringcase-1.2.0.tar.gz (3.0 kB)\n",
            "  Preparing metadata (setup.py) ... \u001b[?25l\u001b[?25hdone\n",
            "Collecting validators<0.21.0,>=0.18.0\n",
            "  Downloading validators-0.20.0.tar.gz (30 kB)\n",
            "  Preparing metadata (setup.py) ... \u001b[?25l\u001b[?25hdone\n",
            "Requirement already satisfied: PyYAML<7.0.0,>=5.4.0 in /usr/local/lib/python3.8/dist-packages (from datapane) (6.0)\n",
            "Collecting micawber>=0.5.0\n",
            "  Downloading micawber-0.5.4.tar.gz (18 kB)\n",
            "  Preparing metadata (setup.py) ... \u001b[?25l\u001b[?25hdone\n",
            "Requirement already satisfied: numpy in /usr/local/lib/python3.8/dist-packages (from altair<5.0.0,>=4.0.0->datapane) (1.21.6)\n",
            "Requirement already satisfied: entrypoints in /usr/local/lib/python3.8/dist-packages (from altair<5.0.0,>=4.0.0->datapane) (0.4)\n",
            "Requirement already satisfied: six in /usr/local/lib/python3.8/dist-packages (from datacommons<2.0.0,>=1.4.3->datapane) (1.15.0)\n",
            "Collecting urllib3>=1.25\n",
            "  Downloading urllib3-1.26.14-py2.py3-none-any.whl (140 kB)\n",
            "\u001b[2K     \u001b[90m━━━━━━━━━━━━━━━━━━━━━━━━━━━━━━━━━━━━━━\u001b[0m \u001b[32m140.6/140.6 KB\u001b[0m \u001b[31m11.0 MB/s\u001b[0m eta \u001b[36m0:00:00\u001b[0m\n",
            "\u001b[?25hCollecting orderedmultidict>=1.0.1\n",
            "  Downloading orderedmultidict-1.0.1-py2.py3-none-any.whl (11 kB)\n",
            "Requirement already satisfied: attrs in /usr/local/lib/python3.8/dist-packages (from glom<23.0.0,>=20.11.0->datapane) (22.2.0)\n",
            "Collecting face>=20.1.0\n",
            "  Downloading face-22.0.0-py3-none-any.whl (54 kB)\n",
            "\u001b[2K     \u001b[90m━━━━━━━━━━━━━━━━━━━━━━━━━━━━━━━━━━━━━━━━\u001b[0m \u001b[32m54.5/54.5 KB\u001b[0m \u001b[31m6.1 MB/s\u001b[0m eta \u001b[36m0:00:00\u001b[0m\n",
            "\u001b[?25hRequirement already satisfied: zipp>=3.1.0 in /usr/local/lib/python3.8/dist-packages (from importlib_resources<6.0.0,>=3.0.0->datapane) (3.11.0)\n",
            "Requirement already satisfied: ipykernel in /usr/local/lib/python3.8/dist-packages (from ipynbname<2022.0.0,>=2021.3.2->datapane) (5.3.4)\n",
            "Requirement already satisfied: MarkupSafe>=2.0 in /usr/local/lib/python3.8/dist-packages (from Jinja2<4.0.0,>=3.0.0->datapane) (2.0.1)\n",
            "Requirement already satisfied: pyrsistent!=0.17.0,!=0.17.1,!=0.17.2,>=0.14.0 in /usr/local/lib/python3.8/dist-packages (from jsonschema<5.0.0,>=3.2.0->datapane) (0.19.3)\n",
            "Requirement already satisfied: pygments>=2.4.1 in /usr/local/lib/python3.8/dist-packages (from nbconvert<7.0.0,>=6.1.0->datapane) (2.6.1)\n",
            "Requirement already satisfied: traitlets>=5.0 in /usr/local/lib/python3.8/dist-packages (from nbconvert<7.0.0,>=6.1.0->datapane) (5.7.1)\n",
            "Collecting tinycss2\n",
            "  Downloading tinycss2-1.2.1-py3-none-any.whl (21 kB)\n",
            "Requirement already satisfied: mistune<2,>=0.8.1 in /usr/local/lib/python3.8/dist-packages (from nbconvert<7.0.0,>=6.1.0->datapane) (0.8.4)\n",
            "Requirement already satisfied: defusedxml in /usr/local/lib/python3.8/dist-packages (from nbconvert<7.0.0,>=6.1.0->datapane) (0.7.1)\n",
            "Collecting nbclient>=0.5.0\n",
            "  Downloading nbclient-0.7.2-py3-none-any.whl (71 kB)\n",
            "\u001b[2K     \u001b[90m━━━━━━━━━━━━━━━━━━━━━━━━━━━━━━━━━━━━━━━━\u001b[0m \u001b[32m72.0/72.0 KB\u001b[0m \u001b[31m5.6 MB/s\u001b[0m eta \u001b[36m0:00:00\u001b[0m\n",
            "\u001b[?25hRequirement already satisfied: nbformat>=5.1 in /usr/local/lib/python3.8/dist-packages (from nbconvert<7.0.0,>=6.1.0->datapane) (5.7.1)\n",
            "Requirement already satisfied: bleach in /usr/local/lib/python3.8/dist-packages (from nbconvert<7.0.0,>=6.1.0->datapane) (5.0.1)\n",
            "Requirement already satisfied: jupyter-core>=4.7 in /usr/local/lib/python3.8/dist-packages (from nbconvert<7.0.0,>=6.1.0->datapane) (5.1.2)\n",
            "Collecting jupyterlab-pygments\n",
            "  Downloading jupyterlab_pygments-0.2.2-py2.py3-none-any.whl (21 kB)\n",
            "Requirement already satisfied: pandocfilters>=1.4.1 in /usr/local/lib/python3.8/dist-packages (from nbconvert<7.0.0,>=6.1.0->datapane) (1.5.0)\n",
            "Requirement already satisfied: beautifulsoup4 in /usr/local/lib/python3.8/dist-packages (from nbconvert<7.0.0,>=6.1.0->datapane) (4.6.3)\n",
            "Requirement already satisfied: pyparsing!=3.0.5,>=2.0.2 in /usr/local/lib/python3.8/dist-packages (from packaging<22.0.0,>=20.0.0->datapane) (3.0.9)\n",
            "Requirement already satisfied: python-dateutil>=2.7.3 in /usr/local/lib/python3.8/dist-packages (from pandas<2.0.0,>=1.1.0->datapane) (2.8.2)\n",
            "Requirement already satisfied: pytz>=2017.3 in /usr/local/lib/python3.8/dist-packages (from pandas<2.0.0,>=1.1.0->datapane) (2022.7)\n",
            "Collecting backoff<2.0.0,>=1.10.0\n",
            "  Downloading backoff-1.11.1-py2.py3-none-any.whl (13 kB)\n",
            "Collecting monotonic>=1.5\n",
            "  Downloading monotonic-1.6-py2.py3-none-any.whl (8.2 kB)\n",
            "Requirement already satisfied: typing-extensions>=4.2.0 in /usr/local/lib/python3.8/dist-packages (from pydantic<2.0.0,>=1.6.0->datapane) (4.4.0)\n",
            "Requirement already satisfied: certifi>=2017.4.17 in /usr/local/lib/python3.8/dist-packages (from requests<3.0.0,>=2.19.0->datapane) (2022.12.7)\n",
            "Requirement already satisfied: idna<3,>=2.5 in /usr/local/lib/python3.8/dist-packages (from requests<3.0.0,>=2.19.0->datapane) (2.10)\n",
            "Requirement already satisfied: decorator>=3.4.0 in /usr/local/lib/python3.8/dist-packages (from validators<0.21.0,>=0.18.0->datapane) (4.4.2)\n",
            "Requirement already satisfied: platformdirs>=2.5 in /usr/local/lib/python3.8/dist-packages (from jupyter-core>=4.7->nbconvert<7.0.0,>=6.1.0->datapane) (2.6.2)\n",
            "Requirement already satisfied: jupyter-client>=6.1.12 in /usr/local/lib/python3.8/dist-packages (from nbclient>=0.5.0->nbconvert<7.0.0,>=6.1.0->datapane) (6.1.12)\n",
            "Requirement already satisfied: fastjsonschema in /usr/local/lib/python3.8/dist-packages (from nbformat>=5.1->nbconvert<7.0.0,>=6.1.0->datapane) (2.16.2)\n",
            "Requirement already satisfied: webencodings in /usr/local/lib/python3.8/dist-packages (from bleach->nbconvert<7.0.0,>=6.1.0->datapane) (0.5.1)\n",
            "Requirement already satisfied: tornado>=4.2 in /usr/local/lib/python3.8/dist-packages (from ipykernel->ipynbname<2022.0.0,>=2021.3.2->datapane) (6.0.4)\n",
            "Requirement already satisfied: ipython>=5.0.0 in /usr/local/lib/python3.8/dist-packages (from ipykernel->ipynbname<2022.0.0,>=2021.3.2->datapane) (7.9.0)\n",
            "Requirement already satisfied: prompt-toolkit<2.1.0,>=2.0.0 in /usr/local/lib/python3.8/dist-packages (from ipython>=5.0.0->ipykernel->ipynbname<2022.0.0,>=2021.3.2->datapane) (2.0.10)\n",
            "Requirement already satisfied: setuptools>=18.5 in /usr/local/lib/python3.8/dist-packages (from ipython>=5.0.0->ipykernel->ipynbname<2022.0.0,>=2021.3.2->datapane) (57.4.0)\n",
            "Requirement already satisfied: pexpect in /usr/local/lib/python3.8/dist-packages (from ipython>=5.0.0->ipykernel->ipynbname<2022.0.0,>=2021.3.2->datapane) (4.8.0)\n",
            "Collecting jedi>=0.10\n",
            "  Downloading jedi-0.18.2-py2.py3-none-any.whl (1.6 MB)\n",
            "\u001b[2K     \u001b[90m━━━━━━━━━━━━━━━━━━━━━━━━━━━━━━━━━━━━━━━━\u001b[0m \u001b[32m1.6/1.6 MB\u001b[0m \u001b[31m37.4 MB/s\u001b[0m eta \u001b[36m0:00:00\u001b[0m\n",
            "\u001b[?25hRequirement already satisfied: pickleshare in /usr/local/lib/python3.8/dist-packages (from ipython>=5.0.0->ipykernel->ipynbname<2022.0.0,>=2021.3.2->datapane) (0.7.5)\n",
            "Requirement already satisfied: backcall in /usr/local/lib/python3.8/dist-packages (from ipython>=5.0.0->ipykernel->ipynbname<2022.0.0,>=2021.3.2->datapane) (0.2.0)\n",
            "Requirement already satisfied: pyzmq>=13 in /usr/local/lib/python3.8/dist-packages (from jupyter-client>=6.1.12->nbclient>=0.5.0->nbconvert<7.0.0,>=6.1.0->datapane) (23.2.1)\n",
            "Requirement already satisfied: parso<0.9.0,>=0.8.0 in /usr/local/lib/python3.8/dist-packages (from jedi>=0.10->ipython>=5.0.0->ipykernel->ipynbname<2022.0.0,>=2021.3.2->datapane) (0.8.3)\n",
            "Requirement already satisfied: wcwidth in /usr/local/lib/python3.8/dist-packages (from prompt-toolkit<2.1.0,>=2.0.0->ipython>=5.0.0->ipykernel->ipynbname<2022.0.0,>=2021.3.2->datapane) (0.2.5)\n",
            "Requirement already satisfied: ptyprocess>=0.5 in /usr/local/lib/python3.8/dist-packages (from pexpect->ipython>=5.0.0->ipykernel->ipynbname<2022.0.0,>=2021.3.2->datapane) (0.7.0)\n",
            "Building wheels for collected packages: micawber, stringcase, validators\n",
            "  Building wheel for micawber (setup.py) ... \u001b[?25l\u001b[?25hdone\n",
            "  Created wheel for micawber: filename=micawber-0.5.4-py3-none-any.whl size=22374 sha256=213b8e01de424d900d171e08c69d47d6d9f4d065a455052f184da7ea9035fb3e\n",
            "  Stored in directory: /root/.cache/pip/wheels/ef/1b/33/38548c4c10fa443857ef81a093bded5664acf41424c891a9b6\n",
            "  Building wheel for stringcase (setup.py) ... \u001b[?25l\u001b[?25hdone\n",
            "  Created wheel for stringcase: filename=stringcase-1.2.0-py3-none-any.whl size=3587 sha256=5ef672af1094ed07d3cde9f27c996b0bb4b752d65f2acdc09a453b9fb2e80d05\n",
            "  Stored in directory: /root/.cache/pip/wheels/04/0e/31/bf265c64f2a4d24516e9923f1f6293c3bcbcde75e0d80ab47a\n",
            "  Building wheel for validators (setup.py) ... \u001b[?25l\u001b[?25hdone\n",
            "  Created wheel for validators: filename=validators-0.20.0-py3-none-any.whl size=19581 sha256=83c81c3c8220b66b2e13dee690117079a2a4f46a698d69f2477776a15cb9a59a\n",
            "  Stored in directory: /root/.cache/pip/wheels/19/09/72/3eb74d236bb48bd0f3c6c3c83e4e0c5bbfcbcad7c6c3539db8\n",
            "Successfully built micawber stringcase validators\n",
            "Installing collected packages: stringcase, monotonic, micawber, click-spinner, boltons, validators, urllib3, tinycss2, orderedmultidict, munch, jupyterlab-pygments, Jinja2, jedi, face, dominate, datacommons, dacite, colorlog, backoff, glom, furl, dulwich, requests-toolbelt, posthog, datacommons-pandas, nbclient, ipynbname, nbconvert, datapane\n",
            "  Attempting uninstall: urllib3\n",
            "    Found existing installation: urllib3 1.24.3\n",
            "    Uninstalling urllib3-1.24.3:\n",
            "      Successfully uninstalled urllib3-1.24.3\n",
            "  Attempting uninstall: Jinja2\n",
            "    Found existing installation: Jinja2 2.11.3\n",
            "    Uninstalling Jinja2-2.11.3:\n",
            "      Successfully uninstalled Jinja2-2.11.3\n",
            "  Attempting uninstall: nbconvert\n",
            "    Found existing installation: nbconvert 5.6.1\n",
            "    Uninstalling nbconvert-5.6.1:\n",
            "      Successfully uninstalled nbconvert-5.6.1\n",
            "\u001b[31mERROR: pip's dependency resolver does not currently take into account all the packages that are installed. This behaviour is the source of the following dependency conflicts.\n",
            "notebook 5.7.16 requires jinja2<=3.0.0, but you have jinja2 3.1.2 which is incompatible.\n",
            "notebook 5.7.16 requires nbconvert<6.0, but you have nbconvert 6.5.4 which is incompatible.\n",
            "flask 1.1.4 requires Jinja2<3.0,>=2.10.1, but you have jinja2 3.1.2 which is incompatible.\u001b[0m\u001b[31m\n",
            "\u001b[0mSuccessfully installed Jinja2-3.1.2 backoff-1.11.1 boltons-21.0.0 click-spinner-0.1.10 colorlog-6.7.0 dacite-1.7.0 datacommons-1.4.3 datacommons-pandas-0.0.3 datapane-0.15.5 dominate-2.7.0 dulwich-0.20.50 face-22.0.0 furl-2.1.3 glom-22.1.0 ipynbname-2021.3.2 jedi-0.18.2 jupyterlab-pygments-0.2.2 micawber-0.5.4 monotonic-1.6 munch-2.5.0 nbclient-0.7.2 nbconvert-6.5.4 orderedmultidict-1.0.1 posthog-2.2.0 requests-toolbelt-0.9.1 stringcase-1.2.0 tinycss2-1.2.1 urllib3-1.26.14 validators-0.20.0\n"
          ]
        }
      ],
      "source": [
        "!pip3 install -U datapane"
      ]
    },
    {
      "cell_type": "code",
      "source": [
        "#import datapane and other needed libraries.\n",
        "import datapane as dp\n",
        "import matplotlib.pyplot as plt\n",
        "import seaborn as sns"
      ],
      "metadata": {
        "id": "oftPFXcNvQk7"
      },
      "execution_count": 2,
      "outputs": []
    },
    {
      "cell_type": "code",
      "source": [
        "#import titanic dataset.\n",
        "df = sns.load_dataset(\"titanic\")"
      ],
      "metadata": {
        "id": "u3_GrZ8KvWL4"
      },
      "execution_count": 3,
      "outputs": []
    },
    {
      "cell_type": "code",
      "source": [
        "# Our first plot\n",
        "fig1,ax = plt.subplots(ncols=2,figsize=(12,6))\n",
        "sns.boxplot(x='pclass',y='age',data=df,ax=ax[0],hue='survived')\n",
        "sns.boxplot(x='pclass',y='fare',data=df,ax=ax[1],hue='survived')\n",
        "plt.tight_layout()\n",
        "\n",
        "# Our second plot\n",
        "fig2,ax = plt.subplots(figsize=(12,6))\n",
        "sns.kdeplot(data=df, x='fare', shade=True, hue='survived')\n",
        "ax.set_xlabel('Fare',fontdict={'fontsize':15})\n",
        "ax.set_ylabel('Density',fontdict={'fontsize':20});"
      ],
      "metadata": {
        "colab": {
          "base_uri": "https://localhost:8080/",
          "height": 817
        },
        "id": "t7jN9O-AvW63",
        "outputId": "2220b074-b06f-4592-f1ad-721618481145"
      },
      "execution_count": 4,
      "outputs": [
        {
          "output_type": "display_data",
          "data": {
            "text/plain": [
              "<Figure size 864x432 with 2 Axes>"
            ],
            "image/png": "[encoded data removed]"
          },
          "metadata": {
            "needs_background": "light"
          }
        },
        {
          "output_type": "display_data",
          "data": {
            "text/plain": [
              "<Figure size 864x432 with 1 Axes>"
            ],
            "image/png": "[encoded data removed]"
          },
          "metadata": {
            "needs_background": "light"
          }
        }
      ]
    },
    {
      "cell_type": "code",
      "source": [
        "# Our markdown text.\n",
        "md = \"\"\"\n",
        "**Some observations**\n",
        "\n",
        "- The maximum and mininum age for `Pclass 1 > Pclass 2 > Pclass 3.` This is understandable because it takes years to accumulate wealth.\n",
        "\n",
        "- The average age of those that survived in all the classes is lower than those that did not survive.\n",
        "\n",
        "- Passengers that survived in the Pclass 1 paid the highest fare. Which concluded the higher your fare in the pclass 1 the higher your rate of survival.\n",
        "\n",
        "\"\"\""
      ],
      "metadata": {
        "id": "Lti8kPF2vZoW"
      },
      "execution_count": 5,
      "outputs": []
    },
    {
      "cell_type": "code",
      "source": [
        "# Let's wrap our figure, and dataframes in blocks and create our app with dp.App.\n",
        "app = dp.App(\n",
        "    dp.Plot(fig1, caption=\"Pclass VS Age Vs Fare\"),\n",
        "    dp.Plot(fig2, caption=\"Kernel Density Estimation of Fare\"),\n",
        "    dp.Text(md),\n",
        "    dp.DataTable(df, caption=\"Titanic Dataset\")\n",
        ")\n",
        "\n",
        "\n",
        "# Save your shearable html file to local directory. With option `open=true` your app will be opened in your browser.\n",
        "app.save(\"titanic-analysis-report.html\", open=\"true\")"
      ],
      "metadata": {
        "colab": {
          "base_uri": "https://localhost:8080/"
        },
        "id": "A6XwcPiKvc3t",
        "outputId": "4b967539-dea6-4d19-fa61-1472b6961356"
      },
      "execution_count": 6,
      "outputs": [
        {
          "output_type": "stream",
          "name": "stderr",
          "text": [
            "WARNING:datapane:Bokeh version 2.3.3 is not supported, these plots may not display correctly, please install version ~=2.4.2\n"
          ]
        },
        {
          "output_type": "stream",
          "name": "stdout",
          "text": [
            "App saved to ./titanic-analysis-report.html\n"
          ]
        }
      ]
    },
    {
      "cell_type": "code",
      "source": [
        "# !datapane login"
      ],
      "metadata": {
        "colab": {
          "base_uri": "https://localhost:8080/"
        },
        "id": "PuBf-kzhvekH",
        "outputId": "ed989a6c-1a7f-4706-a6a0-ca193127edac"
      },
      "execution_count": 7,
      "outputs": [
        {
          "output_type": "stream",
          "name": "stdout",
          "text": [
            "\n",
            "Opening login page.. please login via this page and return to the terminal\n",
            "\n",
            "If the page didn't open, use the link below\n",
            "https://cloud.datapane.com/accounts/api-login-token-accept?login_token=612f00e0-6b97-422f-a5e5-e8c357cfa6c9\n",
            "-\b/\b|\b\\\b-\b/\b|\b\\\b-\b/\b|\b\\\b-\b/\b|\b\\\b-\b/\b|\b\\\b-\b/\b|\b\\\b-\b/\b|\b\\\b-\b/\b|\b\\\b-\b/\b|\b\\\b-\b/\b|\b\\\b-\b/\b|\b\\\b-\b/\b|\b\\\b-\b/\b|\b\\\b-\b/\b|\b\\\b-\b/\b|\b\\\b-\b/\b|\b\\\b-\b/\b|\b\\\b-\b/\b|\b\\\b-\b/\b|\b\\\b-\b/\b|\b\\\b-\b/\b|\b\\\b-\b/\b|\b\\\b-\b/\b|\b\\\b-\b/\b|\b\\\b-\b/\b|\b\\\b-\b/\b|\b\\\b-\b/\b|\b\\\b-\b/\b|\b\\\b-\b/\b|\b\\\b-\b/\b|\b\\\b-\b/\b|\b\\\b-\b/\b|\b\\\b-\b/\b|\b\\\b-\b/\b|\b\\\b-\b/\b|\b\\\b-\b/\b|\b\\\b-\b/\b|\b\\\b-\b/\b|\b\\\b-\b/\b|\b\\\b-\b/\b|\b\\\b-\b/\b|\b\\\b-\b/\b|\b\\\b-\b/\b|\b\\\b-\b/\b|\b\\\b-\b/\b|\b\\\b-\b/\b|\b\\\b-\b/\b|\b\\\b-\b/\b|\b\\\b-\b/\b|\b\\\b-\b/\b|\b\\\b-\b/\b|\b\\\b-\b/\b|\b\\\b-\b/\b|\b\\\b-\b/\b|\b\\\b-\b/\b|\b\\\b-\b/\b|\b\\\b-\b/\b|\b\\\b-\b/\b|\b\\\b-\b/\b|\b\\\b-\b/\b|\b\\\b-\b/\b|\b\\\b-\b/\b|\b\\\b-\b/\b|\b\\\b-\b/\b|\b\\\b-\b/\b|\b\\\b-\b/\b|\b\\\b-\b/\b|\b\\\b-\b/\b|\b\\\b-\b/\b|\b\\\b-\b/\b|\b\\\b-\b/\b|\b\\\b-\b/\b|\b\\\b-\b/\b|\b\\\b-\b/\b|\b\\\b-\b/\b|\b\\\b-\b/\b|\b\\\b-\b/\b|\b\\\b-\b/\b|\b\\\b-\b/\b|\b\\\b-\b/\b|\b\\\b-\b/\b|\b\\\b-\b/\b|\b\\\b-\b/\b|\b\\\b-\b/\b|\b\\\b-\b/\b|\b\\\b-\b/\b|\b\\\b-\b/\b|\b\\\b-\b/\b|\b\\\b-\b/\b|\b\\\b-\b/\b|\b\\\b-\b/\b|\b\\\b-\b/\b|\b\\\b-\b/\b|\b\\\b-\b/\b|\b\\\b-\b/\b|\b\\\b-\b/\b|\b\\\b-\b/\b|\b\\\b-\b/\b|\b\\\b-\b/\b|\b\\\b-\b/\b|\b\\\b-\b/\b|\b\\\b-\b/\b|\b\\\b-\b/\b|\b"
          ]
        }
      ]
    },
    {
      "cell_type": "code",
      "source": [
        "# # Lets wrap our figure, and dataframes in blocks and create our app with dp.App.\n",
        "# app = dp.App(\n",
        "#     dp.Plot(fig1, caption=\"Pclass VS Age Vs Fare\"),\n",
        "#     dp.Plot(fig2, caption=\"Kernel Density Estimation of Fare\"),\n",
        "#     dp.Text(md),\n",
        "#     dp.DataTable(df, caption=\"Titanic Dataset\")\n",
        "# )\n",
        "\n",
        "# # Generate a shareable link.\n",
        "# app.upload(\"titanic-analysis-report.html\", open=\"true\")"
      ],
      "metadata": {
        "id": "3HMN5d6avhof"
      },
      "execution_count": 10,
      "outputs": []
    }
  ]
}