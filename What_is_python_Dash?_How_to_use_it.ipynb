{
  "nbformat": 4,
  "nbformat_minor": 0,
  "metadata": {
    "colab": {
      "provenance": [],
      "authorship_tag": "ABX9TyNH2jC3k9LRzKbzCK2ja8OR"
    },
    "kernelspec": {
      "name": "python3",
      "display_name": "Python 3"
    },
    "language_info": {
      "name": "python"
    }
  },
  "cells": [
    {
      "cell_type": "markdown",
      "source": [
        "[Reference](https://medium.com/@said1854/what-is-python-dash-how-to-use-it-45a031225b3e)"
      ],
      "metadata": {
        "id": "N3wWXeenWXDx"
      }
    },
    {
      "cell_type": "code",
      "execution_count": 1,
      "metadata": {
        "id": "YUMAsqSeVq3h"
      },
      "outputs": [],
      "source": [
        "from dash import Dash, html\n",
        "\n",
        "app = Dash(__name__)\n",
        "\n",
        "app.layout = html.Div([\n",
        "    html.Div(children='Hello World')\n",
        "])\n",
        "\n",
        "if __name__ == '__main__':\n",
        "    app.run(debug=True, port=1021)"
      ]
    },
    {
      "cell_type": "code",
      "source": [
        "from dash import Dash, html, dcc, callback, Output, Input\n",
        "import plotly.express as px\n",
        "import pandas as pd\n",
        "\n",
        "df = pd.read_csv('https://raw.githubusercontent.com/plotly/datasets/master/gapminder_unfiltered.csv')\n",
        "\n",
        "app.layout = html.Div([\n",
        "        html.H1(children='My First Dash App', style={'textAlign': 'center'}),\n",
        "        dcc.Dropdown(df.country.unique(), 'Canada', id='dropdown-selection'),\n",
        "        html.H1(children='Population by year', style={'textAlign': 'center'}),\n",
        "        dcc.Graph(id='graph-content')\n",
        "    ])\n",
        "\n",
        "@callback(\n",
        "    Output('graph-content', 'figure'),\n",
        "    Input('dropdown-selection', 'value')\n",
        ")\n",
        "def update_graph(value):\n",
        "    dff = df[df.country==value]\n",
        "    return px.line(dff, x='year', y='pop')\n",
        "\n",
        "if __name__ == '__main__':\n",
        "    app.run(debug=True, port=1021)"
      ],
      "metadata": {
        "id": "wib9ELoMWcl4"
      },
      "execution_count": 2,
      "outputs": []
    }
  ]
}