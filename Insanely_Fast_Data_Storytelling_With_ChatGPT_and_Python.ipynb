{
  "nbformat": 4,
  "nbformat_minor": 0,
  "metadata": {
    "colab": {
      "provenance": [],
      "authorship_tag": "ABX9TyM0IjZVaN/QO48z1kQVKcoj"
    },
    "kernelspec": {
      "name": "python3",
      "display_name": "Python 3"
    },
    "language_info": {
      "name": "python"
    }
  },
  "cells": [
    {
      "cell_type": "markdown",
      "source": [
        "[Reference](https://artificialcorner.com/insanely-fast-data-storytelling-with-chatgpt-and-python-1bddae3976f3)"
      ],
      "metadata": {
        "id": "C4wY2fkZFFUn"
      }
    },
    {
      "cell_type": "code",
      "execution_count": 1,
      "metadata": {
        "id": "WFzhWzOTE25R"
      },
      "outputs": [],
      "source": [
        "import pandas as pd\n",
        "\n",
        "# Load the CSV file\n",
        "emissions_data = pd.read_csv(\"global_emissions.csv\")\n",
        "\n",
        "# Replace \"USA\" with \"United States of America\"\n",
        "emissions_data[\"Country\"] = emissions_data[\"Country\"].replace(\"USA\", \"United States of America\")\n",
        "\n",
        "# Remove records with \"Global\" and \"International Transport\" from the Country field\n",
        "emissions_data = emissions_data[~emissions_data[\"Country\"].isin([\"Global\", \"International Transport\"])]\n",
        "\n",
        "import plotly.graph_objects as go\n",
        "\n",
        "filtered_data = emissions_data[(emissions_data[\"Year\"] >= 1970) & (emissions_data[\"Year\"] <= 2020)]\n",
        "\n",
        "#get the top 10 countries by total emission\n",
        "top_10_countries = filtered_data.groupby(\"Country\")[\"Total\"].mean().nlargest(10).index\n",
        "plot_data = filtered_data[filtered_data[\"Country\"].isin(top_10_countries)]\n",
        "pivot_data = plot_data.pivot_table(values=\"Total\", index=\"Year\", columns=\"Country\", aggfunc=\"sum\", fill_value=0)\n",
        "\n",
        "# create the graphic\n",
        "fig_area = go.Figure()\n",
        "\n",
        "# insert the data\n",
        "for country in pivot_data.columns:\n",
        "    fig_area.add_trace(go.Scatter(x=pivot_data.index, y=pivot_data[country], name=country, mode=\"none\", stackgroup=\"one\"))\n",
        "fig_area.update_layout(title=\"Top 10 Countries by Total Emissions (1970-2020)\", xaxis_title=\"Years\", yaxis_title=\"Total Emissions\")\n",
        "\n",
        "#find average emissions by country\n",
        "average_emissions = filtered_data.groupby(\"Country\").agg({\"Per Capita\": \"mean\"})\n",
        "\n",
        "#find the top 10 average emissions by country\n",
        "top_10_per_capita = average_emissions.nlargest(10, \"Per Capita\").index\n",
        "\n",
        "#display on stacked area and line chart\n",
        "plot_data_per_capita = filtered_data[filtered_data[\"Country\"].isin(top_10_per_capita)]\n",
        "pivot_data_per_capita = plot_data_per_capita.pivot_table(values=\"Per Capita\", index=\"Year\", columns=\"Country\", aggfunc=\"mean\", fill_value=0)\n",
        "fig_line = go.Figure()\n",
        "\n",
        "for country in pivot_data_per_capita.columns:\n",
        "    fig_line.add_trace(go.Scatter(x=pivot_data_per_capita.index, y=pivot_data_per_capita[country], name=country, mode=\"lines\"))\n",
        "\n",
        "fig_line.update_layout(title=\"Top 10 Countries by Per Capita Emissions (1970-2020)\", xaxis_title=\"Years\", yaxis_title=\"Per Capita Emissions\")\n",
        "\n",
        "import folium\n",
        "import json\n",
        "\n",
        "with open(\"world-countries.json\", \"r\") as f:\n",
        "    world_geo = json.load(f)\n",
        "\n",
        "average_emissions_map_data = filtered_data.groupby(\"Country\")[\"Per Capita\"].mean().reset_index()\n",
        "emissions_map = folium.Map(location=[0, 0], zoom_start=2)\n",
        "\n",
        "folium.Choropleth(\n",
        "    geo_data=world_geo,\n",
        "    data=average_emissions_map_data,\n",
        "    columns=[\"Country\", \"Per Capita\"],\n",
        "    key_on=\"feature.properties.name\",\n",
        "    fill_color=\"YlOrRd\",\n",
        "    fill_opacity=0.7,\n",
        "    line_opacity=0.2,\n",
        "    legend_name=\"Average Per Capita Emissions\"\n",
        ").add_to(emissions_map)\n",
        "\n",
        "emissions_map.save(\"map.html\")\n",
        "\n",
        "import dash\n",
        "import dash_core_components as dcc\n",
        "import dash_html_components as html\n",
        "\n",
        "app = dash.Dash(__name__)\n",
        "\n",
        "app.layout = html.Div([\n",
        "    html.Iframe(srcDoc=open(\"map.html\", \"r\").read(), width=\"100%\", height=\"600\"),\n",
        "    html.Div([\n",
        "        dcc.Graph(figure=fig_area, style={\"width\": \"50%\", \"display\": \"inline-block\"}),\n",
        "        dcc.Graph(figure=fig_line, style={\"width\": \"50%\", \"display\": \"inline-block\"})\n",
        "    ])\n",
        "])\n",
        "\n",
        "if __name__ == \"__main__\":\n",
        "    app.run_server(debug=True)"
      ]
    }
  ]
}