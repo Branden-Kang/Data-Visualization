{
  "nbformat": 4,
  "nbformat_minor": 0,
  "metadata": {
    "colab": {
      "name": "Build Modern GUI in Python using PyQt5 Framework.ipynb",
      "provenance": [],
      "collapsed_sections": [],
      "authorship_tag": "ABX9TyMKreq3ZGQBrUIY1EzlgSO3"
    },
    "kernelspec": {
      "name": "python3",
      "display_name": "Python 3"
    },
    "language_info": {
      "name": "python"
    }
  },
  "cells": [
    {
      "cell_type": "markdown",
      "source": [
        "[Reference](https://python.plainenglish.io/build-modern-gui-in-python-using-pyqt5-framework-d3398beeb555)"
      ],
      "metadata": {
        "id": "R8Gg-odkPcBh"
      }
    },
    {
      "cell_type": "markdown",
      "source": [
        "# Basics of PyQt5\n"
      ],
      "metadata": {
        "id": "IRTa_9ELPeF4"
      }
    },
    {
      "cell_type": "code",
      "execution_count": 1,
      "metadata": {
        "id": "Nx5jNStgPVux"
      },
      "outputs": [],
      "source": [
        "# # Building the Window Interface\n",
        "# import sys\n",
        "# from PyQt5 import QtWidgets\n",
        "# from PyQt5.QtWidgets import QApplication, QMainWindow, QLabel\n",
        "# def main():\n",
        "#     app = QApplication(sys.argv)\n",
        "#     win = QMainWindow()\n",
        "#     win.setGeometry(400,400,400,300)\n",
        "#     win.setWindowTitle(\"Pyqt5 Tutorial\")\n",
        "#     win.show()\n",
        "#     sys.exit(app.exec_())\n",
        "    \n",
        "# main()"
      ]
    },
    {
      "cell_type": "markdown",
      "source": [
        "# Label Text"
      ],
      "metadata": {
        "id": "Q3HDpu_hPg46"
      }
    },
    {
      "cell_type": "code",
      "source": [
        "# import sys\n",
        "# from PyQt5 import QtWidgets\n",
        "# from PyQt5.QtWidgets import QApplication, QMainWindow, QLabel\n",
        "# def main():\n",
        "#     app = QApplication(sys.argv)\n",
        "#     win = QMainWindow()\n",
        "#     win.setGeometry(400,400,400,300)\n",
        "#     win.setWindowTitle(\"Pyqt5 Tutorial\")\n",
        "# #Label Text\n",
        "#     label= QLabel(win)\n",
        "#     label.setText(\"Hi this is Pyqt5\")\n",
        "#     label.move(100,100)\n",
        "# win.show()\n",
        "#     sys.exit(app.exec_())\n",
        "    \n",
        "# main()"
      ],
      "metadata": {
        "id": "pfpRS6UGPfbs"
      },
      "execution_count": 2,
      "outputs": []
    },
    {
      "cell_type": "markdown",
      "source": [
        "# Button and Events\n"
      ],
      "metadata": {
        "id": "KqFg-cdKPjYT"
      }
    },
    {
      "cell_type": "code",
      "source": [
        "# import sys\n",
        "# from PyQt5 import QtWidgets\n",
        "# from PyQt5.QtWidgets import QApplication, QMainWindow, QLabel\n",
        "# def main():\n",
        "#     app = QApplication(sys.argv)\n",
        "#     win = QMainWindow()\n",
        "#     win.setGeometry(400,400,400,300)\n",
        "#     win.setWindowTitle(\"Pyqt5 Tutorial\")\n",
        "# #Button\n",
        "#     button = QtWidgets.QPushButton(win)\n",
        "#     button.setText(\"Hi! Click Me\")\n",
        "#     button.move(100,100)\n",
        "# win.show()\n",
        "#     sys.exit(app.exec_())\n",
        "    \n",
        "# main()"
      ],
      "metadata": {
        "id": "HJVGvCdJPiOM"
      },
      "execution_count": 3,
      "outputs": []
    },
    {
      "cell_type": "code",
      "source": [
        "# import sys\n",
        "# from PyQt5 import QtWidgets\n",
        "# from PyQt5.QtWidgets import QApplication, QMainWindow, QLabel\n",
        "# def click():\n",
        "#     print(\"Hy Button is clicked!\")\n",
        "# def main():\n",
        "#     app = QApplication(sys.argv)\n",
        "#     win = QMainWindow()\n",
        "#     win.setGeometry(400,400,400,300)\n",
        "#     win.setWindowTitle(\"Pyqt5 Tutorial\")\n",
        "# #Button Click\n",
        "#     button = QtWidgets.QPushButton(win)\n",
        "#     button.setText(\"Hi! Click Me\")\n",
        "#     button.move(100,100)\n",
        "#     button.clicked.connect(click)\n",
        "# win.show()\n",
        "#     sys.exit(app.exec_())\n",
        "    \n",
        "# main()"
      ],
      "metadata": {
        "id": "B4-YfEe6Pnbu"
      },
      "execution_count": 4,
      "outputs": []
    },
    {
      "cell_type": "markdown",
      "source": [
        "# Entry Boxes\n"
      ],
      "metadata": {
        "id": "zyqQcL04Pqvv"
      }
    },
    {
      "cell_type": "code",
      "source": [
        "# import sys\n",
        "# from PyQt5 import QtWidgets\n",
        "# from PyQt5.QtWidgets import QApplication, QMainWindow, QLabel\n",
        "# def main():\n",
        "#     app = QApplication(sys.argv)\n",
        "#     win = QMainWindow()\n",
        "#     win.setGeometry(400,400,400,300)\n",
        "#     win.setWindowTitle(\"Pyqt5 Tutorial\")\n",
        "# #Entry Box / Text Box\n",
        "#     textbox = QtWidgets.QLineEdit(win)\n",
        "#     textbox.move(100, 100)\n",
        "#     textbox.resize(180,40)\n",
        "# win.show()\n",
        "#     sys.exit(app.exec_())\n",
        "    \n",
        "# main()"
      ],
      "metadata": {
        "id": "fkgfMPouPpKw"
      },
      "execution_count": 5,
      "outputs": []
    },
    {
      "cell_type": "markdown",
      "source": [
        "# Message boxes and Pop-ups\n"
      ],
      "metadata": {
        "id": "tUET9WwrPtuV"
      }
    },
    {
      "cell_type": "code",
      "source": [
        "# import sys\n",
        "# from PyQt5 import QtWidgets\n",
        "# from PyQt5.QtWidgets import QApplication, QMainWindow, QLabel\n",
        "# def main():\n",
        "#     app = QApplication(sys.argv)\n",
        "#     win = QMainWindow()\n",
        "#     win.setGeometry(400,400,400,300)\n",
        "#     win.setWindowTitle(\"Pyqt5 Tutorial\")\n",
        "# #Message Box\n",
        "#     msg = QtWidgets.QMessageBox(win)\n",
        "#     msg.setWindowTitle(\"Pyqt5 Alert\")\n",
        "#     msg.setText(\"Message box in Pyqt5!\")\n",
        "#     msg.exec_()\n",
        "# win.show()\n",
        "#     sys.exit(app.exec_())\n",
        "    \n",
        "# main()"
      ],
      "metadata": {
        "id": "GkgLtd5HPsh6"
      },
      "execution_count": 6,
      "outputs": []
    },
    {
      "cell_type": "code",
      "source": [
        "# msg = QtWidgets.QMessageBox(win)\n",
        "# msg.setWindowTitle(\"Pyqt5 Alert\")\n",
        "# msg.setText(\"Message box in Pyqt5!\")\n",
        "# msg.setIcon(QtWidgets.QMessageBox.Critical)\n",
        "# msg.exec_()"
      ],
      "metadata": {
        "id": "WwiERukPPu_1"
      },
      "execution_count": 7,
      "outputs": []
    }
  ]
}