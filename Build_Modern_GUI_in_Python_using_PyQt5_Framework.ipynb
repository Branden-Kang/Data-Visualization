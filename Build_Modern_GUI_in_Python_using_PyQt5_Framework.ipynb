{
  "nbformat": 4,
  "nbformat_minor": 0,
  "metadata": {
    "colab": {
      "name": "Build Modern GUI in Python using PyQt5 Framework.ipynb",
      "provenance": [],
      "collapsed_sections": [],
      "authorship_tag": "ABX9TyOPmrJuEFrIzVkJylJALxVq"
    },
    "kernelspec": {
      "name": "python3",
      "display_name": "Python 3"
    },
    "language_info": {
      "name": "python"
    }
  },
  "cells": [
    {
      "cell_type": "markdown",
      "source": [
        "[Reference](https://python.plainenglish.io/build-modern-gui-in-python-using-pyqt5-framework-d3398beeb555)"
      ],
      "metadata": {
        "id": "18SI5-RLCWoQ"
      }
    },
    {
      "cell_type": "code",
      "source": [
        "pip install pyqt5"
      ],
      "metadata": {
        "colab": {
          "base_uri": "https://localhost:8080/"
        },
        "id": "f3gDmQqXCZeL",
        "outputId": "aaf1679d-1eb8-44fd-c543-a7245e2f1714"
      },
      "execution_count": 2,
      "outputs": [
        {
          "output_type": "stream",
          "name": "stdout",
          "text": [
            "Looking in indexes: https://pypi.org/simple, https://us-python.pkg.dev/colab-wheels/public/simple/\n",
            "Collecting pyqt5\n",
            "  Downloading PyQt5-5.15.6-cp36-abi3-manylinux1_x86_64.whl (8.3 MB)\n",
            "\u001b[K     |████████████████████████████████| 8.3 MB 9.1 MB/s \n",
            "\u001b[?25hCollecting PyQt5-sip<13,>=12.8\n",
            "  Downloading PyQt5_sip-12.10.1-cp37-cp37m-manylinux1_x86_64.whl (338 kB)\n",
            "\u001b[K     |████████████████████████████████| 338 kB 64.1 MB/s \n",
            "\u001b[?25hCollecting PyQt5-Qt5>=5.15.2\n",
            "  Downloading PyQt5_Qt5-5.15.2-py3-none-manylinux2014_x86_64.whl (59.9 MB)\n",
            "\u001b[K     |████████████████████████████████| 59.9 MB 1.1 MB/s \n",
            "\u001b[?25hInstalling collected packages: PyQt5-sip, PyQt5-Qt5, pyqt5\n",
            "Successfully installed PyQt5-Qt5-5.15.2 PyQt5-sip-12.10.1 pyqt5-5.15.6\n"
          ]
        }
      ]
    },
    {
      "cell_type": "markdown",
      "source": [
        "# Basics of PyQt5"
      ],
      "metadata": {
        "id": "H9n4KIl8CRAd"
      }
    },
    {
      "cell_type": "code",
      "source": [
        "import sys"
      ],
      "metadata": {
        "id": "oY-L1i_UCf5m"
      },
      "execution_count": 1,
      "outputs": []
    },
    {
      "cell_type": "code",
      "execution_count": 2,
      "metadata": {
        "id": "L-iPdUS6BVmv"
      },
      "outputs": [],
      "source": [
        "# Building the Window Interfaceimport sys\n",
        "from PyQt5 import QtWidgets\n",
        "from PyQt5.QtWidgets import QApplication, QMainWindow, QLabel\n",
        "\n",
        "def main():\n",
        "    app = QApplication(sys.argv)\n",
        "    win = QMainWindow()\n",
        "    win.setGeometry(400,400,400,300)\n",
        "    win.setWindowTitle(\"Pyqt5 Tutorial\")\n",
        "    win.show()\n",
        "    sys.exit(app.exec_())\n",
        "    \n",
        "main()"
      ]
    },
    {
      "cell_type": "markdown",
      "source": [
        "# Label Text"
      ],
      "metadata": {
        "id": "46lhoyTwCfCv"
      }
    },
    {
      "cell_type": "code",
      "source": [
        "import sys\n",
        "from PyQt5 import QtWidgets\n",
        "from PyQt5.QtWidgets import QApplication, QMainWindow, QLabel\n",
        "\n",
        "def main():\n",
        "    app = QApplication(sys.argv)\n",
        "    win = QMainWindow()\n",
        "    win.setGeometry(400,400,400,300)\n",
        "    win.setWindowTitle(\"Pyqt5 Tutorial\")\n",
        "    \n",
        "    #Label Text\n",
        "    label= QLabel(win)\n",
        "    label.setText(\"Hi this is Pyqt5\")\n",
        "    label.move(100,100)\n",
        "    win.show()\n",
        "    sys.exit(app.exec_())\n",
        "    \n",
        "main()"
      ],
      "metadata": {
        "id": "-uYpuw2pCexm"
      },
      "execution_count": 3,
      "outputs": []
    },
    {
      "cell_type": "markdown",
      "source": [
        "# Button and Events"
      ],
      "metadata": {
        "id": "T2pluSKqCx3C"
      }
    },
    {
      "cell_type": "code",
      "source": [
        "import sys\n",
        "from PyQt5 import QtWidgets\n",
        "from PyQt5.QtWidgets import QApplication, QMainWindow, QLabel\n",
        "\n",
        "def main():\n",
        "    app = QApplication(sys.argv)\n",
        "    win = QMainWindow()\n",
        "    win.setGeometry(400,400,400,300)\n",
        "    win.setWindowTitle(\"Pyqt5 Tutorial\")\n",
        "    \n",
        "    #Button\n",
        "    button = QtWidgets.QPushButton(win)\n",
        "    button.setText(\"Hi! Click Me\")\n",
        "    button.move(100,100)\n",
        "    \n",
        "    win.show()\n",
        "    sys.exit(app.exec_())\n",
        "    \n",
        "main()"
      ],
      "metadata": {
        "id": "MYJFIbulCTo-"
      },
      "execution_count": 4,
      "outputs": []
    },
    {
      "cell_type": "code",
      "source": [
        "import sys\n",
        "from PyQt5 import QtWidgets\n",
        "from PyQt5.QtWidgets import QApplication, QMainWindow, QLabel\n",
        "\n",
        "def click():\n",
        "    print(\"Hy Button is clicked!\")\n",
        "    \n",
        "def main():\n",
        "    app = QApplication(sys.argv)\n",
        "    win = QMainWindow()\n",
        "    win.setGeometry(400,400,400,300)\n",
        "    win.setWindowTitle(\"Pyqt5 Tutorial\")\n",
        "    \n",
        "    #Button Click\n",
        "    button = QtWidgets.QPushButton(win)\n",
        "    button.setText(\"Hi! Click Me\")\n",
        "    button.move(100,100)\n",
        "    button.clicked.connect(click)\n",
        "    win.show()\n",
        "    sys.exit(app.exec_())\n",
        "    \n",
        "main()"
      ],
      "metadata": {
        "id": "a6YTQVwpC20-"
      },
      "execution_count": 5,
      "outputs": []
    },
    {
      "cell_type": "markdown",
      "source": [
        "# Entry Boxes"
      ],
      "metadata": {
        "id": "f6Xzg6rdC-Ep"
      }
    },
    {
      "cell_type": "code",
      "source": [
        "import sys\n",
        "from PyQt5 import QtWidgets\n",
        "from PyQt5.QtWidgets import QApplication, QMainWindow, QLabel\n",
        "\n",
        "def main():\n",
        "    app = QApplication(sys.argv)\n",
        "    win = QMainWindow()\n",
        "    win.setGeometry(400,400,400,300)\n",
        "    win.setWindowTitle(\"Pyqt5 Tutorial\")\n",
        "    \n",
        "    #Entry Box / Text Box\n",
        "    textbox = QtWidgets.QLineEdit(win)\n",
        "    textbox.move(100, 100)\n",
        "    textbox.resize(180,40)\n",
        "    \n",
        "    win.show()\n",
        "    sys.exit(app.exec_())\n",
        "    \n",
        "main()"
      ],
      "metadata": {
        "id": "F6RubFBwC8x3"
      },
      "execution_count": 6,
      "outputs": []
    },
    {
      "cell_type": "markdown",
      "source": [
        "# Message boxes and Pop-ups"
      ],
      "metadata": {
        "id": "V6UEvbZ1DC-l"
      }
    },
    {
      "cell_type": "code",
      "source": [
        "import sys\n",
        "from PyQt5 import QtWidgets\n",
        "from PyQt5.QtWidgets import QApplication, QMainWindow, QLabel\n",
        "\n",
        "def main():\n",
        "    app = QApplication(sys.argv)\n",
        "    win = QMainWindow()\n",
        "    win.setGeometry(400,400,400,300)\n",
        "    win.setWindowTitle(\"Pyqt5 Tutorial\")\n",
        "    \n",
        "    #Message Box\n",
        "    msg = QtWidgets.QMessageBox(win)\n",
        "    msg.setWindowTitle(\"Pyqt5 Alert\")\n",
        "    msg.setText(\"Message box in Pyqt5!\")\n",
        "    msg.exec_()\n",
        "    \n",
        "    win.show()\n",
        "    sys.exit(app.exec_())\n",
        "    \n",
        "main()"
      ],
      "metadata": {
        "id": "rXugi24EDBkA"
      },
      "execution_count": 7,
      "outputs": []
    },
    {
      "cell_type": "code",
      "source": [
        "msg = QtWidgets.QMessageBox(win)\n",
        "msg.setWindowTitle(\"Pyqt5 Alert\")\n",
        "msg.setText(\"Message box in Pyqt5!\")\n",
        "msg.setIcon(QtWidgets.QMessageBox.Critical)\n",
        "msg.exec_()"
      ],
      "metadata": {
        "id": "YFOh40d6DGU0"
      },
      "execution_count": 8,
      "outputs": []
    }
  ]
}