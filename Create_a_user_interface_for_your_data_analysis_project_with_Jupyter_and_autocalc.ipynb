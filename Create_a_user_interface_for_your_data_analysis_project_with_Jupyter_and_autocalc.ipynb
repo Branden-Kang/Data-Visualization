{
  "nbformat": 4,
  "nbformat_minor": 0,
  "metadata": {
    "colab": {
      "name": "Create a user interface for your data-analysis project with Jupyter and autocalc.ipynb",
      "provenance": [],
      "authorship_tag": "ABX9TyPSTGuDkng5dSnFT55MMbO3"
    },
    "kernelspec": {
      "name": "python3",
      "display_name": "Python 3"
    },
    "language_info": {
      "name": "python"
    },
    "widgets": {
      "application/vnd.jupyter.widget-state+json": {
        "36765c83941a459fac7aaf67d77f113f": {
          "model_module": "@jupyter-widgets/controls",
          "model_name": "HTMLModel",
          "model_module_version": "1.5.0",
          "state": {
            "_view_name": "HTMLView",
            "style": "IPY_MODEL_df4380f97bc94d0fad052343eea8f5f9",
            "_dom_classes": [],
            "description": "",
            "_model_name": "HTMLModel",
            "placeholder": "​",
            "_view_module": "@jupyter-widgets/controls",
            "_model_module_version": "1.5.0",
            "value": "<br><b><center><font size=\"12\">Iris classification</font></center></b>",
            "_view_count": null,
            "_view_module_version": "1.5.0",
            "description_tooltip": null,
            "_model_module": "@jupyter-widgets/controls",
            "layout": "IPY_MODEL_7ec598b7887d418e92edf44b963ebc7a"
          }
        },
        "df4380f97bc94d0fad052343eea8f5f9": {
          "model_module": "@jupyter-widgets/controls",
          "model_name": "DescriptionStyleModel",
          "model_module_version": "1.5.0",
          "state": {
            "_view_name": "StyleView",
            "_model_name": "DescriptionStyleModel",
            "description_width": "",
            "_view_module": "@jupyter-widgets/base",
            "_model_module_version": "1.5.0",
            "_view_count": null,
            "_view_module_version": "1.2.0",
            "_model_module": "@jupyter-widgets/controls"
          }
        },
        "7ec598b7887d418e92edf44b963ebc7a": {
          "model_module": "@jupyter-widgets/base",
          "model_name": "LayoutModel",
          "model_module_version": "1.2.0",
          "state": {
            "_view_name": "LayoutView",
            "grid_template_rows": null,
            "right": null,
            "justify_content": null,
            "_view_module": "@jupyter-widgets/base",
            "overflow": null,
            "_model_module_version": "1.2.0",
            "_view_count": null,
            "flex_flow": null,
            "width": null,
            "min_width": null,
            "border": null,
            "align_items": null,
            "bottom": null,
            "_model_module": "@jupyter-widgets/base",
            "top": null,
            "grid_column": null,
            "overflow_y": null,
            "overflow_x": null,
            "grid_auto_flow": null,
            "grid_area": null,
            "grid_template_columns": null,
            "flex": null,
            "_model_name": "LayoutModel",
            "justify_items": null,
            "grid_row": null,
            "max_height": null,
            "align_content": null,
            "visibility": null,
            "align_self": null,
            "height": null,
            "min_height": null,
            "padding": null,
            "grid_auto_rows": null,
            "grid_gap": null,
            "max_width": null,
            "order": null,
            "_view_module_version": "1.2.0",
            "grid_template_areas": null,
            "object_position": null,
            "object_fit": null,
            "grid_auto_columns": null,
            "margin": null,
            "display": null,
            "left": null
          }
        },
        "98945c4038f9477a92f7a180c578ad9f": {
          "model_module": "@jupyter-widgets/controls",
          "model_name": "HBoxModel",
          "model_module_version": "1.5.0",
          "state": {
            "_view_name": "HBoxView",
            "_dom_classes": [],
            "_model_name": "HBoxModel",
            "_view_module": "@jupyter-widgets/controls",
            "_model_module_version": "1.5.0",
            "_view_count": null,
            "_view_module_version": "1.5.0",
            "box_style": "",
            "layout": "IPY_MODEL_38fabe95c8ed4cbe8b0a0b11a5097c3b",
            "_model_module": "@jupyter-widgets/controls",
            "children": [
              "IPY_MODEL_d2d6212e9f7341ed841a110e45d6266f",
              "IPY_MODEL_df768d54da0a4fa585f077a9949cebc5"
            ]
          }
        },
        "38fabe95c8ed4cbe8b0a0b11a5097c3b": {
          "model_module": "@jupyter-widgets/base",
          "model_name": "LayoutModel",
          "model_module_version": "1.2.0",
          "state": {
            "_view_name": "LayoutView",
            "grid_template_rows": null,
            "right": null,
            "justify_content": null,
            "_view_module": "@jupyter-widgets/base",
            "overflow": null,
            "_model_module_version": "1.2.0",
            "_view_count": null,
            "flex_flow": null,
            "width": null,
            "min_width": null,
            "border": null,
            "align_items": null,
            "bottom": null,
            "_model_module": "@jupyter-widgets/base",
            "top": null,
            "grid_column": null,
            "overflow_y": null,
            "overflow_x": null,
            "grid_auto_flow": null,
            "grid_area": null,
            "grid_template_columns": null,
            "flex": null,
            "_model_name": "LayoutModel",
            "justify_items": null,
            "grid_row": null,
            "max_height": null,
            "align_content": null,
            "visibility": null,
            "align_self": null,
            "height": null,
            "min_height": null,
            "padding": null,
            "grid_auto_rows": null,
            "grid_gap": null,
            "max_width": null,
            "order": null,
            "_view_module_version": "1.2.0",
            "grid_template_areas": null,
            "object_position": null,
            "object_fit": null,
            "grid_auto_columns": null,
            "margin": null,
            "display": null,
            "left": null
          }
        },
        "d2d6212e9f7341ed841a110e45d6266f": {
          "model_module": "@jupyter-widgets/output",
          "model_name": "OutputModel",
          "model_module_version": "1.0.0",
          "state": {
            "_view_name": "OutputView",
            "msg_id": "",
            "_dom_classes": [],
            "_model_name": "OutputModel",
            "outputs": [],
            "_view_module": "@jupyter-widgets/output",
            "_model_module_version": "1.0.0",
            "_view_count": null,
            "_view_module_version": "1.0.0",
            "layout": "IPY_MODEL_450b565036c7499fa216163f9342ece0",
            "_model_module": "@jupyter-widgets/output"
          }
        },
        "df768d54da0a4fa585f077a9949cebc5": {
          "model_module": "@jupyter-widgets/output",
          "model_name": "OutputModel",
          "model_module_version": "1.0.0",
          "state": {
            "_view_name": "OutputView",
            "msg_id": "",
            "_dom_classes": [],
            "_model_name": "OutputModel",
            "outputs": [
              {
                "output_type": "display_data",
                "data": {
                  "application/vnd.jupyter.widget-view+json": {
                    "model_id": "9de95dfdb6744fcea662e59963522d99",
                    "version_minor": 0,
                    "version_major": 2
                  },
                  "text/plain": "Tab(children=(Output(), Output()), _titles={'0': 'Confusion Matrix', '1': 'Prediction'})"
                },
                "metadata": {}
              }
            ],
            "_view_module": "@jupyter-widgets/output",
            "_model_module_version": "1.0.0",
            "_view_count": null,
            "_view_module_version": "1.0.0",
            "layout": "IPY_MODEL_988d6bc847b149b7afffa09da1cf9e36",
            "_model_module": "@jupyter-widgets/output"
          }
        },
        "9de95dfdb6744fcea662e59963522d99": {
          "model_module": "@jupyter-widgets/controls",
          "model_name": "TabModel",
          "model_module_version": "1.5.0",
          "state": {
            "_view_name": "TabView",
            "_dom_classes": [],
            "_titles": {
              "0": "Confusion Matrix",
              "1": "Prediction"
            },
            "_model_name": "TabModel",
            "_view_module": "@jupyter-widgets/controls",
            "selected_index": 1,
            "_model_module_version": "1.5.0",
            "_view_count": null,
            "_view_module_version": "1.5.0",
            "box_style": "",
            "layout": "IPY_MODEL_c5a09ad14ec2400ba3a6215752d04dcb",
            "_model_module": "@jupyter-widgets/controls",
            "children": [
              "IPY_MODEL_3ef2acadc6ee430eb9b7d480795ea908",
              "IPY_MODEL_9710215b0eb746598de14191fdd9d3d3"
            ]
          }
        },
        "450b565036c7499fa216163f9342ece0": {
          "model_module": "@jupyter-widgets/base",
          "model_name": "LayoutModel",
          "model_module_version": "1.2.0",
          "state": {
            "_view_name": "LayoutView",
            "grid_template_rows": null,
            "right": null,
            "justify_content": null,
            "_view_module": "@jupyter-widgets/base",
            "overflow": null,
            "_model_module_version": "1.2.0",
            "_view_count": null,
            "flex_flow": null,
            "width": "33%",
            "min_width": null,
            "border": "1px solid gray",
            "align_items": null,
            "bottom": null,
            "_model_module": "@jupyter-widgets/base",
            "top": null,
            "grid_column": null,
            "overflow_y": null,
            "overflow_x": null,
            "grid_auto_flow": null,
            "grid_area": null,
            "grid_template_columns": null,
            "flex": null,
            "_model_name": "LayoutModel",
            "justify_items": null,
            "grid_row": null,
            "max_height": null,
            "align_content": null,
            "visibility": null,
            "align_self": null,
            "height": null,
            "min_height": null,
            "padding": null,
            "grid_auto_rows": null,
            "grid_gap": null,
            "max_width": null,
            "order": null,
            "_view_module_version": "1.2.0",
            "grid_template_areas": null,
            "object_position": null,
            "object_fit": null,
            "grid_auto_columns": null,
            "margin": null,
            "display": null,
            "left": null
          }
        },
        "988d6bc847b149b7afffa09da1cf9e36": {
          "model_module": "@jupyter-widgets/base",
          "model_name": "LayoutModel",
          "model_module_version": "1.2.0",
          "state": {
            "_view_name": "LayoutView",
            "grid_template_rows": null,
            "right": null,
            "justify_content": null,
            "_view_module": "@jupyter-widgets/base",
            "overflow": null,
            "_model_module_version": "1.2.0",
            "_view_count": null,
            "flex_flow": null,
            "width": "67%",
            "min_width": null,
            "border": null,
            "align_items": null,
            "bottom": null,
            "_model_module": "@jupyter-widgets/base",
            "top": null,
            "grid_column": null,
            "overflow_y": null,
            "overflow_x": null,
            "grid_auto_flow": null,
            "grid_area": null,
            "grid_template_columns": null,
            "flex": null,
            "_model_name": "LayoutModel",
            "justify_items": null,
            "grid_row": null,
            "max_height": null,
            "align_content": null,
            "visibility": null,
            "align_self": null,
            "height": null,
            "min_height": null,
            "padding": null,
            "grid_auto_rows": null,
            "grid_gap": null,
            "max_width": null,
            "order": null,
            "_view_module_version": "1.2.0",
            "grid_template_areas": null,
            "object_position": null,
            "object_fit": null,
            "grid_auto_columns": null,
            "margin": null,
            "display": null,
            "left": null
          }
        },
        "c5a09ad14ec2400ba3a6215752d04dcb": {
          "model_module": "@jupyter-widgets/base",
          "model_name": "LayoutModel",
          "model_module_version": "1.2.0",
          "state": {
            "_view_name": "LayoutView",
            "grid_template_rows": null,
            "right": null,
            "justify_content": null,
            "_view_module": "@jupyter-widgets/base",
            "overflow": null,
            "_model_module_version": "1.2.0",
            "_view_count": null,
            "flex_flow": null,
            "width": null,
            "min_width": null,
            "border": null,
            "align_items": null,
            "bottom": null,
            "_model_module": "@jupyter-widgets/base",
            "top": null,
            "grid_column": null,
            "overflow_y": null,
            "overflow_x": null,
            "grid_auto_flow": null,
            "grid_area": null,
            "grid_template_columns": null,
            "flex": null,
            "_model_name": "LayoutModel",
            "justify_items": null,
            "grid_row": null,
            "max_height": null,
            "align_content": null,
            "visibility": null,
            "align_self": null,
            "height": null,
            "min_height": null,
            "padding": null,
            "grid_auto_rows": null,
            "grid_gap": null,
            "max_width": null,
            "order": null,
            "_view_module_version": "1.2.0",
            "grid_template_areas": null,
            "object_position": null,
            "object_fit": null,
            "grid_auto_columns": null,
            "margin": null,
            "display": null,
            "left": null
          }
        },
        "3ef2acadc6ee430eb9b7d480795ea908": {
          "model_module": "@jupyter-widgets/output",
          "model_name": "OutputModel",
          "model_module_version": "1.0.0",
          "state": {
            "_view_name": "OutputView",
            "msg_id": "",
            "_dom_classes": [],
            "_model_name": "OutputModel",
            "outputs": [],
            "_view_module": "@jupyter-widgets/output",
            "_model_module_version": "1.0.0",
            "_view_count": null,
            "_view_module_version": "1.0.0",
            "layout": "IPY_MODEL_6a1e8b6e75944014bca92b9289e18070",
            "_model_module": "@jupyter-widgets/output"
          }
        },
        "9710215b0eb746598de14191fdd9d3d3": {
          "model_module": "@jupyter-widgets/output",
          "model_name": "OutputModel",
          "model_module_version": "1.0.0",
          "state": {
            "_view_name": "OutputView",
            "msg_id": "",
            "_dom_classes": [],
            "_model_name": "OutputModel",
            "outputs": [],
            "_view_module": "@jupyter-widgets/output",
            "_model_module_version": "1.0.0",
            "_view_count": null,
            "_view_module_version": "1.0.0",
            "layout": "IPY_MODEL_03e09dcef3aa4b549aee82f4ab243373",
            "_model_module": "@jupyter-widgets/output"
          }
        },
        "6a1e8b6e75944014bca92b9289e18070": {
          "model_module": "@jupyter-widgets/base",
          "model_name": "LayoutModel",
          "model_module_version": "1.2.0",
          "state": {
            "_view_name": "LayoutView",
            "grid_template_rows": null,
            "right": null,
            "justify_content": null,
            "_view_module": "@jupyter-widgets/base",
            "overflow": null,
            "_model_module_version": "1.2.0",
            "_view_count": null,
            "flex_flow": null,
            "width": null,
            "min_width": null,
            "border": null,
            "align_items": null,
            "bottom": null,
            "_model_module": "@jupyter-widgets/base",
            "top": null,
            "grid_column": null,
            "overflow_y": null,
            "overflow_x": null,
            "grid_auto_flow": null,
            "grid_area": null,
            "grid_template_columns": null,
            "flex": null,
            "_model_name": "LayoutModel",
            "justify_items": null,
            "grid_row": null,
            "max_height": null,
            "align_content": null,
            "visibility": null,
            "align_self": null,
            "height": null,
            "min_height": null,
            "padding": null,
            "grid_auto_rows": null,
            "grid_gap": null,
            "max_width": null,
            "order": null,
            "_view_module_version": "1.2.0",
            "grid_template_areas": null,
            "object_position": null,
            "object_fit": null,
            "grid_auto_columns": null,
            "margin": null,
            "display": null,
            "left": null
          }
        },
        "03e09dcef3aa4b549aee82f4ab243373": {
          "model_module": "@jupyter-widgets/base",
          "model_name": "LayoutModel",
          "model_module_version": "1.2.0",
          "state": {
            "_view_name": "LayoutView",
            "grid_template_rows": null,
            "right": null,
            "justify_content": null,
            "_view_module": "@jupyter-widgets/base",
            "overflow": null,
            "_model_module_version": "1.2.0",
            "_view_count": null,
            "flex_flow": null,
            "width": null,
            "min_width": null,
            "border": null,
            "align_items": null,
            "bottom": null,
            "_model_module": "@jupyter-widgets/base",
            "top": null,
            "grid_column": null,
            "overflow_y": null,
            "overflow_x": null,
            "grid_auto_flow": null,
            "grid_area": null,
            "grid_template_columns": null,
            "flex": null,
            "_model_name": "LayoutModel",
            "justify_items": null,
            "grid_row": null,
            "max_height": null,
            "align_content": null,
            "visibility": null,
            "align_self": null,
            "height": null,
            "min_height": null,
            "padding": null,
            "grid_auto_rows": null,
            "grid_gap": null,
            "max_width": null,
            "order": null,
            "_view_module_version": "1.2.0",
            "grid_template_areas": null,
            "object_position": null,
            "object_fit": null,
            "grid_auto_columns": null,
            "margin": null,
            "display": null,
            "left": null
          }
        }
      }
    }
  },
  "cells": [
    {
      "cell_type": "markdown",
      "source": [
        "[Reference](https://towardsdatascience.com/creating-a-ui-with-ipywidgets-and-autocalc-2ef8ea4cc6c2)"
      ],
      "metadata": {
        "id": "G4mrZrVzCP7E"
      }
    },
    {
      "cell_type": "code",
      "source": [
        "!pip install autocalc"
      ],
      "metadata": {
        "colab": {
          "base_uri": "https://localhost:8080/"
        },
        "id": "BDqkspsNCIsT",
        "outputId": "ea529d74-23b6-47d7-fe8a-8836188e3c9e"
      },
      "execution_count": 2,
      "outputs": [
        {
          "output_type": "stream",
          "name": "stdout",
          "text": [
            "Collecting autocalc\n",
            "  Downloading autocalc-0.2.1-py3-none-any.whl (8.9 kB)\n",
            "Requirement already satisfied: IPython in /usr/local/lib/python3.7/dist-packages (from autocalc) (5.5.0)\n",
            "Requirement already satisfied: ipywidgets in /usr/local/lib/python3.7/dist-packages (from autocalc) (7.6.5)\n",
            "Requirement already satisfied: setuptools>=18.5 in /usr/local/lib/python3.7/dist-packages (from IPython->autocalc) (57.4.0)\n",
            "Requirement already satisfied: traitlets>=4.2 in /usr/local/lib/python3.7/dist-packages (from IPython->autocalc) (5.1.1)\n",
            "Requirement already satisfied: pexpect in /usr/local/lib/python3.7/dist-packages (from IPython->autocalc) (4.8.0)\n",
            "Requirement already satisfied: simplegeneric>0.8 in /usr/local/lib/python3.7/dist-packages (from IPython->autocalc) (0.8.1)\n",
            "Requirement already satisfied: pickleshare in /usr/local/lib/python3.7/dist-packages (from IPython->autocalc) (0.7.5)\n",
            "Requirement already satisfied: prompt-toolkit<2.0.0,>=1.0.4 in /usr/local/lib/python3.7/dist-packages (from IPython->autocalc) (1.0.18)\n",
            "Requirement already satisfied: pygments in /usr/local/lib/python3.7/dist-packages (from IPython->autocalc) (2.6.1)\n",
            "Requirement already satisfied: decorator in /usr/local/lib/python3.7/dist-packages (from IPython->autocalc) (4.4.2)\n",
            "Requirement already satisfied: wcwidth in /usr/local/lib/python3.7/dist-packages (from prompt-toolkit<2.0.0,>=1.0.4->IPython->autocalc) (0.2.5)\n",
            "Requirement already satisfied: six>=1.9.0 in /usr/local/lib/python3.7/dist-packages (from prompt-toolkit<2.0.0,>=1.0.4->IPython->autocalc) (1.15.0)\n",
            "Requirement already satisfied: jupyterlab-widgets>=1.0.0 in /usr/local/lib/python3.7/dist-packages (from ipywidgets->autocalc) (1.0.2)\n",
            "Requirement already satisfied: nbformat>=4.2.0 in /usr/local/lib/python3.7/dist-packages (from ipywidgets->autocalc) (5.1.3)\n",
            "Requirement already satisfied: ipython-genutils~=0.2.0 in /usr/local/lib/python3.7/dist-packages (from ipywidgets->autocalc) (0.2.0)\n",
            "Requirement already satisfied: widgetsnbextension~=3.5.0 in /usr/local/lib/python3.7/dist-packages (from ipywidgets->autocalc) (3.5.2)\n",
            "Requirement already satisfied: ipykernel>=4.5.1 in /usr/local/lib/python3.7/dist-packages (from ipywidgets->autocalc) (4.10.1)\n",
            "Requirement already satisfied: jupyter-client in /usr/local/lib/python3.7/dist-packages (from ipykernel>=4.5.1->ipywidgets->autocalc) (5.3.5)\n",
            "Requirement already satisfied: tornado>=4.0 in /usr/local/lib/python3.7/dist-packages (from ipykernel>=4.5.1->ipywidgets->autocalc) (5.1.1)\n",
            "Requirement already satisfied: jupyter-core in /usr/local/lib/python3.7/dist-packages (from nbformat>=4.2.0->ipywidgets->autocalc) (4.9.1)\n",
            "Requirement already satisfied: jsonschema!=2.5.0,>=2.4 in /usr/local/lib/python3.7/dist-packages (from nbformat>=4.2.0->ipywidgets->autocalc) (4.3.3)\n",
            "Requirement already satisfied: importlib-metadata in /usr/local/lib/python3.7/dist-packages (from jsonschema!=2.5.0,>=2.4->nbformat>=4.2.0->ipywidgets->autocalc) (4.10.1)\n",
            "Requirement already satisfied: importlib-resources>=1.4.0 in /usr/local/lib/python3.7/dist-packages (from jsonschema!=2.5.0,>=2.4->nbformat>=4.2.0->ipywidgets->autocalc) (5.4.0)\n",
            "Requirement already satisfied: typing-extensions in /usr/local/lib/python3.7/dist-packages (from jsonschema!=2.5.0,>=2.4->nbformat>=4.2.0->ipywidgets->autocalc) (3.10.0.2)\n",
            "Requirement already satisfied: attrs>=17.4.0 in /usr/local/lib/python3.7/dist-packages (from jsonschema!=2.5.0,>=2.4->nbformat>=4.2.0->ipywidgets->autocalc) (21.4.0)\n",
            "Requirement already satisfied: pyrsistent!=0.17.0,!=0.17.1,!=0.17.2,>=0.14.0 in /usr/local/lib/python3.7/dist-packages (from jsonschema!=2.5.0,>=2.4->nbformat>=4.2.0->ipywidgets->autocalc) (0.18.1)\n",
            "Requirement already satisfied: zipp>=3.1.0 in /usr/local/lib/python3.7/dist-packages (from importlib-resources>=1.4.0->jsonschema!=2.5.0,>=2.4->nbformat>=4.2.0->ipywidgets->autocalc) (3.7.0)\n",
            "Requirement already satisfied: notebook>=4.4.1 in /usr/local/lib/python3.7/dist-packages (from widgetsnbextension~=3.5.0->ipywidgets->autocalc) (5.3.1)\n",
            "Requirement already satisfied: Send2Trash in /usr/local/lib/python3.7/dist-packages (from notebook>=4.4.1->widgetsnbextension~=3.5.0->ipywidgets->autocalc) (1.8.0)\n",
            "Requirement already satisfied: terminado>=0.8.1 in /usr/local/lib/python3.7/dist-packages (from notebook>=4.4.1->widgetsnbextension~=3.5.0->ipywidgets->autocalc) (0.13.1)\n",
            "Requirement already satisfied: nbconvert in /usr/local/lib/python3.7/dist-packages (from notebook>=4.4.1->widgetsnbextension~=3.5.0->ipywidgets->autocalc) (5.6.1)\n",
            "Requirement already satisfied: jinja2 in /usr/local/lib/python3.7/dist-packages (from notebook>=4.4.1->widgetsnbextension~=3.5.0->ipywidgets->autocalc) (2.11.3)\n",
            "Requirement already satisfied: pyzmq>=13 in /usr/local/lib/python3.7/dist-packages (from jupyter-client->ipykernel>=4.5.1->ipywidgets->autocalc) (22.3.0)\n",
            "Requirement already satisfied: python-dateutil>=2.1 in /usr/local/lib/python3.7/dist-packages (from jupyter-client->ipykernel>=4.5.1->ipywidgets->autocalc) (2.8.2)\n",
            "Requirement already satisfied: ptyprocess in /usr/local/lib/python3.7/dist-packages (from terminado>=0.8.1->notebook>=4.4.1->widgetsnbextension~=3.5.0->ipywidgets->autocalc) (0.7.0)\n",
            "Requirement already satisfied: MarkupSafe>=0.23 in /usr/local/lib/python3.7/dist-packages (from jinja2->notebook>=4.4.1->widgetsnbextension~=3.5.0->ipywidgets->autocalc) (2.0.1)\n",
            "Requirement already satisfied: testpath in /usr/local/lib/python3.7/dist-packages (from nbconvert->notebook>=4.4.1->widgetsnbextension~=3.5.0->ipywidgets->autocalc) (0.5.0)\n",
            "Requirement already satisfied: entrypoints>=0.2.2 in /usr/local/lib/python3.7/dist-packages (from nbconvert->notebook>=4.4.1->widgetsnbextension~=3.5.0->ipywidgets->autocalc) (0.4)\n",
            "Requirement already satisfied: mistune<2,>=0.8.1 in /usr/local/lib/python3.7/dist-packages (from nbconvert->notebook>=4.4.1->widgetsnbextension~=3.5.0->ipywidgets->autocalc) (0.8.4)\n",
            "Requirement already satisfied: pandocfilters>=1.4.1 in /usr/local/lib/python3.7/dist-packages (from nbconvert->notebook>=4.4.1->widgetsnbextension~=3.5.0->ipywidgets->autocalc) (1.5.0)\n",
            "Requirement already satisfied: defusedxml in /usr/local/lib/python3.7/dist-packages (from nbconvert->notebook>=4.4.1->widgetsnbextension~=3.5.0->ipywidgets->autocalc) (0.7.1)\n",
            "Requirement already satisfied: bleach in /usr/local/lib/python3.7/dist-packages (from nbconvert->notebook>=4.4.1->widgetsnbextension~=3.5.0->ipywidgets->autocalc) (4.1.0)\n",
            "Requirement already satisfied: webencodings in /usr/local/lib/python3.7/dist-packages (from bleach->nbconvert->notebook>=4.4.1->widgetsnbextension~=3.5.0->ipywidgets->autocalc) (0.5.1)\n",
            "Requirement already satisfied: packaging in /usr/local/lib/python3.7/dist-packages (from bleach->nbconvert->notebook>=4.4.1->widgetsnbextension~=3.5.0->ipywidgets->autocalc) (21.3)\n",
            "Requirement already satisfied: pyparsing!=3.0.5,>=2.0.2 in /usr/local/lib/python3.7/dist-packages (from packaging->bleach->nbconvert->notebook>=4.4.1->widgetsnbextension~=3.5.0->ipywidgets->autocalc) (3.0.7)\n",
            "Installing collected packages: autocalc\n",
            "Successfully installed autocalc-0.2.1\n"
          ]
        }
      ]
    },
    {
      "cell_type": "code",
      "execution_count": 3,
      "metadata": {
        "id": "WpzfYfyiCCTa"
      },
      "outputs": [],
      "source": [
        "import ipywidgets as widgets\n",
        "from autocalc.autocalc import Var, undefined\n",
        "from sklearn.svm import SVC, LinearSVC\n",
        "from sklearn.metrics import confusion_matrix, ConfusionMatrixDisplay\n",
        "from sklearn.model_selection import train_test_split\n",
        "import pandas as pd\n",
        "import matplotlib.pyplot as plt"
      ]
    },
    {
      "cell_type": "code",
      "source": [
        "# The area (box) for the hyperparameters of the model\n",
        "model_parameter_box=widgets.Output(layout=widgets.Layout(width='33%', border='1px solid gray'))\n",
        "\n",
        "# The box for the two tabs\n",
        "result_box=widgets.Output(layout={'width':'67%'})\n",
        "\n",
        "# In each tab we have an output box:\n",
        "confusion_matrix_box=widgets.Output()\n",
        "prediction_box=widgets.Output()\n",
        "\n",
        "# Let's create and name our tabs\n",
        "tab = widgets.Tab()\n",
        "tab.titles=['Confusion Matrix','Prediction']\n",
        "tab.children=[confusion_matrix_box, prediction_box]\n",
        "for i, title in enumerate(['Confusion Matrix','Prediction']):\n",
        "    tab.set_title(i, title)\n",
        "    \n",
        "# Put the tab in the result box\n",
        "with result_box:\n",
        "    display(tab)\n",
        "    \n",
        "\n",
        "display(widgets.HTML('<br><b><center><font size=\"12\">Iris classification</font></center></b>'))\n",
        "display(widgets.HBox([model_parameter_box, result_box]))\n",
        "# Note, that not much can be seen on the screen yet, as we did not fill the\n",
        "# boxes yet. We will do so later in the notebook"
      ],
      "metadata": {
        "colab": {
          "base_uri": "https://localhost:8080/",
          "height": 151,
          "referenced_widgets": [
            "36765c83941a459fac7aaf67d77f113f",
            "df4380f97bc94d0fad052343eea8f5f9",
            "7ec598b7887d418e92edf44b963ebc7a",
            "98945c4038f9477a92f7a180c578ad9f",
            "38fabe95c8ed4cbe8b0a0b11a5097c3b",
            "d2d6212e9f7341ed841a110e45d6266f",
            "df768d54da0a4fa585f077a9949cebc5",
            "9de95dfdb6744fcea662e59963522d99",
            "450b565036c7499fa216163f9342ece0",
            "988d6bc847b149b7afffa09da1cf9e36",
            "c5a09ad14ec2400ba3a6215752d04dcb",
            "3ef2acadc6ee430eb9b7d480795ea908",
            "9710215b0eb746598de14191fdd9d3d3",
            "6a1e8b6e75944014bca92b9289e18070",
            "03e09dcef3aa4b549aee82f4ab243373"
          ]
        },
        "id": "q7l5UNA6CFer",
        "outputId": "7360de73-6682-4384-9f91-3d7d14490102"
      },
      "execution_count": 19,
      "outputs": [
        {
          "output_type": "display_data",
          "data": {
            "application/vnd.jupyter.widget-view+json": {
              "model_id": "36765c83941a459fac7aaf67d77f113f",
              "version_minor": 0,
              "version_major": 2
            },
            "text/plain": [
              "HTML(value='<br><b><center><font size=\"12\">Iris classification</font></center></b>')"
            ]
          },
          "metadata": {}
        },
        {
          "output_type": "display_data",
          "data": {
            "application/vnd.jupyter.widget-view+json": {
              "model_id": "98945c4038f9477a92f7a180c578ad9f",
              "version_minor": 0,
              "version_major": 2
            },
            "text/plain": [
              "HBox(children=(Output(layout=Layout(border='1px solid gray', width='33%')), Output(layout=Layout(width='67%'))…"
            ]
          },
          "metadata": {}
        }
      ]
    },
    {
      "cell_type": "code",
      "source": [
        "p=SVC().get_params()\n",
        "C=Var('C', initial_value = p['C'], widget = widgets.FloatText(), description='Regularization parameter. The strength of the regularization is inversely proportional to C. Must be strictly positive. The penalty is a squared l2 penalty.')\n",
        "kernel = Var('kernel', initial_value=p['kernel'], widget=widgets.Dropdown(options=['linear', 'poly', 'rbf', 'sigmoid', 'precomputed']), description='Specifies the kernel type to be used in the algorithm. ')"
      ],
      "metadata": {
        "id": "iPDQxtbjCMgm"
      },
      "execution_count": 5,
      "outputs": []
    },
    {
      "cell_type": "code",
      "source": [
        "# +-+-+-+-+-+\n",
        "# First let's create the widget for the degree parameter\n",
        "degree_widget = widgets.IntSlider(min=1, max=6)\n",
        "\n",
        "# Then implement a function which enables/disabled this widget based on the value of the kernel parameter,\n",
        "def set_degree_ability(kernel):\n",
        "    disabled = kernel != 'poly' \n",
        "    degree_widget.disabled = disabled\n",
        "\n",
        "# and connect this function to the actual kernel parameter.\n",
        "# The Var below will not be used for its value. It is used to trigger an action.\n",
        "Var('degree_v', fun=set_degree_ability, inputs=[kernel])\n",
        "\n",
        "# Finally create the corresponding Var, using the widget we created above.\n",
        "degree = Var('degree', initial_value=p['degree'],\n",
        "             widget=degree_widget,\n",
        "             description='Degree of the polynomial kernel function (‘poly’). Ignored by all other kernels.')"
      ],
      "metadata": {
        "id": "U_wfuVkqCVrU"
      },
      "execution_count": 6,
      "outputs": []
    },
    {
      "cell_type": "code",
      "source": [
        "class CVar(Var):\n",
        "    \"\"\"\n",
        "    Conditional Var\n",
        "    \"\"\" \n",
        "    def __init__(self, *args, v1, enabled_values,**kwargs):\n",
        "        \"\"\"\n",
        "        :param v1: The Var object which specified whether this Vars widget is enabled\n",
        "        :param enabled_values: Our widget is enabled if the value of v1 is in this list\n",
        "        \"\"\"\n",
        "        # We could also use super() here, but I prefer to be explicit:\n",
        "        Var.__init__(self, *args, **kwargs)\n",
        "        def enable(input):\n",
        "            disabled = input not in enabled_values\n",
        "            self.widget.disabled = disabled\n",
        "        Var('',fun=enable, inputs=[v1])"
      ],
      "metadata": {
        "id": "qoKg8lYdCYij"
      },
      "execution_count": 7,
      "outputs": []
    },
    {
      "cell_type": "code",
      "source": [
        "degree=CVar('degree', initial_value=p['degree'],\n",
        "         widget=widgets.IntSlider(min=1, max=6),\n",
        "         description='Degree of the polynomial kernel function (‘poly’). Ignored by all other kernels.',\n",
        "         v1=kernel,\n",
        "         enabled_values=['poly'])"
      ],
      "metadata": {
        "id": "3OUpYioNCadG"
      },
      "execution_count": 8,
      "outputs": []
    },
    {
      "cell_type": "code",
      "source": [
        "gamma_type = Var('gamma', initial_value=p['gamma'],\n",
        "                 widget=widgets.Dropdown(options=['scale', 'auto', 'custom:'], layout={'width':'90px'}))\n",
        "gamma_float = CVar('custom gamma', initial_value=0.1, widget=widgets.FloatText(layout={'width':'60px'}), v1=gamma_type,\n",
        "               enabled_values=['custom:'])\n",
        "\n",
        "# We created two separate inputs for gamma, but the SVC class only accepts a single gamma as input. So let's create\n",
        "# this gamma value, which is used as an input as a function of the above two variables:\n",
        "def gamma_fun(gamma_type, gamma_float):\n",
        "    return gamma_float if gamma_type == 'custom:' else gamma_type\n",
        "    \n",
        "# It will be the following (gamma) variable which we will be used as the input to the SVC constructor.\n",
        "gamma = Var('real gamma', fun=gamma_fun, inputs=[gamma_type, gamma_float])\n",
        "\n",
        "coef0 = CVar('coef0', initial_value=p['coef0'], widget=widgets.FloatText(),\n",
        "         description='Independent term in kernel function. It is only significant in ‘poly’ and ‘sigmoid’.',\n",
        "         v1=kernel, enabled_values=['poly', 'sigmoid'])"
      ],
      "metadata": {
        "id": "FSnKHo59Cbm7"
      },
      "execution_count": 9,
      "outputs": []
    },
    {
      "cell_type": "code",
      "source": [
        "with model_parameter_box:\n",
        "    display(C)\n",
        "    display(kernel)\n",
        "    display(degree)\n",
        "    display(coef0)\n",
        "    display(widgets.HBox([gamma_type.widget_set, gamma_float.widget]))"
      ],
      "metadata": {
        "id": "UG2iH7m2CdKh"
      },
      "execution_count": 10,
      "outputs": []
    },
    {
      "cell_type": "markdown",
      "source": [
        "# Loading the data\n"
      ],
      "metadata": {
        "id": "VPEeToRrCg-t"
      }
    },
    {
      "cell_type": "code",
      "source": [
        "data_url = 'https://archive.ics.uci.edu/ml/machine-learning-databases/iris/iris.data'\n",
        "variable_list = ['sepal length', 'sepal width', 'petal length','petal width']\n",
        "data_df = pd.read_csv(data_url, names=variable_list+['class'])\n",
        "test_df, train_df = train_test_split(data_df, test_size=0.2)"
      ],
      "metadata": {
        "id": "22fs9OYqCeY3"
      },
      "execution_count": 11,
      "outputs": []
    },
    {
      "cell_type": "markdown",
      "source": [
        "# Creating the outputs\n"
      ],
      "metadata": {
        "id": "T04uR5B-Ckgk"
      }
    },
    {
      "cell_type": "code",
      "source": [
        "def model_fun(C, kernel, degree, gamma, coef0):\n",
        "    svc = SVC(C=C, kernel=kernel, degree=degree, coef0=coef0)\n",
        "    svc.fit(train_df[variable_list],train_df['class'])\n",
        "    return svc\n",
        "\n",
        "def confusion_matrix_fun(model):\n",
        "    predicted_y = model.predict(train_df[variable_list])\n",
        "    cm = confusion_matrix(train_df['class'], predicted_y)\n",
        "    disp = ConfusionMatrixDisplay(cm, display_labels=model.classes_)\n",
        "    return disp"
      ],
      "metadata": {
        "id": "6yt6o0QACgSx"
      },
      "execution_count": 12,
      "outputs": []
    },
    {
      "cell_type": "code",
      "source": [
        "model = Var('Model', fun=model_fun, inputs=[C, kernel, degree, gamma, coef0], lazy=True)\n",
        "cm = Var('Confusion Matrix', fun=confusion_matrix_fun, inputs=[model])"
      ],
      "metadata": {
        "id": "wM5jlatFCl1X"
      },
      "execution_count": 13,
      "outputs": []
    },
    {
      "cell_type": "code",
      "source": [
        "calibrate_button=widgets.Button(description='Calibrate model')\n",
        "calibrate_button.on_click(lambda x:model.get())\n",
        "with model_parameter_box:\n",
        "    display(calibrate_button)"
      ],
      "metadata": {
        "id": "k7vjHSnnCnaq"
      },
      "execution_count": 14,
      "outputs": []
    },
    {
      "cell_type": "code",
      "source": [
        "def cm_display(cm):\n",
        "    confusion_matrix_box.clear_output()\n",
        "    with confusion_matrix_box:\n",
        "        if cm is undefined:\n",
        "            display(widgets.HBox([widgets.Label('Model not calibrated yet. Click to '),calibrate_button]))\n",
        "        else:\n",
        "            cm.plot()\n",
        "            plt.show()"
      ],
      "metadata": {
        "id": "BvuIbBWACodX"
      },
      "execution_count": 15,
      "outputs": []
    },
    {
      "cell_type": "code",
      "source": [
        "# Note, how we define the \"undefined_input_handling\" parameter.\n",
        "\n",
        "# We assign the value to \"_\" in order to prevent the display. We will not use the Var we created, only use it as \n",
        "# a means to trigger an action based on cm\n",
        "_ = Var('cm_display', fun=cm_display, inputs=[cm], undefined_input_handling='function')"
      ],
      "metadata": {
        "id": "YkVRcuQ8Cpjr"
      },
      "execution_count": 16,
      "outputs": []
    },
    {
      "cell_type": "code",
      "source": [
        "model_input_variables = [Var(name, widget=widgets.FloatText(), initial_value=train_df[name].iloc[0]) for name in variable_list]\n",
        "with prediction_box:\n",
        "    for v in model_input_variables:\n",
        "        display(v)"
      ],
      "metadata": {
        "id": "zdQbYjwUCrNO"
      },
      "execution_count": 17,
      "outputs": []
    },
    {
      "cell_type": "code",
      "source": [
        "def prediction_fun(model, *arg):\n",
        "    # We create a DataFrame wit a single row, in the same format as we have our training dataset\n",
        "    input_df = pd.DataFrame(columns=variable_list, data=[arg])\n",
        "    \n",
        "    # The output of .predict is an array of size, 1. We want to extract this value from the array, hence [0]\n",
        "    y = model.predict(input_df)[0]\n",
        "    return y\n",
        "\n",
        "# We set read_only=True below. This has the effect that it is disallows to change the value of this Var directly\n",
        "# but only through its inputs.\n",
        "Predicted=Var('Predicted',fun=prediction_fun, inputs=[model, *model_input_variables],\n",
        "              widget=widgets.Text(value='Please calibrate the model'),\n",
        "             read_only=True)\n",
        "\n",
        "with prediction_box:\n",
        "    display(Predicted)"
      ],
      "metadata": {
        "id": "q3TENM4wCsT9"
      },
      "execution_count": 18,
      "outputs": []
    }
  ]
}