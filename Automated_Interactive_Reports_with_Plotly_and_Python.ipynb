{
  "nbformat": 4,
  "nbformat_minor": 0,
  "metadata": {
    "colab": {
      "name": "Automated Interactive Reports with Plotly and Python.ipynb",
      "provenance": [],
      "authorship_tag": "ABX9TyPWohjLgtJ9RTYxnQ+HVe78"
    },
    "kernelspec": {
      "name": "python3",
      "display_name": "Python 3"
    },
    "language_info": {
      "name": "python"
    }
  },
  "cells": [
    {
      "cell_type": "markdown",
      "metadata": {
        "id": "KQlKznpjpH7G"
      },
      "source": [
        "[Reference](https://towardsdatascience.com/automated-interactive-reports-with-plotly-and-python-88dbe3aae5)"
      ]
    },
    {
      "cell_type": "code",
      "metadata": {
        "id": "VQg3mNWxofWc"
      },
      "source": [
        "import requests\n",
        "import pandas as pd\n",
        "\n",
        "def load_data(symbol, API_KEY):\n",
        "    url = 'https://www.alphavantage.co/query?function=CRYPTO_INTRADAY&symbol='+symbol+'&market=USD&interval=1min&outputsize=compact&apikey='+API_KEY\n",
        "    r = requests.get(url)\n",
        "    data = r.json()\n",
        "    df = pd.DataFrame.from_dict(data['Time Series Crypto (1min)']).T\n",
        "    df = df.rename(columns={'1. open': 'open', '2. high': 'high', '3. low': 'low', '4. close': 'close', '5. volume': 'volume'})\n",
        "    df.index = pd.to_datetime(df.index)\n",
        "    df =df.astype(float)\n",
        "    df['date'] = df.index.date.astype(str)\n",
        "    return df"
      ],
      "execution_count": 7,
      "outputs": []
    },
    {
      "cell_type": "code",
      "metadata": {
        "id": "ZE5j2zNRovbG"
      },
      "source": [
        "def calculate_rsi(df, period=13):\n",
        "    net_change = df['close'].diff()\n",
        "    increase = net_change.clip(lower=0)\n",
        "    decrease = -1*net_change.clip(upper=0)\n",
        "    ema_up = increase.ewm(com=period, adjust=False).mean()\n",
        "    ema_down = decrease.ewm(com=period, adjust=False).mean()\n",
        "    RS = ema_up/ema_down\n",
        "    df['RSI'] = 100 - (100/(1+RS)) \n",
        "    return df"
      ],
      "execution_count": 2,
      "outputs": []
    },
    {
      "cell_type": "code",
      "metadata": {
        "id": "YY4mVZOZoxJo"
      },
      "source": [
        "def generate_table(df):\n",
        "    df = calculate_rsi(df)\n",
        "    df['date'] = df.index.date.astype(str)\n",
        "    df_group = df.groupby(['date']).agg({\n",
        "        'close': ['mean', 'std', lambda x: x.iloc[0], lambda x: x.iloc[-1]],\n",
        "        'RSI': ['mean'],\n",
        "    }).round(2)\n",
        "    df_group.columns = [x[1] for x in df_group.columns]\n",
        "    df_group = df_group.reset_index()\n",
        "    df_group.columns = ['Date', 'Mean Price', 'STD Price', 'Start', 'End', 'RSI Mean']\n",
        "    df_group['Net Change'] = (df_group['Start'] - df_group['End']).round(2)\n",
        "    df_group = df_group[['Date', 'Mean Price', 'STD Price', 'RSI Mean', 'Start', 'End', 'Net Change']] # Re-ordering\n",
        "    return df_group"
      ],
      "execution_count": 3,
      "outputs": []
    },
    {
      "cell_type": "code",
      "metadata": {
        "id": "xTJSsRAkoyh-"
      },
      "source": [
        "import datetime\n",
        "import plotly.graph_objects as go\n",
        "from plotly.subplots import make_subplots\n",
        "\n",
        "API_KEY = ''\n",
        "COINS = ['BTC', 'ETH', 'MKR', 'BCH', 'DOGE']\n",
        "rolling_period = 15\n",
        "date_time = str(datetime.datetime.now())[0:16].replace(':','-').replace(' ','_') # File Explorer Safe Name\n",
        "with open('Crypto_Report_'+date_time+'.html', 'a') as f:\n",
        "    for coin in COINS:\n",
        "        df = load_data(coin, API_KEY)\n",
        "        df = calculate_rsi(df, rolling_period)\n",
        "        df_group = generate_table(df)\n",
        "\n",
        "        fig = go.Figure(make_subplots(\n",
        "            rows=4, cols=1, shared_xaxes=True,\n",
        "            vertical_spacing=0.05,\n",
        "            specs=[[{}],[{}],[{}],[{\"type\": \"table\"}]]\n",
        "        ))\n",
        "        fig.add_trace(\n",
        "            go.Candlestick(\n",
        "                x=df.index, open=df['open'], high=df['high'],\n",
        "                low=df['low'], close=df['close'], name= coin + ' Candlestick',\n",
        "                increasing_line_color= 'rgb(27,158,119)', decreasing_line_color= 'rgb(204,80,62)'\n",
        "            ), row=1, col=1,\n",
        "        )\n",
        "        fig.add_trace(\n",
        "            go.Scatter(\n",
        "                x=df.index, y=df['close'],\n",
        "                name= coin+' Price', marker_color='#0099C6'\n",
        "            ),row=2, col=1\n",
        "        )\n",
        "        fig.add_trace(\n",
        "            go.Scatter(\n",
        "                x=list(df.index)+list(df.index[::-1]),\n",
        "                y=list(df['close'].transform(lambda x: x.rolling(rolling_period,1).mean()) + (2*df['close'].transform(lambda x: x.rolling(rolling_period,1).std())))\n",
        "                    +list(df['close'].transform(lambda x: x.rolling(rolling_period,1).mean()) - (2*df['close'].transform(lambda x: x.rolling(rolling_period,1).std()))[::-1]),\n",
        "                fill='toself',\n",
        "                fillcolor='rgba(0,176,246,0.2)', line_color='rgba(255,255,255,0)',\n",
        "                name='Bollinger Bands', showlegend=False,\n",
        "            ),row=2, col=1\n",
        "        )\n",
        "        fig.add_trace(\n",
        "            go.Scatter(\n",
        "                x=df.index, y=df['close'].transform(lambda x: x.rolling(rolling_period,1).mean()),\n",
        "                line = dict(dash='dot'), marker_color='rgba(0,176,246,0.2)',\n",
        "                showlegend=False, name='Moving Average'\n",
        "            ),row=2, col=1,\n",
        "        )\n",
        "        fig.add_trace(\n",
        "            go.Scatter(\n",
        "                x=df.index, y=df['RSI'],\n",
        "                name='RSI', marker_color='#109618'\n",
        "            ), row=3, col=1,\n",
        "        )\n",
        "        fig.add_trace(\n",
        "            go.Scatter(\n",
        "                x=df.index, y=[70] * len(df.index),\n",
        "                name='Overbought', marker_color='#109618',\n",
        "                line = dict(dash='dot'), showlegend=False,\n",
        "            ), row=3, col=1,\n",
        "        )\n",
        "        fig.add_trace(\n",
        "            go.Scatter(\n",
        "                x=df.index, y=[30] * len(df.index),\n",
        "                name='Oversold', marker_color='#109618',\n",
        "                line = dict(dash='dot'),showlegend=False,\n",
        "            ),row=3, col=1,\n",
        "        )\n",
        "        fig.add_trace(\n",
        "            go.Table(\n",
        "                header=dict(\n",
        "                    values=list(df_group.columns),\n",
        "                    font=dict(size=10), align=\"left\"),\n",
        "                cells=dict(\n",
        "                    values=[df_group[k].tolist() for k in df_group.columns[0:]],align = \"left\")\n",
        "            ),row=4, col=1\n",
        "        )\n",
        "        fig.update_layout(\n",
        "            title= coin + ' Report',\n",
        "            yaxis_title='Price',\n",
        "            template='plotly_dark',\n",
        "            xaxis1_rangeslider_visible=False,\n",
        "            height=800\n",
        "        )\n",
        "        f.write(fig.to_html(full_html=False, include_plotlyjs='cdn'))"
      ],
      "execution_count": 9,
      "outputs": []
    }
  ]
}