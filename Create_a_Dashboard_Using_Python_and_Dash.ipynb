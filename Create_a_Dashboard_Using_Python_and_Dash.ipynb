{
  "nbformat": 4,
  "nbformat_minor": 0,
  "metadata": {
    "colab": {
      "provenance": [],
      "authorship_tag": "ABX9TyM3FrVNbEJMDfTRMuyr3kWI"
    },
    "kernelspec": {
      "name": "python3",
      "display_name": "Python 3"
    },
    "language_info": {
      "name": "python"
    }
  },
  "cells": [
    {
      "cell_type": "markdown",
      "source": [
        "[Reference](https://python.plainenglish.io/create-a-dashboard-using-python-and-dash-fdf2ec20f8ac)"
      ],
      "metadata": {
        "id": "LVwI5XXiI8mX"
      }
    },
    {
      "cell_type": "markdown",
      "source": [
        "# Setting up the project workspace"
      ],
      "metadata": {
        "id": "_RtjOa_7J-HD"
      }
    },
    {
      "cell_type": "code",
      "execution_count": 1,
      "metadata": {
        "id": "ylyDGeBqI4Yt"
      },
      "outputs": [],
      "source": [
        "# # Linux & MacOS\n",
        "# mkdir netflix-dashboard && cd netflix-dashboard\n",
        "# python3 -m venv netflix-venv && source netflix-venv/bin/activate"
      ]
    },
    {
      "cell_type": "code",
      "source": [
        "# # Linux & MacOS\n",
        "# pip3 install pandas dash plotly dash-bootstrap-components\n",
        "# # Windows Powershell\n",
        "# pip install pandas dash plotly dash-bootstrap-components"
      ],
      "metadata": {
        "id": "Mhr1KvCeJ8W9"
      },
      "execution_count": 4,
      "outputs": []
    },
    {
      "cell_type": "markdown",
      "source": [
        "# Cleaning the dataset"
      ],
      "metadata": {
        "id": "jigKaxpSKFAt"
      }
    },
    {
      "cell_type": "code",
      "source": [
        "# import pandas as pd\n",
        "\n",
        "# # Load the dataset\n",
        "# df = pd.read_csv('netflix_titles.csv')\n",
        "\n",
        "# # Fill missing values\n",
        "# df['director'].fillna('No director', inplace=True)\n",
        "# df['cast'].fillna('No cast', inplace=True)\n",
        "# df['country'].fillna('No country', inplace=True)\n",
        "\n",
        "# # Drop missing and duplicate values\n",
        "# df.dropna(inplace=True)\n",
        "# df.drop_duplicates(inplace=True)\n",
        "\n",
        "# # Strip whitespaces from the `date_added` col and convert values to `datetime`\n",
        "# df['date_added'] = pd.to_datetime(df['date_added'].str.strip())\n",
        "\n",
        "# # Save the cleaned dataset\n",
        "# df.to_csv('netflix_titles.csv', index=False)"
      ],
      "metadata": {
        "id": "TjhC81QaKALe"
      },
      "execution_count": 5,
      "outputs": []
    },
    {
      "cell_type": "markdown",
      "source": [
        "# Getting started with Dash"
      ],
      "metadata": {
        "id": "M0p-4h3wKHsS"
      }
    },
    {
      "cell_type": "code",
      "source": [
        "# from dash import Dash, dash_table, html\n",
        "# import pandas as pd\n",
        "\n",
        "# # Initialize a Dash app\n",
        "# app = Dash(__name__)\n",
        "\n",
        "# # Define the app layout\n",
        "# app.layout = html.Div([\n",
        "#         html.H1('Netflix Movies and TV Shows Dashboard'),\n",
        "#         html.Hr(),\n",
        "# ])\n",
        "\n",
        "# # Start the Dash app in local development mode\n",
        "# if __name__ == '__main__':\n",
        "#     app.run_server(debug=True)"
      ],
      "metadata": {
        "id": "KVgUS_4ZKGUR"
      },
      "execution_count": 6,
      "outputs": []
    },
    {
      "cell_type": "markdown",
      "source": [
        "# Incorporating Dash Bootstrap Components"
      ],
      "metadata": {
        "id": "Fb7WOgekKLjY"
      }
    },
    {
      "cell_type": "code",
      "source": [
        "# from dash import Dash,dcc, html\n",
        "# import pandas as pd\n",
        "# import dash_bootstrap_components as dbc\n",
        "\n",
        "# # Initialize the Dash app and import the Bootstrap theme to style the dashboard\n",
        "# app = Dash(__name__, external_stylesheets=[dbc.themes.BOOTSTRAP])\n",
        "\n",
        "# app.layout = dbc.Container(\n",
        "#     [\n",
        "#         dcc.Store(id='store'),\n",
        "#         html.H1('Netflix Movies and TV Shows Dashboard'),\n",
        "#         html.Hr(),\n",
        "#         dbc.Tabs(\n",
        "#             [\n",
        "#                 dbc.Tab(label='Geographical content distribution', tab_id='tab1'),\n",
        "#                 dbc.Tab(label='Content classification', tab_id='tab2'),\n",
        "#             ],\n",
        "#             id='tabs',\n",
        "#             active_tab='tab1',\n",
        "#         ),\n",
        "#         html.Div(id='tab-content', className='p-4'),\n",
        "#     ]\n",
        "# )\n",
        "\n",
        "# if __name__ == '__main__':\n",
        "#     app.run(debug=True)"
      ],
      "metadata": {
        "id": "sH-Iq9HtKIw4"
      },
      "execution_count": 7,
      "outputs": []
    },
    {
      "cell_type": "markdown",
      "source": [
        "# Adding callbacks and visualizations"
      ],
      "metadata": {
        "id": "mELUeOfIKOu0"
      }
    },
    {
      "cell_type": "code",
      "source": [
        "# import pandas as pd\n",
        "# import plotly.express as px\n",
        "# from dash import dcc, html\n",
        "\n",
        "# df = pd.read_csv('netflix_titles.csv')\n",
        "\n",
        "# # Filter out entries without country information and if there are multiple production countries,\n",
        "# # consider the first one as the production country\n",
        "# df['country'] = df['country'].str.split(',').apply(lambda x: x[0].strip() if isinstance(x, list) else None)\n",
        "\n",
        "# # Extract the year from the date_added column\n",
        "# df['year_added'] = pd.to_datetime(df['date_added']).dt.year\n",
        "# df = df.dropna(subset=['country', 'year_added'])\n",
        "\n",
        "# # Compute the count of content produced by each country for each year\n",
        "# df_counts = df.groupby(['country', 'year_added']).size().reset_index(name='count')\n",
        "\n",
        "# # Sort the DataFrame by 'year_added' to ensure the animation frames are in ascending order\n",
        "# df_counts = df_counts.sort_values('year_added')\n",
        "\n",
        "# # Create the choropleth map with a slider for the year\n",
        "# fig1 = px.choropleth(df_counts,\n",
        "#                      locations='country',\n",
        "#                      locationmode='country names',\n",
        "#                      color='count',\n",
        "#                      hover_name='country',\n",
        "#                      animation_frame='year_added',\n",
        "#                      projection='natural earth',\n",
        "#                      title='Content produced by countries over the years',\n",
        "#                      color_continuous_scale='YlGnBu',\n",
        "#                      range_color=[0, df_counts['count'].max()])\n",
        "# fig1.update_layout(width=1280, height=720, title_x=0.5)\n",
        "\n",
        "# # Compute the count of content produced for each year by type and fill zeros for missing type-year pairs\n",
        "# df_year_counts = df.groupby(['year_added', 'type']).size().reset_index(name='count')\n",
        "\n",
        "# # Create the line chart using plotly express\n",
        "# fig2 = px.line(df_year_counts, x='year_added', y='count', color='type',\n",
        "#                title='Content distribution by type over the years',\n",
        "#                markers=True, color_discrete_map={'Movie': 'dodgerblue', 'TV Show': 'darkblue'})\n",
        "# fig2.update_traces(marker=dict(size=12))\n",
        "# fig2.update_layout(width=1280, height=720, title_x=0.5)\n",
        "\n",
        "# layout = html.Div([\n",
        "#     dcc.Graph(figure=fig1),\n",
        "#     html.Hr(),\n",
        "#     dcc.Graph(figure=fig2)\n",
        "# ])"
      ],
      "metadata": {
        "id": "eenLJap6KKc4"
      },
      "execution_count": 8,
      "outputs": []
    },
    {
      "cell_type": "code",
      "source": [
        "# import pandas as pd\n",
        "# import plotly.express as px\n",
        "# from dash import dcc, html\n",
        "\n",
        "# df = pd.read_csv('netflix_titles.csv')\n",
        "\n",
        "# # Split the listed_in column and explode to handle multiple genres\n",
        "# df['listed_in'] = df['listed_in'].str.split(', ')\n",
        "# df = df.explode('listed_in')\n",
        "\n",
        "# # Compute the count of each combination of type and genre\n",
        "# df_counts = df.groupby(['type', 'listed_in']).size().reset_index(name='count')\n",
        "\n",
        "# fig = px.treemap(df_counts, path=['type', 'listed_in'], values='count', color='count',\n",
        "#                  color_continuous_scale='Ice', title='Content by type and genre')\n",
        "\n",
        "# fig.update_layout(width=1280, height=960, title_x=0.5)\n",
        "# fig.update_traces(textinfo='label+percent entry', textfont_size=14)\n",
        "\n",
        "# layout = html.Div([\n",
        "#     dcc.Graph(figure=fig),\n",
        "# ])"
      ],
      "metadata": {
        "id": "62-5jNCTKR5D"
      },
      "execution_count": 9,
      "outputs": []
    },
    {
      "cell_type": "code",
      "source": [
        "# from dash import Dash, dcc, html, Input, Output\n",
        "# import dash_bootstrap_components as dbc\n",
        "# from components import (\n",
        "#     geographical_content,\n",
        "#     content_classification\n",
        "# )\n",
        "\n",
        "# app = Dash(__name__, external_stylesheets=[dbc.themes.BOOTSTRAP])\n",
        "\n",
        "# app.layout = dbc.Container(\n",
        "#     [\n",
        "#         dcc.Store(id='store'),\n",
        "#         html.H1('Netflix Movies and TV Shows Dashboard'),\n",
        "#         html.Hr(),\n",
        "#         dbc.Tabs(\n",
        "#             [\n",
        "#                 dbc.Tab(label='Geographical content distribution', tab_id='tab1'),\n",
        "#                 dbc.Tab(label='Content classification', tab_id='tab2'),\n",
        "#             ],\n",
        "#             id='tabs',\n",
        "#             active_tab='tab1',\n",
        "#         ),\n",
        "#         html.Div(id='tab-content', className='p-4'),\n",
        "#     ]\n",
        "# )\n",
        "\n",
        "\n",
        "# # This callback function switches between tabs in a dashboard based on user selection.\n",
        "# # It updates the 'tab-content' component with the layout of the newly selected tab.\n",
        "# @app.callback(Output('tab-content', 'children'), [Input('tabs', 'active_tab')])\n",
        "# def switch_tab(at):\n",
        "#     if at == 'tab1':\n",
        "#         return geographical_content.layout\n",
        "#     elif at == 'tab2':\n",
        "#         return content_classification.layout\n",
        "\n",
        "\n",
        "# if __name__ == '__main__':\n",
        "#     app.run(debug=True)"
      ],
      "metadata": {
        "id": "NoW5AyRtKWNl"
      },
      "execution_count": 10,
      "outputs": []
    }
  ]
}