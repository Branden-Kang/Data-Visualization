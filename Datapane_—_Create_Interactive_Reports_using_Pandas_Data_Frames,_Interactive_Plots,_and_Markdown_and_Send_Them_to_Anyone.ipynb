{
  "nbformat": 4,
  "nbformat_minor": 0,
  "metadata": {
    "colab": {
      "provenance": [],
      "authorship_tag": "ABX9TyMxo34GUtn5tIUwbEAA5l08"
    },
    "kernelspec": {
      "name": "python3",
      "display_name": "Python 3"
    },
    "language_info": {
      "name": "python"
    }
  },
  "cells": [
    {
      "cell_type": "markdown",
      "source": [
        "[Reference](https://medium.com/@akarabaev96/datapane-create-interactive-reports-using-pandas-data-frames-interactive-plots-and-markdown-d07f1fb8c9f9)"
      ],
      "metadata": {
        "id": "NyGaSK-HDqrU"
      }
    },
    {
      "cell_type": "code",
      "execution_count": 1,
      "metadata": {
        "colab": {
          "base_uri": "https://localhost:8080/"
        },
        "id": "dNwHcfmWDnCR",
        "outputId": "cadbb2e3-4cbf-46a2-a935-15a7956ec8bb"
      },
      "outputs": [
        {
          "output_type": "stream",
          "name": "stdout",
          "text": [
            "Collecting datapane\n",
            "  Downloading datapane-0.16.5-py3-none-any.whl (226 kB)\n",
            "\u001b[?25l     \u001b[90m━━━━━━━━━━━━━━━━━━━━━━━━━━━━━━━━━━━━━━━━\u001b[0m \u001b[32m0.0/226.2 kB\u001b[0m \u001b[31m?\u001b[0m eta \u001b[36m-:--:--\u001b[0m\r\u001b[2K     \u001b[91m━━━━━━━━━━━━━━━━━━━━━━━━━━━━━━━━━━━━━━\u001b[0m\u001b[91m╸\u001b[0m \u001b[32m225.3/226.2 kB\u001b[0m \u001b[31m6.5 MB/s\u001b[0m eta \u001b[36m0:00:01\u001b[0m\r\u001b[2K     \u001b[90m━━━━━━━━━━━━━━━━━━━━━━━━━━━━━━━━━━━━━━━\u001b[0m \u001b[32m226.2/226.2 kB\u001b[0m \u001b[31m4.7 MB/s\u001b[0m eta \u001b[36m0:00:00\u001b[0m\n",
            "\u001b[?25hRequirement already satisfied: PyYAML<7.0.0,>=5.4.0 in /usr/local/lib/python3.10/dist-packages (from datapane) (6.0)\n",
            "Requirement already satisfied: altair<5.0.0,>=4.0.0 in /usr/local/lib/python3.10/dist-packages (from datapane) (4.2.2)\n",
            "Collecting boltons<22.0.0,>=20.0.0 (from datapane)\n",
            "  Downloading boltons-21.0.0-py2.py3-none-any.whl (193 kB)\n",
            "\u001b[2K     \u001b[90m━━━━━━━━━━━━━━━━━━━━━━━━━━━━━━━━━━━━━━\u001b[0m \u001b[32m193.7/193.7 kB\u001b[0m \u001b[31m14.5 MB/s\u001b[0m eta \u001b[36m0:00:00\u001b[0m\n",
            "\u001b[?25hRequirement already satisfied: chardet<6.0.0,>=4.0.0 in /usr/local/lib/python3.10/dist-packages (from datapane) (4.0.0)\n",
            "Collecting cheroot<10.0.0,>=9.0.0 (from datapane)\n",
            "  Downloading cheroot-9.0.0-py2.py3-none-any.whl (100 kB)\n",
            "\u001b[2K     \u001b[90m━━━━━━━━━━━━━━━━━━━━━━━━━━━━━━━━━━━━━━\u001b[0m \u001b[32m100.6/100.6 kB\u001b[0m \u001b[31m10.1 MB/s\u001b[0m eta \u001b[36m0:00:00\u001b[0m\n",
            "\u001b[?25hRequirement already satisfied: click<9.0.0,>=7.1.0 in /usr/local/lib/python3.10/dist-packages (from datapane) (8.1.4)\n",
            "Collecting click-spinner<0.2.0,>=0.1.8 (from datapane)\n",
            "  Downloading click_spinner-0.1.10-py2.py3-none-any.whl (4.0 kB)\n",
            "Collecting colorlog<7.0.0,>=4.1.0 (from datapane)\n",
            "  Downloading colorlog-6.7.0-py2.py3-none-any.whl (11 kB)\n",
            "Collecting dacite<2.0.0,>=1.0.2 (from datapane)\n",
            "  Downloading dacite-1.8.1-py3-none-any.whl (14 kB)\n",
            "Collecting datacommons<2.0.0,>=1.4.3 (from datapane)\n",
            "  Downloading datacommons-1.4.3-py3-none-any.whl (46 kB)\n",
            "\u001b[2K     \u001b[90m━━━━━━━━━━━━━━━━━━━━━━━━━━━━━━━━━━━━━━━━\u001b[0m \u001b[32m46.5/46.5 kB\u001b[0m \u001b[31m4.2 MB/s\u001b[0m eta \u001b[36m0:00:00\u001b[0m\n",
            "\u001b[?25hCollecting datacommons-pandas<0.0.4,>=0.0.3 (from datapane)\n",
            "  Downloading datacommons_pandas-0.0.3-py3-none-any.whl (45 kB)\n",
            "\u001b[2K     \u001b[90m━━━━━━━━━━━━━━━━━━━━━━━━━━━━━━━━━━━━━━━━\u001b[0m \u001b[32m45.8/45.8 kB\u001b[0m \u001b[31m3.5 MB/s\u001b[0m eta \u001b[36m0:00:00\u001b[0m\n",
            "\u001b[?25hCollecting dominate<3.0.0,>=2.4.0 (from datapane)\n",
            "  Downloading dominate-2.8.0-py2.py3-none-any.whl (29 kB)\n",
            "Collecting dulwich<0.22.0,>=0.20.0 (from datapane)\n",
            "  Downloading dulwich-0.21.5-cp310-cp310-manylinux_2_17_x86_64.manylinux2014_x86_64.whl (510 kB)\n",
            "\u001b[2K     \u001b[90m━━━━━━━━━━━━━━━━━━━━━━━━━━━━━━━━━━━━━━\u001b[0m \u001b[32m510.1/510.1 kB\u001b[0m \u001b[31m23.2 MB/s\u001b[0m eta \u001b[36m0:00:00\u001b[0m\n",
            "\u001b[?25hCollecting furl<3.0.0,>=2.0.0 (from datapane)\n",
            "  Downloading furl-2.1.3-py2.py3-none-any.whl (20 kB)\n",
            "Collecting glom<24.0.0,>=22.1.0 (from datapane)\n",
            "  Downloading glom-23.3.0-py3-none-any.whl (101 kB)\n",
            "\u001b[2K     \u001b[90m━━━━━━━━━━━━━━━━━━━━━━━━━━━━━━━━━━━━━━━\u001b[0m \u001b[32m101.9/101.9 kB\u001b[0m \u001b[31m7.2 MB/s\u001b[0m eta \u001b[36m0:00:00\u001b[0m\n",
            "\u001b[?25hCollecting importlib_resources<6.0.0,>=3.0.0 (from datapane)\n",
            "  Downloading importlib_resources-5.13.0-py3-none-any.whl (32 kB)\n",
            "Collecting ipynbname<2022.0.0,>=2021.3.2 (from datapane)\n",
            "  Downloading ipynbname-2021.3.2-py3-none-any.whl (4.0 kB)\n",
            "Requirement already satisfied: jsonschema<5.0.0,>=3.2.0 in /usr/local/lib/python3.10/dist-packages (from datapane) (4.3.3)\n",
            "Requirement already satisfied: lxml<5.0.0,>=4.0.0 in /usr/local/lib/python3.10/dist-packages (from datapane) (4.9.3)\n",
            "Collecting micawber>=0.5.0 (from datapane)\n",
            "  Downloading micawber-0.5.5.tar.gz (18 kB)\n",
            "  Preparing metadata (setup.py) ... \u001b[?25l\u001b[?25hdone\n",
            "Collecting multimethod<2.0,>=1.9 (from datapane)\n",
            "  Downloading multimethod-1.9.1-py3-none-any.whl (10 kB)\n",
            "Requirement already satisfied: nbconvert>=5.6.1 in /usr/local/lib/python3.10/dist-packages (from datapane) (6.5.4)\n",
            "Requirement already satisfied: packaging<24.0.0,>=21.0.0 in /usr/local/lib/python3.10/dist-packages (from datapane) (23.1)\n",
            "Requirement already satisfied: pandas<2.0.0,>=1.1.0 in /usr/local/lib/python3.10/dist-packages (from datapane) (1.5.3)\n",
            "Collecting posthog<3.0.0,>=1.4.0 (from datapane)\n",
            "  Downloading posthog-2.5.0-py2.py3-none-any.whl (36 kB)\n",
            "Requirement already satisfied: pyarrow<11.0.0,>=6.0.0 in /usr/local/lib/python3.10/dist-packages (from datapane) (9.0.0)\n",
            "Requirement already satisfied: pydantic<2.0.0,>=1.6.0 in /usr/local/lib/python3.10/dist-packages (from datapane) (1.10.11)\n",
            "Collecting pyngrok<6.0.0,>=5.2.1 (from datapane)\n",
            "  Downloading pyngrok-5.2.3.tar.gz (681 kB)\n",
            "\u001b[2K     \u001b[90m━━━━━━━━━━━━━━━━━━━━━━━━━━━━━━━━━━━━━━\u001b[0m \u001b[32m681.2/681.2 kB\u001b[0m \u001b[31m39.0 MB/s\u001b[0m eta \u001b[36m0:00:00\u001b[0m\n",
            "\u001b[?25h  Preparing metadata (setup.py) ... \u001b[?25l\u001b[?25hdone\n",
            "Requirement already satisfied: requests<3.0.0,>=2.19.0 in /usr/local/lib/python3.10/dist-packages (from datapane) (2.27.1)\n",
            "Collecting requests-toolbelt<1.1.0,>=0.9.1 (from datapane)\n",
            "  Downloading requests_toolbelt-1.0.0-py2.py3-none-any.whl (54 kB)\n",
            "\u001b[2K     \u001b[90m━━━━━━━━━━━━━━━━━━━━━━━━━━━━━━━━━━━━━━━━\u001b[0m \u001b[32m54.5/54.5 kB\u001b[0m \u001b[31m4.9 MB/s\u001b[0m eta \u001b[36m0:00:00\u001b[0m\n",
            "\u001b[?25hRequirement already satisfied: tabulate<0.10.0,>=0.8.9 in /usr/local/lib/python3.10/dist-packages (from datapane) (0.8.10)\n",
            "Requirement already satisfied: toolz<0.13.0,>=0.11.0 in /usr/local/lib/python3.10/dist-packages (from datapane) (0.12.0)\n",
            "Requirement already satisfied: typing-extensions<5.0.0,>=4.4.0 in /usr/local/lib/python3.10/dist-packages (from datapane) (4.7.1)\n",
            "Requirement already satisfied: vega-datasets<1.0.0,>=0.9.0 in /usr/local/lib/python3.10/dist-packages (from datapane) (0.9.0)\n",
            "Requirement already satisfied: entrypoints in /usr/local/lib/python3.10/dist-packages (from altair<5.0.0,>=4.0.0->datapane) (0.4)\n",
            "Requirement already satisfied: jinja2 in /usr/local/lib/python3.10/dist-packages (from altair<5.0.0,>=4.0.0->datapane) (3.1.2)\n",
            "Requirement already satisfied: numpy in /usr/local/lib/python3.10/dist-packages (from altair<5.0.0,>=4.0.0->datapane) (1.22.4)\n",
            "Requirement already satisfied: six>=1.11.0 in /usr/local/lib/python3.10/dist-packages (from cheroot<10.0.0,>=9.0.0->datapane) (1.16.0)\n",
            "Collecting jaraco.functools (from cheroot<10.0.0,>=9.0.0->datapane)\n",
            "  Downloading jaraco.functools-3.8.0-py3-none-any.whl (8.2 kB)\n",
            "Requirement already satisfied: more-itertools>=2.6 in /usr/local/lib/python3.10/dist-packages (from cheroot<10.0.0,>=9.0.0->datapane) (9.1.0)\n",
            "Requirement already satisfied: urllib3>=1.25 in /usr/local/lib/python3.10/dist-packages (from dulwich<0.22.0,>=0.20.0->datapane) (1.26.16)\n",
            "Collecting orderedmultidict>=1.0.1 (from furl<3.0.0,>=2.0.0->datapane)\n",
            "  Downloading orderedmultidict-1.0.1-py2.py3-none-any.whl (11 kB)\n",
            "Requirement already satisfied: attrs in /usr/local/lib/python3.10/dist-packages (from glom<24.0.0,>=22.1.0->datapane) (23.1.0)\n",
            "Collecting face==20.1.1 (from glom<24.0.0,>=22.1.0->datapane)\n",
            "  Downloading face-20.1.1-py3-none-any.whl (51 kB)\n",
            "\u001b[2K     \u001b[90m━━━━━━━━━━━━━━━━━━━━━━━━━━━━━━━━━━━━━━━━\u001b[0m \u001b[32m51.1/51.1 kB\u001b[0m \u001b[31m4.5 MB/s\u001b[0m eta \u001b[36m0:00:00\u001b[0m\n",
            "\u001b[?25hRequirement already satisfied: ipykernel in /usr/local/lib/python3.10/dist-packages (from ipynbname<2022.0.0,>=2021.3.2->datapane) (5.5.6)\n",
            "Requirement already satisfied: pyrsistent!=0.17.0,!=0.17.1,!=0.17.2,>=0.14.0 in /usr/local/lib/python3.10/dist-packages (from jsonschema<5.0.0,>=3.2.0->datapane) (0.19.3)\n",
            "Requirement already satisfied: beautifulsoup4 in /usr/local/lib/python3.10/dist-packages (from nbconvert>=5.6.1->datapane) (4.11.2)\n",
            "Requirement already satisfied: bleach in /usr/local/lib/python3.10/dist-packages (from nbconvert>=5.6.1->datapane) (6.0.0)\n",
            "Requirement already satisfied: defusedxml in /usr/local/lib/python3.10/dist-packages (from nbconvert>=5.6.1->datapane) (0.7.1)\n",
            "Requirement already satisfied: jupyter-core>=4.7 in /usr/local/lib/python3.10/dist-packages (from nbconvert>=5.6.1->datapane) (5.3.1)\n",
            "Requirement already satisfied: jupyterlab-pygments in /usr/local/lib/python3.10/dist-packages (from nbconvert>=5.6.1->datapane) (0.2.2)\n",
            "Requirement already satisfied: MarkupSafe>=2.0 in /usr/local/lib/python3.10/dist-packages (from nbconvert>=5.6.1->datapane) (2.1.3)\n",
            "Requirement already satisfied: mistune<2,>=0.8.1 in /usr/local/lib/python3.10/dist-packages (from nbconvert>=5.6.1->datapane) (0.8.4)\n",
            "Requirement already satisfied: nbclient>=0.5.0 in /usr/local/lib/python3.10/dist-packages (from nbconvert>=5.6.1->datapane) (0.8.0)\n",
            "Requirement already satisfied: nbformat>=5.1 in /usr/local/lib/python3.10/dist-packages (from nbconvert>=5.6.1->datapane) (5.9.1)\n",
            "Requirement already satisfied: pandocfilters>=1.4.1 in /usr/local/lib/python3.10/dist-packages (from nbconvert>=5.6.1->datapane) (1.5.0)\n",
            "Requirement already satisfied: pygments>=2.4.1 in /usr/local/lib/python3.10/dist-packages (from nbconvert>=5.6.1->datapane) (2.14.0)\n",
            "Requirement already satisfied: tinycss2 in /usr/local/lib/python3.10/dist-packages (from nbconvert>=5.6.1->datapane) (1.2.1)\n",
            "Requirement already satisfied: traitlets>=5.0 in /usr/local/lib/python3.10/dist-packages (from nbconvert>=5.6.1->datapane) (5.7.1)\n",
            "Requirement already satisfied: python-dateutil>=2.8.1 in /usr/local/lib/python3.10/dist-packages (from pandas<2.0.0,>=1.1.0->datapane) (2.8.2)\n",
            "Requirement already satisfied: pytz>=2020.1 in /usr/local/lib/python3.10/dist-packages (from pandas<2.0.0,>=1.1.0->datapane) (2022.7.1)\n",
            "Collecting monotonic>=1.5 (from posthog<3.0.0,>=1.4.0->datapane)\n",
            "  Downloading monotonic-1.6-py2.py3-none-any.whl (8.2 kB)\n",
            "Collecting backoff>=1.10.0 (from posthog<3.0.0,>=1.4.0->datapane)\n",
            "  Downloading backoff-2.2.1-py3-none-any.whl (15 kB)\n",
            "Requirement already satisfied: certifi>=2017.4.17 in /usr/local/lib/python3.10/dist-packages (from requests<3.0.0,>=2.19.0->datapane) (2023.5.7)\n",
            "Requirement already satisfied: charset-normalizer~=2.0.0 in /usr/local/lib/python3.10/dist-packages (from requests<3.0.0,>=2.19.0->datapane) (2.0.12)\n",
            "Requirement already satisfied: idna<4,>=2.5 in /usr/local/lib/python3.10/dist-packages (from requests<3.0.0,>=2.19.0->datapane) (3.4)\n",
            "Requirement already satisfied: platformdirs>=2.5 in /usr/local/lib/python3.10/dist-packages (from jupyter-core>=4.7->nbconvert>=5.6.1->datapane) (3.8.1)\n",
            "Requirement already satisfied: jupyter-client>=6.1.12 in /usr/local/lib/python3.10/dist-packages (from nbclient>=0.5.0->nbconvert>=5.6.1->datapane) (6.1.12)\n",
            "Requirement already satisfied: fastjsonschema in /usr/local/lib/python3.10/dist-packages (from nbformat>=5.1->nbconvert>=5.6.1->datapane) (2.17.1)\n",
            "Requirement already satisfied: soupsieve>1.2 in /usr/local/lib/python3.10/dist-packages (from beautifulsoup4->nbconvert>=5.6.1->datapane) (2.4.1)\n",
            "Requirement already satisfied: webencodings in /usr/local/lib/python3.10/dist-packages (from bleach->nbconvert>=5.6.1->datapane) (0.5.1)\n",
            "Requirement already satisfied: ipython-genutils in /usr/local/lib/python3.10/dist-packages (from ipykernel->ipynbname<2022.0.0,>=2021.3.2->datapane) (0.2.0)\n",
            "Requirement already satisfied: ipython>=5.0.0 in /usr/local/lib/python3.10/dist-packages (from ipykernel->ipynbname<2022.0.0,>=2021.3.2->datapane) (7.34.0)\n",
            "Requirement already satisfied: tornado>=4.2 in /usr/local/lib/python3.10/dist-packages (from ipykernel->ipynbname<2022.0.0,>=2021.3.2->datapane) (6.3.1)\n",
            "Requirement already satisfied: setuptools>=18.5 in /usr/local/lib/python3.10/dist-packages (from ipython>=5.0.0->ipykernel->ipynbname<2022.0.0,>=2021.3.2->datapane) (67.7.2)\n",
            "Collecting jedi>=0.16 (from ipython>=5.0.0->ipykernel->ipynbname<2022.0.0,>=2021.3.2->datapane)\n",
            "  Downloading jedi-0.18.2-py2.py3-none-any.whl (1.6 MB)\n",
            "\u001b[2K     \u001b[90m━━━━━━━━━━━━━━━━━━━━━━━━━━━━━━━━━━━━━━━━\u001b[0m \u001b[32m1.6/1.6 MB\u001b[0m \u001b[31m41.0 MB/s\u001b[0m eta \u001b[36m0:00:00\u001b[0m\n",
            "\u001b[?25hRequirement already satisfied: decorator in /usr/local/lib/python3.10/dist-packages (from ipython>=5.0.0->ipykernel->ipynbname<2022.0.0,>=2021.3.2->datapane) (4.4.2)\n",
            "Requirement already satisfied: pickleshare in /usr/local/lib/python3.10/dist-packages (from ipython>=5.0.0->ipykernel->ipynbname<2022.0.0,>=2021.3.2->datapane) (0.7.5)\n",
            "Requirement already satisfied: prompt-toolkit!=3.0.0,!=3.0.1,<3.1.0,>=2.0.0 in /usr/local/lib/python3.10/dist-packages (from ipython>=5.0.0->ipykernel->ipynbname<2022.0.0,>=2021.3.2->datapane) (3.0.39)\n",
            "Requirement already satisfied: backcall in /usr/local/lib/python3.10/dist-packages (from ipython>=5.0.0->ipykernel->ipynbname<2022.0.0,>=2021.3.2->datapane) (0.2.0)\n",
            "Requirement already satisfied: matplotlib-inline in /usr/local/lib/python3.10/dist-packages (from ipython>=5.0.0->ipykernel->ipynbname<2022.0.0,>=2021.3.2->datapane) (0.1.6)\n",
            "Requirement already satisfied: pexpect>4.3 in /usr/local/lib/python3.10/dist-packages (from ipython>=5.0.0->ipykernel->ipynbname<2022.0.0,>=2021.3.2->datapane) (4.8.0)\n",
            "Requirement already satisfied: pyzmq>=13 in /usr/local/lib/python3.10/dist-packages (from jupyter-client>=6.1.12->nbclient>=0.5.0->nbconvert>=5.6.1->datapane) (23.2.1)\n",
            "Requirement already satisfied: parso<0.9.0,>=0.8.0 in /usr/local/lib/python3.10/dist-packages (from jedi>=0.16->ipython>=5.0.0->ipykernel->ipynbname<2022.0.0,>=2021.3.2->datapane) (0.8.3)\n",
            "Requirement already satisfied: ptyprocess>=0.5 in /usr/local/lib/python3.10/dist-packages (from pexpect>4.3->ipython>=5.0.0->ipykernel->ipynbname<2022.0.0,>=2021.3.2->datapane) (0.7.0)\n",
            "Requirement already satisfied: wcwidth in /usr/local/lib/python3.10/dist-packages (from prompt-toolkit!=3.0.0,!=3.0.1,<3.1.0,>=2.0.0->ipython>=5.0.0->ipykernel->ipynbname<2022.0.0,>=2021.3.2->datapane) (0.2.6)\n",
            "Building wheels for collected packages: micawber, pyngrok\n",
            "  Building wheel for micawber (setup.py) ... \u001b[?25l\u001b[?25hdone\n",
            "  Created wheel for micawber: filename=micawber-0.5.5-py3-none-any.whl size=22435 sha256=38fca20ff46ed4fec20cce64c420e7e9e694eb37828acf0eee8cd64762fab530\n",
            "  Stored in directory: /root/.cache/pip/wheels/31/3a/1f/bbd88c767423821f2fe497c0ada47581292f96419b56d689c0\n",
            "  Building wheel for pyngrok (setup.py) ... \u001b[?25l\u001b[?25hdone\n",
            "  Created wheel for pyngrok: filename=pyngrok-5.2.3-py3-none-any.whl size=19865 sha256=a0eb9726b02d6a3e32f9e5f75118562c952a49cc064cbc5c9ca0c8b23b2b7cb2\n",
            "  Stored in directory: /root/.cache/pip/wheels/c6/d1/b9/4c826e195102311356d73264fd9d6776699167585e1f5e2c61\n",
            "Successfully built micawber pyngrok\n",
            "Installing collected packages: monotonic, micawber, click-spinner, boltons, pyngrok, orderedmultidict, multimethod, jedi, jaraco.functools, importlib_resources, face, dulwich, dominate, datacommons, dacite, colorlog, backoff, requests-toolbelt, posthog, glom, furl, cheroot, datacommons-pandas, ipynbname, datapane\n",
            "  Attempting uninstall: importlib_resources\n",
            "    Found existing installation: importlib-resources 6.0.0\n",
            "    Uninstalling importlib-resources-6.0.0:\n",
            "      Successfully uninstalled importlib-resources-6.0.0\n",
            "Successfully installed backoff-2.2.1 boltons-21.0.0 cheroot-9.0.0 click-spinner-0.1.10 colorlog-6.7.0 dacite-1.8.1 datacommons-1.4.3 datacommons-pandas-0.0.3 datapane-0.16.5 dominate-2.8.0 dulwich-0.21.5 face-20.1.1 furl-2.1.3 glom-23.3.0 importlib_resources-5.13.0 ipynbname-2021.3.2 jaraco.functools-3.8.0 jedi-0.18.2 micawber-0.5.5 monotonic-1.6 multimethod-1.9.1 orderedmultidict-1.0.1 posthog-2.5.0 pyngrok-5.2.3 requests-toolbelt-1.0.0\n"
          ]
        }
      ],
      "source": [
        "pip install datapane"
      ]
    },
    {
      "cell_type": "code",
      "source": [
        "import datapane as dp\n",
        "import pandas as pd\n",
        "\n",
        "df = pd.DataFrame({\n",
        "  'integer_column': [0, 1, 2, 3, 4],\n",
        "  'float_column': [0.1, 0.2, 0.3, 0.4, 0.5],\n",
        "  'string_column': ['red', 'green', 'yellow', 'blue', 'black'],\n",
        "  'boolean_column': [True, False, True, False, True]\n",
        "})\n",
        "\n",
        "datapane_app = dp.App(dp.DataTable(df))\n",
        "datapane_app.save('table_example.html')"
      ],
      "metadata": {
        "colab": {
          "base_uri": "https://localhost:8080/",
          "height": 46
        },
        "id": "Imaguhh0HSJi",
        "outputId": "6fe19132-e9fa-4f76-eb61-d838fac978cc"
      },
      "execution_count": 2,
      "outputs": [
        {
          "output_type": "display_data",
          "data": {
            "text/plain": [
              "<IPython.core.display.Markdown object>"
            ],
            "text/markdown": "App saved to ./table_example.html"
          },
          "metadata": {}
        }
      ]
    },
    {
      "cell_type": "code",
      "source": [
        "import datapane as dp\n",
        "import plotly.express as px\n",
        "\n",
        "plotly_plot = px.bar(x=range(5), y=range(5), title='Example bar plot')\n",
        "datapane_app = dp.App(dp.Plot(plotly_plot))\n",
        "datapane_app.save('plot_example.html')"
      ],
      "metadata": {
        "colab": {
          "base_uri": "https://localhost:8080/",
          "height": 46
        },
        "id": "AO3VsmgVHTGu",
        "outputId": "92e8082f-62bb-420e-8185-08f98e2bf24e"
      },
      "execution_count": 3,
      "outputs": [
        {
          "output_type": "display_data",
          "data": {
            "text/plain": [
              "<IPython.core.display.Markdown object>"
            ],
            "text/markdown": "App saved to ./plot_example.html"
          },
          "metadata": {}
        }
      ]
    },
    {
      "cell_type": "code",
      "source": [
        "import datapane as dp\n",
        "\n",
        "datapane_app = dp.App(\n",
        "    dp.Text('# Some markdown title'),\n",
        "    dp.Text('### Some markdown subtitle'),\n",
        "    dp.Text(\"* Bullet point 1\"),\n",
        "    dp.Text('* Bullet point 2'),\n",
        "    dp.Text('Simple text')\n",
        ")\n",
        "datapane_app.save('markdown_example.html')"
      ],
      "metadata": {
        "colab": {
          "base_uri": "https://localhost:8080/",
          "height": 46
        },
        "id": "tc11fJYAHWFF",
        "outputId": "3f3a02ef-a652-4c1d-c805-816b61b55b11"
      },
      "execution_count": 4,
      "outputs": [
        {
          "output_type": "display_data",
          "data": {
            "text/plain": [
              "<IPython.core.display.Markdown object>"
            ],
            "text/markdown": "App saved to ./markdown_example.html"
          },
          "metadata": {}
        }
      ]
    },
    {
      "cell_type": "code",
      "source": [
        "import datapane as dp\n",
        "\n",
        "datapane_app = dp.App(\n",
        "    dp.BigNumber(\n",
        "        heading=\"Percentage points\",\n",
        "        value=\"84%\",\n",
        "        change=\"2%\",\n",
        "        is_upward_change=False,\n",
        "    )\n",
        ")\n",
        "datapane_app.save('kpi_example.html')"
      ],
      "metadata": {
        "colab": {
          "base_uri": "https://localhost:8080/",
          "height": 46
        },
        "id": "jWQ-M5_4HXOi",
        "outputId": "f2cd3b0f-1c21-4e5c-b596-af161f3adcd1"
      },
      "execution_count": 5,
      "outputs": [
        {
          "output_type": "display_data",
          "data": {
            "text/plain": [
              "<IPython.core.display.Markdown object>"
            ],
            "text/markdown": "App saved to ./kpi_example.html"
          },
          "metadata": {}
        }
      ]
    },
    {
      "cell_type": "code",
      "source": [
        "import datapane as dp\n",
        "\n",
        "datapane_app = dp.App(\n",
        "    dp.Page(\n",
        "        dp.Text('First page content'),\n",
        "        title='Page1'\n",
        "    ),\n",
        "    dp.Page(\n",
        "        dp.Text('Second page content'),\n",
        "        title='Page2'\n",
        "    )\n",
        ")\n",
        "datapane_app.save('pages_example.html')"
      ],
      "metadata": {
        "colab": {
          "base_uri": "https://localhost:8080/",
          "height": 46
        },
        "id": "yfO_wrcOHa5Y",
        "outputId": "525200c8-ebed-466f-b6b6-0caae2fcde93"
      },
      "execution_count": 6,
      "outputs": [
        {
          "output_type": "display_data",
          "data": {
            "text/plain": [
              "<IPython.core.display.Markdown object>"
            ],
            "text/markdown": "App saved to ./pages_example.html"
          },
          "metadata": {}
        }
      ]
    },
    {
      "cell_type": "code",
      "source": [
        "import datapane as dp\n",
        "import pandas as pd\n",
        "import plotly.express as px\n",
        "\n",
        "df_page1 = pd.DataFrame({\n",
        "    'col1': [1, 2, 3, 4, 5],\n",
        "    'col2': [6, 7, 8, 9, 10]\n",
        "})\n",
        "\n",
        "plot_page1 = px.bar(x=range(5), y=range(5), title='Example Bar Plot')\n",
        "\n",
        "datapane_app = dp.App(\n",
        "    dp.Page(\n",
        "        dp.Text('# Page 1'),\n",
        "        dp.Text('In this page I will demonstrate combination of data frames, plots, and Markdown'),\n",
        "        dp.Text('### Table Example'),\n",
        "        dp.DataTable(df_page1),\n",
        "        dp.Text('This is example table. Here I can add comments of any length'),\n",
        "        dp.Text('### Plot Example'),\n",
        "        dp.Plot(plot_page1),\n",
        "        title='Page1'\n",
        "    ),\n",
        "    dp.Page(\n",
        "        dp.Text('In this page I will focus on KPIs and aligning multiple elements in one row'),\n",
        "        dp.Group(\n",
        "            dp.BigNumber(\n",
        "                heading=\"Percentage points\",\n",
        "                value=\"84%\",\n",
        "                change=\"2%\",\n",
        "                is_upward_change=False,\n",
        "            ),\n",
        "            dp.BigNumber(\n",
        "                heading=\"Points\",\n",
        "                value=\"1234\",\n",
        "                change=\"200\",\n",
        "                is_upward_change=True,\n",
        "            ),\n",
        "            columns=2\n",
        "        ),\n",
        "        dp.Group(\n",
        "            dp.Text('My simple text 1'),\n",
        "            dp.Text('My simple text 2'),\n",
        "            dp.Text('My simple text 3'),\n",
        "            columns=3\n",
        "        ),\n",
        "        title='Page2',\n",
        "    )\n",
        ")\n",
        "datapane_app.save('final_example.html')"
      ],
      "metadata": {
        "colab": {
          "base_uri": "https://localhost:8080/",
          "height": 46
        },
        "id": "_eoYg98QHbAA",
        "outputId": "1f9dc92d-76d9-46ff-ab9d-b27e2a49669b"
      },
      "execution_count": 7,
      "outputs": [
        {
          "output_type": "display_data",
          "data": {
            "text/plain": [
              "<IPython.core.display.Markdown object>"
            ],
            "text/markdown": "App saved to ./final_example.html"
          },
          "metadata": {}
        }
      ]
    }
  ]
}