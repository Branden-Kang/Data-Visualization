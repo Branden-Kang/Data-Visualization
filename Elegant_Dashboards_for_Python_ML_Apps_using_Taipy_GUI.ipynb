{
  "nbformat": 4,
  "nbformat_minor": 0,
  "metadata": {
    "colab": {
      "name": "Elegant Dashboards for Python ML Apps using Taipy GUI.ipynb",
      "provenance": [],
      "authorship_tag": "ABX9TyOaZv/eglGwYUSMlxAa6dU8"
    },
    "kernelspec": {
      "name": "python3",
      "display_name": "Python 3"
    },
    "language_info": {
      "name": "python"
    }
  },
  "cells": [
    {
      "cell_type": "markdown",
      "source": [
        "[Reference](https://medium.com/@zaccheussia/elegant-dashboards-for-python-ml-apps-using-taipy-gui-6e3c59d70a1f)"
      ],
      "metadata": {
        "id": "xDyRb5HrcdQb"
      }
    },
    {
      "cell_type": "code",
      "source": [
        "pip install taipy"
      ],
      "metadata": {
        "id": "eJBZkHtJdrpJ"
      },
      "execution_count": 12,
      "outputs": []
    },
    {
      "cell_type": "markdown",
      "source": [
        "# Building Dashboards Using Taipy GUI\n"
      ],
      "metadata": {
        "id": "1vdf64NAcgWV"
      }
    },
    {
      "cell_type": "code",
      "source": [
        "# This script is complete and should run on its own.\n",
        "\n",
        "from taipy.gui import Gui\n",
        "\n",
        "website = \"Medium\"\n",
        "md = \"\"\"\n",
        "# A simple Taipy example\n",
        "Hello <|{website}|>! I'm **bold** and I'm *italicized*!\n",
        "\"\"\"\n",
        "\n",
        "Gui(page=md).run(dark_mode=False)"
      ],
      "metadata": {
        "id": "PJrfW5y4cheS"
      },
      "execution_count": 13,
      "outputs": []
    },
    {
      "cell_type": "code",
      "source": [
        "import pandas as pd\n",
        "\n",
        "penguin_file_url = \"https://raw.githubusercontent.com/allisonhorst/palmerpenguins/master/inst/extdata/penguins.csv\"\n",
        "penguin_df = pd.read_csv(penguin_file_url)\n"
      ],
      "metadata": {
        "id": "GDoWponHcjQI"
      },
      "execution_count": 7,
      "outputs": []
    },
    {
      "cell_type": "code",
      "source": [
        "target_names = list(penguin_df.species.unique()) # [\"Adelie\", \"Gentoo\", \"Chinstrap\"]\n",
        "species = target_names[0] # \"Adelie\"\n",
        "\n",
        "penguin_species_selector = \"\"\"\n",
        "### Penguin species: \n",
        "<|{species}|selector|lov={target_names}|dropdown=True|width=100%|>\n",
        "\"\"\""
      ],
      "metadata": {
        "id": "GE0YgJ4TdIN1"
      },
      "execution_count": 8,
      "outputs": []
    },
    {
      "cell_type": "code",
      "source": [
        "df = penguin_df[penguin_df.species == species]\n",
        "\n",
        "n_penguins_indicator = \"\"\"\n",
        "Selected penguins out of all penguins:  \n",
        "<br />\n",
        "<|{len(df)}|indicator|value={len(df)}|max={len(penguin_df)}|>\n",
        "\"\"\""
      ],
      "metadata": {
        "id": "TTBqi2cGdKHI"
      },
      "execution_count": 9,
      "outputs": []
    },
    {
      "cell_type": "code",
      "source": [
        "chart_properties = {\n",
        "    \"height\": \"35vh\",\n",
        "    \"width\": \"40vw\",\n",
        "    \"mode\": \"markers\",\n",
        "    \"marker\": {\n",
        "        \"size\": 10,\n",
        "        \"color\": \"orange\",\n",
        "        \"line\": {\"width\": 3, \"color\": \"black\"},\n",
        "    },\n",
        "    \"layout\": {\"margin\": {\"t\": 0}},\n",
        "    \"options\": {\"unselected\": {\"marker\": {\"opacity\": 1}}},\n",
        "}\n",
        "\n",
        "chart_1 = \"\"\"\n",
        "**Chart 1:** bill_depth_mm against bill_length_mm \n",
        "<|{df}|chart|x=bill_length_mm|y=bill_depth_mm|properties={chart_properties}|>\n",
        "\"\"\""
      ],
      "metadata": {
        "id": "fSqYHEbVdj2n"
      },
      "execution_count": 10,
      "outputs": []
    },
    {
      "cell_type": "code",
      "source": [
        "# This script is complete and should run on its own.\n",
        "\n",
        "from taipy.gui import Gui\n",
        "\n",
        "md = \"\"\"\n",
        "# Using layouts\n",
        "<|layout.start|columns=1 6|>\n",
        "This is the left panel.\n",
        "<|\n",
        "Content here.\n",
        "I have to wrap these in a part because it extends multiple lines.\n",
        "|>\n",
        "<|layout.end|>\n",
        "\"\"\"\n",
        "\n",
        "Gui(page=md).run(dark_mode=False)"
      ],
      "metadata": {
        "id": "G58aPyGcdlXd"
      },
      "execution_count": 11,
      "outputs": []
    },
    {
      "cell_type": "code",
      "source": [
        "# This script is complete and should run on its own.\n",
        "\n",
        "from taipy.gui import Gui\n",
        "import pandas as pd\n",
        "\n",
        "penguin_file_url = \"https://raw.githubusercontent.com/allisonhorst/palmerpenguins/master/inst/extdata/penguins.csv\"\n",
        "penguin_df = pd.read_csv(penguin_file_url)\n",
        "\n",
        "target_names = list(penguin_df.species.unique())\n",
        "species = target_names[0]\n",
        "df = penguin_df[penguin_df.species == species]\n",
        "\n",
        "chart_properties = {\n",
        "    \"height\": \"35vh\",\n",
        "    \"width\": \"40vw\",\n",
        "    \"mode\": \"markers\",\n",
        "    \"marker\": {\n",
        "        \"size\": 10,\n",
        "        \"color\": \"orange\",\n",
        "        \"line\": {\"width\": 3, \"color\": \"black\"},\n",
        "    },\n",
        "    \"layout\": {\"margin\": {\"t\": 0}},\n",
        "    \"options\": {\"unselected\": {\"marker\": {\"opacity\": 1}}},\n",
        "}\n",
        "\n",
        "# dialog pop-up\n",
        "def toggle_table_dialog(state):\n",
        "    state.show_table_dialog = not state.show_table_dialog\n",
        "\n",
        "\n",
        "show_table_dialog = False\n",
        "\n",
        "md = \"\"\"\n",
        "<|toggle|theme|>\n",
        "\n",
        "# Taipy Demo - [palmerpenguins](https://github.com/allisonhorst/palmerpenguins) 🐧\n",
        "\n",
        "------------------------------\n",
        "\n",
        "<|layout.start|columns=1 3 3|gap=1.5rem|>\n",
        "\n",
        "<|part.start|>\n",
        "\n",
        "## Selections\n",
        "\n",
        "### Penguin species: \n",
        "\n",
        "<|{species}|selector|lov={target_names}|dropdown|width=100%|>\n",
        "\n",
        "------------------------------\n",
        "\n",
        "Selected penguins out of all penguins:  \n",
        "<br />\n",
        "<|{len(df)}|indicator|value={len(df)}|max={len(penguin_df)}|>\n",
        "\n",
        "------------------------------\n",
        "\n",
        "<|Show Raw Data|button|on_action=toggle_table_dialog|>\n",
        "\n",
        "<|{show_table_dialog}|dialog|on_action=toggle_table_dialog|width=90vw|centre|labels={[\"Cancel\"]}|\n",
        "\n",
        "<center><|{penguin_df}|table|width=fit-content|height=65vh|></center>\n",
        "\n",
        "|>\n",
        "\n",
        "<|part.end|>\n",
        "\n",
        "<|part.start|>\n",
        "\n",
        "**Chart 1:** bill_depth_mm against bill_length_mm \n",
        "\n",
        "<|{df}|chart|x=bill_length_mm|y=bill_depth_mm|properties={chart_properties}|>\n",
        "\n",
        "**Chart 3:** bill_depth_mm against body_mass_g \n",
        "\n",
        "<|{df}|chart|x=body_mass_g|y=bill_depth_mm|properties={chart_properties}|>\n",
        "\n",
        "<|part.end|>\n",
        "\n",
        "<|part.start|>\n",
        "\n",
        "**Chart 2:** flipper_length_mm against bill_length_mm \n",
        "\n",
        "<|{df}|chart|x=bill_length_mm|y=flipper_length_mm|properties={chart_properties}|>\n",
        "\n",
        "**Chart 4:** flipper_length_mm against body_mass_g\n",
        "\n",
        "<|{df}|chart|x=body_mass_g|y=flipper_length_mm|properties={chart_properties}|>\n",
        "\n",
        "<|part.end|>\n",
        "\n",
        "<|layout.end|>\n",
        "\"\"\"\n",
        "\n",
        "\n",
        "def on_change(state, var_name, var_value):\n",
        "    print(var_name, type(var_value), var_value)\n",
        "    if var_name == \"species\":\n",
        "        state.df = penguin_df[penguin_df.species == var_value]\n",
        "\n",
        "\n",
        "if __name__ == \"__main__\":\n",
        "    gui = Gui(page=md)\n",
        "    gui.on_change = on_change\n",
        "    gui.run(title=\"Palmer Penguins 🐧\", dark_mode=False)"
      ],
      "metadata": {
        "id": "gJcr6U6NdxvC"
      },
      "execution_count": 14,
      "outputs": []
    }
  ]
}