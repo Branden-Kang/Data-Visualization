{
  "nbformat": 4,
  "nbformat_minor": 0,
  "metadata": {
    "colab": {
      "provenance": [],
      "authorship_tag": "ABX9TyONAiDEe2CixCB6NHW0LI+L"
    },
    "kernelspec": {
      "name": "python3",
      "display_name": "Python 3"
    },
    "language_info": {
      "name": "python"
    }
  },
  "cells": [
    {
      "cell_type": "markdown",
      "source": [
        "[Reference](https://medium.com/@nick-tan/want-to-get-away-from-the-standard-looks-of-the-charts-or-graphs-generated-by-matplotlib-and-cbdd7baaeae)"
      ],
      "metadata": {
        "id": "iRcRregwZKjc"
      }
    },
    {
      "cell_type": "code",
      "execution_count": 1,
      "metadata": {
        "colab": {
          "base_uri": "https://localhost:8080/"
        },
        "id": "ihBNmNyHYoKz",
        "outputId": "52c0c729-a830-4d7a-b65c-f3c5324ac876"
      },
      "outputs": [
        {
          "output_type": "stream",
          "name": "stdout",
          "text": [
            "Looking in indexes: https://pypi.org/simple, https://us-python.pkg.dev/colab-wheels/public/simple/\n",
            "Collecting py-roughviz\n",
            "  Downloading py-roughviz-0.5.1.tar.gz (473 kB)\n",
            "\u001b[2K     \u001b[90m━━━━━━━━━━━━━━━━━━━━━━━━━━━━━━━━━━━━━━━\u001b[0m \u001b[32m473.1/473.1 kB\u001b[0m \u001b[31m9.3 MB/s\u001b[0m eta \u001b[36m0:00:00\u001b[0m\n",
            "\u001b[?25h  Preparing metadata (setup.py) ... \u001b[?25l\u001b[?25hdone\n",
            "Requirement already satisfied: jinja2 in /usr/local/lib/python3.9/dist-packages (from py-roughviz) (3.1.2)\n",
            "Requirement already satisfied: ipython in /usr/local/lib/python3.9/dist-packages (from py-roughviz) (7.34.0)\n",
            "Requirement already satisfied: pandas in /usr/local/lib/python3.9/dist-packages (from py-roughviz) (1.5.3)\n",
            "Collecting jedi>=0.16\n",
            "  Downloading jedi-0.18.2-py2.py3-none-any.whl (1.6 MB)\n",
            "\u001b[2K     \u001b[90m━━━━━━━━━━━━━━━━━━━━━━━━━━━━━━━━━━━━━━━━\u001b[0m \u001b[32m1.6/1.6 MB\u001b[0m \u001b[31m41.5 MB/s\u001b[0m eta \u001b[36m0:00:00\u001b[0m\n",
            "\u001b[?25hRequirement already satisfied: backcall in /usr/local/lib/python3.9/dist-packages (from ipython->py-roughviz) (0.2.0)\n",
            "Requirement already satisfied: matplotlib-inline in /usr/local/lib/python3.9/dist-packages (from ipython->py-roughviz) (0.1.6)\n",
            "Requirement already satisfied: decorator in /usr/local/lib/python3.9/dist-packages (from ipython->py-roughviz) (4.4.2)\n",
            "Requirement already satisfied: pygments in /usr/local/lib/python3.9/dist-packages (from ipython->py-roughviz) (2.14.0)\n",
            "Requirement already satisfied: pexpect>4.3 in /usr/local/lib/python3.9/dist-packages (from ipython->py-roughviz) (4.8.0)\n",
            "Requirement already satisfied: traitlets>=4.2 in /usr/local/lib/python3.9/dist-packages (from ipython->py-roughviz) (5.7.1)\n",
            "Requirement already satisfied: prompt-toolkit!=3.0.0,!=3.0.1,<3.1.0,>=2.0.0 in /usr/local/lib/python3.9/dist-packages (from ipython->py-roughviz) (3.0.38)\n",
            "Requirement already satisfied: pickleshare in /usr/local/lib/python3.9/dist-packages (from ipython->py-roughviz) (0.7.5)\n",
            "Requirement already satisfied: setuptools>=18.5 in /usr/local/lib/python3.9/dist-packages (from ipython->py-roughviz) (67.6.1)\n",
            "Requirement already satisfied: MarkupSafe>=2.0 in /usr/local/lib/python3.9/dist-packages (from jinja2->py-roughviz) (2.1.2)\n",
            "Requirement already satisfied: pytz>=2020.1 in /usr/local/lib/python3.9/dist-packages (from pandas->py-roughviz) (2022.7.1)\n",
            "Requirement already satisfied: python-dateutil>=2.8.1 in /usr/local/lib/python3.9/dist-packages (from pandas->py-roughviz) (2.8.2)\n",
            "Requirement already satisfied: numpy>=1.20.3 in /usr/local/lib/python3.9/dist-packages (from pandas->py-roughviz) (1.22.4)\n",
            "Requirement already satisfied: parso<0.9.0,>=0.8.0 in /usr/local/lib/python3.9/dist-packages (from jedi>=0.16->ipython->py-roughviz) (0.8.3)\n",
            "Requirement already satisfied: ptyprocess>=0.5 in /usr/local/lib/python3.9/dist-packages (from pexpect>4.3->ipython->py-roughviz) (0.7.0)\n",
            "Requirement already satisfied: wcwidth in /usr/local/lib/python3.9/dist-packages (from prompt-toolkit!=3.0.0,!=3.0.1,<3.1.0,>=2.0.0->ipython->py-roughviz) (0.2.6)\n",
            "Requirement already satisfied: six>=1.5 in /usr/local/lib/python3.9/dist-packages (from python-dateutil>=2.8.1->pandas->py-roughviz) (1.16.0)\n",
            "Building wheels for collected packages: py-roughviz\n",
            "  Building wheel for py-roughviz (setup.py) ... \u001b[?25l\u001b[?25hdone\n",
            "  Created wheel for py-roughviz: filename=py_roughviz-0.5.1-py3-none-any.whl size=14112 sha256=6e60a84a3f2b3dfcbc1e51932a31e820e96b1abb98aaa8578312b71963ab9758\n",
            "  Stored in directory: /root/.cache/pip/wheels/0b/43/63/621ed3fd187646df411620c319b2a088e6c6a304e105bb8ead\n",
            "Successfully built py-roughviz\n",
            "Installing collected packages: jedi, py-roughviz\n",
            "Successfully installed jedi-0.18.2 py-roughviz-0.5.1\n"
          ]
        }
      ],
      "source": [
        "pip install py-roughviz"
      ]
    },
    {
      "cell_type": "code",
      "source": [
        "from roughviz.charts import Bar\n",
        "\n",
        "data = {\n",
        "    \"labels\": [\"North\", \"South\", \"East\", \"West\"],\n",
        "    \"values\": [10, 5, 8, 3]\n",
        "}\n",
        "\n",
        "bar = Bar(data=data, title=\"Regions\", title_fontsize=3)\n",
        "bar.set_xlabel(\"Region\", fontsize=2)\n",
        "bar.set_ylabel(\"Number\", fontsize=2)\n",
        "\n",
        "bar.show()"
      ],
      "metadata": {
        "colab": {
          "base_uri": "https://localhost:8080/",
          "height": 17
        },
        "id": "EyIQLe4EZMYl",
        "outputId": "acf85621-754b-4724-b0ff-859850f02017"
      },
      "execution_count": 2,
      "outputs": [
        {
          "output_type": "display_data",
          "data": {
            "text/plain": [
              "<IPython.core.display.HTML object>"
            ],
            "text/html": [
              "<html>\n",
              "<body>\n",
              "\n",
              "<div id=1059303ce5a246e0b0dfb83c0a16e4c1></div>\n",
              "\n",
              "<script src=\"https://requirejs.org/docs/release/2.3.6/minified/require.js\"></script>\n",
              "<script>\n",
              "require.config({paths: {roughViz: \"https://unpkg.com/rough-viz@1.0.5/dist/roughviz.min\"}});\n",
              "require([\"roughViz\"], function(roughViz) {\n",
              "\n",
              "new roughViz.Bar(\n",
              "  {\"labels\": null, \"values\": null, \"data\": {\"labels\": [\"North\", \"South\", \"East\", \"West\"], \"values\": [10, 5, 8, 3]}, \"title\": \"Regions\", \"margin\": {\"top\": 50, \"right\": 20, \"bottom\": 70, \"left\": 100}, \"width\": 800, \"height\": 600, \"interactive\": true, \"bowing\": 0.2, \"fillStyle\": \"cross-hatch\", \"fillWeight\": 0, \"strokeWidth\": 1, \"roughness\": 1, \"tooltipFontSize\": \"0.95rem\", \"titleFontSize\": \"3rem\", \"xLabel\": \"Region\", \"yLabel\": \"Number\", \"axisFontSize\": \"1.5rem\", \"labelFontSize\": \"2rem\", \"color\": \"skyblue\", \"axisRoughness\": 0.5, \"axisStrokeWidth\": 0.5, \"highlight\": \"green\", \"innerStrokeWidth\": 0, \"padding\": 0.1, \"simplification\": 0.2, \"stroke\": \"black\", \"element\": \"#1059303ce5a246e0b0dfb83c0a16e4c1\"}\n",
              ");\n",
              "\tvar text = document.querySelectorAll(\".xAxis1059303ce5a246e0b0dfb83c0a16e4c1 .tick text\");\n",
              "\tvar i;\n",
              "\tfor (i = 0; i < text.length; i++) {\n",
              "\t\ttext[i].setAttribute(\"transform\", \"rotate(0)\");\n",
              "\t\ttext[i].style.textAnchor=\"middle\";\n",
              "\t}\n",
              "\tdocument.getElementById(\"1059303ce5a246e0b0dfb83c0a16e4c1\").style.height = \"px\";\n",
              "\tdocument.querySelector(\"#1059303ce5a246e0b0dfb83c0a16e4c1 svg\").style.height = \"px\";\n",
              "});\n",
              "</script>\n",
              "\n",
              "</body>\n",
              "</html>"
            ]
          },
          "metadata": {}
        }
      ]
    },
    {
      "cell_type": "code",
      "source": [
        "pip install cutecharts"
      ],
      "metadata": {
        "colab": {
          "base_uri": "https://localhost:8080/"
        },
        "id": "Z-ntb9UIZNQ3",
        "outputId": "813491bc-fbc7-4779-bad0-f60a0d06e788"
      },
      "execution_count": 3,
      "outputs": [
        {
          "output_type": "stream",
          "name": "stdout",
          "text": [
            "Looking in indexes: https://pypi.org/simple, https://us-python.pkg.dev/colab-wheels/public/simple/\n",
            "Collecting cutecharts\n",
            "  Downloading cutecharts-1.2.0-py3-none-any.whl (17 kB)\n",
            "Requirement already satisfied: jinja2 in /usr/local/lib/python3.9/dist-packages (from cutecharts) (3.1.2)\n",
            "Requirement already satisfied: MarkupSafe>=2.0 in /usr/local/lib/python3.9/dist-packages (from jinja2->cutecharts) (2.1.2)\n",
            "Installing collected packages: cutecharts\n",
            "Successfully installed cutecharts-1.2.0\n"
          ]
        }
      ]
    },
    {
      "cell_type": "code",
      "source": [
        "from cutecharts.charts import Line\n",
        "\n",
        "\n",
        "chart = Line(\"Example\")\n",
        "chart.set_options(\n",
        "    labels=[\"A\", \"B\", \"C\", \"D\", \"E\", \"F\", \"G\"], \n",
        "    x_label=\"I'm xlabel\", \n",
        "    y_label=\"I'm ylabel\",\n",
        ")\n",
        "chart.add_series(\"series-A\", [57, 134, 137, 129, 145, 60, 49])\n",
        "chart.add_series(\"series-B\", [114, 55, 27, 101, 125, 27, 105])\n",
        "chart.render()"
      ],
      "metadata": {
        "colab": {
          "base_uri": "https://localhost:8080/",
          "height": 154
        },
        "id": "4EyuxMKwZP5s",
        "outputId": "fcdc9def-2cb2-4d2c-a28b-13f8011ca04b"
      },
      "execution_count": 4,
      "outputs": [
        {
          "output_type": "execute_result",
          "data": {
            "text/plain": [
              "'\\n<!DOCTYPE html>\\n<html lang=\"en\">\\n<head>\\n    <meta charset=\"UTF-8\">\\n        <script type=\"text/javascript\" src=\"https://cdn.jsdelivr.net/npm/chart.xkcd@1.1/dist/chart.xkcd.min.js\"></script>\\n</head>\\n<body>\\n    <div id=\"018d6c6431174f60805f0e1933caaa9e\" class=\"chart-container\" style=\"width: 800px\">\\n        <svg id=\"chart_018d6c6431174f60805f0e1933caaa9e\"></svg>\\n    </div>\\n    <script>\\n        const svg_018d6c6431174f60805f0e1933caaa9e = document.querySelector(\\'#chart_018d6c6431174f60805f0e1933caaa9e\\')\\n        const chart_018d6c6431174f60805f0e1933caaa9e = new chartXkcd.Line(svg_018d6c6431174f60805f0e1933caaa9e, {\"title\": \"Example\", \"data\": {\"datasets\": [{\"label\": \"series-A\", \"data\": [57, 134, 137, 129, 145, 60, 49]}, {\"label\": \"series-B\", \"data\": [114, 55, 27, 101, 125, 27, 105]}], \"labels\": [\"A\", \"B\", \"C\", \"D\", \"E\", \"F\", \"G\"]}, \"xLabel\": \"I\\'m xlabel\", \"yLabel\": \"I\\'m ylabel\", \"options\": {\"yTickCount\": 3, \"legendPosition\": 1}});\\n    </script>\\n</body>\\n</html>\\n'"
            ],
            "application/vnd.google.colaboratory.intrinsic+json": {
              "type": "string"
            }
          },
          "metadata": {},
          "execution_count": 4
        }
      ]
    },
    {
      "cell_type": "code",
      "source": [
        "pip install pygal"
      ],
      "metadata": {
        "colab": {
          "base_uri": "https://localhost:8080/"
        },
        "id": "_UFcKQ7lZZj0",
        "outputId": "a59b6c13-15b3-4b6d-a3e1-96f81a10ac41"
      },
      "execution_count": 5,
      "outputs": [
        {
          "output_type": "stream",
          "name": "stdout",
          "text": [
            "Looking in indexes: https://pypi.org/simple, https://us-python.pkg.dev/colab-wheels/public/simple/\n",
            "Collecting pygal\n",
            "  Downloading pygal-3.0.0-py2.py3-none-any.whl (129 kB)\n",
            "\u001b[2K     \u001b[90m━━━━━━━━━━━━━━━━━━━━━━━━━━━━━━━━━━━━━━━\u001b[0m \u001b[32m129.4/129.4 kB\u001b[0m \u001b[31m7.0 MB/s\u001b[0m eta \u001b[36m0:00:00\u001b[0m\n",
            "\u001b[?25hInstalling collected packages: pygal\n",
            "Successfully installed pygal-3.0.0\n"
          ]
        }
      ]
    },
    {
      "cell_type": "code",
      "source": [
        "import pygal"
      ],
      "metadata": {
        "id": "056TnzqEZgWi"
      },
      "execution_count": 6,
      "outputs": []
    },
    {
      "cell_type": "code",
      "source": [
        "line_chart = pygal.Line()\n",
        "line_chart.title = 'Browser usage evolution (in %)'\n",
        "line_chart.x_labels = map(str, range(2002, 2013))\n",
        "line_chart.add('Firefox', [None, None,    0, 16.6,   25,   31, 36.4, 45.5, 46.3, 42.8, 37.1])\n",
        "line_chart.add('Chrome',  [None, None, None, None, None, None,    0,  3.9, 10.8, 23.8, 35.3])\n",
        "line_chart.add('IE',      [85.8, 84.6, 84.7, 74.5,   66, 58.6, 54.7, 44.8, 36.2, 26.6, 20.1])\n",
        "line_chart.add('Others',  [14.2, 15.4, 15.3,  8.9,    9, 10.4,  8.9,  5.8,  6.7,  6.8,  7.5])\n",
        "line_chart.render()"
      ],
      "metadata": {
        "colab": {
          "base_uri": "https://localhost:8080/"
        },
        "id": "bWRMvnfQZdL8",
        "outputId": "0d710384-5e7a-4b31-dcae-22327ca77552"
      },
      "execution_count": 7,
      "outputs": [
        {
          "output_type": "execute_result",
          "data": {
            "text/plain": [
              "b'<?xml version=\\'1.0\\' encoding=\\'utf-8\\'?>\\n<svg xmlns=\"http://www.w3.org/2000/svg\" xmlns:xlink=\"http://www.w3.org/1999/xlink\" id=\"chart-aa5f8e3f-2871-4ade-9e7c-91518fd4552b\" class=\"pygal-chart\" viewBox=\"0 0 800 600\"><!--Generated with pygal 3.0.0 (lxml) \\xc2\\xa9Kozea 2012-2016 on 2023-04-14--><!--http://pygal.org--><!--http://github.com/Kozea/pygal--><defs><style type=\"text/css\">#chart-aa5f8e3f-2871-4ade-9e7c-91518fd4552b{-webkit-user-select:none;-webkit-font-smoothing:antialiased;font-family:Consolas,\"Liberation Mono\",Menlo,Courier,monospace}#chart-aa5f8e3f-2871-4ade-9e7c-91518fd4552b .title{font-family:Consolas,\"Liberation Mono\",Menlo,Courier,monospace;font-size:16px}#chart-aa5f8e3f-2871-4ade-9e7c-91518fd4552b .legends .legend text{font-family:Consolas,\"Liberation Mono\",Menlo,Courier,monospace;font-size:14px}#chart-aa5f8e3f-2871-4ade-9e7c-91518fd4552b .axis text{font-family:Consolas,\"Liberation Mono\",Menlo,Courier,monospace;font-size:10px}#chart-aa5f8e3f-2871-4ade-9e7c-91518fd4552b .axis text.major{font-family:Consolas,\"Liberation Mono\",Menlo,Courier,monospace;font-size:10px}#chart-aa5f8e3f-2871-4ade-9e7c-91518fd4552b .text-overlay text.value{font-family:Consolas,\"Liberation Mono\",Menlo,Courier,monospace;font-size:16px}#chart-aa5f8e3f-2871-4ade-9e7c-91518fd4552b .text-overlay text.label{font-family:Consolas,\"Liberation Mono\",Menlo,Courier,monospace;font-size:10px}#chart-aa5f8e3f-2871-4ade-9e7c-91518fd4552b .tooltip{font-family:Consolas,\"Liberation Mono\",Menlo,Courier,monospace;font-size:14px}#chart-aa5f8e3f-2871-4ade-9e7c-91518fd4552b text.no_data{font-family:Consolas,\"Liberation Mono\",Menlo,Courier,monospace;font-size:64px}\\n#chart-aa5f8e3f-2871-4ade-9e7c-91518fd4552b{background-color:rgba(249,249,249,1)}#chart-aa5f8e3f-2871-4ade-9e7c-91518fd4552b path,#chart-aa5f8e3f-2871-4ade-9e7c-91518fd4552b line,#chart-aa5f8e3f-2871-4ade-9e7c-91518fd4552b rect,#chart-aa5f8e3f-2871-4ade-9e7c-91518fd4552b circle{-webkit-transition:150ms;-moz-transition:150ms;transition:150ms}#chart-aa5f8e3f-2871-4ade-9e7c-91518fd4552b .graph &gt; .background{fill:rgba(249,249,249,1)}#chart-aa5f8e3f-2871-4ade-9e7c-91518fd4552b .plot &gt; .background{fill:rgba(255,255,255,1)}#chart-aa5f8e3f-2871-4ade-9e7c-91518fd4552b .graph{fill:rgba(0,0,0,.87)}#chart-aa5f8e3f-2871-4ade-9e7c-91518fd4552b text.no_data{fill:rgba(0,0,0,1)}#chart-aa5f8e3f-2871-4ade-9e7c-91518fd4552b .title{fill:rgba(0,0,0,1)}#chart-aa5f8e3f-2871-4ade-9e7c-91518fd4552b .legends .legend text{fill:rgba(0,0,0,.87)}#chart-aa5f8e3f-2871-4ade-9e7c-91518fd4552b .legends .legend:hover text{fill:rgba(0,0,0,1)}#chart-aa5f8e3f-2871-4ade-9e7c-91518fd4552b .axis .line{stroke:rgba(0,0,0,1)}#chart-aa5f8e3f-2871-4ade-9e7c-91518fd4552b .axis .guide.line{stroke:rgba(0,0,0,.54)}#chart-aa5f8e3f-2871-4ade-9e7c-91518fd4552b .axis .major.line{stroke:rgba(0,0,0,.87)}#chart-aa5f8e3f-2871-4ade-9e7c-91518fd4552b .axis text.major{fill:rgba(0,0,0,1)}#chart-aa5f8e3f-2871-4ade-9e7c-91518fd4552b .axis.y .guides:hover .guide.line,#chart-aa5f8e3f-2871-4ade-9e7c-91518fd4552b .line-graph .axis.x .guides:hover .guide.line,#chart-aa5f8e3f-2871-4ade-9e7c-91518fd4552b .stackedline-graph .axis.x .guides:hover .guide.line,#chart-aa5f8e3f-2871-4ade-9e7c-91518fd4552b .xy-graph .axis.x .guides:hover .guide.line{stroke:rgba(0,0,0,1)}#chart-aa5f8e3f-2871-4ade-9e7c-91518fd4552b .axis .guides:hover text{fill:rgba(0,0,0,1)}#chart-aa5f8e3f-2871-4ade-9e7c-91518fd4552b .reactive{fill-opacity:.7;stroke-opacity:.8;stroke-width:1}#chart-aa5f8e3f-2871-4ade-9e7c-91518fd4552b .ci{stroke:rgba(0,0,0,.87)}#chart-aa5f8e3f-2871-4ade-9e7c-91518fd4552b .reactive.active,#chart-aa5f8e3f-2871-4ade-9e7c-91518fd4552b .active .reactive{fill-opacity:.8;stroke-opacity:.9;stroke-width:4}#chart-aa5f8e3f-2871-4ade-9e7c-91518fd4552b .ci .reactive.active{stroke-width:1.5}#chart-aa5f8e3f-2871-4ade-9e7c-91518fd4552b .series text{fill:rgba(0,0,0,1)}#chart-aa5f8e3f-2871-4ade-9e7c-91518fd4552b .tooltip rect{fill:rgba(255,255,255,1);stroke:rgba(0,0,0,1);-webkit-transition:opacity 150ms;-moz-transition:opacity 150ms;transition:opacity 150ms}#chart-aa5f8e3f-2871-4ade-9e7c-91518fd4552b .tooltip .label{fill:rgba(0,0,0,.87)}#chart-aa5f8e3f-2871-4ade-9e7c-91518fd4552b .tooltip .label{fill:rgba(0,0,0,.87)}#chart-aa5f8e3f-2871-4ade-9e7c-91518fd4552b .tooltip .legend{font-size:.8em;fill:rgba(0,0,0,.54)}#chart-aa5f8e3f-2871-4ade-9e7c-91518fd4552b .tooltip .x_label{font-size:.6em;fill:rgba(0,0,0,1)}#chart-aa5f8e3f-2871-4ade-9e7c-91518fd4552b .tooltip .xlink{font-size:.5em;text-decoration:underline}#chart-aa5f8e3f-2871-4ade-9e7c-91518fd4552b .tooltip .value{font-size:1.5em}#chart-aa5f8e3f-2871-4ade-9e7c-91518fd4552b .bound{font-size:.5em}#chart-aa5f8e3f-2871-4ade-9e7c-91518fd4552b .max-value{font-size:.75em;fill:rgba(0,0,0,.54)}#chart-aa5f8e3f-2871-4ade-9e7c-91518fd4552b .map-element{fill:rgba(255,255,255,1);stroke:rgba(0,0,0,.54) !important}#chart-aa5f8e3f-2871-4ade-9e7c-91518fd4552b .map-element .reactive{fill-opacity:inherit;stroke-opacity:inherit}#chart-aa5f8e3f-2871-4ade-9e7c-91518fd4552b .color-0,#chart-aa5f8e3f-2871-4ade-9e7c-91518fd4552b .color-0 a:visited{stroke:#F44336;fill:#F44336}#chart-aa5f8e3f-2871-4ade-9e7c-91518fd4552b .color-1,#chart-aa5f8e3f-2871-4ade-9e7c-91518fd4552b .color-1 a:visited{stroke:#3F51B5;fill:#3F51B5}#chart-aa5f8e3f-2871-4ade-9e7c-91518fd4552b .color-2,#chart-aa5f8e3f-2871-4ade-9e7c-91518fd4552b .color-2 a:visited{stroke:#009688;fill:#009688}#chart-aa5f8e3f-2871-4ade-9e7c-91518fd4552b .color-3,#chart-aa5f8e3f-2871-4ade-9e7c-91518fd4552b .color-3 a:visited{stroke:#FFC107;fill:#FFC107}#chart-aa5f8e3f-2871-4ade-9e7c-91518fd4552b .text-overlay .color-0 text{fill:black}#chart-aa5f8e3f-2871-4ade-9e7c-91518fd4552b .text-overlay .color-1 text{fill:black}#chart-aa5f8e3f-2871-4ade-9e7c-91518fd4552b .text-overlay .color-2 text{fill:black}#chart-aa5f8e3f-2871-4ade-9e7c-91518fd4552b .text-overlay .color-3 text{fill:black}\\n#chart-aa5f8e3f-2871-4ade-9e7c-91518fd4552b text.no_data{text-anchor:middle}#chart-aa5f8e3f-2871-4ade-9e7c-91518fd4552b .guide.line{fill:none}#chart-aa5f8e3f-2871-4ade-9e7c-91518fd4552b .centered{text-anchor:middle}#chart-aa5f8e3f-2871-4ade-9e7c-91518fd4552b .title{text-anchor:middle}#chart-aa5f8e3f-2871-4ade-9e7c-91518fd4552b .legends .legend text{fill-opacity:1}#chart-aa5f8e3f-2871-4ade-9e7c-91518fd4552b .axis.x text{text-anchor:middle}#chart-aa5f8e3f-2871-4ade-9e7c-91518fd4552b .axis.x:not(.web) text[transform]{text-anchor:start}#chart-aa5f8e3f-2871-4ade-9e7c-91518fd4552b .axis.x:not(.web) text[transform].backwards{text-anchor:end}#chart-aa5f8e3f-2871-4ade-9e7c-91518fd4552b .axis.y text{text-anchor:end}#chart-aa5f8e3f-2871-4ade-9e7c-91518fd4552b .axis.y text[transform].backwards{text-anchor:start}#chart-aa5f8e3f-2871-4ade-9e7c-91518fd4552b .axis.y2 text{text-anchor:start}#chart-aa5f8e3f-2871-4ade-9e7c-91518fd4552b .axis.y2 text[transform].backwards{text-anchor:end}#chart-aa5f8e3f-2871-4ade-9e7c-91518fd4552b .axis .guide.line{stroke-dasharray:4,4;stroke:black}#chart-aa5f8e3f-2871-4ade-9e7c-91518fd4552b .axis .major.guide.line{stroke-dasharray:6,6;stroke:black}#chart-aa5f8e3f-2871-4ade-9e7c-91518fd4552b .horizontal .axis.y .guide.line,#chart-aa5f8e3f-2871-4ade-9e7c-91518fd4552b .horizontal .axis.y2 .guide.line,#chart-aa5f8e3f-2871-4ade-9e7c-91518fd4552b .vertical .axis.x .guide.line{opacity:0}#chart-aa5f8e3f-2871-4ade-9e7c-91518fd4552b .horizontal .axis.always_show .guide.line,#chart-aa5f8e3f-2871-4ade-9e7c-91518fd4552b .vertical .axis.always_show .guide.line{opacity:1 !important}#chart-aa5f8e3f-2871-4ade-9e7c-91518fd4552b .axis.y .guides:hover .guide.line,#chart-aa5f8e3f-2871-4ade-9e7c-91518fd4552b .axis.y2 .guides:hover .guide.line,#chart-aa5f8e3f-2871-4ade-9e7c-91518fd4552b .axis.x .guides:hover .guide.line{opacity:1}#chart-aa5f8e3f-2871-4ade-9e7c-91518fd4552b .axis .guides:hover text{opacity:1}#chart-aa5f8e3f-2871-4ade-9e7c-91518fd4552b .nofill{fill:none}#chart-aa5f8e3f-2871-4ade-9e7c-91518fd4552b .subtle-fill{fill-opacity:.2}#chart-aa5f8e3f-2871-4ade-9e7c-91518fd4552b .dot{stroke-width:1px;fill-opacity:1;stroke-opacity:1}#chart-aa5f8e3f-2871-4ade-9e7c-91518fd4552b .dot.active{stroke-width:5px}#chart-aa5f8e3f-2871-4ade-9e7c-91518fd4552b .dot.negative{fill:transparent}#chart-aa5f8e3f-2871-4ade-9e7c-91518fd4552b text,#chart-aa5f8e3f-2871-4ade-9e7c-91518fd4552b tspan{stroke:none !important}#chart-aa5f8e3f-2871-4ade-9e7c-91518fd4552b .series text.active{opacity:1}#chart-aa5f8e3f-2871-4ade-9e7c-91518fd4552b .tooltip rect{fill-opacity:.95;stroke-width:.5}#chart-aa5f8e3f-2871-4ade-9e7c-91518fd4552b .tooltip text{fill-opacity:1}#chart-aa5f8e3f-2871-4ade-9e7c-91518fd4552b .showable{visibility:hidden}#chart-aa5f8e3f-2871-4ade-9e7c-91518fd4552b .showable.shown{visibility:visible}#chart-aa5f8e3f-2871-4ade-9e7c-91518fd4552b .gauge-background{fill:rgba(229,229,229,1);stroke:none}#chart-aa5f8e3f-2871-4ade-9e7c-91518fd4552b .bg-lines{stroke:rgba(249,249,249,1);stroke-width:2px}</style><script type=\"text/javascript\">window.pygal = window.pygal || {};window.pygal.config = window.pygal.config || {};window.pygal.config[\\'aa5f8e3f-2871-4ade-9e7c-91518fd4552b\\'] = {\"allow_interruptions\": false, \"box_mode\": \"extremes\", \"classes\": [\"pygal-chart\"], \"css\": [\"file://style.css\", \"file://graph.css\"], \"defs\": [], \"disable_xml_declaration\": false, \"dots_size\": 2.5, \"dynamic_print_values\": false, \"explicit_size\": false, \"fill\": false, \"force_uri_protocol\": \"https\", \"formatter\": null, \"half_pie\": false, \"height\": 600, \"include_x_axis\": false, \"inner_radius\": 0, \"interpolate\": null, \"interpolation_parameters\": {}, \"interpolation_precision\": 250, \"inverse_y_axis\": false, \"js\": [\"//kozea.github.io/pygal.js/2.0.x/pygal-tooltips.min.js\"], \"legend_at_bottom\": false, \"legend_at_bottom_columns\": null, \"legend_box_size\": 12, \"logarithmic\": false, \"margin\": 20, \"margin_bottom\": null, \"margin_left\": null, \"margin_right\": null, \"margin_top\": null, \"max_scale\": 16, \"min_scale\": 4, \"missing_value_fill_truncation\": \"x\", \"no_data_text\": \"No data\", \"no_prefix\": false, \"order_min\": null, \"pretty_print\": false, \"print_labels\": false, \"print_values\": false, \"print_values_position\": \"center\", \"print_zeroes\": true, \"range\": null, \"rounded_bars\": null, \"secondary_range\": null, \"show_dots\": true, \"show_legend\": true, \"show_minor_x_labels\": true, \"show_minor_y_labels\": true, \"show_only_major_dots\": false, \"show_x_guides\": false, \"show_x_labels\": true, \"show_y_guides\": true, \"show_y_labels\": true, \"spacing\": 10, \"stack_from_top\": false, \"strict\": false, \"stroke\": true, \"stroke_style\": null, \"style\": {\"background\": \"rgba(249, 249, 249, 1)\", \"ci_colors\": [], \"colors\": [\"#F44336\", \"#3F51B5\", \"#009688\", \"#FFC107\", \"#FF5722\", \"#9C27B0\", \"#03A9F4\", \"#8BC34A\", \"#FF9800\", \"#E91E63\", \"#2196F3\", \"#4CAF50\", \"#FFEB3B\", \"#673AB7\", \"#00BCD4\", \"#CDDC39\", \"#9E9E9E\", \"#607D8B\"], \"dot_opacity\": \"1\", \"font_family\": \"Consolas, \\\\\"Liberation Mono\\\\\", Menlo, Courier, monospace\", \"foreground\": \"rgba(0, 0, 0, .87)\", \"foreground_strong\": \"rgba(0, 0, 0, 1)\", \"foreground_subtle\": \"rgba(0, 0, 0, .54)\", \"guide_stroke_color\": \"black\", \"guide_stroke_dasharray\": \"4,4\", \"label_font_family\": \"Consolas, \\\\\"Liberation Mono\\\\\", Menlo, Courier, monospace\", \"label_font_size\": 10, \"legend_font_family\": \"Consolas, \\\\\"Liberation Mono\\\\\", Menlo, Courier, monospace\", \"legend_font_size\": 14, \"major_guide_stroke_color\": \"black\", \"major_guide_stroke_dasharray\": \"6,6\", \"major_label_font_family\": \"Consolas, \\\\\"Liberation Mono\\\\\", Menlo, Courier, monospace\", \"major_label_font_size\": 10, \"no_data_font_family\": \"Consolas, \\\\\"Liberation Mono\\\\\", Menlo, Courier, monospace\", \"no_data_font_size\": 64, \"opacity\": \".7\", \"opacity_hover\": \".8\", \"plot_background\": \"rgba(255, 255, 255, 1)\", \"stroke_opacity\": \".8\", \"stroke_opacity_hover\": \".9\", \"stroke_width\": \"1\", \"stroke_width_hover\": \"4\", \"title_font_family\": \"Consolas, \\\\\"Liberation Mono\\\\\", Menlo, Courier, monospace\", \"title_font_size\": 16, \"tooltip_font_family\": \"Consolas, \\\\\"Liberation Mono\\\\\", Menlo, Courier, monospace\", \"tooltip_font_size\": 14, \"transition\": \"150ms\", \"value_background\": \"rgba(229, 229, 229, 1)\", \"value_colors\": [], \"value_font_family\": \"Consolas, \\\\\"Liberation Mono\\\\\", Menlo, Courier, monospace\", \"value_font_size\": 16, \"value_label_font_family\": \"Consolas, \\\\\"Liberation Mono\\\\\", Menlo, Courier, monospace\", \"value_label_font_size\": 10}, \"title\": \"Browser usage evolution (in %)\", \"tooltip_border_radius\": 0, \"tooltip_fancy_mode\": true, \"truncate_label\": null, \"truncate_legend\": null, \"width\": 800, \"x_label_rotation\": 0, \"x_labels\": [\"2002\", \"2003\", \"2004\", \"2005\", \"2006\", \"2007\", \"2008\", \"2009\", \"2010\", \"2011\", \"2012\"], \"x_labels_major\": null, \"x_labels_major_count\": null, \"x_labels_major_every\": null, \"x_title\": null, \"xrange\": null, \"y_label_rotation\": 0, \"y_labels\": null, \"y_labels_major\": null, \"y_labels_major_count\": null, \"y_labels_major_every\": null, \"y_title\": null, \"zero\": 0, \"legends\": [\"Firefox\", \"Chrome\", \"IE\", \"Others\"]}</script><script type=\"text/javascript\" xlink:href=\"https://kozea.github.io/pygal.js/2.0.x/pygal-tooltips.min.js\"/></defs><title>Browser usage evolution (in %)</title><g class=\"graph line-graph vertical\"><rect x=\"0\" y=\"0\" width=\"800\" height=\"600\" class=\"background\"/><g transform=\"translate(122, 46)\" class=\"plot\"><rect x=\"0\" y=\"0\" width=\"657.2\" height=\"514\" class=\"background\"/><g class=\"axis y always_show\"><g class=\"guides\"><path d=\"M0.000000 504.115385 h657.200000\" class=\"axis major line\"/><text x=\"-5\" y=\"507.61538461538464\" class=\"major\">0</text><title>0</title></g><g class=\"guides\"><path d=\"M0.000000 446.512731 h657.200000\" class=\"guide line\"/><text x=\"-5\" y=\"450.0127308588847\" class=\"\">10</text><title>10</title></g><g class=\"guides\"><path d=\"M0.000000 388.910077 h657.200000\" class=\"guide line\"/><text x=\"-5\" y=\"392.4100771023848\" class=\"\">20</text><title>20</title></g><g class=\"guides\"><path d=\"M0.000000 331.307423 h657.200000\" class=\"guide line\"/><text x=\"-5\" y=\"334.80742334588484\" class=\"\">30</text><title>30</title></g><g class=\"guides\"><path d=\"M0.000000 273.704770 h657.200000\" class=\"guide line\"/><text x=\"-5\" y=\"277.2047695893849\" class=\"\">40</text><title>40</title></g><g class=\"guides\"><path d=\"M0.000000 216.102116 h657.200000\" class=\"major guide line\"/><text x=\"-5\" y=\"219.60211583288498\" class=\"major\">50</text><title>50</title></g><g class=\"guides\"><path d=\"M0.000000 158.499462 h657.200000\" class=\"guide line\"/><text x=\"-5\" y=\"161.9994620763851\" class=\"\">60</text><title>60</title></g><g class=\"guides\"><path d=\"M0.000000 100.896808 h657.200000\" class=\"guide line\"/><text x=\"-5\" y=\"104.39680831988522\" class=\"\">70</text><title>70</title></g><g class=\"guides\"><path d=\"M0.000000 43.294155 h657.200000\" class=\"guide line\"/><text x=\"-5\" y=\"46.79415456338529\" class=\"\">80</text><title>80</title></g></g><g class=\"axis x\"><g class=\"guides\"><path d=\"M12.638462 0.000000 v514.000000\" class=\"line\"/><text x=\"12.63846153846154\" y=\"529.0\" class=\"\">2002</text></g><g class=\"guides\"><path d=\"M75.830769 0.000000 v514.000000\" class=\"guide line\"/><text x=\"75.83076923076925\" y=\"529.0\" class=\"\">2003</text></g><g class=\"guides\"><path d=\"M139.023077 0.000000 v514.000000\" class=\"guide line\"/><text x=\"139.02307692307693\" y=\"529.0\" class=\"\">2004</text></g><g class=\"guides\"><path d=\"M202.215385 0.000000 v514.000000\" class=\"guide line\"/><text x=\"202.21538461538464\" y=\"529.0\" class=\"\">2005</text></g><g class=\"guides\"><path d=\"M265.407692 0.000000 v514.000000\" class=\"guide line\"/><text x=\"265.40769230769234\" y=\"529.0\" class=\"\">2006</text></g><g class=\"guides\"><path d=\"M328.600000 0.000000 v514.000000\" class=\"guide line\"/><text x=\"328.6\" y=\"529.0\" class=\"\">2007</text></g><g class=\"guides\"><path d=\"M391.792308 0.000000 v514.000000\" class=\"guide line\"/><text x=\"391.7923076923077\" y=\"529.0\" class=\"\">2008</text></g><g class=\"guides\"><path d=\"M454.984615 0.000000 v514.000000\" class=\"guide line\"/><text x=\"454.9846153846154\" y=\"529.0\" class=\"\">2009</text></g><g class=\"guides\"><path d=\"M518.176923 0.000000 v514.000000\" class=\"guide line\"/><text x=\"518.1769230769231\" y=\"529.0\" class=\"\">2010</text></g><g class=\"guides\"><path d=\"M581.369231 0.000000 v514.000000\" class=\"guide line\"/><text x=\"581.3692307692307\" y=\"529.0\" class=\"\">2011</text></g><g class=\"guides\"><path d=\"M644.561538 0.000000 v514.000000\" class=\"guide line\"/><text x=\"644.5615384615385\" y=\"529.0\" class=\"\">2012</text></g></g><g class=\"series serie-0 color-0\"><path d=\"M139.023077 504.115385 L202.215385 408.494979 265.407692 360.108750 328.600000 325.547158 391.792308 294.441725 454.984615 242.023310 518.176923 237.415098 581.369231 257.576027 644.561538 290.409539\" class=\"line reactive nofill\"/></g><g class=\"series serie-1 color-1\"><path d=\"M391.792308 504.115385 L454.984615 481.650350 518.176923 441.904519 581.369231 367.021069 644.561538 300.778017\" class=\"line reactive nofill\"/></g><g class=\"series serie-2 color-2\"><path d=\"M12.638462 9.884615 L75.830769 16.796934 139.023077 16.220907 202.215385 74.975614 265.407692 123.937870 328.600000 166.563834 391.792308 189.028869 454.984615 246.055496 518.176923 295.593778 581.369231 350.892326 644.561538 388.334051\" class=\"line reactive nofill\"/></g><g class=\"series serie-3 color-3\"><path d=\"M12.638462 422.319616 L75.830769 415.407298 139.023077 415.983324 202.215385 452.849023 265.407692 452.272996 328.600000 444.208625 391.792308 452.849023 454.984615 470.705845 518.176923 465.521607 581.369231 464.945580 644.561538 460.913394\" class=\"line reactive nofill\"/></g></g><g class=\"titles\"><text x=\"400.0\" y=\"26\" class=\"title plot_title\">Browser usage evolution (in %)</text></g><g transform=\"translate(122, 46)\" class=\"plot overlay\"><g class=\"series serie-0 color-0\"><g class=\"dots\"><circle cx=\"139.02307692307693\" cy=\"504.11538461538464\" r=\"2.5\" class=\"dot reactive tooltip-trigger\"/><desc class=\"value\">0</desc><desc class=\"x top\">139.02307692307693</desc><desc class=\"y top\">504.11538461538464</desc><desc class=\"x_label\">2004</desc></g><g class=\"dots\"><circle cx=\"202.21538461538464\" cy=\"408.4949793795947\" r=\"2.5\" class=\"dot reactive tooltip-trigger\"/><desc class=\"value\">16.6</desc><desc class=\"x top\">202.21538461538464</desc><desc class=\"y top\">408.4949793795947</desc><desc class=\"x_label\">2005</desc></g><g class=\"dots\"><circle cx=\"265.40769230769234\" cy=\"360.10875022413484\" r=\"2.5\" class=\"dot reactive tooltip-trigger\"/><desc class=\"value\">25</desc><desc class=\"x top\">265.40769230769234</desc><desc class=\"y top\">360.10875022413484</desc><desc class=\"x_label\">2006</desc></g><g class=\"dots\"><circle cx=\"328.6\" cy=\"325.5471579702348\" r=\"2.5\" class=\"dot reactive tooltip-trigger\"/><desc class=\"value\">31</desc><desc class=\"x top\">328.6</desc><desc class=\"y top\">325.5471579702348</desc><desc class=\"x_label\">2007</desc></g><g class=\"dots\"><circle cx=\"391.7923076923077\" cy=\"294.44172494172494\" r=\"2.5\" class=\"dot reactive tooltip-trigger\"/><desc class=\"value\">36.4</desc><desc class=\"x left top\">391.7923076923077</desc><desc class=\"y left top\">294.44172494172494</desc><desc class=\"x_label\">2008</desc></g><g class=\"dots\"><circle cx=\"454.9846153846154\" cy=\"242.02331002331\" r=\"2.5\" class=\"dot reactive tooltip-trigger\"/><desc class=\"value\">45.5</desc><desc class=\"x left\">454.9846153846154</desc><desc class=\"y left\">242.02331002331</desc><desc class=\"x_label\">2009</desc></g><g class=\"dots\"><circle cx=\"518.1769230769231\" cy=\"237.41509772279\" r=\"2.5\" class=\"dot reactive tooltip-trigger\"/><desc class=\"value\">46.3</desc><desc class=\"x left\">518.1769230769231</desc><desc class=\"y left\">237.41509772279</desc><desc class=\"x_label\">2010</desc></g><g class=\"dots\"><circle cx=\"581.3692307692307\" cy=\"257.576026537565\" r=\"2.5\" class=\"dot reactive tooltip-trigger\"/><desc class=\"value\">42.8</desc><desc class=\"x left top\">581.3692307692307</desc><desc class=\"y left top\">257.576026537565</desc><desc class=\"x_label\">2011</desc></g><g class=\"dots\"><circle cx=\"644.5615384615385\" cy=\"290.4095391787699\" r=\"2.5\" class=\"dot reactive tooltip-trigger\"/><desc class=\"value\">37.1</desc><desc class=\"x left top\">644.5615384615385</desc><desc class=\"y left top\">290.4095391787699</desc><desc class=\"x_label\">2012</desc></g></g><g class=\"series serie-1 color-1\"><g class=\"dots\"><circle cx=\"391.7923076923077\" cy=\"504.11538461538464\" r=\"2.5\" class=\"dot reactive tooltip-trigger\"/><desc class=\"value\">0</desc><desc class=\"x left top\">391.7923076923077</desc><desc class=\"y left top\">504.11538461538464</desc><desc class=\"x_label\">2008</desc></g><g class=\"dots\"><circle cx=\"454.9846153846154\" cy=\"481.65034965034965\" r=\"2.5\" class=\"dot reactive tooltip-trigger\"/><desc class=\"value\">3.9</desc><desc class=\"x left top\">454.9846153846154</desc><desc class=\"y left top\">481.65034965034965</desc><desc class=\"x_label\">2009</desc></g><g class=\"dots\"><circle cx=\"518.1769230769231\" cy=\"441.9045185583647\" r=\"2.5\" class=\"dot reactive tooltip-trigger\"/><desc class=\"value\">10.8</desc><desc class=\"x left top\">518.1769230769231</desc><desc class=\"y left top\">441.9045185583647</desc><desc class=\"x_label\">2010</desc></g><g class=\"dots\"><circle cx=\"581.3692307692307\" cy=\"367.0210686749148\" r=\"2.5\" class=\"dot reactive tooltip-trigger\"/><desc class=\"value\">23.8</desc><desc class=\"x left top\">581.3692307692307</desc><desc class=\"y left top\">367.0210686749148</desc><desc class=\"x_label\">2011</desc></g><g class=\"dots\"><circle cx=\"644.5615384615385\" cy=\"300.7780168549399\" r=\"2.5\" class=\"dot reactive tooltip-trigger\"/><desc class=\"value\">35.3</desc><desc class=\"x left top\">644.5615384615385</desc><desc class=\"y left top\">300.7780168549399</desc><desc class=\"x_label\">2012</desc></g></g><g class=\"series serie-2 color-2\"><g class=\"dots\"><circle cx=\"12.63846153846154\" cy=\"9.884615384615358\" r=\"2.5\" class=\"dot reactive tooltip-trigger\"/><desc class=\"value\">85.8</desc><desc class=\"x \">12.63846153846154</desc><desc class=\"y \">9.884615384615358</desc><desc class=\"x_label\">2002</desc></g><g class=\"dots\"><circle cx=\"75.83076923076925\" cy=\"16.796933835395407\" r=\"2.5\" class=\"dot reactive tooltip-trigger\"/><desc class=\"value\">84.6</desc><desc class=\"x \">75.83076923076925</desc><desc class=\"y \">16.796933835395407</desc><desc class=\"x_label\">2003</desc></g><g class=\"dots\"><circle cx=\"139.02307692307693\" cy=\"16.22090729783031\" r=\"2.5\" class=\"dot reactive tooltip-trigger\"/><desc class=\"value\">84.7</desc><desc class=\"x \">139.02307692307693</desc><desc class=\"y \">16.22090729783031</desc><desc class=\"x_label\">2004</desc></g><g class=\"dots\"><circle cx=\"202.21538461538464\" cy=\"74.97561412946021\" r=\"2.5\" class=\"dot reactive tooltip-trigger\"/><desc class=\"value\">74.5</desc><desc class=\"x \">202.21538461538464</desc><desc class=\"y \">74.97561412946021</desc><desc class=\"x_label\">2005</desc></g><g class=\"dots\"><circle cx=\"265.40769230769234\" cy=\"123.93786982248514\" r=\"2.5\" class=\"dot reactive tooltip-trigger\"/><desc class=\"value\">66</desc><desc class=\"x \">265.40769230769234</desc><desc class=\"y \">123.93786982248514</desc><desc class=\"x_label\">2006</desc></g><g class=\"dots\"><circle cx=\"328.6\" cy=\"166.56383360229506\" r=\"2.5\" class=\"dot reactive tooltip-trigger\"/><desc class=\"value\">58.6</desc><desc class=\"x \">328.6</desc><desc class=\"y \">166.56383360229506</desc><desc class=\"x_label\">2007</desc></g><g class=\"dots\"><circle cx=\"391.7923076923077\" cy=\"189.02886856733005\" r=\"2.5\" class=\"dot reactive tooltip-trigger\"/><desc class=\"value\">54.7</desc><desc class=\"x left\">391.7923076923077</desc><desc class=\"y left\">189.02886856733005</desc><desc class=\"x_label\">2008</desc></g><g class=\"dots\"><circle cx=\"454.9846153846154\" cy=\"246.055495786265\" r=\"2.5\" class=\"dot reactive tooltip-trigger\"/><desc class=\"value\">44.8</desc><desc class=\"x left\">454.9846153846154</desc><desc class=\"y left\">246.055495786265</desc><desc class=\"x_label\">2009</desc></g><g class=\"dots\"><circle cx=\"518.1769230769231\" cy=\"295.5937780168549\" r=\"2.5\" class=\"dot reactive tooltip-trigger\"/><desc class=\"value\">36.2</desc><desc class=\"x left top\">518.1769230769231</desc><desc class=\"y left top\">295.5937780168549</desc><desc class=\"x_label\">2010</desc></g><g class=\"dots\"><circle cx=\"581.3692307692307\" cy=\"350.89232562309485\" r=\"2.5\" class=\"dot reactive tooltip-trigger\"/><desc class=\"value\">26.6</desc><desc class=\"x left top\">581.3692307692307</desc><desc class=\"y left top\">350.89232562309485</desc><desc class=\"x_label\">2011</desc></g><g class=\"dots\"><circle cx=\"644.5615384615385\" cy=\"388.3340505648198\" r=\"2.5\" class=\"dot reactive tooltip-trigger\"/><desc class=\"value\">20.1</desc><desc class=\"x left top\">644.5615384615385</desc><desc class=\"y left top\">388.3340505648198</desc><desc class=\"x_label\">2012</desc></g></g><g class=\"series serie-3 color-3\"><g class=\"dots\"><circle cx=\"12.63846153846154\" cy=\"422.3196162811547\" r=\"2.5\" class=\"dot reactive tooltip-trigger\"/><desc class=\"value\">14.2</desc><desc class=\"x top\">12.63846153846154</desc><desc class=\"y top\">422.3196162811547</desc><desc class=\"x_label\">2002</desc></g><g class=\"dots\"><circle cx=\"75.83076923076925\" cy=\"415.4072978303748\" r=\"2.5\" class=\"dot reactive tooltip-trigger\"/><desc class=\"value\">15.4</desc><desc class=\"x top\">75.83076923076925</desc><desc class=\"y top\">415.4072978303748</desc><desc class=\"x_label\">2003</desc></g><g class=\"dots\"><circle cx=\"139.02307692307693\" cy=\"415.98332436793976\" r=\"2.5\" class=\"dot reactive tooltip-trigger\"/><desc class=\"value\">15.3</desc><desc class=\"x top\">139.02307692307693</desc><desc class=\"y top\">415.98332436793976</desc><desc class=\"x_label\">2004</desc></g><g class=\"dots\"><circle cx=\"202.21538461538464\" cy=\"452.8490227720997\" r=\"2.5\" class=\"dot reactive tooltip-trigger\"/><desc class=\"value\">8.9</desc><desc class=\"x top\">202.21538461538464</desc><desc class=\"y top\">452.8490227720997</desc><desc class=\"x_label\">2005</desc></g><g class=\"dots\"><circle cx=\"265.40769230769234\" cy=\"452.2729962345347\" r=\"2.5\" class=\"dot reactive tooltip-trigger\"/><desc class=\"value\">9</desc><desc class=\"x top\">265.40769230769234</desc><desc class=\"y top\">452.2729962345347</desc><desc class=\"x_label\">2006</desc></g><g class=\"dots\"><circle cx=\"328.6\" cy=\"444.2086247086247\" r=\"2.5\" class=\"dot reactive tooltip-trigger\"/><desc class=\"value\">10.4</desc><desc class=\"x top\">328.6</desc><desc class=\"y top\">444.2086247086247</desc><desc class=\"x_label\">2007</desc></g><g class=\"dots\"><circle cx=\"391.7923076923077\" cy=\"452.8490227720997\" r=\"2.5\" class=\"dot reactive tooltip-trigger\"/><desc class=\"value\">8.9</desc><desc class=\"x left top\">391.7923076923077</desc><desc class=\"y left top\">452.8490227720997</desc><desc class=\"x_label\">2008</desc></g><g class=\"dots\"><circle cx=\"454.9846153846154\" cy=\"470.70584543661465\" r=\"2.5\" class=\"dot reactive tooltip-trigger\"/><desc class=\"value\">5.8</desc><desc class=\"x left top\">454.9846153846154</desc><desc class=\"y left top\">470.70584543661465</desc><desc class=\"x_label\">2009</desc></g><g class=\"dots\"><circle cx=\"518.1769230769231\" cy=\"465.5216065985297\" r=\"2.5\" class=\"dot reactive tooltip-trigger\"/><desc class=\"value\">6.7</desc><desc class=\"x left top\">518.1769230769231</desc><desc class=\"y left top\">465.5216065985297</desc><desc class=\"x_label\">2010</desc></g><g class=\"dots\"><circle cx=\"581.3692307692307\" cy=\"464.9455800609647\" r=\"2.5\" class=\"dot reactive tooltip-trigger\"/><desc class=\"value\">6.8</desc><desc class=\"x left top\">581.3692307692307</desc><desc class=\"y left top\">464.9455800609647</desc><desc class=\"x_label\">2011</desc></g><g class=\"dots\"><circle cx=\"644.5615384615385\" cy=\"460.9133942980097\" r=\"2.5\" class=\"dot reactive tooltip-trigger\"/><desc class=\"value\">7.5</desc><desc class=\"x left top\">644.5615384615385</desc><desc class=\"y left top\">460.9133942980097</desc><desc class=\"x_label\">2012</desc></g></g></g><g transform=\"translate(122, 46)\" class=\"plot text-overlay\"><g class=\"series serie-0 color-0\"/><g class=\"series serie-1 color-1\"/><g class=\"series serie-2 color-2\"/><g class=\"series serie-3 color-3\"/></g><g transform=\"translate(122, 46)\" class=\"plot tooltip-overlay\"><g transform=\"translate(0 0)\" style=\"opacity: 0\" class=\"tooltip\"><rect rx=\"0\" ry=\"0\" width=\"0\" height=\"0\" class=\"tooltip-box\"/><g class=\"text\"/></g></g><g transform=\"translate(10, 56)\" class=\"legends\"><g id=\"activate-serie-0\" class=\"legend reactive activate-serie\"><rect x=\"0.0\" y=\"1.0\" width=\"12\" height=\"12\" class=\"color-0 reactive\"/><text x=\"17.0\" y=\"11.2\">Firefox</text></g><g id=\"activate-serie-1\" class=\"legend reactive activate-serie\"><rect x=\"0.0\" y=\"22.0\" width=\"12\" height=\"12\" class=\"color-1 reactive\"/><text x=\"17.0\" y=\"32.2\">Chrome</text></g><g id=\"activate-serie-2\" class=\"legend reactive activate-serie\"><rect x=\"0.0\" y=\"43.0\" width=\"12\" height=\"12\" class=\"color-2 reactive\"/><text x=\"17.0\" y=\"53.2\">IE</text></g><g id=\"activate-serie-3\" class=\"legend reactive activate-serie\"><rect x=\"0.0\" y=\"64.0\" width=\"12\" height=\"12\" class=\"color-3 reactive\"/><text x=\"17.0\" y=\"74.2\">Others</text></g></g><g transform=\"translate(790, 56)\" class=\"legends\"/></g></svg>'"
            ]
          },
          "metadata": {},
          "execution_count": 7
        }
      ]
    },
    {
      "cell_type": "code",
      "source": [
        "ages = [(364381, 358443, 360172, 345848, 334895, 326914, 323053, 312576, 302015, 301277, 309874, 318295, 323396, 332736, 330759, 335267, 345096, 352685, 368067, 381521, 380145, 378724, 388045, 382303, 373469, 365184, 342869, 316928, 285137, 273553, 250861, 221358, 195884, 179321, 171010, 162594, 152221, 148843, 143013, 135887, 125824, 121493, 115913, 113738, 105612, 99596, 91609, 83917, 75688, 69538, 62999, 58864, 54593, 48818, 44739, 41096, 39169, 36321, 34284, 32330, 31437, 30661, 31332, 30334, 23600, 21999, 20187, 19075, 16574, 15091, 14977, 14171, 13687, 13155, 12558, 11600, 10827, 10436, 9851, 9794, 8787, 7993, 6901, 6422, 5506, 4839, 4144, 3433, 2936, 2615),\n",
        "   (346205, 340570, 342668, 328475, 319010, 312898, 308153, 296752, 289639, 290466, 296190, 303871, 309886, 317436, 315487, 316696, 325772, 331694, 345815, 354696, 354899, 351727, 354579, 341702, 336421, 321116, 292261, 261874, 242407, 229488, 208939, 184147, 162662, 147361, 140424, 134336, 126929, 125404, 122764, 116004, 105590, 100813, 95021, 90950, 85036, 79391, 72952, 66022, 59326, 52716, 46582, 42772, 38509, 34048, 30887, 28053, 26152, 23931, 22039, 20677, 19869, 19026, 18757, 18308, 14458, 13685, 12942, 12323, 11033, 10183, 10628, 10803, 10655, 10482, 10202, 10166, 9939, 10138, 10007, 10174, 9997, 9465, 9028, 8806, 8450, 7941, 7253, 6698, 6267, 5773),\n",
        "   (0, 0, 0, 0, 0, 0, 0, 0, 0, 0, 0, 0, 0, 0, 0, 0, 23, 91, 412, 1319, 2984, 5816, 10053, 16045, 24240, 35066, 47828, 62384, 78916, 97822, 112738, 124414, 130658, 140789, 153951, 168560, 179996, 194471, 212006, 225209, 228886, 239690, 245974, 253459, 255455, 260715, 259980, 256481, 252222, 249467, 240268, 238465, 238167, 231361, 223832, 220459, 222512, 220099, 219301, 221322, 229783, 239336, 258360, 271151, 218063, 213461, 207617, 196227, 174615, 160855, 165410, 163070, 157379, 149698, 140570, 131785, 119936, 113751, 106989, 99294, 89097, 78413, 68174, 60592, 52189, 43375, 35469, 29648, 24575, 20863),\n",
        "   (0, 0, 0, 0, 0, 0, 0, 0, 0, 0, 0, 0, 0, 0, 0, 0, 74, 392, 1351, 3906, 7847, 12857, 19913, 29108, 42475, 58287, 74163, 90724, 108375, 125886, 141559, 148061, 152871, 159725, 171298, 183536, 196136, 210831, 228757, 238731, 239616, 250036, 251759, 259593, 261832, 264864, 264702, 264070, 258117, 253678, 245440, 241342, 239843, 232493, 226118, 221644, 223440, 219833, 219659, 221271, 227123, 232865, 250646, 261796, 210136, 201824, 193109, 181831, 159280, 145235, 145929, 140266, 133082, 124350, 114441, 104655, 93223, 85899, 78800, 72081, 62645, 53214, 44086, 38481, 32219, 26867, 21443, 16899, 13680, 11508),\n",
        "   (0, 0, 0, 0, 0, 0, 0, 0, 0, 0, 0, 0, 0, 0, 0, 0, 7, 5, 17, 15, 31, 34, 38, 35, 45, 299, 295, 218, 247, 252, 254, 222, 307, 316, 385, 416, 463, 557, 670, 830, 889, 1025, 1149, 1356, 1488, 1835, 1929, 2130, 2362, 2494, 2884, 3160, 3487, 3916, 4196, 4619, 5032, 5709, 6347, 7288, 8139, 9344, 11002, 12809, 11504, 11918, 12927, 13642, 13298, 14015, 15751, 17445, 18591, 19682, 20969, 21629, 22549, 23619, 25288, 26293, 27038, 27039, 27070, 27750, 27244, 25905, 24357, 22561, 21794, 20595),\n",
        "   (0, 0, 0, 0, 0, 0, 0, 0, 0, 0, 0, 0, 0, 0, 0, 0, 6, 8, 0, 8, 21, 34, 49, 84, 97, 368, 401, 414, 557, 654, 631, 689, 698, 858, 1031, 1120, 1263, 1614, 1882, 2137, 2516, 2923, 3132, 3741, 4259, 4930, 5320, 5948, 6548, 7463, 8309, 9142, 10321, 11167, 12062, 13317, 15238, 16706, 18236, 20336, 23407, 27024, 32502, 37334, 34454, 38080, 41811, 44490, 45247, 46830, 53616, 58798, 63224, 66841, 71086, 73654, 77334, 82062, 87314, 92207, 94603, 94113, 92753, 93174, 91812, 87757, 84255, 79723, 77536, 74173),\n",
        "   (0, 0, 0, 0, 0, 0, 0, 0, 0, 0, 0, 0, 0, 0, 0, 0, 0, 1, 5, 0, 11, 35, 137, 331, 803, 1580, 2361, 3632, 4866, 6849, 8754, 10422, 12316, 14152, 16911, 19788, 22822, 27329, 31547, 35711, 38932, 42956, 46466, 49983, 52885, 55178, 56549, 57632, 57770, 57427, 56348, 55593, 55554, 53266, 51084, 49342, 48555, 47067, 45789, 44988, 44624, 44238, 46267, 46203, 36964, 33866, 31701, 28770, 25174, 22702, 21934, 20638, 19051, 17073, 15381, 13736, 11690, 10368, 9350, 8375, 7063, 6006, 5044, 4030, 3420, 2612, 2006, 1709, 1264, 1018),\n",
        "   (0, 0, 0, 0, 0, 0, 0, 0, 0, 0, 0, 0, 0, 0, 0, 0, 4, 6, 11, 20, 68, 179, 480, 1077, 2094, 3581, 5151, 7047, 9590, 12434, 15039, 17257, 19098, 21324, 24453, 27813, 32316, 37281, 43597, 49647, 53559, 58888, 62375, 67219, 70956, 73547, 74904, 75994, 76224, 74979, 72064, 70330, 68944, 66527, 63073, 60899, 60968, 58756, 57647, 56301, 57246, 57068, 59027, 59187, 47549, 44425, 40976, 38077, 32904, 29431, 29491, 28020, 26086, 24069, 21742, 19498, 17400, 15738, 14451, 13107, 11568, 10171, 8530, 7273, 6488, 5372, 4499, 3691, 3259, 2657)]\n",
        "\n",
        "types = ['Males single', 'Females single',\n",
        "         'Males married', 'Females married',\n",
        "         'Males widowed', 'Females widowed',\n",
        "         'Males divorced', 'Females divorced']\n",
        "\n",
        "pyramid_chart = pygal.Pyramid(human_readable=True, legend_at_bottom=True)\n",
        "pyramid_chart.title = 'England population by age in 2010 (source: ons.gov.uk)'\n",
        "pyramid_chart.x_labels = map(lambda x: str(x) if not x % 5 else '', range(90))\n",
        "for type, age in zip(types, ages):\n",
        "    pyramid_chart.add(type, age)"
      ],
      "metadata": {
        "id": "oId58WXJZeVN"
      },
      "execution_count": 8,
      "outputs": []
    }
  ]
}