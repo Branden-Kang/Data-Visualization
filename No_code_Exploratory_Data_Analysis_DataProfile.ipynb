{
  "nbformat": 4,
  "nbformat_minor": 0,
  "metadata": {
    "colab": {
      "name": "No-code Exploratory Data Analysis: DataProfile.ipynb",
      "provenance": [],
      "authorship_tag": "ABX9TyObauGP7LsnfLKg3Vy/nCWD"
    },
    "kernelspec": {
      "name": "python3",
      "display_name": "Python 3"
    },
    "language_info": {
      "name": "python"
    }
  },
  "cells": [
    {
      "cell_type": "markdown",
      "source": [
        "[Reference](https://medium.com/nerd-for-tech/no-code-exploratory-data-analysis-dataprofile-537446151334)"
      ],
      "metadata": {
        "id": "brXlBFB6tUkw"
      }
    },
    {
      "cell_type": "code",
      "execution_count": 1,
      "metadata": {
        "id": "XiAydIqNtQnS"
      },
      "outputs": [],
      "source": [
        "import pandas as pd\n",
        "import streamlit as st\n",
        "from pandas_profiling import ProfileReport\n",
        "from streamlit_pandas_profiling import st_profile_report\n",
        "\n",
        "st.set_page_config(layout='wide')\n",
        "\n",
        "@st.cache(allow_output_mutation=True)\n",
        "def load_data(file):\n",
        "    df = pd.read_csv(file)\n",
        "    return df\n",
        "\n",
        "st.sidebar.title(\"Upload data\")    \n",
        "uploaded_file = st.sidebar.file_uploader(\"Choose a file\")\n",
        "\n",
        "option = st.selectbox(\n",
        "    'Choose pandas profiling mode:',\n",
        "    ('Minimal', 'Explorative', 'Default'))\n",
        "\n",
        "if uploaded_file is None:\n",
        "    st.write(\"Please upload your data from the left panel\")\n",
        "\n",
        "if uploaded_file is not None:\n",
        "    df = load_data(uploaded_file)   \n",
        "    if option == \"Default\":\n",
        "        pr = ProfileReport(df, title=\"Pandas Profiling Report\")\n",
        "\n",
        "    if option == \"Minimal\":\n",
        "        st.write(\"Selected option: Minimal. Please consider using Explorative if further exploration is required.\")\n",
        "        pr = ProfileReport(df, title=\"Pandas Profiling Report\", minimal=True)\n",
        "\n",
        "    if option == \"Explorative\":\n",
        "        st.write(\"Selected option: Explorative. This mode might be computationally expensive. Please consider using Minimal if you are experiencing problems.\")\n",
        "        pr = ProfileReport(df, title=\"Pandas Profiling Report\", explorative=True)\n",
        "\n",
        "    st.title(\"Pandas Profiling in Streamlit\")\n",
        "    st_profile_report(pr)"
      ]
    }
  ]
}