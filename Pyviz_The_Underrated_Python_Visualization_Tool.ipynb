{
  "nbformat": 4,
  "nbformat_minor": 0,
  "metadata": {
    "colab": {
      "name": "Pyviz: The Underrated Python Visualization Tool.ipynb",
      "provenance": [],
      "authorship_tag": "ABX9TyOzZKHn5Tl3ScR/THVLzxUe"
    },
    "kernelspec": {
      "name": "python3",
      "display_name": "Python 3"
    },
    "language_info": {
      "name": "python"
    }
  },
  "cells": [
    {
      "cell_type": "markdown",
      "source": [
        "[Reference](https://faun.pub/pyviz-the-underrated-python-visualization-tool-42ca60d51a39)"
      ],
      "metadata": {
        "id": "Zks8Y0Bbr9n1"
      }
    },
    {
      "cell_type": "code",
      "source": [
        "!pip install hvplot"
      ],
      "metadata": {
        "colab": {
          "base_uri": "https://localhost:8080/"
        },
        "id": "XlUunwRJsHkG",
        "outputId": "be975c00-a24a-4e16-c976-779b718ed98c"
      },
      "execution_count": 2,
      "outputs": [
        {
          "output_type": "stream",
          "name": "stdout",
          "text": [
            "Collecting hvplot\n",
            "  Downloading hvplot-0.7.3-py2.py3-none-any.whl (3.1 MB)\n",
            "\u001b[K     |████████████████████████████████| 3.1 MB 5.4 MB/s \n",
            "\u001b[?25hRequirement already satisfied: numpy>=1.15 in /usr/local/lib/python3.7/dist-packages (from hvplot) (1.21.5)\n",
            "Requirement already satisfied: bokeh>=1.0.0 in /usr/local/lib/python3.7/dist-packages (from hvplot) (2.3.3)\n",
            "Requirement already satisfied: pandas in /usr/local/lib/python3.7/dist-packages (from hvplot) (1.3.5)\n",
            "Requirement already satisfied: colorcet>=2 in /usr/local/lib/python3.7/dist-packages (from hvplot) (3.0.0)\n",
            "Requirement already satisfied: holoviews>=1.11.0 in /usr/local/lib/python3.7/dist-packages (from hvplot) (1.14.7)\n",
            "Requirement already satisfied: Jinja2>=2.9 in /usr/local/lib/python3.7/dist-packages (from bokeh>=1.0.0->hvplot) (2.11.3)\n",
            "Requirement already satisfied: typing-extensions>=3.7.4 in /usr/local/lib/python3.7/dist-packages (from bokeh>=1.0.0->hvplot) (3.10.0.2)\n",
            "Requirement already satisfied: tornado>=5.1 in /usr/local/lib/python3.7/dist-packages (from bokeh>=1.0.0->hvplot) (5.1.1)\n",
            "Requirement already satisfied: python-dateutil>=2.1 in /usr/local/lib/python3.7/dist-packages (from bokeh>=1.0.0->hvplot) (2.8.2)\n",
            "Requirement already satisfied: packaging>=16.8 in /usr/local/lib/python3.7/dist-packages (from bokeh>=1.0.0->hvplot) (21.3)\n",
            "Requirement already satisfied: pillow>=7.1.0 in /usr/local/lib/python3.7/dist-packages (from bokeh>=1.0.0->hvplot) (7.1.2)\n",
            "Requirement already satisfied: PyYAML>=3.10 in /usr/local/lib/python3.7/dist-packages (from bokeh>=1.0.0->hvplot) (3.13)\n",
            "Requirement already satisfied: param>=1.7.0 in /usr/local/lib/python3.7/dist-packages (from colorcet>=2->hvplot) (1.12.0)\n",
            "Requirement already satisfied: pyct>=0.4.4 in /usr/local/lib/python3.7/dist-packages (from colorcet>=2->hvplot) (0.4.8)\n",
            "Requirement already satisfied: pyviz-comms>=0.7.4 in /usr/local/lib/python3.7/dist-packages (from holoviews>=1.11.0->hvplot) (2.1.0)\n",
            "Requirement already satisfied: panel>=0.8.0 in /usr/local/lib/python3.7/dist-packages (from holoviews>=1.11.0->hvplot) (0.12.1)\n",
            "Requirement already satisfied: MarkupSafe>=0.23 in /usr/local/lib/python3.7/dist-packages (from Jinja2>=2.9->bokeh>=1.0.0->hvplot) (2.0.1)\n",
            "Requirement already satisfied: pyparsing!=3.0.5,>=2.0.2 in /usr/local/lib/python3.7/dist-packages (from packaging>=16.8->bokeh>=1.0.0->hvplot) (3.0.7)\n",
            "Requirement already satisfied: pytz>=2017.3 in /usr/local/lib/python3.7/dist-packages (from pandas->hvplot) (2018.9)\n",
            "Requirement already satisfied: requests in /usr/local/lib/python3.7/dist-packages (from panel>=0.8.0->holoviews>=1.11.0->hvplot) (2.23.0)\n",
            "Requirement already satisfied: tqdm>=4.48.0 in /usr/local/lib/python3.7/dist-packages (from panel>=0.8.0->holoviews>=1.11.0->hvplot) (4.62.3)\n",
            "Requirement already satisfied: bleach in /usr/local/lib/python3.7/dist-packages (from panel>=0.8.0->holoviews>=1.11.0->hvplot) (4.1.0)\n",
            "Requirement already satisfied: markdown in /usr/local/lib/python3.7/dist-packages (from panel>=0.8.0->holoviews>=1.11.0->hvplot) (3.3.6)\n",
            "Requirement already satisfied: six>=1.5 in /usr/local/lib/python3.7/dist-packages (from python-dateutil>=2.1->bokeh>=1.0.0->hvplot) (1.15.0)\n",
            "Requirement already satisfied: webencodings in /usr/local/lib/python3.7/dist-packages (from bleach->panel>=0.8.0->holoviews>=1.11.0->hvplot) (0.5.1)\n",
            "Requirement already satisfied: importlib-metadata>=4.4 in /usr/local/lib/python3.7/dist-packages (from markdown->panel>=0.8.0->holoviews>=1.11.0->hvplot) (4.11.0)\n",
            "Requirement already satisfied: zipp>=0.5 in /usr/local/lib/python3.7/dist-packages (from importlib-metadata>=4.4->markdown->panel>=0.8.0->holoviews>=1.11.0->hvplot) (3.7.0)\n",
            "Requirement already satisfied: chardet<4,>=3.0.2 in /usr/local/lib/python3.7/dist-packages (from requests->panel>=0.8.0->holoviews>=1.11.0->hvplot) (3.0.4)\n",
            "Requirement already satisfied: idna<3,>=2.5 in /usr/local/lib/python3.7/dist-packages (from requests->panel>=0.8.0->holoviews>=1.11.0->hvplot) (2.10)\n",
            "Requirement already satisfied: certifi>=2017.4.17 in /usr/local/lib/python3.7/dist-packages (from requests->panel>=0.8.0->holoviews>=1.11.0->hvplot) (2021.10.8)\n",
            "Requirement already satisfied: urllib3!=1.25.0,!=1.25.1,<1.26,>=1.21.1 in /usr/local/lib/python3.7/dist-packages (from requests->panel>=0.8.0->holoviews>=1.11.0->hvplot) (1.24.3)\n",
            "Installing collected packages: hvplot\n",
            "Successfully installed hvplot-0.7.3\n"
          ]
        }
      ]
    },
    {
      "cell_type": "code",
      "source": [
        "pip install yfinance"
      ],
      "metadata": {
        "colab": {
          "base_uri": "https://localhost:8080/",
          "height": 650
        },
        "id": "h_xMaeH8sNED",
        "outputId": "68afb6e1-c74e-4aaf-e669-7983ef4fadee"
      },
      "execution_count": 4,
      "outputs": [
        {
          "output_type": "stream",
          "name": "stdout",
          "text": [
            "Collecting yfinance\n",
            "  Downloading yfinance-0.1.70-py2.py3-none-any.whl (26 kB)\n",
            "Collecting requests>=2.26\n",
            "  Downloading requests-2.27.1-py2.py3-none-any.whl (63 kB)\n",
            "\u001b[K     |████████████████████████████████| 63 kB 1.2 MB/s \n",
            "\u001b[?25hRequirement already satisfied: pandas>=0.24.0 in /usr/local/lib/python3.7/dist-packages (from yfinance) (1.3.5)\n",
            "Requirement already satisfied: numpy>=1.15 in /usr/local/lib/python3.7/dist-packages (from yfinance) (1.21.5)\n",
            "Collecting lxml>=4.5.1\n",
            "  Downloading lxml-4.8.0-cp37-cp37m-manylinux_2_17_x86_64.manylinux2014_x86_64.manylinux_2_24_x86_64.whl (6.4 MB)\n",
            "\u001b[K     |████████████████████████████████| 6.4 MB 11.5 MB/s \n",
            "\u001b[?25hRequirement already satisfied: multitasking>=0.0.7 in /usr/local/lib/python3.7/dist-packages (from yfinance) (0.0.10)\n",
            "Requirement already satisfied: python-dateutil>=2.7.3 in /usr/local/lib/python3.7/dist-packages (from pandas>=0.24.0->yfinance) (2.8.2)\n",
            "Requirement already satisfied: pytz>=2017.3 in /usr/local/lib/python3.7/dist-packages (from pandas>=0.24.0->yfinance) (2018.9)\n",
            "Requirement already satisfied: six>=1.5 in /usr/local/lib/python3.7/dist-packages (from python-dateutil>=2.7.3->pandas>=0.24.0->yfinance) (1.15.0)\n",
            "Requirement already satisfied: charset-normalizer~=2.0.0 in /usr/local/lib/python3.7/dist-packages (from requests>=2.26->yfinance) (2.0.11)\n",
            "Requirement already satisfied: urllib3<1.27,>=1.21.1 in /usr/local/lib/python3.7/dist-packages (from requests>=2.26->yfinance) (1.24.3)\n",
            "Requirement already satisfied: idna<4,>=2.5 in /usr/local/lib/python3.7/dist-packages (from requests>=2.26->yfinance) (2.10)\n",
            "Requirement already satisfied: certifi>=2017.4.17 in /usr/local/lib/python3.7/dist-packages (from requests>=2.26->yfinance) (2021.10.8)\n",
            "Installing collected packages: requests, lxml, yfinance\n",
            "  Attempting uninstall: requests\n",
            "    Found existing installation: requests 2.23.0\n",
            "    Uninstalling requests-2.23.0:\n",
            "      Successfully uninstalled requests-2.23.0\n",
            "  Attempting uninstall: lxml\n",
            "    Found existing installation: lxml 4.2.6\n",
            "    Uninstalling lxml-4.2.6:\n",
            "      Successfully uninstalled lxml-4.2.6\n",
            "\u001b[31mERROR: pip's dependency resolver does not currently take into account all the packages that are installed. This behaviour is the source of the following dependency conflicts.\n",
            "google-colab 1.0.0 requires requests~=2.23.0, but you have requests 2.27.1 which is incompatible.\n",
            "datascience 0.10.6 requires folium==0.2.1, but you have folium 0.8.3 which is incompatible.\u001b[0m\n",
            "Successfully installed lxml-4.8.0 requests-2.27.1 yfinance-0.1.70\n"
          ]
        },
        {
          "output_type": "display_data",
          "data": {
            "application/vnd.colab-display-data+json": {
              "pip_warning": {
                "packages": [
                  "requests"
                ]
              }
            }
          },
          "metadata": {}
        }
      ]
    },
    {
      "cell_type": "code",
      "execution_count": 5,
      "metadata": {
        "colab": {
          "base_uri": "https://localhost:8080/"
        },
        "id": "KuJEYPVOrxYd",
        "outputId": "f6f9d034-2ce7-4223-ce66-77ac67c90d5a"
      },
      "outputs": [
        {
          "output_type": "stream",
          "name": "stdout",
          "text": [
            "[*********************100%***********************]  4 of 4 completed\n"
          ]
        }
      ],
      "source": [
        "# Import libraries and dependencies\n",
        "import pandas as pd\n",
        "import hvplot.pandas\n",
        "\n",
        "import yfinance as yf\n",
        "\n",
        "import seaborn as sns\n",
        "import panel as pn\n",
        "import matplotlib.pyplot as plt\n",
        "%matplotlib inline\n",
        "\n",
        "# Donwload data from yfinance\n",
        "crypto_df = yf.download(tickers = \"BTC-USD ETH-USD DOGE-USD ADA-USD\", start = \"2021-09-01\", end = \"2021-10-01\")"
      ]
    },
    {
      "cell_type": "code",
      "source": [
        "# Slice for \"Adj Close\" column only\n",
        "close_df = crypto_df[\"Adj Close\"]\n",
        "\n",
        "# Visualize top rows\n",
        "close_df.head()\n",
        "\n",
        "# Get daily returns, drop null values\n",
        "daily_returns = close_df.pct_change().dropna()*100\n",
        "\n",
        "# Visualize top rows\n",
        "daily_returns.head()"
      ],
      "metadata": {
        "colab": {
          "base_uri": "https://localhost:8080/",
          "height": 235
        },
        "id": "SvQE3JFDsDuc",
        "outputId": "27688b66-72b5-4c4c-8d4f-18fc85aa38f5"
      },
      "execution_count": 6,
      "outputs": [
        {
          "output_type": "execute_result",
          "data": {
            "text/html": [
              "\n",
              "  <div id=\"df-2e6381d8-2a6e-4f21-9be6-2f2d732a8790\">\n",
              "    <div class=\"colab-df-container\">\n",
              "      <div>\n",
              "<style scoped>\n",
              "    .dataframe tbody tr th:only-of-type {\n",
              "        vertical-align: middle;\n",
              "    }\n",
              "\n",
              "    .dataframe tbody tr th {\n",
              "        vertical-align: top;\n",
              "    }\n",
              "\n",
              "    .dataframe thead th {\n",
              "        text-align: right;\n",
              "    }\n",
              "</style>\n",
              "<table border=\"1\" class=\"dataframe\">\n",
              "  <thead>\n",
              "    <tr style=\"text-align: right;\">\n",
              "      <th></th>\n",
              "      <th>ADA-USD</th>\n",
              "      <th>BTC-USD</th>\n",
              "      <th>DOGE-USD</th>\n",
              "      <th>ETH-USD</th>\n",
              "    </tr>\n",
              "    <tr>\n",
              "      <th>Date</th>\n",
              "      <th></th>\n",
              "      <th></th>\n",
              "      <th></th>\n",
              "      <th></th>\n",
              "    </tr>\n",
              "  </thead>\n",
              "  <tbody>\n",
              "    <tr>\n",
              "      <th>2021-09-02</th>\n",
              "      <td>3.228089</td>\n",
              "      <td>0.984083</td>\n",
              "      <td>0.527856</td>\n",
              "      <td>-1.143158</td>\n",
              "    </tr>\n",
              "    <tr>\n",
              "      <th>2021-09-03</th>\n",
              "      <td>0.162009</td>\n",
              "      <td>1.414321</td>\n",
              "      <td>0.107446</td>\n",
              "      <td>3.946852</td>\n",
              "    </tr>\n",
              "    <tr>\n",
              "      <th>2021-09-04</th>\n",
              "      <td>-4.562705</td>\n",
              "      <td>-0.161418</td>\n",
              "      <td>1.051395</td>\n",
              "      <td>-1.339547</td>\n",
              "    </tr>\n",
              "    <tr>\n",
              "      <th>2021-09-05</th>\n",
              "      <td>2.754053</td>\n",
              "      <td>3.621581</td>\n",
              "      <td>5.056654</td>\n",
              "      <td>1.654013</td>\n",
              "    </tr>\n",
              "    <tr>\n",
              "      <th>2021-09-06</th>\n",
              "      <td>-2.711502</td>\n",
              "      <td>1.700613</td>\n",
              "      <td>-1.831961</td>\n",
              "      <td>-0.601046</td>\n",
              "    </tr>\n",
              "  </tbody>\n",
              "</table>\n",
              "</div>\n",
              "      <button class=\"colab-df-convert\" onclick=\"convertToInteractive('df-2e6381d8-2a6e-4f21-9be6-2f2d732a8790')\"\n",
              "              title=\"Convert this dataframe to an interactive table.\"\n",
              "              style=\"display:none;\">\n",
              "        \n",
              "  <svg xmlns=\"http://www.w3.org/2000/svg\" height=\"24px\"viewBox=\"0 0 24 24\"\n",
              "       width=\"24px\">\n",
              "    <path d=\"M0 0h24v24H0V0z\" fill=\"none\"/>\n",
              "    <path d=\"M18.56 5.44l.94 2.06.94-2.06 2.06-.94-2.06-.94-.94-2.06-.94 2.06-2.06.94zm-11 1L8.5 8.5l.94-2.06 2.06-.94-2.06-.94L8.5 2.5l-.94 2.06-2.06.94zm10 10l.94 2.06.94-2.06 2.06-.94-2.06-.94-.94-2.06-.94 2.06-2.06.94z\"/><path d=\"M17.41 7.96l-1.37-1.37c-.4-.4-.92-.59-1.43-.59-.52 0-1.04.2-1.43.59L10.3 9.45l-7.72 7.72c-.78.78-.78 2.05 0 2.83L4 21.41c.39.39.9.59 1.41.59.51 0 1.02-.2 1.41-.59l7.78-7.78 2.81-2.81c.8-.78.8-2.07 0-2.86zM5.41 20L4 18.59l7.72-7.72 1.47 1.35L5.41 20z\"/>\n",
              "  </svg>\n",
              "      </button>\n",
              "      \n",
              "  <style>\n",
              "    .colab-df-container {\n",
              "      display:flex;\n",
              "      flex-wrap:wrap;\n",
              "      gap: 12px;\n",
              "    }\n",
              "\n",
              "    .colab-df-convert {\n",
              "      background-color: #E8F0FE;\n",
              "      border: none;\n",
              "      border-radius: 50%;\n",
              "      cursor: pointer;\n",
              "      display: none;\n",
              "      fill: #1967D2;\n",
              "      height: 32px;\n",
              "      padding: 0 0 0 0;\n",
              "      width: 32px;\n",
              "    }\n",
              "\n",
              "    .colab-df-convert:hover {\n",
              "      background-color: #E2EBFA;\n",
              "      box-shadow: 0px 1px 2px rgba(60, 64, 67, 0.3), 0px 1px 3px 1px rgba(60, 64, 67, 0.15);\n",
              "      fill: #174EA6;\n",
              "    }\n",
              "\n",
              "    [theme=dark] .colab-df-convert {\n",
              "      background-color: #3B4455;\n",
              "      fill: #D2E3FC;\n",
              "    }\n",
              "\n",
              "    [theme=dark] .colab-df-convert:hover {\n",
              "      background-color: #434B5C;\n",
              "      box-shadow: 0px 1px 3px 1px rgba(0, 0, 0, 0.15);\n",
              "      filter: drop-shadow(0px 1px 2px rgba(0, 0, 0, 0.3));\n",
              "      fill: #FFFFFF;\n",
              "    }\n",
              "  </style>\n",
              "\n",
              "      <script>\n",
              "        const buttonEl =\n",
              "          document.querySelector('#df-2e6381d8-2a6e-4f21-9be6-2f2d732a8790 button.colab-df-convert');\n",
              "        buttonEl.style.display =\n",
              "          google.colab.kernel.accessAllowed ? 'block' : 'none';\n",
              "\n",
              "        async function convertToInteractive(key) {\n",
              "          const element = document.querySelector('#df-2e6381d8-2a6e-4f21-9be6-2f2d732a8790');\n",
              "          const dataTable =\n",
              "            await google.colab.kernel.invokeFunction('convertToInteractive',\n",
              "                                                     [key], {});\n",
              "          if (!dataTable) return;\n",
              "\n",
              "          const docLinkHtml = 'Like what you see? Visit the ' +\n",
              "            '<a target=\"_blank\" href=https://colab.research.google.com/notebooks/data_table.ipynb>data table notebook</a>'\n",
              "            + ' to learn more about interactive tables.';\n",
              "          element.innerHTML = '';\n",
              "          dataTable['output_type'] = 'display_data';\n",
              "          await google.colab.output.renderOutput(dataTable, element);\n",
              "          const docLink = document.createElement('div');\n",
              "          docLink.innerHTML = docLinkHtml;\n",
              "          element.appendChild(docLink);\n",
              "        }\n",
              "      </script>\n",
              "    </div>\n",
              "  </div>\n",
              "  "
            ],
            "text/plain": [
              "             ADA-USD   BTC-USD  DOGE-USD   ETH-USD\n",
              "Date                                              \n",
              "2021-09-02  3.228089  0.984083  0.527856 -1.143158\n",
              "2021-09-03  0.162009  1.414321  0.107446  3.946852\n",
              "2021-09-04 -4.562705 -0.161418  1.051395 -1.339547\n",
              "2021-09-05  2.754053  3.621581  5.056654  1.654013\n",
              "2021-09-06 -2.711502  1.700613 -1.831961 -0.601046"
            ]
          },
          "metadata": {},
          "execution_count": 6
        }
      ]
    },
    {
      "cell_type": "code",
      "source": [
        "# Get average daily returns\n",
        "average_returns = daily_returns.mean()*100\n",
        "average_returns"
      ],
      "metadata": {
        "colab": {
          "base_uri": "https://localhost:8080/"
        },
        "id": "RsIZR0wQsS6q",
        "outputId": "d9f6e0d5-8343-468a-e76c-e126837b36ff"
      },
      "execution_count": 7,
      "outputs": [
        {
          "output_type": "execute_result",
          "data": {
            "text/plain": [
              "ADA-USD    -65.955315\n",
              "BTC-USD      4.074696\n",
              "DOGE-USD   -77.163872\n",
              "ETH-USD    -34.148767\n",
              "dtype: float64"
            ]
          },
          "metadata": {},
          "execution_count": 7
        }
      ]
    },
    {
      "cell_type": "code",
      "source": [
        "# Create bar chart\n",
        "return_bar = average_returns.hvplot.bar(\n",
        "               xlabel = \"Crypto Tickers\", \n",
        "               ylabel = \"Average Percentage Change\", \n",
        "               title = \"Cryptocurriences Average Percentage Change on September 2021\")"
      ],
      "metadata": {
        "id": "7_wLh8KxsT9F"
      },
      "execution_count": 8,
      "outputs": []
    },
    {
      "cell_type": "code",
      "source": [
        "# Create line chart\n",
        "return_line = daily_returns.hvplot.line(\n",
        "               xlabel = \"Date\", \n",
        "               ylabel = \"Percentage Change\", \n",
        "               title = \"Cryptocurriences Daily Returns\",\n",
        "               legend = \"right\")"
      ],
      "metadata": {
        "id": "xXnvtneHsVRx"
      },
      "execution_count": 9,
      "outputs": []
    },
    {
      "cell_type": "code",
      "source": [
        "# Create correlation heatmap\n",
        "def correlation_plot():\n",
        "    correlation_fig = plt.figure()\n",
        "    correlation = sns.heatmap(daily_returns.corr()).set_title(\"Correlation Heatmap\")\n",
        "    plt.close(correlation_fig)\n",
        "    return pn.pane.Matplotlib(correlation_fig, tight=True)"
      ],
      "metadata": {
        "id": "Nza8hNOUsXVr"
      },
      "execution_count": 10,
      "outputs": []
    },
    {
      "cell_type": "code",
      "source": [
        "# Build dashboard\n",
        "dashboard = pn.Column(\n",
        "    \"#Cryptocurrencies Analysis Dashboard\",\n",
        "    return_bar,\n",
        "    \"The bar chart above displays the average percentage change for each of the analyzed cryptocurrencies. The higher the percentage change the better for the investor, since he/she would have a better return on his/her investment.\",\n",
        "    \"Acording to the bar chart, Bitcoin (BTC-USD) represnts the best option for investors interested in cryptocurrencies.\",\n",
        "    return_line,    \n",
        "    \"The line chart above visualizes the daily returns for the analyzed cryptocurrencies. This helps investors understand the cryptocurrencies volatility over time and in respect with one another.\",\n",
        "    \"According to the line chart, it can be assumed that these four cryptocurrencies follow a similar trend across time.\",\n",
        "     correlation_plot(),\n",
        "    \"The correlation heatmap above helps understanding the dependency between the four analyzed cryptocurrencies.\",\n",
        "    \"According to the correlation plot, all four cryptocurrencies have strong positive correlation between each other, which means that if the value of one cryptocurrency increases, it is expected that the value of the other ones will increase as well.\",\n",
        "    \"*---*\",\n",
        "    \"***Dashboard Created by: Justin Farnan***\")"
      ],
      "metadata": {
        "id": "Qa12_mv4saZ1"
      },
      "execution_count": 11,
      "outputs": []
    },
    {
      "cell_type": "code",
      "source": [
        "# Visualize dashboard\n",
        "dashboard"
      ],
      "metadata": {
        "colab": {
          "base_uri": "https://localhost:8080/",
          "height": 17
        },
        "id": "u_YVjmlCscK2",
        "outputId": "e01a23c0-8bfb-4dd0-d67d-dc090f8b3f10"
      },
      "execution_count": 12,
      "outputs": [
        {
          "output_type": "execute_result",
          "data": {
            "application/vnd.holoviews_exec.v0+json": "",
            "text/plain": [
              "Column\n",
              "    [0] Markdown(str)\n",
              "    [1] HoloViews(Bars)\n",
              "    [2] Markdown(str)\n",
              "    [3] Markdown(str)\n",
              "    [4] HoloViews(NdOverlay)\n",
              "    [5] Markdown(str)\n",
              "    [6] Markdown(str)\n",
              "    [7] Matplotlib(Figure, tight=True)\n",
              "    [8] Markdown(str)\n",
              "    [9] Markdown(str)\n",
              "    [10] Markdown(str)\n",
              "    [11] Markdown(str)"
            ],
            "text/html": [
              "<div id='1002'>\n",
              "\n",
              "\n",
              "\n",
              "\n",
              "\n",
              "  <div class=\"bk-root\" id=\"c377a0e3-520b-4c3b-9f09-91958477aab4\" data-root-id=\"1002\"></div>\n",
              "</div>\n",
              "<script type=\"application/javascript\">(function(root) {\n",
              "  function embed_document(root) {\n",
              "    var docs_json = {\"6fa74117-42c4-4925-889c-4fb19f5579cf\":{\"defs\":[{\"extends\":null,\"module\":null,\"name\":\"ReactiveHTML1\",\"overrides\":[],\"properties\":[]},{\"extends\":null,\"module\":null,\"name\":\"FlexBox1\",\"overrides\":[],\"properties\":[{\"default\":\"flex-start\",\"kind\":null,\"name\":\"align_content\"},{\"default\":\"flex-start\",\"kind\":null,\"name\":\"align_items\"},{\"default\":\"row\",\"kind\":null,\"name\":\"flex_direction\"},{\"default\":\"wrap\",\"kind\":null,\"name\":\"flex_wrap\"},{\"default\":\"flex-start\",\"kind\":null,\"name\":\"justify_content\"}]},{\"extends\":null,\"module\":null,\"name\":\"TemplateActions1\",\"overrides\":[],\"properties\":[{\"default\":0,\"kind\":null,\"name\":\"open_modal\"},{\"default\":0,\"kind\":null,\"name\":\"close_modal\"}]},{\"extends\":null,\"module\":null,\"name\":\"MaterialTemplateActions1\",\"overrides\":[],\"properties\":[{\"default\":0,\"kind\":null,\"name\":\"open_modal\"},{\"default\":0,\"kind\":null,\"name\":\"close_modal\"}]}],\"roots\":{\"references\":[{\"attributes\":{},\"id\":\"1012\",\"type\":\"CategoricalScale\"},{\"attributes\":{\"line_alpha\":0.1,\"line_color\":\"#fc4f30\",\"line_width\":2,\"x\":{\"field\":\"Date\"},\"y\":{\"field\":\"value\"}},\"id\":\"1152\",\"type\":\"Line\"},{\"attributes\":{},\"id\":\"1098\",\"type\":\"WheelZoomTool\"},{\"attributes\":{},\"id\":\"1014\",\"type\":\"LinearScale\"},{\"attributes\":{\"line_alpha\":0.2,\"line_color\":\"#fc4f30\",\"line_width\":2,\"x\":{\"field\":\"Date\"},\"y\":{\"field\":\"value\"}},\"id\":\"1153\",\"type\":\"Line\"},{\"attributes\":{},\"id\":\"1046\",\"type\":\"AllLabels\"},{\"attributes\":{\"overlay\":{\"id\":\"1101\"}},\"id\":\"1099\",\"type\":\"BoxZoomTool\"},{\"attributes\":{\"data\":{\"Date\":{\"__ndarray__\":\"AAAA4jy6d0IAAMBHj7p3QgAAgK3hundCAABAEzS7d0IAAAB5hrt3QgAAwN7Yu3dCAACARCu8d0IAAECqfbx3QgAAABDQvHdCAADAdSK9d0IAAIDbdL13QgAAQEHHvXdCAAAApxm+d0IAAMAMbL53QgAAgHK+vndCAABA2BC/d0IAAAA+Y793QgAAwKO1v3dCAACACQjAd0IAAEBvWsB3QgAAANWswHdCAADAOv/Ad0IAAICgUcF3QgAAQAakwXdCAAAAbPbBd0IAAMDRSMJ3QgAAgDebwndCAABAne3Cd0IAAAADQMN3QgAAwGiSw3dC\",\"dtype\":\"float64\",\"order\":\"little\",\"shape\":[30]},\"Variable\":[\"BTC-USD\",\"BTC-USD\",\"BTC-USD\",\"BTC-USD\",\"BTC-USD\",\"BTC-USD\",\"BTC-USD\",\"BTC-USD\",\"BTC-USD\",\"BTC-USD\",\"BTC-USD\",\"BTC-USD\",\"BTC-USD\",\"BTC-USD\",\"BTC-USD\",\"BTC-USD\",\"BTC-USD\",\"BTC-USD\",\"BTC-USD\",\"BTC-USD\",\"BTC-USD\",\"BTC-USD\",\"BTC-USD\",\"BTC-USD\",\"BTC-USD\",\"BTC-USD\",\"BTC-USD\",\"BTC-USD\",\"BTC-USD\",\"BTC-USD\"],\"value\":{\"__ndarray__\":\"GM4euJt97z+shWoQD6H2P+Dj/P9YqcS/xP5Ekv/4DEAweHmHtTX7P2LYjIfTHybAKGEaEsCZ+L9Am5MaktTkPzzzlz4T/wnAoO1FUbej5j8ERjqHcoH+P552a26IGwPAZPLGnJbxEkBUTRUPkWkCQOQaaQRzGuq/Klj6V8pF8b/W4PXFxBsBQEn9LkYJ3wDAUrR1HpawIsBuK28V9xIUwCQZYgI3URxAfH9YQMQ+CEDgmCR6/E8SwMiewcQXZtK/qDCbtydt8j+W9BsD7AICwAAgNTOHwAbAZKTbFZSo9D/IUmMxZG0VQLRev6X7wSNA\",\"dtype\":\"float64\",\"order\":\"little\",\"shape\":[30]}},\"selected\":{\"id\":\"1149\"},\"selection_policy\":{\"id\":\"1178\"}},\"id\":\"1148\",\"type\":\"ColumnDataSource\"},{\"attributes\":{\"axis\":{\"id\":\"1016\"},\"grid_line_color\":null,\"ticker\":null},\"id\":\"1018\",\"type\":\"Grid\"},{\"attributes\":{\"base\":60,\"mantissas\":[1,2,5,10,15,20,30],\"max_interval\":1800000.0,\"min_interval\":1000.0,\"num_minor_ticks\":0},\"id\":\"1131\",\"type\":\"AdaptiveTicker\"},{\"attributes\":{\"data\":{\"Date\":{\"__ndarray__\":\"AAAA4jy6d0IAAMBHj7p3QgAAgK3hundCAABAEzS7d0IAAAB5hrt3QgAAwN7Yu3dCAACARCu8d0IAAECqfbx3QgAAABDQvHdCAADAdSK9d0IAAIDbdL13QgAAQEHHvXdCAAAApxm+d0IAAMAMbL53QgAAgHK+vndCAABA2BC/d0IAAAA+Y793QgAAwKO1v3dCAACACQjAd0IAAEBvWsB3QgAAANWswHdCAADAOv/Ad0IAAICgUcF3QgAAQAakwXdCAAAAbPbBd0IAAMDRSMJ3QgAAgDebwndCAABAne3Cd0IAAAADQMN3QgAAwGiSw3dC\",\"dtype\":\"float64\",\"order\":\"little\",\"shape\":[30]},\"Variable\":[\"ETH-USD\",\"ETH-USD\",\"ETH-USD\",\"ETH-USD\",\"ETH-USD\",\"ETH-USD\",\"ETH-USD\",\"ETH-USD\",\"ETH-USD\",\"ETH-USD\",\"ETH-USD\",\"ETH-USD\",\"ETH-USD\",\"ETH-USD\",\"ETH-USD\",\"ETH-USD\",\"ETH-USD\",\"ETH-USD\",\"ETH-USD\",\"ETH-USD\",\"ETH-USD\",\"ETH-USD\",\"ETH-USD\",\"ETH-USD\",\"ETH-USD\",\"ETH-USD\",\"ETH-USD\",\"ETH-USD\",\"ETH-USD\",\"ETH-USD\"],\"value\":{\"__ndarray__\":\"eMbjxl9K8r907XwGJ5MPQObk+ZPIbvW/NFPjCtZ2+j94jltXxTvjv/6P+QeOjinAOrpBkAiPAEAgWpCnrwEAwGi3dJ2QMBnAhJsWRORH/T/lZhjkOhsRQNrvs9VhPA3AX02xVWh9EUDn12I2m7UVQKZHCzitd/O/IngzyHJZE8CgilpxDobvP75ujZi26AfAi3nFndJAJsDgsr+QF00awLTl+bYorSZAFIN3SC4vBECJ0rktT2AcwCC5iFcNpsq/8Eftl7uwEkDbbO92dbwQwI9HlK+7ShHAlCiqTEgh+j/F0vzi+tIUQDuuPYizYCRA\",\"dtype\":\"float64\",\"order\":\"little\",\"shape\":[30]}},\"selected\":{\"id\":\"1219\"},\"selection_policy\":{\"id\":\"1252\"}},\"id\":\"1218\",\"type\":\"ColumnDataSource\"},{\"attributes\":{\"data_source\":{\"id\":\"1148\"},\"glyph\":{\"id\":\"1151\"},\"hover_glyph\":null,\"muted_glyph\":{\"id\":\"1153\"},\"nonselection_glyph\":{\"id\":\"1152\"},\"selection_glyph\":{\"id\":\"1181\"},\"view\":{\"id\":\"1155\"}},\"id\":\"1154\",\"type\":\"GlyphRenderer\"},{\"attributes\":{},\"id\":\"1017\",\"type\":\"CategoricalTicker\"},{\"attributes\":{\"end\":1633046400000.0,\"reset_end\":1633046400000.0,\"reset_start\":1630540800000.0,\"start\":1630540800000.0,\"tags\":[[[\"Date\",\"Date\",null]]]},\"id\":\"1073\",\"type\":\"Range1d\"},{\"attributes\":{},\"id\":\"1100\",\"type\":\"ResetTool\"},{\"attributes\":{},\"id\":\"1178\",\"type\":\"UnionRenderers\"},{\"attributes\":{\"source\":{\"id\":\"1148\"}},\"id\":\"1155\",\"type\":\"CDSView\"},{\"attributes\":{},\"id\":\"1116\",\"type\":\"Selection\"},{\"attributes\":{\"axis\":{\"id\":\"1019\"},\"dimension\":1,\"grid_line_color\":null,\"ticker\":null},\"id\":\"1022\",\"type\":\"Grid\"},{\"attributes\":{\"reload\":false},\"id\":\"1744\",\"type\":\"panel.models.location.Location\"},{\"attributes\":{\"data\":{\"A_0\":{\"__ndarray__\":\"fxtr4SN9UMBYGqQUfUwQQEGC3OF8SlPAdcfXygoTQcA=\",\"dtype\":\"float64\",\"order\":\"little\",\"shape\":[4]},\"index\":[\"ADA-USD\",\"BTC-USD\",\"DOGE-USD\",\"ETH-USD\"]},\"selected\":{\"id\":\"1037\"},\"selection_policy\":{\"id\":\"1059\"}},\"id\":\"1036\",\"type\":\"ColumnDataSource\"},{\"attributes\":{},\"id\":\"1059\",\"type\":\"UnionRenderers\"},{\"attributes\":{\"label\":{\"value\":\"BTC-USD\"},\"renderers\":[{\"id\":\"1154\"}]},\"id\":\"1180\",\"type\":\"LegendItem\"},{\"attributes\":{\"data\":{\"Date\":{\"__ndarray__\":\"AAAA4jy6d0IAAMBHj7p3QgAAgK3hundCAABAEzS7d0IAAAB5hrt3QgAAwN7Yu3dCAACARCu8d0IAAECqfbx3QgAAABDQvHdCAADAdSK9d0IAAIDbdL13QgAAQEHHvXdCAAAApxm+d0IAAMAMbL53QgAAgHK+vndCAABA2BC/d0IAAAA+Y793QgAAwKO1v3dCAACACQjAd0IAAEBvWsB3QgAAANWswHdCAADAOv/Ad0IAAICgUcF3QgAAQAakwXdCAAAAbPbBd0IAAMDRSMJ3QgAAgDebwndCAABAne3Cd0IAAAADQMN3QgAAwGiSw3dC\",\"dtype\":\"float64\",\"order\":\"little\",\"shape\":[30]},\"Variable\":[\"DOGE-USD\",\"DOGE-USD\",\"DOGE-USD\",\"DOGE-USD\",\"DOGE-USD\",\"DOGE-USD\",\"DOGE-USD\",\"DOGE-USD\",\"DOGE-USD\",\"DOGE-USD\",\"DOGE-USD\",\"DOGE-USD\",\"DOGE-USD\",\"DOGE-USD\",\"DOGE-USD\",\"DOGE-USD\",\"DOGE-USD\",\"DOGE-USD\",\"DOGE-USD\",\"DOGE-USD\",\"DOGE-USD\",\"DOGE-USD\",\"DOGE-USD\",\"DOGE-USD\",\"DOGE-USD\",\"DOGE-USD\",\"DOGE-USD\",\"DOGE-USD\",\"DOGE-USD\",\"DOGE-USD\"],\"value\":{\"__ndarray__\":\"4J5cjzHk4D+Ah5DmjoG7P6weCy2D0vA/z1wZZAM6FECI9YLrtU/9vzDUQbLX0THAoORAsFQ+9T/6pyC+8Rv8vzh7m/+X+RPAIPXjULZV4z9kI44ZYW8OQMJNALrJehfA3ihFgbBJAECw56sJhTkHQICrKkt7mwDAnizxk9BQ8b8wK0fKPGvjPw/J/B57UgvAVKvrmWpdJsAuIOvQtlkHwEB6yDqRtSdAADiQpdquh7/yiyOtSl0bwNB4oyoDyNi/krHWGJo0/L/ERzBLSlgCwGqWHoS0oPu/uKu9m1nY8D/sdpSQ6JcFQLWLIIJFYCJA\",\"dtype\":\"float64\",\"order\":\"little\",\"shape\":[30]}},\"selected\":{\"id\":\"1183\"},\"selection_policy\":{\"id\":\"1214\"}},\"id\":\"1182\",\"type\":\"ColumnDataSource\"},{\"attributes\":{},\"id\":\"1050\",\"type\":\"BasicTickFormatter\"},{\"attributes\":{},\"id\":\"1020\",\"type\":\"BasicTicker\"},{\"attributes\":{},\"id\":\"1037\",\"type\":\"Selection\"},{\"attributes\":{\"axis_label\":\"Average Percentage Change\",\"formatter\":{\"id\":\"1050\"},\"major_label_policy\":{\"id\":\"1049\"},\"ticker\":{\"id\":\"1020\"}},\"id\":\"1019\",\"type\":\"LinearAxis\"},{\"attributes\":{\"click_policy\":\"mute\",\"items\":[{\"id\":\"1146\"},{\"id\":\"1180\"},{\"id\":\"1216\"},{\"id\":\"1254\"}],\"location\":[0,0],\"title\":\"Variable\"},\"id\":\"1145\",\"type\":\"Legend\"},{\"attributes\":{\"data_source\":{\"id\":\"1182\"},\"glyph\":{\"id\":\"1185\"},\"hover_glyph\":null,\"muted_glyph\":{\"id\":\"1187\"},\"nonselection_glyph\":{\"id\":\"1186\"},\"selection_glyph\":{\"id\":\"1217\"},\"view\":{\"id\":\"1189\"}},\"id\":\"1188\",\"type\":\"GlyphRenderer\"},{\"attributes\":{\"mantissas\":[1,2,5],\"max_interval\":500.0,\"num_minor_ticks\":0},\"id\":\"1130\",\"type\":\"AdaptiveTicker\"},{\"attributes\":{\"css_classes\":[\"markdown\"],\"margin\":[5,5,5,5],\"name\":\"Markdown01779\",\"text\":\"&lt;p&gt;Acording to the bar chart, Bitcoin (BTC-USD) represnts the best option for investors interested in cryptocurrencies.&lt;/p&gt;\"},\"id\":\"1072\",\"type\":\"panel.models.markup.HTML\"},{\"attributes\":{\"line_alpha\":0.1,\"line_color\":\"#30a2da\",\"line_width\":2,\"x\":{\"field\":\"Date\"},\"y\":{\"field\":\"value\"}},\"id\":\"1119\",\"type\":\"Line\"},{\"attributes\":{\"fill_alpha\":{\"value\":0.1},\"fill_color\":{\"value\":\"#30a2da\"},\"line_alpha\":{\"value\":0.1},\"top\":{\"field\":\"A_0\"},\"width\":{\"value\":0.8},\"x\":{\"field\":\"index\"}},\"id\":\"1040\",\"type\":\"VBar\"},{\"attributes\":{\"css_classes\":[\"markdown\"],\"margin\":[5,5,5,5],\"name\":\"Markdown01788\",\"text\":\"&lt;p&gt;According to the line chart, it can be assumed that these four cryptocurrencies follow a similar trend across time.&lt;/p&gt;\"},\"id\":\"1509\",\"type\":\"panel.models.markup.HTML\"},{\"attributes\":{\"line_color\":\"#e5ae38\",\"line_width\":2,\"x\":{\"field\":\"Date\"},\"y\":{\"field\":\"value\"}},\"id\":\"1185\",\"type\":\"Line\"},{\"attributes\":{\"end\":17.235669293929764,\"reset_end\":17.235669293929764,\"reset_start\":-21.00654904265054,\"start\":-21.00654904265054,\"tags\":[[[\"value\",\"value\",null]]]},\"id\":\"1074\",\"type\":\"Range1d\"},{\"attributes\":{\"line_alpha\":0.1,\"line_color\":\"#6d904f\",\"line_width\":2,\"x\":{\"field\":\"Date\"},\"y\":{\"field\":\"value\"}},\"id\":\"1222\",\"type\":\"Line\"},{\"attributes\":{\"children\":[{\"id\":\"1003\"},{\"id\":\"1007\"},{\"id\":\"1071\"},{\"id\":\"1072\"},{\"id\":\"1079\"},{\"id\":\"1508\"},{\"id\":\"1509\"},{\"id\":\"1510\"},{\"id\":\"1511\"},{\"id\":\"1512\"},{\"id\":\"1513\"},{\"id\":\"1514\"}],\"margin\":[0,0,0,0],\"name\":\"Column01798\"},\"id\":\"1002\",\"type\":\"Column\"},{\"attributes\":{\"source\":{\"id\":\"1115\"}},\"id\":\"1122\",\"type\":\"CDSView\"},{\"attributes\":{\"line_color\":\"#fc4f30\",\"line_width\":2,\"x\":{\"field\":\"Date\"},\"y\":{\"field\":\"value\"}},\"id\":\"1181\",\"type\":\"Line\"},{\"attributes\":{\"data_source\":{\"id\":\"1115\"},\"glyph\":{\"id\":\"1118\"},\"hover_glyph\":null,\"muted_glyph\":{\"id\":\"1120\"},\"nonselection_glyph\":{\"id\":\"1119\"},\"selection_glyph\":{\"id\":\"1147\"},\"view\":{\"id\":\"1122\"}},\"id\":\"1121\",\"type\":\"GlyphRenderer\"},{\"attributes\":{},\"id\":\"1023\",\"type\":\"SaveTool\"},{\"attributes\":{\"line_color\":\"#30a2da\",\"line_width\":2,\"x\":{\"field\":\"Date\"},\"y\":{\"field\":\"value\"}},\"id\":\"1147\",\"type\":\"Line\"},{\"attributes\":{\"line_alpha\":0.2,\"line_color\":\"#30a2da\",\"line_width\":2,\"x\":{\"field\":\"Date\"},\"y\":{\"field\":\"value\"}},\"id\":\"1120\",\"type\":\"Line\"},{\"attributes\":{\"bottom_units\":\"screen\",\"fill_alpha\":0.5,\"fill_color\":\"lightgrey\",\"left_units\":\"screen\",\"level\":\"overlay\",\"line_alpha\":1.0,\"line_color\":\"black\",\"line_dash\":[4,4],\"line_width\":2,\"right_units\":\"screen\",\"syncable\":false,\"top_units\":\"screen\"},\"id\":\"1101\",\"type\":\"BoxAnnotation\"},{\"attributes\":{\"css_classes\":[\"markdown\"],\"margin\":[5,5,5,5],\"name\":\"Markdown01790\",\"text\":\"&lt;p&gt;The correlation heatmap above helps understanding the dependency between the four analyzed cryptocurrencies.&lt;/p&gt;\"},\"id\":\"1511\",\"type\":\"panel.models.markup.HTML\"},{\"attributes\":{\"css_classes\":[\"markdown\"],\"margin\":[5,5,5,5],\"name\":\"Markdown01792\",\"text\":\"&lt;p&gt;According to the correlation plot, all four cryptocurrencies have strong positive correlation between each other, which means that if the value of one cryptocurrency increases, it is expected that the value of the other ones will increase as well.&lt;/p&gt;\"},\"id\":\"1512\",\"type\":\"panel.models.markup.HTML\"},{\"attributes\":{},\"id\":\"1024\",\"type\":\"PanTool\"},{\"attributes\":{\"callback\":null,\"formatters\":{\"@{Date}\":\"datetime\"},\"renderers\":[{\"id\":\"1121\"},{\"id\":\"1154\"},{\"id\":\"1188\"},{\"id\":\"1224\"}],\"tags\":[\"hv_created\"],\"tooltips\":[[\"Variable\",\"@{Variable}\"],[\"Date\",\"@{Date}{%F %T}\"],[\"value\",\"@{value}\"]]},\"id\":\"1075\",\"type\":\"HoverTool\"},{\"attributes\":{},\"id\":\"1183\",\"type\":\"Selection\"},{\"attributes\":{\"active_multi\":null,\"tools\":[{\"id\":\"1075\"},{\"id\":\"1096\"},{\"id\":\"1097\"},{\"id\":\"1098\"},{\"id\":\"1099\"},{\"id\":\"1100\"}]},\"id\":\"1102\",\"type\":\"Toolbar\"},{\"attributes\":{},\"id\":\"1025\",\"type\":\"WheelZoomTool\"},{\"attributes\":{\"axis_label\":\"Crypto Tickers\",\"formatter\":{\"id\":\"1047\"},\"major_label_policy\":{\"id\":\"1046\"},\"ticker\":{\"id\":\"1017\"}},\"id\":\"1016\",\"type\":\"CategoricalAxis\"},{\"attributes\":{\"callback\":null,\"renderers\":[{\"id\":\"1042\"}],\"tags\":[\"hv_created\"],\"tooltips\":[[\"index\",\"@{index}\"],[\"0\",\"@{A_0}\"]]},\"id\":\"1006\",\"type\":\"HoverTool\"},{\"attributes\":{\"source\":{\"id\":\"1182\"}},\"id\":\"1189\",\"type\":\"CDSView\"},{\"attributes\":{\"data\":{\"Date\":{\"__ndarray__\":\"AAAA4jy6d0IAAMBHj7p3QgAAgK3hundCAABAEzS7d0IAAAB5hrt3QgAAwN7Yu3dCAACARCu8d0IAAECqfbx3QgAAABDQvHdCAADAdSK9d0IAAIDbdL13QgAAQEHHvXdCAAAApxm+d0IAAMAMbL53QgAAgHK+vndCAABA2BC/d0IAAAA+Y793QgAAwKO1v3dCAACACQjAd0IAAEBvWsB3QgAAANWswHdCAADAOv/Ad0IAAICgUcF3QgAAQAakwXdCAAAAbPbBd0IAAMDRSMJ3QgAAgDebwndCAABAne3Cd0IAAAADQMN3QgAAwGiSw3dC\",\"dtype\":\"float64\",\"order\":\"little\",\"shape\":[30]},\"Variable\":[\"ADA-USD\",\"ADA-USD\",\"ADA-USD\",\"ADA-USD\",\"ADA-USD\",\"ADA-USD\",\"ADA-USD\",\"ADA-USD\",\"ADA-USD\",\"ADA-USD\",\"ADA-USD\",\"ADA-USD\",\"ADA-USD\",\"ADA-USD\",\"ADA-USD\",\"ADA-USD\",\"ADA-USD\",\"ADA-USD\",\"ADA-USD\",\"ADA-USD\",\"ADA-USD\",\"ADA-USD\",\"ADA-USD\",\"ADA-USD\",\"ADA-USD\",\"ADA-USD\",\"ADA-USD\",\"ADA-USD\",\"ADA-USD\",\"ADA-USD\"],\"value\":{\"__ndarray__\":\"wPNjUyDTCUCgzBOZtbzEP89Zndk1QBLAWo28uUwIBkAuMDO8J7EFwH2zkmaUQyfApOUqx3OV8b88V6f94pb7P6SJMljS7hTAvHhq3r7KJEDAoMtTFbn/v8yOxCqdDRzA8JymWsjKyr/N6ibrxrIRQKkfsk7YywnAdCdLA36iCMCIqeNhhhDwP4ndXUy2mA3AnoHi2nYhI8BryO41edQNwE7ZZ6T+GCxAok6USWvcBkBgODtNPwwBwDA45OWlb+w/pgE45s0rEMDa27QNd0sKwODT0uEsHxLAcByTh9jU9D8YoQLSpOICQNpCkLf8LRtA\",\"dtype\":\"float64\",\"order\":\"little\",\"shape\":[30]}},\"selected\":{\"id\":\"1116\"},\"selection_policy\":{\"id\":\"1143\"}},\"id\":\"1115\",\"type\":\"ColumnDataSource\"},{\"attributes\":{\"base\":24,\"mantissas\":[1,2,4,6,8,12],\"max_interval\":43200000.0,\"min_interval\":3600000.0,\"num_minor_ticks\":0},\"id\":\"1132\",\"type\":\"AdaptiveTicker\"},{\"attributes\":{\"fill_alpha\":{\"value\":0.2},\"fill_color\":{\"value\":\"#30a2da\"},\"line_alpha\":{\"value\":0.2},\"top\":{\"field\":\"A_0\"},\"width\":{\"value\":0.8},\"x\":{\"field\":\"index\"}},\"id\":\"1041\",\"type\":\"VBar\"},{\"attributes\":{\"line_alpha\":0.2,\"line_color\":\"#e5ae38\",\"line_width\":2,\"x\":{\"field\":\"Date\"},\"y\":{\"field\":\"value\"}},\"id\":\"1187\",\"type\":\"Line\"},{\"attributes\":{\"days\":[1,2,3,4,5,6,7,8,9,10,11,12,13,14,15,16,17,18,19,20,21,22,23,24,25,26,27,28,29,30,31]},\"id\":\"1133\",\"type\":\"DaysTicker\"},{\"attributes\":{\"factors\":[\"ADA-USD\",\"BTC-USD\",\"DOGE-USD\",\"ETH-USD\"],\"tags\":[[[\"index\",\"index\",null]]]},\"id\":\"1004\",\"type\":\"FactorRange\"},{\"attributes\":{\"data_source\":{\"id\":\"1218\"},\"glyph\":{\"id\":\"1221\"},\"hover_glyph\":null,\"muted_glyph\":{\"id\":\"1223\"},\"nonselection_glyph\":{\"id\":\"1222\"},\"selection_glyph\":{\"id\":\"1255\"},\"view\":{\"id\":\"1225\"}},\"id\":\"1224\",\"type\":\"GlyphRenderer\"},{\"attributes\":{\"num_minor_ticks\":5,\"tickers\":[{\"id\":\"1130\"},{\"id\":\"1131\"},{\"id\":\"1132\"},{\"id\":\"1133\"},{\"id\":\"1134\"},{\"id\":\"1135\"},{\"id\":\"1136\"},{\"id\":\"1137\"},{\"id\":\"1138\"},{\"id\":\"1139\"},{\"id\":\"1140\"},{\"id\":\"1141\"}]},\"id\":\"1089\",\"type\":\"DatetimeTicker\"},{\"attributes\":{\"line_alpha\":0.1,\"line_color\":\"#e5ae38\",\"line_width\":2,\"x\":{\"field\":\"Date\"},\"y\":{\"field\":\"value\"}},\"id\":\"1186\",\"type\":\"Line\"},{\"attributes\":{\"days\":[1,4,7,10,13,16,19,22,25,28]},\"id\":\"1134\",\"type\":\"DaysTicker\"},{\"attributes\":{},\"id\":\"1084\",\"type\":\"LinearScale\"},{\"attributes\":{},\"id\":\"1027\",\"type\":\"ResetTool\"},{\"attributes\":{\"axis_label\":\"Date\",\"formatter\":{\"id\":\"1111\"},\"major_label_policy\":{\"id\":\"1110\"},\"ticker\":{\"id\":\"1089\"}},\"id\":\"1088\",\"type\":\"DatetimeAxis\"},{\"attributes\":{\"label\":{\"value\":\"DOGE-USD\"},\"renderers\":[{\"id\":\"1188\"}]},\"id\":\"1216\",\"type\":\"LegendItem\"},{\"attributes\":{\"days\":[1,8,15,22]},\"id\":\"1135\",\"type\":\"DaysTicker\"},{\"attributes\":{\"below\":[{\"id\":\"1088\"}],\"center\":[{\"id\":\"1091\"},{\"id\":\"1095\"}],\"height\":300,\"left\":[{\"id\":\"1092\"}],\"margin\":[5,5,5,5],\"min_border_bottom\":10,\"min_border_left\":10,\"min_border_right\":10,\"min_border_top\":10,\"renderers\":[{\"id\":\"1121\"},{\"id\":\"1154\"},{\"id\":\"1188\"},{\"id\":\"1224\"}],\"right\":[{\"id\":\"1145\"}],\"sizing_mode\":\"fixed\",\"title\":{\"id\":\"1080\"},\"toolbar\":{\"id\":\"1102\"},\"width\":700,\"x_range\":{\"id\":\"1073\"},\"x_scale\":{\"id\":\"1084\"},\"y_range\":{\"id\":\"1074\"},\"y_scale\":{\"id\":\"1086\"}},\"id\":\"1079\",\"subtype\":\"Figure\",\"type\":\"Plot\"},{\"attributes\":{\"days\":[1,15]},\"id\":\"1136\",\"type\":\"DaysTicker\"},{\"attributes\":{},\"id\":\"1214\",\"type\":\"UnionRenderers\"},{\"attributes\":{\"bottom_units\":\"screen\",\"fill_alpha\":0.5,\"fill_color\":\"lightgrey\",\"left_units\":\"screen\",\"level\":\"overlay\",\"line_alpha\":1.0,\"line_color\":\"black\",\"line_dash\":[4,4],\"line_width\":2,\"right_units\":\"screen\",\"syncable\":false,\"top_units\":\"screen\"},\"id\":\"1028\",\"type\":\"BoxAnnotation\"},{\"attributes\":{\"height\":288,\"margin\":[5,5,5,5],\"name\":\"Matplotlib01768\",\"text\":\"&lt;img src=&quot;data:image/png;base64,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&quot; width=&quot;432px&quot; height=&quot;288px&quot; alt=&quot;&quot;&gt;&lt;/img&gt;\",\"width\":432},\"id\":\"1510\",\"type\":\"panel.models.markup.HTML\"},{\"attributes\":{},\"id\":\"1086\",\"type\":\"LinearScale\"},{\"attributes\":{\"months\":[0,1,2,3,4,5,6,7,8,9,10,11]},\"id\":\"1137\",\"type\":\"MonthsTicker\"},{\"attributes\":{},\"id\":\"1049\",\"type\":\"AllLabels\"},{\"attributes\":{\"months\":[0,2,4,6,8,10]},\"id\":\"1138\",\"type\":\"MonthsTicker\"},{\"attributes\":{},\"id\":\"1252\",\"type\":\"UnionRenderers\"},{\"attributes\":{\"overlay\":{\"id\":\"1028\"}},\"id\":\"1026\",\"type\":\"BoxZoomTool\"},{\"attributes\":{},\"id\":\"1093\",\"type\":\"BasicTicker\"},{\"attributes\":{\"text\":\"Cryptocurriences Daily Returns\",\"text_color\":\"black\",\"text_font_size\":\"12pt\"},\"id\":\"1080\",\"type\":\"Title\"},{\"attributes\":{\"line_color\":\"#e5ae38\",\"line_width\":2,\"x\":{\"field\":\"Date\"},\"y\":{\"field\":\"value\"}},\"id\":\"1217\",\"type\":\"Line\"},{\"attributes\":{\"months\":[0,4,8]},\"id\":\"1139\",\"type\":\"MonthsTicker\"},{\"attributes\":{\"css_classes\":[\"markdown\"],\"margin\":[5,5,5,5],\"name\":\"Markdown01794\",\"text\":\"&lt;p&gt;&lt;em&gt;&amp;mdash;&lt;/em&gt;&lt;/p&gt;\"},\"id\":\"1513\",\"type\":\"panel.models.markup.HTML\"},{\"attributes\":{\"label\":{\"value\":\"ADA-USD\"},\"renderers\":[{\"id\":\"1121\"}]},\"id\":\"1146\",\"type\":\"LegendItem\"},{\"attributes\":{\"months\":[0,6]},\"id\":\"1140\",\"type\":\"MonthsTicker\"},{\"attributes\":{\"css_classes\":[\"markdown\"],\"margin\":[5,5,5,5],\"name\":\"Markdown01786\",\"text\":\"&lt;p&gt;The line chart above visualizes the daily returns for the analyzed cryptocurrencies. This helps investors understand the cryptocurrencies volatility over time and in respect with one another.&lt;/p&gt;\"},\"id\":\"1508\",\"type\":\"panel.models.markup.HTML\"},{\"attributes\":{\"axis\":{\"id\":\"1088\"},\"grid_line_color\":null,\"ticker\":null},\"id\":\"1091\",\"type\":\"Grid\"},{\"attributes\":{},\"id\":\"1219\",\"type\":\"Selection\"},{\"attributes\":{\"line_color\":\"#6d904f\",\"line_width\":2,\"x\":{\"field\":\"Date\"},\"y\":{\"field\":\"value\"}},\"id\":\"1221\",\"type\":\"Line\"},{\"attributes\":{},\"id\":\"1141\",\"type\":\"YearsTicker\"},{\"attributes\":{\"active_multi\":null,\"tools\":[{\"id\":\"1006\"},{\"id\":\"1023\"},{\"id\":\"1024\"},{\"id\":\"1025\"},{\"id\":\"1026\"},{\"id\":\"1027\"}]},\"id\":\"1029\",\"type\":\"Toolbar\"},{\"attributes\":{\"axis\":{\"id\":\"1092\"},\"dimension\":1,\"grid_line_color\":null,\"ticker\":null},\"id\":\"1095\",\"type\":\"Grid\"},{\"attributes\":{},\"id\":\"1143\",\"type\":\"UnionRenderers\"},{\"attributes\":{\"fill_color\":{\"value\":\"#30a2da\"},\"top\":{\"field\":\"A_0\"},\"width\":{\"value\":0.8},\"x\":{\"field\":\"index\"}},\"id\":\"1039\",\"type\":\"VBar\"},{\"attributes\":{\"css_classes\":[\"markdown\"],\"margin\":[5,5,5,5],\"name\":\"Markdown01770\",\"text\":\"&lt;h1&gt;Cryptocurrencies Analysis Dashboard&lt;/h1&gt;\"},\"id\":\"1003\",\"type\":\"panel.models.markup.HTML\"},{\"attributes\":{\"axis_label\":\"Percentage Change\",\"formatter\":{\"id\":\"1114\"},\"major_label_policy\":{\"id\":\"1113\"},\"ticker\":{\"id\":\"1093\"}},\"id\":\"1092\",\"type\":\"LinearAxis\"},{\"attributes\":{\"css_classes\":[\"markdown\"],\"margin\":[5,5,5,5],\"name\":\"Markdown01777\",\"text\":\"&lt;p&gt;The bar chart above displays the average percentage change for each of the analyzed cryptocurrencies. The higher the percentage change the better for the investor, since he/she would have a better return on his/her investment.&lt;/p&gt;\"},\"id\":\"1071\",\"type\":\"panel.models.markup.HTML\"},{\"attributes\":{},\"id\":\"1113\",\"type\":\"AllLabels\"},{\"attributes\":{},\"id\":\"1110\",\"type\":\"AllLabels\"},{\"attributes\":{\"bottom\":{\"value\":0},\"fill_alpha\":{\"value\":1.0},\"fill_color\":{\"value\":\"#30a2da\"},\"hatch_alpha\":{\"value\":1.0},\"hatch_color\":{\"value\":\"black\"},\"hatch_scale\":{\"value\":12.0},\"hatch_weight\":{\"value\":1.0},\"line_alpha\":{\"value\":1.0},\"line_cap\":{\"value\":\"butt\"},\"line_color\":{\"value\":\"black\"},\"line_dash\":{\"value\":[]},\"line_dash_offset\":{\"value\":0},\"line_join\":{\"value\":\"bevel\"},\"line_width\":{\"value\":1},\"top\":{\"field\":\"A_0\"},\"width\":{\"value\":0.8},\"x\":{\"field\":\"index\"}},\"id\":\"1044\",\"type\":\"VBar\"},{\"attributes\":{\"css_classes\":[\"markdown\"],\"margin\":[5,5,5,5],\"name\":\"Markdown01796\",\"text\":\"&lt;p&gt;&lt;strong&gt;&lt;em&gt;Dashboard Created by: Justin Farnan&lt;/em&gt;&lt;/strong&gt;&lt;/p&gt;\"},\"id\":\"1514\",\"type\":\"panel.models.markup.HTML\"},{\"attributes\":{},\"id\":\"1114\",\"type\":\"BasicTickFormatter\"},{\"attributes\":{},\"id\":\"1111\",\"type\":\"DatetimeTickFormatter\"},{\"attributes\":{\"source\":{\"id\":\"1218\"}},\"id\":\"1225\",\"type\":\"CDSView\"},{\"attributes\":{\"end\":12.198552705098832,\"reset_end\":12.198552705098832,\"reset_start\":-85.28772901928548,\"start\":-85.28772901928548,\"tags\":[[[\"0\",\"0\",null]]]},\"id\":\"1005\",\"type\":\"Range1d\"},{\"attributes\":{\"line_color\":\"#30a2da\",\"line_width\":2,\"x\":{\"field\":\"Date\"},\"y\":{\"field\":\"value\"}},\"id\":\"1118\",\"type\":\"Line\"},{\"attributes\":{\"text\":\"Cryptocurriences Average Percentage Change on September 2021\",\"text_color\":\"black\",\"text_font_size\":\"12pt\"},\"id\":\"1008\",\"type\":\"Title\"},{\"attributes\":{\"line_color\":\"#fc4f30\",\"line_width\":2,\"x\":{\"field\":\"Date\"},\"y\":{\"field\":\"value\"}},\"id\":\"1151\",\"type\":\"Line\"},{\"attributes\":{\"line_alpha\":0.2,\"line_color\":\"#6d904f\",\"line_width\":2,\"x\":{\"field\":\"Date\"},\"y\":{\"field\":\"value\"}},\"id\":\"1223\",\"type\":\"Line\"},{\"attributes\":{\"client_comm_id\":\"e3dcf251d073426e8aae63e4cf2a01b5\",\"comm_id\":\"1109073f786c4c509d96ad394f304dae\",\"plot_id\":\"1002\"},\"id\":\"1629\",\"type\":\"panel.models.comm_manager.CommManager\"},{\"attributes\":{\"below\":[{\"id\":\"1016\"}],\"center\":[{\"id\":\"1018\"},{\"id\":\"1022\"}],\"height\":300,\"left\":[{\"id\":\"1019\"}],\"margin\":[5,5,5,5],\"min_border_bottom\":10,\"min_border_left\":10,\"min_border_right\":10,\"min_border_top\":10,\"renderers\":[{\"id\":\"1042\"}],\"sizing_mode\":\"fixed\",\"title\":{\"id\":\"1008\"},\"toolbar\":{\"id\":\"1029\"},\"width\":700,\"x_range\":{\"id\":\"1004\"},\"x_scale\":{\"id\":\"1012\"},\"y_range\":{\"id\":\"1005\"},\"y_scale\":{\"id\":\"1014\"}},\"id\":\"1007\",\"subtype\":\"Figure\",\"type\":\"Plot\"},{\"attributes\":{},\"id\":\"1047\",\"type\":\"CategoricalTickFormatter\"},{\"attributes\":{\"line_color\":\"#6d904f\",\"line_width\":2,\"x\":{\"field\":\"Date\"},\"y\":{\"field\":\"value\"}},\"id\":\"1255\",\"type\":\"Line\"},{\"attributes\":{\"label\":{\"value\":\"ETH-USD\"},\"renderers\":[{\"id\":\"1224\"}]},\"id\":\"1254\",\"type\":\"LegendItem\"},{\"attributes\":{\"data_source\":{\"id\":\"1036\"},\"glyph\":{\"id\":\"1039\"},\"hover_glyph\":null,\"muted_glyph\":{\"id\":\"1041\"},\"nonselection_glyph\":{\"id\":\"1040\"},\"selection_glyph\":{\"id\":\"1044\"},\"view\":{\"id\":\"1043\"}},\"id\":\"1042\",\"type\":\"GlyphRenderer\"},{\"attributes\":{},\"id\":\"1096\",\"type\":\"SaveTool\"},{\"attributes\":{},\"id\":\"1149\",\"type\":\"Selection\"},{\"attributes\":{\"source\":{\"id\":\"1036\"}},\"id\":\"1043\",\"type\":\"CDSView\"},{\"attributes\":{},\"id\":\"1097\",\"type\":\"PanTool\"}],\"root_ids\":[\"1002\",\"1629\",\"1744\"]},\"title\":\"Bokeh Application\",\"version\":\"2.3.3\"}};\n",
              "    var render_items = [{\"docid\":\"6fa74117-42c4-4925-889c-4fb19f5579cf\",\"root_ids\":[\"1002\"],\"roots\":{\"1002\":\"c377a0e3-520b-4c3b-9f09-91958477aab4\"}}];\n",
              "    root.Bokeh.embed.embed_items_notebook(docs_json, render_items);\n",
              "  }\n",
              "  if (root.Bokeh !== undefined && root.Bokeh.Panel !== undefined) {\n",
              "    embed_document(root);\n",
              "  } else {\n",
              "    var attempts = 0;\n",
              "    var timer = setInterval(function(root) {\n",
              "      if (root.Bokeh !== undefined && root.Bokeh.Panel !== undefined) {\n",
              "        clearInterval(timer);\n",
              "        embed_document(root);\n",
              "      } else if (document.readyState == \"complete\") {\n",
              "        attempts++;\n",
              "        if (attempts > 200) {\n",
              "          clearInterval(timer);\n",
              "          console.log(\"Bokeh: ERROR: Unable to run BokehJS code because BokehJS library is missing\");\n",
              "        }\n",
              "      }\n",
              "    }, 25, root)\n",
              "  }\n",
              "})(window);</script>"
            ]
          },
          "metadata": {
            "application/vnd.holoviews_exec.v0+json": {
              "id": "1002"
            }
          },
          "execution_count": 12
        }
      ]
    }
  ]
}