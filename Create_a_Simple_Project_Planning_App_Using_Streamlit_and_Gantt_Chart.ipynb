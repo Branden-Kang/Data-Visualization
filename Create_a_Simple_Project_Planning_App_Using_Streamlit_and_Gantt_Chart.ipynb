{
  "nbformat": 4,
  "nbformat_minor": 0,
  "metadata": {
    "colab": {
      "name": "Create a Simple Project Planning App Using Streamlit and Gantt Chart.ipynb",
      "provenance": [],
      "authorship_tag": "ABX9TyOj0E3UpgJvFhktMiAkIVAr"
    },
    "kernelspec": {
      "name": "python3",
      "display_name": "Python 3"
    },
    "language_info": {
      "name": "python"
    }
  },
  "cells": [
    {
      "cell_type": "markdown",
      "source": [
        "[Reference](https://medium.com/codex/create-a-simple-project-planning-app-using-streamlit-and-gantt-chart-6c6adf8f46dd)"
      ],
      "metadata": {
        "id": "PRbVc03t3q7Q"
      }
    },
    {
      "cell_type": "code",
      "execution_count": 1,
      "metadata": {
        "colab": {
          "base_uri": "https://localhost:8080/",
          "height": 1000
        },
        "id": "_zOoOQ6v27A4",
        "outputId": "48f6d6ed-ac99-4982-c24e-6262dd0054a3"
      },
      "outputs": [
        {
          "output_type": "stream",
          "name": "stdout",
          "text": [
            "Collecting streamlit-aggrid\n",
            "  Downloading streamlit_aggrid-0.2.3.post2-py3-none-any.whl (3.5 MB)\n",
            "\u001b[K     |████████████████████████████████| 3.5 MB 3.8 MB/s \n",
            "\u001b[?25hCollecting streamlit>=0.87.0\n",
            "  Downloading streamlit-1.9.0-py2.py3-none-any.whl (10.1 MB)\n",
            "\u001b[K     |████████████████████████████████| 10.1 MB 38.0 MB/s \n",
            "\u001b[?25hCollecting simplejson>=3.0\n",
            "  Downloading simplejson-3.17.6-cp37-cp37m-manylinux_2_5_x86_64.manylinux1_x86_64.manylinux_2_12_x86_64.manylinux2010_x86_64.whl (130 kB)\n",
            "\u001b[K     |████████████████████████████████| 130 kB 52.3 MB/s \n",
            "\u001b[?25hCollecting python-dotenv<0.20.0,>=0.19.1\n",
            "  Downloading python_dotenv-0.19.2-py2.py3-none-any.whl (17 kB)\n",
            "Requirement already satisfied: pandas>=1.2 in /usr/local/lib/python3.7/dist-packages (from streamlit-aggrid) (1.3.5)\n",
            "Requirement already satisfied: numpy>=1.17.3 in /usr/local/lib/python3.7/dist-packages (from pandas>=1.2->streamlit-aggrid) (1.21.6)\n",
            "Requirement already satisfied: python-dateutil>=2.7.3 in /usr/local/lib/python3.7/dist-packages (from pandas>=1.2->streamlit-aggrid) (2.8.2)\n",
            "Requirement already satisfied: pytz>=2017.3 in /usr/local/lib/python3.7/dist-packages (from pandas>=1.2->streamlit-aggrid) (2022.1)\n",
            "Requirement already satisfied: six>=1.5 in /usr/local/lib/python3.7/dist-packages (from python-dateutil>=2.7.3->pandas>=1.2->streamlit-aggrid) (1.15.0)\n",
            "Requirement already satisfied: pillow>=6.2.0 in /usr/local/lib/python3.7/dist-packages (from streamlit>=0.87.0->streamlit-aggrid) (7.1.2)\n",
            "Requirement already satisfied: tornado>=5.0 in /usr/local/lib/python3.7/dist-packages (from streamlit>=0.87.0->streamlit-aggrid) (5.1.1)\n",
            "Collecting blinker\n",
            "  Downloading blinker-1.4.tar.gz (111 kB)\n",
            "\u001b[K     |████████████████████████████████| 111 kB 73.4 MB/s \n",
            "\u001b[?25hRequirement already satisfied: altair>=3.2.0 in /usr/local/lib/python3.7/dist-packages (from streamlit>=0.87.0->streamlit-aggrid) (4.2.0)\n",
            "Requirement already satisfied: protobuf!=3.11,>=3.6.0 in /usr/local/lib/python3.7/dist-packages (from streamlit>=0.87.0->streamlit-aggrid) (3.17.3)\n",
            "Requirement already satisfied: packaging in /usr/local/lib/python3.7/dist-packages (from streamlit>=0.87.0->streamlit-aggrid) (21.3)\n",
            "Collecting pympler>=0.9\n",
            "  Downloading Pympler-1.0.1-py3-none-any.whl (164 kB)\n",
            "\u001b[K     |████████████████████████████████| 164 kB 84.1 MB/s \n",
            "\u001b[?25hRequirement already satisfied: importlib-metadata>=1.4 in /usr/local/lib/python3.7/dist-packages (from streamlit>=0.87.0->streamlit-aggrid) (4.11.3)\n",
            "Requirement already satisfied: attrs in /usr/local/lib/python3.7/dist-packages (from streamlit>=0.87.0->streamlit-aggrid) (21.4.0)\n",
            "Requirement already satisfied: typing-extensions in /usr/local/lib/python3.7/dist-packages (from streamlit>=0.87.0->streamlit-aggrid) (4.2.0)\n",
            "Requirement already satisfied: tzlocal in /usr/local/lib/python3.7/dist-packages (from streamlit>=0.87.0->streamlit-aggrid) (1.5.1)\n",
            "Requirement already satisfied: semver in /usr/local/lib/python3.7/dist-packages (from streamlit>=0.87.0->streamlit-aggrid) (2.13.0)\n",
            "Requirement already satisfied: pyarrow in /usr/local/lib/python3.7/dist-packages (from streamlit>=0.87.0->streamlit-aggrid) (6.0.1)\n",
            "Collecting gitpython!=3.1.19\n",
            "  Downloading GitPython-3.1.27-py3-none-any.whl (181 kB)\n",
            "\u001b[K     |████████████████████████████████| 181 kB 65.7 MB/s \n",
            "\u001b[?25hRequirement already satisfied: click<8.1,>=7.0 in /usr/local/lib/python3.7/dist-packages (from streamlit>=0.87.0->streamlit-aggrid) (7.1.2)\n",
            "Collecting pydeck>=0.1.dev5\n",
            "  Downloading pydeck-0.7.1-py2.py3-none-any.whl (4.3 MB)\n",
            "\u001b[K     |████████████████████████████████| 4.3 MB 21.1 MB/s \n",
            "\u001b[?25hRequirement already satisfied: requests in /usr/local/lib/python3.7/dist-packages (from streamlit>=0.87.0->streamlit-aggrid) (2.23.0)\n",
            "Collecting toml\n",
            "  Downloading toml-0.10.2-py2.py3-none-any.whl (16 kB)\n",
            "Requirement already satisfied: cachetools>=4.0 in /usr/local/lib/python3.7/dist-packages (from streamlit>=0.87.0->streamlit-aggrid) (4.2.4)\n",
            "Collecting watchdog\n",
            "  Downloading watchdog-2.1.7-py3-none-manylinux2014_x86_64.whl (76 kB)\n",
            "\u001b[K     |████████████████████████████████| 76 kB 5.8 MB/s \n",
            "\u001b[?25hCollecting validators\n",
            "  Downloading validators-0.19.0.tar.gz (30 kB)\n",
            "Requirement already satisfied: jinja2 in /usr/local/lib/python3.7/dist-packages (from altair>=3.2.0->streamlit>=0.87.0->streamlit-aggrid) (2.11.3)\n",
            "Requirement already satisfied: entrypoints in /usr/local/lib/python3.7/dist-packages (from altair>=3.2.0->streamlit>=0.87.0->streamlit-aggrid) (0.4)\n",
            "Requirement already satisfied: toolz in /usr/local/lib/python3.7/dist-packages (from altair>=3.2.0->streamlit>=0.87.0->streamlit-aggrid) (0.11.2)\n",
            "Requirement already satisfied: jsonschema>=3.0 in /usr/local/lib/python3.7/dist-packages (from altair>=3.2.0->streamlit>=0.87.0->streamlit-aggrid) (4.3.3)\n",
            "Collecting gitdb<5,>=4.0.1\n",
            "  Downloading gitdb-4.0.9-py3-none-any.whl (63 kB)\n",
            "\u001b[K     |████████████████████████████████| 63 kB 2.0 MB/s \n",
            "\u001b[?25hCollecting smmap<6,>=3.0.1\n",
            "  Downloading smmap-5.0.0-py3-none-any.whl (24 kB)\n",
            "Requirement already satisfied: zipp>=0.5 in /usr/local/lib/python3.7/dist-packages (from importlib-metadata>=1.4->streamlit>=0.87.0->streamlit-aggrid) (3.8.0)\n",
            "Requirement already satisfied: importlib-resources>=1.4.0 in /usr/local/lib/python3.7/dist-packages (from jsonschema>=3.0->altair>=3.2.0->streamlit>=0.87.0->streamlit-aggrid) (5.7.1)\n",
            "Requirement already satisfied: pyrsistent!=0.17.0,!=0.17.1,!=0.17.2,>=0.14.0 in /usr/local/lib/python3.7/dist-packages (from jsonschema>=3.0->altair>=3.2.0->streamlit>=0.87.0->streamlit-aggrid) (0.18.1)\n",
            "Requirement already satisfied: traitlets>=4.3.2 in /usr/local/lib/python3.7/dist-packages (from pydeck>=0.1.dev5->streamlit>=0.87.0->streamlit-aggrid) (5.1.1)\n",
            "Requirement already satisfied: ipywidgets>=7.0.0 in /usr/local/lib/python3.7/dist-packages (from pydeck>=0.1.dev5->streamlit>=0.87.0->streamlit-aggrid) (7.7.0)\n",
            "Collecting ipykernel>=5.1.2\n",
            "  Downloading ipykernel-6.13.0-py3-none-any.whl (131 kB)\n",
            "\u001b[K     |████████████████████████████████| 131 kB 64.0 MB/s \n",
            "\u001b[?25hRequirement already satisfied: psutil in /usr/local/lib/python3.7/dist-packages (from ipykernel>=5.1.2->pydeck>=0.1.dev5->streamlit>=0.87.0->streamlit-aggrid) (5.4.8)\n",
            "Requirement already satisfied: debugpy>=1.0 in /usr/local/lib/python3.7/dist-packages (from ipykernel>=5.1.2->pydeck>=0.1.dev5->streamlit>=0.87.0->streamlit-aggrid) (1.0.0)\n",
            "Collecting tornado>=5.0\n",
            "  Downloading tornado-6.1-cp37-cp37m-manylinux2010_x86_64.whl (428 kB)\n",
            "\u001b[K     |████████████████████████████████| 428 kB 71.9 MB/s \n",
            "\u001b[?25hCollecting jupyter-client>=6.1.12\n",
            "  Downloading jupyter_client-7.3.0-py3-none-any.whl (130 kB)\n",
            "\u001b[K     |████████████████████████████████| 130 kB 72.6 MB/s \n",
            "\u001b[?25hCollecting ipython>=7.23.1\n",
            "  Downloading ipython-7.33.0-py3-none-any.whl (793 kB)\n",
            "\u001b[K     |████████████████████████████████| 793 kB 53.7 MB/s \n",
            "\u001b[?25hRequirement already satisfied: matplotlib-inline>=0.1 in /usr/local/lib/python3.7/dist-packages (from ipykernel>=5.1.2->pydeck>=0.1.dev5->streamlit>=0.87.0->streamlit-aggrid) (0.1.3)\n",
            "Requirement already satisfied: nest-asyncio in /usr/local/lib/python3.7/dist-packages (from ipykernel>=5.1.2->pydeck>=0.1.dev5->streamlit>=0.87.0->streamlit-aggrid) (1.5.5)\n",
            "Collecting prompt-toolkit!=3.0.0,!=3.0.1,<3.1.0,>=2.0.0\n",
            "  Downloading prompt_toolkit-3.0.29-py3-none-any.whl (381 kB)\n",
            "\u001b[K     |████████████████████████████████| 381 kB 63.0 MB/s \n",
            "\u001b[?25hRequirement already satisfied: pygments in /usr/local/lib/python3.7/dist-packages (from ipython>=7.23.1->ipykernel>=5.1.2->pydeck>=0.1.dev5->streamlit>=0.87.0->streamlit-aggrid) (2.6.1)\n",
            "Requirement already satisfied: pexpect>4.3 in /usr/local/lib/python3.7/dist-packages (from ipython>=7.23.1->ipykernel>=5.1.2->pydeck>=0.1.dev5->streamlit>=0.87.0->streamlit-aggrid) (4.8.0)\n",
            "Requirement already satisfied: pickleshare in /usr/local/lib/python3.7/dist-packages (from ipython>=7.23.1->ipykernel>=5.1.2->pydeck>=0.1.dev5->streamlit>=0.87.0->streamlit-aggrid) (0.7.5)\n",
            "Requirement already satisfied: decorator in /usr/local/lib/python3.7/dist-packages (from ipython>=7.23.1->ipykernel>=5.1.2->pydeck>=0.1.dev5->streamlit>=0.87.0->streamlit-aggrid) (4.4.2)\n",
            "Requirement already satisfied: backcall in /usr/local/lib/python3.7/dist-packages (from ipython>=7.23.1->ipykernel>=5.1.2->pydeck>=0.1.dev5->streamlit>=0.87.0->streamlit-aggrid) (0.2.0)\n",
            "Requirement already satisfied: jedi>=0.16 in /usr/local/lib/python3.7/dist-packages (from ipython>=7.23.1->ipykernel>=5.1.2->pydeck>=0.1.dev5->streamlit>=0.87.0->streamlit-aggrid) (0.18.1)\n",
            "Requirement already satisfied: setuptools>=18.5 in /usr/local/lib/python3.7/dist-packages (from ipython>=7.23.1->ipykernel>=5.1.2->pydeck>=0.1.dev5->streamlit>=0.87.0->streamlit-aggrid) (57.4.0)\n",
            "Requirement already satisfied: ipython-genutils~=0.2.0 in /usr/local/lib/python3.7/dist-packages (from ipywidgets>=7.0.0->pydeck>=0.1.dev5->streamlit>=0.87.0->streamlit-aggrid) (0.2.0)\n",
            "Requirement already satisfied: jupyterlab-widgets>=1.0.0 in /usr/local/lib/python3.7/dist-packages (from ipywidgets>=7.0.0->pydeck>=0.1.dev5->streamlit>=0.87.0->streamlit-aggrid) (1.1.0)\n",
            "Requirement already satisfied: nbformat>=4.2.0 in /usr/local/lib/python3.7/dist-packages (from ipywidgets>=7.0.0->pydeck>=0.1.dev5->streamlit>=0.87.0->streamlit-aggrid) (5.3.0)\n",
            "Requirement already satisfied: widgetsnbextension~=3.6.0 in /usr/local/lib/python3.7/dist-packages (from ipywidgets>=7.0.0->pydeck>=0.1.dev5->streamlit>=0.87.0->streamlit-aggrid) (3.6.0)\n",
            "Requirement already satisfied: parso<0.9.0,>=0.8.0 in /usr/local/lib/python3.7/dist-packages (from jedi>=0.16->ipython>=7.23.1->ipykernel>=5.1.2->pydeck>=0.1.dev5->streamlit>=0.87.0->streamlit-aggrid) (0.8.3)\n",
            "Requirement already satisfied: MarkupSafe>=0.23 in /usr/local/lib/python3.7/dist-packages (from jinja2->altair>=3.2.0->streamlit>=0.87.0->streamlit-aggrid) (2.0.1)\n",
            "Requirement already satisfied: jupyter-core>=4.9.2 in /usr/local/lib/python3.7/dist-packages (from jupyter-client>=6.1.12->ipykernel>=5.1.2->pydeck>=0.1.dev5->streamlit>=0.87.0->streamlit-aggrid) (4.10.0)\n",
            "Requirement already satisfied: pyzmq>=22.3 in /usr/local/lib/python3.7/dist-packages (from jupyter-client>=6.1.12->ipykernel>=5.1.2->pydeck>=0.1.dev5->streamlit>=0.87.0->streamlit-aggrid) (22.3.0)\n",
            "Requirement already satisfied: fastjsonschema in /usr/local/lib/python3.7/dist-packages (from nbformat>=4.2.0->ipywidgets>=7.0.0->pydeck>=0.1.dev5->streamlit>=0.87.0->streamlit-aggrid) (2.15.3)\n",
            "Requirement already satisfied: ptyprocess>=0.5 in /usr/local/lib/python3.7/dist-packages (from pexpect>4.3->ipython>=7.23.1->ipykernel>=5.1.2->pydeck>=0.1.dev5->streamlit>=0.87.0->streamlit-aggrid) (0.7.0)\n",
            "Requirement already satisfied: wcwidth in /usr/local/lib/python3.7/dist-packages (from prompt-toolkit!=3.0.0,!=3.0.1,<3.1.0,>=2.0.0->ipython>=7.23.1->ipykernel>=5.1.2->pydeck>=0.1.dev5->streamlit>=0.87.0->streamlit-aggrid) (0.2.5)\n",
            "Requirement already satisfied: notebook>=4.4.1 in /usr/local/lib/python3.7/dist-packages (from widgetsnbextension~=3.6.0->ipywidgets>=7.0.0->pydeck>=0.1.dev5->streamlit>=0.87.0->streamlit-aggrid) (5.3.1)\n",
            "Requirement already satisfied: Send2Trash in /usr/local/lib/python3.7/dist-packages (from notebook>=4.4.1->widgetsnbextension~=3.6.0->ipywidgets>=7.0.0->pydeck>=0.1.dev5->streamlit>=0.87.0->streamlit-aggrid) (1.8.0)\n",
            "Requirement already satisfied: nbconvert in /usr/local/lib/python3.7/dist-packages (from notebook>=4.4.1->widgetsnbextension~=3.6.0->ipywidgets>=7.0.0->pydeck>=0.1.dev5->streamlit>=0.87.0->streamlit-aggrid) (5.6.1)\n",
            "Requirement already satisfied: terminado>=0.8.1 in /usr/local/lib/python3.7/dist-packages (from notebook>=4.4.1->widgetsnbextension~=3.6.0->ipywidgets>=7.0.0->pydeck>=0.1.dev5->streamlit>=0.87.0->streamlit-aggrid) (0.13.3)\n",
            "Requirement already satisfied: defusedxml in /usr/local/lib/python3.7/dist-packages (from nbconvert->notebook>=4.4.1->widgetsnbextension~=3.6.0->ipywidgets>=7.0.0->pydeck>=0.1.dev5->streamlit>=0.87.0->streamlit-aggrid) (0.7.1)\n",
            "Requirement already satisfied: mistune<2,>=0.8.1 in /usr/local/lib/python3.7/dist-packages (from nbconvert->notebook>=4.4.1->widgetsnbextension~=3.6.0->ipywidgets>=7.0.0->pydeck>=0.1.dev5->streamlit>=0.87.0->streamlit-aggrid) (0.8.4)\n",
            "Requirement already satisfied: pandocfilters>=1.4.1 in /usr/local/lib/python3.7/dist-packages (from nbconvert->notebook>=4.4.1->widgetsnbextension~=3.6.0->ipywidgets>=7.0.0->pydeck>=0.1.dev5->streamlit>=0.87.0->streamlit-aggrid) (1.5.0)\n",
            "Requirement already satisfied: testpath in /usr/local/lib/python3.7/dist-packages (from nbconvert->notebook>=4.4.1->widgetsnbextension~=3.6.0->ipywidgets>=7.0.0->pydeck>=0.1.dev5->streamlit>=0.87.0->streamlit-aggrid) (0.6.0)\n",
            "Requirement already satisfied: bleach in /usr/local/lib/python3.7/dist-packages (from nbconvert->notebook>=4.4.1->widgetsnbextension~=3.6.0->ipywidgets>=7.0.0->pydeck>=0.1.dev5->streamlit>=0.87.0->streamlit-aggrid) (5.0.0)\n",
            "Requirement already satisfied: webencodings in /usr/local/lib/python3.7/dist-packages (from bleach->nbconvert->notebook>=4.4.1->widgetsnbextension~=3.6.0->ipywidgets>=7.0.0->pydeck>=0.1.dev5->streamlit>=0.87.0->streamlit-aggrid) (0.5.1)\n",
            "Requirement already satisfied: pyparsing!=3.0.5,>=2.0.2 in /usr/local/lib/python3.7/dist-packages (from packaging->streamlit>=0.87.0->streamlit-aggrid) (3.0.8)\n",
            "Requirement already satisfied: idna<3,>=2.5 in /usr/local/lib/python3.7/dist-packages (from requests->streamlit>=0.87.0->streamlit-aggrid) (2.10)\n",
            "Requirement already satisfied: chardet<4,>=3.0.2 in /usr/local/lib/python3.7/dist-packages (from requests->streamlit>=0.87.0->streamlit-aggrid) (3.0.4)\n",
            "Requirement already satisfied: certifi>=2017.4.17 in /usr/local/lib/python3.7/dist-packages (from requests->streamlit>=0.87.0->streamlit-aggrid) (2021.10.8)\n",
            "Requirement already satisfied: urllib3!=1.25.0,!=1.25.1,<1.26,>=1.21.1 in /usr/local/lib/python3.7/dist-packages (from requests->streamlit>=0.87.0->streamlit-aggrid) (1.24.3)\n",
            "Building wheels for collected packages: blinker, validators\n",
            "  Building wheel for blinker (setup.py) ... \u001b[?25l\u001b[?25hdone\n",
            "  Created wheel for blinker: filename=blinker-1.4-py3-none-any.whl size=13478 sha256=dcbf1a53cf860b99b9bf36af207e8dd32d876b07bd08d0f21062ea32d77749b2\n",
            "  Stored in directory: /root/.cache/pip/wheels/22/f5/18/df711b66eb25b21325c132757d4314db9ac5e8dabeaf196eab\n",
            "  Building wheel for validators (setup.py) ... \u001b[?25l\u001b[?25hdone\n",
            "  Created wheel for validators: filename=validators-0.19.0-py3-none-any.whl size=19553 sha256=85ea938d0a78a551c2c27f714512353a4bf31f3927bbabce7591062d75ed69bf\n",
            "  Stored in directory: /root/.cache/pip/wheels/fe/5d/69/ff53a908b9f14fb7730a58fdede0fac4cdc99ef3624ec76d05\n",
            "Successfully built blinker validators\n",
            "Installing collected packages: tornado, prompt-toolkit, jupyter-client, ipython, ipykernel, smmap, gitdb, watchdog, validators, toml, pympler, pydeck, gitpython, blinker, streamlit, simplejson, python-dotenv, streamlit-aggrid\n",
            "  Attempting uninstall: tornado\n",
            "    Found existing installation: tornado 5.1.1\n",
            "    Uninstalling tornado-5.1.1:\n",
            "      Successfully uninstalled tornado-5.1.1\n",
            "  Attempting uninstall: prompt-toolkit\n",
            "    Found existing installation: prompt-toolkit 1.0.18\n",
            "    Uninstalling prompt-toolkit-1.0.18:\n",
            "      Successfully uninstalled prompt-toolkit-1.0.18\n",
            "  Attempting uninstall: jupyter-client\n",
            "    Found existing installation: jupyter-client 5.3.5\n",
            "    Uninstalling jupyter-client-5.3.5:\n",
            "      Successfully uninstalled jupyter-client-5.3.5\n",
            "  Attempting uninstall: ipython\n",
            "    Found existing installation: ipython 5.5.0\n",
            "    Uninstalling ipython-5.5.0:\n",
            "      Successfully uninstalled ipython-5.5.0\n",
            "  Attempting uninstall: ipykernel\n",
            "    Found existing installation: ipykernel 4.10.1\n",
            "    Uninstalling ipykernel-4.10.1:\n",
            "      Successfully uninstalled ipykernel-4.10.1\n",
            "\u001b[31mERROR: pip's dependency resolver does not currently take into account all the packages that are installed. This behaviour is the source of the following dependency conflicts.\n",
            "jupyter-console 5.2.0 requires prompt-toolkit<2.0.0,>=1.0.0, but you have prompt-toolkit 3.0.29 which is incompatible.\n",
            "google-colab 1.0.0 requires ipykernel~=4.10, but you have ipykernel 6.13.0 which is incompatible.\n",
            "google-colab 1.0.0 requires ipython~=5.5.0, but you have ipython 7.33.0 which is incompatible.\n",
            "google-colab 1.0.0 requires tornado~=5.1.0; python_version >= \"3.0\", but you have tornado 6.1 which is incompatible.\u001b[0m\n",
            "Successfully installed blinker-1.4 gitdb-4.0.9 gitpython-3.1.27 ipykernel-6.13.0 ipython-7.33.0 jupyter-client-7.3.0 prompt-toolkit-3.0.29 pydeck-0.7.1 pympler-1.0.1 python-dotenv-0.19.2 simplejson-3.17.6 smmap-5.0.0 streamlit-1.9.0 streamlit-aggrid-0.2.3.post2 toml-0.10.2 tornado-6.1 validators-0.19.0 watchdog-2.1.7\n"
          ]
        },
        {
          "output_type": "display_data",
          "data": {
            "application/vnd.colab-display-data+json": {
              "pip_warning": {
                "packages": [
                  "IPython",
                  "ipykernel",
                  "jupyter_client",
                  "prompt_toolkit",
                  "tornado"
                ]
              }
            }
          },
          "metadata": {}
        }
      ],
      "source": [
        "pip install streamlit-aggrid"
      ]
    },
    {
      "cell_type": "code",
      "source": [
        "pip install plotly"
      ],
      "metadata": {
        "colab": {
          "base_uri": "https://localhost:8080/"
        },
        "id": "aD_43hZB3tfv",
        "outputId": "9a8609da-49f0-451c-908b-627de66c0a07"
      },
      "execution_count": 2,
      "outputs": [
        {
          "output_type": "stream",
          "name": "stdout",
          "text": [
            "Requirement already satisfied: plotly in /usr/local/lib/python3.7/dist-packages (5.5.0)\n",
            "Requirement already satisfied: six in /usr/local/lib/python3.7/dist-packages (from plotly) (1.15.0)\n",
            "Requirement already satisfied: tenacity>=6.2.0 in /usr/local/lib/python3.7/dist-packages (from plotly) (8.0.1)\n"
          ]
        }
      ]
    },
    {
      "cell_type": "code",
      "source": [
        "from st_aggrid import AgGrid\n",
        "import streamlit as st\n",
        "import pandas as pd \n",
        "import numpy as np\n",
        "import plotly.express as px\n",
        "from  PIL import Image\n",
        "import io "
      ],
      "metadata": {
        "colab": {
          "base_uri": "https://localhost:8080/"
        },
        "id": "nIBr2Ph33vjn",
        "outputId": "dee52205-2b5c-463b-be0d-43fe7c59bfd6"
      },
      "execution_count": 1,
      "outputs": [
        {
          "output_type": "stream",
          "name": "stderr",
          "text": [
            "2022-05-07 09:35:17.629 INFO    numexpr.utils: NumExpr defaulting to 2 threads.\n"
          ]
        }
      ]
    },
    {
      "cell_type": "markdown",
      "source": [
        "# Create the Sidebar"
      ],
      "metadata": {
        "id": "MXFQje5J3zcE"
      }
    },
    {
      "cell_type": "code",
      "source": [
        "st.set_page_config(layout='wide') #Choose wide mode as the default setting\n",
        "\n",
        "#Add a logo (optional) in the sidebar\n",
        "logo = Image.open(r'...\\Insights_Bees_logo.png')\n",
        "st.sidebar.image(logo,  width=120)\n",
        "\n",
        "#Add the expander to provide some information about the app\n",
        "with st.sidebar.expander(\"About the App\"):\n",
        "     st.write(\"\"\"\n",
        "        This interactive project management App was built by Sharone Li using Streamlit. You can use the app to easily and quickly generate a Gannt chart for any project plan and management purposes. \\n  \\nYou can edit the project plan within the app and instantly generate and update the Gantt chart. You can also export the Gantt chart to png file and share it with your team very easily.)\n",
        "     \"\"\")\n",
        "\n",
        "#Create a user feedback section to collect comments and ratings from users\n",
        "with st.sidebar.form(key='columns_in_form',clear_on_submit=True): #set clear_on_submit=True so that the form will be reset/cleared once it's submitted\n",
        "    st.write('Please help us improve!')\n",
        "    st.write('<style>div.row-widget.stRadio > div{flex-direction:row;} </style>', unsafe_allow_html=True) #Make horizontal radio buttons\n",
        "    rating=st.radio(\"Please rate the app\",('1','2','3','4','5'),index=4)    #Use radio buttons for ratings\n",
        "    text=st.text_input(label='Please leave your feedback here') #Collect user feedback\n",
        "    submitted = st.form_submit_button('Submit')\n",
        "    if submitted:\n",
        "      st.write('Thanks for your feedback!')\n",
        "      st.markdown('Your Rating:')\n",
        "      st.markdown(rating)\n",
        "      st.markdown('Your Feedback:')\n",
        "      st.markdown(text)"
      ],
      "metadata": {
        "id": "AyImeL9R3zH-"
      },
      "execution_count": 3,
      "outputs": []
    },
    {
      "cell_type": "markdown",
      "source": [
        "# Create the Main Interface — Section 1"
      ],
      "metadata": {
        "id": "ar6xD76K38vh"
      }
    },
    {
      "cell_type": "code",
      "source": [
        "# #Add an app title. Use css to style the title\n",
        "# st.markdown(\"\"\" <style> .font {                                          \n",
        "#     font-size:30px ; font-family: 'Cooper Black'; color: #FF9633;} \n",
        "#     </style> \"\"\", unsafe_allow_html=True)\n",
        "# st.markdown('<p class=\"font\">Upload your project plan file and generate Gantt chart instantly</p>', unsafe_allow_html=True)\n",
        "\n",
        "# #Add a template screenshot as an example \n",
        "# st.subheader('Step 1: Download the project plan template')\n",
        "# image = Image.open(r'...\\example.png') #template screenshot provided as an example\n",
        "# st.image(image,  caption='Make sure you use the same column names as in the template')\n",
        "\n",
        "# #Allow users to download the template\n",
        "# @st.cache\n",
        "# def convert_df(df):\n",
        "#      return df.to_csv().encode('utf-8')\n",
        "# df=pd.read_csv(r'...\\template.csv')\n",
        "# csv = convert_df(df)\n",
        "# st.download_button(\n",
        "#      label=\"Download Template\",\n",
        "#      data=csv,\n",
        "#      file_name='project_template.csv',\n",
        "#      mime='text/csv',\n",
        "#  )"
      ],
      "metadata": {
        "id": "U3gxRYL93yW-"
      },
      "execution_count": 4,
      "outputs": []
    },
    {
      "cell_type": "markdown",
      "source": [
        "# Create the Main Interface — Section 2"
      ],
      "metadata": {
        "id": "Z-1SOSvk4ANe"
      }
    },
    {
      "cell_type": "code",
      "source": [
        "#Add a file uploader to allow users to upload their project plan file\n",
        "st.subheader('Step 2: Upload your project plan file')\n",
        "\n",
        "uploaded_file = st.file_uploader(\"Fill out the project plan template and upload your file here. After you upload the file, you can edit your project plan within the app.\", type=['csv'])\n",
        "if uploaded_file is not None:\n",
        "    Tasks=pd.read_csv(uploaded_file)\n",
        "    Tasks['Start'] = Tasks['Start'].astype('datetime64')\n",
        "    Tasks['Finish'] = Tasks['Finish'].astype('datetime64')\n",
        "    \n",
        "    grid_response = AgGrid(\n",
        "        Tasks,\n",
        "        editable=True, \n",
        "        height=300, \n",
        "        width='100%',\n",
        "        )\n",
        "\n",
        "    updated = grid_response['data']\n",
        "    df = pd.DataFrame(updated) \n",
        "    \n",
        "else:\n",
        "    st.warning('You need to upload a csv file.') "
      ],
      "metadata": {
        "id": "rptxmAQX3_E9"
      },
      "execution_count": 5,
      "outputs": []
    },
    {
      "cell_type": "markdown",
      "source": [
        "# Create the Main Interface — Section 3"
      ],
      "metadata": {
        "id": "wtUTGLlW4DPp"
      }
    },
    {
      "cell_type": "code",
      "source": [
        "#Main interface section 2\n",
        "st.subheader('Step 2: Upload your project plan file')\n",
        "uploaded_file = st.file_uploader(\"Fill out the project plan template and upload your file here. After you upload the file, you can edit your project plan within the app.\", type=['csv'])\n",
        "if uploaded_file is not None:\n",
        "    Tasks=pd.read_csv(uploaded_file)\n",
        "    Tasks['Start'] = Tasks['Start'].astype('datetime64')\n",
        "    Tasks['Finish'] = Tasks['Finish'].astype('datetime64')\n",
        "    \n",
        "    grid_response = AgGrid(\n",
        "        Tasks,\n",
        "        editable=True, \n",
        "        height=300, \n",
        "        width='100%',\n",
        "        )\n",
        "\n",
        "    updated = grid_response['data']\n",
        "    df = pd.DataFrame(updated) \n",
        "    \n",
        "    #Main interface - section 3\n",
        "    st.subheader('Step 3: Generate the Gantt chart')\n",
        "    \n",
        "    Options = st.selectbox(\"View Gantt Chart by:\", ['Team','Completion Pct'],index=0)\n",
        "    if st.button('Generate Gantt Chart'): \n",
        "        fig = px.timeline(\n",
        "                        df, \n",
        "                        x_start=\"Start\", \n",
        "                        x_end=\"Finish\", \n",
        "                        y=\"Task\",\n",
        "                        color=Options,\n",
        "                        hover_name=\"Task Description\"\n",
        "                        )\n",
        "\n",
        "        fig.update_yaxes(autorange=\"reversed\")          #if not specified as 'reversed', the tasks will be listed from bottom up       \n",
        "        \n",
        "        fig.update_layout(\n",
        "                        title='Project Plan Gantt Chart',\n",
        "                        hoverlabel_bgcolor='#DAEEED',   #Change the hover tooltip background color to a universal light blue color. If not specified, the background color will vary by team or completion pct, depending on what view the user chooses\n",
        "                        bargap=0.2,\n",
        "                        height=600,              \n",
        "                        xaxis_title=\"\", \n",
        "                        yaxis_title=\"\",                   \n",
        "                        title_x=0.5,                    #Make title centered                     \n",
        "                        xaxis=dict(\n",
        "                                tickfont_size=15,\n",
        "                                tickangle = 270,\n",
        "                                rangeslider_visible=True,\n",
        "                                side =\"top\",            #Place the tick labels on the top of the chart\n",
        "                                showgrid = True,\n",
        "                                zeroline = True,\n",
        "                                showline = True,\n",
        "                                showticklabels = True,\n",
        "                                tickformat=\"%x\\n\",      #Display the tick labels in certain format. To learn more about different formats, visit: https://github.com/d3/d3-format/blob/main/README.md#locale_format\n",
        "                                )\n",
        "                    )\n",
        "        \n",
        "        fig.update_xaxes(tickangle=0, tickfont=dict(family='Rockwell', color='blue', size=15))\n",
        "\n",
        "        st.plotly_chart(fig, use_container_width=True)  #Display the plotly chart in Streamlit\n",
        "\n",
        "        st.subheader('Bonus: Export the interactive Gantt chart to HTML and share with others!') #Allow users to export the Plotly chart to HTML\n",
        "        buffer = io.StringIO()\n",
        "        fig.write_html(buffer, include_plotlyjs='cdn')\n",
        "        html_bytes = buffer.getvalue().encode()\n",
        "        st.download_button(\n",
        "            label='Export to HTML',\n",
        "            data=html_bytes,\n",
        "            file_name='Gantt.html',\n",
        "            mime='text/html'\n",
        "        ) \n",
        "    else:\n",
        "        st.write('---') \n",
        "   \n",
        "else:\n",
        "    st.warning('You need to upload a csv file.')"
      ],
      "metadata": {
        "id": "cAQ3ujWV4B0t"
      },
      "execution_count": 6,
      "outputs": []
    }
  ]
}