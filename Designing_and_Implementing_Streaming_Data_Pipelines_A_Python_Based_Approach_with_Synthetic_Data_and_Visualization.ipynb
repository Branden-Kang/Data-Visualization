{
  "nbformat": 4,
  "nbformat_minor": 0,
  "metadata": {
    "colab": {
      "provenance": [],
      "authorship_tag": "ABX9TyN+UW2gbdaNzeeX8QKRO2xm"
    },
    "kernelspec": {
      "name": "python3",
      "display_name": "Python 3"
    },
    "language_info": {
      "name": "python"
    }
  },
  "cells": [
    {
      "cell_type": "markdown",
      "source": [
        "[Reference](https://pub.aimind.so/designing-and-implementing-streaming-data-pipelines-a-python-based-approach-with-synthetic-data-3fe618f3055a)"
      ],
      "metadata": {
        "id": "essll0kQF1JZ"
      }
    },
    {
      "cell_type": "code",
      "execution_count": 2,
      "metadata": {
        "id": "YAw0fKVKFSYI"
      },
      "outputs": [],
      "source": [
        "import pandas as pd\n",
        "import numpy as np\n",
        "import time\n",
        "import random\n",
        "import matplotlib.pyplot as plt\n",
        "\n",
        "# Generate a synthetic dataset\n",
        "def generate_data(num_entries):\n",
        "    timestamps = pd.date_range(start=\"2023-01-01\", periods=num_entries, freq=\"S\")\n",
        "    temperatures = np.random.normal(loc=20, scale=5, size=num_entries)  # Normal distribution\n",
        "    return pd.DataFrame({'timestamp': timestamps, 'temperature': temperatures})\n",
        "\n",
        "def stream_data(dataframe):\n",
        "    for _, row in dataframe.iterrows():\n",
        "        new_data = row.to_dict()\n",
        "        yield new_data\n",
        "        time.sleep(random.uniform(0.1, 0.5))  # Simulate data streaming delay\n",
        "\n",
        "def process_data(data):\n",
        "    data['temperature_f'] = data['temperature'] * 9/5 + 32\n",
        "    return data\n",
        "\n",
        "def plot_data(processed_data):\n",
        "    plt.plot(processed_data['timestamp'], processed_data['temperature_f'], label='Temperature (F)')\n",
        "    plt.xlabel('Timestamp')\n",
        "    plt.ylabel('Temperature (F)')\n",
        "    plt.title('Streamed Temperature Data')\n",
        "    plt.legend()\n",
        "    plt.show()\n",
        "\n",
        "# Generate the dataset\n",
        "dataset = generate_data(100)  # 100 data points\n",
        "\n",
        "# Stream and process data\n",
        "processed_data = pd.DataFrame()\n",
        "for data in stream_data(dataset):\n",
        "    processed_data = processed_data.append(process_data(data), ignore_index=True)\n",
        "\n",
        "# Visualize the processed data\n",
        "plot_data(processed_data)"
      ]
    }
  ]
}