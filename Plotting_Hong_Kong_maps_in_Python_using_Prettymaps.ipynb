{
  "nbformat": 4,
  "nbformat_minor": 0,
  "metadata": {
    "colab": {
      "name": "Plotting Hong Kong maps in Python using Prettymaps.ipynb",
      "provenance": [],
      "authorship_tag": "ABX9TyMuYQ1XARBUGPr4fkVtDo8r"
    },
    "kernelspec": {
      "name": "python3",
      "display_name": "Python 3"
    },
    "language_info": {
      "name": "python"
    }
  },
  "cells": [
    {
      "cell_type": "markdown",
      "source": [
        "[Reference](https://medium.com/mlearning-ai/i-plotted-hong-kong-maps-in-python-using-prettymaps-18df4b0866a5)"
      ],
      "metadata": {
        "id": "IGuF3XpCEXGN"
      }
    },
    {
      "cell_type": "markdown",
      "source": [
        "# Installation (restart runtime after running the following cell)"
      ],
      "metadata": {
        "id": "1zPftlm6E0Cl"
      }
    },
    {
      "cell_type": "code",
      "source": [
        "!pip install git+https://github.com/abey79/vsketch#egg=vsketch\n",
        "!pip install git+https://github.com/marceloprates/prettymaps.git\n",
        "\n",
        "!mkdir ../prints\n",
        "!mkdir ../assets\n",
        "!mkdir ../assets/Permanent_Marker/\n",
        "!wget -O ../assets/Permanent_Marker/PermanentMarker-Regular.ttf https://github.com/marceloprates/prettymaps/raw/main/assets/Permanent_Marker/PermanentMarker-Regular.ttf"
      ],
      "metadata": {
        "colab": {
          "base_uri": "https://localhost:8080/"
        },
        "id": "mEyjZPorEeAR",
        "outputId": "2acf79af-6537-4109-f817-06a076343941"
      },
      "execution_count": 5,
      "outputs": [
        {
          "output_type": "stream",
          "name": "stdout",
          "text": [
            "Collecting vsketch\n",
            "  Cloning https://github.com/abey79/vsketch to /tmp/pip-install-f1pluuau/vsketch_8a81d491b01b47e38a7bc64f423216b9\n",
            "  Running command git clone -q https://github.com/abey79/vsketch /tmp/pip-install-f1pluuau/vsketch_8a81d491b01b47e38a7bc64f423216b9\n",
            "  Installing build dependencies ... \u001b[?25l\u001b[?25hdone\n",
            "  Getting requirements to build wheel ... \u001b[?25l\u001b[?25hdone\n",
            "    Preparing wheel metadata ... \u001b[?25l\u001b[?25hdone\n",
            "Collecting vpype[all]@ git+https://github.com/abey79/vpype@ab39d5bfad2615f30ab248d48ec46b54dbc1aa83\n",
            "  Cloning https://github.com/abey79/vpype (to revision ab39d5bfad2615f30ab248d48ec46b54dbc1aa83) to /tmp/pip-install-f1pluuau/vpype_0f1f9826097d461f8f2842a4f1bdd35e\n",
            "  Running command git clone -q https://github.com/abey79/vpype /tmp/pip-install-f1pluuau/vpype_0f1f9826097d461f8f2842a4f1bdd35e\n",
            "  Running command git rev-parse -q --verify 'sha^ab39d5bfad2615f30ab248d48ec46b54dbc1aa83'\n",
            "  Running command git fetch -q https://github.com/abey79/vpype ab39d5bfad2615f30ab248d48ec46b54dbc1aa83\n",
            "  Installing build dependencies ... \u001b[?25l\u001b[?25hdone\n",
            "  Getting requirements to build wheel ... \u001b[?25l\u001b[?25hdone\n",
            "    Preparing wheel metadata ... \u001b[?25l\u001b[?25hdone\n",
            "Collecting PySide2<6.0.0,>=5.15.2\n",
            "  Downloading PySide2-5.15.2.1-5.15.2-cp35.cp36.cp37.cp38.cp39.cp310-abi3-manylinux1_x86_64.whl (164.3 MB)\n",
            "\u001b[K     |████████████████████████████████| 164.3 MB 43 kB/s \n",
            "\u001b[?25hRequirement already satisfied: numpy>=1.20.1 in /usr/local/lib/python3.7/dist-packages (from vsketch) (1.21.6)\n",
            "Requirement already satisfied: matplotlib<4.0.0,>=3.3.3 in /usr/local/lib/python3.7/dist-packages (from vsketch) (3.5.1)\n",
            "Collecting pnoise>=0.2.0\n",
            "  Downloading pnoise-0.2.0-py3-none-any.whl (13 kB)\n",
            "Requirement already satisfied: Shapely[vectorized]<2.0.0,>=1.7.1 in /usr/local/lib/python3.7/dist-packages (from vsketch) (1.8.1.post1)\n",
            "Requirement already satisfied: multiprocess<0.71.0,>=0.70.11 in /usr/local/lib/python3.7/dist-packages (from vsketch) (0.70.12.2)\n",
            "Collecting qasync>=0.22\n",
            "  Downloading qasync-0.23.0-py3-none-any.whl (13 kB)\n",
            "Collecting watchfiles>=0.12\n",
            "  Downloading watchfiles-0.13-cp37-cp37m-manylinux_2_24_x86_64.whl (1.1 MB)\n",
            "\u001b[K     |████████████████████████████████| 1.1 MB 48.9 MB/s \n",
            "\u001b[?25hCollecting colorama<0.5.0,>=0.4.4\n",
            "  Downloading colorama-0.4.4-py2.py3-none-any.whl (16 kB)\n",
            "Collecting cookiecutter<2.0.0,>=1.7.2\n",
            "  Downloading cookiecutter-1.7.3-py2.py3-none-any.whl (34 kB)\n",
            "\u001b[31mERROR: Package 'vsketch' requires a different Python: 3.7.13 not in '<3.11,>=3.8'\u001b[0m\n",
            "Collecting git+https://github.com/marceloprates/prettymaps.git\n",
            "  Cloning https://github.com/marceloprates/prettymaps.git to /tmp/pip-req-build-gp__ph1e\n",
            "  Running command git clone -q https://github.com/marceloprates/prettymaps.git /tmp/pip-req-build-gp__ph1e\n",
            "Requirement already satisfied: osmnx==1.0.1 in /usr/local/lib/python3.7/dist-packages (from prettymaps==0.1.3) (1.0.1)\n",
            "Requirement already satisfied: tabulate==0.8.9 in /usr/local/lib/python3.7/dist-packages (from prettymaps==0.1.3) (0.8.9)\n",
            "Requirement already satisfied: Shapely>=1.7 in /usr/local/lib/python3.7/dist-packages (from osmnx==1.0.1->prettymaps==0.1.3) (1.8.1.post1)\n",
            "Requirement already satisfied: Rtree>=0.9 in /usr/local/lib/python3.7/dist-packages (from osmnx==1.0.1->prettymaps==0.1.3) (1.0.0)\n",
            "Requirement already satisfied: numpy>=1.19 in /usr/local/lib/python3.7/dist-packages (from osmnx==1.0.1->prettymaps==0.1.3) (1.21.6)\n",
            "Requirement already satisfied: matplotlib>=3.3 in /usr/local/lib/python3.7/dist-packages (from osmnx==1.0.1->prettymaps==0.1.3) (3.5.1)\n",
            "Requirement already satisfied: pyproj>=2.6 in /usr/local/lib/python3.7/dist-packages (from osmnx==1.0.1->prettymaps==0.1.3) (3.2.1)\n",
            "Requirement already satisfied: pandas>=1.1 in /usr/local/lib/python3.7/dist-packages (from osmnx==1.0.1->prettymaps==0.1.3) (1.3.5)\n",
            "Requirement already satisfied: requests>=2.25 in /usr/local/lib/python3.7/dist-packages (from osmnx==1.0.1->prettymaps==0.1.3) (2.27.1)\n",
            "Requirement already satisfied: descartes>=1.1 in /usr/local/lib/python3.7/dist-packages (from osmnx==1.0.1->prettymaps==0.1.3) (1.1.0)\n",
            "Requirement already satisfied: geopandas>=0.8 in /usr/local/lib/python3.7/dist-packages (from osmnx==1.0.1->prettymaps==0.1.3) (0.10.2)\n",
            "Requirement already satisfied: networkx>=2.5 in /usr/local/lib/python3.7/dist-packages (from osmnx==1.0.1->prettymaps==0.1.3) (2.6.3)\n",
            "Requirement already satisfied: fiona>=1.8 in /usr/local/lib/python3.7/dist-packages (from geopandas>=0.8->osmnx==1.0.1->prettymaps==0.1.3) (1.8.21)\n",
            "Requirement already satisfied: click-plugins>=1.0 in /usr/local/lib/python3.7/dist-packages (from fiona>=1.8->geopandas>=0.8->osmnx==1.0.1->prettymaps==0.1.3) (1.1.1)\n",
            "Requirement already satisfied: certifi in /usr/local/lib/python3.7/dist-packages (from fiona>=1.8->geopandas>=0.8->osmnx==1.0.1->prettymaps==0.1.3) (2021.10.8)\n",
            "Requirement already satisfied: attrs>=17 in /usr/local/lib/python3.7/dist-packages (from fiona>=1.8->geopandas>=0.8->osmnx==1.0.1->prettymaps==0.1.3) (21.4.0)\n",
            "Requirement already satisfied: cligj>=0.5 in /usr/local/lib/python3.7/dist-packages (from fiona>=1.8->geopandas>=0.8->osmnx==1.0.1->prettymaps==0.1.3) (0.7.2)\n",
            "Requirement already satisfied: click>=4.0 in /usr/local/lib/python3.7/dist-packages (from fiona>=1.8->geopandas>=0.8->osmnx==1.0.1->prettymaps==0.1.3) (7.1.2)\n",
            "Requirement already satisfied: six>=1.7 in /usr/local/lib/python3.7/dist-packages (from fiona>=1.8->geopandas>=0.8->osmnx==1.0.1->prettymaps==0.1.3) (1.15.0)\n",
            "Requirement already satisfied: munch in /usr/local/lib/python3.7/dist-packages (from fiona>=1.8->geopandas>=0.8->osmnx==1.0.1->prettymaps==0.1.3) (2.5.0)\n",
            "Requirement already satisfied: setuptools in /usr/local/lib/python3.7/dist-packages (from fiona>=1.8->geopandas>=0.8->osmnx==1.0.1->prettymaps==0.1.3) (57.4.0)\n",
            "Requirement already satisfied: kiwisolver>=1.0.1 in /usr/local/lib/python3.7/dist-packages (from matplotlib>=3.3->osmnx==1.0.1->prettymaps==0.1.3) (1.4.2)\n",
            "Requirement already satisfied: cycler>=0.10 in /usr/local/lib/python3.7/dist-packages (from matplotlib>=3.3->osmnx==1.0.1->prettymaps==0.1.3) (0.11.0)\n",
            "Requirement already satisfied: pyparsing>=2.2.1 in /usr/local/lib/python3.7/dist-packages (from matplotlib>=3.3->osmnx==1.0.1->prettymaps==0.1.3) (3.0.8)\n",
            "Requirement already satisfied: python-dateutil>=2.7 in /usr/local/lib/python3.7/dist-packages (from matplotlib>=3.3->osmnx==1.0.1->prettymaps==0.1.3) (2.8.2)\n",
            "Requirement already satisfied: packaging>=20.0 in /usr/local/lib/python3.7/dist-packages (from matplotlib>=3.3->osmnx==1.0.1->prettymaps==0.1.3) (21.3)\n",
            "Requirement already satisfied: pillow>=6.2.0 in /usr/local/lib/python3.7/dist-packages (from matplotlib>=3.3->osmnx==1.0.1->prettymaps==0.1.3) (7.1.2)\n",
            "Requirement already satisfied: fonttools>=4.22.0 in /usr/local/lib/python3.7/dist-packages (from matplotlib>=3.3->osmnx==1.0.1->prettymaps==0.1.3) (4.33.2)\n",
            "Requirement already satisfied: typing-extensions in /usr/local/lib/python3.7/dist-packages (from kiwisolver>=1.0.1->matplotlib>=3.3->osmnx==1.0.1->prettymaps==0.1.3) (4.1.1)\n",
            "Requirement already satisfied: pytz>=2017.3 in /usr/local/lib/python3.7/dist-packages (from pandas>=1.1->osmnx==1.0.1->prettymaps==0.1.3) (2022.1)\n",
            "Requirement already satisfied: urllib3<1.27,>=1.21.1 in /usr/local/lib/python3.7/dist-packages (from requests>=2.25->osmnx==1.0.1->prettymaps==0.1.3) (1.24.3)\n",
            "Requirement already satisfied: idna<4,>=2.5 in /usr/local/lib/python3.7/dist-packages (from requests>=2.25->osmnx==1.0.1->prettymaps==0.1.3) (2.10)\n",
            "Requirement already satisfied: charset-normalizer~=2.0.0 in /usr/local/lib/python3.7/dist-packages (from requests>=2.25->osmnx==1.0.1->prettymaps==0.1.3) (2.0.12)\n",
            "--2022-04-25 14:14:23--  https://github.com/marceloprates/prettymaps/raw/main/assets/Permanent_Marker/PermanentMarker-Regular.ttf\n",
            "Resolving github.com (github.com)... 140.82.112.4\n",
            "Connecting to github.com (github.com)|140.82.112.4|:443... connected.\n",
            "HTTP request sent, awaiting response... 302 Found\n",
            "Location: https://raw.githubusercontent.com/marceloprates/prettymaps/main/assets/Permanent_Marker/PermanentMarker-Regular.ttf [following]\n",
            "--2022-04-25 14:14:24--  https://raw.githubusercontent.com/marceloprates/prettymaps/main/assets/Permanent_Marker/PermanentMarker-Regular.ttf\n",
            "Resolving raw.githubusercontent.com (raw.githubusercontent.com)... 185.199.108.133, 185.199.109.133, 185.199.110.133, ...\n",
            "Connecting to raw.githubusercontent.com (raw.githubusercontent.com)|185.199.108.133|:443... connected.\n",
            "HTTP request sent, awaiting response... 200 OK\n",
            "Length: 73620 (72K) [application/octet-stream]\n",
            "Saving to: ‘../assets/Permanent_Marker/PermanentMarker-Regular.ttf’\n",
            "\n",
            "../assets/Permanent 100%[===================>]  71.89K  --.-KB/s    in 0.01s   \n",
            "\n",
            "2022-04-25 14:14:24 (5.72 MB/s) - ‘../assets/Permanent_Marker/PermanentMarker-Regular.ttf’ saved [73620/73620]\n",
            "\n"
          ]
        }
      ]
    },
    {
      "cell_type": "markdown",
      "source": [
        "# Imports"
      ],
      "metadata": {
        "id": "I0vMyVoIEygd"
      }
    },
    {
      "cell_type": "code",
      "source": [
        "# For local execution (does not require installing the library):\n",
        "%load_ext autoreload\n",
        "%autoreload 2\n",
        "import sys; sys.path.append('../')# Prettymaps\n",
        "from prettymaps import *\n",
        "# Vsketch\n",
        "# import vsketch\n",
        "# OSMNX\n",
        "import osmnx as ox\n",
        "# Matplotlib-related\n",
        "import matplotlib.font_manager as fm\n",
        "from matplotlib import pyplot as plt\n",
        "from descartes import PolygonPatch\n",
        "# Shapely\n",
        "from shapely.geometry import *\n",
        "from shapely.affinity import *\n",
        "from shapely.ops import unary_union"
      ],
      "metadata": {
        "colab": {
          "base_uri": "https://localhost:8080/"
        },
        "id": "Y78EYrfoEA7G",
        "outputId": "2b98c1d9-e34c-41ae-d68b-45123ddd6439"
      },
      "execution_count": 8,
      "outputs": [
        {
          "output_type": "stream",
          "name": "stdout",
          "text": [
            "The autoreload extension is already loaded. To reload it, use:\n",
            "  %reload_ext autoreload\n"
          ]
        }
      ]
    },
    {
      "cell_type": "markdown",
      "source": [
        "# Macao, China (circle plot)"
      ],
      "metadata": {
        "id": "BSRqpIdvEr66"
      }
    },
    {
      "cell_type": "code",
      "source": [
        "fig, ax = plt.subplots(figsize = (12, 12), constrained_layout = True)\n",
        "\n",
        "layers = plot(\n",
        "    'Praça Ferreira do Amaral, Macau', radius = 1100,\n",
        "    ax = ax,\n",
        "    layers = {\n",
        "            'perimeter': {},\n",
        "            'streets': {\n",
        "                'custom_filter': '[\"highway\"~\"motorway|trunk|primary|secondary|tertiary|residential|service|unclassified|pedestrian|footway\"]',\n",
        "                'width': {\n",
        "                    'motorway': 5,\n",
        "                    'trunk': 5,\n",
        "                    'primary': 4.5,\n",
        "                    'secondary': 4,\n",
        "                    'tertiary': 3.5,\n",
        "                    'residential': 3,\n",
        "                    'service': 2,\n",
        "                    'unclassified': 2,\n",
        "                    'pedestrian': 2,\n",
        "                    'footway': 1,\n",
        "                }\n",
        "            },\n",
        "            'building': {'tags': {'building': True, 'landuse': 'construction'}, 'union': False},\n",
        "            'water': {'tags': {'natural': ['water', 'bay']}},\n",
        "            'green': {'tags': {'landuse': 'grass', 'natural': ['island', 'wood'], 'leisure': 'park'}},\n",
        "            'forest': {'tags': {'landuse': 'forest'}},\n",
        "            'parking': {'tags': {'amenity': 'parking', 'highway': 'pedestrian', 'man_made': 'pier'}}\n",
        "        },\n",
        "        drawing_kwargs = {\n",
        "            'background': {'fc': '#F2F4CB', 'ec': '#dadbc1', 'hatch': 'ooo...', 'zorder': -1},\n",
        "            'perimeter': {'fc': '#F2F4CB', 'ec': '#dadbc1', 'lw': 0, 'hatch': 'ooo...',  'zorder': 0},\n",
        "            'green': {'fc': '#D0F1BF', 'ec': '#2F3737', 'lw': 1, 'zorder': 1},\n",
        "            'forest': {'fc': '#64B96A', 'ec': '#2F3737', 'lw': 1, 'zorder': 1},\n",
        "            'water': {'fc': '#a1e3ff', 'ec': '#2F3737', 'hatch': 'ooo...', 'hatch_c': '#85c9e6', 'lw': 1, 'zorder': 2},\n",
        "            'parking': {'fc': '#F2F4CB', 'ec': '#2F3737', 'lw': 1, 'zorder': 3},\n",
        "            'streets': {'fc': '#2F3737', 'ec': '#475657', 'alpha': 1, 'lw': 0, 'zorder': 3},\n",
        "            'building': {'palette': ['#FFC857', '#E9724C', '#C5283D'], 'ec': '#2F3737', 'lw': .5, 'zorder': 4},\n",
        "        },\n",
        "\n",
        "        osm_credit = {'color': '#2F3737'}\n",
        ")\n",
        "\n",
        "#plt.savefig('../prints/macao.png')\n",
        "#plt.savefig('../prints/macao.svg')"
      ],
      "metadata": {
        "id": "gkSlzGcYD6Iq"
      },
      "execution_count": 11,
      "outputs": []
    }
  ]
}