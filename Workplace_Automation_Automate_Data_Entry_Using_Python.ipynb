{
  "nbformat": 4,
  "nbformat_minor": 0,
  "metadata": {
    "colab": {
      "name": "Workplace Automation: Automate Data Entry Using Python.ipynb",
      "provenance": [],
      "authorship_tag": "ABX9TyPDXPRGjyJJDRCGmCrPtMnR"
    },
    "kernelspec": {
      "name": "python3",
      "display_name": "Python 3"
    },
    "language_info": {
      "name": "python"
    }
  },
  "cells": [
    {
      "cell_type": "markdown",
      "metadata": {
        "id": "IE0tbpX-Y6Fo"
      },
      "source": [
        "[Reference](https://david-kyn.medium.com/workplace-automation-automate-data-entry-using-python-babbb5efb8e6)"
      ]
    },
    {
      "cell_type": "code",
      "metadata": {
        "colab": {
          "base_uri": "https://localhost:8080/"
        },
        "id": "AhVrwBf0YbGi",
        "outputId": "44f8cec0-44d8-4d70-9da4-776810dea91d"
      },
      "source": [
        "!pip install pyautogui"
      ],
      "execution_count": 2,
      "outputs": [
        {
          "output_type": "stream",
          "text": [
            "Collecting pyautogui\n",
            "  Downloading PyAutoGUI-0.9.53.tar.gz (59 kB)\n",
            "\u001b[?25l\r\u001b[K     |█████▌                          | 10 kB 24.0 MB/s eta 0:00:01\r\u001b[K     |███████████                     | 20 kB 30.5 MB/s eta 0:00:01\r\u001b[K     |████████████████▋               | 30 kB 35.0 MB/s eta 0:00:01\r\u001b[K     |██████████████████████▏         | 40 kB 37.4 MB/s eta 0:00:01\r\u001b[K     |███████████████████████████▊    | 51 kB 41.1 MB/s eta 0:00:01\r\u001b[K     |████████████████████████████████| 59 kB 5.3 MB/s \n",
            "\u001b[?25hCollecting pymsgbox\n",
            "  Downloading PyMsgBox-1.0.9.tar.gz (18 kB)\n",
            "  Installing build dependencies ... \u001b[?25l\u001b[?25hdone\n",
            "  Getting requirements to build wheel ... \u001b[?25l\u001b[?25hdone\n",
            "    Preparing wheel metadata ... \u001b[?25l\u001b[?25hdone\n",
            "Collecting PyTweening>=1.0.1\n",
            "  Downloading PyTweening-1.0.3.zip (15 kB)\n",
            "Collecting pyscreeze>=0.1.21\n",
            "  Downloading PyScreeze-0.1.27.tar.gz (25 kB)\n",
            "  Installing build dependencies ... \u001b[?25l\u001b[?25hdone\n",
            "  Getting requirements to build wheel ... \u001b[?25l\u001b[?25hdone\n",
            "    Preparing wheel metadata ... \u001b[?25l\u001b[?25hdone\n",
            "Collecting pygetwindow>=0.0.5\n",
            "  Downloading PyGetWindow-0.0.9.tar.gz (9.7 kB)\n",
            "Collecting mouseinfo\n",
            "  Downloading MouseInfo-0.1.3.tar.gz (10 kB)\n",
            "Collecting python3-Xlib\n",
            "  Downloading python3-xlib-0.15.tar.gz (132 kB)\n",
            "\u001b[K     |████████████████████████████████| 132 kB 65.1 MB/s \n",
            "\u001b[?25hCollecting pyrect\n",
            "  Downloading PyRect-0.1.4.tar.gz (15 kB)\n",
            "Requirement already satisfied: Pillow>=5.2.0 in /usr/local/lib/python3.7/dist-packages (from pyscreeze>=0.1.21->pyautogui) (7.1.2)\n",
            "Collecting pyperclip\n",
            "  Downloading pyperclip-1.8.2.tar.gz (20 kB)\n",
            "Building wheels for collected packages: pyautogui, pygetwindow, pyscreeze, PyTweening, mouseinfo, pymsgbox, pyperclip, pyrect, python3-Xlib\n",
            "  Building wheel for pyautogui (setup.py) ... \u001b[?25l\u001b[?25hdone\n",
            "  Created wheel for pyautogui: filename=PyAutoGUI-0.9.53-py3-none-any.whl size=36614 sha256=04486b92f025f8420f30823ff9d414eec48e42b0a0f902be4b2709b4d3abf12f\n",
            "  Stored in directory: /root/.cache/pip/wheels/23/db/81/a14b5eca81ccb97c15e5bbea8d5394b8cbf6b36451d89dd648\n",
            "  Building wheel for pygetwindow (setup.py) ... \u001b[?25l\u001b[?25hdone\n",
            "  Created wheel for pygetwindow: filename=PyGetWindow-0.0.9-py3-none-any.whl size=11078 sha256=f4128e4256ac4e2e4387832d01ac4734f07e0251cd1de0653ca7b287880e1d7f\n",
            "  Stored in directory: /root/.cache/pip/wheels/91/7e/35/62d9062a06cfc46fea39e26860253da36f258b3f3fd96c91c3\n",
            "  Building wheel for pyscreeze (PEP 517) ... \u001b[?25l\u001b[?25hdone\n",
            "  Created wheel for pyscreeze: filename=PyScreeze-0.1.27-py3-none-any.whl size=12891 sha256=817506da3f7dbd2b9dfbfabb2bb4c9ca6630917c619eb7c9e9c66371bf5dd062\n",
            "  Stored in directory: /root/.cache/pip/wheels/e7/cf/e4/6a16ce50f4213c83255fb057549e804a03ffa1ace412130e45\n",
            "  Building wheel for PyTweening (setup.py) ... \u001b[?25l\u001b[?25hdone\n",
            "  Created wheel for PyTweening: filename=PyTweening-1.0.3-py3-none-any.whl size=3812 sha256=6e36736089b1052b786a0c7e60655751cddee11af33485dceacb40516b759e72\n",
            "  Stored in directory: /root/.cache/pip/wheels/1c/ca/56/5da436934a2b244752a7ebc864407729a098271a531a29493c\n",
            "  Building wheel for mouseinfo (setup.py) ... \u001b[?25l\u001b[?25hdone\n",
            "  Created wheel for mouseinfo: filename=MouseInfo-0.1.3-py3-none-any.whl size=10905 sha256=c436aef11c136a2f2d61cce0322944dffc9f6f3a891a35e4834ed92758d1aa17\n",
            "  Stored in directory: /root/.cache/pip/wheels/43/9a/7f/373736bf37b94b358be41fb2f317a0f9940a1dcb7a733e1707\n",
            "  Building wheel for pymsgbox (PEP 517) ... \u001b[?25l\u001b[?25hdone\n",
            "  Created wheel for pymsgbox: filename=PyMsgBox-1.0.9-py3-none-any.whl size=7420 sha256=36f3bb95c46506c5b98fdeb4f22bd3a21e2701a12a681d5de5b5703a0988a4b2\n",
            "  Stored in directory: /root/.cache/pip/wheels/39/eb/0e/1587e06da34adf675ad26a113da25df542991f5095303374ef\n",
            "  Building wheel for pyperclip (setup.py) ... \u001b[?25l\u001b[?25hdone\n",
            "  Created wheel for pyperclip: filename=pyperclip-1.8.2-py3-none-any.whl size=11137 sha256=923323f55fbd8b7213f0833794e36a651d76abe9e95707d6a6b07eaf0423725c\n",
            "  Stored in directory: /root/.cache/pip/wheels/9f/18/84/8f69f8b08169c7bae2dde6bd7daf0c19fca8c8e500ee620a28\n",
            "  Building wheel for pyrect (setup.py) ... \u001b[?25l\u001b[?25hdone\n",
            "  Created wheel for pyrect: filename=PyRect-0.1.4-py2.py3-none-any.whl size=9547 sha256=7313c01a00534d76f8f7c2956b319f874c941a2226b590e2d1d7833f3a73f024\n",
            "  Stored in directory: /root/.cache/pip/wheels/97/5f/8e/6f26a5b00d46679ee2391a3542334274ce8bdaf7c6b0f3504c\n",
            "  Building wheel for python3-Xlib (setup.py) ... \u001b[?25l\u001b[?25hdone\n",
            "  Created wheel for python3-Xlib: filename=python3_xlib-0.15-py3-none-any.whl size=109516 sha256=aa583cdc53f4606b8bbccad4973c0e78c8778e962469bd1b4333f3fbc007df07\n",
            "  Stored in directory: /root/.cache/pip/wheels/67/6f/f2/18f51230840318e784c45e1392a0e174777e499251e42ddf86\n",
            "Successfully built pyautogui pygetwindow pyscreeze PyTweening mouseinfo pymsgbox pyperclip pyrect python3-Xlib\n",
            "Installing collected packages: python3-Xlib, pyrect, pyperclip, PyTweening, pyscreeze, pymsgbox, pygetwindow, mouseinfo, pyautogui\n",
            "Successfully installed PyTweening-1.0.3 mouseinfo-0.1.3 pyautogui-0.9.53 pygetwindow-0.0.9 pymsgbox-1.0.9 pyperclip-1.8.2 pyrect-0.1.4 pyscreeze-0.1.27 python3-Xlib-0.15\n"
          ],
          "name": "stdout"
        }
      ]
    },
    {
      "cell_type": "code",
      "metadata": {
        "id": "P_4fa-JrYTmL"
      },
      "source": [
        "import time\n",
        "import pyautogui as pag\n",
        "import webbrowser\n",
        "import csv\n",
        "\n",
        "#Opens a brower with the URL\n",
        "webbrowser.open_new(\"https://formsmarts.com/html-form-example\")\n",
        "\n",
        "#Let the web browser finish loading before clicking (sleep for 2 seconds)\n",
        "time.sleep(2)\n",
        "\n",
        "#Click on the input field\n",
        "pag.click(x=700, y=970) \n",
        "\n",
        "#Type some data into the input field. We pass in an optional parameter of interval so it doesn't type too fast\n",
        "pag.write('David Tan', interval=0.1)"
      ],
      "execution_count": 4,
      "outputs": []
    }
  ]
}