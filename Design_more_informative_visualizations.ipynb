{
  "nbformat": 4,
  "nbformat_minor": 0,
  "metadata": {
    "colab": {
      "name": "Design more informative visualizations.ipynb",
      "provenance": [],
      "authorship_tag": "ABX9TyNfYl/9yprYB4SKK7EBkPh4"
    },
    "kernelspec": {
      "name": "python3",
      "display_name": "Python 3"
    }
  },
  "cells": [
    {
      "cell_type": "markdown",
      "metadata": {
        "id": "owDN79Gj9hGs"
      },
      "source": [
        "[Reference](https://github.com/amandaiglesiasmoreno/visualizations/blob/main/How%20to%20design%20more%20informative%20visualizations.ipynb)\n",
        "\n",
        "```python\n",
        "fig6 = plt.figure(figsize=(12,5))\n",
        "\n",
        "ax = plt.gca()\n",
        "\n",
        "colors = ['grey', 'darkgrey', 'lightgrey', 'red']\n",
        "for index, column in enumerate(selected_teams.columns):\n",
        "    if column == 'Atlético de Madrid':\n",
        "         ax.plot(selected_teams[column], label=selected_teams[column].name, color=colors[index], linewidth=3)\n",
        "    else: \n",
        "        ax.plot(selected_teams[column], label=selected_teams[column].name, color=colors[index])\n",
        "\n",
        "# Hide the right and top spines\n",
        "ax.spines['right'].set_visible(False)\n",
        "ax.spines['top'].set_visible(False)\n",
        "\n",
        "# spines colors \n",
        "ax.spines['bottom'].set_color('grey')\n",
        "ax.spines['left'].set_color('grey')\n",
        "\n",
        "# xticks size and color \n",
        "ax.tick_params(axis='both', colors='grey', labelsize = 14)\n",
        "\n",
        "# legend legend\n",
        "ax.legend('', frameon=False)\n",
        "\n",
        "\n",
        "for index, column in enumerate(selected_teams.columns):\n",
        "    y_pos =  selected_teams.loc['2019-20', column]\n",
        "    if column == 'Atlético de Madrid':\n",
        "        plt.text(9.1, y_pos, column, fontsize=18, color=colors[index])\n",
        "    else: \n",
        "        plt.text(9.1, y_pos-1.2, column, fontsize=18, color=colors[index])\n",
        "\n",
        "# define the title and the labels\n",
        "#ax.set_title('Accidents in 2017 in Barcelona\\n', fontsize=24, color='grey', loc='left')\n",
        "plt.text(-0.4, 75, 'Atlético de Madrid', fontsize=24, color='red')\n",
        "plt.text(2.92, 75, 'has the ', fontsize=24, color='grey')\n",
        "plt.text(4.32, 75, 'best defense ', fontsize=24, color='red')\n",
        "plt.text(6.7, 75, 'in the Spanish league', fontsize=24, color='grey')\n",
        "plt.text(-0.4, 70, 'Under the supervison of Simeone, Atlético de Madrid has received fewer goals against than its direct rivals', fontsize=16, color='grey')\n",
        "\n",
        "#ax.set_title('Goals against from 2010 until 2020', fontsize=20, color='grey')\n",
        "ax.set_xlabel('Season', fontsize=16, color='grey')\n",
        "ax.set_ylabel('Goals against', fontsize=16, color='grey')\n",
        "```"
      ]
    }
  ]
}