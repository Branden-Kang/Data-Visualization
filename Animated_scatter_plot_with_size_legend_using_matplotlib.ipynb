{
  "nbformat": 4,
  "nbformat_minor": 0,
  "metadata": {
    "colab": {
      "provenance": [],
      "authorship_tag": "ABX9TyO6nm1ZM5T2amMVtarI1Iw1"
    },
    "kernelspec": {
      "name": "python3",
      "display_name": "Python 3"
    },
    "language_info": {
      "name": "python"
    }
  },
  "cells": [
    {
      "cell_type": "markdown",
      "source": [
        "[Reference](https://medium.com/@sandeep.dhakal/animated-scatter-plot-with-size-legend-with-matplotlib-366556287464)"
      ],
      "metadata": {
        "id": "O-T1cbiCX1sZ"
      }
    },
    {
      "cell_type": "code",
      "execution_count": 1,
      "metadata": {
        "id": "23Y27hQwXyws"
      },
      "outputs": [],
      "source": [
        "import urllib.parse\n",
        "\n",
        "import geopandas as gpd\n",
        "import pandas as pd\n",
        "\n",
        "# these are the rough bounds of the earthquake and its aftershocks\n",
        "minlatitude, maxlatitude = 27, 29\n",
        "minlongitude, maxlongitude = 84, 87\n",
        "\n",
        "# limiting the search to April and May 2015, and only those >= 5 magnitude\n",
        "CATALOG_URL = \"https://earthquake.usgs.gov/fdsnws/event/1/query.geojson\"\n",
        "params = {\n",
        "    \"starttime\": \"2015-04-01\",\n",
        "    \"endtime\": \"2015-05-31\",\n",
        "    \"maxlatitude\": maxlatitude,\n",
        "    \"minlatitude\": minlatitude,\n",
        "    \"maxlongitude\": maxlongitude,\n",
        "    \"minlongitude\": minlongitude,\n",
        "    \"minmagnitude\": 5,\n",
        "    \"eventtype\": \"earthquake\",\n",
        "    \"orderby\": \"time\",\n",
        "}\n",
        "columns = [\"mag\", \"time\", \"geometry\"]\n",
        "\n",
        "url = f\"{CATALOG_URL}?{urllib.parse.urlencode(params)}\"\n",
        "quakes = gpd.read_file(url, columns=columns)\n",
        "\n",
        "# get the national boundary of Nepal\n",
        "boundary_url = \"https://media.githubusercontent.com/media/wmgeolab/geoBoundaries/refs/heads/main/releaseData/gbOpen/NPL/ADM0/geoBoundaries-NPL-ADM0.geojson\"\n",
        "nepal = gpd.read_file(boundary_url)\n",
        "\n",
        "# ensure both dataframes are in the same CRS\n",
        "quakes = quakes.to_crs(nepal.crs)\n",
        "\n",
        "# filter earthquakes to those within Nepal's boundaries\n",
        "quakes = quakes[quakes.within(nepal.iloc[0]['geometry'])]\n",
        "\n",
        "# sort from earliest to latest\n",
        "# localize the datetime to Nepal's datetime\n",
        "quakes = quakes.sort_values(\"time\", ascending=True, ignore_index=True)\n",
        "quakes[\"time\"] = pd.to_datetime(quakes[\"time\"], unit=\"ms\").dt.tz_localize(\n",
        "    tz=\"Asia/Kathmandu\",\n",
        ")\n",
        "\n",
        "# for working with matplotlib, add separate latitude/longitude columns\n",
        "quakes = quakes.join(\n",
        "    quakes.get_coordinates().rename(columns=dict(y=\"latitude\", x=\"longitude\"))\n",
        ")"
      ]
    },
    {
      "cell_type": "markdown",
      "source": [
        "# Marker size for magnitudes"
      ],
      "metadata": {
        "id": "W24RZP_IX_NX"
      }
    },
    {
      "cell_type": "code",
      "source": [
        "base_size = 10\n",
        "base_magnitude = 5\n",
        "quakes[\"marker_size\"] = base_size * (10 ** (quakes[\"mag\"] - base_magnitude))"
      ],
      "metadata": {
        "id": "ggRPgmGiX5p3"
      },
      "execution_count": 2,
      "outputs": []
    },
    {
      "cell_type": "markdown",
      "source": [
        "# A basic animated scatter plot"
      ],
      "metadata": {
        "id": "72ndcyA7YC3P"
      }
    },
    {
      "cell_type": "code",
      "source": [
        "!pip install contextily"
      ],
      "metadata": {
        "colab": {
          "base_uri": "https://localhost:8080/"
        },
        "id": "fp24QtbqYG6E",
        "outputId": "2ee76048-5a1c-4912-920d-dc066373283e"
      },
      "execution_count": 4,
      "outputs": [
        {
          "output_type": "stream",
          "name": "stdout",
          "text": [
            "Collecting contextily\n",
            "  Downloading contextily-1.6.2-py3-none-any.whl.metadata (2.9 kB)\n",
            "Requirement already satisfied: geopy in /usr/local/lib/python3.11/dist-packages (from contextily) (2.4.1)\n",
            "Requirement already satisfied: matplotlib in /usr/local/lib/python3.11/dist-packages (from contextily) (3.10.0)\n",
            "Collecting mercantile (from contextily)\n",
            "  Downloading mercantile-1.2.1-py3-none-any.whl.metadata (4.8 kB)\n",
            "Requirement already satisfied: pillow in /usr/local/lib/python3.11/dist-packages (from contextily) (11.1.0)\n",
            "Collecting rasterio (from contextily)\n",
            "  Downloading rasterio-1.4.3-cp311-cp311-manylinux_2_17_x86_64.manylinux2014_x86_64.whl.metadata (9.1 kB)\n",
            "Requirement already satisfied: requests in /usr/local/lib/python3.11/dist-packages (from contextily) (2.32.3)\n",
            "Requirement already satisfied: joblib in /usr/local/lib/python3.11/dist-packages (from contextily) (1.4.2)\n",
            "Requirement already satisfied: xyzservices in /usr/local/lib/python3.11/dist-packages (from contextily) (2025.1.0)\n",
            "Requirement already satisfied: geographiclib<3,>=1.52 in /usr/local/lib/python3.11/dist-packages (from geopy->contextily) (2.0)\n",
            "Requirement already satisfied: contourpy>=1.0.1 in /usr/local/lib/python3.11/dist-packages (from matplotlib->contextily) (1.3.2)\n",
            "Requirement already satisfied: cycler>=0.10 in /usr/local/lib/python3.11/dist-packages (from matplotlib->contextily) (0.12.1)\n",
            "Requirement already satisfied: fonttools>=4.22.0 in /usr/local/lib/python3.11/dist-packages (from matplotlib->contextily) (4.57.0)\n",
            "Requirement already satisfied: kiwisolver>=1.3.1 in /usr/local/lib/python3.11/dist-packages (from matplotlib->contextily) (1.4.8)\n",
            "Requirement already satisfied: numpy>=1.23 in /usr/local/lib/python3.11/dist-packages (from matplotlib->contextily) (2.0.2)\n",
            "Requirement already satisfied: packaging>=20.0 in /usr/local/lib/python3.11/dist-packages (from matplotlib->contextily) (24.2)\n",
            "Requirement already satisfied: pyparsing>=2.3.1 in /usr/local/lib/python3.11/dist-packages (from matplotlib->contextily) (3.2.3)\n",
            "Requirement already satisfied: python-dateutil>=2.7 in /usr/local/lib/python3.11/dist-packages (from matplotlib->contextily) (2.8.2)\n",
            "Requirement already satisfied: click>=3.0 in /usr/local/lib/python3.11/dist-packages (from mercantile->contextily) (8.1.8)\n",
            "Collecting affine (from rasterio->contextily)\n",
            "  Downloading affine-2.4.0-py3-none-any.whl.metadata (4.0 kB)\n",
            "Requirement already satisfied: attrs in /usr/local/lib/python3.11/dist-packages (from rasterio->contextily) (25.3.0)\n",
            "Requirement already satisfied: certifi in /usr/local/lib/python3.11/dist-packages (from rasterio->contextily) (2025.1.31)\n",
            "Collecting cligj>=0.5 (from rasterio->contextily)\n",
            "  Downloading cligj-0.7.2-py3-none-any.whl.metadata (5.0 kB)\n",
            "Collecting click-plugins (from rasterio->contextily)\n",
            "  Downloading click_plugins-1.1.1-py2.py3-none-any.whl.metadata (6.4 kB)\n",
            "Requirement already satisfied: charset-normalizer<4,>=2 in /usr/local/lib/python3.11/dist-packages (from requests->contextily) (3.4.1)\n",
            "Requirement already satisfied: idna<4,>=2.5 in /usr/local/lib/python3.11/dist-packages (from requests->contextily) (3.10)\n",
            "Requirement already satisfied: urllib3<3,>=1.21.1 in /usr/local/lib/python3.11/dist-packages (from requests->contextily) (2.3.0)\n",
            "Requirement already satisfied: six>=1.5 in /usr/local/lib/python3.11/dist-packages (from python-dateutil>=2.7->matplotlib->contextily) (1.17.0)\n",
            "Downloading contextily-1.6.2-py3-none-any.whl (17 kB)\n",
            "Downloading mercantile-1.2.1-py3-none-any.whl (14 kB)\n",
            "Downloading rasterio-1.4.3-cp311-cp311-manylinux_2_17_x86_64.manylinux2014_x86_64.whl (22.2 MB)\n",
            "\u001b[2K   \u001b[90m━━━━━━━━━━━━━━━━━━━━━━━━━━━━━━━━━━━━━━━━\u001b[0m \u001b[32m22.2/22.2 MB\u001b[0m \u001b[31m84.1 MB/s\u001b[0m eta \u001b[36m0:00:00\u001b[0m\n",
            "\u001b[?25hDownloading cligj-0.7.2-py3-none-any.whl (7.1 kB)\n",
            "Downloading affine-2.4.0-py3-none-any.whl (15 kB)\n",
            "Downloading click_plugins-1.1.1-py2.py3-none-any.whl (7.5 kB)\n",
            "Installing collected packages: mercantile, cligj, click-plugins, affine, rasterio, contextily\n",
            "Successfully installed affine-2.4.0 click-plugins-1.1.1 cligj-0.7.2 contextily-1.6.2 mercantile-1.2.1 rasterio-1.4.3\n"
          ]
        }
      ]
    },
    {
      "cell_type": "code",
      "source": [
        "import contextily as cx\n",
        "import matplotlib.animation as animation\n",
        "import matplotlib.pyplot as plt\n",
        "import numpy as np\n",
        "\n",
        "fig, ax = plt.subplots(layout=\"constrained\", figsize=(6,5))\n",
        "ax.set(xlim=[minlongitude, maxlongitude], ylim=[minlatitude, maxlatitude])\n",
        "ax.set_title(\"The April 2015 Nepal earthquake and its aftershocks\")\n",
        "\n",
        "# add basemap\n",
        "cx.add_basemap(ax, crs=quakes.crs, zoom=8, source=\"CartoDB.Voyager\")\n",
        "\n",
        "# the first point in the animation\n",
        "points_opts = dict(alpha=0.5, linewidth=0, color=\"red\")\n",
        "points = ax.scatter(\n",
        "    quakes[\"longitude\"].iloc[0],\n",
        "    quakes[\"latitude\"].iloc[0],\n",
        "    s=quakes[\"marker_size\"].iloc[0],\n",
        "    **points_opts\n",
        ")\n",
        "\n",
        "# the first label\n",
        "# labels show the time of the earthquake\n",
        "label_opts = dict(ha=\"center\", va=\"center\", fontsize=15, color=\"black\", transform=ax.transAxes)\n",
        "label = ax.text(\n",
        "    0.25,\n",
        "    0.95,\n",
        "    quakes[\"time\"].iloc[0].strftime(\"%Y-%m-%d %H:%M\"),\n",
        "    **label_opts\n",
        ")\n",
        "\n",
        "# loop through each point in the data and draw a marker and legend for that data point\n",
        "def update(frame):\n",
        "    # for each frame, update the data stored on each artist.\n",
        "    x = quakes[\"longitude\"].iloc[:frame]\n",
        "    y = quakes[\"latitude\"].iloc[:frame]\n",
        "\n",
        "    # update the scatter plot:\n",
        "    data = np.stack([x, y]).T\n",
        "    points.set_offsets(data)\n",
        "\n",
        "    # set the size of the earthquakes\n",
        "    points.set_sizes(quakes[\"marker_size\"].iloc[:frame])\n",
        "\n",
        "    # update the label\n",
        "    label.set_text(quakes[\"time\"].iloc[frame - 1].strftime(\"%Y-%m-%d %H:%M\"))\n",
        "\n",
        "    return (points,)\n",
        "\n",
        "# animate by looping through all datapoints.\n",
        "ani = animation.FuncAnimation(\n",
        "    fig=fig, func=update, frames=len(quakes), interval=600\n",
        ")\n",
        "\n",
        "# To save the animation using Pillow as a gif\n",
        "writer = animation.PillowWriter(fps=10, bitrate=1800)\n",
        "ani.save(\"animated-scatter-v1.gif\", writer=writer)\n",
        "\n",
        "plt.ioff\n",
        "plt.close()"
      ],
      "metadata": {
        "id": "mMEqLCWRYAvd"
      },
      "execution_count": 5,
      "outputs": []
    },
    {
      "cell_type": "code",
      "source": [
        "from matplotlib.lines import Line2D\n",
        "\n",
        "# the four magnitudes in the legend\n",
        "mags = np.array([5, 6, 7, quakes['mag'].max()])\n",
        "marker_sizes = base_size * (10 ** (mags - base_magnitude))\n",
        "\n",
        "def get_legend_elements(marker_sizes):\n",
        "    # marker size for each magnitude\n",
        "    marker_opts = dict(marker=\"o\", color=\"w\", markerfacecolor=\"red\", alpha=0.5)\n",
        "    legend_elements = [\n",
        "        Line2D(\n",
        "            [0],\n",
        "            [i],\n",
        "            label=mags[i],\n",
        "            markersize=s,\n",
        "            **marker_opts\n",
        "        )\n",
        "        for i, s in enumerate(marker_sizes)\n",
        "    ]\n",
        "    return legend_elements\n",
        "\n",
        "fig, ax = plt.subplots()\n",
        "legend_opts = dict(title=\"Magnitude\", labelspacing=1, frameon=False)\n",
        "ax.legend(handles=get_legend_elements(marker_sizes), **legend_opts, loc='center')"
      ],
      "metadata": {
        "colab": {
          "base_uri": "https://localhost:8080/",
          "height": 452
        },
        "id": "fSQgJyHTYFSC",
        "outputId": "811e09a5-c131-49d6-d819-c653519ed2a6"
      },
      "execution_count": 6,
      "outputs": [
        {
          "output_type": "execute_result",
          "data": {
            "text/plain": [
              "<matplotlib.legend.Legend at 0x7d1995ac4c10>"
            ]
          },
          "metadata": {},
          "execution_count": 6
        },
        {
          "output_type": "display_data",
          "data": {
            "text/plain": [
              "<Figure size 640x480 with 1 Axes>"
            ],
            "image/png": "[encoded data removed]"
          },
          "metadata": {}
        }
      ]
    },
    {
      "cell_type": "code",
      "source": [
        "# marker size for each magnitude\n",
        "marker_sizes = np.sqrt(base_size * (10 ** (mags - base_magnitude)))\n",
        "\n",
        "fig, ax = plt.subplots()\n",
        "ax.legend(\n",
        "    handles=get_legend_elements(marker_sizes),\n",
        "    loc=\"center\",\n",
        "    title=\"Magnitude\",\n",
        "    labelspacing=1,\n",
        "    frameon=False\n",
        ")\n",
        "plt.show()"
      ],
      "metadata": {
        "colab": {
          "base_uri": "https://localhost:8080/",
          "height": 435
        },
        "id": "EBzXC8CeYQQS",
        "outputId": "4549ac7e-cf33-4d01-ec3c-058f0f906cfc"
      },
      "execution_count": 7,
      "outputs": [
        {
          "output_type": "display_data",
          "data": {
            "text/plain": [
              "<Figure size 640x480 with 1 Axes>"
            ],
            "image/png": "[encoded data removed]"
          },
          "metadata": {}
        }
      ]
    },
    {
      "cell_type": "code",
      "source": [
        "fig, ax = plt.subplots(layout=\"constrained\", figsize=(7,5))\n",
        "ax.set(xlim=[minlongitude, maxlongitude], ylim=[minlatitude, maxlatitude])\n",
        "ax.set_title(\"The April 2015 Nepal earthquake and its aftershocks\")\n",
        "cx.add_basemap(ax, crs=quakes.crs, zoom=8, source=\"CartoDB.Voyager\")\n",
        "\n",
        "points = ax.scatter(\n",
        "    quakes[\"longitude\"].iloc[0],\n",
        "    quakes[\"latitude\"].iloc[0],\n",
        "    s=quakes[\"marker_size\"].iloc[0],\n",
        "    **points_opts\n",
        ")\n",
        "\n",
        "label = ax.text(\n",
        "    0.25,\n",
        "    0.95,\n",
        "    quakes[\"time\"].iloc[0].strftime(\"%Y-%m-%d %H:%M\"),\n",
        "    **label_opts\n",
        ")\n",
        "\n",
        "ax.legend(\n",
        "    handles=get_legend_elements(marker_sizes),\n",
        "    loc=\"center left\",\n",
        "    title=\"Magnitude\",\n",
        "    labelspacing=1,\n",
        "    frameon=False,\n",
        "    bbox_to_anchor=(1.05, 0.5), # place the legend to the right\n",
        ")\n",
        "\n",
        "ani = animation.FuncAnimation(\n",
        "    fig=fig, func=update, frames=len(quakes), interval=600\n",
        ")\n",
        "\n",
        "# To save the animation using Pillow as a gif\n",
        "writer = animation.PillowWriter(fps=15, bitrate=1800)\n",
        "ani.save(\"animated-scatter-v2.gif\", writer=writer)\n",
        "\n",
        "plt.ioff\n",
        "plt.close()"
      ],
      "metadata": {
        "id": "NRpGl4tmYRun"
      },
      "execution_count": 8,
      "outputs": []
    }
  ]
}