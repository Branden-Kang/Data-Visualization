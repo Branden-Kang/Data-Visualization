{
  "nbformat": 4,
  "nbformat_minor": 0,
  "metadata": {
    "colab": {
      "name": "Use Python To Batch Rename JPG’s.ipynb",
      "provenance": [],
      "authorship_tag": "ABX9TyOtMtYLGc9bSBAAmD1GrD//"
    },
    "kernelspec": {
      "name": "python3",
      "display_name": "Python 3"
    },
    "language_info": {
      "name": "python"
    }
  },
  "cells": [
    {
      "cell_type": "markdown",
      "metadata": {
        "id": "NuizdRHzFj12"
      },
      "source": [
        "[Reference](https://python.plainenglish.io/use-python-to-batch-rename-jpgs-6cff1d47e9a)"
      ]
    },
    {
      "cell_type": "code",
      "metadata": {
        "id": "Jmq2pkPVFhtn"
      },
      "source": [
        "import os\n",
        "\n",
        "import tkinter\n",
        "\n",
        "from tkinter import filedialog\n",
        "\n",
        "from tkinter.simpledialog import askstring"
      ],
      "execution_count": 1,
      "outputs": []
    },
    {
      "cell_type": "code",
      "metadata": {
        "id": "csKsdoAuFqFd"
      },
      "source": [
        "def multi_filename_change():\n",
        "    files = filedialog.askdirectory()\n",
        "    fileName = askstring('Add file name', 'Please enter a  name for your files.')\n",
        "    i = 0\n",
        "    for file in os.listdir(files):\n",
        "        if not file.startswith('.'):\n",
        "            src = os.path.join(files, file)\n",
        "            dst = files + \"/\" + file_name + str(i) + \".jpg\"\n",
        "            os.rename(src, dst)\n",
        "            i += 1"
      ],
      "execution_count": 2,
      "outputs": []
    }
  ]
}